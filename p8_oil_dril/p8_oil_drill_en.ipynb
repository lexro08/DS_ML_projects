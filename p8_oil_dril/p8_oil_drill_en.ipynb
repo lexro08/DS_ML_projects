{
 "cells": [
  {
   "cell_type": "markdown",
   "metadata": {},
   "source": [
    "# Choosing the location for oil well"
   ]
  },
  {
   "cell_type": "markdown",
   "metadata": {},
   "source": [
    "Glavrosgosneft Mining Company. We need to decide where to drill a new well.\n",
    "\n",
    "We were provided with oil samples in three regions: in each 10,000 fields, where the quality of oil and the volume of its reserves were measured. It is necessary to build a machine learning model that will help determine the region where mining will bring the greatest profit. To analyze possible profits and risks, we will use the *Bootstrap technique.*\n",
    "\n",
    "Steps to select a location:\n",
    "\n",
    "- They are looking for deposits in the selected region, the values of the signs are determined for each;\n",
    "- Build a model and estimate the volume of stocks;\n",
    "- - Choose the deposits with the highest estimates of values. The number of deposits depends on the company's budget and the cost of developing one well;\n",
    "- The profit is equal to the total profit of the selected fields."
   ]
  },
  {
   "cell_type": "markdown",
   "metadata": {},
   "source": [
    "According to the documentation provided below is a breakdown of the columns of the table.\n",
    "\n",
    "1. id — the unique identifier of the well;\n",
    "2. f0, f1, f2 — three signs of dots (no matter what they mean, but the signs themselves are significant);\n",
    "3. product — the volume of reserves in the well (thousand barrels)."
   ]
  },
  {
   "cell_type": "markdown",
   "metadata": {},
   "source": [
    "Task conditions:\n",
    "\n",
    "- The budget for the development of wells in the region is 10 billion rubles.\n",
    "- At current prices, one barrel of raw materials brings 450 rubles of income. The income from each unit of the product is 450 thousand rubles, since the volume is indicated in thousands of barrels.\n",
    "- After risk assessment, it is necessary to leave only those regions in which the probability of losses is less than 2.5%. Among them, the region with the highest average profit is chosen."
   ]
  },
  {
   "cell_type": "markdown",
   "metadata": {},
   "source": [
    "## Data introduction"
   ]
  },
  {
   "cell_type": "code",
   "execution_count": 1,
   "metadata": {},
   "outputs": [],
   "source": [
    "import os\n",
    "import pandas as pd\n",
    "import numpy as np\n",
    "from numpy.random import RandomState\n",
    "import seaborn as sns\n",
    "import matplotlib.pyplot as plt\n",
    "from sklearn.model_selection import train_test_split\n",
    "from sklearn.linear_model import LinearRegression\n",
    "from sklearn.preprocessing import StandardScaler\n",
    "from sklearn.utils import shuffle\n",
    "from sklearn.metrics import mean_squared_error, precision_score, recall_score, f1_score, roc_auc_score, confusion_matrix\n",
    "from sklearn.model_selection import GridSearchCV\n",
    "from scipy import stats as st\n",
    "#pd.options.mode.chained_assignment = None"
   ]
  },
  {
   "cell_type": "code",
   "execution_count": 2,
   "metadata": {},
   "outputs": [],
   "source": [
    "sns.set_style('darkgrid')\n",
    "sns.set(rc={\"figure.figsize\":(15, 5)})"
   ]
  },
  {
   "cell_type": "code",
   "execution_count": 3,
   "metadata": {},
   "outputs": [],
   "source": [
    "try:\n",
    "    \n",
    "    df_0 = pd.read_csv('geo_data_0.csv')\n",
    "    df_1 = pd.read_csv('geo_data_1.csv')\n",
    "    df_2 = pd.read_csv('geo_data_2.csv')\n",
    "\n",
    "except:\n",
    "    \n",
    "    df_0 = pd.read_csv('/datasets/geo_data_0.csv')\n",
    "    df_1 = pd.read_csv('/datasets/geo_data_1.csv')\n",
    "    df_2 = pd.read_csv('/datasets/geo_data_2.csv')"
   ]
  },
  {
   "cell_type": "markdown",
   "metadata": {},
   "source": [
    "Ознакомимся с данными. Выведем первые 5 значений для каждого датасета."
   ]
  },
  {
   "cell_type": "code",
   "execution_count": 4,
   "metadata": {},
   "outputs": [
    {
     "data": {
      "text/html": [
       "<div>\n",
       "<style scoped>\n",
       "    .dataframe tbody tr th:only-of-type {\n",
       "        vertical-align: middle;\n",
       "    }\n",
       "\n",
       "    .dataframe tbody tr th {\n",
       "        vertical-align: top;\n",
       "    }\n",
       "\n",
       "    .dataframe thead th {\n",
       "        text-align: right;\n",
       "    }\n",
       "</style>\n",
       "<table border=\"1\" class=\"dataframe\">\n",
       "  <thead>\n",
       "    <tr style=\"text-align: right;\">\n",
       "      <th></th>\n",
       "      <th>id</th>\n",
       "      <th>f0</th>\n",
       "      <th>f1</th>\n",
       "      <th>f2</th>\n",
       "      <th>product</th>\n",
       "    </tr>\n",
       "  </thead>\n",
       "  <tbody>\n",
       "    <tr>\n",
       "      <th>0</th>\n",
       "      <td>txEyH</td>\n",
       "      <td>0.705745</td>\n",
       "      <td>-0.497823</td>\n",
       "      <td>1.221170</td>\n",
       "      <td>105.280062</td>\n",
       "    </tr>\n",
       "    <tr>\n",
       "      <th>1</th>\n",
       "      <td>2acmU</td>\n",
       "      <td>1.334711</td>\n",
       "      <td>-0.340164</td>\n",
       "      <td>4.365080</td>\n",
       "      <td>73.037750</td>\n",
       "    </tr>\n",
       "    <tr>\n",
       "      <th>2</th>\n",
       "      <td>409Wp</td>\n",
       "      <td>1.022732</td>\n",
       "      <td>0.151990</td>\n",
       "      <td>1.419926</td>\n",
       "      <td>85.265647</td>\n",
       "    </tr>\n",
       "    <tr>\n",
       "      <th>3</th>\n",
       "      <td>iJLyR</td>\n",
       "      <td>-0.032172</td>\n",
       "      <td>0.139033</td>\n",
       "      <td>2.978566</td>\n",
       "      <td>168.620776</td>\n",
       "    </tr>\n",
       "    <tr>\n",
       "      <th>4</th>\n",
       "      <td>Xdl7t</td>\n",
       "      <td>1.988431</td>\n",
       "      <td>0.155413</td>\n",
       "      <td>4.751769</td>\n",
       "      <td>154.036647</td>\n",
       "    </tr>\n",
       "  </tbody>\n",
       "</table>\n",
       "</div>"
      ],
      "text/plain": [
       "      id        f0        f1        f2     product\n",
       "0  txEyH  0.705745 -0.497823  1.221170  105.280062\n",
       "1  2acmU  1.334711 -0.340164  4.365080   73.037750\n",
       "2  409Wp  1.022732  0.151990  1.419926   85.265647\n",
       "3  iJLyR -0.032172  0.139033  2.978566  168.620776\n",
       "4  Xdl7t  1.988431  0.155413  4.751769  154.036647"
      ]
     },
     "execution_count": 4,
     "metadata": {},
     "output_type": "execute_result"
    }
   ],
   "source": [
    "df_0.head()"
   ]
  },
  {
   "cell_type": "code",
   "execution_count": 5,
   "metadata": {},
   "outputs": [
    {
     "data": {
      "text/html": [
       "<div>\n",
       "<style scoped>\n",
       "    .dataframe tbody tr th:only-of-type {\n",
       "        vertical-align: middle;\n",
       "    }\n",
       "\n",
       "    .dataframe tbody tr th {\n",
       "        vertical-align: top;\n",
       "    }\n",
       "\n",
       "    .dataframe thead th {\n",
       "        text-align: right;\n",
       "    }\n",
       "</style>\n",
       "<table border=\"1\" class=\"dataframe\">\n",
       "  <thead>\n",
       "    <tr style=\"text-align: right;\">\n",
       "      <th></th>\n",
       "      <th>id</th>\n",
       "      <th>f0</th>\n",
       "      <th>f1</th>\n",
       "      <th>f2</th>\n",
       "      <th>product</th>\n",
       "    </tr>\n",
       "  </thead>\n",
       "  <tbody>\n",
       "    <tr>\n",
       "      <th>0</th>\n",
       "      <td>kBEdx</td>\n",
       "      <td>-15.001348</td>\n",
       "      <td>-8.276000</td>\n",
       "      <td>-0.005876</td>\n",
       "      <td>3.179103</td>\n",
       "    </tr>\n",
       "    <tr>\n",
       "      <th>1</th>\n",
       "      <td>62mP7</td>\n",
       "      <td>14.272088</td>\n",
       "      <td>-3.475083</td>\n",
       "      <td>0.999183</td>\n",
       "      <td>26.953261</td>\n",
       "    </tr>\n",
       "    <tr>\n",
       "      <th>2</th>\n",
       "      <td>vyE1P</td>\n",
       "      <td>6.263187</td>\n",
       "      <td>-5.948386</td>\n",
       "      <td>5.001160</td>\n",
       "      <td>134.766305</td>\n",
       "    </tr>\n",
       "    <tr>\n",
       "      <th>3</th>\n",
       "      <td>KcrkZ</td>\n",
       "      <td>-13.081196</td>\n",
       "      <td>-11.506057</td>\n",
       "      <td>4.999415</td>\n",
       "      <td>137.945408</td>\n",
       "    </tr>\n",
       "    <tr>\n",
       "      <th>4</th>\n",
       "      <td>AHL4O</td>\n",
       "      <td>12.702195</td>\n",
       "      <td>-8.147433</td>\n",
       "      <td>5.004363</td>\n",
       "      <td>134.766305</td>\n",
       "    </tr>\n",
       "  </tbody>\n",
       "</table>\n",
       "</div>"
      ],
      "text/plain": [
       "      id         f0         f1        f2     product\n",
       "0  kBEdx -15.001348  -8.276000 -0.005876    3.179103\n",
       "1  62mP7  14.272088  -3.475083  0.999183   26.953261\n",
       "2  vyE1P   6.263187  -5.948386  5.001160  134.766305\n",
       "3  KcrkZ -13.081196 -11.506057  4.999415  137.945408\n",
       "4  AHL4O  12.702195  -8.147433  5.004363  134.766305"
      ]
     },
     "execution_count": 5,
     "metadata": {},
     "output_type": "execute_result"
    }
   ],
   "source": [
    "df_1.head()"
   ]
  },
  {
   "cell_type": "code",
   "execution_count": 6,
   "metadata": {},
   "outputs": [
    {
     "data": {
      "text/html": [
       "<div>\n",
       "<style scoped>\n",
       "    .dataframe tbody tr th:only-of-type {\n",
       "        vertical-align: middle;\n",
       "    }\n",
       "\n",
       "    .dataframe tbody tr th {\n",
       "        vertical-align: top;\n",
       "    }\n",
       "\n",
       "    .dataframe thead th {\n",
       "        text-align: right;\n",
       "    }\n",
       "</style>\n",
       "<table border=\"1\" class=\"dataframe\">\n",
       "  <thead>\n",
       "    <tr style=\"text-align: right;\">\n",
       "      <th></th>\n",
       "      <th>id</th>\n",
       "      <th>f0</th>\n",
       "      <th>f1</th>\n",
       "      <th>f2</th>\n",
       "      <th>product</th>\n",
       "    </tr>\n",
       "  </thead>\n",
       "  <tbody>\n",
       "    <tr>\n",
       "      <th>0</th>\n",
       "      <td>fwXo0</td>\n",
       "      <td>-1.146987</td>\n",
       "      <td>0.963328</td>\n",
       "      <td>-0.828965</td>\n",
       "      <td>27.758673</td>\n",
       "    </tr>\n",
       "    <tr>\n",
       "      <th>1</th>\n",
       "      <td>WJtFt</td>\n",
       "      <td>0.262778</td>\n",
       "      <td>0.269839</td>\n",
       "      <td>-2.530187</td>\n",
       "      <td>56.069697</td>\n",
       "    </tr>\n",
       "    <tr>\n",
       "      <th>2</th>\n",
       "      <td>ovLUW</td>\n",
       "      <td>0.194587</td>\n",
       "      <td>0.289035</td>\n",
       "      <td>-5.586433</td>\n",
       "      <td>62.871910</td>\n",
       "    </tr>\n",
       "    <tr>\n",
       "      <th>3</th>\n",
       "      <td>q6cA6</td>\n",
       "      <td>2.236060</td>\n",
       "      <td>-0.553760</td>\n",
       "      <td>0.930038</td>\n",
       "      <td>114.572842</td>\n",
       "    </tr>\n",
       "    <tr>\n",
       "      <th>4</th>\n",
       "      <td>WPMUX</td>\n",
       "      <td>-0.515993</td>\n",
       "      <td>1.716266</td>\n",
       "      <td>5.899011</td>\n",
       "      <td>149.600746</td>\n",
       "    </tr>\n",
       "  </tbody>\n",
       "</table>\n",
       "</div>"
      ],
      "text/plain": [
       "      id        f0        f1        f2     product\n",
       "0  fwXo0 -1.146987  0.963328 -0.828965   27.758673\n",
       "1  WJtFt  0.262778  0.269839 -2.530187   56.069697\n",
       "2  ovLUW  0.194587  0.289035 -5.586433   62.871910\n",
       "3  q6cA6  2.236060 -0.553760  0.930038  114.572842\n",
       "4  WPMUX -0.515993  1.716266  5.899011  149.600746"
      ]
     },
     "execution_count": 6,
     "metadata": {},
     "output_type": "execute_result"
    }
   ],
   "source": [
    "df_2.head()"
   ]
  },
  {
   "cell_type": "markdown",
   "metadata": {},
   "source": [
    "Изучим данные."
   ]
  },
  {
   "cell_type": "code",
   "execution_count": 7,
   "metadata": {},
   "outputs": [
    {
     "data": {
      "text/html": [
       "<div>\n",
       "<style scoped>\n",
       "    .dataframe tbody tr th:only-of-type {\n",
       "        vertical-align: middle;\n",
       "    }\n",
       "\n",
       "    .dataframe tbody tr th {\n",
       "        vertical-align: top;\n",
       "    }\n",
       "\n",
       "    .dataframe thead th {\n",
       "        text-align: right;\n",
       "    }\n",
       "</style>\n",
       "<table border=\"1\" class=\"dataframe\">\n",
       "  <thead>\n",
       "    <tr style=\"text-align: right;\">\n",
       "      <th></th>\n",
       "      <th>f0</th>\n",
       "      <th>f1</th>\n",
       "      <th>f2</th>\n",
       "      <th>product</th>\n",
       "    </tr>\n",
       "  </thead>\n",
       "  <tbody>\n",
       "    <tr>\n",
       "      <th>count</th>\n",
       "      <td>100000.000000</td>\n",
       "      <td>100000.000000</td>\n",
       "      <td>100000.000000</td>\n",
       "      <td>100000.000000</td>\n",
       "    </tr>\n",
       "    <tr>\n",
       "      <th>mean</th>\n",
       "      <td>0.500419</td>\n",
       "      <td>0.250143</td>\n",
       "      <td>2.502647</td>\n",
       "      <td>92.500000</td>\n",
       "    </tr>\n",
       "    <tr>\n",
       "      <th>std</th>\n",
       "      <td>0.871832</td>\n",
       "      <td>0.504433</td>\n",
       "      <td>3.248248</td>\n",
       "      <td>44.288691</td>\n",
       "    </tr>\n",
       "    <tr>\n",
       "      <th>min</th>\n",
       "      <td>-1.408605</td>\n",
       "      <td>-0.848218</td>\n",
       "      <td>-12.088328</td>\n",
       "      <td>0.000000</td>\n",
       "    </tr>\n",
       "    <tr>\n",
       "      <th>25%</th>\n",
       "      <td>-0.072580</td>\n",
       "      <td>-0.200881</td>\n",
       "      <td>0.287748</td>\n",
       "      <td>56.497507</td>\n",
       "    </tr>\n",
       "    <tr>\n",
       "      <th>50%</th>\n",
       "      <td>0.502360</td>\n",
       "      <td>0.250252</td>\n",
       "      <td>2.515969</td>\n",
       "      <td>91.849972</td>\n",
       "    </tr>\n",
       "    <tr>\n",
       "      <th>75%</th>\n",
       "      <td>1.073581</td>\n",
       "      <td>0.700646</td>\n",
       "      <td>4.715088</td>\n",
       "      <td>128.564089</td>\n",
       "    </tr>\n",
       "    <tr>\n",
       "      <th>max</th>\n",
       "      <td>2.362331</td>\n",
       "      <td>1.343769</td>\n",
       "      <td>16.003790</td>\n",
       "      <td>185.364347</td>\n",
       "    </tr>\n",
       "  </tbody>\n",
       "</table>\n",
       "</div>"
      ],
      "text/plain": [
       "                  f0             f1             f2        product\n",
       "count  100000.000000  100000.000000  100000.000000  100000.000000\n",
       "mean        0.500419       0.250143       2.502647      92.500000\n",
       "std         0.871832       0.504433       3.248248      44.288691\n",
       "min        -1.408605      -0.848218     -12.088328       0.000000\n",
       "25%        -0.072580      -0.200881       0.287748      56.497507\n",
       "50%         0.502360       0.250252       2.515969      91.849972\n",
       "75%         1.073581       0.700646       4.715088     128.564089\n",
       "max         2.362331       1.343769      16.003790     185.364347"
      ]
     },
     "execution_count": 7,
     "metadata": {},
     "output_type": "execute_result"
    }
   ],
   "source": [
    "df_0.describe()"
   ]
  },
  {
   "cell_type": "code",
   "execution_count": 8,
   "metadata": {},
   "outputs": [
    {
     "data": {
      "text/html": [
       "<div>\n",
       "<style scoped>\n",
       "    .dataframe tbody tr th:only-of-type {\n",
       "        vertical-align: middle;\n",
       "    }\n",
       "\n",
       "    .dataframe tbody tr th {\n",
       "        vertical-align: top;\n",
       "    }\n",
       "\n",
       "    .dataframe thead th {\n",
       "        text-align: right;\n",
       "    }\n",
       "</style>\n",
       "<table border=\"1\" class=\"dataframe\">\n",
       "  <thead>\n",
       "    <tr style=\"text-align: right;\">\n",
       "      <th></th>\n",
       "      <th>f0</th>\n",
       "      <th>f1</th>\n",
       "      <th>f2</th>\n",
       "      <th>product</th>\n",
       "    </tr>\n",
       "  </thead>\n",
       "  <tbody>\n",
       "    <tr>\n",
       "      <th>count</th>\n",
       "      <td>100000.000000</td>\n",
       "      <td>100000.000000</td>\n",
       "      <td>100000.000000</td>\n",
       "      <td>100000.000000</td>\n",
       "    </tr>\n",
       "    <tr>\n",
       "      <th>mean</th>\n",
       "      <td>1.141296</td>\n",
       "      <td>-4.796579</td>\n",
       "      <td>2.494541</td>\n",
       "      <td>68.825000</td>\n",
       "    </tr>\n",
       "    <tr>\n",
       "      <th>std</th>\n",
       "      <td>8.965932</td>\n",
       "      <td>5.119872</td>\n",
       "      <td>1.703572</td>\n",
       "      <td>45.944423</td>\n",
       "    </tr>\n",
       "    <tr>\n",
       "      <th>min</th>\n",
       "      <td>-31.609576</td>\n",
       "      <td>-26.358598</td>\n",
       "      <td>-0.018144</td>\n",
       "      <td>0.000000</td>\n",
       "    </tr>\n",
       "    <tr>\n",
       "      <th>25%</th>\n",
       "      <td>-6.298551</td>\n",
       "      <td>-8.267985</td>\n",
       "      <td>1.000021</td>\n",
       "      <td>26.953261</td>\n",
       "    </tr>\n",
       "    <tr>\n",
       "      <th>50%</th>\n",
       "      <td>1.153055</td>\n",
       "      <td>-4.813172</td>\n",
       "      <td>2.011479</td>\n",
       "      <td>57.085625</td>\n",
       "    </tr>\n",
       "    <tr>\n",
       "      <th>75%</th>\n",
       "      <td>8.621015</td>\n",
       "      <td>-1.332816</td>\n",
       "      <td>3.999904</td>\n",
       "      <td>107.813044</td>\n",
       "    </tr>\n",
       "    <tr>\n",
       "      <th>max</th>\n",
       "      <td>29.421755</td>\n",
       "      <td>18.734063</td>\n",
       "      <td>5.019721</td>\n",
       "      <td>137.945408</td>\n",
       "    </tr>\n",
       "  </tbody>\n",
       "</table>\n",
       "</div>"
      ],
      "text/plain": [
       "                  f0             f1             f2        product\n",
       "count  100000.000000  100000.000000  100000.000000  100000.000000\n",
       "mean        1.141296      -4.796579       2.494541      68.825000\n",
       "std         8.965932       5.119872       1.703572      45.944423\n",
       "min       -31.609576     -26.358598      -0.018144       0.000000\n",
       "25%        -6.298551      -8.267985       1.000021      26.953261\n",
       "50%         1.153055      -4.813172       2.011479      57.085625\n",
       "75%         8.621015      -1.332816       3.999904     107.813044\n",
       "max        29.421755      18.734063       5.019721     137.945408"
      ]
     },
     "execution_count": 8,
     "metadata": {},
     "output_type": "execute_result"
    }
   ],
   "source": [
    "df_1.describe()"
   ]
  },
  {
   "cell_type": "code",
   "execution_count": 9,
   "metadata": {},
   "outputs": [
    {
     "data": {
      "text/html": [
       "<div>\n",
       "<style scoped>\n",
       "    .dataframe tbody tr th:only-of-type {\n",
       "        vertical-align: middle;\n",
       "    }\n",
       "\n",
       "    .dataframe tbody tr th {\n",
       "        vertical-align: top;\n",
       "    }\n",
       "\n",
       "    .dataframe thead th {\n",
       "        text-align: right;\n",
       "    }\n",
       "</style>\n",
       "<table border=\"1\" class=\"dataframe\">\n",
       "  <thead>\n",
       "    <tr style=\"text-align: right;\">\n",
       "      <th></th>\n",
       "      <th>f0</th>\n",
       "      <th>f1</th>\n",
       "      <th>f2</th>\n",
       "      <th>product</th>\n",
       "    </tr>\n",
       "  </thead>\n",
       "  <tbody>\n",
       "    <tr>\n",
       "      <th>count</th>\n",
       "      <td>100000.000000</td>\n",
       "      <td>100000.000000</td>\n",
       "      <td>100000.000000</td>\n",
       "      <td>100000.000000</td>\n",
       "    </tr>\n",
       "    <tr>\n",
       "      <th>mean</th>\n",
       "      <td>0.002023</td>\n",
       "      <td>-0.002081</td>\n",
       "      <td>2.495128</td>\n",
       "      <td>95.000000</td>\n",
       "    </tr>\n",
       "    <tr>\n",
       "      <th>std</th>\n",
       "      <td>1.732045</td>\n",
       "      <td>1.730417</td>\n",
       "      <td>3.473445</td>\n",
       "      <td>44.749921</td>\n",
       "    </tr>\n",
       "    <tr>\n",
       "      <th>min</th>\n",
       "      <td>-8.760004</td>\n",
       "      <td>-7.084020</td>\n",
       "      <td>-11.970335</td>\n",
       "      <td>0.000000</td>\n",
       "    </tr>\n",
       "    <tr>\n",
       "      <th>25%</th>\n",
       "      <td>-1.162288</td>\n",
       "      <td>-1.174820</td>\n",
       "      <td>0.130359</td>\n",
       "      <td>59.450441</td>\n",
       "    </tr>\n",
       "    <tr>\n",
       "      <th>50%</th>\n",
       "      <td>0.009424</td>\n",
       "      <td>-0.009482</td>\n",
       "      <td>2.484236</td>\n",
       "      <td>94.925613</td>\n",
       "    </tr>\n",
       "    <tr>\n",
       "      <th>75%</th>\n",
       "      <td>1.158535</td>\n",
       "      <td>1.163678</td>\n",
       "      <td>4.858794</td>\n",
       "      <td>130.595027</td>\n",
       "    </tr>\n",
       "    <tr>\n",
       "      <th>max</th>\n",
       "      <td>7.238262</td>\n",
       "      <td>7.844801</td>\n",
       "      <td>16.739402</td>\n",
       "      <td>190.029838</td>\n",
       "    </tr>\n",
       "  </tbody>\n",
       "</table>\n",
       "</div>"
      ],
      "text/plain": [
       "                  f0             f1             f2        product\n",
       "count  100000.000000  100000.000000  100000.000000  100000.000000\n",
       "mean        0.002023      -0.002081       2.495128      95.000000\n",
       "std         1.732045       1.730417       3.473445      44.749921\n",
       "min        -8.760004      -7.084020     -11.970335       0.000000\n",
       "25%        -1.162288      -1.174820       0.130359      59.450441\n",
       "50%         0.009424      -0.009482       2.484236      94.925613\n",
       "75%         1.158535       1.163678       4.858794     130.595027\n",
       "max         7.238262       7.844801      16.739402     190.029838"
      ]
     },
     "execution_count": 9,
     "metadata": {},
     "output_type": "execute_result"
    }
   ],
   "source": [
    "df_2.describe()"
   ]
  },
  {
   "cell_type": "markdown",
   "metadata": {},
   "source": [
    "It should be noted that:\n",
    "1) there are no negative values in the product column. At the same time, the minimum value is 0, from which it can be assumed that the well is either empty or there are less than 1 thousand barrels of reserves in it.\n",
    "\n",
    "2) there are negative values in columns f0-f2.\n",
    "\n",
    "Let's check if there are gaps in the datasets."
   ]
  },
  {
   "cell_type": "code",
   "execution_count": 10,
   "metadata": {},
   "outputs": [
    {
     "name": "stdout",
     "output_type": "stream",
     "text": [
      "<class 'pandas.core.frame.DataFrame'>\n",
      "RangeIndex: 100000 entries, 0 to 99999\n",
      "Data columns (total 5 columns):\n",
      " #   Column   Non-Null Count   Dtype  \n",
      "---  ------   --------------   -----  \n",
      " 0   id       100000 non-null  object \n",
      " 1   f0       100000 non-null  float64\n",
      " 2   f1       100000 non-null  float64\n",
      " 3   f2       100000 non-null  float64\n",
      " 4   product  100000 non-null  float64\n",
      "dtypes: float64(4), object(1)\n",
      "memory usage: 3.8+ MB\n"
     ]
    }
   ],
   "source": [
    "df_0.info()"
   ]
  },
  {
   "cell_type": "code",
   "execution_count": 11,
   "metadata": {},
   "outputs": [
    {
     "name": "stdout",
     "output_type": "stream",
     "text": [
      "<class 'pandas.core.frame.DataFrame'>\n",
      "RangeIndex: 100000 entries, 0 to 99999\n",
      "Data columns (total 5 columns):\n",
      " #   Column   Non-Null Count   Dtype  \n",
      "---  ------   --------------   -----  \n",
      " 0   id       100000 non-null  object \n",
      " 1   f0       100000 non-null  float64\n",
      " 2   f1       100000 non-null  float64\n",
      " 3   f2       100000 non-null  float64\n",
      " 4   product  100000 non-null  float64\n",
      "dtypes: float64(4), object(1)\n",
      "memory usage: 3.8+ MB\n"
     ]
    }
   ],
   "source": [
    "df_1.info()"
   ]
  },
  {
   "cell_type": "code",
   "execution_count": 12,
   "metadata": {},
   "outputs": [
    {
     "name": "stdout",
     "output_type": "stream",
     "text": [
      "<class 'pandas.core.frame.DataFrame'>\n",
      "RangeIndex: 100000 entries, 0 to 99999\n",
      "Data columns (total 5 columns):\n",
      " #   Column   Non-Null Count   Dtype  \n",
      "---  ------   --------------   -----  \n",
      " 0   id       100000 non-null  object \n",
      " 1   f0       100000 non-null  float64\n",
      " 2   f1       100000 non-null  float64\n",
      " 3   f2       100000 non-null  float64\n",
      " 4   product  100000 non-null  float64\n",
      "dtypes: float64(4), object(1)\n",
      "memory usage: 3.8+ MB\n"
     ]
    }
   ],
   "source": [
    "df_2.info()"
   ]
  },
  {
   "cell_type": "markdown",
   "metadata": {},
   "source": [
    "There are no gaps in the datasets. Let's check for obvious duplicates."
   ]
  },
  {
   "cell_type": "code",
   "execution_count": 13,
   "metadata": {},
   "outputs": [
    {
     "data": {
      "text/plain": [
       "0"
      ]
     },
     "execution_count": 13,
     "metadata": {},
     "output_type": "execute_result"
    }
   ],
   "source": [
    "df_0.duplicated().sum()"
   ]
  },
  {
   "cell_type": "code",
   "execution_count": 14,
   "metadata": {},
   "outputs": [
    {
     "data": {
      "text/plain": [
       "0"
      ]
     },
     "execution_count": 14,
     "metadata": {},
     "output_type": "execute_result"
    }
   ],
   "source": [
    "df_1.duplicated().sum()"
   ]
  },
  {
   "cell_type": "code",
   "execution_count": 15,
   "metadata": {},
   "outputs": [
    {
     "data": {
      "text/plain": [
       "0"
      ]
     },
     "execution_count": 15,
     "metadata": {},
     "output_type": "execute_result"
    }
   ],
   "source": [
    "df_2.duplicated().sum()"
   ]
  },
  {
   "cell_type": "markdown",
   "metadata": {},
   "source": [
    "Obvious duplicates are absent."
   ]
  },
  {
   "cell_type": "markdown",
   "metadata": {},
   "source": [
    "## Data exploration"
   ]
  },
  {
   "cell_type": "code",
   "execution_count": 16,
   "metadata": {},
   "outputs": [],
   "source": [
    "def eda(parameter_name, parameter_name_for_plots):\n",
    "    #describe\n",
    "    print(f'Parametr {parameter_name} in dataframe df0:')\n",
    "    display(df_0[parameter_name].describe().to_frame())\n",
    "    print(f'Parametr {parameter_name} in dataframe df1:')\n",
    "    display(df_1[parameter_name].describe().to_frame())\n",
    "    print(f'Parametr {parameter_name} in dataframe df2:')\n",
    "    display(df_2[parameter_name].describe().to_frame())\n",
    "    \n",
    "    #plots\n",
    "    f, (ax_hist, ax_box) = plt.subplots(2, sharex=True, \n",
    "                                        gridspec_kw={\"height_ratios\": \n",
    "                                                     (.85, .15)})\n",
    "    sns.histplot(data=df_0, x=parameter_name, kde=True, ax=ax_hist)\\\n",
    "    .set(title=f'Histogram of the feature distribution ${parameter_name_for_plots}$, region 0',\n",
    "         ylabel='Number of records');\n",
    "    sns.boxplot(data=df_0, x=parameter_name, ax=ax_box)\\\n",
    "    .set(xlabel=f'Feature values ${parameter_name_for_plots}$');\n",
    "    plt.show()\n",
    "    \n",
    "    f, (ax_hist, ax_box) = plt.subplots(2, sharex=True, \n",
    "                                        gridspec_kw={\"height_ratios\": \n",
    "                                                     (.85, .15)})\n",
    "    sns.histplot(data=df_1, x=parameter_name, kde=True, ax=ax_hist)\\\n",
    "    .set(title=f'Histogram of the feature distribution ${parameter_name_for_plots}$, region 1',\n",
    "         ylabel='Number of records');\n",
    "    sns.boxplot(data=df_1, x=parameter_name, ax=ax_box)\\\n",
    "    .set(xlabel=f'Feature values ${parameter_name_for_plots}$');\n",
    "    plt.show()\n",
    "    \n",
    "    f, (ax_hist, ax_box) = plt.subplots(2, sharex=True, \n",
    "                                        gridspec_kw={\"height_ratios\": \n",
    "                                                     (.85, .15)})\n",
    "    sns.histplot(data=df_2, x=parameter_name, kde=True, ax=ax_hist)\\\n",
    "    .set(title=f'Histogram of the feature distribution ${parameter_name_for_plots}$, region 2',\n",
    "         ylabel='Number of records');\n",
    "    sns.boxplot(data=df_2, x=parameter_name, ax=ax_box)\\\n",
    "    .set(xlabel=f'Feature values ${parameter_name_for_plots}$');\n",
    "    plt.show()"
   ]
  },
  {
   "cell_type": "markdown",
   "metadata": {},
   "source": [
    "Feature ***f0***\n"
   ]
  },
  {
   "cell_type": "code",
   "execution_count": 17,
   "metadata": {
    "scrolled": false
   },
   "outputs": [
    {
     "name": "stdout",
     "output_type": "stream",
     "text": [
      "Parametr f0 in dataframe df0:\n"
     ]
    },
    {
     "data": {
      "text/html": [
       "<div>\n",
       "<style scoped>\n",
       "    .dataframe tbody tr th:only-of-type {\n",
       "        vertical-align: middle;\n",
       "    }\n",
       "\n",
       "    .dataframe tbody tr th {\n",
       "        vertical-align: top;\n",
       "    }\n",
       "\n",
       "    .dataframe thead th {\n",
       "        text-align: right;\n",
       "    }\n",
       "</style>\n",
       "<table border=\"1\" class=\"dataframe\">\n",
       "  <thead>\n",
       "    <tr style=\"text-align: right;\">\n",
       "      <th></th>\n",
       "      <th>f0</th>\n",
       "    </tr>\n",
       "  </thead>\n",
       "  <tbody>\n",
       "    <tr>\n",
       "      <th>count</th>\n",
       "      <td>100000.000000</td>\n",
       "    </tr>\n",
       "    <tr>\n",
       "      <th>mean</th>\n",
       "      <td>0.500419</td>\n",
       "    </tr>\n",
       "    <tr>\n",
       "      <th>std</th>\n",
       "      <td>0.871832</td>\n",
       "    </tr>\n",
       "    <tr>\n",
       "      <th>min</th>\n",
       "      <td>-1.408605</td>\n",
       "    </tr>\n",
       "    <tr>\n",
       "      <th>25%</th>\n",
       "      <td>-0.072580</td>\n",
       "    </tr>\n",
       "    <tr>\n",
       "      <th>50%</th>\n",
       "      <td>0.502360</td>\n",
       "    </tr>\n",
       "    <tr>\n",
       "      <th>75%</th>\n",
       "      <td>1.073581</td>\n",
       "    </tr>\n",
       "    <tr>\n",
       "      <th>max</th>\n",
       "      <td>2.362331</td>\n",
       "    </tr>\n",
       "  </tbody>\n",
       "</table>\n",
       "</div>"
      ],
      "text/plain": [
       "                  f0\n",
       "count  100000.000000\n",
       "mean        0.500419\n",
       "std         0.871832\n",
       "min        -1.408605\n",
       "25%        -0.072580\n",
       "50%         0.502360\n",
       "75%         1.073581\n",
       "max         2.362331"
      ]
     },
     "metadata": {},
     "output_type": "display_data"
    },
    {
     "name": "stdout",
     "output_type": "stream",
     "text": [
      "Parametr f0 in dataframe df1:\n"
     ]
    },
    {
     "data": {
      "text/html": [
       "<div>\n",
       "<style scoped>\n",
       "    .dataframe tbody tr th:only-of-type {\n",
       "        vertical-align: middle;\n",
       "    }\n",
       "\n",
       "    .dataframe tbody tr th {\n",
       "        vertical-align: top;\n",
       "    }\n",
       "\n",
       "    .dataframe thead th {\n",
       "        text-align: right;\n",
       "    }\n",
       "</style>\n",
       "<table border=\"1\" class=\"dataframe\">\n",
       "  <thead>\n",
       "    <tr style=\"text-align: right;\">\n",
       "      <th></th>\n",
       "      <th>f0</th>\n",
       "    </tr>\n",
       "  </thead>\n",
       "  <tbody>\n",
       "    <tr>\n",
       "      <th>count</th>\n",
       "      <td>100000.000000</td>\n",
       "    </tr>\n",
       "    <tr>\n",
       "      <th>mean</th>\n",
       "      <td>1.141296</td>\n",
       "    </tr>\n",
       "    <tr>\n",
       "      <th>std</th>\n",
       "      <td>8.965932</td>\n",
       "    </tr>\n",
       "    <tr>\n",
       "      <th>min</th>\n",
       "      <td>-31.609576</td>\n",
       "    </tr>\n",
       "    <tr>\n",
       "      <th>25%</th>\n",
       "      <td>-6.298551</td>\n",
       "    </tr>\n",
       "    <tr>\n",
       "      <th>50%</th>\n",
       "      <td>1.153055</td>\n",
       "    </tr>\n",
       "    <tr>\n",
       "      <th>75%</th>\n",
       "      <td>8.621015</td>\n",
       "    </tr>\n",
       "    <tr>\n",
       "      <th>max</th>\n",
       "      <td>29.421755</td>\n",
       "    </tr>\n",
       "  </tbody>\n",
       "</table>\n",
       "</div>"
      ],
      "text/plain": [
       "                  f0\n",
       "count  100000.000000\n",
       "mean        1.141296\n",
       "std         8.965932\n",
       "min       -31.609576\n",
       "25%        -6.298551\n",
       "50%         1.153055\n",
       "75%         8.621015\n",
       "max        29.421755"
      ]
     },
     "metadata": {},
     "output_type": "display_data"
    },
    {
     "name": "stdout",
     "output_type": "stream",
     "text": [
      "Parametr f0 in dataframe df2:\n"
     ]
    },
    {
     "data": {
      "text/html": [
       "<div>\n",
       "<style scoped>\n",
       "    .dataframe tbody tr th:only-of-type {\n",
       "        vertical-align: middle;\n",
       "    }\n",
       "\n",
       "    .dataframe tbody tr th {\n",
       "        vertical-align: top;\n",
       "    }\n",
       "\n",
       "    .dataframe thead th {\n",
       "        text-align: right;\n",
       "    }\n",
       "</style>\n",
       "<table border=\"1\" class=\"dataframe\">\n",
       "  <thead>\n",
       "    <tr style=\"text-align: right;\">\n",
       "      <th></th>\n",
       "      <th>f0</th>\n",
       "    </tr>\n",
       "  </thead>\n",
       "  <tbody>\n",
       "    <tr>\n",
       "      <th>count</th>\n",
       "      <td>100000.000000</td>\n",
       "    </tr>\n",
       "    <tr>\n",
       "      <th>mean</th>\n",
       "      <td>0.002023</td>\n",
       "    </tr>\n",
       "    <tr>\n",
       "      <th>std</th>\n",
       "      <td>1.732045</td>\n",
       "    </tr>\n",
       "    <tr>\n",
       "      <th>min</th>\n",
       "      <td>-8.760004</td>\n",
       "    </tr>\n",
       "    <tr>\n",
       "      <th>25%</th>\n",
       "      <td>-1.162288</td>\n",
       "    </tr>\n",
       "    <tr>\n",
       "      <th>50%</th>\n",
       "      <td>0.009424</td>\n",
       "    </tr>\n",
       "    <tr>\n",
       "      <th>75%</th>\n",
       "      <td>1.158535</td>\n",
       "    </tr>\n",
       "    <tr>\n",
       "      <th>max</th>\n",
       "      <td>7.238262</td>\n",
       "    </tr>\n",
       "  </tbody>\n",
       "</table>\n",
       "</div>"
      ],
      "text/plain": [
       "                  f0\n",
       "count  100000.000000\n",
       "mean        0.002023\n",
       "std         1.732045\n",
       "min        -8.760004\n",
       "25%        -1.162288\n",
       "50%         0.009424\n",
       "75%         1.158535\n",
       "max         7.238262"
      ]
     },
     "metadata": {},
     "output_type": "display_data"
    },
    {
     "data": {
      "image/png": "[encoded data removed]",
      "text/plain": [
       "<Figure size 1500x500 with 2 Axes>"
      ]
     },
     "metadata": {},
     "output_type": "display_data"
    },
    {
     "data": {
      "image/png": "[encoded data removed]",
      "text/plain": [
       "<Figure size 1500x500 with 2 Axes>"
      ]
     },
     "metadata": {},
     "output_type": "display_data"
    },
    {
     "data": {
      "image/png": "[encoded data removed]",
      "text/plain": [
       "<Figure size 1500x500 with 2 Axes>"
      ]
     },
     "metadata": {},
     "output_type": "display_data"
    }
   ],
   "source": [
    "eda('f0', 'f_0')"
   ]
  },
  {
   "cell_type": "markdown",
   "metadata": {},
   "source": [
    "The distribution of the feature for different regions is very different. For all three regions, the values of the mean or median are close to the range 0-1. However, the scope of data in the regions is different\n",
    "The nature of the distributions also differs. If the distribution for region 2 is similar to normal, then the distribution of the trait in the first has 2 pronounced peaks, and the distribution in the zero region has four pronounced peaks."
   ]
  },
  {
   "cell_type": "markdown",
   "metadata": {},
   "source": [
    "Feature ***f1***\n"
   ]
  },
  {
   "cell_type": "code",
   "execution_count": 18,
   "metadata": {
    "scrolled": false
   },
   "outputs": [
    {
     "name": "stdout",
     "output_type": "stream",
     "text": [
      "Parametr f1 in dataframe df0:\n"
     ]
    },
    {
     "data": {
      "text/html": [
       "<div>\n",
       "<style scoped>\n",
       "    .dataframe tbody tr th:only-of-type {\n",
       "        vertical-align: middle;\n",
       "    }\n",
       "\n",
       "    .dataframe tbody tr th {\n",
       "        vertical-align: top;\n",
       "    }\n",
       "\n",
       "    .dataframe thead th {\n",
       "        text-align: right;\n",
       "    }\n",
       "</style>\n",
       "<table border=\"1\" class=\"dataframe\">\n",
       "  <thead>\n",
       "    <tr style=\"text-align: right;\">\n",
       "      <th></th>\n",
       "      <th>f1</th>\n",
       "    </tr>\n",
       "  </thead>\n",
       "  <tbody>\n",
       "    <tr>\n",
       "      <th>count</th>\n",
       "      <td>100000.000000</td>\n",
       "    </tr>\n",
       "    <tr>\n",
       "      <th>mean</th>\n",
       "      <td>0.250143</td>\n",
       "    </tr>\n",
       "    <tr>\n",
       "      <th>std</th>\n",
       "      <td>0.504433</td>\n",
       "    </tr>\n",
       "    <tr>\n",
       "      <th>min</th>\n",
       "      <td>-0.848218</td>\n",
       "    </tr>\n",
       "    <tr>\n",
       "      <th>25%</th>\n",
       "      <td>-0.200881</td>\n",
       "    </tr>\n",
       "    <tr>\n",
       "      <th>50%</th>\n",
       "      <td>0.250252</td>\n",
       "    </tr>\n",
       "    <tr>\n",
       "      <th>75%</th>\n",
       "      <td>0.700646</td>\n",
       "    </tr>\n",
       "    <tr>\n",
       "      <th>max</th>\n",
       "      <td>1.343769</td>\n",
       "    </tr>\n",
       "  </tbody>\n",
       "</table>\n",
       "</div>"
      ],
      "text/plain": [
       "                  f1\n",
       "count  100000.000000\n",
       "mean        0.250143\n",
       "std         0.504433\n",
       "min        -0.848218\n",
       "25%        -0.200881\n",
       "50%         0.250252\n",
       "75%         0.700646\n",
       "max         1.343769"
      ]
     },
     "metadata": {},
     "output_type": "display_data"
    },
    {
     "name": "stdout",
     "output_type": "stream",
     "text": [
      "Parametr f1 in dataframe df1:\n"
     ]
    },
    {
     "data": {
      "text/html": [
       "<div>\n",
       "<style scoped>\n",
       "    .dataframe tbody tr th:only-of-type {\n",
       "        vertical-align: middle;\n",
       "    }\n",
       "\n",
       "    .dataframe tbody tr th {\n",
       "        vertical-align: top;\n",
       "    }\n",
       "\n",
       "    .dataframe thead th {\n",
       "        text-align: right;\n",
       "    }\n",
       "</style>\n",
       "<table border=\"1\" class=\"dataframe\">\n",
       "  <thead>\n",
       "    <tr style=\"text-align: right;\">\n",
       "      <th></th>\n",
       "      <th>f1</th>\n",
       "    </tr>\n",
       "  </thead>\n",
       "  <tbody>\n",
       "    <tr>\n",
       "      <th>count</th>\n",
       "      <td>100000.000000</td>\n",
       "    </tr>\n",
       "    <tr>\n",
       "      <th>mean</th>\n",
       "      <td>-4.796579</td>\n",
       "    </tr>\n",
       "    <tr>\n",
       "      <th>std</th>\n",
       "      <td>5.119872</td>\n",
       "    </tr>\n",
       "    <tr>\n",
       "      <th>min</th>\n",
       "      <td>-26.358598</td>\n",
       "    </tr>\n",
       "    <tr>\n",
       "      <th>25%</th>\n",
       "      <td>-8.267985</td>\n",
       "    </tr>\n",
       "    <tr>\n",
       "      <th>50%</th>\n",
       "      <td>-4.813172</td>\n",
       "    </tr>\n",
       "    <tr>\n",
       "      <th>75%</th>\n",
       "      <td>-1.332816</td>\n",
       "    </tr>\n",
       "    <tr>\n",
       "      <th>max</th>\n",
       "      <td>18.734063</td>\n",
       "    </tr>\n",
       "  </tbody>\n",
       "</table>\n",
       "</div>"
      ],
      "text/plain": [
       "                  f1\n",
       "count  100000.000000\n",
       "mean       -4.796579\n",
       "std         5.119872\n",
       "min       -26.358598\n",
       "25%        -8.267985\n",
       "50%        -4.813172\n",
       "75%        -1.332816\n",
       "max        18.734063"
      ]
     },
     "metadata": {},
     "output_type": "display_data"
    },
    {
     "name": "stdout",
     "output_type": "stream",
     "text": [
      "Parametr f1 in dataframe df2:\n"
     ]
    },
    {
     "data": {
      "text/html": [
       "<div>\n",
       "<style scoped>\n",
       "    .dataframe tbody tr th:only-of-type {\n",
       "        vertical-align: middle;\n",
       "    }\n",
       "\n",
       "    .dataframe tbody tr th {\n",
       "        vertical-align: top;\n",
       "    }\n",
       "\n",
       "    .dataframe thead th {\n",
       "        text-align: right;\n",
       "    }\n",
       "</style>\n",
       "<table border=\"1\" class=\"dataframe\">\n",
       "  <thead>\n",
       "    <tr style=\"text-align: right;\">\n",
       "      <th></th>\n",
       "      <th>f1</th>\n",
       "    </tr>\n",
       "  </thead>\n",
       "  <tbody>\n",
       "    <tr>\n",
       "      <th>count</th>\n",
       "      <td>100000.000000</td>\n",
       "    </tr>\n",
       "    <tr>\n",
       "      <th>mean</th>\n",
       "      <td>-0.002081</td>\n",
       "    </tr>\n",
       "    <tr>\n",
       "      <th>std</th>\n",
       "      <td>1.730417</td>\n",
       "    </tr>\n",
       "    <tr>\n",
       "      <th>min</th>\n",
       "      <td>-7.084020</td>\n",
       "    </tr>\n",
       "    <tr>\n",
       "      <th>25%</th>\n",
       "      <td>-1.174820</td>\n",
       "    </tr>\n",
       "    <tr>\n",
       "      <th>50%</th>\n",
       "      <td>-0.009482</td>\n",
       "    </tr>\n",
       "    <tr>\n",
       "      <th>75%</th>\n",
       "      <td>1.163678</td>\n",
       "    </tr>\n",
       "    <tr>\n",
       "      <th>max</th>\n",
       "      <td>7.844801</td>\n",
       "    </tr>\n",
       "  </tbody>\n",
       "</table>\n",
       "</div>"
      ],
      "text/plain": [
       "                  f1\n",
       "count  100000.000000\n",
       "mean       -0.002081\n",
       "std         1.730417\n",
       "min        -7.084020\n",
       "25%        -1.174820\n",
       "50%        -0.009482\n",
       "75%         1.163678\n",
       "max         7.844801"
      ]
     },
     "metadata": {},
     "output_type": "display_data"
    },
    {
     "data": {
      "image/png": "[encoded data removed]",
      "text/plain": [
       "<Figure size 1500x500 with 2 Axes>"
      ]
     },
     "metadata": {},
     "output_type": "display_data"
    },
    {
     "data": {
      "image/png": "[encoded data removed]",
      "text/plain": [
       "<Figure size 1500x500 with 2 Axes>"
      ]
     },
     "metadata": {},
     "output_type": "display_data"
    },
    {
     "data": {
      "image/png": "[encoded data removed]",
      "text/plain": [
       "<Figure size 1500x500 with 2 Axes>"
      ]
     },
     "metadata": {},
     "output_type": "display_data"
    }
   ],
   "source": [
    "eda('f1', 'f_1')"
   ]
  },
  {
   "cell_type": "markdown",
   "metadata": {},
   "source": [
    "The distribution of the trait for different regions is also very different. For regions 0 and 2, the mean or median values are close to zero, but for region 1 they are close to minus five. The scope of data varies in the regions.\n",
    "\n",
    "The nature of the distributions varies by region. For regions 1 and 2, the distribution is similar to normal, but there are three pronounced peaks in the distribution for region 0."
   ]
  },
  {
   "cell_type": "markdown",
   "metadata": {},
   "source": [
    "eda('f2', 'f_2')"
   ]
  },
  {
   "cell_type": "code",
   "execution_count": 19,
   "metadata": {
    "scrolled": false
   },
   "outputs": [
    {
     "name": "stdout",
     "output_type": "stream",
     "text": [
      "Parametr f2 in dataframe df0:\n"
     ]
    },
    {
     "data": {
      "text/html": [
       "<div>\n",
       "<style scoped>\n",
       "    .dataframe tbody tr th:only-of-type {\n",
       "        vertical-align: middle;\n",
       "    }\n",
       "\n",
       "    .dataframe tbody tr th {\n",
       "        vertical-align: top;\n",
       "    }\n",
       "\n",
       "    .dataframe thead th {\n",
       "        text-align: right;\n",
       "    }\n",
       "</style>\n",
       "<table border=\"1\" class=\"dataframe\">\n",
       "  <thead>\n",
       "    <tr style=\"text-align: right;\">\n",
       "      <th></th>\n",
       "      <th>f2</th>\n",
       "    </tr>\n",
       "  </thead>\n",
       "  <tbody>\n",
       "    <tr>\n",
       "      <th>count</th>\n",
       "      <td>100000.000000</td>\n",
       "    </tr>\n",
       "    <tr>\n",
       "      <th>mean</th>\n",
       "      <td>2.502647</td>\n",
       "    </tr>\n",
       "    <tr>\n",
       "      <th>std</th>\n",
       "      <td>3.248248</td>\n",
       "    </tr>\n",
       "    <tr>\n",
       "      <th>min</th>\n",
       "      <td>-12.088328</td>\n",
       "    </tr>\n",
       "    <tr>\n",
       "      <th>25%</th>\n",
       "      <td>0.287748</td>\n",
       "    </tr>\n",
       "    <tr>\n",
       "      <th>50%</th>\n",
       "      <td>2.515969</td>\n",
       "    </tr>\n",
       "    <tr>\n",
       "      <th>75%</th>\n",
       "      <td>4.715088</td>\n",
       "    </tr>\n",
       "    <tr>\n",
       "      <th>max</th>\n",
       "      <td>16.003790</td>\n",
       "    </tr>\n",
       "  </tbody>\n",
       "</table>\n",
       "</div>"
      ],
      "text/plain": [
       "                  f2\n",
       "count  100000.000000\n",
       "mean        2.502647\n",
       "std         3.248248\n",
       "min       -12.088328\n",
       "25%         0.287748\n",
       "50%         2.515969\n",
       "75%         4.715088\n",
       "max        16.003790"
      ]
     },
     "metadata": {},
     "output_type": "display_data"
    },
    {
     "name": "stdout",
     "output_type": "stream",
     "text": [
      "Parametr f2 in dataframe df1:\n"
     ]
    },
    {
     "data": {
      "text/html": [
       "<div>\n",
       "<style scoped>\n",
       "    .dataframe tbody tr th:only-of-type {\n",
       "        vertical-align: middle;\n",
       "    }\n",
       "\n",
       "    .dataframe tbody tr th {\n",
       "        vertical-align: top;\n",
       "    }\n",
       "\n",
       "    .dataframe thead th {\n",
       "        text-align: right;\n",
       "    }\n",
       "</style>\n",
       "<table border=\"1\" class=\"dataframe\">\n",
       "  <thead>\n",
       "    <tr style=\"text-align: right;\">\n",
       "      <th></th>\n",
       "      <th>f2</th>\n",
       "    </tr>\n",
       "  </thead>\n",
       "  <tbody>\n",
       "    <tr>\n",
       "      <th>count</th>\n",
       "      <td>100000.000000</td>\n",
       "    </tr>\n",
       "    <tr>\n",
       "      <th>mean</th>\n",
       "      <td>2.494541</td>\n",
       "    </tr>\n",
       "    <tr>\n",
       "      <th>std</th>\n",
       "      <td>1.703572</td>\n",
       "    </tr>\n",
       "    <tr>\n",
       "      <th>min</th>\n",
       "      <td>-0.018144</td>\n",
       "    </tr>\n",
       "    <tr>\n",
       "      <th>25%</th>\n",
       "      <td>1.000021</td>\n",
       "    </tr>\n",
       "    <tr>\n",
       "      <th>50%</th>\n",
       "      <td>2.011479</td>\n",
       "    </tr>\n",
       "    <tr>\n",
       "      <th>75%</th>\n",
       "      <td>3.999904</td>\n",
       "    </tr>\n",
       "    <tr>\n",
       "      <th>max</th>\n",
       "      <td>5.019721</td>\n",
       "    </tr>\n",
       "  </tbody>\n",
       "</table>\n",
       "</div>"
      ],
      "text/plain": [
       "                  f2\n",
       "count  100000.000000\n",
       "mean        2.494541\n",
       "std         1.703572\n",
       "min        -0.018144\n",
       "25%         1.000021\n",
       "50%         2.011479\n",
       "75%         3.999904\n",
       "max         5.019721"
      ]
     },
     "metadata": {},
     "output_type": "display_data"
    },
    {
     "name": "stdout",
     "output_type": "stream",
     "text": [
      "Parametr f2 in dataframe df2:\n"
     ]
    },
    {
     "data": {
      "text/html": [
       "<div>\n",
       "<style scoped>\n",
       "    .dataframe tbody tr th:only-of-type {\n",
       "        vertical-align: middle;\n",
       "    }\n",
       "\n",
       "    .dataframe tbody tr th {\n",
       "        vertical-align: top;\n",
       "    }\n",
       "\n",
       "    .dataframe thead th {\n",
       "        text-align: right;\n",
       "    }\n",
       "</style>\n",
       "<table border=\"1\" class=\"dataframe\">\n",
       "  <thead>\n",
       "    <tr style=\"text-align: right;\">\n",
       "      <th></th>\n",
       "      <th>f2</th>\n",
       "    </tr>\n",
       "  </thead>\n",
       "  <tbody>\n",
       "    <tr>\n",
       "      <th>count</th>\n",
       "      <td>100000.000000</td>\n",
       "    </tr>\n",
       "    <tr>\n",
       "      <th>mean</th>\n",
       "      <td>2.495128</td>\n",
       "    </tr>\n",
       "    <tr>\n",
       "      <th>std</th>\n",
       "      <td>3.473445</td>\n",
       "    </tr>\n",
       "    <tr>\n",
       "      <th>min</th>\n",
       "      <td>-11.970335</td>\n",
       "    </tr>\n",
       "    <tr>\n",
       "      <th>25%</th>\n",
       "      <td>0.130359</td>\n",
       "    </tr>\n",
       "    <tr>\n",
       "      <th>50%</th>\n",
       "      <td>2.484236</td>\n",
       "    </tr>\n",
       "    <tr>\n",
       "      <th>75%</th>\n",
       "      <td>4.858794</td>\n",
       "    </tr>\n",
       "    <tr>\n",
       "      <th>max</th>\n",
       "      <td>16.739402</td>\n",
       "    </tr>\n",
       "  </tbody>\n",
       "</table>\n",
       "</div>"
      ],
      "text/plain": [
       "                  f2\n",
       "count  100000.000000\n",
       "mean        2.495128\n",
       "std         3.473445\n",
       "min       -11.970335\n",
       "25%         0.130359\n",
       "50%         2.484236\n",
       "75%         4.858794\n",
       "max        16.739402"
      ]
     },
     "metadata": {},
     "output_type": "display_data"
    },
    {
     "data": {
      "image/png": "[encoded data removed]",
      "text/plain": [
       "<Figure size 1500x500 with 2 Axes>"
      ]
     },
     "metadata": {},
     "output_type": "display_data"
    },
    {
     "data": {
      "image/png": "[encoded data removed]",
      "text/plain": [
       "<Figure size 1500x500 with 2 Axes>"
      ]
     },
     "metadata": {},
     "output_type": "display_data"
    },
    {
     "data": {
      "image/png": "[encoded data removed]",
      "text/plain": [
       "<Figure size 1500x500 with 2 Axes>"
      ]
     },
     "metadata": {},
     "output_type": "display_data"
    }
   ],
   "source": [
    "eda('f2', 'f_2')"
   ]
  },
  {
   "cell_type": "markdown",
   "metadata": {},
   "source": [
    "The distributions of the trait for regions 0 and 2 do not differ much: they are similar to normal ones with an average of about 2.5 and similar standard deviations. However, in region 1, the nature of the distribution is clearly different: the data are grouped around the values 0, 1 ... 5."
   ]
  },
  {
   "cell_type": "markdown",
   "metadata": {},
   "source": [
    "**Volume of stocks**"
   ]
  },
  {
   "cell_type": "code",
   "execution_count": 20,
   "metadata": {
    "scrolled": false
   },
   "outputs": [
    {
     "name": "stdout",
     "output_type": "stream",
     "text": [
      "Parametr product in dataframe df0:\n"
     ]
    },
    {
     "data": {
      "text/html": [
       "<div>\n",
       "<style scoped>\n",
       "    .dataframe tbody tr th:only-of-type {\n",
       "        vertical-align: middle;\n",
       "    }\n",
       "\n",
       "    .dataframe tbody tr th {\n",
       "        vertical-align: top;\n",
       "    }\n",
       "\n",
       "    .dataframe thead th {\n",
       "        text-align: right;\n",
       "    }\n",
       "</style>\n",
       "<table border=\"1\" class=\"dataframe\">\n",
       "  <thead>\n",
       "    <tr style=\"text-align: right;\">\n",
       "      <th></th>\n",
       "      <th>product</th>\n",
       "    </tr>\n",
       "  </thead>\n",
       "  <tbody>\n",
       "    <tr>\n",
       "      <th>count</th>\n",
       "      <td>100000.000000</td>\n",
       "    </tr>\n",
       "    <tr>\n",
       "      <th>mean</th>\n",
       "      <td>92.500000</td>\n",
       "    </tr>\n",
       "    <tr>\n",
       "      <th>std</th>\n",
       "      <td>44.288691</td>\n",
       "    </tr>\n",
       "    <tr>\n",
       "      <th>min</th>\n",
       "      <td>0.000000</td>\n",
       "    </tr>\n",
       "    <tr>\n",
       "      <th>25%</th>\n",
       "      <td>56.497507</td>\n",
       "    </tr>\n",
       "    <tr>\n",
       "      <th>50%</th>\n",
       "      <td>91.849972</td>\n",
       "    </tr>\n",
       "    <tr>\n",
       "      <th>75%</th>\n",
       "      <td>128.564089</td>\n",
       "    </tr>\n",
       "    <tr>\n",
       "      <th>max</th>\n",
       "      <td>185.364347</td>\n",
       "    </tr>\n",
       "  </tbody>\n",
       "</table>\n",
       "</div>"
      ],
      "text/plain": [
       "             product\n",
       "count  100000.000000\n",
       "mean       92.500000\n",
       "std        44.288691\n",
       "min         0.000000\n",
       "25%        56.497507\n",
       "50%        91.849972\n",
       "75%       128.564089\n",
       "max       185.364347"
      ]
     },
     "metadata": {},
     "output_type": "display_data"
    },
    {
     "name": "stdout",
     "output_type": "stream",
     "text": [
      "Parametr product in dataframe df1:\n"
     ]
    },
    {
     "data": {
      "text/html": [
       "<div>\n",
       "<style scoped>\n",
       "    .dataframe tbody tr th:only-of-type {\n",
       "        vertical-align: middle;\n",
       "    }\n",
       "\n",
       "    .dataframe tbody tr th {\n",
       "        vertical-align: top;\n",
       "    }\n",
       "\n",
       "    .dataframe thead th {\n",
       "        text-align: right;\n",
       "    }\n",
       "</style>\n",
       "<table border=\"1\" class=\"dataframe\">\n",
       "  <thead>\n",
       "    <tr style=\"text-align: right;\">\n",
       "      <th></th>\n",
       "      <th>product</th>\n",
       "    </tr>\n",
       "  </thead>\n",
       "  <tbody>\n",
       "    <tr>\n",
       "      <th>count</th>\n",
       "      <td>100000.000000</td>\n",
       "    </tr>\n",
       "    <tr>\n",
       "      <th>mean</th>\n",
       "      <td>68.825000</td>\n",
       "    </tr>\n",
       "    <tr>\n",
       "      <th>std</th>\n",
       "      <td>45.944423</td>\n",
       "    </tr>\n",
       "    <tr>\n",
       "      <th>min</th>\n",
       "      <td>0.000000</td>\n",
       "    </tr>\n",
       "    <tr>\n",
       "      <th>25%</th>\n",
       "      <td>26.953261</td>\n",
       "    </tr>\n",
       "    <tr>\n",
       "      <th>50%</th>\n",
       "      <td>57.085625</td>\n",
       "    </tr>\n",
       "    <tr>\n",
       "      <th>75%</th>\n",
       "      <td>107.813044</td>\n",
       "    </tr>\n",
       "    <tr>\n",
       "      <th>max</th>\n",
       "      <td>137.945408</td>\n",
       "    </tr>\n",
       "  </tbody>\n",
       "</table>\n",
       "</div>"
      ],
      "text/plain": [
       "             product\n",
       "count  100000.000000\n",
       "mean       68.825000\n",
       "std        45.944423\n",
       "min         0.000000\n",
       "25%        26.953261\n",
       "50%        57.085625\n",
       "75%       107.813044\n",
       "max       137.945408"
      ]
     },
     "metadata": {},
     "output_type": "display_data"
    },
    {
     "name": "stdout",
     "output_type": "stream",
     "text": [
      "Parametr product in dataframe df2:\n"
     ]
    },
    {
     "data": {
      "text/html": [
       "<div>\n",
       "<style scoped>\n",
       "    .dataframe tbody tr th:only-of-type {\n",
       "        vertical-align: middle;\n",
       "    }\n",
       "\n",
       "    .dataframe tbody tr th {\n",
       "        vertical-align: top;\n",
       "    }\n",
       "\n",
       "    .dataframe thead th {\n",
       "        text-align: right;\n",
       "    }\n",
       "</style>\n",
       "<table border=\"1\" class=\"dataframe\">\n",
       "  <thead>\n",
       "    <tr style=\"text-align: right;\">\n",
       "      <th></th>\n",
       "      <th>product</th>\n",
       "    </tr>\n",
       "  </thead>\n",
       "  <tbody>\n",
       "    <tr>\n",
       "      <th>count</th>\n",
       "      <td>100000.000000</td>\n",
       "    </tr>\n",
       "    <tr>\n",
       "      <th>mean</th>\n",
       "      <td>95.000000</td>\n",
       "    </tr>\n",
       "    <tr>\n",
       "      <th>std</th>\n",
       "      <td>44.749921</td>\n",
       "    </tr>\n",
       "    <tr>\n",
       "      <th>min</th>\n",
       "      <td>0.000000</td>\n",
       "    </tr>\n",
       "    <tr>\n",
       "      <th>25%</th>\n",
       "      <td>59.450441</td>\n",
       "    </tr>\n",
       "    <tr>\n",
       "      <th>50%</th>\n",
       "      <td>94.925613</td>\n",
       "    </tr>\n",
       "    <tr>\n",
       "      <th>75%</th>\n",
       "      <td>130.595027</td>\n",
       "    </tr>\n",
       "    <tr>\n",
       "      <th>max</th>\n",
       "      <td>190.029838</td>\n",
       "    </tr>\n",
       "  </tbody>\n",
       "</table>\n",
       "</div>"
      ],
      "text/plain": [
       "             product\n",
       "count  100000.000000\n",
       "mean       95.000000\n",
       "std        44.749921\n",
       "min         0.000000\n",
       "25%        59.450441\n",
       "50%        94.925613\n",
       "75%       130.595027\n",
       "max       190.029838"
      ]
     },
     "metadata": {},
     "output_type": "display_data"
    },
    {
     "data": {
      "image/png": "[encoded data removed]",
      "text/plain": [
       "<Figure size 1500x500 with 2 Axes>"
      ]
     },
     "metadata": {},
     "output_type": "display_data"
    },
    {
     "data": {
      "image/png": "[encoded data removed]",
      "text/plain": [
       "<Figure size 1500x500 with 2 Axes>"
      ]
     },
     "metadata": {},
     "output_type": "display_data"
    },
    {
     "data": {
      "image/png": "[encoded data removed]",
      "text/plain": [
       "<Figure size 1500x500 with 2 Axes>"
      ]
     },
     "metadata": {},
     "output_type": "display_data"
    }
   ],
   "source": [
    "eda('product', 'product')"
   ]
  },
  {
   "cell_type": "markdown",
   "metadata": {},
   "source": [
    "For all three regions, the distribution of inventory volumes differs from normal. Peaks of values can be observed in each region on the scattering diagram, in the first region they are most pronounced.\n",
    "\n",
    "Perhaps such distributions are due to the fact that characteristic sub-regions can be distinguished in the regions, the average values for which look like peaks on the distributions."
   ]
  },
  {
   "cell_type": "markdown",
   "metadata": {},
   "source": [
    "**Матрицы корреляций**"
   ]
  },
  {
   "cell_type": "code",
   "execution_count": 22,
   "metadata": {},
   "outputs": [],
   "source": [
    "df_0_ = df_0.drop(['id'], axis=1)\n",
    "df_1_ = df_1.drop(['id'], axis=1)\n",
    "df_2_ = df_2.drop(['id'], axis=1)\n",
    "corr0 = df_0_.corr()\n",
    "corr1 = df_1_.corr()\n",
    "corr2 = df_2_.corr()"
   ]
  },
  {
   "cell_type": "code",
   "execution_count": 23,
   "metadata": {},
   "outputs": [
    {
     "data": {
      "image/png": "[encoded data removed]",
      "text/plain": [
       "<Figure size 1500x500 with 2 Axes>"
      ]
     },
     "metadata": {},
     "output_type": "display_data"
    }
   ],
   "source": [
    "sns.heatmap(data=corr0, square=True, cmap=\"YlGnBu\", linewidths=.5, annot=True)\\\n",
    ".set(title='Correlation matrix, region 0');"
   ]
  },
  {
   "cell_type": "code",
   "execution_count": 24,
   "metadata": {},
   "outputs": [
    {
     "data": {
      "image/png": "[encoded data removed]",
      "text/plain": [
       "<Figure size 1500x500 with 2 Axes>"
      ]
     },
     "metadata": {},
     "output_type": "display_data"
    }
   ],
   "source": [
    "sns.heatmap(data=corr1, square=True, cmap=\"YlGnBu\", linewidths=.5, annot=True)\\\n",
    ".set(title='Correlation matrix, region 1');"
   ]
  },
  {
   "cell_type": "code",
   "execution_count": 25,
   "metadata": {},
   "outputs": [
    {
     "data": {
      "image/png": "[encoded data removed]",
      "text/plain": [
       "<Figure size 1500x500 with 2 Axes>"
      ]
     },
     "metadata": {},
     "output_type": "display_data"
    }
   ],
   "source": [
    "sns.heatmap(data=corr2, square=True, cmap=\"YlGnBu\", linewidths=.5, annot=True)\\\n",
    ".set(title='Correlation matrix, region 2');"
   ]
  },
  {
   "cell_type": "markdown",
   "metadata": {},
   "source": [
    "For regions 0 and 2, there is no strong correlation between the features. Some correlation is observed only between the attribute and the volume of stocks (the values of the Pearson correlation coefficient are 0.48 and 0.45).\n",
    "\n",
    "However, for region 1, there is a very strong correlation between the attribute and the volume of reserves (Pearson correlation coefficient 1). This is suspicious, perhaps an error has crept into the data. Let's build a separate graph of the dependence of inventory volumes on the attribute for the first region."
   ]
  },
  {
   "cell_type": "code",
   "execution_count": 26,
   "metadata": {},
   "outputs": [
    {
     "data": {
      "image/png": "[encoded data removed]",
      "text/plain": [
       "<Figure size 600x600 with 3 Axes>"
      ]
     },
     "metadata": {},
     "output_type": "display_data"
    }
   ],
   "source": [
    "sns.jointplot(data=df_1, x='f2', y='product', kind='reg')\n",
    "plt.suptitle('Dependence of the stock volume on the feature $f_2$, region 1', y=1)\n",
    "plt.show()"
   ]
  },
  {
   "cell_type": "markdown",
   "metadata": {},
   "source": [
    "For the purpose of further calculations of oil reserves and profit calculation, we will select the target and other features for each dataset, as well as divide the training and validation samples."
   ]
  },
  {
   "cell_type": "code",
   "execution_count": 27,
   "metadata": {},
   "outputs": [],
   "source": [
    "features_df_0 = df_0.drop(['product','id'], axis = 1)\n",
    "target_df_0 = df_0['product']\n",
    "\n",
    "features_df_1 = df_1.drop(['product','id'], axis = 1)\n",
    "target_df_1 = df_1['product']\n",
    "\n",
    "features_df_2 = df_2.drop(['product','id'], axis = 1)\n",
    "target_df_2 = df_2['product']\n",
    "\n",
    "features_train_0, features_valid_0, target_train_0, target_valid_0 = train_test_split(features_df_0, target_df_0, \n",
    "                                                                              test_size=0.25, \n",
    "                                                                              random_state=12345)\n",
    "\n",
    "features_train_1, features_valid_1, target_train_1, target_valid_1 = train_test_split(features_df_1, target_df_1, \n",
    "                                                                              test_size=0.25, \n",
    "                                                                              random_state=12345)\n",
    "\n",
    "features_train_2, features_valid_2, target_train_2, target_valid_2 = train_test_split(features_df_2, target_df_2, \n",
    "                                                                              test_size=0.25, \n",
    "                                                                              random_state=12345)"
   ]
  },
  {
   "cell_type": "markdown",
   "metadata": {},
   "source": [
    "## Model training and validation"
   ]
  },
  {
   "cell_type": "code",
   "execution_count": 28,
   "metadata": {},
   "outputs": [
    {
     "name": "stdout",
     "output_type": "stream",
     "text": [
      "Region_0: product = 92.59256778438035; rmse = 37.5794217150813; rmse_mean = 44.28602687855358\n",
      "Region_1: product = 68.72854689544602; rmse = 0.893099286775617; rmse_mean = 46.0212449226281\n",
      "Region_2: product = 94.96504596800489; rmse = 40.02970873393434; rmse_mean = 44.902084376898294\n"
     ]
    }
   ],
   "source": [
    "model_0 = LinearRegression()\n",
    "model_0.fit(features_train_0 , target_train_0) \n",
    "\n",
    "model_1 = LinearRegression()\n",
    "model_1.fit(features_train_1 , target_train_1)\n",
    "\n",
    "model_2 = LinearRegression()\n",
    "model_2.fit(features_train_2 , target_train_2)\n",
    "\n",
    "predictions_valid_0 = model_0.predict(features_valid_0)\n",
    "predictions_valid_1 = model_1.predict(features_valid_1)\n",
    "predictions_valid_2 = model_2.predict(features_valid_2)\n",
    "\n",
    "predictions_valid_0_m = pd.Series(target_valid_0.mean(), index=target_valid_0.index) #среднее значение целевого признака \n",
    "predictions_valid_1_m = pd.Series(target_valid_1.mean(), index=target_valid_1.index) #среднее значение целевого признака\n",
    "predictions_valid_2_m = pd.Series(target_valid_2.mean(), index=target_valid_2.index) #среднее значение целевого признака\n",
    "\n",
    "rmse_0 = (mean_squared_error(target_valid_0, predictions_valid_0))**0.5\n",
    "rmse_1 = (mean_squared_error(target_valid_1, predictions_valid_1))**0.5\n",
    "rmse_2 = (mean_squared_error(target_valid_2, predictions_valid_2))**0.5\n",
    "\n",
    "rmse_0_m = (mean_squared_error(target_valid_0, predictions_valid_0_m))**0.5\n",
    "rmse_1_m = (mean_squared_error(target_valid_1, predictions_valid_1_m))**0.5\n",
    "rmse_2_m = (mean_squared_error(target_valid_2, predictions_valid_2_m))**0.5\n",
    "\n",
    "print(f'Region_0: product = {predictions_valid_0.mean()}; rmse = {rmse_0}; rmse_mean = {rmse_0_m}')\n",
    "print(f'Region_1: product = {predictions_valid_1.mean()}; rmse = {rmse_1}; rmse_mean = {rmse_1_m}')\n",
    "print(f'Region_2: product = {predictions_valid_2.mean()}; rmse = {rmse_2}; rmse_mean = {rmse_2_m}')"
   ]
  },
  {
   "cell_type": "markdown",
   "metadata": {},
   "source": [
    "**Conclusion**\n",
    "1. The average reserve of predicted raw materials at deposits No. 0 and No. 2.\n",
    "2. Field No. 1 has the lowest average reserve, with the lowest rsme value for the predicted model. Hence, at this stage, it can be assumed that this deposit may be less risky for investments."
   ]
  },
  {
   "cell_type": "markdown",
   "metadata": {},
   "source": [
    "## Profit calculation"
   ]
  },
  {
   "cell_type": "markdown",
   "metadata": {},
   "source": [
    "According to the conditions of the problem, it is known that:\n",
    "\n",
    "- The development budget is 10 billion rubles.\n",
    "- The income from each unit of product is 450 thousand per thousand barrels.\n",
    "\n",
    "We will enter the constant data and calculate the minimum average amount of product in the deposit of the region sufficient for development."
   ]
  },
  {
   "cell_type": "code",
   "execution_count": 29,
   "metadata": {},
   "outputs": [
    {
     "name": "stdout",
     "output_type": "stream",
     "text": [
      "Budget for the development of one well: 50.0 mln. rub\n",
      "The required volume of the well, sufficient for development: 111.111 000. barrels\n"
     ]
    }
   ],
   "source": [
    "BUDGET = 10000 # budget, mln. rub\n",
    "POINT_PER_BUDGET = 200 # places\n",
    "PRODUKT_PRICE = 0.45 # profitability of one unit of a barrel in million rubles\n",
    "\n",
    "budget_per_point = BUDGET/POINT_PER_BUDGET # budget for the development of one well\n",
    "product_value_point = budget_per_point/PRODUKT_PRICE # the required volume of the well, sufficient for development\n",
    "\n",
    "print(f'Budget for the development of one well: {budget_per_point} mln. rub')\n",
    "print(f'The required volume of the well, sufficient for development: {product_value_point:0.3f} 000. barrels')"
   ]
  },
  {
   "cell_type": "markdown",
   "metadata": {},
   "source": [
    "**Conclusion**\n",
    "\n",
    "According to the results of calculations, it is clear that 50 million rubles are required for the development of the 1st well.\n",
    "\n",
    "The required volume of oil reserves in the zone of one well should be about 111 thousand barrels.\n",
    "It should be noted that the required volume is much higher than the predicted values according to the model.\n",
    "\n",
    "Given that theory and practice may differ greatly, we will choose the most suitable deposit further with a risk assessment.\n",
    "\n",
    "At this stage, we will prepare a profit calculation function for well development."
   ]
  },
  {
   "cell_type": "code",
   "execution_count": 30,
   "metadata": {},
   "outputs": [],
   "source": [
    "target_valid_0 = target_valid_0.reset_index(drop=True)\n",
    "target_valid_1 = target_valid_1.reset_index(drop=True)\n",
    "target_valid_2 = target_valid_2.reset_index(drop=True)\n",
    "\n",
    "predictions_valid_0 = pd.Series(predictions_valid_0).reset_index(drop=True)\n",
    "predictions_valid_1 = pd.Series(predictions_valid_1).reset_index(drop=True)\n",
    "predictions_valid_2 = pd.Series(predictions_valid_2).reset_index(drop=True)\n",
    "\n",
    "def profit(target, predictions, count):\n",
    "    probs_sorted = predictions.sort_values(ascending=False)\n",
    "    selected = target[probs_sorted.index][:count]\n",
    "    return (0.45 * selected.sum()) - BUDGET"
   ]
  },
  {
   "cell_type": "markdown",
   "metadata": {},
   "source": [
    "## Calculation of profit and risks"
   ]
  },
  {
   "cell_type": "code",
   "execution_count": 31,
   "metadata": {},
   "outputs": [
    {
     "data": {
      "text/plain": [
       "3320.8260431398503"
      ]
     },
     "execution_count": 31,
     "metadata": {},
     "output_type": "execute_result"
    }
   ],
   "source": [
    "df_0_profit = profit(target_valid_0, predictions_valid_0, 200)\n",
    "df_0_profit"
   ]
  },
  {
   "cell_type": "code",
   "execution_count": 32,
   "metadata": {},
   "outputs": [
    {
     "data": {
      "text/plain": [
       "2415.086696681512"
      ]
     },
     "execution_count": 32,
     "metadata": {},
     "output_type": "execute_result"
    }
   ],
   "source": [
    "df_1_profit = profit(target_valid_1, predictions_valid_1, 200)\n",
    "df_1_profit"
   ]
  },
  {
   "cell_type": "code",
   "execution_count": 33,
   "metadata": {},
   "outputs": [
    {
     "data": {
      "text/plain": [
       "2710.3499635998323"
      ]
     },
     "execution_count": 33,
     "metadata": {},
     "output_type": "execute_result"
    }
   ],
   "source": [
    "df_2_profit = profit(target_valid_2, predictions_valid_2, 200)\n",
    "df_2_profit"
   ]
  },
  {
   "cell_type": "markdown",
   "metadata": {},
   "source": [
    "The best profit results are shown by the place of birth No. 0 (13,310,826.04 million rubles) and No. 2 (12,700,349.96 million rubles)."
   ]
  },
  {
   "cell_type": "markdown",
   "metadata": {},
   "source": [
    "To assess the risks and profits for each region, we will use the bootstrap technique."
   ]
  },
  {
   "cell_type": "code",
   "execution_count": 35,
   "metadata": {},
   "outputs": [
    {
     "name": "stdout",
     "output_type": "stream",
     "text": [
      "Average profit, Region №0: 425.9385269105927\n",
      "Confidence interval(Region №0): -102.09009483793592 - 947.976353358369\n",
      "Risk of losses, (Region №0): 0.06\n",
      "Total profit: 425938.5269105927\n",
      "\n",
      "Average profit, Region №1: 518.2594936973252\n",
      "Confidence interval(Region №1): 128.12323143308453 - 953.6129820669079\n",
      "Risk of losses, (Region №1): 0.003\n",
      "Total profit: 518259.49369732523\n",
      "\n",
      "Average profit, Region №2: 420.19400534405037\n",
      "Confidence interval(Region №2): -115.85260916001138 - 989.6299398445756\n",
      "Risk of losses (Region №2): 0.062\n",
      "Total profit: 420194.00534405035\n"
     ]
    }
   ],
   "source": [
    "state = np.random.RandomState(12345)\n",
    "\n",
    "\n",
    "values_0 = []\n",
    "values_1 = []\n",
    "values_2 = []\n",
    "for i in range(1000):\n",
    "    target_subsample_0 = target_valid_0.sample(n=500, replace=True, random_state=state)\n",
    "    probs_subsample_0 = pd.Series(predictions_valid_0[target_subsample_0.index])\n",
    "    values_0.append(profit(target_subsample_0, \n",
    "                          probs_subsample_0,\n",
    "                          200))    \n",
    "    \n",
    "for i in range(1000):\n",
    "    target_subsample_1 = target_valid_1.sample(n=500, replace=True, random_state=state)\n",
    "    probs_subsample_1 = pd.Series(predictions_valid_1[target_subsample_1.index])\n",
    "    values_1.append(profit(target_subsample_1, \n",
    "                          probs_subsample_1,\n",
    "                          200))\n",
    "    \n",
    "for i in range(1000):\n",
    "    target_subsample_2 = target_valid_2.sample(n=500, replace=True, random_state=state)\n",
    "    probs_subsample_2 = pd.Series(predictions_valid_2[target_subsample_2.index])\n",
    "    values_2.append(profit(target_subsample_2, \n",
    "                          probs_subsample_2,\n",
    "                          200))        \n",
    "    \n",
    "values_0 = pd.Series(values_0)\n",
    "lower_0 = values_0.quantile(0.025)\n",
    "upper_0 = values_0.quantile(0.975)\n",
    "mean_0 = values_0.mean()\n",
    "#confidence_interval_0 = st.t.interval(0.95, len(values_0)-1, loc = values_0.mean(), scale =values_0.sem())\n",
    "sum_0 = values_0.sum()\n",
    "\n",
    "values_1 = pd.Series(values_1)\n",
    "lower_1 = values_1.quantile(0.025)\n",
    "upper_1 = values_1.quantile(0.975)\n",
    "mean_1 = values_1.mean()\n",
    "#confidence_interval_1 = st.t.interval(0.95, len(values_1)-1, loc = values_1.mean(), scale =values_1.sem())\n",
    "sum_1 = values_1.sum()\n",
    "\n",
    "values_2 = pd.Series(values_2)\n",
    "lower_2 = values_2.quantile(0.025)\n",
    "upper_2 = values_2.quantile(0.975)\n",
    "mean_2 = values_2.mean()\n",
    "#confidence_interval_2 = st.t.interval(0.95, len(values_2)-1, loc = values_2.mean(), scale =values_2.sem())\n",
    "sum_2 = values_2.sum()\n",
    "\n",
    "def calc_risk(values_): \n",
    "    loss_point = 0      \n",
    "    for i in range(len(values_)):\n",
    "        if values_[i] < 0:\n",
    "            loss_point += 1\n",
    "    risk = loss_point/len(values_)\n",
    "    return risk\n",
    "\n",
    "\n",
    "print(\"Average profit, Region №0:\", mean_0)\n",
    "print(\"Confidence interval(Region №0):\", lower_0, '-',upper_0)\n",
    "print(\"Risk of losses, (Region №0):\", calc_risk(values_0))\n",
    "print(\"Total profit:\", sum_0)\n",
    "print()\n",
    "print(\"Average profit, Region №1:\", mean_1)\n",
    "print(\"Confidence interval(Region №1):\", lower_1, '-',upper_1)\n",
    "print(\"Risk of losses, (Region №1):\", calc_risk(values_1))\n",
    "print(\"Total profit:\", sum_1)\n",
    "print()\n",
    "print(\"Average profit, Region №2:\", mean_2)\n",
    "print(\"Confidence interval(Region №2):\", lower_2, '-',upper_2)\n",
    "print(\"Risk of losses (Region №2):\", calc_risk(values_2))\n",
    "print(\"Total profit:\", sum_2)\n"
   ]
  },
  {
   "cell_type": "markdown",
   "metadata": {},
   "source": [
    "## Results of the research"
   ]
  },
  {
   "cell_type": "markdown",
   "metadata": {},
   "source": [
    "The best Region to invest in development will be No. 2, since:\n",
    "\n",
    "1) It has the highest average profit: 518 million rubles.\n",
    "\n",
    "2) It has the highest total profit: 518,259 million rubles.\n",
    "\n",
    "3) Absence of losses (negative profit) in the confidence interval\n",
    "\n",
    "4) The lowest risk of losses: 0.3%."
   ]
  }
 ],
 "metadata": {
  "ExecuteTimeLog": [
   {
    "duration": 54,
    "start_time": "2022-10-13T09:08:19.758Z"
   },
   {
    "duration": 1089,
    "start_time": "2022-10-13T09:08:54.510Z"
   },
   {
    "duration": 763,
    "start_time": "2022-10-13T09:08:55.601Z"
   },
   {
    "duration": 20,
    "start_time": "2022-10-13T09:08:56.366Z"
   },
   {
    "duration": 24,
    "start_time": "2022-10-13T09:08:56.389Z"
   },
   {
    "duration": 24,
    "start_time": "2022-10-13T09:08:56.415Z"
   },
   {
    "duration": 56,
    "start_time": "2022-10-13T09:08:56.441Z"
   },
   {
    "duration": 41,
    "start_time": "2022-10-13T09:08:56.499Z"
   },
   {
    "duration": 35,
    "start_time": "2022-10-13T09:08:56.542Z"
   },
   {
    "duration": 15,
    "start_time": "2022-10-13T09:08:56.579Z"
   },
   {
    "duration": 37,
    "start_time": "2022-10-13T09:08:56.597Z"
   },
   {
    "duration": 13,
    "start_time": "2022-10-13T09:08:56.636Z"
   },
   {
    "duration": 45,
    "start_time": "2022-10-13T09:08:56.651Z"
   },
   {
    "duration": 60,
    "start_time": "2022-10-13T09:08:56.697Z"
   },
   {
    "duration": 45,
    "start_time": "2022-10-13T09:08:56.759Z"
   },
   {
    "duration": 53,
    "start_time": "2022-10-13T09:08:56.806Z"
   },
   {
    "duration": 176,
    "start_time": "2022-10-13T09:08:56.860Z"
   },
   {
    "duration": 93,
    "start_time": "2022-10-13T09:08:57.039Z"
   },
   {
    "duration": 11,
    "start_time": "2022-10-13T09:08:57.135Z"
   },
   {
    "duration": 12,
    "start_time": "2022-10-13T09:08:57.147Z"
   },
   {
    "duration": 8,
    "start_time": "2022-10-13T09:08:57.161Z"
   },
   {
    "duration": 8,
    "start_time": "2022-10-13T09:08:57.171Z"
   },
   {
    "duration": 4220,
    "start_time": "2022-10-13T09:08:57.181Z"
   },
   {
    "duration": 4,
    "start_time": "2022-10-13T09:14:49.999Z"
   },
   {
    "duration": 9,
    "start_time": "2022-10-13T09:15:39.192Z"
   },
   {
    "duration": 1119,
    "start_time": "2022-10-13T09:15:47.017Z"
   },
   {
    "duration": 393,
    "start_time": "2022-10-13T09:15:48.139Z"
   },
   {
    "duration": 18,
    "start_time": "2022-10-13T09:15:48.533Z"
   },
   {
    "duration": 10,
    "start_time": "2022-10-13T09:15:48.552Z"
   },
   {
    "duration": 13,
    "start_time": "2022-10-13T09:15:48.564Z"
   },
   {
    "duration": 61,
    "start_time": "2022-10-13T09:15:48.578Z"
   },
   {
    "duration": 37,
    "start_time": "2022-10-13T09:15:48.640Z"
   },
   {
    "duration": 55,
    "start_time": "2022-10-13T09:15:48.678Z"
   },
   {
    "duration": 18,
    "start_time": "2022-10-13T09:15:48.735Z"
   },
   {
    "duration": 14,
    "start_time": "2022-10-13T09:15:48.756Z"
   },
   {
    "duration": 23,
    "start_time": "2022-10-13T09:15:48.772Z"
   },
   {
    "duration": 70,
    "start_time": "2022-10-13T09:15:48.797Z"
   },
   {
    "duration": 42,
    "start_time": "2022-10-13T09:15:48.869Z"
   },
   {
    "duration": 66,
    "start_time": "2022-10-13T09:15:48.913Z"
   },
   {
    "duration": 53,
    "start_time": "2022-10-13T09:15:48.981Z"
   },
   {
    "duration": 102,
    "start_time": "2022-10-13T09:15:49.035Z"
   },
   {
    "duration": 96,
    "start_time": "2022-10-13T09:15:49.139Z"
   },
   {
    "duration": 3,
    "start_time": "2022-10-13T09:15:49.237Z"
   },
   {
    "duration": 13,
    "start_time": "2022-10-13T09:15:49.242Z"
   },
   {
    "duration": 8,
    "start_time": "2022-10-13T09:15:49.256Z"
   },
   {
    "duration": 12,
    "start_time": "2022-10-13T09:15:49.266Z"
   },
   {
    "duration": 133,
    "start_time": "2022-10-13T09:15:49.280Z"
   },
   {
    "duration": 4493,
    "start_time": "2022-10-13T09:17:39.160Z"
   },
   {
    "duration": 5,
    "start_time": "2022-10-13T09:20:19.414Z"
   },
   {
    "duration": 4,
    "start_time": "2022-10-13T09:20:42.432Z"
   },
   {
    "duration": 1075,
    "start_time": "2022-10-13T09:20:49.779Z"
   },
   {
    "duration": 396,
    "start_time": "2022-10-13T09:20:50.856Z"
   },
   {
    "duration": 17,
    "start_time": "2022-10-13T09:20:51.254Z"
   },
   {
    "duration": 8,
    "start_time": "2022-10-13T09:20:51.273Z"
   },
   {
    "duration": 15,
    "start_time": "2022-10-13T09:20:51.283Z"
   },
   {
    "duration": 51,
    "start_time": "2022-10-13T09:20:51.300Z"
   },
   {
    "duration": 37,
    "start_time": "2022-10-13T09:20:51.353Z"
   },
   {
    "duration": 50,
    "start_time": "2022-10-13T09:20:51.392Z"
   },
   {
    "duration": 14,
    "start_time": "2022-10-13T09:20:51.444Z"
   },
   {
    "duration": 14,
    "start_time": "2022-10-13T09:20:51.460Z"
   },
   {
    "duration": 13,
    "start_time": "2022-10-13T09:20:51.475Z"
   },
   {
    "duration": 73,
    "start_time": "2022-10-13T09:20:51.490Z"
   },
   {
    "duration": 43,
    "start_time": "2022-10-13T09:20:51.565Z"
   },
   {
    "duration": 61,
    "start_time": "2022-10-13T09:20:51.610Z"
   },
   {
    "duration": 39,
    "start_time": "2022-10-13T09:20:51.672Z"
   },
   {
    "duration": 123,
    "start_time": "2022-10-13T09:20:51.713Z"
   },
   {
    "duration": 8,
    "start_time": "2022-10-13T09:20:51.838Z"
   },
   {
    "duration": 96,
    "start_time": "2022-10-13T09:20:51.848Z"
   },
   {
    "duration": 12,
    "start_time": "2022-10-13T09:20:51.946Z"
   },
   {
    "duration": 9,
    "start_time": "2022-10-13T09:20:51.959Z"
   },
   {
    "duration": 9,
    "start_time": "2022-10-13T09:20:51.970Z"
   },
   {
    "duration": 4364,
    "start_time": "2022-10-13T09:20:51.980Z"
   },
   {
    "duration": 4938,
    "start_time": "2022-10-13T09:23:14.070Z"
   },
   {
    "duration": 4127,
    "start_time": "2022-10-13T09:48:46.794Z"
   },
   {
    "duration": 5,
    "start_time": "2022-10-13T09:48:56.086Z"
   },
   {
    "duration": 1100,
    "start_time": "2022-10-13T09:49:02.408Z"
   },
   {
    "duration": 368,
    "start_time": "2022-10-13T09:49:03.510Z"
   },
   {
    "duration": 16,
    "start_time": "2022-10-13T09:49:03.880Z"
   },
   {
    "duration": 9,
    "start_time": "2022-10-13T09:49:03.897Z"
   },
   {
    "duration": 28,
    "start_time": "2022-10-13T09:49:03.908Z"
   },
   {
    "duration": 41,
    "start_time": "2022-10-13T09:49:03.939Z"
   },
   {
    "duration": 53,
    "start_time": "2022-10-13T09:49:03.981Z"
   },
   {
    "duration": 35,
    "start_time": "2022-10-13T09:49:04.036Z"
   },
   {
    "duration": 13,
    "start_time": "2022-10-13T09:49:04.073Z"
   },
   {
    "duration": 13,
    "start_time": "2022-10-13T09:49:04.088Z"
   },
   {
    "duration": 38,
    "start_time": "2022-10-13T09:49:04.103Z"
   },
   {
    "duration": 48,
    "start_time": "2022-10-13T09:49:04.143Z"
   },
   {
    "duration": 65,
    "start_time": "2022-10-13T09:49:04.194Z"
   },
   {
    "duration": 44,
    "start_time": "2022-10-13T09:49:04.262Z"
   },
   {
    "duration": 53,
    "start_time": "2022-10-13T09:49:04.307Z"
   },
   {
    "duration": 78,
    "start_time": "2022-10-13T09:49:04.361Z"
   },
   {
    "duration": 93,
    "start_time": "2022-10-13T09:49:04.442Z"
   },
   {
    "duration": 9,
    "start_time": "2022-10-13T09:49:04.537Z"
   },
   {
    "duration": 12,
    "start_time": "2022-10-13T09:49:04.547Z"
   },
   {
    "duration": 8,
    "start_time": "2022-10-13T09:49:04.560Z"
   },
   {
    "duration": 7,
    "start_time": "2022-10-13T09:49:04.570Z"
   },
   {
    "duration": 4434,
    "start_time": "2022-10-13T09:49:04.579Z"
   },
   {
    "duration": 459,
    "start_time": "2022-10-13T10:05:59.162Z"
   },
   {
    "duration": 4529,
    "start_time": "2022-10-13T10:06:14.845Z"
   },
   {
    "duration": 4222,
    "start_time": "2022-10-13T10:06:38.994Z"
   },
   {
    "duration": 4245,
    "start_time": "2022-10-13T10:07:22.010Z"
   },
   {
    "duration": 4411,
    "start_time": "2022-10-13T10:29:14.780Z"
   },
   {
    "duration": 1087,
    "start_time": "2022-10-13T10:29:27.615Z"
   },
   {
    "duration": 424,
    "start_time": "2022-10-13T10:29:28.705Z"
   },
   {
    "duration": 17,
    "start_time": "2022-10-13T10:29:29.131Z"
   },
   {
    "duration": 10,
    "start_time": "2022-10-13T10:29:29.150Z"
   },
   {
    "duration": 10,
    "start_time": "2022-10-13T10:29:29.161Z"
   },
   {
    "duration": 60,
    "start_time": "2022-10-13T10:29:29.174Z"
   },
   {
    "duration": 35,
    "start_time": "2022-10-13T10:29:29.236Z"
   },
   {
    "duration": 35,
    "start_time": "2022-10-13T10:29:29.273Z"
   },
   {
    "duration": 37,
    "start_time": "2022-10-13T10:29:29.310Z"
   },
   {
    "duration": 13,
    "start_time": "2022-10-13T10:29:29.350Z"
   },
   {
    "duration": 14,
    "start_time": "2022-10-13T10:29:29.364Z"
   },
   {
    "duration": 90,
    "start_time": "2022-10-13T10:29:29.380Z"
   },
   {
    "duration": 42,
    "start_time": "2022-10-13T10:29:29.471Z"
   },
   {
    "duration": 55,
    "start_time": "2022-10-13T10:29:29.515Z"
   },
   {
    "duration": 41,
    "start_time": "2022-10-13T10:29:29.571Z"
   },
   {
    "duration": 121,
    "start_time": "2022-10-13T10:29:29.613Z"
   },
   {
    "duration": 11,
    "start_time": "2022-10-13T10:29:29.736Z"
   },
   {
    "duration": 10,
    "start_time": "2022-10-13T10:29:29.834Z"
   },
   {
    "duration": 10,
    "start_time": "2022-10-13T10:29:29.846Z"
   },
   {
    "duration": 8,
    "start_time": "2022-10-13T10:29:29.857Z"
   },
   {
    "duration": 9,
    "start_time": "2022-10-13T10:29:29.866Z"
   },
   {
    "duration": 4511,
    "start_time": "2022-10-13T10:29:29.877Z"
   },
   {
    "duration": 4377,
    "start_time": "2022-10-13T10:38:20.664Z"
   },
   {
    "duration": 4280,
    "start_time": "2022-10-13T10:38:36.709Z"
   },
   {
    "duration": 4315,
    "start_time": "2022-10-13T10:48:39.506Z"
   },
   {
    "duration": 4427,
    "start_time": "2022-10-13T10:52:41.068Z"
   },
   {
    "duration": 91,
    "start_time": "2022-10-13T10:53:30.670Z"
   },
   {
    "duration": 77,
    "start_time": "2022-10-13T10:53:43.771Z"
   },
   {
    "duration": 8,
    "start_time": "2022-10-13T10:54:28.420Z"
   },
   {
    "duration": 4482,
    "start_time": "2022-10-13T10:54:44.917Z"
   },
   {
    "duration": 4214,
    "start_time": "2022-10-13T10:55:21.061Z"
   },
   {
    "duration": 4358,
    "start_time": "2022-10-13T10:55:55.112Z"
   },
   {
    "duration": 4319,
    "start_time": "2022-10-13T10:56:23.015Z"
   },
   {
    "duration": 1149,
    "start_time": "2022-10-13T10:56:49.130Z"
   },
   {
    "duration": 361,
    "start_time": "2022-10-13T10:56:50.281Z"
   },
   {
    "duration": 16,
    "start_time": "2022-10-13T10:56:50.644Z"
   },
   {
    "duration": 9,
    "start_time": "2022-10-13T10:56:50.662Z"
   },
   {
    "duration": 13,
    "start_time": "2022-10-13T10:56:50.673Z"
   },
   {
    "duration": 54,
    "start_time": "2022-10-13T10:56:50.688Z"
   },
   {
    "duration": 35,
    "start_time": "2022-10-13T10:56:50.744Z"
   },
   {
    "duration": 32,
    "start_time": "2022-10-13T10:56:50.780Z"
   },
   {
    "duration": 15,
    "start_time": "2022-10-13T10:56:50.833Z"
   },
   {
    "duration": 15,
    "start_time": "2022-10-13T10:56:50.850Z"
   },
   {
    "duration": 13,
    "start_time": "2022-10-13T10:56:50.867Z"
   },
   {
    "duration": 71,
    "start_time": "2022-10-13T10:56:50.882Z"
   },
   {
    "duration": 41,
    "start_time": "2022-10-13T10:56:50.955Z"
   },
   {
    "duration": 64,
    "start_time": "2022-10-13T10:56:50.997Z"
   },
   {
    "duration": 40,
    "start_time": "2022-10-13T10:56:51.062Z"
   },
   {
    "duration": 131,
    "start_time": "2022-10-13T10:56:51.104Z"
   },
   {
    "duration": 6,
    "start_time": "2022-10-13T10:56:51.237Z"
   },
   {
    "duration": 16,
    "start_time": "2022-10-13T10:56:51.333Z"
   },
   {
    "duration": 13,
    "start_time": "2022-10-13T10:56:51.351Z"
   },
   {
    "duration": 9,
    "start_time": "2022-10-13T10:56:51.366Z"
   },
   {
    "duration": 9,
    "start_time": "2022-10-13T10:56:51.377Z"
   },
   {
    "duration": 4446,
    "start_time": "2022-10-13T10:56:51.387Z"
   },
   {
    "duration": 4333,
    "start_time": "2022-10-13T10:57:32.412Z"
   },
   {
    "duration": 4271,
    "start_time": "2022-10-13T10:57:47.377Z"
   },
   {
    "duration": 4,
    "start_time": "2022-10-13T10:58:48.519Z"
   },
   {
    "duration": 4310,
    "start_time": "2022-10-13T10:59:01.810Z"
   },
   {
    "duration": 10,
    "start_time": "2022-10-13T10:59:06.123Z"
   },
   {
    "duration": 1134,
    "start_time": "2022-10-13T10:59:21.361Z"
   },
   {
    "duration": 370,
    "start_time": "2022-10-13T10:59:22.497Z"
   },
   {
    "duration": 15,
    "start_time": "2022-10-13T10:59:22.868Z"
   },
   {
    "duration": 9,
    "start_time": "2022-10-13T10:59:22.885Z"
   },
   {
    "duration": 12,
    "start_time": "2022-10-13T10:59:22.896Z"
   },
   {
    "duration": 56,
    "start_time": "2022-10-13T10:59:22.909Z"
   },
   {
    "duration": 35,
    "start_time": "2022-10-13T10:59:22.966Z"
   },
   {
    "duration": 51,
    "start_time": "2022-10-13T10:59:23.003Z"
   },
   {
    "duration": 13,
    "start_time": "2022-10-13T10:59:23.056Z"
   },
   {
    "duration": 14,
    "start_time": "2022-10-13T10:59:23.070Z"
   },
   {
    "duration": 13,
    "start_time": "2022-10-13T10:59:23.085Z"
   },
   {
    "duration": 70,
    "start_time": "2022-10-13T10:59:23.100Z"
   },
   {
    "duration": 42,
    "start_time": "2022-10-13T10:59:23.171Z"
   },
   {
    "duration": 58,
    "start_time": "2022-10-13T10:59:23.216Z"
   },
   {
    "duration": 36,
    "start_time": "2022-10-13T10:59:23.276Z"
   },
   {
    "duration": 122,
    "start_time": "2022-10-13T10:59:23.314Z"
   },
   {
    "duration": 6,
    "start_time": "2022-10-13T10:59:23.438Z"
   },
   {
    "duration": 98,
    "start_time": "2022-10-13T10:59:23.446Z"
   },
   {
    "duration": 11,
    "start_time": "2022-10-13T10:59:23.546Z"
   },
   {
    "duration": 9,
    "start_time": "2022-10-13T10:59:23.559Z"
   },
   {
    "duration": 8,
    "start_time": "2022-10-13T10:59:23.569Z"
   },
   {
    "duration": 4276,
    "start_time": "2022-10-13T10:59:23.578Z"
   },
   {
    "duration": 3,
    "start_time": "2022-10-13T10:59:27.856Z"
   },
   {
    "duration": 4468,
    "start_time": "2022-10-13T11:03:39.586Z"
   },
   {
    "duration": 4373,
    "start_time": "2022-10-13T11:04:16.162Z"
   },
   {
    "duration": 4344,
    "start_time": "2022-10-13T11:05:09.530Z"
   },
   {
    "duration": 4460,
    "start_time": "2022-10-13T11:05:52.161Z"
   },
   {
    "duration": 4247,
    "start_time": "2022-10-13T11:08:36.374Z"
   },
   {
    "duration": 4385,
    "start_time": "2022-10-13T11:08:53.784Z"
   },
   {
    "duration": 4523,
    "start_time": "2022-10-13T11:09:34.692Z"
   },
   {
    "duration": 4168,
    "start_time": "2022-10-13T11:14:21.876Z"
   },
   {
    "duration": 4439,
    "start_time": "2022-10-13T11:30:52.193Z"
   },
   {
    "duration": 4241,
    "start_time": "2022-10-13T11:30:57.746Z"
   },
   {
    "duration": 4286,
    "start_time": "2022-10-13T11:31:24.677Z"
   },
   {
    "duration": 1294,
    "start_time": "2022-10-13T11:31:39.294Z"
   },
   {
    "duration": 415,
    "start_time": "2022-10-13T11:31:40.590Z"
   },
   {
    "duration": 17,
    "start_time": "2022-10-13T11:31:41.007Z"
   },
   {
    "duration": 8,
    "start_time": "2022-10-13T11:31:41.034Z"
   },
   {
    "duration": 12,
    "start_time": "2022-10-13T11:31:41.045Z"
   },
   {
    "duration": 41,
    "start_time": "2022-10-13T11:31:41.059Z"
   },
   {
    "duration": 52,
    "start_time": "2022-10-13T11:31:41.102Z"
   },
   {
    "duration": 33,
    "start_time": "2022-10-13T11:31:41.155Z"
   },
   {
    "duration": 13,
    "start_time": "2022-10-13T11:31:41.189Z"
   },
   {
    "duration": 40,
    "start_time": "2022-10-13T11:31:41.204Z"
   },
   {
    "duration": 13,
    "start_time": "2022-10-13T11:31:41.246Z"
   },
   {
    "duration": 45,
    "start_time": "2022-10-13T11:31:41.261Z"
   },
   {
    "duration": 63,
    "start_time": "2022-10-13T11:31:41.308Z"
   },
   {
    "duration": 46,
    "start_time": "2022-10-13T11:31:41.373Z"
   },
   {
    "duration": 49,
    "start_time": "2022-10-13T11:31:41.420Z"
   },
   {
    "duration": 167,
    "start_time": "2022-10-13T11:31:41.471Z"
   },
   {
    "duration": 95,
    "start_time": "2022-10-13T11:31:41.640Z"
   },
   {
    "duration": 17,
    "start_time": "2022-10-13T11:31:41.737Z"
   },
   {
    "duration": 16,
    "start_time": "2022-10-13T11:31:41.756Z"
   },
   {
    "duration": 9,
    "start_time": "2022-10-13T11:31:41.774Z"
   },
   {
    "duration": 9,
    "start_time": "2022-10-13T11:31:41.785Z"
   },
   {
    "duration": 4381,
    "start_time": "2022-10-13T11:31:41.796Z"
   },
   {
    "duration": 4462,
    "start_time": "2022-10-13T11:33:14.263Z"
   },
   {
    "duration": 4575,
    "start_time": "2022-10-13T11:33:25.736Z"
   },
   {
    "duration": 4393,
    "start_time": "2022-10-13T11:34:28.204Z"
   },
   {
    "duration": 4340,
    "start_time": "2022-10-13T11:35:11.008Z"
   },
   {
    "duration": 4296,
    "start_time": "2022-10-13T11:35:35.995Z"
   },
   {
    "duration": 4155,
    "start_time": "2022-10-13T11:35:48.225Z"
   },
   {
    "duration": 4500,
    "start_time": "2022-10-13T11:36:53.435Z"
   },
   {
    "duration": 4,
    "start_time": "2022-10-13T11:41:44.357Z"
   },
   {
    "duration": 94,
    "start_time": "2022-10-13T11:42:41.971Z"
   },
   {
    "duration": 3,
    "start_time": "2022-10-13T11:42:58.058Z"
   },
   {
    "duration": 12,
    "start_time": "2022-10-13T11:43:01.074Z"
   },
   {
    "duration": 3,
    "start_time": "2022-10-13T11:43:11.309Z"
   },
   {
    "duration": 15,
    "start_time": "2022-10-13T11:43:12.630Z"
   },
   {
    "duration": 1290,
    "start_time": "2022-10-13T11:43:44.926Z"
   },
   {
    "duration": 442,
    "start_time": "2022-10-13T11:43:46.219Z"
   },
   {
    "duration": 16,
    "start_time": "2022-10-13T11:43:46.663Z"
   },
   {
    "duration": 12,
    "start_time": "2022-10-13T11:43:46.682Z"
   },
   {
    "duration": 14,
    "start_time": "2022-10-13T11:43:46.696Z"
   },
   {
    "duration": 56,
    "start_time": "2022-10-13T11:43:46.711Z"
   },
   {
    "duration": 34,
    "start_time": "2022-10-13T11:43:46.769Z"
   },
   {
    "duration": 45,
    "start_time": "2022-10-13T11:43:46.805Z"
   },
   {
    "duration": 15,
    "start_time": "2022-10-13T11:43:46.852Z"
   },
   {
    "duration": 14,
    "start_time": "2022-10-13T11:43:46.870Z"
   },
   {
    "duration": 13,
    "start_time": "2022-10-13T11:43:46.886Z"
   },
   {
    "duration": 73,
    "start_time": "2022-10-13T11:43:46.900Z"
   },
   {
    "duration": 59,
    "start_time": "2022-10-13T11:43:46.975Z"
   },
   {
    "duration": 44,
    "start_time": "2022-10-13T11:43:47.036Z"
   },
   {
    "duration": 52,
    "start_time": "2022-10-13T11:43:47.081Z"
   },
   {
    "duration": 106,
    "start_time": "2022-10-13T11:43:47.136Z"
   },
   {
    "duration": 4,
    "start_time": "2022-10-13T11:43:47.334Z"
   },
   {
    "duration": 11,
    "start_time": "2022-10-13T11:43:47.340Z"
   },
   {
    "duration": 12,
    "start_time": "2022-10-13T11:43:47.353Z"
   },
   {
    "duration": 9,
    "start_time": "2022-10-13T11:43:47.366Z"
   },
   {
    "duration": 8,
    "start_time": "2022-10-13T11:43:47.377Z"
   },
   {
    "duration": 4287,
    "start_time": "2022-10-13T11:43:47.387Z"
   },
   {
    "duration": 3,
    "start_time": "2022-10-13T11:43:51.676Z"
   },
   {
    "duration": 115,
    "start_time": "2022-10-13T11:43:51.680Z"
   },
   {
    "duration": 3,
    "start_time": "2022-10-13T11:45:31.810Z"
   },
   {
    "duration": 9,
    "start_time": "2022-10-13T11:45:50.947Z"
   },
   {
    "duration": 4,
    "start_time": "2022-10-13T11:47:15.101Z"
   },
   {
    "duration": 4,
    "start_time": "2022-10-13T11:47:28.812Z"
   },
   {
    "duration": 5,
    "start_time": "2022-10-13T11:47:31.862Z"
   },
   {
    "duration": 7,
    "start_time": "2022-10-13T11:47:39.641Z"
   },
   {
    "duration": 1053,
    "start_time": "2022-10-13T11:47:48.349Z"
   },
   {
    "duration": 468,
    "start_time": "2022-10-13T11:47:49.404Z"
   },
   {
    "duration": 19,
    "start_time": "2022-10-13T11:47:49.874Z"
   },
   {
    "duration": 18,
    "start_time": "2022-10-13T11:47:49.895Z"
   },
   {
    "duration": 23,
    "start_time": "2022-10-13T11:47:49.915Z"
   },
   {
    "duration": 53,
    "start_time": "2022-10-13T11:47:49.940Z"
   },
   {
    "duration": 39,
    "start_time": "2022-10-13T11:47:49.995Z"
   },
   {
    "duration": 35,
    "start_time": "2022-10-13T11:47:50.035Z"
   },
   {
    "duration": 14,
    "start_time": "2022-10-13T11:47:50.072Z"
   },
   {
    "duration": 13,
    "start_time": "2022-10-13T11:47:50.087Z"
   },
   {
    "duration": 38,
    "start_time": "2022-10-13T11:47:50.102Z"
   },
   {
    "duration": 45,
    "start_time": "2022-10-13T11:47:50.141Z"
   },
   {
    "duration": 61,
    "start_time": "2022-10-13T11:47:50.188Z"
   },
   {
    "duration": 45,
    "start_time": "2022-10-13T11:47:50.252Z"
   },
   {
    "duration": 51,
    "start_time": "2022-10-13T11:47:50.299Z"
   },
   {
    "duration": 91,
    "start_time": "2022-10-13T11:47:50.352Z"
   },
   {
    "duration": 6,
    "start_time": "2022-10-13T11:47:50.535Z"
   },
   {
    "duration": 98,
    "start_time": "2022-10-13T11:47:50.544Z"
   },
   {
    "duration": 10,
    "start_time": "2022-10-13T11:47:50.644Z"
   },
   {
    "duration": 8,
    "start_time": "2022-10-13T11:47:50.656Z"
   },
   {
    "duration": 10,
    "start_time": "2022-10-13T11:47:50.666Z"
   },
   {
    "duration": 4328,
    "start_time": "2022-10-13T11:47:50.678Z"
   },
   {
    "duration": 5,
    "start_time": "2022-10-13T11:47:55.007Z"
   },
   {
    "duration": 10,
    "start_time": "2022-10-13T11:47:55.014Z"
   },
   {
    "duration": 4,
    "start_time": "2022-10-13T11:48:58.340Z"
   },
   {
    "duration": 7,
    "start_time": "2022-10-13T11:49:08.372Z"
   },
   {
    "duration": 1113,
    "start_time": "2022-10-13T11:49:22.145Z"
   },
   {
    "duration": 422,
    "start_time": "2022-10-13T11:49:23.261Z"
   },
   {
    "duration": 16,
    "start_time": "2022-10-13T11:49:23.685Z"
   },
   {
    "duration": 8,
    "start_time": "2022-10-13T11:49:23.704Z"
   },
   {
    "duration": 27,
    "start_time": "2022-10-13T11:49:23.714Z"
   },
   {
    "duration": 40,
    "start_time": "2022-10-13T11:49:23.743Z"
   },
   {
    "duration": 49,
    "start_time": "2022-10-13T11:49:23.785Z"
   },
   {
    "duration": 34,
    "start_time": "2022-10-13T11:49:23.836Z"
   },
   {
    "duration": 15,
    "start_time": "2022-10-13T11:49:23.872Z"
   },
   {
    "duration": 13,
    "start_time": "2022-10-13T11:49:23.890Z"
   },
   {
    "duration": 42,
    "start_time": "2022-10-13T11:49:23.905Z"
   },
   {
    "duration": 46,
    "start_time": "2022-10-13T11:49:23.948Z"
   },
   {
    "duration": 66,
    "start_time": "2022-10-13T11:49:23.995Z"
   },
   {
    "duration": 49,
    "start_time": "2022-10-13T11:49:24.062Z"
   },
   {
    "duration": 50,
    "start_time": "2022-10-13T11:49:24.113Z"
   },
   {
    "duration": 269,
    "start_time": "2022-10-13T11:49:24.165Z"
   },
   {
    "duration": 4,
    "start_time": "2022-10-13T11:49:24.436Z"
   },
   {
    "duration": 9,
    "start_time": "2022-10-13T11:49:24.441Z"
   },
   {
    "duration": 11,
    "start_time": "2022-10-13T11:49:24.452Z"
   },
   {
    "duration": 9,
    "start_time": "2022-10-13T11:49:24.465Z"
   },
   {
    "duration": 9,
    "start_time": "2022-10-13T11:49:24.475Z"
   },
   {
    "duration": 4397,
    "start_time": "2022-10-13T11:49:24.485Z"
   },
   {
    "duration": 6,
    "start_time": "2022-10-13T11:49:28.884Z"
   },
   {
    "duration": 103,
    "start_time": "2022-10-13T11:53:00.003Z"
   },
   {
    "duration": 1024,
    "start_time": "2022-10-13T11:53:33.576Z"
   },
   {
    "duration": 384,
    "start_time": "2022-10-13T11:53:34.601Z"
   },
   {
    "duration": 15,
    "start_time": "2022-10-13T11:53:34.987Z"
   },
   {
    "duration": 25,
    "start_time": "2022-10-13T11:53:35.004Z"
   },
   {
    "duration": 35,
    "start_time": "2022-10-13T11:53:35.031Z"
   },
   {
    "duration": 50,
    "start_time": "2022-10-13T11:53:35.068Z"
   },
   {
    "duration": 34,
    "start_time": "2022-10-13T11:53:35.120Z"
   },
   {
    "duration": 33,
    "start_time": "2022-10-13T11:53:35.155Z"
   },
   {
    "duration": 13,
    "start_time": "2022-10-13T11:53:35.190Z"
   },
   {
    "duration": 30,
    "start_time": "2022-10-13T11:53:35.206Z"
   },
   {
    "duration": 16,
    "start_time": "2022-10-13T11:53:35.238Z"
   },
   {
    "duration": 76,
    "start_time": "2022-10-13T11:53:35.256Z"
   },
   {
    "duration": 44,
    "start_time": "2022-10-13T11:53:35.333Z"
   },
   {
    "duration": 59,
    "start_time": "2022-10-13T11:53:35.378Z"
   },
   {
    "duration": 40,
    "start_time": "2022-10-13T11:53:35.439Z"
   },
   {
    "duration": 154,
    "start_time": "2022-10-13T11:53:35.481Z"
   },
   {
    "duration": 99,
    "start_time": "2022-10-13T11:53:35.637Z"
   },
   {
    "duration": 28,
    "start_time": "2022-10-13T11:53:35.737Z"
   },
   {
    "duration": 32,
    "start_time": "2022-10-13T11:53:35.766Z"
   },
   {
    "duration": 33,
    "start_time": "2022-10-13T11:53:35.799Z"
   },
   {
    "duration": 33,
    "start_time": "2022-10-13T11:53:35.833Z"
   },
   {
    "duration": 4258,
    "start_time": "2022-10-13T11:53:35.868Z"
   },
   {
    "duration": 114,
    "start_time": "2022-10-13T11:53:40.127Z"
   },
   {
    "duration": 10,
    "start_time": "2022-10-13T11:56:54.749Z"
   },
   {
    "duration": 12,
    "start_time": "2022-10-13T11:57:01.090Z"
   },
   {
    "duration": 10,
    "start_time": "2022-10-13T11:57:06.296Z"
   },
   {
    "duration": 8,
    "start_time": "2022-10-13T11:57:11.341Z"
   },
   {
    "duration": 11,
    "start_time": "2022-10-13T11:57:17.254Z"
   },
   {
    "duration": 1110,
    "start_time": "2022-10-13T12:42:10.884Z"
   },
   {
    "duration": 410,
    "start_time": "2022-10-13T12:42:11.996Z"
   },
   {
    "duration": 16,
    "start_time": "2022-10-13T12:42:12.408Z"
   },
   {
    "duration": 19,
    "start_time": "2022-10-13T12:42:12.426Z"
   },
   {
    "duration": 17,
    "start_time": "2022-10-13T12:42:12.449Z"
   },
   {
    "duration": 49,
    "start_time": "2022-10-13T12:42:12.468Z"
   },
   {
    "duration": 46,
    "start_time": "2022-10-13T12:42:12.519Z"
   },
   {
    "duration": 34,
    "start_time": "2022-10-13T12:42:12.566Z"
   },
   {
    "duration": 31,
    "start_time": "2022-10-13T12:42:12.602Z"
   },
   {
    "duration": 15,
    "start_time": "2022-10-13T12:42:12.635Z"
   },
   {
    "duration": 22,
    "start_time": "2022-10-13T12:42:12.651Z"
   },
   {
    "duration": 65,
    "start_time": "2022-10-13T12:42:12.674Z"
   },
   {
    "duration": 43,
    "start_time": "2022-10-13T12:42:12.741Z"
   },
   {
    "duration": 63,
    "start_time": "2022-10-13T12:42:12.787Z"
   },
   {
    "duration": 41,
    "start_time": "2022-10-13T12:42:12.851Z"
   },
   {
    "duration": 340,
    "start_time": "2022-10-13T12:42:12.894Z"
   },
   {
    "duration": 4,
    "start_time": "2022-10-13T12:42:13.236Z"
   },
   {
    "duration": 23,
    "start_time": "2022-10-13T12:42:13.241Z"
   },
   {
    "duration": 30,
    "start_time": "2022-10-13T12:42:13.266Z"
   },
   {
    "duration": 16,
    "start_time": "2022-10-13T12:42:13.298Z"
   },
   {
    "duration": 23,
    "start_time": "2022-10-13T12:42:13.316Z"
   },
   {
    "duration": 4408,
    "start_time": "2022-10-13T12:42:13.341Z"
   },
   {
    "duration": 116,
    "start_time": "2022-10-13T12:42:17.751Z"
   },
   {
    "duration": 10,
    "start_time": "2022-10-13T12:42:25.595Z"
   },
   {
    "duration": 10,
    "start_time": "2022-10-13T12:42:40.893Z"
   },
   {
    "duration": 8,
    "start_time": "2022-10-13T12:43:18.067Z"
   },
   {
    "duration": 11,
    "start_time": "2022-10-13T12:44:34.499Z"
   },
   {
    "duration": 16,
    "start_time": "2022-10-13T12:44:40.288Z"
   },
   {
    "duration": 17,
    "start_time": "2022-10-13T12:44:46.911Z"
   },
   {
    "duration": 11,
    "start_time": "2022-10-13T12:46:44.645Z"
   },
   {
    "duration": 10,
    "start_time": "2022-10-13T12:46:50.606Z"
   },
   {
    "duration": 8,
    "start_time": "2022-10-13T12:46:55.969Z"
   },
   {
    "duration": 10,
    "start_time": "2022-10-13T12:50:28.123Z"
   },
   {
    "duration": 9,
    "start_time": "2022-10-13T12:50:37.566Z"
   },
   {
    "duration": 12,
    "start_time": "2022-10-13T12:51:21.790Z"
   },
   {
    "duration": 12,
    "start_time": "2022-10-13T12:51:42.226Z"
   },
   {
    "duration": 15,
    "start_time": "2022-10-13T12:52:01.429Z"
   },
   {
    "duration": 8,
    "start_time": "2022-10-13T12:54:06.047Z"
   },
   {
    "duration": 15,
    "start_time": "2022-10-13T12:54:18.657Z"
   },
   {
    "duration": 8,
    "start_time": "2022-10-13T12:54:32.852Z"
   },
   {
    "duration": 9,
    "start_time": "2022-10-13T12:54:42.203Z"
   },
   {
    "duration": 8,
    "start_time": "2022-10-13T12:54:47.475Z"
   },
   {
    "duration": 10,
    "start_time": "2022-10-13T12:55:48.769Z"
   },
   {
    "duration": 7,
    "start_time": "2022-10-13T12:56:00.393Z"
   },
   {
    "duration": 10,
    "start_time": "2022-10-13T12:56:05.123Z"
   },
   {
    "duration": 11,
    "start_time": "2022-10-13T12:56:09.396Z"
   },
   {
    "duration": 12,
    "start_time": "2022-10-13T12:56:16.368Z"
   },
   {
    "duration": 21,
    "start_time": "2022-10-13T12:56:37.753Z"
   },
   {
    "duration": 8,
    "start_time": "2022-10-13T12:56:48.004Z"
   },
   {
    "duration": 8,
    "start_time": "2022-10-13T12:56:59.951Z"
   },
   {
    "duration": 8,
    "start_time": "2022-10-13T12:57:02.349Z"
   },
   {
    "duration": 9,
    "start_time": "2022-10-13T12:57:06.308Z"
   },
   {
    "duration": 8,
    "start_time": "2022-10-13T12:57:16.165Z"
   },
   {
    "duration": 9,
    "start_time": "2022-10-13T12:57:21.861Z"
   },
   {
    "duration": 52,
    "start_time": "2022-10-13T16:33:21.297Z"
   },
   {
    "duration": 6,
    "start_time": "2022-10-13T16:33:47.955Z"
   },
   {
    "duration": 1032,
    "start_time": "2022-10-13T16:33:57.742Z"
   },
   {
    "duration": 689,
    "start_time": "2022-10-13T16:33:58.776Z"
   },
   {
    "duration": 16,
    "start_time": "2022-10-13T16:33:59.467Z"
   },
   {
    "duration": 7,
    "start_time": "2022-10-13T16:33:59.485Z"
   },
   {
    "duration": 20,
    "start_time": "2022-10-13T16:33:59.493Z"
   },
   {
    "duration": 39,
    "start_time": "2022-10-13T16:33:59.514Z"
   },
   {
    "duration": 34,
    "start_time": "2022-10-13T16:33:59.555Z"
   },
   {
    "duration": 43,
    "start_time": "2022-10-13T16:33:59.590Z"
   },
   {
    "duration": 13,
    "start_time": "2022-10-13T16:33:59.635Z"
   },
   {
    "duration": 12,
    "start_time": "2022-10-13T16:33:59.650Z"
   },
   {
    "duration": 13,
    "start_time": "2022-10-13T16:33:59.664Z"
   },
   {
    "duration": 69,
    "start_time": "2022-10-13T16:33:59.678Z"
   },
   {
    "duration": 45,
    "start_time": "2022-10-13T16:33:59.748Z"
   },
   {
    "duration": 66,
    "start_time": "2022-10-13T16:33:59.794Z"
   },
   {
    "duration": 50,
    "start_time": "2022-10-13T16:33:59.861Z"
   },
   {
    "duration": 36,
    "start_time": "2022-10-13T16:33:59.913Z"
   },
   {
    "duration": 102,
    "start_time": "2022-10-13T16:34:00.010Z"
   },
   {
    "duration": 31,
    "start_time": "2022-10-13T16:34:00.113Z"
   },
   {
    "duration": 38,
    "start_time": "2022-10-13T16:34:00.145Z"
   },
   {
    "duration": 37,
    "start_time": "2022-10-13T16:34:00.184Z"
   },
   {
    "duration": 24,
    "start_time": "2022-10-13T16:34:00.223Z"
   },
   {
    "duration": 3777,
    "start_time": "2022-10-13T16:34:00.248Z"
   },
   {
    "duration": 4,
    "start_time": "2022-10-13T16:34:04.027Z"
   },
   {
    "duration": 5,
    "start_time": "2022-10-13T16:34:54.932Z"
   },
   {
    "duration": 5,
    "start_time": "2022-10-13T16:35:25.129Z"
   },
   {
    "duration": 6,
    "start_time": "2022-10-13T16:35:32.981Z"
   },
   {
    "duration": 8,
    "start_time": "2022-10-13T16:35:43.124Z"
   },
   {
    "duration": 7,
    "start_time": "2022-10-13T16:36:21.643Z"
   },
   {
    "duration": 9,
    "start_time": "2022-10-13T16:36:33.898Z"
   },
   {
    "duration": 7,
    "start_time": "2022-10-13T16:36:47.318Z"
   },
   {
    "duration": 120,
    "start_time": "2022-10-13T16:42:37.563Z"
   },
   {
    "duration": 121,
    "start_time": "2022-10-13T16:42:46.498Z"
   },
   {
    "duration": 8,
    "start_time": "2022-10-13T16:43:24.162Z"
   },
   {
    "duration": 3693,
    "start_time": "2022-10-13T16:46:08.723Z"
   },
   {
    "duration": 1290,
    "start_time": "2022-10-14T09:30:10.371Z"
   },
   {
    "duration": 1127,
    "start_time": "2022-10-14T09:30:14.541Z"
   },
   {
    "duration": 690,
    "start_time": "2022-10-14T09:30:15.670Z"
   },
   {
    "duration": 16,
    "start_time": "2022-10-14T09:30:16.362Z"
   },
   {
    "duration": 9,
    "start_time": "2022-10-14T09:30:16.380Z"
   },
   {
    "duration": 18,
    "start_time": "2022-10-14T09:30:16.391Z"
   },
   {
    "duration": 50,
    "start_time": "2022-10-14T09:30:16.410Z"
   },
   {
    "duration": 36,
    "start_time": "2022-10-14T09:30:16.461Z"
   },
   {
    "duration": 37,
    "start_time": "2022-10-14T09:30:16.498Z"
   },
   {
    "duration": 13,
    "start_time": "2022-10-14T09:30:16.537Z"
   },
   {
    "duration": 12,
    "start_time": "2022-10-14T09:30:16.553Z"
   },
   {
    "duration": 11,
    "start_time": "2022-10-14T09:30:16.567Z"
   },
   {
    "duration": 69,
    "start_time": "2022-10-14T09:30:16.580Z"
   },
   {
    "duration": 41,
    "start_time": "2022-10-14T09:30:16.650Z"
   },
   {
    "duration": 56,
    "start_time": "2022-10-14T09:30:16.692Z"
   },
   {
    "duration": 35,
    "start_time": "2022-10-14T09:30:16.750Z"
   },
   {
    "duration": 123,
    "start_time": "2022-10-14T09:30:16.787Z"
   },
   {
    "duration": 5,
    "start_time": "2022-10-14T09:30:16.912Z"
   },
   {
    "duration": 90,
    "start_time": "2022-10-14T09:30:16.920Z"
   },
   {
    "duration": 128,
    "start_time": "2022-10-14T09:30:17.012Z"
   },
   {
    "duration": 0,
    "start_time": "2022-10-14T09:30:17.141Z"
   },
   {
    "duration": 0,
    "start_time": "2022-10-14T09:30:17.143Z"
   },
   {
    "duration": 0,
    "start_time": "2022-10-14T09:30:17.145Z"
   },
   {
    "duration": 3,
    "start_time": "2022-10-14T09:31:25.731Z"
   },
   {
    "duration": 9,
    "start_time": "2022-10-14T09:31:28.058Z"
   },
   {
    "duration": 3,
    "start_time": "2022-10-14T09:31:58.061Z"
   },
   {
    "duration": 9,
    "start_time": "2022-10-14T09:32:02.161Z"
   },
   {
    "duration": 4,
    "start_time": "2022-10-14T09:32:08.905Z"
   },
   {
    "duration": 13,
    "start_time": "2022-10-14T09:32:11.410Z"
   },
   {
    "duration": 1101,
    "start_time": "2022-10-14T09:34:32.244Z"
   },
   {
    "duration": 355,
    "start_time": "2022-10-14T09:34:33.346Z"
   },
   {
    "duration": 16,
    "start_time": "2022-10-14T09:34:33.702Z"
   },
   {
    "duration": 11,
    "start_time": "2022-10-14T09:34:33.720Z"
   },
   {
    "duration": 14,
    "start_time": "2022-10-14T09:34:33.733Z"
   },
   {
    "duration": 40,
    "start_time": "2022-10-14T09:34:33.749Z"
   },
   {
    "duration": 52,
    "start_time": "2022-10-14T09:34:33.791Z"
   },
   {
    "duration": 34,
    "start_time": "2022-10-14T09:34:33.845Z"
   },
   {
    "duration": 34,
    "start_time": "2022-10-14T09:34:33.881Z"
   },
   {
    "duration": 13,
    "start_time": "2022-10-14T09:34:33.916Z"
   },
   {
    "duration": 13,
    "start_time": "2022-10-14T09:34:33.931Z"
   },
   {
    "duration": 67,
    "start_time": "2022-10-14T09:34:33.945Z"
   },
   {
    "duration": 40,
    "start_time": "2022-10-14T09:34:34.014Z"
   },
   {
    "duration": 74,
    "start_time": "2022-10-14T09:34:34.057Z"
   },
   {
    "duration": 42,
    "start_time": "2022-10-14T09:34:34.132Z"
   },
   {
    "duration": 133,
    "start_time": "2022-10-14T09:34:34.176Z"
   },
   {
    "duration": 5,
    "start_time": "2022-10-14T09:34:34.311Z"
   },
   {
    "duration": 99,
    "start_time": "2022-10-14T09:34:34.318Z"
   },
   {
    "duration": 17,
    "start_time": "2022-10-14T09:34:34.419Z"
   },
   {
    "duration": 8,
    "start_time": "2022-10-14T09:34:34.437Z"
   },
   {
    "duration": 14,
    "start_time": "2022-10-14T09:34:34.446Z"
   },
   {
    "duration": 122,
    "start_time": "2022-10-14T09:34:34.461Z"
   },
   {
    "duration": 4,
    "start_time": "2022-10-14T09:36:42.847Z"
   },
   {
    "duration": 1032,
    "start_time": "2022-10-14T09:36:48.265Z"
   },
   {
    "duration": 360,
    "start_time": "2022-10-14T09:36:49.299Z"
   },
   {
    "duration": 15,
    "start_time": "2022-10-14T09:36:49.660Z"
   },
   {
    "duration": 8,
    "start_time": "2022-10-14T09:36:49.677Z"
   },
   {
    "duration": 9,
    "start_time": "2022-10-14T09:36:49.686Z"
   },
   {
    "duration": 43,
    "start_time": "2022-10-14T09:36:49.697Z"
   },
   {
    "duration": 34,
    "start_time": "2022-10-14T09:36:49.741Z"
   },
   {
    "duration": 56,
    "start_time": "2022-10-14T09:36:49.777Z"
   },
   {
    "duration": 15,
    "start_time": "2022-10-14T09:36:49.834Z"
   },
   {
    "duration": 13,
    "start_time": "2022-10-14T09:36:49.852Z"
   },
   {
    "duration": 14,
    "start_time": "2022-10-14T09:36:49.866Z"
   },
   {
    "duration": 43,
    "start_time": "2022-10-14T09:36:49.908Z"
   },
   {
    "duration": 40,
    "start_time": "2022-10-14T09:36:49.952Z"
   },
   {
    "duration": 56,
    "start_time": "2022-10-14T09:36:49.993Z"
   },
   {
    "duration": 34,
    "start_time": "2022-10-14T09:36:50.050Z"
   },
   {
    "duration": 128,
    "start_time": "2022-10-14T09:36:50.086Z"
   },
   {
    "duration": 95,
    "start_time": "2022-10-14T09:36:50.215Z"
   },
   {
    "duration": 13,
    "start_time": "2022-10-14T09:36:50.312Z"
   },
   {
    "duration": 115,
    "start_time": "2022-10-14T09:36:50.326Z"
   },
   {
    "duration": 0,
    "start_time": "2022-10-14T09:36:50.443Z"
   },
   {
    "duration": 1,
    "start_time": "2022-10-14T09:36:50.443Z"
   },
   {
    "duration": 0,
    "start_time": "2022-10-14T09:36:50.445Z"
   },
   {
    "duration": 5,
    "start_time": "2022-10-14T09:37:54.178Z"
   },
   {
    "duration": 10,
    "start_time": "2022-10-14T09:37:58.370Z"
   },
   {
    "duration": 8,
    "start_time": "2022-10-14T09:38:00.408Z"
   },
   {
    "duration": 10,
    "start_time": "2022-10-14T09:38:02.679Z"
   },
   {
    "duration": 15,
    "start_time": "2022-10-14T09:38:21.734Z"
   },
   {
    "duration": 1100,
    "start_time": "2022-10-14T10:59:15.325Z"
   },
   {
    "duration": 375,
    "start_time": "2022-10-14T10:59:16.427Z"
   },
   {
    "duration": 19,
    "start_time": "2022-10-14T10:59:16.804Z"
   },
   {
    "duration": 9,
    "start_time": "2022-10-14T10:59:16.826Z"
   },
   {
    "duration": 20,
    "start_time": "2022-10-14T10:59:16.837Z"
   },
   {
    "duration": 50,
    "start_time": "2022-10-14T10:59:16.859Z"
   },
   {
    "duration": 34,
    "start_time": "2022-10-14T10:59:16.911Z"
   },
   {
    "duration": 34,
    "start_time": "2022-10-14T10:59:16.947Z"
   },
   {
    "duration": 34,
    "start_time": "2022-10-14T10:59:16.983Z"
   },
   {
    "duration": 20,
    "start_time": "2022-10-14T10:59:17.020Z"
   },
   {
    "duration": 14,
    "start_time": "2022-10-14T10:59:17.042Z"
   },
   {
    "duration": 72,
    "start_time": "2022-10-14T10:59:17.058Z"
   },
   {
    "duration": 40,
    "start_time": "2022-10-14T10:59:17.132Z"
   },
   {
    "duration": 61,
    "start_time": "2022-10-14T10:59:17.174Z"
   },
   {
    "duration": 34,
    "start_time": "2022-10-14T10:59:17.236Z"
   },
   {
    "duration": 62,
    "start_time": "2022-10-14T10:59:17.272Z"
   },
   {
    "duration": 6,
    "start_time": "2022-10-14T10:59:17.409Z"
   },
   {
    "duration": 109,
    "start_time": "2022-10-14T10:59:17.416Z"
   },
   {
    "duration": 13,
    "start_time": "2022-10-14T10:59:17.527Z"
   },
   {
    "duration": 9,
    "start_time": "2022-10-14T10:59:17.542Z"
   },
   {
    "duration": 11,
    "start_time": "2022-10-14T10:59:17.553Z"
   },
   {
    "duration": 212,
    "start_time": "2022-10-14T10:59:17.567Z"
   },
   {
    "duration": 5,
    "start_time": "2022-10-14T11:01:07.533Z"
   },
   {
    "duration": 1081,
    "start_time": "2022-10-14T11:02:05.458Z"
   },
   {
    "duration": 436,
    "start_time": "2022-10-14T11:02:06.541Z"
   },
   {
    "duration": 16,
    "start_time": "2022-10-14T11:02:06.978Z"
   },
   {
    "duration": 10,
    "start_time": "2022-10-14T11:02:06.996Z"
   },
   {
    "duration": 33,
    "start_time": "2022-10-14T11:02:07.008Z"
   },
   {
    "duration": 61,
    "start_time": "2022-10-14T11:02:07.042Z"
   },
   {
    "duration": 35,
    "start_time": "2022-10-14T11:02:07.104Z"
   },
   {
    "duration": 33,
    "start_time": "2022-10-14T11:02:07.141Z"
   },
   {
    "duration": 44,
    "start_time": "2022-10-14T11:02:07.175Z"
   },
   {
    "duration": 27,
    "start_time": "2022-10-14T11:02:07.222Z"
   },
   {
    "duration": 19,
    "start_time": "2022-10-14T11:02:07.251Z"
   },
   {
    "duration": 70,
    "start_time": "2022-10-14T11:02:07.271Z"
   },
   {
    "duration": 78,
    "start_time": "2022-10-14T11:02:07.343Z"
   },
   {
    "duration": 48,
    "start_time": "2022-10-14T11:02:07.422Z"
   },
   {
    "duration": 40,
    "start_time": "2022-10-14T11:02:07.471Z"
   },
   {
    "duration": 298,
    "start_time": "2022-10-14T11:02:07.513Z"
   },
   {
    "duration": 8,
    "start_time": "2022-10-14T11:02:07.812Z"
   },
   {
    "duration": 28,
    "start_time": "2022-10-14T11:02:07.821Z"
   },
   {
    "duration": 26,
    "start_time": "2022-10-14T11:02:07.850Z"
   },
   {
    "duration": 12,
    "start_time": "2022-10-14T11:02:07.878Z"
   },
   {
    "duration": 29,
    "start_time": "2022-10-14T11:02:07.892Z"
   },
   {
    "duration": 120,
    "start_time": "2022-10-14T11:02:07.923Z"
   },
   {
    "duration": 6,
    "start_time": "2022-10-14T11:02:26.245Z"
   },
   {
    "duration": 1042,
    "start_time": "2022-10-14T11:02:35.369Z"
   },
   {
    "duration": 483,
    "start_time": "2022-10-14T11:02:36.413Z"
   },
   {
    "duration": 15,
    "start_time": "2022-10-14T11:02:36.897Z"
   },
   {
    "duration": 28,
    "start_time": "2022-10-14T11:02:36.914Z"
   },
   {
    "duration": 21,
    "start_time": "2022-10-14T11:02:36.944Z"
   },
   {
    "duration": 62,
    "start_time": "2022-10-14T11:02:36.966Z"
   },
   {
    "duration": 35,
    "start_time": "2022-10-14T11:02:37.029Z"
   },
   {
    "duration": 48,
    "start_time": "2022-10-14T11:02:37.066Z"
   },
   {
    "duration": 13,
    "start_time": "2022-10-14T11:02:37.115Z"
   },
   {
    "duration": 28,
    "start_time": "2022-10-14T11:02:37.130Z"
   },
   {
    "duration": 22,
    "start_time": "2022-10-14T11:02:37.160Z"
   },
   {
    "duration": 57,
    "start_time": "2022-10-14T11:02:37.184Z"
   },
   {
    "duration": 69,
    "start_time": "2022-10-14T11:02:37.243Z"
   },
   {
    "duration": 68,
    "start_time": "2022-10-14T11:02:37.315Z"
   },
   {
    "duration": 49,
    "start_time": "2022-10-14T11:02:37.385Z"
   },
   {
    "duration": 77,
    "start_time": "2022-10-14T11:02:37.436Z"
   },
   {
    "duration": 108,
    "start_time": "2022-10-14T11:02:37.514Z"
   },
   {
    "duration": 36,
    "start_time": "2022-10-14T11:02:37.624Z"
   },
   {
    "duration": 33,
    "start_time": "2022-10-14T11:02:37.661Z"
   },
   {
    "duration": 22,
    "start_time": "2022-10-14T11:02:37.696Z"
   },
   {
    "duration": 23,
    "start_time": "2022-10-14T11:02:37.720Z"
   },
   {
    "duration": 146,
    "start_time": "2022-10-14T11:02:37.745Z"
   },
   {
    "duration": 5,
    "start_time": "2022-10-14T11:04:03.371Z"
   },
   {
    "duration": 1168,
    "start_time": "2022-10-14T11:04:09.178Z"
   },
   {
    "duration": 436,
    "start_time": "2022-10-14T11:04:10.348Z"
   },
   {
    "duration": 15,
    "start_time": "2022-10-14T11:04:10.786Z"
   },
   {
    "duration": 13,
    "start_time": "2022-10-14T11:04:10.803Z"
   },
   {
    "duration": 11,
    "start_time": "2022-10-14T11:04:10.818Z"
   },
   {
    "duration": 41,
    "start_time": "2022-10-14T11:04:10.831Z"
   },
   {
    "duration": 50,
    "start_time": "2022-10-14T11:04:10.874Z"
   },
   {
    "duration": 31,
    "start_time": "2022-10-14T11:04:10.926Z"
   },
   {
    "duration": 13,
    "start_time": "2022-10-14T11:04:10.959Z"
   },
   {
    "duration": 36,
    "start_time": "2022-10-14T11:04:10.973Z"
   },
   {
    "duration": 13,
    "start_time": "2022-10-14T11:04:11.010Z"
   },
   {
    "duration": 45,
    "start_time": "2022-10-14T11:04:11.024Z"
   },
   {
    "duration": 62,
    "start_time": "2022-10-14T11:04:11.071Z"
   },
   {
    "duration": 43,
    "start_time": "2022-10-14T11:04:11.135Z"
   },
   {
    "duration": 46,
    "start_time": "2022-10-14T11:04:11.180Z"
   },
   {
    "duration": 83,
    "start_time": "2022-10-14T11:04:11.228Z"
   },
   {
    "duration": 5,
    "start_time": "2022-10-14T11:04:11.312Z"
   },
   {
    "duration": 34,
    "start_time": "2022-10-14T11:04:11.409Z"
   },
   {
    "duration": 15,
    "start_time": "2022-10-14T11:04:11.444Z"
   },
   {
    "duration": 10,
    "start_time": "2022-10-14T11:04:11.460Z"
   },
   {
    "duration": 8,
    "start_time": "2022-10-14T11:04:11.472Z"
   },
   {
    "duration": 3823,
    "start_time": "2022-10-14T11:04:11.482Z"
   },
   {
    "duration": 3708,
    "start_time": "2022-10-14T11:06:05.734Z"
   },
   {
    "duration": 111,
    "start_time": "2022-10-14T11:13:13.299Z"
   },
   {
    "duration": 55,
    "start_time": "2022-10-14T11:37:17.473Z"
   },
   {
    "duration": 1074,
    "start_time": "2022-10-14T11:37:38.919Z"
   },
   {
    "duration": 362,
    "start_time": "2022-10-14T11:37:39.997Z"
   },
   {
    "duration": 15,
    "start_time": "2022-10-14T11:37:40.361Z"
   },
   {
    "duration": 58,
    "start_time": "2022-10-14T11:37:40.378Z"
   },
   {
    "duration": 33,
    "start_time": "2022-10-14T11:37:40.437Z"
   },
   {
    "duration": 68,
    "start_time": "2022-10-14T11:37:40.471Z"
   },
   {
    "duration": 41,
    "start_time": "2022-10-14T11:37:40.541Z"
   },
   {
    "duration": 40,
    "start_time": "2022-10-14T11:37:40.583Z"
   },
   {
    "duration": 13,
    "start_time": "2022-10-14T11:37:40.627Z"
   },
   {
    "duration": 28,
    "start_time": "2022-10-14T11:37:40.642Z"
   },
   {
    "duration": 43,
    "start_time": "2022-10-14T11:37:40.672Z"
   },
   {
    "duration": 60,
    "start_time": "2022-10-14T11:37:40.717Z"
   },
   {
    "duration": 41,
    "start_time": "2022-10-14T11:37:40.778Z"
   },
   {
    "duration": 49,
    "start_time": "2022-10-14T11:37:40.822Z"
   },
   {
    "duration": 43,
    "start_time": "2022-10-14T11:37:40.873Z"
   },
   {
    "duration": 94,
    "start_time": "2022-10-14T11:37:40.918Z"
   },
   {
    "duration": 96,
    "start_time": "2022-10-14T11:37:41.013Z"
   },
   {
    "duration": 9,
    "start_time": "2022-10-14T11:37:41.111Z"
   },
   {
    "duration": 13,
    "start_time": "2022-10-14T11:37:41.121Z"
   },
   {
    "duration": 9,
    "start_time": "2022-10-14T11:37:41.136Z"
   },
   {
    "duration": 7,
    "start_time": "2022-10-14T11:37:41.146Z"
   },
   {
    "duration": 3553,
    "start_time": "2022-10-14T11:37:41.154Z"
   },
   {
    "duration": 1056,
    "start_time": "2022-10-14T11:41:12.841Z"
   },
   {
    "duration": 355,
    "start_time": "2022-10-14T11:41:13.900Z"
   },
   {
    "duration": 15,
    "start_time": "2022-10-14T11:41:14.256Z"
   },
   {
    "duration": 32,
    "start_time": "2022-10-14T11:41:14.273Z"
   },
   {
    "duration": 20,
    "start_time": "2022-10-14T11:41:14.307Z"
   },
   {
    "duration": 58,
    "start_time": "2022-10-14T11:41:14.329Z"
   },
   {
    "duration": 34,
    "start_time": "2022-10-14T11:41:14.389Z"
   },
   {
    "duration": 33,
    "start_time": "2022-10-14T11:41:14.425Z"
   },
   {
    "duration": 25,
    "start_time": "2022-10-14T11:41:14.460Z"
   },
   {
    "duration": 25,
    "start_time": "2022-10-14T11:41:14.486Z"
   },
   {
    "duration": 42,
    "start_time": "2022-10-14T11:41:14.513Z"
   },
   {
    "duration": 47,
    "start_time": "2022-10-14T11:41:14.557Z"
   },
   {
    "duration": 40,
    "start_time": "2022-10-14T11:41:14.606Z"
   },
   {
    "duration": 42,
    "start_time": "2022-10-14T11:41:14.648Z"
   },
   {
    "duration": 43,
    "start_time": "2022-10-14T11:41:14.691Z"
   },
   {
    "duration": 174,
    "start_time": "2022-10-14T11:41:14.736Z"
   },
   {
    "duration": 5,
    "start_time": "2022-10-14T11:41:14.912Z"
   },
   {
    "duration": 124,
    "start_time": "2022-10-14T11:41:14.918Z"
   },
   {
    "duration": 25,
    "start_time": "2022-10-14T11:41:15.043Z"
   },
   {
    "duration": 44,
    "start_time": "2022-10-14T11:41:15.070Z"
   },
   {
    "duration": 30,
    "start_time": "2022-10-14T11:41:15.116Z"
   },
   {
    "duration": 3462,
    "start_time": "2022-10-14T11:41:15.147Z"
   },
   {
    "duration": 3552,
    "start_time": "2022-10-14T12:17:19.083Z"
   },
   {
    "duration": 1089,
    "start_time": "2022-10-14T12:20:13.676Z"
   },
   {
    "duration": 356,
    "start_time": "2022-10-14T12:20:14.767Z"
   },
   {
    "duration": 16,
    "start_time": "2022-10-14T12:20:15.125Z"
   },
   {
    "duration": 43,
    "start_time": "2022-10-14T12:20:15.143Z"
   },
   {
    "duration": 26,
    "start_time": "2022-10-14T12:20:15.188Z"
   },
   {
    "duration": 76,
    "start_time": "2022-10-14T12:20:15.216Z"
   },
   {
    "duration": 34,
    "start_time": "2022-10-14T12:20:15.293Z"
   },
   {
    "duration": 31,
    "start_time": "2022-10-14T12:20:15.329Z"
   },
   {
    "duration": 16,
    "start_time": "2022-10-14T12:20:15.361Z"
   },
   {
    "duration": 24,
    "start_time": "2022-10-14T12:20:15.380Z"
   },
   {
    "duration": 25,
    "start_time": "2022-10-14T12:20:15.405Z"
   },
   {
    "duration": 91,
    "start_time": "2022-10-14T12:20:15.431Z"
   },
   {
    "duration": 40,
    "start_time": "2022-10-14T12:20:15.523Z"
   },
   {
    "duration": 60,
    "start_time": "2022-10-14T12:20:15.565Z"
   },
   {
    "duration": 33,
    "start_time": "2022-10-14T12:20:15.627Z"
   },
   {
    "duration": 37,
    "start_time": "2022-10-14T12:20:15.974Z"
   },
   {
    "duration": 218,
    "start_time": "2022-10-14T12:20:16.013Z"
   },
   {
    "duration": 55,
    "start_time": "2022-10-14T12:20:16.233Z"
   },
   {
    "duration": 31,
    "start_time": "2022-10-14T12:20:16.289Z"
   },
   {
    "duration": 37,
    "start_time": "2022-10-14T12:20:16.322Z"
   },
   {
    "duration": 49,
    "start_time": "2022-10-14T12:20:16.361Z"
   },
   {
    "duration": 3504,
    "start_time": "2022-10-14T12:20:16.411Z"
   }
  ],
  "kernelspec": {
   "display_name": "Python 3 (ipykernel)",
   "language": "python",
   "name": "python3"
  },
  "language_info": {
   "codemirror_mode": {
    "name": "ipython",
    "version": 3
   },
   "file_extension": ".py",
   "mimetype": "text/x-python",
   "name": "python",
   "nbconvert_exporter": "python",
   "pygments_lexer": "ipython3",
   "version": "3.10.11"
  },
  "toc": {
   "base_numbering": 1,
   "nav_menu": {},
   "number_sections": true,
   "sideBar": true,
   "skip_h1_title": true,
   "title_cell": "Table of Contents",
   "title_sidebar": "Contents",
   "toc_cell": false,
   "toc_position": {},
   "toc_section_display": true,
   "toc_window_display": false
  }
 },
 "nbformat": 4,
 "nbformat_minor": 2
}
