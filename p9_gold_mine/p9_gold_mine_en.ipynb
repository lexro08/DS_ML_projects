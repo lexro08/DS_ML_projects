{
 "cells": [
  {
   "cell_type": "markdown",
   "metadata": {},
   "source": [
    "# Recovery of gold from ore"
   ]
  },
  {
   "cell_type": "markdown",
   "metadata": {},
   "source": [
    "It is necessary to prepare a prototype of a machine learning model for the \"Digit\". The company develops solutions for the efficient operation of industrial enterprises.\n",
    "\n",
    "The model should predict the recovery rate of gold from gold-bearing ore. We use data with extraction and purification parameters.\n",
    "\n",
    "The model will help optimize production so as not to launch an enterprise with unprofitable characteristics.\n",
    "\n",
    "We need to:\n",
    "\n",
    "1. Prepare the data;\n",
    "2. Conduct a research analysis of the data;\n",
    "3. Build and train a model."
   ]
  },
  {
   "cell_type": "markdown",
   "metadata": {},
   "source": [
    "## Technology."
   ]
  },
  {
   "cell_type": "markdown",
   "metadata": {},
   "source": [
    "**Stages of obtaining gold from mining ore**\n",
    "\n",
    "1. *Flotation*\n",
    "\n",
    "A mixture of gold-bearing ore is fed into the flotation plant. After enrichment, a rough concentrate and \"dump tails\" are obtained, that is, product residues with a low concentration of valuable metals.\n",
    "The stability of this process is affected by the unstable and not optimal physico-chemical state of the flotation pulp (a mixture of solid particles and liquid).\n",
    "\n",
    "\n",
    "2. *Cleaning*\n",
    "\n",
    "The rough concentrate undergoes two purifications. At the output, the final concentrate and new dump tails are obtained."
   ]
  },
  {
   "cell_type": "markdown",
   "metadata": {},
   "source": [
    "**Technological process**\n",
    "\n",
    "- Rougher feed — raw materials\n",
    "- Rougher additives (or reagent additives) — Flotation reagents: Xanthate, Sulfate, Depressant\n",
    "- Xanthate **— xanthogenate (promoter, or flotation activator);\n",
    "- Sulfate — sulfate (in this production sodium sulfide);\n",
    "- Depressant — depressant (sodium silicate).\n",
    "- Rougher process (English \"rough process\") — flotation\n",
    "- Rougher tails — dump tails\n",
    "- Float banks — flotation plant\n",
    "- Cleaner process — cleaning\n",
    "- Rougher Au — rough gold concentrate\n",
    "- Final Au — final gold concentrate\n",
    "\n",
    "**Stage Parameters**\n",
    "\n",
    "- air amount — air volume\n",
    "- fluid levels — liquid level\n",
    "- feed size — the size of the raw material granules\n",
    "- feed rate — feed rate"
   ]
  },
  {
   "cell_type": "markdown",
   "metadata": {},
   "source": [
    "According to the provided information, the data in the upload is presented in the following form:\n",
    "\n",
    "**Type of feature**\n",
    "- the general name of the attribute [stage].[parameter type].[parameter name]\n",
    "\n",
    "**Possible values for the [stage] block:**\n",
    "- rougher — flotation\n",
    "- primary_cleaner — primary cleaning\n",
    "- secondary_cleaner — secondary cleaning\n",
    "- final — final characteristics\n",
    "\n",
    "**Possible values for the [parameter type] block:**\n",
    "- input — raw material parameters\n",
    "- output — product parameters\n",
    "- state — parameters characterizing the current state of the stage\n",
    "- calculation — calculated characteristics"
   ]
  },
  {
   "cell_type": "markdown",
   "metadata": {},
   "source": [
    "## Data preprocessing"
   ]
  },
  {
   "cell_type": "code",
   "execution_count": 1,
   "metadata": {},
   "outputs": [],
   "source": [
    "\n",
    "import os\n",
    "import pandas as pd\n",
    "import numpy as np\n",
    "import matplotlib.pyplot as plt\n",
    "from numpy.random import RandomState\n",
    "from scipy import stats as st\n",
    "from numpy.random import RandomState\n",
    "from sklearn.model_selection import train_test_split, cross_val_score\n",
    "from sklearn.linear_model import LinearRegression\n",
    "from sklearn.tree import DecisionTreeRegressor\n",
    "from sklearn.ensemble import RandomForestRegressor\n",
    "from sklearn.preprocessing import StandardScaler\n",
    "from sklearn.utils import shuffle\n",
    "from sklearn.metrics import make_scorer, mean_absolute_error, mean_squared_error, precision_score, recall_score, f1_score, roc_auc_score, confusion_matrix\n",
    "from sklearn.model_selection import GridSearchCV\n",
    "from sklearn.dummy import DummyRegressor"
   ]
  },
  {
   "cell_type": "markdown",
   "metadata": {},
   "source": [
    "### 1.1. Data introduction"
   ]
  },
  {
   "cell_type": "code",
   "execution_count": 2,
   "metadata": {},
   "outputs": [],
   "source": [
    "try:\n",
    "    \n",
    "    df_train = pd.read_csv('gold_recovery_train_new.csv', index_col = 'date')\n",
    "    df_test = pd.read_csv('gold_recovery_test_new.csv', index_col = 'date')\n",
    "    df_full = pd.read_csv('gold_recovery_full_new.csv', index_col = 'date')\n",
    "\n",
    "except:\n",
    "    #\n",
    "    df_train = pd.read_csv('/datasets/gold_recovery_train_new.csv', index_col = 'date')\n",
    "    df_test = pd.read_csv('/datasets/gold_recovery_test_new.csv', index_col = 'date')\n",
    "    df_full = pd.read_csv('/datasets/gold_recovery_full_new.csv', index_col = 'date')"
   ]
  },
  {
   "cell_type": "markdown",
   "metadata": {},
   "source": [
    "1. Train sample"
   ]
  },
  {
   "cell_type": "code",
   "execution_count": 3,
   "metadata": {},
   "outputs": [
    {
     "data": {
      "text/html": [
       "<div>\n",
       "<style scoped>\n",
       "    .dataframe tbody tr th:only-of-type {\n",
       "        vertical-align: middle;\n",
       "    }\n",
       "\n",
       "    .dataframe tbody tr th {\n",
       "        vertical-align: top;\n",
       "    }\n",
       "\n",
       "    .dataframe thead th {\n",
       "        text-align: right;\n",
       "    }\n",
       "</style>\n",
       "<table border=\"1\" class=\"dataframe\">\n",
       "  <thead>\n",
       "    <tr style=\"text-align: right;\">\n",
       "      <th></th>\n",
       "      <th>final.output.concentrate_ag</th>\n",
       "      <th>final.output.concentrate_pb</th>\n",
       "      <th>final.output.concentrate_sol</th>\n",
       "      <th>final.output.concentrate_au</th>\n",
       "      <th>final.output.recovery</th>\n",
       "      <th>final.output.tail_ag</th>\n",
       "      <th>final.output.tail_pb</th>\n",
       "      <th>final.output.tail_sol</th>\n",
       "      <th>final.output.tail_au</th>\n",
       "      <th>primary_cleaner.input.sulfate</th>\n",
       "      <th>...</th>\n",
       "      <th>secondary_cleaner.state.floatbank4_a_air</th>\n",
       "      <th>secondary_cleaner.state.floatbank4_a_level</th>\n",
       "      <th>secondary_cleaner.state.floatbank4_b_air</th>\n",
       "      <th>secondary_cleaner.state.floatbank4_b_level</th>\n",
       "      <th>secondary_cleaner.state.floatbank5_a_air</th>\n",
       "      <th>secondary_cleaner.state.floatbank5_a_level</th>\n",
       "      <th>secondary_cleaner.state.floatbank5_b_air</th>\n",
       "      <th>secondary_cleaner.state.floatbank5_b_level</th>\n",
       "      <th>secondary_cleaner.state.floatbank6_a_air</th>\n",
       "      <th>secondary_cleaner.state.floatbank6_a_level</th>\n",
       "    </tr>\n",
       "    <tr>\n",
       "      <th>date</th>\n",
       "      <th></th>\n",
       "      <th></th>\n",
       "      <th></th>\n",
       "      <th></th>\n",
       "      <th></th>\n",
       "      <th></th>\n",
       "      <th></th>\n",
       "      <th></th>\n",
       "      <th></th>\n",
       "      <th></th>\n",
       "      <th></th>\n",
       "      <th></th>\n",
       "      <th></th>\n",
       "      <th></th>\n",
       "      <th></th>\n",
       "      <th></th>\n",
       "      <th></th>\n",
       "      <th></th>\n",
       "      <th></th>\n",
       "      <th></th>\n",
       "      <th></th>\n",
       "    </tr>\n",
       "  </thead>\n",
       "  <tbody>\n",
       "    <tr>\n",
       "      <th>2016-01-15 00:00:00</th>\n",
       "      <td>6.055403</td>\n",
       "      <td>9.889648</td>\n",
       "      <td>5.507324</td>\n",
       "      <td>42.192020</td>\n",
       "      <td>70.541216</td>\n",
       "      <td>10.411962</td>\n",
       "      <td>0.895447</td>\n",
       "      <td>16.904297</td>\n",
       "      <td>2.143149</td>\n",
       "      <td>127.092003</td>\n",
       "      <td>...</td>\n",
       "      <td>14.016835</td>\n",
       "      <td>-502.488007</td>\n",
       "      <td>12.099931</td>\n",
       "      <td>-504.715942</td>\n",
       "      <td>9.925633</td>\n",
       "      <td>-498.310211</td>\n",
       "      <td>8.079666</td>\n",
       "      <td>-500.470978</td>\n",
       "      <td>14.151341</td>\n",
       "      <td>-605.841980</td>\n",
       "    </tr>\n",
       "    <tr>\n",
       "      <th>2016-01-15 01:00:00</th>\n",
       "      <td>6.029369</td>\n",
       "      <td>9.968944</td>\n",
       "      <td>5.257781</td>\n",
       "      <td>42.701629</td>\n",
       "      <td>69.266198</td>\n",
       "      <td>10.462676</td>\n",
       "      <td>0.927452</td>\n",
       "      <td>16.634514</td>\n",
       "      <td>2.224930</td>\n",
       "      <td>125.629232</td>\n",
       "      <td>...</td>\n",
       "      <td>13.992281</td>\n",
       "      <td>-505.503262</td>\n",
       "      <td>11.950531</td>\n",
       "      <td>-501.331529</td>\n",
       "      <td>10.039245</td>\n",
       "      <td>-500.169983</td>\n",
       "      <td>7.984757</td>\n",
       "      <td>-500.582168</td>\n",
       "      <td>13.998353</td>\n",
       "      <td>-599.787184</td>\n",
       "    </tr>\n",
       "    <tr>\n",
       "      <th>2016-01-15 02:00:00</th>\n",
       "      <td>6.055926</td>\n",
       "      <td>10.213995</td>\n",
       "      <td>5.383759</td>\n",
       "      <td>42.657501</td>\n",
       "      <td>68.116445</td>\n",
       "      <td>10.507046</td>\n",
       "      <td>0.953716</td>\n",
       "      <td>16.208849</td>\n",
       "      <td>2.257889</td>\n",
       "      <td>123.819808</td>\n",
       "      <td>...</td>\n",
       "      <td>14.015015</td>\n",
       "      <td>-502.520901</td>\n",
       "      <td>11.912783</td>\n",
       "      <td>-501.133383</td>\n",
       "      <td>10.070913</td>\n",
       "      <td>-500.129135</td>\n",
       "      <td>8.013877</td>\n",
       "      <td>-500.517572</td>\n",
       "      <td>14.028663</td>\n",
       "      <td>-601.427363</td>\n",
       "    </tr>\n",
       "    <tr>\n",
       "      <th>2016-01-15 03:00:00</th>\n",
       "      <td>6.047977</td>\n",
       "      <td>9.977019</td>\n",
       "      <td>4.858634</td>\n",
       "      <td>42.689819</td>\n",
       "      <td>68.347543</td>\n",
       "      <td>10.422762</td>\n",
       "      <td>0.883763</td>\n",
       "      <td>16.532835</td>\n",
       "      <td>2.146849</td>\n",
       "      <td>122.270188</td>\n",
       "      <td>...</td>\n",
       "      <td>14.036510</td>\n",
       "      <td>-500.857308</td>\n",
       "      <td>11.999550</td>\n",
       "      <td>-501.193686</td>\n",
       "      <td>9.970366</td>\n",
       "      <td>-499.201640</td>\n",
       "      <td>7.977324</td>\n",
       "      <td>-500.255908</td>\n",
       "      <td>14.005551</td>\n",
       "      <td>-599.996129</td>\n",
       "    </tr>\n",
       "    <tr>\n",
       "      <th>2016-01-15 04:00:00</th>\n",
       "      <td>6.148599</td>\n",
       "      <td>10.142511</td>\n",
       "      <td>4.939416</td>\n",
       "      <td>42.774141</td>\n",
       "      <td>66.927016</td>\n",
       "      <td>10.360302</td>\n",
       "      <td>0.792826</td>\n",
       "      <td>16.525686</td>\n",
       "      <td>2.055292</td>\n",
       "      <td>117.988169</td>\n",
       "      <td>...</td>\n",
       "      <td>14.027298</td>\n",
       "      <td>-499.838632</td>\n",
       "      <td>11.953070</td>\n",
       "      <td>-501.053894</td>\n",
       "      <td>9.925709</td>\n",
       "      <td>-501.686727</td>\n",
       "      <td>7.894242</td>\n",
       "      <td>-500.356035</td>\n",
       "      <td>13.996647</td>\n",
       "      <td>-601.496691</td>\n",
       "    </tr>\n",
       "  </tbody>\n",
       "</table>\n",
       "<p>5 rows × 86 columns</p>\n",
       "</div>"
      ],
      "text/plain": [
       "                     final.output.concentrate_ag  final.output.concentrate_pb   \n",
       "date                                                                            \n",
       "2016-01-15 00:00:00                     6.055403                     9.889648  \\\n",
       "2016-01-15 01:00:00                     6.029369                     9.968944   \n",
       "2016-01-15 02:00:00                     6.055926                    10.213995   \n",
       "2016-01-15 03:00:00                     6.047977                     9.977019   \n",
       "2016-01-15 04:00:00                     6.148599                    10.142511   \n",
       "\n",
       "                     final.output.concentrate_sol   \n",
       "date                                                \n",
       "2016-01-15 00:00:00                      5.507324  \\\n",
       "2016-01-15 01:00:00                      5.257781   \n",
       "2016-01-15 02:00:00                      5.383759   \n",
       "2016-01-15 03:00:00                      4.858634   \n",
       "2016-01-15 04:00:00                      4.939416   \n",
       "\n",
       "                     final.output.concentrate_au  final.output.recovery   \n",
       "date                                                                      \n",
       "2016-01-15 00:00:00                    42.192020              70.541216  \\\n",
       "2016-01-15 01:00:00                    42.701629              69.266198   \n",
       "2016-01-15 02:00:00                    42.657501              68.116445   \n",
       "2016-01-15 03:00:00                    42.689819              68.347543   \n",
       "2016-01-15 04:00:00                    42.774141              66.927016   \n",
       "\n",
       "                     final.output.tail_ag  final.output.tail_pb   \n",
       "date                                                              \n",
       "2016-01-15 00:00:00             10.411962              0.895447  \\\n",
       "2016-01-15 01:00:00             10.462676              0.927452   \n",
       "2016-01-15 02:00:00             10.507046              0.953716   \n",
       "2016-01-15 03:00:00             10.422762              0.883763   \n",
       "2016-01-15 04:00:00             10.360302              0.792826   \n",
       "\n",
       "                     final.output.tail_sol  final.output.tail_au   \n",
       "date                                                               \n",
       "2016-01-15 00:00:00              16.904297              2.143149  \\\n",
       "2016-01-15 01:00:00              16.634514              2.224930   \n",
       "2016-01-15 02:00:00              16.208849              2.257889   \n",
       "2016-01-15 03:00:00              16.532835              2.146849   \n",
       "2016-01-15 04:00:00              16.525686              2.055292   \n",
       "\n",
       "                     primary_cleaner.input.sulfate  ...   \n",
       "date                                                ...   \n",
       "2016-01-15 00:00:00                     127.092003  ...  \\\n",
       "2016-01-15 01:00:00                     125.629232  ...   \n",
       "2016-01-15 02:00:00                     123.819808  ...   \n",
       "2016-01-15 03:00:00                     122.270188  ...   \n",
       "2016-01-15 04:00:00                     117.988169  ...   \n",
       "\n",
       "                     secondary_cleaner.state.floatbank4_a_air   \n",
       "date                                                            \n",
       "2016-01-15 00:00:00                                 14.016835  \\\n",
       "2016-01-15 01:00:00                                 13.992281   \n",
       "2016-01-15 02:00:00                                 14.015015   \n",
       "2016-01-15 03:00:00                                 14.036510   \n",
       "2016-01-15 04:00:00                                 14.027298   \n",
       "\n",
       "                     secondary_cleaner.state.floatbank4_a_level   \n",
       "date                                                              \n",
       "2016-01-15 00:00:00                                 -502.488007  \\\n",
       "2016-01-15 01:00:00                                 -505.503262   \n",
       "2016-01-15 02:00:00                                 -502.520901   \n",
       "2016-01-15 03:00:00                                 -500.857308   \n",
       "2016-01-15 04:00:00                                 -499.838632   \n",
       "\n",
       "                     secondary_cleaner.state.floatbank4_b_air   \n",
       "date                                                            \n",
       "2016-01-15 00:00:00                                 12.099931  \\\n",
       "2016-01-15 01:00:00                                 11.950531   \n",
       "2016-01-15 02:00:00                                 11.912783   \n",
       "2016-01-15 03:00:00                                 11.999550   \n",
       "2016-01-15 04:00:00                                 11.953070   \n",
       "\n",
       "                     secondary_cleaner.state.floatbank4_b_level   \n",
       "date                                                              \n",
       "2016-01-15 00:00:00                                 -504.715942  \\\n",
       "2016-01-15 01:00:00                                 -501.331529   \n",
       "2016-01-15 02:00:00                                 -501.133383   \n",
       "2016-01-15 03:00:00                                 -501.193686   \n",
       "2016-01-15 04:00:00                                 -501.053894   \n",
       "\n",
       "                     secondary_cleaner.state.floatbank5_a_air   \n",
       "date                                                            \n",
       "2016-01-15 00:00:00                                  9.925633  \\\n",
       "2016-01-15 01:00:00                                 10.039245   \n",
       "2016-01-15 02:00:00                                 10.070913   \n",
       "2016-01-15 03:00:00                                  9.970366   \n",
       "2016-01-15 04:00:00                                  9.925709   \n",
       "\n",
       "                     secondary_cleaner.state.floatbank5_a_level   \n",
       "date                                                              \n",
       "2016-01-15 00:00:00                                 -498.310211  \\\n",
       "2016-01-15 01:00:00                                 -500.169983   \n",
       "2016-01-15 02:00:00                                 -500.129135   \n",
       "2016-01-15 03:00:00                                 -499.201640   \n",
       "2016-01-15 04:00:00                                 -501.686727   \n",
       "\n",
       "                     secondary_cleaner.state.floatbank5_b_air   \n",
       "date                                                            \n",
       "2016-01-15 00:00:00                                  8.079666  \\\n",
       "2016-01-15 01:00:00                                  7.984757   \n",
       "2016-01-15 02:00:00                                  8.013877   \n",
       "2016-01-15 03:00:00                                  7.977324   \n",
       "2016-01-15 04:00:00                                  7.894242   \n",
       "\n",
       "                     secondary_cleaner.state.floatbank5_b_level   \n",
       "date                                                              \n",
       "2016-01-15 00:00:00                                 -500.470978  \\\n",
       "2016-01-15 01:00:00                                 -500.582168   \n",
       "2016-01-15 02:00:00                                 -500.517572   \n",
       "2016-01-15 03:00:00                                 -500.255908   \n",
       "2016-01-15 04:00:00                                 -500.356035   \n",
       "\n",
       "                     secondary_cleaner.state.floatbank6_a_air   \n",
       "date                                                            \n",
       "2016-01-15 00:00:00                                 14.151341  \\\n",
       "2016-01-15 01:00:00                                 13.998353   \n",
       "2016-01-15 02:00:00                                 14.028663   \n",
       "2016-01-15 03:00:00                                 14.005551   \n",
       "2016-01-15 04:00:00                                 13.996647   \n",
       "\n",
       "                     secondary_cleaner.state.floatbank6_a_level  \n",
       "date                                                             \n",
       "2016-01-15 00:00:00                                 -605.841980  \n",
       "2016-01-15 01:00:00                                 -599.787184  \n",
       "2016-01-15 02:00:00                                 -601.427363  \n",
       "2016-01-15 03:00:00                                 -599.996129  \n",
       "2016-01-15 04:00:00                                 -601.496691  \n",
       "\n",
       "[5 rows x 86 columns]"
      ]
     },
     "execution_count": 3,
     "metadata": {},
     "output_type": "execute_result"
    }
   ],
   "source": [
    "df_train.head()"
   ]
  },
  {
   "cell_type": "markdown",
   "metadata": {},
   "source": [
    "2. Test sample"
   ]
  },
  {
   "cell_type": "code",
   "execution_count": 4,
   "metadata": {
    "scrolled": true
   },
   "outputs": [
    {
     "data": {
      "text/html": [
       "<div>\n",
       "<style scoped>\n",
       "    .dataframe tbody tr th:only-of-type {\n",
       "        vertical-align: middle;\n",
       "    }\n",
       "\n",
       "    .dataframe tbody tr th {\n",
       "        vertical-align: top;\n",
       "    }\n",
       "\n",
       "    .dataframe thead th {\n",
       "        text-align: right;\n",
       "    }\n",
       "</style>\n",
       "<table border=\"1\" class=\"dataframe\">\n",
       "  <thead>\n",
       "    <tr style=\"text-align: right;\">\n",
       "      <th></th>\n",
       "      <th>primary_cleaner.input.sulfate</th>\n",
       "      <th>primary_cleaner.input.depressant</th>\n",
       "      <th>primary_cleaner.input.feed_size</th>\n",
       "      <th>primary_cleaner.input.xanthate</th>\n",
       "      <th>primary_cleaner.state.floatbank8_a_air</th>\n",
       "      <th>primary_cleaner.state.floatbank8_a_level</th>\n",
       "      <th>primary_cleaner.state.floatbank8_b_air</th>\n",
       "      <th>primary_cleaner.state.floatbank8_b_level</th>\n",
       "      <th>primary_cleaner.state.floatbank8_c_air</th>\n",
       "      <th>primary_cleaner.state.floatbank8_c_level</th>\n",
       "      <th>...</th>\n",
       "      <th>secondary_cleaner.state.floatbank4_a_air</th>\n",
       "      <th>secondary_cleaner.state.floatbank4_a_level</th>\n",
       "      <th>secondary_cleaner.state.floatbank4_b_air</th>\n",
       "      <th>secondary_cleaner.state.floatbank4_b_level</th>\n",
       "      <th>secondary_cleaner.state.floatbank5_a_air</th>\n",
       "      <th>secondary_cleaner.state.floatbank5_a_level</th>\n",
       "      <th>secondary_cleaner.state.floatbank5_b_air</th>\n",
       "      <th>secondary_cleaner.state.floatbank5_b_level</th>\n",
       "      <th>secondary_cleaner.state.floatbank6_a_air</th>\n",
       "      <th>secondary_cleaner.state.floatbank6_a_level</th>\n",
       "    </tr>\n",
       "    <tr>\n",
       "      <th>date</th>\n",
       "      <th></th>\n",
       "      <th></th>\n",
       "      <th></th>\n",
       "      <th></th>\n",
       "      <th></th>\n",
       "      <th></th>\n",
       "      <th></th>\n",
       "      <th></th>\n",
       "      <th></th>\n",
       "      <th></th>\n",
       "      <th></th>\n",
       "      <th></th>\n",
       "      <th></th>\n",
       "      <th></th>\n",
       "      <th></th>\n",
       "      <th></th>\n",
       "      <th></th>\n",
       "      <th></th>\n",
       "      <th></th>\n",
       "      <th></th>\n",
       "      <th></th>\n",
       "    </tr>\n",
       "  </thead>\n",
       "  <tbody>\n",
       "    <tr>\n",
       "      <th>2016-09-01 00:59:59</th>\n",
       "      <td>210.800909</td>\n",
       "      <td>14.993118</td>\n",
       "      <td>8.080000</td>\n",
       "      <td>1.005021</td>\n",
       "      <td>1398.981301</td>\n",
       "      <td>-500.225577</td>\n",
       "      <td>1399.144926</td>\n",
       "      <td>-499.919735</td>\n",
       "      <td>1400.102998</td>\n",
       "      <td>-500.704369</td>\n",
       "      <td>...</td>\n",
       "      <td>12.023554</td>\n",
       "      <td>-497.795834</td>\n",
       "      <td>8.016656</td>\n",
       "      <td>-501.289139</td>\n",
       "      <td>7.946562</td>\n",
       "      <td>-432.317850</td>\n",
       "      <td>4.872511</td>\n",
       "      <td>-500.037437</td>\n",
       "      <td>26.705889</td>\n",
       "      <td>-499.709414</td>\n",
       "    </tr>\n",
       "    <tr>\n",
       "      <th>2016-09-01 01:59:59</th>\n",
       "      <td>215.392455</td>\n",
       "      <td>14.987471</td>\n",
       "      <td>8.080000</td>\n",
       "      <td>0.990469</td>\n",
       "      <td>1398.777912</td>\n",
       "      <td>-500.057435</td>\n",
       "      <td>1398.055362</td>\n",
       "      <td>-499.778182</td>\n",
       "      <td>1396.151033</td>\n",
       "      <td>-499.240168</td>\n",
       "      <td>...</td>\n",
       "      <td>12.058140</td>\n",
       "      <td>-498.695773</td>\n",
       "      <td>8.130979</td>\n",
       "      <td>-499.634209</td>\n",
       "      <td>7.958270</td>\n",
       "      <td>-525.839648</td>\n",
       "      <td>4.878850</td>\n",
       "      <td>-500.162375</td>\n",
       "      <td>25.019940</td>\n",
       "      <td>-499.819438</td>\n",
       "    </tr>\n",
       "    <tr>\n",
       "      <th>2016-09-01 02:59:59</th>\n",
       "      <td>215.259946</td>\n",
       "      <td>12.884934</td>\n",
       "      <td>7.786667</td>\n",
       "      <td>0.996043</td>\n",
       "      <td>1398.493666</td>\n",
       "      <td>-500.868360</td>\n",
       "      <td>1398.860436</td>\n",
       "      <td>-499.764529</td>\n",
       "      <td>1398.075709</td>\n",
       "      <td>-502.151509</td>\n",
       "      <td>...</td>\n",
       "      <td>11.962366</td>\n",
       "      <td>-498.767484</td>\n",
       "      <td>8.096893</td>\n",
       "      <td>-500.827423</td>\n",
       "      <td>8.071056</td>\n",
       "      <td>-500.801673</td>\n",
       "      <td>4.905125</td>\n",
       "      <td>-499.828510</td>\n",
       "      <td>24.994862</td>\n",
       "      <td>-500.622559</td>\n",
       "    </tr>\n",
       "    <tr>\n",
       "      <th>2016-09-01 03:59:59</th>\n",
       "      <td>215.336236</td>\n",
       "      <td>12.006805</td>\n",
       "      <td>7.640000</td>\n",
       "      <td>0.863514</td>\n",
       "      <td>1399.618111</td>\n",
       "      <td>-498.863574</td>\n",
       "      <td>1397.440120</td>\n",
       "      <td>-499.211024</td>\n",
       "      <td>1400.129303</td>\n",
       "      <td>-498.355873</td>\n",
       "      <td>...</td>\n",
       "      <td>12.033091</td>\n",
       "      <td>-498.350935</td>\n",
       "      <td>8.074946</td>\n",
       "      <td>-499.474407</td>\n",
       "      <td>7.897085</td>\n",
       "      <td>-500.868509</td>\n",
       "      <td>4.931400</td>\n",
       "      <td>-499.963623</td>\n",
       "      <td>24.948919</td>\n",
       "      <td>-498.709987</td>\n",
       "    </tr>\n",
       "    <tr>\n",
       "      <th>2016-09-01 04:59:59</th>\n",
       "      <td>199.099327</td>\n",
       "      <td>10.682530</td>\n",
       "      <td>7.530000</td>\n",
       "      <td>0.805575</td>\n",
       "      <td>1401.268123</td>\n",
       "      <td>-500.808305</td>\n",
       "      <td>1398.128818</td>\n",
       "      <td>-499.504543</td>\n",
       "      <td>1402.172226</td>\n",
       "      <td>-500.810606</td>\n",
       "      <td>...</td>\n",
       "      <td>12.025367</td>\n",
       "      <td>-500.786497</td>\n",
       "      <td>8.054678</td>\n",
       "      <td>-500.397500</td>\n",
       "      <td>8.107890</td>\n",
       "      <td>-509.526725</td>\n",
       "      <td>4.957674</td>\n",
       "      <td>-500.360026</td>\n",
       "      <td>25.003331</td>\n",
       "      <td>-500.856333</td>\n",
       "    </tr>\n",
       "  </tbody>\n",
       "</table>\n",
       "<p>5 rows × 52 columns</p>\n",
       "</div>"
      ],
      "text/plain": [
       "                     primary_cleaner.input.sulfate   \n",
       "date                                                 \n",
       "2016-09-01 00:59:59                     210.800909  \\\n",
       "2016-09-01 01:59:59                     215.392455   \n",
       "2016-09-01 02:59:59                     215.259946   \n",
       "2016-09-01 03:59:59                     215.336236   \n",
       "2016-09-01 04:59:59                     199.099327   \n",
       "\n",
       "                     primary_cleaner.input.depressant   \n",
       "date                                                    \n",
       "2016-09-01 00:59:59                         14.993118  \\\n",
       "2016-09-01 01:59:59                         14.987471   \n",
       "2016-09-01 02:59:59                         12.884934   \n",
       "2016-09-01 03:59:59                         12.006805   \n",
       "2016-09-01 04:59:59                         10.682530   \n",
       "\n",
       "                     primary_cleaner.input.feed_size   \n",
       "date                                                   \n",
       "2016-09-01 00:59:59                         8.080000  \\\n",
       "2016-09-01 01:59:59                         8.080000   \n",
       "2016-09-01 02:59:59                         7.786667   \n",
       "2016-09-01 03:59:59                         7.640000   \n",
       "2016-09-01 04:59:59                         7.530000   \n",
       "\n",
       "                     primary_cleaner.input.xanthate   \n",
       "date                                                  \n",
       "2016-09-01 00:59:59                        1.005021  \\\n",
       "2016-09-01 01:59:59                        0.990469   \n",
       "2016-09-01 02:59:59                        0.996043   \n",
       "2016-09-01 03:59:59                        0.863514   \n",
       "2016-09-01 04:59:59                        0.805575   \n",
       "\n",
       "                     primary_cleaner.state.floatbank8_a_air   \n",
       "date                                                          \n",
       "2016-09-01 00:59:59                             1398.981301  \\\n",
       "2016-09-01 01:59:59                             1398.777912   \n",
       "2016-09-01 02:59:59                             1398.493666   \n",
       "2016-09-01 03:59:59                             1399.618111   \n",
       "2016-09-01 04:59:59                             1401.268123   \n",
       "\n",
       "                     primary_cleaner.state.floatbank8_a_level   \n",
       "date                                                            \n",
       "2016-09-01 00:59:59                               -500.225577  \\\n",
       "2016-09-01 01:59:59                               -500.057435   \n",
       "2016-09-01 02:59:59                               -500.868360   \n",
       "2016-09-01 03:59:59                               -498.863574   \n",
       "2016-09-01 04:59:59                               -500.808305   \n",
       "\n",
       "                     primary_cleaner.state.floatbank8_b_air   \n",
       "date                                                          \n",
       "2016-09-01 00:59:59                             1399.144926  \\\n",
       "2016-09-01 01:59:59                             1398.055362   \n",
       "2016-09-01 02:59:59                             1398.860436   \n",
       "2016-09-01 03:59:59                             1397.440120   \n",
       "2016-09-01 04:59:59                             1398.128818   \n",
       "\n",
       "                     primary_cleaner.state.floatbank8_b_level   \n",
       "date                                                            \n",
       "2016-09-01 00:59:59                               -499.919735  \\\n",
       "2016-09-01 01:59:59                               -499.778182   \n",
       "2016-09-01 02:59:59                               -499.764529   \n",
       "2016-09-01 03:59:59                               -499.211024   \n",
       "2016-09-01 04:59:59                               -499.504543   \n",
       "\n",
       "                     primary_cleaner.state.floatbank8_c_air   \n",
       "date                                                          \n",
       "2016-09-01 00:59:59                             1400.102998  \\\n",
       "2016-09-01 01:59:59                             1396.151033   \n",
       "2016-09-01 02:59:59                             1398.075709   \n",
       "2016-09-01 03:59:59                             1400.129303   \n",
       "2016-09-01 04:59:59                             1402.172226   \n",
       "\n",
       "                     primary_cleaner.state.floatbank8_c_level  ...   \n",
       "date                                                           ...   \n",
       "2016-09-01 00:59:59                               -500.704369  ...  \\\n",
       "2016-09-01 01:59:59                               -499.240168  ...   \n",
       "2016-09-01 02:59:59                               -502.151509  ...   \n",
       "2016-09-01 03:59:59                               -498.355873  ...   \n",
       "2016-09-01 04:59:59                               -500.810606  ...   \n",
       "\n",
       "                     secondary_cleaner.state.floatbank4_a_air   \n",
       "date                                                            \n",
       "2016-09-01 00:59:59                                 12.023554  \\\n",
       "2016-09-01 01:59:59                                 12.058140   \n",
       "2016-09-01 02:59:59                                 11.962366   \n",
       "2016-09-01 03:59:59                                 12.033091   \n",
       "2016-09-01 04:59:59                                 12.025367   \n",
       "\n",
       "                     secondary_cleaner.state.floatbank4_a_level   \n",
       "date                                                              \n",
       "2016-09-01 00:59:59                                 -497.795834  \\\n",
       "2016-09-01 01:59:59                                 -498.695773   \n",
       "2016-09-01 02:59:59                                 -498.767484   \n",
       "2016-09-01 03:59:59                                 -498.350935   \n",
       "2016-09-01 04:59:59                                 -500.786497   \n",
       "\n",
       "                     secondary_cleaner.state.floatbank4_b_air   \n",
       "date                                                            \n",
       "2016-09-01 00:59:59                                  8.016656  \\\n",
       "2016-09-01 01:59:59                                  8.130979   \n",
       "2016-09-01 02:59:59                                  8.096893   \n",
       "2016-09-01 03:59:59                                  8.074946   \n",
       "2016-09-01 04:59:59                                  8.054678   \n",
       "\n",
       "                     secondary_cleaner.state.floatbank4_b_level   \n",
       "date                                                              \n",
       "2016-09-01 00:59:59                                 -501.289139  \\\n",
       "2016-09-01 01:59:59                                 -499.634209   \n",
       "2016-09-01 02:59:59                                 -500.827423   \n",
       "2016-09-01 03:59:59                                 -499.474407   \n",
       "2016-09-01 04:59:59                                 -500.397500   \n",
       "\n",
       "                     secondary_cleaner.state.floatbank5_a_air   \n",
       "date                                                            \n",
       "2016-09-01 00:59:59                                  7.946562  \\\n",
       "2016-09-01 01:59:59                                  7.958270   \n",
       "2016-09-01 02:59:59                                  8.071056   \n",
       "2016-09-01 03:59:59                                  7.897085   \n",
       "2016-09-01 04:59:59                                  8.107890   \n",
       "\n",
       "                     secondary_cleaner.state.floatbank5_a_level   \n",
       "date                                                              \n",
       "2016-09-01 00:59:59                                 -432.317850  \\\n",
       "2016-09-01 01:59:59                                 -525.839648   \n",
       "2016-09-01 02:59:59                                 -500.801673   \n",
       "2016-09-01 03:59:59                                 -500.868509   \n",
       "2016-09-01 04:59:59                                 -509.526725   \n",
       "\n",
       "                     secondary_cleaner.state.floatbank5_b_air   \n",
       "date                                                            \n",
       "2016-09-01 00:59:59                                  4.872511  \\\n",
       "2016-09-01 01:59:59                                  4.878850   \n",
       "2016-09-01 02:59:59                                  4.905125   \n",
       "2016-09-01 03:59:59                                  4.931400   \n",
       "2016-09-01 04:59:59                                  4.957674   \n",
       "\n",
       "                     secondary_cleaner.state.floatbank5_b_level   \n",
       "date                                                              \n",
       "2016-09-01 00:59:59                                 -500.037437  \\\n",
       "2016-09-01 01:59:59                                 -500.162375   \n",
       "2016-09-01 02:59:59                                 -499.828510   \n",
       "2016-09-01 03:59:59                                 -499.963623   \n",
       "2016-09-01 04:59:59                                 -500.360026   \n",
       "\n",
       "                     secondary_cleaner.state.floatbank6_a_air   \n",
       "date                                                            \n",
       "2016-09-01 00:59:59                                 26.705889  \\\n",
       "2016-09-01 01:59:59                                 25.019940   \n",
       "2016-09-01 02:59:59                                 24.994862   \n",
       "2016-09-01 03:59:59                                 24.948919   \n",
       "2016-09-01 04:59:59                                 25.003331   \n",
       "\n",
       "                     secondary_cleaner.state.floatbank6_a_level  \n",
       "date                                                             \n",
       "2016-09-01 00:59:59                                 -499.709414  \n",
       "2016-09-01 01:59:59                                 -499.819438  \n",
       "2016-09-01 02:59:59                                 -500.622559  \n",
       "2016-09-01 03:59:59                                 -498.709987  \n",
       "2016-09-01 04:59:59                                 -500.856333  \n",
       "\n",
       "[5 rows x 52 columns]"
      ]
     },
     "execution_count": 4,
     "metadata": {},
     "output_type": "execute_result"
    }
   ],
   "source": [
    "df_test.head()"
   ]
  },
  {
   "cell_type": "markdown",
   "metadata": {},
   "source": [
    "3. Full dataset"
   ]
  },
  {
   "cell_type": "code",
   "execution_count": 5,
   "metadata": {},
   "outputs": [
    {
     "data": {
      "text/html": [
       "<div>\n",
       "<style scoped>\n",
       "    .dataframe tbody tr th:only-of-type {\n",
       "        vertical-align: middle;\n",
       "    }\n",
       "\n",
       "    .dataframe tbody tr th {\n",
       "        vertical-align: top;\n",
       "    }\n",
       "\n",
       "    .dataframe thead th {\n",
       "        text-align: right;\n",
       "    }\n",
       "</style>\n",
       "<table border=\"1\" class=\"dataframe\">\n",
       "  <thead>\n",
       "    <tr style=\"text-align: right;\">\n",
       "      <th></th>\n",
       "      <th>final.output.concentrate_ag</th>\n",
       "      <th>final.output.concentrate_pb</th>\n",
       "      <th>final.output.concentrate_sol</th>\n",
       "      <th>final.output.concentrate_au</th>\n",
       "      <th>final.output.recovery</th>\n",
       "      <th>final.output.tail_ag</th>\n",
       "      <th>final.output.tail_pb</th>\n",
       "      <th>final.output.tail_sol</th>\n",
       "      <th>final.output.tail_au</th>\n",
       "      <th>primary_cleaner.input.sulfate</th>\n",
       "      <th>...</th>\n",
       "      <th>secondary_cleaner.state.floatbank4_a_air</th>\n",
       "      <th>secondary_cleaner.state.floatbank4_a_level</th>\n",
       "      <th>secondary_cleaner.state.floatbank4_b_air</th>\n",
       "      <th>secondary_cleaner.state.floatbank4_b_level</th>\n",
       "      <th>secondary_cleaner.state.floatbank5_a_air</th>\n",
       "      <th>secondary_cleaner.state.floatbank5_a_level</th>\n",
       "      <th>secondary_cleaner.state.floatbank5_b_air</th>\n",
       "      <th>secondary_cleaner.state.floatbank5_b_level</th>\n",
       "      <th>secondary_cleaner.state.floatbank6_a_air</th>\n",
       "      <th>secondary_cleaner.state.floatbank6_a_level</th>\n",
       "    </tr>\n",
       "    <tr>\n",
       "      <th>date</th>\n",
       "      <th></th>\n",
       "      <th></th>\n",
       "      <th></th>\n",
       "      <th></th>\n",
       "      <th></th>\n",
       "      <th></th>\n",
       "      <th></th>\n",
       "      <th></th>\n",
       "      <th></th>\n",
       "      <th></th>\n",
       "      <th></th>\n",
       "      <th></th>\n",
       "      <th></th>\n",
       "      <th></th>\n",
       "      <th></th>\n",
       "      <th></th>\n",
       "      <th></th>\n",
       "      <th></th>\n",
       "      <th></th>\n",
       "      <th></th>\n",
       "      <th></th>\n",
       "    </tr>\n",
       "  </thead>\n",
       "  <tbody>\n",
       "    <tr>\n",
       "      <th>2016-01-15 00:00:00</th>\n",
       "      <td>6.055403</td>\n",
       "      <td>9.889648</td>\n",
       "      <td>5.507324</td>\n",
       "      <td>42.192020</td>\n",
       "      <td>70.541216</td>\n",
       "      <td>10.411962</td>\n",
       "      <td>0.895447</td>\n",
       "      <td>16.904297</td>\n",
       "      <td>2.143149</td>\n",
       "      <td>127.092003</td>\n",
       "      <td>...</td>\n",
       "      <td>14.016835</td>\n",
       "      <td>-502.488007</td>\n",
       "      <td>12.099931</td>\n",
       "      <td>-504.715942</td>\n",
       "      <td>9.925633</td>\n",
       "      <td>-498.310211</td>\n",
       "      <td>8.079666</td>\n",
       "      <td>-500.470978</td>\n",
       "      <td>14.151341</td>\n",
       "      <td>-605.841980</td>\n",
       "    </tr>\n",
       "    <tr>\n",
       "      <th>2016-01-15 01:00:00</th>\n",
       "      <td>6.029369</td>\n",
       "      <td>9.968944</td>\n",
       "      <td>5.257781</td>\n",
       "      <td>42.701629</td>\n",
       "      <td>69.266198</td>\n",
       "      <td>10.462676</td>\n",
       "      <td>0.927452</td>\n",
       "      <td>16.634514</td>\n",
       "      <td>2.224930</td>\n",
       "      <td>125.629232</td>\n",
       "      <td>...</td>\n",
       "      <td>13.992281</td>\n",
       "      <td>-505.503262</td>\n",
       "      <td>11.950531</td>\n",
       "      <td>-501.331529</td>\n",
       "      <td>10.039245</td>\n",
       "      <td>-500.169983</td>\n",
       "      <td>7.984757</td>\n",
       "      <td>-500.582168</td>\n",
       "      <td>13.998353</td>\n",
       "      <td>-599.787184</td>\n",
       "    </tr>\n",
       "    <tr>\n",
       "      <th>2016-01-15 02:00:00</th>\n",
       "      <td>6.055926</td>\n",
       "      <td>10.213995</td>\n",
       "      <td>5.383759</td>\n",
       "      <td>42.657501</td>\n",
       "      <td>68.116445</td>\n",
       "      <td>10.507046</td>\n",
       "      <td>0.953716</td>\n",
       "      <td>16.208849</td>\n",
       "      <td>2.257889</td>\n",
       "      <td>123.819808</td>\n",
       "      <td>...</td>\n",
       "      <td>14.015015</td>\n",
       "      <td>-502.520901</td>\n",
       "      <td>11.912783</td>\n",
       "      <td>-501.133383</td>\n",
       "      <td>10.070913</td>\n",
       "      <td>-500.129135</td>\n",
       "      <td>8.013877</td>\n",
       "      <td>-500.517572</td>\n",
       "      <td>14.028663</td>\n",
       "      <td>-601.427363</td>\n",
       "    </tr>\n",
       "    <tr>\n",
       "      <th>2016-01-15 03:00:00</th>\n",
       "      <td>6.047977</td>\n",
       "      <td>9.977019</td>\n",
       "      <td>4.858634</td>\n",
       "      <td>42.689819</td>\n",
       "      <td>68.347543</td>\n",
       "      <td>10.422762</td>\n",
       "      <td>0.883763</td>\n",
       "      <td>16.532835</td>\n",
       "      <td>2.146849</td>\n",
       "      <td>122.270188</td>\n",
       "      <td>...</td>\n",
       "      <td>14.036510</td>\n",
       "      <td>-500.857308</td>\n",
       "      <td>11.999550</td>\n",
       "      <td>-501.193686</td>\n",
       "      <td>9.970366</td>\n",
       "      <td>-499.201640</td>\n",
       "      <td>7.977324</td>\n",
       "      <td>-500.255908</td>\n",
       "      <td>14.005551</td>\n",
       "      <td>-599.996129</td>\n",
       "    </tr>\n",
       "    <tr>\n",
       "      <th>2016-01-15 04:00:00</th>\n",
       "      <td>6.148599</td>\n",
       "      <td>10.142511</td>\n",
       "      <td>4.939416</td>\n",
       "      <td>42.774141</td>\n",
       "      <td>66.927016</td>\n",
       "      <td>10.360302</td>\n",
       "      <td>0.792826</td>\n",
       "      <td>16.525686</td>\n",
       "      <td>2.055292</td>\n",
       "      <td>117.988169</td>\n",
       "      <td>...</td>\n",
       "      <td>14.027298</td>\n",
       "      <td>-499.838632</td>\n",
       "      <td>11.953070</td>\n",
       "      <td>-501.053894</td>\n",
       "      <td>9.925709</td>\n",
       "      <td>-501.686727</td>\n",
       "      <td>7.894242</td>\n",
       "      <td>-500.356035</td>\n",
       "      <td>13.996647</td>\n",
       "      <td>-601.496691</td>\n",
       "    </tr>\n",
       "  </tbody>\n",
       "</table>\n",
       "<p>5 rows × 86 columns</p>\n",
       "</div>"
      ],
      "text/plain": [
       "                     final.output.concentrate_ag  final.output.concentrate_pb   \n",
       "date                                                                            \n",
       "2016-01-15 00:00:00                     6.055403                     9.889648  \\\n",
       "2016-01-15 01:00:00                     6.029369                     9.968944   \n",
       "2016-01-15 02:00:00                     6.055926                    10.213995   \n",
       "2016-01-15 03:00:00                     6.047977                     9.977019   \n",
       "2016-01-15 04:00:00                     6.148599                    10.142511   \n",
       "\n",
       "                     final.output.concentrate_sol   \n",
       "date                                                \n",
       "2016-01-15 00:00:00                      5.507324  \\\n",
       "2016-01-15 01:00:00                      5.257781   \n",
       "2016-01-15 02:00:00                      5.383759   \n",
       "2016-01-15 03:00:00                      4.858634   \n",
       "2016-01-15 04:00:00                      4.939416   \n",
       "\n",
       "                     final.output.concentrate_au  final.output.recovery   \n",
       "date                                                                      \n",
       "2016-01-15 00:00:00                    42.192020              70.541216  \\\n",
       "2016-01-15 01:00:00                    42.701629              69.266198   \n",
       "2016-01-15 02:00:00                    42.657501              68.116445   \n",
       "2016-01-15 03:00:00                    42.689819              68.347543   \n",
       "2016-01-15 04:00:00                    42.774141              66.927016   \n",
       "\n",
       "                     final.output.tail_ag  final.output.tail_pb   \n",
       "date                                                              \n",
       "2016-01-15 00:00:00             10.411962              0.895447  \\\n",
       "2016-01-15 01:00:00             10.462676              0.927452   \n",
       "2016-01-15 02:00:00             10.507046              0.953716   \n",
       "2016-01-15 03:00:00             10.422762              0.883763   \n",
       "2016-01-15 04:00:00             10.360302              0.792826   \n",
       "\n",
       "                     final.output.tail_sol  final.output.tail_au   \n",
       "date                                                               \n",
       "2016-01-15 00:00:00              16.904297              2.143149  \\\n",
       "2016-01-15 01:00:00              16.634514              2.224930   \n",
       "2016-01-15 02:00:00              16.208849              2.257889   \n",
       "2016-01-15 03:00:00              16.532835              2.146849   \n",
       "2016-01-15 04:00:00              16.525686              2.055292   \n",
       "\n",
       "                     primary_cleaner.input.sulfate  ...   \n",
       "date                                                ...   \n",
       "2016-01-15 00:00:00                     127.092003  ...  \\\n",
       "2016-01-15 01:00:00                     125.629232  ...   \n",
       "2016-01-15 02:00:00                     123.819808  ...   \n",
       "2016-01-15 03:00:00                     122.270188  ...   \n",
       "2016-01-15 04:00:00                     117.988169  ...   \n",
       "\n",
       "                     secondary_cleaner.state.floatbank4_a_air   \n",
       "date                                                            \n",
       "2016-01-15 00:00:00                                 14.016835  \\\n",
       "2016-01-15 01:00:00                                 13.992281   \n",
       "2016-01-15 02:00:00                                 14.015015   \n",
       "2016-01-15 03:00:00                                 14.036510   \n",
       "2016-01-15 04:00:00                                 14.027298   \n",
       "\n",
       "                     secondary_cleaner.state.floatbank4_a_level   \n",
       "date                                                              \n",
       "2016-01-15 00:00:00                                 -502.488007  \\\n",
       "2016-01-15 01:00:00                                 -505.503262   \n",
       "2016-01-15 02:00:00                                 -502.520901   \n",
       "2016-01-15 03:00:00                                 -500.857308   \n",
       "2016-01-15 04:00:00                                 -499.838632   \n",
       "\n",
       "                     secondary_cleaner.state.floatbank4_b_air   \n",
       "date                                                            \n",
       "2016-01-15 00:00:00                                 12.099931  \\\n",
       "2016-01-15 01:00:00                                 11.950531   \n",
       "2016-01-15 02:00:00                                 11.912783   \n",
       "2016-01-15 03:00:00                                 11.999550   \n",
       "2016-01-15 04:00:00                                 11.953070   \n",
       "\n",
       "                     secondary_cleaner.state.floatbank4_b_level   \n",
       "date                                                              \n",
       "2016-01-15 00:00:00                                 -504.715942  \\\n",
       "2016-01-15 01:00:00                                 -501.331529   \n",
       "2016-01-15 02:00:00                                 -501.133383   \n",
       "2016-01-15 03:00:00                                 -501.193686   \n",
       "2016-01-15 04:00:00                                 -501.053894   \n",
       "\n",
       "                     secondary_cleaner.state.floatbank5_a_air   \n",
       "date                                                            \n",
       "2016-01-15 00:00:00                                  9.925633  \\\n",
       "2016-01-15 01:00:00                                 10.039245   \n",
       "2016-01-15 02:00:00                                 10.070913   \n",
       "2016-01-15 03:00:00                                  9.970366   \n",
       "2016-01-15 04:00:00                                  9.925709   \n",
       "\n",
       "                     secondary_cleaner.state.floatbank5_a_level   \n",
       "date                                                              \n",
       "2016-01-15 00:00:00                                 -498.310211  \\\n",
       "2016-01-15 01:00:00                                 -500.169983   \n",
       "2016-01-15 02:00:00                                 -500.129135   \n",
       "2016-01-15 03:00:00                                 -499.201640   \n",
       "2016-01-15 04:00:00                                 -501.686727   \n",
       "\n",
       "                     secondary_cleaner.state.floatbank5_b_air   \n",
       "date                                                            \n",
       "2016-01-15 00:00:00                                  8.079666  \\\n",
       "2016-01-15 01:00:00                                  7.984757   \n",
       "2016-01-15 02:00:00                                  8.013877   \n",
       "2016-01-15 03:00:00                                  7.977324   \n",
       "2016-01-15 04:00:00                                  7.894242   \n",
       "\n",
       "                     secondary_cleaner.state.floatbank5_b_level   \n",
       "date                                                              \n",
       "2016-01-15 00:00:00                                 -500.470978  \\\n",
       "2016-01-15 01:00:00                                 -500.582168   \n",
       "2016-01-15 02:00:00                                 -500.517572   \n",
       "2016-01-15 03:00:00                                 -500.255908   \n",
       "2016-01-15 04:00:00                                 -500.356035   \n",
       "\n",
       "                     secondary_cleaner.state.floatbank6_a_air   \n",
       "date                                                            \n",
       "2016-01-15 00:00:00                                 14.151341  \\\n",
       "2016-01-15 01:00:00                                 13.998353   \n",
       "2016-01-15 02:00:00                                 14.028663   \n",
       "2016-01-15 03:00:00                                 14.005551   \n",
       "2016-01-15 04:00:00                                 13.996647   \n",
       "\n",
       "                     secondary_cleaner.state.floatbank6_a_level  \n",
       "date                                                             \n",
       "2016-01-15 00:00:00                                 -605.841980  \n",
       "2016-01-15 01:00:00                                 -599.787184  \n",
       "2016-01-15 02:00:00                                 -601.427363  \n",
       "2016-01-15 03:00:00                                 -599.996129  \n",
       "2016-01-15 04:00:00                                 -601.496691  \n",
       "\n",
       "[5 rows x 86 columns]"
      ]
     },
     "execution_count": 5,
     "metadata": {},
     "output_type": "execute_result"
    }
   ],
   "source": [
    "df_full.head()"
   ]
  },
  {
   "cell_type": "code",
   "execution_count": 6,
   "metadata": {
    "scrolled": true
   },
   "outputs": [
    {
     "name": "stdout",
     "output_type": "stream",
     "text": [
      "<class 'pandas.core.frame.DataFrame'>\n",
      "Index: 14149 entries, 2016-01-15 00:00:00 to 2018-08-18 10:59:59\n",
      "Data columns (total 86 columns):\n",
      " #   Column                                              Non-Null Count  Dtype  \n",
      "---  ------                                              --------------  -----  \n",
      " 0   final.output.concentrate_ag                         14148 non-null  float64\n",
      " 1   final.output.concentrate_pb                         14148 non-null  float64\n",
      " 2   final.output.concentrate_sol                        13938 non-null  float64\n",
      " 3   final.output.concentrate_au                         14149 non-null  float64\n",
      " 4   final.output.recovery                               14149 non-null  float64\n",
      " 5   final.output.tail_ag                                14149 non-null  float64\n",
      " 6   final.output.tail_pb                                14049 non-null  float64\n",
      " 7   final.output.tail_sol                               14144 non-null  float64\n",
      " 8   final.output.tail_au                                14149 non-null  float64\n",
      " 9   primary_cleaner.input.sulfate                       14129 non-null  float64\n",
      " 10  primary_cleaner.input.depressant                    14117 non-null  float64\n",
      " 11  primary_cleaner.input.feed_size                     14149 non-null  float64\n",
      " 12  primary_cleaner.input.xanthate                      14049 non-null  float64\n",
      " 13  primary_cleaner.output.concentrate_ag               14149 non-null  float64\n",
      " 14  primary_cleaner.output.concentrate_pb               14063 non-null  float64\n",
      " 15  primary_cleaner.output.concentrate_sol              13863 non-null  float64\n",
      " 16  primary_cleaner.output.concentrate_au               14149 non-null  float64\n",
      " 17  primary_cleaner.output.tail_ag                      14148 non-null  float64\n",
      " 18  primary_cleaner.output.tail_pb                      14134 non-null  float64\n",
      " 19  primary_cleaner.output.tail_sol                     14103 non-null  float64\n",
      " 20  primary_cleaner.output.tail_au                      14149 non-null  float64\n",
      " 21  primary_cleaner.state.floatbank8_a_air              14145 non-null  float64\n",
      " 22  primary_cleaner.state.floatbank8_a_level            14148 non-null  float64\n",
      " 23  primary_cleaner.state.floatbank8_b_air              14145 non-null  float64\n",
      " 24  primary_cleaner.state.floatbank8_b_level            14148 non-null  float64\n",
      " 25  primary_cleaner.state.floatbank8_c_air              14147 non-null  float64\n",
      " 26  primary_cleaner.state.floatbank8_c_level            14148 non-null  float64\n",
      " 27  primary_cleaner.state.floatbank8_d_air              14146 non-null  float64\n",
      " 28  primary_cleaner.state.floatbank8_d_level            14148 non-null  float64\n",
      " 29  rougher.calculation.sulfate_to_au_concentrate       14148 non-null  float64\n",
      " 30  rougher.calculation.floatbank10_sulfate_to_au_feed  14148 non-null  float64\n",
      " 31  rougher.calculation.floatbank11_sulfate_to_au_feed  14148 non-null  float64\n",
      " 32  rougher.calculation.au_pb_ratio                     14149 non-null  float64\n",
      " 33  rougher.input.feed_ag                               14149 non-null  float64\n",
      " 34  rougher.input.feed_pb                               14049 non-null  float64\n",
      " 35  rougher.input.feed_rate                             14141 non-null  float64\n",
      " 36  rougher.input.feed_size                             14005 non-null  float64\n",
      " 37  rougher.input.feed_sol                              14071 non-null  float64\n",
      " 38  rougher.input.feed_au                               14149 non-null  float64\n",
      " 39  rougher.input.floatbank10_sulfate                   14120 non-null  float64\n",
      " 40  rougher.input.floatbank10_xanthate                  14141 non-null  float64\n",
      " 41  rougher.input.floatbank11_sulfate                   14113 non-null  float64\n",
      " 42  rougher.input.floatbank11_xanthate                  13721 non-null  float64\n",
      " 43  rougher.output.concentrate_ag                       14149 non-null  float64\n",
      " 44  rougher.output.concentrate_pb                       14149 non-null  float64\n",
      " 45  rougher.output.concentrate_sol                      14127 non-null  float64\n",
      " 46  rougher.output.concentrate_au                       14149 non-null  float64\n",
      " 47  rougher.output.recovery                             14149 non-null  float64\n",
      " 48  rougher.output.tail_ag                              14148 non-null  float64\n",
      " 49  rougher.output.tail_pb                              14149 non-null  float64\n",
      " 50  rougher.output.tail_sol                             14149 non-null  float64\n",
      " 51  rougher.output.tail_au                              14149 non-null  float64\n",
      " 52  rougher.state.floatbank10_a_air                     14148 non-null  float64\n",
      " 53  rougher.state.floatbank10_a_level                   14148 non-null  float64\n",
      " 54  rougher.state.floatbank10_b_air                     14148 non-null  float64\n",
      " 55  rougher.state.floatbank10_b_level                   14148 non-null  float64\n",
      " 56  rougher.state.floatbank10_c_air                     14148 non-null  float64\n",
      " 57  rougher.state.floatbank10_c_level                   14148 non-null  float64\n",
      " 58  rougher.state.floatbank10_d_air                     14149 non-null  float64\n",
      " 59  rougher.state.floatbank10_d_level                   14149 non-null  float64\n",
      " 60  rougher.state.floatbank10_e_air                     13713 non-null  float64\n",
      " 61  rougher.state.floatbank10_e_level                   14149 non-null  float64\n",
      " 62  rougher.state.floatbank10_f_air                     14149 non-null  float64\n",
      " 63  rougher.state.floatbank10_f_level                   14149 non-null  float64\n",
      " 64  secondary_cleaner.output.tail_ag                    14147 non-null  float64\n",
      " 65  secondary_cleaner.output.tail_pb                    14139 non-null  float64\n",
      " 66  secondary_cleaner.output.tail_sol                   12544 non-null  float64\n",
      " 67  secondary_cleaner.output.tail_au                    14149 non-null  float64\n",
      " 68  secondary_cleaner.state.floatbank2_a_air            13932 non-null  float64\n",
      " 69  secondary_cleaner.state.floatbank2_a_level          14148 non-null  float64\n",
      " 70  secondary_cleaner.state.floatbank2_b_air            14128 non-null  float64\n",
      " 71  secondary_cleaner.state.floatbank2_b_level          14148 non-null  float64\n",
      " 72  secondary_cleaner.state.floatbank3_a_air            14145 non-null  float64\n",
      " 73  secondary_cleaner.state.floatbank3_a_level          14148 non-null  float64\n",
      " 74  secondary_cleaner.state.floatbank3_b_air            14148 non-null  float64\n",
      " 75  secondary_cleaner.state.floatbank3_b_level          14148 non-null  float64\n",
      " 76  secondary_cleaner.state.floatbank4_a_air            14143 non-null  float64\n",
      " 77  secondary_cleaner.state.floatbank4_a_level          14148 non-null  float64\n",
      " 78  secondary_cleaner.state.floatbank4_b_air            14148 non-null  float64\n",
      " 79  secondary_cleaner.state.floatbank4_b_level          14148 non-null  float64\n",
      " 80  secondary_cleaner.state.floatbank5_a_air            14148 non-null  float64\n",
      " 81  secondary_cleaner.state.floatbank5_a_level          14148 non-null  float64\n",
      " 82  secondary_cleaner.state.floatbank5_b_air            14148 non-null  float64\n",
      " 83  secondary_cleaner.state.floatbank5_b_level          14148 non-null  float64\n",
      " 84  secondary_cleaner.state.floatbank6_a_air            14147 non-null  float64\n",
      " 85  secondary_cleaner.state.floatbank6_a_level          14148 non-null  float64\n",
      "dtypes: float64(86)\n",
      "memory usage: 9.4+ MB\n"
     ]
    }
   ],
   "source": [
    "df_train.info()"
   ]
  },
  {
   "cell_type": "code",
   "execution_count": 7,
   "metadata": {},
   "outputs": [
    {
     "name": "stdout",
     "output_type": "stream",
     "text": [
      "<class 'pandas.core.frame.DataFrame'>\n",
      "Index: 5290 entries, 2016-09-01 00:59:59 to 2017-12-31 23:59:59\n",
      "Data columns (total 52 columns):\n",
      " #   Column                                      Non-Null Count  Dtype  \n",
      "---  ------                                      --------------  -----  \n",
      " 0   primary_cleaner.input.sulfate               5286 non-null   float64\n",
      " 1   primary_cleaner.input.depressant            5285 non-null   float64\n",
      " 2   primary_cleaner.input.feed_size             5290 non-null   float64\n",
      " 3   primary_cleaner.input.xanthate              5286 non-null   float64\n",
      " 4   primary_cleaner.state.floatbank8_a_air      5290 non-null   float64\n",
      " 5   primary_cleaner.state.floatbank8_a_level    5290 non-null   float64\n",
      " 6   primary_cleaner.state.floatbank8_b_air      5290 non-null   float64\n",
      " 7   primary_cleaner.state.floatbank8_b_level    5290 non-null   float64\n",
      " 8   primary_cleaner.state.floatbank8_c_air      5290 non-null   float64\n",
      " 9   primary_cleaner.state.floatbank8_c_level    5290 non-null   float64\n",
      " 10  primary_cleaner.state.floatbank8_d_air      5290 non-null   float64\n",
      " 11  primary_cleaner.state.floatbank8_d_level    5290 non-null   float64\n",
      " 12  rougher.input.feed_ag                       5290 non-null   float64\n",
      " 13  rougher.input.feed_pb                       5290 non-null   float64\n",
      " 14  rougher.input.feed_rate                     5287 non-null   float64\n",
      " 15  rougher.input.feed_size                     5289 non-null   float64\n",
      " 16  rougher.input.feed_sol                      5269 non-null   float64\n",
      " 17  rougher.input.feed_au                       5290 non-null   float64\n",
      " 18  rougher.input.floatbank10_sulfate           5285 non-null   float64\n",
      " 19  rougher.input.floatbank10_xanthate          5290 non-null   float64\n",
      " 20  rougher.input.floatbank11_sulfate           5282 non-null   float64\n",
      " 21  rougher.input.floatbank11_xanthate          5265 non-null   float64\n",
      " 22  rougher.state.floatbank10_a_air             5290 non-null   float64\n",
      " 23  rougher.state.floatbank10_a_level           5290 non-null   float64\n",
      " 24  rougher.state.floatbank10_b_air             5290 non-null   float64\n",
      " 25  rougher.state.floatbank10_b_level           5290 non-null   float64\n",
      " 26  rougher.state.floatbank10_c_air             5290 non-null   float64\n",
      " 27  rougher.state.floatbank10_c_level           5290 non-null   float64\n",
      " 28  rougher.state.floatbank10_d_air             5290 non-null   float64\n",
      " 29  rougher.state.floatbank10_d_level           5290 non-null   float64\n",
      " 30  rougher.state.floatbank10_e_air             5290 non-null   float64\n",
      " 31  rougher.state.floatbank10_e_level           5290 non-null   float64\n",
      " 32  rougher.state.floatbank10_f_air             5290 non-null   float64\n",
      " 33  rougher.state.floatbank10_f_level           5290 non-null   float64\n",
      " 34  secondary_cleaner.state.floatbank2_a_air    5287 non-null   float64\n",
      " 35  secondary_cleaner.state.floatbank2_a_level  5290 non-null   float64\n",
      " 36  secondary_cleaner.state.floatbank2_b_air    5288 non-null   float64\n",
      " 37  secondary_cleaner.state.floatbank2_b_level  5290 non-null   float64\n",
      " 38  secondary_cleaner.state.floatbank3_a_air    5281 non-null   float64\n",
      " 39  secondary_cleaner.state.floatbank3_a_level  5290 non-null   float64\n",
      " 40  secondary_cleaner.state.floatbank3_b_air    5290 non-null   float64\n",
      " 41  secondary_cleaner.state.floatbank3_b_level  5290 non-null   float64\n",
      " 42  secondary_cleaner.state.floatbank4_a_air    5290 non-null   float64\n",
      " 43  secondary_cleaner.state.floatbank4_a_level  5290 non-null   float64\n",
      " 44  secondary_cleaner.state.floatbank4_b_air    5290 non-null   float64\n",
      " 45  secondary_cleaner.state.floatbank4_b_level  5290 non-null   float64\n",
      " 46  secondary_cleaner.state.floatbank5_a_air    5290 non-null   float64\n",
      " 47  secondary_cleaner.state.floatbank5_a_level  5290 non-null   float64\n",
      " 48  secondary_cleaner.state.floatbank5_b_air    5290 non-null   float64\n",
      " 49  secondary_cleaner.state.floatbank5_b_level  5290 non-null   float64\n",
      " 50  secondary_cleaner.state.floatbank6_a_air    5290 non-null   float64\n",
      " 51  secondary_cleaner.state.floatbank6_a_level  5290 non-null   float64\n",
      "dtypes: float64(52)\n",
      "memory usage: 2.1+ MB\n"
     ]
    }
   ],
   "source": [
    "df_test.info()"
   ]
  },
  {
   "cell_type": "code",
   "execution_count": 8,
   "metadata": {},
   "outputs": [
    {
     "name": "stdout",
     "output_type": "stream",
     "text": [
      "<class 'pandas.core.frame.DataFrame'>\n",
      "Index: 19439 entries, 2016-01-15 00:00:00 to 2018-08-18 10:59:59\n",
      "Data columns (total 86 columns):\n",
      " #   Column                                              Non-Null Count  Dtype  \n",
      "---  ------                                              --------------  -----  \n",
      " 0   final.output.concentrate_ag                         19438 non-null  float64\n",
      " 1   final.output.concentrate_pb                         19438 non-null  float64\n",
      " 2   final.output.concentrate_sol                        19228 non-null  float64\n",
      " 3   final.output.concentrate_au                         19439 non-null  float64\n",
      " 4   final.output.recovery                               19439 non-null  float64\n",
      " 5   final.output.tail_ag                                19438 non-null  float64\n",
      " 6   final.output.tail_pb                                19338 non-null  float64\n",
      " 7   final.output.tail_sol                               19433 non-null  float64\n",
      " 8   final.output.tail_au                                19439 non-null  float64\n",
      " 9   primary_cleaner.input.sulfate                       19415 non-null  float64\n",
      " 10  primary_cleaner.input.depressant                    19402 non-null  float64\n",
      " 11  primary_cleaner.input.feed_size                     19439 non-null  float64\n",
      " 12  primary_cleaner.input.xanthate                      19335 non-null  float64\n",
      " 13  primary_cleaner.output.concentrate_ag               19439 non-null  float64\n",
      " 14  primary_cleaner.output.concentrate_pb               19323 non-null  float64\n",
      " 15  primary_cleaner.output.concentrate_sol              19069 non-null  float64\n",
      " 16  primary_cleaner.output.concentrate_au               19439 non-null  float64\n",
      " 17  primary_cleaner.output.tail_ag                      19435 non-null  float64\n",
      " 18  primary_cleaner.output.tail_pb                      19418 non-null  float64\n",
      " 19  primary_cleaner.output.tail_sol                     19377 non-null  float64\n",
      " 20  primary_cleaner.output.tail_au                      19439 non-null  float64\n",
      " 21  primary_cleaner.state.floatbank8_a_air              19435 non-null  float64\n",
      " 22  primary_cleaner.state.floatbank8_a_level            19438 non-null  float64\n",
      " 23  primary_cleaner.state.floatbank8_b_air              19435 non-null  float64\n",
      " 24  primary_cleaner.state.floatbank8_b_level            19438 non-null  float64\n",
      " 25  primary_cleaner.state.floatbank8_c_air              19437 non-null  float64\n",
      " 26  primary_cleaner.state.floatbank8_c_level            19438 non-null  float64\n",
      " 27  primary_cleaner.state.floatbank8_d_air              19436 non-null  float64\n",
      " 28  primary_cleaner.state.floatbank8_d_level            19438 non-null  float64\n",
      " 29  rougher.calculation.sulfate_to_au_concentrate       19437 non-null  float64\n",
      " 30  rougher.calculation.floatbank10_sulfate_to_au_feed  19437 non-null  float64\n",
      " 31  rougher.calculation.floatbank11_sulfate_to_au_feed  19437 non-null  float64\n",
      " 32  rougher.calculation.au_pb_ratio                     19439 non-null  float64\n",
      " 33  rougher.input.feed_ag                               19439 non-null  float64\n",
      " 34  rougher.input.feed_pb                               19339 non-null  float64\n",
      " 35  rougher.input.feed_rate                             19428 non-null  float64\n",
      " 36  rougher.input.feed_size                             19294 non-null  float64\n",
      " 37  rougher.input.feed_sol                              19340 non-null  float64\n",
      " 38  rougher.input.feed_au                               19439 non-null  float64\n",
      " 39  rougher.input.floatbank10_sulfate                   19405 non-null  float64\n",
      " 40  rougher.input.floatbank10_xanthate                  19431 non-null  float64\n",
      " 41  rougher.input.floatbank11_sulfate                   19395 non-null  float64\n",
      " 42  rougher.input.floatbank11_xanthate                  18986 non-null  float64\n",
      " 43  rougher.output.concentrate_ag                       19439 non-null  float64\n",
      " 44  rougher.output.concentrate_pb                       19439 non-null  float64\n",
      " 45  rougher.output.concentrate_sol                      19416 non-null  float64\n",
      " 46  rougher.output.concentrate_au                       19439 non-null  float64\n",
      " 47  rougher.output.recovery                             19439 non-null  float64\n",
      " 48  rougher.output.tail_ag                              19438 non-null  float64\n",
      " 49  rougher.output.tail_pb                              19439 non-null  float64\n",
      " 50  rougher.output.tail_sol                             19439 non-null  float64\n",
      " 51  rougher.output.tail_au                              19439 non-null  float64\n",
      " 52  rougher.state.floatbank10_a_air                     19438 non-null  float64\n",
      " 53  rougher.state.floatbank10_a_level                   19438 non-null  float64\n",
      " 54  rougher.state.floatbank10_b_air                     19438 non-null  float64\n",
      " 55  rougher.state.floatbank10_b_level                   19438 non-null  float64\n",
      " 56  rougher.state.floatbank10_c_air                     19438 non-null  float64\n",
      " 57  rougher.state.floatbank10_c_level                   19438 non-null  float64\n",
      " 58  rougher.state.floatbank10_d_air                     19439 non-null  float64\n",
      " 59  rougher.state.floatbank10_d_level                   19439 non-null  float64\n",
      " 60  rougher.state.floatbank10_e_air                     19003 non-null  float64\n",
      " 61  rougher.state.floatbank10_e_level                   19439 non-null  float64\n",
      " 62  rougher.state.floatbank10_f_air                     19439 non-null  float64\n",
      " 63  rougher.state.floatbank10_f_level                   19439 non-null  float64\n",
      " 64  secondary_cleaner.output.tail_ag                    19437 non-null  float64\n",
      " 65  secondary_cleaner.output.tail_pb                    19427 non-null  float64\n",
      " 66  secondary_cleaner.output.tail_sol                   17691 non-null  float64\n",
      " 67  secondary_cleaner.output.tail_au                    19439 non-null  float64\n",
      " 68  secondary_cleaner.state.floatbank2_a_air            19219 non-null  float64\n",
      " 69  secondary_cleaner.state.floatbank2_a_level          19438 non-null  float64\n",
      " 70  secondary_cleaner.state.floatbank2_b_air            19416 non-null  float64\n",
      " 71  secondary_cleaner.state.floatbank2_b_level          19438 non-null  float64\n",
      " 72  secondary_cleaner.state.floatbank3_a_air            19426 non-null  float64\n",
      " 73  secondary_cleaner.state.floatbank3_a_level          19438 non-null  float64\n",
      " 74  secondary_cleaner.state.floatbank3_b_air            19438 non-null  float64\n",
      " 75  secondary_cleaner.state.floatbank3_b_level          19438 non-null  float64\n",
      " 76  secondary_cleaner.state.floatbank4_a_air            19433 non-null  float64\n",
      " 77  secondary_cleaner.state.floatbank4_a_level          19438 non-null  float64\n",
      " 78  secondary_cleaner.state.floatbank4_b_air            19438 non-null  float64\n",
      " 79  secondary_cleaner.state.floatbank4_b_level          19438 non-null  float64\n",
      " 80  secondary_cleaner.state.floatbank5_a_air            19438 non-null  float64\n",
      " 81  secondary_cleaner.state.floatbank5_a_level          19438 non-null  float64\n",
      " 82  secondary_cleaner.state.floatbank5_b_air            19438 non-null  float64\n",
      " 83  secondary_cleaner.state.floatbank5_b_level          19438 non-null  float64\n",
      " 84  secondary_cleaner.state.floatbank6_a_air            19437 non-null  float64\n",
      " 85  secondary_cleaner.state.floatbank6_a_level          19438 non-null  float64\n",
      "dtypes: float64(86)\n",
      "memory usage: 12.9+ MB\n"
     ]
    }
   ],
   "source": [
    "df_full.info()"
   ]
  },
  {
   "cell_type": "markdown",
   "metadata": {},
   "source": [
    "**Output 1.1**\n",
    "\n",
    "According the  reviewed data, we can notice:\n",
    "\n",
    "1) The number of features (columns) in the df_train and df_full datasets is 87. At the same time, the number of features in the test sample is 53. According to the introductory data, there are fewer features in the test sample and there is no target feature.\n",
    "\n",
    "2) There are missing values in all datasets. This may be due to 2 factors:\n",
    "\n",
    "- Some parameters are not available because they are measured and/or calculated much later. Because of this, some features that may be in the training sample are missing in the test sample. Also, there are no target features in the test set.\n",
    "\n",
    "- Errors when uploading the dataset or incomplete data"
   ]
  },
  {
   "cell_type": "markdown",
   "metadata": {},
   "source": [
    "### 1.2. Checking the calculation of the efficiency of gold enrichment"
   ]
  },
  {
   "attachments": {
    "Recovery_1576238822.jpeg": {
     "image/jpeg": "[encoded data removed]"
    }
   },
   "cell_type": "markdown",
   "metadata": {},
   "source": [
    "At the next stage, we will check the correctness of the formula for calculating the efficiency of gold enrichment. The formula for calculating the efficiency of gold enrichment is as follows\n",
    "\n",
    "![Recovery_1576238822.jpeg](attachment:Recovery_1576238822.jpeg)\n",
    "\n",
    "\n",
    "\n",
    "C - the proportion of gold in the concentrate after flotation/purification;\n",
    "\n",
    "F - the proportion of gold in the raw material/concentrate before flotation/purification;\n",
    "\n",
    "T - the proportion of gold in the tailings after flotation/purification.\n",
    "\n",
    "Therefore, to calculate, we first need to calculate the proportion of gold in the concentrate and tails in the ***rougher.output.recovery.*** feature (flotation.exit.restoration), that is, the efficiency of enrichment after flotation (the first stage).\n",
    "\n",
    "To do this, consider a training sample:\n",
    "\n",
    "1) There is no target attribute in the full source dataset.\n",
    "\n",
    "2) We will necessarily perform preprocessing in the test sample, so we need to understand what is wrong with it.\n",
    "\n",
    "For convenience, we will select the necessary features from the training sample to calculate the efficiency of enrichment during flotation."
   ]
  },
  {
   "cell_type": "code",
   "execution_count": 9,
   "metadata": {},
   "outputs": [
    {
     "data": {
      "text/html": [
       "<div>\n",
       "<style scoped>\n",
       "    .dataframe tbody tr th:only-of-type {\n",
       "        vertical-align: middle;\n",
       "    }\n",
       "\n",
       "    .dataframe tbody tr th {\n",
       "        vertical-align: top;\n",
       "    }\n",
       "\n",
       "    .dataframe thead th {\n",
       "        text-align: right;\n",
       "    }\n",
       "</style>\n",
       "<table border=\"1\" class=\"dataframe\">\n",
       "  <thead>\n",
       "    <tr style=\"text-align: right;\">\n",
       "      <th></th>\n",
       "      <th>rougher.input.feed_ag</th>\n",
       "      <th>rougher.input.feed_pb</th>\n",
       "      <th>rougher.input.feed_sol</th>\n",
       "      <th>rougher.input.feed_au</th>\n",
       "      <th>rougher.output.concentrate_ag</th>\n",
       "      <th>rougher.output.concentrate_pb</th>\n",
       "      <th>rougher.output.concentrate_sol</th>\n",
       "      <th>rougher.output.concentrate_au</th>\n",
       "      <th>rougher.output.recovery</th>\n",
       "      <th>rougher.output.tail_ag</th>\n",
       "      <th>rougher.output.tail_pb</th>\n",
       "      <th>rougher.output.tail_sol</th>\n",
       "      <th>rougher.output.tail_au</th>\n",
       "    </tr>\n",
       "    <tr>\n",
       "      <th>date</th>\n",
       "      <th></th>\n",
       "      <th></th>\n",
       "      <th></th>\n",
       "      <th></th>\n",
       "      <th></th>\n",
       "      <th></th>\n",
       "      <th></th>\n",
       "      <th></th>\n",
       "      <th></th>\n",
       "      <th></th>\n",
       "      <th></th>\n",
       "      <th></th>\n",
       "      <th></th>\n",
       "    </tr>\n",
       "  </thead>\n",
       "  <tbody>\n",
       "    <tr>\n",
       "      <th>2016-01-15 00:00:00</th>\n",
       "      <td>6.100378</td>\n",
       "      <td>2.284912</td>\n",
       "      <td>36.808594</td>\n",
       "      <td>6.486150</td>\n",
       "      <td>11.500771</td>\n",
       "      <td>7.101074</td>\n",
       "      <td>28.029297</td>\n",
       "      <td>19.793808</td>\n",
       "      <td>87.107763</td>\n",
       "      <td>5.008018</td>\n",
       "      <td>0.508728</td>\n",
       "      <td>19.154297</td>\n",
       "      <td>1.170244</td>\n",
       "    </tr>\n",
       "    <tr>\n",
       "      <th>2016-01-15 01:00:00</th>\n",
       "      <td>6.161113</td>\n",
       "      <td>2.266033</td>\n",
       "      <td>35.753385</td>\n",
       "      <td>6.478583</td>\n",
       "      <td>11.615865</td>\n",
       "      <td>7.278807</td>\n",
       "      <td>28.067063</td>\n",
       "      <td>20.050975</td>\n",
       "      <td>86.843261</td>\n",
       "      <td>4.955378</td>\n",
       "      <td>0.536689</td>\n",
       "      <td>18.965234</td>\n",
       "      <td>1.184827</td>\n",
       "    </tr>\n",
       "    <tr>\n",
       "      <th>2016-01-15 02:00:00</th>\n",
       "      <td>6.116455</td>\n",
       "      <td>2.159622</td>\n",
       "      <td>35.971630</td>\n",
       "      <td>6.362222</td>\n",
       "      <td>11.695753</td>\n",
       "      <td>7.216833</td>\n",
       "      <td>27.454037</td>\n",
       "      <td>19.737170</td>\n",
       "      <td>86.842308</td>\n",
       "      <td>4.843460</td>\n",
       "      <td>0.546416</td>\n",
       "      <td>18.808533</td>\n",
       "      <td>1.162562</td>\n",
       "    </tr>\n",
       "    <tr>\n",
       "      <th>2016-01-15 03:00:00</th>\n",
       "      <td>6.043309</td>\n",
       "      <td>2.037807</td>\n",
       "      <td>36.862241</td>\n",
       "      <td>6.118189</td>\n",
       "      <td>11.915047</td>\n",
       "      <td>7.175616</td>\n",
       "      <td>27.341277</td>\n",
       "      <td>19.320810</td>\n",
       "      <td>87.226430</td>\n",
       "      <td>4.655288</td>\n",
       "      <td>0.542525</td>\n",
       "      <td>19.330200</td>\n",
       "      <td>1.079755</td>\n",
       "    </tr>\n",
       "    <tr>\n",
       "      <th>2016-01-15 04:00:00</th>\n",
       "      <td>6.060915</td>\n",
       "      <td>1.786875</td>\n",
       "      <td>34.347666</td>\n",
       "      <td>5.663707</td>\n",
       "      <td>12.411054</td>\n",
       "      <td>7.240205</td>\n",
       "      <td>27.041023</td>\n",
       "      <td>19.216101</td>\n",
       "      <td>86.688794</td>\n",
       "      <td>4.552800</td>\n",
       "      <td>0.515438</td>\n",
       "      <td>19.267422</td>\n",
       "      <td>1.012642</td>\n",
       "    </tr>\n",
       "  </tbody>\n",
       "</table>\n",
       "</div>"
      ],
      "text/plain": [
       "                     rougher.input.feed_ag  rougher.input.feed_pb   \n",
       "date                                                                \n",
       "2016-01-15 00:00:00               6.100378               2.284912  \\\n",
       "2016-01-15 01:00:00               6.161113               2.266033   \n",
       "2016-01-15 02:00:00               6.116455               2.159622   \n",
       "2016-01-15 03:00:00               6.043309               2.037807   \n",
       "2016-01-15 04:00:00               6.060915               1.786875   \n",
       "\n",
       "                     rougher.input.feed_sol  rougher.input.feed_au   \n",
       "date                                                                 \n",
       "2016-01-15 00:00:00               36.808594               6.486150  \\\n",
       "2016-01-15 01:00:00               35.753385               6.478583   \n",
       "2016-01-15 02:00:00               35.971630               6.362222   \n",
       "2016-01-15 03:00:00               36.862241               6.118189   \n",
       "2016-01-15 04:00:00               34.347666               5.663707   \n",
       "\n",
       "                     rougher.output.concentrate_ag   \n",
       "date                                                 \n",
       "2016-01-15 00:00:00                      11.500771  \\\n",
       "2016-01-15 01:00:00                      11.615865   \n",
       "2016-01-15 02:00:00                      11.695753   \n",
       "2016-01-15 03:00:00                      11.915047   \n",
       "2016-01-15 04:00:00                      12.411054   \n",
       "\n",
       "                     rougher.output.concentrate_pb   \n",
       "date                                                 \n",
       "2016-01-15 00:00:00                       7.101074  \\\n",
       "2016-01-15 01:00:00                       7.278807   \n",
       "2016-01-15 02:00:00                       7.216833   \n",
       "2016-01-15 03:00:00                       7.175616   \n",
       "2016-01-15 04:00:00                       7.240205   \n",
       "\n",
       "                     rougher.output.concentrate_sol   \n",
       "date                                                  \n",
       "2016-01-15 00:00:00                       28.029297  \\\n",
       "2016-01-15 01:00:00                       28.067063   \n",
       "2016-01-15 02:00:00                       27.454037   \n",
       "2016-01-15 03:00:00                       27.341277   \n",
       "2016-01-15 04:00:00                       27.041023   \n",
       "\n",
       "                     rougher.output.concentrate_au  rougher.output.recovery   \n",
       "date                                                                          \n",
       "2016-01-15 00:00:00                      19.793808                87.107763  \\\n",
       "2016-01-15 01:00:00                      20.050975                86.843261   \n",
       "2016-01-15 02:00:00                      19.737170                86.842308   \n",
       "2016-01-15 03:00:00                      19.320810                87.226430   \n",
       "2016-01-15 04:00:00                      19.216101                86.688794   \n",
       "\n",
       "                     rougher.output.tail_ag  rougher.output.tail_pb   \n",
       "date                                                                  \n",
       "2016-01-15 00:00:00                5.008018                0.508728  \\\n",
       "2016-01-15 01:00:00                4.955378                0.536689   \n",
       "2016-01-15 02:00:00                4.843460                0.546416   \n",
       "2016-01-15 03:00:00                4.655288                0.542525   \n",
       "2016-01-15 04:00:00                4.552800                0.515438   \n",
       "\n",
       "                     rougher.output.tail_sol  rougher.output.tail_au  \n",
       "date                                                                  \n",
       "2016-01-15 00:00:00                19.154297                1.170244  \n",
       "2016-01-15 01:00:00                18.965234                1.184827  \n",
       "2016-01-15 02:00:00                18.808533                1.162562  \n",
       "2016-01-15 03:00:00                19.330200                1.079755  \n",
       "2016-01-15 04:00:00                19.267422                1.012642  "
      ]
     },
     "execution_count": 9,
     "metadata": {},
     "output_type": "execute_result"
    }
   ],
   "source": [
    "df_train_rougher = df_train[['rougher.input.feed_ag','rougher.input.feed_pb','rougher.input.feed_sol',\n",
    "                            'rougher.input.feed_au','rougher.output.concentrate_ag','rougher.output.concentrate_pb',\n",
    "                            'rougher.output.concentrate_sol','rougher.output.concentrate_au','rougher.output.recovery',\n",
    "                            'rougher.output.tail_ag', 'rougher.output.tail_pb','rougher.output.tail_sol',\n",
    "                            'rougher.output.tail_au']]\n",
    "            \n",
    "df_train_rougher.head()        "
   ]
  },
  {
   "cell_type": "code",
   "execution_count": 10,
   "metadata": {},
   "outputs": [
    {
     "data": {
      "text/html": [
       "<div>\n",
       "<style scoped>\n",
       "    .dataframe tbody tr th:only-of-type {\n",
       "        vertical-align: middle;\n",
       "    }\n",
       "\n",
       "    .dataframe tbody tr th {\n",
       "        vertical-align: top;\n",
       "    }\n",
       "\n",
       "    .dataframe thead th {\n",
       "        text-align: right;\n",
       "    }\n",
       "</style>\n",
       "<table border=\"1\" class=\"dataframe\">\n",
       "  <thead>\n",
       "    <tr style=\"text-align: right;\">\n",
       "      <th></th>\n",
       "      <th>rough_recov_calc</th>\n",
       "      <th>rougher.output.recovery</th>\n",
       "    </tr>\n",
       "    <tr>\n",
       "      <th>date</th>\n",
       "      <th></th>\n",
       "      <th></th>\n",
       "    </tr>\n",
       "  </thead>\n",
       "  <tbody>\n",
       "    <tr>\n",
       "      <th>2016-01-15 00:00:00</th>\n",
       "      <td>87.107763</td>\n",
       "      <td>87.107763</td>\n",
       "    </tr>\n",
       "    <tr>\n",
       "      <th>2016-01-15 01:00:00</th>\n",
       "      <td>86.843261</td>\n",
       "      <td>86.843261</td>\n",
       "    </tr>\n",
       "    <tr>\n",
       "      <th>2016-01-15 02:00:00</th>\n",
       "      <td>86.842308</td>\n",
       "      <td>86.842308</td>\n",
       "    </tr>\n",
       "    <tr>\n",
       "      <th>2016-01-15 03:00:00</th>\n",
       "      <td>87.226430</td>\n",
       "      <td>87.226430</td>\n",
       "    </tr>\n",
       "    <tr>\n",
       "      <th>2016-01-15 04:00:00</th>\n",
       "      <td>86.688794</td>\n",
       "      <td>86.688794</td>\n",
       "    </tr>\n",
       "    <tr>\n",
       "      <th>2016-01-15 05:00:00</th>\n",
       "      <td>88.156912</td>\n",
       "      <td>88.156912</td>\n",
       "    </tr>\n",
       "    <tr>\n",
       "      <th>2016-01-15 06:00:00</th>\n",
       "      <td>88.168065</td>\n",
       "      <td>88.168065</td>\n",
       "    </tr>\n",
       "    <tr>\n",
       "      <th>2016-01-15 07:00:00</th>\n",
       "      <td>87.668336</td>\n",
       "      <td>87.668336</td>\n",
       "    </tr>\n",
       "    <tr>\n",
       "      <th>2016-01-15 08:00:00</th>\n",
       "      <td>87.035862</td>\n",
       "      <td>87.035862</td>\n",
       "    </tr>\n",
       "    <tr>\n",
       "      <th>2016-01-15 09:00:00</th>\n",
       "      <td>87.650868</td>\n",
       "      <td>87.650868</td>\n",
       "    </tr>\n",
       "  </tbody>\n",
       "</table>\n",
       "</div>"
      ],
      "text/plain": [
       "                     rough_recov_calc  rougher.output.recovery\n",
       "date                                                          \n",
       "2016-01-15 00:00:00         87.107763                87.107763\n",
       "2016-01-15 01:00:00         86.843261                86.843261\n",
       "2016-01-15 02:00:00         86.842308                86.842308\n",
       "2016-01-15 03:00:00         87.226430                87.226430\n",
       "2016-01-15 04:00:00         86.688794                86.688794\n",
       "2016-01-15 05:00:00         88.156912                88.156912\n",
       "2016-01-15 06:00:00         88.168065                88.168065\n",
       "2016-01-15 07:00:00         87.668336                87.668336\n",
       "2016-01-15 08:00:00         87.035862                87.035862\n",
       "2016-01-15 09:00:00         87.650868                87.650868"
      ]
     },
     "execution_count": 10,
     "metadata": {},
     "output_type": "execute_result"
    }
   ],
   "source": [
    "\n",
    "df_train['rough_recov_calc'] = 100 * (df_train['rougher.output.concentrate_au']*\\\n",
    "                                      (df_train['rougher.input.feed_au']-df_train['rougher.output.tail_au']))/\\\n",
    "                                      (df_train['rougher.input.feed_au']*\\\n",
    "                                      (df_train['rougher.output.concentrate_au']-df_train['rougher.output.tail_au']))\n",
    "\n",
    "\n",
    "df_train[['rough_recov_calc', 'rougher.output.recovery']].head(10) "
   ]
  },
  {
   "cell_type": "markdown",
   "metadata": {},
   "source": [
    "Let's calculate the MAE metric for the calculated and provided recovery efficiency after flotation in the training sample."
   ]
  },
  {
   "cell_type": "code",
   "execution_count": 11,
   "metadata": {},
   "outputs": [
    {
     "data": {
      "text/plain": [
       "1.1131451184435918e-14"
      ]
     },
     "execution_count": 11,
     "metadata": {},
     "output_type": "execute_result"
    }
   ],
   "source": [
    "rough_recov_mae = mean_absolute_error(df_train['rougher.output.recovery'], df_train['rough_recov_calc'])\n",
    "rough_recov_mae"
   ]
  },
  {
   "cell_type": "markdown",
   "metadata": {},
   "source": [
    "**Conclusion**\n",
    "\n",
    "The value of the average absolute deviation is insignificant. Therefore, the formula for calculating the recovery efficiency works correctly, including in previously calculated data in the original dataset."
   ]
  },
  {
   "cell_type": "markdown",
   "metadata": {},
   "source": [
    "**Comparison of samples.**\n",
    "\n",
    "As it was notices earlier, the number of features in the test sample is less than in the training and complete.\n",
    "Let's check what signs are missing in the test sample."
   ]
  },
  {
   "cell_type": "code",
   "execution_count": 12,
   "metadata": {},
   "outputs": [
    {
     "data": {
      "text/plain": [
       "['final.output.concentrate_ag',\n",
       " 'final.output.concentrate_pb',\n",
       " 'final.output.concentrate_sol',\n",
       " 'final.output.concentrate_au',\n",
       " 'final.output.recovery',\n",
       " 'final.output.tail_ag',\n",
       " 'final.output.tail_pb',\n",
       " 'final.output.tail_sol',\n",
       " 'final.output.tail_au',\n",
       " 'primary_cleaner.output.concentrate_ag',\n",
       " 'primary_cleaner.output.concentrate_pb',\n",
       " 'primary_cleaner.output.concentrate_sol',\n",
       " 'primary_cleaner.output.concentrate_au',\n",
       " 'primary_cleaner.output.tail_ag',\n",
       " 'primary_cleaner.output.tail_pb',\n",
       " 'primary_cleaner.output.tail_sol',\n",
       " 'primary_cleaner.output.tail_au',\n",
       " 'rougher.calculation.sulfate_to_au_concentrate',\n",
       " 'rougher.calculation.floatbank10_sulfate_to_au_feed',\n",
       " 'rougher.calculation.floatbank11_sulfate_to_au_feed',\n",
       " 'rougher.calculation.au_pb_ratio',\n",
       " 'rougher.output.concentrate_ag',\n",
       " 'rougher.output.concentrate_pb',\n",
       " 'rougher.output.concentrate_sol',\n",
       " 'rougher.output.concentrate_au',\n",
       " 'rougher.output.recovery',\n",
       " 'rougher.output.tail_ag',\n",
       " 'rougher.output.tail_pb',\n",
       " 'rougher.output.tail_sol',\n",
       " 'rougher.output.tail_au',\n",
       " 'secondary_cleaner.output.tail_ag',\n",
       " 'secondary_cleaner.output.tail_pb',\n",
       " 'secondary_cleaner.output.tail_sol',\n",
       " 'secondary_cleaner.output.tail_au',\n",
       " 'rough_recov_calc']"
      ]
     },
     "execution_count": 12,
     "metadata": {},
     "output_type": "execute_result"
    }
   ],
   "source": [
    "df_train_columns = list(df_train.columns)\n",
    "df_test_columns = list(df_test.columns)\n",
    "\n",
    "absent_col_in_test = []\n",
    "\n",
    "for i in range(len(df_train_columns)):\n",
    "    if df_train_columns[i] not in df_test_columns:\n",
    "        absent_col_in_test.append(df_train_columns[i])\n",
    "        \n",
    "absent_col_in_test"
   ]
  },
  {
   "cell_type": "code",
   "execution_count": 13,
   "metadata": {},
   "outputs": [
    {
     "data": {
      "text/plain": [
       "35"
      ]
     },
     "execution_count": 13,
     "metadata": {},
     "output_type": "execute_result"
    }
   ],
   "source": [
    "len(absent_col_in_test)"
   ]
  },
  {
   "cell_type": "markdown",
   "metadata": {},
   "source": [
    "Excluding rough_recov_calc (calculated recovery efficiency, which we previously calculated), there are 34 signs missing in the test sample by:\n",
    "\n",
    "- final output after cleaning (shares in concentrates, tailings, recovery efficiency);\n",
    "- flotation (shares in concentrates, tailings, recovery efficiency);\n",
    "- the primary stage of purification (fractions in concentrates and tailings);\n",
    "- secondary stage of purification (fractions in tails);\n",
    "- concentrations of substances for flotation.\n",
    "\n",
    "**Conclusion 1.2**\n",
    "\n",
    "Therefore, in the further preparation of the prediction model, we will have to exclude these features from the training sample."
   ]
  },
  {
   "cell_type": "markdown",
   "metadata": {},
   "source": [
    "### 1.3. Data preprocessing"
   ]
  },
  {
   "cell_type": "markdown",
   "metadata": {},
   "source": [
    "**Train sample**"
   ]
  },
  {
   "cell_type": "code",
   "execution_count": 14,
   "metadata": {},
   "outputs": [
    {
     "data": {
      "text/plain": [
       "0"
      ]
     },
     "execution_count": 14,
     "metadata": {},
     "output_type": "execute_result"
    }
   ],
   "source": [
    "df_train.duplicated().sum()"
   ]
  },
  {
   "cell_type": "markdown",
   "metadata": {},
   "source": [
    "There are no obvious duplicates. Let's check the number of omissions in the training sample."
   ]
  },
  {
   "cell_type": "code",
   "execution_count": 15,
   "metadata": {},
   "outputs": [
    {
     "data": {
      "text/plain": [
       "1       30\n",
       "0       25\n",
       "100      3\n",
       "4        3\n",
       "2        3\n",
       "8        2\n",
       "78       1\n",
       "21       1\n",
       "217      1\n",
       "1605     1\n",
       "10       1\n",
       "436      1\n",
       "22       1\n",
       "428      1\n",
       "36       1\n",
       "29       1\n",
       "3        1\n",
       "144      1\n",
       "211      1\n",
       "46       1\n",
       "15       1\n",
       "286      1\n",
       "86       1\n",
       "32       1\n",
       "20       1\n",
       "5        1\n",
       "6        1\n",
       "Name: count, dtype: int64"
      ]
     },
     "execution_count": 15,
     "metadata": {},
     "output_type": "execute_result"
    }
   ],
   "source": [
    "df_train.isna().sum().value_counts()"
   ]
  },
  {
   "cell_type": "markdown",
   "metadata": {},
   "source": [
    "According to the obtained data, we can notice that the number of omissions is insignificant.\n",
    "\n",
    "Additionally, we will check the maximum number of omissions and find the column."
   ]
  },
  {
   "cell_type": "code",
   "execution_count": 16,
   "metadata": {},
   "outputs": [
    {
     "data": {
      "text/plain": [
       "1605"
      ]
     },
     "execution_count": 16,
     "metadata": {},
     "output_type": "execute_result"
    }
   ],
   "source": [
    "df_train.isna().sum().max()"
   ]
  },
  {
   "cell_type": "code",
   "execution_count": 17,
   "metadata": {},
   "outputs": [
    {
     "data": {
      "text/plain": [
       "secondary_cleaner.output.tail_sol           1605\n",
       "rougher.state.floatbank10_e_air              436\n",
       "rougher.input.floatbank11_xanthate           428\n",
       "primary_cleaner.output.concentrate_sol       286\n",
       "secondary_cleaner.state.floatbank2_a_air     217\n",
       "                                            ... \n",
       "rougher.output.tail_au                         0\n",
       "rougher.state.floatbank10_d_air                0\n",
       "rougher.state.floatbank10_d_level              0\n",
       "rougher.state.floatbank10_e_level              0\n",
       "rough_recov_calc                               0\n",
       "Length: 87, dtype: int64"
      ]
     },
     "execution_count": 17,
     "metadata": {},
     "output_type": "execute_result"
    }
   ],
   "source": [
    "df_train.isna().sum().sort_values(ascending = False)"
   ]
  },
  {
   "cell_type": "code",
   "execution_count": 18,
   "metadata": {},
   "outputs": [
    {
     "data": {
      "text/plain": [
       "0.11343557848611209"
      ]
     },
     "execution_count": 18,
     "metadata": {},
     "output_type": "execute_result"
    }
   ],
   "source": [
    "isna_ratio_1 = df_train['secondary_cleaner.output.tail_sol'].isna().sum()/14149\n",
    "isna_ratio_1"
   ]
  },
  {
   "cell_type": "code",
   "execution_count": 19,
   "metadata": {},
   "outputs": [
    {
     "data": {
      "text/plain": [
       "0.030814898579404906"
      ]
     },
     "execution_count": 19,
     "metadata": {},
     "output_type": "execute_result"
    }
   ],
   "source": [
    "isna_ratio_2 = df_train['rougher.state.floatbank10_e_air'].isna().sum()/14149\n",
    "isna_ratio_2"
   ]
  },
  {
   "cell_type": "code",
   "execution_count": 20,
   "metadata": {},
   "outputs": [
    {
     "data": {
      "text/plain": [
       "0.03024948759629656"
      ]
     },
     "execution_count": 20,
     "metadata": {},
     "output_type": "execute_result"
    }
   ],
   "source": [
    "isna_ratio_3 = df_train['rougher.input.floatbank11_xanthate'].isna().sum()/14149\n",
    "isna_ratio_3"
   ]
  },
  {
   "cell_type": "markdown",
   "metadata": {},
   "source": [
    "The highest percentage of skips (11%) in the secondary_cleaner.output.tail_sol column. This column indicates waste after the 2nd stage of purification. Sol transcripts are in our tech.there is no documentation, so this indicator can have several values: solvent (solvent), solid (solid).\n",
    "\n",
    "Let's check the distribution of this value."
   ]
  },
  {
   "cell_type": "code",
   "execution_count": 21,
   "metadata": {},
   "outputs": [
    {
     "data": {
      "text/plain": [
       "<Axes: >"
      ]
     },
     "execution_count": 21,
     "metadata": {},
     "output_type": "execute_result"
    },
    {
     "data": {
      "image/png": "[encoded data removed]",
      "text/plain": [
       "<Figure size 640x480 with 1 Axes>"
      ]
     },
     "metadata": {},
     "output_type": "display_data"
    }
   ],
   "source": [
    "plt.ylim(0,20)\n",
    "df_train.boxplot('secondary_cleaner.output.tail_sol')"
   ]
  },
  {
   "cell_type": "markdown",
   "metadata": {},
   "source": [
    "As main volume of the value of `secondary_cleaner.output.tail_sol` is in the range from 3 to 10.5, replace the skip with the median value."
   ]
  },
  {
   "cell_type": "code",
   "execution_count": 22,
   "metadata": {},
   "outputs": [
    {
     "data": {
      "text/plain": [
       "0"
      ]
     },
     "execution_count": 22,
     "metadata": {},
     "output_type": "execute_result"
    }
   ],
   "source": [
    "df_train['secondary_cleaner.output.tail_sol'] = df_train['secondary_cleaner.output.tail_sol'].fillna(df_train['secondary_cleaner.output.tail_sol'].median())\n",
    "df_train['secondary_cleaner.output.tail_sol'].isna().sum()"
   ]
  },
  {
   "cell_type": "markdown",
   "metadata": {},
   "source": [
    "Taking into account that the gaps in the remaining dataset objects are less than 3%, we will delete them."
   ]
  },
  {
   "cell_type": "code",
   "execution_count": 23,
   "metadata": {
    "scrolled": true
   },
   "outputs": [],
   "source": [
    "df_train = df_train.dropna()"
   ]
  },
  {
   "cell_type": "markdown",
   "metadata": {},
   "source": [
    "Let's check for omissions in the target features in the training sample."
   ]
  },
  {
   "cell_type": "code",
   "execution_count": 24,
   "metadata": {},
   "outputs": [
    {
     "data": {
      "text/plain": [
       "206"
      ]
     },
     "execution_count": 24,
     "metadata": {},
     "output_type": "execute_result"
    }
   ],
   "source": [
    "df_train.loc[df_train.loc[:,'rougher.output.recovery'] == 0]['rougher.output.recovery'].count()"
   ]
  },
  {
   "cell_type": "code",
   "execution_count": 25,
   "metadata": {},
   "outputs": [
    {
     "data": {
      "text/plain": [
       "31"
      ]
     },
     "execution_count": 25,
     "metadata": {},
     "output_type": "execute_result"
    }
   ],
   "source": [
    "df_train.loc[df_train.loc[:,'final.output.recovery'] == 0]['final.output.recovery'].count()"
   ]
  },
  {
   "cell_type": "markdown",
   "metadata": {},
   "source": [
    "**Test sample**"
   ]
  },
  {
   "cell_type": "code",
   "execution_count": 26,
   "metadata": {},
   "outputs": [
    {
     "data": {
      "text/plain": [
       "0"
      ]
     },
     "execution_count": 26,
     "metadata": {},
     "output_type": "execute_result"
    }
   ],
   "source": [
    "df_test.duplicated().sum()"
   ]
  },
  {
   "cell_type": "markdown",
   "metadata": {},
   "source": [
    "There aren't obvious duplicates. Let's check the number of passes."
   ]
  },
  {
   "cell_type": "code",
   "execution_count": 27,
   "metadata": {},
   "outputs": [
    {
     "data": {
      "text/plain": [
       "primary_cleaner.input.sulfate                  4\n",
       "primary_cleaner.input.depressant               5\n",
       "primary_cleaner.input.feed_size                0\n",
       "primary_cleaner.input.xanthate                 4\n",
       "primary_cleaner.state.floatbank8_a_air         0\n",
       "primary_cleaner.state.floatbank8_a_level       0\n",
       "primary_cleaner.state.floatbank8_b_air         0\n",
       "primary_cleaner.state.floatbank8_b_level       0\n",
       "primary_cleaner.state.floatbank8_c_air         0\n",
       "primary_cleaner.state.floatbank8_c_level       0\n",
       "primary_cleaner.state.floatbank8_d_air         0\n",
       "primary_cleaner.state.floatbank8_d_level       0\n",
       "rougher.input.feed_ag                          0\n",
       "rougher.input.feed_pb                          0\n",
       "rougher.input.feed_rate                        3\n",
       "rougher.input.feed_size                        1\n",
       "rougher.input.feed_sol                        21\n",
       "rougher.input.feed_au                          0\n",
       "rougher.input.floatbank10_sulfate              5\n",
       "rougher.input.floatbank10_xanthate             0\n",
       "rougher.input.floatbank11_sulfate              8\n",
       "rougher.input.floatbank11_xanthate            25\n",
       "rougher.state.floatbank10_a_air                0\n",
       "rougher.state.floatbank10_a_level              0\n",
       "rougher.state.floatbank10_b_air                0\n",
       "rougher.state.floatbank10_b_level              0\n",
       "rougher.state.floatbank10_c_air                0\n",
       "rougher.state.floatbank10_c_level              0\n",
       "rougher.state.floatbank10_d_air                0\n",
       "rougher.state.floatbank10_d_level              0\n",
       "rougher.state.floatbank10_e_air                0\n",
       "rougher.state.floatbank10_e_level              0\n",
       "rougher.state.floatbank10_f_air                0\n",
       "rougher.state.floatbank10_f_level              0\n",
       "secondary_cleaner.state.floatbank2_a_air       3\n",
       "secondary_cleaner.state.floatbank2_a_level     0\n",
       "secondary_cleaner.state.floatbank2_b_air       2\n",
       "secondary_cleaner.state.floatbank2_b_level     0\n",
       "secondary_cleaner.state.floatbank3_a_air       9\n",
       "secondary_cleaner.state.floatbank3_a_level     0\n",
       "secondary_cleaner.state.floatbank3_b_air       0\n",
       "secondary_cleaner.state.floatbank3_b_level     0\n",
       "secondary_cleaner.state.floatbank4_a_air       0\n",
       "secondary_cleaner.state.floatbank4_a_level     0\n",
       "secondary_cleaner.state.floatbank4_b_air       0\n",
       "secondary_cleaner.state.floatbank4_b_level     0\n",
       "secondary_cleaner.state.floatbank5_a_air       0\n",
       "secondary_cleaner.state.floatbank5_a_level     0\n",
       "secondary_cleaner.state.floatbank5_b_air       0\n",
       "secondary_cleaner.state.floatbank5_b_level     0\n",
       "secondary_cleaner.state.floatbank6_a_air       0\n",
       "secondary_cleaner.state.floatbank6_a_level     0\n",
       "dtype: int64"
      ]
     },
     "execution_count": 27,
     "metadata": {},
     "output_type": "execute_result"
    }
   ],
   "source": [
    "df_test.isna().sum()"
   ]
  },
  {
   "cell_type": "code",
   "execution_count": 28,
   "metadata": {},
   "outputs": [
    {
     "data": {
      "text/plain": [
       "0     40\n",
       "4      2\n",
       "5      2\n",
       "3      2\n",
       "1      1\n",
       "21     1\n",
       "8      1\n",
       "25     1\n",
       "2      1\n",
       "9      1\n",
       "Name: count, dtype: int64"
      ]
     },
     "execution_count": 28,
     "metadata": {},
     "output_type": "execute_result"
    }
   ],
   "source": [
    "df_test.isna().sum().value_counts()"
   ]
  },
  {
   "cell_type": "code",
   "execution_count": 29,
   "metadata": {},
   "outputs": [
    {
     "data": {
      "text/plain": [
       "0.004725897920604915"
      ]
     },
     "execution_count": 29,
     "metadata": {},
     "output_type": "execute_result"
    }
   ],
   "source": [
    "isna_ratio_test = df_test['rougher.input.floatbank11_xanthate'].isna().sum()/5290\n",
    "isna_ratio_test"
   ]
  },
  {
   "cell_type": "markdown",
   "metadata": {},
   "source": [
    "As the number of omissions in the test sample is insignificant, we will get rid of the missing values."
   ]
  },
  {
   "cell_type": "code",
   "execution_count": 30,
   "metadata": {},
   "outputs": [
    {
     "name": "stdout",
     "output_type": "stream",
     "text": [
      "<class 'pandas.core.frame.DataFrame'>\n",
      "Index: 5229 entries, 2016-09-01 00:59:59 to 2017-12-31 23:59:59\n",
      "Data columns (total 52 columns):\n",
      " #   Column                                      Non-Null Count  Dtype  \n",
      "---  ------                                      --------------  -----  \n",
      " 0   primary_cleaner.input.sulfate               5229 non-null   float64\n",
      " 1   primary_cleaner.input.depressant            5229 non-null   float64\n",
      " 2   primary_cleaner.input.feed_size             5229 non-null   float64\n",
      " 3   primary_cleaner.input.xanthate              5229 non-null   float64\n",
      " 4   primary_cleaner.state.floatbank8_a_air      5229 non-null   float64\n",
      " 5   primary_cleaner.state.floatbank8_a_level    5229 non-null   float64\n",
      " 6   primary_cleaner.state.floatbank8_b_air      5229 non-null   float64\n",
      " 7   primary_cleaner.state.floatbank8_b_level    5229 non-null   float64\n",
      " 8   primary_cleaner.state.floatbank8_c_air      5229 non-null   float64\n",
      " 9   primary_cleaner.state.floatbank8_c_level    5229 non-null   float64\n",
      " 10  primary_cleaner.state.floatbank8_d_air      5229 non-null   float64\n",
      " 11  primary_cleaner.state.floatbank8_d_level    5229 non-null   float64\n",
      " 12  rougher.input.feed_ag                       5229 non-null   float64\n",
      " 13  rougher.input.feed_pb                       5229 non-null   float64\n",
      " 14  rougher.input.feed_rate                     5229 non-null   float64\n",
      " 15  rougher.input.feed_size                     5229 non-null   float64\n",
      " 16  rougher.input.feed_sol                      5229 non-null   float64\n",
      " 17  rougher.input.feed_au                       5229 non-null   float64\n",
      " 18  rougher.input.floatbank10_sulfate           5229 non-null   float64\n",
      " 19  rougher.input.floatbank10_xanthate          5229 non-null   float64\n",
      " 20  rougher.input.floatbank11_sulfate           5229 non-null   float64\n",
      " 21  rougher.input.floatbank11_xanthate          5229 non-null   float64\n",
      " 22  rougher.state.floatbank10_a_air             5229 non-null   float64\n",
      " 23  rougher.state.floatbank10_a_level           5229 non-null   float64\n",
      " 24  rougher.state.floatbank10_b_air             5229 non-null   float64\n",
      " 25  rougher.state.floatbank10_b_level           5229 non-null   float64\n",
      " 26  rougher.state.floatbank10_c_air             5229 non-null   float64\n",
      " 27  rougher.state.floatbank10_c_level           5229 non-null   float64\n",
      " 28  rougher.state.floatbank10_d_air             5229 non-null   float64\n",
      " 29  rougher.state.floatbank10_d_level           5229 non-null   float64\n",
      " 30  rougher.state.floatbank10_e_air             5229 non-null   float64\n",
      " 31  rougher.state.floatbank10_e_level           5229 non-null   float64\n",
      " 32  rougher.state.floatbank10_f_air             5229 non-null   float64\n",
      " 33  rougher.state.floatbank10_f_level           5229 non-null   float64\n",
      " 34  secondary_cleaner.state.floatbank2_a_air    5229 non-null   float64\n",
      " 35  secondary_cleaner.state.floatbank2_a_level  5229 non-null   float64\n",
      " 36  secondary_cleaner.state.floatbank2_b_air    5229 non-null   float64\n",
      " 37  secondary_cleaner.state.floatbank2_b_level  5229 non-null   float64\n",
      " 38  secondary_cleaner.state.floatbank3_a_air    5229 non-null   float64\n",
      " 39  secondary_cleaner.state.floatbank3_a_level  5229 non-null   float64\n",
      " 40  secondary_cleaner.state.floatbank3_b_air    5229 non-null   float64\n",
      " 41  secondary_cleaner.state.floatbank3_b_level  5229 non-null   float64\n",
      " 42  secondary_cleaner.state.floatbank4_a_air    5229 non-null   float64\n",
      " 43  secondary_cleaner.state.floatbank4_a_level  5229 non-null   float64\n",
      " 44  secondary_cleaner.state.floatbank4_b_air    5229 non-null   float64\n",
      " 45  secondary_cleaner.state.floatbank4_b_level  5229 non-null   float64\n",
      " 46  secondary_cleaner.state.floatbank5_a_air    5229 non-null   float64\n",
      " 47  secondary_cleaner.state.floatbank5_a_level  5229 non-null   float64\n",
      " 48  secondary_cleaner.state.floatbank5_b_air    5229 non-null   float64\n",
      " 49  secondary_cleaner.state.floatbank5_b_level  5229 non-null   float64\n",
      " 50  secondary_cleaner.state.floatbank6_a_air    5229 non-null   float64\n",
      " 51  secondary_cleaner.state.floatbank6_a_level  5229 non-null   float64\n",
      "dtypes: float64(52)\n",
      "memory usage: 2.1+ MB\n"
     ]
    }
   ],
   "source": [
    "df_test = df_test.dropna()\n",
    "df_test.info()"
   ]
  },
  {
   "cell_type": "markdown",
   "metadata": {},
   "source": [
    "## Data analysis"
   ]
  },
  {
   "cell_type": "markdown",
   "metadata": {},
   "source": [
    "Let's come to know the process of recovering gold from ore in more detail."
   ]
  },
  {
   "cell_type": "markdown",
   "metadata": {},
   "source": [
    "### 2.1. Changing the concentration of elements in the cleaning process"
   ]
  },
  {
   "cell_type": "markdown",
   "metadata": {},
   "source": [
    "Consider the change in the concentration of elements Au, Ag, Pb in the purification process.\n",
    "\n",
    "Let's separate these features into a separate dataset (df_concentration)."
   ]
  },
  {
   "cell_type": "code",
   "execution_count": 31,
   "metadata": {},
   "outputs": [
    {
     "data": {
      "text/html": [
       "<div>\n",
       "<style scoped>\n",
       "    .dataframe tbody tr th:only-of-type {\n",
       "        vertical-align: middle;\n",
       "    }\n",
       "\n",
       "    .dataframe tbody tr th {\n",
       "        vertical-align: top;\n",
       "    }\n",
       "\n",
       "    .dataframe thead th {\n",
       "        text-align: right;\n",
       "    }\n",
       "</style>\n",
       "<table border=\"1\" class=\"dataframe\">\n",
       "  <thead>\n",
       "    <tr style=\"text-align: right;\">\n",
       "      <th></th>\n",
       "      <th>rougher.input.feed_ag</th>\n",
       "      <th>rougher.input.feed_pb</th>\n",
       "      <th>rougher.input.feed_au</th>\n",
       "      <th>rougher.output.concentrate_ag</th>\n",
       "      <th>rougher.output.concentrate_pb</th>\n",
       "      <th>rougher.output.concentrate_au</th>\n",
       "      <th>primary_cleaner.output.concentrate_ag</th>\n",
       "      <th>primary_cleaner.output.concentrate_pb</th>\n",
       "      <th>primary_cleaner.output.concentrate_au</th>\n",
       "      <th>final.output.concentrate_ag</th>\n",
       "      <th>final.output.concentrate_pb</th>\n",
       "      <th>final.output.concentrate_au</th>\n",
       "    </tr>\n",
       "    <tr>\n",
       "      <th>date</th>\n",
       "      <th></th>\n",
       "      <th></th>\n",
       "      <th></th>\n",
       "      <th></th>\n",
       "      <th></th>\n",
       "      <th></th>\n",
       "      <th></th>\n",
       "      <th></th>\n",
       "      <th></th>\n",
       "      <th></th>\n",
       "      <th></th>\n",
       "      <th></th>\n",
       "    </tr>\n",
       "  </thead>\n",
       "  <tbody>\n",
       "    <tr>\n",
       "      <th>2016-01-15 00:00:00</th>\n",
       "      <td>6.100378</td>\n",
       "      <td>2.284912</td>\n",
       "      <td>6.486150</td>\n",
       "      <td>11.500771</td>\n",
       "      <td>7.101074</td>\n",
       "      <td>19.793808</td>\n",
       "      <td>8.547551</td>\n",
       "      <td>10.389648</td>\n",
       "      <td>34.174427</td>\n",
       "      <td>6.055403</td>\n",
       "      <td>9.889648</td>\n",
       "      <td>42.192020</td>\n",
       "    </tr>\n",
       "    <tr>\n",
       "      <th>2016-01-15 01:00:00</th>\n",
       "      <td>6.161113</td>\n",
       "      <td>2.266033</td>\n",
       "      <td>6.478583</td>\n",
       "      <td>11.615865</td>\n",
       "      <td>7.278807</td>\n",
       "      <td>20.050975</td>\n",
       "      <td>8.558743</td>\n",
       "      <td>10.497069</td>\n",
       "      <td>34.118526</td>\n",
       "      <td>6.029369</td>\n",
       "      <td>9.968944</td>\n",
       "      <td>42.701629</td>\n",
       "    </tr>\n",
       "    <tr>\n",
       "      <th>2016-01-15 02:00:00</th>\n",
       "      <td>6.116455</td>\n",
       "      <td>2.159622</td>\n",
       "      <td>6.362222</td>\n",
       "      <td>11.695753</td>\n",
       "      <td>7.216833</td>\n",
       "      <td>19.737170</td>\n",
       "      <td>8.603505</td>\n",
       "      <td>10.354494</td>\n",
       "      <td>33.969464</td>\n",
       "      <td>6.055926</td>\n",
       "      <td>10.213995</td>\n",
       "      <td>42.657501</td>\n",
       "    </tr>\n",
       "    <tr>\n",
       "      <th>2016-01-15 03:00:00</th>\n",
       "      <td>6.043309</td>\n",
       "      <td>2.037807</td>\n",
       "      <td>6.118189</td>\n",
       "      <td>11.915047</td>\n",
       "      <td>7.175616</td>\n",
       "      <td>19.320810</td>\n",
       "      <td>7.221879</td>\n",
       "      <td>8.496563</td>\n",
       "      <td>28.260743</td>\n",
       "      <td>6.047977</td>\n",
       "      <td>9.977019</td>\n",
       "      <td>42.689819</td>\n",
       "    </tr>\n",
       "    <tr>\n",
       "      <th>2016-01-15 04:00:00</th>\n",
       "      <td>6.060915</td>\n",
       "      <td>1.786875</td>\n",
       "      <td>5.663707</td>\n",
       "      <td>12.411054</td>\n",
       "      <td>7.240205</td>\n",
       "      <td>19.216101</td>\n",
       "      <td>9.089428</td>\n",
       "      <td>9.986786</td>\n",
       "      <td>33.044932</td>\n",
       "      <td>6.148599</td>\n",
       "      <td>10.142511</td>\n",
       "      <td>42.774141</td>\n",
       "    </tr>\n",
       "  </tbody>\n",
       "</table>\n",
       "</div>"
      ],
      "text/plain": [
       "                     rougher.input.feed_ag  rougher.input.feed_pb   \n",
       "date                                                                \n",
       "2016-01-15 00:00:00               6.100378               2.284912  \\\n",
       "2016-01-15 01:00:00               6.161113               2.266033   \n",
       "2016-01-15 02:00:00               6.116455               2.159622   \n",
       "2016-01-15 03:00:00               6.043309               2.037807   \n",
       "2016-01-15 04:00:00               6.060915               1.786875   \n",
       "\n",
       "                     rougher.input.feed_au  rougher.output.concentrate_ag   \n",
       "date                                                                        \n",
       "2016-01-15 00:00:00               6.486150                      11.500771  \\\n",
       "2016-01-15 01:00:00               6.478583                      11.615865   \n",
       "2016-01-15 02:00:00               6.362222                      11.695753   \n",
       "2016-01-15 03:00:00               6.118189                      11.915047   \n",
       "2016-01-15 04:00:00               5.663707                      12.411054   \n",
       "\n",
       "                     rougher.output.concentrate_pb   \n",
       "date                                                 \n",
       "2016-01-15 00:00:00                       7.101074  \\\n",
       "2016-01-15 01:00:00                       7.278807   \n",
       "2016-01-15 02:00:00                       7.216833   \n",
       "2016-01-15 03:00:00                       7.175616   \n",
       "2016-01-15 04:00:00                       7.240205   \n",
       "\n",
       "                     rougher.output.concentrate_au   \n",
       "date                                                 \n",
       "2016-01-15 00:00:00                      19.793808  \\\n",
       "2016-01-15 01:00:00                      20.050975   \n",
       "2016-01-15 02:00:00                      19.737170   \n",
       "2016-01-15 03:00:00                      19.320810   \n",
       "2016-01-15 04:00:00                      19.216101   \n",
       "\n",
       "                     primary_cleaner.output.concentrate_ag   \n",
       "date                                                         \n",
       "2016-01-15 00:00:00                               8.547551  \\\n",
       "2016-01-15 01:00:00                               8.558743   \n",
       "2016-01-15 02:00:00                               8.603505   \n",
       "2016-01-15 03:00:00                               7.221879   \n",
       "2016-01-15 04:00:00                               9.089428   \n",
       "\n",
       "                     primary_cleaner.output.concentrate_pb   \n",
       "date                                                         \n",
       "2016-01-15 00:00:00                              10.389648  \\\n",
       "2016-01-15 01:00:00                              10.497069   \n",
       "2016-01-15 02:00:00                              10.354494   \n",
       "2016-01-15 03:00:00                               8.496563   \n",
       "2016-01-15 04:00:00                               9.986786   \n",
       "\n",
       "                     primary_cleaner.output.concentrate_au   \n",
       "date                                                         \n",
       "2016-01-15 00:00:00                              34.174427  \\\n",
       "2016-01-15 01:00:00                              34.118526   \n",
       "2016-01-15 02:00:00                              33.969464   \n",
       "2016-01-15 03:00:00                              28.260743   \n",
       "2016-01-15 04:00:00                              33.044932   \n",
       "\n",
       "                     final.output.concentrate_ag  final.output.concentrate_pb   \n",
       "date                                                                            \n",
       "2016-01-15 00:00:00                     6.055403                     9.889648  \\\n",
       "2016-01-15 01:00:00                     6.029369                     9.968944   \n",
       "2016-01-15 02:00:00                     6.055926                    10.213995   \n",
       "2016-01-15 03:00:00                     6.047977                     9.977019   \n",
       "2016-01-15 04:00:00                     6.148599                    10.142511   \n",
       "\n",
       "                     final.output.concentrate_au  \n",
       "date                                              \n",
       "2016-01-15 00:00:00                    42.192020  \n",
       "2016-01-15 01:00:00                    42.701629  \n",
       "2016-01-15 02:00:00                    42.657501  \n",
       "2016-01-15 03:00:00                    42.689819  \n",
       "2016-01-15 04:00:00                    42.774141  "
      ]
     },
     "execution_count": 31,
     "metadata": {},
     "output_type": "execute_result"
    }
   ],
   "source": [
    "df_concentration = df_train[['rougher.input.feed_ag','rougher.input.feed_pb','rougher.input.feed_au',\n",
    "                            'rougher.output.concentrate_ag','rougher.output.concentrate_pb','rougher.output.concentrate_au',\n",
    "                            'primary_cleaner.output.concentrate_ag','primary_cleaner.output.concentrate_pb','primary_cleaner.output.concentrate_au',\n",
    "                            'final.output.concentrate_ag','final.output.concentrate_pb','final.output.concentrate_au']]\n",
    "df_concentration.head()"
   ]
  },
  {
   "cell_type": "code",
   "execution_count": 32,
   "metadata": {},
   "outputs": [
    {
     "data": {
      "text/html": [
       "<div>\n",
       "<style scoped>\n",
       "    .dataframe tbody tr th:only-of-type {\n",
       "        vertical-align: middle;\n",
       "    }\n",
       "\n",
       "    .dataframe tbody tr th {\n",
       "        vertical-align: top;\n",
       "    }\n",
       "\n",
       "    .dataframe thead th {\n",
       "        text-align: right;\n",
       "    }\n",
       "</style>\n",
       "<table border=\"1\" class=\"dataframe\">\n",
       "  <thead>\n",
       "    <tr style=\"text-align: right;\">\n",
       "      <th></th>\n",
       "      <th>rougher.input.feed_ag</th>\n",
       "      <th>rougher.input.feed_pb</th>\n",
       "      <th>rougher.input.feed_au</th>\n",
       "      <th>rougher.output.concentrate_ag</th>\n",
       "      <th>rougher.output.concentrate_pb</th>\n",
       "      <th>rougher.output.concentrate_au</th>\n",
       "      <th>primary_cleaner.output.concentrate_ag</th>\n",
       "      <th>primary_cleaner.output.concentrate_pb</th>\n",
       "      <th>primary_cleaner.output.concentrate_au</th>\n",
       "      <th>final.output.concentrate_ag</th>\n",
       "      <th>final.output.concentrate_pb</th>\n",
       "      <th>final.output.concentrate_au</th>\n",
       "    </tr>\n",
       "  </thead>\n",
       "  <tbody>\n",
       "    <tr>\n",
       "      <th>count</th>\n",
       "      <td>12245.000000</td>\n",
       "      <td>12245.000000</td>\n",
       "      <td>12245.000000</td>\n",
       "      <td>12245.000000</td>\n",
       "      <td>12245.000000</td>\n",
       "      <td>12245.000000</td>\n",
       "      <td>12245.000000</td>\n",
       "      <td>12245.000000</td>\n",
       "      <td>12245.000000</td>\n",
       "      <td>12245.000000</td>\n",
       "      <td>12245.000000</td>\n",
       "      <td>12245.000000</td>\n",
       "    </tr>\n",
       "    <tr>\n",
       "      <th>mean</th>\n",
       "      <td>8.608579</td>\n",
       "      <td>3.557660</td>\n",
       "      <td>7.940149</td>\n",
       "      <td>11.813971</td>\n",
       "      <td>7.737378</td>\n",
       "      <td>19.628357</td>\n",
       "      <td>8.275255</td>\n",
       "      <td>9.694681</td>\n",
       "      <td>32.396620</td>\n",
       "      <td>5.084075</td>\n",
       "      <td>10.217381</td>\n",
       "      <td>44.235977</td>\n",
       "    </tr>\n",
       "    <tr>\n",
       "      <th>std</th>\n",
       "      <td>1.896136</td>\n",
       "      <td>1.066716</td>\n",
       "      <td>1.829443</td>\n",
       "      <td>2.587167</td>\n",
       "      <td>1.762359</td>\n",
       "      <td>3.495520</td>\n",
       "      <td>1.932572</td>\n",
       "      <td>2.597600</td>\n",
       "      <td>5.438798</td>\n",
       "      <td>1.324223</td>\n",
       "      <td>1.574890</td>\n",
       "      <td>4.137740</td>\n",
       "    </tr>\n",
       "    <tr>\n",
       "      <th>min</th>\n",
       "      <td>0.010000</td>\n",
       "      <td>0.010000</td>\n",
       "      <td>0.010000</td>\n",
       "      <td>0.000000</td>\n",
       "      <td>0.000000</td>\n",
       "      <td>0.000000</td>\n",
       "      <td>0.000000</td>\n",
       "      <td>0.000000</td>\n",
       "      <td>0.000000</td>\n",
       "      <td>0.000000</td>\n",
       "      <td>0.000000</td>\n",
       "      <td>0.000000</td>\n",
       "    </tr>\n",
       "    <tr>\n",
       "      <th>25%</th>\n",
       "      <td>7.143893</td>\n",
       "      <td>2.811830</td>\n",
       "      <td>6.669860</td>\n",
       "      <td>10.509719</td>\n",
       "      <td>6.896294</td>\n",
       "      <td>18.577989</td>\n",
       "      <td>7.172502</td>\n",
       "      <td>8.444144</td>\n",
       "      <td>30.787406</td>\n",
       "      <td>4.173854</td>\n",
       "      <td>9.342016</td>\n",
       "      <td>43.344487</td>\n",
       "    </tr>\n",
       "    <tr>\n",
       "      <th>50%</th>\n",
       "      <td>8.148057</td>\n",
       "      <td>3.459495</td>\n",
       "      <td>7.688152</td>\n",
       "      <td>11.729089</td>\n",
       "      <td>7.772689</td>\n",
       "      <td>20.045231</td>\n",
       "      <td>8.261417</td>\n",
       "      <td>9.996089</td>\n",
       "      <td>33.099856</td>\n",
       "      <td>4.916966</td>\n",
       "      <td>10.385437</td>\n",
       "      <td>44.898711</td>\n",
       "    </tr>\n",
       "    <tr>\n",
       "      <th>75%</th>\n",
       "      <td>10.000623</td>\n",
       "      <td>4.257870</td>\n",
       "      <td>9.066976</td>\n",
       "      <td>13.342284</td>\n",
       "      <td>8.650494</td>\n",
       "      <td>21.478276</td>\n",
       "      <td>9.545107</td>\n",
       "      <td>11.356572</td>\n",
       "      <td>35.202943</td>\n",
       "      <td>5.777093</td>\n",
       "      <td>11.226519</td>\n",
       "      <td>46.166541</td>\n",
       "    </tr>\n",
       "    <tr>\n",
       "      <th>max</th>\n",
       "      <td>14.596026</td>\n",
       "      <td>7.142594</td>\n",
       "      <td>13.126043</td>\n",
       "      <td>21.725695</td>\n",
       "      <td>12.797765</td>\n",
       "      <td>28.146838</td>\n",
       "      <td>15.005789</td>\n",
       "      <td>17.081278</td>\n",
       "      <td>45.933934</td>\n",
       "      <td>16.001945</td>\n",
       "      <td>17.031899</td>\n",
       "      <td>51.571885</td>\n",
       "    </tr>\n",
       "  </tbody>\n",
       "</table>\n",
       "</div>"
      ],
      "text/plain": [
       "       rougher.input.feed_ag  rougher.input.feed_pb  rougher.input.feed_au   \n",
       "count           12245.000000           12245.000000           12245.000000  \\\n",
       "mean                8.608579               3.557660               7.940149   \n",
       "std                 1.896136               1.066716               1.829443   \n",
       "min                 0.010000               0.010000               0.010000   \n",
       "25%                 7.143893               2.811830               6.669860   \n",
       "50%                 8.148057               3.459495               7.688152   \n",
       "75%                10.000623               4.257870               9.066976   \n",
       "max                14.596026               7.142594              13.126043   \n",
       "\n",
       "       rougher.output.concentrate_ag  rougher.output.concentrate_pb   \n",
       "count                   12245.000000                   12245.000000  \\\n",
       "mean                       11.813971                       7.737378   \n",
       "std                         2.587167                       1.762359   \n",
       "min                         0.000000                       0.000000   \n",
       "25%                        10.509719                       6.896294   \n",
       "50%                        11.729089                       7.772689   \n",
       "75%                        13.342284                       8.650494   \n",
       "max                        21.725695                      12.797765   \n",
       "\n",
       "       rougher.output.concentrate_au  primary_cleaner.output.concentrate_ag   \n",
       "count                   12245.000000                           12245.000000  \\\n",
       "mean                       19.628357                               8.275255   \n",
       "std                         3.495520                               1.932572   \n",
       "min                         0.000000                               0.000000   \n",
       "25%                        18.577989                               7.172502   \n",
       "50%                        20.045231                               8.261417   \n",
       "75%                        21.478276                               9.545107   \n",
       "max                        28.146838                              15.005789   \n",
       "\n",
       "       primary_cleaner.output.concentrate_pb   \n",
       "count                           12245.000000  \\\n",
       "mean                                9.694681   \n",
       "std                                 2.597600   \n",
       "min                                 0.000000   \n",
       "25%                                 8.444144   \n",
       "50%                                 9.996089   \n",
       "75%                                11.356572   \n",
       "max                                17.081278   \n",
       "\n",
       "       primary_cleaner.output.concentrate_au  final.output.concentrate_ag   \n",
       "count                           12245.000000                 12245.000000  \\\n",
       "mean                               32.396620                     5.084075   \n",
       "std                                 5.438798                     1.324223   \n",
       "min                                 0.000000                     0.000000   \n",
       "25%                                30.787406                     4.173854   \n",
       "50%                                33.099856                     4.916966   \n",
       "75%                                35.202943                     5.777093   \n",
       "max                                45.933934                    16.001945   \n",
       "\n",
       "       final.output.concentrate_pb  final.output.concentrate_au  \n",
       "count                 12245.000000                 12245.000000  \n",
       "mean                     10.217381                    44.235977  \n",
       "std                       1.574890                     4.137740  \n",
       "min                       0.000000                     0.000000  \n",
       "25%                       9.342016                    43.344487  \n",
       "50%                      10.385437                    44.898711  \n",
       "75%                      11.226519                    46.166541  \n",
       "max                      17.031899                    51.571885  "
      ]
     },
     "execution_count": 32,
     "metadata": {},
     "output_type": "execute_result"
    }
   ],
   "source": [
    "df_concentration.describe()"
   ]
  },
  {
   "cell_type": "markdown",
   "metadata": {},
   "source": [
    "The table shows that the concentration of elements in the technological process is growing.\n",
    "For further evaluation of the change in concentricity, we will take the average value from the features for evaluation.\n",
    "\n",
    "To visualize the dynamics of concentration changes, create a function that will plot the dynamics based on the following parameters:\n",
    "- Dataframe with concentrations at each stage\n",
    "- Column names from the dataframe for a specific element\n",
    "- Specifying the element."
   ]
  },
  {
   "cell_type": "code",
   "execution_count": 33,
   "metadata": {},
   "outputs": [],
   "source": [
    "def build_plot(df, columns, element): \n",
    "    mean_list = [] \n",
    "    mean_list.append(df.mean()) \n",
    "    new_df = pd.DataFrame(data = mean_list, columns = columns).transpose() \n",
    "    plot = new_df.plot(style='o--', figsize=(15, 6), grid=True)\n",
    "    plt.title(f'Trend of concentration changes {element}')\n",
    "    plt.xlabel('Stages of ore recovery')\n",
    "    plt.ylabel('Concentration')\n",
    "    return plot"
   ]
  },
  {
   "cell_type": "code",
   "execution_count": 34,
   "metadata": {
    "scrolled": false
   },
   "outputs": [
    {
     "data": {
      "image/png": "[encoded data removed]",
      "text/plain": [
       "<Figure size 1500x600 with 1 Axes>"
      ]
     },
     "metadata": {},
     "output_type": "display_data"
    },
    {
     "data": {
      "image/png": "[encoded data removed]",
      "text/plain": [
       "<Figure size 1500x600 with 1 Axes>"
      ]
     },
     "metadata": {},
     "output_type": "display_data"
    },
    {
     "data": {
      "image/png": "[encoded data removed]",
      "text/plain": [
       "<Figure size 1500x600 with 1 Axes>"
      ]
     },
     "metadata": {},
     "output_type": "display_data"
    }
   ],
   "source": [
    "ag_columns = ['rougher.input.feed_ag','rougher.output.concentrate_ag','primary_cleaner.output.concentrate_ag', 'final.output.concentrate_ag']\n",
    "pb_columns = ['rougher.input.feed_pb','rougher.output.concentrate_pb','primary_cleaner.output.concentrate_pb', 'final.output.concentrate_pb']\n",
    "au_columns = ['rougher.input.feed_au','rougher.output.concentrate_au','primary_cleaner.output.concentrate_au', 'final.output.concentrate_au']\n",
    "\n",
    "plot_train_ag = build_plot(df_concentration, ag_columns, 'Ag')\n",
    "plt.show()\n",
    "plot_train_pb = build_plot(df_concentration, pb_columns, 'Pb')\n",
    "plt.show()\n",
    "plot_train_au = build_plot(df_concentration, au_columns, 'Au')\n",
    "plt.show()"
   ]
  },
  {
   "cell_type": "markdown",
   "metadata": {},
   "source": [
    "The metal content varies differently with each stage of processing:\n",
    "\n",
    "1) The concentration of silver after flotation first increases, then decreases during the subsequent stages of purification. It can be assumed that silver is effectively removed from the sample as part of purification.\n",
    "\n",
    "2) The concentration of lead increases, while the increase in concentration slows down after primary purification. It can be assumed that the current reagents are not sufficient to completely remove lead, therefore, additional methods of processing and purification from lead will be required when preparing commercial gold.\n",
    "\n",
    "3) The concentration of gold is constantly increasing during purification (6.5 times). It can be assumed that this technological process is effective for the recovery of gold from ore."
   ]
  },
  {
   "cell_type": "markdown",
   "metadata": {},
   "source": [
    "**Output 2.1**\n",
    "\n",
    "At each stage of purification, the concentration of gold increases significantly."
   ]
  },
  {
   "cell_type": "markdown",
   "metadata": {},
   "source": [
    "### 2.2. Comparison of the distribution of raw material granules in the training and test samples."
   ]
  },
  {
   "cell_type": "code",
   "execution_count": 35,
   "metadata": {},
   "outputs": [
    {
     "data": {
      "text/plain": [
       "count    12245.000000\n",
       "mean        58.383086\n",
       "std         19.396434\n",
       "min          9.659576\n",
       "25%         48.791859\n",
       "50%         54.715501\n",
       "75%         63.866660\n",
       "max        484.967466\n",
       "Name: rougher.input.feed_size, dtype: float64"
      ]
     },
     "execution_count": 35,
     "metadata": {},
     "output_type": "execute_result"
    }
   ],
   "source": [
    "df_train['rougher.input.feed_size'].describe()"
   ]
  },
  {
   "cell_type": "code",
   "execution_count": 36,
   "metadata": {},
   "outputs": [
    {
     "data": {
      "text/plain": [
       "count    5229.000000\n",
       "mean       55.863978\n",
       "std        18.914656\n",
       "min         0.046369\n",
       "25%        43.911874\n",
       "50%        50.772729\n",
       "75%        62.265394\n",
       "max       392.494040\n",
       "Name: rougher.input.feed_size, dtype: float64"
      ]
     },
     "execution_count": 36,
     "metadata": {},
     "output_type": "execute_result"
    }
   ],
   "source": [
    "df_test['rougher.input.feed_size'].describe()"
   ]
  },
  {
   "cell_type": "code",
   "execution_count": 37,
   "metadata": {},
   "outputs": [
    {
     "data": {
      "text/plain": [
       "<Axes: >"
      ]
     },
     "execution_count": 37,
     "metadata": {},
     "output_type": "execute_result"
    },
    {
     "data": {
      "image/png": "[encoded data removed]",
      "text/plain": [
       "<Figure size 640x480 with 1 Axes>"
      ]
     },
     "metadata": {},
     "output_type": "display_data"
    }
   ],
   "source": [
    "df_train['rougher.input.feed_size'].hist(bins=30, range =(20,110))"
   ]
  },
  {
   "cell_type": "code",
   "execution_count": 38,
   "metadata": {},
   "outputs": [
    {
     "data": {
      "text/plain": [
       "<Axes: >"
      ]
     },
     "execution_count": 38,
     "metadata": {},
     "output_type": "execute_result"
    },
    {
     "data": {
      "image/png": "[encoded data removed]",
      "text/plain": [
       "<Figure size 640x480 with 1 Axes>"
      ]
     },
     "metadata": {},
     "output_type": "display_data"
    }
   ],
   "source": [
    "df_test['rougher.input.feed_size'].hist(bins=30, range =(20,110))"
   ]
  },
  {
   "cell_type": "markdown",
   "metadata": {},
   "source": [
    "**Conclusion 2.2**"
   ]
  },
  {
   "cell_type": "markdown",
   "metadata": {},
   "source": [
    "The distributions have a similar appearance. Statistical indicators (min, std, quantiles) are comparable."
   ]
  },
  {
   "cell_type": "markdown",
   "metadata": {},
   "source": [
    "### 2.3. Исследование суммарной концентрации веществ на всех стадиях."
   ]
  },
  {
   "cell_type": "markdown",
   "metadata": {},
   "source": [
    "We study the total concentration of substances at all stages. We also continue to work with the training sample.\n",
    "\n",
    "To do this, we sum up the concentrations at each stage."
   ]
  },
  {
   "cell_type": "code",
   "execution_count": 39,
   "metadata": {},
   "outputs": [
    {
     "data": {
      "text/html": [
       "<div>\n",
       "<style scoped>\n",
       "    .dataframe tbody tr th:only-of-type {\n",
       "        vertical-align: middle;\n",
       "    }\n",
       "\n",
       "    .dataframe tbody tr th {\n",
       "        vertical-align: top;\n",
       "    }\n",
       "\n",
       "    .dataframe thead th {\n",
       "        text-align: right;\n",
       "    }\n",
       "</style>\n",
       "<table border=\"1\" class=\"dataframe\">\n",
       "  <thead>\n",
       "    <tr style=\"text-align: right;\">\n",
       "      <th></th>\n",
       "      <th>rougher.input.raw_sum</th>\n",
       "      <th>rougher.output.concentrate_sum</th>\n",
       "      <th>primary_cleaner.output.concentrate_sum</th>\n",
       "      <th>final.output.concentrate_sum</th>\n",
       "    </tr>\n",
       "    <tr>\n",
       "      <th>date</th>\n",
       "      <th></th>\n",
       "      <th></th>\n",
       "      <th></th>\n",
       "      <th></th>\n",
       "    </tr>\n",
       "  </thead>\n",
       "  <tbody>\n",
       "    <tr>\n",
       "      <th>2016-01-15 00:00:00</th>\n",
       "      <td>51.680034</td>\n",
       "      <td>66.424950</td>\n",
       "      <td>72.640924</td>\n",
       "      <td>63.644396</td>\n",
       "    </tr>\n",
       "    <tr>\n",
       "      <th>2016-01-15 01:00:00</th>\n",
       "      <td>50.659114</td>\n",
       "      <td>67.012710</td>\n",
       "      <td>72.543485</td>\n",
       "      <td>63.957723</td>\n",
       "    </tr>\n",
       "    <tr>\n",
       "      <th>2016-01-15 02:00:00</th>\n",
       "      <td>50.609929</td>\n",
       "      <td>66.103793</td>\n",
       "      <td>72.095042</td>\n",
       "      <td>64.311180</td>\n",
       "    </tr>\n",
       "    <tr>\n",
       "      <th>2016-01-15 03:00:00</th>\n",
       "      <td>51.061546</td>\n",
       "      <td>65.752751</td>\n",
       "      <td>59.957723</td>\n",
       "      <td>63.573449</td>\n",
       "    </tr>\n",
       "    <tr>\n",
       "      <th>2016-01-15 04:00:00</th>\n",
       "      <td>47.859163</td>\n",
       "      <td>65.908382</td>\n",
       "      <td>71.321010</td>\n",
       "      <td>64.004667</td>\n",
       "    </tr>\n",
       "  </tbody>\n",
       "</table>\n",
       "</div>"
      ],
      "text/plain": [
       "                     rougher.input.raw_sum  rougher.output.concentrate_sum   \n",
       "date                                                                         \n",
       "2016-01-15 00:00:00              51.680034                       66.424950  \\\n",
       "2016-01-15 01:00:00              50.659114                       67.012710   \n",
       "2016-01-15 02:00:00              50.609929                       66.103793   \n",
       "2016-01-15 03:00:00              51.061546                       65.752751   \n",
       "2016-01-15 04:00:00              47.859163                       65.908382   \n",
       "\n",
       "                     primary_cleaner.output.concentrate_sum   \n",
       "date                                                          \n",
       "2016-01-15 00:00:00                               72.640924  \\\n",
       "2016-01-15 01:00:00                               72.543485   \n",
       "2016-01-15 02:00:00                               72.095042   \n",
       "2016-01-15 03:00:00                               59.957723   \n",
       "2016-01-15 04:00:00                               71.321010   \n",
       "\n",
       "                     final.output.concentrate_sum  \n",
       "date                                               \n",
       "2016-01-15 00:00:00                     63.644396  \n",
       "2016-01-15 01:00:00                     63.957723  \n",
       "2016-01-15 02:00:00                     64.311180  \n",
       "2016-01-15 03:00:00                     63.573449  \n",
       "2016-01-15 04:00:00                     64.004667  "
      ]
     },
     "execution_count": 39,
     "metadata": {},
     "output_type": "execute_result"
    }
   ],
   "source": [
    "df_sum_conc = df_train\n",
    "\n",
    "df_sum_conc['rougher.input.raw_sum'] = df_train['rougher.input.feed_ag']+df_train['rougher.input.feed_pb']+\\\n",
    "                                       df_train['rougher.input.feed_sol']+df_train['rougher.input.feed_au']\n",
    "\n",
    "\n",
    "df_sum_conc['rougher.output.concentrate_sum'] = df_train['rougher.output.concentrate_ag']+df_train['rougher.output.concentrate_pb']+\\\n",
    "                                                df_train['rougher.output.concentrate_sol']+df_train['rougher.output.concentrate_au']\n",
    "\n",
    "\n",
    "df_sum_conc['primary_cleaner.output.concentrate_sum'] = df_train['primary_cleaner.output.concentrate_ag']+df_train['primary_cleaner.output.concentrate_pb']+\\\n",
    "                                                df_train['primary_cleaner.output.concentrate_sol']+df_train['primary_cleaner.output.concentrate_au']\n",
    "\n",
    "\n",
    "df_sum_conc['final.output.concentrate_sum'] = df_train['final.output.concentrate_ag']+df_train['final.output.concentrate_pb']+\\\n",
    "                                                df_train['final.output.concentrate_sol']+df_train['final.output.concentrate_au']\n",
    "\n",
    "df_sum_conc[['rougher.input.raw_sum', \n",
    "             'rougher.output.concentrate_sum', \n",
    "             'primary_cleaner.output.concentrate_sum',\n",
    "            'final.output.concentrate_sum']].head()"
   ]
  },
  {
   "cell_type": "code",
   "execution_count": 40,
   "metadata": {},
   "outputs": [
    {
     "data": {
      "text/html": [
       "<div>\n",
       "<style scoped>\n",
       "    .dataframe tbody tr th:only-of-type {\n",
       "        vertical-align: middle;\n",
       "    }\n",
       "\n",
       "    .dataframe tbody tr th {\n",
       "        vertical-align: top;\n",
       "    }\n",
       "\n",
       "    .dataframe thead th {\n",
       "        text-align: right;\n",
       "    }\n",
       "</style>\n",
       "<table border=\"1\" class=\"dataframe\">\n",
       "  <thead>\n",
       "    <tr style=\"text-align: right;\">\n",
       "      <th></th>\n",
       "      <th>rougher.input.raw_sum</th>\n",
       "      <th>rougher.output.concentrate_sum</th>\n",
       "      <th>primary_cleaner.output.concentrate_sum</th>\n",
       "      <th>final.output.concentrate_sum</th>\n",
       "    </tr>\n",
       "  </thead>\n",
       "  <tbody>\n",
       "    <tr>\n",
       "      <th>count</th>\n",
       "      <td>12245.000000</td>\n",
       "      <td>12245.000000</td>\n",
       "      <td>12245.000000</td>\n",
       "      <td>12245.000000</td>\n",
       "    </tr>\n",
       "    <tr>\n",
       "      <th>mean</th>\n",
       "      <td>56.702320</td>\n",
       "      <td>67.740021</td>\n",
       "      <td>60.454953</td>\n",
       "      <td>68.896651</td>\n",
       "    </tr>\n",
       "    <tr>\n",
       "      <th>std</th>\n",
       "      <td>6.465239</td>\n",
       "      <td>11.791937</td>\n",
       "      <td>9.697090</td>\n",
       "      <td>5.905578</td>\n",
       "    </tr>\n",
       "    <tr>\n",
       "      <th>min</th>\n",
       "      <td>0.040000</td>\n",
       "      <td>0.000000</td>\n",
       "      <td>0.000000</td>\n",
       "      <td>0.000000</td>\n",
       "    </tr>\n",
       "    <tr>\n",
       "      <th>25%</th>\n",
       "      <td>53.068005</td>\n",
       "      <td>65.290876</td>\n",
       "      <td>58.357309</td>\n",
       "      <td>67.753904</td>\n",
       "    </tr>\n",
       "    <tr>\n",
       "      <th>50%</th>\n",
       "      <td>56.869912</td>\n",
       "      <td>69.327464</td>\n",
       "      <td>61.839554</td>\n",
       "      <td>69.275904</td>\n",
       "    </tr>\n",
       "    <tr>\n",
       "      <th>75%</th>\n",
       "      <td>60.932924</td>\n",
       "      <td>73.525876</td>\n",
       "      <td>65.263295</td>\n",
       "      <td>71.110495</td>\n",
       "    </tr>\n",
       "    <tr>\n",
       "      <th>max</th>\n",
       "      <td>72.492216</td>\n",
       "      <td>87.273435</td>\n",
       "      <td>76.918076</td>\n",
       "      <td>80.210644</td>\n",
       "    </tr>\n",
       "  </tbody>\n",
       "</table>\n",
       "</div>"
      ],
      "text/plain": [
       "       rougher.input.raw_sum  rougher.output.concentrate_sum   \n",
       "count           12245.000000                    12245.000000  \\\n",
       "mean               56.702320                       67.740021   \n",
       "std                 6.465239                       11.791937   \n",
       "min                 0.040000                        0.000000   \n",
       "25%                53.068005                       65.290876   \n",
       "50%                56.869912                       69.327464   \n",
       "75%                60.932924                       73.525876   \n",
       "max                72.492216                       87.273435   \n",
       "\n",
       "       primary_cleaner.output.concentrate_sum  final.output.concentrate_sum  \n",
       "count                            12245.000000                  12245.000000  \n",
       "mean                                60.454953                     68.896651  \n",
       "std                                  9.697090                      5.905578  \n",
       "min                                  0.000000                      0.000000  \n",
       "25%                                 58.357309                     67.753904  \n",
       "50%                                 61.839554                     69.275904  \n",
       "75%                                 65.263295                     71.110495  \n",
       "max                                 76.918076                     80.210644  "
      ]
     },
     "execution_count": 40,
     "metadata": {},
     "output_type": "execute_result"
    }
   ],
   "source": [
    "df_sum_conc[['rougher.input.raw_sum', \n",
    "             'rougher.output.concentrate_sum', \n",
    "             'primary_cleaner.output.concentrate_sum',\n",
    "            'final.output.concentrate_sum']].describe()"
   ]
  },
  {
   "cell_type": "markdown",
   "metadata": {},
   "source": [
    "Let's look at histograms with total concentrations."
   ]
  },
  {
   "cell_type": "code",
   "execution_count": 41,
   "metadata": {},
   "outputs": [
    {
     "data": {
      "text/plain": [
       "<Axes: >"
      ]
     },
     "execution_count": 41,
     "metadata": {},
     "output_type": "execute_result"
    },
    {
     "data": {
      "image/png": "[encoded data removed]",
      "text/plain": [
       "<Figure size 640x480 with 1 Axes>"
      ]
     },
     "metadata": {},
     "output_type": "display_data"
    }
   ],
   "source": [
    "df_sum_conc['rougher.input.raw_sum'].hist(bins=30, range =(0,80))"
   ]
  },
  {
   "cell_type": "code",
   "execution_count": 42,
   "metadata": {},
   "outputs": [
    {
     "data": {
      "text/plain": [
       "<Axes: >"
      ]
     },
     "execution_count": 42,
     "metadata": {},
     "output_type": "execute_result"
    },
    {
     "data": {
      "image/png": "[encoded data removed]",
      "text/plain": [
       "<Figure size 640x480 with 1 Axes>"
      ]
     },
     "metadata": {},
     "output_type": "display_data"
    }
   ],
   "source": [
    "df_sum_conc['rougher.output.concentrate_sum'].hist(bins=30, range =(0,90))"
   ]
  },
  {
   "cell_type": "code",
   "execution_count": 43,
   "metadata": {},
   "outputs": [
    {
     "data": {
      "text/plain": [
       "<Axes: >"
      ]
     },
     "execution_count": 43,
     "metadata": {},
     "output_type": "execute_result"
    },
    {
     "data": {
      "image/png": "[encoded data removed]",
      "text/plain": [
       "<Figure size 640x480 with 1 Axes>"
      ]
     },
     "metadata": {},
     "output_type": "display_data"
    }
   ],
   "source": [
    "df_sum_conc['final.output.concentrate_sum'].hist(bins=30, range =(0,80))"
   ]
  },
  {
   "cell_type": "code",
   "execution_count": 44,
   "metadata": {},
   "outputs": [
    {
     "data": {
      "text/plain": [
       "<Axes: >"
      ]
     },
     "execution_count": 44,
     "metadata": {},
     "output_type": "execute_result"
    },
    {
     "data": {
      "image/png": "[encoded data removed]",
      "text/plain": [
       "<Figure size 640x480 with 1 Axes>"
      ]
     },
     "metadata": {},
     "output_type": "display_data"
    }
   ],
   "source": [
    "df_sum_conc['primary_cleaner.output.concentrate_sum'].hist(bins=30, range =(0,80))"
   ]
  },
  {
   "cell_type": "markdown",
   "metadata": {},
   "source": [
    "According to the provided graphs, we see that there are zero values of the total concentration at the purification stages. Since we will be predicting the recovery values of gold from ore, we need to get rid of zero values.\n",
    "\n",
    "We have the key features of rougher.output.recovery and final.output.recovery. If our shares of elements after cleaning are equal to 0, then the target features themselves will also be equal to 0.\n",
    "\n",
    "Let's check the zero values."
   ]
  },
  {
   "cell_type": "code",
   "execution_count": 45,
   "metadata": {},
   "outputs": [
    {
     "data": {
      "text/plain": [
       "206"
      ]
     },
     "execution_count": 45,
     "metadata": {},
     "output_type": "execute_result"
    }
   ],
   "source": [
    "df_train.loc[df_train.loc[:,'rougher.output.recovery'] == 0]['rougher.output.recovery'].count()"
   ]
  },
  {
   "cell_type": "code",
   "execution_count": 46,
   "metadata": {},
   "outputs": [
    {
     "data": {
      "text/plain": [
       "31"
      ]
     },
     "execution_count": 46,
     "metadata": {},
     "output_type": "execute_result"
    }
   ],
   "source": [
    "df_train.loc[df_train.loc[:,'final.output.recovery'] == 0]['final.output.recovery'].count()"
   ]
  },
  {
   "cell_type": "code",
   "execution_count": 47,
   "metadata": {},
   "outputs": [
    {
     "data": {
      "text/html": [
       "<div>\n",
       "<style scoped>\n",
       "    .dataframe tbody tr th:only-of-type {\n",
       "        vertical-align: middle;\n",
       "    }\n",
       "\n",
       "    .dataframe tbody tr th {\n",
       "        vertical-align: top;\n",
       "    }\n",
       "\n",
       "    .dataframe thead th {\n",
       "        text-align: right;\n",
       "    }\n",
       "</style>\n",
       "<table border=\"1\" class=\"dataframe\">\n",
       "  <thead>\n",
       "    <tr style=\"text-align: right;\">\n",
       "      <th></th>\n",
       "      <th>final.output.concentrate_ag</th>\n",
       "      <th>final.output.concentrate_pb</th>\n",
       "      <th>final.output.concentrate_sol</th>\n",
       "      <th>final.output.concentrate_au</th>\n",
       "      <th>final.output.recovery</th>\n",
       "      <th>final.output.tail_ag</th>\n",
       "      <th>final.output.tail_pb</th>\n",
       "      <th>final.output.tail_sol</th>\n",
       "      <th>final.output.tail_au</th>\n",
       "      <th>primary_cleaner.input.sulfate</th>\n",
       "      <th>...</th>\n",
       "      <th>secondary_cleaner.state.floatbank5_a_level</th>\n",
       "      <th>secondary_cleaner.state.floatbank5_b_air</th>\n",
       "      <th>secondary_cleaner.state.floatbank5_b_level</th>\n",
       "      <th>secondary_cleaner.state.floatbank6_a_air</th>\n",
       "      <th>secondary_cleaner.state.floatbank6_a_level</th>\n",
       "      <th>rough_recov_calc</th>\n",
       "      <th>rougher.input.raw_sum</th>\n",
       "      <th>rougher.output.concentrate_sum</th>\n",
       "      <th>primary_cleaner.output.concentrate_sum</th>\n",
       "      <th>final.output.concentrate_sum</th>\n",
       "    </tr>\n",
       "    <tr>\n",
       "      <th>date</th>\n",
       "      <th></th>\n",
       "      <th></th>\n",
       "      <th></th>\n",
       "      <th></th>\n",
       "      <th></th>\n",
       "      <th></th>\n",
       "      <th></th>\n",
       "      <th></th>\n",
       "      <th></th>\n",
       "      <th></th>\n",
       "      <th></th>\n",
       "      <th></th>\n",
       "      <th></th>\n",
       "      <th></th>\n",
       "      <th></th>\n",
       "      <th></th>\n",
       "      <th></th>\n",
       "      <th></th>\n",
       "      <th></th>\n",
       "      <th></th>\n",
       "      <th></th>\n",
       "    </tr>\n",
       "  </thead>\n",
       "  <tbody>\n",
       "    <tr>\n",
       "      <th>2016-01-15 00:00:00</th>\n",
       "      <td>6.055403</td>\n",
       "      <td>9.889648</td>\n",
       "      <td>5.507324</td>\n",
       "      <td>42.192020</td>\n",
       "      <td>70.541216</td>\n",
       "      <td>10.411962</td>\n",
       "      <td>0.895447</td>\n",
       "      <td>16.904297</td>\n",
       "      <td>2.143149</td>\n",
       "      <td>127.092003</td>\n",
       "      <td>...</td>\n",
       "      <td>-498.310211</td>\n",
       "      <td>8.079666</td>\n",
       "      <td>-500.470978</td>\n",
       "      <td>14.151341</td>\n",
       "      <td>-605.841980</td>\n",
       "      <td>87.107763</td>\n",
       "      <td>51.680034</td>\n",
       "      <td>66.424950</td>\n",
       "      <td>72.640924</td>\n",
       "      <td>63.644396</td>\n",
       "    </tr>\n",
       "    <tr>\n",
       "      <th>2016-01-15 01:00:00</th>\n",
       "      <td>6.029369</td>\n",
       "      <td>9.968944</td>\n",
       "      <td>5.257781</td>\n",
       "      <td>42.701629</td>\n",
       "      <td>69.266198</td>\n",
       "      <td>10.462676</td>\n",
       "      <td>0.927452</td>\n",
       "      <td>16.634514</td>\n",
       "      <td>2.224930</td>\n",
       "      <td>125.629232</td>\n",
       "      <td>...</td>\n",
       "      <td>-500.169983</td>\n",
       "      <td>7.984757</td>\n",
       "      <td>-500.582168</td>\n",
       "      <td>13.998353</td>\n",
       "      <td>-599.787184</td>\n",
       "      <td>86.843261</td>\n",
       "      <td>50.659114</td>\n",
       "      <td>67.012710</td>\n",
       "      <td>72.543485</td>\n",
       "      <td>63.957723</td>\n",
       "    </tr>\n",
       "    <tr>\n",
       "      <th>2016-01-15 02:00:00</th>\n",
       "      <td>6.055926</td>\n",
       "      <td>10.213995</td>\n",
       "      <td>5.383759</td>\n",
       "      <td>42.657501</td>\n",
       "      <td>68.116445</td>\n",
       "      <td>10.507046</td>\n",
       "      <td>0.953716</td>\n",
       "      <td>16.208849</td>\n",
       "      <td>2.257889</td>\n",
       "      <td>123.819808</td>\n",
       "      <td>...</td>\n",
       "      <td>-500.129135</td>\n",
       "      <td>8.013877</td>\n",
       "      <td>-500.517572</td>\n",
       "      <td>14.028663</td>\n",
       "      <td>-601.427363</td>\n",
       "      <td>86.842308</td>\n",
       "      <td>50.609929</td>\n",
       "      <td>66.103793</td>\n",
       "      <td>72.095042</td>\n",
       "      <td>64.311180</td>\n",
       "    </tr>\n",
       "    <tr>\n",
       "      <th>2016-01-15 03:00:00</th>\n",
       "      <td>6.047977</td>\n",
       "      <td>9.977019</td>\n",
       "      <td>4.858634</td>\n",
       "      <td>42.689819</td>\n",
       "      <td>68.347543</td>\n",
       "      <td>10.422762</td>\n",
       "      <td>0.883763</td>\n",
       "      <td>16.532835</td>\n",
       "      <td>2.146849</td>\n",
       "      <td>122.270188</td>\n",
       "      <td>...</td>\n",
       "      <td>-499.201640</td>\n",
       "      <td>7.977324</td>\n",
       "      <td>-500.255908</td>\n",
       "      <td>14.005551</td>\n",
       "      <td>-599.996129</td>\n",
       "      <td>87.226430</td>\n",
       "      <td>51.061546</td>\n",
       "      <td>65.752751</td>\n",
       "      <td>59.957723</td>\n",
       "      <td>63.573449</td>\n",
       "    </tr>\n",
       "    <tr>\n",
       "      <th>2016-01-15 04:00:00</th>\n",
       "      <td>6.148599</td>\n",
       "      <td>10.142511</td>\n",
       "      <td>4.939416</td>\n",
       "      <td>42.774141</td>\n",
       "      <td>66.927016</td>\n",
       "      <td>10.360302</td>\n",
       "      <td>0.792826</td>\n",
       "      <td>16.525686</td>\n",
       "      <td>2.055292</td>\n",
       "      <td>117.988169</td>\n",
       "      <td>...</td>\n",
       "      <td>-501.686727</td>\n",
       "      <td>7.894242</td>\n",
       "      <td>-500.356035</td>\n",
       "      <td>13.996647</td>\n",
       "      <td>-601.496691</td>\n",
       "      <td>86.688794</td>\n",
       "      <td>47.859163</td>\n",
       "      <td>65.908382</td>\n",
       "      <td>71.321010</td>\n",
       "      <td>64.004667</td>\n",
       "    </tr>\n",
       "  </tbody>\n",
       "</table>\n",
       "<p>5 rows × 91 columns</p>\n",
       "</div>"
      ],
      "text/plain": [
       "                     final.output.concentrate_ag  final.output.concentrate_pb   \n",
       "date                                                                            \n",
       "2016-01-15 00:00:00                     6.055403                     9.889648  \\\n",
       "2016-01-15 01:00:00                     6.029369                     9.968944   \n",
       "2016-01-15 02:00:00                     6.055926                    10.213995   \n",
       "2016-01-15 03:00:00                     6.047977                     9.977019   \n",
       "2016-01-15 04:00:00                     6.148599                    10.142511   \n",
       "\n",
       "                     final.output.concentrate_sol   \n",
       "date                                                \n",
       "2016-01-15 00:00:00                      5.507324  \\\n",
       "2016-01-15 01:00:00                      5.257781   \n",
       "2016-01-15 02:00:00                      5.383759   \n",
       "2016-01-15 03:00:00                      4.858634   \n",
       "2016-01-15 04:00:00                      4.939416   \n",
       "\n",
       "                     final.output.concentrate_au  final.output.recovery   \n",
       "date                                                                      \n",
       "2016-01-15 00:00:00                    42.192020              70.541216  \\\n",
       "2016-01-15 01:00:00                    42.701629              69.266198   \n",
       "2016-01-15 02:00:00                    42.657501              68.116445   \n",
       "2016-01-15 03:00:00                    42.689819              68.347543   \n",
       "2016-01-15 04:00:00                    42.774141              66.927016   \n",
       "\n",
       "                     final.output.tail_ag  final.output.tail_pb   \n",
       "date                                                              \n",
       "2016-01-15 00:00:00             10.411962              0.895447  \\\n",
       "2016-01-15 01:00:00             10.462676              0.927452   \n",
       "2016-01-15 02:00:00             10.507046              0.953716   \n",
       "2016-01-15 03:00:00             10.422762              0.883763   \n",
       "2016-01-15 04:00:00             10.360302              0.792826   \n",
       "\n",
       "                     final.output.tail_sol  final.output.tail_au   \n",
       "date                                                               \n",
       "2016-01-15 00:00:00              16.904297              2.143149  \\\n",
       "2016-01-15 01:00:00              16.634514              2.224930   \n",
       "2016-01-15 02:00:00              16.208849              2.257889   \n",
       "2016-01-15 03:00:00              16.532835              2.146849   \n",
       "2016-01-15 04:00:00              16.525686              2.055292   \n",
       "\n",
       "                     primary_cleaner.input.sulfate  ...   \n",
       "date                                                ...   \n",
       "2016-01-15 00:00:00                     127.092003  ...  \\\n",
       "2016-01-15 01:00:00                     125.629232  ...   \n",
       "2016-01-15 02:00:00                     123.819808  ...   \n",
       "2016-01-15 03:00:00                     122.270188  ...   \n",
       "2016-01-15 04:00:00                     117.988169  ...   \n",
       "\n",
       "                     secondary_cleaner.state.floatbank5_a_level   \n",
       "date                                                              \n",
       "2016-01-15 00:00:00                                 -498.310211  \\\n",
       "2016-01-15 01:00:00                                 -500.169983   \n",
       "2016-01-15 02:00:00                                 -500.129135   \n",
       "2016-01-15 03:00:00                                 -499.201640   \n",
       "2016-01-15 04:00:00                                 -501.686727   \n",
       "\n",
       "                     secondary_cleaner.state.floatbank5_b_air   \n",
       "date                                                            \n",
       "2016-01-15 00:00:00                                  8.079666  \\\n",
       "2016-01-15 01:00:00                                  7.984757   \n",
       "2016-01-15 02:00:00                                  8.013877   \n",
       "2016-01-15 03:00:00                                  7.977324   \n",
       "2016-01-15 04:00:00                                  7.894242   \n",
       "\n",
       "                     secondary_cleaner.state.floatbank5_b_level   \n",
       "date                                                              \n",
       "2016-01-15 00:00:00                                 -500.470978  \\\n",
       "2016-01-15 01:00:00                                 -500.582168   \n",
       "2016-01-15 02:00:00                                 -500.517572   \n",
       "2016-01-15 03:00:00                                 -500.255908   \n",
       "2016-01-15 04:00:00                                 -500.356035   \n",
       "\n",
       "                     secondary_cleaner.state.floatbank6_a_air   \n",
       "date                                                            \n",
       "2016-01-15 00:00:00                                 14.151341  \\\n",
       "2016-01-15 01:00:00                                 13.998353   \n",
       "2016-01-15 02:00:00                                 14.028663   \n",
       "2016-01-15 03:00:00                                 14.005551   \n",
       "2016-01-15 04:00:00                                 13.996647   \n",
       "\n",
       "                     secondary_cleaner.state.floatbank6_a_level   \n",
       "date                                                              \n",
       "2016-01-15 00:00:00                                 -605.841980  \\\n",
       "2016-01-15 01:00:00                                 -599.787184   \n",
       "2016-01-15 02:00:00                                 -601.427363   \n",
       "2016-01-15 03:00:00                                 -599.996129   \n",
       "2016-01-15 04:00:00                                 -601.496691   \n",
       "\n",
       "                     rough_recov_calc  rougher.input.raw_sum   \n",
       "date                                                           \n",
       "2016-01-15 00:00:00         87.107763              51.680034  \\\n",
       "2016-01-15 01:00:00         86.843261              50.659114   \n",
       "2016-01-15 02:00:00         86.842308              50.609929   \n",
       "2016-01-15 03:00:00         87.226430              51.061546   \n",
       "2016-01-15 04:00:00         86.688794              47.859163   \n",
       "\n",
       "                     rougher.output.concentrate_sum   \n",
       "date                                                  \n",
       "2016-01-15 00:00:00                       66.424950  \\\n",
       "2016-01-15 01:00:00                       67.012710   \n",
       "2016-01-15 02:00:00                       66.103793   \n",
       "2016-01-15 03:00:00                       65.752751   \n",
       "2016-01-15 04:00:00                       65.908382   \n",
       "\n",
       "                     primary_cleaner.output.concentrate_sum   \n",
       "date                                                          \n",
       "2016-01-15 00:00:00                               72.640924  \\\n",
       "2016-01-15 01:00:00                               72.543485   \n",
       "2016-01-15 02:00:00                               72.095042   \n",
       "2016-01-15 03:00:00                               59.957723   \n",
       "2016-01-15 04:00:00                               71.321010   \n",
       "\n",
       "                     final.output.concentrate_sum  \n",
       "date                                               \n",
       "2016-01-15 00:00:00                     63.644396  \n",
       "2016-01-15 01:00:00                     63.957723  \n",
       "2016-01-15 02:00:00                     64.311180  \n",
       "2016-01-15 03:00:00                     63.573449  \n",
       "2016-01-15 04:00:00                     64.004667  \n",
       "\n",
       "[5 rows x 91 columns]"
      ]
     },
     "execution_count": 47,
     "metadata": {},
     "output_type": "execute_result"
    }
   ],
   "source": [
    "df_train = df_train.loc[df_train.loc[:,'rougher.output.recovery'] > 0]\n",
    "df_train = df_train.loc[df_train.loc[:,'final.output.recovery'] > 0]\n",
    "df_train.head()"
   ]
  },
  {
   "cell_type": "markdown",
   "metadata": {},
   "source": [
    "**Conclusion 2.3.**"
   ]
  },
  {
   "cell_type": "markdown",
   "metadata": {},
   "source": [
    "1. The total concentrations are distributed normally.\n",
    "2. It should be noted that:\n",
    "- after flotation, the concentration increases;\n",
    "- further, after primary purification, the total concentration decreases;\n",
    "- at the same time, after secondary purification, the total concentration of substances increases again, but not as much as at the first stage. This may be due to the fact that during the cleaning stages, part of the volume of useful elements comes out together with the slag."
   ]
  },
  {
   "cell_type": "markdown",
   "metadata": {},
   "source": [
    "## Model"
   ]
  },
  {
   "cell_type": "markdown",
   "metadata": {},
   "source": [
    "### 3.1. Preparing a function for calculating the final sMAPE"
   ]
  },
  {
   "cell_type": "code",
   "execution_count": 48,
   "metadata": {},
   "outputs": [],
   "source": [
    "def smape_count_total(t_1, p_1, t_2, p_2):\n",
    "    #t_1 & t_2 - target\n",
    "    #p_1 & p_2 - predicted value\n",
    "    smape_rough = 100 * (1/len(t_1))*sum(abs(t_1-p_1)/((abs(t_1)+abs(p_1))/2))\n",
    "    smape_final = 100 * (1/len(t_1))*sum(abs(t_2-p_2)/((abs(t_2)+abs(p_2))/2))\n",
    "    smape_total = 0.25 * smape_rough + 0.75 * smape_final\n",
    "    return smape_total"
   ]
  },
  {
   "cell_type": "code",
   "execution_count": 49,
   "metadata": {},
   "outputs": [],
   "source": [
    "def smape_count(t_1, p_1):\n",
    "    #t_1 - target\n",
    "    #p_1 - predicted value\n",
    "    smape = 100 * (1/len(t_1))*sum(abs(t_1-p_1)/((abs(t_1)+abs(p_1))/2))\n",
    "    return smape"
   ]
  },
  {
   "cell_type": "markdown",
   "metadata": {},
   "source": [
    "### 3.2. Machine learning models preparation"
   ]
  },
  {
   "cell_type": "markdown",
   "metadata": {},
   "source": [
    "As features in the datasets have numerical values, we will need to predict the numerical value, so regression methods of machine learning are suitable for this task.\n",
    "\n",
    "Let's go back to the training and test sample once again to check which target features to take and which ones we will predict.\n",
    "\n",
    "An important indicator for us is the efficiency of recovery of raw materials after processing. \n",
    "At the same time, it should be noted that there are 2 of them in the full dataset:\n",
    "- *- *rougher.output.recovery* - the effect of recovering gold from ore after flotation\n",
    "- *- *final.output.recovery* - the effect of recovering gold from ore after purification\n",
    "\n",
    "These indicators show how effective the recovery process is. We will use them to estimate the symmetric mean absolute percentage deviation of sMAPE.\n",
    "\n",
    "It should be noted that there are no such signs in the test sample.\n",
    "Therefore, we first need to predict *rougher.output.recovery*, and then *final.output.recovery*. Next, we will evaluate sMAPE."
   ]
  },
  {
   "cell_type": "markdown",
   "metadata": {},
   "source": [
    "At this stage, we will predict the target signs - the effectiveness of recovery after flotation and final cleaning. Let's take a training sample and denote the signs."
   ]
  },
  {
   "cell_type": "code",
   "execution_count": 50,
   "metadata": {},
   "outputs": [],
   "source": [
    "df_train_drop = df_train.drop(['final.output.concentrate_ag', 'final.output.concentrate_pb',\n",
    "                               'final.output.concentrate_sol', 'final.output.concentrate_au',\n",
    "                               'final.output.tail_ag', 'final.output.tail_pb',\n",
    "                               'final.output.tail_sol', 'final.output.tail_au',\n",
    "                               'primary_cleaner.output.concentrate_ag', 'primary_cleaner.output.concentrate_pb',\n",
    "                               'primary_cleaner.output.concentrate_sol', 'primary_cleaner.output.concentrate_au',\n",
    "                               'primary_cleaner.output.tail_ag', 'primary_cleaner.output.tail_pb',\n",
    "                               'primary_cleaner.output.tail_sol', 'primary_cleaner.output.tail_au',\n",
    "                               'rougher.calculation.sulfate_to_au_concentrate','rougher.calculation.floatbank10_sulfate_to_au_feed',\n",
    "                               'rougher.calculation.floatbank11_sulfate_to_au_feed','rougher.calculation.au_pb_ratio',\n",
    "                               'rougher.output.concentrate_ag','rougher.output.concentrate_pb',\n",
    "                               'rougher.output.concentrate_sol', 'rougher.output.concentrate_au',\n",
    "                               'rougher.output.tail_ag',  'rougher.output.tail_pb',\n",
    "                               'rougher.output.tail_sol', 'rougher.output.tail_au',\n",
    "                               'secondary_cleaner.output.tail_ag', 'secondary_cleaner.output.tail_pb',\n",
    "                               'secondary_cleaner.output.tail_sol','secondary_cleaner.output.tail_au',\n",
    "                               'rough_recov_calc', 'rougher.input.raw_sum', 'rougher.output.concentrate_sum',\n",
    "                               'primary_cleaner.output.concentrate_sum', 'final.output.concentrate_sum'\n",
    "                               ], axis=1)\n",
    "\n",
    "\n",
    "not_in_rougher = [ 'primary_cleaner.input.sulfate', 'rougher.output.recovery', 'final.output.recovery',\n",
    "                  'primary_cleaner.input.depressant', 'primary_cleaner.input.feed_size',\n",
    "                  'primary_cleaner.input.xanthate','primary_cleaner.state.floatbank8_a_air',\n",
    "                  'primary_cleaner.state.floatbank8_a_level','primary_cleaner.state.floatbank8_b_air',\n",
    "                  'primary_cleaner.state.floatbank8_b_level','primary_cleaner.state.floatbank8_c_air',\n",
    "                  'primary_cleaner.state.floatbank8_c_level','primary_cleaner.state.floatbank8_d_air',\n",
    "                  'primary_cleaner.state.floatbank8_d_level','secondary_cleaner.state.floatbank2_a_air',\n",
    "                  'secondary_cleaner.state.floatbank2_a_level','secondary_cleaner.state.floatbank2_b_air',\n",
    "                  'secondary_cleaner.state.floatbank2_b_level','secondary_cleaner.state.floatbank3_a_air',\n",
    "                  'secondary_cleaner.state.floatbank3_a_level','secondary_cleaner.state.floatbank3_b_air',\n",
    "                  'secondary_cleaner.state.floatbank3_b_level','secondary_cleaner.state.floatbank4_a_air',\n",
    "                  'secondary_cleaner.state.floatbank4_a_level','secondary_cleaner.state.floatbank4_b_air',\n",
    "                  'secondary_cleaner.state.floatbank4_b_level','secondary_cleaner.state.floatbank5_a_air',\n",
    "                  'secondary_cleaner.state.floatbank5_a_level','secondary_cleaner.state.floatbank5_b_air',\n",
    "                  'secondary_cleaner.state.floatbank5_b_level','secondary_cleaner.state.floatbank6_a_air',\n",
    "                  'secondary_cleaner.state.floatbank6_a_level']\n",
    "\n",
    "\n",
    "features_train_rougher = df_train_drop.drop(not_in_rougher, axis = 1)\n",
    "features_train_final = df_train_drop.drop(['rougher.output.recovery', 'final.output.recovery'], axis = 1)\n",
    "target_train_rougher = df_train_drop['rougher.output.recovery']\n",
    "target_train_final = df_train_drop['final.output.recovery']\n",
    "\n",
    "\n",
    "smape_scorer = make_scorer(smape_count, greater_is_better=False)"
   ]
  },
  {
   "cell_type": "markdown",
   "metadata": {},
   "source": [
    "We will check the models using the GridSearchCV for 3 modelsto predict the effectiveness of recovery after flotation.\n",
    "\n",
    "*- Linear regression*"
   ]
  },
  {
   "cell_type": "code",
   "execution_count": 55,
   "metadata": {},
   "outputs": [
    {
     "name": "stdout",
     "output_type": "stream",
     "text": [
      "Best parametr - rougher: {'n_jobs': -1}\n",
      "Best parametr - final: {'n_jobs': -1}\n",
      "Best parametr - sMAPE rougher: -6.110579066445511\n",
      "Best parametr - sMAPE final: -9.98988857346689\n",
      "CPU times: user 7.74 s, sys: 2.12 s, total: 9.86 s\n",
      "Wall time: 1.04 s\n"
     ]
    }
   ],
   "source": [
    "%%time\n",
    "model_lin_regr_rougher = LinearRegression() \n",
    "model_lin_regr_final = LinearRegression() \n",
    "parametrs_lin_regr = {\n",
    "                      'n_jobs': [ -1, 1 ] }\n",
    "\n",
    "grid_lin_rerg_rougher = GridSearchCV(model_lin_regr_rougher, parametrs_lin_regr,cv=5, scoring = smape_scorer)\n",
    "grid_lin_rerg_final = GridSearchCV(model_lin_regr_final, parametrs_lin_regr,cv=5, scoring = smape_scorer)\n",
    "\n",
    "grid_lin_rerg_rougher.fit(features_train_rougher, target_train_rougher)\n",
    "grid_lin_rerg_final.fit(features_train_final, target_train_final)\n",
    "\n",
    "print('Best parametr - rougher:', grid_lin_rerg_rougher.best_params_)\n",
    "print('Best parametr - final:', grid_lin_rerg_final.best_params_)\n",
    "print('Best parametr - sMAPE rougher:', grid_lin_rerg_rougher.best_score_)\n",
    "print('Best parametr - sMAPE final:', grid_lin_rerg_final.best_score_)"
   ]
  },
  {
   "cell_type": "markdown",
   "metadata": {},
   "source": [
    "*- DecisionTreeRegressor*"
   ]
  },
  {
   "cell_type": "code",
   "execution_count": 56,
   "metadata": {},
   "outputs": [
    {
     "name": "stdout",
     "output_type": "stream",
     "text": [
      "Best parametr - rougher: {'max_depth': 3, 'splitter': 'random'}\n",
      "Best parametr - final: {'max_depth': 2, 'splitter': 'best'}\n",
      "Best parametr - sMAPE rougher: -6.17615955655723\n",
      "Best parametr - sMAPE final: -8.789334982613866\n",
      "CPU times: user 13.3 s, sys: 79 ms, total: 13.4 s\n",
      "Wall time: 13.4 s\n"
     ]
    }
   ],
   "source": [
    "%%time\n",
    "model_tree_regr_rougher = DecisionTreeRegressor()\n",
    "model_tree_regr_final = DecisionTreeRegressor()\n",
    "\n",
    "parametrs_tree_regr = {'splitter': ['best', 'random'],\n",
    "                       'max_depth': range (2, 10, 1)}\n",
    "\n",
    "grid_tree_regr_rougher = GridSearchCV(model_tree_regr_rougher, parametrs_tree_regr, cv=5, scoring = smape_scorer)\n",
    "grid_tree_regr_final = GridSearchCV(model_tree_regr_final, parametrs_tree_regr, cv=5, scoring = smape_scorer)\n",
    "\n",
    "grid_tree_regr_rougher.fit(features_train_rougher, target_train_rougher)\n",
    "grid_tree_regr_final.fit(features_train_final, target_train_final)\n",
    "\n",
    "print('Best parametr - rougher:', grid_tree_regr_rougher.best_params_)\n",
    "print('Best parametr - final:', grid_tree_regr_final.best_params_)\n",
    "print('Best parametr - sMAPE rougher:', grid_tree_regr_rougher.best_score_)\n",
    "print('Best parametr - sMAPE final:', grid_tree_regr_final.best_score_)"
   ]
  },
  {
   "cell_type": "markdown",
   "metadata": {},
   "source": [
    "*- RandomForestRegressor*"
   ]
  },
  {
   "cell_type": "code",
   "execution_count": 57,
   "metadata": {},
   "outputs": [
    {
     "name": "stdout",
     "output_type": "stream",
     "text": [
      "Лучшие параметры rougher: {'n_estimators': 80}\n",
      "Лучшие параметры для final: {'n_estimators': 80}\n",
      "Лучший параметр sMAPE rougher: -6.456879946442237\n",
      "Лучший параметр sMAPE final: -6.456879946442237\n",
      "CPU times: user 10min 16s, sys: 4.7 s, total: 10min 21s\n",
      "Wall time: 10min 25s\n"
     ]
    }
   ],
   "source": [
    "%%time\n",
    "model_ranfor_regr_rougher = RandomForestRegressor()\n",
    "model_ranfor_regr_final = RandomForestRegressor()\n",
    "\n",
    "parametrs_ranfor_regr = {'n_estimators': range (20, 100, 20)}\n",
    "\n",
    "grid_ranfor_regr_rougher = GridSearchCV(model_ranfor_regr_rougher, parametrs_ranfor_regr,cv=5, \n",
    "                                        scoring = smape_scorer)\n",
    "grid_ranfor_regr_final = GridSearchCV(model_ranfor_regr_final, parametrs_ranfor_regr,cv=5, \n",
    "                                      scoring = smape_scorer)\n",
    "\n",
    "grid_ranfor_regr_rougher.fit(features_train_rougher, target_train_rougher)\n",
    "grid_ranfor_regr_final.fit(features_train_final, target_train_final)\n",
    "\n",
    "print('Лучшие параметры rougher:', grid_ranfor_regr_rougher.best_params_)\n",
    "print('Лучшие параметры для final:', grid_ranfor_regr_rougher.best_params_)\n",
    "print('Лучший параметр sMAPE rougher:', grid_ranfor_regr_rougher.best_score_)\n",
    "print('Лучший параметр sMAPE final:', grid_ranfor_regr_rougher.best_score_)\n"
   ]
  },
  {
   "cell_type": "markdown",
   "metadata": {},
   "source": [
    "Finaly, RandomForestRegressor is the best model"
   ]
  },
  {
   "cell_type": "code",
   "execution_count": 58,
   "metadata": {},
   "outputs": [
    {
     "name": "stdout",
     "output_type": "stream",
     "text": [
      "sMAPE_total, train sample 1.6180422155806773\n",
      "CPU times: user 47.2 s, sys: 335 ms, total: 47.5 s\n",
      "Wall time: 47.6 s\n"
     ]
    }
   ],
   "source": [
    "\n",
    "%%time\n",
    "#best_rf_params = grid.best_params_\n",
    "\n",
    "model_ranfor_regr_rougher = RandomForestRegressor(**grid_ranfor_regr_rougher.best_params_)\n",
    "model_ranfor_regr_final = RandomForestRegressor(**grid_ranfor_regr_final.best_params_)\n",
    "\n",
    "\n",
    "model_ranfor_regr_rougher.fit(features_train_rougher, target_train_rougher)\n",
    "model_ranfor_regr_final.fit(features_train_final, target_train_final)\n",
    "\n",
    "\n",
    "pred_train_ranfor_regr_rougher = model_ranfor_regr_rougher.predict(features_train_rougher)\n",
    "pred_train_ranfor_regr_final = model_ranfor_regr_final.predict(features_train_final)\n",
    "\n",
    "\n",
    "print('sMAPE_total, train sample', smape_count_total(target_train_rougher, pred_train_ranfor_regr_rougher,\n",
    "                                           target_train_final, pred_train_ranfor_regr_final))\n",
    "\n"
   ]
  },
  {
   "cell_type": "markdown",
   "metadata": {},
   "source": [
    "### 3.3 Checking the model on a test sample and calculating sMAPE."
   ]
  },
  {
   "cell_type": "code",
   "execution_count": 59,
   "metadata": {},
   "outputs": [],
   "source": [
    "not_in_rougher_test = [ 'primary_cleaner.input.sulfate','primary_cleaner.input.depressant', 'primary_cleaner.input.feed_size',\n",
    "                       'primary_cleaner.input.xanthate','primary_cleaner.state.floatbank8_a_air',\n",
    "                       'primary_cleaner.state.floatbank8_a_level','primary_cleaner.state.floatbank8_b_air',\n",
    "                       'primary_cleaner.state.floatbank8_b_level','primary_cleaner.state.floatbank8_c_air',\n",
    "                       'primary_cleaner.state.floatbank8_c_level','primary_cleaner.state.floatbank8_d_air',\n",
    "                       'primary_cleaner.state.floatbank8_d_level', 'secondary_cleaner.state.floatbank2_a_air',\n",
    "                       'secondary_cleaner.state.floatbank2_a_level','secondary_cleaner.state.floatbank2_b_air',\n",
    "                       'secondary_cleaner.state.floatbank2_b_level','secondary_cleaner.state.floatbank3_a_air',\n",
    "                       'secondary_cleaner.state.floatbank3_a_level','secondary_cleaner.state.floatbank3_b_air',\n",
    "                       'secondary_cleaner.state.floatbank3_b_level','secondary_cleaner.state.floatbank4_a_air',\n",
    "                       'secondary_cleaner.state.floatbank4_a_level','secondary_cleaner.state.floatbank4_b_air',\n",
    "                       'secondary_cleaner.state.floatbank4_b_level','secondary_cleaner.state.floatbank5_a_air',\n",
    "                       'secondary_cleaner.state.floatbank5_a_level','secondary_cleaner.state.floatbank5_b_air',\n",
    "                       'secondary_cleaner.state.floatbank5_b_level','secondary_cleaner.state.floatbank6_a_air',\n",
    "                       'secondary_cleaner.state.floatbank6_a_level']\n",
    "\n",
    "features_test_rougher = df_test.drop(not_in_rougher_test, axis = 1)\n",
    "features_test_final = df_test\n",
    "\n",
    "target_test_rougher = df_full['rougher.output.recovery'].loc[features_test_rougher.index]\n",
    "target_test_final = df_full['final.output.recovery'].loc[features_test_final.index]"
   ]
  },
  {
   "cell_type": "code",
   "execution_count": 60,
   "metadata": {
    "scrolled": true
   },
   "outputs": [
    {
     "name": "stdout",
     "output_type": "stream",
     "text": [
      "sMAPE_test 9.158184997561682\n",
      "sMAPE_d 9.208949720540762\n"
     ]
    }
   ],
   "source": [
    "#target_test_rougher = df_full['rougher.output.recovery'].loc[features_test_rougher.index]\n",
    "#target_test_final = df_full['final.output.recovery'].loc[features_test_final.index]\n",
    "\n",
    "test_ranfor_regr_rougher = model_ranfor_regr_rougher.predict(features_test_rougher)\n",
    "test_ranfor_regr_final = model_ranfor_regr_final.predict(features_test_final)\n",
    "\n",
    "#введем DummyClassifier для проверки на адекватность.\n",
    "d_model_rougrer = DummyRegressor(strategy='mean')\n",
    "d_model_final = DummyRegressor(strategy='mean')\n",
    "\n",
    "d_model_rougrer.fit(features_train_rougher, target_train_rougher)\n",
    "d_model_final.fit(features_train_final, target_train_final)\n",
    "\n",
    "pred_test_rougrer = d_model_rougrer.predict(features_test_rougher)\n",
    "pred_test_final = d_model_final.predict(features_test_rougher)\n",
    "\n",
    "sMAPE_test = smape_count_total(target_test_rougher, test_ranfor_regr_rougher, \n",
    "                         target_test_final, test_ranfor_regr_final)\n",
    "sMAPE_d = smape_count_total(target_test_rougher, pred_test_rougrer, \n",
    "                         target_test_final, pred_test_final)\n",
    "\n",
    "print('sMAPE_test', sMAPE_test)\n",
    "print('sMAPE_d', sMAPE_d)"
   ]
  },
  {
   "cell_type": "markdown",
   "metadata": {},
   "source": [
    "## Results of the research"
   ]
  },
  {
   "cell_type": "markdown",
   "metadata": {},
   "source": [
    "According to the results of the study, it can be seen that\n",
    "\n",
    "1) The proportion of gold at each stage of purification becomes higher, therefore this processing technology is effective.\n",
    "\n",
    "2) The random forest model in regression proved to be the best.\n",
    "\n",
    "3) The final smaper on the test sample was 9.184776942388709, which is 0.02 less than in DummyRegressor."
   ]
  }
 ],
 "metadata": {
  "ExecuteTimeLog": [
   {
    "duration": 2177,
    "start_time": "2022-10-24T09:56:40.995Z"
   },
   {
    "duration": 1470,
    "start_time": "2022-10-24T09:56:43.174Z"
   },
   {
    "duration": 33,
    "start_time": "2022-10-24T09:56:44.647Z"
   },
   {
    "duration": 22,
    "start_time": "2022-10-24T09:56:44.689Z"
   },
   {
    "duration": 22,
    "start_time": "2022-10-24T09:56:44.713Z"
   },
   {
    "duration": 36,
    "start_time": "2022-10-24T09:56:44.737Z"
   },
   {
    "duration": 13,
    "start_time": "2022-10-24T09:56:44.775Z"
   },
   {
    "duration": 26,
    "start_time": "2022-10-24T09:56:44.791Z"
   },
   {
    "duration": 42,
    "start_time": "2022-10-24T09:56:44.819Z"
   },
   {
    "duration": 24,
    "start_time": "2022-10-24T09:56:44.863Z"
   },
   {
    "duration": 5,
    "start_time": "2022-10-24T09:56:44.889Z"
   },
   {
    "duration": 9,
    "start_time": "2022-10-24T09:56:44.896Z"
   },
   {
    "duration": 17,
    "start_time": "2022-10-24T09:56:44.907Z"
   },
   {
    "duration": 154,
    "start_time": "2022-10-24T09:56:44.926Z"
   },
   {
    "duration": 9,
    "start_time": "2022-10-24T09:56:45.082Z"
   },
   {
    "duration": 8,
    "start_time": "2022-10-24T09:56:45.093Z"
   },
   {
    "duration": 10,
    "start_time": "2022-10-24T09:56:45.103Z"
   },
   {
    "duration": 5,
    "start_time": "2022-10-24T09:56:45.114Z"
   },
   {
    "duration": 38,
    "start_time": "2022-10-24T09:56:45.121Z"
   },
   {
    "duration": 6,
    "start_time": "2022-10-24T09:56:45.161Z"
   },
   {
    "duration": 149,
    "start_time": "2022-10-24T09:56:45.169Z"
   },
   {
    "duration": 6,
    "start_time": "2022-10-24T09:56:45.320Z"
   },
   {
    "duration": 26,
    "start_time": "2022-10-24T09:56:45.328Z"
   },
   {
    "duration": 6,
    "start_time": "2022-10-24T09:56:45.356Z"
   },
   {
    "duration": 14,
    "start_time": "2022-10-24T09:56:45.364Z"
   },
   {
    "duration": 28,
    "start_time": "2022-10-24T09:56:45.380Z"
   },
   {
    "duration": 7,
    "start_time": "2022-10-24T09:56:45.410Z"
   },
   {
    "duration": 6,
    "start_time": "2022-10-24T09:56:45.421Z"
   },
   {
    "duration": 26,
    "start_time": "2022-10-24T09:56:45.429Z"
   },
   {
    "duration": 17,
    "start_time": "2022-10-24T09:56:45.457Z"
   },
   {
    "duration": 15,
    "start_time": "2022-10-24T09:56:45.475Z"
   },
   {
    "duration": 72,
    "start_time": "2022-10-24T09:56:45.491Z"
   },
   {
    "duration": 4,
    "start_time": "2022-10-24T09:56:45.565Z"
   },
   {
    "duration": 569,
    "start_time": "2022-10-24T09:56:45.570Z"
   },
   {
    "duration": 15,
    "start_time": "2022-10-24T09:56:46.141Z"
   },
   {
    "duration": 8,
    "start_time": "2022-10-24T09:56:46.157Z"
   },
   {
    "duration": 264,
    "start_time": "2022-10-24T09:56:46.167Z"
   },
   {
    "duration": 160,
    "start_time": "2022-10-24T09:56:46.433Z"
   },
   {
    "duration": 27,
    "start_time": "2022-10-24T09:56:46.595Z"
   },
   {
    "duration": 42,
    "start_time": "2022-10-24T09:56:46.624Z"
   },
   {
    "duration": 183,
    "start_time": "2022-10-24T09:56:46.667Z"
   },
   {
    "duration": 168,
    "start_time": "2022-10-24T09:56:46.853Z"
   },
   {
    "duration": 178,
    "start_time": "2022-10-24T09:56:47.023Z"
   },
   {
    "duration": 188,
    "start_time": "2022-10-24T09:56:47.203Z"
   },
   {
    "duration": 6,
    "start_time": "2022-10-24T09:56:47.393Z"
   },
   {
    "duration": 25,
    "start_time": "2022-10-24T09:56:47.401Z"
   },
   {
    "duration": 50,
    "start_time": "2022-10-24T09:56:47.427Z"
   },
   {
    "duration": 3,
    "start_time": "2022-10-24T09:56:47.479Z"
   },
   {
    "duration": 9,
    "start_time": "2022-10-24T09:56:47.484Z"
   },
   {
    "duration": 15,
    "start_time": "2022-10-24T09:56:47.495Z"
   },
   {
    "duration": 10,
    "start_time": "2022-10-24T09:57:04.797Z"
   },
   {
    "duration": 120,
    "start_time": "2022-10-24T09:57:38.955Z"
   },
   {
    "duration": 4,
    "start_time": "2022-10-24T09:57:59.725Z"
   },
   {
    "duration": 13,
    "start_time": "2022-10-24T10:01:56.882Z"
   },
   {
    "duration": 16,
    "start_time": "2022-10-24T10:02:07.674Z"
   },
   {
    "duration": 6,
    "start_time": "2022-10-24T10:03:10.717Z"
   },
   {
    "duration": 24,
    "start_time": "2022-10-24T10:03:13.548Z"
   }
  ],
  "kernelspec": {
   "display_name": "Python 3 (ipykernel)",
   "language": "python",
   "name": "python3"
  },
  "language_info": {
   "codemirror_mode": {
    "name": "ipython",
    "version": 3
   },
   "file_extension": ".py",
   "mimetype": "text/x-python",
   "name": "python",
   "nbconvert_exporter": "python",
   "pygments_lexer": "ipython3",
   "version": "3.10.11"
  },
  "toc": {
   "base_numbering": 1,
   "nav_menu": {},
   "number_sections": true,
   "sideBar": true,
   "skip_h1_title": true,
   "title_cell": "Содержание",
   "title_sidebar": "Contents",
   "toc_cell": true,
   "toc_position": {},
   "toc_section_display": true,
   "toc_window_display": true
  }
 },
 "nbformat": 4,
 "nbformat_minor": 2
}
