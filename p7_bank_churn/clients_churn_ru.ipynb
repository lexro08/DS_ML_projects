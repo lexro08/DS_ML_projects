{
 "cells": [
  {
   "cell_type": "markdown",
   "metadata": {
    "toc": true
   },
   "source": [
    "<h1>Содержание<span class=\"tocSkip\"></span></h1>\n",
    "<div class=\"toc\"><ul class=\"toc-item\"><li><span><a href=\"#Подготовка-данных\" data-toc-modified-id=\"Подготовка-данных-1\"><span class=\"toc-item-num\">1&nbsp;&nbsp;</span>Подготовка данных</a></span></li><li><span><a href=\"#Исследование-задачи\" data-toc-modified-id=\"Исследование-задачи-2\"><span class=\"toc-item-num\">2&nbsp;&nbsp;</span>Исследование задачи</a></span></li><li><span><a href=\"#Борьба-с-дисбалансом\" data-toc-modified-id=\"Борьба-с-дисбалансом-3\"><span class=\"toc-item-num\">3&nbsp;&nbsp;</span>Борьба с дисбалансом</a></span></li><li><span><a href=\"#Тестирование-модели\" data-toc-modified-id=\"Тестирование-модели-4\"><span class=\"toc-item-num\">4&nbsp;&nbsp;</span>Тестирование модели</a></span></li><li><span><a href=\"#Общий-вывод\" data-toc-modified-id=\"Общий-вывод-5\"><span class=\"toc-item-num\">5&nbsp;&nbsp;</span>Общий вывод</a></span></li><li><span><a href=\"#Чек-лист-готовности-проекта\" data-toc-modified-id=\"Чек-лист-готовности-проекта-6\"><span class=\"toc-item-num\">6&nbsp;&nbsp;</span>Чек-лист готовности проекта</a></span></li></ul></div>"
   ]
  },
  {
   "cell_type": "markdown",
   "metadata": {},
   "source": [
    "# Отток клиентов"
   ]
  },
  {
   "cell_type": "markdown",
   "metadata": {},
   "source": [
    "Из «Бета-Банка» стали уходить клиенты. Каждый месяц. Немного, но заметно. Банковские маркетологи посчитали: сохранять текущих клиентов дешевле, чем привлекать новых.\n",
    "\n",
    "Нужно спрогнозировать, уйдёт клиент из банка в ближайшее время или нет. Нам предоставлены исторические данные о поведении клиентов и расторжении договоров с банком. \n",
    "\n",
    "Нужно построить модель с предельно большим значением *F1*-меры. Целевое значение метририки = 0.59. \n",
    "\n",
    "\n",
    "Источник данных: [https://www.kaggle.com/barelydedicated/bank-customer-churn-modeling](https://www.kaggle.com/barelydedicated/bank-customer-churn-modeling)"
   ]
  },
  {
   "cell_type": "markdown",
   "metadata": {},
   "source": [
    "Согласно предоставленной документации, ниже приведена расшифровка столбцов.\n",
    "\n",
    "- RowNumber — индекс строки в данных\n",
    "- CustomerId — уникальный идентификатор клиента\n",
    "- Surname — фамилия\n",
    "- CreditScore — кредитный рейтинг\n",
    "- Geography — страна проживания\n",
    "- Gender — пол\n",
    "- Age — возраст\n",
    "- Tenure — сколько лет человек является клиентом банка\n",
    "- Balance — баланс на счёте\n",
    "- NumOfProducts — количество продуктов банка, используемых клиентом\n",
    "- HasCrCard — наличие кредитной карты\n",
    "- IsActiveMember — активность клиента\n",
    "- EstimatedSalary — предполагаемая зарплата\n",
    "\n",
    "Рассмотрим инфомрацию о предоставленном датасете."
   ]
  },
  {
   "cell_type": "markdown",
   "metadata": {},
   "source": [
    "## Подготовка данных"
   ]
  },
  {
   "cell_type": "markdown",
   "metadata": {},
   "source": [
    "Загрузим все необходимые библиотеки."
   ]
  },
  {
   "cell_type": "code",
   "execution_count": 1,
   "metadata": {},
   "outputs": [],
   "source": [
    "import os\n",
    "import pandas as pd\n",
    "import numpy as np\n",
    "import seaborn as sns\n",
    "import matplotlib.pyplot as plt\n",
    "from sklearn.metrics import accuracy_score\n",
    "from sklearn.model_selection import train_test_split\n",
    "from sklearn.linear_model import LogisticRegression\n",
    "from sklearn.tree import DecisionTreeClassifier\n",
    "from sklearn.ensemble import RandomForestClassifier\n",
    "from sklearn.preprocessing import StandardScaler\n",
    "from sklearn.utils import shuffle\n",
    "from sklearn.metrics import precision_score, recall_score, f1_score, roc_auc_score, confusion_matrix\n",
    "from sklearn.model_selection import GridSearchCV\n",
    "import warnings\n"
   ]
  },
  {
   "cell_type": "code",
   "execution_count": 2,
   "metadata": {},
   "outputs": [],
   "source": [
    "warnings.simplefilter(\"ignore\")\n",
    "sns.set_style('darkgrid')\n",
    "sns.set(rc={'figure.figsize': (15, 5)})"
   ]
  },
  {
   "cell_type": "markdown",
   "metadata": {},
   "source": [
    "Рассмотрим предоставленный датасет."
   ]
  },
  {
   "cell_type": "code",
   "execution_count": 3,
   "metadata": {},
   "outputs": [
    {
     "data": {
      "text/html": [
       "<div>\n",
       "<style scoped>\n",
       "    .dataframe tbody tr th:only-of-type {\n",
       "        vertical-align: middle;\n",
       "    }\n",
       "\n",
       "    .dataframe tbody tr th {\n",
       "        vertical-align: top;\n",
       "    }\n",
       "\n",
       "    .dataframe thead th {\n",
       "        text-align: right;\n",
       "    }\n",
       "</style>\n",
       "<table border=\"1\" class=\"dataframe\">\n",
       "  <thead>\n",
       "    <tr style=\"text-align: right;\">\n",
       "      <th></th>\n",
       "      <th>CustomerId</th>\n",
       "      <th>Surname</th>\n",
       "      <th>CreditScore</th>\n",
       "      <th>Geography</th>\n",
       "      <th>Gender</th>\n",
       "      <th>Age</th>\n",
       "      <th>Tenure</th>\n",
       "      <th>Balance</th>\n",
       "      <th>NumOfProducts</th>\n",
       "      <th>HasCrCard</th>\n",
       "      <th>IsActiveMember</th>\n",
       "      <th>EstimatedSalary</th>\n",
       "      <th>Exited</th>\n",
       "    </tr>\n",
       "    <tr>\n",
       "      <th>RowNumber</th>\n",
       "      <th></th>\n",
       "      <th></th>\n",
       "      <th></th>\n",
       "      <th></th>\n",
       "      <th></th>\n",
       "      <th></th>\n",
       "      <th></th>\n",
       "      <th></th>\n",
       "      <th></th>\n",
       "      <th></th>\n",
       "      <th></th>\n",
       "      <th></th>\n",
       "      <th></th>\n",
       "    </tr>\n",
       "  </thead>\n",
       "  <tbody>\n",
       "    <tr>\n",
       "      <th>1</th>\n",
       "      <td>15634602</td>\n",
       "      <td>Hargrave</td>\n",
       "      <td>619</td>\n",
       "      <td>France</td>\n",
       "      <td>Female</td>\n",
       "      <td>42</td>\n",
       "      <td>2.0</td>\n",
       "      <td>0.00</td>\n",
       "      <td>1</td>\n",
       "      <td>1</td>\n",
       "      <td>1</td>\n",
       "      <td>101348.88</td>\n",
       "      <td>1</td>\n",
       "    </tr>\n",
       "    <tr>\n",
       "      <th>2</th>\n",
       "      <td>15647311</td>\n",
       "      <td>Hill</td>\n",
       "      <td>608</td>\n",
       "      <td>Spain</td>\n",
       "      <td>Female</td>\n",
       "      <td>41</td>\n",
       "      <td>1.0</td>\n",
       "      <td>83807.86</td>\n",
       "      <td>1</td>\n",
       "      <td>0</td>\n",
       "      <td>1</td>\n",
       "      <td>112542.58</td>\n",
       "      <td>0</td>\n",
       "    </tr>\n",
       "    <tr>\n",
       "      <th>3</th>\n",
       "      <td>15619304</td>\n",
       "      <td>Onio</td>\n",
       "      <td>502</td>\n",
       "      <td>France</td>\n",
       "      <td>Female</td>\n",
       "      <td>42</td>\n",
       "      <td>8.0</td>\n",
       "      <td>159660.80</td>\n",
       "      <td>3</td>\n",
       "      <td>1</td>\n",
       "      <td>0</td>\n",
       "      <td>113931.57</td>\n",
       "      <td>1</td>\n",
       "    </tr>\n",
       "    <tr>\n",
       "      <th>4</th>\n",
       "      <td>15701354</td>\n",
       "      <td>Boni</td>\n",
       "      <td>699</td>\n",
       "      <td>France</td>\n",
       "      <td>Female</td>\n",
       "      <td>39</td>\n",
       "      <td>1.0</td>\n",
       "      <td>0.00</td>\n",
       "      <td>2</td>\n",
       "      <td>0</td>\n",
       "      <td>0</td>\n",
       "      <td>93826.63</td>\n",
       "      <td>0</td>\n",
       "    </tr>\n",
       "    <tr>\n",
       "      <th>5</th>\n",
       "      <td>15737888</td>\n",
       "      <td>Mitchell</td>\n",
       "      <td>850</td>\n",
       "      <td>Spain</td>\n",
       "      <td>Female</td>\n",
       "      <td>43</td>\n",
       "      <td>2.0</td>\n",
       "      <td>125510.82</td>\n",
       "      <td>1</td>\n",
       "      <td>1</td>\n",
       "      <td>1</td>\n",
       "      <td>79084.10</td>\n",
       "      <td>0</td>\n",
       "    </tr>\n",
       "  </tbody>\n",
       "</table>\n",
       "</div>"
      ],
      "text/plain": [
       "           CustomerId   Surname  CreditScore Geography  Gender  Age  Tenure  \\\n",
       "RowNumber                                                                     \n",
       "1            15634602  Hargrave          619    France  Female   42     2.0   \n",
       "2            15647311      Hill          608     Spain  Female   41     1.0   \n",
       "3            15619304      Onio          502    France  Female   42     8.0   \n",
       "4            15701354      Boni          699    France  Female   39     1.0   \n",
       "5            15737888  Mitchell          850     Spain  Female   43     2.0   \n",
       "\n",
       "             Balance  NumOfProducts  HasCrCard  IsActiveMember  \\\n",
       "RowNumber                                                        \n",
       "1               0.00              1          1               1   \n",
       "2           83807.86              1          0               1   \n",
       "3          159660.80              3          1               0   \n",
       "4               0.00              2          0               0   \n",
       "5          125510.82              1          1               1   \n",
       "\n",
       "           EstimatedSalary  Exited  \n",
       "RowNumber                           \n",
       "1                101348.88       1  \n",
       "2                112542.58       0  \n",
       "3                113931.57       1  \n",
       "4                 93826.63       0  \n",
       "5                 79084.10       0  "
      ]
     },
     "execution_count": 3,
     "metadata": {},
     "output_type": "execute_result"
    }
   ],
   "source": [
    "try:\n",
    "    df = pd.read_csv('Churn.csv', index_col='RowNumber')\n",
    "except:\n",
    "    df = pd.read_csv('/datasets/Churn.csv', index_col='RowNumber')\n",
    "\n",
    "\n",
    "df.head()"
   ]
  },
  {
   "cell_type": "code",
   "execution_count": 4,
   "metadata": {},
   "outputs": [
    {
     "name": "stdout",
     "output_type": "stream",
     "text": [
      "<class 'pandas.core.frame.DataFrame'>\n",
      "Int64Index: 10000 entries, 1 to 10000\n",
      "Data columns (total 13 columns):\n",
      " #   Column           Non-Null Count  Dtype  \n",
      "---  ------           --------------  -----  \n",
      " 0   CustomerId       10000 non-null  int64  \n",
      " 1   Surname          10000 non-null  object \n",
      " 2   CreditScore      10000 non-null  int64  \n",
      " 3   Geography        10000 non-null  object \n",
      " 4   Gender           10000 non-null  object \n",
      " 5   Age              10000 non-null  int64  \n",
      " 6   Tenure           9091 non-null   float64\n",
      " 7   Balance          10000 non-null  float64\n",
      " 8   NumOfProducts    10000 non-null  int64  \n",
      " 9   HasCrCard        10000 non-null  int64  \n",
      " 10  IsActiveMember   10000 non-null  int64  \n",
      " 11  EstimatedSalary  10000 non-null  float64\n",
      " 12  Exited           10000 non-null  int64  \n",
      "dtypes: float64(3), int64(7), object(3)\n",
      "memory usage: 1.1+ MB\n"
     ]
    }
   ],
   "source": [
    "df.info()"
   ]
  },
  {
   "cell_type": "markdown",
   "metadata": {},
   "source": [
    "Пропущенные значения находятся в столбце Tenure (сколько лет человек являлся клиентом банка). К ним далее вернемся дополнительно.\n",
    "\n",
    "Проверим наличиие явных дубликатов в датасете.\n"
   ]
  },
  {
   "cell_type": "code",
   "execution_count": 5,
   "metadata": {},
   "outputs": [
    {
     "data": {
      "text/plain": [
       "0"
      ]
     },
     "execution_count": 5,
     "metadata": {},
     "output_type": "execute_result"
    }
   ],
   "source": [
    "df.duplicated().sum()"
   ]
  },
  {
   "cell_type": "markdown",
   "metadata": {},
   "source": [
    "Явные дубликаты отсутствуют."
   ]
  },
  {
   "cell_type": "code",
   "execution_count": 6,
   "metadata": {},
   "outputs": [
    {
     "data": {
      "text/html": [
       "<div>\n",
       "<style scoped>\n",
       "    .dataframe tbody tr th:only-of-type {\n",
       "        vertical-align: middle;\n",
       "    }\n",
       "\n",
       "    .dataframe tbody tr th {\n",
       "        vertical-align: top;\n",
       "    }\n",
       "\n",
       "    .dataframe thead th {\n",
       "        text-align: right;\n",
       "    }\n",
       "</style>\n",
       "<table border=\"1\" class=\"dataframe\">\n",
       "  <thead>\n",
       "    <tr style=\"text-align: right;\">\n",
       "      <th></th>\n",
       "      <th>CustomerId</th>\n",
       "      <th>CreditScore</th>\n",
       "      <th>Age</th>\n",
       "      <th>Tenure</th>\n",
       "      <th>Balance</th>\n",
       "      <th>NumOfProducts</th>\n",
       "      <th>HasCrCard</th>\n",
       "      <th>IsActiveMember</th>\n",
       "      <th>EstimatedSalary</th>\n",
       "      <th>Exited</th>\n",
       "    </tr>\n",
       "  </thead>\n",
       "  <tbody>\n",
       "    <tr>\n",
       "      <th>count</th>\n",
       "      <td>1.000000e+04</td>\n",
       "      <td>10000.000000</td>\n",
       "      <td>10000.000000</td>\n",
       "      <td>9091.000000</td>\n",
       "      <td>10000.000000</td>\n",
       "      <td>10000.000000</td>\n",
       "      <td>10000.00000</td>\n",
       "      <td>10000.000000</td>\n",
       "      <td>10000.000000</td>\n",
       "      <td>10000.000000</td>\n",
       "    </tr>\n",
       "    <tr>\n",
       "      <th>mean</th>\n",
       "      <td>1.569094e+07</td>\n",
       "      <td>650.528800</td>\n",
       "      <td>38.921800</td>\n",
       "      <td>4.997690</td>\n",
       "      <td>76485.889288</td>\n",
       "      <td>1.530200</td>\n",
       "      <td>0.70550</td>\n",
       "      <td>0.515100</td>\n",
       "      <td>100090.239881</td>\n",
       "      <td>0.203700</td>\n",
       "    </tr>\n",
       "    <tr>\n",
       "      <th>std</th>\n",
       "      <td>7.193619e+04</td>\n",
       "      <td>96.653299</td>\n",
       "      <td>10.487806</td>\n",
       "      <td>2.894723</td>\n",
       "      <td>62397.405202</td>\n",
       "      <td>0.581654</td>\n",
       "      <td>0.45584</td>\n",
       "      <td>0.499797</td>\n",
       "      <td>57510.492818</td>\n",
       "      <td>0.402769</td>\n",
       "    </tr>\n",
       "    <tr>\n",
       "      <th>min</th>\n",
       "      <td>1.556570e+07</td>\n",
       "      <td>350.000000</td>\n",
       "      <td>18.000000</td>\n",
       "      <td>0.000000</td>\n",
       "      <td>0.000000</td>\n",
       "      <td>1.000000</td>\n",
       "      <td>0.00000</td>\n",
       "      <td>0.000000</td>\n",
       "      <td>11.580000</td>\n",
       "      <td>0.000000</td>\n",
       "    </tr>\n",
       "    <tr>\n",
       "      <th>25%</th>\n",
       "      <td>1.562853e+07</td>\n",
       "      <td>584.000000</td>\n",
       "      <td>32.000000</td>\n",
       "      <td>2.000000</td>\n",
       "      <td>0.000000</td>\n",
       "      <td>1.000000</td>\n",
       "      <td>0.00000</td>\n",
       "      <td>0.000000</td>\n",
       "      <td>51002.110000</td>\n",
       "      <td>0.000000</td>\n",
       "    </tr>\n",
       "    <tr>\n",
       "      <th>50%</th>\n",
       "      <td>1.569074e+07</td>\n",
       "      <td>652.000000</td>\n",
       "      <td>37.000000</td>\n",
       "      <td>5.000000</td>\n",
       "      <td>97198.540000</td>\n",
       "      <td>1.000000</td>\n",
       "      <td>1.00000</td>\n",
       "      <td>1.000000</td>\n",
       "      <td>100193.915000</td>\n",
       "      <td>0.000000</td>\n",
       "    </tr>\n",
       "    <tr>\n",
       "      <th>75%</th>\n",
       "      <td>1.575323e+07</td>\n",
       "      <td>718.000000</td>\n",
       "      <td>44.000000</td>\n",
       "      <td>7.000000</td>\n",
       "      <td>127644.240000</td>\n",
       "      <td>2.000000</td>\n",
       "      <td>1.00000</td>\n",
       "      <td>1.000000</td>\n",
       "      <td>149388.247500</td>\n",
       "      <td>0.000000</td>\n",
       "    </tr>\n",
       "    <tr>\n",
       "      <th>max</th>\n",
       "      <td>1.581569e+07</td>\n",
       "      <td>850.000000</td>\n",
       "      <td>92.000000</td>\n",
       "      <td>10.000000</td>\n",
       "      <td>250898.090000</td>\n",
       "      <td>4.000000</td>\n",
       "      <td>1.00000</td>\n",
       "      <td>1.000000</td>\n",
       "      <td>199992.480000</td>\n",
       "      <td>1.000000</td>\n",
       "    </tr>\n",
       "  </tbody>\n",
       "</table>\n",
       "</div>"
      ],
      "text/plain": [
       "         CustomerId   CreditScore           Age       Tenure        Balance  \\\n",
       "count  1.000000e+04  10000.000000  10000.000000  9091.000000   10000.000000   \n",
       "mean   1.569094e+07    650.528800     38.921800     4.997690   76485.889288   \n",
       "std    7.193619e+04     96.653299     10.487806     2.894723   62397.405202   \n",
       "min    1.556570e+07    350.000000     18.000000     0.000000       0.000000   \n",
       "25%    1.562853e+07    584.000000     32.000000     2.000000       0.000000   \n",
       "50%    1.569074e+07    652.000000     37.000000     5.000000   97198.540000   \n",
       "75%    1.575323e+07    718.000000     44.000000     7.000000  127644.240000   \n",
       "max    1.581569e+07    850.000000     92.000000    10.000000  250898.090000   \n",
       "\n",
       "       NumOfProducts    HasCrCard  IsActiveMember  EstimatedSalary  \\\n",
       "count   10000.000000  10000.00000    10000.000000     10000.000000   \n",
       "mean        1.530200      0.70550        0.515100    100090.239881   \n",
       "std         0.581654      0.45584        0.499797     57510.492818   \n",
       "min         1.000000      0.00000        0.000000        11.580000   \n",
       "25%         1.000000      0.00000        0.000000     51002.110000   \n",
       "50%         1.000000      1.00000        1.000000    100193.915000   \n",
       "75%         2.000000      1.00000        1.000000    149388.247500   \n",
       "max         4.000000      1.00000        1.000000    199992.480000   \n",
       "\n",
       "             Exited  \n",
       "count  10000.000000  \n",
       "mean       0.203700  \n",
       "std        0.402769  \n",
       "min        0.000000  \n",
       "25%        0.000000  \n",
       "50%        0.000000  \n",
       "75%        0.000000  \n",
       "max        1.000000  "
      ]
     },
     "execution_count": 6,
     "metadata": {},
     "output_type": "execute_result"
    }
   ],
   "source": [
    "df.describe()"
   ]
  },
  {
   "cell_type": "markdown",
   "metadata": {},
   "source": [
    "Рассмотрели данные. Данный тип задачи относится к типу \"обучение с учителем\" - имеются стобцы признаки и целевой признак Exited. "
   ]
  },
  {
   "cell_type": "markdown",
   "metadata": {},
   "source": [
    "Произведем переименование колонок, а именно приведем их к нижнему регистру."
   ]
  },
  {
   "cell_type": "code",
   "execution_count": 7,
   "metadata": {},
   "outputs": [
    {
     "data": {
      "text/html": [
       "<div>\n",
       "<style scoped>\n",
       "    .dataframe tbody tr th:only-of-type {\n",
       "        vertical-align: middle;\n",
       "    }\n",
       "\n",
       "    .dataframe tbody tr th {\n",
       "        vertical-align: top;\n",
       "    }\n",
       "\n",
       "    .dataframe thead th {\n",
       "        text-align: right;\n",
       "    }\n",
       "</style>\n",
       "<table border=\"1\" class=\"dataframe\">\n",
       "  <thead>\n",
       "    <tr style=\"text-align: right;\">\n",
       "      <th></th>\n",
       "      <th>customer_id</th>\n",
       "      <th>surname</th>\n",
       "      <th>credit_score</th>\n",
       "      <th>geography</th>\n",
       "      <th>gender</th>\n",
       "      <th>age</th>\n",
       "      <th>tenure</th>\n",
       "      <th>balance</th>\n",
       "      <th>num_of_products</th>\n",
       "      <th>has_cr_card</th>\n",
       "      <th>is_active_member</th>\n",
       "      <th>estimated_salary</th>\n",
       "      <th>exited</th>\n",
       "    </tr>\n",
       "    <tr>\n",
       "      <th>row_number</th>\n",
       "      <th></th>\n",
       "      <th></th>\n",
       "      <th></th>\n",
       "      <th></th>\n",
       "      <th></th>\n",
       "      <th></th>\n",
       "      <th></th>\n",
       "      <th></th>\n",
       "      <th></th>\n",
       "      <th></th>\n",
       "      <th></th>\n",
       "      <th></th>\n",
       "      <th></th>\n",
       "    </tr>\n",
       "  </thead>\n",
       "  <tbody>\n",
       "    <tr>\n",
       "      <th>1</th>\n",
       "      <td>15634602</td>\n",
       "      <td>Hargrave</td>\n",
       "      <td>619</td>\n",
       "      <td>France</td>\n",
       "      <td>Female</td>\n",
       "      <td>42</td>\n",
       "      <td>2.0</td>\n",
       "      <td>0.00</td>\n",
       "      <td>1</td>\n",
       "      <td>1</td>\n",
       "      <td>1</td>\n",
       "      <td>101348.88</td>\n",
       "      <td>1</td>\n",
       "    </tr>\n",
       "    <tr>\n",
       "      <th>2</th>\n",
       "      <td>15647311</td>\n",
       "      <td>Hill</td>\n",
       "      <td>608</td>\n",
       "      <td>Spain</td>\n",
       "      <td>Female</td>\n",
       "      <td>41</td>\n",
       "      <td>1.0</td>\n",
       "      <td>83807.86</td>\n",
       "      <td>1</td>\n",
       "      <td>0</td>\n",
       "      <td>1</td>\n",
       "      <td>112542.58</td>\n",
       "      <td>0</td>\n",
       "    </tr>\n",
       "    <tr>\n",
       "      <th>3</th>\n",
       "      <td>15619304</td>\n",
       "      <td>Onio</td>\n",
       "      <td>502</td>\n",
       "      <td>France</td>\n",
       "      <td>Female</td>\n",
       "      <td>42</td>\n",
       "      <td>8.0</td>\n",
       "      <td>159660.80</td>\n",
       "      <td>3</td>\n",
       "      <td>1</td>\n",
       "      <td>0</td>\n",
       "      <td>113931.57</td>\n",
       "      <td>1</td>\n",
       "    </tr>\n",
       "    <tr>\n",
       "      <th>4</th>\n",
       "      <td>15701354</td>\n",
       "      <td>Boni</td>\n",
       "      <td>699</td>\n",
       "      <td>France</td>\n",
       "      <td>Female</td>\n",
       "      <td>39</td>\n",
       "      <td>1.0</td>\n",
       "      <td>0.00</td>\n",
       "      <td>2</td>\n",
       "      <td>0</td>\n",
       "      <td>0</td>\n",
       "      <td>93826.63</td>\n",
       "      <td>0</td>\n",
       "    </tr>\n",
       "    <tr>\n",
       "      <th>5</th>\n",
       "      <td>15737888</td>\n",
       "      <td>Mitchell</td>\n",
       "      <td>850</td>\n",
       "      <td>Spain</td>\n",
       "      <td>Female</td>\n",
       "      <td>43</td>\n",
       "      <td>2.0</td>\n",
       "      <td>125510.82</td>\n",
       "      <td>1</td>\n",
       "      <td>1</td>\n",
       "      <td>1</td>\n",
       "      <td>79084.10</td>\n",
       "      <td>0</td>\n",
       "    </tr>\n",
       "  </tbody>\n",
       "</table>\n",
       "</div>"
      ],
      "text/plain": [
       "            customer_id   surname  credit_score geography  gender  age  \\\n",
       "row_number                                                               \n",
       "1              15634602  Hargrave           619    France  Female   42   \n",
       "2              15647311      Hill           608     Spain  Female   41   \n",
       "3              15619304      Onio           502    France  Female   42   \n",
       "4              15701354      Boni           699    France  Female   39   \n",
       "5              15737888  Mitchell           850     Spain  Female   43   \n",
       "\n",
       "            tenure    balance  num_of_products  has_cr_card  is_active_member  \\\n",
       "row_number                                                                      \n",
       "1              2.0       0.00                1            1                 1   \n",
       "2              1.0   83807.86                1            0                 1   \n",
       "3              8.0  159660.80                3            1                 0   \n",
       "4              1.0       0.00                2            0                 0   \n",
       "5              2.0  125510.82                1            1                 1   \n",
       "\n",
       "            estimated_salary  exited  \n",
       "row_number                            \n",
       "1                  101348.88       1  \n",
       "2                  112542.58       0  \n",
       "3                  113931.57       1  \n",
       "4                   93826.63       0  \n",
       "5                   79084.10       0  "
      ]
     },
     "execution_count": 7,
     "metadata": {},
     "output_type": "execute_result"
    }
   ],
   "source": [
    "df.columns = df.columns.str.replace(r'(?<!^)(?=[A-Z])', '_').str.lower()\n",
    "df.index = df.index.rename('row_number')\n",
    "\n",
    "df.head()"
   ]
  },
  {
   "cell_type": "markdown",
   "metadata": {},
   "source": [
    "Проверим долю пропущенных значений в столбце Tenure."
   ]
  },
  {
   "cell_type": "code",
   "execution_count": 8,
   "metadata": {},
   "outputs": [
    {
     "data": {
      "text/plain": [
       "0.0999890001099989"
      ]
     },
     "execution_count": 8,
     "metadata": {},
     "output_type": "execute_result"
    }
   ],
   "source": [
    "df_tenure_isna = df['tenure'].isna().sum()/df['tenure'].count()\n",
    "df_tenure_isna"
   ]
  },
  {
   "cell_type": "code",
   "execution_count": 9,
   "metadata": {},
   "outputs": [
    {
     "data": {
      "text/plain": [
       "array([ 2.,  1.,  8.,  7.,  4.,  6.,  3., 10.,  5.,  9.,  0., nan])"
      ]
     },
     "execution_count": 9,
     "metadata": {},
     "output_type": "execute_result"
    }
   ],
   "source": [
    "df['tenure'].unique()"
   ]
  },
  {
   "cell_type": "code",
   "execution_count": 10,
   "metadata": {},
   "outputs": [
    {
     "data": {
      "text/plain": [
       "1.0     952\n",
       "2.0     950\n",
       "8.0     933\n",
       "3.0     928\n",
       "5.0     927\n",
       "7.0     925\n",
       "4.0     885\n",
       "9.0     882\n",
       "6.0     881\n",
       "10.0    446\n",
       "0.0     382\n",
       "Name: tenure, dtype: int64"
      ]
     },
     "execution_count": 10,
     "metadata": {},
     "output_type": "execute_result"
    }
   ],
   "source": [
    "df['tenure'].value_counts()"
   ]
  },
  {
   "cell_type": "code",
   "execution_count": 11,
   "metadata": {},
   "outputs": [
    {
     "data": {
      "text/plain": [
       "<Axes: >"
      ]
     },
     "execution_count": 11,
     "metadata": {},
     "output_type": "execute_result"
    },
    {
     "data": {
      "image/png": "[encoded data removed]",
      "text/plain": [
       "<Figure size 1500x500 with 1 Axes>"
      ]
     },
     "metadata": {},
     "output_type": "display_data"
    }
   ],
   "source": [
    "df.boxplot('tenure')"
   ]
  },
  {
   "cell_type": "markdown",
   "metadata": {},
   "source": [
    "Проруски достигают 10% от всего датасета. \n",
    "5 лет - медианное значение. Основная часть данных находится между 2 и 7 годами.\n",
    "Поэтому чтобы не потерять важную информацию заменим на данном этапе пропуски медианным значением."
   ]
  },
  {
   "cell_type": "code",
   "execution_count": 12,
   "metadata": {},
   "outputs": [
    {
     "name": "stdout",
     "output_type": "stream",
     "text": [
      "<class 'pandas.core.frame.DataFrame'>\n",
      "Int64Index: 10000 entries, 1 to 10000\n",
      "Data columns (total 13 columns):\n",
      " #   Column            Non-Null Count  Dtype  \n",
      "---  ------            --------------  -----  \n",
      " 0   customer_id       10000 non-null  int64  \n",
      " 1   surname           10000 non-null  object \n",
      " 2   credit_score      10000 non-null  int64  \n",
      " 3   geography         10000 non-null  object \n",
      " 4   gender            10000 non-null  object \n",
      " 5   age               10000 non-null  int64  \n",
      " 6   tenure            10000 non-null  float64\n",
      " 7   balance           10000 non-null  float64\n",
      " 8   num_of_products   10000 non-null  int64  \n",
      " 9   has_cr_card       10000 non-null  int64  \n",
      " 10  is_active_member  10000 non-null  int64  \n",
      " 11  estimated_salary  10000 non-null  float64\n",
      " 12  exited            10000 non-null  int64  \n",
      "dtypes: float64(3), int64(7), object(3)\n",
      "memory usage: 1.1+ MB\n"
     ]
    }
   ],
   "source": [
    "df['tenure'] = df['tenure'].fillna(5)\n",
    "df.info()"
   ]
  },
  {
   "cell_type": "code",
   "execution_count": 13,
   "metadata": {},
   "outputs": [],
   "source": [
    "df['tenure'] = df['tenure'].astype('int64')"
   ]
  },
  {
   "cell_type": "markdown",
   "metadata": {},
   "source": [
    "Исследуем более подробно данные."
   ]
  },
  {
   "cell_type": "markdown",
   "metadata": {},
   "source": [
    "***credit_score***"
   ]
  },
  {
   "cell_type": "code",
   "execution_count": 14,
   "metadata": {
    "scrolled": true
   },
   "outputs": [
    {
     "data": {
      "text/html": [
       "<div>\n",
       "<style scoped>\n",
       "    .dataframe tbody tr th:only-of-type {\n",
       "        vertical-align: middle;\n",
       "    }\n",
       "\n",
       "    .dataframe tbody tr th {\n",
       "        vertical-align: top;\n",
       "    }\n",
       "\n",
       "    .dataframe thead th {\n",
       "        text-align: right;\n",
       "    }\n",
       "</style>\n",
       "<table border=\"1\" class=\"dataframe\">\n",
       "  <thead>\n",
       "    <tr style=\"text-align: right;\">\n",
       "      <th></th>\n",
       "      <th>credit_score</th>\n",
       "    </tr>\n",
       "  </thead>\n",
       "  <tbody>\n",
       "    <tr>\n",
       "      <th>count</th>\n",
       "      <td>10000.000000</td>\n",
       "    </tr>\n",
       "    <tr>\n",
       "      <th>mean</th>\n",
       "      <td>650.528800</td>\n",
       "    </tr>\n",
       "    <tr>\n",
       "      <th>std</th>\n",
       "      <td>96.653299</td>\n",
       "    </tr>\n",
       "    <tr>\n",
       "      <th>min</th>\n",
       "      <td>350.000000</td>\n",
       "    </tr>\n",
       "    <tr>\n",
       "      <th>25%</th>\n",
       "      <td>584.000000</td>\n",
       "    </tr>\n",
       "    <tr>\n",
       "      <th>50%</th>\n",
       "      <td>652.000000</td>\n",
       "    </tr>\n",
       "    <tr>\n",
       "      <th>75%</th>\n",
       "      <td>718.000000</td>\n",
       "    </tr>\n",
       "    <tr>\n",
       "      <th>max</th>\n",
       "      <td>850.000000</td>\n",
       "    </tr>\n",
       "  </tbody>\n",
       "</table>\n",
       "</div>"
      ],
      "text/plain": [
       "       credit_score\n",
       "count  10000.000000\n",
       "mean     650.528800\n",
       "std       96.653299\n",
       "min      350.000000\n",
       "25%      584.000000\n",
       "50%      652.000000\n",
       "75%      718.000000\n",
       "max      850.000000"
      ]
     },
     "execution_count": 14,
     "metadata": {},
     "output_type": "execute_result"
    }
   ],
   "source": [
    "df['credit_score'].describe().to_frame()"
   ]
  },
  {
   "cell_type": "code",
   "execution_count": 15,
   "metadata": {},
   "outputs": [
    {
     "data": {
      "image/png": "[encoded data removed]",
      "text/plain": [
       "<Figure size 1500x500 with 2 Axes>"
      ]
     },
     "metadata": {},
     "output_type": "display_data"
    }
   ],
   "source": [
    "f, [axs_hist, axs_box] = plt.subplots(2, 1,\n",
    "                                     figsize=(15, 5), \n",
    "                                     sharex=True,\n",
    "                                     gridspec_kw=dict(height_ratios=[4,1]))\n",
    "sns.histplot(data=df, x='credit_score', kde=True, ax=axs_hist)\\\n",
    ".set(title='Гистограмма распределения кредитного рейтинга',\n",
    "     ylabel='Количество записей')\n",
    "sns.boxplot(data=df, x='credit_score', ax=axs_box)\\\n",
    ".set(xlabel='Кредитный рейтинг')\n",
    "plt.show()"
   ]
  },
  {
   "cell_type": "markdown",
   "metadata": {},
   "source": [
    "Значения кредитного рейтинга лежат в диапазоне от 350 до 850, медианное значение — 652, что довольно близко к среднему (650). Распределение похоже на нормальное, но наблюдается довольно большое количество записей с кредитным рейтингом около 850."
   ]
  },
  {
   "cell_type": "markdown",
   "metadata": {},
   "source": [
    "***geography***"
   ]
  },
  {
   "cell_type": "code",
   "execution_count": 16,
   "metadata": {},
   "outputs": [
    {
     "data": {
      "text/html": [
       "<div>\n",
       "<style scoped>\n",
       "    .dataframe tbody tr th:only-of-type {\n",
       "        vertical-align: middle;\n",
       "    }\n",
       "\n",
       "    .dataframe tbody tr th {\n",
       "        vertical-align: top;\n",
       "    }\n",
       "\n",
       "    .dataframe thead th {\n",
       "        text-align: right;\n",
       "    }\n",
       "</style>\n",
       "<table border=\"1\" class=\"dataframe\">\n",
       "  <thead>\n",
       "    <tr style=\"text-align: right;\">\n",
       "      <th></th>\n",
       "      <th>geography</th>\n",
       "    </tr>\n",
       "  </thead>\n",
       "  <tbody>\n",
       "    <tr>\n",
       "      <th>France</th>\n",
       "      <td>5014</td>\n",
       "    </tr>\n",
       "    <tr>\n",
       "      <th>Germany</th>\n",
       "      <td>2509</td>\n",
       "    </tr>\n",
       "    <tr>\n",
       "      <th>Spain</th>\n",
       "      <td>2477</td>\n",
       "    </tr>\n",
       "  </tbody>\n",
       "</table>\n",
       "</div>"
      ],
      "text/plain": [
       "         geography\n",
       "France        5014\n",
       "Germany       2509\n",
       "Spain         2477"
      ]
     },
     "execution_count": 16,
     "metadata": {},
     "output_type": "execute_result"
    }
   ],
   "source": [
    "df['geography'].value_counts().to_frame()"
   ]
  },
  {
   "cell_type": "code",
   "execution_count": 17,
   "metadata": {},
   "outputs": [
    {
     "data": {
      "image/png": "[encoded data removed]",
      "text/plain": [
       "<Figure size 1500x500 with 1 Axes>"
      ]
     },
     "metadata": {},
     "output_type": "display_data"
    }
   ],
   "source": [
    "ax = sns.countplot(data=df, x='geography')\n",
    "ax.set(xticklabels = (['Франция', 'Испания', 'Германия']))\n",
    "plt.title('Количество записей в зависимости от страны проживания клиента')\n",
    "plt.xlabel('Страна проживания клиента')\n",
    "plt.ylabel('Количество записей')\n",
    "plt.show()"
   ]
  },
  {
   "cell_type": "markdown",
   "metadata": {},
   "source": [
    "Видно, что в таблице представлены данные о клиентах из трёх стран: Франции, Испании и Германии. Больше всего данных о пользователях из Франции."
   ]
  },
  {
   "cell_type": "markdown",
   "metadata": {},
   "source": [
    "***gender***"
   ]
  },
  {
   "cell_type": "code",
   "execution_count": 18,
   "metadata": {},
   "outputs": [
    {
     "data": {
      "text/html": [
       "<div>\n",
       "<style scoped>\n",
       "    .dataframe tbody tr th:only-of-type {\n",
       "        vertical-align: middle;\n",
       "    }\n",
       "\n",
       "    .dataframe tbody tr th {\n",
       "        vertical-align: top;\n",
       "    }\n",
       "\n",
       "    .dataframe thead th {\n",
       "        text-align: right;\n",
       "    }\n",
       "</style>\n",
       "<table border=\"1\" class=\"dataframe\">\n",
       "  <thead>\n",
       "    <tr style=\"text-align: right;\">\n",
       "      <th></th>\n",
       "      <th>gender</th>\n",
       "    </tr>\n",
       "  </thead>\n",
       "  <tbody>\n",
       "    <tr>\n",
       "      <th>Male</th>\n",
       "      <td>5457</td>\n",
       "    </tr>\n",
       "    <tr>\n",
       "      <th>Female</th>\n",
       "      <td>4543</td>\n",
       "    </tr>\n",
       "  </tbody>\n",
       "</table>\n",
       "</div>"
      ],
      "text/plain": [
       "        gender\n",
       "Male      5457\n",
       "Female    4543"
      ]
     },
     "execution_count": 18,
     "metadata": {},
     "output_type": "execute_result"
    }
   ],
   "source": [
    "df['gender'].value_counts().to_frame()"
   ]
  },
  {
   "cell_type": "code",
   "execution_count": 19,
   "metadata": {},
   "outputs": [
    {
     "data": {
      "image/png": "[encoded data removed]",
      "text/plain": [
       "<Figure size 1500x500 with 1 Axes>"
      ]
     },
     "metadata": {},
     "output_type": "display_data"
    }
   ],
   "source": [
    "ax = sns.countplot(data=df, x='gender')\n",
    "ax.set(xticklabels = (['женский', 'мужской']))\n",
    "plt.title('Количество записей в зависимости от пола клиента')\n",
    "plt.xlabel('Пол клиента')\n",
    "plt.ylabel('Количество записей')\n",
    "plt.show()"
   ]
  },
  {
   "cell_type": "markdown",
   "metadata": {},
   "source": [
    "***age***"
   ]
  },
  {
   "cell_type": "code",
   "execution_count": 20,
   "metadata": {},
   "outputs": [
    {
     "data": {
      "text/html": [
       "<div>\n",
       "<style scoped>\n",
       "    .dataframe tbody tr th:only-of-type {\n",
       "        vertical-align: middle;\n",
       "    }\n",
       "\n",
       "    .dataframe tbody tr th {\n",
       "        vertical-align: top;\n",
       "    }\n",
       "\n",
       "    .dataframe thead th {\n",
       "        text-align: right;\n",
       "    }\n",
       "</style>\n",
       "<table border=\"1\" class=\"dataframe\">\n",
       "  <thead>\n",
       "    <tr style=\"text-align: right;\">\n",
       "      <th></th>\n",
       "      <th>age</th>\n",
       "    </tr>\n",
       "  </thead>\n",
       "  <tbody>\n",
       "    <tr>\n",
       "      <th>count</th>\n",
       "      <td>10000.000000</td>\n",
       "    </tr>\n",
       "    <tr>\n",
       "      <th>mean</th>\n",
       "      <td>38.921800</td>\n",
       "    </tr>\n",
       "    <tr>\n",
       "      <th>std</th>\n",
       "      <td>10.487806</td>\n",
       "    </tr>\n",
       "    <tr>\n",
       "      <th>min</th>\n",
       "      <td>18.000000</td>\n",
       "    </tr>\n",
       "    <tr>\n",
       "      <th>25%</th>\n",
       "      <td>32.000000</td>\n",
       "    </tr>\n",
       "    <tr>\n",
       "      <th>50%</th>\n",
       "      <td>37.000000</td>\n",
       "    </tr>\n",
       "    <tr>\n",
       "      <th>75%</th>\n",
       "      <td>44.000000</td>\n",
       "    </tr>\n",
       "    <tr>\n",
       "      <th>max</th>\n",
       "      <td>92.000000</td>\n",
       "    </tr>\n",
       "  </tbody>\n",
       "</table>\n",
       "</div>"
      ],
      "text/plain": [
       "                age\n",
       "count  10000.000000\n",
       "mean      38.921800\n",
       "std       10.487806\n",
       "min       18.000000\n",
       "25%       32.000000\n",
       "50%       37.000000\n",
       "75%       44.000000\n",
       "max       92.000000"
      ]
     },
     "execution_count": 20,
     "metadata": {},
     "output_type": "execute_result"
    }
   ],
   "source": [
    "df['age'].describe().to_frame()"
   ]
  },
  {
   "cell_type": "code",
   "execution_count": 21,
   "metadata": {},
   "outputs": [
    {
     "data": {
      "image/png": "[encoded data removed]",
      "text/plain": [
       "<Figure size 1500x500 with 2 Axes>"
      ]
     },
     "metadata": {},
     "output_type": "display_data"
    }
   ],
   "source": [
    "f, [axs_hist, axs_box] = plt.subplots(2, 1,\n",
    "                                     figsize=(15, 5), \n",
    "                                     sharex=True,\n",
    "                                     gridspec_kw=dict(height_ratios=[4,1]))\n",
    "sns.histplot(data=df, x='age', kde=True, ax=axs_hist)\\\n",
    ".set(title='Гистограмма распределения возраста клиентов',\n",
    "     ylabel='Количество записей')\n",
    "sns.boxplot(data=df, x='age', ax=axs_box)\\\n",
    ".set(xlabel='Возраст клиента')\n",
    "plt.show()"
   ]
  },
  {
   "cell_type": "markdown",
   "metadata": {},
   "source": [
    "Значения возрастов клиентов лежат в диапазоне от 18 до 92 лет, медианное значение — 37 лет, что довольно близко к среднему (39 лет). Распределение не похоже на нормальное, имеется довольно длинный правый хвост. На гистограмме видны подозрительные \"выбросы\" для возрастов 28, 40, 50, 60 лет. Возможно это ошибки в данных, но сделать аргументированное предположение о природе их возникновения довольно сложно."
   ]
  },
  {
   "cell_type": "markdown",
   "metadata": {},
   "source": [
    "***tenure***"
   ]
  },
  {
   "cell_type": "code",
   "execution_count": 22,
   "metadata": {},
   "outputs": [
    {
     "data": {
      "text/html": [
       "<div>\n",
       "<style scoped>\n",
       "    .dataframe tbody tr th:only-of-type {\n",
       "        vertical-align: middle;\n",
       "    }\n",
       "\n",
       "    .dataframe tbody tr th {\n",
       "        vertical-align: top;\n",
       "    }\n",
       "\n",
       "    .dataframe thead th {\n",
       "        text-align: right;\n",
       "    }\n",
       "</style>\n",
       "<table border=\"1\" class=\"dataframe\">\n",
       "  <thead>\n",
       "    <tr style=\"text-align: right;\">\n",
       "      <th></th>\n",
       "      <th>tenure</th>\n",
       "    </tr>\n",
       "  </thead>\n",
       "  <tbody>\n",
       "    <tr>\n",
       "      <th>count</th>\n",
       "      <td>10000.00000</td>\n",
       "    </tr>\n",
       "    <tr>\n",
       "      <th>mean</th>\n",
       "      <td>4.99790</td>\n",
       "    </tr>\n",
       "    <tr>\n",
       "      <th>std</th>\n",
       "      <td>2.76001</td>\n",
       "    </tr>\n",
       "    <tr>\n",
       "      <th>min</th>\n",
       "      <td>0.00000</td>\n",
       "    </tr>\n",
       "    <tr>\n",
       "      <th>25%</th>\n",
       "      <td>3.00000</td>\n",
       "    </tr>\n",
       "    <tr>\n",
       "      <th>50%</th>\n",
       "      <td>5.00000</td>\n",
       "    </tr>\n",
       "    <tr>\n",
       "      <th>75%</th>\n",
       "      <td>7.00000</td>\n",
       "    </tr>\n",
       "    <tr>\n",
       "      <th>max</th>\n",
       "      <td>10.00000</td>\n",
       "    </tr>\n",
       "  </tbody>\n",
       "</table>\n",
       "</div>"
      ],
      "text/plain": [
       "            tenure\n",
       "count  10000.00000\n",
       "mean       4.99790\n",
       "std        2.76001\n",
       "min        0.00000\n",
       "25%        3.00000\n",
       "50%        5.00000\n",
       "75%        7.00000\n",
       "max       10.00000"
      ]
     },
     "execution_count": 22,
     "metadata": {},
     "output_type": "execute_result"
    }
   ],
   "source": [
    "df['tenure'].describe().to_frame()"
   ]
  },
  {
   "cell_type": "code",
   "execution_count": 23,
   "metadata": {},
   "outputs": [
    {
     "data": {
      "image/png": "[encoded data removed]",
      "text/plain": [
       "<Figure size 1500x500 with 1 Axes>"
      ]
     },
     "metadata": {},
     "output_type": "display_data"
    }
   ],
   "source": [
    "sns.countplot(data=df, x='tenure')\\\n",
    ".set(title='Количество записей с различными значениями параметра tenure',\n",
    "     xlabel='Сколько лет является клиентом банка',\n",
    "     ylabel='Количество записей')\n",
    "plt.show()"
   ]
  },
  {
   "cell_type": "markdown",
   "metadata": {},
   "source": [
    "Значения параметра tenure лежат в диапазоне от 0 до 10 лет, медианное и среднее занчения — 5 лет. На графике видна мода на значении 5 лет."
   ]
  },
  {
   "cell_type": "markdown",
   "metadata": {},
   "source": [
    "***balance***"
   ]
  },
  {
   "cell_type": "code",
   "execution_count": 24,
   "metadata": {},
   "outputs": [
    {
     "data": {
      "text/html": [
       "<div>\n",
       "<style scoped>\n",
       "    .dataframe tbody tr th:only-of-type {\n",
       "        vertical-align: middle;\n",
       "    }\n",
       "\n",
       "    .dataframe tbody tr th {\n",
       "        vertical-align: top;\n",
       "    }\n",
       "\n",
       "    .dataframe thead th {\n",
       "        text-align: right;\n",
       "    }\n",
       "</style>\n",
       "<table border=\"1\" class=\"dataframe\">\n",
       "  <thead>\n",
       "    <tr style=\"text-align: right;\">\n",
       "      <th></th>\n",
       "      <th>balance</th>\n",
       "    </tr>\n",
       "  </thead>\n",
       "  <tbody>\n",
       "    <tr>\n",
       "      <th>count</th>\n",
       "      <td>10000.000000</td>\n",
       "    </tr>\n",
       "    <tr>\n",
       "      <th>mean</th>\n",
       "      <td>76485.889288</td>\n",
       "    </tr>\n",
       "    <tr>\n",
       "      <th>std</th>\n",
       "      <td>62397.405202</td>\n",
       "    </tr>\n",
       "    <tr>\n",
       "      <th>min</th>\n",
       "      <td>0.000000</td>\n",
       "    </tr>\n",
       "    <tr>\n",
       "      <th>25%</th>\n",
       "      <td>0.000000</td>\n",
       "    </tr>\n",
       "    <tr>\n",
       "      <th>50%</th>\n",
       "      <td>97198.540000</td>\n",
       "    </tr>\n",
       "    <tr>\n",
       "      <th>75%</th>\n",
       "      <td>127644.240000</td>\n",
       "    </tr>\n",
       "    <tr>\n",
       "      <th>max</th>\n",
       "      <td>250898.090000</td>\n",
       "    </tr>\n",
       "  </tbody>\n",
       "</table>\n",
       "</div>"
      ],
      "text/plain": [
       "             balance\n",
       "count   10000.000000\n",
       "mean    76485.889288\n",
       "std     62397.405202\n",
       "min         0.000000\n",
       "25%         0.000000\n",
       "50%     97198.540000\n",
       "75%    127644.240000\n",
       "max    250898.090000"
      ]
     },
     "execution_count": 24,
     "metadata": {},
     "output_type": "execute_result"
    }
   ],
   "source": [
    "df['balance'].describe().to_frame()"
   ]
  },
  {
   "cell_type": "code",
   "execution_count": 25,
   "metadata": {},
   "outputs": [
    {
     "data": {
      "image/png": "[encoded data removed]",
      "text/plain": [
       "<Figure size 1500x500 with 2 Axes>"
      ]
     },
     "metadata": {},
     "output_type": "display_data"
    }
   ],
   "source": [
    "f, [axs_hist, axs_box] = plt.subplots(2, 1,\n",
    "                                     figsize=(15, 5), \n",
    "                                     sharex=True,\n",
    "                                     gridspec_kw=dict(height_ratios=[4,1]))\n",
    "sns.histplot(data=df, x='balance', kde=True, ax=axs_hist)\\\n",
    ".set(title='Гистограмма распределения балансов на счетах клиентов',\n",
    "     ylabel='Количество записей')\n",
    "sns.boxplot(data=df, x='balance', ax=axs_box)\\\n",
    ".set(xlabel='Баланс на счёте')\n",
    "plt.show()"
   ]
  },
  {
   "cell_type": "markdown",
   "metadata": {},
   "source": [
    "Значения балансов на счетах лежат в диапазоне от 0 до 250 тысяч, медианное значение — 97 тысяч, среднее — 76 тысяч. На гистограмме видно, что у значительного количества клиентов нулевой баланс на счёте, что печально."
   ]
  },
  {
   "cell_type": "markdown",
   "metadata": {},
   "source": [
    "***num_of_products***"
   ]
  },
  {
   "cell_type": "code",
   "execution_count": 26,
   "metadata": {},
   "outputs": [
    {
     "data": {
      "text/html": [
       "<div>\n",
       "<style scoped>\n",
       "    .dataframe tbody tr th:only-of-type {\n",
       "        vertical-align: middle;\n",
       "    }\n",
       "\n",
       "    .dataframe tbody tr th {\n",
       "        vertical-align: top;\n",
       "    }\n",
       "\n",
       "    .dataframe thead th {\n",
       "        text-align: right;\n",
       "    }\n",
       "</style>\n",
       "<table border=\"1\" class=\"dataframe\">\n",
       "  <thead>\n",
       "    <tr style=\"text-align: right;\">\n",
       "      <th></th>\n",
       "      <th>num_of_products</th>\n",
       "    </tr>\n",
       "  </thead>\n",
       "  <tbody>\n",
       "    <tr>\n",
       "      <th>count</th>\n",
       "      <td>10000.000000</td>\n",
       "    </tr>\n",
       "    <tr>\n",
       "      <th>mean</th>\n",
       "      <td>1.530200</td>\n",
       "    </tr>\n",
       "    <tr>\n",
       "      <th>std</th>\n",
       "      <td>0.581654</td>\n",
       "    </tr>\n",
       "    <tr>\n",
       "      <th>min</th>\n",
       "      <td>1.000000</td>\n",
       "    </tr>\n",
       "    <tr>\n",
       "      <th>25%</th>\n",
       "      <td>1.000000</td>\n",
       "    </tr>\n",
       "    <tr>\n",
       "      <th>50%</th>\n",
       "      <td>1.000000</td>\n",
       "    </tr>\n",
       "    <tr>\n",
       "      <th>75%</th>\n",
       "      <td>2.000000</td>\n",
       "    </tr>\n",
       "    <tr>\n",
       "      <th>max</th>\n",
       "      <td>4.000000</td>\n",
       "    </tr>\n",
       "  </tbody>\n",
       "</table>\n",
       "</div>"
      ],
      "text/plain": [
       "       num_of_products\n",
       "count     10000.000000\n",
       "mean          1.530200\n",
       "std           0.581654\n",
       "min           1.000000\n",
       "25%           1.000000\n",
       "50%           1.000000\n",
       "75%           2.000000\n",
       "max           4.000000"
      ]
     },
     "execution_count": 26,
     "metadata": {},
     "output_type": "execute_result"
    }
   ],
   "source": [
    "df['num_of_products'].describe().to_frame()"
   ]
  },
  {
   "cell_type": "code",
   "execution_count": 27,
   "metadata": {},
   "outputs": [
    {
     "data": {
      "image/png": "[encoded data removed]",
      "text/plain": [
       "<Figure size 1500x500 with 1 Axes>"
      ]
     },
     "metadata": {},
     "output_type": "display_data"
    }
   ],
   "source": [
    "sns.countplot(data=df, x='num_of_products')\n",
    "plt.title('Количество записей в зависимости от количества продуктов банка, используемых клиентом')\n",
    "plt.xlabel('Количество продуктов банка, используемых клиентом')\n",
    "plt.ylabel('Количество записей')\n",
    "plt.show()"
   ]
  },
  {
   "cell_type": "markdown",
   "metadata": {},
   "source": [
    "Видно, что клиенты банка используют от 1 до 4 продуктов банка. При этом подавляющее большинство клиентов используют 1—2 продукта."
   ]
  },
  {
   "cell_type": "markdown",
   "metadata": {},
   "source": [
    "***has_cr_card***"
   ]
  },
  {
   "cell_type": "code",
   "execution_count": 28,
   "metadata": {},
   "outputs": [
    {
     "data": {
      "text/html": [
       "<div>\n",
       "<style scoped>\n",
       "    .dataframe tbody tr th:only-of-type {\n",
       "        vertical-align: middle;\n",
       "    }\n",
       "\n",
       "    .dataframe tbody tr th {\n",
       "        vertical-align: top;\n",
       "    }\n",
       "\n",
       "    .dataframe thead th {\n",
       "        text-align: right;\n",
       "    }\n",
       "</style>\n",
       "<table border=\"1\" class=\"dataframe\">\n",
       "  <thead>\n",
       "    <tr style=\"text-align: right;\">\n",
       "      <th></th>\n",
       "      <th>has_cr_card</th>\n",
       "    </tr>\n",
       "  </thead>\n",
       "  <tbody>\n",
       "    <tr>\n",
       "      <th>1</th>\n",
       "      <td>7055</td>\n",
       "    </tr>\n",
       "    <tr>\n",
       "      <th>0</th>\n",
       "      <td>2945</td>\n",
       "    </tr>\n",
       "  </tbody>\n",
       "</table>\n",
       "</div>"
      ],
      "text/plain": [
       "   has_cr_card\n",
       "1         7055\n",
       "0         2945"
      ]
     },
     "execution_count": 28,
     "metadata": {},
     "output_type": "execute_result"
    }
   ],
   "source": [
    "df['has_cr_card'].value_counts().to_frame()"
   ]
  },
  {
   "cell_type": "code",
   "execution_count": 29,
   "metadata": {},
   "outputs": [
    {
     "data": {
      "image/png": "[encoded data removed]",
      "text/plain": [
       "<Figure size 1500x500 with 1 Axes>"
      ]
     },
     "metadata": {},
     "output_type": "display_data"
    }
   ],
   "source": [
    "ax = sns.countplot(data=df, x='has_cr_card')\n",
    "ax.set(xticklabels = (['нет кредитной карты', 'есть кредитная карта']))\n",
    "plt.title('Количество записей в зависимости от наличия кредитной карты у клиента')\n",
    "plt.xlabel('Наличие кредитной карты')\n",
    "plt.ylabel('Количество записей')\n",
    "plt.show()"
   ]
  },
  {
   "cell_type": "markdown",
   "metadata": {},
   "source": [
    "Видно, что у большниства клиентов банка есть кредитная карта. Значит услуга кредитования пользуется большой популярностью у клиентов банка."
   ]
  },
  {
   "cell_type": "markdown",
   "metadata": {},
   "source": [
    "***is_active_member***"
   ]
  },
  {
   "cell_type": "code",
   "execution_count": 30,
   "metadata": {},
   "outputs": [
    {
     "data": {
      "text/html": [
       "<div>\n",
       "<style scoped>\n",
       "    .dataframe tbody tr th:only-of-type {\n",
       "        vertical-align: middle;\n",
       "    }\n",
       "\n",
       "    .dataframe tbody tr th {\n",
       "        vertical-align: top;\n",
       "    }\n",
       "\n",
       "    .dataframe thead th {\n",
       "        text-align: right;\n",
       "    }\n",
       "</style>\n",
       "<table border=\"1\" class=\"dataframe\">\n",
       "  <thead>\n",
       "    <tr style=\"text-align: right;\">\n",
       "      <th></th>\n",
       "      <th>is_active_member</th>\n",
       "    </tr>\n",
       "  </thead>\n",
       "  <tbody>\n",
       "    <tr>\n",
       "      <th>1</th>\n",
       "      <td>5151</td>\n",
       "    </tr>\n",
       "    <tr>\n",
       "      <th>0</th>\n",
       "      <td>4849</td>\n",
       "    </tr>\n",
       "  </tbody>\n",
       "</table>\n",
       "</div>"
      ],
      "text/plain": [
       "   is_active_member\n",
       "1              5151\n",
       "0              4849"
      ]
     },
     "execution_count": 30,
     "metadata": {},
     "output_type": "execute_result"
    }
   ],
   "source": [
    "df['is_active_member'].value_counts().to_frame()"
   ]
  },
  {
   "cell_type": "code",
   "execution_count": 31,
   "metadata": {},
   "outputs": [
    {
     "data": {
      "image/png": "[encoded data removed]",
      "text/plain": [
       "<Figure size 1500x500 with 1 Axes>"
      ]
     },
     "metadata": {},
     "output_type": "display_data"
    }
   ],
   "source": [
    "ax = sns.countplot(data=df, x='is_active_member')\n",
    "ax.set(xticklabels = (['не активен', 'активен']))\n",
    "plt.title('Количество записей в зависимости от активности клиента')\n",
    "plt.xlabel('Активность клиента')\n",
    "plt.ylabel('Количество записей')\n",
    "plt.show()"
   ]
  },
  {
   "cell_type": "markdown",
   "metadata": {},
   "source": [
    "Записи об активных и не активных клиентах банка распределены примерно поровну."
   ]
  },
  {
   "cell_type": "markdown",
   "metadata": {},
   "source": [
    "***estimated_salary***"
   ]
  },
  {
   "cell_type": "code",
   "execution_count": 32,
   "metadata": {},
   "outputs": [
    {
     "data": {
      "text/html": [
       "<div>\n",
       "<style scoped>\n",
       "    .dataframe tbody tr th:only-of-type {\n",
       "        vertical-align: middle;\n",
       "    }\n",
       "\n",
       "    .dataframe tbody tr th {\n",
       "        vertical-align: top;\n",
       "    }\n",
       "\n",
       "    .dataframe thead th {\n",
       "        text-align: right;\n",
       "    }\n",
       "</style>\n",
       "<table border=\"1\" class=\"dataframe\">\n",
       "  <thead>\n",
       "    <tr style=\"text-align: right;\">\n",
       "      <th></th>\n",
       "      <th>estimated_salary</th>\n",
       "    </tr>\n",
       "  </thead>\n",
       "  <tbody>\n",
       "    <tr>\n",
       "      <th>count</th>\n",
       "      <td>10000.000000</td>\n",
       "    </tr>\n",
       "    <tr>\n",
       "      <th>mean</th>\n",
       "      <td>100090.239881</td>\n",
       "    </tr>\n",
       "    <tr>\n",
       "      <th>std</th>\n",
       "      <td>57510.492818</td>\n",
       "    </tr>\n",
       "    <tr>\n",
       "      <th>min</th>\n",
       "      <td>11.580000</td>\n",
       "    </tr>\n",
       "    <tr>\n",
       "      <th>25%</th>\n",
       "      <td>51002.110000</td>\n",
       "    </tr>\n",
       "    <tr>\n",
       "      <th>50%</th>\n",
       "      <td>100193.915000</td>\n",
       "    </tr>\n",
       "    <tr>\n",
       "      <th>75%</th>\n",
       "      <td>149388.247500</td>\n",
       "    </tr>\n",
       "    <tr>\n",
       "      <th>max</th>\n",
       "      <td>199992.480000</td>\n",
       "    </tr>\n",
       "  </tbody>\n",
       "</table>\n",
       "</div>"
      ],
      "text/plain": [
       "       estimated_salary\n",
       "count      10000.000000\n",
       "mean      100090.239881\n",
       "std        57510.492818\n",
       "min           11.580000\n",
       "25%        51002.110000\n",
       "50%       100193.915000\n",
       "75%       149388.247500\n",
       "max       199992.480000"
      ]
     },
     "execution_count": 32,
     "metadata": {},
     "output_type": "execute_result"
    }
   ],
   "source": [
    "df['estimated_salary'].describe().to_frame()"
   ]
  },
  {
   "cell_type": "code",
   "execution_count": 33,
   "metadata": {},
   "outputs": [
    {
     "data": {
      "image/png": "[encoded data removed]",
      "text/plain": [
       "<Figure size 1500x500 with 2 Axes>"
      ]
     },
     "metadata": {},
     "output_type": "display_data"
    }
   ],
   "source": [
    "f, [axs_hist, axs_box] = plt.subplots(2, 1,\n",
    "                                     figsize=(15, 5), \n",
    "                                     sharex=True,\n",
    "                                     gridspec_kw=dict(height_ratios=[4,1]))\n",
    "sns.histplot(data=df, x='estimated_salary', kde=True, ax=axs_hist)\\\n",
    ".set(title='Гистограмма распределения предполагаемых зарплат клиентов',\n",
    "     ylabel='Количество записей')\n",
    "sns.boxplot(data=df, x='estimated_salary', ax=axs_box)\\\n",
    ".set(xlabel='Предполагаемая зарплата клиента')\n",
    "plt.show()"
   ]
  },
  {
   "cell_type": "markdown",
   "metadata": {},
   "source": [
    "Значения предполагаемых зарплат клиентов лежат в диапазоне от 12 до 200000, медианное значение — 100 тысяч, что довольно близко к среднему. При этом распределение предполагаемых зарплат выглядит неправдоподобно — количество записей практически не зависит от предполагаемой зарплаты, хотя можно было бы предположить, что распределение будет больше напоминать нормальное. Возможно это связано с какими-то ошибками в данных, но для проверки этой гипотезы требуется дополнительное исследование. Построим также график зависимости оценки заработной платы от возраста. Можно предположить, что у молодых и пожилых клиентов зарплата будет ниже, чем у клиентов среднего возраста."
   ]
  },
  {
   "cell_type": "code",
   "execution_count": 34,
   "metadata": {},
   "outputs": [
    {
     "data": {
      "image/png": "[encoded data removed]",
      "text/plain": [
       "<Figure size 1500x500 with 1 Axes>"
      ]
     },
     "metadata": {},
     "output_type": "display_data"
    }
   ],
   "source": [
    "sns.scatterplot(data=df, y='estimated_salary', x='age')\n",
    "plt.title('Зависимость оценки зарплаты клиента от возраста')\n",
    "plt.xlabel('Возраст клиента')\n",
    "plt.ylabel('Оценка зарплаты')\n",
    "plt.show()"
   ]
  },
  {
   "cell_type": "markdown",
   "metadata": {},
   "source": [
    "На графике не наблюдается существенной разницы в разбросах зарплат между клиентами 18, 40 и 70 лет, что довольно подозрительно."
   ]
  },
  {
   "cell_type": "markdown",
   "metadata": {},
   "source": [
    "***exited***"
   ]
  },
  {
   "cell_type": "code",
   "execution_count": 35,
   "metadata": {},
   "outputs": [
    {
     "data": {
      "text/html": [
       "<div>\n",
       "<style scoped>\n",
       "    .dataframe tbody tr th:only-of-type {\n",
       "        vertical-align: middle;\n",
       "    }\n",
       "\n",
       "    .dataframe tbody tr th {\n",
       "        vertical-align: top;\n",
       "    }\n",
       "\n",
       "    .dataframe thead th {\n",
       "        text-align: right;\n",
       "    }\n",
       "</style>\n",
       "<table border=\"1\" class=\"dataframe\">\n",
       "  <thead>\n",
       "    <tr style=\"text-align: right;\">\n",
       "      <th></th>\n",
       "      <th>exited</th>\n",
       "    </tr>\n",
       "  </thead>\n",
       "  <tbody>\n",
       "    <tr>\n",
       "      <th>0</th>\n",
       "      <td>7963</td>\n",
       "    </tr>\n",
       "    <tr>\n",
       "      <th>1</th>\n",
       "      <td>2037</td>\n",
       "    </tr>\n",
       "  </tbody>\n",
       "</table>\n",
       "</div>"
      ],
      "text/plain": [
       "   exited\n",
       "0    7963\n",
       "1    2037"
      ]
     },
     "execution_count": 35,
     "metadata": {},
     "output_type": "execute_result"
    }
   ],
   "source": [
    "df['exited'].value_counts().to_frame()"
   ]
  },
  {
   "cell_type": "code",
   "execution_count": 36,
   "metadata": {},
   "outputs": [
    {
     "data": {
      "image/png": "[encoded data removed]",
      "text/plain": [
       "<Figure size 1500x500 with 1 Axes>"
      ]
     },
     "metadata": {},
     "output_type": "display_data"
    }
   ],
   "source": [
    "ax = sns.countplot(data=df, x='exited')\n",
    "ax.set(xticklabels = (['клиент не ушёл', 'клиент ушёл']))\n",
    "plt.title('Количество записей в зависимости от факта ухода клиента')\n",
    "plt.xlabel('Факт ухода клиента')\n",
    "plt.ylabel('Количество записей')\n",
    "plt.show()"
   ]
  },
  {
   "cell_type": "markdown",
   "metadata": {},
   "source": [
    "Видно, что в нашей таблице наблюдается дисбаланс классов — данных о клиентах, оставшихся в банке, заметно больше. Это может оказаться важным при построении моделей."
   ]
  },
  {
   "cell_type": "markdown",
   "metadata": {},
   "source": [
    "**Произведем проверку корреляции признаков**"
   ]
  },
  {
   "cell_type": "code",
   "execution_count": 37,
   "metadata": {},
   "outputs": [
    {
     "data": {
      "text/html": [
       "<div>\n",
       "<style scoped>\n",
       "    .dataframe tbody tr th:only-of-type {\n",
       "        vertical-align: middle;\n",
       "    }\n",
       "\n",
       "    .dataframe tbody tr th {\n",
       "        vertical-align: top;\n",
       "    }\n",
       "\n",
       "    .dataframe thead th {\n",
       "        text-align: right;\n",
       "    }\n",
       "</style>\n",
       "<table border=\"1\" class=\"dataframe\">\n",
       "  <thead>\n",
       "    <tr style=\"text-align: right;\">\n",
       "      <th></th>\n",
       "      <th>customer_id</th>\n",
       "      <th>credit_score</th>\n",
       "      <th>age</th>\n",
       "      <th>tenure</th>\n",
       "      <th>balance</th>\n",
       "      <th>num_of_products</th>\n",
       "      <th>has_cr_card</th>\n",
       "      <th>is_active_member</th>\n",
       "      <th>estimated_salary</th>\n",
       "      <th>exited</th>\n",
       "    </tr>\n",
       "  </thead>\n",
       "  <tbody>\n",
       "    <tr>\n",
       "      <th>customer_id</th>\n",
       "      <td>1.000000</td>\n",
       "      <td>0.005308</td>\n",
       "      <td>0.009497</td>\n",
       "      <td>-0.020331</td>\n",
       "      <td>-0.012419</td>\n",
       "      <td>0.016972</td>\n",
       "      <td>-0.014025</td>\n",
       "      <td>0.001665</td>\n",
       "      <td>0.015271</td>\n",
       "      <td>-0.006248</td>\n",
       "    </tr>\n",
       "    <tr>\n",
       "      <th>credit_score</th>\n",
       "      <td>0.005308</td>\n",
       "      <td>1.000000</td>\n",
       "      <td>-0.003965</td>\n",
       "      <td>-0.000060</td>\n",
       "      <td>0.006268</td>\n",
       "      <td>0.012238</td>\n",
       "      <td>-0.005458</td>\n",
       "      <td>0.025651</td>\n",
       "      <td>-0.001384</td>\n",
       "      <td>-0.027094</td>\n",
       "    </tr>\n",
       "    <tr>\n",
       "      <th>age</th>\n",
       "      <td>0.009497</td>\n",
       "      <td>-0.003965</td>\n",
       "      <td>1.000000</td>\n",
       "      <td>-0.012606</td>\n",
       "      <td>0.028308</td>\n",
       "      <td>-0.030680</td>\n",
       "      <td>-0.011721</td>\n",
       "      <td>0.085472</td>\n",
       "      <td>-0.007201</td>\n",
       "      <td>0.285323</td>\n",
       "    </tr>\n",
       "    <tr>\n",
       "      <th>tenure</th>\n",
       "      <td>-0.020331</td>\n",
       "      <td>-0.000060</td>\n",
       "      <td>-0.012606</td>\n",
       "      <td>1.000000</td>\n",
       "      <td>-0.007535</td>\n",
       "      <td>0.011409</td>\n",
       "      <td>0.025979</td>\n",
       "      <td>-0.030681</td>\n",
       "      <td>0.010049</td>\n",
       "      <td>-0.015989</td>\n",
       "    </tr>\n",
       "    <tr>\n",
       "      <th>balance</th>\n",
       "      <td>-0.012419</td>\n",
       "      <td>0.006268</td>\n",
       "      <td>0.028308</td>\n",
       "      <td>-0.007535</td>\n",
       "      <td>1.000000</td>\n",
       "      <td>-0.304180</td>\n",
       "      <td>-0.014858</td>\n",
       "      <td>-0.010084</td>\n",
       "      <td>0.012797</td>\n",
       "      <td>0.118533</td>\n",
       "    </tr>\n",
       "    <tr>\n",
       "      <th>num_of_products</th>\n",
       "      <td>0.016972</td>\n",
       "      <td>0.012238</td>\n",
       "      <td>-0.030680</td>\n",
       "      <td>0.011409</td>\n",
       "      <td>-0.304180</td>\n",
       "      <td>1.000000</td>\n",
       "      <td>0.003183</td>\n",
       "      <td>0.009612</td>\n",
       "      <td>0.014204</td>\n",
       "      <td>-0.047820</td>\n",
       "    </tr>\n",
       "    <tr>\n",
       "      <th>has_cr_card</th>\n",
       "      <td>-0.014025</td>\n",
       "      <td>-0.005458</td>\n",
       "      <td>-0.011721</td>\n",
       "      <td>0.025979</td>\n",
       "      <td>-0.014858</td>\n",
       "      <td>0.003183</td>\n",
       "      <td>1.000000</td>\n",
       "      <td>-0.011866</td>\n",
       "      <td>-0.009933</td>\n",
       "      <td>-0.007138</td>\n",
       "    </tr>\n",
       "    <tr>\n",
       "      <th>is_active_member</th>\n",
       "      <td>0.001665</td>\n",
       "      <td>0.025651</td>\n",
       "      <td>0.085472</td>\n",
       "      <td>-0.030681</td>\n",
       "      <td>-0.010084</td>\n",
       "      <td>0.009612</td>\n",
       "      <td>-0.011866</td>\n",
       "      <td>1.000000</td>\n",
       "      <td>-0.011421</td>\n",
       "      <td>-0.156128</td>\n",
       "    </tr>\n",
       "    <tr>\n",
       "      <th>estimated_salary</th>\n",
       "      <td>0.015271</td>\n",
       "      <td>-0.001384</td>\n",
       "      <td>-0.007201</td>\n",
       "      <td>0.010049</td>\n",
       "      <td>0.012797</td>\n",
       "      <td>0.014204</td>\n",
       "      <td>-0.009933</td>\n",
       "      <td>-0.011421</td>\n",
       "      <td>1.000000</td>\n",
       "      <td>0.012097</td>\n",
       "    </tr>\n",
       "    <tr>\n",
       "      <th>exited</th>\n",
       "      <td>-0.006248</td>\n",
       "      <td>-0.027094</td>\n",
       "      <td>0.285323</td>\n",
       "      <td>-0.015989</td>\n",
       "      <td>0.118533</td>\n",
       "      <td>-0.047820</td>\n",
       "      <td>-0.007138</td>\n",
       "      <td>-0.156128</td>\n",
       "      <td>0.012097</td>\n",
       "      <td>1.000000</td>\n",
       "    </tr>\n",
       "  </tbody>\n",
       "</table>\n",
       "</div>"
      ],
      "text/plain": [
       "                  customer_id  credit_score       age    tenure   balance  \\\n",
       "customer_id          1.000000      0.005308  0.009497 -0.020331 -0.012419   \n",
       "credit_score         0.005308      1.000000 -0.003965 -0.000060  0.006268   \n",
       "age                  0.009497     -0.003965  1.000000 -0.012606  0.028308   \n",
       "tenure              -0.020331     -0.000060 -0.012606  1.000000 -0.007535   \n",
       "balance             -0.012419      0.006268  0.028308 -0.007535  1.000000   \n",
       "num_of_products      0.016972      0.012238 -0.030680  0.011409 -0.304180   \n",
       "has_cr_card         -0.014025     -0.005458 -0.011721  0.025979 -0.014858   \n",
       "is_active_member     0.001665      0.025651  0.085472 -0.030681 -0.010084   \n",
       "estimated_salary     0.015271     -0.001384 -0.007201  0.010049  0.012797   \n",
       "exited              -0.006248     -0.027094  0.285323 -0.015989  0.118533   \n",
       "\n",
       "                  num_of_products  has_cr_card  is_active_member  \\\n",
       "customer_id              0.016972    -0.014025          0.001665   \n",
       "credit_score             0.012238    -0.005458          0.025651   \n",
       "age                     -0.030680    -0.011721          0.085472   \n",
       "tenure                   0.011409     0.025979         -0.030681   \n",
       "balance                 -0.304180    -0.014858         -0.010084   \n",
       "num_of_products          1.000000     0.003183          0.009612   \n",
       "has_cr_card              0.003183     1.000000         -0.011866   \n",
       "is_active_member         0.009612    -0.011866          1.000000   \n",
       "estimated_salary         0.014204    -0.009933         -0.011421   \n",
       "exited                  -0.047820    -0.007138         -0.156128   \n",
       "\n",
       "                  estimated_salary    exited  \n",
       "customer_id               0.015271 -0.006248  \n",
       "credit_score             -0.001384 -0.027094  \n",
       "age                      -0.007201  0.285323  \n",
       "tenure                    0.010049 -0.015989  \n",
       "balance                   0.012797  0.118533  \n",
       "num_of_products           0.014204 -0.047820  \n",
       "has_cr_card              -0.009933 -0.007138  \n",
       "is_active_member         -0.011421 -0.156128  \n",
       "estimated_salary          1.000000  0.012097  \n",
       "exited                    0.012097  1.000000  "
      ]
     },
     "execution_count": 37,
     "metadata": {},
     "output_type": "execute_result"
    }
   ],
   "source": [
    "df.corr()"
   ]
  },
  {
   "cell_type": "code",
   "execution_count": 38,
   "metadata": {},
   "outputs": [],
   "source": [
    "sns.heatmap(df.corr(), square=True, cmap='Blues')\\\n",
    ".set(title='Матрица корреляций');"
   ]
  },
  {
   "cell_type": "markdown",
   "metadata": {},
   "source": [
    "Видно, что между данными в различных колонках почти не наблюдается корреляции."
   ]
  },
  {
   "cell_type": "markdown",
   "metadata": {},
   "source": [
    "В датасете присудтсвуют столбы, содержание которых в формате object. Чтобы далее корректно обрабатывать данные применит метод ОНЕ."
   ]
  },
  {
   "cell_type": "markdown",
   "metadata": {},
   "source": [
    "Целевым признаком по прогнозу оттока клиентов будет являться Exited.\n",
    "\n",
    "Для начала из таблицы удалим ненужные признаки: Surname, CustomerId, RowNumber. Они нам не помогут в дальнейшем иследовании."
   ]
  },
  {
   "cell_type": "code",
   "execution_count": 39,
   "metadata": {},
   "outputs": [
    {
     "data": {
      "text/html": [
       "<div>\n",
       "<style scoped>\n",
       "    .dataframe tbody tr th:only-of-type {\n",
       "        vertical-align: middle;\n",
       "    }\n",
       "\n",
       "    .dataframe tbody tr th {\n",
       "        vertical-align: top;\n",
       "    }\n",
       "\n",
       "    .dataframe thead th {\n",
       "        text-align: right;\n",
       "    }\n",
       "</style>\n",
       "<table border=\"1\" class=\"dataframe\">\n",
       "  <thead>\n",
       "    <tr style=\"text-align: right;\">\n",
       "      <th></th>\n",
       "      <th>credit_score</th>\n",
       "      <th>age</th>\n",
       "      <th>tenure</th>\n",
       "      <th>balance</th>\n",
       "      <th>num_of_products</th>\n",
       "      <th>has_cr_card</th>\n",
       "      <th>is_active_member</th>\n",
       "      <th>estimated_salary</th>\n",
       "      <th>exited</th>\n",
       "      <th>geography_Germany</th>\n",
       "      <th>geography_Spain</th>\n",
       "      <th>gender_Male</th>\n",
       "    </tr>\n",
       "    <tr>\n",
       "      <th>row_number</th>\n",
       "      <th></th>\n",
       "      <th></th>\n",
       "      <th></th>\n",
       "      <th></th>\n",
       "      <th></th>\n",
       "      <th></th>\n",
       "      <th></th>\n",
       "      <th></th>\n",
       "      <th></th>\n",
       "      <th></th>\n",
       "      <th></th>\n",
       "      <th></th>\n",
       "    </tr>\n",
       "  </thead>\n",
       "  <tbody>\n",
       "    <tr>\n",
       "      <th>1</th>\n",
       "      <td>619</td>\n",
       "      <td>42</td>\n",
       "      <td>2</td>\n",
       "      <td>0.00</td>\n",
       "      <td>1</td>\n",
       "      <td>1</td>\n",
       "      <td>1</td>\n",
       "      <td>101348.88</td>\n",
       "      <td>1</td>\n",
       "      <td>0</td>\n",
       "      <td>0</td>\n",
       "      <td>0</td>\n",
       "    </tr>\n",
       "    <tr>\n",
       "      <th>2</th>\n",
       "      <td>608</td>\n",
       "      <td>41</td>\n",
       "      <td>1</td>\n",
       "      <td>83807.86</td>\n",
       "      <td>1</td>\n",
       "      <td>0</td>\n",
       "      <td>1</td>\n",
       "      <td>112542.58</td>\n",
       "      <td>0</td>\n",
       "      <td>0</td>\n",
       "      <td>1</td>\n",
       "      <td>0</td>\n",
       "    </tr>\n",
       "    <tr>\n",
       "      <th>3</th>\n",
       "      <td>502</td>\n",
       "      <td>42</td>\n",
       "      <td>8</td>\n",
       "      <td>159660.80</td>\n",
       "      <td>3</td>\n",
       "      <td>1</td>\n",
       "      <td>0</td>\n",
       "      <td>113931.57</td>\n",
       "      <td>1</td>\n",
       "      <td>0</td>\n",
       "      <td>0</td>\n",
       "      <td>0</td>\n",
       "    </tr>\n",
       "    <tr>\n",
       "      <th>4</th>\n",
       "      <td>699</td>\n",
       "      <td>39</td>\n",
       "      <td>1</td>\n",
       "      <td>0.00</td>\n",
       "      <td>2</td>\n",
       "      <td>0</td>\n",
       "      <td>0</td>\n",
       "      <td>93826.63</td>\n",
       "      <td>0</td>\n",
       "      <td>0</td>\n",
       "      <td>0</td>\n",
       "      <td>0</td>\n",
       "    </tr>\n",
       "    <tr>\n",
       "      <th>5</th>\n",
       "      <td>850</td>\n",
       "      <td>43</td>\n",
       "      <td>2</td>\n",
       "      <td>125510.82</td>\n",
       "      <td>1</td>\n",
       "      <td>1</td>\n",
       "      <td>1</td>\n",
       "      <td>79084.10</td>\n",
       "      <td>0</td>\n",
       "      <td>0</td>\n",
       "      <td>1</td>\n",
       "      <td>0</td>\n",
       "    </tr>\n",
       "  </tbody>\n",
       "</table>\n",
       "</div>"
      ],
      "text/plain": [
       "            credit_score  age  tenure    balance  num_of_products  \\\n",
       "row_number                                                          \n",
       "1                    619   42       2       0.00                1   \n",
       "2                    608   41       1   83807.86                1   \n",
       "3                    502   42       8  159660.80                3   \n",
       "4                    699   39       1       0.00                2   \n",
       "5                    850   43       2  125510.82                1   \n",
       "\n",
       "            has_cr_card  is_active_member  estimated_salary  exited  \\\n",
       "row_number                                                            \n",
       "1                     1                 1         101348.88       1   \n",
       "2                     0                 1         112542.58       0   \n",
       "3                     1                 0         113931.57       1   \n",
       "4                     0                 0          93826.63       0   \n",
       "5                     1                 1          79084.10       0   \n",
       "\n",
       "            geography_Germany  geography_Spain  gender_Male  \n",
       "row_number                                                   \n",
       "1                           0                0            0  \n",
       "2                           0                1            0  \n",
       "3                           0                0            0  \n",
       "4                           0                0            0  \n",
       "5                           0                1            0  "
      ]
     },
     "execution_count": 39,
     "metadata": {},
     "output_type": "execute_result"
    }
   ],
   "source": [
    "df = df.drop([\"surname\"], axis=1)\n",
    "df = df.drop([\"customer_id\"], axis=1)  \n",
    "\n",
    "\n",
    "df = pd.get_dummies(df, drop_first=True)\n",
    "\n",
    "df.head()"
   ]
  },
  {
   "cell_type": "markdown",
   "metadata": {},
   "source": [
    "На данном этапе сделаем следующее: \n",
    "\n",
    "-выделим целевой признак.\n",
    "\n",
    "-разобъем исходный датасет на 3-выборки: обучающая, валидационная, тестовая. \n",
    "\n",
    "-сделаем преобразование по масштабу у признаков."
   ]
  },
  {
   "cell_type": "code",
   "execution_count": 40,
   "metadata": {},
   "outputs": [],
   "source": [
    "features = df.drop(['exited'], axis=1)\n",
    "target = df['exited'] \n",
    "\n",
    "\n",
    "df_train, df_work = train_test_split(df, test_size=0.4, random_state=12345)\n",
    "\n",
    "\n",
    "df_valid, df_test = train_test_split(df_work, test_size=0.5, random_state=12345)\n",
    "\n",
    "\n",
    "features_train = df_train.drop(['exited'], axis=1)\n",
    "target_train = df_train['exited']\n",
    "\n",
    "features_valid = df_valid.drop(['exited'], axis=1)\n",
    "target_valid = df_valid['exited']\n",
    "\n",
    "features_test = df_test.drop(['exited'], axis=1)\n",
    "target_test = df_test['exited']\n",
    "\n",
    "\n",
    "numeric = ['credit_score', 'age', 'tenure', 'balance', 'num_of_products', 'estimated_salary']\n",
    "\n",
    "scaler = StandardScaler()\n",
    "scaler.fit(features_train[numeric])\n",
    "\n",
    "\n",
    "features_train[numeric] = scaler.transform(features_train[numeric])\n",
    "features_valid[numeric] = scaler.transform(features_valid[numeric])\n",
    "features_test[numeric] = scaler.transform(features_test[numeric])\n",
    "\n",
    "pd.options.mode.chained_assignment = None"
   ]
  },
  {
   "cell_type": "markdown",
   "metadata": {},
   "source": [
    "**Вывод.** Информация рассмотрена, пропуски заменены на медианные значения, ненужные признаки удалены из датасета. Выделен целевой признак и остальные, по которым будем готовить модели по методике обучение с учителем. Также проведено масштабирование признаков."
   ]
  },
  {
   "cell_type": "markdown",
   "metadata": {},
   "source": [
    "## Исследование задачи"
   ]
  },
  {
   "cell_type": "markdown",
   "metadata": {},
   "source": [
    "**Баланс классов**: по результатам проверки датасета видно, что 80% в целевом признаке Exited составляет \"0\" и 20% \"1\". Данный дисбаланс значителен и может повлиять на дальнейшее исследование. "
   ]
  },
  {
   "cell_type": "markdown",
   "metadata": {},
   "source": [
    "Далее рассмотрим, какая из моделей лучше всего подойдет для предсказания оттока клиентов. На данном этапе без Учета баланса. "
   ]
  },
  {
   "cell_type": "markdown",
   "metadata": {},
   "source": [
    "**1) Дерево решений.** Определелим наиболее оптимальные параметры без учета баланса и построим модель."
   ]
  },
  {
   "cell_type": "code",
   "execution_count": 41,
   "metadata": {},
   "outputs": [
    {
     "data": {
      "text/plain": [
       "{'criterion': 'gini',\n",
       " 'max_depth': 7,\n",
       " 'min_samples_split': 5,\n",
       " 'splitter': 'best'}"
      ]
     },
     "execution_count": 41,
     "metadata": {},
     "output_type": "execute_result"
    }
   ],
   "source": [
    "model_dtc = DecisionTreeClassifier()\n",
    "parametrs_dtc = {'max_depth': range (2, 10, 1),\n",
    "                'criterion': ['gini', 'entropy', 'log_loss'],\n",
    "                'splitter': ['best', 'random'],\n",
    "                'min_samples_split': range (2, 6, 1)}\n",
    "grid_dtc = GridSearchCV(model_dtc, parametrs_dtc, cv=5, scoring='f1')\n",
    "grid_dtc.fit(features_train, target_train)\n",
    "\n",
    "grid_dtc.best_params_"
   ]
  },
  {
   "cell_type": "code",
   "execution_count": 42,
   "metadata": {
    "scrolled": true
   },
   "outputs": [
    {
     "data": {
      "text/html": [
       "<div>\n",
       "<style scoped>\n",
       "    .dataframe tbody tr th:only-of-type {\n",
       "        vertical-align: middle;\n",
       "    }\n",
       "\n",
       "    .dataframe tbody tr th {\n",
       "        vertical-align: top;\n",
       "    }\n",
       "\n",
       "    .dataframe thead th {\n",
       "        text-align: right;\n",
       "    }\n",
       "</style>\n",
       "<table border=\"1\" class=\"dataframe\">\n",
       "  <thead>\n",
       "    <tr style=\"text-align: right;\">\n",
       "      <th></th>\n",
       "      <th>metric_train</th>\n",
       "    </tr>\n",
       "  </thead>\n",
       "  <tbody>\n",
       "    <tr>\n",
       "      <th>roc_auc_score</th>\n",
       "      <td>0.880431</td>\n",
       "    </tr>\n",
       "    <tr>\n",
       "      <th>accuracy_score</th>\n",
       "      <td>0.879500</td>\n",
       "    </tr>\n",
       "    <tr>\n",
       "      <th>precision_score</th>\n",
       "      <td>0.832630</td>\n",
       "    </tr>\n",
       "    <tr>\n",
       "      <th>f1_score</th>\n",
       "      <td>0.620870</td>\n",
       "    </tr>\n",
       "    <tr>\n",
       "      <th>recall_score</th>\n",
       "      <td>0.494983</td>\n",
       "    </tr>\n",
       "  </tbody>\n",
       "</table>\n",
       "</div>"
      ],
      "text/plain": [
       "                 metric_train\n",
       "roc_auc_score        0.880431\n",
       "accuracy_score       0.879500\n",
       "precision_score      0.832630\n",
       "f1_score             0.620870\n",
       "recall_score         0.494983"
      ]
     },
     "execution_count": 42,
     "metadata": {},
     "output_type": "execute_result"
    }
   ],
   "source": [
    "train_pred_basic_tree = grid_dtc.predict(features_train)\n",
    "valid_pred_basic_tree = grid_dtc.predict(features_valid)\n",
    "\n",
    "probabilities_train = grid_dtc.predict_proba(features_train)\n",
    "probabilities_valid = grid_dtc.predict_proba(features_valid)\n",
    "probabilities_one_train = probabilities_train[:, 1]\n",
    "probabilities_one_valid = probabilities_valid[:, 1]\n",
    "\n",
    "metric_names = ['accuracy_score','recall_score','precision_score','f1_score', 'roc_auc_score']\n",
    "values_train = [accuracy_score(target_train, train_pred_basic_tree),\n",
    "         recall_score(target_train, train_pred_basic_tree),\n",
    "         precision_score(target_train, train_pred_basic_tree),\n",
    "         f1_score(target_train, train_pred_basic_tree),\n",
    "         roc_auc_score(target_train, probabilities_one_train)]\n",
    "\n",
    "values_valid = [accuracy_score(target_valid, valid_pred_basic_tree), \n",
    "               recall_score(target_valid, valid_pred_basic_tree),\n",
    "               precision_score(target_valid, valid_pred_basic_tree),\n",
    "               f1_score(target_valid, valid_pred_basic_tree),\n",
    "               roc_auc_score(target_valid, probabilities_one_valid)]\n",
    "\n",
    "results_train = pd.DataFrame(data=values_train,index=metric_names,columns=['metric_train'])\n",
    "results_train.sort_values('metric_train',ascending=False)"
   ]
  },
  {
   "cell_type": "code",
   "execution_count": 43,
   "metadata": {},
   "outputs": [
    {
     "data": {
      "text/html": [
       "<div>\n",
       "<style scoped>\n",
       "    .dataframe tbody tr th:only-of-type {\n",
       "        vertical-align: middle;\n",
       "    }\n",
       "\n",
       "    .dataframe tbody tr th {\n",
       "        vertical-align: top;\n",
       "    }\n",
       "\n",
       "    .dataframe thead th {\n",
       "        text-align: right;\n",
       "    }\n",
       "</style>\n",
       "<table border=\"1\" class=\"dataframe\">\n",
       "  <thead>\n",
       "    <tr style=\"text-align: right;\">\n",
       "      <th></th>\n",
       "      <th>metric_valid</th>\n",
       "    </tr>\n",
       "  </thead>\n",
       "  <tbody>\n",
       "    <tr>\n",
       "      <th>accuracy_score</th>\n",
       "      <td>0.850500</td>\n",
       "    </tr>\n",
       "    <tr>\n",
       "      <th>roc_auc_score</th>\n",
       "      <td>0.816429</td>\n",
       "    </tr>\n",
       "    <tr>\n",
       "      <th>precision_score</th>\n",
       "      <td>0.762115</td>\n",
       "    </tr>\n",
       "    <tr>\n",
       "      <th>f1_score</th>\n",
       "      <td>0.536434</td>\n",
       "    </tr>\n",
       "    <tr>\n",
       "      <th>recall_score</th>\n",
       "      <td>0.413876</td>\n",
       "    </tr>\n",
       "  </tbody>\n",
       "</table>\n",
       "</div>"
      ],
      "text/plain": [
       "                 metric_valid\n",
       "accuracy_score       0.850500\n",
       "roc_auc_score        0.816429\n",
       "precision_score      0.762115\n",
       "f1_score             0.536434\n",
       "recall_score         0.413876"
      ]
     },
     "execution_count": 43,
     "metadata": {},
     "output_type": "execute_result"
    }
   ],
   "source": [
    "results_valid = pd.DataFrame(data=values_valid,index=metric_names,columns=['metric_valid'])\n",
    "results_valid.sort_values('metric_valid',ascending=False)"
   ]
  },
  {
   "cell_type": "markdown",
   "metadata": {},
   "source": [
    "**2) Случайный лес** Определелим наиболее оптимальные параметры без учета баланса и построим модель."
   ]
  },
  {
   "cell_type": "code",
   "execution_count": 44,
   "metadata": {},
   "outputs": [
    {
     "name": "stdout",
     "output_type": "stream",
     "text": [
      "CPU times: user 7min 40s, sys: 2.06 s, total: 7min 42s\n",
      "Wall time: 7min 46s\n"
     ]
    },
    {
     "data": {
      "text/plain": [
       "{'criterion': 'gini',\n",
       " 'max_depth': 9,\n",
       " 'min_samples_split': 4,\n",
       " 'n_estimators': 20}"
      ]
     },
     "execution_count": 44,
     "metadata": {},
     "output_type": "execute_result"
    }
   ],
   "source": [
    "%%time\n",
    "model_rfc = RandomForestClassifier()\n",
    "\n",
    "parametrs_rfc = {'n_estimators': range (10, 51, 10), \n",
    "                 'max_depth': range (2, 10, 1),\n",
    "                'criterion': ['gini', 'entropy', 'log_loss'],\n",
    "                'min_samples_split': range(2, 11)}\n",
    "grid_rfc = GridSearchCV(model_rfc, parametrs_rfc, cv=5,scoring='f1')\n",
    "grid_rfc.fit(features_train, target_train)\n",
    "\n",
    "grid_rfc.best_params_"
   ]
  },
  {
   "cell_type": "code",
   "execution_count": 45,
   "metadata": {},
   "outputs": [
    {
     "data": {
      "text/html": [
       "<div>\n",
       "<style scoped>\n",
       "    .dataframe tbody tr th:only-of-type {\n",
       "        vertical-align: middle;\n",
       "    }\n",
       "\n",
       "    .dataframe tbody tr th {\n",
       "        vertical-align: top;\n",
       "    }\n",
       "\n",
       "    .dataframe thead th {\n",
       "        text-align: right;\n",
       "    }\n",
       "</style>\n",
       "<table border=\"1\" class=\"dataframe\">\n",
       "  <thead>\n",
       "    <tr style=\"text-align: right;\">\n",
       "      <th></th>\n",
       "      <th>metric_train</th>\n",
       "    </tr>\n",
       "  </thead>\n",
       "  <tbody>\n",
       "    <tr>\n",
       "      <th>roc_auc_score</th>\n",
       "      <td>0.937155</td>\n",
       "    </tr>\n",
       "    <tr>\n",
       "      <th>precision_score</th>\n",
       "      <td>0.920420</td>\n",
       "    </tr>\n",
       "    <tr>\n",
       "      <th>accuracy_score</th>\n",
       "      <td>0.894000</td>\n",
       "    </tr>\n",
       "    <tr>\n",
       "      <th>f1_score</th>\n",
       "      <td>0.658432</td>\n",
       "    </tr>\n",
       "    <tr>\n",
       "      <th>recall_score</th>\n",
       "      <td>0.512542</td>\n",
       "    </tr>\n",
       "  </tbody>\n",
       "</table>\n",
       "</div>"
      ],
      "text/plain": [
       "                 metric_train\n",
       "roc_auc_score        0.937155\n",
       "precision_score      0.920420\n",
       "accuracy_score       0.894000\n",
       "f1_score             0.658432\n",
       "recall_score         0.512542"
      ]
     },
     "execution_count": 45,
     "metadata": {},
     "output_type": "execute_result"
    }
   ],
   "source": [
    "train_pred_rand_for = grid_rfc.predict(features_train)\n",
    "valid_pred_rand_for = grid_rfc.predict(features_valid)\n",
    "\n",
    "probabilities_train = grid_rfc.predict_proba(features_train)\n",
    "probabilities_valid = grid_rfc.predict_proba(features_valid)\n",
    "probabilities_one_train = probabilities_train[:, 1]\n",
    "probabilities_one_valid = probabilities_valid[:, 1]\n",
    "\n",
    "\n",
    "values_train = [accuracy_score(target_train, train_pred_rand_for),\n",
    "                recall_score(target_train, train_pred_rand_for),\n",
    "                precision_score(target_train, train_pred_rand_for),\n",
    "                f1_score(target_train, train_pred_rand_for),\n",
    "                roc_auc_score(target_train, probabilities_one_train)]\n",
    "\n",
    "values_valid = [accuracy_score(target_valid, valid_pred_rand_for), \n",
    "                recall_score(target_valid, valid_pred_rand_for),\n",
    "                precision_score(target_valid, valid_pred_rand_for),\n",
    "                f1_score(target_valid, valid_pred_rand_for),\n",
    "                roc_auc_score(target_valid, probabilities_one_valid)]\n",
    "\n",
    "results_train = pd.DataFrame(data=values_train,index=metric_names,columns=['metric_train'])\n",
    "results_train.sort_values('metric_train',ascending=False)"
   ]
  },
  {
   "cell_type": "code",
   "execution_count": 46,
   "metadata": {},
   "outputs": [
    {
     "data": {
      "text/html": [
       "<div>\n",
       "<style scoped>\n",
       "    .dataframe tbody tr th:only-of-type {\n",
       "        vertical-align: middle;\n",
       "    }\n",
       "\n",
       "    .dataframe tbody tr th {\n",
       "        vertical-align: top;\n",
       "    }\n",
       "\n",
       "    .dataframe thead th {\n",
       "        text-align: right;\n",
       "    }\n",
       "</style>\n",
       "<table border=\"1\" class=\"dataframe\">\n",
       "  <thead>\n",
       "    <tr style=\"text-align: right;\">\n",
       "      <th></th>\n",
       "      <th>metric_valid</th>\n",
       "    </tr>\n",
       "  </thead>\n",
       "  <tbody>\n",
       "    <tr>\n",
       "      <th>accuracy_score</th>\n",
       "      <td>0.863500</td>\n",
       "    </tr>\n",
       "    <tr>\n",
       "      <th>roc_auc_score</th>\n",
       "      <td>0.852258</td>\n",
       "    </tr>\n",
       "    <tr>\n",
       "      <th>precision_score</th>\n",
       "      <td>0.816594</td>\n",
       "    </tr>\n",
       "    <tr>\n",
       "      <th>f1_score</th>\n",
       "      <td>0.578053</td>\n",
       "    </tr>\n",
       "    <tr>\n",
       "      <th>recall_score</th>\n",
       "      <td>0.447368</td>\n",
       "    </tr>\n",
       "  </tbody>\n",
       "</table>\n",
       "</div>"
      ],
      "text/plain": [
       "                 metric_valid\n",
       "accuracy_score       0.863500\n",
       "roc_auc_score        0.852258\n",
       "precision_score      0.816594\n",
       "f1_score             0.578053\n",
       "recall_score         0.447368"
      ]
     },
     "execution_count": 46,
     "metadata": {},
     "output_type": "execute_result"
    }
   ],
   "source": [
    "results_valid = pd.DataFrame(data=values_valid,index=metric_names,columns=['metric_valid'])\n",
    "results_valid.sort_values('metric_valid',ascending=False)"
   ]
  },
  {
   "cell_type": "markdown",
   "metadata": {},
   "source": [
    "**3) Логистическая регрессия**. Определелим наиболее оптимальные параметры без учета баланса и построим модель. переберем параметры solver и max_iter."
   ]
  },
  {
   "cell_type": "code",
   "execution_count": 47,
   "metadata": {},
   "outputs": [
    {
     "name": "stdout",
     "output_type": "stream",
     "text": [
      "CPU times: user 28.5 s, sys: 7.83 s, total: 36.3 s\n",
      "Wall time: 7.57 s\n"
     ]
    },
    {
     "data": {
      "text/plain": [
       "{'max_iter': 1000, 'solver': 'newton-cg'}"
      ]
     },
     "execution_count": 47,
     "metadata": {},
     "output_type": "execute_result"
    }
   ],
   "source": [
    "%%time\n",
    "model_log = LogisticRegression()\n",
    "\n",
    "parametrs_log = {'max_iter': range (1000, 10000, 500), \n",
    "                'solver': ['newton-cg', 'lbfgs', 'liblinear', 'sag', 'saga']}\n",
    "grid_log = GridSearchCV(model_log, parametrs_log, cv=5, scoring='f1')\n",
    "grid_log.fit(features_train, target_train)\n",
    "\n",
    "grid_log.best_params_"
   ]
  },
  {
   "cell_type": "code",
   "execution_count": 48,
   "metadata": {},
   "outputs": [
    {
     "data": {
      "text/html": [
       "<div>\n",
       "<style scoped>\n",
       "    .dataframe tbody tr th:only-of-type {\n",
       "        vertical-align: middle;\n",
       "    }\n",
       "\n",
       "    .dataframe tbody tr th {\n",
       "        vertical-align: top;\n",
       "    }\n",
       "\n",
       "    .dataframe thead th {\n",
       "        text-align: right;\n",
       "    }\n",
       "</style>\n",
       "<table border=\"1\" class=\"dataframe\">\n",
       "  <thead>\n",
       "    <tr style=\"text-align: right;\">\n",
       "      <th></th>\n",
       "      <th>metric_train</th>\n",
       "    </tr>\n",
       "  </thead>\n",
       "  <tbody>\n",
       "    <tr>\n",
       "      <th>accuracy_score</th>\n",
       "      <td>0.818667</td>\n",
       "    </tr>\n",
       "    <tr>\n",
       "      <th>roc_auc_score</th>\n",
       "      <td>0.777449</td>\n",
       "    </tr>\n",
       "    <tr>\n",
       "      <th>precision_score</th>\n",
       "      <td>0.616883</td>\n",
       "    </tr>\n",
       "    <tr>\n",
       "      <th>f1_score</th>\n",
       "      <td>0.343788</td>\n",
       "    </tr>\n",
       "    <tr>\n",
       "      <th>recall_score</th>\n",
       "      <td>0.238294</td>\n",
       "    </tr>\n",
       "  </tbody>\n",
       "</table>\n",
       "</div>"
      ],
      "text/plain": [
       "                 metric_train\n",
       "accuracy_score       0.818667\n",
       "roc_auc_score        0.777449\n",
       "precision_score      0.616883\n",
       "f1_score             0.343788\n",
       "recall_score         0.238294"
      ]
     },
     "execution_count": 48,
     "metadata": {},
     "output_type": "execute_result"
    }
   ],
   "source": [
    "train_pred_log = grid_log.predict(features_train)\n",
    "valid_pred_log = grid_log.predict(features_valid)\n",
    "\n",
    "probabilities_train = grid_log.predict_proba(features_train)\n",
    "probabilities_valid = grid_log.predict_proba(features_valid)\n",
    "probabilities_one_train = probabilities_train[:, 1]\n",
    "probabilities_one_valid = probabilities_valid[:, 1]\n",
    "\n",
    "\n",
    "values_train = [accuracy_score(target_train, train_pred_log),\n",
    "                recall_score(target_train, train_pred_log),\n",
    "                precision_score(target_train, train_pred_log),\n",
    "                f1_score(target_train, train_pred_log),\n",
    "                roc_auc_score(target_train, probabilities_one_train)]\n",
    "\n",
    "values_valid = [accuracy_score(target_valid, valid_pred_log), \n",
    "                recall_score(target_valid, valid_pred_log),\n",
    "                precision_score(target_valid, valid_pred_log),\n",
    "                f1_score(target_valid, valid_pred_log),\n",
    "                roc_auc_score(target_valid, probabilities_one_valid)]\n",
    "\n",
    "results_train = pd.DataFrame(data=values_train,index=metric_names,columns=['metric_train'])\n",
    "results_train.sort_values('metric_train',ascending=False)"
   ]
  },
  {
   "cell_type": "code",
   "execution_count": 49,
   "metadata": {},
   "outputs": [
    {
     "data": {
      "text/html": [
       "<div>\n",
       "<style scoped>\n",
       "    .dataframe tbody tr th:only-of-type {\n",
       "        vertical-align: middle;\n",
       "    }\n",
       "\n",
       "    .dataframe tbody tr th {\n",
       "        vertical-align: top;\n",
       "    }\n",
       "\n",
       "    .dataframe thead th {\n",
       "        text-align: right;\n",
       "    }\n",
       "</style>\n",
       "<table border=\"1\" class=\"dataframe\">\n",
       "  <thead>\n",
       "    <tr style=\"text-align: right;\">\n",
       "      <th></th>\n",
       "      <th>metric_valid</th>\n",
       "    </tr>\n",
       "  </thead>\n",
       "  <tbody>\n",
       "    <tr>\n",
       "      <th>accuracy_score</th>\n",
       "      <td>0.802000</td>\n",
       "    </tr>\n",
       "    <tr>\n",
       "      <th>roc_auc_score</th>\n",
       "      <td>0.758806</td>\n",
       "    </tr>\n",
       "    <tr>\n",
       "      <th>precision_score</th>\n",
       "      <td>0.563218</td>\n",
       "    </tr>\n",
       "    <tr>\n",
       "      <th>f1_score</th>\n",
       "      <td>0.331081</td>\n",
       "    </tr>\n",
       "    <tr>\n",
       "      <th>recall_score</th>\n",
       "      <td>0.234450</td>\n",
       "    </tr>\n",
       "  </tbody>\n",
       "</table>\n",
       "</div>"
      ],
      "text/plain": [
       "                 metric_valid\n",
       "accuracy_score       0.802000\n",
       "roc_auc_score        0.758806\n",
       "precision_score      0.563218\n",
       "f1_score             0.331081\n",
       "recall_score         0.234450"
      ]
     },
     "execution_count": 49,
     "metadata": {},
     "output_type": "execute_result"
    }
   ],
   "source": [
    "results_valid = pd.DataFrame(data=values_valid,index=metric_names,columns=['metric_valid'])\n",
    "results_valid.sort_values('metric_valid',ascending=False)"
   ]
  },
  {
   "cell_type": "markdown",
   "metadata": {},
   "source": [
    "**Вывод.**\n",
    "\n",
    "На текущем этапе проверки лучше всего по метрике F1 показала себя модель Случайного Леса. При этом Модель дерево решений незначительно уступает ей.\n",
    "\n",
    "Модель логистической регрессии проявила себя хуже всего."
   ]
  },
  {
   "cell_type": "markdown",
   "metadata": {},
   "source": [
    "## Борьба с дисбалансом"
   ]
  },
  {
   "cell_type": "markdown",
   "metadata": {},
   "source": [
    "Для борьбы с дисбалансом и выбором лучшей модели рассмотрим 3 метода:\n",
    "1) Добавим к моделям параметр 'class_weight': 'balanced'.\n",
    "\n",
    "2) Проведем upsampling \n",
    "\n",
    "3) Проведем downsampling"
   ]
  },
  {
   "cell_type": "markdown",
   "metadata": {},
   "source": [
    "**1) Добавим к моделям параметр 'class_weight': 'balanced'.**"
   ]
  },
  {
   "cell_type": "code",
   "execution_count": 50,
   "metadata": {},
   "outputs": [
    {
     "data": {
      "text/html": [
       "<div>\n",
       "<style scoped>\n",
       "    .dataframe tbody tr th:only-of-type {\n",
       "        vertical-align: middle;\n",
       "    }\n",
       "\n",
       "    .dataframe tbody tr th {\n",
       "        vertical-align: top;\n",
       "    }\n",
       "\n",
       "    .dataframe thead th {\n",
       "        text-align: right;\n",
       "    }\n",
       "</style>\n",
       "<table border=\"1\" class=\"dataframe\">\n",
       "  <thead>\n",
       "    <tr style=\"text-align: right;\">\n",
       "      <th></th>\n",
       "      <th>metric_train</th>\n",
       "    </tr>\n",
       "  </thead>\n",
       "  <tbody>\n",
       "    <tr>\n",
       "      <th>roc_auc_score</th>\n",
       "      <td>0.861851</td>\n",
       "    </tr>\n",
       "    <tr>\n",
       "      <th>accuracy_score</th>\n",
       "      <td>0.793000</td>\n",
       "    </tr>\n",
       "    <tr>\n",
       "      <th>recall_score</th>\n",
       "      <td>0.742475</td>\n",
       "    </tr>\n",
       "    <tr>\n",
       "      <th>f1_score</th>\n",
       "      <td>0.588469</td>\n",
       "    </tr>\n",
       "    <tr>\n",
       "      <th>precision_score</th>\n",
       "      <td>0.487377</td>\n",
       "    </tr>\n",
       "  </tbody>\n",
       "</table>\n",
       "</div>"
      ],
      "text/plain": [
       "                 metric_train\n",
       "roc_auc_score        0.861851\n",
       "accuracy_score       0.793000\n",
       "recall_score         0.742475\n",
       "f1_score             0.588469\n",
       "precision_score      0.487377"
      ]
     },
     "execution_count": 50,
     "metadata": {},
     "output_type": "execute_result"
    }
   ],
   "source": [
    "model_dtc = DecisionTreeClassifier()\n",
    "parametrs_dtc = {'max_depth': range (2, 10, 1),\n",
    "                'criterion': ['gini', 'entropy', 'log_loss'],\n",
    "                'splitter': ['best', 'random'],\n",
    "                'min_samples_split': range (2, 6, 1),\n",
    "                'class_weight': ['balanced']}\n",
    "grid_dtc = GridSearchCV(model_dtc, parametrs_dtc, cv=5, scoring='f1')\n",
    "grid_dtc.fit(features_train, target_train)\n",
    "\n",
    "\n",
    "train_pred_basic_tree = grid_dtc.predict(features_train)\n",
    "valid_pred_basic_tree = grid_dtc.predict(features_valid)\n",
    "\n",
    "probabilities_train = grid_dtc.predict_proba(features_train)\n",
    "probabilities_valid = grid_dtc.predict_proba(features_valid)\n",
    "probabilities_one_train = probabilities_train[:, 1]\n",
    "probabilities_one_valid = probabilities_valid[:, 1]\n",
    "\n",
    "values_train = [accuracy_score(target_train, train_pred_basic_tree),\n",
    "         recall_score(target_train, train_pred_basic_tree),\n",
    "         precision_score(target_train, train_pred_basic_tree),\n",
    "         f1_score(target_train, train_pred_basic_tree),\n",
    "         roc_auc_score(target_train, probabilities_one_train)]\n",
    "\n",
    "values_valid = [accuracy_score(target_valid, valid_pred_basic_tree), \n",
    "               recall_score(target_valid, valid_pred_basic_tree),\n",
    "               precision_score(target_valid, valid_pred_basic_tree),\n",
    "               f1_score(target_valid, valid_pred_basic_tree),\n",
    "               roc_auc_score(target_valid, probabilities_one_valid)]\n",
    "\n",
    "results_train = pd.DataFrame(data=values_train,index=metric_names,columns=['metric_train'])\n",
    "results_train.sort_values('metric_train',ascending=False)"
   ]
  },
  {
   "cell_type": "code",
   "execution_count": 51,
   "metadata": {},
   "outputs": [
    {
     "data": {
      "text/html": [
       "<div>\n",
       "<style scoped>\n",
       "    .dataframe tbody tr th:only-of-type {\n",
       "        vertical-align: middle;\n",
       "    }\n",
       "\n",
       "    .dataframe tbody tr th {\n",
       "        vertical-align: top;\n",
       "    }\n",
       "\n",
       "    .dataframe thead th {\n",
       "        text-align: right;\n",
       "    }\n",
       "</style>\n",
       "<table border=\"1\" class=\"dataframe\">\n",
       "  <thead>\n",
       "    <tr style=\"text-align: right;\">\n",
       "      <th></th>\n",
       "      <th>metric_valid</th>\n",
       "    </tr>\n",
       "  </thead>\n",
       "  <tbody>\n",
       "    <tr>\n",
       "      <th>roc_auc_score</th>\n",
       "      <td>0.812484</td>\n",
       "    </tr>\n",
       "    <tr>\n",
       "      <th>accuracy_score</th>\n",
       "      <td>0.765000</td>\n",
       "    </tr>\n",
       "    <tr>\n",
       "      <th>recall_score</th>\n",
       "      <td>0.679426</td>\n",
       "    </tr>\n",
       "    <tr>\n",
       "      <th>f1_score</th>\n",
       "      <td>0.547206</td>\n",
       "    </tr>\n",
       "    <tr>\n",
       "      <th>precision_score</th>\n",
       "      <td>0.458065</td>\n",
       "    </tr>\n",
       "  </tbody>\n",
       "</table>\n",
       "</div>"
      ],
      "text/plain": [
       "                 metric_valid\n",
       "roc_auc_score        0.812484\n",
       "accuracy_score       0.765000\n",
       "recall_score         0.679426\n",
       "f1_score             0.547206\n",
       "precision_score      0.458065"
      ]
     },
     "execution_count": 51,
     "metadata": {},
     "output_type": "execute_result"
    }
   ],
   "source": [
    "results_valid = pd.DataFrame(data=values_valid,index=metric_names,columns=['metric_valid'])\n",
    "results_valid.sort_values('metric_valid',ascending=False)"
   ]
  },
  {
   "cell_type": "code",
   "execution_count": 52,
   "metadata": {},
   "outputs": [
    {
     "data": {
      "text/html": [
       "<div>\n",
       "<style scoped>\n",
       "    .dataframe tbody tr th:only-of-type {\n",
       "        vertical-align: middle;\n",
       "    }\n",
       "\n",
       "    .dataframe tbody tr th {\n",
       "        vertical-align: top;\n",
       "    }\n",
       "\n",
       "    .dataframe thead th {\n",
       "        text-align: right;\n",
       "    }\n",
       "</style>\n",
       "<table border=\"1\" class=\"dataframe\">\n",
       "  <thead>\n",
       "    <tr style=\"text-align: right;\">\n",
       "      <th></th>\n",
       "      <th>metric_train</th>\n",
       "    </tr>\n",
       "  </thead>\n",
       "  <tbody>\n",
       "    <tr>\n",
       "      <th>roc_auc_score</th>\n",
       "      <td>0.941440</td>\n",
       "    </tr>\n",
       "    <tr>\n",
       "      <th>accuracy_score</th>\n",
       "      <td>0.884167</td>\n",
       "    </tr>\n",
       "    <tr>\n",
       "      <th>recall_score</th>\n",
       "      <td>0.807692</td>\n",
       "    </tr>\n",
       "    <tr>\n",
       "      <th>f1_score</th>\n",
       "      <td>0.735440</td>\n",
       "    </tr>\n",
       "    <tr>\n",
       "      <th>precision_score</th>\n",
       "      <td>0.675052</td>\n",
       "    </tr>\n",
       "  </tbody>\n",
       "</table>\n",
       "</div>"
      ],
      "text/plain": [
       "                 metric_train\n",
       "roc_auc_score        0.941440\n",
       "accuracy_score       0.884167\n",
       "recall_score         0.807692\n",
       "f1_score             0.735440\n",
       "precision_score      0.675052"
      ]
     },
     "execution_count": 52,
     "metadata": {},
     "output_type": "execute_result"
    }
   ],
   "source": [
    "model_rfc = RandomForestClassifier()\n",
    "\n",
    "parametrs_rfc = {'n_estimators': range (10, 51, 10), \n",
    "                 'max_depth': range (2, 10, 1),\n",
    "                'criterion': ['gini', 'entropy', 'log_loss'],\n",
    "                'min_samples_split': range(2, 11),\n",
    "                'class_weight': ['balanced']}\n",
    "grid_rfc = GridSearchCV(model_rfc, parametrs_rfc, cv=5,scoring='f1')\n",
    "grid_rfc.fit(features_train, target_train)\n",
    "\n",
    "train_pred_rand_for = grid_rfc.predict(features_train)\n",
    "valid_pred_rand_for = grid_rfc.predict(features_valid)\n",
    "\n",
    "probabilities_train = grid_rfc.predict_proba(features_train)\n",
    "probabilities_valid = grid_rfc.predict_proba(features_valid)\n",
    "probabilities_one_train = probabilities_train[:, 1]\n",
    "probabilities_one_valid = probabilities_valid[:, 1]\n",
    "\n",
    "\n",
    "values_train = [accuracy_score(target_train, train_pred_rand_for),\n",
    "                recall_score(target_train, train_pred_rand_for),\n",
    "                precision_score(target_train, train_pred_rand_for),\n",
    "                f1_score(target_train, train_pred_rand_for),\n",
    "                roc_auc_score(target_train, probabilities_one_train)]\n",
    "\n",
    "values_valid = [accuracy_score(target_valid, valid_pred_rand_for), \n",
    "                recall_score(target_valid, valid_pred_rand_for),\n",
    "                precision_score(target_valid, valid_pred_rand_for),\n",
    "                f1_score(target_valid, valid_pred_rand_for),\n",
    "                roc_auc_score(target_valid, probabilities_one_valid)]\n",
    "\n",
    "results_train = pd.DataFrame(data=values_train,index=metric_names,columns=['metric_train'])\n",
    "results_train.sort_values('metric_train',ascending=False)"
   ]
  },
  {
   "cell_type": "code",
   "execution_count": 53,
   "metadata": {},
   "outputs": [
    {
     "data": {
      "text/html": [
       "<div>\n",
       "<style scoped>\n",
       "    .dataframe tbody tr th:only-of-type {\n",
       "        vertical-align: middle;\n",
       "    }\n",
       "\n",
       "    .dataframe tbody tr th {\n",
       "        vertical-align: top;\n",
       "    }\n",
       "\n",
       "    .dataframe thead th {\n",
       "        text-align: right;\n",
       "    }\n",
       "</style>\n",
       "<table border=\"1\" class=\"dataframe\">\n",
       "  <thead>\n",
       "    <tr style=\"text-align: right;\">\n",
       "      <th></th>\n",
       "      <th>metric_valid</th>\n",
       "    </tr>\n",
       "  </thead>\n",
       "  <tbody>\n",
       "    <tr>\n",
       "      <th>roc_auc_score</th>\n",
       "      <td>0.854558</td>\n",
       "    </tr>\n",
       "    <tr>\n",
       "      <th>accuracy_score</th>\n",
       "      <td>0.834500</td>\n",
       "    </tr>\n",
       "    <tr>\n",
       "      <th>recall_score</th>\n",
       "      <td>0.677033</td>\n",
       "    </tr>\n",
       "    <tr>\n",
       "      <th>f1_score</th>\n",
       "      <td>0.630992</td>\n",
       "    </tr>\n",
       "    <tr>\n",
       "      <th>precision_score</th>\n",
       "      <td>0.590814</td>\n",
       "    </tr>\n",
       "  </tbody>\n",
       "</table>\n",
       "</div>"
      ],
      "text/plain": [
       "                 metric_valid\n",
       "roc_auc_score        0.854558\n",
       "accuracy_score       0.834500\n",
       "recall_score         0.677033\n",
       "f1_score             0.630992\n",
       "precision_score      0.590814"
      ]
     },
     "execution_count": 53,
     "metadata": {},
     "output_type": "execute_result"
    }
   ],
   "source": [
    "results_valid = pd.DataFrame(data=values_valid,index=metric_names,columns=['metric_valid'])\n",
    "results_valid.sort_values('metric_valid',ascending=False)"
   ]
  },
  {
   "cell_type": "code",
   "execution_count": 54,
   "metadata": {},
   "outputs": [
    {
     "data": {
      "text/html": [
       "<div>\n",
       "<style scoped>\n",
       "    .dataframe tbody tr th:only-of-type {\n",
       "        vertical-align: middle;\n",
       "    }\n",
       "\n",
       "    .dataframe tbody tr th {\n",
       "        vertical-align: top;\n",
       "    }\n",
       "\n",
       "    .dataframe thead th {\n",
       "        text-align: right;\n",
       "    }\n",
       "</style>\n",
       "<table border=\"1\" class=\"dataframe\">\n",
       "  <thead>\n",
       "    <tr style=\"text-align: right;\">\n",
       "      <th></th>\n",
       "      <th>metric_train</th>\n",
       "    </tr>\n",
       "  </thead>\n",
       "  <tbody>\n",
       "    <tr>\n",
       "      <th>roc_auc_score</th>\n",
       "      <td>0.779890</td>\n",
       "    </tr>\n",
       "    <tr>\n",
       "      <th>accuracy_score</th>\n",
       "      <td>0.717167</td>\n",
       "    </tr>\n",
       "    <tr>\n",
       "      <th>recall_score</th>\n",
       "      <td>0.709030</td>\n",
       "    </tr>\n",
       "    <tr>\n",
       "      <th>f1_score</th>\n",
       "      <td>0.499853</td>\n",
       "    </tr>\n",
       "    <tr>\n",
       "      <th>precision_score</th>\n",
       "      <td>0.385981</td>\n",
       "    </tr>\n",
       "  </tbody>\n",
       "</table>\n",
       "</div>"
      ],
      "text/plain": [
       "                 metric_train\n",
       "roc_auc_score        0.779890\n",
       "accuracy_score       0.717167\n",
       "recall_score         0.709030\n",
       "f1_score             0.499853\n",
       "precision_score      0.385981"
      ]
     },
     "execution_count": 54,
     "metadata": {},
     "output_type": "execute_result"
    }
   ],
   "source": [
    "model_log = LogisticRegression()\n",
    "\n",
    "parametrs_log = {'max_iter': range (1000, 10000, 500), \n",
    "                'solver': ['newton-cg', 'lbfgs', 'liblinear', 'sag', 'saga'],\n",
    "                'class_weight': ['balanced']}\n",
    "grid_log = GridSearchCV(model_log, parametrs_log, cv=5, scoring='f1')\n",
    "grid_log.fit(features_train, target_train)\n",
    "\n",
    "grid_log.best_params_\n",
    "\n",
    "train_pred_log = grid_log.predict(features_train)\n",
    "valid_pred_log = grid_log.predict(features_valid)\n",
    "\n",
    "probabilities_train = grid_log.predict_proba(features_train)\n",
    "probabilities_valid = grid_log.predict_proba(features_valid)\n",
    "probabilities_one_train = probabilities_train[:, 1]\n",
    "probabilities_one_valid = probabilities_valid[:, 1]\n",
    "\n",
    "values_train = [accuracy_score(target_train, train_pred_log),\n",
    "                recall_score(target_train, train_pred_log),\n",
    "                precision_score(target_train, train_pred_log),\n",
    "                f1_score(target_train, train_pred_log),\n",
    "                roc_auc_score(target_train, probabilities_one_train)]\n",
    "\n",
    "values_valid = [accuracy_score(target_valid, valid_pred_log), \n",
    "                recall_score(target_valid, valid_pred_log),\n",
    "                precision_score(target_valid, valid_pred_log),\n",
    "                f1_score(target_valid, valid_pred_log),\n",
    "                roc_auc_score(target_valid, probabilities_one_valid)]\n",
    "\n",
    "results_train = pd.DataFrame(data=values_train,index=metric_names,columns=['metric_train'])\n",
    "results_train.sort_values('metric_train',ascending=False)"
   ]
  },
  {
   "cell_type": "code",
   "execution_count": 55,
   "metadata": {},
   "outputs": [
    {
     "data": {
      "text/html": [
       "<div>\n",
       "<style scoped>\n",
       "    .dataframe tbody tr th:only-of-type {\n",
       "        vertical-align: middle;\n",
       "    }\n",
       "\n",
       "    .dataframe tbody tr th {\n",
       "        vertical-align: top;\n",
       "    }\n",
       "\n",
       "    .dataframe thead th {\n",
       "        text-align: right;\n",
       "    }\n",
       "</style>\n",
       "<table border=\"1\" class=\"dataframe\">\n",
       "  <thead>\n",
       "    <tr style=\"text-align: right;\">\n",
       "      <th></th>\n",
       "      <th>metric_valid</th>\n",
       "    </tr>\n",
       "  </thead>\n",
       "  <tbody>\n",
       "    <tr>\n",
       "      <th>roc_auc_score</th>\n",
       "      <td>0.763689</td>\n",
       "    </tr>\n",
       "    <tr>\n",
       "      <th>accuracy_score</th>\n",
       "      <td>0.702000</td>\n",
       "    </tr>\n",
       "    <tr>\n",
       "      <th>recall_score</th>\n",
       "      <td>0.681818</td>\n",
       "    </tr>\n",
       "    <tr>\n",
       "      <th>f1_score</th>\n",
       "      <td>0.488851</td>\n",
       "    </tr>\n",
       "    <tr>\n",
       "      <th>precision_score</th>\n",
       "      <td>0.381016</td>\n",
       "    </tr>\n",
       "  </tbody>\n",
       "</table>\n",
       "</div>"
      ],
      "text/plain": [
       "                 metric_valid\n",
       "roc_auc_score        0.763689\n",
       "accuracy_score       0.702000\n",
       "recall_score         0.681818\n",
       "f1_score             0.488851\n",
       "precision_score      0.381016"
      ]
     },
     "execution_count": 55,
     "metadata": {},
     "output_type": "execute_result"
    }
   ],
   "source": [
    "results_valid = pd.DataFrame(data=values_valid,index=metric_names,columns=['metric_valid'])\n",
    "results_valid.sort_values('metric_valid',ascending=False)"
   ]
  },
  {
   "cell_type": "markdown",
   "metadata": {},
   "source": [
    "**Вывод.** Метрика F1 Значительно улучшилась для всех моделей. У Логистической регрессии метрика F1 выросла почти на 15%. \n",
    "Следует отметить, что самый высокий показатель F1 у модели Случайного Леса."
   ]
  },
  {
   "cell_type": "markdown",
   "metadata": {},
   "source": [
    "**2) Проведем upsampling**"
   ]
  },
  {
   "cell_type": "code",
   "execution_count": 56,
   "metadata": {},
   "outputs": [
    {
     "name": "stdout",
     "output_type": "stream",
     "text": [
      "0    0.501043\n",
      "1    0.498957\n",
      "Name: exited, dtype: float64\n"
     ]
    },
    {
     "data": {
      "text/plain": [
       "<Axes: title={'center': 'Матрица корреляций'}>"
      ]
     },
     "execution_count": 56,
     "metadata": {},
     "output_type": "execute_result"
    }
   ],
   "source": [
    "def upsample(features, target, repeat):\n",
    "    features_zeros = features[target == 0]\n",
    "    features_ones = features[target == 1]\n",
    "    target_zeros = target[target == 0]\n",
    "    target_ones = target[target == 1]\n",
    "\n",
    "    features_upsampled = pd.concat([features_zeros] + [features_ones] * repeat)\n",
    "    target_upsampled = pd.concat([target_zeros] + [target_ones] * repeat)\n",
    "    \n",
    "    features_upsampled, target_upsampled = shuffle(\n",
    "        features_upsampled, target_upsampled, random_state=12345)\n",
    "    \n",
    "    return features_upsampled, target_upsampled\n",
    "\n",
    "features_upsampled, target_upsampled = upsample(features_train, target_train, 4)\n",
    "\n",
    "class_frequency = target_upsampled.value_counts(normalize=True)\n",
    "print(class_frequency)\n",
    "class_frequency.plot(kind='bar')\n"
   ]
  },
  {
   "cell_type": "markdown",
   "metadata": {},
   "source": [
    "Проверим результат на моделях"
   ]
  },
  {
   "cell_type": "code",
   "execution_count": 57,
   "metadata": {},
   "outputs": [
    {
     "data": {
      "text/html": [
       "<div>\n",
       "<style scoped>\n",
       "    .dataframe tbody tr th:only-of-type {\n",
       "        vertical-align: middle;\n",
       "    }\n",
       "\n",
       "    .dataframe tbody tr th {\n",
       "        vertical-align: top;\n",
       "    }\n",
       "\n",
       "    .dataframe thead th {\n",
       "        text-align: right;\n",
       "    }\n",
       "</style>\n",
       "<table border=\"1\" class=\"dataframe\">\n",
       "  <thead>\n",
       "    <tr style=\"text-align: right;\">\n",
       "      <th></th>\n",
       "      <th>metric_train</th>\n",
       "    </tr>\n",
       "  </thead>\n",
       "  <tbody>\n",
       "    <tr>\n",
       "      <th>roc_auc_score</th>\n",
       "      <td>0.932408</td>\n",
       "    </tr>\n",
       "    <tr>\n",
       "      <th>precision_score</th>\n",
       "      <td>0.847876</td>\n",
       "    </tr>\n",
       "    <tr>\n",
       "      <th>accuracy_score</th>\n",
       "      <td>0.847831</td>\n",
       "    </tr>\n",
       "    <tr>\n",
       "      <th>f1_score</th>\n",
       "      <td>0.847433</td>\n",
       "    </tr>\n",
       "    <tr>\n",
       "      <th>recall_score</th>\n",
       "      <td>0.846990</td>\n",
       "    </tr>\n",
       "  </tbody>\n",
       "</table>\n",
       "</div>"
      ],
      "text/plain": [
       "                 metric_train\n",
       "roc_auc_score        0.932408\n",
       "precision_score      0.847876\n",
       "accuracy_score       0.847831\n",
       "f1_score             0.847433\n",
       "recall_score         0.846990"
      ]
     },
     "execution_count": 57,
     "metadata": {},
     "output_type": "execute_result"
    }
   ],
   "source": [
    "model_dtc_up = DecisionTreeClassifier()\n",
    "parametrs_dtc_up = {'max_depth': range (2, 10, 1),\n",
    "                'criterion': ['gini', 'entropy', 'log_loss'],\n",
    "                'splitter': ['best', 'random'],\n",
    "                'min_samples_split': range (2, 6, 1)\n",
    "                }\n",
    "grid_dtc_up = GridSearchCV(model_dtc_up, parametrs_dtc, cv=5, scoring='f1')\n",
    "\n",
    "grid_dtc_up.fit(features_upsampled, target_upsampled)\n",
    "\n",
    "train_pred_basic_tree = grid_dtc_up.predict(features_upsampled)\n",
    "valid_pred_basic_tree = grid_dtc_up.predict(features_valid)\n",
    "\n",
    "probabilities_train = grid_dtc_up.predict_proba(features_upsampled)\n",
    "probabilities_valid = grid_dtc_up.predict_proba(features_valid)\n",
    "probabilities_one_train = probabilities_train[:, 1]\n",
    "probabilities_one_valid = probabilities_valid[:, 1]\n",
    "\n",
    "values_train = [accuracy_score(target_upsampled, train_pred_basic_tree),\n",
    "                recall_score(target_upsampled, train_pred_basic_tree),\n",
    "                precision_score(target_upsampled, train_pred_basic_tree),\n",
    "                f1_score(target_upsampled, train_pred_basic_tree),\n",
    "                roc_auc_score(target_upsampled, probabilities_one_train)]\n",
    "\n",
    "values_valid = [accuracy_score(target_valid, valid_pred_basic_tree), \n",
    "                recall_score(target_valid, valid_pred_basic_tree),\n",
    "                precision_score(target_valid, valid_pred_basic_tree),\n",
    "                f1_score(target_valid, valid_pred_basic_tree),\n",
    "                roc_auc_score(target_valid, probabilities_one_valid)]\n",
    "\n",
    "results_train_up = pd.DataFrame(data=values_train,index=metric_names,columns=['metric_train'])\n",
    "results_train_up.sort_values('metric_train',ascending=False)"
   ]
  },
  {
   "cell_type": "code",
   "execution_count": 58,
   "metadata": {},
   "outputs": [
    {
     "data": {
      "text/html": [
       "<div>\n",
       "<style scoped>\n",
       "    .dataframe tbody tr th:only-of-type {\n",
       "        vertical-align: middle;\n",
       "    }\n",
       "\n",
       "    .dataframe tbody tr th {\n",
       "        vertical-align: top;\n",
       "    }\n",
       "\n",
       "    .dataframe thead th {\n",
       "        text-align: right;\n",
       "    }\n",
       "</style>\n",
       "<table border=\"1\" class=\"dataframe\">\n",
       "  <thead>\n",
       "    <tr style=\"text-align: right;\">\n",
       "      <th></th>\n",
       "      <th>metric_valid</th>\n",
       "    </tr>\n",
       "  </thead>\n",
       "  <tbody>\n",
       "    <tr>\n",
       "      <th>accuracy_score</th>\n",
       "      <td>0.768000</td>\n",
       "    </tr>\n",
       "    <tr>\n",
       "      <th>roc_auc_score</th>\n",
       "      <td>0.763671</td>\n",
       "    </tr>\n",
       "    <tr>\n",
       "      <th>recall_score</th>\n",
       "      <td>0.645933</td>\n",
       "    </tr>\n",
       "    <tr>\n",
       "      <th>f1_score</th>\n",
       "      <td>0.537849</td>\n",
       "    </tr>\n",
       "    <tr>\n",
       "      <th>precision_score</th>\n",
       "      <td>0.460751</td>\n",
       "    </tr>\n",
       "  </tbody>\n",
       "</table>\n",
       "</div>"
      ],
      "text/plain": [
       "                 metric_valid\n",
       "accuracy_score       0.768000\n",
       "roc_auc_score        0.763671\n",
       "recall_score         0.645933\n",
       "f1_score             0.537849\n",
       "precision_score      0.460751"
      ]
     },
     "execution_count": 58,
     "metadata": {},
     "output_type": "execute_result"
    }
   ],
   "source": [
    "results_valid_up = pd.DataFrame(data=values_valid,index=metric_names,columns=['metric_valid'])\n",
    "results_valid_up.sort_values('metric_valid',ascending=False)"
   ]
  },
  {
   "cell_type": "code",
   "execution_count": 59,
   "metadata": {},
   "outputs": [
    {
     "data": {
      "text/html": [
       "<div>\n",
       "<style scoped>\n",
       "    .dataframe tbody tr th:only-of-type {\n",
       "        vertical-align: middle;\n",
       "    }\n",
       "\n",
       "    .dataframe tbody tr th {\n",
       "        vertical-align: top;\n",
       "    }\n",
       "\n",
       "    .dataframe thead th {\n",
       "        text-align: right;\n",
       "    }\n",
       "</style>\n",
       "<table border=\"1\" class=\"dataframe\">\n",
       "  <thead>\n",
       "    <tr style=\"text-align: right;\">\n",
       "      <th></th>\n",
       "      <th>metric_train</th>\n",
       "    </tr>\n",
       "  </thead>\n",
       "  <tbody>\n",
       "    <tr>\n",
       "      <th>roc_auc_score</th>\n",
       "      <td>0.951322</td>\n",
       "    </tr>\n",
       "    <tr>\n",
       "      <th>precision_score</th>\n",
       "      <td>0.889950</td>\n",
       "    </tr>\n",
       "    <tr>\n",
       "      <th>accuracy_score</th>\n",
       "      <td>0.875782</td>\n",
       "    </tr>\n",
       "    <tr>\n",
       "      <th>f1_score</th>\n",
       "      <td>0.873176</td>\n",
       "    </tr>\n",
       "    <tr>\n",
       "      <th>recall_score</th>\n",
       "      <td>0.857023</td>\n",
       "    </tr>\n",
       "  </tbody>\n",
       "</table>\n",
       "</div>"
      ],
      "text/plain": [
       "                 metric_train\n",
       "roc_auc_score        0.951322\n",
       "precision_score      0.889950\n",
       "accuracy_score       0.875782\n",
       "f1_score             0.873176\n",
       "recall_score         0.857023"
      ]
     },
     "execution_count": 59,
     "metadata": {},
     "output_type": "execute_result"
    }
   ],
   "source": [
    "model_rfc_up = RandomForestClassifier()\n",
    "\n",
    "parametrs_rfc_up = {'n_estimators': range (10, 51, 10), \n",
    "                 'max_depth': range (2, 10, 1),\n",
    "                'criterion': ['gini', 'entropy', 'log_loss'],\n",
    "                'min_samples_split': range(2, 11)\n",
    "                }\n",
    "grid_rfc_up = GridSearchCV(model_rfc_up, parametrs_rfc, cv=5,scoring='f1')\n",
    "\n",
    "grid_rfc_up.fit(features_upsampled, target_upsampled)\n",
    "\n",
    "train_pred_rand_for = grid_rfc_up.predict(features_upsampled)\n",
    "valid_pred_rand_for = grid_rfc_up.predict(features_valid)\n",
    "probabilities_train = grid_rfc_up.predict_proba(features_upsampled)\n",
    "probabilities_valid = grid_rfc_up.predict_proba(features_valid)\n",
    "probabilities_one_train = probabilities_train[:, 1]\n",
    "probabilities_one_valid = probabilities_valid[:, 1]\n",
    "\n",
    "values_train = [accuracy_score(target_upsampled, train_pred_rand_for),\n",
    "                recall_score(target_upsampled, train_pred_rand_for),\n",
    "                precision_score(target_upsampled, train_pred_rand_for),\n",
    "                f1_score(target_upsampled, train_pred_rand_for),\n",
    "                roc_auc_score(target_upsampled, probabilities_one_train)]\n",
    "\n",
    "values_valid = [accuracy_score(target_valid, valid_pred_rand_for), \n",
    "                recall_score(target_valid, valid_pred_rand_for),\n",
    "                precision_score(target_valid, valid_pred_rand_for),\n",
    "                f1_score(target_valid, valid_pred_rand_for),\n",
    "                roc_auc_score(target_valid, probabilities_one_valid)]\n",
    "\n",
    "results_train_up = pd.DataFrame(data=values_train,index=metric_names,columns=['metric_train'])\n",
    "results_train_up.sort_values('metric_train',ascending=False)"
   ]
  },
  {
   "cell_type": "code",
   "execution_count": 60,
   "metadata": {},
   "outputs": [
    {
     "data": {
      "text/html": [
       "<div>\n",
       "<style scoped>\n",
       "    .dataframe tbody tr th:only-of-type {\n",
       "        vertical-align: middle;\n",
       "    }\n",
       "\n",
       "    .dataframe tbody tr th {\n",
       "        vertical-align: top;\n",
       "    }\n",
       "\n",
       "    .dataframe thead th {\n",
       "        text-align: right;\n",
       "    }\n",
       "</style>\n",
       "<table border=\"1\" class=\"dataframe\">\n",
       "  <thead>\n",
       "    <tr style=\"text-align: right;\">\n",
       "      <th></th>\n",
       "      <th>metric_valid</th>\n",
       "    </tr>\n",
       "  </thead>\n",
       "  <tbody>\n",
       "    <tr>\n",
       "      <th>roc_auc_score</th>\n",
       "      <td>0.851629</td>\n",
       "    </tr>\n",
       "    <tr>\n",
       "      <th>accuracy_score</th>\n",
       "      <td>0.823500</td>\n",
       "    </tr>\n",
       "    <tr>\n",
       "      <th>recall_score</th>\n",
       "      <td>0.688995</td>\n",
       "    </tr>\n",
       "    <tr>\n",
       "      <th>f1_score</th>\n",
       "      <td>0.620022</td>\n",
       "    </tr>\n",
       "    <tr>\n",
       "      <th>precision_score</th>\n",
       "      <td>0.563601</td>\n",
       "    </tr>\n",
       "  </tbody>\n",
       "</table>\n",
       "</div>"
      ],
      "text/plain": [
       "                 metric_valid\n",
       "roc_auc_score        0.851629\n",
       "accuracy_score       0.823500\n",
       "recall_score         0.688995\n",
       "f1_score             0.620022\n",
       "precision_score      0.563601"
      ]
     },
     "execution_count": 60,
     "metadata": {},
     "output_type": "execute_result"
    }
   ],
   "source": [
    "results_valid_up = pd.DataFrame(data=values_valid,index=metric_names,columns=['metric_valid'])\n",
    "results_valid_up.sort_values('metric_valid',ascending=False)"
   ]
  },
  {
   "cell_type": "code",
   "execution_count": 61,
   "metadata": {},
   "outputs": [
    {
     "name": "stdout",
     "output_type": "stream",
     "text": [
      "Обучающая выборка: 0.714017521902378\n",
      "Обучающая выборка, точность: 0.714017521902378\n",
      "Обучающая выборка, recall: 0.7073578595317725\n",
      "Обучающая выборка, precision: 0.7160389335590351\n",
      "Обучающая выборка, F-1: 0.7116719242902207\n",
      "Обучающая выборка, AUC-ROC: 0.7798832981991038\n",
      "\n",
      "Валидационная выборка: 0.702\n",
      "Валидационная выборка, recall: 0.6818181818181818\n",
      "Валидационная выборка, precision: 0.3810160427807487\n",
      "Валидационная выборка, F-1: 0.4888507718696398\n",
      "Валидационная выборка, AUC-ROC: 0.7636221486943424\n"
     ]
    }
   ],
   "source": [
    "model_log_up = LogisticRegression()\n",
    "\n",
    "parametrs_log_up = {'max_iter': range (1000, 10000, 500), \n",
    "                'solver': ['newton-cg', 'lbfgs', 'liblinear', 'sag', 'saga']\n",
    "                }\n",
    "grid_log_up = GridSearchCV(model_log_up, parametrs_log_up, cv=5, scoring='f1')\n",
    "\n",
    "grid_log_up.fit(features_upsampled, target_upsampled)\n",
    "\n",
    "train_pred_log = grid_log_up.predict(features_upsampled)\n",
    "valid_pred_log = grid_log_up.predict(features_valid)\n",
    "probabilities_train = grid_log_up.predict_proba(features_upsampled)\n",
    "probabilities_valid = grid_log_up.predict_proba(features_valid)\n",
    "probabilities_one_train = probabilities_train[:, 1]\n",
    "probabilities_one_valid = probabilities_valid[:, 1]\n",
    "\n",
    "print(\"Обучающая выборка:\", accuracy_score(target_upsampled, train_pred_log))\n",
    "print(\"Обучающая выборка, точность:\", accuracy_score(target_upsampled, train_pred_log))\n",
    "print(\"Обучающая выборка, recall:\", recall_score(target_upsampled, train_pred_log))\n",
    "print(\"Обучающая выборка, precision:\", precision_score(target_upsampled, train_pred_log))\n",
    "print(\"Обучающая выборка, F-1:\", f1_score(target_upsampled, train_pred_log))\n",
    "print(\"Обучающая выборка, AUC-ROC:\", roc_auc_score(target_upsampled, probabilities_one_train))\n",
    "print()\n",
    "print(\"Валидационная выборка:\", accuracy_score(target_valid, valid_pred_log))\n",
    "print(\"Валидационная выборка, recall:\", recall_score(target_valid, valid_pred_log))\n",
    "print(\"Валидационная выборка, precision:\", precision_score(target_valid, valid_pred_log))\n",
    "print(\"Валидационная выборка, F-1:\", f1_score(target_valid, valid_pred_log))\n",
    "print(\"Валидационная выборка, AUC-ROC:\", roc_auc_score(target_valid, probabilities_one_valid))"
   ]
  },
  {
   "cell_type": "markdown",
   "metadata": {},
   "source": [
    "**Вывод** F1-метрика также улучшилась для всех моделей. находится на уровне с п.1."
   ]
  },
  {
   "cell_type": "markdown",
   "metadata": {},
   "source": [
    "**3) Проведем downsampling**"
   ]
  },
  {
   "cell_type": "code",
   "execution_count": 62,
   "metadata": {},
   "outputs": [
    {
     "name": "stdout",
     "output_type": "stream",
     "text": [
      "0    0.501043\n",
      "1    0.498957\n",
      "Name: exited, dtype: float64\n"
     ]
    },
    {
     "data": {
      "text/plain": [
       "<Axes: title={'center': 'Матрица корреляций'}>"
      ]
     },
     "execution_count": 62,
     "metadata": {},
     "output_type": "execute_result"
    }
   ],
   "source": [
    "def downsample(features, target, fraction):\n",
    "    features_zeros = features[target == 0]\n",
    "    features_ones = features[target == 1]\n",
    "    target_zeros = target[target == 0]\n",
    "    target_ones = target[target == 1]\n",
    "\n",
    "    features_downsampled = pd.concat(\n",
    "        [features_zeros.sample(frac=fraction, random_state=12345)] + [features_ones])\n",
    "    target_downsampled = pd.concat(\n",
    "        [target_zeros.sample(frac=fraction, random_state=12345)] + [target_ones])\n",
    "    \n",
    "    features_downsampled, target_downsampled = shuffle(\n",
    "        features_downsampled, target_downsampled, random_state=12345)\n",
    "    \n",
    "    return features_downsampled, target_downsampled\n",
    "\n",
    "features_downsampled, target_downsampled = downsample(features_train, target_train, 0.25)\n",
    "\n",
    "class_frequency = target_downsampled.value_counts(normalize=True)\n",
    "print(class_frequency)\n",
    "class_frequency.plot(kind='bar')"
   ]
  },
  {
   "cell_type": "code",
   "execution_count": 63,
   "metadata": {},
   "outputs": [
    {
     "name": "stdout",
     "output_type": "stream",
     "text": [
      "Обучающая выборка, точность: 0.7596996245306633\n",
      "Обучающая выборка, точность: 0.7596996245306633\n",
      "Обучающая выборка, recall: 0.7366220735785953\n",
      "Обучающая выборка, precision: 0.7714535901926445\n",
      "Обучающая выборка, F-1: 0.7536355859709153\n",
      "Обучающая выборка, AUC-ROC: 0.8469819604064617\n",
      "\n",
      "Валидационная выборка, точность: 0.7645\n",
      "Валидационная выборка, recall: 0.69377990430622\n",
      "Валидационная выборка, precision: 0.45813586097946285\n",
      "Валидационная выборка, F-1: 0.5518553758325404\n",
      "Валидационная выборка, AUC-ROC: 0.8139581657280772\n"
     ]
    }
   ],
   "source": [
    "model_dtc_down = DecisionTreeClassifier()\n",
    "parametrs_dtc_down = {'max_depth': range (2, 10, 1),\n",
    "                'criterion': ['gini', 'entropy', 'log_loss'],\n",
    "                'splitter': ['best', 'random'],\n",
    "                'min_samples_split': range (2, 6, 1)\n",
    "                }\n",
    "grid_dtc_down = GridSearchCV(model_dtc_down, parametrs_dtc_down, cv=5, scoring='f1')\n",
    "\n",
    "grid_dtc_down.fit(features_downsampled, target_downsampled)\n",
    "\n",
    "train_pred_basic_tree = grid_dtc_down.predict(features_downsampled)\n",
    "valid_pred_basic_tree = grid_dtc_down.predict(features_valid)\n",
    "probabilities_train = grid_dtc_down.predict_proba(features_downsampled)\n",
    "probabilities_valid = grid_dtc_down.predict_proba(features_valid)\n",
    "probabilities_one_train = probabilities_train[:, 1]\n",
    "probabilities_one_valid = probabilities_valid[:, 1]\n",
    "\n",
    "print(\"Обучающая выборка, точность:\", accuracy_score(target_downsampled, train_pred_basic_tree))\n",
    "print(\"Обучающая выборка, точность:\", accuracy_score(target_downsampled, train_pred_basic_tree))\n",
    "print(\"Обучающая выборка, recall:\", recall_score(target_downsampled, train_pred_basic_tree))\n",
    "print(\"Обучающая выборка, precision:\", precision_score(target_downsampled, train_pred_basic_tree))\n",
    "print(\"Обучающая выборка, F-1:\", f1_score(target_downsampled, train_pred_basic_tree))\n",
    "print(\"Обучающая выборка, AUC-ROC:\", roc_auc_score(target_downsampled, probabilities_one_train))\n",
    "print()\n",
    "print(\"Валидационная выборка, точность:\", accuracy_score(target_valid, valid_pred_basic_tree))\n",
    "print(\"Валидационная выборка, recall:\", recall_score(target_valid, valid_pred_basic_tree))\n",
    "print(\"Валидационная выборка, precision:\", precision_score(target_valid, valid_pred_basic_tree))\n",
    "print(\"Валидационная выборка, F-1:\", f1_score(target_valid, valid_pred_basic_tree))\n",
    "print(\"Валидационная выборка, AUC-ROC:\", roc_auc_score(target_valid, probabilities_one_valid))"
   ]
  },
  {
   "cell_type": "code",
   "execution_count": 64,
   "metadata": {},
   "outputs": [
    {
     "name": "stdout",
     "output_type": "stream",
     "text": [
      "Обучающая выборка, точность: 0.851898206090947\n",
      "Обучающая выборка, точность: 0.851898206090947\n",
      "Обучающая выборка, recall: 0.8219063545150501\n",
      "Обучающая выборка, precision: 0.8737777777777778\n",
      "Обучающая выборка, F-1: 0.8470486859112453\n",
      "Обучающая выборка, AUC-ROC: 0.9373376144183079\n",
      "\n",
      "Валидационная выборка, точность: 0.787\n",
      "Валидационная выборка, recall: 0.7344497607655502\n",
      "Валидационная выборка, precision: 0.49356913183279744\n",
      "Валидационная выборка, F-1: 0.5903846153846154\n",
      "Валидационная выборка, AUC-ROC: 0.8497344527852214\n"
     ]
    }
   ],
   "source": [
    "model_rfc_down = RandomForestClassifier()\n",
    "\n",
    "parametrs_rfc_down = {'n_estimators': range (10, 51, 10), \n",
    "                 'max_depth': range (2, 10, 1),\n",
    "                'criterion': ['gini', 'entropy', 'log_loss'],\n",
    "                'min_samples_split': range(2, 11)\n",
    "                }\n",
    "grid_rfc_up = GridSearchCV(model_rfc_down, parametrs_rfc_down, cv=5,scoring='f1')\n",
    "\n",
    "grid_rfc_up.fit(features_downsampled, target_downsampled)\n",
    "\n",
    "train_pred_rand_for = grid_rfc_up.predict(features_downsampled)\n",
    "valid_pred_rand_for = grid_rfc_up.predict(features_valid)\n",
    "probabilities_train = grid_rfc_up.predict_proba(features_downsampled)\n",
    "probabilities_valid = grid_rfc_up.predict_proba(features_valid)\n",
    "probabilities_one_train = probabilities_train[:, 1]\n",
    "probabilities_one_valid = probabilities_valid[:, 1]\n",
    "\n",
    "print(\"Обучающая выборка, точность:\", accuracy_score(target_downsampled, train_pred_rand_for))\n",
    "print(\"Обучающая выборка, точность:\", accuracy_score(target_downsampled, train_pred_rand_for))\n",
    "print(\"Обучающая выборка, recall:\", recall_score(target_downsampled, train_pred_rand_for))\n",
    "print(\"Обучающая выборка, precision:\", precision_score(target_downsampled, train_pred_rand_for))\n",
    "print(\"Обучающая выборка, F-1:\", f1_score(target_downsampled, train_pred_rand_for))\n",
    "print(\"Обучающая выборка, AUC-ROC:\", roc_auc_score(target_downsampled, probabilities_one_train))\n",
    "print()\n",
    "print(\"Валидационная выборка, точность:\", accuracy_score(target_valid, valid_pred_rand_for))\n",
    "print(\"Валидационная выборка, recall:\", recall_score(target_valid, valid_pred_rand_for))\n",
    "print(\"Валидационная выборка, precision:\", precision_score(target_valid, valid_pred_rand_for))\n",
    "print(\"Валидационная выборка, F-1:\", f1_score(target_valid, valid_pred_rand_for))\n",
    "print(\"Валидационная выборка, AUC-ROC:\", roc_auc_score(target_valid, probabilities_one_valid))"
   ]
  },
  {
   "cell_type": "code",
   "execution_count": 65,
   "metadata": {},
   "outputs": [
    {
     "name": "stdout",
     "output_type": "stream",
     "text": [
      "Обучающая выборка: 0.7129745515227367\n",
      "Обучающая выборка, точность: 0.7129745515227367\n",
      "Обучающая выборка, recall: 0.7048494983277592\n",
      "Обучающая выборка, precision: 0.7156196943972836\n",
      "Обучающая выборка, F-1: 0.7101937657961247\n",
      "Обучающая выборка, AUC-ROC: 0.7846861171988782\n",
      "\n",
      "Валидационная выборка: 0.7005\n",
      "Валидационная выборка, recall: 0.6722488038277512\n",
      "Валидационная выборка, precision: 0.3781965006729475\n",
      "Валидационная выборка, F-1: 0.48406546080964685\n",
      "Валидационная выборка, AUC-ROC: 0.7622233379103431\n"
     ]
    }
   ],
   "source": [
    "model_log_down = LogisticRegression()\n",
    "\n",
    "parametrs_log_down = {'max_iter': range (1000, 10000, 500), \n",
    "                'solver': ['newton-cg', 'lbfgs', 'liblinear', 'sag', 'saga']\n",
    "                }\n",
    "grid_log_down = GridSearchCV(model_log_down, parametrs_log_down, cv=5, scoring='f1')\n",
    "\n",
    "grid_log_down.fit(features_downsampled, target_downsampled)\n",
    "\n",
    "train_pred_log = grid_log_down.predict(features_downsampled)\n",
    "valid_pred_log = grid_log_down.predict(features_valid)\n",
    "probabilities_train = grid_log_down.predict_proba(features_downsampled)\n",
    "probabilities_valid = grid_log_down.predict_proba(features_valid)\n",
    "probabilities_one_train = probabilities_train[:, 1]\n",
    "probabilities_one_valid = probabilities_valid[:, 1]\n",
    "\n",
    "print(\"Обучающая выборка:\", accuracy_score(target_downsampled, train_pred_log))\n",
    "print(\"Обучающая выборка, точность:\", accuracy_score(target_downsampled, train_pred_log))\n",
    "print(\"Обучающая выборка, recall:\", recall_score(target_downsampled, train_pred_log))\n",
    "print(\"Обучающая выборка, precision:\", precision_score(target_downsampled, train_pred_log))\n",
    "print(\"Обучающая выборка, F-1:\", f1_score(target_downsampled, train_pred_log))\n",
    "print(\"Обучающая выборка, AUC-ROC:\", roc_auc_score(target_downsampled, probabilities_one_train))\n",
    "print()\n",
    "print(\"Валидационная выборка:\", accuracy_score(target_valid, valid_pred_log))\n",
    "print(\"Валидационная выборка, recall:\", recall_score(target_valid, valid_pred_log))\n",
    "print(\"Валидационная выборка, precision:\", precision_score(target_valid, valid_pred_log))\n",
    "print(\"Валидационная выборка, F-1:\", f1_score(target_valid, valid_pred_log))\n",
    "print(\"Валидационная выборка, AUC-ROC:\", roc_auc_score(target_valid, probabilities_one_valid))"
   ]
  },
  {
   "cell_type": "markdown",
   "metadata": {},
   "source": [
    "**Вывод.** При unsampling метрика F1 у всех моделей снизилась. unsampling не подойдет."
   ]
  },
  {
   "cell_type": "markdown",
   "metadata": {},
   "source": [
    "**Общий вывод** С учетом полученных данных, за наиболее усешную модель принимаем модель случайного леса с параметром class_weight = 'balanced'"
   ]
  },
  {
   "cell_type": "markdown",
   "metadata": {},
   "source": [
    "## Тестирование модели"
   ]
  },
  {
   "cell_type": "code",
   "execution_count": 66,
   "metadata": {},
   "outputs": [
    {
     "name": "stdout",
     "output_type": "stream",
     "text": [
      "Обучающая выборка, точность: 0.8841666666666667\n",
      "Тестовая выборка, точность: 0.8275\n",
      "Тестовая выборка, recall: 0.6619385342789598\n",
      "Тестовая выборка, precision: 0.5809128630705395\n",
      "Тестовая выборка, F-1: 0.6187845303867403\n",
      "Тестовая выборка, AUC-ROC: 0.8607869327253022\n"
     ]
    }
   ],
   "source": [
    "train_pred_rand_for = grid_rfc.predict(features_train)\n",
    "test_pred_rand_for = grid_rfc.predict(features_test)\n",
    "\n",
    "probabilities_test = grid_rfc.predict_proba(features_test)\n",
    "probabilities_one_valid = probabilities_test[:, 1]\n",
    "\n",
    "print(\"Обучающая выборка, точность:\", accuracy_score(target_train, train_pred_rand_for))\n",
    "print(\"Тестовая выборка, точность:\", accuracy_score(target_test, test_pred_rand_for))\n",
    "print(\"Тестовая выборка, recall:\", recall_score(target_test, test_pred_rand_for))\n",
    "print(\"Тестовая выборка, precision:\", precision_score(target_test, test_pred_rand_for))\n",
    "print(\"Тестовая выборка, F-1:\", f1_score(target_test, test_pred_rand_for))\n",
    "print(\"Тестовая выборка, AUC-ROC:\", roc_auc_score(target_test, probabilities_one_valid))"
   ]
  },
  {
   "cell_type": "markdown",
   "metadata": {},
   "source": [
    "## Общий вывод"
   ]
  },
  {
   "cell_type": "markdown",
   "metadata": {},
   "source": [
    "По резульататм проведенного анализа датасета по прогнозированию ухода от банка клиентов выяснили, что наиболее подходящей моделью для исследования является модель случайного леса с указанием параметра balanced. \n",
    "\n",
    "Она дает самые лучшие показатели по F1-score (0.61,  что больше 0.59 по условию проекта)."
   ]
  },
  {
   "cell_type": "code",
   "execution_count": null,
   "metadata": {},
   "outputs": [],
   "source": []
  }
 ],
 "metadata": {
  "ExecuteTimeLog": [
   {
    "duration": 11421,
    "start_time": "2022-10-06T07:51:51.241Z"
   },
   {
    "duration": 219,
    "start_time": "2022-10-06T07:52:02.664Z"
   },
   {
    "duration": 13,
    "start_time": "2022-10-06T07:52:02.885Z"
   },
   {
    "duration": 22,
    "start_time": "2022-10-06T07:52:02.901Z"
   },
   {
    "duration": 39,
    "start_time": "2022-10-06T07:52:02.925Z"
   },
   {
    "duration": 5,
    "start_time": "2022-10-06T07:52:02.966Z"
   },
   {
    "duration": 25,
    "start_time": "2022-10-06T07:52:02.972Z"
   },
   {
    "duration": 22,
    "start_time": "2022-10-06T07:52:02.998Z"
   },
   {
    "duration": 514,
    "start_time": "2022-10-06T07:52:03.022Z"
   },
   {
    "duration": 12,
    "start_time": "2022-10-06T07:52:03.539Z"
   },
   {
    "duration": 25,
    "start_time": "2022-10-06T07:52:03.552Z"
   },
   {
    "duration": 48,
    "start_time": "2022-10-06T07:52:03.578Z"
   },
   {
    "duration": 285,
    "start_time": "2022-10-06T07:52:03.628Z"
   },
   {
    "duration": 30,
    "start_time": "2022-10-06T07:52:03.914Z"
   },
   {
    "duration": 10723,
    "start_time": "2022-10-06T07:52:03.946Z"
   },
   {
    "duration": 57,
    "start_time": "2022-10-06T07:52:14.671Z"
   },
   {
    "duration": 199,
    "start_time": "2022-10-06T07:52:14.729Z"
   },
   {
    "duration": 295,
    "start_time": "2022-10-06T07:52:14.930Z"
   },
   {
    "duration": 295,
    "start_time": "2022-10-06T07:52:15.227Z"
   },
   {
    "duration": 7,
    "start_time": "2022-10-06T07:52:15.524Z"
   },
   {
    "duration": 49,
    "start_time": "2022-10-06T07:52:15.533Z"
   },
   {
    "duration": 50,
    "start_time": "2022-10-06T07:52:15.584Z"
   },
   {
    "duration": 191,
    "start_time": "2022-10-06T07:52:15.636Z"
   },
   {
    "duration": 15,
    "start_time": "2022-10-06T07:52:15.921Z"
   },
   {
    "duration": 53,
    "start_time": "2022-10-06T07:52:15.937Z"
   },
   {
    "duration": 85,
    "start_time": "2022-10-06T07:52:15.992Z"
   },
   {
    "duration": 343,
    "start_time": "2022-10-06T07:52:16.079Z"
   },
   {
    "duration": 10,
    "start_time": "2022-10-06T07:52:16.426Z"
   },
   {
    "duration": 42,
    "start_time": "2022-10-06T07:52:16.437Z"
   },
   {
    "duration": 53,
    "start_time": "2022-10-06T07:52:16.480Z"
   },
   {
    "duration": 294,
    "start_time": "2022-10-06T07:52:16.535Z"
   },
   {
    "duration": 117,
    "start_time": "2022-10-06T07:52:16.831Z"
   },
   {
    "duration": 3,
    "start_time": "2022-10-06T08:11:14.141Z"
   },
   {
    "duration": 84,
    "start_time": "2022-10-06T08:11:18.711Z"
   },
   {
    "duration": 6,
    "start_time": "2022-10-06T08:11:41.755Z"
   },
   {
    "duration": 113,
    "start_time": "2022-10-06T08:11:57.698Z"
   },
   {
    "duration": 4,
    "start_time": "2022-10-06T08:12:25.215Z"
   },
   {
    "duration": 84,
    "start_time": "2022-10-06T08:12:25.224Z"
   },
   {
    "duration": 10,
    "start_time": "2022-10-06T08:12:25.310Z"
   },
   {
    "duration": 13,
    "start_time": "2022-10-06T08:12:25.321Z"
   },
   {
    "duration": 41,
    "start_time": "2022-10-06T08:12:25.336Z"
   },
   {
    "duration": 4,
    "start_time": "2022-10-06T08:12:25.379Z"
   },
   {
    "duration": 10,
    "start_time": "2022-10-06T08:12:25.384Z"
   },
   {
    "duration": 28,
    "start_time": "2022-10-06T08:12:25.396Z"
   },
   {
    "duration": 113,
    "start_time": "2022-10-06T08:12:25.426Z"
   },
   {
    "duration": 11,
    "start_time": "2022-10-06T08:12:25.540Z"
   },
   {
    "duration": 18,
    "start_time": "2022-10-06T08:12:25.553Z"
   },
   {
    "duration": 53,
    "start_time": "2022-10-06T08:12:25.572Z"
   },
   {
    "duration": 277,
    "start_time": "2022-10-06T08:12:25.626Z"
   },
   {
    "duration": 37,
    "start_time": "2022-10-06T08:12:25.905Z"
   },
   {
    "duration": 10684,
    "start_time": "2022-10-06T08:12:25.944Z"
   },
   {
    "duration": 47,
    "start_time": "2022-10-06T08:12:36.630Z"
   },
   {
    "duration": 249,
    "start_time": "2022-10-06T08:12:36.678Z"
   },
   {
    "duration": 393,
    "start_time": "2022-10-06T08:12:36.929Z"
   },
   {
    "duration": 197,
    "start_time": "2022-10-06T08:12:37.325Z"
   },
   {
    "duration": 7,
    "start_time": "2022-10-06T08:12:37.524Z"
   },
   {
    "duration": 99,
    "start_time": "2022-10-06T08:12:37.532Z"
   },
   {
    "duration": 45,
    "start_time": "2022-10-06T08:12:37.632Z"
   },
   {
    "duration": 250,
    "start_time": "2022-10-06T08:12:37.679Z"
   },
   {
    "duration": 12,
    "start_time": "2022-10-06T08:12:38.021Z"
   },
   {
    "duration": 44,
    "start_time": "2022-10-06T08:12:38.035Z"
   },
   {
    "duration": 95,
    "start_time": "2022-10-06T08:12:38.081Z"
   },
   {
    "duration": 349,
    "start_time": "2022-10-06T08:12:38.178Z"
   },
   {
    "duration": 94,
    "start_time": "2022-10-06T08:12:38.529Z"
   },
   {
    "duration": 25,
    "start_time": "2022-10-06T08:12:38.624Z"
   },
   {
    "duration": 36,
    "start_time": "2022-10-06T08:12:38.650Z"
   },
   {
    "duration": 138,
    "start_time": "2022-10-06T08:12:38.687Z"
   },
   {
    "duration": 119,
    "start_time": "2022-10-06T08:12:38.827Z"
   },
   {
    "duration": 4,
    "start_time": "2022-10-06T08:14:57.721Z"
   },
   {
    "duration": 100,
    "start_time": "2022-10-06T08:14:57.727Z"
   },
   {
    "duration": 14,
    "start_time": "2022-10-06T08:14:57.829Z"
   },
   {
    "duration": 13,
    "start_time": "2022-10-06T08:14:57.845Z"
   },
   {
    "duration": 62,
    "start_time": "2022-10-06T08:14:57.860Z"
   },
   {
    "duration": 5,
    "start_time": "2022-10-06T08:14:57.923Z"
   },
   {
    "duration": 6,
    "start_time": "2022-10-06T08:14:57.929Z"
   },
   {
    "duration": 10,
    "start_time": "2022-10-06T08:14:57.936Z"
   },
   {
    "duration": 102,
    "start_time": "2022-10-06T08:14:57.948Z"
   },
   {
    "duration": 11,
    "start_time": "2022-10-06T08:14:58.052Z"
   },
   {
    "duration": 4,
    "start_time": "2022-10-06T08:15:06.368Z"
   },
   {
    "duration": 4,
    "start_time": "2022-10-06T08:15:17.497Z"
   },
   {
    "duration": 115,
    "start_time": "2022-10-06T08:15:17.504Z"
   },
   {
    "duration": 10,
    "start_time": "2022-10-06T08:15:17.620Z"
   },
   {
    "duration": 19,
    "start_time": "2022-10-06T08:15:17.632Z"
   },
   {
    "duration": 82,
    "start_time": "2022-10-06T08:15:17.652Z"
   },
   {
    "duration": 4,
    "start_time": "2022-10-06T08:15:17.735Z"
   },
   {
    "duration": 16,
    "start_time": "2022-10-06T08:15:17.740Z"
   },
   {
    "duration": 25,
    "start_time": "2022-10-06T08:15:17.757Z"
   },
   {
    "duration": 127,
    "start_time": "2022-10-06T08:15:17.784Z"
   },
   {
    "duration": 18,
    "start_time": "2022-10-06T08:15:17.913Z"
   },
   {
    "duration": 20,
    "start_time": "2022-10-06T08:15:17.934Z"
   },
   {
    "duration": 33,
    "start_time": "2022-10-06T08:15:17.956Z"
   },
   {
    "duration": 389,
    "start_time": "2022-10-06T08:15:17.990Z"
   },
   {
    "duration": 28,
    "start_time": "2022-10-06T08:15:18.381Z"
   },
   {
    "duration": 11181,
    "start_time": "2022-10-06T08:15:18.411Z"
   },
   {
    "duration": 51,
    "start_time": "2022-10-06T08:15:29.593Z"
   },
   {
    "duration": 277,
    "start_time": "2022-10-06T08:15:29.645Z"
   },
   {
    "duration": 299,
    "start_time": "2022-10-06T08:15:29.923Z"
   },
   {
    "duration": 199,
    "start_time": "2022-10-06T08:15:30.224Z"
   },
   {
    "duration": 6,
    "start_time": "2022-10-06T08:15:30.425Z"
   },
   {
    "duration": 44,
    "start_time": "2022-10-06T08:15:30.432Z"
   },
   {
    "duration": 85,
    "start_time": "2022-10-06T08:15:30.477Z"
   },
   {
    "duration": 259,
    "start_time": "2022-10-06T08:15:30.564Z"
   },
   {
    "duration": 106,
    "start_time": "2022-10-06T08:15:30.824Z"
   },
   {
    "duration": 119,
    "start_time": "2022-10-06T08:15:30.932Z"
   },
   {
    "duration": 101,
    "start_time": "2022-10-06T08:15:31.053Z"
   },
   {
    "duration": 371,
    "start_time": "2022-10-06T08:15:31.156Z"
   },
   {
    "duration": 95,
    "start_time": "2022-10-06T08:15:31.529Z"
   },
   {
    "duration": 23,
    "start_time": "2022-10-06T08:15:31.627Z"
   },
   {
    "duration": 35,
    "start_time": "2022-10-06T08:15:31.651Z"
   },
   {
    "duration": 140,
    "start_time": "2022-10-06T08:15:31.688Z"
   },
   {
    "duration": 119,
    "start_time": "2022-10-06T08:15:31.830Z"
   },
   {
    "duration": 52,
    "start_time": "2022-10-06T12:51:57.862Z"
   },
   {
    "duration": 2,
    "start_time": "2022-10-06T12:52:46.109Z"
   },
   {
    "duration": 1152,
    "start_time": "2022-10-06T12:54:45.300Z"
   },
   {
    "duration": 138,
    "start_time": "2022-10-06T12:54:46.455Z"
   },
   {
    "duration": 14,
    "start_time": "2022-10-06T12:54:46.594Z"
   },
   {
    "duration": 25,
    "start_time": "2022-10-06T12:54:46.610Z"
   },
   {
    "duration": 43,
    "start_time": "2022-10-06T12:54:46.637Z"
   },
   {
    "duration": 6,
    "start_time": "2022-10-06T12:54:46.683Z"
   },
   {
    "duration": 17,
    "start_time": "2022-10-06T12:54:46.691Z"
   },
   {
    "duration": 21,
    "start_time": "2022-10-06T12:54:46.710Z"
   },
   {
    "duration": 594,
    "start_time": "2022-10-06T12:54:46.733Z"
   },
   {
    "duration": 33,
    "start_time": "2022-10-06T12:54:47.331Z"
   },
   {
    "duration": 28,
    "start_time": "2022-10-06T12:54:47.366Z"
   },
   {
    "duration": 3,
    "start_time": "2022-10-06T12:54:47.397Z"
   },
   {
    "duration": 68,
    "start_time": "2022-10-06T12:54:47.402Z"
   },
   {
    "duration": 355,
    "start_time": "2022-10-06T12:54:47.472Z"
   },
   {
    "duration": 42,
    "start_time": "2022-10-06T12:54:47.829Z"
   },
   {
    "duration": 12300,
    "start_time": "2022-10-06T12:54:47.873Z"
   },
   {
    "duration": 54,
    "start_time": "2022-10-06T12:55:00.175Z"
   },
   {
    "duration": 234,
    "start_time": "2022-10-06T12:55:00.231Z"
   },
   {
    "duration": 305,
    "start_time": "2022-10-06T12:55:00.554Z"
   },
   {
    "duration": 291,
    "start_time": "2022-10-06T12:55:00.862Z"
   },
   {
    "duration": 17,
    "start_time": "2022-10-06T12:55:01.156Z"
   },
   {
    "duration": 71,
    "start_time": "2022-10-06T12:55:01.175Z"
   },
   {
    "duration": 113,
    "start_time": "2022-10-06T12:55:01.248Z"
   },
   {
    "duration": 292,
    "start_time": "2022-10-06T12:55:01.363Z"
   },
   {
    "duration": 112,
    "start_time": "2022-10-06T12:55:01.658Z"
   },
   {
    "duration": 57,
    "start_time": "2022-10-06T12:55:01.772Z"
   },
   {
    "duration": 107,
    "start_time": "2022-10-06T12:55:01.831Z"
   },
   {
    "duration": 516,
    "start_time": "2022-10-06T12:55:01.942Z"
   },
   {
    "duration": 15,
    "start_time": "2022-10-06T12:55:02.460Z"
   },
   {
    "duration": 101,
    "start_time": "2022-10-06T12:55:02.476Z"
   },
   {
    "duration": 40,
    "start_time": "2022-10-06T12:55:02.579Z"
   },
   {
    "duration": 235,
    "start_time": "2022-10-06T12:55:02.621Z"
   },
   {
    "duration": 127,
    "start_time": "2022-10-06T12:55:02.858Z"
   },
   {
    "duration": 4,
    "start_time": "2022-10-06T12:56:23.715Z"
   },
   {
    "duration": 1106,
    "start_time": "2022-10-06T12:56:53.281Z"
   },
   {
    "duration": 80,
    "start_time": "2022-10-06T12:56:54.390Z"
   },
   {
    "duration": 14,
    "start_time": "2022-10-06T12:56:54.472Z"
   },
   {
    "duration": 18,
    "start_time": "2022-10-06T12:56:54.489Z"
   },
   {
    "duration": 62,
    "start_time": "2022-10-06T12:56:54.509Z"
   },
   {
    "duration": 6,
    "start_time": "2022-10-06T12:56:54.573Z"
   },
   {
    "duration": 18,
    "start_time": "2022-10-06T12:56:54.581Z"
   },
   {
    "duration": 10,
    "start_time": "2022-10-06T12:56:54.601Z"
   },
   {
    "duration": 379,
    "start_time": "2022-10-06T12:56:54.613Z"
   },
   {
    "duration": 13,
    "start_time": "2022-10-06T12:56:54.995Z"
   },
   {
    "duration": 25,
    "start_time": "2022-10-06T12:56:55.010Z"
   },
   {
    "duration": 20,
    "start_time": "2022-10-06T12:56:55.037Z"
   },
   {
    "duration": 10,
    "start_time": "2022-10-06T12:56:55.059Z"
   },
   {
    "duration": 40,
    "start_time": "2022-10-06T12:56:55.070Z"
   },
   {
    "duration": 341,
    "start_time": "2022-10-06T12:56:55.112Z"
   },
   {
    "duration": 35,
    "start_time": "2022-10-06T12:56:55.455Z"
   },
   {
    "duration": 12199,
    "start_time": "2022-10-06T12:56:55.492Z"
   },
   {
    "duration": 62,
    "start_time": "2022-10-06T12:57:07.693Z"
   },
   {
    "duration": 299,
    "start_time": "2022-10-06T12:57:07.756Z"
   },
   {
    "duration": 398,
    "start_time": "2022-10-06T12:57:08.057Z"
   },
   {
    "duration": 199,
    "start_time": "2022-10-06T12:57:08.458Z"
   },
   {
    "duration": 96,
    "start_time": "2022-10-06T12:57:08.659Z"
   },
   {
    "duration": 40,
    "start_time": "2022-10-06T12:57:08.757Z"
   },
   {
    "duration": 64,
    "start_time": "2022-10-06T12:57:08.799Z"
   },
   {
    "duration": 292,
    "start_time": "2022-10-06T12:57:08.866Z"
   },
   {
    "duration": 107,
    "start_time": "2022-10-06T12:57:09.160Z"
   },
   {
    "duration": 53,
    "start_time": "2022-10-06T12:57:09.269Z"
   },
   {
    "duration": 107,
    "start_time": "2022-10-06T12:57:09.326Z"
   },
   {
    "duration": 425,
    "start_time": "2022-10-06T12:57:09.435Z"
   },
   {
    "duration": 104,
    "start_time": "2022-10-06T12:57:09.863Z"
   },
   {
    "duration": 40,
    "start_time": "2022-10-06T12:57:09.969Z"
   },
   {
    "duration": 60,
    "start_time": "2022-10-06T12:57:10.011Z"
   },
   {
    "duration": 185,
    "start_time": "2022-10-06T12:57:10.073Z"
   },
   {
    "duration": 122,
    "start_time": "2022-10-06T12:57:10.260Z"
   },
   {
    "duration": 40,
    "start_time": "2022-10-06T12:58:51.284Z"
   },
   {
    "duration": 1169,
    "start_time": "2022-10-06T13:02:39.023Z"
   },
   {
    "duration": 99,
    "start_time": "2022-10-06T13:02:40.195Z"
   },
   {
    "duration": 13,
    "start_time": "2022-10-06T13:02:40.296Z"
   },
   {
    "duration": 16,
    "start_time": "2022-10-06T13:02:40.311Z"
   },
   {
    "duration": 58,
    "start_time": "2022-10-06T13:02:40.330Z"
   },
   {
    "duration": 5,
    "start_time": "2022-10-06T13:02:40.390Z"
   },
   {
    "duration": 8,
    "start_time": "2022-10-06T13:02:40.397Z"
   },
   {
    "duration": 14,
    "start_time": "2022-10-06T13:02:40.407Z"
   },
   {
    "duration": 415,
    "start_time": "2022-10-06T13:02:40.422Z"
   },
   {
    "duration": 24,
    "start_time": "2022-10-06T13:02:40.839Z"
   },
   {
    "duration": 27,
    "start_time": "2022-10-06T13:02:40.865Z"
   },
   {
    "duration": 6,
    "start_time": "2022-10-06T13:02:40.893Z"
   },
   {
    "duration": 5,
    "start_time": "2022-10-06T13:02:40.901Z"
   },
   {
    "duration": 175,
    "start_time": "2022-10-06T13:02:40.909Z"
   },
   {
    "duration": 0,
    "start_time": "2022-10-06T13:02:41.086Z"
   },
   {
    "duration": 0,
    "start_time": "2022-10-06T13:02:41.087Z"
   },
   {
    "duration": 0,
    "start_time": "2022-10-06T13:02:41.089Z"
   },
   {
    "duration": 0,
    "start_time": "2022-10-06T13:02:41.089Z"
   },
   {
    "duration": 0,
    "start_time": "2022-10-06T13:02:41.090Z"
   },
   {
    "duration": 0,
    "start_time": "2022-10-06T13:02:41.092Z"
   },
   {
    "duration": 0,
    "start_time": "2022-10-06T13:02:41.093Z"
   },
   {
    "duration": 0,
    "start_time": "2022-10-06T13:02:41.094Z"
   },
   {
    "duration": 0,
    "start_time": "2022-10-06T13:02:41.096Z"
   },
   {
    "duration": 0,
    "start_time": "2022-10-06T13:02:41.097Z"
   },
   {
    "duration": 0,
    "start_time": "2022-10-06T13:02:41.098Z"
   },
   {
    "duration": 0,
    "start_time": "2022-10-06T13:02:41.100Z"
   },
   {
    "duration": 0,
    "start_time": "2022-10-06T13:02:41.101Z"
   },
   {
    "duration": 0,
    "start_time": "2022-10-06T13:02:41.102Z"
   },
   {
    "duration": 0,
    "start_time": "2022-10-06T13:02:41.103Z"
   },
   {
    "duration": 0,
    "start_time": "2022-10-06T13:02:41.104Z"
   },
   {
    "duration": 0,
    "start_time": "2022-10-06T13:02:41.105Z"
   },
   {
    "duration": 0,
    "start_time": "2022-10-06T13:02:41.107Z"
   },
   {
    "duration": 0,
    "start_time": "2022-10-06T13:02:41.108Z"
   },
   {
    "duration": 0,
    "start_time": "2022-10-06T13:02:41.109Z"
   },
   {
    "duration": 38,
    "start_time": "2022-10-06T13:12:20.931Z"
   },
   {
    "duration": 44,
    "start_time": "2022-10-06T13:17:44.670Z"
   },
   {
    "duration": 150,
    "start_time": "2022-10-06T13:17:54.633Z"
   },
   {
    "duration": 1091,
    "start_time": "2022-10-06T15:46:48.997Z"
   },
   {
    "duration": 122,
    "start_time": "2022-10-06T15:46:50.090Z"
   },
   {
    "duration": 14,
    "start_time": "2022-10-06T15:46:50.214Z"
   },
   {
    "duration": 13,
    "start_time": "2022-10-06T15:46:50.230Z"
   },
   {
    "duration": 51,
    "start_time": "2022-10-06T15:46:50.245Z"
   },
   {
    "duration": 6,
    "start_time": "2022-10-06T15:46:50.298Z"
   },
   {
    "duration": 19,
    "start_time": "2022-10-06T15:46:50.306Z"
   },
   {
    "duration": 35,
    "start_time": "2022-10-06T15:46:50.327Z"
   },
   {
    "duration": 529,
    "start_time": "2022-10-06T15:46:50.363Z"
   },
   {
    "duration": 14,
    "start_time": "2022-10-06T15:46:50.893Z"
   },
   {
    "duration": 35,
    "start_time": "2022-10-06T15:46:50.909Z"
   },
   {
    "duration": 5,
    "start_time": "2022-10-06T15:46:50.946Z"
   },
   {
    "duration": 10,
    "start_time": "2022-10-06T15:46:50.953Z"
   },
   {
    "duration": 169,
    "start_time": "2022-10-06T15:46:50.976Z"
   },
   {
    "duration": 337,
    "start_time": "2022-10-06T15:46:51.148Z"
   },
   {
    "duration": 36,
    "start_time": "2022-10-06T15:46:51.486Z"
   },
   {
    "duration": 11908,
    "start_time": "2022-10-06T15:46:51.524Z"
   },
   {
    "duration": 56,
    "start_time": "2022-10-06T15:47:03.434Z"
   },
   {
    "duration": 287,
    "start_time": "2022-10-06T15:47:03.491Z"
   },
   {
    "duration": 303,
    "start_time": "2022-10-06T15:47:03.780Z"
   },
   {
    "duration": 200,
    "start_time": "2022-10-06T15:47:04.085Z"
   },
   {
    "duration": 6,
    "start_time": "2022-10-06T15:47:04.377Z"
   },
   {
    "duration": 43,
    "start_time": "2022-10-06T15:47:04.385Z"
   },
   {
    "duration": 72,
    "start_time": "2022-10-06T15:47:04.430Z"
   },
   {
    "duration": 282,
    "start_time": "2022-10-06T15:47:04.503Z"
   },
   {
    "duration": 104,
    "start_time": "2022-10-06T15:47:04.786Z"
   },
   {
    "duration": 51,
    "start_time": "2022-10-06T15:47:04.891Z"
   },
   {
    "duration": 104,
    "start_time": "2022-10-06T15:47:04.945Z"
   },
   {
    "duration": 327,
    "start_time": "2022-10-06T15:47:05.052Z"
   },
   {
    "duration": 14,
    "start_time": "2022-10-06T15:47:05.381Z"
   },
   {
    "duration": 37,
    "start_time": "2022-10-06T15:47:05.476Z"
   },
   {
    "duration": 44,
    "start_time": "2022-10-06T15:47:05.514Z"
   },
   {
    "duration": 219,
    "start_time": "2022-10-06T15:47:05.559Z"
   },
   {
    "duration": 121,
    "start_time": "2022-10-06T15:47:05.780Z"
   },
   {
    "duration": 1184,
    "start_time": "2022-10-06T16:00:14.973Z"
   },
   {
    "duration": 101,
    "start_time": "2022-10-06T16:00:16.160Z"
   },
   {
    "duration": 13,
    "start_time": "2022-10-06T16:00:16.263Z"
   },
   {
    "duration": 11,
    "start_time": "2022-10-06T16:00:16.278Z"
   },
   {
    "duration": 40,
    "start_time": "2022-10-06T16:00:16.291Z"
   },
   {
    "duration": 4,
    "start_time": "2022-10-06T16:00:16.333Z"
   },
   {
    "duration": 6,
    "start_time": "2022-10-06T16:00:16.339Z"
   },
   {
    "duration": 31,
    "start_time": "2022-10-06T16:00:16.346Z"
   },
   {
    "duration": 346,
    "start_time": "2022-10-06T16:00:16.379Z"
   },
   {
    "duration": 13,
    "start_time": "2022-10-06T16:00:16.727Z"
   },
   {
    "duration": 36,
    "start_time": "2022-10-06T16:00:16.742Z"
   },
   {
    "duration": 6,
    "start_time": "2022-10-06T16:00:16.780Z"
   },
   {
    "duration": 8,
    "start_time": "2022-10-06T16:00:16.787Z"
   },
   {
    "duration": 168,
    "start_time": "2022-10-06T16:00:16.797Z"
   },
   {
    "duration": 333,
    "start_time": "2022-10-06T16:00:16.976Z"
   },
   {
    "duration": 32,
    "start_time": "2022-10-06T16:00:17.311Z"
   },
   {
    "duration": 11770,
    "start_time": "2022-10-06T16:00:17.344Z"
   },
   {
    "duration": 50,
    "start_time": "2022-10-06T16:00:29.116Z"
   },
   {
    "duration": 301,
    "start_time": "2022-10-06T16:00:29.176Z"
   },
   {
    "duration": 398,
    "start_time": "2022-10-06T16:00:29.479Z"
   },
   {
    "duration": 104,
    "start_time": "2022-10-06T16:00:29.879Z"
   },
   {
    "duration": 99,
    "start_time": "2022-10-06T16:00:29.985Z"
   },
   {
    "duration": 69,
    "start_time": "2022-10-06T16:00:30.086Z"
   },
   {
    "duration": 55,
    "start_time": "2022-10-06T16:00:30.156Z"
   },
   {
    "duration": 272,
    "start_time": "2022-10-06T16:00:30.213Z"
   },
   {
    "duration": 15,
    "start_time": "2022-10-06T16:00:30.578Z"
   },
   {
    "duration": 74,
    "start_time": "2022-10-06T16:00:30.595Z"
   },
   {
    "duration": 110,
    "start_time": "2022-10-06T16:00:30.673Z"
   },
   {
    "duration": 393,
    "start_time": "2022-10-06T16:00:30.785Z"
   },
   {
    "duration": 103,
    "start_time": "2022-10-06T16:00:31.182Z"
   },
   {
    "duration": 54,
    "start_time": "2022-10-06T16:00:31.286Z"
   },
   {
    "duration": 53,
    "start_time": "2022-10-06T16:00:31.342Z"
   },
   {
    "duration": 188,
    "start_time": "2022-10-06T16:00:31.397Z"
   },
   {
    "duration": 56,
    "start_time": "2022-10-06T16:00:31.676Z"
   },
   {
    "duration": 4,
    "start_time": "2022-10-06T16:01:42.816Z"
   },
   {
    "duration": 79,
    "start_time": "2022-10-06T16:01:42.822Z"
   },
   {
    "duration": 12,
    "start_time": "2022-10-06T16:01:42.904Z"
   },
   {
    "duration": 11,
    "start_time": "2022-10-06T16:01:42.917Z"
   },
   {
    "duration": 67,
    "start_time": "2022-10-06T16:01:42.930Z"
   },
   {
    "duration": 5,
    "start_time": "2022-10-06T16:01:42.999Z"
   },
   {
    "duration": 5,
    "start_time": "2022-10-06T16:01:43.006Z"
   },
   {
    "duration": 7,
    "start_time": "2022-10-06T16:01:43.012Z"
   },
   {
    "duration": 123,
    "start_time": "2022-10-06T16:01:43.020Z"
   },
   {
    "duration": 13,
    "start_time": "2022-10-06T16:01:43.144Z"
   },
   {
    "duration": 37,
    "start_time": "2022-10-06T16:01:43.159Z"
   },
   {
    "duration": 5,
    "start_time": "2022-10-06T16:01:43.197Z"
   },
   {
    "duration": 3,
    "start_time": "2022-10-06T16:01:43.204Z"
   },
   {
    "duration": 171,
    "start_time": "2022-10-06T16:01:43.209Z"
   },
   {
    "duration": 330,
    "start_time": "2022-10-06T16:01:43.383Z"
   },
   {
    "duration": 33,
    "start_time": "2022-10-06T16:01:43.715Z"
   },
   {
    "duration": 11957,
    "start_time": "2022-10-06T16:01:43.750Z"
   },
   {
    "duration": 48,
    "start_time": "2022-10-06T16:01:55.709Z"
   },
   {
    "duration": 23,
    "start_time": "2022-10-06T16:02:10.067Z"
   },
   {
    "duration": 1146,
    "start_time": "2022-10-06T16:02:39.739Z"
   },
   {
    "duration": 125,
    "start_time": "2022-10-06T16:02:40.888Z"
   },
   {
    "duration": 12,
    "start_time": "2022-10-06T16:02:41.015Z"
   },
   {
    "duration": 11,
    "start_time": "2022-10-06T16:02:41.029Z"
   },
   {
    "duration": 57,
    "start_time": "2022-10-06T16:02:41.042Z"
   },
   {
    "duration": 4,
    "start_time": "2022-10-06T16:02:41.101Z"
   },
   {
    "duration": 6,
    "start_time": "2022-10-06T16:02:41.107Z"
   },
   {
    "duration": 7,
    "start_time": "2022-10-06T16:02:41.114Z"
   },
   {
    "duration": 390,
    "start_time": "2022-10-06T16:02:41.122Z"
   },
   {
    "duration": 18,
    "start_time": "2022-10-06T16:02:41.514Z"
   },
   {
    "duration": 44,
    "start_time": "2022-10-06T16:02:41.534Z"
   },
   {
    "duration": 6,
    "start_time": "2022-10-06T16:02:41.579Z"
   },
   {
    "duration": 7,
    "start_time": "2022-10-06T16:02:41.587Z"
   },
   {
    "duration": 166,
    "start_time": "2022-10-06T16:02:41.597Z"
   },
   {
    "duration": 331,
    "start_time": "2022-10-06T16:02:41.765Z"
   },
   {
    "duration": 33,
    "start_time": "2022-10-06T16:02:42.098Z"
   },
   {
    "duration": 11989,
    "start_time": "2022-10-06T16:02:42.132Z"
   },
   {
    "duration": 111,
    "start_time": "2022-10-06T16:02:54.123Z"
   },
   {
    "duration": 0,
    "start_time": "2022-10-06T16:02:54.236Z"
   },
   {
    "duration": 0,
    "start_time": "2022-10-06T16:02:54.237Z"
   },
   {
    "duration": 0,
    "start_time": "2022-10-06T16:02:54.238Z"
   },
   {
    "duration": 0,
    "start_time": "2022-10-06T16:02:54.240Z"
   },
   {
    "duration": 0,
    "start_time": "2022-10-06T16:02:54.241Z"
   },
   {
    "duration": 0,
    "start_time": "2022-10-06T16:02:54.242Z"
   },
   {
    "duration": 0,
    "start_time": "2022-10-06T16:02:54.243Z"
   },
   {
    "duration": 0,
    "start_time": "2022-10-06T16:02:54.244Z"
   },
   {
    "duration": 0,
    "start_time": "2022-10-06T16:02:54.245Z"
   },
   {
    "duration": 0,
    "start_time": "2022-10-06T16:02:54.246Z"
   },
   {
    "duration": 0,
    "start_time": "2022-10-06T16:02:54.248Z"
   },
   {
    "duration": 0,
    "start_time": "2022-10-06T16:02:54.249Z"
   },
   {
    "duration": 0,
    "start_time": "2022-10-06T16:02:54.250Z"
   },
   {
    "duration": 0,
    "start_time": "2022-10-06T16:02:54.277Z"
   },
   {
    "duration": 0,
    "start_time": "2022-10-06T16:02:54.278Z"
   },
   {
    "duration": 0,
    "start_time": "2022-10-06T16:02:54.280Z"
   },
   {
    "duration": 20,
    "start_time": "2022-10-06T16:04:43.466Z"
   },
   {
    "duration": 1203,
    "start_time": "2022-10-06T16:06:13.110Z"
   },
   {
    "duration": 142,
    "start_time": "2022-10-06T16:06:14.316Z"
   },
   {
    "duration": 14,
    "start_time": "2022-10-06T16:06:14.460Z"
   },
   {
    "duration": 28,
    "start_time": "2022-10-06T16:06:14.477Z"
   },
   {
    "duration": 51,
    "start_time": "2022-10-06T16:06:14.507Z"
   },
   {
    "duration": 7,
    "start_time": "2022-10-06T16:06:14.560Z"
   },
   {
    "duration": 17,
    "start_time": "2022-10-06T16:06:14.568Z"
   },
   {
    "duration": 10,
    "start_time": "2022-10-06T16:06:14.587Z"
   },
   {
    "duration": 383,
    "start_time": "2022-10-06T16:06:14.599Z"
   },
   {
    "duration": 14,
    "start_time": "2022-10-06T16:06:14.984Z"
   },
   {
    "duration": 25,
    "start_time": "2022-10-06T16:06:14.999Z"
   },
   {
    "duration": 27,
    "start_time": "2022-10-06T16:06:15.025Z"
   },
   {
    "duration": 12,
    "start_time": "2022-10-06T16:06:15.054Z"
   },
   {
    "duration": 174,
    "start_time": "2022-10-06T16:06:15.068Z"
   },
   {
    "duration": 381,
    "start_time": "2022-10-06T16:06:15.244Z"
   },
   {
    "duration": 126,
    "start_time": "2022-10-06T16:06:15.627Z"
   },
   {
    "duration": 0,
    "start_time": "2022-10-06T16:06:15.754Z"
   },
   {
    "duration": 0,
    "start_time": "2022-10-06T16:06:15.756Z"
   },
   {
    "duration": 0,
    "start_time": "2022-10-06T16:06:15.757Z"
   },
   {
    "duration": 0,
    "start_time": "2022-10-06T16:06:15.759Z"
   },
   {
    "duration": 0,
    "start_time": "2022-10-06T16:06:15.776Z"
   },
   {
    "duration": 0,
    "start_time": "2022-10-06T16:06:15.778Z"
   },
   {
    "duration": 0,
    "start_time": "2022-10-06T16:06:15.779Z"
   },
   {
    "duration": 0,
    "start_time": "2022-10-06T16:06:15.780Z"
   },
   {
    "duration": 0,
    "start_time": "2022-10-06T16:06:15.782Z"
   },
   {
    "duration": 0,
    "start_time": "2022-10-06T16:06:15.783Z"
   },
   {
    "duration": 0,
    "start_time": "2022-10-06T16:06:15.784Z"
   },
   {
    "duration": 0,
    "start_time": "2022-10-06T16:06:15.785Z"
   },
   {
    "duration": 0,
    "start_time": "2022-10-06T16:06:15.786Z"
   },
   {
    "duration": 0,
    "start_time": "2022-10-06T16:06:15.787Z"
   },
   {
    "duration": 0,
    "start_time": "2022-10-06T16:06:15.789Z"
   },
   {
    "duration": 0,
    "start_time": "2022-10-06T16:06:15.790Z"
   },
   {
    "duration": 0,
    "start_time": "2022-10-06T16:06:15.791Z"
   },
   {
    "duration": 0,
    "start_time": "2022-10-06T16:06:15.792Z"
   },
   {
    "duration": 17,
    "start_time": "2022-10-06T16:08:52.179Z"
   },
   {
    "duration": 11,
    "start_time": "2022-10-06T16:13:48.346Z"
   },
   {
    "duration": 10,
    "start_time": "2022-10-06T16:14:12.236Z"
   },
   {
    "duration": 10,
    "start_time": "2022-10-06T16:14:23.580Z"
   },
   {
    "duration": 1095,
    "start_time": "2022-10-06T16:18:00.190Z"
   },
   {
    "duration": 100,
    "start_time": "2022-10-06T16:18:01.287Z"
   },
   {
    "duration": 14,
    "start_time": "2022-10-06T16:18:01.388Z"
   },
   {
    "duration": 21,
    "start_time": "2022-10-06T16:18:01.405Z"
   },
   {
    "duration": 53,
    "start_time": "2022-10-06T16:18:01.428Z"
   },
   {
    "duration": 6,
    "start_time": "2022-10-06T16:18:01.483Z"
   },
   {
    "duration": 22,
    "start_time": "2022-10-06T16:18:01.491Z"
   },
   {
    "duration": 19,
    "start_time": "2022-10-06T16:18:01.515Z"
   },
   {
    "duration": 372,
    "start_time": "2022-10-06T16:18:01.537Z"
   },
   {
    "duration": 13,
    "start_time": "2022-10-06T16:18:01.914Z"
   },
   {
    "duration": 45,
    "start_time": "2022-10-06T16:18:01.929Z"
   },
   {
    "duration": 6,
    "start_time": "2022-10-06T16:18:01.976Z"
   },
   {
    "duration": 22,
    "start_time": "2022-10-06T16:18:01.984Z"
   },
   {
    "duration": 161,
    "start_time": "2022-10-06T16:18:02.008Z"
   },
   {
    "duration": 325,
    "start_time": "2022-10-06T16:18:02.171Z"
   },
   {
    "duration": 123,
    "start_time": "2022-10-06T16:18:02.498Z"
   },
   {
    "duration": 0,
    "start_time": "2022-10-06T16:18:02.623Z"
   },
   {
    "duration": 0,
    "start_time": "2022-10-06T16:18:02.625Z"
   },
   {
    "duration": 0,
    "start_time": "2022-10-06T16:18:02.627Z"
   },
   {
    "duration": 0,
    "start_time": "2022-10-06T16:18:02.628Z"
   },
   {
    "duration": 0,
    "start_time": "2022-10-06T16:18:02.630Z"
   },
   {
    "duration": 0,
    "start_time": "2022-10-06T16:18:02.632Z"
   },
   {
    "duration": 0,
    "start_time": "2022-10-06T16:18:02.633Z"
   },
   {
    "duration": 0,
    "start_time": "2022-10-06T16:18:02.635Z"
   },
   {
    "duration": 0,
    "start_time": "2022-10-06T16:18:02.636Z"
   },
   {
    "duration": 0,
    "start_time": "2022-10-06T16:18:02.638Z"
   },
   {
    "duration": 0,
    "start_time": "2022-10-06T16:18:02.639Z"
   },
   {
    "duration": 0,
    "start_time": "2022-10-06T16:18:02.641Z"
   },
   {
    "duration": 0,
    "start_time": "2022-10-06T16:18:02.642Z"
   },
   {
    "duration": 0,
    "start_time": "2022-10-06T16:18:02.643Z"
   },
   {
    "duration": 0,
    "start_time": "2022-10-06T16:18:02.645Z"
   },
   {
    "duration": 0,
    "start_time": "2022-10-06T16:18:02.646Z"
   },
   {
    "duration": 0,
    "start_time": "2022-10-06T16:18:02.647Z"
   },
   {
    "duration": 0,
    "start_time": "2022-10-06T16:18:02.678Z"
   },
   {
    "duration": 11,
    "start_time": "2022-10-06T16:18:29.759Z"
   },
   {
    "duration": 11,
    "start_time": "2022-10-06T16:18:52.292Z"
   },
   {
    "duration": 30,
    "start_time": "2022-10-06T16:19:13.290Z"
   },
   {
    "duration": 29,
    "start_time": "2022-10-06T16:19:30.778Z"
   },
   {
    "duration": 1155,
    "start_time": "2022-10-06T16:19:48.823Z"
   },
   {
    "duration": 78,
    "start_time": "2022-10-06T16:19:49.980Z"
   },
   {
    "duration": 14,
    "start_time": "2022-10-06T16:19:50.060Z"
   },
   {
    "duration": 10,
    "start_time": "2022-10-06T16:19:50.077Z"
   },
   {
    "duration": 43,
    "start_time": "2022-10-06T16:19:50.090Z"
   },
   {
    "duration": 5,
    "start_time": "2022-10-06T16:19:50.134Z"
   },
   {
    "duration": 12,
    "start_time": "2022-10-06T16:19:50.141Z"
   },
   {
    "duration": 24,
    "start_time": "2022-10-06T16:19:50.155Z"
   },
   {
    "duration": 348,
    "start_time": "2022-10-06T16:19:50.181Z"
   },
   {
    "duration": 15,
    "start_time": "2022-10-06T16:19:50.531Z"
   },
   {
    "duration": 42,
    "start_time": "2022-10-06T16:19:50.548Z"
   },
   {
    "duration": 13,
    "start_time": "2022-10-06T16:19:50.592Z"
   },
   {
    "duration": 14,
    "start_time": "2022-10-06T16:19:50.606Z"
   },
   {
    "duration": 146,
    "start_time": "2022-10-06T16:19:50.624Z"
   },
   {
    "duration": 322,
    "start_time": "2022-10-06T16:19:50.777Z"
   },
   {
    "duration": 135,
    "start_time": "2022-10-06T16:19:51.100Z"
   },
   {
    "duration": 0,
    "start_time": "2022-10-06T16:19:51.236Z"
   },
   {
    "duration": 0,
    "start_time": "2022-10-06T16:19:51.238Z"
   },
   {
    "duration": 0,
    "start_time": "2022-10-06T16:19:51.239Z"
   },
   {
    "duration": 0,
    "start_time": "2022-10-06T16:19:51.240Z"
   },
   {
    "duration": 0,
    "start_time": "2022-10-06T16:19:51.241Z"
   },
   {
    "duration": 0,
    "start_time": "2022-10-06T16:19:51.242Z"
   },
   {
    "duration": 0,
    "start_time": "2022-10-06T16:19:51.243Z"
   },
   {
    "duration": 0,
    "start_time": "2022-10-06T16:19:51.244Z"
   },
   {
    "duration": 0,
    "start_time": "2022-10-06T16:19:51.245Z"
   },
   {
    "duration": 0,
    "start_time": "2022-10-06T16:19:51.247Z"
   },
   {
    "duration": 0,
    "start_time": "2022-10-06T16:19:51.248Z"
   },
   {
    "duration": 0,
    "start_time": "2022-10-06T16:19:51.249Z"
   },
   {
    "duration": 0,
    "start_time": "2022-10-06T16:19:51.250Z"
   },
   {
    "duration": 0,
    "start_time": "2022-10-06T16:19:51.251Z"
   },
   {
    "duration": 0,
    "start_time": "2022-10-06T16:19:51.277Z"
   },
   {
    "duration": 0,
    "start_time": "2022-10-06T16:19:51.278Z"
   },
   {
    "duration": 0,
    "start_time": "2022-10-06T16:19:51.279Z"
   },
   {
    "duration": 0,
    "start_time": "2022-10-06T16:19:51.280Z"
   },
   {
    "duration": 34,
    "start_time": "2022-10-06T16:21:21.675Z"
   },
   {
    "duration": 32,
    "start_time": "2022-10-06T16:24:16.479Z"
   },
   {
    "duration": 11833,
    "start_time": "2022-10-06T16:24:16.721Z"
   },
   {
    "duration": 11,
    "start_time": "2022-10-06T16:24:28.556Z"
   },
   {
    "duration": 0,
    "start_time": "2022-10-06T16:24:28.576Z"
   },
   {
    "duration": 0,
    "start_time": "2022-10-06T16:24:28.578Z"
   },
   {
    "duration": 0,
    "start_time": "2022-10-06T16:24:28.579Z"
   },
   {
    "duration": 0,
    "start_time": "2022-10-06T16:24:28.580Z"
   },
   {
    "duration": 0,
    "start_time": "2022-10-06T16:24:28.581Z"
   },
   {
    "duration": 0,
    "start_time": "2022-10-06T16:24:28.582Z"
   },
   {
    "duration": 0,
    "start_time": "2022-10-06T16:24:28.584Z"
   },
   {
    "duration": 0,
    "start_time": "2022-10-06T16:24:28.585Z"
   },
   {
    "duration": 0,
    "start_time": "2022-10-06T16:24:28.586Z"
   },
   {
    "duration": 0,
    "start_time": "2022-10-06T16:24:28.587Z"
   },
   {
    "duration": 0,
    "start_time": "2022-10-06T16:24:28.589Z"
   },
   {
    "duration": 0,
    "start_time": "2022-10-06T16:24:28.590Z"
   },
   {
    "duration": 0,
    "start_time": "2022-10-06T16:24:28.591Z"
   },
   {
    "duration": 0,
    "start_time": "2022-10-06T16:24:28.593Z"
   },
   {
    "duration": 0,
    "start_time": "2022-10-06T16:24:28.594Z"
   },
   {
    "duration": 0,
    "start_time": "2022-10-06T16:24:28.596Z"
   },
   {
    "duration": 53,
    "start_time": "2022-10-06T16:24:57.641Z"
   },
   {
    "duration": 51,
    "start_time": "2022-10-06T16:25:03.842Z"
   },
   {
    "duration": 191,
    "start_time": "2022-10-06T16:25:03.895Z"
   },
   {
    "duration": 208,
    "start_time": "2022-10-06T16:25:04.178Z"
   },
   {
    "duration": 105,
    "start_time": "2022-10-06T16:25:04.478Z"
   },
   {
    "duration": 96,
    "start_time": "2022-10-06T16:25:04.585Z"
   },
   {
    "duration": 33,
    "start_time": "2022-10-06T16:25:04.683Z"
   },
   {
    "duration": 72,
    "start_time": "2022-10-06T16:25:04.718Z"
   },
   {
    "duration": 285,
    "start_time": "2022-10-06T16:25:04.792Z"
   },
   {
    "duration": 14,
    "start_time": "2022-10-06T16:25:05.079Z"
   },
   {
    "duration": 48,
    "start_time": "2022-10-06T16:25:05.095Z"
   },
   {
    "duration": 122,
    "start_time": "2022-10-06T16:25:05.144Z"
   },
   {
    "duration": 316,
    "start_time": "2022-10-06T16:25:05.268Z"
   },
   {
    "duration": 10,
    "start_time": "2022-10-06T16:25:05.677Z"
   },
   {
    "duration": 29,
    "start_time": "2022-10-06T16:25:05.689Z"
   },
   {
    "duration": 57,
    "start_time": "2022-10-06T16:25:05.720Z"
   },
   {
    "duration": 199,
    "start_time": "2022-10-06T16:25:05.779Z"
   },
   {
    "duration": 123,
    "start_time": "2022-10-06T16:25:05.980Z"
   },
   {
    "duration": 1104,
    "start_time": "2022-10-06T17:39:20.365Z"
   },
   {
    "duration": 76,
    "start_time": "2022-10-06T17:39:21.470Z"
   },
   {
    "duration": 12,
    "start_time": "2022-10-06T17:39:21.548Z"
   },
   {
    "duration": 11,
    "start_time": "2022-10-06T17:39:21.562Z"
   },
   {
    "duration": 40,
    "start_time": "2022-10-06T17:39:21.574Z"
   },
   {
    "duration": 5,
    "start_time": "2022-10-06T17:39:21.616Z"
   },
   {
    "duration": 6,
    "start_time": "2022-10-06T17:39:21.623Z"
   },
   {
    "duration": 7,
    "start_time": "2022-10-06T17:39:21.631Z"
   },
   {
    "duration": 370,
    "start_time": "2022-10-06T17:39:21.640Z"
   },
   {
    "duration": 13,
    "start_time": "2022-10-06T17:39:22.013Z"
   },
   {
    "duration": 23,
    "start_time": "2022-10-06T17:39:22.028Z"
   },
   {
    "duration": 26,
    "start_time": "2022-10-06T17:39:22.053Z"
   },
   {
    "duration": 4,
    "start_time": "2022-10-06T17:39:22.081Z"
   },
   {
    "duration": 155,
    "start_time": "2022-10-06T17:39:22.087Z"
   },
   {
    "duration": 311,
    "start_time": "2022-10-06T17:39:22.243Z"
   },
   {
    "duration": 40,
    "start_time": "2022-10-06T17:39:22.556Z"
   },
   {
    "duration": 11797,
    "start_time": "2022-10-06T17:39:22.597Z"
   },
   {
    "duration": 50,
    "start_time": "2022-10-06T17:39:34.396Z"
   },
   {
    "duration": 235,
    "start_time": "2022-10-06T17:39:34.447Z"
   },
   {
    "duration": 303,
    "start_time": "2022-10-06T17:39:34.683Z"
   },
   {
    "duration": 193,
    "start_time": "2022-10-06T17:39:34.988Z"
   },
   {
    "duration": 8,
    "start_time": "2022-10-06T17:39:35.183Z"
   },
   {
    "duration": 43,
    "start_time": "2022-10-06T17:39:35.277Z"
   },
   {
    "duration": 76,
    "start_time": "2022-10-06T17:39:35.322Z"
   },
   {
    "duration": 185,
    "start_time": "2022-10-06T17:39:35.400Z"
   },
   {
    "duration": 1309,
    "start_time": "2022-10-06T17:39:35.587Z"
   },
   {
    "duration": 0,
    "start_time": "2022-10-06T17:39:36.897Z"
   },
   {
    "duration": 0,
    "start_time": "2022-10-06T17:39:36.899Z"
   },
   {
    "duration": 0,
    "start_time": "2022-10-06T17:39:36.900Z"
   },
   {
    "duration": 0,
    "start_time": "2022-10-06T17:39:36.901Z"
   },
   {
    "duration": 0,
    "start_time": "2022-10-06T17:39:36.902Z"
   },
   {
    "duration": 0,
    "start_time": "2022-10-06T17:39:36.904Z"
   },
   {
    "duration": 0,
    "start_time": "2022-10-06T17:39:36.905Z"
   },
   {
    "duration": 1,
    "start_time": "2022-10-06T17:39:36.905Z"
   },
   {
    "duration": 113,
    "start_time": "2022-10-06T17:40:06.286Z"
   },
   {
    "duration": 141,
    "start_time": "2022-10-06T17:40:18.823Z"
   },
   {
    "duration": 111,
    "start_time": "2022-10-06T17:40:25.028Z"
   },
   {
    "duration": 180,
    "start_time": "2022-10-06T17:40:32.342Z"
   },
   {
    "duration": 109,
    "start_time": "2022-10-06T17:40:38.358Z"
   },
   {
    "duration": 100,
    "start_time": "2022-10-06T17:40:49.408Z"
   },
   {
    "duration": 29,
    "start_time": "2022-10-06T18:02:08.332Z"
   },
   {
    "duration": 36,
    "start_time": "2022-10-06T18:02:24.619Z"
   },
   {
    "duration": 1059,
    "start_time": "2022-10-06T18:33:40.738Z"
   },
   {
    "duration": 80,
    "start_time": "2022-10-06T18:33:41.799Z"
   },
   {
    "duration": 14,
    "start_time": "2022-10-06T18:33:41.880Z"
   },
   {
    "duration": 13,
    "start_time": "2022-10-06T18:33:41.896Z"
   },
   {
    "duration": 39,
    "start_time": "2022-10-06T18:33:41.912Z"
   },
   {
    "duration": 26,
    "start_time": "2022-10-06T18:33:41.953Z"
   },
   {
    "duration": 6,
    "start_time": "2022-10-06T18:33:41.981Z"
   },
   {
    "duration": 10,
    "start_time": "2022-10-06T18:33:41.989Z"
   },
   {
    "duration": 351,
    "start_time": "2022-10-06T18:33:42.000Z"
   },
   {
    "duration": 13,
    "start_time": "2022-10-06T18:33:42.352Z"
   },
   {
    "duration": 22,
    "start_time": "2022-10-06T18:33:42.376Z"
   },
   {
    "duration": 4,
    "start_time": "2022-10-06T18:33:42.400Z"
   },
   {
    "duration": 10,
    "start_time": "2022-10-06T18:33:42.406Z"
   },
   {
    "duration": 161,
    "start_time": "2022-10-06T18:33:42.419Z"
   },
   {
    "duration": 322,
    "start_time": "2022-10-06T18:33:42.582Z"
   },
   {
    "duration": 34,
    "start_time": "2022-10-06T18:33:42.906Z"
   },
   {
    "duration": 11948,
    "start_time": "2022-10-06T18:33:42.942Z"
   },
   {
    "duration": 54,
    "start_time": "2022-10-06T18:33:54.892Z"
   },
   {
    "duration": 239,
    "start_time": "2022-10-06T18:33:54.947Z"
   },
   {
    "duration": 205,
    "start_time": "2022-10-06T18:33:55.276Z"
   },
   {
    "duration": 195,
    "start_time": "2022-10-06T18:33:55.483Z"
   },
   {
    "duration": 7,
    "start_time": "2022-10-06T18:33:55.679Z"
   },
   {
    "duration": 120,
    "start_time": "2022-10-06T18:33:55.688Z"
   },
   {
    "duration": 71,
    "start_time": "2022-10-06T18:33:55.811Z"
   },
   {
    "duration": 596,
    "start_time": "2022-10-06T18:33:55.884Z"
   },
   {
    "duration": 152,
    "start_time": "2022-10-06T18:33:56.482Z"
   },
   {
    "duration": 56,
    "start_time": "2022-10-06T18:33:56.635Z"
   },
   {
    "duration": 91,
    "start_time": "2022-10-06T18:33:56.693Z"
   },
   {
    "duration": 695,
    "start_time": "2022-10-06T18:33:56.786Z"
   },
   {
    "duration": 12,
    "start_time": "2022-10-06T18:33:57.482Z"
   },
   {
    "duration": 23,
    "start_time": "2022-10-06T18:33:57.496Z"
   },
   {
    "duration": 63,
    "start_time": "2022-10-06T18:33:57.521Z"
   },
   {
    "duration": 190,
    "start_time": "2022-10-06T18:33:57.586Z"
   },
   {
    "duration": 116,
    "start_time": "2022-10-06T18:33:57.779Z"
   },
   {
    "duration": 1049,
    "start_time": "2022-10-07T04:25:40.055Z"
   },
   {
    "duration": 119,
    "start_time": "2022-10-07T04:25:41.106Z"
   },
   {
    "duration": 13,
    "start_time": "2022-10-07T04:25:41.227Z"
   },
   {
    "duration": 13,
    "start_time": "2022-10-07T04:25:41.242Z"
   },
   {
    "duration": 38,
    "start_time": "2022-10-07T04:25:41.257Z"
   },
   {
    "duration": 5,
    "start_time": "2022-10-07T04:25:41.296Z"
   },
   {
    "duration": 7,
    "start_time": "2022-10-07T04:25:41.303Z"
   },
   {
    "duration": 6,
    "start_time": "2022-10-07T04:25:41.333Z"
   },
   {
    "duration": 525,
    "start_time": "2022-10-07T04:25:41.341Z"
   },
   {
    "duration": 18,
    "start_time": "2022-10-07T04:25:41.869Z"
   },
   {
    "duration": 23,
    "start_time": "2022-10-07T04:25:41.889Z"
   },
   {
    "duration": 23,
    "start_time": "2022-10-07T04:25:41.913Z"
   },
   {
    "duration": 7,
    "start_time": "2022-10-07T04:25:41.938Z"
   },
   {
    "duration": 189,
    "start_time": "2022-10-07T04:25:41.948Z"
   },
   {
    "duration": 328,
    "start_time": "2022-10-07T04:25:42.138Z"
   },
   {
    "duration": 32,
    "start_time": "2022-10-07T04:25:42.467Z"
   },
   {
    "duration": 11101,
    "start_time": "2022-10-07T04:25:42.500Z"
   },
   {
    "duration": 63,
    "start_time": "2022-10-07T04:25:53.603Z"
   },
   {
    "duration": 274,
    "start_time": "2022-10-07T04:25:53.668Z"
   },
   {
    "duration": 308,
    "start_time": "2022-10-07T04:25:54.033Z"
   },
   {
    "duration": 194,
    "start_time": "2022-10-07T04:25:54.344Z"
   },
   {
    "duration": 95,
    "start_time": "2022-10-07T04:25:54.540Z"
   },
   {
    "duration": 39,
    "start_time": "2022-10-07T04:25:54.637Z"
   },
   {
    "duration": 77,
    "start_time": "2022-10-07T04:25:54.677Z"
   },
   {
    "duration": 483,
    "start_time": "2022-10-07T04:25:54.755Z"
   },
   {
    "duration": 116,
    "start_time": "2022-10-07T04:25:55.240Z"
   },
   {
    "duration": 45,
    "start_time": "2022-10-07T04:25:55.357Z"
   },
   {
    "duration": 79,
    "start_time": "2022-10-07T04:25:55.404Z"
   },
   {
    "duration": 351,
    "start_time": "2022-10-07T04:25:55.485Z"
   },
   {
    "duration": 99,
    "start_time": "2022-10-07T04:25:55.838Z"
   },
   {
    "duration": 21,
    "start_time": "2022-10-07T04:25:55.939Z"
   },
   {
    "duration": 36,
    "start_time": "2022-10-07T04:25:55.961Z"
   },
   {
    "duration": 240,
    "start_time": "2022-10-07T04:25:55.999Z"
   },
   {
    "duration": 149,
    "start_time": "2022-10-07T04:25:56.240Z"
   },
   {
    "duration": 51,
    "start_time": "2022-10-07T04:34:03.867Z"
   },
   {
    "duration": 54,
    "start_time": "2022-10-07T04:35:28.089Z"
   },
   {
    "duration": 49,
    "start_time": "2022-10-07T04:35:36.857Z"
   },
   {
    "duration": 71,
    "start_time": "2022-10-07T04:36:56.544Z"
   },
   {
    "duration": 596,
    "start_time": "2022-10-07T04:39:48.853Z"
   },
   {
    "duration": 163,
    "start_time": "2022-10-07T04:41:36.381Z"
   },
   {
    "duration": 63,
    "start_time": "2022-10-07T04:42:04.498Z"
   },
   {
    "duration": 431,
    "start_time": "2022-10-07T04:44:32.909Z"
   },
   {
    "duration": 255,
    "start_time": "2022-10-07T04:47:51.680Z"
   },
   {
    "duration": 243,
    "start_time": "2022-10-07T04:47:58.206Z"
   },
   {
    "duration": 5,
    "start_time": "2022-10-07T04:48:12.321Z"
   },
   {
    "duration": 162,
    "start_time": "2022-10-07T04:49:58.690Z"
   },
   {
    "duration": 97,
    "start_time": "2022-10-07T04:51:53.519Z"
   },
   {
    "duration": 175,
    "start_time": "2022-10-07T04:52:33.001Z"
   },
   {
    "duration": 1093,
    "start_time": "2022-10-07T04:52:57.405Z"
   },
   {
    "duration": 80,
    "start_time": "2022-10-07T04:52:58.501Z"
   },
   {
    "duration": 14,
    "start_time": "2022-10-07T04:52:58.582Z"
   },
   {
    "duration": 9,
    "start_time": "2022-10-07T04:52:58.598Z"
   },
   {
    "duration": 37,
    "start_time": "2022-10-07T04:52:58.609Z"
   },
   {
    "duration": 4,
    "start_time": "2022-10-07T04:52:58.648Z"
   },
   {
    "duration": 7,
    "start_time": "2022-10-07T04:52:58.654Z"
   },
   {
    "duration": 9,
    "start_time": "2022-10-07T04:52:58.662Z"
   },
   {
    "duration": 345,
    "start_time": "2022-10-07T04:52:58.672Z"
   },
   {
    "duration": 22,
    "start_time": "2022-10-07T04:52:59.019Z"
   },
   {
    "duration": 26,
    "start_time": "2022-10-07T04:52:59.042Z"
   },
   {
    "duration": 6,
    "start_time": "2022-10-07T04:52:59.070Z"
   },
   {
    "duration": 4,
    "start_time": "2022-10-07T04:52:59.077Z"
   },
   {
    "duration": 155,
    "start_time": "2022-10-07T04:52:59.084Z"
   },
   {
    "duration": 301,
    "start_time": "2022-10-07T04:52:59.240Z"
   },
   {
    "duration": 45,
    "start_time": "2022-10-07T04:52:59.542Z"
   },
   {
    "duration": 11339,
    "start_time": "2022-10-07T04:52:59.589Z"
   },
   {
    "duration": 64,
    "start_time": "2022-10-07T04:53:10.929Z"
   },
   {
    "duration": 451,
    "start_time": "2022-10-07T04:53:10.995Z"
   },
   {
    "duration": 394,
    "start_time": "2022-10-07T04:53:11.448Z"
   },
   {
    "duration": 199,
    "start_time": "2022-10-07T04:53:11.844Z"
   },
   {
    "duration": 5,
    "start_time": "2022-10-07T04:53:12.045Z"
   },
   {
    "duration": 33,
    "start_time": "2022-10-07T04:53:12.052Z"
   },
   {
    "duration": 78,
    "start_time": "2022-10-07T04:53:12.087Z"
   },
   {
    "duration": 181,
    "start_time": "2022-10-07T04:53:12.167Z"
   },
   {
    "duration": 199,
    "start_time": "2022-10-07T04:53:12.436Z"
   },
   {
    "duration": 38,
    "start_time": "2022-10-07T04:53:12.637Z"
   },
   {
    "duration": 70,
    "start_time": "2022-10-07T04:53:12.677Z"
   },
   {
    "duration": 289,
    "start_time": "2022-10-07T04:53:12.748Z"
   },
   {
    "duration": 209,
    "start_time": "2022-10-07T04:53:13.039Z"
   },
   {
    "duration": 25,
    "start_time": "2022-10-07T04:53:13.250Z"
   },
   {
    "duration": 64,
    "start_time": "2022-10-07T04:53:13.277Z"
   },
   {
    "duration": 200,
    "start_time": "2022-10-07T04:53:13.342Z"
   },
   {
    "duration": 122,
    "start_time": "2022-10-07T04:53:13.544Z"
   },
   {
    "duration": 33,
    "start_time": "2022-10-07T05:08:51.343Z"
   },
   {
    "duration": 32,
    "start_time": "2022-10-07T05:08:57.316Z"
   },
   {
    "duration": 687,
    "start_time": "2022-10-07T05:12:03.969Z"
   },
   {
    "duration": 1349,
    "start_time": "2022-10-07T05:12:25.369Z"
   },
   {
    "duration": 1915,
    "start_time": "2022-10-07T05:14:41.674Z"
   },
   {
    "duration": 7634,
    "start_time": "2022-10-07T05:15:27.240Z"
   },
   {
    "duration": 49,
    "start_time": "2022-10-07T05:17:05.237Z"
   },
   {
    "duration": 52,
    "start_time": "2022-10-07T05:17:28.494Z"
   },
   {
    "duration": 114,
    "start_time": "2022-10-07T05:23:22.639Z"
   },
   {
    "duration": 1119,
    "start_time": "2022-10-07T05:24:33.809Z"
   },
   {
    "duration": 85,
    "start_time": "2022-10-07T05:24:34.930Z"
   },
   {
    "duration": 12,
    "start_time": "2022-10-07T05:24:35.016Z"
   },
   {
    "duration": 19,
    "start_time": "2022-10-07T05:24:35.030Z"
   },
   {
    "duration": 45,
    "start_time": "2022-10-07T05:24:35.052Z"
   },
   {
    "duration": 4,
    "start_time": "2022-10-07T05:24:35.099Z"
   },
   {
    "duration": 9,
    "start_time": "2022-10-07T05:24:35.105Z"
   },
   {
    "duration": 30,
    "start_time": "2022-10-07T05:24:35.115Z"
   },
   {
    "duration": 358,
    "start_time": "2022-10-07T05:24:35.147Z"
   },
   {
    "duration": 13,
    "start_time": "2022-10-07T05:24:35.506Z"
   },
   {
    "duration": 32,
    "start_time": "2022-10-07T05:24:35.521Z"
   },
   {
    "duration": 4,
    "start_time": "2022-10-07T05:24:35.555Z"
   },
   {
    "duration": 15,
    "start_time": "2022-10-07T05:24:35.560Z"
   },
   {
    "duration": 139,
    "start_time": "2022-10-07T05:24:35.578Z"
   },
   {
    "duration": 7864,
    "start_time": "2022-10-07T05:24:35.718Z"
   },
   {
    "duration": 63,
    "start_time": "2022-10-07T05:24:43.583Z"
   },
   {
    "duration": 125,
    "start_time": "2022-10-07T05:24:43.647Z"
   },
   {
    "duration": 0,
    "start_time": "2022-10-07T05:24:43.773Z"
   },
   {
    "duration": 0,
    "start_time": "2022-10-07T05:24:43.774Z"
   },
   {
    "duration": 0,
    "start_time": "2022-10-07T05:24:43.775Z"
   },
   {
    "duration": 0,
    "start_time": "2022-10-07T05:24:43.776Z"
   },
   {
    "duration": 0,
    "start_time": "2022-10-07T05:24:43.777Z"
   },
   {
    "duration": 0,
    "start_time": "2022-10-07T05:24:43.778Z"
   },
   {
    "duration": 0,
    "start_time": "2022-10-07T05:24:43.779Z"
   },
   {
    "duration": 0,
    "start_time": "2022-10-07T05:24:43.780Z"
   },
   {
    "duration": 0,
    "start_time": "2022-10-07T05:24:43.780Z"
   },
   {
    "duration": 0,
    "start_time": "2022-10-07T05:24:43.781Z"
   },
   {
    "duration": 0,
    "start_time": "2022-10-07T05:24:43.782Z"
   },
   {
    "duration": 0,
    "start_time": "2022-10-07T05:24:43.783Z"
   },
   {
    "duration": 0,
    "start_time": "2022-10-07T05:24:43.784Z"
   },
   {
    "duration": 0,
    "start_time": "2022-10-07T05:24:43.785Z"
   },
   {
    "duration": 0,
    "start_time": "2022-10-07T05:24:43.786Z"
   },
   {
    "duration": 0,
    "start_time": "2022-10-07T05:24:43.786Z"
   },
   {
    "duration": 0,
    "start_time": "2022-10-07T05:24:43.787Z"
   },
   {
    "duration": 1127,
    "start_time": "2022-10-07T05:27:25.348Z"
   },
   {
    "duration": 83,
    "start_time": "2022-10-07T05:27:26.477Z"
   },
   {
    "duration": 12,
    "start_time": "2022-10-07T05:27:26.561Z"
   },
   {
    "duration": 21,
    "start_time": "2022-10-07T05:27:26.575Z"
   },
   {
    "duration": 39,
    "start_time": "2022-10-07T05:27:26.598Z"
   },
   {
    "duration": 4,
    "start_time": "2022-10-07T05:27:26.639Z"
   },
   {
    "duration": 17,
    "start_time": "2022-10-07T05:27:26.645Z"
   },
   {
    "duration": 13,
    "start_time": "2022-10-07T05:27:26.663Z"
   },
   {
    "duration": 357,
    "start_time": "2022-10-07T05:27:26.678Z"
   },
   {
    "duration": 13,
    "start_time": "2022-10-07T05:27:27.037Z"
   },
   {
    "duration": 22,
    "start_time": "2022-10-07T05:27:27.052Z"
   },
   {
    "duration": 6,
    "start_time": "2022-10-07T05:27:27.075Z"
   },
   {
    "duration": 18,
    "start_time": "2022-10-07T05:27:27.082Z"
   },
   {
    "duration": 147,
    "start_time": "2022-10-07T05:27:27.104Z"
   },
   {
    "duration": 7522,
    "start_time": "2022-10-07T05:27:27.252Z"
   },
   {
    "duration": 61,
    "start_time": "2022-10-07T05:27:34.776Z"
   },
   {
    "duration": 0,
    "start_time": "2022-10-07T05:32:11.961Z"
   },
   {
    "duration": 0,
    "start_time": "2022-10-07T05:32:11.962Z"
   },
   {
    "duration": 0,
    "start_time": "2022-10-07T05:32:11.963Z"
   },
   {
    "duration": 0,
    "start_time": "2022-10-07T05:32:11.964Z"
   },
   {
    "duration": 0,
    "start_time": "2022-10-07T05:32:11.965Z"
   },
   {
    "duration": 0,
    "start_time": "2022-10-07T05:32:11.966Z"
   },
   {
    "duration": 0,
    "start_time": "2022-10-07T05:32:11.967Z"
   },
   {
    "duration": 0,
    "start_time": "2022-10-07T05:32:11.968Z"
   },
   {
    "duration": 0,
    "start_time": "2022-10-07T05:32:11.969Z"
   },
   {
    "duration": 0,
    "start_time": "2022-10-07T05:32:11.970Z"
   },
   {
    "duration": 0,
    "start_time": "2022-10-07T05:32:11.971Z"
   },
   {
    "duration": 0,
    "start_time": "2022-10-07T05:32:11.971Z"
   },
   {
    "duration": 0,
    "start_time": "2022-10-07T05:32:11.972Z"
   },
   {
    "duration": 0,
    "start_time": "2022-10-07T05:32:11.973Z"
   },
   {
    "duration": 0,
    "start_time": "2022-10-07T05:32:11.975Z"
   },
   {
    "duration": 0,
    "start_time": "2022-10-07T05:32:11.976Z"
   },
   {
    "duration": 0,
    "start_time": "2022-10-07T05:32:11.977Z"
   },
   {
    "duration": 0,
    "start_time": "2022-10-07T05:32:11.978Z"
   },
   {
    "duration": 0,
    "start_time": "2022-10-07T05:38:28.415Z"
   },
   {
    "duration": 20528,
    "start_time": "2022-10-07T05:44:33.198Z"
   },
   {
    "duration": 45667,
    "start_time": "2022-10-07T05:45:56.256Z"
   },
   {
    "duration": 1021,
    "start_time": "2022-10-07T05:51:44.468Z"
   },
   {
    "duration": 81,
    "start_time": "2022-10-07T05:51:45.491Z"
   },
   {
    "duration": 13,
    "start_time": "2022-10-07T05:51:45.573Z"
   },
   {
    "duration": 11,
    "start_time": "2022-10-07T05:51:45.587Z"
   },
   {
    "duration": 48,
    "start_time": "2022-10-07T05:51:45.600Z"
   },
   {
    "duration": 4,
    "start_time": "2022-10-07T05:51:45.650Z"
   },
   {
    "duration": 9,
    "start_time": "2022-10-07T05:51:45.655Z"
   },
   {
    "duration": 8,
    "start_time": "2022-10-07T05:51:45.666Z"
   },
   {
    "duration": 318,
    "start_time": "2022-10-07T05:51:45.675Z"
   },
   {
    "duration": 13,
    "start_time": "2022-10-07T05:51:45.995Z"
   },
   {
    "duration": 35,
    "start_time": "2022-10-07T05:51:46.009Z"
   },
   {
    "duration": 4,
    "start_time": "2022-10-07T05:51:46.046Z"
   },
   {
    "duration": 5,
    "start_time": "2022-10-07T05:51:46.051Z"
   },
   {
    "duration": 142,
    "start_time": "2022-10-07T05:51:46.059Z"
   },
   {
    "duration": 7822,
    "start_time": "2022-10-07T05:51:46.202Z"
   },
   {
    "duration": 54,
    "start_time": "2022-10-07T05:51:54.027Z"
   },
   {
    "duration": 45102,
    "start_time": "2022-10-07T05:51:54.083Z"
   },
   {
    "duration": 74,
    "start_time": "2022-10-07T05:52:39.187Z"
   },
   {
    "duration": 386,
    "start_time": "2022-10-07T05:52:39.262Z"
   },
   {
    "duration": 492,
    "start_time": "2022-10-07T05:52:39.650Z"
   },
   {
    "duration": 195,
    "start_time": "2022-10-07T05:52:40.144Z"
   },
   {
    "duration": 6,
    "start_time": "2022-10-07T05:52:40.340Z"
   },
   {
    "duration": 34,
    "start_time": "2022-10-07T05:52:40.348Z"
   },
   {
    "duration": 69,
    "start_time": "2022-10-07T05:52:40.384Z"
   },
   {
    "duration": 281,
    "start_time": "2022-10-07T05:52:40.454Z"
   },
   {
    "duration": 199,
    "start_time": "2022-10-07T05:52:40.737Z"
   },
   {
    "duration": 39,
    "start_time": "2022-10-07T05:52:40.938Z"
   },
   {
    "duration": 76,
    "start_time": "2022-10-07T05:52:40.978Z"
   },
   {
    "duration": 386,
    "start_time": "2022-10-07T05:52:41.056Z"
   },
   {
    "duration": 202,
    "start_time": "2022-10-07T05:52:41.444Z"
   },
   {
    "duration": 23,
    "start_time": "2022-10-07T05:52:41.647Z"
   },
   {
    "duration": 38,
    "start_time": "2022-10-07T05:52:41.671Z"
   },
   {
    "duration": 231,
    "start_time": "2022-10-07T05:52:41.711Z"
   },
   {
    "duration": 117,
    "start_time": "2022-10-07T05:52:41.944Z"
   },
   {
    "duration": 289,
    "start_time": "2022-10-07T05:53:46.682Z"
   },
   {
    "duration": 56402,
    "start_time": "2022-10-07T05:59:28.932Z"
   },
   {
    "duration": 595,
    "start_time": "2022-10-07T06:01:32.244Z"
   },
   {
    "duration": 121121,
    "start_time": "2022-10-07T06:01:52.921Z"
   },
   {
    "duration": 56,
    "start_time": "2022-10-07T06:10:53.451Z"
   },
   {
    "duration": 180,
    "start_time": "2022-10-07T06:11:01.563Z"
   },
   {
    "duration": 411501,
    "start_time": "2022-10-07T06:11:11.844Z"
   },
   {
    "duration": 60,
    "start_time": "2022-10-07T06:19:02.448Z"
   },
   {
    "duration": 302,
    "start_time": "2022-10-07T06:19:16.869Z"
   },
   {
    "duration": 118895,
    "start_time": "2022-10-07T06:19:31.945Z"
   },
   {
    "duration": 35,
    "start_time": "2022-10-07T06:23:29.847Z"
   },
   {
    "duration": 284,
    "start_time": "2022-10-07T06:25:09.223Z"
   },
   {
    "duration": 429,
    "start_time": "2022-10-07T06:29:08.105Z"
   },
   {
    "duration": 52,
    "start_time": "2022-10-07T06:38:07.979Z"
   },
   {
    "duration": 1072,
    "start_time": "2022-10-07T06:38:26.409Z"
   },
   {
    "duration": 118,
    "start_time": "2022-10-07T06:38:27.483Z"
   },
   {
    "duration": 13,
    "start_time": "2022-10-07T06:38:27.602Z"
   },
   {
    "duration": 11,
    "start_time": "2022-10-07T06:38:27.617Z"
   },
   {
    "duration": 34,
    "start_time": "2022-10-07T06:38:27.630Z"
   },
   {
    "duration": 6,
    "start_time": "2022-10-07T06:38:27.666Z"
   },
   {
    "duration": 37,
    "start_time": "2022-10-07T06:38:27.673Z"
   },
   {
    "duration": 6,
    "start_time": "2022-10-07T06:38:27.712Z"
   },
   {
    "duration": 531,
    "start_time": "2022-10-07T06:38:27.720Z"
   },
   {
    "duration": 20,
    "start_time": "2022-10-07T06:38:28.254Z"
   },
   {
    "duration": 38,
    "start_time": "2022-10-07T06:38:28.276Z"
   },
   {
    "duration": 5,
    "start_time": "2022-10-07T06:38:28.316Z"
   },
   {
    "duration": 6,
    "start_time": "2022-10-07T06:38:28.322Z"
   },
   {
    "duration": 143,
    "start_time": "2022-10-07T06:38:28.329Z"
   },
   {
    "duration": 8159,
    "start_time": "2022-10-07T06:38:28.474Z"
   },
   {
    "duration": 80,
    "start_time": "2022-10-07T06:38:36.634Z"
   },
   {
    "duration": 427677,
    "start_time": "2022-10-07T06:38:36.716Z"
   },
   {
    "duration": 361,
    "start_time": "2022-10-07T06:45:44.395Z"
   },
   {
    "duration": 90654,
    "start_time": "2022-10-07T06:45:44.758Z"
   },
   {
    "duration": 502,
    "start_time": "2022-10-07T06:47:15.413Z"
   },
   {
    "duration": 121,
    "start_time": "2022-10-07T06:47:15.916Z"
   },
   {
    "duration": 0,
    "start_time": "2022-10-07T06:47:16.039Z"
   },
   {
    "duration": 0,
    "start_time": "2022-10-07T06:47:16.040Z"
   },
   {
    "duration": 0,
    "start_time": "2022-10-07T06:47:16.041Z"
   },
   {
    "duration": 0,
    "start_time": "2022-10-07T06:47:16.042Z"
   },
   {
    "duration": 0,
    "start_time": "2022-10-07T06:47:16.043Z"
   },
   {
    "duration": 0,
    "start_time": "2022-10-07T06:47:16.044Z"
   },
   {
    "duration": 0,
    "start_time": "2022-10-07T06:47:16.045Z"
   },
   {
    "duration": 0,
    "start_time": "2022-10-07T06:47:16.046Z"
   },
   {
    "duration": 0,
    "start_time": "2022-10-07T06:47:16.047Z"
   },
   {
    "duration": 0,
    "start_time": "2022-10-07T06:47:16.048Z"
   },
   {
    "duration": 0,
    "start_time": "2022-10-07T06:47:16.049Z"
   },
   {
    "duration": 0,
    "start_time": "2022-10-07T06:47:16.050Z"
   },
   {
    "duration": 5,
    "start_time": "2022-10-07T06:48:17.081Z"
   },
   {
    "duration": 246,
    "start_time": "2022-10-07T06:48:55.609Z"
   },
   {
    "duration": 302,
    "start_time": "2022-10-07T06:49:08.810Z"
   },
   {
    "duration": 235,
    "start_time": "2022-10-07T06:49:17.791Z"
   },
   {
    "duration": 34,
    "start_time": "2022-10-07T06:49:49.105Z"
   },
   {
    "duration": 225,
    "start_time": "2022-10-07T06:49:53.491Z"
   },
   {
    "duration": 275,
    "start_time": "2022-10-07T06:50:01.042Z"
   },
   {
    "duration": 101,
    "start_time": "2022-10-07T06:51:32.450Z"
   },
   {
    "duration": 45,
    "start_time": "2022-10-07T06:54:04.271Z"
   },
   {
    "duration": 305,
    "start_time": "2022-10-07T06:55:04.942Z"
   },
   {
    "duration": 45,
    "start_time": "2022-10-07T07:00:48.053Z"
   },
   {
    "duration": 45,
    "start_time": "2022-10-07T07:04:19.765Z"
   },
   {
    "duration": 160,
    "start_time": "2022-10-07T07:04:40.457Z"
   },
   {
    "duration": 185,
    "start_time": "2022-10-07T07:05:00.134Z"
   },
   {
    "duration": 45,
    "start_time": "2022-10-07T07:08:09.917Z"
   },
   {
    "duration": 47,
    "start_time": "2022-10-07T07:09:30.936Z"
   },
   {
    "duration": 38,
    "start_time": "2022-10-07T07:09:45.684Z"
   },
   {
    "duration": 46,
    "start_time": "2022-10-07T07:11:18.755Z"
   },
   {
    "duration": 45,
    "start_time": "2022-10-07T07:11:26.641Z"
   },
   {
    "duration": 42,
    "start_time": "2022-10-07T07:11:39.011Z"
   },
   {
    "duration": 325,
    "start_time": "2022-10-07T07:11:56.508Z"
   },
   {
    "duration": 298,
    "start_time": "2022-10-07T07:12:02.918Z"
   },
   {
    "duration": 139,
    "start_time": "2022-10-07T07:12:08.875Z"
   },
   {
    "duration": 174,
    "start_time": "2022-10-07T07:12:15.937Z"
   },
   {
    "duration": 92,
    "start_time": "2022-10-07T07:13:56.637Z"
   },
   {
    "duration": 22,
    "start_time": "2022-10-07T07:14:01.807Z"
   },
   {
    "duration": 35,
    "start_time": "2022-10-07T07:14:04.943Z"
   },
   {
    "duration": 109,
    "start_time": "2022-10-07T07:14:53.101Z"
   },
   {
    "duration": 44,
    "start_time": "2022-10-07T07:15:05.772Z"
   },
   {
    "duration": 233,
    "start_time": "2022-10-07T07:16:18.677Z"
   },
   {
    "duration": 27,
    "start_time": "2022-10-07T07:19:34.662Z"
   },
   {
    "duration": 100,
    "start_time": "2022-10-07T07:20:13.437Z"
   },
   {
    "duration": 12,
    "start_time": "2022-10-07T07:21:33.724Z"
   },
   {
    "duration": 38,
    "start_time": "2022-10-07T07:22:23.549Z"
   },
   {
    "duration": 254,
    "start_time": "2022-10-07T07:23:40.180Z"
   },
   {
    "duration": 218,
    "start_time": "2022-10-07T07:26:01.003Z"
   },
   {
    "duration": 1108,
    "start_time": "2022-10-07T07:35:02.944Z"
   },
   {
    "duration": 82,
    "start_time": "2022-10-07T07:35:04.054Z"
   },
   {
    "duration": 12,
    "start_time": "2022-10-07T07:35:04.137Z"
   },
   {
    "duration": 10,
    "start_time": "2022-10-07T07:35:04.150Z"
   },
   {
    "duration": 47,
    "start_time": "2022-10-07T07:35:04.162Z"
   },
   {
    "duration": 4,
    "start_time": "2022-10-07T07:35:04.210Z"
   },
   {
    "duration": 15,
    "start_time": "2022-10-07T07:35:04.216Z"
   },
   {
    "duration": 10,
    "start_time": "2022-10-07T07:35:04.233Z"
   },
   {
    "duration": 402,
    "start_time": "2022-10-07T07:35:04.244Z"
   },
   {
    "duration": 15,
    "start_time": "2022-10-07T07:35:04.648Z"
   },
   {
    "duration": 29,
    "start_time": "2022-10-07T07:35:04.665Z"
   },
   {
    "duration": 6,
    "start_time": "2022-10-07T07:35:04.708Z"
   },
   {
    "duration": 8,
    "start_time": "2022-10-07T07:35:04.716Z"
   },
   {
    "duration": 142,
    "start_time": "2022-10-07T07:35:04.726Z"
   },
   {
    "duration": 8299,
    "start_time": "2022-10-07T07:35:04.871Z"
   },
   {
    "duration": 55,
    "start_time": "2022-10-07T07:35:13.171Z"
   },
   {
    "duration": 1213,
    "start_time": "2022-10-07T07:41:12.516Z"
   },
   {
    "duration": 79,
    "start_time": "2022-10-07T07:41:13.731Z"
   },
   {
    "duration": 11,
    "start_time": "2022-10-07T07:41:13.812Z"
   },
   {
    "duration": 10,
    "start_time": "2022-10-07T07:41:13.824Z"
   },
   {
    "duration": 40,
    "start_time": "2022-10-07T07:41:13.837Z"
   },
   {
    "duration": 5,
    "start_time": "2022-10-07T07:41:13.878Z"
   },
   {
    "duration": 27,
    "start_time": "2022-10-07T07:41:13.885Z"
   },
   {
    "duration": 7,
    "start_time": "2022-10-07T07:41:13.913Z"
   },
   {
    "duration": 319,
    "start_time": "2022-10-07T07:41:13.922Z"
   },
   {
    "duration": 12,
    "start_time": "2022-10-07T07:41:14.242Z"
   },
   {
    "duration": 21,
    "start_time": "2022-10-07T07:41:14.256Z"
   },
   {
    "duration": 4,
    "start_time": "2022-10-07T07:41:14.279Z"
   },
   {
    "duration": 25,
    "start_time": "2022-10-07T07:41:14.285Z"
   },
   {
    "duration": 159,
    "start_time": "2022-10-07T07:41:14.312Z"
   },
   {
    "duration": 8183,
    "start_time": "2022-10-07T07:41:14.475Z"
   },
   {
    "duration": 58,
    "start_time": "2022-10-07T07:41:22.660Z"
   },
   {
    "duration": 428853,
    "start_time": "2022-10-07T07:41:22.719Z"
   },
   {
    "duration": 243,
    "start_time": "2022-10-07T07:48:31.573Z"
   },
   {
    "duration": 97394,
    "start_time": "2022-10-07T07:48:31.817Z"
   },
   {
    "duration": 506,
    "start_time": "2022-10-07T07:50:09.213Z"
   },
   {
    "duration": 7,
    "start_time": "2022-10-07T07:50:09.721Z"
   },
   {
    "duration": 39,
    "start_time": "2022-10-07T07:50:09.730Z"
   },
   {
    "duration": 275,
    "start_time": "2022-10-07T07:50:09.771Z"
   },
   {
    "duration": 563,
    "start_time": "2022-10-07T07:50:10.048Z"
   },
   {
    "duration": 186,
    "start_time": "2022-10-07T07:50:10.614Z"
   },
   {
    "duration": 279,
    "start_time": "2022-10-07T07:50:10.809Z"
   },
   {
    "duration": 1521,
    "start_time": "2022-10-07T07:50:11.090Z"
   },
   {
    "duration": 1110,
    "start_time": "2022-10-07T07:50:12.612Z"
   },
   {
    "duration": 127,
    "start_time": "2022-10-07T07:50:13.809Z"
   },
   {
    "duration": 25,
    "start_time": "2022-10-07T07:50:13.938Z"
   },
   {
    "duration": 126,
    "start_time": "2022-10-07T07:50:13.965Z"
   },
   {
    "duration": 321,
    "start_time": "2022-10-07T07:50:14.092Z"
   },
   {
    "duration": 377,
    "start_time": "2022-10-07T07:50:14.414Z"
   },
   {
    "duration": 263,
    "start_time": "2022-10-07T08:00:25.187Z"
   },
   {
    "duration": 1115,
    "start_time": "2022-10-07T09:59:57.793Z"
   },
   {
    "duration": 215,
    "start_time": "2022-10-07T09:59:58.910Z"
   },
   {
    "duration": 12,
    "start_time": "2022-10-07T09:59:59.126Z"
   },
   {
    "duration": 10,
    "start_time": "2022-10-07T09:59:59.141Z"
   },
   {
    "duration": 43,
    "start_time": "2022-10-07T09:59:59.153Z"
   },
   {
    "duration": 4,
    "start_time": "2022-10-07T09:59:59.198Z"
   },
   {
    "duration": 9,
    "start_time": "2022-10-07T09:59:59.204Z"
   },
   {
    "duration": 6,
    "start_time": "2022-10-07T09:59:59.215Z"
   },
   {
    "duration": 506,
    "start_time": "2022-10-07T09:59:59.223Z"
   },
   {
    "duration": 14,
    "start_time": "2022-10-07T09:59:59.732Z"
   },
   {
    "duration": 23,
    "start_time": "2022-10-07T09:59:59.747Z"
   },
   {
    "duration": 26,
    "start_time": "2022-10-07T09:59:59.772Z"
   },
   {
    "duration": 6,
    "start_time": "2022-10-07T09:59:59.799Z"
   },
   {
    "duration": 146,
    "start_time": "2022-10-07T09:59:59.806Z"
   },
   {
    "duration": 8001,
    "start_time": "2022-10-07T09:59:59.953Z"
   },
   {
    "duration": 63,
    "start_time": "2022-10-07T10:00:07.955Z"
   },
   {
    "duration": 408649,
    "start_time": "2022-10-07T10:00:08.020Z"
   },
   {
    "duration": 257,
    "start_time": "2022-10-07T10:06:56.671Z"
   },
   {
    "duration": 95266,
    "start_time": "2022-10-07T10:06:56.930Z"
   },
   {
    "duration": 596,
    "start_time": "2022-10-07T10:08:32.200Z"
   },
   {
    "duration": 6,
    "start_time": "2022-10-07T10:08:32.798Z"
   },
   {
    "duration": 47,
    "start_time": "2022-10-07T10:08:32.805Z"
   },
   {
    "duration": 230,
    "start_time": "2022-10-07T10:08:32.854Z"
   },
   {
    "duration": 411,
    "start_time": "2022-10-07T10:08:33.085Z"
   },
   {
    "duration": 170,
    "start_time": "2022-10-07T10:08:33.498Z"
   },
   {
    "duration": 55,
    "start_time": "2022-10-07T10:08:33.670Z"
   },
   {
    "duration": 305,
    "start_time": "2022-10-07T10:08:33.726Z"
   },
   {
    "duration": 562,
    "start_time": "2022-10-07T10:08:34.034Z"
   },
   {
    "duration": 108,
    "start_time": "2022-10-07T10:08:34.597Z"
   },
   {
    "duration": 23,
    "start_time": "2022-10-07T10:08:34.706Z"
   },
   {
    "duration": 129,
    "start_time": "2022-10-07T10:08:34.731Z"
   },
   {
    "duration": 240,
    "start_time": "2022-10-07T10:08:34.862Z"
   },
   {
    "duration": 213,
    "start_time": "2022-10-07T10:08:35.195Z"
   },
   {
    "duration": 45,
    "start_time": "2022-10-07T11:57:45.118Z"
   },
   {
    "duration": 7,
    "start_time": "2022-10-07T11:59:04.008Z"
   },
   {
    "duration": 1081,
    "start_time": "2022-10-07T11:59:28.685Z"
   },
   {
    "duration": 119,
    "start_time": "2022-10-07T11:59:29.768Z"
   },
   {
    "duration": 12,
    "start_time": "2022-10-07T11:59:29.888Z"
   },
   {
    "duration": 11,
    "start_time": "2022-10-07T11:59:29.902Z"
   },
   {
    "duration": 42,
    "start_time": "2022-10-07T11:59:29.915Z"
   },
   {
    "duration": 5,
    "start_time": "2022-10-07T11:59:29.958Z"
   },
   {
    "duration": 13,
    "start_time": "2022-10-07T11:59:29.964Z"
   },
   {
    "duration": 25,
    "start_time": "2022-10-07T11:59:29.978Z"
   },
   {
    "duration": 540,
    "start_time": "2022-10-07T11:59:30.005Z"
   },
   {
    "duration": 13,
    "start_time": "2022-10-07T11:59:30.546Z"
   },
   {
    "duration": 42,
    "start_time": "2022-10-07T11:59:30.560Z"
   },
   {
    "duration": 38,
    "start_time": "2022-10-07T11:59:30.604Z"
   },
   {
    "duration": 18,
    "start_time": "2022-10-07T11:59:30.644Z"
   },
   {
    "duration": 163,
    "start_time": "2022-10-07T11:59:30.665Z"
   },
   {
    "duration": 7529,
    "start_time": "2022-10-07T11:59:30.829Z"
   },
   {
    "duration": 61,
    "start_time": "2022-10-07T11:59:38.360Z"
   },
   {
    "duration": 399832,
    "start_time": "2022-10-07T11:59:38.422Z"
   },
   {
    "duration": 227,
    "start_time": "2022-10-07T12:06:18.255Z"
   },
   {
    "duration": 105631,
    "start_time": "2022-10-07T12:06:18.484Z"
   },
   {
    "duration": 611,
    "start_time": "2022-10-07T12:08:04.201Z"
   },
   {
    "duration": 6,
    "start_time": "2022-10-07T12:08:04.813Z"
   },
   {
    "duration": 38,
    "start_time": "2022-10-07T12:08:04.821Z"
   },
   {
    "duration": 249,
    "start_time": "2022-10-07T12:08:04.861Z"
   },
   {
    "duration": 292,
    "start_time": "2022-10-07T12:08:05.111Z"
   },
   {
    "duration": 198,
    "start_time": "2022-10-07T12:08:05.404Z"
   },
   {
    "duration": 37,
    "start_time": "2022-10-07T12:08:05.603Z"
   },
   {
    "duration": 306,
    "start_time": "2022-10-07T12:08:05.641Z"
   },
   {
    "duration": 455,
    "start_time": "2022-10-07T12:08:05.949Z"
   },
   {
    "duration": 197,
    "start_time": "2022-10-07T12:08:06.405Z"
   },
   {
    "duration": 23,
    "start_time": "2022-10-07T12:08:06.604Z"
   },
   {
    "duration": 117,
    "start_time": "2022-10-07T12:08:06.628Z"
   },
   {
    "duration": 253,
    "start_time": "2022-10-07T12:08:06.747Z"
   },
   {
    "duration": 308,
    "start_time": "2022-10-07T12:08:07.002Z"
   },
   {
    "duration": 473,
    "start_time": "2022-10-07T12:31:51.543Z"
   },
   {
    "duration": 46,
    "start_time": "2022-10-07T12:34:03.845Z"
   },
   {
    "duration": 47,
    "start_time": "2022-10-07T12:37:52.073Z"
   },
   {
    "duration": 217,
    "start_time": "2022-10-07T12:38:50.442Z"
   },
   {
    "duration": 474,
    "start_time": "2022-10-07T12:39:54.142Z"
   },
   {
    "duration": 53,
    "start_time": "2022-10-07T12:41:59.037Z"
   },
   {
    "duration": 287,
    "start_time": "2022-10-07T12:43:32.271Z"
   },
   {
    "duration": 540,
    "start_time": "2022-10-07T12:44:27.763Z"
   },
   {
    "duration": 499,
    "start_time": "2022-10-07T12:44:55.502Z"
   },
   {
    "duration": 337,
    "start_time": "2022-10-07T12:46:29.373Z"
   },
   {
    "duration": 478,
    "start_time": "2022-10-07T12:46:41.925Z"
   },
   {
    "duration": 46,
    "start_time": "2022-10-07T12:47:41.025Z"
   },
   {
    "duration": 46,
    "start_time": "2022-10-07T12:54:29.269Z"
   },
   {
    "duration": 257,
    "start_time": "2022-10-07T12:56:24.260Z"
   },
   {
    "duration": 535,
    "start_time": "2022-10-07T12:56:59.974Z"
   },
   {
    "duration": 48,
    "start_time": "2022-10-07T13:01:52.451Z"
   },
   {
    "duration": 57,
    "start_time": "2022-10-07T13:02:28.648Z"
   },
   {
    "duration": 353,
    "start_time": "2022-10-07T13:04:36.965Z"
   },
   {
    "duration": 340,
    "start_time": "2022-10-07T13:05:25.934Z"
   },
   {
    "duration": 512,
    "start_time": "2022-10-07T13:07:29.990Z"
   },
   {
    "duration": 125,
    "start_time": "2022-10-07T13:08:29.403Z"
   },
   {
    "duration": 101,
    "start_time": "2022-10-07T13:08:37.620Z"
   },
   {
    "duration": 133,
    "start_time": "2022-10-07T13:08:41.716Z"
   },
   {
    "duration": 198,
    "start_time": "2022-10-07T13:10:51.316Z"
   },
   {
    "duration": 130,
    "start_time": "2022-10-07T13:11:21.373Z"
   },
   {
    "duration": 1044,
    "start_time": "2022-10-07T13:11:42.285Z"
   },
   {
    "duration": 39,
    "start_time": "2022-10-07T13:12:59.564Z"
   },
   {
    "duration": 150,
    "start_time": "2022-10-07T13:14:38.187Z"
   },
   {
    "duration": 233,
    "start_time": "2022-10-07T13:17:02.677Z"
   },
   {
    "duration": 260,
    "start_time": "2022-10-07T13:21:15.168Z"
   },
   {
    "duration": 591,
    "start_time": "2022-10-07T13:21:53.124Z"
   },
   {
    "duration": 253,
    "start_time": "2022-10-07T13:22:49.840Z"
   },
   {
    "duration": 749,
    "start_time": "2022-10-07T13:23:14.662Z"
   },
   {
    "duration": 1104,
    "start_time": "2022-10-07T13:26:45.671Z"
   },
   {
    "duration": 84,
    "start_time": "2022-10-07T13:26:46.777Z"
   },
   {
    "duration": 11,
    "start_time": "2022-10-07T13:26:46.863Z"
   },
   {
    "duration": 16,
    "start_time": "2022-10-07T13:26:46.876Z"
   },
   {
    "duration": 37,
    "start_time": "2022-10-07T13:26:46.894Z"
   },
   {
    "duration": 4,
    "start_time": "2022-10-07T13:26:46.933Z"
   },
   {
    "duration": 5,
    "start_time": "2022-10-07T13:26:46.939Z"
   },
   {
    "duration": 7,
    "start_time": "2022-10-07T13:26:46.946Z"
   },
   {
    "duration": 307,
    "start_time": "2022-10-07T13:26:46.954Z"
   },
   {
    "duration": 15,
    "start_time": "2022-10-07T13:26:47.263Z"
   },
   {
    "duration": 32,
    "start_time": "2022-10-07T13:26:47.279Z"
   },
   {
    "duration": 33,
    "start_time": "2022-10-07T13:26:47.312Z"
   },
   {
    "duration": 2,
    "start_time": "2022-10-07T13:26:47.346Z"
   },
   {
    "duration": 134,
    "start_time": "2022-10-07T13:26:47.349Z"
   },
   {
    "duration": 7525,
    "start_time": "2022-10-07T13:26:47.485Z"
   },
   {
    "duration": 47,
    "start_time": "2022-10-07T13:26:55.012Z"
   },
   {
    "duration": 1116,
    "start_time": "2022-10-07T14:13:02.076Z"
   },
   {
    "duration": 77,
    "start_time": "2022-10-07T14:13:03.194Z"
   },
   {
    "duration": 14,
    "start_time": "2022-10-07T14:13:03.272Z"
   },
   {
    "duration": 10,
    "start_time": "2022-10-07T14:13:03.289Z"
   },
   {
    "duration": 40,
    "start_time": "2022-10-07T14:13:03.301Z"
   },
   {
    "duration": 5,
    "start_time": "2022-10-07T14:13:03.342Z"
   },
   {
    "duration": 32,
    "start_time": "2022-10-07T14:13:03.348Z"
   },
   {
    "duration": 25,
    "start_time": "2022-10-07T14:13:03.381Z"
   },
   {
    "duration": 340,
    "start_time": "2022-10-07T14:13:03.408Z"
   },
   {
    "duration": 11,
    "start_time": "2022-10-07T14:13:03.751Z"
   },
   {
    "duration": 35,
    "start_time": "2022-10-07T14:13:03.763Z"
   },
   {
    "duration": 41,
    "start_time": "2022-10-07T14:13:03.800Z"
   },
   {
    "duration": 2,
    "start_time": "2022-10-07T14:13:03.843Z"
   },
   {
    "duration": 122,
    "start_time": "2022-10-07T14:13:03.846Z"
   },
   {
    "duration": 7383,
    "start_time": "2022-10-07T14:13:03.970Z"
   },
   {
    "duration": 58,
    "start_time": "2022-10-07T14:13:11.354Z"
   },
   {
    "duration": 394809,
    "start_time": "2022-10-07T14:13:11.414Z"
   },
   {
    "duration": 265,
    "start_time": "2022-10-07T14:19:46.224Z"
   },
   {
    "duration": 98516,
    "start_time": "2022-10-07T14:19:46.491Z"
   },
   {
    "duration": 696,
    "start_time": "2022-10-07T14:21:25.009Z"
   },
   {
    "duration": 5,
    "start_time": "2022-10-07T14:21:25.707Z"
   },
   {
    "duration": 45,
    "start_time": "2022-10-07T14:21:25.714Z"
   },
   {
    "duration": 271,
    "start_time": "2022-10-07T14:21:25.761Z"
   },
   {
    "duration": 469,
    "start_time": "2022-10-07T14:21:26.035Z"
   },
   {
    "duration": 138,
    "start_time": "2022-10-07T14:21:26.506Z"
   },
   {
    "duration": 69,
    "start_time": "2022-10-07T14:21:26.646Z"
   },
   {
    "duration": 347,
    "start_time": "2022-10-07T14:21:26.717Z"
   },
   {
    "duration": 742,
    "start_time": "2022-10-07T14:21:27.067Z"
   },
   {
    "duration": 103,
    "start_time": "2022-10-07T14:21:27.810Z"
   },
   {
    "duration": 33,
    "start_time": "2022-10-07T14:21:27.915Z"
   },
   {
    "duration": 166,
    "start_time": "2022-10-07T14:21:27.949Z"
   },
   {
    "duration": 484,
    "start_time": "2022-10-07T14:21:28.117Z"
   },
   {
    "duration": 214,
    "start_time": "2022-10-07T14:21:28.603Z"
   },
   {
    "duration": 215,
    "start_time": "2022-10-07T14:33:30.945Z"
   },
   {
    "duration": 1489,
    "start_time": "2022-10-07T21:14:30.884Z"
   },
   {
    "duration": 560,
    "start_time": "2022-10-07T21:14:32.376Z"
   },
   {
    "duration": 21,
    "start_time": "2022-10-07T21:14:32.939Z"
   },
   {
    "duration": 18,
    "start_time": "2022-10-07T21:14:32.964Z"
   },
   {
    "duration": 55,
    "start_time": "2022-10-07T21:14:32.991Z"
   },
   {
    "duration": 7,
    "start_time": "2022-10-07T21:14:33.049Z"
   },
   {
    "duration": 18,
    "start_time": "2022-10-07T21:14:33.057Z"
   },
   {
    "duration": 22,
    "start_time": "2022-10-07T21:14:33.093Z"
   },
   {
    "duration": 740,
    "start_time": "2022-10-07T21:14:33.118Z"
   },
   {
    "duration": 38,
    "start_time": "2022-10-07T21:14:33.863Z"
   },
   {
    "duration": 38,
    "start_time": "2022-10-07T21:14:33.906Z"
   },
   {
    "duration": 77,
    "start_time": "2022-10-07T21:14:33.946Z"
   },
   {
    "duration": 3,
    "start_time": "2022-10-07T21:14:34.026Z"
   },
   {
    "duration": 177,
    "start_time": "2022-10-07T21:14:34.032Z"
   },
   {
    "duration": 11535,
    "start_time": "2022-10-07T21:14:34.211Z"
   },
   {
    "duration": 93,
    "start_time": "2022-10-07T21:14:45.748Z"
   },
   {
    "duration": 578394,
    "start_time": "2022-10-07T21:14:45.846Z"
   },
   {
    "duration": 343,
    "start_time": "2022-10-07T21:24:24.243Z"
   },
   {
    "duration": 199128,
    "start_time": "2022-10-07T21:24:24.592Z"
   },
   {
    "duration": 809,
    "start_time": "2022-10-07T21:27:43.788Z"
   },
   {
    "duration": 7,
    "start_time": "2022-10-07T21:27:44.613Z"
   },
   {
    "duration": 64,
    "start_time": "2022-10-07T21:27:44.622Z"
   },
   {
    "duration": 340,
    "start_time": "2022-10-07T21:27:44.690Z"
   },
   {
    "duration": 1373,
    "start_time": "2022-10-07T21:27:45.033Z"
   },
   {
    "duration": 141,
    "start_time": "2022-10-07T21:27:46.411Z"
   },
   {
    "duration": 104,
    "start_time": "2022-10-07T21:27:46.554Z"
   },
   {
    "duration": 479,
    "start_time": "2022-10-07T21:27:46.660Z"
   },
   {
    "duration": 1146,
    "start_time": "2022-10-07T21:27:47.144Z"
   },
   {
    "duration": 180,
    "start_time": "2022-10-07T21:27:48.292Z"
   },
   {
    "duration": 59,
    "start_time": "2022-10-07T21:27:48.474Z"
   },
   {
    "duration": 250,
    "start_time": "2022-10-07T21:27:48.535Z"
   },
   {
    "duration": 1020,
    "start_time": "2022-10-07T21:27:48.790Z"
   },
   {
    "duration": 366,
    "start_time": "2022-10-07T21:27:49.817Z"
   }
  ],
  "kernelspec": {
   "display_name": "Python 3 (ipykernel)",
   "language": "python",
   "name": "python3"
  },
  "language_info": {
   "codemirror_mode": {
    "name": "ipython",
    "version": 3
   },
   "file_extension": ".py",
   "mimetype": "text/x-python",
   "name": "python",
   "nbconvert_exporter": "python",
   "pygments_lexer": "ipython3",
   "version": "3.10.9"
  },
  "toc": {
   "base_numbering": 1,
   "nav_menu": {},
   "number_sections": true,
   "sideBar": true,
   "skip_h1_title": true,
   "title_cell": "Содержание",
   "title_sidebar": "Contents",
   "toc_cell": true,
   "toc_position": {
    "height": "calc(100% - 180px)",
    "left": "10px",
    "top": "150px",
    "width": "181.797px"
   },
   "toc_section_display": true,
   "toc_window_display": true
  }
 },
 "nbformat": 4,
 "nbformat_minor": 2
}
