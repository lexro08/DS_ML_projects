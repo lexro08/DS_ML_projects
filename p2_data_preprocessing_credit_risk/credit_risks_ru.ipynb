{
 "cells": [
  {
   "cell_type": "markdown",
   "id": "b37f0cad",
   "metadata": {},
   "source": [
    "# Исследование надежности заемщиков.\n",
    "\n",
    "Кредитный отдел банка проводит подготовительные работы по разработке модели *кредитного скоринга* - специальной системы, которая оценивает способность потенциального заёмщика вернуть кредит банку.\n",
    "\n",
    "В качетве одного из базисов кредитный отдел хочет учитывать ряд факторов, таких как семейное положение и количество детей у заемщика.\n",
    "\n",
    "**Цель исследования** - проверить  гипотезу о влиянии семейного положения и количества детей клиента на факт погашения кредита в срок.\n",
    "\n",
    "\n"
   ]
  },
  {
   "cell_type": "markdown",
   "id": "adc7fb3b",
   "metadata": {},
   "source": [
    "### Шаг 1. Обзор данных"
   ]
  },
  {
   "cell_type": "markdown",
   "id": "8ec47223",
   "metadata": {},
   "source": [
    "Ознакомимся с таблицей на данном этапе. Для начала применим библиотеку Pandas для вывода данных. Для начала ознакомимся с первыми 15-ю строками таблицы"
   ]
  },
  {
   "cell_type": "code",
   "execution_count": 1,
   "id": "7ba8775b",
   "metadata": {},
   "outputs": [],
   "source": [
    "import pandas as pd"
   ]
  },
  {
   "cell_type": "code",
   "execution_count": 2,
   "id": "e6526409",
   "metadata": {
    "scrolled": false
   },
   "outputs": [
    {
     "data": {
      "text/html": [
       "<div>\n",
       "<style scoped>\n",
       "    .dataframe tbody tr th:only-of-type {\n",
       "        vertical-align: middle;\n",
       "    }\n",
       "\n",
       "    .dataframe tbody tr th {\n",
       "        vertical-align: top;\n",
       "    }\n",
       "\n",
       "    .dataframe thead th {\n",
       "        text-align: right;\n",
       "    }\n",
       "</style>\n",
       "<table border=\"1\" class=\"dataframe\">\n",
       "  <thead>\n",
       "    <tr style=\"text-align: right;\">\n",
       "      <th></th>\n",
       "      <th>children</th>\n",
       "      <th>days_employed</th>\n",
       "      <th>dob_years</th>\n",
       "      <th>education</th>\n",
       "      <th>education_id</th>\n",
       "      <th>family_status</th>\n",
       "      <th>family_status_id</th>\n",
       "      <th>gender</th>\n",
       "      <th>income_type</th>\n",
       "      <th>debt</th>\n",
       "      <th>total_income</th>\n",
       "      <th>purpose</th>\n",
       "    </tr>\n",
       "  </thead>\n",
       "  <tbody>\n",
       "    <tr>\n",
       "      <th>0</th>\n",
       "      <td>1</td>\n",
       "      <td>-8437.673028</td>\n",
       "      <td>42</td>\n",
       "      <td>высшее</td>\n",
       "      <td>0</td>\n",
       "      <td>женат / замужем</td>\n",
       "      <td>0</td>\n",
       "      <td>F</td>\n",
       "      <td>сотрудник</td>\n",
       "      <td>0</td>\n",
       "      <td>253875.639453</td>\n",
       "      <td>покупка жилья</td>\n",
       "    </tr>\n",
       "    <tr>\n",
       "      <th>1</th>\n",
       "      <td>1</td>\n",
       "      <td>-4024.803754</td>\n",
       "      <td>36</td>\n",
       "      <td>среднее</td>\n",
       "      <td>1</td>\n",
       "      <td>женат / замужем</td>\n",
       "      <td>0</td>\n",
       "      <td>F</td>\n",
       "      <td>сотрудник</td>\n",
       "      <td>0</td>\n",
       "      <td>112080.014102</td>\n",
       "      <td>приобретение автомобиля</td>\n",
       "    </tr>\n",
       "    <tr>\n",
       "      <th>2</th>\n",
       "      <td>0</td>\n",
       "      <td>-5623.422610</td>\n",
       "      <td>33</td>\n",
       "      <td>Среднее</td>\n",
       "      <td>1</td>\n",
       "      <td>женат / замужем</td>\n",
       "      <td>0</td>\n",
       "      <td>M</td>\n",
       "      <td>сотрудник</td>\n",
       "      <td>0</td>\n",
       "      <td>145885.952297</td>\n",
       "      <td>покупка жилья</td>\n",
       "    </tr>\n",
       "    <tr>\n",
       "      <th>3</th>\n",
       "      <td>3</td>\n",
       "      <td>-4124.747207</td>\n",
       "      <td>32</td>\n",
       "      <td>среднее</td>\n",
       "      <td>1</td>\n",
       "      <td>женат / замужем</td>\n",
       "      <td>0</td>\n",
       "      <td>M</td>\n",
       "      <td>сотрудник</td>\n",
       "      <td>0</td>\n",
       "      <td>267628.550329</td>\n",
       "      <td>дополнительное образование</td>\n",
       "    </tr>\n",
       "    <tr>\n",
       "      <th>4</th>\n",
       "      <td>0</td>\n",
       "      <td>340266.072047</td>\n",
       "      <td>53</td>\n",
       "      <td>среднее</td>\n",
       "      <td>1</td>\n",
       "      <td>гражданский брак</td>\n",
       "      <td>1</td>\n",
       "      <td>F</td>\n",
       "      <td>пенсионер</td>\n",
       "      <td>0</td>\n",
       "      <td>158616.077870</td>\n",
       "      <td>сыграть свадьбу</td>\n",
       "    </tr>\n",
       "    <tr>\n",
       "      <th>5</th>\n",
       "      <td>0</td>\n",
       "      <td>-926.185831</td>\n",
       "      <td>27</td>\n",
       "      <td>высшее</td>\n",
       "      <td>0</td>\n",
       "      <td>гражданский брак</td>\n",
       "      <td>1</td>\n",
       "      <td>M</td>\n",
       "      <td>компаньон</td>\n",
       "      <td>0</td>\n",
       "      <td>255763.565419</td>\n",
       "      <td>покупка жилья</td>\n",
       "    </tr>\n",
       "    <tr>\n",
       "      <th>6</th>\n",
       "      <td>0</td>\n",
       "      <td>-2879.202052</td>\n",
       "      <td>43</td>\n",
       "      <td>высшее</td>\n",
       "      <td>0</td>\n",
       "      <td>женат / замужем</td>\n",
       "      <td>0</td>\n",
       "      <td>F</td>\n",
       "      <td>компаньон</td>\n",
       "      <td>0</td>\n",
       "      <td>240525.971920</td>\n",
       "      <td>операции с жильем</td>\n",
       "    </tr>\n",
       "    <tr>\n",
       "      <th>7</th>\n",
       "      <td>0</td>\n",
       "      <td>-152.779569</td>\n",
       "      <td>50</td>\n",
       "      <td>СРЕДНЕЕ</td>\n",
       "      <td>1</td>\n",
       "      <td>женат / замужем</td>\n",
       "      <td>0</td>\n",
       "      <td>M</td>\n",
       "      <td>сотрудник</td>\n",
       "      <td>0</td>\n",
       "      <td>135823.934197</td>\n",
       "      <td>образование</td>\n",
       "    </tr>\n",
       "    <tr>\n",
       "      <th>8</th>\n",
       "      <td>2</td>\n",
       "      <td>-6929.865299</td>\n",
       "      <td>35</td>\n",
       "      <td>ВЫСШЕЕ</td>\n",
       "      <td>0</td>\n",
       "      <td>гражданский брак</td>\n",
       "      <td>1</td>\n",
       "      <td>F</td>\n",
       "      <td>сотрудник</td>\n",
       "      <td>0</td>\n",
       "      <td>95856.832424</td>\n",
       "      <td>на проведение свадьбы</td>\n",
       "    </tr>\n",
       "    <tr>\n",
       "      <th>9</th>\n",
       "      <td>0</td>\n",
       "      <td>-2188.756445</td>\n",
       "      <td>41</td>\n",
       "      <td>среднее</td>\n",
       "      <td>1</td>\n",
       "      <td>женат / замужем</td>\n",
       "      <td>0</td>\n",
       "      <td>M</td>\n",
       "      <td>сотрудник</td>\n",
       "      <td>0</td>\n",
       "      <td>144425.938277</td>\n",
       "      <td>покупка жилья для семьи</td>\n",
       "    </tr>\n",
       "    <tr>\n",
       "      <th>10</th>\n",
       "      <td>2</td>\n",
       "      <td>-4171.483647</td>\n",
       "      <td>36</td>\n",
       "      <td>высшее</td>\n",
       "      <td>0</td>\n",
       "      <td>женат / замужем</td>\n",
       "      <td>0</td>\n",
       "      <td>M</td>\n",
       "      <td>компаньон</td>\n",
       "      <td>0</td>\n",
       "      <td>113943.491460</td>\n",
       "      <td>покупка недвижимости</td>\n",
       "    </tr>\n",
       "    <tr>\n",
       "      <th>11</th>\n",
       "      <td>0</td>\n",
       "      <td>-792.701887</td>\n",
       "      <td>40</td>\n",
       "      <td>среднее</td>\n",
       "      <td>1</td>\n",
       "      <td>женат / замужем</td>\n",
       "      <td>0</td>\n",
       "      <td>F</td>\n",
       "      <td>сотрудник</td>\n",
       "      <td>0</td>\n",
       "      <td>77069.234271</td>\n",
       "      <td>покупка коммерческой недвижимости</td>\n",
       "    </tr>\n",
       "    <tr>\n",
       "      <th>12</th>\n",
       "      <td>0</td>\n",
       "      <td>NaN</td>\n",
       "      <td>65</td>\n",
       "      <td>среднее</td>\n",
       "      <td>1</td>\n",
       "      <td>гражданский брак</td>\n",
       "      <td>1</td>\n",
       "      <td>M</td>\n",
       "      <td>пенсионер</td>\n",
       "      <td>0</td>\n",
       "      <td>NaN</td>\n",
       "      <td>сыграть свадьбу</td>\n",
       "    </tr>\n",
       "    <tr>\n",
       "      <th>13</th>\n",
       "      <td>0</td>\n",
       "      <td>-1846.641941</td>\n",
       "      <td>54</td>\n",
       "      <td>неоконченное высшее</td>\n",
       "      <td>2</td>\n",
       "      <td>женат / замужем</td>\n",
       "      <td>0</td>\n",
       "      <td>F</td>\n",
       "      <td>сотрудник</td>\n",
       "      <td>0</td>\n",
       "      <td>130458.228857</td>\n",
       "      <td>приобретение автомобиля</td>\n",
       "    </tr>\n",
       "    <tr>\n",
       "      <th>14</th>\n",
       "      <td>0</td>\n",
       "      <td>-1844.956182</td>\n",
       "      <td>56</td>\n",
       "      <td>высшее</td>\n",
       "      <td>0</td>\n",
       "      <td>гражданский брак</td>\n",
       "      <td>1</td>\n",
       "      <td>F</td>\n",
       "      <td>компаньон</td>\n",
       "      <td>1</td>\n",
       "      <td>165127.911772</td>\n",
       "      <td>покупка жилой недвижимости</td>\n",
       "    </tr>\n",
       "  </tbody>\n",
       "</table>\n",
       "</div>"
      ],
      "text/plain": [
       "    children  days_employed  dob_years            education  education_id  \\\n",
       "0          1   -8437.673028         42               высшее             0   \n",
       "1          1   -4024.803754         36              среднее             1   \n",
       "2          0   -5623.422610         33              Среднее             1   \n",
       "3          3   -4124.747207         32              среднее             1   \n",
       "4          0  340266.072047         53              среднее             1   \n",
       "5          0    -926.185831         27               высшее             0   \n",
       "6          0   -2879.202052         43               высшее             0   \n",
       "7          0    -152.779569         50              СРЕДНЕЕ             1   \n",
       "8          2   -6929.865299         35               ВЫСШЕЕ             0   \n",
       "9          0   -2188.756445         41              среднее             1   \n",
       "10         2   -4171.483647         36               высшее             0   \n",
       "11         0    -792.701887         40              среднее             1   \n",
       "12         0            NaN         65              среднее             1   \n",
       "13         0   -1846.641941         54  неоконченное высшее             2   \n",
       "14         0   -1844.956182         56               высшее             0   \n",
       "\n",
       "       family_status  family_status_id gender income_type  debt  \\\n",
       "0    женат / замужем                 0      F   сотрудник     0   \n",
       "1    женат / замужем                 0      F   сотрудник     0   \n",
       "2    женат / замужем                 0      M   сотрудник     0   \n",
       "3    женат / замужем                 0      M   сотрудник     0   \n",
       "4   гражданский брак                 1      F   пенсионер     0   \n",
       "5   гражданский брак                 1      M   компаньон     0   \n",
       "6    женат / замужем                 0      F   компаньон     0   \n",
       "7    женат / замужем                 0      M   сотрудник     0   \n",
       "8   гражданский брак                 1      F   сотрудник     0   \n",
       "9    женат / замужем                 0      M   сотрудник     0   \n",
       "10   женат / замужем                 0      M   компаньон     0   \n",
       "11   женат / замужем                 0      F   сотрудник     0   \n",
       "12  гражданский брак                 1      M   пенсионер     0   \n",
       "13   женат / замужем                 0      F   сотрудник     0   \n",
       "14  гражданский брак                 1      F   компаньон     1   \n",
       "\n",
       "     total_income                            purpose  \n",
       "0   253875.639453                      покупка жилья  \n",
       "1   112080.014102            приобретение автомобиля  \n",
       "2   145885.952297                      покупка жилья  \n",
       "3   267628.550329         дополнительное образование  \n",
       "4   158616.077870                    сыграть свадьбу  \n",
       "5   255763.565419                      покупка жилья  \n",
       "6   240525.971920                  операции с жильем  \n",
       "7   135823.934197                        образование  \n",
       "8    95856.832424              на проведение свадьбы  \n",
       "9   144425.938277            покупка жилья для семьи  \n",
       "10  113943.491460               покупка недвижимости  \n",
       "11   77069.234271  покупка коммерческой недвижимости  \n",
       "12            NaN                    сыграть свадьбу  \n",
       "13  130458.228857            приобретение автомобиля  \n",
       "14  165127.911772         покупка жилой недвижимости  "
      ]
     },
     "execution_count": 2,
     "metadata": {},
     "output_type": "execute_result"
    }
   ],
   "source": [
    "try:\n",
    "    credit_data = pd.read_csv('/datasets/data.csv')\n",
    "except:\n",
    "    credit_data = pd.read_csv('data.csv')\n",
    "\n",
    "\n",
    "credit_data.head(15)"
   ]
  },
  {
   "cell_type": "markdown",
   "id": "f2a5b646",
   "metadata": {},
   "source": [
    "Теперь ознакомимся с последними 15-ю строками таблицы"
   ]
  },
  {
   "cell_type": "code",
   "execution_count": 3,
   "id": "77b0a4c0",
   "metadata": {
    "scrolled": false
   },
   "outputs": [
    {
     "data": {
      "text/html": [
       "<div>\n",
       "<style scoped>\n",
       "    .dataframe tbody tr th:only-of-type {\n",
       "        vertical-align: middle;\n",
       "    }\n",
       "\n",
       "    .dataframe tbody tr th {\n",
       "        vertical-align: top;\n",
       "    }\n",
       "\n",
       "    .dataframe thead th {\n",
       "        text-align: right;\n",
       "    }\n",
       "</style>\n",
       "<table border=\"1\" class=\"dataframe\">\n",
       "  <thead>\n",
       "    <tr style=\"text-align: right;\">\n",
       "      <th></th>\n",
       "      <th>children</th>\n",
       "      <th>days_employed</th>\n",
       "      <th>dob_years</th>\n",
       "      <th>education</th>\n",
       "      <th>education_id</th>\n",
       "      <th>family_status</th>\n",
       "      <th>family_status_id</th>\n",
       "      <th>gender</th>\n",
       "      <th>income_type</th>\n",
       "      <th>debt</th>\n",
       "      <th>total_income</th>\n",
       "      <th>purpose</th>\n",
       "    </tr>\n",
       "  </thead>\n",
       "  <tbody>\n",
       "    <tr>\n",
       "      <th>21510</th>\n",
       "      <td>2</td>\n",
       "      <td>NaN</td>\n",
       "      <td>28</td>\n",
       "      <td>среднее</td>\n",
       "      <td>1</td>\n",
       "      <td>женат / замужем</td>\n",
       "      <td>0</td>\n",
       "      <td>F</td>\n",
       "      <td>сотрудник</td>\n",
       "      <td>0</td>\n",
       "      <td>NaN</td>\n",
       "      <td>приобретение автомобиля</td>\n",
       "    </tr>\n",
       "    <tr>\n",
       "      <th>21511</th>\n",
       "      <td>0</td>\n",
       "      <td>-612.569129</td>\n",
       "      <td>29</td>\n",
       "      <td>высшее</td>\n",
       "      <td>0</td>\n",
       "      <td>гражданский брак</td>\n",
       "      <td>1</td>\n",
       "      <td>F</td>\n",
       "      <td>сотрудник</td>\n",
       "      <td>1</td>\n",
       "      <td>140068.472941</td>\n",
       "      <td>покупка жилья для сдачи</td>\n",
       "    </tr>\n",
       "    <tr>\n",
       "      <th>21512</th>\n",
       "      <td>0</td>\n",
       "      <td>-165.377752</td>\n",
       "      <td>26</td>\n",
       "      <td>высшее</td>\n",
       "      <td>0</td>\n",
       "      <td>Не женат / не замужем</td>\n",
       "      <td>4</td>\n",
       "      <td>M</td>\n",
       "      <td>компаньон</td>\n",
       "      <td>0</td>\n",
       "      <td>147301.457769</td>\n",
       "      <td>получение дополнительного образования</td>\n",
       "    </tr>\n",
       "    <tr>\n",
       "      <th>21513</th>\n",
       "      <td>0</td>\n",
       "      <td>-1166.216789</td>\n",
       "      <td>35</td>\n",
       "      <td>среднее</td>\n",
       "      <td>1</td>\n",
       "      <td>женат / замужем</td>\n",
       "      <td>0</td>\n",
       "      <td>F</td>\n",
       "      <td>сотрудник</td>\n",
       "      <td>0</td>\n",
       "      <td>250986.142309</td>\n",
       "      <td>покупка жилья</td>\n",
       "    </tr>\n",
       "    <tr>\n",
       "      <th>21514</th>\n",
       "      <td>0</td>\n",
       "      <td>-280.469996</td>\n",
       "      <td>27</td>\n",
       "      <td>неоконченное высшее</td>\n",
       "      <td>2</td>\n",
       "      <td>Не женат / не замужем</td>\n",
       "      <td>4</td>\n",
       "      <td>M</td>\n",
       "      <td>компаньон</td>\n",
       "      <td>0</td>\n",
       "      <td>355988.407188</td>\n",
       "      <td>строительство недвижимости</td>\n",
       "    </tr>\n",
       "    <tr>\n",
       "      <th>21515</th>\n",
       "      <td>1</td>\n",
       "      <td>-467.685130</td>\n",
       "      <td>28</td>\n",
       "      <td>среднее</td>\n",
       "      <td>1</td>\n",
       "      <td>женат / замужем</td>\n",
       "      <td>0</td>\n",
       "      <td>F</td>\n",
       "      <td>сотрудник</td>\n",
       "      <td>1</td>\n",
       "      <td>109486.327999</td>\n",
       "      <td>заняться образованием</td>\n",
       "    </tr>\n",
       "    <tr>\n",
       "      <th>21516</th>\n",
       "      <td>0</td>\n",
       "      <td>-914.391429</td>\n",
       "      <td>42</td>\n",
       "      <td>высшее</td>\n",
       "      <td>0</td>\n",
       "      <td>женат / замужем</td>\n",
       "      <td>0</td>\n",
       "      <td>F</td>\n",
       "      <td>компаньон</td>\n",
       "      <td>0</td>\n",
       "      <td>322807.776603</td>\n",
       "      <td>покупка своего жилья</td>\n",
       "    </tr>\n",
       "    <tr>\n",
       "      <th>21517</th>\n",
       "      <td>0</td>\n",
       "      <td>-404.679034</td>\n",
       "      <td>42</td>\n",
       "      <td>высшее</td>\n",
       "      <td>0</td>\n",
       "      <td>гражданский брак</td>\n",
       "      <td>1</td>\n",
       "      <td>F</td>\n",
       "      <td>компаньон</td>\n",
       "      <td>0</td>\n",
       "      <td>178059.553491</td>\n",
       "      <td>на покупку своего автомобиля</td>\n",
       "    </tr>\n",
       "    <tr>\n",
       "      <th>21518</th>\n",
       "      <td>0</td>\n",
       "      <td>373995.710838</td>\n",
       "      <td>59</td>\n",
       "      <td>СРЕДНЕЕ</td>\n",
       "      <td>1</td>\n",
       "      <td>женат / замужем</td>\n",
       "      <td>0</td>\n",
       "      <td>F</td>\n",
       "      <td>пенсионер</td>\n",
       "      <td>0</td>\n",
       "      <td>153864.650328</td>\n",
       "      <td>сделка с автомобилем</td>\n",
       "    </tr>\n",
       "    <tr>\n",
       "      <th>21519</th>\n",
       "      <td>1</td>\n",
       "      <td>-2351.431934</td>\n",
       "      <td>37</td>\n",
       "      <td>ученая степень</td>\n",
       "      <td>4</td>\n",
       "      <td>в разводе</td>\n",
       "      <td>3</td>\n",
       "      <td>M</td>\n",
       "      <td>сотрудник</td>\n",
       "      <td>0</td>\n",
       "      <td>115949.039788</td>\n",
       "      <td>покупка коммерческой недвижимости</td>\n",
       "    </tr>\n",
       "    <tr>\n",
       "      <th>21520</th>\n",
       "      <td>1</td>\n",
       "      <td>-4529.316663</td>\n",
       "      <td>43</td>\n",
       "      <td>среднее</td>\n",
       "      <td>1</td>\n",
       "      <td>гражданский брак</td>\n",
       "      <td>1</td>\n",
       "      <td>F</td>\n",
       "      <td>компаньон</td>\n",
       "      <td>0</td>\n",
       "      <td>224791.862382</td>\n",
       "      <td>операции с жильем</td>\n",
       "    </tr>\n",
       "    <tr>\n",
       "      <th>21521</th>\n",
       "      <td>0</td>\n",
       "      <td>343937.404131</td>\n",
       "      <td>67</td>\n",
       "      <td>среднее</td>\n",
       "      <td>1</td>\n",
       "      <td>женат / замужем</td>\n",
       "      <td>0</td>\n",
       "      <td>F</td>\n",
       "      <td>пенсионер</td>\n",
       "      <td>0</td>\n",
       "      <td>155999.806512</td>\n",
       "      <td>сделка с автомобилем</td>\n",
       "    </tr>\n",
       "    <tr>\n",
       "      <th>21522</th>\n",
       "      <td>1</td>\n",
       "      <td>-2113.346888</td>\n",
       "      <td>38</td>\n",
       "      <td>среднее</td>\n",
       "      <td>1</td>\n",
       "      <td>гражданский брак</td>\n",
       "      <td>1</td>\n",
       "      <td>M</td>\n",
       "      <td>сотрудник</td>\n",
       "      <td>1</td>\n",
       "      <td>89672.561153</td>\n",
       "      <td>недвижимость</td>\n",
       "    </tr>\n",
       "    <tr>\n",
       "      <th>21523</th>\n",
       "      <td>3</td>\n",
       "      <td>-3112.481705</td>\n",
       "      <td>38</td>\n",
       "      <td>среднее</td>\n",
       "      <td>1</td>\n",
       "      <td>женат / замужем</td>\n",
       "      <td>0</td>\n",
       "      <td>M</td>\n",
       "      <td>сотрудник</td>\n",
       "      <td>1</td>\n",
       "      <td>244093.050500</td>\n",
       "      <td>на покупку своего автомобиля</td>\n",
       "    </tr>\n",
       "    <tr>\n",
       "      <th>21524</th>\n",
       "      <td>2</td>\n",
       "      <td>-1984.507589</td>\n",
       "      <td>40</td>\n",
       "      <td>среднее</td>\n",
       "      <td>1</td>\n",
       "      <td>женат / замужем</td>\n",
       "      <td>0</td>\n",
       "      <td>F</td>\n",
       "      <td>сотрудник</td>\n",
       "      <td>0</td>\n",
       "      <td>82047.418899</td>\n",
       "      <td>на покупку автомобиля</td>\n",
       "    </tr>\n",
       "  </tbody>\n",
       "</table>\n",
       "</div>"
      ],
      "text/plain": [
       "       children  days_employed  dob_years            education  education_id  \\\n",
       "21510         2            NaN         28              среднее             1   \n",
       "21511         0    -612.569129         29               высшее             0   \n",
       "21512         0    -165.377752         26               высшее             0   \n",
       "21513         0   -1166.216789         35              среднее             1   \n",
       "21514         0    -280.469996         27  неоконченное высшее             2   \n",
       "21515         1    -467.685130         28              среднее             1   \n",
       "21516         0    -914.391429         42               высшее             0   \n",
       "21517         0    -404.679034         42               высшее             0   \n",
       "21518         0  373995.710838         59              СРЕДНЕЕ             1   \n",
       "21519         1   -2351.431934         37       ученая степень             4   \n",
       "21520         1   -4529.316663         43              среднее             1   \n",
       "21521         0  343937.404131         67              среднее             1   \n",
       "21522         1   -2113.346888         38              среднее             1   \n",
       "21523         3   -3112.481705         38              среднее             1   \n",
       "21524         2   -1984.507589         40              среднее             1   \n",
       "\n",
       "               family_status  family_status_id gender income_type  debt  \\\n",
       "21510        женат / замужем                 0      F   сотрудник     0   \n",
       "21511       гражданский брак                 1      F   сотрудник     1   \n",
       "21512  Не женат / не замужем                 4      M   компаньон     0   \n",
       "21513        женат / замужем                 0      F   сотрудник     0   \n",
       "21514  Не женат / не замужем                 4      M   компаньон     0   \n",
       "21515        женат / замужем                 0      F   сотрудник     1   \n",
       "21516        женат / замужем                 0      F   компаньон     0   \n",
       "21517       гражданский брак                 1      F   компаньон     0   \n",
       "21518        женат / замужем                 0      F   пенсионер     0   \n",
       "21519              в разводе                 3      M   сотрудник     0   \n",
       "21520       гражданский брак                 1      F   компаньон     0   \n",
       "21521        женат / замужем                 0      F   пенсионер     0   \n",
       "21522       гражданский брак                 1      M   сотрудник     1   \n",
       "21523        женат / замужем                 0      M   сотрудник     1   \n",
       "21524        женат / замужем                 0      F   сотрудник     0   \n",
       "\n",
       "        total_income                                purpose  \n",
       "21510            NaN                приобретение автомобиля  \n",
       "21511  140068.472941                покупка жилья для сдачи  \n",
       "21512  147301.457769  получение дополнительного образования  \n",
       "21513  250986.142309                          покупка жилья  \n",
       "21514  355988.407188             строительство недвижимости  \n",
       "21515  109486.327999                  заняться образованием  \n",
       "21516  322807.776603                   покупка своего жилья  \n",
       "21517  178059.553491           на покупку своего автомобиля  \n",
       "21518  153864.650328                   сделка с автомобилем  \n",
       "21519  115949.039788      покупка коммерческой недвижимости  \n",
       "21520  224791.862382                      операции с жильем  \n",
       "21521  155999.806512                   сделка с автомобилем  \n",
       "21522   89672.561153                           недвижимость  \n",
       "21523  244093.050500           на покупку своего автомобиля  \n",
       "21524   82047.418899                  на покупку автомобиля  "
      ]
     },
     "execution_count": 3,
     "metadata": {},
     "output_type": "execute_result"
    }
   ],
   "source": [
    "credit_data.tail(15)"
   ]
  },
  {
   "cell_type": "markdown",
   "id": "c07b425e",
   "metadata": {},
   "source": [
    "Для дальнейшего удобства приведем расшифровку столбцов\n",
    "\n",
    "*children* — количество детей в семье\n",
    "\n",
    "*days_employed* — общий трудовой стаж в днях\n",
    "\n",
    "*dob_years* — возраст клиента в годах\n",
    "\n",
    "*education* — уровень образования клиента\n",
    "\n",
    "*education_id* — идентификатор уровня образования\n",
    "\n",
    "*family_status* — семейное положение\n",
    "\n",
    "*family_status_id* — идентификатор семейного положения\n",
    "\n",
    "*gender* — пол клиента\n",
    "\n",
    "*income_type* — тип занятости\n",
    "\n",
    "*debt* — имел ли задолженность по возврату кредитов\n",
    "\n",
    "*total_income* — ежемесячный доход\n",
    "\n",
    "*purpose* — цель получения кредита\n",
    "\n",
    "Теперь получим общую информацию о представленной таблице"
   ]
  },
  {
   "cell_type": "code",
   "execution_count": 4,
   "id": "7fce88ba",
   "metadata": {
    "scrolled": true
   },
   "outputs": [
    {
     "name": "stdout",
     "output_type": "stream",
     "text": [
      "<class 'pandas.core.frame.DataFrame'>\n",
      "RangeIndex: 21525 entries, 0 to 21524\n",
      "Data columns (total 12 columns):\n",
      " #   Column            Non-Null Count  Dtype  \n",
      "---  ------            --------------  -----  \n",
      " 0   children          21525 non-null  int64  \n",
      " 1   days_employed     19351 non-null  float64\n",
      " 2   dob_years         21525 non-null  int64  \n",
      " 3   education         21525 non-null  object \n",
      " 4   education_id      21525 non-null  int64  \n",
      " 5   family_status     21525 non-null  object \n",
      " 6   family_status_id  21525 non-null  int64  \n",
      " 7   gender            21525 non-null  object \n",
      " 8   income_type       21525 non-null  object \n",
      " 9   debt              21525 non-null  int64  \n",
      " 10  total_income      19351 non-null  float64\n",
      " 11  purpose           21525 non-null  object \n",
      "dtypes: float64(2), int64(5), object(5)\n",
      "memory usage: 2.0+ MB\n"
     ]
    }
   ],
   "source": [
    "credit_data.info()"
   ]
  },
  {
   "cell_type": "markdown",
   "id": "d16c1cab",
   "metadata": {},
   "source": [
    "В данной таблице отличается количество значений в столбцах days_employed (общий трудовой стаж в днях) и total_income (ежемесяный доход) по сравнению с остальными. На последующих шагах будет проведена работа по проверке на аномалии дубликаты и исправления."
   ]
  },
  {
   "cell_type": "markdown",
   "id": "726bf059",
   "metadata": {},
   "source": [
    "### Шаг 2.1 Заполнение пропусков"
   ]
  },
  {
   "cell_type": "markdown",
   "id": "8b5d3701",
   "metadata": {},
   "source": [
    "Выявним в каких столбцах имеются пропущенные значения."
   ]
  },
  {
   "cell_type": "code",
   "execution_count": 5,
   "id": "3a00e69a",
   "metadata": {},
   "outputs": [
    {
     "data": {
      "text/plain": [
       "children               0\n",
       "days_employed       2174\n",
       "dob_years              0\n",
       "education              0\n",
       "education_id           0\n",
       "family_status          0\n",
       "family_status_id       0\n",
       "gender                 0\n",
       "income_type            0\n",
       "debt                   0\n",
       "total_income        2174\n",
       "purpose                0\n",
       "dtype: int64"
      ]
     },
     "execution_count": 5,
     "metadata": {},
     "output_type": "execute_result"
    }
   ],
   "source": [
    "credit_data.isna().sum()"
   ]
  },
  {
   "cell_type": "markdown",
   "id": "ae0e0fbc",
   "metadata": {},
   "source": [
    "Пропущены значения в 2-х столбцах: days_employed и total_income.\n",
    "\n",
    "Проверим долю пропущенных значений в столбце days_employed (стаж работы)"
   ]
  },
  {
   "cell_type": "code",
   "execution_count": 6,
   "id": "fd3dc348",
   "metadata": {},
   "outputs": [
    {
     "data": {
      "text/plain": [
       "0.10099883855981417"
      ]
     },
     "execution_count": 6,
     "metadata": {},
     "output_type": "execute_result"
    }
   ],
   "source": [
    "credit_data['days_employed'].isna().mean()\n"
   ]
  },
  {
   "cell_type": "markdown",
   "id": "e1d44f15",
   "metadata": {},
   "source": [
    "Проверим долю пропущенных значений в столбце total_income (ежемесячный доход)"
   ]
  },
  {
   "cell_type": "code",
   "execution_count": 7,
   "id": "a232ece7",
   "metadata": {
    "scrolled": true
   },
   "outputs": [
    {
     "data": {
      "text/plain": [
       "0.10099883855981417"
      ]
     },
     "execution_count": 7,
     "metadata": {},
     "output_type": "execute_result"
    }
   ],
   "source": [
    "credit_data['total_income'].isna().mean()"
   ]
  },
  {
   "cell_type": "markdown",
   "id": "ec7eb07e",
   "metadata": {},
   "source": [
    "Доля пропусков данных столбцах составляет порядка 11%. Игнорирование данный пропусков может привести к некорректным результатам  в исследовании."
   ]
  },
  {
   "cell_type": "markdown",
   "id": "f5e1bbe8",
   "metadata": {},
   "source": [
    "Проверим, какие есть уникальные значения в данных столбцах."
   ]
  },
  {
   "cell_type": "code",
   "execution_count": 8,
   "id": "cdb87dd7",
   "metadata": {
    "scrolled": false
   },
   "outputs": [
    {
     "data": {
      "text/html": [
       "<div>\n",
       "<style scoped>\n",
       "    .dataframe tbody tr th:only-of-type {\n",
       "        vertical-align: middle;\n",
       "    }\n",
       "\n",
       "    .dataframe tbody tr th {\n",
       "        vertical-align: top;\n",
       "    }\n",
       "\n",
       "    .dataframe thead th {\n",
       "        text-align: right;\n",
       "    }\n",
       "</style>\n",
       "<table border=\"1\" class=\"dataframe\">\n",
       "  <thead>\n",
       "    <tr style=\"text-align: right;\">\n",
       "      <th></th>\n",
       "      <th>children</th>\n",
       "      <th>days_employed</th>\n",
       "      <th>dob_years</th>\n",
       "      <th>education</th>\n",
       "      <th>education_id</th>\n",
       "      <th>family_status</th>\n",
       "      <th>family_status_id</th>\n",
       "      <th>gender</th>\n",
       "      <th>income_type</th>\n",
       "      <th>debt</th>\n",
       "      <th>total_income</th>\n",
       "      <th>purpose</th>\n",
       "    </tr>\n",
       "  </thead>\n",
       "  <tbody>\n",
       "    <tr>\n",
       "      <th>12</th>\n",
       "      <td>0</td>\n",
       "      <td>NaN</td>\n",
       "      <td>65</td>\n",
       "      <td>среднее</td>\n",
       "      <td>1</td>\n",
       "      <td>гражданский брак</td>\n",
       "      <td>1</td>\n",
       "      <td>M</td>\n",
       "      <td>пенсионер</td>\n",
       "      <td>0</td>\n",
       "      <td>NaN</td>\n",
       "      <td>сыграть свадьбу</td>\n",
       "    </tr>\n",
       "    <tr>\n",
       "      <th>26</th>\n",
       "      <td>0</td>\n",
       "      <td>NaN</td>\n",
       "      <td>41</td>\n",
       "      <td>среднее</td>\n",
       "      <td>1</td>\n",
       "      <td>женат / замужем</td>\n",
       "      <td>0</td>\n",
       "      <td>M</td>\n",
       "      <td>госслужащий</td>\n",
       "      <td>0</td>\n",
       "      <td>NaN</td>\n",
       "      <td>образование</td>\n",
       "    </tr>\n",
       "    <tr>\n",
       "      <th>29</th>\n",
       "      <td>0</td>\n",
       "      <td>NaN</td>\n",
       "      <td>63</td>\n",
       "      <td>среднее</td>\n",
       "      <td>1</td>\n",
       "      <td>Не женат / не замужем</td>\n",
       "      <td>4</td>\n",
       "      <td>F</td>\n",
       "      <td>пенсионер</td>\n",
       "      <td>0</td>\n",
       "      <td>NaN</td>\n",
       "      <td>строительство жилой недвижимости</td>\n",
       "    </tr>\n",
       "    <tr>\n",
       "      <th>41</th>\n",
       "      <td>0</td>\n",
       "      <td>NaN</td>\n",
       "      <td>50</td>\n",
       "      <td>среднее</td>\n",
       "      <td>1</td>\n",
       "      <td>женат / замужем</td>\n",
       "      <td>0</td>\n",
       "      <td>F</td>\n",
       "      <td>госслужащий</td>\n",
       "      <td>0</td>\n",
       "      <td>NaN</td>\n",
       "      <td>сделка с подержанным автомобилем</td>\n",
       "    </tr>\n",
       "    <tr>\n",
       "      <th>55</th>\n",
       "      <td>0</td>\n",
       "      <td>NaN</td>\n",
       "      <td>54</td>\n",
       "      <td>среднее</td>\n",
       "      <td>1</td>\n",
       "      <td>гражданский брак</td>\n",
       "      <td>1</td>\n",
       "      <td>F</td>\n",
       "      <td>пенсионер</td>\n",
       "      <td>1</td>\n",
       "      <td>NaN</td>\n",
       "      <td>сыграть свадьбу</td>\n",
       "    </tr>\n",
       "  </tbody>\n",
       "</table>\n",
       "</div>"
      ],
      "text/plain": [
       "    children  days_employed  dob_years education  education_id  \\\n",
       "12         0            NaN         65   среднее             1   \n",
       "26         0            NaN         41   среднее             1   \n",
       "29         0            NaN         63   среднее             1   \n",
       "41         0            NaN         50   среднее             1   \n",
       "55         0            NaN         54   среднее             1   \n",
       "\n",
       "            family_status  family_status_id gender  income_type  debt  \\\n",
       "12       гражданский брак                 1      M    пенсионер     0   \n",
       "26        женат / замужем                 0      M  госслужащий     0   \n",
       "29  Не женат / не замужем                 4      F    пенсионер     0   \n",
       "41        женат / замужем                 0      F  госслужащий     0   \n",
       "55       гражданский брак                 1      F    пенсионер     1   \n",
       "\n",
       "    total_income                           purpose  \n",
       "12           NaN                   сыграть свадьбу  \n",
       "26           NaN                       образование  \n",
       "29           NaN  строительство жилой недвижимости  \n",
       "41           NaN  сделка с подержанным автомобилем  \n",
       "55           NaN                   сыграть свадьбу  "
      ]
     },
     "execution_count": 8,
     "metadata": {},
     "output_type": "execute_result"
    }
   ],
   "source": [
    "credit_data[credit_data['days_employed'].isna()].head()"
   ]
  },
  {
   "cell_type": "code",
   "execution_count": 9,
   "id": "2fdfe43f",
   "metadata": {},
   "outputs": [
    {
     "data": {
      "text/html": [
       "<div>\n",
       "<style scoped>\n",
       "    .dataframe tbody tr th:only-of-type {\n",
       "        vertical-align: middle;\n",
       "    }\n",
       "\n",
       "    .dataframe tbody tr th {\n",
       "        vertical-align: top;\n",
       "    }\n",
       "\n",
       "    .dataframe thead th {\n",
       "        text-align: right;\n",
       "    }\n",
       "</style>\n",
       "<table border=\"1\" class=\"dataframe\">\n",
       "  <thead>\n",
       "    <tr style=\"text-align: right;\">\n",
       "      <th></th>\n",
       "      <th>children</th>\n",
       "      <th>days_employed</th>\n",
       "      <th>dob_years</th>\n",
       "      <th>education</th>\n",
       "      <th>education_id</th>\n",
       "      <th>family_status</th>\n",
       "      <th>family_status_id</th>\n",
       "      <th>gender</th>\n",
       "      <th>income_type</th>\n",
       "      <th>debt</th>\n",
       "      <th>total_income</th>\n",
       "      <th>purpose</th>\n",
       "    </tr>\n",
       "  </thead>\n",
       "  <tbody>\n",
       "    <tr>\n",
       "      <th>12</th>\n",
       "      <td>0</td>\n",
       "      <td>NaN</td>\n",
       "      <td>65</td>\n",
       "      <td>среднее</td>\n",
       "      <td>1</td>\n",
       "      <td>гражданский брак</td>\n",
       "      <td>1</td>\n",
       "      <td>M</td>\n",
       "      <td>пенсионер</td>\n",
       "      <td>0</td>\n",
       "      <td>NaN</td>\n",
       "      <td>сыграть свадьбу</td>\n",
       "    </tr>\n",
       "    <tr>\n",
       "      <th>26</th>\n",
       "      <td>0</td>\n",
       "      <td>NaN</td>\n",
       "      <td>41</td>\n",
       "      <td>среднее</td>\n",
       "      <td>1</td>\n",
       "      <td>женат / замужем</td>\n",
       "      <td>0</td>\n",
       "      <td>M</td>\n",
       "      <td>госслужащий</td>\n",
       "      <td>0</td>\n",
       "      <td>NaN</td>\n",
       "      <td>образование</td>\n",
       "    </tr>\n",
       "    <tr>\n",
       "      <th>29</th>\n",
       "      <td>0</td>\n",
       "      <td>NaN</td>\n",
       "      <td>63</td>\n",
       "      <td>среднее</td>\n",
       "      <td>1</td>\n",
       "      <td>Не женат / не замужем</td>\n",
       "      <td>4</td>\n",
       "      <td>F</td>\n",
       "      <td>пенсионер</td>\n",
       "      <td>0</td>\n",
       "      <td>NaN</td>\n",
       "      <td>строительство жилой недвижимости</td>\n",
       "    </tr>\n",
       "    <tr>\n",
       "      <th>41</th>\n",
       "      <td>0</td>\n",
       "      <td>NaN</td>\n",
       "      <td>50</td>\n",
       "      <td>среднее</td>\n",
       "      <td>1</td>\n",
       "      <td>женат / замужем</td>\n",
       "      <td>0</td>\n",
       "      <td>F</td>\n",
       "      <td>госслужащий</td>\n",
       "      <td>0</td>\n",
       "      <td>NaN</td>\n",
       "      <td>сделка с подержанным автомобилем</td>\n",
       "    </tr>\n",
       "    <tr>\n",
       "      <th>55</th>\n",
       "      <td>0</td>\n",
       "      <td>NaN</td>\n",
       "      <td>54</td>\n",
       "      <td>среднее</td>\n",
       "      <td>1</td>\n",
       "      <td>гражданский брак</td>\n",
       "      <td>1</td>\n",
       "      <td>F</td>\n",
       "      <td>пенсионер</td>\n",
       "      <td>1</td>\n",
       "      <td>NaN</td>\n",
       "      <td>сыграть свадьбу</td>\n",
       "    </tr>\n",
       "  </tbody>\n",
       "</table>\n",
       "</div>"
      ],
      "text/plain": [
       "    children  days_employed  dob_years education  education_id  \\\n",
       "12         0            NaN         65   среднее             1   \n",
       "26         0            NaN         41   среднее             1   \n",
       "29         0            NaN         63   среднее             1   \n",
       "41         0            NaN         50   среднее             1   \n",
       "55         0            NaN         54   среднее             1   \n",
       "\n",
       "            family_status  family_status_id gender  income_type  debt  \\\n",
       "12       гражданский брак                 1      M    пенсионер     0   \n",
       "26        женат / замужем                 0      M  госслужащий     0   \n",
       "29  Не женат / не замужем                 4      F    пенсионер     0   \n",
       "41        женат / замужем                 0      F  госслужащий     0   \n",
       "55       гражданский брак                 1      F    пенсионер     1   \n",
       "\n",
       "    total_income                           purpose  \n",
       "12           NaN                   сыграть свадьбу  \n",
       "26           NaN                       образование  \n",
       "29           NaN  строительство жилой недвижимости  \n",
       "41           NaN  сделка с подержанным автомобилем  \n",
       "55           NaN                   сыграть свадьбу  "
      ]
     },
     "execution_count": 9,
     "metadata": {},
     "output_type": "execute_result"
    }
   ],
   "source": [
    "credit_data[credit_data['total_income'].isna()].head()"
   ]
  },
  {
   "cell_type": "markdown",
   "id": "52565275",
   "metadata": {},
   "source": [
    "В столбце total_income имеются пропущенные значения. Значение в данном столбце заполним медианным, чтобы исключить сдвиг от равновесия по доходам заемщиков"
   ]
  },
  {
   "cell_type": "code",
   "execution_count": 10,
   "id": "8d9abcf7",
   "metadata": {},
   "outputs": [
    {
     "data": {
      "text/plain": [
       "145017.93753253992"
      ]
     },
     "execution_count": 10,
     "metadata": {},
     "output_type": "execute_result"
    }
   ],
   "source": [
    "median_total_income = credit_data['total_income'].median()\n",
    "median_total_income"
   ]
  },
  {
   "cell_type": "markdown",
   "id": "e1f08a4e",
   "metadata": {},
   "source": [
    "Заменим пропущенные значения на медианное в столбце total_income и проверим, что замена прошла успешно."
   ]
  },
  {
   "cell_type": "code",
   "execution_count": 11,
   "id": "7d19a5c6",
   "metadata": {},
   "outputs": [
    {
     "name": "stdout",
     "output_type": "stream",
     "text": [
      "<class 'pandas.core.frame.DataFrame'>\n",
      "RangeIndex: 21525 entries, 0 to 21524\n",
      "Data columns (total 12 columns):\n",
      " #   Column            Non-Null Count  Dtype  \n",
      "---  ------            --------------  -----  \n",
      " 0   children          21525 non-null  int64  \n",
      " 1   days_employed     19351 non-null  float64\n",
      " 2   dob_years         21525 non-null  int64  \n",
      " 3   education         21525 non-null  object \n",
      " 4   education_id      21525 non-null  int64  \n",
      " 5   family_status     21525 non-null  object \n",
      " 6   family_status_id  21525 non-null  int64  \n",
      " 7   gender            21525 non-null  object \n",
      " 8   income_type       21525 non-null  object \n",
      " 9   debt              21525 non-null  int64  \n",
      " 10  total_income      21525 non-null  float64\n",
      " 11  purpose           21525 non-null  object \n",
      "dtypes: float64(2), int64(5), object(5)\n",
      "memory usage: 2.0+ MB\n"
     ]
    }
   ],
   "source": [
    "credit_data['total_income'] = credit_data['total_income'].fillna(median_total_income)\n",
    "credit_data.info()"
   ]
  },
  {
   "cell_type": "code",
   "execution_count": 12,
   "id": "1b5b2a02",
   "metadata": {},
   "outputs": [
    {
     "data": {
      "text/html": [
       "<div>\n",
       "<style scoped>\n",
       "    .dataframe tbody tr th:only-of-type {\n",
       "        vertical-align: middle;\n",
       "    }\n",
       "\n",
       "    .dataframe tbody tr th {\n",
       "        vertical-align: top;\n",
       "    }\n",
       "\n",
       "    .dataframe thead th {\n",
       "        text-align: right;\n",
       "    }\n",
       "</style>\n",
       "<table border=\"1\" class=\"dataframe\">\n",
       "  <thead>\n",
       "    <tr style=\"text-align: right;\">\n",
       "      <th></th>\n",
       "      <th>children</th>\n",
       "      <th>days_employed</th>\n",
       "      <th>dob_years</th>\n",
       "      <th>education</th>\n",
       "      <th>education_id</th>\n",
       "      <th>family_status</th>\n",
       "      <th>family_status_id</th>\n",
       "      <th>gender</th>\n",
       "      <th>income_type</th>\n",
       "      <th>debt</th>\n",
       "      <th>total_income</th>\n",
       "      <th>purpose</th>\n",
       "    </tr>\n",
       "  </thead>\n",
       "  <tbody>\n",
       "    <tr>\n",
       "      <th>12</th>\n",
       "      <td>0</td>\n",
       "      <td>NaN</td>\n",
       "      <td>65</td>\n",
       "      <td>среднее</td>\n",
       "      <td>1</td>\n",
       "      <td>гражданский брак</td>\n",
       "      <td>1</td>\n",
       "      <td>M</td>\n",
       "      <td>пенсионер</td>\n",
       "      <td>0</td>\n",
       "      <td>145017.937533</td>\n",
       "      <td>сыграть свадьбу</td>\n",
       "    </tr>\n",
       "    <tr>\n",
       "      <th>26</th>\n",
       "      <td>0</td>\n",
       "      <td>NaN</td>\n",
       "      <td>41</td>\n",
       "      <td>среднее</td>\n",
       "      <td>1</td>\n",
       "      <td>женат / замужем</td>\n",
       "      <td>0</td>\n",
       "      <td>M</td>\n",
       "      <td>госслужащий</td>\n",
       "      <td>0</td>\n",
       "      <td>145017.937533</td>\n",
       "      <td>образование</td>\n",
       "    </tr>\n",
       "    <tr>\n",
       "      <th>29</th>\n",
       "      <td>0</td>\n",
       "      <td>NaN</td>\n",
       "      <td>63</td>\n",
       "      <td>среднее</td>\n",
       "      <td>1</td>\n",
       "      <td>Не женат / не замужем</td>\n",
       "      <td>4</td>\n",
       "      <td>F</td>\n",
       "      <td>пенсионер</td>\n",
       "      <td>0</td>\n",
       "      <td>145017.937533</td>\n",
       "      <td>строительство жилой недвижимости</td>\n",
       "    </tr>\n",
       "    <tr>\n",
       "      <th>41</th>\n",
       "      <td>0</td>\n",
       "      <td>NaN</td>\n",
       "      <td>50</td>\n",
       "      <td>среднее</td>\n",
       "      <td>1</td>\n",
       "      <td>женат / замужем</td>\n",
       "      <td>0</td>\n",
       "      <td>F</td>\n",
       "      <td>госслужащий</td>\n",
       "      <td>0</td>\n",
       "      <td>145017.937533</td>\n",
       "      <td>сделка с подержанным автомобилем</td>\n",
       "    </tr>\n",
       "    <tr>\n",
       "      <th>55</th>\n",
       "      <td>0</td>\n",
       "      <td>NaN</td>\n",
       "      <td>54</td>\n",
       "      <td>среднее</td>\n",
       "      <td>1</td>\n",
       "      <td>гражданский брак</td>\n",
       "      <td>1</td>\n",
       "      <td>F</td>\n",
       "      <td>пенсионер</td>\n",
       "      <td>1</td>\n",
       "      <td>145017.937533</td>\n",
       "      <td>сыграть свадьбу</td>\n",
       "    </tr>\n",
       "  </tbody>\n",
       "</table>\n",
       "</div>"
      ],
      "text/plain": [
       "    children  days_employed  dob_years education  education_id  \\\n",
       "12         0            NaN         65   среднее             1   \n",
       "26         0            NaN         41   среднее             1   \n",
       "29         0            NaN         63   среднее             1   \n",
       "41         0            NaN         50   среднее             1   \n",
       "55         0            NaN         54   среднее             1   \n",
       "\n",
       "            family_status  family_status_id gender  income_type  debt  \\\n",
       "12       гражданский брак                 1      M    пенсионер     0   \n",
       "26        женат / замужем                 0      M  госслужащий     0   \n",
       "29  Не женат / не замужем                 4      F    пенсионер     0   \n",
       "41        женат / замужем                 0      F  госслужащий     0   \n",
       "55       гражданский брак                 1      F    пенсионер     1   \n",
       "\n",
       "     total_income                           purpose  \n",
       "12  145017.937533                   сыграть свадьбу  \n",
       "26  145017.937533                       образование  \n",
       "29  145017.937533  строительство жилой недвижимости  \n",
       "41  145017.937533  сделка с подержанным автомобилем  \n",
       "55  145017.937533                   сыграть свадьбу  "
      ]
     },
     "execution_count": 12,
     "metadata": {},
     "output_type": "execute_result"
    }
   ],
   "source": [
    "check_data = credit_data[credit_data['total_income'] == median_total_income]\n",
    "check_data.head()"
   ]
  },
  {
   "cell_type": "markdown",
   "id": "b615c993",
   "metadata": {},
   "source": [
    "Мы заменили данные в столбце total_incomе. Далее нам предстоит обработать другие стобцы: проверить аномалии, дубликаты, скорректировать типы данных"
   ]
  },
  {
   "cell_type": "markdown",
   "id": "7a3224d3",
   "metadata": {},
   "source": [
    "### Шаг 2.2 Проверка данных на аномалии и исправления."
   ]
  },
  {
   "cell_type": "markdown",
   "id": "85d31940",
   "metadata": {},
   "source": [
    "В столбце days_employed (стаж работы) присудствуют пропуски, а также отображены отрицательные значения. Более того если каждое перевести в года, то получатся аномальные значения. Рассмотрим более подробно таблицы и отсортируем  сначала по положительным, затем по отрицательным значениям."
   ]
  },
  {
   "cell_type": "code",
   "execution_count": 13,
   "id": "6d679868",
   "metadata": {
    "scrolled": false
   },
   "outputs": [
    {
     "data": {
      "text/html": [
       "<div>\n",
       "<style scoped>\n",
       "    .dataframe tbody tr th:only-of-type {\n",
       "        vertical-align: middle;\n",
       "    }\n",
       "\n",
       "    .dataframe tbody tr th {\n",
       "        vertical-align: top;\n",
       "    }\n",
       "\n",
       "    .dataframe thead th {\n",
       "        text-align: right;\n",
       "    }\n",
       "</style>\n",
       "<table border=\"1\" class=\"dataframe\">\n",
       "  <thead>\n",
       "    <tr style=\"text-align: right;\">\n",
       "      <th></th>\n",
       "      <th>children</th>\n",
       "      <th>days_employed</th>\n",
       "      <th>dob_years</th>\n",
       "      <th>education</th>\n",
       "      <th>education_id</th>\n",
       "      <th>family_status</th>\n",
       "      <th>family_status_id</th>\n",
       "      <th>gender</th>\n",
       "      <th>income_type</th>\n",
       "      <th>debt</th>\n",
       "      <th>total_income</th>\n",
       "      <th>purpose</th>\n",
       "    </tr>\n",
       "  </thead>\n",
       "  <tbody>\n",
       "    <tr>\n",
       "      <th>6954</th>\n",
       "      <td>0</td>\n",
       "      <td>401755.400475</td>\n",
       "      <td>56</td>\n",
       "      <td>среднее</td>\n",
       "      <td>1</td>\n",
       "      <td>вдовец / вдова</td>\n",
       "      <td>2</td>\n",
       "      <td>F</td>\n",
       "      <td>пенсионер</td>\n",
       "      <td>0</td>\n",
       "      <td>176278.441171</td>\n",
       "      <td>ремонт жилью</td>\n",
       "    </tr>\n",
       "    <tr>\n",
       "      <th>10006</th>\n",
       "      <td>0</td>\n",
       "      <td>401715.811749</td>\n",
       "      <td>69</td>\n",
       "      <td>высшее</td>\n",
       "      <td>0</td>\n",
       "      <td>Не женат / не замужем</td>\n",
       "      <td>4</td>\n",
       "      <td>F</td>\n",
       "      <td>пенсионер</td>\n",
       "      <td>0</td>\n",
       "      <td>57390.256908</td>\n",
       "      <td>получение образования</td>\n",
       "    </tr>\n",
       "    <tr>\n",
       "      <th>7664</th>\n",
       "      <td>1</td>\n",
       "      <td>401675.093434</td>\n",
       "      <td>61</td>\n",
       "      <td>среднее</td>\n",
       "      <td>1</td>\n",
       "      <td>женат / замужем</td>\n",
       "      <td>0</td>\n",
       "      <td>F</td>\n",
       "      <td>пенсионер</td>\n",
       "      <td>0</td>\n",
       "      <td>126214.519212</td>\n",
       "      <td>операции с жильем</td>\n",
       "    </tr>\n",
       "    <tr>\n",
       "      <th>2156</th>\n",
       "      <td>0</td>\n",
       "      <td>401674.466633</td>\n",
       "      <td>60</td>\n",
       "      <td>среднее</td>\n",
       "      <td>1</td>\n",
       "      <td>женат / замужем</td>\n",
       "      <td>0</td>\n",
       "      <td>M</td>\n",
       "      <td>пенсионер</td>\n",
       "      <td>0</td>\n",
       "      <td>325395.724541</td>\n",
       "      <td>автомобили</td>\n",
       "    </tr>\n",
       "    <tr>\n",
       "      <th>7794</th>\n",
       "      <td>0</td>\n",
       "      <td>401663.850046</td>\n",
       "      <td>61</td>\n",
       "      <td>среднее</td>\n",
       "      <td>1</td>\n",
       "      <td>гражданский брак</td>\n",
       "      <td>1</td>\n",
       "      <td>F</td>\n",
       "      <td>пенсионер</td>\n",
       "      <td>0</td>\n",
       "      <td>48286.441362</td>\n",
       "      <td>свадьба</td>\n",
       "    </tr>\n",
       "  </tbody>\n",
       "</table>\n",
       "</div>"
      ],
      "text/plain": [
       "       children  days_employed  dob_years education  education_id  \\\n",
       "6954          0  401755.400475         56   среднее             1   \n",
       "10006         0  401715.811749         69    высшее             0   \n",
       "7664          1  401675.093434         61   среднее             1   \n",
       "2156          0  401674.466633         60   среднее             1   \n",
       "7794          0  401663.850046         61   среднее             1   \n",
       "\n",
       "               family_status  family_status_id gender income_type  debt  \\\n",
       "6954          вдовец / вдова                 2      F   пенсионер     0   \n",
       "10006  Не женат / не замужем                 4      F   пенсионер     0   \n",
       "7664         женат / замужем                 0      F   пенсионер     0   \n",
       "2156         женат / замужем                 0      M   пенсионер     0   \n",
       "7794        гражданский брак                 1      F   пенсионер     0   \n",
       "\n",
       "        total_income                purpose  \n",
       "6954   176278.441171           ремонт жилью  \n",
       "10006   57390.256908  получение образования  \n",
       "7664   126214.519212      операции с жильем  \n",
       "2156   325395.724541             автомобили  \n",
       "7794    48286.441362                свадьба  "
      ]
     },
     "execution_count": 13,
     "metadata": {},
     "output_type": "execute_result"
    }
   ],
   "source": [
    "sort_credit_data_plus = credit_data.sort_values(by = 'days_employed', ascending=False)\n",
    "sort_credit_data_plus.head()"
   ]
  },
  {
   "cell_type": "code",
   "execution_count": 14,
   "id": "b155f826",
   "metadata": {},
   "outputs": [
    {
     "data": {
      "text/html": [
       "<div>\n",
       "<style scoped>\n",
       "    .dataframe tbody tr th:only-of-type {\n",
       "        vertical-align: middle;\n",
       "    }\n",
       "\n",
       "    .dataframe tbody tr th {\n",
       "        vertical-align: top;\n",
       "    }\n",
       "\n",
       "    .dataframe thead th {\n",
       "        text-align: right;\n",
       "    }\n",
       "</style>\n",
       "<table border=\"1\" class=\"dataframe\">\n",
       "  <thead>\n",
       "    <tr style=\"text-align: right;\">\n",
       "      <th></th>\n",
       "      <th>children</th>\n",
       "      <th>days_employed</th>\n",
       "      <th>dob_years</th>\n",
       "      <th>education</th>\n",
       "      <th>education_id</th>\n",
       "      <th>family_status</th>\n",
       "      <th>family_status_id</th>\n",
       "      <th>gender</th>\n",
       "      <th>income_type</th>\n",
       "      <th>debt</th>\n",
       "      <th>total_income</th>\n",
       "      <th>purpose</th>\n",
       "    </tr>\n",
       "  </thead>\n",
       "  <tbody>\n",
       "    <tr>\n",
       "      <th>16335</th>\n",
       "      <td>1</td>\n",
       "      <td>-18388.949901</td>\n",
       "      <td>61</td>\n",
       "      <td>среднее</td>\n",
       "      <td>1</td>\n",
       "      <td>женат / замужем</td>\n",
       "      <td>0</td>\n",
       "      <td>F</td>\n",
       "      <td>сотрудник</td>\n",
       "      <td>0</td>\n",
       "      <td>186178.934089</td>\n",
       "      <td>операции с недвижимостью</td>\n",
       "    </tr>\n",
       "    <tr>\n",
       "      <th>4299</th>\n",
       "      <td>0</td>\n",
       "      <td>-17615.563266</td>\n",
       "      <td>61</td>\n",
       "      <td>среднее</td>\n",
       "      <td>1</td>\n",
       "      <td>женат / замужем</td>\n",
       "      <td>0</td>\n",
       "      <td>F</td>\n",
       "      <td>компаньон</td>\n",
       "      <td>0</td>\n",
       "      <td>122560.741753</td>\n",
       "      <td>покупка жилья</td>\n",
       "    </tr>\n",
       "    <tr>\n",
       "      <th>7329</th>\n",
       "      <td>0</td>\n",
       "      <td>-16593.472817</td>\n",
       "      <td>60</td>\n",
       "      <td>высшее</td>\n",
       "      <td>0</td>\n",
       "      <td>женат / замужем</td>\n",
       "      <td>0</td>\n",
       "      <td>F</td>\n",
       "      <td>сотрудник</td>\n",
       "      <td>0</td>\n",
       "      <td>124697.846781</td>\n",
       "      <td>заняться высшим образованием</td>\n",
       "    </tr>\n",
       "    <tr>\n",
       "      <th>17838</th>\n",
       "      <td>0</td>\n",
       "      <td>-16264.699501</td>\n",
       "      <td>59</td>\n",
       "      <td>среднее</td>\n",
       "      <td>1</td>\n",
       "      <td>женат / замужем</td>\n",
       "      <td>0</td>\n",
       "      <td>F</td>\n",
       "      <td>сотрудник</td>\n",
       "      <td>0</td>\n",
       "      <td>51238.967133</td>\n",
       "      <td>на покупку автомобиля</td>\n",
       "    </tr>\n",
       "    <tr>\n",
       "      <th>16825</th>\n",
       "      <td>0</td>\n",
       "      <td>-16119.687737</td>\n",
       "      <td>64</td>\n",
       "      <td>среднее</td>\n",
       "      <td>1</td>\n",
       "      <td>женат / замужем</td>\n",
       "      <td>0</td>\n",
       "      <td>F</td>\n",
       "      <td>сотрудник</td>\n",
       "      <td>0</td>\n",
       "      <td>91527.685995</td>\n",
       "      <td>покупка жилой недвижимости</td>\n",
       "    </tr>\n",
       "  </tbody>\n",
       "</table>\n",
       "</div>"
      ],
      "text/plain": [
       "       children  days_employed  dob_years education  education_id  \\\n",
       "16335         1  -18388.949901         61   среднее             1   \n",
       "4299          0  -17615.563266         61   среднее             1   \n",
       "7329          0  -16593.472817         60    высшее             0   \n",
       "17838         0  -16264.699501         59   среднее             1   \n",
       "16825         0  -16119.687737         64   среднее             1   \n",
       "\n",
       "         family_status  family_status_id gender income_type  debt  \\\n",
       "16335  женат / замужем                 0      F   сотрудник     0   \n",
       "4299   женат / замужем                 0      F   компаньон     0   \n",
       "7329   женат / замужем                 0      F   сотрудник     0   \n",
       "17838  женат / замужем                 0      F   сотрудник     0   \n",
       "16825  женат / замужем                 0      F   сотрудник     0   \n",
       "\n",
       "        total_income                       purpose  \n",
       "16335  186178.934089      операции с недвижимостью  \n",
       "4299   122560.741753                 покупка жилья  \n",
       "7329   124697.846781  заняться высшим образованием  \n",
       "17838   51238.967133         на покупку автомобиля  \n",
       "16825   91527.685995    покупка жилой недвижимости  "
      ]
     },
     "execution_count": 14,
     "metadata": {},
     "output_type": "execute_result"
    }
   ],
   "source": [
    "sort_credit_data_minus = credit_data.sort_values(by = 'days_employed', ascending=True)\n",
    "sort_credit_data_minus.head()"
   ]
  },
  {
   "cell_type": "markdown",
   "id": "7bfc512b",
   "metadata": {},
   "source": [
    "Из сортировки данных видно, что у пенсионеров стаж имеет положительные значения, а \n",
    "у не пенсионеров стаж отрицательный. При том аномальные при переводе дней в года. Проверим данные утвержденния"
   ]
  },
  {
   "cell_type": "code",
   "execution_count": 15,
   "id": "01a3f7e1",
   "metadata": {},
   "outputs": [
    {
     "data": {
      "text/html": [
       "<div>\n",
       "<style scoped>\n",
       "    .dataframe tbody tr th:only-of-type {\n",
       "        vertical-align: middle;\n",
       "    }\n",
       "\n",
       "    .dataframe tbody tr th {\n",
       "        vertical-align: top;\n",
       "    }\n",
       "\n",
       "    .dataframe thead th {\n",
       "        text-align: right;\n",
       "    }\n",
       "</style>\n",
       "<table border=\"1\" class=\"dataframe\">\n",
       "  <thead>\n",
       "    <tr style=\"text-align: right;\">\n",
       "      <th></th>\n",
       "      <th>children</th>\n",
       "      <th>days_employed</th>\n",
       "      <th>dob_years</th>\n",
       "      <th>education</th>\n",
       "      <th>education_id</th>\n",
       "      <th>family_status</th>\n",
       "      <th>family_status_id</th>\n",
       "      <th>gender</th>\n",
       "      <th>income_type</th>\n",
       "      <th>debt</th>\n",
       "      <th>total_income</th>\n",
       "      <th>purpose</th>\n",
       "    </tr>\n",
       "  </thead>\n",
       "  <tbody>\n",
       "    <tr>\n",
       "      <th>4</th>\n",
       "      <td>0</td>\n",
       "      <td>340266.072047</td>\n",
       "      <td>53</td>\n",
       "      <td>среднее</td>\n",
       "      <td>1</td>\n",
       "      <td>гражданский брак</td>\n",
       "      <td>1</td>\n",
       "      <td>F</td>\n",
       "      <td>пенсионер</td>\n",
       "      <td>0</td>\n",
       "      <td>158616.077870</td>\n",
       "      <td>сыграть свадьбу</td>\n",
       "    </tr>\n",
       "    <tr>\n",
       "      <th>12</th>\n",
       "      <td>0</td>\n",
       "      <td>NaN</td>\n",
       "      <td>65</td>\n",
       "      <td>среднее</td>\n",
       "      <td>1</td>\n",
       "      <td>гражданский брак</td>\n",
       "      <td>1</td>\n",
       "      <td>M</td>\n",
       "      <td>пенсионер</td>\n",
       "      <td>0</td>\n",
       "      <td>145017.937533</td>\n",
       "      <td>сыграть свадьбу</td>\n",
       "    </tr>\n",
       "    <tr>\n",
       "      <th>18</th>\n",
       "      <td>0</td>\n",
       "      <td>400281.136913</td>\n",
       "      <td>53</td>\n",
       "      <td>среднее</td>\n",
       "      <td>1</td>\n",
       "      <td>вдовец / вдова</td>\n",
       "      <td>2</td>\n",
       "      <td>F</td>\n",
       "      <td>пенсионер</td>\n",
       "      <td>0</td>\n",
       "      <td>56823.777243</td>\n",
       "      <td>на покупку подержанного автомобиля</td>\n",
       "    </tr>\n",
       "    <tr>\n",
       "      <th>24</th>\n",
       "      <td>1</td>\n",
       "      <td>338551.952911</td>\n",
       "      <td>57</td>\n",
       "      <td>среднее</td>\n",
       "      <td>1</td>\n",
       "      <td>Не женат / не замужем</td>\n",
       "      <td>4</td>\n",
       "      <td>F</td>\n",
       "      <td>пенсионер</td>\n",
       "      <td>0</td>\n",
       "      <td>290547.235997</td>\n",
       "      <td>операции с коммерческой недвижимостью</td>\n",
       "    </tr>\n",
       "    <tr>\n",
       "      <th>25</th>\n",
       "      <td>0</td>\n",
       "      <td>363548.489348</td>\n",
       "      <td>67</td>\n",
       "      <td>среднее</td>\n",
       "      <td>1</td>\n",
       "      <td>женат / замужем</td>\n",
       "      <td>0</td>\n",
       "      <td>M</td>\n",
       "      <td>пенсионер</td>\n",
       "      <td>0</td>\n",
       "      <td>55112.757732</td>\n",
       "      <td>покупка недвижимости</td>\n",
       "    </tr>\n",
       "  </tbody>\n",
       "</table>\n",
       "</div>"
      ],
      "text/plain": [
       "    children  days_employed  dob_years education  education_id  \\\n",
       "4          0  340266.072047         53   среднее             1   \n",
       "12         0            NaN         65   среднее             1   \n",
       "18         0  400281.136913         53   среднее             1   \n",
       "24         1  338551.952911         57   среднее             1   \n",
       "25         0  363548.489348         67   среднее             1   \n",
       "\n",
       "            family_status  family_status_id gender income_type  debt  \\\n",
       "4        гражданский брак                 1      F   пенсионер     0   \n",
       "12       гражданский брак                 1      M   пенсионер     0   \n",
       "18         вдовец / вдова                 2      F   пенсионер     0   \n",
       "24  Не женат / не замужем                 4      F   пенсионер     0   \n",
       "25        женат / замужем                 0      M   пенсионер     0   \n",
       "\n",
       "     total_income                                purpose  \n",
       "4   158616.077870                        сыграть свадьбу  \n",
       "12  145017.937533                        сыграть свадьбу  \n",
       "18   56823.777243     на покупку подержанного автомобиля  \n",
       "24  290547.235997  операции с коммерческой недвижимостью  \n",
       "25   55112.757732                   покупка недвижимости  "
      ]
     },
     "execution_count": 15,
     "metadata": {},
     "output_type": "execute_result"
    }
   ],
   "source": [
    "check_pensioner = credit_data[credit_data['income_type'] == 'пенсионер']\n",
    "check_pensioner.head()"
   ]
  },
  {
   "cell_type": "code",
   "execution_count": 16,
   "id": "78a50494",
   "metadata": {
    "scrolled": true
   },
   "outputs": [
    {
     "data": {
      "text/html": [
       "<div>\n",
       "<style scoped>\n",
       "    .dataframe tbody tr th:only-of-type {\n",
       "        vertical-align: middle;\n",
       "    }\n",
       "\n",
       "    .dataframe tbody tr th {\n",
       "        vertical-align: top;\n",
       "    }\n",
       "\n",
       "    .dataframe thead th {\n",
       "        text-align: right;\n",
       "    }\n",
       "</style>\n",
       "<table border=\"1\" class=\"dataframe\">\n",
       "  <thead>\n",
       "    <tr style=\"text-align: right;\">\n",
       "      <th></th>\n",
       "      <th>children</th>\n",
       "      <th>days_employed</th>\n",
       "      <th>dob_years</th>\n",
       "      <th>education</th>\n",
       "      <th>education_id</th>\n",
       "      <th>family_status</th>\n",
       "      <th>family_status_id</th>\n",
       "      <th>gender</th>\n",
       "      <th>income_type</th>\n",
       "      <th>debt</th>\n",
       "      <th>total_income</th>\n",
       "      <th>purpose</th>\n",
       "    </tr>\n",
       "  </thead>\n",
       "  <tbody>\n",
       "    <tr>\n",
       "      <th>0</th>\n",
       "      <td>1</td>\n",
       "      <td>-8437.673028</td>\n",
       "      <td>42</td>\n",
       "      <td>высшее</td>\n",
       "      <td>0</td>\n",
       "      <td>женат / замужем</td>\n",
       "      <td>0</td>\n",
       "      <td>F</td>\n",
       "      <td>сотрудник</td>\n",
       "      <td>0</td>\n",
       "      <td>253875.639453</td>\n",
       "      <td>покупка жилья</td>\n",
       "    </tr>\n",
       "    <tr>\n",
       "      <th>1</th>\n",
       "      <td>1</td>\n",
       "      <td>-4024.803754</td>\n",
       "      <td>36</td>\n",
       "      <td>среднее</td>\n",
       "      <td>1</td>\n",
       "      <td>женат / замужем</td>\n",
       "      <td>0</td>\n",
       "      <td>F</td>\n",
       "      <td>сотрудник</td>\n",
       "      <td>0</td>\n",
       "      <td>112080.014102</td>\n",
       "      <td>приобретение автомобиля</td>\n",
       "    </tr>\n",
       "    <tr>\n",
       "      <th>2</th>\n",
       "      <td>0</td>\n",
       "      <td>-5623.422610</td>\n",
       "      <td>33</td>\n",
       "      <td>Среднее</td>\n",
       "      <td>1</td>\n",
       "      <td>женат / замужем</td>\n",
       "      <td>0</td>\n",
       "      <td>M</td>\n",
       "      <td>сотрудник</td>\n",
       "      <td>0</td>\n",
       "      <td>145885.952297</td>\n",
       "      <td>покупка жилья</td>\n",
       "    </tr>\n",
       "    <tr>\n",
       "      <th>3</th>\n",
       "      <td>3</td>\n",
       "      <td>-4124.747207</td>\n",
       "      <td>32</td>\n",
       "      <td>среднее</td>\n",
       "      <td>1</td>\n",
       "      <td>женат / замужем</td>\n",
       "      <td>0</td>\n",
       "      <td>M</td>\n",
       "      <td>сотрудник</td>\n",
       "      <td>0</td>\n",
       "      <td>267628.550329</td>\n",
       "      <td>дополнительное образование</td>\n",
       "    </tr>\n",
       "    <tr>\n",
       "      <th>5</th>\n",
       "      <td>0</td>\n",
       "      <td>-926.185831</td>\n",
       "      <td>27</td>\n",
       "      <td>высшее</td>\n",
       "      <td>0</td>\n",
       "      <td>гражданский брак</td>\n",
       "      <td>1</td>\n",
       "      <td>M</td>\n",
       "      <td>компаньон</td>\n",
       "      <td>0</td>\n",
       "      <td>255763.565419</td>\n",
       "      <td>покупка жилья</td>\n",
       "    </tr>\n",
       "  </tbody>\n",
       "</table>\n",
       "</div>"
      ],
      "text/plain": [
       "   children  days_employed  dob_years education  education_id  \\\n",
       "0         1   -8437.673028         42    высшее             0   \n",
       "1         1   -4024.803754         36   среднее             1   \n",
       "2         0   -5623.422610         33   Среднее             1   \n",
       "3         3   -4124.747207         32   среднее             1   \n",
       "5         0    -926.185831         27    высшее             0   \n",
       "\n",
       "      family_status  family_status_id gender income_type  debt   total_income  \\\n",
       "0   женат / замужем                 0      F   сотрудник     0  253875.639453   \n",
       "1   женат / замужем                 0      F   сотрудник     0  112080.014102   \n",
       "2   женат / замужем                 0      M   сотрудник     0  145885.952297   \n",
       "3   женат / замужем                 0      M   сотрудник     0  267628.550329   \n",
       "5  гражданский брак                 1      M   компаньон     0  255763.565419   \n",
       "\n",
       "                      purpose  \n",
       "0               покупка жилья  \n",
       "1     приобретение автомобиля  \n",
       "2               покупка жилья  \n",
       "3  дополнительное образование  \n",
       "5               покупка жилья  "
      ]
     },
     "execution_count": 16,
     "metadata": {},
     "output_type": "execute_result"
    }
   ],
   "source": [
    "check_not_pensioner = credit_data[credit_data['income_type'] != 'пенсионер']\n",
    "check_not_pensioner.head()"
   ]
  },
  {
   "cell_type": "markdown",
   "id": "74b259e3",
   "metadata": {},
   "source": [
    "Действительно, при фильтарции данных мы видим подтверждение. Для дальнейшей работы требуется привести данные по стажу к реальному виду и  в последстви разобраться с пропусками. проведем корректировки в столбце days_employed.\n",
    "\n",
    "Вероятно отрицательные числа могли появиться в следствие того, что перепутались местами время начала и конца работы.\n",
    "Для корректировки данного столбца необходимо:\n",
    "\n",
    "1. значения > 0 поделим на 20\n",
    "\n",
    "2. значаения < 0 переведем в абсолютные значения"
   ]
  },
  {
   "cell_type": "code",
   "execution_count": 17,
   "id": "c836a7ea",
   "metadata": {},
   "outputs": [
    {
     "data": {
      "text/html": [
       "<div>\n",
       "<style scoped>\n",
       "    .dataframe tbody tr th:only-of-type {\n",
       "        vertical-align: middle;\n",
       "    }\n",
       "\n",
       "    .dataframe tbody tr th {\n",
       "        vertical-align: top;\n",
       "    }\n",
       "\n",
       "    .dataframe thead th {\n",
       "        text-align: right;\n",
       "    }\n",
       "</style>\n",
       "<table border=\"1\" class=\"dataframe\">\n",
       "  <thead>\n",
       "    <tr style=\"text-align: right;\">\n",
       "      <th></th>\n",
       "      <th>children</th>\n",
       "      <th>days_employed</th>\n",
       "      <th>dob_years</th>\n",
       "      <th>education</th>\n",
       "      <th>education_id</th>\n",
       "      <th>family_status</th>\n",
       "      <th>family_status_id</th>\n",
       "      <th>gender</th>\n",
       "      <th>income_type</th>\n",
       "      <th>debt</th>\n",
       "      <th>total_income</th>\n",
       "      <th>purpose</th>\n",
       "    </tr>\n",
       "  </thead>\n",
       "  <tbody>\n",
       "    <tr>\n",
       "      <th>0</th>\n",
       "      <td>1</td>\n",
       "      <td>-8437.673028</td>\n",
       "      <td>42</td>\n",
       "      <td>высшее</td>\n",
       "      <td>0</td>\n",
       "      <td>женат / замужем</td>\n",
       "      <td>0</td>\n",
       "      <td>F</td>\n",
       "      <td>сотрудник</td>\n",
       "      <td>0</td>\n",
       "      <td>253875.639453</td>\n",
       "      <td>покупка жилья</td>\n",
       "    </tr>\n",
       "    <tr>\n",
       "      <th>1</th>\n",
       "      <td>1</td>\n",
       "      <td>-4024.803754</td>\n",
       "      <td>36</td>\n",
       "      <td>среднее</td>\n",
       "      <td>1</td>\n",
       "      <td>женат / замужем</td>\n",
       "      <td>0</td>\n",
       "      <td>F</td>\n",
       "      <td>сотрудник</td>\n",
       "      <td>0</td>\n",
       "      <td>112080.014102</td>\n",
       "      <td>приобретение автомобиля</td>\n",
       "    </tr>\n",
       "    <tr>\n",
       "      <th>2</th>\n",
       "      <td>0</td>\n",
       "      <td>-5623.422610</td>\n",
       "      <td>33</td>\n",
       "      <td>Среднее</td>\n",
       "      <td>1</td>\n",
       "      <td>женат / замужем</td>\n",
       "      <td>0</td>\n",
       "      <td>M</td>\n",
       "      <td>сотрудник</td>\n",
       "      <td>0</td>\n",
       "      <td>145885.952297</td>\n",
       "      <td>покупка жилья</td>\n",
       "    </tr>\n",
       "    <tr>\n",
       "      <th>3</th>\n",
       "      <td>3</td>\n",
       "      <td>-4124.747207</td>\n",
       "      <td>32</td>\n",
       "      <td>среднее</td>\n",
       "      <td>1</td>\n",
       "      <td>женат / замужем</td>\n",
       "      <td>0</td>\n",
       "      <td>M</td>\n",
       "      <td>сотрудник</td>\n",
       "      <td>0</td>\n",
       "      <td>267628.550329</td>\n",
       "      <td>дополнительное образование</td>\n",
       "    </tr>\n",
       "    <tr>\n",
       "      <th>4</th>\n",
       "      <td>0</td>\n",
       "      <td>17013.303602</td>\n",
       "      <td>53</td>\n",
       "      <td>среднее</td>\n",
       "      <td>1</td>\n",
       "      <td>гражданский брак</td>\n",
       "      <td>1</td>\n",
       "      <td>F</td>\n",
       "      <td>пенсионер</td>\n",
       "      <td>0</td>\n",
       "      <td>158616.077870</td>\n",
       "      <td>сыграть свадьбу</td>\n",
       "    </tr>\n",
       "  </tbody>\n",
       "</table>\n",
       "</div>"
      ],
      "text/plain": [
       "   children  days_employed  dob_years education  education_id  \\\n",
       "0         1   -8437.673028         42    высшее             0   \n",
       "1         1   -4024.803754         36   среднее             1   \n",
       "2         0   -5623.422610         33   Среднее             1   \n",
       "3         3   -4124.747207         32   среднее             1   \n",
       "4         0   17013.303602         53   среднее             1   \n",
       "\n",
       "      family_status  family_status_id gender income_type  debt   total_income  \\\n",
       "0   женат / замужем                 0      F   сотрудник     0  253875.639453   \n",
       "1   женат / замужем                 0      F   сотрудник     0  112080.014102   \n",
       "2   женат / замужем                 0      M   сотрудник     0  145885.952297   \n",
       "3   женат / замужем                 0      M   сотрудник     0  267628.550329   \n",
       "4  гражданский брак                 1      F   пенсионер     0  158616.077870   \n",
       "\n",
       "                      purpose  \n",
       "0               покупка жилья  \n",
       "1     приобретение автомобиля  \n",
       "2               покупка жилья  \n",
       "3  дополнительное образование  \n",
       "4             сыграть свадьбу  "
      ]
     },
     "execution_count": 17,
     "metadata": {},
     "output_type": "execute_result"
    }
   ],
   "source": [
    "credit_data.loc[credit_data['days_employed'] >=0, 'days_employed'] = credit_data['days_employed']/20\n",
    "credit_data.head()"
   ]
  },
  {
   "cell_type": "code",
   "execution_count": 18,
   "id": "56cbaf1a",
   "metadata": {},
   "outputs": [
    {
     "data": {
      "text/html": [
       "<div>\n",
       "<style scoped>\n",
       "    .dataframe tbody tr th:only-of-type {\n",
       "        vertical-align: middle;\n",
       "    }\n",
       "\n",
       "    .dataframe tbody tr th {\n",
       "        vertical-align: top;\n",
       "    }\n",
       "\n",
       "    .dataframe thead th {\n",
       "        text-align: right;\n",
       "    }\n",
       "</style>\n",
       "<table border=\"1\" class=\"dataframe\">\n",
       "  <thead>\n",
       "    <tr style=\"text-align: right;\">\n",
       "      <th></th>\n",
       "      <th>children</th>\n",
       "      <th>days_employed</th>\n",
       "      <th>dob_years</th>\n",
       "      <th>education</th>\n",
       "      <th>education_id</th>\n",
       "      <th>family_status</th>\n",
       "      <th>family_status_id</th>\n",
       "      <th>gender</th>\n",
       "      <th>income_type</th>\n",
       "      <th>debt</th>\n",
       "      <th>total_income</th>\n",
       "      <th>purpose</th>\n",
       "    </tr>\n",
       "  </thead>\n",
       "  <tbody>\n",
       "    <tr>\n",
       "      <th>0</th>\n",
       "      <td>1</td>\n",
       "      <td>8437.673028</td>\n",
       "      <td>42</td>\n",
       "      <td>высшее</td>\n",
       "      <td>0</td>\n",
       "      <td>женат / замужем</td>\n",
       "      <td>0</td>\n",
       "      <td>F</td>\n",
       "      <td>сотрудник</td>\n",
       "      <td>0</td>\n",
       "      <td>253875.639453</td>\n",
       "      <td>покупка жилья</td>\n",
       "    </tr>\n",
       "    <tr>\n",
       "      <th>1</th>\n",
       "      <td>1</td>\n",
       "      <td>4024.803754</td>\n",
       "      <td>36</td>\n",
       "      <td>среднее</td>\n",
       "      <td>1</td>\n",
       "      <td>женат / замужем</td>\n",
       "      <td>0</td>\n",
       "      <td>F</td>\n",
       "      <td>сотрудник</td>\n",
       "      <td>0</td>\n",
       "      <td>112080.014102</td>\n",
       "      <td>приобретение автомобиля</td>\n",
       "    </tr>\n",
       "    <tr>\n",
       "      <th>2</th>\n",
       "      <td>0</td>\n",
       "      <td>5623.422610</td>\n",
       "      <td>33</td>\n",
       "      <td>Среднее</td>\n",
       "      <td>1</td>\n",
       "      <td>женат / замужем</td>\n",
       "      <td>0</td>\n",
       "      <td>M</td>\n",
       "      <td>сотрудник</td>\n",
       "      <td>0</td>\n",
       "      <td>145885.952297</td>\n",
       "      <td>покупка жилья</td>\n",
       "    </tr>\n",
       "    <tr>\n",
       "      <th>3</th>\n",
       "      <td>3</td>\n",
       "      <td>4124.747207</td>\n",
       "      <td>32</td>\n",
       "      <td>среднее</td>\n",
       "      <td>1</td>\n",
       "      <td>женат / замужем</td>\n",
       "      <td>0</td>\n",
       "      <td>M</td>\n",
       "      <td>сотрудник</td>\n",
       "      <td>0</td>\n",
       "      <td>267628.550329</td>\n",
       "      <td>дополнительное образование</td>\n",
       "    </tr>\n",
       "    <tr>\n",
       "      <th>4</th>\n",
       "      <td>0</td>\n",
       "      <td>17013.303602</td>\n",
       "      <td>53</td>\n",
       "      <td>среднее</td>\n",
       "      <td>1</td>\n",
       "      <td>гражданский брак</td>\n",
       "      <td>1</td>\n",
       "      <td>F</td>\n",
       "      <td>пенсионер</td>\n",
       "      <td>0</td>\n",
       "      <td>158616.077870</td>\n",
       "      <td>сыграть свадьбу</td>\n",
       "    </tr>\n",
       "  </tbody>\n",
       "</table>\n",
       "</div>"
      ],
      "text/plain": [
       "   children  days_employed  dob_years education  education_id  \\\n",
       "0         1    8437.673028         42    высшее             0   \n",
       "1         1    4024.803754         36   среднее             1   \n",
       "2         0    5623.422610         33   Среднее             1   \n",
       "3         3    4124.747207         32   среднее             1   \n",
       "4         0   17013.303602         53   среднее             1   \n",
       "\n",
       "      family_status  family_status_id gender income_type  debt   total_income  \\\n",
       "0   женат / замужем                 0      F   сотрудник     0  253875.639453   \n",
       "1   женат / замужем                 0      F   сотрудник     0  112080.014102   \n",
       "2   женат / замужем                 0      M   сотрудник     0  145885.952297   \n",
       "3   женат / замужем                 0      M   сотрудник     0  267628.550329   \n",
       "4  гражданский брак                 1      F   пенсионер     0  158616.077870   \n",
       "\n",
       "                      purpose  \n",
       "0               покупка жилья  \n",
       "1     приобретение автомобиля  \n",
       "2               покупка жилья  \n",
       "3  дополнительное образование  \n",
       "4             сыграть свадьбу  "
      ]
     },
     "execution_count": 18,
     "metadata": {},
     "output_type": "execute_result"
    }
   ],
   "source": [
    "credit_data.loc[credit_data['days_employed'] <=0, 'days_employed'] = credit_data['days_employed'].abs()\n",
    "credit_data.head()"
   ]
  },
  {
   "cell_type": "markdown",
   "id": "f9ef1041",
   "metadata": {},
   "source": [
    "Теперь заменим пропуски в столбце days_employed, на медианные значения"
   ]
  },
  {
   "cell_type": "code",
   "execution_count": 19,
   "id": "58e2cc29",
   "metadata": {},
   "outputs": [
    {
     "name": "stdout",
     "output_type": "stream",
     "text": [
      "<class 'pandas.core.frame.DataFrame'>\n",
      "RangeIndex: 21525 entries, 0 to 21524\n",
      "Data columns (total 12 columns):\n",
      " #   Column            Non-Null Count  Dtype  \n",
      "---  ------            --------------  -----  \n",
      " 0   children          21525 non-null  int64  \n",
      " 1   days_employed     21525 non-null  float64\n",
      " 2   dob_years         21525 non-null  int64  \n",
      " 3   education         21525 non-null  object \n",
      " 4   education_id      21525 non-null  int64  \n",
      " 5   family_status     21525 non-null  object \n",
      " 6   family_status_id  21525 non-null  int64  \n",
      " 7   gender            21525 non-null  object \n",
      " 8   income_type       21525 non-null  object \n",
      " 9   debt              21525 non-null  int64  \n",
      " 10  total_income      21525 non-null  float64\n",
      " 11  purpose           21525 non-null  object \n",
      "dtypes: float64(2), int64(5), object(5)\n",
      "memory usage: 2.0+ MB\n"
     ]
    }
   ],
   "source": [
    "median_days_employed = credit_data['days_employed'].median()\n",
    "credit_data['days_employed'] = credit_data['days_employed'].fillna(median_total_income)\n",
    "credit_data.info()"
   ]
  },
  {
   "cell_type": "markdown",
   "id": "7bd54a83",
   "metadata": {},
   "source": [
    "Так как далее нам предстоит ответить на вопрос о влиянии количества детей на возврат кредита, проверим на аномалии значения в столбце children"
   ]
  },
  {
   "cell_type": "code",
   "execution_count": 20,
   "id": "abdf0a73",
   "metadata": {},
   "outputs": [
    {
     "data": {
      "text/plain": [
       "array([ 1,  0,  3,  2, -1,  4, 20,  5])"
      ]
     },
     "execution_count": 20,
     "metadata": {},
     "output_type": "execute_result"
    }
   ],
   "source": [
    "check_children = credit_data['children'].unique()\n",
    "check_children"
   ]
  },
  {
   "cell_type": "markdown",
   "id": "284c7a1b",
   "metadata": {},
   "source": [
    "Имеется аномальное значение -1, вероятно, это ошибка. Проверим сколько раз данное значение встречается в столбце."
   ]
  },
  {
   "cell_type": "code",
   "execution_count": 21,
   "id": "47571c83",
   "metadata": {},
   "outputs": [
    {
     "data": {
      "text/plain": [
       "children\n",
       "-1        47\n",
       " 0     14149\n",
       " 1      4818\n",
       " 2      2055\n",
       " 3       330\n",
       " 4        41\n",
       " 5         9\n",
       " 20       76\n",
       "Name: debt, dtype: int64"
      ]
     },
     "execution_count": 21,
     "metadata": {},
     "output_type": "execute_result"
    }
   ],
   "source": [
    "credit_data.groupby('children')['debt'].count()"
   ]
  },
  {
   "cell_type": "markdown",
   "id": "5b9d9b56",
   "metadata": {},
   "source": [
    "Так как значение занимает незначительную долю в столбце, примим допущение, что -1 это 0. "
   ]
  },
  {
   "cell_type": "code",
   "execution_count": 22,
   "id": "42fdb3c3",
   "metadata": {},
   "outputs": [
    {
     "data": {
      "text/plain": [
       "children\n",
       "0     14196\n",
       "1      4818\n",
       "2      2055\n",
       "3       330\n",
       "4        41\n",
       "5         9\n",
       "20       76\n",
       "Name: debt, dtype: int64"
      ]
     },
     "execution_count": 22,
     "metadata": {},
     "output_type": "execute_result"
    }
   ],
   "source": [
    "credit_data.loc[credit_data['children'] == -1, 'children'] = 0\n",
    "credit_data.groupby('children')['debt'].count()"
   ]
  },
  {
   "cell_type": "markdown",
   "id": "a64882b8",
   "metadata": {},
   "source": [
    "### Шаг 2.3. Изменение типов данных."
   ]
  },
  {
   "cell_type": "markdown",
   "id": "5f825cff",
   "metadata": {},
   "source": [
    "Приведем значения в столбцах days_employed и total_income к целочисленным значениям и далее проверим результат."
   ]
  },
  {
   "cell_type": "code",
   "execution_count": 23,
   "id": "7776bbe3",
   "metadata": {},
   "outputs": [
    {
     "name": "stdout",
     "output_type": "stream",
     "text": [
      "<class 'pandas.core.frame.DataFrame'>\n",
      "RangeIndex: 21525 entries, 0 to 21524\n",
      "Data columns (total 12 columns):\n",
      " #   Column            Non-Null Count  Dtype \n",
      "---  ------            --------------  ----- \n",
      " 0   children          21525 non-null  int64 \n",
      " 1   days_employed     21525 non-null  int64 \n",
      " 2   dob_years         21525 non-null  int64 \n",
      " 3   education         21525 non-null  object\n",
      " 4   education_id      21525 non-null  int64 \n",
      " 5   family_status     21525 non-null  object\n",
      " 6   family_status_id  21525 non-null  int64 \n",
      " 7   gender            21525 non-null  object\n",
      " 8   income_type       21525 non-null  object\n",
      " 9   debt              21525 non-null  int64 \n",
      " 10  total_income      21525 non-null  int64 \n",
      " 11  purpose           21525 non-null  object\n",
      "dtypes: int64(7), object(5)\n",
      "memory usage: 2.0+ MB\n"
     ]
    }
   ],
   "source": [
    "credit_data['days_employed'] = credit_data['days_employed'].astype('int')\n",
    "credit_data['total_income'] = credit_data['total_income'].astype('int')\n",
    "credit_data.info()"
   ]
  },
  {
   "cell_type": "markdown",
   "id": "e146d891",
   "metadata": {},
   "source": [
    "### Шаг 2.4. Удаление дубликатов."
   ]
  },
  {
   "cell_type": "markdown",
   "id": "3da59fad",
   "metadata": {},
   "source": [
    "Проверим наличие дубликатов в таблице."
   ]
  },
  {
   "cell_type": "code",
   "execution_count": 24,
   "id": "964e2d2b",
   "metadata": {},
   "outputs": [
    {
     "data": {
      "text/plain": [
       "54"
      ]
     },
     "execution_count": 24,
     "metadata": {},
     "output_type": "execute_result"
    }
   ],
   "source": [
    "credit_data.duplicated().sum()"
   ]
  },
  {
   "cell_type": "markdown",
   "id": "35437051",
   "metadata": {},
   "source": [
    "Избавимся от явных дубликатов"
   ]
  },
  {
   "cell_type": "code",
   "execution_count": 25,
   "id": "98277934",
   "metadata": {},
   "outputs": [],
   "source": [
    "credit_data = credit_data.drop_duplicates().reset_index(drop=True)"
   ]
  },
  {
   "cell_type": "markdown",
   "id": "391bf9cd",
   "metadata": {},
   "source": [
    "Проверим, что избавились полностью от явных дубликатов."
   ]
  },
  {
   "cell_type": "code",
   "execution_count": 26,
   "id": "e405f547",
   "metadata": {
    "scrolled": true
   },
   "outputs": [
    {
     "data": {
      "text/plain": [
       "0"
      ]
     },
     "execution_count": 26,
     "metadata": {},
     "output_type": "execute_result"
    }
   ],
   "source": [
    "credit_data.duplicated().sum()"
   ]
  },
  {
   "cell_type": "markdown",
   "id": "cc59109c",
   "metadata": {},
   "source": [
    "Теперь обработаем неявные дубликаты в таблице."
   ]
  },
  {
   "cell_type": "code",
   "execution_count": 27,
   "id": "3a81b1d9",
   "metadata": {},
   "outputs": [
    {
     "data": {
      "text/plain": [
       "среднее                13705\n",
       "высшее                  4710\n",
       "СРЕДНЕЕ                  772\n",
       "Среднее                  711\n",
       "неоконченное высшее      668\n",
       "ВЫСШЕЕ                   273\n",
       "Высшее                   268\n",
       "начальное                250\n",
       "Неоконченное высшее       47\n",
       "НЕОКОНЧЕННОЕ ВЫСШЕЕ       29\n",
       "НАЧАЛЬНОЕ                 17\n",
       "Начальное                 15\n",
       "ученая степень             4\n",
       "Ученая степень             1\n",
       "УЧЕНАЯ СТЕПЕНЬ             1\n",
       "Name: education, dtype: int64"
      ]
     },
     "execution_count": 27,
     "metadata": {},
     "output_type": "execute_result"
    }
   ],
   "source": [
    "credit_data['education'].value_counts()"
   ]
  },
  {
   "cell_type": "code",
   "execution_count": 28,
   "id": "97671fb4",
   "metadata": {},
   "outputs": [
    {
     "data": {
      "text/plain": [
       "женат / замужем          12344\n",
       "гражданский брак          4163\n",
       "Не женат / не замужем     2810\n",
       "в разводе                 1195\n",
       "вдовец / вдова             959\n",
       "Name: family_status, dtype: int64"
      ]
     },
     "execution_count": 28,
     "metadata": {},
     "output_type": "execute_result"
    }
   ],
   "source": [
    "credit_data['family_status'].value_counts()"
   ]
  },
  {
   "cell_type": "code",
   "execution_count": 29,
   "id": "b7ba458f",
   "metadata": {},
   "outputs": [
    {
     "data": {
      "text/plain": [
       "F      14189\n",
       "M       7281\n",
       "XNA        1\n",
       "Name: gender, dtype: int64"
      ]
     },
     "execution_count": 29,
     "metadata": {},
     "output_type": "execute_result"
    }
   ],
   "source": [
    "credit_data['gender'].value_counts()"
   ]
  },
  {
   "cell_type": "code",
   "execution_count": 30,
   "id": "7425ce0d",
   "metadata": {},
   "outputs": [
    {
     "data": {
      "text/plain": [
       "сотрудник          11091\n",
       "компаньон           5080\n",
       "пенсионер           3837\n",
       "госслужащий         1457\n",
       "безработный            2\n",
       "предприниматель        2\n",
       "студент                1\n",
       "в декрете              1\n",
       "Name: income_type, dtype: int64"
      ]
     },
     "execution_count": 30,
     "metadata": {},
     "output_type": "execute_result"
    }
   ],
   "source": [
    "credit_data['income_type'].value_counts()"
   ]
  },
  {
   "cell_type": "code",
   "execution_count": 31,
   "id": "73568971",
   "metadata": {},
   "outputs": [
    {
     "data": {
      "text/plain": [
       "свадьба                                   793\n",
       "на проведение свадьбы                     773\n",
       "сыграть свадьбу                           769\n",
       "операции с недвижимостью                  675\n",
       "покупка коммерческой недвижимости         662\n",
       "покупка жилья для сдачи                   652\n",
       "операции с жильем                         652\n",
       "операции с коммерческой недвижимостью     650\n",
       "покупка жилья                             646\n",
       "жилье                                     646\n",
       "покупка жилья для семьи                   638\n",
       "строительство собственной недвижимости    635\n",
       "недвижимость                              633\n",
       "операции со своей недвижимостью           627\n",
       "строительство жилой недвижимости          625\n",
       "покупка недвижимости                      621\n",
       "покупка своего жилья                      620\n",
       "строительство недвижимости                619\n",
       "ремонт жилью                              607\n",
       "покупка жилой недвижимости                606\n",
       "на покупку своего автомобиля              505\n",
       "заняться высшим образованием              496\n",
       "автомобиль                                494\n",
       "сделка с подержанным автомобилем          486\n",
       "свой автомобиль                           479\n",
       "на покупку подержанного автомобиля        478\n",
       "автомобили                                478\n",
       "на покупку автомобиля                     472\n",
       "приобретение автомобиля                   461\n",
       "дополнительное образование                460\n",
       "сделка с автомобилем                      455\n",
       "высшее образование                        452\n",
       "образование                               447\n",
       "получение дополнительного образования     447\n",
       "получение образования                     442\n",
       "профильное образование                    436\n",
       "получение высшего образования             426\n",
       "заняться образованием                     408\n",
       "Name: purpose, dtype: int64"
      ]
     },
     "execution_count": 31,
     "metadata": {},
     "output_type": "execute_result"
    }
   ],
   "source": [
    "credit_data['purpose'].value_counts()"
   ]
  },
  {
   "cell_type": "markdown",
   "id": "00f8efcf",
   "metadata": {},
   "source": [
    "Неявные дубликаты присудствуют в столбцах education  В столбце education дубликаты связаны с различием в регистрах. Основную работу сконцетрируем на них. Остальные столбцы в таблице не имеет смысла корректировать, в том числе, на данном этапе столбец purpose, возможно эти данные пригодятся. Одна из возможных причин появления неявных дубликатов в данных столбцах - человеческий фактор. Клиненты заполняют информацию о себе, как им угодно."
   ]
  },
  {
   "cell_type": "code",
   "execution_count": 32,
   "id": "15a47c45",
   "metadata": {},
   "outputs": [
    {
     "data": {
      "text/plain": [
       "среднее                15188\n",
       "высшее                  5251\n",
       "неоконченное высшее      744\n",
       "начальное                282\n",
       "ученая степень             6\n",
       "Name: education, dtype: int64"
      ]
     },
     "execution_count": 32,
     "metadata": {},
     "output_type": "execute_result"
    }
   ],
   "source": [
    "credit_data['education'].str.lower().value_counts()"
   ]
  },
  {
   "cell_type": "markdown",
   "id": "303a2890",
   "metadata": {},
   "source": [
    "### Шаг 2.5. Формирование дополнительных датафреймов словарей, декомпозиция исходного датафрейма."
   ]
  },
  {
   "cell_type": "markdown",
   "id": "549fd338",
   "metadata": {},
   "source": [
    "Сформируем дополнительные датафреймы на основании образования и семейного положения."
   ]
  },
  {
   "cell_type": "code",
   "execution_count": 33,
   "id": "951801e4",
   "metadata": {},
   "outputs": [
    {
     "data": {
      "text/html": [
       "<div>\n",
       "<style scoped>\n",
       "    .dataframe tbody tr th:only-of-type {\n",
       "        vertical-align: middle;\n",
       "    }\n",
       "\n",
       "    .dataframe tbody tr th {\n",
       "        vertical-align: top;\n",
       "    }\n",
       "\n",
       "    .dataframe thead th {\n",
       "        text-align: right;\n",
       "    }\n",
       "</style>\n",
       "<table border=\"1\" class=\"dataframe\">\n",
       "  <thead>\n",
       "    <tr style=\"text-align: right;\">\n",
       "      <th></th>\n",
       "      <th>family_status</th>\n",
       "      <th>family_status_id</th>\n",
       "    </tr>\n",
       "  </thead>\n",
       "  <tbody>\n",
       "    <tr>\n",
       "      <th>0</th>\n",
       "      <td>женат / замужем</td>\n",
       "      <td>0</td>\n",
       "    </tr>\n",
       "    <tr>\n",
       "      <th>12375</th>\n",
       "      <td>женат / замужем</td>\n",
       "      <td>0</td>\n",
       "    </tr>\n",
       "    <tr>\n",
       "      <th>12377</th>\n",
       "      <td>женат / замужем</td>\n",
       "      <td>0</td>\n",
       "    </tr>\n",
       "    <tr>\n",
       "      <th>12380</th>\n",
       "      <td>женат / замужем</td>\n",
       "      <td>0</td>\n",
       "    </tr>\n",
       "    <tr>\n",
       "      <th>12382</th>\n",
       "      <td>женат / замужем</td>\n",
       "      <td>0</td>\n",
       "    </tr>\n",
       "    <tr>\n",
       "      <th>...</th>\n",
       "      <td>...</td>\n",
       "      <td>...</td>\n",
       "    </tr>\n",
       "    <tr>\n",
       "      <th>6933</th>\n",
       "      <td>Не женат / не замужем</td>\n",
       "      <td>4</td>\n",
       "    </tr>\n",
       "    <tr>\n",
       "      <th>16520</th>\n",
       "      <td>Не женат / не замужем</td>\n",
       "      <td>4</td>\n",
       "    </tr>\n",
       "    <tr>\n",
       "      <th>16519</th>\n",
       "      <td>Не женат / не замужем</td>\n",
       "      <td>4</td>\n",
       "    </tr>\n",
       "    <tr>\n",
       "      <th>2808</th>\n",
       "      <td>Не женат / не замужем</td>\n",
       "      <td>4</td>\n",
       "    </tr>\n",
       "    <tr>\n",
       "      <th>7852</th>\n",
       "      <td>Не женат / не замужем</td>\n",
       "      <td>4</td>\n",
       "    </tr>\n",
       "  </tbody>\n",
       "</table>\n",
       "<p>21471 rows × 2 columns</p>\n",
       "</div>"
      ],
      "text/plain": [
       "               family_status  family_status_id\n",
       "0            женат / замужем                 0\n",
       "12375        женат / замужем                 0\n",
       "12377        женат / замужем                 0\n",
       "12380        женат / замужем                 0\n",
       "12382        женат / замужем                 0\n",
       "...                      ...               ...\n",
       "6933   Не женат / не замужем                 4\n",
       "16520  Не женат / не замужем                 4\n",
       "16519  Не женат / не замужем                 4\n",
       "2808   Не женат / не замужем                 4\n",
       "7852   Не женат / не замужем                 4\n",
       "\n",
       "[21471 rows x 2 columns]"
      ]
     },
     "execution_count": 33,
     "metadata": {},
     "output_type": "execute_result"
    }
   ],
   "source": [
    "colums_education = ['education', 'education_id']\n",
    "data_education = []\n",
    "credit_education_id = credit_data.loc[:,['education', 'education_id']]\n",
    "credit_family_status_id = credit_data.loc[:,['family_status', 'family_status_id']]\n",
    "credit_family_status_id.sort_values(by = 'family_status_id')"
   ]
  },
  {
   "cell_type": "markdown",
   "id": "5774b60c",
   "metadata": {},
   "source": [
    "Из исходного датафрейма удалим столбцы education и family_status. Они у нас будут находится в отдельных таблицах."
   ]
  },
  {
   "cell_type": "code",
   "execution_count": 34,
   "id": "a1f46689",
   "metadata": {},
   "outputs": [
    {
     "data": {
      "text/html": [
       "<div>\n",
       "<style scoped>\n",
       "    .dataframe tbody tr th:only-of-type {\n",
       "        vertical-align: middle;\n",
       "    }\n",
       "\n",
       "    .dataframe tbody tr th {\n",
       "        vertical-align: top;\n",
       "    }\n",
       "\n",
       "    .dataframe thead th {\n",
       "        text-align: right;\n",
       "    }\n",
       "</style>\n",
       "<table border=\"1\" class=\"dataframe\">\n",
       "  <thead>\n",
       "    <tr style=\"text-align: right;\">\n",
       "      <th></th>\n",
       "      <th>children</th>\n",
       "      <th>days_employed</th>\n",
       "      <th>dob_years</th>\n",
       "      <th>education_id</th>\n",
       "      <th>family_status_id</th>\n",
       "      <th>gender</th>\n",
       "      <th>income_type</th>\n",
       "      <th>debt</th>\n",
       "      <th>total_income</th>\n",
       "      <th>purpose</th>\n",
       "    </tr>\n",
       "  </thead>\n",
       "  <tbody>\n",
       "    <tr>\n",
       "      <th>0</th>\n",
       "      <td>1</td>\n",
       "      <td>8437</td>\n",
       "      <td>42</td>\n",
       "      <td>0</td>\n",
       "      <td>0</td>\n",
       "      <td>F</td>\n",
       "      <td>сотрудник</td>\n",
       "      <td>0</td>\n",
       "      <td>253875</td>\n",
       "      <td>покупка жилья</td>\n",
       "    </tr>\n",
       "    <tr>\n",
       "      <th>1</th>\n",
       "      <td>1</td>\n",
       "      <td>4024</td>\n",
       "      <td>36</td>\n",
       "      <td>1</td>\n",
       "      <td>0</td>\n",
       "      <td>F</td>\n",
       "      <td>сотрудник</td>\n",
       "      <td>0</td>\n",
       "      <td>112080</td>\n",
       "      <td>приобретение автомобиля</td>\n",
       "    </tr>\n",
       "    <tr>\n",
       "      <th>2</th>\n",
       "      <td>0</td>\n",
       "      <td>5623</td>\n",
       "      <td>33</td>\n",
       "      <td>1</td>\n",
       "      <td>0</td>\n",
       "      <td>M</td>\n",
       "      <td>сотрудник</td>\n",
       "      <td>0</td>\n",
       "      <td>145885</td>\n",
       "      <td>покупка жилья</td>\n",
       "    </tr>\n",
       "    <tr>\n",
       "      <th>3</th>\n",
       "      <td>3</td>\n",
       "      <td>4124</td>\n",
       "      <td>32</td>\n",
       "      <td>1</td>\n",
       "      <td>0</td>\n",
       "      <td>M</td>\n",
       "      <td>сотрудник</td>\n",
       "      <td>0</td>\n",
       "      <td>267628</td>\n",
       "      <td>дополнительное образование</td>\n",
       "    </tr>\n",
       "    <tr>\n",
       "      <th>4</th>\n",
       "      <td>0</td>\n",
       "      <td>17013</td>\n",
       "      <td>53</td>\n",
       "      <td>1</td>\n",
       "      <td>1</td>\n",
       "      <td>F</td>\n",
       "      <td>пенсионер</td>\n",
       "      <td>0</td>\n",
       "      <td>158616</td>\n",
       "      <td>сыграть свадьбу</td>\n",
       "    </tr>\n",
       "  </tbody>\n",
       "</table>\n",
       "</div>"
      ],
      "text/plain": [
       "   children  days_employed  dob_years  education_id  family_status_id gender  \\\n",
       "0         1           8437         42             0                 0      F   \n",
       "1         1           4024         36             1                 0      F   \n",
       "2         0           5623         33             1                 0      M   \n",
       "3         3           4124         32             1                 0      M   \n",
       "4         0          17013         53             1                 1      F   \n",
       "\n",
       "  income_type  debt  total_income                     purpose  \n",
       "0   сотрудник     0        253875               покупка жилья  \n",
       "1   сотрудник     0        112080     приобретение автомобиля  \n",
       "2   сотрудник     0        145885               покупка жилья  \n",
       "3   сотрудник     0        267628  дополнительное образование  \n",
       "4   пенсионер     0        158616             сыграть свадьбу  "
      ]
     },
     "execution_count": 34,
     "metadata": {},
     "output_type": "execute_result"
    }
   ],
   "source": [
    "credit_data = credit_data.drop(columns = ['education', 'family_status'])\n",
    "credit_data.head()"
   ]
  },
  {
   "cell_type": "markdown",
   "id": "cba2ba1e",
   "metadata": {},
   "source": [
    "### Шаг 2.6. Категоризация дохода."
   ]
  },
  {
   "cell_type": "markdown",
   "id": "b7283f02",
   "metadata": {},
   "source": [
    "Для дальнейшего анализа необходимо приступить к категоризации данных. \n",
    "Категоризацию данных будем производить по двум признакам:\n",
    "\n",
    "1) ежемесячный доход заемщика\n",
    "\n",
    "2) цель кредита.\n",
    "\n",
    "Для создания новых столбцов создадим 2 функции, которые помогут произвести категоризацию."
   ]
  },
  {
   "cell_type": "markdown",
   "id": "f3d76ca5",
   "metadata": {},
   "source": [
    "На первом этапе создадим фунцию по категоризации доходов заемщика и далее эти данные внесем в новый столбец в исходной таблице.\n",
    "Категории по доходам выразим в следующем виде.\n",
    "\n",
    "0–30000 — 'E';\n",
    "\n",
    "30001–50000 — 'D';\n",
    "\n",
    "50001–200000 — 'C';\n",
    "\n",
    "200001–1000000 — 'B';\n",
    "\n",
    "1000001 и выше — 'A' "
   ]
  },
  {
   "cell_type": "code",
   "execution_count": 35,
   "id": "265ecce8",
   "metadata": {},
   "outputs": [],
   "source": [
    "def income_category(total_income):\n",
    "    try:\n",
    "        if total_income >= 0 and total_income <= 30000:\n",
    "            return 'E'\n",
    "        if total_income >= 30001 and total_income <= 50000:\n",
    "            return 'D'\n",
    "        if total_income >= 50001 and total_income <= 200000:\n",
    "            return 'C'\n",
    "        if total_income >= 200001 and total_income <= 1000000:\n",
    "            return 'B'\n",
    "        if total_income >= 1000001:\n",
    "            return 'A'\n",
    "    except:\n",
    "        return 'ошибка в значениях'"
   ]
  },
  {
   "cell_type": "markdown",
   "id": "96a83dcd",
   "metadata": {},
   "source": [
    "Проверим, что функция работает корректно."
   ]
  },
  {
   "cell_type": "code",
   "execution_count": 36,
   "id": "2daa1c38",
   "metadata": {},
   "outputs": [
    {
     "name": "stdout",
     "output_type": "stream",
     "text": [
      "E\n",
      "D\n",
      "C\n",
      "A\n"
     ]
    }
   ],
   "source": [
    "example_income = [10, 42000, 111000, 5000000]\n",
    "for money in example_income:\n",
    "    print(income_category(money))"
   ]
  },
  {
   "cell_type": "markdown",
   "id": "c30bd33c",
   "metadata": {},
   "source": [
    "Функция работает корректно,  теперь остается добавить новый столбец по категориям доходов в исходную таблицу. Назовем данный столбец total_income_category."
   ]
  },
  {
   "cell_type": "code",
   "execution_count": 37,
   "id": "907193a0",
   "metadata": {},
   "outputs": [
    {
     "data": {
      "text/html": [
       "<div>\n",
       "<style scoped>\n",
       "    .dataframe tbody tr th:only-of-type {\n",
       "        vertical-align: middle;\n",
       "    }\n",
       "\n",
       "    .dataframe tbody tr th {\n",
       "        vertical-align: top;\n",
       "    }\n",
       "\n",
       "    .dataframe thead th {\n",
       "        text-align: right;\n",
       "    }\n",
       "</style>\n",
       "<table border=\"1\" class=\"dataframe\">\n",
       "  <thead>\n",
       "    <tr style=\"text-align: right;\">\n",
       "      <th></th>\n",
       "      <th>children</th>\n",
       "      <th>days_employed</th>\n",
       "      <th>dob_years</th>\n",
       "      <th>education_id</th>\n",
       "      <th>family_status_id</th>\n",
       "      <th>gender</th>\n",
       "      <th>income_type</th>\n",
       "      <th>debt</th>\n",
       "      <th>total_income</th>\n",
       "      <th>purpose</th>\n",
       "      <th>total_income_category</th>\n",
       "    </tr>\n",
       "  </thead>\n",
       "  <tbody>\n",
       "    <tr>\n",
       "      <th>0</th>\n",
       "      <td>1</td>\n",
       "      <td>8437</td>\n",
       "      <td>42</td>\n",
       "      <td>0</td>\n",
       "      <td>0</td>\n",
       "      <td>F</td>\n",
       "      <td>сотрудник</td>\n",
       "      <td>0</td>\n",
       "      <td>253875</td>\n",
       "      <td>покупка жилья</td>\n",
       "      <td>B</td>\n",
       "    </tr>\n",
       "    <tr>\n",
       "      <th>1</th>\n",
       "      <td>1</td>\n",
       "      <td>4024</td>\n",
       "      <td>36</td>\n",
       "      <td>1</td>\n",
       "      <td>0</td>\n",
       "      <td>F</td>\n",
       "      <td>сотрудник</td>\n",
       "      <td>0</td>\n",
       "      <td>112080</td>\n",
       "      <td>приобретение автомобиля</td>\n",
       "      <td>C</td>\n",
       "    </tr>\n",
       "    <tr>\n",
       "      <th>2</th>\n",
       "      <td>0</td>\n",
       "      <td>5623</td>\n",
       "      <td>33</td>\n",
       "      <td>1</td>\n",
       "      <td>0</td>\n",
       "      <td>M</td>\n",
       "      <td>сотрудник</td>\n",
       "      <td>0</td>\n",
       "      <td>145885</td>\n",
       "      <td>покупка жилья</td>\n",
       "      <td>C</td>\n",
       "    </tr>\n",
       "    <tr>\n",
       "      <th>3</th>\n",
       "      <td>3</td>\n",
       "      <td>4124</td>\n",
       "      <td>32</td>\n",
       "      <td>1</td>\n",
       "      <td>0</td>\n",
       "      <td>M</td>\n",
       "      <td>сотрудник</td>\n",
       "      <td>0</td>\n",
       "      <td>267628</td>\n",
       "      <td>дополнительное образование</td>\n",
       "      <td>B</td>\n",
       "    </tr>\n",
       "    <tr>\n",
       "      <th>4</th>\n",
       "      <td>0</td>\n",
       "      <td>17013</td>\n",
       "      <td>53</td>\n",
       "      <td>1</td>\n",
       "      <td>1</td>\n",
       "      <td>F</td>\n",
       "      <td>пенсионер</td>\n",
       "      <td>0</td>\n",
       "      <td>158616</td>\n",
       "      <td>сыграть свадьбу</td>\n",
       "      <td>C</td>\n",
       "    </tr>\n",
       "  </tbody>\n",
       "</table>\n",
       "</div>"
      ],
      "text/plain": [
       "   children  days_employed  dob_years  education_id  family_status_id gender  \\\n",
       "0         1           8437         42             0                 0      F   \n",
       "1         1           4024         36             1                 0      F   \n",
       "2         0           5623         33             1                 0      M   \n",
       "3         3           4124         32             1                 0      M   \n",
       "4         0          17013         53             1                 1      F   \n",
       "\n",
       "  income_type  debt  total_income                     purpose  \\\n",
       "0   сотрудник     0        253875               покупка жилья   \n",
       "1   сотрудник     0        112080     приобретение автомобиля   \n",
       "2   сотрудник     0        145885               покупка жилья   \n",
       "3   сотрудник     0        267628  дополнительное образование   \n",
       "4   пенсионер     0        158616             сыграть свадьбу   \n",
       "\n",
       "  total_income_category  \n",
       "0                     B  \n",
       "1                     C  \n",
       "2                     C  \n",
       "3                     B  \n",
       "4                     C  "
      ]
     },
     "execution_count": 37,
     "metadata": {},
     "output_type": "execute_result"
    }
   ],
   "source": [
    "credit_data['total_income_category'] = credit_data['total_income'].apply(income_category)\n",
    "credit_data.head()"
   ]
  },
  {
   "cell_type": "markdown",
   "id": "349fa78f",
   "metadata": {},
   "source": [
    "### Шаг 2.7. Категоризация целей кредита."
   ]
  },
  {
   "cell_type": "markdown",
   "id": "b877b82b",
   "metadata": {},
   "source": [
    "Теперь категоризируем информацию по категориям целей кредита. \n",
    "Для этого аналогично предыдущему примеру напишем функцию и добавим новый столбец к таблице.\n",
    "\n",
    "Категории:\n",
    "\n",
    "'операции с автомобилем'\n",
    "\n",
    "'операции с недвижимостью'\n",
    "\n",
    "'проведение свадьбы'\n",
    "\n",
    "'получение образования'"
   ]
  },
  {
   "cell_type": "code",
   "execution_count": 38,
   "id": "bf1d6e05",
   "metadata": {},
   "outputs": [],
   "source": [
    "def purpose_category(category):\n",
    "    if 'автомобил' in category:\n",
    "        return 'операции с автомобилем'\n",
    "    if 'свадьб' in category:\n",
    "        return 'проведение свадьбы'\n",
    "    if 'образован' in category:\n",
    "        return 'получение образования'\n",
    "    if 'недвиж' or 'жиль' in category:\n",
    "        return 'операции с недвижимостью'"
   ]
  },
  {
   "cell_type": "code",
   "execution_count": 39,
   "id": "0a500a82",
   "metadata": {},
   "outputs": [
    {
     "data": {
      "text/html": [
       "<div>\n",
       "<style scoped>\n",
       "    .dataframe tbody tr th:only-of-type {\n",
       "        vertical-align: middle;\n",
       "    }\n",
       "\n",
       "    .dataframe tbody tr th {\n",
       "        vertical-align: top;\n",
       "    }\n",
       "\n",
       "    .dataframe thead th {\n",
       "        text-align: right;\n",
       "    }\n",
       "</style>\n",
       "<table border=\"1\" class=\"dataframe\">\n",
       "  <thead>\n",
       "    <tr style=\"text-align: right;\">\n",
       "      <th></th>\n",
       "      <th>children</th>\n",
       "      <th>days_employed</th>\n",
       "      <th>dob_years</th>\n",
       "      <th>education_id</th>\n",
       "      <th>family_status_id</th>\n",
       "      <th>gender</th>\n",
       "      <th>income_type</th>\n",
       "      <th>debt</th>\n",
       "      <th>total_income</th>\n",
       "      <th>purpose</th>\n",
       "      <th>total_income_category</th>\n",
       "      <th>purpose_category</th>\n",
       "    </tr>\n",
       "  </thead>\n",
       "  <tbody>\n",
       "    <tr>\n",
       "      <th>0</th>\n",
       "      <td>1</td>\n",
       "      <td>8437</td>\n",
       "      <td>42</td>\n",
       "      <td>0</td>\n",
       "      <td>0</td>\n",
       "      <td>F</td>\n",
       "      <td>сотрудник</td>\n",
       "      <td>0</td>\n",
       "      <td>253875</td>\n",
       "      <td>покупка жилья</td>\n",
       "      <td>B</td>\n",
       "      <td>операции с недвижимостью</td>\n",
       "    </tr>\n",
       "    <tr>\n",
       "      <th>1</th>\n",
       "      <td>1</td>\n",
       "      <td>4024</td>\n",
       "      <td>36</td>\n",
       "      <td>1</td>\n",
       "      <td>0</td>\n",
       "      <td>F</td>\n",
       "      <td>сотрудник</td>\n",
       "      <td>0</td>\n",
       "      <td>112080</td>\n",
       "      <td>приобретение автомобиля</td>\n",
       "      <td>C</td>\n",
       "      <td>операции с автомобилем</td>\n",
       "    </tr>\n",
       "    <tr>\n",
       "      <th>2</th>\n",
       "      <td>0</td>\n",
       "      <td>5623</td>\n",
       "      <td>33</td>\n",
       "      <td>1</td>\n",
       "      <td>0</td>\n",
       "      <td>M</td>\n",
       "      <td>сотрудник</td>\n",
       "      <td>0</td>\n",
       "      <td>145885</td>\n",
       "      <td>покупка жилья</td>\n",
       "      <td>C</td>\n",
       "      <td>операции с недвижимостью</td>\n",
       "    </tr>\n",
       "    <tr>\n",
       "      <th>3</th>\n",
       "      <td>3</td>\n",
       "      <td>4124</td>\n",
       "      <td>32</td>\n",
       "      <td>1</td>\n",
       "      <td>0</td>\n",
       "      <td>M</td>\n",
       "      <td>сотрудник</td>\n",
       "      <td>0</td>\n",
       "      <td>267628</td>\n",
       "      <td>дополнительное образование</td>\n",
       "      <td>B</td>\n",
       "      <td>получение образования</td>\n",
       "    </tr>\n",
       "    <tr>\n",
       "      <th>4</th>\n",
       "      <td>0</td>\n",
       "      <td>17013</td>\n",
       "      <td>53</td>\n",
       "      <td>1</td>\n",
       "      <td>1</td>\n",
       "      <td>F</td>\n",
       "      <td>пенсионер</td>\n",
       "      <td>0</td>\n",
       "      <td>158616</td>\n",
       "      <td>сыграть свадьбу</td>\n",
       "      <td>C</td>\n",
       "      <td>проведение свадьбы</td>\n",
       "    </tr>\n",
       "  </tbody>\n",
       "</table>\n",
       "</div>"
      ],
      "text/plain": [
       "   children  days_employed  dob_years  education_id  family_status_id gender  \\\n",
       "0         1           8437         42             0                 0      F   \n",
       "1         1           4024         36             1                 0      F   \n",
       "2         0           5623         33             1                 0      M   \n",
       "3         3           4124         32             1                 0      M   \n",
       "4         0          17013         53             1                 1      F   \n",
       "\n",
       "  income_type  debt  total_income                     purpose  \\\n",
       "0   сотрудник     0        253875               покупка жилья   \n",
       "1   сотрудник     0        112080     приобретение автомобиля   \n",
       "2   сотрудник     0        145885               покупка жилья   \n",
       "3   сотрудник     0        267628  дополнительное образование   \n",
       "4   пенсионер     0        158616             сыграть свадьбу   \n",
       "\n",
       "  total_income_category          purpose_category  \n",
       "0                     B  операции с недвижимостью  \n",
       "1                     C    операции с автомобилем  \n",
       "2                     C  операции с недвижимостью  \n",
       "3                     B     получение образования  \n",
       "4                     C        проведение свадьбы  "
      ]
     },
     "execution_count": 39,
     "metadata": {},
     "output_type": "execute_result"
    }
   ],
   "source": [
    "credit_data['purpose_category'] = credit_data['purpose'].apply(purpose_category)\n",
    "credit_data.head()"
   ]
  },
  {
   "cell_type": "markdown",
   "id": "fbfc52b8",
   "metadata": {},
   "source": [
    "### Ответы на вопросы."
   ]
  },
  {
   "cell_type": "markdown",
   "id": "8c58aa2e",
   "metadata": {},
   "source": [
    "##### Вопрос 1:"
   ]
  },
  {
   "cell_type": "markdown",
   "id": "77272631",
   "metadata": {},
   "source": [
    "**Есть ли зависимость между количеством детей и возвратом кредита в срок?**"
   ]
  },
  {
   "cell_type": "markdown",
   "id": "a1f372c3",
   "metadata": {},
   "source": [
    "Расчитаем долю возвратов кредитов по каждой группе."
   ]
  },
  {
   "cell_type": "code",
   "execution_count": 40,
   "id": "11e2def4",
   "metadata": {},
   "outputs": [
    {
     "data": {
      "text/html": [
       "<div>\n",
       "<style scoped>\n",
       "    .dataframe tbody tr th:only-of-type {\n",
       "        vertical-align: middle;\n",
       "    }\n",
       "\n",
       "    .dataframe tbody tr th {\n",
       "        vertical-align: top;\n",
       "    }\n",
       "\n",
       "    .dataframe thead tr th {\n",
       "        text-align: left;\n",
       "    }\n",
       "\n",
       "    .dataframe thead tr:last-of-type th {\n",
       "        text-align: right;\n",
       "    }\n",
       "</style>\n",
       "<table border=\"1\" class=\"dataframe\">\n",
       "  <thead>\n",
       "    <tr>\n",
       "      <th></th>\n",
       "      <th colspan=\"2\" halign=\"left\">debt</th>\n",
       "    </tr>\n",
       "    <tr>\n",
       "      <th></th>\n",
       "      <th>count</th>\n",
       "      <th>sum</th>\n",
       "    </tr>\n",
       "    <tr>\n",
       "      <th>children</th>\n",
       "      <th></th>\n",
       "      <th></th>\n",
       "    </tr>\n",
       "  </thead>\n",
       "  <tbody>\n",
       "    <tr>\n",
       "      <th>0</th>\n",
       "      <td>14154</td>\n",
       "      <td>1064</td>\n",
       "    </tr>\n",
       "    <tr>\n",
       "      <th>1</th>\n",
       "      <td>4809</td>\n",
       "      <td>444</td>\n",
       "    </tr>\n",
       "    <tr>\n",
       "      <th>2</th>\n",
       "      <td>2052</td>\n",
       "      <td>194</td>\n",
       "    </tr>\n",
       "    <tr>\n",
       "      <th>3</th>\n",
       "      <td>330</td>\n",
       "      <td>27</td>\n",
       "    </tr>\n",
       "    <tr>\n",
       "      <th>4</th>\n",
       "      <td>41</td>\n",
       "      <td>4</td>\n",
       "    </tr>\n",
       "    <tr>\n",
       "      <th>5</th>\n",
       "      <td>9</td>\n",
       "      <td>0</td>\n",
       "    </tr>\n",
       "    <tr>\n",
       "      <th>20</th>\n",
       "      <td>76</td>\n",
       "      <td>8</td>\n",
       "    </tr>\n",
       "  </tbody>\n",
       "</table>\n",
       "</div>"
      ],
      "text/plain": [
       "           debt      \n",
       "          count   sum\n",
       "children             \n",
       "0         14154  1064\n",
       "1          4809   444\n",
       "2          2052   194\n",
       "3           330    27\n",
       "4            41     4\n",
       "5             9     0\n",
       "20           76     8"
      ]
     },
     "execution_count": 40,
     "metadata": {},
     "output_type": "execute_result"
    }
   ],
   "source": [
    "children_info = credit_data.groupby('children').agg({'debt': ['count', 'sum',]})\n",
    "children_info"
   ]
  },
  {
   "cell_type": "code",
   "execution_count": 41,
   "id": "ea4ed386",
   "metadata": {},
   "outputs": [
    {
     "data": {
      "text/html": [
       "<div>\n",
       "<style scoped>\n",
       "    .dataframe tbody tr th:only-of-type {\n",
       "        vertical-align: middle;\n",
       "    }\n",
       "\n",
       "    .dataframe tbody tr th {\n",
       "        vertical-align: top;\n",
       "    }\n",
       "\n",
       "    .dataframe thead tr th {\n",
       "        text-align: left;\n",
       "    }\n",
       "\n",
       "    .dataframe thead tr:last-of-type th {\n",
       "        text-align: right;\n",
       "    }\n",
       "</style>\n",
       "<table border=\"1\" class=\"dataframe\">\n",
       "  <thead>\n",
       "    <tr>\n",
       "      <th></th>\n",
       "      <th colspan=\"2\" halign=\"left\">debt</th>\n",
       "      <th>ratio</th>\n",
       "    </tr>\n",
       "    <tr>\n",
       "      <th></th>\n",
       "      <th>count</th>\n",
       "      <th>sum</th>\n",
       "      <th></th>\n",
       "    </tr>\n",
       "    <tr>\n",
       "      <th>children</th>\n",
       "      <th></th>\n",
       "      <th></th>\n",
       "      <th></th>\n",
       "    </tr>\n",
       "  </thead>\n",
       "  <tbody>\n",
       "    <tr>\n",
       "      <th>0</th>\n",
       "      <td>14154</td>\n",
       "      <td>1064</td>\n",
       "      <td>0.075173</td>\n",
       "    </tr>\n",
       "    <tr>\n",
       "      <th>1</th>\n",
       "      <td>4809</td>\n",
       "      <td>444</td>\n",
       "      <td>0.092327</td>\n",
       "    </tr>\n",
       "    <tr>\n",
       "      <th>2</th>\n",
       "      <td>2052</td>\n",
       "      <td>194</td>\n",
       "      <td>0.094542</td>\n",
       "    </tr>\n",
       "    <tr>\n",
       "      <th>3</th>\n",
       "      <td>330</td>\n",
       "      <td>27</td>\n",
       "      <td>0.081818</td>\n",
       "    </tr>\n",
       "    <tr>\n",
       "      <th>4</th>\n",
       "      <td>41</td>\n",
       "      <td>4</td>\n",
       "      <td>0.097561</td>\n",
       "    </tr>\n",
       "    <tr>\n",
       "      <th>5</th>\n",
       "      <td>9</td>\n",
       "      <td>0</td>\n",
       "      <td>0.000000</td>\n",
       "    </tr>\n",
       "    <tr>\n",
       "      <th>20</th>\n",
       "      <td>76</td>\n",
       "      <td>8</td>\n",
       "      <td>0.105263</td>\n",
       "    </tr>\n",
       "  </tbody>\n",
       "</table>\n",
       "</div>"
      ],
      "text/plain": [
       "           debt           ratio\n",
       "          count   sum          \n",
       "children                       \n",
       "0         14154  1064  0.075173\n",
       "1          4809   444  0.092327\n",
       "2          2052   194  0.094542\n",
       "3           330    27  0.081818\n",
       "4            41     4  0.097561\n",
       "5             9     0  0.000000\n",
       "20           76     8  0.105263"
      ]
     },
     "execution_count": 41,
     "metadata": {},
     "output_type": "execute_result"
    }
   ],
   "source": [
    "children_info['ratio'] = children_info['debt']['sum'] / children_info['debt']['count'] \n",
    "children_info"
   ]
  },
  {
   "cell_type": "markdown",
   "id": "84264731",
   "metadata": {},
   "source": [
    "##### Вывод 1:"
   ]
  },
  {
   "cell_type": "markdown",
   "id": "c68b14d8",
   "metadata": {},
   "source": [
    "Процент невозврата кредита у заемщиков с детьми выше, чем у дургих. Прямой зависимости между количеством и сроком возврата кредита нет. При этом наибольший процент невозврата в срок у заемщиков с 1-2 детьми (>9%) и 8 детьми (10%)"
   ]
  },
  {
   "cell_type": "markdown",
   "id": "10e0380c",
   "metadata": {},
   "source": [
    "##### Вопрос 2:"
   ]
  },
  {
   "cell_type": "markdown",
   "id": "f1a19c3b",
   "metadata": {},
   "source": [
    "**Есть ли зависимость между семейным положением и возвратом кредита в срок?**"
   ]
  },
  {
   "cell_type": "markdown",
   "id": "969e2b7c",
   "metadata": {},
   "source": [
    "Рассмотрим зависимость между влиянием семейного положения и возвратом кредита в срок."
   ]
  },
  {
   "cell_type": "code",
   "execution_count": 43,
   "id": "88174831",
   "metadata": {},
   "outputs": [
    {
     "data": {
      "text/html": [
       "<div>\n",
       "<style scoped>\n",
       "    .dataframe tbody tr th:only-of-type {\n",
       "        vertical-align: middle;\n",
       "    }\n",
       "\n",
       "    .dataframe tbody tr th {\n",
       "        vertical-align: top;\n",
       "    }\n",
       "\n",
       "    .dataframe thead th {\n",
       "        text-align: right;\n",
       "    }\n",
       "</style>\n",
       "<table border=\"1\" class=\"dataframe\">\n",
       "  <thead>\n",
       "    <tr style=\"text-align: right;\">\n",
       "      <th></th>\n",
       "      <th>debt</th>\n",
       "    </tr>\n",
       "    <tr>\n",
       "      <th>family_status_id</th>\n",
       "      <th></th>\n",
       "    </tr>\n",
       "  </thead>\n",
       "  <tbody>\n",
       "    <tr>\n",
       "      <th>0</th>\n",
       "      <td>0.075421</td>\n",
       "    </tr>\n",
       "    <tr>\n",
       "      <th>1</th>\n",
       "      <td>0.093202</td>\n",
       "    </tr>\n",
       "    <tr>\n",
       "      <th>2</th>\n",
       "      <td>0.065693</td>\n",
       "    </tr>\n",
       "    <tr>\n",
       "      <th>3</th>\n",
       "      <td>0.071130</td>\n",
       "    </tr>\n",
       "    <tr>\n",
       "      <th>4</th>\n",
       "      <td>0.097509</td>\n",
       "    </tr>\n",
       "  </tbody>\n",
       "</table>\n",
       "</div>"
      ],
      "text/plain": [
       "                      debt\n",
       "family_status_id          \n",
       "0                 0.075421\n",
       "1                 0.093202\n",
       "2                 0.065693\n",
       "3                 0.071130\n",
       "4                 0.097509"
      ]
     },
     "execution_count": 43,
     "metadata": {},
     "output_type": "execute_result"
    }
   ],
   "source": [
    "family_credit = credit_data.pivot_table(index=['family_status_id'], values=['debt'], aggfunc='mean')\n",
    "family_credit"
   ]
  },
  {
   "cell_type": "markdown",
   "id": "a630eb90",
   "metadata": {},
   "source": [
    "Так как работать со столбцом family_status_id не удобно, добавим к основной таблице столбец family_status по значению id, и далее выведем сводную таблицу. \n",
    "Перед присоединением столбца family_status к будующей сводной таблице, избавимся от дубликатов в таблице credit_family_status_id"
   ]
  },
  {
   "cell_type": "code",
   "execution_count": 44,
   "id": "6ad1d6c9",
   "metadata": {},
   "outputs": [],
   "source": [
    "credit_family_status_id.duplicated().sum()\n",
    "credit_family_status_id = credit_family_status_id.drop_duplicates().reset_index(drop=True)"
   ]
  },
  {
   "cell_type": "code",
   "execution_count": 45,
   "id": "13141fa0",
   "metadata": {},
   "outputs": [
    {
     "data": {
      "text/plain": [
       "0"
      ]
     },
     "execution_count": 45,
     "metadata": {},
     "output_type": "execute_result"
    }
   ],
   "source": [
    "credit_family_status_id = credit_family_status_id.drop_duplicates().reset_index(drop=True)\n",
    "credit_family_status_id.duplicated().sum()"
   ]
  },
  {
   "cell_type": "markdown",
   "id": "656c4192",
   "metadata": {},
   "source": [
    "Дубликаты удалены. Теперь построим сводную таблицу по семеному статусу и показателю возврата кредита в срок."
   ]
  },
  {
   "cell_type": "code",
   "execution_count": 46,
   "id": "156e5d68",
   "metadata": {},
   "outputs": [
    {
     "data": {
      "text/html": [
       "<div>\n",
       "<style scoped>\n",
       "    .dataframe tbody tr th:only-of-type {\n",
       "        vertical-align: middle;\n",
       "    }\n",
       "\n",
       "    .dataframe tbody tr th {\n",
       "        vertical-align: top;\n",
       "    }\n",
       "\n",
       "    .dataframe thead th {\n",
       "        text-align: right;\n",
       "    }\n",
       "</style>\n",
       "<table border=\"1\" class=\"dataframe\">\n",
       "  <thead>\n",
       "    <tr style=\"text-align: right;\">\n",
       "      <th></th>\n",
       "      <th>family_status_id</th>\n",
       "      <th>debt</th>\n",
       "    </tr>\n",
       "  </thead>\n",
       "  <tbody>\n",
       "    <tr>\n",
       "      <th>0</th>\n",
       "      <td>0</td>\n",
       "      <td>0.075421</td>\n",
       "    </tr>\n",
       "    <tr>\n",
       "      <th>1</th>\n",
       "      <td>1</td>\n",
       "      <td>0.093202</td>\n",
       "    </tr>\n",
       "    <tr>\n",
       "      <th>2</th>\n",
       "      <td>2</td>\n",
       "      <td>0.065693</td>\n",
       "    </tr>\n",
       "    <tr>\n",
       "      <th>3</th>\n",
       "      <td>3</td>\n",
       "      <td>0.071130</td>\n",
       "    </tr>\n",
       "    <tr>\n",
       "      <th>4</th>\n",
       "      <td>4</td>\n",
       "      <td>0.097509</td>\n",
       "    </tr>\n",
       "  </tbody>\n",
       "</table>\n",
       "</div>"
      ],
      "text/plain": [
       "   family_status_id      debt\n",
       "0                 0  0.075421\n",
       "1                 1  0.093202\n",
       "2                 2  0.065693\n",
       "3                 3  0.071130\n",
       "4                 4  0.097509"
      ]
     },
     "execution_count": 46,
     "metadata": {},
     "output_type": "execute_result"
    }
   ],
   "source": [
    "family_status_credit = credit_data.pivot_table(index='family_status_id', values='debt').reset_index()\n",
    "family_status_credit"
   ]
  },
  {
   "cell_type": "markdown",
   "id": "77a1f053",
   "metadata": {},
   "source": [
    "Теперь с помощю метода merge присоединим к данной сводной таблице расшифровку по семеному статусу."
   ]
  },
  {
   "cell_type": "code",
   "execution_count": 47,
   "id": "ec53311e",
   "metadata": {},
   "outputs": [
    {
     "data": {
      "text/html": [
       "<div>\n",
       "<style scoped>\n",
       "    .dataframe tbody tr th:only-of-type {\n",
       "        vertical-align: middle;\n",
       "    }\n",
       "\n",
       "    .dataframe tbody tr th {\n",
       "        vertical-align: top;\n",
       "    }\n",
       "\n",
       "    .dataframe thead th {\n",
       "        text-align: right;\n",
       "    }\n",
       "</style>\n",
       "<table border=\"1\" class=\"dataframe\">\n",
       "  <thead>\n",
       "    <tr style=\"text-align: right;\">\n",
       "      <th></th>\n",
       "      <th>family_status_id</th>\n",
       "      <th>debt</th>\n",
       "      <th>family_status</th>\n",
       "    </tr>\n",
       "  </thead>\n",
       "  <tbody>\n",
       "    <tr>\n",
       "      <th>0</th>\n",
       "      <td>0</td>\n",
       "      <td>0.075421</td>\n",
       "      <td>женат / замужем</td>\n",
       "    </tr>\n",
       "    <tr>\n",
       "      <th>1</th>\n",
       "      <td>1</td>\n",
       "      <td>0.093202</td>\n",
       "      <td>гражданский брак</td>\n",
       "    </tr>\n",
       "    <tr>\n",
       "      <th>2</th>\n",
       "      <td>2</td>\n",
       "      <td>0.065693</td>\n",
       "      <td>вдовец / вдова</td>\n",
       "    </tr>\n",
       "    <tr>\n",
       "      <th>3</th>\n",
       "      <td>3</td>\n",
       "      <td>0.071130</td>\n",
       "      <td>в разводе</td>\n",
       "    </tr>\n",
       "    <tr>\n",
       "      <th>4</th>\n",
       "      <td>4</td>\n",
       "      <td>0.097509</td>\n",
       "      <td>Не женат / не замужем</td>\n",
       "    </tr>\n",
       "  </tbody>\n",
       "</table>\n",
       "</div>"
      ],
      "text/plain": [
       "   family_status_id      debt          family_status\n",
       "0                 0  0.075421        женат / замужем\n",
       "1                 1  0.093202       гражданский брак\n",
       "2                 2  0.065693         вдовец / вдова\n",
       "3                 3  0.071130              в разводе\n",
       "4                 4  0.097509  Не женат / не замужем"
      ]
     },
     "execution_count": 47,
     "metadata": {},
     "output_type": "execute_result"
    }
   ],
   "source": [
    "final_fam_stat_credit = family_status_credit.merge(credit_family_status_id, on='family_status_id', how='left')\n",
    "final_fam_stat_credit"
   ]
  },
  {
   "cell_type": "markdown",
   "id": "c4d5923b",
   "metadata": {},
   "source": [
    "##### Вывод 2:"
   ]
  },
  {
   "cell_type": "markdown",
   "id": "42b1a548",
   "metadata": {},
   "source": [
    "На основании полученных данных установленно, что чаще всего не возвращают кредит в срок заемщики состоящие в гражданском браке и не женатые/не замужние (>9%). Вероятно, заемщики из данной группы любят жить в свое удовольстие не всегда объективно оценивая свои финансовые возможности. \n",
    "\n",
    "При этом меньше всего должников по займам в группе \"вдовец/вдова\" (6,5 %)"
   ]
  },
  {
   "cell_type": "markdown",
   "id": "9eb75a2c",
   "metadata": {},
   "source": [
    "##### Вопрос 3:"
   ]
  },
  {
   "cell_type": "markdown",
   "id": "57119373",
   "metadata": {},
   "source": [
    "**Есть ли зависимость между уровнем дохода и возвратом кредита в срок?**"
   ]
  },
  {
   "cell_type": "code",
   "execution_count": 48,
   "id": "ce13f1ee",
   "metadata": {},
   "outputs": [
    {
     "data": {
      "text/html": [
       "<div>\n",
       "<style scoped>\n",
       "    .dataframe tbody tr th:only-of-type {\n",
       "        vertical-align: middle;\n",
       "    }\n",
       "\n",
       "    .dataframe tbody tr th {\n",
       "        vertical-align: top;\n",
       "    }\n",
       "\n",
       "    .dataframe thead th {\n",
       "        text-align: right;\n",
       "    }\n",
       "</style>\n",
       "<table border=\"1\" class=\"dataframe\">\n",
       "  <thead>\n",
       "    <tr style=\"text-align: right;\">\n",
       "      <th></th>\n",
       "      <th>debt</th>\n",
       "    </tr>\n",
       "    <tr>\n",
       "      <th>total_income_category</th>\n",
       "      <th></th>\n",
       "    </tr>\n",
       "  </thead>\n",
       "  <tbody>\n",
       "    <tr>\n",
       "      <th>A</th>\n",
       "      <td>0.080000</td>\n",
       "    </tr>\n",
       "    <tr>\n",
       "      <th>B</th>\n",
       "      <td>0.070621</td>\n",
       "    </tr>\n",
       "    <tr>\n",
       "      <th>C</th>\n",
       "      <td>0.084825</td>\n",
       "    </tr>\n",
       "    <tr>\n",
       "      <th>D</th>\n",
       "      <td>0.060000</td>\n",
       "    </tr>\n",
       "    <tr>\n",
       "      <th>E</th>\n",
       "      <td>0.090909</td>\n",
       "    </tr>\n",
       "  </tbody>\n",
       "</table>\n",
       "</div>"
      ],
      "text/plain": [
       "                           debt\n",
       "total_income_category          \n",
       "A                      0.080000\n",
       "B                      0.070621\n",
       "C                      0.084825\n",
       "D                      0.060000\n",
       "E                      0.090909"
      ]
     },
     "execution_count": 48,
     "metadata": {},
     "output_type": "execute_result"
    }
   ],
   "source": [
    "total_income_credit = credit_data.pivot_table(index=['total_income_category'], values=['debt'], aggfunc='mean')\n",
    "total_income_credit"
   ]
  },
  {
   "cell_type": "markdown",
   "id": "cf017ff0",
   "metadata": {},
   "source": [
    "##### Вывод 3:"
   ]
  },
  {
   "cell_type": "markdown",
   "id": "05926a4e",
   "metadata": {},
   "source": [
    "Прямой взаимосвязи между уровнем доходя и сроком возврата кредита нет. при этом мажно отметить, что чаще не возвращают заемщики с минимальным уровнем дохода (Категория Е), средним (категория С) и максимальным (Катергория А)"
   ]
  },
  {
   "cell_type": "markdown",
   "id": "4f944b7f",
   "metadata": {},
   "source": [
    "##### Вопрос 4:"
   ]
  },
  {
   "cell_type": "markdown",
   "id": "f0517b82",
   "metadata": {},
   "source": [
    "**Как разные цели кредита влияют на его возврат в срок?**"
   ]
  },
  {
   "cell_type": "code",
   "execution_count": 49,
   "id": "b98ea79e",
   "metadata": {},
   "outputs": [
    {
     "data": {
      "text/html": [
       "<div>\n",
       "<style scoped>\n",
       "    .dataframe tbody tr th:only-of-type {\n",
       "        vertical-align: middle;\n",
       "    }\n",
       "\n",
       "    .dataframe tbody tr th {\n",
       "        vertical-align: top;\n",
       "    }\n",
       "\n",
       "    .dataframe thead th {\n",
       "        text-align: right;\n",
       "    }\n",
       "</style>\n",
       "<table border=\"1\" class=\"dataframe\">\n",
       "  <thead>\n",
       "    <tr style=\"text-align: right;\">\n",
       "      <th></th>\n",
       "      <th>debt</th>\n",
       "    </tr>\n",
       "    <tr>\n",
       "      <th>purpose_category</th>\n",
       "      <th></th>\n",
       "    </tr>\n",
       "  </thead>\n",
       "  <tbody>\n",
       "    <tr>\n",
       "      <th>операции с автомобилем</th>\n",
       "      <td>0.093547</td>\n",
       "    </tr>\n",
       "    <tr>\n",
       "      <th>операции с недвижимостью</th>\n",
       "      <td>0.072314</td>\n",
       "    </tr>\n",
       "    <tr>\n",
       "      <th>получение образования</th>\n",
       "      <td>0.092177</td>\n",
       "    </tr>\n",
       "    <tr>\n",
       "      <th>проведение свадьбы</th>\n",
       "      <td>0.079657</td>\n",
       "    </tr>\n",
       "  </tbody>\n",
       "</table>\n",
       "</div>"
      ],
      "text/plain": [
       "                              debt\n",
       "purpose_category                  \n",
       "операции с автомобилем    0.093547\n",
       "операции с недвижимостью  0.072314\n",
       "получение образования     0.092177\n",
       "проведение свадьбы        0.079657"
      ]
     },
     "execution_count": 49,
     "metadata": {},
     "output_type": "execute_result"
    }
   ],
   "source": [
    "purpose_credit = credit_data.pivot_table(index=['purpose_category'], values=['debt'], aggfunc='mean')\n",
    "purpose_credit"
   ]
  },
  {
   "cell_type": "markdown",
   "id": "26d9571c",
   "metadata": {},
   "source": [
    "##### Вывод 4:"
   ]
  },
  {
   "cell_type": "markdown",
   "id": "eda6a727",
   "metadata": {},
   "source": [
    "Чаще всего задерживают оплату кредита по операциям с автомоблилями и с образованием."
   ]
  },
  {
   "cell_type": "markdown",
   "id": "c68d6353",
   "metadata": {},
   "source": [
    "## Общий вывод:"
   ]
  },
  {
   "cell_type": "markdown",
   "id": "88b213e0",
   "metadata": {},
   "source": [
    "По итогам проведенного иследования можно однозначно утверждать, что **семейное положение влияет на факт погашения кредита в срок:**\n",
    "\n",
    "1) Так мы выяснили, что неженатые заемщики и состоящие в гражданском браке чаще всего не возвращают кредиты в срок. К данной группе кредитному отделу банка следует отнестись более внимательно.\n",
    "\n",
    "2) При этом вдовцы реже всего задерживают оплату по кредиту. \n",
    "\n",
    "3) Женатые и граждане в разводе, вероятно, более умеренны в своих тратах и возвращают кредит в срок чаще, чем неженатые и состоящие в браке.\n",
    "\n",
    "**Количество детей влияет на факт погашения кредита в срок** - как правило семьи с 1-2 детьми чаще всего просрачивают оплату кредита в срок. \n",
    "В целом заемщики с детьми чаще не возвращают кредит в срок по сравнению с заемщиками без детей.\n",
    "\n"
   ]
  }
 ],
 "metadata": {
  "ExecuteTimeLog": [
   {
    "duration": 598,
    "start_time": "2022-04-28T18:24:12.148Z"
   },
   {
    "duration": 86,
    "start_time": "2022-04-28T18:32:06.607Z"
   },
   {
    "duration": 85,
    "start_time": "2022-04-28T18:32:16.485Z"
   },
   {
    "duration": 20,
    "start_time": "2022-04-28T18:33:16.407Z"
   },
   {
    "duration": 21,
    "start_time": "2022-04-28T18:40:47.606Z"
   },
   {
    "duration": 87,
    "start_time": "2022-04-28T18:41:27.050Z"
   },
   {
    "duration": 20,
    "start_time": "2022-04-28T18:41:41.856Z"
   },
   {
    "duration": 95,
    "start_time": "2022-04-28T18:52:10.132Z"
   },
   {
    "duration": 6,
    "start_time": "2022-04-28T18:52:25.863Z"
   },
   {
    "duration": 15,
    "start_time": "2022-04-28T18:58:26.443Z"
   },
   {
    "duration": 9,
    "start_time": "2022-04-28T19:24:12.792Z"
   },
   {
    "duration": 13,
    "start_time": "2022-04-28T19:24:48.159Z"
   },
   {
    "duration": 15,
    "start_time": "2022-04-28T19:25:03.683Z"
   },
   {
    "duration": 7,
    "start_time": "2022-04-28T19:25:52.508Z"
   },
   {
    "duration": 15,
    "start_time": "2022-04-28T19:33:43.673Z"
   },
   {
    "duration": 27,
    "start_time": "2022-04-28T19:34:15.069Z"
   },
   {
    "duration": 35,
    "start_time": "2022-04-28T19:34:23.193Z"
   },
   {
    "duration": 35,
    "start_time": "2022-04-28T19:35:27.464Z"
   },
   {
    "duration": 31,
    "start_time": "2022-04-28T19:35:44.043Z"
   },
   {
    "duration": 48,
    "start_time": "2022-04-28T19:36:06.840Z"
   },
   {
    "duration": 27,
    "start_time": "2022-04-28T19:36:50.286Z"
   },
   {
    "duration": 48,
    "start_time": "2022-04-30T08:11:40.345Z"
   },
   {
    "duration": 469,
    "start_time": "2022-04-30T08:11:50.758Z"
   },
   {
    "duration": 12,
    "start_time": "2022-04-30T08:11:51.229Z"
   },
   {
    "duration": 20,
    "start_time": "2022-04-30T08:11:51.242Z"
   },
   {
    "duration": 11,
    "start_time": "2022-04-30T08:11:51.264Z"
   },
   {
    "duration": 24,
    "start_time": "2022-04-30T08:11:51.276Z"
   },
   {
    "duration": 13,
    "start_time": "2022-04-30T08:11:51.302Z"
   },
   {
    "duration": 4,
    "start_time": "2022-04-30T08:17:58.019Z"
   },
   {
    "duration": 5,
    "start_time": "2022-04-30T08:18:08.521Z"
   },
   {
    "duration": 5,
    "start_time": "2022-04-30T08:23:53.744Z"
   },
   {
    "duration": 7,
    "start_time": "2022-04-30T08:30:33.602Z"
   },
   {
    "duration": 12,
    "start_time": "2022-04-30T08:32:03.887Z"
   },
   {
    "duration": 5,
    "start_time": "2022-04-30T08:32:25.353Z"
   },
   {
    "duration": 69,
    "start_time": "2022-04-30T09:18:13.788Z"
   },
   {
    "duration": 13,
    "start_time": "2022-04-30T09:18:19.595Z"
   },
   {
    "duration": 72,
    "start_time": "2022-04-30T09:19:05.943Z"
   },
   {
    "duration": 15,
    "start_time": "2022-04-30T09:19:10.083Z"
   },
   {
    "duration": 17,
    "start_time": "2022-04-30T09:20:12.865Z"
   },
   {
    "duration": 13,
    "start_time": "2022-04-30T09:20:23.415Z"
   },
   {
    "duration": 38,
    "start_time": "2022-04-30T09:47:59.129Z"
   },
   {
    "duration": 5,
    "start_time": "2022-04-30T09:48:14.713Z"
   },
   {
    "duration": 5,
    "start_time": "2022-04-30T09:58:50.477Z"
   },
   {
    "duration": 10,
    "start_time": "2022-04-30T09:59:30.527Z"
   },
   {
    "duration": 9,
    "start_time": "2022-04-30T09:59:43.525Z"
   },
   {
    "duration": 67,
    "start_time": "2022-04-30T09:59:52.994Z"
   },
   {
    "duration": 11,
    "start_time": "2022-04-30T09:59:53.063Z"
   },
   {
    "duration": 19,
    "start_time": "2022-04-30T09:59:53.076Z"
   },
   {
    "duration": 13,
    "start_time": "2022-04-30T09:59:53.097Z"
   },
   {
    "duration": 22,
    "start_time": "2022-04-30T09:59:53.112Z"
   },
   {
    "duration": 5,
    "start_time": "2022-04-30T09:59:53.136Z"
   },
   {
    "duration": 16,
    "start_time": "2022-04-30T09:59:53.142Z"
   },
   {
    "duration": 13,
    "start_time": "2022-04-30T09:59:53.159Z"
   },
   {
    "duration": 6,
    "start_time": "2022-04-30T09:59:53.174Z"
   },
   {
    "duration": 4,
    "start_time": "2022-04-30T09:59:53.182Z"
   },
   {
    "duration": 8,
    "start_time": "2022-04-30T10:00:33.397Z"
   },
   {
    "duration": 10,
    "start_time": "2022-04-30T10:00:35.901Z"
   },
   {
    "duration": 96,
    "start_time": "2022-04-30T10:00:40.607Z"
   },
   {
    "duration": 14,
    "start_time": "2022-04-30T10:00:40.705Z"
   },
   {
    "duration": 24,
    "start_time": "2022-04-30T10:00:40.720Z"
   },
   {
    "duration": 10,
    "start_time": "2022-04-30T10:00:40.746Z"
   },
   {
    "duration": 14,
    "start_time": "2022-04-30T10:00:40.758Z"
   },
   {
    "duration": 10,
    "start_time": "2022-04-30T10:00:40.774Z"
   },
   {
    "duration": 23,
    "start_time": "2022-04-30T10:00:40.786Z"
   },
   {
    "duration": 27,
    "start_time": "2022-04-30T10:00:40.811Z"
   },
   {
    "duration": 6,
    "start_time": "2022-04-30T10:00:40.841Z"
   },
   {
    "duration": 15,
    "start_time": "2022-04-30T10:00:40.850Z"
   },
   {
    "duration": 7,
    "start_time": "2022-04-30T10:00:57.756Z"
   },
   {
    "duration": 10,
    "start_time": "2022-04-30T10:03:01.452Z"
   },
   {
    "duration": 67,
    "start_time": "2022-04-30T10:03:12.396Z"
   },
   {
    "duration": 11,
    "start_time": "2022-04-30T10:03:12.465Z"
   },
   {
    "duration": 17,
    "start_time": "2022-04-30T10:03:12.478Z"
   },
   {
    "duration": 10,
    "start_time": "2022-04-30T10:03:12.497Z"
   },
   {
    "duration": 26,
    "start_time": "2022-04-30T10:03:12.509Z"
   },
   {
    "duration": 7,
    "start_time": "2022-04-30T10:03:12.536Z"
   },
   {
    "duration": 15,
    "start_time": "2022-04-30T10:03:12.545Z"
   },
   {
    "duration": 14,
    "start_time": "2022-04-30T10:03:12.562Z"
   },
   {
    "duration": 6,
    "start_time": "2022-04-30T10:03:12.577Z"
   },
   {
    "duration": 3,
    "start_time": "2022-04-30T10:03:12.585Z"
   },
   {
    "duration": 68,
    "start_time": "2022-04-30T10:03:27.180Z"
   },
   {
    "duration": 12,
    "start_time": "2022-04-30T10:03:27.250Z"
   },
   {
    "duration": 21,
    "start_time": "2022-04-30T10:03:27.263Z"
   },
   {
    "duration": 10,
    "start_time": "2022-04-30T10:03:27.286Z"
   },
   {
    "duration": 5,
    "start_time": "2022-04-30T10:03:27.298Z"
   },
   {
    "duration": 5,
    "start_time": "2022-04-30T10:03:27.305Z"
   },
   {
    "duration": 15,
    "start_time": "2022-04-30T10:03:27.333Z"
   },
   {
    "duration": 13,
    "start_time": "2022-04-30T10:03:27.350Z"
   },
   {
    "duration": 5,
    "start_time": "2022-04-30T10:03:27.364Z"
   },
   {
    "duration": 31,
    "start_time": "2022-04-30T10:03:27.371Z"
   },
   {
    "duration": 15,
    "start_time": "2022-04-30T10:03:44.533Z"
   },
   {
    "duration": 16,
    "start_time": "2022-04-30T10:04:10.014Z"
   },
   {
    "duration": 79,
    "start_time": "2022-04-30T10:06:57.010Z"
   },
   {
    "duration": 14,
    "start_time": "2022-04-30T10:07:27.097Z"
   },
   {
    "duration": 9,
    "start_time": "2022-04-30T10:51:15.898Z"
   },
   {
    "duration": 9,
    "start_time": "2022-04-30T10:51:28.767Z"
   },
   {
    "duration": 18,
    "start_time": "2022-04-30T10:51:39.374Z"
   },
   {
    "duration": 9,
    "start_time": "2022-04-30T10:55:33.317Z"
   },
   {
    "duration": 9,
    "start_time": "2022-04-30T10:55:38.548Z"
   },
   {
    "duration": 18,
    "start_time": "2022-04-30T10:55:46.837Z"
   },
   {
    "duration": 17,
    "start_time": "2022-04-30T10:56:21.727Z"
   },
   {
    "duration": 21,
    "start_time": "2022-04-30T10:57:35.470Z"
   },
   {
    "duration": 18,
    "start_time": "2022-04-30T10:58:12.253Z"
   },
   {
    "duration": 18,
    "start_time": "2022-04-30T10:58:57.956Z"
   },
   {
    "duration": 17,
    "start_time": "2022-04-30T10:59:01.660Z"
   },
   {
    "duration": 23,
    "start_time": "2022-04-30T11:08:21.513Z"
   },
   {
    "duration": 18,
    "start_time": "2022-04-30T11:08:58.329Z"
   },
   {
    "duration": 25,
    "start_time": "2022-04-30T11:10:00.607Z"
   },
   {
    "duration": 17,
    "start_time": "2022-04-30T11:10:08.358Z"
   },
   {
    "duration": 15,
    "start_time": "2022-04-30T11:16:43.494Z"
   },
   {
    "duration": 13,
    "start_time": "2022-04-30T11:17:21.104Z"
   },
   {
    "duration": 12,
    "start_time": "2022-04-30T11:17:59.706Z"
   },
   {
    "duration": 13,
    "start_time": "2022-04-30T11:18:23.824Z"
   },
   {
    "duration": 12,
    "start_time": "2022-04-30T11:18:42.053Z"
   },
   {
    "duration": 12,
    "start_time": "2022-04-30T11:19:18.689Z"
   },
   {
    "duration": 12,
    "start_time": "2022-04-30T11:24:41.695Z"
   },
   {
    "duration": 6,
    "start_time": "2022-04-30T11:24:58.103Z"
   },
   {
    "duration": 22,
    "start_time": "2022-04-30T11:25:27.405Z"
   },
   {
    "duration": 22,
    "start_time": "2022-04-30T11:25:52.086Z"
   },
   {
    "duration": 21,
    "start_time": "2022-04-30T11:26:09.501Z"
   },
   {
    "duration": 22,
    "start_time": "2022-04-30T11:26:37.806Z"
   },
   {
    "duration": 21,
    "start_time": "2022-04-30T11:26:56.441Z"
   },
   {
    "duration": 4,
    "start_time": "2022-04-30T11:34:42.897Z"
   },
   {
    "duration": 12,
    "start_time": "2022-04-30T11:34:51.201Z"
   },
   {
    "duration": 9,
    "start_time": "2022-04-30T11:35:08.176Z"
   },
   {
    "duration": 9,
    "start_time": "2022-04-30T11:38:04.535Z"
   },
   {
    "duration": 9,
    "start_time": "2022-04-30T11:38:08.622Z"
   },
   {
    "duration": 75,
    "start_time": "2022-04-30T11:38:14.417Z"
   },
   {
    "duration": 14,
    "start_time": "2022-04-30T11:38:14.494Z"
   },
   {
    "duration": 26,
    "start_time": "2022-04-30T11:38:14.509Z"
   },
   {
    "duration": 10,
    "start_time": "2022-04-30T11:38:14.537Z"
   },
   {
    "duration": 6,
    "start_time": "2022-04-30T11:38:14.548Z"
   },
   {
    "duration": 7,
    "start_time": "2022-04-30T11:38:14.556Z"
   },
   {
    "duration": 14,
    "start_time": "2022-04-30T11:38:14.564Z"
   },
   {
    "duration": 13,
    "start_time": "2022-04-30T11:38:14.579Z"
   },
   {
    "duration": 41,
    "start_time": "2022-04-30T11:38:14.593Z"
   },
   {
    "duration": 15,
    "start_time": "2022-04-30T11:38:14.636Z"
   },
   {
    "duration": 20,
    "start_time": "2022-04-30T11:42:32.556Z"
   },
   {
    "duration": 3,
    "start_time": "2022-04-30T11:43:38.542Z"
   },
   {
    "duration": 23,
    "start_time": "2022-04-30T11:45:00.234Z"
   },
   {
    "duration": 14,
    "start_time": "2022-04-30T11:46:52.002Z"
   },
   {
    "duration": 13,
    "start_time": "2022-04-30T12:01:23.922Z"
   },
   {
    "duration": 17,
    "start_time": "2022-04-30T12:01:33.154Z"
   },
   {
    "duration": 17,
    "start_time": "2022-04-30T12:01:49.313Z"
   },
   {
    "duration": 16,
    "start_time": "2022-04-30T12:02:09.367Z"
   },
   {
    "duration": 16,
    "start_time": "2022-04-30T12:02:50.209Z"
   },
   {
    "duration": 14,
    "start_time": "2022-04-30T12:03:14.304Z"
   },
   {
    "duration": 15,
    "start_time": "2022-04-30T12:22:11.893Z"
   },
   {
    "duration": 17,
    "start_time": "2022-04-30T12:22:42.476Z"
   },
   {
    "duration": 7,
    "start_time": "2022-04-30T13:37:38.771Z"
   },
   {
    "duration": 24,
    "start_time": "2022-04-30T13:37:52.002Z"
   },
   {
    "duration": 21,
    "start_time": "2022-04-30T13:44:10.038Z"
   },
   {
    "duration": 22,
    "start_time": "2022-04-30T13:44:19.952Z"
   },
   {
    "duration": 22,
    "start_time": "2022-04-30T13:44:31.144Z"
   },
   {
    "duration": 23,
    "start_time": "2022-04-30T13:44:41.352Z"
   },
   {
    "duration": 77,
    "start_time": "2022-04-30T13:44:50.355Z"
   },
   {
    "duration": 14,
    "start_time": "2022-04-30T13:44:50.434Z"
   },
   {
    "duration": 18,
    "start_time": "2022-04-30T13:44:50.450Z"
   },
   {
    "duration": 9,
    "start_time": "2022-04-30T13:44:50.470Z"
   },
   {
    "duration": 9,
    "start_time": "2022-04-30T13:44:50.481Z"
   },
   {
    "duration": 6,
    "start_time": "2022-04-30T13:44:50.492Z"
   },
   {
    "duration": 41,
    "start_time": "2022-04-30T13:44:50.499Z"
   },
   {
    "duration": 12,
    "start_time": "2022-04-30T13:44:50.542Z"
   },
   {
    "duration": 5,
    "start_time": "2022-04-30T13:44:50.556Z"
   },
   {
    "duration": 15,
    "start_time": "2022-04-30T13:44:50.563Z"
   },
   {
    "duration": 13,
    "start_time": "2022-04-30T13:44:50.580Z"
   },
   {
    "duration": 54,
    "start_time": "2022-04-30T13:44:50.595Z"
   },
   {
    "duration": 16,
    "start_time": "2022-04-30T13:44:50.651Z"
   },
   {
    "duration": 15,
    "start_time": "2022-04-30T13:44:50.668Z"
   },
   {
    "duration": 26,
    "start_time": "2022-04-30T13:44:50.685Z"
   },
   {
    "duration": 42,
    "start_time": "2022-04-30T13:44:50.713Z"
   },
   {
    "duration": 9,
    "start_time": "2022-04-30T13:45:09.687Z"
   },
   {
    "duration": 16,
    "start_time": "2022-04-30T13:45:15.695Z"
   },
   {
    "duration": 78,
    "start_time": "2022-04-30T13:45:27.608Z"
   },
   {
    "duration": 15,
    "start_time": "2022-04-30T13:45:27.688Z"
   },
   {
    "duration": 28,
    "start_time": "2022-04-30T13:45:27.705Z"
   },
   {
    "duration": 11,
    "start_time": "2022-04-30T13:45:27.736Z"
   },
   {
    "duration": 9,
    "start_time": "2022-04-30T13:45:27.749Z"
   },
   {
    "duration": 8,
    "start_time": "2022-04-30T13:45:27.760Z"
   },
   {
    "duration": 22,
    "start_time": "2022-04-30T13:45:27.770Z"
   },
   {
    "duration": 41,
    "start_time": "2022-04-30T13:45:27.794Z"
   },
   {
    "duration": 5,
    "start_time": "2022-04-30T13:45:27.837Z"
   },
   {
    "duration": 17,
    "start_time": "2022-04-30T13:45:27.845Z"
   },
   {
    "duration": 14,
    "start_time": "2022-04-30T13:45:27.864Z"
   },
   {
    "duration": 19,
    "start_time": "2022-04-30T13:45:27.879Z"
   },
   {
    "duration": 19,
    "start_time": "2022-04-30T13:45:27.933Z"
   },
   {
    "duration": 16,
    "start_time": "2022-04-30T13:45:27.953Z"
   },
   {
    "duration": 18,
    "start_time": "2022-04-30T13:45:27.971Z"
   },
   {
    "duration": 44,
    "start_time": "2022-04-30T13:45:27.991Z"
   },
   {
    "duration": 76,
    "start_time": "2022-04-30T13:48:56.731Z"
   },
   {
    "duration": 28,
    "start_time": "2022-04-30T13:48:56.808Z"
   },
   {
    "duration": 19,
    "start_time": "2022-04-30T13:48:56.837Z"
   },
   {
    "duration": 10,
    "start_time": "2022-04-30T13:48:56.858Z"
   },
   {
    "duration": 7,
    "start_time": "2022-04-30T13:48:56.870Z"
   },
   {
    "duration": 7,
    "start_time": "2022-04-30T13:48:56.878Z"
   },
   {
    "duration": 53,
    "start_time": "2022-04-30T13:48:56.886Z"
   },
   {
    "duration": 13,
    "start_time": "2022-04-30T13:48:56.941Z"
   },
   {
    "duration": 5,
    "start_time": "2022-04-30T13:48:56.956Z"
   },
   {
    "duration": 22,
    "start_time": "2022-04-30T13:48:56.963Z"
   },
   {
    "duration": 47,
    "start_time": "2022-04-30T13:48:56.987Z"
   },
   {
    "duration": 18,
    "start_time": "2022-04-30T13:48:57.036Z"
   },
   {
    "duration": 18,
    "start_time": "2022-04-30T13:48:57.056Z"
   },
   {
    "duration": 16,
    "start_time": "2022-04-30T13:48:57.076Z"
   },
   {
    "duration": 54,
    "start_time": "2022-04-30T13:48:57.094Z"
   },
   {
    "duration": 15,
    "start_time": "2022-04-30T13:48:57.150Z"
   },
   {
    "duration": 16,
    "start_time": "2022-04-30T13:48:57.167Z"
   },
   {
    "duration": 26,
    "start_time": "2022-04-30T13:54:40.242Z"
   },
   {
    "duration": 27,
    "start_time": "2022-04-30T14:04:31.141Z"
   },
   {
    "duration": 32,
    "start_time": "2022-04-30T14:15:11.878Z"
   },
   {
    "duration": 31,
    "start_time": "2022-04-30T14:15:41.998Z"
   },
   {
    "duration": 78,
    "start_time": "2022-04-30T14:15:48.367Z"
   },
   {
    "duration": 15,
    "start_time": "2022-04-30T14:15:48.446Z"
   },
   {
    "duration": 24,
    "start_time": "2022-04-30T14:15:48.463Z"
   },
   {
    "duration": 12,
    "start_time": "2022-04-30T14:15:48.490Z"
   },
   {
    "duration": 30,
    "start_time": "2022-04-30T14:15:48.504Z"
   },
   {
    "duration": 44,
    "start_time": "2022-04-30T14:15:48.536Z"
   },
   {
    "duration": 23,
    "start_time": "2022-04-30T14:15:48.582Z"
   },
   {
    "duration": 32,
    "start_time": "2022-04-30T14:15:48.607Z"
   },
   {
    "duration": 9,
    "start_time": "2022-04-30T14:15:48.641Z"
   },
   {
    "duration": 27,
    "start_time": "2022-04-30T14:15:48.653Z"
   },
   {
    "duration": 14,
    "start_time": "2022-04-30T14:15:48.682Z"
   },
   {
    "duration": 40,
    "start_time": "2022-04-30T14:15:48.698Z"
   },
   {
    "duration": 18,
    "start_time": "2022-04-30T14:15:48.740Z"
   },
   {
    "duration": 17,
    "start_time": "2022-04-30T14:15:48.760Z"
   },
   {
    "duration": 16,
    "start_time": "2022-04-30T14:15:48.779Z"
   },
   {
    "duration": 48,
    "start_time": "2022-04-30T14:15:48.796Z"
   },
   {
    "duration": 14,
    "start_time": "2022-04-30T14:15:48.846Z"
   },
   {
    "duration": 20,
    "start_time": "2022-04-30T14:15:48.862Z"
   },
   {
    "duration": 23,
    "start_time": "2022-04-30T14:15:48.884Z"
   },
   {
    "duration": 51,
    "start_time": "2022-04-30T14:15:48.908Z"
   },
   {
    "duration": 48,
    "start_time": "2022-04-30T14:17:22.238Z"
   },
   {
    "duration": 470,
    "start_time": "2022-05-01T09:02:56.070Z"
   },
   {
    "duration": 14,
    "start_time": "2022-05-01T09:02:56.542Z"
   },
   {
    "duration": 19,
    "start_time": "2022-05-01T09:02:56.558Z"
   },
   {
    "duration": 11,
    "start_time": "2022-05-01T09:02:56.579Z"
   },
   {
    "duration": 5,
    "start_time": "2022-05-01T09:02:56.594Z"
   },
   {
    "duration": 33,
    "start_time": "2022-05-01T09:02:56.601Z"
   },
   {
    "duration": 18,
    "start_time": "2022-05-01T09:02:56.636Z"
   },
   {
    "duration": 15,
    "start_time": "2022-05-01T09:02:56.655Z"
   },
   {
    "duration": 14,
    "start_time": "2022-05-01T09:02:56.672Z"
   },
   {
    "duration": 24,
    "start_time": "2022-05-01T09:02:56.688Z"
   },
   {
    "duration": 33,
    "start_time": "2022-05-01T09:02:56.714Z"
   },
   {
    "duration": 19,
    "start_time": "2022-05-01T09:02:56.748Z"
   },
   {
    "duration": 18,
    "start_time": "2022-05-01T09:02:56.769Z"
   },
   {
    "duration": 48,
    "start_time": "2022-05-01T09:02:56.790Z"
   },
   {
    "duration": 17,
    "start_time": "2022-05-01T09:02:56.840Z"
   },
   {
    "duration": 15,
    "start_time": "2022-05-01T09:02:56.859Z"
   },
   {
    "duration": 15,
    "start_time": "2022-05-01T09:02:56.876Z"
   },
   {
    "duration": 55,
    "start_time": "2022-05-01T09:02:56.893Z"
   },
   {
    "duration": 18,
    "start_time": "2022-05-01T09:02:56.950Z"
   },
   {
    "duration": 32,
    "start_time": "2022-05-01T09:02:56.970Z"
   },
   {
    "duration": 18,
    "start_time": "2022-05-01T09:03:19.218Z"
   },
   {
    "duration": 37,
    "start_time": "2022-05-01T09:12:15.638Z"
   },
   {
    "duration": 45,
    "start_time": "2022-05-01T09:12:37.324Z"
   },
   {
    "duration": 84,
    "start_time": "2022-05-01T09:12:43.997Z"
   },
   {
    "duration": 15,
    "start_time": "2022-05-01T09:12:44.082Z"
   },
   {
    "duration": 40,
    "start_time": "2022-05-01T09:12:44.098Z"
   },
   {
    "duration": 16,
    "start_time": "2022-05-01T09:12:44.143Z"
   },
   {
    "duration": 14,
    "start_time": "2022-05-01T09:12:44.161Z"
   },
   {
    "duration": 8,
    "start_time": "2022-05-01T09:12:44.177Z"
   },
   {
    "duration": 15,
    "start_time": "2022-05-01T09:12:44.186Z"
   },
   {
    "duration": 45,
    "start_time": "2022-05-01T09:12:44.203Z"
   },
   {
    "duration": 7,
    "start_time": "2022-05-01T09:12:44.251Z"
   },
   {
    "duration": 16,
    "start_time": "2022-05-01T09:12:44.261Z"
   },
   {
    "duration": 13,
    "start_time": "2022-05-01T09:12:44.279Z"
   },
   {
    "duration": 64,
    "start_time": "2022-05-01T09:12:44.293Z"
   },
   {
    "duration": 18,
    "start_time": "2022-05-01T09:12:44.359Z"
   },
   {
    "duration": 15,
    "start_time": "2022-05-01T09:12:44.378Z"
   },
   {
    "duration": 42,
    "start_time": "2022-05-01T09:12:44.394Z"
   },
   {
    "duration": 18,
    "start_time": "2022-05-01T09:12:44.439Z"
   },
   {
    "duration": 16,
    "start_time": "2022-05-01T09:12:44.459Z"
   },
   {
    "duration": 16,
    "start_time": "2022-05-01T09:12:44.477Z"
   },
   {
    "duration": 58,
    "start_time": "2022-05-01T09:12:44.494Z"
   },
   {
    "duration": 23,
    "start_time": "2022-05-01T09:12:44.553Z"
   },
   {
    "duration": 58,
    "start_time": "2022-05-01T09:12:44.577Z"
   },
   {
    "duration": 73,
    "start_time": "2022-05-01T09:13:02.257Z"
   },
   {
    "duration": 23,
    "start_time": "2022-05-01T09:13:02.333Z"
   },
   {
    "duration": 39,
    "start_time": "2022-05-01T09:13:02.358Z"
   },
   {
    "duration": 21,
    "start_time": "2022-05-01T09:13:02.399Z"
   },
   {
    "duration": 15,
    "start_time": "2022-05-01T09:13:02.423Z"
   },
   {
    "duration": 21,
    "start_time": "2022-05-01T09:13:02.441Z"
   },
   {
    "duration": 20,
    "start_time": "2022-05-01T09:13:02.464Z"
   },
   {
    "duration": 20,
    "start_time": "2022-05-01T09:13:02.486Z"
   },
   {
    "duration": 6,
    "start_time": "2022-05-01T09:13:02.508Z"
   },
   {
    "duration": 41,
    "start_time": "2022-05-01T09:13:02.515Z"
   },
   {
    "duration": 19,
    "start_time": "2022-05-01T09:13:02.558Z"
   },
   {
    "duration": 23,
    "start_time": "2022-05-01T09:13:02.579Z"
   },
   {
    "duration": 51,
    "start_time": "2022-05-01T09:13:02.604Z"
   },
   {
    "duration": 21,
    "start_time": "2022-05-01T09:13:02.661Z"
   },
   {
    "duration": 41,
    "start_time": "2022-05-01T09:13:02.683Z"
   },
   {
    "duration": 40,
    "start_time": "2022-05-01T09:13:02.726Z"
   },
   {
    "duration": 15,
    "start_time": "2022-05-01T09:13:02.768Z"
   },
   {
    "duration": 17,
    "start_time": "2022-05-01T09:13:02.785Z"
   },
   {
    "duration": 18,
    "start_time": "2022-05-01T09:13:02.803Z"
   },
   {
    "duration": 36,
    "start_time": "2022-05-01T09:13:02.822Z"
   },
   {
    "duration": 38,
    "start_time": "2022-05-01T09:13:02.860Z"
   },
   {
    "duration": 29,
    "start_time": "2022-05-01T09:19:38.886Z"
   },
   {
    "duration": 42,
    "start_time": "2022-05-01T09:19:49.638Z"
   },
   {
    "duration": 28,
    "start_time": "2022-05-01T09:20:21.878Z"
   },
   {
    "duration": 36,
    "start_time": "2022-05-01T09:20:28.959Z"
   },
   {
    "duration": 16,
    "start_time": "2022-05-01T09:21:08.903Z"
   },
   {
    "duration": 73,
    "start_time": "2022-05-01T09:21:28.562Z"
   },
   {
    "duration": 23,
    "start_time": "2022-05-01T09:21:28.639Z"
   },
   {
    "duration": 19,
    "start_time": "2022-05-01T09:21:28.664Z"
   },
   {
    "duration": 11,
    "start_time": "2022-05-01T09:21:28.685Z"
   },
   {
    "duration": 40,
    "start_time": "2022-05-01T09:21:28.697Z"
   },
   {
    "duration": 8,
    "start_time": "2022-05-01T09:21:28.740Z"
   },
   {
    "duration": 22,
    "start_time": "2022-05-01T09:21:28.751Z"
   },
   {
    "duration": 13,
    "start_time": "2022-05-01T09:21:28.774Z"
   },
   {
    "duration": 5,
    "start_time": "2022-05-01T09:21:28.789Z"
   },
   {
    "duration": 28,
    "start_time": "2022-05-01T09:21:28.834Z"
   },
   {
    "duration": 13,
    "start_time": "2022-05-01T09:21:28.864Z"
   },
   {
    "duration": 20,
    "start_time": "2022-05-01T09:21:28.879Z"
   },
   {
    "duration": 47,
    "start_time": "2022-05-01T09:21:28.901Z"
   },
   {
    "duration": 18,
    "start_time": "2022-05-01T09:21:28.951Z"
   },
   {
    "duration": 15,
    "start_time": "2022-05-01T09:21:28.971Z"
   },
   {
    "duration": 14,
    "start_time": "2022-05-01T09:21:28.988Z"
   },
   {
    "duration": 22,
    "start_time": "2022-05-01T09:21:29.033Z"
   },
   {
    "duration": 21,
    "start_time": "2022-05-01T09:21:29.057Z"
   },
   {
    "duration": 16,
    "start_time": "2022-05-01T09:21:29.080Z"
   },
   {
    "duration": 54,
    "start_time": "2022-05-01T09:21:29.098Z"
   },
   {
    "duration": 175,
    "start_time": "2022-05-01T09:21:29.154Z"
   },
   {
    "duration": 0,
    "start_time": "2022-05-01T09:21:29.330Z"
   },
   {
    "duration": 85,
    "start_time": "2022-05-01T09:21:45.394Z"
   },
   {
    "duration": 14,
    "start_time": "2022-05-01T09:21:45.481Z"
   },
   {
    "duration": 41,
    "start_time": "2022-05-01T09:21:45.497Z"
   },
   {
    "duration": 21,
    "start_time": "2022-05-01T09:21:45.542Z"
   },
   {
    "duration": 5,
    "start_time": "2022-05-01T09:21:45.565Z"
   },
   {
    "duration": 6,
    "start_time": "2022-05-01T09:21:45.571Z"
   },
   {
    "duration": 14,
    "start_time": "2022-05-01T09:21:45.579Z"
   },
   {
    "duration": 61,
    "start_time": "2022-05-01T09:21:45.595Z"
   },
   {
    "duration": 6,
    "start_time": "2022-05-01T09:21:45.658Z"
   },
   {
    "duration": 15,
    "start_time": "2022-05-01T09:21:45.666Z"
   },
   {
    "duration": 13,
    "start_time": "2022-05-01T09:21:45.683Z"
   },
   {
    "duration": 53,
    "start_time": "2022-05-01T09:21:45.697Z"
   },
   {
    "duration": 21,
    "start_time": "2022-05-01T09:21:45.752Z"
   },
   {
    "duration": 15,
    "start_time": "2022-05-01T09:21:45.774Z"
   },
   {
    "duration": 19,
    "start_time": "2022-05-01T09:21:45.791Z"
   },
   {
    "duration": 15,
    "start_time": "2022-05-01T09:21:45.835Z"
   },
   {
    "duration": 14,
    "start_time": "2022-05-01T09:21:45.852Z"
   },
   {
    "duration": 15,
    "start_time": "2022-05-01T09:21:45.868Z"
   },
   {
    "duration": 49,
    "start_time": "2022-05-01T09:21:45.885Z"
   },
   {
    "duration": 29,
    "start_time": "2022-05-01T09:21:45.936Z"
   },
   {
    "duration": 34,
    "start_time": "2022-05-01T09:21:45.967Z"
   },
   {
    "duration": 41,
    "start_time": "2022-05-01T09:21:46.002Z"
   },
   {
    "duration": 47,
    "start_time": "2022-05-01T10:38:43.598Z"
   },
   {
    "duration": 78,
    "start_time": "2022-05-01T10:38:51.312Z"
   },
   {
    "duration": 15,
    "start_time": "2022-05-01T10:38:51.392Z"
   },
   {
    "duration": 45,
    "start_time": "2022-05-01T10:38:51.409Z"
   },
   {
    "duration": 11,
    "start_time": "2022-05-01T10:38:51.456Z"
   },
   {
    "duration": 5,
    "start_time": "2022-05-01T10:38:51.470Z"
   },
   {
    "duration": 9,
    "start_time": "2022-05-01T10:38:51.476Z"
   },
   {
    "duration": 15,
    "start_time": "2022-05-01T10:38:51.487Z"
   },
   {
    "duration": 50,
    "start_time": "2022-05-01T10:38:51.504Z"
   },
   {
    "duration": 7,
    "start_time": "2022-05-01T10:38:51.556Z"
   },
   {
    "duration": 18,
    "start_time": "2022-05-01T10:38:51.566Z"
   },
   {
    "duration": 15,
    "start_time": "2022-05-01T10:38:51.586Z"
   },
   {
    "duration": 43,
    "start_time": "2022-05-01T10:38:51.602Z"
   },
   {
    "duration": 19,
    "start_time": "2022-05-01T10:38:51.649Z"
   },
   {
    "duration": 16,
    "start_time": "2022-05-01T10:38:51.670Z"
   },
   {
    "duration": 17,
    "start_time": "2022-05-01T10:38:51.687Z"
   },
   {
    "duration": 46,
    "start_time": "2022-05-01T10:38:51.706Z"
   },
   {
    "duration": 15,
    "start_time": "2022-05-01T10:38:51.754Z"
   },
   {
    "duration": 18,
    "start_time": "2022-05-01T10:38:51.770Z"
   },
   {
    "duration": 17,
    "start_time": "2022-05-01T10:38:51.789Z"
   },
   {
    "duration": 24,
    "start_time": "2022-05-01T10:38:51.834Z"
   },
   {
    "duration": 38,
    "start_time": "2022-05-01T10:38:51.859Z"
   },
   {
    "duration": 33,
    "start_time": "2022-05-01T10:40:37.257Z"
   },
   {
    "duration": 17,
    "start_time": "2022-05-01T10:40:50.668Z"
   },
   {
    "duration": 31,
    "start_time": "2022-05-01T10:42:18.263Z"
   },
   {
    "duration": 72,
    "start_time": "2022-05-01T10:42:35.964Z"
   },
   {
    "duration": 16,
    "start_time": "2022-05-01T10:42:36.038Z"
   },
   {
    "duration": 18,
    "start_time": "2022-05-01T10:42:36.055Z"
   },
   {
    "duration": 11,
    "start_time": "2022-05-01T10:42:36.075Z"
   },
   {
    "duration": 4,
    "start_time": "2022-05-01T10:42:36.088Z"
   },
   {
    "duration": 6,
    "start_time": "2022-05-01T10:42:36.094Z"
   },
   {
    "duration": 42,
    "start_time": "2022-05-01T10:42:36.101Z"
   },
   {
    "duration": 22,
    "start_time": "2022-05-01T10:42:36.144Z"
   },
   {
    "duration": 5,
    "start_time": "2022-05-01T10:42:36.167Z"
   },
   {
    "duration": 16,
    "start_time": "2022-05-01T10:42:36.175Z"
   },
   {
    "duration": 41,
    "start_time": "2022-05-01T10:42:36.193Z"
   },
   {
    "duration": 20,
    "start_time": "2022-05-01T10:42:36.236Z"
   },
   {
    "duration": 17,
    "start_time": "2022-05-01T10:42:36.257Z"
   },
   {
    "duration": 14,
    "start_time": "2022-05-01T10:42:36.275Z"
   },
   {
    "duration": 48,
    "start_time": "2022-05-01T10:42:36.290Z"
   },
   {
    "duration": 14,
    "start_time": "2022-05-01T10:42:36.340Z"
   },
   {
    "duration": 13,
    "start_time": "2022-05-01T10:42:36.356Z"
   },
   {
    "duration": 16,
    "start_time": "2022-05-01T10:42:36.370Z"
   },
   {
    "duration": 17,
    "start_time": "2022-05-01T10:42:36.387Z"
   },
   {
    "duration": 25,
    "start_time": "2022-05-01T10:42:36.432Z"
   },
   {
    "duration": 36,
    "start_time": "2022-05-01T10:42:36.458Z"
   },
   {
    "duration": 37,
    "start_time": "2022-05-01T10:43:01.647Z"
   },
   {
    "duration": 35,
    "start_time": "2022-05-01T10:43:07.417Z"
   },
   {
    "duration": 31,
    "start_time": "2022-05-01T10:44:26.566Z"
   },
   {
    "duration": 20,
    "start_time": "2022-05-01T10:45:01.858Z"
   },
   {
    "duration": 19,
    "start_time": "2022-05-01T10:45:06.159Z"
   },
   {
    "duration": 19,
    "start_time": "2022-05-01T10:45:12.443Z"
   },
   {
    "duration": 21,
    "start_time": "2022-05-01T10:45:21.243Z"
   },
   {
    "duration": 36,
    "start_time": "2022-05-01T10:45:28.111Z"
   },
   {
    "duration": 19,
    "start_time": "2022-05-01T10:45:48.347Z"
   },
   {
    "duration": 45,
    "start_time": "2022-05-02T08:33:31.475Z"
   },
   {
    "duration": 501,
    "start_time": "2022-05-02T08:33:40.360Z"
   },
   {
    "duration": 14,
    "start_time": "2022-05-02T08:33:40.863Z"
   },
   {
    "duration": 23,
    "start_time": "2022-05-02T08:33:40.878Z"
   },
   {
    "duration": 10,
    "start_time": "2022-05-02T08:33:40.903Z"
   },
   {
    "duration": 6,
    "start_time": "2022-05-02T08:33:40.915Z"
   },
   {
    "duration": 7,
    "start_time": "2022-05-02T08:33:40.923Z"
   },
   {
    "duration": 13,
    "start_time": "2022-05-02T08:33:40.932Z"
   },
   {
    "duration": 13,
    "start_time": "2022-05-02T08:33:40.947Z"
   },
   {
    "duration": 5,
    "start_time": "2022-05-02T08:33:40.993Z"
   },
   {
    "duration": 16,
    "start_time": "2022-05-02T08:33:41.001Z"
   },
   {
    "duration": 13,
    "start_time": "2022-05-02T08:33:41.019Z"
   },
   {
    "duration": 15,
    "start_time": "2022-05-02T08:33:41.033Z"
   },
   {
    "duration": 48,
    "start_time": "2022-05-02T08:33:41.050Z"
   },
   {
    "duration": 14,
    "start_time": "2022-05-02T08:33:41.100Z"
   },
   {
    "duration": 14,
    "start_time": "2022-05-02T08:33:41.116Z"
   },
   {
    "duration": 13,
    "start_time": "2022-05-02T08:33:41.132Z"
   },
   {
    "duration": 13,
    "start_time": "2022-05-02T08:33:41.146Z"
   },
   {
    "duration": 46,
    "start_time": "2022-05-02T08:33:41.160Z"
   },
   {
    "duration": 17,
    "start_time": "2022-05-02T08:33:41.208Z"
   },
   {
    "duration": 19,
    "start_time": "2022-05-02T08:33:41.227Z"
   },
   {
    "duration": 62,
    "start_time": "2022-05-02T08:33:41.247Z"
   },
   {
    "duration": 21,
    "start_time": "2022-05-02T08:34:26.076Z"
   },
   {
    "duration": 38,
    "start_time": "2022-05-02T08:50:17.701Z"
   },
   {
    "duration": 7,
    "start_time": "2022-05-02T08:50:50.875Z"
   },
   {
    "duration": 6,
    "start_time": "2022-05-02T08:51:35.419Z"
   },
   {
    "duration": 7,
    "start_time": "2022-05-02T08:52:26.536Z"
   },
   {
    "duration": 7,
    "start_time": "2022-05-02T08:53:08.933Z"
   },
   {
    "duration": 6,
    "start_time": "2022-05-02T08:54:48.942Z"
   },
   {
    "duration": 16,
    "start_time": "2022-05-02T09:12:18.298Z"
   },
   {
    "duration": 4,
    "start_time": "2022-05-02T10:57:03.257Z"
   },
   {
    "duration": 10,
    "start_time": "2022-05-02T10:57:12.752Z"
   },
   {
    "duration": 12,
    "start_time": "2022-05-02T10:59:36.269Z"
   },
   {
    "duration": 12,
    "start_time": "2022-05-02T11:00:59.718Z"
   },
   {
    "duration": 5,
    "start_time": "2022-05-02T11:01:15.294Z"
   },
   {
    "duration": 16,
    "start_time": "2022-05-02T11:08:40.633Z"
   },
   {
    "duration": 43,
    "start_time": "2022-05-02T11:08:54.068Z"
   },
   {
    "duration": 67,
    "start_time": "2022-05-02T11:09:05.858Z"
   },
   {
    "duration": 12,
    "start_time": "2022-05-02T11:09:05.927Z"
   },
   {
    "duration": 16,
    "start_time": "2022-05-02T11:09:05.940Z"
   },
   {
    "duration": 38,
    "start_time": "2022-05-02T11:09:05.958Z"
   },
   {
    "duration": 6,
    "start_time": "2022-05-02T11:09:05.998Z"
   },
   {
    "duration": 8,
    "start_time": "2022-05-02T11:09:06.007Z"
   },
   {
    "duration": 13,
    "start_time": "2022-05-02T11:09:06.016Z"
   },
   {
    "duration": 11,
    "start_time": "2022-05-02T11:09:06.031Z"
   },
   {
    "duration": 6,
    "start_time": "2022-05-02T11:09:06.043Z"
   },
   {
    "duration": 48,
    "start_time": "2022-05-02T11:09:06.052Z"
   },
   {
    "duration": 14,
    "start_time": "2022-05-02T11:09:06.101Z"
   },
   {
    "duration": 16,
    "start_time": "2022-05-02T11:09:06.116Z"
   },
   {
    "duration": 15,
    "start_time": "2022-05-02T11:09:06.134Z"
   },
   {
    "duration": 49,
    "start_time": "2022-05-02T11:09:06.150Z"
   },
   {
    "duration": 16,
    "start_time": "2022-05-02T11:09:06.205Z"
   },
   {
    "duration": 13,
    "start_time": "2022-05-02T11:09:06.223Z"
   },
   {
    "duration": 13,
    "start_time": "2022-05-02T11:09:06.237Z"
   },
   {
    "duration": 15,
    "start_time": "2022-05-02T11:09:06.252Z"
   },
   {
    "duration": 45,
    "start_time": "2022-05-02T11:09:06.269Z"
   },
   {
    "duration": 16,
    "start_time": "2022-05-02T11:09:06.316Z"
   },
   {
    "duration": 18,
    "start_time": "2022-05-02T11:09:06.333Z"
   },
   {
    "duration": 14,
    "start_time": "2022-05-02T11:09:06.353Z"
   },
   {
    "duration": 28,
    "start_time": "2022-05-02T11:09:06.369Z"
   },
   {
    "duration": 13,
    "start_time": "2022-05-02T11:09:06.401Z"
   },
   {
    "duration": 7,
    "start_time": "2022-05-02T11:09:06.416Z"
   },
   {
    "duration": 12,
    "start_time": "2022-05-02T11:09:06.425Z"
   },
   {
    "duration": 10,
    "start_time": "2022-05-02T11:09:06.439Z"
   },
   {
    "duration": 18,
    "start_time": "2022-05-02T11:09:06.452Z"
   },
   {
    "duration": 27,
    "start_time": "2022-05-02T11:09:06.472Z"
   },
   {
    "duration": 13,
    "start_time": "2022-05-02T11:09:06.501Z"
   },
   {
    "duration": 3,
    "start_time": "2022-05-02T11:32:22.676Z"
   },
   {
    "duration": 3,
    "start_time": "2022-05-02T11:32:48.495Z"
   },
   {
    "duration": 3,
    "start_time": "2022-05-02T11:35:45.099Z"
   },
   {
    "duration": 18,
    "start_time": "2022-05-02T11:43:54.785Z"
   },
   {
    "duration": 3,
    "start_time": "2022-05-02T12:26:56.215Z"
   },
   {
    "duration": 16,
    "start_time": "2022-05-02T12:29:39.238Z"
   },
   {
    "duration": 14,
    "start_time": "2022-05-02T12:58:24.561Z"
   },
   {
    "duration": 12,
    "start_time": "2022-05-02T13:00:41.613Z"
   },
   {
    "duration": 4,
    "start_time": "2022-05-02T13:54:06.384Z"
   },
   {
    "duration": 6,
    "start_time": "2022-05-02T13:54:46.014Z"
   },
   {
    "duration": 72,
    "start_time": "2022-05-02T13:54:53.630Z"
   },
   {
    "duration": 25,
    "start_time": "2022-05-02T13:54:53.706Z"
   },
   {
    "duration": 22,
    "start_time": "2022-05-02T13:54:53.733Z"
   },
   {
    "duration": 44,
    "start_time": "2022-05-02T13:54:53.758Z"
   },
   {
    "duration": 11,
    "start_time": "2022-05-02T13:54:53.809Z"
   },
   {
    "duration": 10,
    "start_time": "2022-05-02T13:54:53.822Z"
   },
   {
    "duration": 22,
    "start_time": "2022-05-02T13:54:53.834Z"
   },
   {
    "duration": 13,
    "start_time": "2022-05-02T13:54:53.858Z"
   },
   {
    "duration": 5,
    "start_time": "2022-05-02T13:54:53.873Z"
   },
   {
    "duration": 32,
    "start_time": "2022-05-02T13:54:53.900Z"
   },
   {
    "duration": 17,
    "start_time": "2022-05-02T13:54:53.934Z"
   },
   {
    "duration": 18,
    "start_time": "2022-05-02T13:54:53.953Z"
   },
   {
    "duration": 34,
    "start_time": "2022-05-02T13:54:53.973Z"
   },
   {
    "duration": 17,
    "start_time": "2022-05-02T13:54:54.009Z"
   },
   {
    "duration": 17,
    "start_time": "2022-05-02T13:54:54.028Z"
   },
   {
    "duration": 14,
    "start_time": "2022-05-02T13:54:54.047Z"
   },
   {
    "duration": 50,
    "start_time": "2022-05-02T13:54:54.063Z"
   },
   {
    "duration": 26,
    "start_time": "2022-05-02T13:54:54.115Z"
   },
   {
    "duration": 18,
    "start_time": "2022-05-02T13:54:54.143Z"
   },
   {
    "duration": 51,
    "start_time": "2022-05-02T13:54:54.162Z"
   },
   {
    "duration": 29,
    "start_time": "2022-05-02T13:54:54.214Z"
   },
   {
    "duration": 19,
    "start_time": "2022-05-02T13:54:54.245Z"
   },
   {
    "duration": 7,
    "start_time": "2022-05-02T13:54:54.266Z"
   },
   {
    "duration": 14,
    "start_time": "2022-05-02T13:54:54.294Z"
   },
   {
    "duration": 21,
    "start_time": "2022-05-02T13:54:54.309Z"
   },
   {
    "duration": 16,
    "start_time": "2022-05-02T13:54:54.332Z"
   },
   {
    "duration": 11,
    "start_time": "2022-05-02T13:54:54.351Z"
   },
   {
    "duration": 30,
    "start_time": "2022-05-02T13:54:54.366Z"
   },
   {
    "duration": 9,
    "start_time": "2022-05-02T13:54:54.403Z"
   },
   {
    "duration": 21,
    "start_time": "2022-05-02T13:54:54.414Z"
   },
   {
    "duration": 5,
    "start_time": "2022-05-02T13:54:54.437Z"
   },
   {
    "duration": 10,
    "start_time": "2022-05-02T13:54:54.444Z"
   },
   {
    "duration": 23,
    "start_time": "2022-05-02T13:54:54.455Z"
   },
   {
    "duration": 3,
    "start_time": "2022-05-02T13:54:54.480Z"
   },
   {
    "duration": 40,
    "start_time": "2022-05-02T13:54:54.484Z"
   },
   {
    "duration": 6,
    "start_time": "2022-05-02T13:54:54.526Z"
   },
   {
    "duration": 11,
    "start_time": "2022-05-02T13:55:20.726Z"
   },
   {
    "duration": 11,
    "start_time": "2022-05-02T13:56:55.277Z"
   },
   {
    "duration": 6,
    "start_time": "2022-05-02T13:57:33.722Z"
   },
   {
    "duration": 8,
    "start_time": "2022-05-02T13:59:18.257Z"
   },
   {
    "duration": 8,
    "start_time": "2022-05-02T13:59:21.258Z"
   },
   {
    "duration": 12,
    "start_time": "2022-05-02T13:59:32.418Z"
   },
   {
    "duration": 7,
    "start_time": "2022-05-02T14:00:13.869Z"
   },
   {
    "duration": 46,
    "start_time": "2022-05-03T08:16:31.670Z"
   },
   {
    "duration": 459,
    "start_time": "2022-05-03T08:16:41.764Z"
   },
   {
    "duration": 15,
    "start_time": "2022-05-03T08:16:42.229Z"
   },
   {
    "duration": 19,
    "start_time": "2022-05-03T08:16:42.246Z"
   },
   {
    "duration": 13,
    "start_time": "2022-05-03T08:16:42.267Z"
   },
   {
    "duration": 5,
    "start_time": "2022-05-03T08:16:42.282Z"
   },
   {
    "duration": 48,
    "start_time": "2022-05-03T08:16:42.289Z"
   },
   {
    "duration": 13,
    "start_time": "2022-05-03T08:16:42.338Z"
   },
   {
    "duration": 12,
    "start_time": "2022-05-03T08:16:42.353Z"
   },
   {
    "duration": 5,
    "start_time": "2022-05-03T08:16:42.366Z"
   },
   {
    "duration": 14,
    "start_time": "2022-05-03T08:16:42.374Z"
   },
   {
    "duration": 33,
    "start_time": "2022-05-03T08:16:42.390Z"
   },
   {
    "duration": 21,
    "start_time": "2022-05-03T08:16:42.427Z"
   },
   {
    "duration": 17,
    "start_time": "2022-05-03T08:16:42.450Z"
   },
   {
    "duration": 15,
    "start_time": "2022-05-03T08:16:42.469Z"
   },
   {
    "duration": 46,
    "start_time": "2022-05-03T08:16:42.486Z"
   },
   {
    "duration": 19,
    "start_time": "2022-05-03T08:16:42.538Z"
   },
   {
    "duration": 14,
    "start_time": "2022-05-03T08:16:42.559Z"
   },
   {
    "duration": 17,
    "start_time": "2022-05-03T08:16:42.575Z"
   },
   {
    "duration": 42,
    "start_time": "2022-05-03T08:16:42.594Z"
   },
   {
    "duration": 18,
    "start_time": "2022-05-03T08:16:42.638Z"
   },
   {
    "duration": 23,
    "start_time": "2022-05-03T08:16:42.658Z"
   },
   {
    "duration": 46,
    "start_time": "2022-05-03T08:16:42.683Z"
   },
   {
    "duration": 9,
    "start_time": "2022-05-03T08:16:42.731Z"
   },
   {
    "duration": 9,
    "start_time": "2022-05-03T08:16:42.742Z"
   },
   {
    "duration": 11,
    "start_time": "2022-05-03T08:16:42.753Z"
   },
   {
    "duration": 10,
    "start_time": "2022-05-03T08:16:42.766Z"
   },
   {
    "duration": 12,
    "start_time": "2022-05-03T08:16:42.777Z"
   },
   {
    "duration": 40,
    "start_time": "2022-05-03T08:16:42.793Z"
   },
   {
    "duration": 5,
    "start_time": "2022-05-03T08:16:42.836Z"
   },
   {
    "duration": 14,
    "start_time": "2022-05-03T08:16:42.843Z"
   },
   {
    "duration": 6,
    "start_time": "2022-05-03T08:16:42.859Z"
   },
   {
    "duration": 7,
    "start_time": "2022-05-03T08:16:42.866Z"
   },
   {
    "duration": 21,
    "start_time": "2022-05-03T08:16:42.874Z"
   },
   {
    "duration": 31,
    "start_time": "2022-05-03T08:16:42.896Z"
   },
   {
    "duration": 21,
    "start_time": "2022-05-03T08:16:42.928Z"
   },
   {
    "duration": 37,
    "start_time": "2022-05-03T08:16:42.951Z"
   },
   {
    "duration": 4,
    "start_time": "2022-05-03T08:17:04.003Z"
   },
   {
    "duration": 0,
    "start_time": "2022-05-03T08:17:47.614Z"
   },
   {
    "duration": 5,
    "start_time": "2022-05-03T08:20:16.561Z"
   },
   {
    "duration": 5,
    "start_time": "2022-05-03T08:57:54.841Z"
   },
   {
    "duration": 4,
    "start_time": "2022-05-03T08:58:27.700Z"
   },
   {
    "duration": 5,
    "start_time": "2022-05-03T08:58:33.141Z"
   },
   {
    "duration": 12,
    "start_time": "2022-05-03T09:01:19.995Z"
   },
   {
    "duration": 33,
    "start_time": "2022-05-03T09:01:29.773Z"
   },
   {
    "duration": 7,
    "start_time": "2022-05-03T09:02:06.513Z"
   },
   {
    "duration": 7,
    "start_time": "2022-05-03T09:02:18.600Z"
   },
   {
    "duration": 6,
    "start_time": "2022-05-03T09:11:03.263Z"
   },
   {
    "duration": 7,
    "start_time": "2022-05-03T09:15:46.332Z"
   },
   {
    "duration": 6,
    "start_time": "2022-05-03T09:21:28.286Z"
   },
   {
    "duration": 8,
    "start_time": "2022-05-03T09:21:36.603Z"
   },
   {
    "duration": 71,
    "start_time": "2022-05-03T09:21:53.799Z"
   },
   {
    "duration": 14,
    "start_time": "2022-05-03T09:21:53.872Z"
   },
   {
    "duration": 36,
    "start_time": "2022-05-03T09:21:53.888Z"
   },
   {
    "duration": 11,
    "start_time": "2022-05-03T09:21:53.926Z"
   },
   {
    "duration": 5,
    "start_time": "2022-05-03T09:21:53.939Z"
   },
   {
    "duration": 5,
    "start_time": "2022-05-03T09:21:53.945Z"
   },
   {
    "duration": 12,
    "start_time": "2022-05-03T09:21:53.952Z"
   },
   {
    "duration": 12,
    "start_time": "2022-05-03T09:21:53.965Z"
   },
   {
    "duration": 45,
    "start_time": "2022-05-03T09:21:53.979Z"
   },
   {
    "duration": 16,
    "start_time": "2022-05-03T09:21:54.027Z"
   },
   {
    "duration": 13,
    "start_time": "2022-05-03T09:21:54.045Z"
   },
   {
    "duration": 16,
    "start_time": "2022-05-03T09:21:54.059Z"
   },
   {
    "duration": 49,
    "start_time": "2022-05-03T09:21:54.077Z"
   },
   {
    "duration": 14,
    "start_time": "2022-05-03T09:21:54.128Z"
   },
   {
    "duration": 15,
    "start_time": "2022-05-03T09:21:54.145Z"
   },
   {
    "duration": 15,
    "start_time": "2022-05-03T09:21:54.162Z"
   },
   {
    "duration": 46,
    "start_time": "2022-05-03T09:21:54.179Z"
   },
   {
    "duration": 16,
    "start_time": "2022-05-03T09:21:54.227Z"
   },
   {
    "duration": 17,
    "start_time": "2022-05-03T09:21:54.245Z"
   },
   {
    "duration": 19,
    "start_time": "2022-05-03T09:21:54.264Z"
   },
   {
    "duration": 55,
    "start_time": "2022-05-03T09:21:54.285Z"
   },
   {
    "duration": 19,
    "start_time": "2022-05-03T09:21:54.342Z"
   },
   {
    "duration": 7,
    "start_time": "2022-05-03T09:21:54.363Z"
   },
   {
    "duration": 7,
    "start_time": "2022-05-03T09:21:54.372Z"
   },
   {
    "duration": 8,
    "start_time": "2022-05-03T09:21:54.381Z"
   },
   {
    "duration": 38,
    "start_time": "2022-05-03T09:21:54.390Z"
   },
   {
    "duration": 8,
    "start_time": "2022-05-03T09:21:54.430Z"
   },
   {
    "duration": 19,
    "start_time": "2022-05-03T09:21:54.442Z"
   },
   {
    "duration": 5,
    "start_time": "2022-05-03T09:21:54.463Z"
   },
   {
    "duration": 14,
    "start_time": "2022-05-03T09:21:54.470Z"
   },
   {
    "duration": 5,
    "start_time": "2022-05-03T09:21:54.486Z"
   },
   {
    "duration": 30,
    "start_time": "2022-05-03T09:21:54.493Z"
   },
   {
    "duration": 23,
    "start_time": "2022-05-03T09:21:54.526Z"
   },
   {
    "duration": 3,
    "start_time": "2022-05-03T09:21:54.550Z"
   },
   {
    "duration": 22,
    "start_time": "2022-05-03T09:21:54.555Z"
   },
   {
    "duration": 9,
    "start_time": "2022-05-03T09:21:54.579Z"
   },
   {
    "duration": 2415,
    "start_time": "2022-05-03T09:22:33.779Z"
   },
   {
    "duration": 2301,
    "start_time": "2022-05-03T09:22:40.524Z"
   },
   {
    "duration": 8,
    "start_time": "2022-05-03T09:23:00.418Z"
   },
   {
    "duration": 17,
    "start_time": "2022-05-03T09:27:17.826Z"
   },
   {
    "duration": 10,
    "start_time": "2022-05-03T09:28:03.275Z"
   },
   {
    "duration": 12,
    "start_time": "2022-05-03T09:28:21.365Z"
   },
   {
    "duration": 5004,
    "start_time": "2022-05-03T09:30:07.237Z"
   },
   {
    "duration": 3404,
    "start_time": "2022-05-03T09:30:27.727Z"
   },
   {
    "duration": 114,
    "start_time": "2022-05-03T09:30:39.655Z"
   },
   {
    "duration": 21,
    "start_time": "2022-05-03T09:30:39.771Z"
   },
   {
    "duration": 36,
    "start_time": "2022-05-03T09:30:39.794Z"
   },
   {
    "duration": 10,
    "start_time": "2022-05-03T09:30:39.833Z"
   },
   {
    "duration": 5,
    "start_time": "2022-05-03T09:30:39.845Z"
   },
   {
    "duration": 5,
    "start_time": "2022-05-03T09:30:39.852Z"
   },
   {
    "duration": 13,
    "start_time": "2022-05-03T09:30:39.859Z"
   },
   {
    "duration": 57,
    "start_time": "2022-05-03T09:30:39.874Z"
   },
   {
    "duration": 5,
    "start_time": "2022-05-03T09:30:39.933Z"
   },
   {
    "duration": 15,
    "start_time": "2022-05-03T09:30:39.941Z"
   },
   {
    "duration": 13,
    "start_time": "2022-05-03T09:30:39.957Z"
   },
   {
    "duration": 16,
    "start_time": "2022-05-03T09:30:39.972Z"
   },
   {
    "duration": 49,
    "start_time": "2022-05-03T09:30:39.990Z"
   },
   {
    "duration": 15,
    "start_time": "2022-05-03T09:30:40.040Z"
   },
   {
    "duration": 16,
    "start_time": "2022-05-03T09:30:40.057Z"
   },
   {
    "duration": 14,
    "start_time": "2022-05-03T09:30:40.075Z"
   },
   {
    "duration": 16,
    "start_time": "2022-05-03T09:30:40.123Z"
   },
   {
    "duration": 16,
    "start_time": "2022-05-03T09:30:40.140Z"
   },
   {
    "duration": 16,
    "start_time": "2022-05-03T09:30:40.157Z"
   },
   {
    "duration": 50,
    "start_time": "2022-05-03T09:30:40.175Z"
   },
   {
    "duration": 23,
    "start_time": "2022-05-03T09:30:40.226Z"
   },
   {
    "duration": 18,
    "start_time": "2022-05-03T09:30:40.250Z"
   },
   {
    "duration": 7,
    "start_time": "2022-05-03T09:30:40.270Z"
   },
   {
    "duration": 12,
    "start_time": "2022-05-03T09:30:40.279Z"
   },
   {
    "duration": 37,
    "start_time": "2022-05-03T09:30:40.293Z"
   },
   {
    "duration": 11,
    "start_time": "2022-05-03T09:30:40.331Z"
   },
   {
    "duration": 11,
    "start_time": "2022-05-03T09:30:40.343Z"
   },
   {
    "duration": 18,
    "start_time": "2022-05-03T09:30:40.359Z"
   },
   {
    "duration": 6,
    "start_time": "2022-05-03T09:30:40.379Z"
   },
   {
    "duration": 44,
    "start_time": "2022-05-03T09:30:40.387Z"
   },
   {
    "duration": 5,
    "start_time": "2022-05-03T09:30:40.433Z"
   },
   {
    "duration": 6,
    "start_time": "2022-05-03T09:30:40.439Z"
   },
   {
    "duration": 20,
    "start_time": "2022-05-03T09:30:40.446Z"
   },
   {
    "duration": 4,
    "start_time": "2022-05-03T09:30:40.468Z"
   },
   {
    "duration": 20,
    "start_time": "2022-05-03T09:30:40.473Z"
   },
   {
    "duration": 16,
    "start_time": "2022-05-03T09:30:40.523Z"
   },
   {
    "duration": 3111,
    "start_time": "2022-05-03T09:30:40.541Z"
   },
   {
    "duration": 13,
    "start_time": "2022-05-03T09:37:32.628Z"
   },
   {
    "duration": 4,
    "start_time": "2022-05-03T10:09:00.188Z"
   },
   {
    "duration": 9,
    "start_time": "2022-05-03T10:09:37.997Z"
   },
   {
    "duration": 5,
    "start_time": "2022-05-03T10:11:29.269Z"
   },
   {
    "duration": 11,
    "start_time": "2022-05-03T10:11:55.725Z"
   },
   {
    "duration": 5,
    "start_time": "2022-05-03T10:12:43.775Z"
   },
   {
    "duration": 18,
    "start_time": "2022-05-03T10:14:04.421Z"
   },
   {
    "duration": 7,
    "start_time": "2022-05-03T10:14:26.857Z"
   },
   {
    "duration": 5,
    "start_time": "2022-05-03T10:23:26.097Z"
   },
   {
    "duration": 7,
    "start_time": "2022-05-03T10:23:36.666Z"
   },
   {
    "duration": 100,
    "start_time": "2022-05-03T10:23:56.977Z"
   },
   {
    "duration": 18,
    "start_time": "2022-05-03T10:23:57.080Z"
   },
   {
    "duration": 19,
    "start_time": "2022-05-03T10:23:57.123Z"
   },
   {
    "duration": 10,
    "start_time": "2022-05-03T10:23:57.144Z"
   },
   {
    "duration": 5,
    "start_time": "2022-05-03T10:23:57.156Z"
   },
   {
    "duration": 9,
    "start_time": "2022-05-03T10:23:57.163Z"
   },
   {
    "duration": 52,
    "start_time": "2022-05-03T10:23:57.173Z"
   },
   {
    "duration": 195,
    "start_time": "2022-05-03T10:23:57.227Z"
   },
   {
    "duration": 5,
    "start_time": "2022-05-03T10:23:57.424Z"
   },
   {
    "duration": 18,
    "start_time": "2022-05-03T10:23:57.432Z"
   },
   {
    "duration": 13,
    "start_time": "2022-05-03T10:23:57.452Z"
   },
   {
    "duration": 19,
    "start_time": "2022-05-03T10:23:57.467Z"
   },
   {
    "duration": 59,
    "start_time": "2022-05-03T10:23:57.488Z"
   },
   {
    "duration": 15,
    "start_time": "2022-05-03T10:23:57.549Z"
   },
   {
    "duration": 17,
    "start_time": "2022-05-03T10:23:57.566Z"
   },
   {
    "duration": 48,
    "start_time": "2022-05-03T10:23:57.584Z"
   },
   {
    "duration": 12,
    "start_time": "2022-05-03T10:23:57.634Z"
   },
   {
    "duration": 15,
    "start_time": "2022-05-03T10:23:57.648Z"
   },
   {
    "duration": 4,
    "start_time": "2022-05-03T10:23:57.664Z"
   },
   {
    "duration": 10,
    "start_time": "2022-05-03T10:23:57.670Z"
   },
   {
    "duration": 44,
    "start_time": "2022-05-03T10:23:57.682Z"
   },
   {
    "duration": 16,
    "start_time": "2022-05-03T10:23:57.728Z"
   },
   {
    "duration": 17,
    "start_time": "2022-05-03T10:23:57.746Z"
   },
   {
    "duration": 22,
    "start_time": "2022-05-03T10:23:57.765Z"
   },
   {
    "duration": 50,
    "start_time": "2022-05-03T10:23:57.789Z"
   },
   {
    "duration": 7,
    "start_time": "2022-05-03T10:23:57.841Z"
   },
   {
    "duration": 12,
    "start_time": "2022-05-03T10:23:57.851Z"
   },
   {
    "duration": 8,
    "start_time": "2022-05-03T10:23:57.868Z"
   },
   {
    "duration": 11,
    "start_time": "2022-05-03T10:23:57.877Z"
   },
   {
    "duration": 11,
    "start_time": "2022-05-03T10:23:57.923Z"
   },
   {
    "duration": 28,
    "start_time": "2022-05-03T10:23:57.936Z"
   },
   {
    "duration": 9,
    "start_time": "2022-05-03T10:23:57.966Z"
   },
   {
    "duration": 12,
    "start_time": "2022-05-03T10:23:57.977Z"
   },
   {
    "duration": 34,
    "start_time": "2022-05-03T10:23:57.991Z"
   },
   {
    "duration": 5,
    "start_time": "2022-05-03T10:23:58.027Z"
   },
   {
    "duration": 20,
    "start_time": "2022-05-03T10:23:58.034Z"
   },
   {
    "duration": 4,
    "start_time": "2022-05-03T10:23:58.057Z"
   },
   {
    "duration": 23,
    "start_time": "2022-05-03T10:23:58.063Z"
   },
   {
    "duration": 42,
    "start_time": "2022-05-03T10:23:58.088Z"
   },
   {
    "duration": 16,
    "start_time": "2022-05-03T10:23:58.133Z"
   },
   {
    "duration": 7,
    "start_time": "2022-05-03T10:27:47.549Z"
   },
   {
    "duration": 16,
    "start_time": "2022-05-03T10:27:59.100Z"
   },
   {
    "duration": 2,
    "start_time": "2022-05-03T10:31:11.433Z"
   },
   {
    "duration": 16,
    "start_time": "2022-05-03T10:37:13.269Z"
   },
   {
    "duration": 15,
    "start_time": "2022-05-03T10:37:36.554Z"
   },
   {
    "duration": 237,
    "start_time": "2022-05-03T11:08:21.984Z"
   },
   {
    "duration": 75,
    "start_time": "2022-05-03T11:08:41.739Z"
   },
   {
    "duration": 573,
    "start_time": "2022-05-03T11:09:56.112Z"
   },
   {
    "duration": 18,
    "start_time": "2022-05-03T11:09:56.686Z"
   },
   {
    "duration": 25,
    "start_time": "2022-05-03T11:09:56.705Z"
   },
   {
    "duration": 10,
    "start_time": "2022-05-03T11:09:56.733Z"
   },
   {
    "duration": 5,
    "start_time": "2022-05-03T11:09:56.745Z"
   },
   {
    "duration": 7,
    "start_time": "2022-05-03T11:09:56.752Z"
   },
   {
    "duration": 14,
    "start_time": "2022-05-03T11:09:56.761Z"
   },
   {
    "duration": 46,
    "start_time": "2022-05-03T11:09:56.777Z"
   },
   {
    "duration": 7,
    "start_time": "2022-05-03T11:09:56.825Z"
   },
   {
    "duration": 24,
    "start_time": "2022-05-03T11:09:56.837Z"
   },
   {
    "duration": 20,
    "start_time": "2022-05-03T11:09:56.863Z"
   },
   {
    "duration": 50,
    "start_time": "2022-05-03T11:09:56.885Z"
   },
   {
    "duration": 17,
    "start_time": "2022-05-03T11:09:56.937Z"
   },
   {
    "duration": 32,
    "start_time": "2022-05-03T11:09:56.956Z"
   },
   {
    "duration": 15,
    "start_time": "2022-05-03T11:09:56.990Z"
   },
   {
    "duration": 22,
    "start_time": "2022-05-03T11:09:57.007Z"
   },
   {
    "duration": 14,
    "start_time": "2022-05-03T11:09:57.031Z"
   },
   {
    "duration": 18,
    "start_time": "2022-05-03T11:09:57.046Z"
   },
   {
    "duration": 6,
    "start_time": "2022-05-03T11:09:57.066Z"
   },
   {
    "duration": 9,
    "start_time": "2022-05-03T11:09:57.074Z"
   },
   {
    "duration": 47,
    "start_time": "2022-05-03T11:09:57.085Z"
   },
   {
    "duration": 16,
    "start_time": "2022-05-03T11:09:57.134Z"
   },
   {
    "duration": 23,
    "start_time": "2022-05-03T11:09:57.153Z"
   },
   {
    "duration": 57,
    "start_time": "2022-05-03T11:09:57.179Z"
   },
   {
    "duration": 30,
    "start_time": "2022-05-03T11:09:57.238Z"
   },
   {
    "duration": 26,
    "start_time": "2022-05-03T11:09:57.271Z"
   },
   {
    "duration": 19,
    "start_time": "2022-05-03T11:09:57.307Z"
   },
   {
    "duration": 18,
    "start_time": "2022-05-03T11:09:57.334Z"
   },
   {
    "duration": 27,
    "start_time": "2022-05-03T11:09:57.354Z"
   },
   {
    "duration": 10,
    "start_time": "2022-05-03T11:09:57.383Z"
   },
   {
    "duration": 28,
    "start_time": "2022-05-03T11:09:57.395Z"
   },
   {
    "duration": 5,
    "start_time": "2022-05-03T11:09:57.425Z"
   },
   {
    "duration": 12,
    "start_time": "2022-05-03T11:09:57.431Z"
   },
   {
    "duration": 4,
    "start_time": "2022-05-03T11:09:57.444Z"
   },
   {
    "duration": 7,
    "start_time": "2022-05-03T11:09:57.450Z"
   },
   {
    "duration": 26,
    "start_time": "2022-05-03T11:09:57.459Z"
   },
   {
    "duration": 36,
    "start_time": "2022-05-03T11:09:57.487Z"
   },
   {
    "duration": 20,
    "start_time": "2022-05-03T11:09:57.525Z"
   },
   {
    "duration": 11,
    "start_time": "2022-05-03T11:09:57.547Z"
   },
   {
    "duration": 13,
    "start_time": "2022-05-03T11:09:57.560Z"
   },
   {
    "duration": 5,
    "start_time": "2022-05-03T11:09:57.575Z"
   },
   {
    "duration": 45,
    "start_time": "2022-05-03T11:09:57.581Z"
   },
   {
    "duration": 612,
    "start_time": "2022-05-03T11:10:09.838Z"
   },
   {
    "duration": 16,
    "start_time": "2022-05-03T11:10:10.452Z"
   },
   {
    "duration": 19,
    "start_time": "2022-05-03T11:10:10.470Z"
   },
   {
    "duration": 33,
    "start_time": "2022-05-03T11:10:10.492Z"
   },
   {
    "duration": 7,
    "start_time": "2022-05-03T11:10:10.526Z"
   },
   {
    "duration": 6,
    "start_time": "2022-05-03T11:10:10.535Z"
   },
   {
    "duration": 15,
    "start_time": "2022-05-03T11:10:10.543Z"
   },
   {
    "duration": 17,
    "start_time": "2022-05-03T11:10:10.560Z"
   },
   {
    "duration": 44,
    "start_time": "2022-05-03T11:10:10.580Z"
   },
   {
    "duration": 19,
    "start_time": "2022-05-03T11:10:10.628Z"
   },
   {
    "duration": 15,
    "start_time": "2022-05-03T11:10:10.649Z"
   },
   {
    "duration": 18,
    "start_time": "2022-05-03T11:10:10.666Z"
   },
   {
    "duration": 51,
    "start_time": "2022-05-03T11:10:10.686Z"
   },
   {
    "duration": 21,
    "start_time": "2022-05-03T11:10:10.740Z"
   },
   {
    "duration": 24,
    "start_time": "2022-05-03T11:10:10.763Z"
   },
   {
    "duration": 41,
    "start_time": "2022-05-03T11:10:10.789Z"
   },
   {
    "duration": 20,
    "start_time": "2022-05-03T11:10:10.831Z"
   },
   {
    "duration": 18,
    "start_time": "2022-05-03T11:10:10.852Z"
   },
   {
    "duration": 5,
    "start_time": "2022-05-03T11:10:10.872Z"
   },
   {
    "duration": 6,
    "start_time": "2022-05-03T11:10:10.879Z"
   },
   {
    "duration": 40,
    "start_time": "2022-05-03T11:10:10.887Z"
   },
   {
    "duration": 19,
    "start_time": "2022-05-03T11:10:10.929Z"
   },
   {
    "duration": 21,
    "start_time": "2022-05-03T11:10:10.950Z"
   },
   {
    "duration": 61,
    "start_time": "2022-05-03T11:10:10.973Z"
   },
   {
    "duration": 27,
    "start_time": "2022-05-03T11:10:11.037Z"
   },
   {
    "duration": 9,
    "start_time": "2022-05-03T11:10:11.066Z"
   },
   {
    "duration": 29,
    "start_time": "2022-05-03T11:10:11.078Z"
   },
   {
    "duration": 13,
    "start_time": "2022-05-03T11:10:11.111Z"
   },
   {
    "duration": 8,
    "start_time": "2022-05-03T11:10:11.126Z"
   },
   {
    "duration": 8,
    "start_time": "2022-05-03T11:10:11.136Z"
   },
   {
    "duration": 19,
    "start_time": "2022-05-03T11:10:11.146Z"
   },
   {
    "duration": 8,
    "start_time": "2022-05-03T11:10:11.167Z"
   },
   {
    "duration": 57,
    "start_time": "2022-05-03T11:10:11.178Z"
   },
   {
    "duration": 5,
    "start_time": "2022-05-03T11:10:11.237Z"
   },
   {
    "duration": 6,
    "start_time": "2022-05-03T11:10:11.244Z"
   },
   {
    "duration": 37,
    "start_time": "2022-05-03T11:10:11.252Z"
   },
   {
    "duration": 4,
    "start_time": "2022-05-03T11:10:11.291Z"
   },
   {
    "duration": 43,
    "start_time": "2022-05-03T11:10:11.297Z"
   },
   {
    "duration": 16,
    "start_time": "2022-05-03T11:10:11.342Z"
   },
   {
    "duration": 12,
    "start_time": "2022-05-03T11:10:11.360Z"
   },
   {
    "duration": 5,
    "start_time": "2022-05-03T11:10:11.374Z"
   },
   {
    "duration": 45,
    "start_time": "2022-05-03T11:10:11.381Z"
   },
   {
    "duration": 55,
    "start_time": "2022-05-03T11:10:23.278Z"
   },
   {
    "duration": 8,
    "start_time": "2022-05-03T11:11:14.923Z"
   },
   {
    "duration": 7,
    "start_time": "2022-05-03T11:15:12.699Z"
   },
   {
    "duration": 605,
    "start_time": "2022-05-03T11:15:33.483Z"
   },
   {
    "duration": 21,
    "start_time": "2022-05-03T11:15:34.090Z"
   },
   {
    "duration": 31,
    "start_time": "2022-05-03T11:15:34.122Z"
   },
   {
    "duration": 14,
    "start_time": "2022-05-03T11:15:34.155Z"
   },
   {
    "duration": 19,
    "start_time": "2022-05-03T11:15:34.173Z"
   },
   {
    "duration": 12,
    "start_time": "2022-05-03T11:15:34.194Z"
   },
   {
    "duration": 22,
    "start_time": "2022-05-03T11:15:34.208Z"
   },
   {
    "duration": 17,
    "start_time": "2022-05-03T11:15:34.232Z"
   },
   {
    "duration": 5,
    "start_time": "2022-05-03T11:15:34.251Z"
   },
   {
    "duration": 31,
    "start_time": "2022-05-03T11:15:34.258Z"
   },
   {
    "duration": 18,
    "start_time": "2022-05-03T11:15:34.291Z"
   },
   {
    "duration": 21,
    "start_time": "2022-05-03T11:15:34.323Z"
   },
   {
    "duration": 23,
    "start_time": "2022-05-03T11:15:34.346Z"
   },
   {
    "duration": 22,
    "start_time": "2022-05-03T11:15:34.373Z"
   },
   {
    "duration": 21,
    "start_time": "2022-05-03T11:15:34.422Z"
   },
   {
    "duration": 16,
    "start_time": "2022-05-03T11:15:34.446Z"
   },
   {
    "duration": 16,
    "start_time": "2022-05-03T11:15:34.465Z"
   },
   {
    "duration": 48,
    "start_time": "2022-05-03T11:15:34.483Z"
   },
   {
    "duration": 4,
    "start_time": "2022-05-03T11:15:34.534Z"
   },
   {
    "duration": 21,
    "start_time": "2022-05-03T11:15:34.540Z"
   },
   {
    "duration": 13,
    "start_time": "2022-05-03T11:15:34.562Z"
   },
   {
    "duration": 30,
    "start_time": "2022-05-03T11:15:34.577Z"
   },
   {
    "duration": 18,
    "start_time": "2022-05-03T11:15:34.609Z"
   },
   {
    "duration": 21,
    "start_time": "2022-05-03T11:15:34.629Z"
   },
   {
    "duration": 19,
    "start_time": "2022-05-03T11:15:34.652Z"
   },
   {
    "duration": 8,
    "start_time": "2022-05-03T11:15:34.672Z"
   },
   {
    "duration": 28,
    "start_time": "2022-05-03T11:15:34.682Z"
   },
   {
    "duration": 15,
    "start_time": "2022-05-03T11:15:34.722Z"
   },
   {
    "duration": 17,
    "start_time": "2022-05-03T11:15:34.738Z"
   },
   {
    "duration": 21,
    "start_time": "2022-05-03T11:15:34.756Z"
   },
   {
    "duration": 18,
    "start_time": "2022-05-03T11:15:34.779Z"
   },
   {
    "duration": 20,
    "start_time": "2022-05-03T11:15:34.799Z"
   },
   {
    "duration": 20,
    "start_time": "2022-05-03T11:15:34.821Z"
   },
   {
    "duration": 8,
    "start_time": "2022-05-03T11:15:34.843Z"
   },
   {
    "duration": 14,
    "start_time": "2022-05-03T11:15:34.852Z"
   },
   {
    "duration": 26,
    "start_time": "2022-05-03T11:15:34.867Z"
   },
   {
    "duration": 7,
    "start_time": "2022-05-03T11:15:34.895Z"
   },
   {
    "duration": 24,
    "start_time": "2022-05-03T11:15:34.903Z"
   },
   {
    "duration": 15,
    "start_time": "2022-05-03T11:15:34.929Z"
   },
   {
    "duration": 10,
    "start_time": "2022-05-03T11:15:34.945Z"
   },
   {
    "duration": 4,
    "start_time": "2022-05-03T11:15:34.959Z"
   },
   {
    "duration": 20,
    "start_time": "2022-05-03T11:15:34.965Z"
   },
   {
    "duration": 51,
    "start_time": "2022-05-03T11:16:03.909Z"
   },
   {
    "duration": 548,
    "start_time": "2022-05-03T11:16:22.094Z"
   },
   {
    "duration": 15,
    "start_time": "2022-05-03T11:16:22.644Z"
   },
   {
    "duration": 16,
    "start_time": "2022-05-03T11:16:22.660Z"
   },
   {
    "duration": 9,
    "start_time": "2022-05-03T11:16:22.678Z"
   },
   {
    "duration": 4,
    "start_time": "2022-05-03T11:16:22.689Z"
   },
   {
    "duration": 6,
    "start_time": "2022-05-03T11:16:22.722Z"
   },
   {
    "duration": 13,
    "start_time": "2022-05-03T11:16:22.729Z"
   },
   {
    "duration": 12,
    "start_time": "2022-05-03T11:16:22.744Z"
   },
   {
    "duration": 5,
    "start_time": "2022-05-03T11:16:22.758Z"
   },
   {
    "duration": 56,
    "start_time": "2022-05-03T11:16:22.767Z"
   },
   {
    "duration": 15,
    "start_time": "2022-05-03T11:16:22.825Z"
   },
   {
    "duration": 18,
    "start_time": "2022-05-03T11:16:22.842Z"
   },
   {
    "duration": 17,
    "start_time": "2022-05-03T11:16:22.862Z"
   },
   {
    "duration": 43,
    "start_time": "2022-05-03T11:16:22.882Z"
   },
   {
    "duration": 19,
    "start_time": "2022-05-03T11:16:22.927Z"
   },
   {
    "duration": 14,
    "start_time": "2022-05-03T11:16:22.948Z"
   },
   {
    "duration": 14,
    "start_time": "2022-05-03T11:16:22.963Z"
   },
   {
    "duration": 44,
    "start_time": "2022-05-03T11:16:22.979Z"
   },
   {
    "duration": 5,
    "start_time": "2022-05-03T11:16:23.025Z"
   },
   {
    "duration": 8,
    "start_time": "2022-05-03T11:16:23.031Z"
   },
   {
    "duration": 9,
    "start_time": "2022-05-03T11:16:23.040Z"
   },
   {
    "duration": 19,
    "start_time": "2022-05-03T11:16:23.050Z"
   },
   {
    "duration": 55,
    "start_time": "2022-05-03T11:16:23.071Z"
   },
   {
    "duration": 23,
    "start_time": "2022-05-03T11:16:23.128Z"
   },
   {
    "duration": 19,
    "start_time": "2022-05-03T11:16:23.153Z"
   },
   {
    "duration": 8,
    "start_time": "2022-05-03T11:16:23.174Z"
   },
   {
    "duration": 40,
    "start_time": "2022-05-03T11:16:23.184Z"
   },
   {
    "duration": 8,
    "start_time": "2022-05-03T11:16:23.228Z"
   },
   {
    "duration": 11,
    "start_time": "2022-05-03T11:16:23.237Z"
   },
   {
    "duration": 12,
    "start_time": "2022-05-03T11:16:23.250Z"
   },
   {
    "duration": 19,
    "start_time": "2022-05-03T11:16:23.264Z"
   },
   {
    "duration": 40,
    "start_time": "2022-05-03T11:16:23.285Z"
   },
   {
    "duration": 12,
    "start_time": "2022-05-03T11:16:23.327Z"
   },
   {
    "duration": 5,
    "start_time": "2022-05-03T11:16:23.340Z"
   },
   {
    "duration": 5,
    "start_time": "2022-05-03T11:16:23.347Z"
   },
   {
    "duration": 22,
    "start_time": "2022-05-03T11:16:23.354Z"
   },
   {
    "duration": 6,
    "start_time": "2022-05-03T11:16:23.378Z"
   },
   {
    "duration": 45,
    "start_time": "2022-05-03T11:16:23.386Z"
   },
   {
    "duration": 18,
    "start_time": "2022-05-03T11:16:23.434Z"
   },
   {
    "duration": 10,
    "start_time": "2022-05-03T11:16:23.453Z"
   },
   {
    "duration": 6,
    "start_time": "2022-05-03T11:16:23.465Z"
   },
   {
    "duration": 20,
    "start_time": "2022-05-03T11:16:23.473Z"
   },
   {
    "duration": 60,
    "start_time": "2022-05-03T11:18:18.329Z"
   },
   {
    "duration": 8,
    "start_time": "2022-05-03T11:18:36.319Z"
   },
   {
    "duration": 7,
    "start_time": "2022-05-03T11:25:10.173Z"
   },
   {
    "duration": 468,
    "start_time": "2022-05-03T11:29:51.545Z"
   },
   {
    "duration": 15,
    "start_time": "2022-05-03T11:29:57.063Z"
   },
   {
    "duration": 13,
    "start_time": "2022-05-03T11:30:01.618Z"
   },
   {
    "duration": 8,
    "start_time": "2022-05-03T11:30:05.570Z"
   },
   {
    "duration": 8,
    "start_time": "2022-05-03T11:30:07.816Z"
   },
   {
    "duration": 21,
    "start_time": "2022-05-03T11:30:10.153Z"
   },
   {
    "duration": 20,
    "start_time": "2022-05-03T11:30:14.709Z"
   },
   {
    "duration": 6,
    "start_time": "2022-05-03T11:30:18.390Z"
   },
   {
    "duration": 18,
    "start_time": "2022-05-03T11:30:21.000Z"
   },
   {
    "duration": 17,
    "start_time": "2022-05-03T11:30:24.229Z"
   },
   {
    "duration": 25,
    "start_time": "2022-05-03T11:30:27.974Z"
   },
   {
    "duration": 25,
    "start_time": "2022-05-03T11:30:30.937Z"
   },
   {
    "duration": 15,
    "start_time": "2022-05-03T11:30:34.264Z"
   },
   {
    "duration": 15,
    "start_time": "2022-05-03T11:30:38.474Z"
   },
   {
    "duration": 16,
    "start_time": "2022-05-03T11:30:41.363Z"
   },
   {
    "duration": 16,
    "start_time": "2022-05-03T11:30:43.761Z"
   },
   {
    "duration": 7,
    "start_time": "2022-05-03T11:30:48.915Z"
   },
   {
    "duration": 6,
    "start_time": "2022-05-03T11:30:51.907Z"
   },
   {
    "duration": 8,
    "start_time": "2022-05-03T11:30:55.325Z"
   },
   {
    "duration": 18,
    "start_time": "2022-05-03T11:30:58.486Z"
   },
   {
    "duration": 28,
    "start_time": "2022-05-03T11:31:01.161Z"
   },
   {
    "duration": 22,
    "start_time": "2022-05-03T11:31:04.005Z"
   },
   {
    "duration": 17,
    "start_time": "2022-05-03T11:31:06.317Z"
   },
   {
    "duration": 12,
    "start_time": "2022-05-03T11:31:09.184Z"
   },
   {
    "duration": 8,
    "start_time": "2022-05-03T11:31:11.588Z"
   },
   {
    "duration": 8,
    "start_time": "2022-05-03T11:31:13.584Z"
   },
   {
    "duration": 8,
    "start_time": "2022-05-03T11:31:15.166Z"
   },
   {
    "duration": 9,
    "start_time": "2022-05-03T11:31:18.272Z"
   },
   {
    "duration": 19,
    "start_time": "2022-05-03T11:31:22.973Z"
   },
   {
    "duration": 13,
    "start_time": "2022-05-03T11:31:28.211Z"
   },
   {
    "duration": 32,
    "start_time": "2022-05-03T11:31:37.063Z"
   },
   {
    "duration": 11,
    "start_time": "2022-05-03T11:33:46.071Z"
   },
   {
    "duration": 14,
    "start_time": "2022-05-03T11:33:51.974Z"
   },
   {
    "duration": 100,
    "start_time": "2022-05-03T11:34:03.447Z"
   },
   {
    "duration": 22,
    "start_time": "2022-05-03T11:34:03.549Z"
   },
   {
    "duration": 50,
    "start_time": "2022-05-03T11:34:03.574Z"
   },
   {
    "duration": 19,
    "start_time": "2022-05-03T11:34:03.627Z"
   },
   {
    "duration": 7,
    "start_time": "2022-05-03T11:34:03.648Z"
   },
   {
    "duration": 8,
    "start_time": "2022-05-03T11:34:03.658Z"
   },
   {
    "duration": 55,
    "start_time": "2022-05-03T11:34:03.668Z"
   },
   {
    "duration": 14,
    "start_time": "2022-05-03T11:34:03.725Z"
   },
   {
    "duration": 20,
    "start_time": "2022-05-03T11:34:03.740Z"
   },
   {
    "duration": 15,
    "start_time": "2022-05-03T11:34:03.763Z"
   },
   {
    "duration": 14,
    "start_time": "2022-05-03T11:34:03.780Z"
   },
   {
    "duration": 39,
    "start_time": "2022-05-03T11:34:03.796Z"
   },
   {
    "duration": 17,
    "start_time": "2022-05-03T11:34:03.837Z"
   },
   {
    "duration": 15,
    "start_time": "2022-05-03T11:34:03.856Z"
   },
   {
    "duration": 17,
    "start_time": "2022-05-03T11:34:03.874Z"
   },
   {
    "duration": 45,
    "start_time": "2022-05-03T11:34:03.893Z"
   },
   {
    "duration": 16,
    "start_time": "2022-05-03T11:34:03.940Z"
   },
   {
    "duration": 23,
    "start_time": "2022-05-03T11:34:03.958Z"
   },
   {
    "duration": 7,
    "start_time": "2022-05-03T11:34:03.984Z"
   },
   {
    "duration": 9,
    "start_time": "2022-05-03T11:34:04.024Z"
   },
   {
    "duration": 8,
    "start_time": "2022-05-03T11:34:04.034Z"
   },
   {
    "duration": 17,
    "start_time": "2022-05-03T11:34:04.043Z"
   },
   {
    "duration": 20,
    "start_time": "2022-05-03T11:34:04.062Z"
   },
   {
    "duration": 55,
    "start_time": "2022-05-03T11:34:04.084Z"
   },
   {
    "duration": 19,
    "start_time": "2022-05-03T11:34:04.141Z"
   },
   {
    "duration": 8,
    "start_time": "2022-05-03T11:34:04.161Z"
   },
   {
    "duration": 9,
    "start_time": "2022-05-03T11:34:04.171Z"
   },
   {
    "duration": 8,
    "start_time": "2022-05-03T11:34:04.184Z"
   },
   {
    "duration": 10,
    "start_time": "2022-05-03T11:34:04.223Z"
   },
   {
    "duration": 12,
    "start_time": "2022-05-03T11:34:04.235Z"
   },
   {
    "duration": 27,
    "start_time": "2022-05-03T11:34:04.249Z"
   },
   {
    "duration": 11,
    "start_time": "2022-05-03T11:34:04.278Z"
   },
   {
    "duration": 34,
    "start_time": "2022-05-03T11:34:04.291Z"
   },
   {
    "duration": 6,
    "start_time": "2022-05-03T11:34:04.327Z"
   },
   {
    "duration": 21,
    "start_time": "2022-05-03T11:34:04.334Z"
   },
   {
    "duration": 28,
    "start_time": "2022-05-03T11:34:04.357Z"
   },
   {
    "duration": 5,
    "start_time": "2022-05-03T11:34:04.387Z"
   },
   {
    "duration": 34,
    "start_time": "2022-05-03T11:34:04.394Z"
   },
   {
    "duration": 20,
    "start_time": "2022-05-03T11:34:04.431Z"
   },
   {
    "duration": 18,
    "start_time": "2022-05-03T11:34:04.453Z"
   },
   {
    "duration": 4,
    "start_time": "2022-05-03T11:34:04.473Z"
   },
   {
    "duration": 26,
    "start_time": "2022-05-03T11:34:04.479Z"
   },
   {
    "duration": 14,
    "start_time": "2022-05-03T11:34:54.009Z"
   },
   {
    "duration": 574,
    "start_time": "2022-05-03T11:36:38.458Z"
   },
   {
    "duration": 23,
    "start_time": "2022-05-03T11:38:10.478Z"
   },
   {
    "duration": 31,
    "start_time": "2022-05-03T11:39:10.557Z"
   },
   {
    "duration": 21,
    "start_time": "2022-05-03T11:39:16.899Z"
   },
   {
    "duration": 23,
    "start_time": "2022-05-03T11:39:42.745Z"
   },
   {
    "duration": 25,
    "start_time": "2022-05-03T11:39:51.825Z"
   },
   {
    "duration": 19,
    "start_time": "2022-05-03T11:40:03.234Z"
   },
   {
    "duration": 31,
    "start_time": "2022-05-03T11:40:17.119Z"
   },
   {
    "duration": 30,
    "start_time": "2022-05-03T11:40:25.934Z"
   },
   {
    "duration": 39,
    "start_time": "2022-05-03T11:42:40.905Z"
   },
   {
    "duration": 23,
    "start_time": "2022-05-03T11:43:02.183Z"
   },
   {
    "duration": 14,
    "start_time": "2022-05-03T11:43:17.882Z"
   },
   {
    "duration": 1585,
    "start_time": "2022-05-03T11:43:24.170Z"
   },
   {
    "duration": 15,
    "start_time": "2022-05-03T11:43:25.757Z"
   },
   {
    "duration": 24,
    "start_time": "2022-05-03T11:43:25.774Z"
   },
   {
    "duration": 23,
    "start_time": "2022-05-03T11:43:25.800Z"
   },
   {
    "duration": 6,
    "start_time": "2022-05-03T11:43:25.825Z"
   },
   {
    "duration": 17,
    "start_time": "2022-05-03T11:43:25.832Z"
   },
   {
    "duration": 15,
    "start_time": "2022-05-03T11:43:25.851Z"
   },
   {
    "duration": 13,
    "start_time": "2022-05-03T11:43:25.868Z"
   },
   {
    "duration": 6,
    "start_time": "2022-05-03T11:43:25.883Z"
   },
   {
    "duration": 43,
    "start_time": "2022-05-03T11:43:25.892Z"
   },
   {
    "duration": 14,
    "start_time": "2022-05-03T11:43:25.937Z"
   },
   {
    "duration": 22,
    "start_time": "2022-05-03T11:43:25.952Z"
   },
   {
    "duration": 18,
    "start_time": "2022-05-03T11:43:25.976Z"
   },
   {
    "duration": 42,
    "start_time": "2022-05-03T11:43:25.996Z"
   },
   {
    "duration": 17,
    "start_time": "2022-05-03T11:43:26.040Z"
   },
   {
    "duration": 16,
    "start_time": "2022-05-03T11:43:26.059Z"
   },
   {
    "duration": 14,
    "start_time": "2022-05-03T11:43:26.077Z"
   },
   {
    "duration": 47,
    "start_time": "2022-05-03T11:43:26.093Z"
   },
   {
    "duration": 5,
    "start_time": "2022-05-03T11:43:26.142Z"
   },
   {
    "duration": 11,
    "start_time": "2022-05-03T11:43:26.148Z"
   },
   {
    "duration": 8,
    "start_time": "2022-05-03T11:43:26.161Z"
   },
   {
    "duration": 18,
    "start_time": "2022-05-03T11:43:26.170Z"
   },
   {
    "duration": 50,
    "start_time": "2022-05-03T11:43:26.189Z"
   },
   {
    "duration": 22,
    "start_time": "2022-05-03T11:43:26.241Z"
   },
   {
    "duration": 18,
    "start_time": "2022-05-03T11:43:26.265Z"
   },
   {
    "duration": 37,
    "start_time": "2022-05-03T11:43:26.285Z"
   },
   {
    "duration": 10,
    "start_time": "2022-05-03T11:43:26.324Z"
   },
   {
    "duration": 13,
    "start_time": "2022-05-03T11:43:26.338Z"
   },
   {
    "duration": 8,
    "start_time": "2022-05-03T11:43:26.353Z"
   },
   {
    "duration": 8,
    "start_time": "2022-05-03T11:43:26.363Z"
   },
   {
    "duration": 20,
    "start_time": "2022-05-03T11:43:26.373Z"
   },
   {
    "duration": 30,
    "start_time": "2022-05-03T11:43:26.394Z"
   },
   {
    "duration": 12,
    "start_time": "2022-05-03T11:43:26.426Z"
   },
   {
    "duration": 7,
    "start_time": "2022-05-03T11:43:26.439Z"
   },
   {
    "duration": 9,
    "start_time": "2022-05-03T11:43:26.447Z"
   },
   {
    "duration": 22,
    "start_time": "2022-05-03T11:43:26.458Z"
   },
   {
    "duration": 15,
    "start_time": "2022-05-03T11:43:26.482Z"
   },
   {
    "duration": 29,
    "start_time": "2022-05-03T11:43:26.498Z"
   },
   {
    "duration": 13,
    "start_time": "2022-05-03T11:43:26.528Z"
   },
   {
    "duration": 17,
    "start_time": "2022-05-03T11:43:26.543Z"
   },
   {
    "duration": 5,
    "start_time": "2022-05-03T11:43:26.562Z"
   },
   {
    "duration": 21,
    "start_time": "2022-05-03T11:43:26.569Z"
   },
   {
    "duration": 2,
    "start_time": "2022-05-03T11:43:26.592Z"
   },
   {
    "duration": 36,
    "start_time": "2022-05-03T11:43:26.596Z"
   },
   {
    "duration": 79,
    "start_time": "2022-05-03T11:43:40.918Z"
   },
   {
    "duration": 28,
    "start_time": "2022-05-03T11:43:40.999Z"
   },
   {
    "duration": 39,
    "start_time": "2022-05-03T11:43:41.028Z"
   },
   {
    "duration": 27,
    "start_time": "2022-05-03T11:43:41.070Z"
   },
   {
    "duration": 26,
    "start_time": "2022-05-03T11:43:41.099Z"
   },
   {
    "duration": 55,
    "start_time": "2022-05-03T11:43:41.127Z"
   },
   {
    "duration": 28,
    "start_time": "2022-05-03T11:43:41.184Z"
   },
   {
    "duration": 28,
    "start_time": "2022-05-03T11:43:41.214Z"
   },
   {
    "duration": 12,
    "start_time": "2022-05-03T11:43:41.244Z"
   },
   {
    "duration": 32,
    "start_time": "2022-05-03T11:43:41.259Z"
   },
   {
    "duration": 15,
    "start_time": "2022-05-03T11:43:41.294Z"
   },
   {
    "duration": 32,
    "start_time": "2022-05-03T11:43:41.311Z"
   },
   {
    "duration": 24,
    "start_time": "2022-05-03T11:43:41.346Z"
   },
   {
    "duration": 23,
    "start_time": "2022-05-03T11:43:41.372Z"
   },
   {
    "duration": 42,
    "start_time": "2022-05-03T11:43:41.399Z"
   },
   {
    "duration": 45,
    "start_time": "2022-05-03T11:43:41.443Z"
   },
   {
    "duration": 22,
    "start_time": "2022-05-03T11:43:41.490Z"
   },
   {
    "duration": 25,
    "start_time": "2022-05-03T11:43:41.515Z"
   },
   {
    "duration": 6,
    "start_time": "2022-05-03T11:43:41.542Z"
   },
   {
    "duration": 7,
    "start_time": "2022-05-03T11:43:41.550Z"
   },
   {
    "duration": 9,
    "start_time": "2022-05-03T11:43:41.559Z"
   },
   {
    "duration": 52,
    "start_time": "2022-05-03T11:43:41.570Z"
   },
   {
    "duration": 21,
    "start_time": "2022-05-03T11:43:41.624Z"
   },
   {
    "duration": 23,
    "start_time": "2022-05-03T11:43:41.647Z"
   },
   {
    "duration": 19,
    "start_time": "2022-05-03T11:43:41.672Z"
   },
   {
    "duration": 32,
    "start_time": "2022-05-03T11:43:41.693Z"
   },
   {
    "duration": 11,
    "start_time": "2022-05-03T11:43:41.727Z"
   },
   {
    "duration": 8,
    "start_time": "2022-05-03T11:43:41.744Z"
   },
   {
    "duration": 10,
    "start_time": "2022-05-03T11:43:41.754Z"
   },
   {
    "duration": 9,
    "start_time": "2022-05-03T11:43:41.766Z"
   },
   {
    "duration": 56,
    "start_time": "2022-05-03T11:43:41.776Z"
   },
   {
    "duration": 8,
    "start_time": "2022-05-03T11:43:41.834Z"
   },
   {
    "duration": 17,
    "start_time": "2022-05-03T11:43:41.844Z"
   },
   {
    "duration": 5,
    "start_time": "2022-05-03T11:43:41.863Z"
   },
   {
    "duration": 7,
    "start_time": "2022-05-03T11:43:41.869Z"
   },
   {
    "duration": 47,
    "start_time": "2022-05-03T11:43:41.878Z"
   },
   {
    "duration": 20,
    "start_time": "2022-05-03T11:43:41.927Z"
   },
   {
    "duration": 20,
    "start_time": "2022-05-03T11:43:41.949Z"
   },
   {
    "duration": 12,
    "start_time": "2022-05-03T11:43:41.971Z"
   },
   {
    "duration": 12,
    "start_time": "2022-05-03T11:43:41.985Z"
   },
   {
    "duration": 32,
    "start_time": "2022-05-03T11:43:41.999Z"
   },
   {
    "duration": 21,
    "start_time": "2022-05-03T11:43:42.033Z"
   },
   {
    "duration": 2,
    "start_time": "2022-05-03T11:43:42.056Z"
   },
   {
    "duration": 21,
    "start_time": "2022-05-03T11:43:42.060Z"
   },
   {
    "duration": 16,
    "start_time": "2022-05-03T11:45:37.371Z"
   },
   {
    "duration": 15,
    "start_time": "2022-05-03T11:46:53.889Z"
   },
   {
    "duration": 48,
    "start_time": "2022-05-03T11:47:34.322Z"
   },
   {
    "duration": 7,
    "start_time": "2022-05-03T11:47:47.451Z"
   },
   {
    "duration": 9,
    "start_time": "2022-05-03T11:48:12.874Z"
   },
   {
    "duration": 682,
    "start_time": "2022-05-03T11:48:17.448Z"
   },
   {
    "duration": 16,
    "start_time": "2022-05-03T11:48:18.133Z"
   },
   {
    "duration": 26,
    "start_time": "2022-05-03T11:48:18.152Z"
   },
   {
    "duration": 17,
    "start_time": "2022-05-03T11:48:18.181Z"
   },
   {
    "duration": 7,
    "start_time": "2022-05-03T11:48:18.223Z"
   },
   {
    "duration": 9,
    "start_time": "2022-05-03T11:48:18.232Z"
   },
   {
    "duration": 17,
    "start_time": "2022-05-03T11:48:18.243Z"
   },
   {
    "duration": 17,
    "start_time": "2022-05-03T11:48:18.262Z"
   },
   {
    "duration": 45,
    "start_time": "2022-05-03T11:48:18.281Z"
   },
   {
    "duration": 19,
    "start_time": "2022-05-03T11:48:18.331Z"
   },
   {
    "duration": 17,
    "start_time": "2022-05-03T11:48:18.352Z"
   },
   {
    "duration": 53,
    "start_time": "2022-05-03T11:48:18.371Z"
   },
   {
    "duration": 19,
    "start_time": "2022-05-03T11:48:18.429Z"
   },
   {
    "duration": 18,
    "start_time": "2022-05-03T11:48:18.450Z"
   },
   {
    "duration": 26,
    "start_time": "2022-05-03T11:48:18.471Z"
   },
   {
    "duration": 16,
    "start_time": "2022-05-03T11:48:18.523Z"
   },
   {
    "duration": 17,
    "start_time": "2022-05-03T11:48:18.541Z"
   },
   {
    "duration": 18,
    "start_time": "2022-05-03T11:48:18.560Z"
   },
   {
    "duration": 43,
    "start_time": "2022-05-03T11:48:18.581Z"
   },
   {
    "duration": 13,
    "start_time": "2022-05-03T11:48:18.626Z"
   },
   {
    "duration": 10,
    "start_time": "2022-05-03T11:48:18.641Z"
   },
   {
    "duration": 18,
    "start_time": "2022-05-03T11:48:18.652Z"
   },
   {
    "duration": 52,
    "start_time": "2022-05-03T11:48:18.672Z"
   },
   {
    "duration": 25,
    "start_time": "2022-05-03T11:48:18.726Z"
   },
   {
    "duration": 24,
    "start_time": "2022-05-03T11:48:18.753Z"
   },
   {
    "duration": 9,
    "start_time": "2022-05-03T11:48:18.779Z"
   },
   {
    "duration": 9,
    "start_time": "2022-05-03T11:48:18.821Z"
   },
   {
    "duration": 11,
    "start_time": "2022-05-03T11:48:18.836Z"
   },
   {
    "duration": 10,
    "start_time": "2022-05-03T11:48:18.849Z"
   },
   {
    "duration": 17,
    "start_time": "2022-05-03T11:48:18.862Z"
   },
   {
    "duration": 49,
    "start_time": "2022-05-03T11:48:18.881Z"
   },
   {
    "duration": 6,
    "start_time": "2022-05-03T11:48:18.933Z"
   },
   {
    "duration": 18,
    "start_time": "2022-05-03T11:48:18.941Z"
   },
   {
    "duration": 15,
    "start_time": "2022-05-03T11:48:18.961Z"
   },
   {
    "duration": 14,
    "start_time": "2022-05-03T11:48:18.979Z"
   },
   {
    "duration": 40,
    "start_time": "2022-05-03T11:48:18.995Z"
   },
   {
    "duration": 4,
    "start_time": "2022-05-03T11:48:19.037Z"
   },
   {
    "duration": 24,
    "start_time": "2022-05-03T11:48:19.043Z"
   },
   {
    "duration": 26,
    "start_time": "2022-05-03T11:48:19.070Z"
   },
   {
    "duration": 30,
    "start_time": "2022-05-03T11:48:19.098Z"
   },
   {
    "duration": 4,
    "start_time": "2022-05-03T11:48:19.130Z"
   },
   {
    "duration": 31,
    "start_time": "2022-05-03T11:48:19.137Z"
   },
   {
    "duration": 22,
    "start_time": "2022-05-03T11:48:19.171Z"
   },
   {
    "duration": 38,
    "start_time": "2022-05-03T12:20:52.090Z"
   },
   {
    "duration": 138,
    "start_time": "2022-05-03T12:21:11.488Z"
   },
   {
    "duration": 22,
    "start_time": "2022-05-03T12:21:11.629Z"
   },
   {
    "duration": 33,
    "start_time": "2022-05-03T12:21:11.653Z"
   },
   {
    "duration": 31,
    "start_time": "2022-05-03T12:21:11.689Z"
   },
   {
    "duration": 20,
    "start_time": "2022-05-03T12:21:11.722Z"
   },
   {
    "duration": 24,
    "start_time": "2022-05-03T12:21:11.744Z"
   },
   {
    "duration": 41,
    "start_time": "2022-05-03T12:21:11.770Z"
   },
   {
    "duration": 20,
    "start_time": "2022-05-03T12:21:11.813Z"
   },
   {
    "duration": 21,
    "start_time": "2022-05-03T12:21:11.835Z"
   },
   {
    "duration": 49,
    "start_time": "2022-05-03T12:21:11.859Z"
   },
   {
    "duration": 22,
    "start_time": "2022-05-03T12:21:11.910Z"
   },
   {
    "duration": 46,
    "start_time": "2022-05-03T12:21:11.934Z"
   },
   {
    "duration": 19,
    "start_time": "2022-05-03T12:21:11.982Z"
   },
   {
    "duration": 26,
    "start_time": "2022-05-03T12:21:12.003Z"
   },
   {
    "duration": 24,
    "start_time": "2022-05-03T12:21:12.031Z"
   },
   {
    "duration": 25,
    "start_time": "2022-05-03T12:21:12.058Z"
   },
   {
    "duration": 26,
    "start_time": "2022-05-03T12:21:12.085Z"
   },
   {
    "duration": 39,
    "start_time": "2022-05-03T12:21:12.112Z"
   },
   {
    "duration": 5,
    "start_time": "2022-05-03T12:21:12.153Z"
   },
   {
    "duration": 43,
    "start_time": "2022-05-03T12:21:12.160Z"
   },
   {
    "duration": 11,
    "start_time": "2022-05-03T12:21:12.205Z"
   },
   {
    "duration": 43,
    "start_time": "2022-05-03T12:21:12.218Z"
   },
   {
    "duration": 27,
    "start_time": "2022-05-03T12:21:12.264Z"
   },
   {
    "duration": 38,
    "start_time": "2022-05-03T12:21:12.294Z"
   },
   {
    "duration": 27,
    "start_time": "2022-05-03T12:21:12.335Z"
   },
   {
    "duration": 10,
    "start_time": "2022-05-03T12:21:12.364Z"
   },
   {
    "duration": 32,
    "start_time": "2022-05-03T12:21:12.376Z"
   },
   {
    "duration": 24,
    "start_time": "2022-05-03T12:21:12.413Z"
   },
   {
    "duration": 26,
    "start_time": "2022-05-03T12:21:12.440Z"
   },
   {
    "duration": 34,
    "start_time": "2022-05-03T12:21:12.468Z"
   },
   {
    "duration": 32,
    "start_time": "2022-05-03T12:21:12.504Z"
   },
   {
    "duration": 33,
    "start_time": "2022-05-03T12:21:12.538Z"
   },
   {
    "duration": 27,
    "start_time": "2022-05-03T12:21:12.573Z"
   },
   {
    "duration": 20,
    "start_time": "2022-05-03T12:26:22.941Z"
   },
   {
    "duration": 14,
    "start_time": "2022-05-03T12:32:14.356Z"
   },
   {
    "duration": 3399,
    "start_time": "2022-05-03T12:33:00.915Z"
   },
   {
    "duration": 3307,
    "start_time": "2022-05-03T12:33:24.952Z"
   },
   {
    "duration": 87,
    "start_time": "2022-05-03T12:33:58.128Z"
   },
   {
    "duration": 33,
    "start_time": "2022-05-03T12:33:58.217Z"
   },
   {
    "duration": 22,
    "start_time": "2022-05-03T12:33:58.253Z"
   },
   {
    "duration": 20,
    "start_time": "2022-05-03T12:33:58.277Z"
   },
   {
    "duration": 23,
    "start_time": "2022-05-03T12:33:58.299Z"
   },
   {
    "duration": 43,
    "start_time": "2022-05-03T12:33:58.328Z"
   },
   {
    "duration": 23,
    "start_time": "2022-05-03T12:33:58.373Z"
   },
   {
    "duration": 23,
    "start_time": "2022-05-03T12:33:58.398Z"
   },
   {
    "duration": 7,
    "start_time": "2022-05-03T12:33:58.432Z"
   },
   {
    "duration": 26,
    "start_time": "2022-05-03T12:33:58.443Z"
   },
   {
    "duration": 14,
    "start_time": "2022-05-03T12:33:58.471Z"
   },
   {
    "duration": 30,
    "start_time": "2022-05-03T12:33:58.487Z"
   },
   {
    "duration": 24,
    "start_time": "2022-05-03T12:33:58.519Z"
   },
   {
    "duration": 19,
    "start_time": "2022-05-03T12:33:58.545Z"
   },
   {
    "duration": 18,
    "start_time": "2022-05-03T12:33:58.567Z"
   },
   {
    "duration": 42,
    "start_time": "2022-05-03T12:33:58.587Z"
   },
   {
    "duration": 18,
    "start_time": "2022-05-03T12:33:58.631Z"
   },
   {
    "duration": 57,
    "start_time": "2022-05-03T12:33:58.651Z"
   },
   {
    "duration": 46,
    "start_time": "2022-05-03T12:33:58.710Z"
   },
   {
    "duration": 35,
    "start_time": "2022-05-03T12:33:58.758Z"
   },
   {
    "duration": 22,
    "start_time": "2022-05-03T12:33:58.795Z"
   },
   {
    "duration": 42,
    "start_time": "2022-05-03T12:33:58.819Z"
   },
   {
    "duration": 18,
    "start_time": "2022-05-03T12:33:58.862Z"
   },
   {
    "duration": 34,
    "start_time": "2022-05-03T12:33:58.881Z"
   },
   {
    "duration": 35,
    "start_time": "2022-05-03T12:33:58.916Z"
   },
   {
    "duration": 10,
    "start_time": "2022-05-03T12:33:58.956Z"
   },
   {
    "duration": 23,
    "start_time": "2022-05-03T12:33:58.968Z"
   },
   {
    "duration": 38,
    "start_time": "2022-05-03T12:33:58.996Z"
   },
   {
    "duration": 31,
    "start_time": "2022-05-03T12:33:59.037Z"
   },
   {
    "duration": 22,
    "start_time": "2022-05-03T12:33:59.070Z"
   },
   {
    "duration": 36,
    "start_time": "2022-05-03T12:33:59.094Z"
   },
   {
    "duration": 3548,
    "start_time": "2022-05-03T12:33:59.132Z"
   },
   {
    "duration": 7,
    "start_time": "2022-05-03T12:35:20.272Z"
   },
   {
    "duration": 26,
    "start_time": "2022-05-03T12:35:45.637Z"
   },
   {
    "duration": 101,
    "start_time": "2022-05-03T12:35:51.692Z"
   },
   {
    "duration": 29,
    "start_time": "2022-05-03T12:35:51.795Z"
   },
   {
    "duration": 49,
    "start_time": "2022-05-03T12:35:51.826Z"
   },
   {
    "duration": 17,
    "start_time": "2022-05-03T12:35:51.878Z"
   },
   {
    "duration": 16,
    "start_time": "2022-05-03T12:35:51.897Z"
   },
   {
    "duration": 30,
    "start_time": "2022-05-03T12:35:51.918Z"
   },
   {
    "duration": 27,
    "start_time": "2022-05-03T12:35:51.950Z"
   },
   {
    "duration": 30,
    "start_time": "2022-05-03T12:35:51.979Z"
   },
   {
    "duration": 8,
    "start_time": "2022-05-03T12:35:52.011Z"
   },
   {
    "duration": 37,
    "start_time": "2022-05-03T12:35:52.025Z"
   },
   {
    "duration": 19,
    "start_time": "2022-05-03T12:35:52.066Z"
   },
   {
    "duration": 22,
    "start_time": "2022-05-03T12:35:52.087Z"
   },
   {
    "duration": 22,
    "start_time": "2022-05-03T12:35:52.123Z"
   },
   {
    "duration": 29,
    "start_time": "2022-05-03T12:35:52.147Z"
   },
   {
    "duration": 19,
    "start_time": "2022-05-03T12:35:52.179Z"
   },
   {
    "duration": 44,
    "start_time": "2022-05-03T12:35:52.200Z"
   },
   {
    "duration": 26,
    "start_time": "2022-05-03T12:35:52.247Z"
   },
   {
    "duration": 23,
    "start_time": "2022-05-03T12:35:52.275Z"
   },
   {
    "duration": 27,
    "start_time": "2022-05-03T12:35:52.301Z"
   },
   {
    "duration": 28,
    "start_time": "2022-05-03T12:35:52.332Z"
   },
   {
    "duration": 10,
    "start_time": "2022-05-03T12:35:52.367Z"
   },
   {
    "duration": 23,
    "start_time": "2022-05-03T12:35:52.380Z"
   },
   {
    "duration": 30,
    "start_time": "2022-05-03T12:35:52.405Z"
   },
   {
    "duration": 31,
    "start_time": "2022-05-03T12:35:52.437Z"
   },
   {
    "duration": 32,
    "start_time": "2022-05-03T12:35:52.469Z"
   },
   {
    "duration": 25,
    "start_time": "2022-05-03T12:35:52.503Z"
   },
   {
    "duration": 41,
    "start_time": "2022-05-03T12:35:52.531Z"
   },
   {
    "duration": 38,
    "start_time": "2022-05-03T12:35:52.577Z"
   },
   {
    "duration": 35,
    "start_time": "2022-05-03T12:35:52.617Z"
   },
   {
    "duration": 38,
    "start_time": "2022-05-03T12:35:52.654Z"
   },
   {
    "duration": 49,
    "start_time": "2022-05-03T12:35:52.694Z"
   },
   {
    "duration": 12,
    "start_time": "2022-05-03T12:35:52.745Z"
   },
   {
    "duration": 110,
    "start_time": "2022-05-03T12:36:04.873Z"
   },
   {
    "duration": 46,
    "start_time": "2022-05-03T12:36:04.985Z"
   },
   {
    "duration": 28,
    "start_time": "2022-05-03T12:36:05.033Z"
   },
   {
    "duration": 16,
    "start_time": "2022-05-03T12:36:05.064Z"
   },
   {
    "duration": 7,
    "start_time": "2022-05-03T12:36:05.082Z"
   },
   {
    "duration": 6,
    "start_time": "2022-05-03T12:36:05.091Z"
   },
   {
    "duration": 19,
    "start_time": "2022-05-03T12:36:05.125Z"
   },
   {
    "duration": 29,
    "start_time": "2022-05-03T12:36:05.146Z"
   },
   {
    "duration": 5,
    "start_time": "2022-05-03T12:36:05.177Z"
   },
   {
    "duration": 15,
    "start_time": "2022-05-03T12:36:05.186Z"
   },
   {
    "duration": 47,
    "start_time": "2022-05-03T12:36:05.203Z"
   },
   {
    "duration": 26,
    "start_time": "2022-05-03T12:36:05.251Z"
   },
   {
    "duration": 17,
    "start_time": "2022-05-03T12:36:05.279Z"
   },
   {
    "duration": 39,
    "start_time": "2022-05-03T12:36:05.298Z"
   },
   {
    "duration": 31,
    "start_time": "2022-05-03T12:36:05.339Z"
   },
   {
    "duration": 22,
    "start_time": "2022-05-03T12:36:05.372Z"
   },
   {
    "duration": 44,
    "start_time": "2022-05-03T12:36:05.395Z"
   },
   {
    "duration": 25,
    "start_time": "2022-05-03T12:36:05.444Z"
   },
   {
    "duration": 6,
    "start_time": "2022-05-03T12:36:05.470Z"
   },
   {
    "duration": 8,
    "start_time": "2022-05-03T12:36:05.478Z"
   },
   {
    "duration": 38,
    "start_time": "2022-05-03T12:36:05.488Z"
   },
   {
    "duration": 28,
    "start_time": "2022-05-03T12:36:05.535Z"
   },
   {
    "duration": 28,
    "start_time": "2022-05-03T12:36:05.565Z"
   },
   {
    "duration": 38,
    "start_time": "2022-05-03T12:36:05.595Z"
   },
   {
    "duration": 26,
    "start_time": "2022-05-03T12:36:05.635Z"
   },
   {
    "duration": 8,
    "start_time": "2022-05-03T12:36:05.662Z"
   },
   {
    "duration": 10,
    "start_time": "2022-05-03T12:36:05.671Z"
   },
   {
    "duration": 10,
    "start_time": "2022-05-03T12:36:05.686Z"
   },
   {
    "duration": 14,
    "start_time": "2022-05-03T12:36:05.722Z"
   },
   {
    "duration": 10,
    "start_time": "2022-05-03T12:36:05.741Z"
   },
   {
    "duration": 18,
    "start_time": "2022-05-03T12:36:05.754Z"
   },
   {
    "duration": 15,
    "start_time": "2022-05-03T12:40:35.674Z"
   },
   {
    "duration": 8,
    "start_time": "2022-05-03T12:41:27.657Z"
   },
   {
    "duration": 13,
    "start_time": "2022-05-03T12:41:42.418Z"
   },
   {
    "duration": 13,
    "start_time": "2022-05-03T12:41:59.606Z"
   },
   {
    "duration": 711,
    "start_time": "2022-05-03T12:50:10.501Z"
   },
   {
    "duration": 27,
    "start_time": "2022-05-03T12:50:11.215Z"
   },
   {
    "duration": 25,
    "start_time": "2022-05-03T12:50:11.248Z"
   },
   {
    "duration": 16,
    "start_time": "2022-05-03T12:50:11.276Z"
   },
   {
    "duration": 34,
    "start_time": "2022-05-03T12:50:11.294Z"
   },
   {
    "duration": 6,
    "start_time": "2022-05-03T12:50:11.334Z"
   },
   {
    "duration": 16,
    "start_time": "2022-05-03T12:50:11.343Z"
   },
   {
    "duration": 14,
    "start_time": "2022-05-03T12:50:11.361Z"
   },
   {
    "duration": 6,
    "start_time": "2022-05-03T12:50:11.377Z"
   },
   {
    "duration": 24,
    "start_time": "2022-05-03T12:50:11.427Z"
   },
   {
    "duration": 19,
    "start_time": "2022-05-03T12:50:11.454Z"
   },
   {
    "duration": 20,
    "start_time": "2022-05-03T12:50:11.478Z"
   },
   {
    "duration": 49,
    "start_time": "2022-05-03T12:50:11.500Z"
   },
   {
    "duration": 26,
    "start_time": "2022-05-03T12:50:11.551Z"
   },
   {
    "duration": 49,
    "start_time": "2022-05-03T12:50:11.579Z"
   },
   {
    "duration": 27,
    "start_time": "2022-05-03T12:50:11.630Z"
   },
   {
    "duration": 26,
    "start_time": "2022-05-03T12:50:11.660Z"
   },
   {
    "duration": 49,
    "start_time": "2022-05-03T12:50:11.688Z"
   },
   {
    "duration": 6,
    "start_time": "2022-05-03T12:50:11.740Z"
   },
   {
    "duration": 10,
    "start_time": "2022-05-03T12:50:11.749Z"
   },
   {
    "duration": 9,
    "start_time": "2022-05-03T12:50:11.761Z"
   },
   {
    "duration": 65,
    "start_time": "2022-05-03T12:50:11.772Z"
   },
   {
    "duration": 24,
    "start_time": "2022-05-03T12:50:11.839Z"
   },
   {
    "duration": 34,
    "start_time": "2022-05-03T12:50:11.865Z"
   },
   {
    "duration": 50,
    "start_time": "2022-05-03T12:50:11.903Z"
   },
   {
    "duration": 8,
    "start_time": "2022-05-03T12:50:11.955Z"
   },
   {
    "duration": 10,
    "start_time": "2022-05-03T12:50:11.965Z"
   },
   {
    "duration": 8,
    "start_time": "2022-05-03T12:50:11.979Z"
   },
   {
    "duration": 53,
    "start_time": "2022-05-03T12:50:11.989Z"
   },
   {
    "duration": 12,
    "start_time": "2022-05-03T12:50:12.045Z"
   },
   {
    "duration": 19,
    "start_time": "2022-05-03T12:50:12.059Z"
   },
   {
    "duration": 14,
    "start_time": "2022-05-03T12:50:12.080Z"
   },
   {
    "duration": 21,
    "start_time": "2022-05-03T12:50:12.124Z"
   },
   {
    "duration": 8,
    "start_time": "2022-05-03T12:50:12.148Z"
   },
   {
    "duration": 7,
    "start_time": "2022-05-03T12:50:12.158Z"
   },
   {
    "duration": 57,
    "start_time": "2022-05-03T12:50:12.168Z"
   },
   {
    "duration": 8,
    "start_time": "2022-05-03T12:50:12.228Z"
   },
   {
    "duration": 28,
    "start_time": "2022-05-03T12:50:12.238Z"
   },
   {
    "duration": 16,
    "start_time": "2022-05-03T12:50:12.270Z"
   },
   {
    "duration": 43,
    "start_time": "2022-05-03T12:50:12.289Z"
   },
   {
    "duration": 10,
    "start_time": "2022-05-03T12:50:12.334Z"
   },
   {
    "duration": 19,
    "start_time": "2022-05-03T12:50:12.346Z"
   },
   {
    "duration": 53,
    "start_time": "2022-05-03T12:51:35.562Z"
   },
   {
    "duration": 690,
    "start_time": "2022-05-03T12:54:20.822Z"
   },
   {
    "duration": 25,
    "start_time": "2022-05-03T12:54:21.522Z"
   },
   {
    "duration": 27,
    "start_time": "2022-05-03T12:54:21.551Z"
   },
   {
    "duration": 43,
    "start_time": "2022-05-03T12:54:21.581Z"
   },
   {
    "duration": 6,
    "start_time": "2022-05-03T12:54:21.631Z"
   },
   {
    "duration": 15,
    "start_time": "2022-05-03T12:54:21.640Z"
   },
   {
    "duration": 21,
    "start_time": "2022-05-03T12:54:21.657Z"
   },
   {
    "duration": 54,
    "start_time": "2022-05-03T12:54:21.682Z"
   },
   {
    "duration": 7,
    "start_time": "2022-05-03T12:54:21.739Z"
   },
   {
    "duration": 17,
    "start_time": "2022-05-03T12:54:21.752Z"
   },
   {
    "duration": 16,
    "start_time": "2022-05-03T12:54:21.771Z"
   },
   {
    "duration": 63,
    "start_time": "2022-05-03T12:54:21.790Z"
   },
   {
    "duration": 29,
    "start_time": "2022-05-03T12:54:21.856Z"
   },
   {
    "duration": 45,
    "start_time": "2022-05-03T12:54:21.887Z"
   },
   {
    "duration": 28,
    "start_time": "2022-05-03T12:54:21.934Z"
   },
   {
    "duration": 23,
    "start_time": "2022-05-03T12:54:21.965Z"
   },
   {
    "duration": 53,
    "start_time": "2022-05-03T12:54:21.991Z"
   },
   {
    "duration": 22,
    "start_time": "2022-05-03T12:54:22.048Z"
   },
   {
    "duration": 6,
    "start_time": "2022-05-03T12:54:22.073Z"
   },
   {
    "duration": 25,
    "start_time": "2022-05-03T12:54:22.082Z"
   },
   {
    "duration": 25,
    "start_time": "2022-05-03T12:54:22.109Z"
   },
   {
    "duration": 23,
    "start_time": "2022-05-03T12:54:22.137Z"
   },
   {
    "duration": 20,
    "start_time": "2022-05-03T12:54:22.162Z"
   },
   {
    "duration": 66,
    "start_time": "2022-05-03T12:54:22.185Z"
   },
   {
    "duration": 29,
    "start_time": "2022-05-03T12:54:22.253Z"
   },
   {
    "duration": 11,
    "start_time": "2022-05-03T12:54:22.284Z"
   },
   {
    "duration": 41,
    "start_time": "2022-05-03T12:54:22.298Z"
   },
   {
    "duration": 13,
    "start_time": "2022-05-03T12:54:22.344Z"
   },
   {
    "duration": 11,
    "start_time": "2022-05-03T12:54:22.360Z"
   },
   {
    "duration": 12,
    "start_time": "2022-05-03T12:54:22.374Z"
   },
   {
    "duration": 60,
    "start_time": "2022-05-03T12:54:22.389Z"
   },
   {
    "duration": 18,
    "start_time": "2022-05-03T12:54:22.451Z"
   },
   {
    "duration": 13,
    "start_time": "2022-05-03T12:54:22.471Z"
   },
   {
    "duration": 9,
    "start_time": "2022-05-03T12:54:22.486Z"
   },
   {
    "duration": 36,
    "start_time": "2022-05-03T12:54:22.497Z"
   },
   {
    "duration": 27,
    "start_time": "2022-05-03T12:54:22.535Z"
   },
   {
    "duration": 3,
    "start_time": "2022-05-03T12:54:22.564Z"
   },
   {
    "duration": 25,
    "start_time": "2022-05-03T12:54:22.569Z"
   },
   {
    "duration": 50,
    "start_time": "2022-05-03T12:54:22.596Z"
   },
   {
    "duration": 17,
    "start_time": "2022-05-03T12:54:22.649Z"
   },
   {
    "duration": 4,
    "start_time": "2022-05-03T12:54:22.668Z"
   },
   {
    "duration": 55,
    "start_time": "2022-05-03T12:54:22.674Z"
   },
   {
    "duration": 651,
    "start_time": "2022-05-03T13:00:21.716Z"
   },
   {
    "duration": 15,
    "start_time": "2022-05-03T13:00:22.369Z"
   },
   {
    "duration": 18,
    "start_time": "2022-05-03T13:00:22.386Z"
   },
   {
    "duration": 26,
    "start_time": "2022-05-03T13:00:22.405Z"
   },
   {
    "duration": 7,
    "start_time": "2022-05-03T13:00:22.435Z"
   },
   {
    "duration": 7,
    "start_time": "2022-05-03T13:00:22.444Z"
   },
   {
    "duration": 20,
    "start_time": "2022-05-03T13:00:22.453Z"
   },
   {
    "duration": 59,
    "start_time": "2022-05-03T13:00:22.475Z"
   },
   {
    "duration": 7,
    "start_time": "2022-05-03T13:00:22.539Z"
   },
   {
    "duration": 23,
    "start_time": "2022-05-03T13:00:22.548Z"
   },
   {
    "duration": 21,
    "start_time": "2022-05-03T13:00:22.574Z"
   },
   {
    "duration": 46,
    "start_time": "2022-05-03T13:00:22.597Z"
   },
   {
    "duration": 47,
    "start_time": "2022-05-03T13:00:22.645Z"
   },
   {
    "duration": 14,
    "start_time": "2022-05-03T13:00:22.696Z"
   },
   {
    "duration": 24,
    "start_time": "2022-05-03T13:00:22.711Z"
   },
   {
    "duration": 16,
    "start_time": "2022-05-03T13:00:22.737Z"
   },
   {
    "duration": 14,
    "start_time": "2022-05-03T13:00:22.754Z"
   },
   {
    "duration": 16,
    "start_time": "2022-05-03T13:00:22.769Z"
   },
   {
    "duration": 5,
    "start_time": "2022-05-03T13:00:22.787Z"
   },
   {
    "duration": 33,
    "start_time": "2022-05-03T13:00:22.793Z"
   },
   {
    "duration": 11,
    "start_time": "2022-05-03T13:00:22.828Z"
   },
   {
    "duration": 26,
    "start_time": "2022-05-03T13:00:22.841Z"
   },
   {
    "duration": 57,
    "start_time": "2022-05-03T13:00:22.869Z"
   },
   {
    "duration": 31,
    "start_time": "2022-05-03T13:00:22.928Z"
   },
   {
    "duration": 19,
    "start_time": "2022-05-03T13:00:22.961Z"
   },
   {
    "duration": 9,
    "start_time": "2022-05-03T13:00:22.982Z"
   },
   {
    "duration": 39,
    "start_time": "2022-05-03T13:00:22.993Z"
   },
   {
    "duration": 12,
    "start_time": "2022-05-03T13:00:23.035Z"
   },
   {
    "duration": 9,
    "start_time": "2022-05-03T13:00:23.049Z"
   },
   {
    "duration": 9,
    "start_time": "2022-05-03T13:00:23.060Z"
   },
   {
    "duration": 60,
    "start_time": "2022-05-03T13:00:23.071Z"
   },
   {
    "duration": 14,
    "start_time": "2022-05-03T13:00:23.134Z"
   },
   {
    "duration": 42,
    "start_time": "2022-05-03T13:05:51.112Z"
   },
   {
    "duration": 16,
    "start_time": "2022-05-03T13:06:13.973Z"
   },
   {
    "duration": 14,
    "start_time": "2022-05-03T13:06:59.751Z"
   },
   {
    "duration": 17,
    "start_time": "2022-05-03T13:07:08.337Z"
   },
   {
    "duration": 17,
    "start_time": "2022-05-03T13:08:11.414Z"
   },
   {
    "duration": 7,
    "start_time": "2022-05-03T13:08:23.456Z"
   },
   {
    "duration": 12,
    "start_time": "2022-05-03T13:08:52.053Z"
   },
   {
    "duration": 3,
    "start_time": "2022-05-03T13:12:47.417Z"
   },
   {
    "duration": 1086,
    "start_time": "2022-05-03T13:20:27.444Z"
   },
   {
    "duration": 19,
    "start_time": "2022-05-03T13:21:21.219Z"
   },
   {
    "duration": 583,
    "start_time": "2022-05-03T13:22:35.343Z"
   },
   {
    "duration": 32,
    "start_time": "2022-05-03T13:22:35.929Z"
   },
   {
    "duration": 17,
    "start_time": "2022-05-03T13:22:35.970Z"
   },
   {
    "duration": 12,
    "start_time": "2022-05-03T13:22:35.989Z"
   },
   {
    "duration": 6,
    "start_time": "2022-05-03T13:22:36.004Z"
   },
   {
    "duration": 6,
    "start_time": "2022-05-03T13:22:36.023Z"
   },
   {
    "duration": 24,
    "start_time": "2022-05-03T13:22:36.031Z"
   },
   {
    "duration": 25,
    "start_time": "2022-05-03T13:22:36.057Z"
   },
   {
    "duration": 10,
    "start_time": "2022-05-03T13:22:36.085Z"
   },
   {
    "duration": 58,
    "start_time": "2022-05-03T13:22:36.097Z"
   },
   {
    "duration": 15,
    "start_time": "2022-05-03T13:22:36.157Z"
   },
   {
    "duration": 17,
    "start_time": "2022-05-03T13:22:36.173Z"
   },
   {
    "duration": 49,
    "start_time": "2022-05-03T13:22:36.192Z"
   },
   {
    "duration": 18,
    "start_time": "2022-05-03T13:22:36.246Z"
   },
   {
    "duration": 17,
    "start_time": "2022-05-03T13:22:36.266Z"
   },
   {
    "duration": 15,
    "start_time": "2022-05-03T13:22:36.286Z"
   },
   {
    "duration": 53,
    "start_time": "2022-05-03T13:22:36.303Z"
   },
   {
    "duration": 24,
    "start_time": "2022-05-03T13:22:36.358Z"
   },
   {
    "duration": 4,
    "start_time": "2022-05-03T13:22:36.384Z"
   },
   {
    "duration": 12,
    "start_time": "2022-05-03T13:22:36.389Z"
   },
   {
    "duration": 20,
    "start_time": "2022-05-03T13:22:36.403Z"
   },
   {
    "duration": 26,
    "start_time": "2022-05-03T13:22:36.425Z"
   },
   {
    "duration": 19,
    "start_time": "2022-05-03T13:22:36.453Z"
   },
   {
    "duration": 58,
    "start_time": "2022-05-03T13:22:36.474Z"
   },
   {
    "duration": 28,
    "start_time": "2022-05-03T13:22:36.534Z"
   },
   {
    "duration": 9,
    "start_time": "2022-05-03T13:22:36.565Z"
   },
   {
    "duration": 13,
    "start_time": "2022-05-03T13:22:36.575Z"
   },
   {
    "duration": 6,
    "start_time": "2022-05-03T13:22:36.590Z"
   },
   {
    "duration": 15,
    "start_time": "2022-05-03T13:22:36.597Z"
   },
   {
    "duration": 16,
    "start_time": "2022-05-03T13:22:36.613Z"
   },
   {
    "duration": 37,
    "start_time": "2022-05-03T13:22:36.631Z"
   },
   {
    "duration": 13,
    "start_time": "2022-05-03T13:22:36.670Z"
   },
   {
    "duration": 15,
    "start_time": "2022-05-03T13:22:36.684Z"
   },
   {
    "duration": 6,
    "start_time": "2022-05-03T13:22:36.701Z"
   },
   {
    "duration": 18,
    "start_time": "2022-05-03T13:22:36.709Z"
   },
   {
    "duration": 31,
    "start_time": "2022-05-03T13:22:36.731Z"
   },
   {
    "duration": 5,
    "start_time": "2022-05-03T13:22:36.764Z"
   },
   {
    "duration": 25,
    "start_time": "2022-05-03T13:22:36.771Z"
   },
   {
    "duration": 46,
    "start_time": "2022-05-03T13:22:36.798Z"
   },
   {
    "duration": 14,
    "start_time": "2022-05-03T13:22:36.846Z"
   },
   {
    "duration": 3,
    "start_time": "2022-05-03T13:22:36.865Z"
   },
   {
    "duration": 16,
    "start_time": "2022-05-03T13:22:36.870Z"
   },
   {
    "duration": 58,
    "start_time": "2022-05-03T13:23:00.736Z"
   },
   {
    "duration": 9,
    "start_time": "2022-05-03T13:23:38.766Z"
   },
   {
    "duration": 9,
    "start_time": "2022-05-03T13:24:03.034Z"
   },
   {
    "duration": 480,
    "start_time": "2022-05-06T12:39:30.389Z"
   },
   {
    "duration": 13,
    "start_time": "2022-05-06T12:39:30.871Z"
   },
   {
    "duration": 44,
    "start_time": "2022-05-06T12:39:30.885Z"
   },
   {
    "duration": 10,
    "start_time": "2022-05-06T12:39:30.931Z"
   },
   {
    "duration": 19,
    "start_time": "2022-05-06T12:39:30.944Z"
   },
   {
    "duration": 26,
    "start_time": "2022-05-06T12:39:30.965Z"
   },
   {
    "duration": 25,
    "start_time": "2022-05-06T12:39:30.992Z"
   },
   {
    "duration": 17,
    "start_time": "2022-05-06T12:39:31.019Z"
   },
   {
    "duration": 24,
    "start_time": "2022-05-06T12:39:31.038Z"
   },
   {
    "duration": 35,
    "start_time": "2022-05-06T12:39:31.064Z"
   },
   {
    "duration": 16,
    "start_time": "2022-05-06T12:39:31.101Z"
   },
   {
    "duration": 19,
    "start_time": "2022-05-06T12:39:31.118Z"
   },
   {
    "duration": 16,
    "start_time": "2022-05-06T12:39:31.138Z"
   },
   {
    "duration": 25,
    "start_time": "2022-05-06T12:39:31.157Z"
   },
   {
    "duration": 16,
    "start_time": "2022-05-06T12:39:31.192Z"
   },
   {
    "duration": 14,
    "start_time": "2022-05-06T12:39:31.210Z"
   },
   {
    "duration": 21,
    "start_time": "2022-05-06T12:39:31.225Z"
   },
   {
    "duration": 28,
    "start_time": "2022-05-06T12:39:31.248Z"
   },
   {
    "duration": 19,
    "start_time": "2022-05-06T12:39:31.278Z"
   },
   {
    "duration": 22,
    "start_time": "2022-05-06T12:39:31.298Z"
   },
   {
    "duration": 7,
    "start_time": "2022-05-06T12:39:31.323Z"
   },
   {
    "duration": 16,
    "start_time": "2022-05-06T12:39:31.332Z"
   },
   {
    "duration": 18,
    "start_time": "2022-05-06T12:39:31.350Z"
   },
   {
    "duration": 43,
    "start_time": "2022-05-06T12:39:31.370Z"
   },
   {
    "duration": 20,
    "start_time": "2022-05-06T12:39:31.415Z"
   },
   {
    "duration": 7,
    "start_time": "2022-05-06T12:39:31.437Z"
   },
   {
    "duration": 18,
    "start_time": "2022-05-06T12:39:31.446Z"
   },
   {
    "duration": 28,
    "start_time": "2022-05-06T12:39:31.466Z"
   },
   {
    "duration": 22,
    "start_time": "2022-05-06T12:39:31.496Z"
   },
   {
    "duration": 20,
    "start_time": "2022-05-06T12:39:31.520Z"
   },
   {
    "duration": 31,
    "start_time": "2022-05-06T12:39:31.541Z"
   },
   {
    "duration": 11,
    "start_time": "2022-05-06T12:39:31.573Z"
   },
   {
    "duration": 17,
    "start_time": "2022-05-06T12:39:31.586Z"
   },
   {
    "duration": 10,
    "start_time": "2022-05-06T12:39:31.604Z"
   },
   {
    "duration": 16,
    "start_time": "2022-05-06T12:39:31.615Z"
   },
   {
    "duration": 25,
    "start_time": "2022-05-06T12:39:31.632Z"
   },
   {
    "duration": 3,
    "start_time": "2022-05-06T12:39:31.659Z"
   },
   {
    "duration": 24,
    "start_time": "2022-05-06T12:39:31.664Z"
   },
   {
    "duration": 14,
    "start_time": "2022-05-06T12:39:31.690Z"
   },
   {
    "duration": 12,
    "start_time": "2022-05-06T12:39:31.706Z"
   },
   {
    "duration": 7,
    "start_time": "2022-05-06T12:39:31.722Z"
   },
   {
    "duration": 31,
    "start_time": "2022-05-06T12:39:31.730Z"
   },
   {
    "duration": 64,
    "start_time": "2022-05-06T12:39:31.763Z"
   },
   {
    "duration": 0,
    "start_time": "2022-05-06T12:39:31.829Z"
   },
   {
    "duration": 0,
    "start_time": "2022-05-06T12:39:31.830Z"
   },
   {
    "duration": 28,
    "start_time": "2022-05-06T12:41:15.643Z"
   },
   {
    "duration": 10,
    "start_time": "2022-05-06T12:42:54.974Z"
   },
   {
    "duration": 19,
    "start_time": "2022-05-06T12:46:07.555Z"
   },
   {
    "duration": 13,
    "start_time": "2022-05-06T12:46:57.175Z"
   },
   {
    "duration": 21,
    "start_time": "2022-05-06T12:46:59.033Z"
   },
   {
    "duration": 485,
    "start_time": "2022-05-06T12:48:41.182Z"
   },
   {
    "duration": 13,
    "start_time": "2022-05-06T12:48:41.670Z"
   },
   {
    "duration": 15,
    "start_time": "2022-05-06T12:48:41.692Z"
   },
   {
    "duration": 11,
    "start_time": "2022-05-06T12:48:41.709Z"
   },
   {
    "duration": 6,
    "start_time": "2022-05-06T12:48:41.722Z"
   },
   {
    "duration": 9,
    "start_time": "2022-05-06T12:48:41.730Z"
   },
   {
    "duration": 15,
    "start_time": "2022-05-06T12:48:41.741Z"
   },
   {
    "duration": 43,
    "start_time": "2022-05-06T12:48:41.757Z"
   },
   {
    "duration": 7,
    "start_time": "2022-05-06T12:48:41.801Z"
   },
   {
    "duration": 16,
    "start_time": "2022-05-06T12:48:41.810Z"
   },
   {
    "duration": 12,
    "start_time": "2022-05-06T12:48:41.828Z"
   },
   {
    "duration": 14,
    "start_time": "2022-05-06T12:48:41.842Z"
   },
   {
    "duration": 48,
    "start_time": "2022-05-06T12:48:41.858Z"
   },
   {
    "duration": 12,
    "start_time": "2022-05-06T12:48:41.908Z"
   },
   {
    "duration": 13,
    "start_time": "2022-05-06T12:48:41.922Z"
   },
   {
    "duration": 12,
    "start_time": "2022-05-06T12:48:41.937Z"
   },
   {
    "duration": 12,
    "start_time": "2022-05-06T12:48:41.950Z"
   },
   {
    "duration": 15,
    "start_time": "2022-05-06T12:48:41.993Z"
   },
   {
    "duration": 4,
    "start_time": "2022-05-06T12:48:42.010Z"
   },
   {
    "duration": 6,
    "start_time": "2022-05-06T12:48:42.015Z"
   },
   {
    "duration": 6,
    "start_time": "2022-05-06T12:48:42.023Z"
   },
   {
    "duration": 16,
    "start_time": "2022-05-06T12:48:42.030Z"
   },
   {
    "duration": 50,
    "start_time": "2022-05-06T12:48:42.047Z"
   },
   {
    "duration": 20,
    "start_time": "2022-05-06T12:48:42.099Z"
   },
   {
    "duration": 16,
    "start_time": "2022-05-06T12:48:42.121Z"
   },
   {
    "duration": 7,
    "start_time": "2022-05-06T12:48:42.139Z"
   },
   {
    "duration": 7,
    "start_time": "2022-05-06T12:48:42.147Z"
   },
   {
    "duration": 36,
    "start_time": "2022-05-06T12:48:42.158Z"
   },
   {
    "duration": 7,
    "start_time": "2022-05-06T12:48:42.195Z"
   },
   {
    "duration": 9,
    "start_time": "2022-05-06T12:48:42.204Z"
   },
   {
    "duration": 20,
    "start_time": "2022-05-06T12:48:42.214Z"
   },
   {
    "duration": 18,
    "start_time": "2022-05-06T12:48:42.236Z"
   },
   {
    "duration": 10,
    "start_time": "2022-05-06T12:48:42.256Z"
   },
   {
    "duration": 26,
    "start_time": "2022-05-06T12:48:42.268Z"
   },
   {
    "duration": 5,
    "start_time": "2022-05-06T12:48:42.296Z"
   },
   {
    "duration": 23,
    "start_time": "2022-05-06T12:48:42.303Z"
   },
   {
    "duration": 4,
    "start_time": "2022-05-06T12:48:42.328Z"
   },
   {
    "duration": 21,
    "start_time": "2022-05-06T12:48:42.333Z"
   },
   {
    "duration": 38,
    "start_time": "2022-05-06T12:48:42.355Z"
   },
   {
    "duration": 12,
    "start_time": "2022-05-06T12:48:42.395Z"
   },
   {
    "duration": 4,
    "start_time": "2022-05-06T12:48:42.408Z"
   },
   {
    "duration": 17,
    "start_time": "2022-05-06T12:48:42.414Z"
   },
   {
    "duration": 455,
    "start_time": "2022-05-06T12:49:20.150Z"
   },
   {
    "duration": 13,
    "start_time": "2022-05-06T12:49:20.607Z"
   },
   {
    "duration": 16,
    "start_time": "2022-05-06T12:49:20.621Z"
   },
   {
    "duration": 10,
    "start_time": "2022-05-06T12:49:20.638Z"
   },
   {
    "duration": 8,
    "start_time": "2022-05-06T12:49:20.650Z"
   },
   {
    "duration": 5,
    "start_time": "2022-05-06T12:49:20.659Z"
   },
   {
    "duration": 36,
    "start_time": "2022-05-06T12:49:20.666Z"
   },
   {
    "duration": 12,
    "start_time": "2022-05-06T12:49:20.704Z"
   },
   {
    "duration": 16,
    "start_time": "2022-05-06T12:49:20.717Z"
   },
   {
    "duration": 19,
    "start_time": "2022-05-06T12:49:20.735Z"
   },
   {
    "duration": 12,
    "start_time": "2022-05-06T12:49:20.756Z"
   },
   {
    "duration": 33,
    "start_time": "2022-05-06T12:49:20.770Z"
   },
   {
    "duration": 16,
    "start_time": "2022-05-06T12:49:20.805Z"
   },
   {
    "duration": 13,
    "start_time": "2022-05-06T12:49:20.824Z"
   },
   {
    "duration": 14,
    "start_time": "2022-05-06T12:49:20.839Z"
   },
   {
    "duration": 41,
    "start_time": "2022-05-06T12:49:20.854Z"
   },
   {
    "duration": 13,
    "start_time": "2022-05-06T12:49:20.897Z"
   },
   {
    "duration": 14,
    "start_time": "2022-05-06T12:49:20.911Z"
   },
   {
    "duration": 5,
    "start_time": "2022-05-06T12:49:20.926Z"
   },
   {
    "duration": 9,
    "start_time": "2022-05-06T12:49:20.932Z"
   },
   {
    "duration": 10,
    "start_time": "2022-05-06T12:49:20.942Z"
   },
   {
    "duration": 42,
    "start_time": "2022-05-06T12:49:20.954Z"
   },
   {
    "duration": 17,
    "start_time": "2022-05-06T12:49:20.998Z"
   },
   {
    "duration": 21,
    "start_time": "2022-05-06T12:49:21.017Z"
   },
   {
    "duration": 16,
    "start_time": "2022-05-06T12:49:21.039Z"
   },
   {
    "duration": 7,
    "start_time": "2022-05-06T12:49:21.056Z"
   },
   {
    "duration": 35,
    "start_time": "2022-05-06T12:49:21.064Z"
   },
   {
    "duration": 10,
    "start_time": "2022-05-06T12:49:21.101Z"
   },
   {
    "duration": 9,
    "start_time": "2022-05-06T12:49:21.113Z"
   },
   {
    "duration": 10,
    "start_time": "2022-05-06T12:49:21.124Z"
   },
   {
    "duration": 23,
    "start_time": "2022-05-06T12:49:21.136Z"
   },
   {
    "duration": 24,
    "start_time": "2022-05-06T12:49:21.161Z"
   },
   {
    "duration": 10,
    "start_time": "2022-05-06T12:49:21.193Z"
   },
   {
    "duration": 7,
    "start_time": "2022-05-06T12:49:21.204Z"
   },
   {
    "duration": 12,
    "start_time": "2022-05-06T12:49:21.213Z"
   },
   {
    "duration": 21,
    "start_time": "2022-05-06T12:49:21.227Z"
   },
   {
    "duration": 9,
    "start_time": "2022-05-06T12:49:21.249Z"
   },
   {
    "duration": 20,
    "start_time": "2022-05-06T12:49:21.259Z"
   },
   {
    "duration": 19,
    "start_time": "2022-05-06T12:49:21.281Z"
   },
   {
    "duration": 10,
    "start_time": "2022-05-06T12:49:21.301Z"
   },
   {
    "duration": 7,
    "start_time": "2022-05-06T12:49:21.315Z"
   },
   {
    "duration": 19,
    "start_time": "2022-05-06T12:49:21.323Z"
   },
   {
    "duration": 2,
    "start_time": "2022-05-06T12:49:21.344Z"
   },
   {
    "duration": 24,
    "start_time": "2022-05-06T12:49:21.348Z"
   },
   {
    "duration": 30,
    "start_time": "2022-05-06T12:49:21.373Z"
   },
   {
    "duration": 9,
    "start_time": "2022-05-06T12:49:32.173Z"
   },
   {
    "duration": 10,
    "start_time": "2022-05-06T12:49:56.325Z"
   },
   {
    "duration": 14,
    "start_time": "2022-05-06T12:50:05.496Z"
   },
   {
    "duration": 6,
    "start_time": "2022-05-06T12:50:12.842Z"
   },
   {
    "duration": 10,
    "start_time": "2022-05-06T12:50:32.652Z"
   },
   {
    "duration": 7,
    "start_time": "2022-05-06T12:50:36.982Z"
   },
   {
    "duration": 18,
    "start_time": "2022-05-06T12:50:50.406Z"
   },
   {
    "duration": 510,
    "start_time": "2022-05-06T12:53:50.552Z"
   },
   {
    "duration": 13,
    "start_time": "2022-05-06T12:53:51.064Z"
   },
   {
    "duration": 24,
    "start_time": "2022-05-06T12:53:51.079Z"
   },
   {
    "duration": 10,
    "start_time": "2022-05-06T12:53:51.104Z"
   },
   {
    "duration": 4,
    "start_time": "2022-05-06T12:53:51.116Z"
   },
   {
    "duration": 5,
    "start_time": "2022-05-06T12:53:51.122Z"
   },
   {
    "duration": 13,
    "start_time": "2022-05-06T12:53:51.128Z"
   },
   {
    "duration": 12,
    "start_time": "2022-05-06T12:53:51.142Z"
   },
   {
    "duration": 38,
    "start_time": "2022-05-06T12:53:51.155Z"
   },
   {
    "duration": 15,
    "start_time": "2022-05-06T12:53:51.195Z"
   },
   {
    "duration": 12,
    "start_time": "2022-05-06T12:53:51.212Z"
   },
   {
    "duration": 16,
    "start_time": "2022-05-06T12:53:51.225Z"
   },
   {
    "duration": 15,
    "start_time": "2022-05-06T12:53:51.242Z"
   },
   {
    "duration": 43,
    "start_time": "2022-05-06T12:53:51.260Z"
   },
   {
    "duration": 15,
    "start_time": "2022-05-06T12:53:51.304Z"
   },
   {
    "duration": 12,
    "start_time": "2022-05-06T12:53:51.321Z"
   },
   {
    "duration": 13,
    "start_time": "2022-05-06T12:53:51.335Z"
   },
   {
    "duration": 47,
    "start_time": "2022-05-06T12:53:51.350Z"
   },
   {
    "duration": 4,
    "start_time": "2022-05-06T12:53:51.399Z"
   },
   {
    "duration": 7,
    "start_time": "2022-05-06T12:53:51.404Z"
   },
   {
    "duration": 7,
    "start_time": "2022-05-06T12:53:51.412Z"
   },
   {
    "duration": 19,
    "start_time": "2022-05-06T12:53:51.420Z"
   },
   {
    "duration": 17,
    "start_time": "2022-05-06T12:53:51.441Z"
   },
   {
    "duration": 49,
    "start_time": "2022-05-06T12:53:51.459Z"
   },
   {
    "duration": 17,
    "start_time": "2022-05-06T12:53:51.510Z"
   },
   {
    "duration": 7,
    "start_time": "2022-05-06T12:53:51.528Z"
   },
   {
    "duration": 12,
    "start_time": "2022-05-06T12:53:51.537Z"
   },
   {
    "duration": 8,
    "start_time": "2022-05-06T12:53:51.550Z"
   },
   {
    "duration": 34,
    "start_time": "2022-05-06T12:53:51.560Z"
   },
   {
    "duration": 8,
    "start_time": "2022-05-06T12:53:51.595Z"
   },
   {
    "duration": 21,
    "start_time": "2022-05-06T12:53:51.604Z"
   },
   {
    "duration": 10,
    "start_time": "2022-05-06T12:53:51.627Z"
   },
   {
    "duration": 24,
    "start_time": "2022-05-06T12:53:51.638Z"
   },
   {
    "duration": 9,
    "start_time": "2022-05-06T12:53:51.664Z"
   },
   {
    "duration": 13,
    "start_time": "2022-05-06T12:53:51.674Z"
   },
   {
    "duration": 22,
    "start_time": "2022-05-06T12:53:51.689Z"
   },
   {
    "duration": 7,
    "start_time": "2022-05-06T12:53:51.713Z"
   },
   {
    "duration": 24,
    "start_time": "2022-05-06T12:53:51.721Z"
   },
   {
    "duration": 15,
    "start_time": "2022-05-06T12:53:51.747Z"
   },
   {
    "duration": 11,
    "start_time": "2022-05-06T12:53:51.763Z"
   },
   {
    "duration": 2,
    "start_time": "2022-05-06T12:53:51.792Z"
   },
   {
    "duration": 23,
    "start_time": "2022-05-06T12:53:51.796Z"
   },
   {
    "duration": 62,
    "start_time": "2022-05-06T12:53:51.821Z"
   },
   {
    "duration": 0,
    "start_time": "2022-05-06T12:53:51.893Z"
   },
   {
    "duration": 0,
    "start_time": "2022-05-06T12:53:51.894Z"
   },
   {
    "duration": 546,
    "start_time": "2022-05-06T12:55:20.233Z"
   },
   {
    "duration": 21,
    "start_time": "2022-05-06T12:55:20.782Z"
   },
   {
    "duration": 19,
    "start_time": "2022-05-06T12:55:20.805Z"
   },
   {
    "duration": 12,
    "start_time": "2022-05-06T12:55:20.827Z"
   },
   {
    "duration": 6,
    "start_time": "2022-05-06T12:55:20.842Z"
   },
   {
    "duration": 6,
    "start_time": "2022-05-06T12:55:20.849Z"
   },
   {
    "duration": 42,
    "start_time": "2022-05-06T12:55:20.857Z"
   },
   {
    "duration": 13,
    "start_time": "2022-05-06T12:55:20.900Z"
   },
   {
    "duration": 11,
    "start_time": "2022-05-06T12:55:20.914Z"
   },
   {
    "duration": 18,
    "start_time": "2022-05-06T12:55:20.927Z"
   },
   {
    "duration": 14,
    "start_time": "2022-05-06T12:55:20.947Z"
   },
   {
    "duration": 47,
    "start_time": "2022-05-06T12:55:20.963Z"
   },
   {
    "duration": 17,
    "start_time": "2022-05-06T12:55:21.011Z"
   },
   {
    "duration": 14,
    "start_time": "2022-05-06T12:55:21.032Z"
   },
   {
    "duration": 45,
    "start_time": "2022-05-06T12:55:21.048Z"
   },
   {
    "duration": 15,
    "start_time": "2022-05-06T12:55:21.095Z"
   },
   {
    "duration": 15,
    "start_time": "2022-05-06T12:55:21.112Z"
   },
   {
    "duration": 15,
    "start_time": "2022-05-06T12:55:21.129Z"
   },
   {
    "duration": 4,
    "start_time": "2022-05-06T12:55:21.146Z"
   },
   {
    "duration": 42,
    "start_time": "2022-05-06T12:55:21.152Z"
   },
   {
    "duration": 8,
    "start_time": "2022-05-06T12:55:21.196Z"
   },
   {
    "duration": 17,
    "start_time": "2022-05-06T12:55:21.206Z"
   },
   {
    "duration": 18,
    "start_time": "2022-05-06T12:55:21.225Z"
   },
   {
    "duration": 54,
    "start_time": "2022-05-06T12:55:21.245Z"
   },
   {
    "duration": 22,
    "start_time": "2022-05-06T12:55:21.300Z"
   },
   {
    "duration": 8,
    "start_time": "2022-05-06T12:55:21.323Z"
   },
   {
    "duration": 7,
    "start_time": "2022-05-06T12:55:21.333Z"
   },
   {
    "duration": 8,
    "start_time": "2022-05-06T12:55:21.342Z"
   },
   {
    "duration": 12,
    "start_time": "2022-05-06T12:55:21.352Z"
   },
   {
    "duration": 8,
    "start_time": "2022-05-06T12:55:21.393Z"
   },
   {
    "duration": 17,
    "start_time": "2022-05-06T12:55:21.403Z"
   },
   {
    "duration": 2,
    "start_time": "2022-05-06T12:55:21.422Z"
   },
   {
    "duration": 17,
    "start_time": "2022-05-06T12:55:21.426Z"
   },
   {
    "duration": 6,
    "start_time": "2022-05-06T12:55:21.445Z"
   },
   {
    "duration": 13,
    "start_time": "2022-05-06T12:55:21.452Z"
   },
   {
    "duration": 39,
    "start_time": "2022-05-06T12:55:21.467Z"
   },
   {
    "duration": 3,
    "start_time": "2022-05-06T12:55:21.508Z"
   },
   {
    "duration": 22,
    "start_time": "2022-05-06T12:55:21.514Z"
   },
   {
    "duration": 13,
    "start_time": "2022-05-06T12:55:21.538Z"
   },
   {
    "duration": 16,
    "start_time": "2022-05-06T12:55:21.553Z"
   },
   {
    "duration": 2,
    "start_time": "2022-05-06T12:55:21.592Z"
   },
   {
    "duration": 20,
    "start_time": "2022-05-06T12:55:21.596Z"
   },
   {
    "duration": 82,
    "start_time": "2022-05-06T12:55:21.618Z"
   },
   {
    "duration": 0,
    "start_time": "2022-05-06T12:55:21.702Z"
   },
   {
    "duration": 0,
    "start_time": "2022-05-06T12:55:21.704Z"
   },
   {
    "duration": 14,
    "start_time": "2022-05-06T12:55:33.321Z"
   },
   {
    "duration": 16,
    "start_time": "2022-05-06T12:55:34.591Z"
   },
   {
    "duration": 46,
    "start_time": "2022-05-07T14:05:31.874Z"
   },
   {
    "duration": 471,
    "start_time": "2022-05-07T14:06:17.666Z"
   },
   {
    "duration": 16,
    "start_time": "2022-05-07T14:06:18.139Z"
   },
   {
    "duration": 29,
    "start_time": "2022-05-07T14:06:18.156Z"
   },
   {
    "duration": 17,
    "start_time": "2022-05-07T14:06:18.187Z"
   },
   {
    "duration": 24,
    "start_time": "2022-05-07T14:06:18.206Z"
   },
   {
    "duration": 12,
    "start_time": "2022-05-07T14:06:18.232Z"
   },
   {
    "duration": 19,
    "start_time": "2022-05-07T14:06:18.246Z"
   },
   {
    "duration": 18,
    "start_time": "2022-05-07T14:06:18.267Z"
   },
   {
    "duration": 5,
    "start_time": "2022-05-07T14:06:18.287Z"
   },
   {
    "duration": 38,
    "start_time": "2022-05-07T14:06:18.296Z"
   },
   {
    "duration": 15,
    "start_time": "2022-05-07T14:06:18.336Z"
   },
   {
    "duration": 19,
    "start_time": "2022-05-07T14:06:18.352Z"
   },
   {
    "duration": 19,
    "start_time": "2022-05-07T14:06:18.372Z"
   },
   {
    "duration": 42,
    "start_time": "2022-05-07T14:06:18.392Z"
   },
   {
    "duration": 17,
    "start_time": "2022-05-07T14:06:18.436Z"
   },
   {
    "duration": 15,
    "start_time": "2022-05-07T14:06:18.455Z"
   },
   {
    "duration": 15,
    "start_time": "2022-05-07T14:06:18.471Z"
   },
   {
    "duration": 19,
    "start_time": "2022-05-07T14:06:18.522Z"
   },
   {
    "duration": 5,
    "start_time": "2022-05-07T14:06:18.543Z"
   },
   {
    "duration": 7,
    "start_time": "2022-05-07T14:06:18.550Z"
   },
   {
    "duration": 8,
    "start_time": "2022-05-07T14:06:18.559Z"
   },
   {
    "duration": 58,
    "start_time": "2022-05-07T14:06:18.568Z"
   },
   {
    "duration": 19,
    "start_time": "2022-05-07T14:06:18.628Z"
   },
   {
    "duration": 22,
    "start_time": "2022-05-07T14:06:18.649Z"
   },
   {
    "duration": 18,
    "start_time": "2022-05-07T14:06:18.673Z"
   },
   {
    "duration": 36,
    "start_time": "2022-05-07T14:06:18.693Z"
   },
   {
    "duration": 12,
    "start_time": "2022-05-07T14:06:18.731Z"
   },
   {
    "duration": 8,
    "start_time": "2022-05-07T14:06:18.746Z"
   },
   {
    "duration": 17,
    "start_time": "2022-05-07T14:06:18.756Z"
   },
   {
    "duration": 10,
    "start_time": "2022-05-07T14:06:18.775Z"
   },
   {
    "duration": 41,
    "start_time": "2022-05-07T14:06:18.787Z"
   },
   {
    "duration": 17,
    "start_time": "2022-05-07T14:06:18.830Z"
   },
   {
    "duration": 6,
    "start_time": "2022-05-07T14:19:36.216Z"
   },
   {
    "duration": 43,
    "start_time": "2022-05-07T14:20:21.280Z"
   },
   {
    "duration": 7,
    "start_time": "2022-05-07T14:20:45.259Z"
   },
   {
    "duration": 106,
    "start_time": "2022-05-07T14:21:01.694Z"
   },
   {
    "duration": 22,
    "start_time": "2022-05-07T14:21:01.822Z"
   },
   {
    "duration": 48,
    "start_time": "2022-05-07T14:21:01.846Z"
   },
   {
    "duration": 17,
    "start_time": "2022-05-07T14:21:01.897Z"
   },
   {
    "duration": 7,
    "start_time": "2022-05-07T14:21:01.923Z"
   },
   {
    "duration": 9,
    "start_time": "2022-05-07T14:21:01.932Z"
   },
   {
    "duration": 19,
    "start_time": "2022-05-07T14:21:01.943Z"
   },
   {
    "duration": 14,
    "start_time": "2022-05-07T14:21:01.964Z"
   },
   {
    "duration": 47,
    "start_time": "2022-05-07T14:21:01.980Z"
   },
   {
    "duration": 42,
    "start_time": "2022-05-07T14:21:02.032Z"
   },
   {
    "duration": 16,
    "start_time": "2022-05-07T14:21:02.076Z"
   },
   {
    "duration": 31,
    "start_time": "2022-05-07T14:21:02.094Z"
   },
   {
    "duration": 25,
    "start_time": "2022-05-07T14:21:02.127Z"
   },
   {
    "duration": 22,
    "start_time": "2022-05-07T14:21:02.157Z"
   },
   {
    "duration": 44,
    "start_time": "2022-05-07T14:21:02.181Z"
   },
   {
    "duration": 17,
    "start_time": "2022-05-07T14:21:02.227Z"
   },
   {
    "duration": 16,
    "start_time": "2022-05-07T14:21:02.246Z"
   },
   {
    "duration": 19,
    "start_time": "2022-05-07T14:21:02.265Z"
   },
   {
    "duration": 40,
    "start_time": "2022-05-07T14:21:02.286Z"
   },
   {
    "duration": 8,
    "start_time": "2022-05-07T14:21:02.328Z"
   },
   {
    "duration": 13,
    "start_time": "2022-05-07T14:21:02.339Z"
   },
   {
    "duration": 28,
    "start_time": "2022-05-07T14:21:02.355Z"
   },
   {
    "duration": 61,
    "start_time": "2022-05-07T14:21:02.385Z"
   },
   {
    "duration": 32,
    "start_time": "2022-05-07T14:21:02.449Z"
   },
   {
    "duration": 47,
    "start_time": "2022-05-07T14:21:02.484Z"
   },
   {
    "duration": 8,
    "start_time": "2022-05-07T14:21:02.533Z"
   },
   {
    "duration": 26,
    "start_time": "2022-05-07T14:21:02.544Z"
   },
   {
    "duration": 12,
    "start_time": "2022-05-07T14:21:02.576Z"
   },
   {
    "duration": 11,
    "start_time": "2022-05-07T14:21:02.591Z"
   },
   {
    "duration": 23,
    "start_time": "2022-05-07T14:21:02.604Z"
   },
   {
    "duration": 32,
    "start_time": "2022-05-07T14:21:02.630Z"
   },
   {
    "duration": 19,
    "start_time": "2022-05-07T14:21:02.665Z"
   },
   {
    "duration": 17,
    "start_time": "2022-05-07T14:21:02.687Z"
   },
   {
    "duration": 6,
    "start_time": "2022-05-07T14:21:02.706Z"
   },
   {
    "duration": 9,
    "start_time": "2022-05-07T14:21:02.715Z"
   },
   {
    "duration": 22,
    "start_time": "2022-05-07T14:21:02.726Z"
   },
   {
    "duration": 8,
    "start_time": "2022-05-07T14:21:02.750Z"
   },
   {
    "duration": 30,
    "start_time": "2022-05-07T14:21:02.760Z"
   },
   {
    "duration": 12,
    "start_time": "2022-05-07T14:21:02.792Z"
   },
   {
    "duration": 13,
    "start_time": "2022-05-07T14:21:02.806Z"
   },
   {
    "duration": 8,
    "start_time": "2022-05-07T14:21:02.821Z"
   },
   {
    "duration": 20,
    "start_time": "2022-05-07T14:21:02.831Z"
   },
   {
    "duration": 8,
    "start_time": "2022-05-07T14:21:02.853Z"
   },
   {
    "duration": 9,
    "start_time": "2022-05-07T14:21:32.115Z"
   },
   {
    "duration": 15,
    "start_time": "2022-05-07T14:34:22.783Z"
   },
   {
    "duration": 11,
    "start_time": "2022-05-07T14:48:24.016Z"
   },
   {
    "duration": 10,
    "start_time": "2022-05-07T14:48:34.513Z"
   },
   {
    "duration": 10,
    "start_time": "2022-05-07T14:48:48.994Z"
   },
   {
    "duration": 74,
    "start_time": "2022-05-07T14:48:53.639Z"
   },
   {
    "duration": 14,
    "start_time": "2022-05-07T14:48:53.716Z"
   },
   {
    "duration": 16,
    "start_time": "2022-05-07T14:48:53.731Z"
   },
   {
    "duration": 11,
    "start_time": "2022-05-07T14:48:53.749Z"
   },
   {
    "duration": 5,
    "start_time": "2022-05-07T14:48:53.761Z"
   },
   {
    "duration": 6,
    "start_time": "2022-05-07T14:48:53.767Z"
   },
   {
    "duration": 50,
    "start_time": "2022-05-07T14:48:53.774Z"
   },
   {
    "duration": 14,
    "start_time": "2022-05-07T14:48:53.826Z"
   },
   {
    "duration": 9,
    "start_time": "2022-05-07T14:48:53.842Z"
   },
   {
    "duration": 15,
    "start_time": "2022-05-07T14:48:53.854Z"
   },
   {
    "duration": 14,
    "start_time": "2022-05-07T14:48:53.871Z"
   },
   {
    "duration": 16,
    "start_time": "2022-05-07T14:48:53.923Z"
   },
   {
    "duration": 18,
    "start_time": "2022-05-07T14:48:53.941Z"
   },
   {
    "duration": 15,
    "start_time": "2022-05-07T14:48:53.961Z"
   },
   {
    "duration": 46,
    "start_time": "2022-05-07T14:48:53.978Z"
   },
   {
    "duration": 15,
    "start_time": "2022-05-07T14:48:54.026Z"
   },
   {
    "duration": 13,
    "start_time": "2022-05-07T14:48:54.043Z"
   },
   {
    "duration": 16,
    "start_time": "2022-05-07T14:48:54.058Z"
   },
   {
    "duration": 5,
    "start_time": "2022-05-07T14:48:54.075Z"
   },
   {
    "duration": 6,
    "start_time": "2022-05-07T14:48:54.082Z"
   },
   {
    "duration": 7,
    "start_time": "2022-05-07T14:48:54.123Z"
   },
   {
    "duration": 16,
    "start_time": "2022-05-07T14:48:54.132Z"
   },
   {
    "duration": 18,
    "start_time": "2022-05-07T14:48:54.149Z"
   },
   {
    "duration": 22,
    "start_time": "2022-05-07T14:48:54.168Z"
   },
   {
    "duration": 46,
    "start_time": "2022-05-07T14:48:54.192Z"
   },
   {
    "duration": 7,
    "start_time": "2022-05-07T14:48:54.240Z"
   },
   {
    "duration": 9,
    "start_time": "2022-05-07T14:48:54.248Z"
   },
   {
    "duration": 6,
    "start_time": "2022-05-07T14:48:54.261Z"
   },
   {
    "duration": 9,
    "start_time": "2022-05-07T14:48:54.269Z"
   },
   {
    "duration": 11,
    "start_time": "2022-05-07T14:48:54.280Z"
   },
   {
    "duration": 46,
    "start_time": "2022-05-07T14:48:54.293Z"
   },
   {
    "duration": 16,
    "start_time": "2022-05-07T14:48:54.340Z"
   },
   {
    "duration": 11,
    "start_time": "2022-05-07T14:48:54.357Z"
   },
   {
    "duration": 5,
    "start_time": "2022-05-07T14:48:54.370Z"
   },
   {
    "duration": 12,
    "start_time": "2022-05-07T14:48:54.377Z"
   },
   {
    "duration": 43,
    "start_time": "2022-05-07T14:48:54.391Z"
   },
   {
    "duration": 3,
    "start_time": "2022-05-07T14:48:54.436Z"
   },
   {
    "duration": 18,
    "start_time": "2022-05-07T14:48:54.441Z"
   },
   {
    "duration": 17,
    "start_time": "2022-05-07T14:48:54.460Z"
   },
   {
    "duration": 12,
    "start_time": "2022-05-07T14:48:54.478Z"
   },
   {
    "duration": 9,
    "start_time": "2022-05-07T14:48:54.492Z"
   },
   {
    "duration": 32,
    "start_time": "2022-05-07T14:48:54.503Z"
   },
   {
    "duration": 9,
    "start_time": "2022-05-07T14:48:54.537Z"
   },
   {
    "duration": 7,
    "start_time": "2022-05-07T14:48:54.548Z"
   },
   {
    "duration": 18,
    "start_time": "2022-05-07T14:48:54.556Z"
   },
   {
    "duration": 10,
    "start_time": "2022-05-07T14:48:54.576Z"
   },
   {
    "duration": 510,
    "start_time": "2022-05-07T14:54:53.431Z"
   },
   {
    "duration": 15,
    "start_time": "2022-05-07T14:54:53.943Z"
   },
   {
    "duration": 17,
    "start_time": "2022-05-07T14:54:53.959Z"
   },
   {
    "duration": 10,
    "start_time": "2022-05-07T14:54:53.978Z"
   },
   {
    "duration": 12,
    "start_time": "2022-05-07T14:54:53.990Z"
   },
   {
    "duration": 20,
    "start_time": "2022-05-07T14:54:54.003Z"
   },
   {
    "duration": 14,
    "start_time": "2022-05-07T14:54:54.025Z"
   },
   {
    "duration": 14,
    "start_time": "2022-05-07T14:54:54.040Z"
   },
   {
    "duration": 8,
    "start_time": "2022-05-07T14:54:54.056Z"
   },
   {
    "duration": 16,
    "start_time": "2022-05-07T14:54:54.069Z"
   },
   {
    "duration": 48,
    "start_time": "2022-05-07T14:54:54.087Z"
   },
   {
    "duration": 18,
    "start_time": "2022-05-07T14:54:54.137Z"
   },
   {
    "duration": 19,
    "start_time": "2022-05-07T14:54:54.156Z"
   },
   {
    "duration": 48,
    "start_time": "2022-05-07T14:54:54.176Z"
   },
   {
    "duration": 17,
    "start_time": "2022-05-07T14:54:54.226Z"
   },
   {
    "duration": 15,
    "start_time": "2022-05-07T14:54:54.244Z"
   },
   {
    "duration": 16,
    "start_time": "2022-05-07T14:54:54.261Z"
   },
   {
    "duration": 51,
    "start_time": "2022-05-07T14:54:54.280Z"
   },
   {
    "duration": 5,
    "start_time": "2022-05-07T14:54:54.334Z"
   },
   {
    "duration": 9,
    "start_time": "2022-05-07T14:54:54.341Z"
   },
   {
    "duration": 10,
    "start_time": "2022-05-07T14:54:54.352Z"
   },
   {
    "duration": 20,
    "start_time": "2022-05-07T14:54:54.364Z"
   },
   {
    "duration": 48,
    "start_time": "2022-05-07T14:54:54.387Z"
   },
   {
    "duration": 24,
    "start_time": "2022-05-07T14:54:54.436Z"
   },
   {
    "duration": 19,
    "start_time": "2022-05-07T14:54:54.462Z"
   },
   {
    "duration": 7,
    "start_time": "2022-05-07T14:54:54.484Z"
   },
   {
    "duration": 36,
    "start_time": "2022-05-07T14:54:54.494Z"
   },
   {
    "duration": 8,
    "start_time": "2022-05-07T14:54:54.535Z"
   },
   {
    "duration": 9,
    "start_time": "2022-05-07T14:54:54.545Z"
   },
   {
    "duration": 8,
    "start_time": "2022-05-07T14:54:54.556Z"
   },
   {
    "duration": 59,
    "start_time": "2022-05-07T14:54:54.567Z"
   },
   {
    "duration": 14,
    "start_time": "2022-05-07T14:54:54.628Z"
   },
   {
    "duration": 11,
    "start_time": "2022-05-07T14:54:54.643Z"
   },
   {
    "duration": 8,
    "start_time": "2022-05-07T14:54:54.656Z"
   },
   {
    "duration": 11,
    "start_time": "2022-05-07T14:54:54.666Z"
   },
   {
    "duration": 24,
    "start_time": "2022-05-07T14:54:54.679Z"
   },
   {
    "duration": 4,
    "start_time": "2022-05-07T14:54:54.724Z"
   },
   {
    "duration": 21,
    "start_time": "2022-05-07T14:54:54.730Z"
   },
   {
    "duration": 18,
    "start_time": "2022-05-07T14:54:54.752Z"
   },
   {
    "duration": 11,
    "start_time": "2022-05-07T14:54:54.772Z"
   },
   {
    "duration": 10,
    "start_time": "2022-05-07T14:54:54.785Z"
   },
   {
    "duration": 40,
    "start_time": "2022-05-07T14:54:54.796Z"
   },
   {
    "duration": 16,
    "start_time": "2022-05-07T14:54:54.838Z"
   },
   {
    "duration": 23,
    "start_time": "2022-05-07T14:54:54.856Z"
   },
   {
    "duration": 26,
    "start_time": "2022-05-07T14:54:54.881Z"
   },
   {
    "duration": 11,
    "start_time": "2022-05-07T14:54:54.909Z"
   },
   {
    "duration": 37,
    "start_time": "2022-05-07T14:54:54.921Z"
   },
   {
    "duration": 26,
    "start_time": "2022-05-07T14:54:54.960Z"
   },
   {
    "duration": 196,
    "start_time": "2022-05-07T15:18:50.178Z"
   },
   {
    "duration": 5,
    "start_time": "2022-05-07T15:27:37.445Z"
   },
   {
    "duration": 496,
    "start_time": "2022-05-07T15:28:33.643Z"
   },
   {
    "duration": 14,
    "start_time": "2022-05-07T15:28:34.141Z"
   },
   {
    "duration": 16,
    "start_time": "2022-05-07T15:28:34.156Z"
   },
   {
    "duration": 11,
    "start_time": "2022-05-07T15:28:34.174Z"
   },
   {
    "duration": 5,
    "start_time": "2022-05-07T15:28:34.186Z"
   },
   {
    "duration": 31,
    "start_time": "2022-05-07T15:28:34.192Z"
   },
   {
    "duration": 12,
    "start_time": "2022-05-07T15:28:34.225Z"
   },
   {
    "duration": 11,
    "start_time": "2022-05-07T15:28:34.239Z"
   },
   {
    "duration": 5,
    "start_time": "2022-05-07T15:28:34.251Z"
   },
   {
    "duration": 15,
    "start_time": "2022-05-07T15:28:34.260Z"
   },
   {
    "duration": 48,
    "start_time": "2022-05-07T15:28:34.276Z"
   },
   {
    "duration": 17,
    "start_time": "2022-05-07T15:28:34.325Z"
   },
   {
    "duration": 17,
    "start_time": "2022-05-07T15:28:34.343Z"
   },
   {
    "duration": 14,
    "start_time": "2022-05-07T15:28:34.362Z"
   },
   {
    "duration": 46,
    "start_time": "2022-05-07T15:28:34.378Z"
   },
   {
    "duration": 14,
    "start_time": "2022-05-07T15:28:34.425Z"
   },
   {
    "duration": 13,
    "start_time": "2022-05-07T15:28:34.441Z"
   },
   {
    "duration": 20,
    "start_time": "2022-05-07T15:28:34.456Z"
   },
   {
    "duration": 4,
    "start_time": "2022-05-07T15:28:34.478Z"
   },
   {
    "duration": 10,
    "start_time": "2022-05-07T15:28:34.484Z"
   },
   {
    "duration": 31,
    "start_time": "2022-05-07T15:28:34.496Z"
   },
   {
    "duration": 20,
    "start_time": "2022-05-07T15:28:34.528Z"
   },
   {
    "duration": 18,
    "start_time": "2022-05-07T15:28:34.549Z"
   },
   {
    "duration": 22,
    "start_time": "2022-05-07T15:28:34.568Z"
   },
   {
    "duration": 42,
    "start_time": "2022-05-07T15:28:34.591Z"
   },
   {
    "duration": 6,
    "start_time": "2022-05-07T15:28:34.635Z"
   },
   {
    "duration": 8,
    "start_time": "2022-05-07T15:28:34.643Z"
   },
   {
    "duration": 6,
    "start_time": "2022-05-07T15:28:34.654Z"
   },
   {
    "duration": 10,
    "start_time": "2022-05-07T15:28:34.661Z"
   },
   {
    "duration": 11,
    "start_time": "2022-05-07T15:28:34.672Z"
   },
   {
    "duration": 43,
    "start_time": "2022-05-07T15:28:34.685Z"
   },
   {
    "duration": 12,
    "start_time": "2022-05-07T15:28:34.730Z"
   },
   {
    "duration": 11,
    "start_time": "2022-05-07T15:28:34.744Z"
   },
   {
    "duration": 7,
    "start_time": "2022-05-07T15:28:34.756Z"
   },
   {
    "duration": 8,
    "start_time": "2022-05-07T15:28:34.765Z"
   },
   {
    "duration": 23,
    "start_time": "2022-05-07T15:28:34.775Z"
   },
   {
    "duration": 24,
    "start_time": "2022-05-07T15:28:34.799Z"
   },
   {
    "duration": 18,
    "start_time": "2022-05-07T15:28:34.824Z"
   },
   {
    "duration": 14,
    "start_time": "2022-05-07T15:28:34.843Z"
   },
   {
    "duration": 12,
    "start_time": "2022-05-07T15:28:34.858Z"
   },
   {
    "duration": 3,
    "start_time": "2022-05-07T15:28:34.872Z"
   },
   {
    "duration": 52,
    "start_time": "2022-05-07T15:28:34.876Z"
   },
   {
    "duration": 10,
    "start_time": "2022-05-07T15:28:34.930Z"
   },
   {
    "duration": 7,
    "start_time": "2022-05-07T15:28:34.942Z"
   },
   {
    "duration": 16,
    "start_time": "2022-05-07T15:28:34.950Z"
   },
   {
    "duration": 11,
    "start_time": "2022-05-07T15:28:34.968Z"
   },
   {
    "duration": 46,
    "start_time": "2022-05-07T15:28:34.981Z"
   },
   {
    "duration": 17,
    "start_time": "2022-05-07T15:28:35.029Z"
   }
  ],
  "kernelspec": {
   "display_name": "Python 3 (ipykernel)",
   "language": "python",
   "name": "python3"
  },
  "language_info": {
   "codemirror_mode": {
    "name": "ipython",
    "version": 3
   },
   "file_extension": ".py",
   "mimetype": "text/x-python",
   "name": "python",
   "nbconvert_exporter": "python",
   "pygments_lexer": "ipython3",
   "version": "3.10.9"
  },
  "toc": {
   "base_numbering": 1,
   "nav_menu": {},
   "number_sections": true,
   "sideBar": true,
   "skip_h1_title": true,
   "title_cell": "Table of Contents",
   "title_sidebar": "Contents",
   "toc_cell": false,
   "toc_position": {
    "height": "calc(100% - 180px)",
    "left": "10px",
    "top": "150px",
    "width": "322px"
   },
   "toc_section_display": true,
   "toc_window_display": true
  }
 },
 "nbformat": 4,
 "nbformat_minor": 5
}
