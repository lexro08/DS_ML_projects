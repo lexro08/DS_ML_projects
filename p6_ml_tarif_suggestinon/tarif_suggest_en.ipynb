{
 "cells": [
  {
   "cell_type": "markdown",
   "metadata": {},
   "source": [
    "# Tariff suggestions"
   ]
  },
  {
   "cell_type": "markdown",
   "metadata": {},
   "source": [
    "The mobile operator Megaline found out that many customers use archive tariffs. They want to build a system capable of analyzing customer behavior and offering users a new tariff: \"Smart\" or \"Ultra\".\n",
    "\n",
    "We have at our disposal data on the behavior of customers who have already switched to these tariffs (from the course project \"Statistical Data Analysis\"). You need to build a model for the classification task that will choose the appropriate tariff. You won't need data preprocessing — you've already done it.\n",
    "\n",
    "We need to build a model with the maximum accuracy value. To pass the project successfully, we need to bring the proportion of correct answers to at least 0.75. Check accuracy on the test sample ourself."
   ]
  },
  {
   "cell_type": "code",
   "execution_count": 1,
   "metadata": {},
   "outputs": [],
   "source": [
    "import pandas as pd\n",
    "from sklearn.tree import DecisionTreeClassifier\n",
    "from sklearn.metrics import accuracy_score\n",
    "from sklearn.model_selection import train_test_split\n",
    "from sklearn.ensemble import RandomForestClassifier\n",
    "from sklearn.linear_model import LogisticRegression"
   ]
  },
  {
   "cell_type": "markdown",
   "metadata": {},
   "source": [
    "## Откройте и изучите файл"
   ]
  },
  {
   "cell_type": "code",
   "execution_count": 2,
   "metadata": {},
   "outputs": [
    {
     "data": {
      "text/html": [
       "<div>\n",
       "<style scoped>\n",
       "    .dataframe tbody tr th:only-of-type {\n",
       "        vertical-align: middle;\n",
       "    }\n",
       "\n",
       "    .dataframe tbody tr th {\n",
       "        vertical-align: top;\n",
       "    }\n",
       "\n",
       "    .dataframe thead th {\n",
       "        text-align: right;\n",
       "    }\n",
       "</style>\n",
       "<table border=\"1\" class=\"dataframe\">\n",
       "  <thead>\n",
       "    <tr style=\"text-align: right;\">\n",
       "      <th></th>\n",
       "      <th>calls</th>\n",
       "      <th>minutes</th>\n",
       "      <th>messages</th>\n",
       "      <th>mb_used</th>\n",
       "      <th>is_ultra</th>\n",
       "    </tr>\n",
       "  </thead>\n",
       "  <tbody>\n",
       "    <tr>\n",
       "      <th>0</th>\n",
       "      <td>40.0</td>\n",
       "      <td>311.90</td>\n",
       "      <td>83.0</td>\n",
       "      <td>19915.42</td>\n",
       "      <td>0</td>\n",
       "    </tr>\n",
       "    <tr>\n",
       "      <th>1</th>\n",
       "      <td>85.0</td>\n",
       "      <td>516.75</td>\n",
       "      <td>56.0</td>\n",
       "      <td>22696.96</td>\n",
       "      <td>0</td>\n",
       "    </tr>\n",
       "    <tr>\n",
       "      <th>2</th>\n",
       "      <td>77.0</td>\n",
       "      <td>467.66</td>\n",
       "      <td>86.0</td>\n",
       "      <td>21060.45</td>\n",
       "      <td>0</td>\n",
       "    </tr>\n",
       "    <tr>\n",
       "      <th>3</th>\n",
       "      <td>106.0</td>\n",
       "      <td>745.53</td>\n",
       "      <td>81.0</td>\n",
       "      <td>8437.39</td>\n",
       "      <td>1</td>\n",
       "    </tr>\n",
       "    <tr>\n",
       "      <th>4</th>\n",
       "      <td>66.0</td>\n",
       "      <td>418.74</td>\n",
       "      <td>1.0</td>\n",
       "      <td>14502.75</td>\n",
       "      <td>0</td>\n",
       "    </tr>\n",
       "  </tbody>\n",
       "</table>\n",
       "</div>"
      ],
      "text/plain": [
       "   calls  minutes  messages   mb_used  is_ultra\n",
       "0   40.0   311.90      83.0  19915.42         0\n",
       "1   85.0   516.75      56.0  22696.96         0\n",
       "2   77.0   467.66      86.0  21060.45         0\n",
       "3  106.0   745.53      81.0   8437.39         1\n",
       "4   66.0   418.74       1.0  14502.75         0"
      ]
     },
     "execution_count": 2,
     "metadata": {},
     "output_type": "execute_result"
    }
   ],
   "source": [
    "try:\n",
    "    df = pd.read_csv('/datasets/users_behavior.csv')\n",
    "except:\n",
    "    df = pd.read_csv('users_behavior.csv')\n",
    "\n",
    "df.head()"
   ]
  },
  {
   "cell_type": "code",
   "execution_count": 3,
   "metadata": {},
   "outputs": [
    {
     "name": "stdout",
     "output_type": "stream",
     "text": [
      "<class 'pandas.core.frame.DataFrame'>\n",
      "RangeIndex: 3214 entries, 0 to 3213\n",
      "Data columns (total 5 columns):\n",
      " #   Column    Non-Null Count  Dtype  \n",
      "---  ------    --------------  -----  \n",
      " 0   calls     3214 non-null   float64\n",
      " 1   minutes   3214 non-null   float64\n",
      " 2   messages  3214 non-null   float64\n",
      " 3   mb_used   3214 non-null   float64\n",
      " 4   is_ultra  3214 non-null   int64  \n",
      "dtypes: float64(4), int64(1)\n",
      "memory usage: 125.7 KB\n"
     ]
    }
   ],
   "source": [
    "df.info()"
   ]
  },
  {
   "cell_type": "markdown",
   "metadata": {},
   "source": [
    "According to the information provided, each object in the dataset is information about the behavior of one user per month. Description:\n",
    "- calls — number of calls,\n",
    "- minutes — total duration of calls in minutes,\n",
    "- messages — number of sms messages,\n",
    "- mb_used — consumed internet traffic in MB,\n",
    "- is_ultra — what tariff was used during the month (\"Ultra\" — 1, \"Smart\" — 0)."
   ]
  },
  {
   "cell_type": "markdown",
   "metadata": {},
   "source": [
    "There are no missing values in the provided dataset. We will check the dataset for duplicates as standard."
   ]
  },
  {
   "cell_type": "code",
   "execution_count": 4,
   "metadata": {},
   "outputs": [
    {
     "data": {
      "text/plain": [
       "0"
      ]
     },
     "execution_count": 4,
     "metadata": {},
     "output_type": "execute_result"
    }
   ],
   "source": [
    "df.duplicated().sum()"
   ]
  },
  {
   "cell_type": "markdown",
   "metadata": {},
   "source": [
    "There are no obvious duplicates.\n",
    "Let's look at the general description of the datase"
   ]
  },
  {
   "cell_type": "code",
   "execution_count": 5,
   "metadata": {},
   "outputs": [
    {
     "data": {
      "text/html": [
       "<div>\n",
       "<style scoped>\n",
       "    .dataframe tbody tr th:only-of-type {\n",
       "        vertical-align: middle;\n",
       "    }\n",
       "\n",
       "    .dataframe tbody tr th {\n",
       "        vertical-align: top;\n",
       "    }\n",
       "\n",
       "    .dataframe thead th {\n",
       "        text-align: right;\n",
       "    }\n",
       "</style>\n",
       "<table border=\"1\" class=\"dataframe\">\n",
       "  <thead>\n",
       "    <tr style=\"text-align: right;\">\n",
       "      <th></th>\n",
       "      <th>calls</th>\n",
       "      <th>minutes</th>\n",
       "      <th>messages</th>\n",
       "      <th>mb_used</th>\n",
       "      <th>is_ultra</th>\n",
       "    </tr>\n",
       "  </thead>\n",
       "  <tbody>\n",
       "    <tr>\n",
       "      <th>count</th>\n",
       "      <td>3214.000000</td>\n",
       "      <td>3214.000000</td>\n",
       "      <td>3214.000000</td>\n",
       "      <td>3214.000000</td>\n",
       "      <td>3214.000000</td>\n",
       "    </tr>\n",
       "    <tr>\n",
       "      <th>mean</th>\n",
       "      <td>63.038892</td>\n",
       "      <td>438.208787</td>\n",
       "      <td>38.281269</td>\n",
       "      <td>17207.673836</td>\n",
       "      <td>0.306472</td>\n",
       "    </tr>\n",
       "    <tr>\n",
       "      <th>std</th>\n",
       "      <td>33.236368</td>\n",
       "      <td>234.569872</td>\n",
       "      <td>36.148326</td>\n",
       "      <td>7570.968246</td>\n",
       "      <td>0.461100</td>\n",
       "    </tr>\n",
       "    <tr>\n",
       "      <th>min</th>\n",
       "      <td>0.000000</td>\n",
       "      <td>0.000000</td>\n",
       "      <td>0.000000</td>\n",
       "      <td>0.000000</td>\n",
       "      <td>0.000000</td>\n",
       "    </tr>\n",
       "    <tr>\n",
       "      <th>25%</th>\n",
       "      <td>40.000000</td>\n",
       "      <td>274.575000</td>\n",
       "      <td>9.000000</td>\n",
       "      <td>12491.902500</td>\n",
       "      <td>0.000000</td>\n",
       "    </tr>\n",
       "    <tr>\n",
       "      <th>50%</th>\n",
       "      <td>62.000000</td>\n",
       "      <td>430.600000</td>\n",
       "      <td>30.000000</td>\n",
       "      <td>16943.235000</td>\n",
       "      <td>0.000000</td>\n",
       "    </tr>\n",
       "    <tr>\n",
       "      <th>75%</th>\n",
       "      <td>82.000000</td>\n",
       "      <td>571.927500</td>\n",
       "      <td>57.000000</td>\n",
       "      <td>21424.700000</td>\n",
       "      <td>1.000000</td>\n",
       "    </tr>\n",
       "    <tr>\n",
       "      <th>max</th>\n",
       "      <td>244.000000</td>\n",
       "      <td>1632.060000</td>\n",
       "      <td>224.000000</td>\n",
       "      <td>49745.730000</td>\n",
       "      <td>1.000000</td>\n",
       "    </tr>\n",
       "  </tbody>\n",
       "</table>\n",
       "</div>"
      ],
      "text/plain": [
       "             calls      minutes     messages       mb_used     is_ultra\n",
       "count  3214.000000  3214.000000  3214.000000   3214.000000  3214.000000\n",
       "mean     63.038892   438.208787    38.281269  17207.673836     0.306472\n",
       "std      33.236368   234.569872    36.148326   7570.968246     0.461100\n",
       "min       0.000000     0.000000     0.000000      0.000000     0.000000\n",
       "25%      40.000000   274.575000     9.000000  12491.902500     0.000000\n",
       "50%      62.000000   430.600000    30.000000  16943.235000     0.000000\n",
       "75%      82.000000   571.927500    57.000000  21424.700000     1.000000\n",
       "max     244.000000  1632.060000   224.000000  49745.730000     1.000000"
      ]
     },
     "execution_count": 5,
     "metadata": {},
     "output_type": "execute_result"
    }
   ],
   "source": [
    "df.describe()"
   ]
  },
  {
   "cell_type": "markdown",
   "metadata": {},
   "source": [
    "Considering that this task belongs to the classification type (offering users the most suitable tariff), then we will use the is_ultra column as the target feature (which we will predict).\n",
    "\n",
    "Let's check the is_ultra column for balance."
   ]
  },
  {
   "cell_type": "code",
   "execution_count": 6,
   "metadata": {},
   "outputs": [
    {
     "name": "stdout",
     "output_type": "stream",
     "text": [
      "is_ultra\n",
      "0    2229\n",
      "1     985\n",
      "Name: count, dtype: int64\n"
     ]
    },
    {
     "data": {
      "text/plain": [
       "<Axes: xlabel='is_ultra'>"
      ]
     },
     "execution_count": 6,
     "metadata": {},
     "output_type": "execute_result"
    },
    {
     "data": {
      "image/png": "[encoded data removed]",
      "text/plain": [
       "<Figure size 640x480 with 1 Axes>"
      ]
     },
     "metadata": {},
     "output_type": "display_data"
    }
   ],
   "source": [
    "m_lines_frequency = df['is_ultra'].value_counts()\n",
    "print(m_lines_frequency)\n",
    "m_lines_frequency.plot(kind='bar')"
   ]
  },
  {
   "cell_type": "markdown",
   "metadata": {},
   "source": [
    "It should be noted that the sample is not balanced. This factor must be taken into account when further training models."
   ]
  },
  {
   "cell_type": "markdown",
   "metadata": {},
   "source": [
    "## Data preparation"
   ]
  },
  {
   "cell_type": "markdown",
   "metadata": {},
   "source": [
    "Let's divide the current dataset into 3 samples: the main, the validation and the test one. Before that, we will designate the target and other signs."
   ]
  },
  {
   "cell_type": "code",
   "execution_count": 7,
   "metadata": {},
   "outputs": [],
   "source": [
    "features = df.drop(['is_ultra'], axis=1)\n",
    "target = df['is_ultra'] \n",
    "\n",
    "\n",
    "df_train, df_work = train_test_split(df, test_size=0.4, random_state=12345)\n",
    "\n",
    "df_valid, df_test = train_test_split(df_work, test_size=0.4, random_state=12345)"
   ]
  },
  {
   "cell_type": "markdown",
   "metadata": {},
   "source": [
    "Now we have 3 samples with target and other attributes:\n",
    "\n",
    "1) df_train - training sample for training the model (60% of the total sample)\n",
    "\n",
    "2) df_valid - validation sample for preliminary verification of models (20% of the total sample)\n",
    "\n",
    "3) df_test is a test sample, according to which we will evaluate the model finally. (20% of the total sample)"
   ]
  },
  {
   "cell_type": "markdown",
   "metadata": {},
   "source": [
    "## Model research"
   ]
  },
  {
   "cell_type": "markdown",
   "metadata": {},
   "source": [
    "For further preparation and research of models, we will create variables with target and other features for previously prepared samples."
   ]
  },
  {
   "cell_type": "code",
   "execution_count": 8,
   "metadata": {},
   "outputs": [],
   "source": [
    "features_train = df_train.drop(['is_ultra'], axis=1)\n",
    "target_train = df_train['is_ultra']\n",
    "\n",
    "features_valid = df_valid.drop(['is_ultra'], axis=1)\n",
    "target_valid = df_valid['is_ultra']\n",
    "\n",
    "features_test = df_test.drop(['is_ultra'], axis=1)\n",
    "target_test = df_test['is_ultra']\n"
   ]
  },
  {
   "cell_type": "markdown",
   "metadata": {},
   "source": [
    "Given that this is a classification task, let's consider 3 main models:\n",
    "\n",
    "- Decision tree\n",
    "- Random forest\n",
    "- Logistic regression"
   ]
  },
  {
   "cell_type": "markdown",
   "metadata": {},
   "source": [
    "**Decision tree**"
   ]
  },
  {
   "cell_type": "markdown",
   "metadata": {},
   "source": [
    "Let's check Decision tree model without 'depth' tuning."
   ]
  },
  {
   "cell_type": "code",
   "execution_count": 9,
   "metadata": {},
   "outputs": [
    {
     "name": "stdout",
     "output_type": "stream",
     "text": [
      "Accuracy\n",
      "test sample: 1.0\n",
      "validation sample: 0.7198443579766537\n"
     ]
    }
   ],
   "source": [
    "model_basic_tree = DecisionTreeClassifier(random_state=12345, class_weight='balanced')\n",
    "model_basic_tree.fit(features_train, target_train)\n",
    "\n",
    "train_pred_basic_tree = model_basic_tree.predict(features_train)\n",
    "\n",
    "valid_pred_basic_tree = model_basic_tree.predict(features_valid)\n",
    "\n",
    "print(\"Accuracy\")\n",
    "print(\"test sample:\", accuracy_score(target_train, train_pred_basic_tree))\n",
    "print(\"validation sample:\", accuracy_score(target_valid, valid_pred_basic_tree))"
   ]
  },
  {
   "cell_type": "markdown",
   "metadata": {},
   "source": [
    "The training sample gives almost 100% accuracy, while the validation sample gives an accuracy of about 70%. 30% is a big difference, so we will select the tree depth parameter for this model.\n",
    "\n",
    "Given that there are only 4 features (without a target) in the dataset, we will iterate through the depth of trees from 1 to 4 and select the most appropriate parameter."
   ]
  },
  {
   "cell_type": "code",
   "execution_count": 10,
   "metadata": {},
   "outputs": [
    {
     "name": "stdout",
     "output_type": "stream",
     "text": [
      "Accuracy of the best model: 0.7846952010376135 depth: 3\n"
     ]
    }
   ],
   "source": [
    "best_model_dt = None\n",
    "best_result_dt = 0\n",
    "for depth in range(1, 4):\n",
    "    model_depth_tree = DecisionTreeClassifier(random_state=12345, max_depth= depth, class_weight='balanced') \n",
    "    model_depth_tree.fit(features_train, target_train) \n",
    "    predictions = model_depth_tree.predict(features_valid) \n",
    "    result = accuracy_score(target_valid, predictions) \n",
    "    if result > best_result_dt:\n",
    "        best_model_dt = model_basic_tree\n",
    "        best_result_dt = result\n",
    "        \n",
    "print(\"Accuracy of the best model:\", best_result_dt,'depth:', depth)"
   ]
  },
  {
   "cell_type": "markdown",
   "metadata": {},
   "source": [
    "By increasing the depth of the tree to 3, the accuracy of the study increased by 9.2%. The gap between the training and validation samples has narrowed. Let's save the model."
   ]
  },
  {
   "cell_type": "code",
   "execution_count": 11,
   "metadata": {},
   "outputs": [
    {
     "name": "stdout",
     "output_type": "stream",
     "text": [
      "Accuracy\n",
      "test sample: 0.8054979253112033\n",
      "validation sample: 0.7808041504539559\n"
     ]
    }
   ],
   "source": [
    "model_depth_tree = DecisionTreeClassifier(random_state=12345, max_depth= 3, class_weight='balanced') \n",
    "model_depth_tree.fit(features_train, target_train)\n",
    "\n",
    "train_pred_depth = model_depth_tree.predict(features_train)\n",
    "\n",
    "valid_pred_depth = model_depth_tree.predict(features_valid)\n",
    "\n",
    "print(\"Accuracy\")\n",
    "print(\"test sample:\", accuracy_score(target_train, train_pred_depth))\n",
    "print(\"validation sample:\", accuracy_score(target_valid, valid_pred_depth))"
   ]
  },
  {
   "cell_type": "markdown",
   "metadata": {},
   "source": [
    "**Random forest**"
   ]
  },
  {
   "cell_type": "markdown",
   "metadata": {},
   "source": [
    "Let's check Random forest classifier. First of all, we should determin the appropriate number of estimators. "
   ]
  },
  {
   "cell_type": "code",
   "execution_count": 12,
   "metadata": {},
   "outputs": [
    {
     "name": "stdout",
     "output_type": "stream",
     "text": [
      "Accuracy of the best model (valid sample): 0.7769130998702983 number of trees: 10\n"
     ]
    }
   ],
   "source": [
    "best_model_rf_v0 = None\n",
    "best_result_v0 = 0\n",
    "for est in range(1, 11):\n",
    "    model = RandomForestClassifier(random_state=12345, n_estimators= est, class_weight='balanced') \n",
    "    model.fit(features_train, target_train) \n",
    "    result = model.score(features_valid, target_valid) \n",
    "    if result > best_result_v0:\n",
    "        best_model_v0 = model\n",
    "        best_result_v0 = result\n",
    "\n",
    "print(\"Accuracy of the best model (valid sample):\", best_result_v0, 'number of trees:', est)"
   ]
  },
  {
   "cell_type": "markdown",
   "metadata": {},
   "source": [
    "At this stage, it can be seen that with the maximum number of trees, the accuracy is 78%. Let's try to increase the search of the number of trees to 50. The depth of trees from 1 to 4 was also sorted."
   ]
  },
  {
   "cell_type": "code",
   "execution_count": 13,
   "metadata": {},
   "outputs": [
    {
     "name": "stdout",
     "output_type": "stream",
     "text": [
      "Accuracy of the best model (valid sample): 0.788586251621271 number of trees: 41 depth: 3\n",
      "CPU times: user 399 ms, sys: 3.93 ms, total: 403 ms\n",
      "Wall time: 402 ms\n"
     ]
    }
   ],
   "source": [
    "%%time\n",
    "best_model_v1 = None\n",
    "best_result_v1 = 0\n",
    "best_depth_v1 = 0\n",
    "for est in range(1, 51, 10):\n",
    "    for depth in range(1,4):\n",
    "        model = RandomForestClassifier(random_state=12345, n_estimators= est, max_depth = depth, class_weight='balanced') \n",
    "        model.fit(features_train, target_train) \n",
    "        result = model.score(features_valid, target_valid) \n",
    "        if result > best_result_v1:\n",
    "            best_model_v1 = model\n",
    "            best_result_v1 = result\n",
    "            best_depth_v1 = depth\n",
    "\n",
    "print(\"Accuracy of the best model (valid sample):\", best_result_v1, 'number of trees:', est, 'depth:', depth )"
   ]
  },
  {
   "cell_type": "markdown",
   "metadata": {},
   "source": [
    "The accuracy increased with an increase in the number of trees to 41 and a depth of 3. In this case, we will focus on the number of trees in the amount of 41.\n",
    "\n",
    "We will save the model for further testing."
   ]
  },
  {
   "cell_type": "code",
   "execution_count": 14,
   "metadata": {},
   "outputs": [
    {
     "name": "stdout",
     "output_type": "stream",
     "text": [
      "Accuracy\n",
      "test sample: 0.8065352697095436\n",
      "validation sample: 0.7821011673151751\n"
     ]
    }
   ],
   "source": [
    "model_rand_for = RandomForestClassifier(random_state=12345, n_estimators= 41, max_depth =3, class_weight='balanced') \n",
    "model_rand_for.fit(features_train, target_train)\n",
    "\n",
    "train_pred_rand = model_rand_for.predict(features_train)\n",
    "\n",
    "valid_pred_rand = model_rand_for.predict(features_valid)\n",
    "\n",
    "print(\"Accuracy\")\n",
    "print(\"test sample:\", accuracy_score(target_train, train_pred_rand))\n",
    "print(\"validation sample:\", accuracy_score(target_valid, valid_pred_rand))"
   ]
  },
  {
   "cell_type": "markdown",
   "metadata": {},
   "source": [
    "An increase in the number of trees also leads to an increase in accuracy in the validation sample."
   ]
  },
  {
   "cell_type": "markdown",
   "metadata": {},
   "source": [
    "**Logistic regression**"
   ]
  },
  {
   "cell_type": "code",
   "execution_count": 15,
   "metadata": {},
   "outputs": [
    {
     "name": "stdout",
     "output_type": "stream",
     "text": [
      "Accuracy\n",
      "test sample: 0.7474066390041494\n",
      "validation sample: 0.7613488975356679\n"
     ]
    }
   ],
   "source": [
    "model_log_regr = LogisticRegression(random_state=12345, solver='lbfgs', max_iter=1000) \n",
    "model_log_regr.fit(features, target)\n",
    "\n",
    "train_pred_log = model_log_regr.predict(features_train)\n",
    "valid_pred_log = model_log_regr.predict(features_valid)\n",
    "\n",
    "print(\"Accuracy\")\n",
    "print(\"test sample:\", accuracy_score(target_train, train_pred_log))\n",
    "print(\"validation sample:\", accuracy_score(target_valid, valid_pred_log))"
   ]
  },
  {
   "cell_type": "markdown",
   "metadata": {},
   "source": [
    "Prediction accuracy on logistic regression is 76%. At the same time, the accuracy for the training sample decreased.\n",
    "Let's try changing the max_iter parameter to 10000 and see how the accuracy changes."
   ]
  },
  {
   "cell_type": "code",
   "execution_count": 16,
   "metadata": {},
   "outputs": [
    {
     "name": "stdout",
     "output_type": "stream",
     "text": [
      "Accuracy\n",
      "test sample: 0.7474066390041494\n",
      "validation sample: 0.7613488975356679\n"
     ]
    }
   ],
   "source": [
    "model_log_regr_v2 = LogisticRegression(random_state=12345, solver='lbfgs', max_iter=10000) \n",
    "model_log_regr_v2.fit(features, target)\n",
    "\n",
    "train_pred_log_v2 = model_log_regr_v2.predict(features_train)\n",
    "valid_pred_log_v2 = model_log_regr_v2.predict(features_valid)\n",
    "\n",
    "print(\"Accuracy\")\n",
    "print(\"test sample:\", accuracy_score(target_train, train_pred_log_v2))\n",
    "print(\"validation sample:\", accuracy_score(target_valid, valid_pred_log_v2))"
   ]
  },
  {
   "cell_type": "markdown",
   "metadata": {},
   "source": [
    "Let's change \"solver\" - we will use \"liblinear\"."
   ]
  },
  {
   "cell_type": "code",
   "execution_count": 17,
   "metadata": {},
   "outputs": [
    {
     "name": "stdout",
     "output_type": "stream",
     "text": [
      "Accuracy\n",
      "test samle: 0.7411825726141079\n",
      "validation sample: 0.7587548638132295\n"
     ]
    }
   ],
   "source": [
    "model_log_regr_v2 = LogisticRegression(random_state=12345, solver='liblinear', max_iter=10000) \n",
    "model_log_regr_v2.fit(features, target)\n",
    "\n",
    "train_pred_log_v2 = model_log_regr_v2.predict(features_train)\n",
    "valid_pred_log_v2 = model_log_regr_v2.predict(features_valid)\n",
    "\n",
    "print(\"Accuracy\")\n",
    "print(\"test samle:\", accuracy_score(target_train, train_pred_log_v2))\n",
    "print(\"validation sample:\", accuracy_score(target_valid, valid_pred_log_v2))"
   ]
  },
  {
   "cell_type": "markdown",
   "metadata": {},
   "source": [
    "The accuracy decreased slightly on the validation sample. At this stage, we will leave the algorithm l bfgs and max_iter = 1000."
   ]
  },
  {
   "cell_type": "markdown",
   "metadata": {},
   "source": [
    "**Conslusion - best model**"
   ]
  },
  {
   "cell_type": "markdown",
   "metadata": {},
   "source": [
    "The highest accuracy in the validation sample of the random forest model with parameters n_estimators= 41, max_depth =3, class_weight='balanced'.\n",
    "\n",
    "Next, we will use it to check the test sample."
   ]
  },
  {
   "cell_type": "markdown",
   "metadata": {},
   "source": [
    "## Test check"
   ]
  },
  {
   "cell_type": "code",
   "execution_count": 18,
   "metadata": {},
   "outputs": [
    {
     "name": "stdout",
     "output_type": "stream",
     "text": [
      "Accuracy\n",
      "test sample: 0.7922330097087379\n"
     ]
    }
   ],
   "source": [
    "test_pred_depth = model_rand_for.predict(features_test)\n",
    "\n",
    "\n",
    "print(\"Accuracy\")\n",
    "print(\"test sample:\", accuracy_score(target_test, test_pred_depth))"
   ]
  },
  {
   "cell_type": "markdown",
   "metadata": {},
   "source": [
    "## Checking the model for adequacy"
   ]
  },
  {
   "cell_type": "code",
   "execution_count": 19,
   "metadata": {},
   "outputs": [
    {
     "name": "stdout",
     "output_type": "stream",
     "text": [
      "Accuracy\n",
      "train sample: 0.6924273858921162\n",
      "validation sample: 0.7029831387808041\n",
      "test sample: 0.683495145631068\n"
     ]
    }
   ],
   "source": [
    "from sklearn.dummy import DummyClassifier\n",
    "\n",
    "d_model = DummyClassifier(strategy='prior', random_state=12345)\n",
    "d_model.fit(features_train, target_train)\n",
    "\n",
    "d_train_pred = d_model.predict(features_train)\n",
    "d_valid_pred = d_model.predict(features_valid)\n",
    "d_test_pred = d_model.predict(features_test)\n",
    "\n",
    "print('Accuracy')\n",
    "print('train sample:',d_model.score(features_train, target_train))\n",
    "print('validation sample:',d_model.score(features_valid, target_valid))\n",
    "print('test sample:',d_model.score(features_test, target_test))"
   ]
  },
  {
   "cell_type": "markdown",
   "metadata": {},
   "source": [
    "## Results of the research"
   ]
  },
  {
   "cell_type": "markdown",
   "metadata": {},
   "source": [
    "Based on the conducted research, the Decision Tree models with a depth of 3 and a Forest of Trees show themselves best.\n",
    "\n",
    "The depth of the tree affects the accuracy of predictions. In this case, the greater the depth (up to a certain value) the higher the accuracy.\n",
    "\n",
    "The accuracy of the Random Forest model reaches 79%."
   ]
  }
 ],
 "metadata": {
  "ExecuteTimeLog": [
   {
    "duration": 8,
    "start_time": "2022-09-12T20:55:01.522Z"
   },
   {
    "duration": 1553,
    "start_time": "2022-09-12T20:55:50.963Z"
   },
   {
    "duration": 9,
    "start_time": "2022-09-12T21:02:33.456Z"
   },
   {
    "duration": 1424,
    "start_time": "2022-09-12T21:02:33.467Z"
   },
   {
    "duration": 147,
    "start_time": "2022-09-12T21:02:34.892Z"
   },
   {
    "duration": 0,
    "start_time": "2022-09-12T21:02:35.041Z"
   },
   {
    "duration": 0,
    "start_time": "2022-09-12T21:02:35.042Z"
   },
   {
    "duration": 0,
    "start_time": "2022-09-12T21:02:35.043Z"
   },
   {
    "duration": 0,
    "start_time": "2022-09-12T21:02:35.044Z"
   },
   {
    "duration": 0,
    "start_time": "2022-09-12T21:02:35.045Z"
   },
   {
    "duration": 0,
    "start_time": "2022-09-12T21:02:35.046Z"
   },
   {
    "duration": 0,
    "start_time": "2022-09-12T21:02:35.048Z"
   },
   {
    "duration": 0,
    "start_time": "2022-09-12T21:02:35.049Z"
   },
   {
    "duration": 0,
    "start_time": "2022-09-12T21:02:35.050Z"
   },
   {
    "duration": 0,
    "start_time": "2022-09-12T21:02:35.051Z"
   },
   {
    "duration": 0,
    "start_time": "2022-09-12T21:02:35.052Z"
   },
   {
    "duration": 0,
    "start_time": "2022-09-12T21:02:35.053Z"
   },
   {
    "duration": 0,
    "start_time": "2022-09-12T21:02:35.054Z"
   },
   {
    "duration": 0,
    "start_time": "2022-09-12T21:02:35.055Z"
   },
   {
    "duration": 0,
    "start_time": "2022-09-12T21:02:35.077Z"
   },
   {
    "duration": 0,
    "start_time": "2022-09-12T21:02:35.078Z"
   },
   {
    "duration": 0,
    "start_time": "2022-09-12T21:02:35.079Z"
   },
   {
    "duration": 0,
    "start_time": "2022-09-12T21:02:35.080Z"
   },
   {
    "duration": 0,
    "start_time": "2022-09-12T21:02:35.080Z"
   },
   {
    "duration": 39,
    "start_time": "2022-09-12T21:03:55.878Z"
   },
   {
    "duration": 8,
    "start_time": "2022-09-12T21:05:25.932Z"
   },
   {
    "duration": 1536,
    "start_time": "2022-09-12T21:05:25.941Z"
   },
   {
    "duration": 2,
    "start_time": "2022-09-12T21:05:27.479Z"
   },
   {
    "duration": 33,
    "start_time": "2022-09-12T21:05:27.483Z"
   },
   {
    "duration": 11,
    "start_time": "2022-09-12T21:05:27.517Z"
   },
   {
    "duration": 12,
    "start_time": "2022-09-12T21:05:27.529Z"
   },
   {
    "duration": 22,
    "start_time": "2022-09-12T21:05:27.542Z"
   },
   {
    "duration": 11,
    "start_time": "2022-09-12T21:05:27.566Z"
   },
   {
    "duration": 7,
    "start_time": "2022-09-12T21:05:27.579Z"
   },
   {
    "duration": 24,
    "start_time": "2022-09-12T21:05:27.588Z"
   },
   {
    "duration": 16,
    "start_time": "2022-09-12T21:05:27.614Z"
   },
   {
    "duration": 12,
    "start_time": "2022-09-12T21:05:27.632Z"
   },
   {
    "duration": 252,
    "start_time": "2022-09-12T21:05:27.646Z"
   },
   {
    "duration": 410,
    "start_time": "2022-09-12T21:05:27.899Z"
   },
   {
    "duration": 174,
    "start_time": "2022-09-12T21:05:28.311Z"
   },
   {
    "duration": 390,
    "start_time": "2022-09-12T21:05:28.486Z"
   },
   {
    "duration": 407,
    "start_time": "2022-09-12T21:05:28.879Z"
   },
   {
    "duration": 106,
    "start_time": "2022-09-12T21:05:29.377Z"
   },
   {
    "duration": 6,
    "start_time": "2022-09-12T21:05:29.484Z"
   },
   {
    "duration": 10,
    "start_time": "2022-09-12T21:05:29.491Z"
   },
   {
    "duration": 20,
    "start_time": "2022-09-12T21:05:29.502Z"
   },
   {
    "duration": 6,
    "start_time": "2022-09-12T21:05:29.524Z"
   },
   {
    "duration": 7,
    "start_time": "2022-09-12T21:05:29.532Z"
   },
   {
    "duration": 4,
    "start_time": "2022-09-12T21:07:30.801Z"
   },
   {
    "duration": 4,
    "start_time": "2022-09-12T21:08:19.728Z"
   },
   {
    "duration": 6,
    "start_time": "2022-09-12T21:08:54.672Z"
   },
   {
    "duration": 5,
    "start_time": "2022-09-12T21:09:04.089Z"
   },
   {
    "duration": 6,
    "start_time": "2022-09-12T21:09:19.960Z"
   },
   {
    "duration": 6,
    "start_time": "2022-09-12T21:10:31.927Z"
   },
   {
    "duration": 9,
    "start_time": "2022-09-13T18:08:57.648Z"
   },
   {
    "duration": 1148,
    "start_time": "2022-09-13T18:08:57.659Z"
   },
   {
    "duration": 146,
    "start_time": "2022-09-13T18:08:58.809Z"
   },
   {
    "duration": 0,
    "start_time": "2022-09-13T18:08:58.958Z"
   },
   {
    "duration": 0,
    "start_time": "2022-09-13T18:08:58.959Z"
   },
   {
    "duration": 0,
    "start_time": "2022-09-13T18:08:58.960Z"
   },
   {
    "duration": 0,
    "start_time": "2022-09-13T18:08:58.961Z"
   },
   {
    "duration": 0,
    "start_time": "2022-09-13T18:08:58.962Z"
   },
   {
    "duration": 0,
    "start_time": "2022-09-13T18:08:58.963Z"
   },
   {
    "duration": 0,
    "start_time": "2022-09-13T18:08:58.965Z"
   },
   {
    "duration": 0,
    "start_time": "2022-09-13T18:08:58.965Z"
   },
   {
    "duration": 0,
    "start_time": "2022-09-13T18:08:58.966Z"
   },
   {
    "duration": 0,
    "start_time": "2022-09-13T18:08:58.968Z"
   },
   {
    "duration": 0,
    "start_time": "2022-09-13T18:08:58.969Z"
   },
   {
    "duration": 0,
    "start_time": "2022-09-13T18:08:58.970Z"
   },
   {
    "duration": 0,
    "start_time": "2022-09-13T18:08:58.971Z"
   },
   {
    "duration": 0,
    "start_time": "2022-09-13T18:08:58.989Z"
   },
   {
    "duration": 0,
    "start_time": "2022-09-13T18:08:58.990Z"
   },
   {
    "duration": 0,
    "start_time": "2022-09-13T18:08:58.992Z"
   },
   {
    "duration": 0,
    "start_time": "2022-09-13T18:08:58.993Z"
   },
   {
    "duration": 0,
    "start_time": "2022-09-13T18:08:58.994Z"
   },
   {
    "duration": 0,
    "start_time": "2022-09-13T18:08:58.994Z"
   },
   {
    "duration": 3,
    "start_time": "2022-09-13T18:26:05.890Z"
   },
   {
    "duration": 73,
    "start_time": "2022-09-13T18:26:41.381Z"
   },
   {
    "duration": 10,
    "start_time": "2022-09-13T18:26:49.041Z"
   },
   {
    "duration": 1230,
    "start_time": "2022-09-13T18:26:49.053Z"
   },
   {
    "duration": 44,
    "start_time": "2022-09-13T18:26:50.285Z"
   },
   {
    "duration": 12,
    "start_time": "2022-09-13T18:26:50.331Z"
   },
   {
    "duration": 8,
    "start_time": "2022-09-13T18:26:50.345Z"
   },
   {
    "duration": 23,
    "start_time": "2022-09-13T18:26:50.355Z"
   },
   {
    "duration": 13,
    "start_time": "2022-09-13T18:26:50.379Z"
   },
   {
    "duration": 7,
    "start_time": "2022-09-13T18:26:50.394Z"
   },
   {
    "duration": 25,
    "start_time": "2022-09-13T18:26:50.402Z"
   },
   {
    "duration": 17,
    "start_time": "2022-09-13T18:26:50.429Z"
   },
   {
    "duration": 11,
    "start_time": "2022-09-13T18:26:50.447Z"
   },
   {
    "duration": 282,
    "start_time": "2022-09-13T18:26:50.460Z"
   },
   {
    "duration": 440,
    "start_time": "2022-09-13T18:26:50.744Z"
   },
   {
    "duration": 182,
    "start_time": "2022-09-13T18:26:51.186Z"
   },
   {
    "duration": 623,
    "start_time": "2022-09-13T18:26:51.370Z"
   },
   {
    "duration": 595,
    "start_time": "2022-09-13T18:26:51.996Z"
   },
   {
    "duration": 109,
    "start_time": "2022-09-13T18:26:52.593Z"
   },
   {
    "duration": 5,
    "start_time": "2022-09-13T18:26:52.704Z"
   },
   {
    "duration": 8,
    "start_time": "2022-09-13T18:26:52.711Z"
   },
   {
    "duration": 14,
    "start_time": "2022-09-13T18:26:52.720Z"
   },
   {
    "duration": 6,
    "start_time": "2022-09-13T18:26:52.735Z"
   },
   {
    "duration": 10,
    "start_time": "2022-09-13T18:26:52.742Z"
   },
   {
    "duration": 103,
    "start_time": "2022-09-13T18:55:39.503Z"
   },
   {
    "duration": 10,
    "start_time": "2022-09-13T18:55:56.552Z"
   },
   {
    "duration": 19,
    "start_time": "2022-09-13T18:57:24.270Z"
   },
   {
    "duration": 255,
    "start_time": "2022-09-13T18:58:32.442Z"
   },
   {
    "duration": 456,
    "start_time": "2022-09-13T18:59:04.663Z"
   },
   {
    "duration": 444,
    "start_time": "2022-09-13T19:00:14.033Z"
   },
   {
    "duration": 10,
    "start_time": "2022-09-13T19:08:07.509Z"
   },
   {
    "duration": 1164,
    "start_time": "2022-09-13T19:08:07.521Z"
   },
   {
    "duration": 40,
    "start_time": "2022-09-13T19:08:08.687Z"
   },
   {
    "duration": 11,
    "start_time": "2022-09-13T19:08:08.730Z"
   },
   {
    "duration": 14,
    "start_time": "2022-09-13T19:08:08.743Z"
   },
   {
    "duration": 24,
    "start_time": "2022-09-13T19:08:08.758Z"
   },
   {
    "duration": 8,
    "start_time": "2022-09-13T19:08:08.784Z"
   },
   {
    "duration": 10,
    "start_time": "2022-09-13T19:08:08.793Z"
   },
   {
    "duration": 19,
    "start_time": "2022-09-13T19:08:08.805Z"
   },
   {
    "duration": 125,
    "start_time": "2022-09-13T19:08:08.826Z"
   },
   {
    "duration": 0,
    "start_time": "2022-09-13T19:08:08.952Z"
   },
   {
    "duration": 0,
    "start_time": "2022-09-13T19:08:08.953Z"
   },
   {
    "duration": 0,
    "start_time": "2022-09-13T19:08:08.954Z"
   },
   {
    "duration": 0,
    "start_time": "2022-09-13T19:08:08.956Z"
   },
   {
    "duration": 0,
    "start_time": "2022-09-13T19:08:08.957Z"
   },
   {
    "duration": 0,
    "start_time": "2022-09-13T19:08:08.957Z"
   },
   {
    "duration": 0,
    "start_time": "2022-09-13T19:08:08.958Z"
   },
   {
    "duration": 0,
    "start_time": "2022-09-13T19:08:08.959Z"
   },
   {
    "duration": 0,
    "start_time": "2022-09-13T19:08:08.960Z"
   },
   {
    "duration": 0,
    "start_time": "2022-09-13T19:08:08.961Z"
   },
   {
    "duration": 0,
    "start_time": "2022-09-13T19:08:08.962Z"
   },
   {
    "duration": 0,
    "start_time": "2022-09-13T19:08:08.963Z"
   },
   {
    "duration": 15,
    "start_time": "2022-09-13T19:08:53.753Z"
   },
   {
    "duration": 16,
    "start_time": "2022-09-13T19:09:17.922Z"
   },
   {
    "duration": 8,
    "start_time": "2022-09-13T19:09:41.247Z"
   },
   {
    "duration": 1173,
    "start_time": "2022-09-13T19:09:41.257Z"
   },
   {
    "duration": 42,
    "start_time": "2022-09-13T19:09:42.432Z"
   },
   {
    "duration": 12,
    "start_time": "2022-09-13T19:09:42.476Z"
   },
   {
    "duration": 8,
    "start_time": "2022-09-13T19:09:42.491Z"
   },
   {
    "duration": 26,
    "start_time": "2022-09-13T19:09:42.500Z"
   },
   {
    "duration": 6,
    "start_time": "2022-09-13T19:09:42.527Z"
   },
   {
    "duration": 6,
    "start_time": "2022-09-13T19:09:42.535Z"
   },
   {
    "duration": 23,
    "start_time": "2022-09-13T19:09:42.543Z"
   },
   {
    "duration": 134,
    "start_time": "2022-09-13T19:09:42.567Z"
   },
   {
    "duration": 0,
    "start_time": "2022-09-13T19:09:42.703Z"
   },
   {
    "duration": 0,
    "start_time": "2022-09-13T19:09:42.704Z"
   },
   {
    "duration": 0,
    "start_time": "2022-09-13T19:09:42.706Z"
   },
   {
    "duration": 0,
    "start_time": "2022-09-13T19:09:42.707Z"
   },
   {
    "duration": 0,
    "start_time": "2022-09-13T19:09:42.708Z"
   },
   {
    "duration": 0,
    "start_time": "2022-09-13T19:09:42.710Z"
   },
   {
    "duration": 0,
    "start_time": "2022-09-13T19:09:42.711Z"
   },
   {
    "duration": 0,
    "start_time": "2022-09-13T19:09:42.712Z"
   },
   {
    "duration": 0,
    "start_time": "2022-09-13T19:09:42.713Z"
   },
   {
    "duration": 0,
    "start_time": "2022-09-13T19:09:42.715Z"
   },
   {
    "duration": 0,
    "start_time": "2022-09-13T19:09:42.716Z"
   },
   {
    "duration": 0,
    "start_time": "2022-09-13T19:09:42.717Z"
   },
   {
    "duration": 19,
    "start_time": "2022-09-13T19:10:21.968Z"
   },
   {
    "duration": 4,
    "start_time": "2022-09-13T19:10:35.289Z"
   },
   {
    "duration": 4,
    "start_time": "2022-09-13T19:10:35.299Z"
   },
   {
    "duration": 39,
    "start_time": "2022-09-13T19:10:35.305Z"
   },
   {
    "duration": 11,
    "start_time": "2022-09-13T19:10:35.346Z"
   },
   {
    "duration": 9,
    "start_time": "2022-09-13T19:10:35.359Z"
   },
   {
    "duration": 30,
    "start_time": "2022-09-13T19:10:35.370Z"
   },
   {
    "duration": 8,
    "start_time": "2022-09-13T19:10:35.403Z"
   },
   {
    "duration": 10,
    "start_time": "2022-09-13T19:10:35.412Z"
   },
   {
    "duration": 21,
    "start_time": "2022-09-13T19:10:35.424Z"
   },
   {
    "duration": 14,
    "start_time": "2022-09-13T19:10:35.447Z"
   },
   {
    "duration": 20,
    "start_time": "2022-09-13T19:10:51.284Z"
   },
   {
    "duration": 12,
    "start_time": "2022-09-13T19:11:05.712Z"
   },
   {
    "duration": 275,
    "start_time": "2022-09-13T19:11:30.248Z"
   },
   {
    "duration": 432,
    "start_time": "2022-09-13T19:12:00.806Z"
   },
   {
    "duration": 9,
    "start_time": "2022-09-13T19:12:13.723Z"
   },
   {
    "duration": 1059,
    "start_time": "2022-09-13T19:12:13.735Z"
   },
   {
    "duration": 41,
    "start_time": "2022-09-13T19:12:14.796Z"
   },
   {
    "duration": 11,
    "start_time": "2022-09-13T19:12:14.838Z"
   },
   {
    "duration": 9,
    "start_time": "2022-09-13T19:12:14.851Z"
   },
   {
    "duration": 22,
    "start_time": "2022-09-13T19:12:14.861Z"
   },
   {
    "duration": 8,
    "start_time": "2022-09-13T19:12:14.884Z"
   },
   {
    "duration": 6,
    "start_time": "2022-09-13T19:12:14.894Z"
   },
   {
    "duration": 21,
    "start_time": "2022-09-13T19:12:14.901Z"
   },
   {
    "duration": 20,
    "start_time": "2022-09-13T19:12:14.924Z"
   },
   {
    "duration": 12,
    "start_time": "2022-09-13T19:12:14.946Z"
   },
   {
    "duration": 289,
    "start_time": "2022-09-13T19:12:14.989Z"
   },
   {
    "duration": 449,
    "start_time": "2022-09-13T19:12:15.280Z"
   },
   {
    "duration": 187,
    "start_time": "2022-09-13T19:12:15.732Z"
   },
   {
    "duration": 477,
    "start_time": "2022-09-13T19:12:15.921Z"
   },
   {
    "duration": 608,
    "start_time": "2022-09-13T19:12:16.490Z"
   },
   {
    "duration": 19,
    "start_time": "2022-09-13T19:12:17.189Z"
   },
   {
    "duration": 6,
    "start_time": "2022-09-13T19:12:17.209Z"
   },
   {
    "duration": 10,
    "start_time": "2022-09-13T19:12:17.217Z"
   },
   {
    "duration": 16,
    "start_time": "2022-09-13T19:12:17.229Z"
   },
   {
    "duration": 6,
    "start_time": "2022-09-13T19:12:17.247Z"
   },
   {
    "duration": 40,
    "start_time": "2022-09-13T19:12:17.254Z"
   },
   {
    "duration": 9,
    "start_time": "2022-09-13T19:27:14.246Z"
   },
   {
    "duration": 1186,
    "start_time": "2022-09-13T19:27:14.257Z"
   },
   {
    "duration": 44,
    "start_time": "2022-09-13T19:27:15.445Z"
   },
   {
    "duration": 11,
    "start_time": "2022-09-13T19:27:15.491Z"
   },
   {
    "duration": 8,
    "start_time": "2022-09-13T19:27:15.504Z"
   },
   {
    "duration": 24,
    "start_time": "2022-09-13T19:27:15.513Z"
   },
   {
    "duration": 6,
    "start_time": "2022-09-13T19:27:15.539Z"
   },
   {
    "duration": 5,
    "start_time": "2022-09-13T19:27:15.547Z"
   },
   {
    "duration": 50,
    "start_time": "2022-09-13T19:27:15.554Z"
   },
   {
    "duration": 20,
    "start_time": "2022-09-13T19:27:15.606Z"
   },
   {
    "duration": 13,
    "start_time": "2022-09-13T19:27:15.627Z"
   },
   {
    "duration": 296,
    "start_time": "2022-09-13T19:27:15.641Z"
   },
   {
    "duration": 452,
    "start_time": "2022-09-13T19:27:15.938Z"
   },
   {
    "duration": 213,
    "start_time": "2022-09-13T19:27:16.393Z"
   },
   {
    "duration": 1188,
    "start_time": "2022-09-13T19:27:16.608Z"
   },
   {
    "duration": 1298,
    "start_time": "2022-09-13T19:27:17.799Z"
   },
   {
    "duration": 104,
    "start_time": "2022-09-13T19:27:19.099Z"
   },
   {
    "duration": 6,
    "start_time": "2022-09-13T19:27:19.205Z"
   },
   {
    "duration": 11,
    "start_time": "2022-09-13T19:27:19.213Z"
   },
   {
    "duration": 9,
    "start_time": "2022-09-13T19:36:10.048Z"
   },
   {
    "duration": 9,
    "start_time": "2022-09-13T19:45:24.307Z"
   },
   {
    "duration": 1102,
    "start_time": "2022-09-13T19:45:24.321Z"
   },
   {
    "duration": 44,
    "start_time": "2022-09-13T19:45:25.425Z"
   },
   {
    "duration": 11,
    "start_time": "2022-09-13T19:45:25.470Z"
   },
   {
    "duration": 9,
    "start_time": "2022-09-13T19:45:25.483Z"
   },
   {
    "duration": 24,
    "start_time": "2022-09-13T19:45:25.494Z"
   },
   {
    "duration": 6,
    "start_time": "2022-09-13T19:45:25.520Z"
   },
   {
    "duration": 15,
    "start_time": "2022-09-13T19:45:25.527Z"
   },
   {
    "duration": 21,
    "start_time": "2022-09-13T19:45:25.544Z"
   },
   {
    "duration": 33,
    "start_time": "2022-09-13T19:45:25.567Z"
   },
   {
    "duration": 12,
    "start_time": "2022-09-13T19:45:25.601Z"
   },
   {
    "duration": 264,
    "start_time": "2022-09-13T19:45:25.614Z"
   },
   {
    "duration": 420,
    "start_time": "2022-09-13T19:45:25.880Z"
   },
   {
    "duration": 180,
    "start_time": "2022-09-13T19:45:26.302Z"
   },
   {
    "duration": 604,
    "start_time": "2022-09-13T19:45:26.490Z"
   },
   {
    "duration": 701,
    "start_time": "2022-09-13T19:45:27.097Z"
   },
   {
    "duration": 19,
    "start_time": "2022-09-13T19:45:27.890Z"
   },
   {
    "duration": 6,
    "start_time": "2022-09-13T19:45:27.989Z"
   },
   {
    "duration": 10,
    "start_time": "2022-09-13T19:45:27.997Z"
   },
   {
    "duration": 10,
    "start_time": "2022-09-13T19:51:52.101Z"
   },
   {
    "duration": 1097,
    "start_time": "2022-09-13T19:51:52.113Z"
   },
   {
    "duration": 43,
    "start_time": "2022-09-13T19:51:53.211Z"
   },
   {
    "duration": 12,
    "start_time": "2022-09-13T19:51:53.256Z"
   },
   {
    "duration": 7,
    "start_time": "2022-09-13T19:51:53.269Z"
   },
   {
    "duration": 23,
    "start_time": "2022-09-13T19:51:53.278Z"
   },
   {
    "duration": 6,
    "start_time": "2022-09-13T19:51:53.303Z"
   },
   {
    "duration": 12,
    "start_time": "2022-09-13T19:51:53.310Z"
   },
   {
    "duration": 20,
    "start_time": "2022-09-13T19:51:53.323Z"
   },
   {
    "duration": 19,
    "start_time": "2022-09-13T19:51:53.346Z"
   },
   {
    "duration": 32,
    "start_time": "2022-09-13T19:51:53.367Z"
   },
   {
    "duration": 263,
    "start_time": "2022-09-13T19:51:53.401Z"
   },
   {
    "duration": 426,
    "start_time": "2022-09-13T19:51:53.665Z"
   },
   {
    "duration": 181,
    "start_time": "2022-09-13T19:51:54.092Z"
   },
   {
    "duration": 514,
    "start_time": "2022-09-13T19:51:54.275Z"
   },
   {
    "duration": 704,
    "start_time": "2022-09-13T19:51:54.792Z"
   },
   {
    "duration": 104,
    "start_time": "2022-09-13T19:51:55.500Z"
   },
   {
    "duration": 6,
    "start_time": "2022-09-13T19:51:55.607Z"
   },
   {
    "duration": 10,
    "start_time": "2022-09-13T19:51:55.614Z"
   },
   {
    "duration": 274,
    "start_time": "2022-09-13T19:53:06.197Z"
   },
   {
    "duration": 8,
    "start_time": "2022-09-13T19:53:33.658Z"
   },
   {
    "duration": 1156,
    "start_time": "2022-09-13T19:53:33.668Z"
   },
   {
    "duration": 44,
    "start_time": "2022-09-13T19:53:34.825Z"
   },
   {
    "duration": 12,
    "start_time": "2022-09-13T19:53:34.871Z"
   },
   {
    "duration": 10,
    "start_time": "2022-09-13T19:53:34.885Z"
   },
   {
    "duration": 26,
    "start_time": "2022-09-13T19:53:34.897Z"
   },
   {
    "duration": 8,
    "start_time": "2022-09-13T19:53:34.924Z"
   },
   {
    "duration": 11,
    "start_time": "2022-09-13T19:53:34.933Z"
   },
   {
    "duration": 23,
    "start_time": "2022-09-13T19:53:34.945Z"
   },
   {
    "duration": 33,
    "start_time": "2022-09-13T19:53:34.971Z"
   },
   {
    "duration": 13,
    "start_time": "2022-09-13T19:53:35.006Z"
   },
   {
    "duration": 300,
    "start_time": "2022-09-13T19:53:35.021Z"
   },
   {
    "duration": 467,
    "start_time": "2022-09-13T19:53:35.323Z"
   },
   {
    "duration": 201,
    "start_time": "2022-09-13T19:53:35.792Z"
   },
   {
    "duration": 1095,
    "start_time": "2022-09-13T19:53:35.995Z"
   },
   {
    "duration": 498,
    "start_time": "2022-09-13T19:53:37.092Z"
   },
   {
    "duration": 109,
    "start_time": "2022-09-13T19:53:37.593Z"
   },
   {
    "duration": 8,
    "start_time": "2022-09-13T19:53:37.704Z"
   },
   {
    "duration": 9,
    "start_time": "2022-09-13T19:53:37.714Z"
   },
   {
    "duration": 11,
    "start_time": "2022-09-14T05:45:48.434Z"
   },
   {
    "duration": 1336,
    "start_time": "2022-09-14T05:45:48.447Z"
   },
   {
    "duration": 80,
    "start_time": "2022-09-14T05:45:49.785Z"
   },
   {
    "duration": 11,
    "start_time": "2022-09-14T05:45:49.868Z"
   },
   {
    "duration": 11,
    "start_time": "2022-09-14T05:45:49.880Z"
   },
   {
    "duration": 23,
    "start_time": "2022-09-14T05:45:49.893Z"
   },
   {
    "duration": 7,
    "start_time": "2022-09-14T05:45:49.918Z"
   },
   {
    "duration": 7,
    "start_time": "2022-09-14T05:45:49.926Z"
   },
   {
    "duration": 25,
    "start_time": "2022-09-14T05:45:49.935Z"
   },
   {
    "duration": 39,
    "start_time": "2022-09-14T05:45:49.963Z"
   },
   {
    "duration": 12,
    "start_time": "2022-09-14T05:45:50.004Z"
   },
   {
    "duration": 264,
    "start_time": "2022-09-14T05:45:50.017Z"
   },
   {
    "duration": 458,
    "start_time": "2022-09-14T05:45:50.283Z"
   },
   {
    "duration": 208,
    "start_time": "2022-09-14T05:45:50.743Z"
   },
   {
    "duration": 448,
    "start_time": "2022-09-14T05:45:50.953Z"
   },
   {
    "duration": 495,
    "start_time": "2022-09-14T05:45:51.403Z"
   },
   {
    "duration": 107,
    "start_time": "2022-09-14T05:45:51.900Z"
   },
   {
    "duration": 6,
    "start_time": "2022-09-14T05:45:52.009Z"
   },
   {
    "duration": 12,
    "start_time": "2022-09-14T05:45:52.016Z"
   },
   {
    "duration": 132,
    "start_time": "2022-09-14T17:40:44.712Z"
   },
   {
    "duration": 167,
    "start_time": "2022-09-14T17:40:48.943Z"
   },
   {
    "duration": 46,
    "start_time": "2022-09-14T17:43:51.922Z"
   },
   {
    "duration": 10,
    "start_time": "2022-09-14T17:44:03.533Z"
   },
   {
    "duration": 1125,
    "start_time": "2022-09-14T17:44:03.546Z"
   },
   {
    "duration": 126,
    "start_time": "2022-09-14T17:44:04.673Z"
   },
   {
    "duration": 12,
    "start_time": "2022-09-14T17:44:04.801Z"
   },
   {
    "duration": 9,
    "start_time": "2022-09-14T17:44:04.815Z"
   },
   {
    "duration": 26,
    "start_time": "2022-09-14T17:44:04.825Z"
   },
   {
    "duration": 7,
    "start_time": "2022-09-14T17:44:04.853Z"
   },
   {
    "duration": 22,
    "start_time": "2022-09-14T17:44:04.862Z"
   },
   {
    "duration": 35,
    "start_time": "2022-09-14T17:44:04.886Z"
   },
   {
    "duration": 21,
    "start_time": "2022-09-14T17:44:04.922Z"
   },
   {
    "duration": 13,
    "start_time": "2022-09-14T17:44:04.945Z"
   },
   {
    "duration": 303,
    "start_time": "2022-09-14T17:44:04.961Z"
   },
   {
    "duration": 464,
    "start_time": "2022-09-14T17:44:05.266Z"
   },
   {
    "duration": 120,
    "start_time": "2022-09-14T17:44:05.732Z"
   },
   {
    "duration": 367,
    "start_time": "2022-09-14T17:44:05.854Z"
   },
   {
    "duration": 1098,
    "start_time": "2022-09-14T17:44:06.223Z"
   },
   {
    "duration": 21,
    "start_time": "2022-09-14T17:44:07.322Z"
   },
   {
    "duration": 7,
    "start_time": "2022-09-14T17:44:07.345Z"
   },
   {
    "duration": 10,
    "start_time": "2022-09-14T17:44:07.353Z"
   },
   {
    "duration": 128,
    "start_time": "2022-09-14T17:46:01.601Z"
   },
   {
    "duration": 107,
    "start_time": "2022-09-14T17:46:06.861Z"
   },
   {
    "duration": 120,
    "start_time": "2022-09-14T17:46:10.774Z"
   },
   {
    "duration": 97,
    "start_time": "2022-09-14T17:49:02.941Z"
   },
   {
    "duration": 117,
    "start_time": "2022-09-14T17:49:06.024Z"
   },
   {
    "duration": 116,
    "start_time": "2022-09-14T17:49:09.292Z"
   },
   {
    "duration": 662,
    "start_time": "2022-09-14T17:53:55.475Z"
   },
   {
    "duration": 13,
    "start_time": "2022-09-14T17:55:07.119Z"
   },
   {
    "duration": 1164,
    "start_time": "2022-09-14T17:55:07.135Z"
   },
   {
    "duration": 44,
    "start_time": "2022-09-14T17:55:08.301Z"
   },
   {
    "duration": 11,
    "start_time": "2022-09-14T17:55:08.347Z"
   },
   {
    "duration": 15,
    "start_time": "2022-09-14T17:55:08.360Z"
   },
   {
    "duration": 26,
    "start_time": "2022-09-14T17:55:08.377Z"
   },
   {
    "duration": 24,
    "start_time": "2022-09-14T17:55:08.405Z"
   },
   {
    "duration": 8,
    "start_time": "2022-09-14T17:55:08.431Z"
   },
   {
    "duration": 23,
    "start_time": "2022-09-14T17:55:08.440Z"
   },
   {
    "duration": 20,
    "start_time": "2022-09-14T17:55:08.466Z"
   },
   {
    "duration": 44,
    "start_time": "2022-09-14T17:55:08.488Z"
   },
   {
    "duration": 294,
    "start_time": "2022-09-14T17:55:08.534Z"
   },
   {
    "duration": 748,
    "start_time": "2022-09-14T17:55:08.830Z"
   },
   {
    "duration": 142,
    "start_time": "2022-09-14T17:55:09.580Z"
   },
   {
    "duration": 1202,
    "start_time": "2022-09-14T17:55:09.724Z"
   },
   {
    "duration": 492,
    "start_time": "2022-09-14T17:55:10.928Z"
   },
   {
    "duration": 107,
    "start_time": "2022-09-14T17:55:11.422Z"
   },
   {
    "duration": 8,
    "start_time": "2022-09-14T17:55:11.531Z"
   },
   {
    "duration": 41,
    "start_time": "2022-09-14T17:55:11.541Z"
   },
   {
    "duration": 1031,
    "start_time": "2022-09-14T17:56:08.208Z"
   },
   {
    "duration": 2479,
    "start_time": "2022-09-14T17:56:23.411Z"
   },
   {
    "duration": 157,
    "start_time": "2022-09-14T17:56:51.706Z"
   },
   {
    "duration": 669,
    "start_time": "2022-09-14T18:16:05.828Z"
   },
   {
    "duration": 104,
    "start_time": "2022-09-14T18:16:28.324Z"
   },
   {
    "duration": 9,
    "start_time": "2022-09-14T18:16:47.579Z"
   },
   {
    "duration": 1202,
    "start_time": "2022-09-14T18:16:47.597Z"
   },
   {
    "duration": 46,
    "start_time": "2022-09-14T18:16:48.801Z"
   },
   {
    "duration": 23,
    "start_time": "2022-09-14T18:16:48.850Z"
   },
   {
    "duration": 37,
    "start_time": "2022-09-14T18:16:48.876Z"
   },
   {
    "duration": 28,
    "start_time": "2022-09-14T18:16:48.915Z"
   },
   {
    "duration": 9,
    "start_time": "2022-09-14T18:16:48.946Z"
   },
   {
    "duration": 30,
    "start_time": "2022-09-14T18:16:48.957Z"
   },
   {
    "duration": 42,
    "start_time": "2022-09-14T18:16:48.990Z"
   },
   {
    "duration": 25,
    "start_time": "2022-09-14T18:16:49.035Z"
   },
   {
    "duration": 17,
    "start_time": "2022-09-14T18:16:49.064Z"
   },
   {
    "duration": 320,
    "start_time": "2022-09-14T18:16:49.084Z"
   },
   {
    "duration": 655,
    "start_time": "2022-09-14T18:16:49.406Z"
   },
   {
    "duration": 111,
    "start_time": "2022-09-14T18:16:50.063Z"
   },
   {
    "duration": 950,
    "start_time": "2022-09-14T18:16:50.176Z"
   },
   {
    "duration": 1393,
    "start_time": "2022-09-14T18:16:51.129Z"
   },
   {
    "duration": 107,
    "start_time": "2022-09-14T18:16:52.524Z"
   },
   {
    "duration": 7,
    "start_time": "2022-09-14T18:16:52.633Z"
   },
   {
    "duration": 15,
    "start_time": "2022-09-14T18:16:52.643Z"
   },
   {
    "duration": 10,
    "start_time": "2022-09-14T18:33:09.294Z"
   },
   {
    "duration": 1207,
    "start_time": "2022-09-14T18:33:09.308Z"
   },
   {
    "duration": 44,
    "start_time": "2022-09-14T18:33:10.517Z"
   },
   {
    "duration": 12,
    "start_time": "2022-09-14T18:33:10.563Z"
   },
   {
    "duration": 10,
    "start_time": "2022-09-14T18:33:10.577Z"
   },
   {
    "duration": 24,
    "start_time": "2022-09-14T18:33:10.589Z"
   },
   {
    "duration": 10,
    "start_time": "2022-09-14T18:33:10.615Z"
   },
   {
    "duration": 6,
    "start_time": "2022-09-14T18:33:10.626Z"
   },
   {
    "duration": 20,
    "start_time": "2022-09-14T18:33:10.634Z"
   },
   {
    "duration": 19,
    "start_time": "2022-09-14T18:33:10.656Z"
   },
   {
    "duration": 13,
    "start_time": "2022-09-14T18:33:10.677Z"
   },
   {
    "duration": 272,
    "start_time": "2022-09-14T18:33:10.721Z"
   },
   {
    "duration": 676,
    "start_time": "2022-09-14T18:33:10.995Z"
   },
   {
    "duration": 137,
    "start_time": "2022-09-14T18:33:11.673Z"
   },
   {
    "duration": 612,
    "start_time": "2022-09-14T18:33:11.812Z"
   },
   {
    "duration": 598,
    "start_time": "2022-09-14T18:33:12.426Z"
   },
   {
    "duration": 110,
    "start_time": "2022-09-14T18:33:13.026Z"
   },
   {
    "duration": 6,
    "start_time": "2022-09-14T18:33:13.138Z"
   },
   {
    "duration": 18,
    "start_time": "2022-09-14T18:33:13.146Z"
   },
   {
    "duration": 9,
    "start_time": "2022-09-15T06:38:13.274Z"
   },
   {
    "duration": 2082,
    "start_time": "2022-09-15T06:38:13.284Z"
   },
   {
    "duration": 212,
    "start_time": "2022-09-15T06:38:15.368Z"
   },
   {
    "duration": 54,
    "start_time": "2022-09-15T06:38:15.582Z"
   },
   {
    "duration": 12,
    "start_time": "2022-09-15T06:38:15.638Z"
   },
   {
    "duration": 87,
    "start_time": "2022-09-15T06:38:15.652Z"
   },
   {
    "duration": 8,
    "start_time": "2022-09-15T06:38:15.741Z"
   },
   {
    "duration": 19,
    "start_time": "2022-09-15T06:38:15.751Z"
   },
   {
    "duration": 68,
    "start_time": "2022-09-15T06:38:15.772Z"
   },
   {
    "duration": 74,
    "start_time": "2022-09-15T06:38:15.855Z"
   },
   {
    "duration": 15,
    "start_time": "2022-09-15T06:38:15.935Z"
   },
   {
    "duration": 584,
    "start_time": "2022-09-15T06:38:15.952Z"
   },
   {
    "duration": 1297,
    "start_time": "2022-09-15T06:38:16.537Z"
   },
   {
    "duration": 191,
    "start_time": "2022-09-15T06:38:17.836Z"
   },
   {
    "duration": 996,
    "start_time": "2022-09-15T06:38:18.034Z"
   },
   {
    "duration": 1202,
    "start_time": "2022-09-15T06:38:19.034Z"
   },
   {
    "duration": 107,
    "start_time": "2022-09-15T06:38:20.333Z"
   },
   {
    "duration": 9,
    "start_time": "2022-09-15T06:38:20.442Z"
   },
   {
    "duration": 9,
    "start_time": "2022-09-15T06:38:20.453Z"
   }
  ],
  "kernelspec": {
   "display_name": "Python 3 (ipykernel)",
   "language": "python",
   "name": "python3"
  },
  "language_info": {
   "codemirror_mode": {
    "name": "ipython",
    "version": 3
   },
   "file_extension": ".py",
   "mimetype": "text/x-python",
   "name": "python",
   "nbconvert_exporter": "python",
   "pygments_lexer": "ipython3",
   "version": "3.10.11"
  },
  "toc": {
   "base_numbering": 1,
   "nav_menu": {},
   "number_sections": true,
   "sideBar": true,
   "skip_h1_title": true,
   "title_cell": "Table of Contents",
   "title_sidebar": "Contents",
   "toc_cell": false,
   "toc_position": {},
   "toc_section_display": true,
   "toc_window_display": false
  }
 },
 "nbformat": 4,
 "nbformat_minor": 2
}
