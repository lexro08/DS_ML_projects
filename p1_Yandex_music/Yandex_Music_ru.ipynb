{
 "cells": [
  {
   "cell_type": "markdown",
   "metadata": {
    "id": "E0vqbgi9ay0H"
   },
   "source": [
    "# Яндекс.Музыка"
   ]
  },
  {
   "cell_type": "markdown",
   "metadata": {
    "id": "VUC88oWjTJw2"
   },
   "source": [
    "Сравнение Москвы и Петербурга окружено мифами. Например:\n",
    " * Москва — мегаполис, подчинённый жёсткому ритму рабочей недели;\n",
    " * Петербург — культурная столица, со своими вкусами.\n",
    "\n",
    "На данных Яндекс.Музыки вы сравните поведение пользователей двух столиц.\n",
    "\n",
    "**Цель исследования** — проверить три гипотезы:\n",
    "1. Активность пользователей зависит от дня недели. Причём в Москве и Петербурге это проявляется по-разному.\n",
    "2. В понедельник утром в Москве преобладают одни жанры, а в Петербурге — другие. Так же и вечером пятницы преобладают разные жанры — в зависимости от города. \n",
    "3. Москва и Петербург предпочитают разные жанры музыки. В Москве чаще слушают поп-музыку, в Петербурге — русский рэп.\n",
    "\n",
    "**Ход исследования**\n",
    "\n",
    " 1. Обзор данных.\n",
    " 2. Предобработка данных.\n",
    " 3. Проверка гипотез.\n",
    "\n"
   ]
  },
  {
   "cell_type": "markdown",
   "metadata": {
    "id": "Ml1hmfXC_Zcs"
   },
   "source": [
    "## Обзор данных\n",
    "\n",
    "Составьте первое представление о данных Яндекс.Музыки.\n",
    "\n",
    "\n"
   ]
  },
  {
   "cell_type": "code",
   "execution_count": 1,
   "metadata": {
    "id": "AXN7PHPN_Zcs"
   },
   "outputs": [],
   "source": [
    "import pandas as pd"
   ]
  },
  {
   "cell_type": "code",
   "execution_count": 2,
   "metadata": {
    "id": "fFVu7vqh_Zct"
   },
   "outputs": [],
   "source": [
    "try:\n",
    "    df = pd.read_csv('yandex_music_project.csv')\n",
    "except:\n",
    "    df = pd.read_csv('/datasets/yandex_music_project.csv')"
   ]
  },
  {
   "cell_type": "markdown",
   "metadata": {
    "id": "rDoOMd3uTqnZ"
   },
   "source": [
    "Выведите на экран первые десять строк таблицы:"
   ]
  },
  {
   "cell_type": "code",
   "execution_count": 3,
   "metadata": {
    "id": "oWTVX3gW_Zct"
   },
   "outputs": [
    {
     "data": {
      "text/html": [
       "<div>\n",
       "<style scoped>\n",
       "    .dataframe tbody tr th:only-of-type {\n",
       "        vertical-align: middle;\n",
       "    }\n",
       "\n",
       "    .dataframe tbody tr th {\n",
       "        vertical-align: top;\n",
       "    }\n",
       "\n",
       "    .dataframe thead th {\n",
       "        text-align: right;\n",
       "    }\n",
       "</style>\n",
       "<table border=\"1\" class=\"dataframe\">\n",
       "  <thead>\n",
       "    <tr style=\"text-align: right;\">\n",
       "      <th></th>\n",
       "      <th>userID</th>\n",
       "      <th>Track</th>\n",
       "      <th>artist</th>\n",
       "      <th>genre</th>\n",
       "      <th>City</th>\n",
       "      <th>time</th>\n",
       "      <th>Day</th>\n",
       "    </tr>\n",
       "  </thead>\n",
       "  <tbody>\n",
       "    <tr>\n",
       "      <th>0</th>\n",
       "      <td>FFB692EC</td>\n",
       "      <td>Kamigata To Boots</td>\n",
       "      <td>The Mass Missile</td>\n",
       "      <td>rock</td>\n",
       "      <td>Saint-Petersburg</td>\n",
       "      <td>20:28:33</td>\n",
       "      <td>Wednesday</td>\n",
       "    </tr>\n",
       "    <tr>\n",
       "      <th>1</th>\n",
       "      <td>55204538</td>\n",
       "      <td>Delayed Because of Accident</td>\n",
       "      <td>Andreas Rönnberg</td>\n",
       "      <td>rock</td>\n",
       "      <td>Moscow</td>\n",
       "      <td>14:07:09</td>\n",
       "      <td>Friday</td>\n",
       "    </tr>\n",
       "    <tr>\n",
       "      <th>2</th>\n",
       "      <td>20EC38</td>\n",
       "      <td>Funiculì funiculà</td>\n",
       "      <td>Mario Lanza</td>\n",
       "      <td>pop</td>\n",
       "      <td>Saint-Petersburg</td>\n",
       "      <td>20:58:07</td>\n",
       "      <td>Wednesday</td>\n",
       "    </tr>\n",
       "    <tr>\n",
       "      <th>3</th>\n",
       "      <td>A3DD03C9</td>\n",
       "      <td>Dragons in the Sunset</td>\n",
       "      <td>Fire + Ice</td>\n",
       "      <td>folk</td>\n",
       "      <td>Saint-Petersburg</td>\n",
       "      <td>08:37:09</td>\n",
       "      <td>Monday</td>\n",
       "    </tr>\n",
       "    <tr>\n",
       "      <th>4</th>\n",
       "      <td>E2DC1FAE</td>\n",
       "      <td>Soul People</td>\n",
       "      <td>Space Echo</td>\n",
       "      <td>dance</td>\n",
       "      <td>Moscow</td>\n",
       "      <td>08:34:34</td>\n",
       "      <td>Monday</td>\n",
       "    </tr>\n",
       "    <tr>\n",
       "      <th>5</th>\n",
       "      <td>842029A1</td>\n",
       "      <td>Преданная</td>\n",
       "      <td>IMPERVTOR</td>\n",
       "      <td>rusrap</td>\n",
       "      <td>Saint-Petersburg</td>\n",
       "      <td>13:09:41</td>\n",
       "      <td>Friday</td>\n",
       "    </tr>\n",
       "    <tr>\n",
       "      <th>6</th>\n",
       "      <td>4CB90AA5</td>\n",
       "      <td>True</td>\n",
       "      <td>Roman Messer</td>\n",
       "      <td>dance</td>\n",
       "      <td>Moscow</td>\n",
       "      <td>13:00:07</td>\n",
       "      <td>Wednesday</td>\n",
       "    </tr>\n",
       "    <tr>\n",
       "      <th>7</th>\n",
       "      <td>F03E1C1F</td>\n",
       "      <td>Feeling This Way</td>\n",
       "      <td>Polina Griffith</td>\n",
       "      <td>dance</td>\n",
       "      <td>Moscow</td>\n",
       "      <td>20:47:49</td>\n",
       "      <td>Wednesday</td>\n",
       "    </tr>\n",
       "    <tr>\n",
       "      <th>8</th>\n",
       "      <td>8FA1D3BE</td>\n",
       "      <td>И вновь продолжается бой</td>\n",
       "      <td>NaN</td>\n",
       "      <td>ruspop</td>\n",
       "      <td>Moscow</td>\n",
       "      <td>09:17:40</td>\n",
       "      <td>Friday</td>\n",
       "    </tr>\n",
       "    <tr>\n",
       "      <th>9</th>\n",
       "      <td>E772D5C0</td>\n",
       "      <td>Pessimist</td>\n",
       "      <td>NaN</td>\n",
       "      <td>dance</td>\n",
       "      <td>Saint-Petersburg</td>\n",
       "      <td>21:20:49</td>\n",
       "      <td>Wednesday</td>\n",
       "    </tr>\n",
       "  </tbody>\n",
       "</table>\n",
       "</div>"
      ],
      "text/plain": [
       "     userID                        Track            artist   genre  \\\n",
       "0  FFB692EC            Kamigata To Boots  The Mass Missile    rock   \n",
       "1  55204538  Delayed Because of Accident  Andreas Rönnberg    rock   \n",
       "2    20EC38            Funiculì funiculà       Mario Lanza     pop   \n",
       "3  A3DD03C9        Dragons in the Sunset        Fire + Ice    folk   \n",
       "4  E2DC1FAE                  Soul People        Space Echo   dance   \n",
       "5  842029A1                    Преданная         IMPERVTOR  rusrap   \n",
       "6  4CB90AA5                         True      Roman Messer   dance   \n",
       "7  F03E1C1F             Feeling This Way   Polina Griffith   dance   \n",
       "8  8FA1D3BE     И вновь продолжается бой               NaN  ruspop   \n",
       "9  E772D5C0                    Pessimist               NaN   dance   \n",
       "\n",
       "             City        time        Day  \n",
       "0  Saint-Petersburg  20:28:33  Wednesday  \n",
       "1            Moscow  14:07:09     Friday  \n",
       "2  Saint-Petersburg  20:58:07  Wednesday  \n",
       "3  Saint-Petersburg  08:37:09     Monday  \n",
       "4            Moscow  08:34:34     Monday  \n",
       "5  Saint-Petersburg  13:09:41     Friday  \n",
       "6            Moscow  13:00:07  Wednesday  \n",
       "7            Moscow  20:47:49  Wednesday  \n",
       "8            Moscow  09:17:40     Friday  \n",
       "9  Saint-Petersburg  21:20:49  Wednesday  "
      ]
     },
     "execution_count": 3,
     "metadata": {},
     "output_type": "execute_result"
    }
   ],
   "source": [
    "df.head(10)"
   ]
  },
  {
   "cell_type": "code",
   "execution_count": 4,
   "metadata": {},
   "outputs": [
    {
     "data": {
      "text/html": [
       "<div>\n",
       "<style scoped>\n",
       "    .dataframe tbody tr th:only-of-type {\n",
       "        vertical-align: middle;\n",
       "    }\n",
       "\n",
       "    .dataframe tbody tr th {\n",
       "        vertical-align: top;\n",
       "    }\n",
       "\n",
       "    .dataframe thead th {\n",
       "        text-align: right;\n",
       "    }\n",
       "</style>\n",
       "<table border=\"1\" class=\"dataframe\">\n",
       "  <thead>\n",
       "    <tr style=\"text-align: right;\">\n",
       "      <th></th>\n",
       "      <th>userID</th>\n",
       "      <th>Track</th>\n",
       "      <th>artist</th>\n",
       "      <th>genre</th>\n",
       "      <th>City</th>\n",
       "      <th>time</th>\n",
       "      <th>Day</th>\n",
       "    </tr>\n",
       "  </thead>\n",
       "  <tbody>\n",
       "    <tr>\n",
       "      <th>65074</th>\n",
       "      <td>729CBB09</td>\n",
       "      <td>My Name</td>\n",
       "      <td>McLean</td>\n",
       "      <td>rnb</td>\n",
       "      <td>Moscow</td>\n",
       "      <td>13:32:28</td>\n",
       "      <td>Wednesday</td>\n",
       "    </tr>\n",
       "    <tr>\n",
       "      <th>65075</th>\n",
       "      <td>D08D4A55</td>\n",
       "      <td>Maybe One Day (feat. Black Spade)</td>\n",
       "      <td>Blu &amp; Exile</td>\n",
       "      <td>hip</td>\n",
       "      <td>Saint-Petersburg</td>\n",
       "      <td>10:00:00</td>\n",
       "      <td>Monday</td>\n",
       "    </tr>\n",
       "    <tr>\n",
       "      <th>65076</th>\n",
       "      <td>C5E3A0D5</td>\n",
       "      <td>Jalopiina</td>\n",
       "      <td>NaN</td>\n",
       "      <td>industrial</td>\n",
       "      <td>Moscow</td>\n",
       "      <td>20:09:26</td>\n",
       "      <td>Friday</td>\n",
       "    </tr>\n",
       "    <tr>\n",
       "      <th>65077</th>\n",
       "      <td>321D0506</td>\n",
       "      <td>Freight Train</td>\n",
       "      <td>Chas McDevitt</td>\n",
       "      <td>rock</td>\n",
       "      <td>Moscow</td>\n",
       "      <td>21:43:59</td>\n",
       "      <td>Friday</td>\n",
       "    </tr>\n",
       "    <tr>\n",
       "      <th>65078</th>\n",
       "      <td>3A64EF84</td>\n",
       "      <td>Tell Me Sweet Little Lies</td>\n",
       "      <td>Monica Lopez</td>\n",
       "      <td>country</td>\n",
       "      <td>Moscow</td>\n",
       "      <td>21:59:46</td>\n",
       "      <td>Friday</td>\n",
       "    </tr>\n",
       "  </tbody>\n",
       "</table>\n",
       "</div>"
      ],
      "text/plain": [
       "         userID                              Track         artist       genre  \\\n",
       "65074  729CBB09                            My Name         McLean         rnb   \n",
       "65075  D08D4A55  Maybe One Day (feat. Black Spade)    Blu & Exile         hip   \n",
       "65076  C5E3A0D5                          Jalopiina            NaN  industrial   \n",
       "65077  321D0506                      Freight Train  Chas McDevitt        rock   \n",
       "65078  3A64EF84          Tell Me Sweet Little Lies   Monica Lopez     country   \n",
       "\n",
       "                 City        time        Day  \n",
       "65074            Moscow  13:32:28  Wednesday  \n",
       "65075  Saint-Petersburg  10:00:00     Monday  \n",
       "65076            Moscow  20:09:26     Friday  \n",
       "65077            Moscow  21:43:59     Friday  \n",
       "65078            Moscow  21:59:46     Friday  "
      ]
     },
     "execution_count": 4,
     "metadata": {},
     "output_type": "execute_result"
    }
   ],
   "source": [
    "# Комментарий ревьюера\n",
    "df.tail(5)"
   ]
  },
  {
   "cell_type": "code",
   "execution_count": 5,
   "metadata": {
    "id": "DSf2kIb-_Zct"
   },
   "outputs": [
    {
     "name": "stdout",
     "output_type": "stream",
     "text": [
      "<class 'pandas.core.frame.DataFrame'>\n",
      "RangeIndex: 65079 entries, 0 to 65078\n",
      "Data columns (total 7 columns):\n",
      " #   Column    Non-Null Count  Dtype \n",
      "---  ------    --------------  ----- \n",
      " 0     userID  65079 non-null  object\n",
      " 1   Track     63848 non-null  object\n",
      " 2   artist    57876 non-null  object\n",
      " 3   genre     63881 non-null  object\n",
      " 4     City    65079 non-null  object\n",
      " 5   time      65079 non-null  object\n",
      " 6   Day       65079 non-null  object\n",
      "dtypes: object(7)\n",
      "memory usage: 3.5+ MB\n"
     ]
    }
   ],
   "source": [
    "df.info()"
   ]
  },
  {
   "cell_type": "markdown",
   "metadata": {
    "id": "TaQ2Iwbr_Zct"
   },
   "source": [
    "Итак, в таблице семь столбцов. Тип данных во всех столбцах — `object`.\n",
    "\n",
    "Согласно документации к данным:\n",
    "* `userID` — идентификатор пользователя;\n",
    "* `Track` — название трека;  \n",
    "* `artist` — имя исполнителя;\n",
    "* `genre` — название жанра;\n",
    "* `City` — город пользователя;\n",
    "* `time` — время начала прослушивания;\n",
    "* `Day` — день недели.\n",
    "\n",
    "В названиях колонок видны три нарушения стиля:\n",
    "1. Строчные буквы сочетаются с прописными.\n",
    "2. Встречаются пробелы.\n",
    "3. Отсутсвие \"змеинового регистра\" для `userID`. \n",
    "\n",
    "\n",
    "\n",
    "Количество значений в столбцах различается. Значит, в данных есть пропущенные значения.\n"
   ]
  },
  {
   "cell_type": "markdown",
   "metadata": {
    "id": "MCB6-dXG_Zct"
   },
   "source": [
    "**Выводы**\n",
    "\n",
    "В каждой строке таблицы — данные о прослушанном треке. Часть колонок описывает саму композицию: название, исполнителя и жанр. Остальные данные рассказывают о пользователе: из какого он города, когда он слушал музыку. \n",
    "\n",
    "Предварительно можно утверждать, что, данных достаточно для проверки гипотез. Но встречаются пропуски в данных, а в названиях колонок — расхождения с хорошим стилем.\n",
    "\n",
    "Чтобы двигаться дальше, нужно устранить проблемы в данных."
   ]
  },
  {
   "cell_type": "markdown",
   "metadata": {
    "id": "SjYF6Ub9_Zct"
   },
   "source": [
    "## Предобработка данных\n",
    "Исправьте стиль в заголовках столбцов, исключите пропуски. Затем проверьте данные на дубликаты."
   ]
  },
  {
   "cell_type": "markdown",
   "metadata": {
    "id": "dIaKXr29_Zct"
   },
   "source": [
    "### Стиль заголовков\n",
    "Выведите на экран названия столбцов:"
   ]
  },
  {
   "cell_type": "code",
   "execution_count": 6,
   "metadata": {
    "id": "oKOTdF_Q_Zct"
   },
   "outputs": [
    {
     "data": {
      "text/plain": [
       "Index(['  userID', 'Track', 'artist', 'genre', '  City  ', 'time', 'Day'], dtype='object')"
      ]
     },
     "execution_count": 6,
     "metadata": {},
     "output_type": "execute_result"
    }
   ],
   "source": [
    "df.columns# перечень названий столбцов таблицы df"
   ]
  },
  {
   "cell_type": "markdown",
   "metadata": {
    "id": "zj5534cv_Zct"
   },
   "source": [
    "Приведем названия в соответствие с хорошим стилем:\n",
    "* несколько слов в названии запишите в «змеином_регистре»,\n",
    "* все символы сделайте строчными,\n",
    "* устраните пробелы.\n",
    "\n",
    "Для этого переименуйте колонки так:\n",
    "* `'  userID'` → `'user_id'`;\n",
    "* `'Track'` → `'track'`;\n",
    "* `'  City  '` → `'city'`;\n",
    "* `'Day'` → `'day'`."
   ]
  },
  {
   "cell_type": "code",
   "execution_count": 7,
   "metadata": {
    "id": "ISlFqs5y_Zct"
   },
   "outputs": [],
   "source": [
    "df = df.rename(\n",
    "columns={\n",
    "'  userID': 'user_id',\n",
    "'Track': 'track',\n",
    "'  City  ': 'city',\n",
    "'Day': 'day',\n",
    "}\n",
    ")"
   ]
  },
  {
   "cell_type": "markdown",
   "metadata": {
    "id": "1dqbh00J_Zct"
   },
   "source": [
    "Проверим результат."
   ]
  },
  {
   "cell_type": "code",
   "execution_count": 8,
   "metadata": {
    "id": "d4NOAmTW_Zct"
   },
   "outputs": [
    {
     "data": {
      "text/plain": [
       "Index(['user_id', 'track', 'artist', 'genre', 'city', 'time', 'day'], dtype='object')"
      ]
     },
     "execution_count": 8,
     "metadata": {},
     "output_type": "execute_result"
    }
   ],
   "source": [
    "df.columns"
   ]
  },
  {
   "cell_type": "markdown",
   "metadata": {
    "id": "5ISfbcfY_Zct"
   },
   "source": [
    "### Пропуски значений\n",
    "Сначала посчитайте, сколько в таблице пропущенных значений. Для этого достаточно двух методов `pandas`:"
   ]
  },
  {
   "cell_type": "code",
   "execution_count": 9,
   "metadata": {
    "id": "RskX29qr_Zct"
   },
   "outputs": [
    {
     "data": {
      "text/plain": [
       "user_id       0\n",
       "track      1231\n",
       "artist     7203\n",
       "genre      1198\n",
       "city          0\n",
       "time          0\n",
       "day           0\n",
       "dtype: int64"
      ]
     },
     "execution_count": 9,
     "metadata": {},
     "output_type": "execute_result"
    }
   ],
   "source": [
    "df.isna().sum()"
   ]
  },
  {
   "cell_type": "markdown",
   "metadata": {
    "id": "qubhgnlO_Zct"
   },
   "source": [
    "Не все пропущенные значения влияют на исследование. Так в `track` и `artist` пропуски не важны для нашего проекта. Достаточно заменить их явными обозначениями.\n",
    "\n",
    "Но пропуски в `genre` могут помешать сравнению музыкальных вкусов в Москве и Санкт-Петербурге. \n",
    "\n",
    "Для простоты сделаем следующее:\n",
    "* заполним и эти пропуски явными обозначениями,\n",
    "* оценим, насколько они повредят расчётам. "
   ]
  },
  {
   "cell_type": "markdown",
   "metadata": {
    "id": "fSv2laPA_Zct"
   },
   "source": [
    "Заменим пропущенные значения в столбцах `track`, `artist` и `genre` на строку `'unknown'`."
   ]
  },
  {
   "cell_type": "code",
   "execution_count": 10,
   "metadata": {
    "id": "KplB5qWs_Zct"
   },
   "outputs": [],
   "source": [
    "columns_to_replace = ['track', 'artist', 'genre']\n",
    "for column in columns_to_replace:\n",
    "    df[column] = df[column].fillna('unknown')\n",
    "    \n",
    "# перебор названий столбцов в цикле и замена пропущенных значений на 'unknown'"
   ]
  },
  {
   "cell_type": "markdown",
   "metadata": {
    "id": "Ilsm-MZo_Zct"
   },
   "source": [
    "Убедитесь, что в таблице не осталось пропусков. Для этого ещё раз посчитайте пропущенные значения."
   ]
  },
  {
   "cell_type": "code",
   "execution_count": 11,
   "metadata": {
    "id": "Tq4nYRX4_Zct"
   },
   "outputs": [
    {
     "data": {
      "text/plain": [
       "user_id    0\n",
       "track      0\n",
       "artist     0\n",
       "genre      0\n",
       "city       0\n",
       "time       0\n",
       "day        0\n",
       "dtype: int64"
      ]
     },
     "execution_count": 11,
     "metadata": {},
     "output_type": "execute_result"
    }
   ],
   "source": [
    "df.isna().sum()"
   ]
  },
  {
   "cell_type": "markdown",
   "metadata": {
    "id": "BWKRtBJ3_Zct"
   },
   "source": [
    "### Дубликаты\n",
    "Посчитайте явные дубликаты в таблице одной командой:"
   ]
  },
  {
   "cell_type": "code",
   "execution_count": 12,
   "metadata": {
    "id": "36eES_S0_Zct"
   },
   "outputs": [
    {
     "data": {
      "text/plain": [
       "3826"
      ]
     },
     "execution_count": 12,
     "metadata": {},
     "output_type": "execute_result"
    }
   ],
   "source": [
    "df.duplicated().sum()"
   ]
  },
  {
   "cell_type": "markdown",
   "metadata": {
    "id": "Ot25h6XR_Zct"
   },
   "source": [
    "Удалим явные дубликаты."
   ]
  },
  {
   "cell_type": "code",
   "execution_count": 13,
   "metadata": {
    "id": "exFHq6tt_Zct"
   },
   "outputs": [],
   "source": [
    "df = df.drop_duplicates().reset_index(drop=True)"
   ]
  },
  {
   "cell_type": "markdown",
   "metadata": {
    "id": "Im2YwBEG_Zct"
   },
   "source": [
    "Произведем проверку"
   ]
  },
  {
   "cell_type": "code",
   "execution_count": 14,
   "metadata": {
    "id": "-8PuNWQ0_Zct"
   },
   "outputs": [
    {
     "data": {
      "text/plain": [
       "0"
      ]
     },
     "execution_count": 14,
     "metadata": {},
     "output_type": "execute_result"
    }
   ],
   "source": [
    "df.duplicated().sum()# проверка на отсутствие дубликатов"
   ]
  },
  {
   "cell_type": "markdown",
   "metadata": {
    "id": "QlFBsxAr_Zct"
   },
   "source": [
    "Теперь избавимся от неявных дубликатов в колонке `genre`. Например, название одного и того же жанра может быть записано немного по-разному. Такие ошибки тоже могут повлиять на результат исследования."
   ]
  },
  {
   "cell_type": "markdown",
   "metadata": {
    "id": "eSjWwsOh_Zct"
   },
   "source": [
    "Выведем на экран список уникальных названий жанров, отсортированный в алфавитном порядке. Для этого:\n",
    "* извлечем нужный столбец датафрейма, \n",
    "* применим к нему метод сортировки,\n",
    "* для отсортированного столбца вызовем метод, который вернёт уникальные значения из столбца."
   ]
  },
  {
   "cell_type": "code",
   "execution_count": 15,
   "metadata": {
    "id": "JIUcqzZN_Zct"
   },
   "outputs": [
    {
     "data": {
      "text/plain": [
       "array(['acid', 'acoustic', 'action', 'adult', 'africa', 'afrikaans',\n",
       "       'alternative', 'alternativepunk', 'ambient', 'americana',\n",
       "       'animated', 'anime', 'arabesk', 'arabic', 'arena',\n",
       "       'argentinetango', 'art', 'audiobook', 'author', 'avantgarde',\n",
       "       'axé', 'baile', 'balkan', 'beats', 'bigroom', 'black', 'bluegrass',\n",
       "       'blues', 'bollywood', 'bossa', 'brazilian', 'breakbeat', 'breaks',\n",
       "       'broadway', 'cantautori', 'cantopop', 'canzone', 'caribbean',\n",
       "       'caucasian', 'celtic', 'chamber', 'chanson', 'children', 'chill',\n",
       "       'chinese', 'choral', 'christian', 'christmas', 'classical',\n",
       "       'classicmetal', 'club', 'colombian', 'comedy', 'conjazz',\n",
       "       'contemporary', 'country', 'cuban', 'dance', 'dancehall',\n",
       "       'dancepop', 'dark', 'death', 'deep', 'deutschrock', 'deutschspr',\n",
       "       'dirty', 'disco', 'dnb', 'documentary', 'downbeat', 'downtempo',\n",
       "       'drum', 'dub', 'dubstep', 'eastern', 'easy', 'electronic',\n",
       "       'electropop', 'emo', 'entehno', 'epicmetal', 'estrada', 'ethnic',\n",
       "       'eurofolk', 'european', 'experimental', 'extrememetal', 'fado',\n",
       "       'fairytail', 'film', 'fitness', 'flamenco', 'folk', 'folklore',\n",
       "       'folkmetal', 'folkrock', 'folktronica', 'forró', 'frankreich',\n",
       "       'französisch', 'french', 'funk', 'future', 'gangsta', 'garage',\n",
       "       'german', 'ghazal', 'gitarre', 'glitch', 'gospel', 'gothic',\n",
       "       'grime', 'grunge', 'gypsy', 'handsup', \"hard'n'heavy\", 'hardcore',\n",
       "       'hardstyle', 'hardtechno', 'hip', 'hip-hop', 'hiphop',\n",
       "       'historisch', 'holiday', 'hop', 'horror', 'house', 'hymn', 'idm',\n",
       "       'independent', 'indian', 'indie', 'indipop', 'industrial',\n",
       "       'inspirational', 'instrumental', 'international', 'irish', 'jam',\n",
       "       'japanese', 'jazz', 'jewish', 'jpop', 'jungle', 'k-pop',\n",
       "       'karadeniz', 'karaoke', 'kayokyoku', 'korean', 'laiko', 'latin',\n",
       "       'latino', 'leftfield', 'local', 'lounge', 'loungeelectronic',\n",
       "       'lovers', 'malaysian', 'mandopop', 'marschmusik', 'meditative',\n",
       "       'mediterranean', 'melodic', 'metal', 'metalcore', 'mexican',\n",
       "       'middle', 'minimal', 'miscellaneous', 'modern', 'mood', 'mpb',\n",
       "       'muslim', 'native', 'neoklassik', 'neue', 'new', 'newage',\n",
       "       'newwave', 'nu', 'nujazz', 'numetal', 'oceania', 'old', 'opera',\n",
       "       'orchestral', 'other', 'piano', 'podcasts', 'pop', 'popdance',\n",
       "       'popelectronic', 'popeurodance', 'poprussian', 'post',\n",
       "       'posthardcore', 'postrock', 'power', 'progmetal', 'progressive',\n",
       "       'psychedelic', 'punjabi', 'punk', 'quebecois', 'ragga', 'ram',\n",
       "       'rancheras', 'rap', 'rave', 'reggae', 'reggaeton', 'regional',\n",
       "       'relax', 'religious', 'retro', 'rhythm', 'rnb', 'rnr', 'rock',\n",
       "       'rockabilly', 'rockalternative', 'rockindie', 'rockother',\n",
       "       'romance', 'roots', 'ruspop', 'rusrap', 'rusrock', 'russian',\n",
       "       'salsa', 'samba', 'scenic', 'schlager', 'self', 'sertanejo',\n",
       "       'shanson', 'shoegazing', 'showtunes', 'singer', 'ska', 'skarock',\n",
       "       'slow', 'smooth', 'soft', 'soul', 'soulful', 'sound', 'soundtrack',\n",
       "       'southern', 'specialty', 'speech', 'spiritual', 'sport',\n",
       "       'stonerrock', 'surf', 'swing', 'synthpop', 'synthrock',\n",
       "       'sängerportrait', 'tango', 'tanzorchester', 'taraftar', 'tatar',\n",
       "       'tech', 'techno', 'teen', 'thrash', 'top', 'traditional',\n",
       "       'tradjazz', 'trance', 'tribal', 'trip', 'triphop', 'tropical',\n",
       "       'türk', 'türkçe', 'ukrrock', 'unknown', 'urban', 'uzbek',\n",
       "       'variété', 'vi', 'videogame', 'vocal', 'western', 'world',\n",
       "       'worldbeat', 'ïîï', 'электроника'], dtype=object)"
      ]
     },
     "execution_count": 15,
     "metadata": {},
     "output_type": "execute_result"
    }
   ],
   "source": [
    "df['genre'].sort_values().unique()# Просмотр уникальных названий жанров"
   ]
  },
  {
   "cell_type": "markdown",
   "metadata": {
    "id": "qej-Qmuo_Zct"
   },
   "source": [
    "По результатам поиска неявных дубликатов найдены следующие значения:\n",
    "\n",
    "* *hip*,\n",
    "* *hop*,\n",
    "* *hip-hop*.\n",
    "\n",
    "Чтобы очистить от них таблицу, подготовим функцию `replace_wrong_genres()` с двумя параметрами: \n",
    "* `wrong_genres` — список дубликатов,\n",
    "* `correct_genre` — строка с правильным значением.\n",
    "\n",
    "Функция должна исправить колонку `genre` в таблице `df`: заменить каждое значение из списка `wrong_genres` на значение из `correct_genre`."
   ]
  },
  {
   "cell_type": "code",
   "execution_count": 16,
   "metadata": {
    "id": "ErNDkmns_Zct"
   },
   "outputs": [],
   "source": [
    "def replace_wrong_genres(wrong_genres, correct_genre): # на вход функции подаются список неправильных значений и строка с правильным значением\n",
    "    for wrong_genre in wrong_genres: # перебираем неправильные имена\n",
    "        df['genre'] = df['genre'].replace(wrong_genre, correct_genre)# Функция для замены неявных дубликатов"
   ]
  },
  {
   "cell_type": "code",
   "execution_count": 17,
   "metadata": {
    "id": "YN5i2hpmSo09"
   },
   "outputs": [],
   "source": [
    "duplicates = ['hip', 'hop', 'hip-hop'] #список неявных дубликатов, от которых будем избавляться\n",
    "right_genre = 'hiphop' #корректный жанр\n",
    "replace_wrong_genres(duplicates, right_genre)# Устранение неявных дубликатов"
   ]
  },
  {
   "cell_type": "markdown",
   "metadata": {},
   "source": [
    "Произведем проверку."
   ]
  },
  {
   "cell_type": "code",
   "execution_count": 18,
   "metadata": {
    "id": "wvixALnFG15m"
   },
   "outputs": [
    {
     "data": {
      "text/plain": [
       "array(['acid', 'acoustic', 'action', 'adult', 'africa', 'afrikaans',\n",
       "       'alternative', 'alternativepunk', 'ambient', 'americana',\n",
       "       'animated', 'anime', 'arabesk', 'arabic', 'arena',\n",
       "       'argentinetango', 'art', 'audiobook', 'author', 'avantgarde',\n",
       "       'axé', 'baile', 'balkan', 'beats', 'bigroom', 'black', 'bluegrass',\n",
       "       'blues', 'bollywood', 'bossa', 'brazilian', 'breakbeat', 'breaks',\n",
       "       'broadway', 'cantautori', 'cantopop', 'canzone', 'caribbean',\n",
       "       'caucasian', 'celtic', 'chamber', 'chanson', 'children', 'chill',\n",
       "       'chinese', 'choral', 'christian', 'christmas', 'classical',\n",
       "       'classicmetal', 'club', 'colombian', 'comedy', 'conjazz',\n",
       "       'contemporary', 'country', 'cuban', 'dance', 'dancehall',\n",
       "       'dancepop', 'dark', 'death', 'deep', 'deutschrock', 'deutschspr',\n",
       "       'dirty', 'disco', 'dnb', 'documentary', 'downbeat', 'downtempo',\n",
       "       'drum', 'dub', 'dubstep', 'eastern', 'easy', 'electronic',\n",
       "       'electropop', 'emo', 'entehno', 'epicmetal', 'estrada', 'ethnic',\n",
       "       'eurofolk', 'european', 'experimental', 'extrememetal', 'fado',\n",
       "       'fairytail', 'film', 'fitness', 'flamenco', 'folk', 'folklore',\n",
       "       'folkmetal', 'folkrock', 'folktronica', 'forró', 'frankreich',\n",
       "       'französisch', 'french', 'funk', 'future', 'gangsta', 'garage',\n",
       "       'german', 'ghazal', 'gitarre', 'glitch', 'gospel', 'gothic',\n",
       "       'grime', 'grunge', 'gypsy', 'handsup', \"hard'n'heavy\", 'hardcore',\n",
       "       'hardstyle', 'hardtechno', 'hiphop', 'historisch', 'holiday',\n",
       "       'horror', 'house', 'hymn', 'idm', 'independent', 'indian', 'indie',\n",
       "       'indipop', 'industrial', 'inspirational', 'instrumental',\n",
       "       'international', 'irish', 'jam', 'japanese', 'jazz', 'jewish',\n",
       "       'jpop', 'jungle', 'k-pop', 'karadeniz', 'karaoke', 'kayokyoku',\n",
       "       'korean', 'laiko', 'latin', 'latino', 'leftfield', 'local',\n",
       "       'lounge', 'loungeelectronic', 'lovers', 'malaysian', 'mandopop',\n",
       "       'marschmusik', 'meditative', 'mediterranean', 'melodic', 'metal',\n",
       "       'metalcore', 'mexican', 'middle', 'minimal', 'miscellaneous',\n",
       "       'modern', 'mood', 'mpb', 'muslim', 'native', 'neoklassik', 'neue',\n",
       "       'new', 'newage', 'newwave', 'nu', 'nujazz', 'numetal', 'oceania',\n",
       "       'old', 'opera', 'orchestral', 'other', 'piano', 'podcasts', 'pop',\n",
       "       'popdance', 'popelectronic', 'popeurodance', 'poprussian', 'post',\n",
       "       'posthardcore', 'postrock', 'power', 'progmetal', 'progressive',\n",
       "       'psychedelic', 'punjabi', 'punk', 'quebecois', 'ragga', 'ram',\n",
       "       'rancheras', 'rap', 'rave', 'reggae', 'reggaeton', 'regional',\n",
       "       'relax', 'religious', 'retro', 'rhythm', 'rnb', 'rnr', 'rock',\n",
       "       'rockabilly', 'rockalternative', 'rockindie', 'rockother',\n",
       "       'romance', 'roots', 'ruspop', 'rusrap', 'rusrock', 'russian',\n",
       "       'salsa', 'samba', 'scenic', 'schlager', 'self', 'sertanejo',\n",
       "       'shanson', 'shoegazing', 'showtunes', 'singer', 'ska', 'skarock',\n",
       "       'slow', 'smooth', 'soft', 'soul', 'soulful', 'sound', 'soundtrack',\n",
       "       'southern', 'specialty', 'speech', 'spiritual', 'sport',\n",
       "       'stonerrock', 'surf', 'swing', 'synthpop', 'synthrock',\n",
       "       'sängerportrait', 'tango', 'tanzorchester', 'taraftar', 'tatar',\n",
       "       'tech', 'techno', 'teen', 'thrash', 'top', 'traditional',\n",
       "       'tradjazz', 'trance', 'tribal', 'trip', 'triphop', 'tropical',\n",
       "       'türk', 'türkçe', 'ukrrock', 'unknown', 'urban', 'uzbek',\n",
       "       'variété', 'vi', 'videogame', 'vocal', 'western', 'world',\n",
       "       'worldbeat', 'ïîï', 'электроника'], dtype=object)"
      ]
     },
     "execution_count": 18,
     "metadata": {},
     "output_type": "execute_result"
    }
   ],
   "source": [
    "df['genre'].sort_values().unique()# Проверка на неявные дубликаты"
   ]
  },
  {
   "cell_type": "markdown",
   "metadata": {
    "id": "jz6a9-7HQUDd"
   },
   "source": [
    "**Выводы**\n",
    "\n",
    "Предобработка обнаружила три проблемы в данных:\n",
    "\n",
    "- нарушения в стиле заголовков,\n",
    "- пропущенные значения,\n",
    "- дубликаты — явные и неявные.\n",
    "\n",
    "Вы исправили заголовки, чтобы упростить работу с таблицей. Без дубликатов исследование станет более точным.\n",
    "\n",
    "Пропущенные значения вы заменили на `'unknown'`. Ещё предстоит увидеть, не повредят ли исследованию пропуски в колонке `genre`.\n",
    "\n",
    "Теперь можно перейти к проверке гипотез. "
   ]
  },
  {
   "cell_type": "markdown",
   "metadata": {
    "id": "WttZHXH0SqKk"
   },
   "source": [
    "## Проверка гипотез"
   ]
  },
  {
   "cell_type": "markdown",
   "metadata": {
    "id": "Im936VVi_Zcu"
   },
   "source": [
    "### Сравнение поведения пользователей двух столиц"
   ]
  },
  {
   "cell_type": "markdown",
   "metadata": {
    "id": "nwt_MuaL_Zcu"
   },
   "source": [
    "Первая гипотеза утверждает, что пользователи по-разному слушают музыку в Москве и Санкт-Петербурге. Проверим это предположение по данным о трёх днях недели — понедельнике, среде и пятнице. Для этого:\n",
    "\n",
    "* Разделим пользователей Москвы и Санкт-Петербурга\n",
    "* Сравним, сколько треков послушала каждая группа пользователей в понедельник, среду и пятницу.\n"
   ]
  },
  {
   "cell_type": "markdown",
   "metadata": {
    "id": "8Dw_YMmT_Zcu"
   },
   "source": [
    "Произведем оценку активности пользователей в каждом городе. Сгруппируем данные по городу и посчитаем прослушивания в каждой группе."
   ]
  },
  {
   "cell_type": "code",
   "execution_count": 19,
   "metadata": {
    "id": "0_Qs96oh_Zcu"
   },
   "outputs": [
    {
     "data": {
      "text/html": [
       "<div>\n",
       "<style scoped>\n",
       "    .dataframe tbody tr th:only-of-type {\n",
       "        vertical-align: middle;\n",
       "    }\n",
       "\n",
       "    .dataframe tbody tr th {\n",
       "        vertical-align: top;\n",
       "    }\n",
       "\n",
       "    .dataframe thead th {\n",
       "        text-align: right;\n",
       "    }\n",
       "</style>\n",
       "<table border=\"1\" class=\"dataframe\">\n",
       "  <thead>\n",
       "    <tr style=\"text-align: right;\">\n",
       "      <th></th>\n",
       "      <th>track</th>\n",
       "    </tr>\n",
       "    <tr>\n",
       "      <th>city</th>\n",
       "      <th></th>\n",
       "    </tr>\n",
       "  </thead>\n",
       "  <tbody>\n",
       "    <tr>\n",
       "      <th>Moscow</th>\n",
       "      <td>42741</td>\n",
       "    </tr>\n",
       "    <tr>\n",
       "      <th>Saint-Petersburg</th>\n",
       "      <td>18512</td>\n",
       "    </tr>\n",
       "  </tbody>\n",
       "</table>\n",
       "</div>"
      ],
      "text/plain": [
       "                  track\n",
       "city                   \n",
       "Moscow            42741\n",
       "Saint-Petersburg  18512"
      ]
     },
     "execution_count": 19,
     "metadata": {},
     "output_type": "execute_result"
    }
   ],
   "source": [
    "df_city_count = df.groupby('city')['track'].count()# \n",
    "df_city_count.to_frame()# Подсчёт прослушиваний в каждом городе"
   ]
  },
  {
   "cell_type": "markdown",
   "metadata": {
    "id": "dzli3w8o_Zcu"
   },
   "source": [
    "В Москве прослушиваний больше, чем в Петербурге. Из этого не следует, что московские пользователи чаще слушают музыку. Просто самих пользователей в Москве больше.\n",
    "\n",
    "Сгруппируем данные по дню недели и подсчитаем прослушивания в понедельник, среду и пятницу. Учтем, что в данных есть информация о прослушиваниях только за эти дни.\n"
   ]
  },
  {
   "cell_type": "code",
   "execution_count": 20,
   "metadata": {
    "id": "uZMKjiJz_Zcu"
   },
   "outputs": [
    {
     "data": {
      "text/html": [
       "<div>\n",
       "<style scoped>\n",
       "    .dataframe tbody tr th:only-of-type {\n",
       "        vertical-align: middle;\n",
       "    }\n",
       "\n",
       "    .dataframe tbody tr th {\n",
       "        vertical-align: top;\n",
       "    }\n",
       "\n",
       "    .dataframe thead th {\n",
       "        text-align: right;\n",
       "    }\n",
       "</style>\n",
       "<table border=\"1\" class=\"dataframe\">\n",
       "  <thead>\n",
       "    <tr style=\"text-align: right;\">\n",
       "      <th></th>\n",
       "      <th>track</th>\n",
       "    </tr>\n",
       "    <tr>\n",
       "      <th>day</th>\n",
       "      <th></th>\n",
       "    </tr>\n",
       "  </thead>\n",
       "  <tbody>\n",
       "    <tr>\n",
       "      <th>Friday</th>\n",
       "      <td>21840</td>\n",
       "    </tr>\n",
       "    <tr>\n",
       "      <th>Monday</th>\n",
       "      <td>21354</td>\n",
       "    </tr>\n",
       "    <tr>\n",
       "      <th>Wednesday</th>\n",
       "      <td>18059</td>\n",
       "    </tr>\n",
       "  </tbody>\n",
       "</table>\n",
       "</div>"
      ],
      "text/plain": [
       "           track\n",
       "day             \n",
       "Friday     21840\n",
       "Monday     21354\n",
       "Wednesday  18059"
      ]
     },
     "execution_count": 20,
     "metadata": {},
     "output_type": "execute_result"
    }
   ],
   "source": [
    "df_city_by_day = df.groupby('day')['track'].count()# \n",
    "df_city_by_day.to_frame()# Подсчёт прослушиваний в каждый из трёх дней"
   ]
  },
  {
   "cell_type": "markdown",
   "metadata": {
    "id": "cC2tNrlL_Zcu"
   },
   "source": [
    "В среднем пользователи из двух городов менее активны по средам. Но картина может измениться, если рассмотреть каждый город в отдельности."
   ]
  },
  {
   "cell_type": "markdown",
   "metadata": {
    "id": "POzs8bGa_Zcu"
   },
   "source": [
    "Создадим функцию `number_tracks()`, которая посчитает прослушивания для заданного дня и города. Ей понадобятся два параметра:\n",
    "* день недели,\n",
    "* название города."
   ]
  },
  {
   "cell_type": "code",
   "execution_count": 21,
   "metadata": {
    "id": "Nz3GdQB1_Zcu"
   },
   "outputs": [],
   "source": [
    "def number_tracks(day, city):# Объявляется функция с двумя параметрами: day, city.\n",
    "    track_list = df.loc[df.loc[:,'day'] == day]\n",
    "    track_list = track_list.loc[track_list.loc[:,'city'] == city] \n",
    "    track_list_count = track_list['user_id'].count()\n",
    "    return track_list_count"
   ]
  },
  {
   "cell_type": "markdown",
   "metadata": {
    "id": "ytf7xFrFJQ2r"
   },
   "source": [
    "Получим данные для каждого города в каждый из трёх дней."
   ]
  },
  {
   "cell_type": "code",
   "execution_count": 22,
   "metadata": {
    "id": "rJcRATNQ_Zcu"
   },
   "outputs": [
    {
     "data": {
      "text/plain": [
       "15740"
      ]
     },
     "execution_count": 22,
     "metadata": {},
     "output_type": "execute_result"
    }
   ],
   "source": [
    "number_tracks('Monday','Moscow')# количество прослушиваний в Москве по понедельникам"
   ]
  },
  {
   "cell_type": "code",
   "execution_count": 23,
   "metadata": {
    "id": "hq_ncZ5T_Zcu"
   },
   "outputs": [
    {
     "data": {
      "text/plain": [
       "5614"
      ]
     },
     "execution_count": 23,
     "metadata": {},
     "output_type": "execute_result"
    }
   ],
   "source": [
    "number_tracks('Monday','Saint-Petersburg')# количество прослушиваний в Санкт-Петербурге по понедельникам"
   ]
  },
  {
   "cell_type": "code",
   "execution_count": 24,
   "metadata": {
    "id": "_NTy2VPU_Zcu"
   },
   "outputs": [
    {
     "data": {
      "text/plain": [
       "11056"
      ]
     },
     "execution_count": 24,
     "metadata": {},
     "output_type": "execute_result"
    }
   ],
   "source": [
    "number_tracks('Wednesday','Moscow')# количество прослушиваний в Москве по средам"
   ]
  },
  {
   "cell_type": "code",
   "execution_count": 25,
   "metadata": {
    "id": "j2y3TAwo_Zcu"
   },
   "outputs": [
    {
     "data": {
      "text/plain": [
       "7003"
      ]
     },
     "execution_count": 25,
     "metadata": {},
     "output_type": "execute_result"
    }
   ],
   "source": [
    "number_tracks('Wednesday','Saint-Petersburg')# количество прослушиваний в Санкт-Петербурге по средам"
   ]
  },
  {
   "cell_type": "code",
   "execution_count": 26,
   "metadata": {
    "id": "vYDw5u_K_Zcu"
   },
   "outputs": [
    {
     "data": {
      "text/plain": [
       "15945"
      ]
     },
     "execution_count": 26,
     "metadata": {},
     "output_type": "execute_result"
    }
   ],
   "source": [
    "number_tracks('Friday','Moscow')# количество прослушиваний в Москве по пятницам"
   ]
  },
  {
   "cell_type": "code",
   "execution_count": 27,
   "metadata": {
    "id": "8_yzFtW3_Zcu"
   },
   "outputs": [
    {
     "data": {
      "text/plain": [
       "5895"
      ]
     },
     "execution_count": 27,
     "metadata": {},
     "output_type": "execute_result"
    }
   ],
   "source": [
    "number_tracks('Friday','Saint-Petersburg')# количество прослушиваний в Санкт-Петербурге по пятницам"
   ]
  },
  {
   "cell_type": "markdown",
   "metadata": {
    "id": "7QXffbO-_Zcu"
   },
   "source": [
    "Создадим таблицу, где\n",
    "* названия колонок — `['city', 'monday', 'wednesday', 'friday']`;\n",
    "* данные — результаты, которые вы получили с помощью `number_tracks`."
   ]
  },
  {
   "cell_type": "code",
   "execution_count": 28,
   "metadata": {
    "id": "APAcLpOr_Zcu"
   },
   "outputs": [
    {
     "data": {
      "text/html": [
       "<div>\n",
       "<style scoped>\n",
       "    .dataframe tbody tr th:only-of-type {\n",
       "        vertical-align: middle;\n",
       "    }\n",
       "\n",
       "    .dataframe tbody tr th {\n",
       "        vertical-align: top;\n",
       "    }\n",
       "\n",
       "    .dataframe thead th {\n",
       "        text-align: right;\n",
       "    }\n",
       "</style>\n",
       "<table border=\"1\" class=\"dataframe\">\n",
       "  <thead>\n",
       "    <tr style=\"text-align: right;\">\n",
       "      <th></th>\n",
       "      <th>city</th>\n",
       "      <th>monday</th>\n",
       "      <th>wednesday</th>\n",
       "      <th>friday</th>\n",
       "    </tr>\n",
       "  </thead>\n",
       "  <tbody>\n",
       "    <tr>\n",
       "      <th>0</th>\n",
       "      <td>Moscow</td>\n",
       "      <td>15740</td>\n",
       "      <td>11056</td>\n",
       "      <td>15945</td>\n",
       "    </tr>\n",
       "    <tr>\n",
       "      <th>1</th>\n",
       "      <td>Saint-Petersburg</td>\n",
       "      <td>5614</td>\n",
       "      <td>7003</td>\n",
       "      <td>5895</td>\n",
       "    </tr>\n",
       "  </tbody>\n",
       "</table>\n",
       "</div>"
      ],
      "text/plain": [
       "               city  monday  wednesday  friday\n",
       "0            Moscow   15740      11056   15945\n",
       "1  Saint-Petersburg    5614       7003    5895"
      ]
     },
     "execution_count": 28,
     "metadata": {},
     "output_type": "execute_result"
    }
   ],
   "source": [
    "columns = ['city', 'monday', 'wednesday', 'friday']\n",
    "data = [['Moscow', 15740, 11056, 15945],\n",
    "       ['Saint-Petersburg', 5614, 7003, 5895]\n",
    "       ]\n",
    "city_weekday_stat = pd.DataFrame(data = data, columns = columns)\n",
    "city_weekday_stat# Таблица с результатами"
   ]
  },
  {
   "cell_type": "markdown",
   "metadata": {
    "id": "-EgPIHYu_Zcu"
   },
   "source": [
    "**Выводы**\n",
    "\n",
    "Данные показывают разницу поведения пользователей:\n",
    "\n",
    "- В Москве пик прослушиваний приходится на понедельник и пятницу, а в среду заметен спад.\n",
    "- В Петербурге, наоборот, больше слушают музыку по средам. Активность в понедельник и пятницу здесь почти в равной мере уступает среде.\n",
    "\n",
    "Значит, данные говорят в пользу первой гипотезы."
   ]
  },
  {
   "cell_type": "markdown",
   "metadata": {
    "id": "atZAxtq4_Zcu"
   },
   "source": [
    "### Музыка в начале и в конце недели"
   ]
  },
  {
   "cell_type": "markdown",
   "metadata": {
    "id": "eXrQqXFH_Zcu"
   },
   "source": [
    "Согласно второй гипотезе, утром в понедельник в Москве преобладают одни жанры, а в Петербурге — другие. Так же и вечером пятницы преобладают разные жанры — в зависимости от города."
   ]
  },
  {
   "cell_type": "markdown",
   "metadata": {
    "id": "S8UcW6Hw_Zcu"
   },
   "source": [
    "Сохраним таблицы с данными в две переменные:\n",
    "* по Москве — в `moscow_general`;\n",
    "* по Санкт-Петербургу — в `spb_general`."
   ]
  },
  {
   "cell_type": "code",
   "execution_count": 29,
   "metadata": {
    "id": "qeaFfM_P_Zcu"
   },
   "outputs": [
    {
     "data": {
      "text/html": [
       "<div>\n",
       "<style scoped>\n",
       "    .dataframe tbody tr th:only-of-type {\n",
       "        vertical-align: middle;\n",
       "    }\n",
       "\n",
       "    .dataframe tbody tr th {\n",
       "        vertical-align: top;\n",
       "    }\n",
       "\n",
       "    .dataframe thead th {\n",
       "        text-align: right;\n",
       "    }\n",
       "</style>\n",
       "<table border=\"1\" class=\"dataframe\">\n",
       "  <thead>\n",
       "    <tr style=\"text-align: right;\">\n",
       "      <th></th>\n",
       "      <th>user_id</th>\n",
       "      <th>track</th>\n",
       "      <th>artist</th>\n",
       "      <th>genre</th>\n",
       "      <th>city</th>\n",
       "      <th>time</th>\n",
       "      <th>day</th>\n",
       "    </tr>\n",
       "  </thead>\n",
       "  <tbody>\n",
       "    <tr>\n",
       "      <th>1</th>\n",
       "      <td>55204538</td>\n",
       "      <td>Delayed Because of Accident</td>\n",
       "      <td>Andreas Rönnberg</td>\n",
       "      <td>rock</td>\n",
       "      <td>Moscow</td>\n",
       "      <td>14:07:09</td>\n",
       "      <td>Friday</td>\n",
       "    </tr>\n",
       "    <tr>\n",
       "      <th>4</th>\n",
       "      <td>E2DC1FAE</td>\n",
       "      <td>Soul People</td>\n",
       "      <td>Space Echo</td>\n",
       "      <td>dance</td>\n",
       "      <td>Moscow</td>\n",
       "      <td>08:34:34</td>\n",
       "      <td>Monday</td>\n",
       "    </tr>\n",
       "    <tr>\n",
       "      <th>6</th>\n",
       "      <td>4CB90AA5</td>\n",
       "      <td>True</td>\n",
       "      <td>Roman Messer</td>\n",
       "      <td>dance</td>\n",
       "      <td>Moscow</td>\n",
       "      <td>13:00:07</td>\n",
       "      <td>Wednesday</td>\n",
       "    </tr>\n",
       "    <tr>\n",
       "      <th>7</th>\n",
       "      <td>F03E1C1F</td>\n",
       "      <td>Feeling This Way</td>\n",
       "      <td>Polina Griffith</td>\n",
       "      <td>dance</td>\n",
       "      <td>Moscow</td>\n",
       "      <td>20:47:49</td>\n",
       "      <td>Wednesday</td>\n",
       "    </tr>\n",
       "    <tr>\n",
       "      <th>8</th>\n",
       "      <td>8FA1D3BE</td>\n",
       "      <td>И вновь продолжается бой</td>\n",
       "      <td>unknown</td>\n",
       "      <td>ruspop</td>\n",
       "      <td>Moscow</td>\n",
       "      <td>09:17:40</td>\n",
       "      <td>Friday</td>\n",
       "    </tr>\n",
       "  </tbody>\n",
       "</table>\n",
       "</div>"
      ],
      "text/plain": [
       "    user_id                        track            artist   genre    city  \\\n",
       "1  55204538  Delayed Because of Accident  Andreas Rönnberg    rock  Moscow   \n",
       "4  E2DC1FAE                  Soul People        Space Echo   dance  Moscow   \n",
       "6  4CB90AA5                         True      Roman Messer   dance  Moscow   \n",
       "7  F03E1C1F             Feeling This Way   Polina Griffith   dance  Moscow   \n",
       "8  8FA1D3BE     И вновь продолжается бой           unknown  ruspop  Moscow   \n",
       "\n",
       "       time        day  \n",
       "1  14:07:09     Friday  \n",
       "4  08:34:34     Monday  \n",
       "6  13:00:07  Wednesday  \n",
       "7  20:47:49  Wednesday  \n",
       "8  09:17:40     Friday  "
      ]
     },
     "execution_count": 29,
     "metadata": {},
     "output_type": "execute_result"
    }
   ],
   "source": [
    "moscow_general = df[df['city'] == 'Moscow']\n",
    "moscow_general.head()"
   ]
  },
  {
   "cell_type": "code",
   "execution_count": 30,
   "metadata": {
    "id": "ORaVRKto_Zcu"
   },
   "outputs": [
    {
     "data": {
      "text/html": [
       "<div>\n",
       "<style scoped>\n",
       "    .dataframe tbody tr th:only-of-type {\n",
       "        vertical-align: middle;\n",
       "    }\n",
       "\n",
       "    .dataframe tbody tr th {\n",
       "        vertical-align: top;\n",
       "    }\n",
       "\n",
       "    .dataframe thead th {\n",
       "        text-align: right;\n",
       "    }\n",
       "</style>\n",
       "<table border=\"1\" class=\"dataframe\">\n",
       "  <thead>\n",
       "    <tr style=\"text-align: right;\">\n",
       "      <th></th>\n",
       "      <th>user_id</th>\n",
       "      <th>track</th>\n",
       "      <th>artist</th>\n",
       "      <th>genre</th>\n",
       "      <th>city</th>\n",
       "      <th>time</th>\n",
       "      <th>day</th>\n",
       "    </tr>\n",
       "  </thead>\n",
       "  <tbody>\n",
       "    <tr>\n",
       "      <th>0</th>\n",
       "      <td>FFB692EC</td>\n",
       "      <td>Kamigata To Boots</td>\n",
       "      <td>The Mass Missile</td>\n",
       "      <td>rock</td>\n",
       "      <td>Saint-Petersburg</td>\n",
       "      <td>20:28:33</td>\n",
       "      <td>Wednesday</td>\n",
       "    </tr>\n",
       "    <tr>\n",
       "      <th>2</th>\n",
       "      <td>20EC38</td>\n",
       "      <td>Funiculì funiculà</td>\n",
       "      <td>Mario Lanza</td>\n",
       "      <td>pop</td>\n",
       "      <td>Saint-Petersburg</td>\n",
       "      <td>20:58:07</td>\n",
       "      <td>Wednesday</td>\n",
       "    </tr>\n",
       "    <tr>\n",
       "      <th>3</th>\n",
       "      <td>A3DD03C9</td>\n",
       "      <td>Dragons in the Sunset</td>\n",
       "      <td>Fire + Ice</td>\n",
       "      <td>folk</td>\n",
       "      <td>Saint-Petersburg</td>\n",
       "      <td>08:37:09</td>\n",
       "      <td>Monday</td>\n",
       "    </tr>\n",
       "    <tr>\n",
       "      <th>5</th>\n",
       "      <td>842029A1</td>\n",
       "      <td>Преданная</td>\n",
       "      <td>IMPERVTOR</td>\n",
       "      <td>rusrap</td>\n",
       "      <td>Saint-Petersburg</td>\n",
       "      <td>13:09:41</td>\n",
       "      <td>Friday</td>\n",
       "    </tr>\n",
       "    <tr>\n",
       "      <th>9</th>\n",
       "      <td>E772D5C0</td>\n",
       "      <td>Pessimist</td>\n",
       "      <td>unknown</td>\n",
       "      <td>dance</td>\n",
       "      <td>Saint-Petersburg</td>\n",
       "      <td>21:20:49</td>\n",
       "      <td>Wednesday</td>\n",
       "    </tr>\n",
       "  </tbody>\n",
       "</table>\n",
       "</div>"
      ],
      "text/plain": [
       "    user_id                  track            artist   genre  \\\n",
       "0  FFB692EC      Kamigata To Boots  The Mass Missile    rock   \n",
       "2    20EC38      Funiculì funiculà       Mario Lanza     pop   \n",
       "3  A3DD03C9  Dragons in the Sunset        Fire + Ice    folk   \n",
       "5  842029A1              Преданная         IMPERVTOR  rusrap   \n",
       "9  E772D5C0              Pessimist           unknown   dance   \n",
       "\n",
       "               city      time        day  \n",
       "0  Saint-Petersburg  20:28:33  Wednesday  \n",
       "2  Saint-Petersburg  20:58:07  Wednesday  \n",
       "3  Saint-Petersburg  08:37:09     Monday  \n",
       "5  Saint-Petersburg  13:09:41     Friday  \n",
       "9  Saint-Petersburg  21:20:49  Wednesday  "
      ]
     },
     "execution_count": 30,
     "metadata": {},
     "output_type": "execute_result"
    }
   ],
   "source": [
    "spb_general = df[df['city'] == 'Saint-Petersburg']\n",
    "spb_general.head()"
   ]
  },
  {
   "cell_type": "markdown",
   "metadata": {
    "id": "MEJV-CX2_Zcu"
   },
   "source": [
    "Создадим функцию `genre_weekday()` с четырьмя параметрами:\n",
    "* таблица (датафрейм) с данными,\n",
    "* день недели,\n",
    "* начальная временная метка в формате 'hh:mm', \n",
    "* последняя временная метка в формате 'hh:mm'.\n",
    "\n",
    "Функция должна вернуть информацию о топ-10 жанров тех треков, которые прослушивали в указанный день, в промежутке между двумя отметками времени."
   ]
  },
  {
   "cell_type": "code",
   "execution_count": 31,
   "metadata": {
    "id": "laJT9BYl_Zcu"
   },
   "outputs": [],
   "source": [
    "def genre_weekday(table, day, time1, time2):\n",
    "    genre_df = table.loc[table.loc[:,'day'] == day]\n",
    "    genre_df = genre_df.loc[genre_df.loc[:,'time'] > time1]\n",
    "    genre_df = genre_df.loc[genre_df.loc[:,'time'] < time2]\n",
    "    genre_df_count = genre_df.groupby('genre')['genre'].count()\n",
    "    genre_df_sorted = genre_df_count.sort_values(ascending = False)\n",
    "    return genre_df_sorted[:10]"
   ]
  },
  {
   "cell_type": "markdown",
   "metadata": {
    "id": "la2s2_PF_Zcu"
   },
   "source": [
    "Cравним результаты функции `genre_weekday()` для Москвы и Санкт-Петербурга в понедельник утром (с 7:00 до 11:00) и в пятницу вечером (с 17:00 до 23:00):"
   ]
  },
  {
   "cell_type": "code",
   "execution_count": 32,
   "metadata": {
    "id": "yz7itPUQ_Zcu"
   },
   "outputs": [
    {
     "data": {
      "text/html": [
       "<div>\n",
       "<style scoped>\n",
       "    .dataframe tbody tr th:only-of-type {\n",
       "        vertical-align: middle;\n",
       "    }\n",
       "\n",
       "    .dataframe tbody tr th {\n",
       "        vertical-align: top;\n",
       "    }\n",
       "\n",
       "    .dataframe thead th {\n",
       "        text-align: right;\n",
       "    }\n",
       "</style>\n",
       "<table border=\"1\" class=\"dataframe\">\n",
       "  <thead>\n",
       "    <tr style=\"text-align: right;\">\n",
       "      <th></th>\n",
       "      <th>genre</th>\n",
       "    </tr>\n",
       "    <tr>\n",
       "      <th>genre</th>\n",
       "      <th></th>\n",
       "    </tr>\n",
       "  </thead>\n",
       "  <tbody>\n",
       "    <tr>\n",
       "      <th>pop</th>\n",
       "      <td>781</td>\n",
       "    </tr>\n",
       "    <tr>\n",
       "      <th>dance</th>\n",
       "      <td>549</td>\n",
       "    </tr>\n",
       "    <tr>\n",
       "      <th>electronic</th>\n",
       "      <td>480</td>\n",
       "    </tr>\n",
       "    <tr>\n",
       "      <th>rock</th>\n",
       "      <td>474</td>\n",
       "    </tr>\n",
       "    <tr>\n",
       "      <th>hiphop</th>\n",
       "      <td>286</td>\n",
       "    </tr>\n",
       "    <tr>\n",
       "      <th>ruspop</th>\n",
       "      <td>186</td>\n",
       "    </tr>\n",
       "    <tr>\n",
       "      <th>world</th>\n",
       "      <td>181</td>\n",
       "    </tr>\n",
       "    <tr>\n",
       "      <th>rusrap</th>\n",
       "      <td>175</td>\n",
       "    </tr>\n",
       "    <tr>\n",
       "      <th>alternative</th>\n",
       "      <td>164</td>\n",
       "    </tr>\n",
       "    <tr>\n",
       "      <th>unknown</th>\n",
       "      <td>161</td>\n",
       "    </tr>\n",
       "  </tbody>\n",
       "</table>\n",
       "</div>"
      ],
      "text/plain": [
       "             genre\n",
       "genre             \n",
       "pop            781\n",
       "dance          549\n",
       "electronic     480\n",
       "rock           474\n",
       "hiphop         286\n",
       "ruspop         186\n",
       "world          181\n",
       "rusrap         175\n",
       "alternative    164\n",
       "unknown        161"
      ]
     },
     "execution_count": 32,
     "metadata": {},
     "output_type": "execute_result"
    }
   ],
   "source": [
    "genre_weekday(moscow_general, 'Monday', '07:00', '11:00').to_frame()"
   ]
  },
  {
   "cell_type": "code",
   "execution_count": 33,
   "metadata": {
    "id": "kwUcHPdy_Zcu"
   },
   "outputs": [
    {
     "data": {
      "text/plain": [
       "genre\n",
       "pop            218\n",
       "dance          182\n",
       "rock           162\n",
       "electronic     147\n",
       "hiphop          80\n",
       "ruspop          64\n",
       "alternative     58\n",
       "rusrap          55\n",
       "jazz            44\n",
       "classical       40\n",
       "Name: genre, dtype: int64"
      ]
     },
     "execution_count": 33,
     "metadata": {},
     "output_type": "execute_result"
    }
   ],
   "source": [
    "genre_weekday(spb_general, 'Monday', '07:00', '11:00')"
   ]
  },
  {
   "cell_type": "code",
   "execution_count": 34,
   "metadata": {
    "id": "EzXVRE1o_Zcu"
   },
   "outputs": [
    {
     "data": {
      "text/plain": [
       "genre\n",
       "pop            713\n",
       "rock           517\n",
       "dance          495\n",
       "electronic     482\n",
       "hiphop         273\n",
       "world          208\n",
       "ruspop         170\n",
       "alternative    163\n",
       "classical      163\n",
       "rusrap         142\n",
       "Name: genre, dtype: int64"
      ]
     },
     "execution_count": 34,
     "metadata": {},
     "output_type": "execute_result"
    }
   ],
   "source": [
    "genre_weekday(moscow_general, 'Friday', '17:00', '23:00')"
   ]
  },
  {
   "cell_type": "code",
   "execution_count": 35,
   "metadata": {
    "id": "JZaEKu5v_Zcu"
   },
   "outputs": [
    {
     "data": {
      "text/plain": [
       "genre\n",
       "pop            256\n",
       "electronic     216\n",
       "rock           216\n",
       "dance          210\n",
       "hiphop          97\n",
       "alternative     63\n",
       "jazz            61\n",
       "classical       60\n",
       "rusrap          59\n",
       "world           54\n",
       "Name: genre, dtype: int64"
      ]
     },
     "execution_count": 35,
     "metadata": {},
     "output_type": "execute_result"
    }
   ],
   "source": [
    "genre_weekday(spb_general, 'Friday', '17:00', '23:00')"
   ]
  },
  {
   "cell_type": "markdown",
   "metadata": {
    "id": "wrCe4MNX_Zcu"
   },
   "source": [
    "**Выводы**\n",
    "\n",
    "Если сравнить топ-10 жанров в понедельник утром, можно сделать такие выводы:\n",
    "\n",
    "1. В Москве и Петербурге слушают похожую музыку. Единственное отличие — в московский рейтинг вошёл жанр “world”, а в петербургский — джаз и классика.\n",
    "\n",
    "2. В Москве пропущенных значений оказалось так много, что значение `'unknown'` заняло десятое место среди самых популярных жанров. Значит, пропущенные значения занимают существенную долю в данных и угрожают достоверности исследования.\n",
    "\n",
    "Вечер пятницы не меняет эту картину. Некоторые жанры поднимаются немного выше, другие спускаются, но в целом топ-10 остаётся тем же самым.\n",
    "\n",
    "Таким образом, вторая гипотеза подтвердилась лишь частично:\n",
    "* Пользователи слушают похожую музыку в начале недели и в конце.\n",
    "* Разница между Москвой и Петербургом не слишком выражена. В Москве чаще слушают русскую популярную музыку, в Петербурге — джаз.\n",
    "\n",
    "Однако пропуски в данных ставят под сомнение этот результат. В Москве их так много, что рейтинг топ-10 мог бы выглядеть иначе, если бы не утерянные  данные о жанрах."
   ]
  },
  {
   "cell_type": "markdown",
   "metadata": {
    "id": "JolODAqr_Zcu"
   },
   "source": [
    "### Жанровые предпочтения в Москве и Петербурге\n",
    "\n",
    "Гипотеза: Петербург — столица рэпа, музыку этого жанра там слушают чаще, чем в Москве.  А Москва — город контрастов, в котором, тем не менее, преобладает поп-музыка."
   ]
  },
  {
   "cell_type": "markdown",
   "metadata": {
    "id": "DlegSvaT_Zcu"
   },
   "source": [
    "Сгруппируем таблицу `moscow_general` по жанру и посчитаем прослушивания треков каждого жанра методом `count()`. Затем отсортируем результат в порядке убывания и сохраним его в таблице `moscow_genres`."
   ]
  },
  {
   "cell_type": "code",
   "execution_count": 36,
   "metadata": {
    "id": "r19lIPke_Zcu"
   },
   "outputs": [],
   "source": [
    "moscow_genres = moscow_general.groupby('genre')['genre'].count()\n",
    "moscow_genres = moscow_genres.sort_values(ascending = False)"
   ]
  },
  {
   "cell_type": "markdown",
   "metadata": {
    "id": "6kMuomxTiIr8"
   },
   "source": [
    "Выведем на экран первые десять строк `moscow_genres`:"
   ]
  },
  {
   "cell_type": "code",
   "execution_count": 37,
   "metadata": {
    "id": "WhCSooF8_Zcv"
   },
   "outputs": [
    {
     "data": {
      "text/plain": [
       "genre\n",
       "pop            5892\n",
       "dance          4435\n",
       "rock           3965\n",
       "electronic     3786\n",
       "hiphop         2096\n",
       "classical      1616\n",
       "world          1432\n",
       "alternative    1379\n",
       "ruspop         1372\n",
       "rusrap         1161\n",
       "Name: genre, dtype: int64"
      ]
     },
     "execution_count": 37,
     "metadata": {},
     "output_type": "execute_result"
    }
   ],
   "source": [
    "moscow_genres.head(10)"
   ]
  },
  {
   "cell_type": "markdown",
   "metadata": {
    "id": "cnPG2vnN_Zcv"
   },
   "source": [
    "Теперь сделаем то же и для Петербурга."
   ]
  },
  {
   "cell_type": "code",
   "execution_count": 38,
   "metadata": {
    "id": "gluLIpE7_Zcv"
   },
   "outputs": [],
   "source": [
    "spb_genres = spb_general.groupby('genre')['genre'].count()\n",
    "spb_genres= spb_genres.sort_values(ascending = False)"
   ]
  },
  {
   "cell_type": "markdown",
   "metadata": {
    "id": "5Doha_ODgyQ8"
   },
   "source": [
    "Выведем на экран первые десять строк `spb_genres`:"
   ]
  },
  {
   "cell_type": "code",
   "execution_count": 39,
   "metadata": {
    "id": "uaGJHjVU_Zcv"
   },
   "outputs": [
    {
     "data": {
      "text/plain": [
       "genre\n",
       "pop            2431\n",
       "dance          1932\n",
       "rock           1879\n",
       "electronic     1736\n",
       "hiphop          960\n",
       "alternative     649\n",
       "classical       646\n",
       "rusrap          564\n",
       "ruspop          538\n",
       "world           515\n",
       "Name: genre, dtype: int64"
      ]
     },
     "execution_count": 39,
     "metadata": {},
     "output_type": "execute_result"
    }
   ],
   "source": [
    "spb_genres.head(10)"
   ]
  },
  {
   "cell_type": "markdown",
   "metadata": {
    "id": "RY51YJYu_Zcv"
   },
   "source": [
    "**Выводы**"
   ]
  },
  {
   "cell_type": "markdown",
   "metadata": {
    "id": "nVhnJEm__Zcv"
   },
   "source": [
    "Гипотеза частично подтвердилась:\n",
    "* Поп-музыка — самый популярный жанр в Москве, как и предполагала гипотеза. Более того, в топ-10 жанров встречается близкий жанр — русская популярная музыка.\n",
    "* Вопреки ожиданиям, рэп одинаково популярен в Москве и Петербурге. \n"
   ]
  },
  {
   "cell_type": "markdown",
   "metadata": {
    "id": "ykKQ0N65_Zcv"
   },
   "source": [
    "## Итоги исследования"
   ]
  },
  {
   "cell_type": "markdown",
   "metadata": {
    "id": "tjUwbHb3_Zcv"
   },
   "source": [
    "Проведена проверка трех гипотез, на основании которых установлено:\n",
    "\n",
    "1. День недели по-разному влияет на активность пользователей в Москве и Петербурге. \n",
    "\n",
    "Первая гипотеза полностью подтвердилась.\n",
    "\n",
    "2. Музыкальные предпочтения не сильно меняются в течение недели — будь то Москва или Петербург. Небольшие различия заметны в начале недели, по понедельникам:\n",
    "* в Москве слушают музыку жанра “world”,\n",
    "* в Петербурге — джаз и классику.\n",
    "\n",
    "Таким образом, вторая гипотеза подтвердилась лишь отчасти. Этот результат мог оказаться иным, если бы не пропуски в данных.\n",
    "\n",
    "3. Во вкусах пользователей Москвы и Петербурга больше общего чем различий. Вопреки ожиданиям, предпочтения жанров в Петербурге напоминают московские.\n",
    "\n",
    "Третья гипотеза не подтвердилась. Если различия в предпочтениях и существуют, на основной массе пользователей они незаметны."
   ]
  }
 ],
 "metadata": {
  "ExecuteTimeLog": [
   {
    "duration": 47,
    "start_time": "2022-04-11T18:34:12.488Z"
   },
   {
    "duration": 413,
    "start_time": "2022-04-11T18:34:53.647Z"
   },
   {
    "duration": 161,
    "start_time": "2022-04-11T18:34:54.062Z"
   },
   {
    "duration": 8,
    "start_time": "2022-04-11T18:34:54.225Z"
   },
   {
    "duration": 7,
    "start_time": "2022-04-11T18:36:53.982Z"
   },
   {
    "duration": 7,
    "start_time": "2022-04-11T18:37:58.961Z"
   },
   {
    "duration": 6,
    "start_time": "2022-04-11T18:39:34.906Z"
   },
   {
    "duration": 7,
    "start_time": "2022-04-11T18:39:55.669Z"
   },
   {
    "duration": 14,
    "start_time": "2022-04-11T18:40:32.451Z"
   },
   {
    "duration": 30,
    "start_time": "2022-04-11T18:40:44.814Z"
   },
   {
    "duration": 5,
    "start_time": "2022-04-11T18:58:04.898Z"
   },
   {
    "duration": 15,
    "start_time": "2022-04-11T19:00:58.420Z"
   },
   {
    "duration": 20,
    "start_time": "2022-04-11T19:01:29.732Z"
   },
   {
    "duration": 13,
    "start_time": "2022-04-11T19:01:56.442Z"
   },
   {
    "duration": 4,
    "start_time": "2022-04-11T19:02:03.670Z"
   },
   {
    "duration": 28,
    "start_time": "2022-04-11T19:05:50.578Z"
   },
   {
    "duration": 27,
    "start_time": "2022-04-11T19:17:42.258Z"
   },
   {
    "duration": 2,
    "start_time": "2022-04-11T19:18:48.992Z"
   },
   {
    "duration": 41,
    "start_time": "2022-04-11T19:18:48.998Z"
   },
   {
    "duration": 0,
    "start_time": "2022-04-11T19:18:49.041Z"
   },
   {
    "duration": 0,
    "start_time": "2022-04-11T19:18:49.043Z"
   },
   {
    "duration": 0,
    "start_time": "2022-04-11T19:18:49.044Z"
   },
   {
    "duration": 0,
    "start_time": "2022-04-11T19:18:49.045Z"
   },
   {
    "duration": 0,
    "start_time": "2022-04-11T19:18:49.047Z"
   },
   {
    "duration": 0,
    "start_time": "2022-04-11T19:18:49.048Z"
   },
   {
    "duration": 0,
    "start_time": "2022-04-11T19:18:49.050Z"
   },
   {
    "duration": 2,
    "start_time": "2022-04-11T19:20:09.039Z"
   },
   {
    "duration": 1680,
    "start_time": "2022-04-11T19:20:09.044Z"
   },
   {
    "duration": 9,
    "start_time": "2022-04-11T19:20:10.726Z"
   },
   {
    "duration": 45,
    "start_time": "2022-04-11T19:20:10.737Z"
   },
   {
    "duration": 4,
    "start_time": "2022-04-11T19:20:10.785Z"
   },
   {
    "duration": 11,
    "start_time": "2022-04-11T19:20:10.791Z"
   },
   {
    "duration": 5,
    "start_time": "2022-04-11T19:20:10.804Z"
   },
   {
    "duration": 25,
    "start_time": "2022-04-11T19:20:31.361Z"
   },
   {
    "duration": 26,
    "start_time": "2022-04-11T19:20:49.071Z"
   },
   {
    "duration": 24,
    "start_time": "2022-04-11T19:20:59.832Z"
   },
   {
    "duration": 24,
    "start_time": "2022-04-11T19:21:28.571Z"
   },
   {
    "duration": 44,
    "start_time": "2022-04-11T19:22:00.888Z"
   },
   {
    "duration": 23,
    "start_time": "2022-04-11T19:22:25.861Z"
   },
   {
    "duration": 23,
    "start_time": "2022-04-11T19:23:17.709Z"
   },
   {
    "duration": 23,
    "start_time": "2022-04-11T19:23:38.848Z"
   },
   {
    "duration": 26,
    "start_time": "2022-04-11T19:28:55.749Z"
   },
   {
    "duration": 25,
    "start_time": "2022-04-11T19:29:11.284Z"
   },
   {
    "duration": 24,
    "start_time": "2022-04-11T19:29:25.309Z"
   },
   {
    "duration": 25,
    "start_time": "2022-04-11T19:30:03.824Z"
   },
   {
    "duration": 26,
    "start_time": "2022-04-11T19:30:26.380Z"
   },
   {
    "duration": 2,
    "start_time": "2022-04-11T19:30:35.315Z"
   },
   {
    "duration": 175,
    "start_time": "2022-04-11T19:30:35.319Z"
   },
   {
    "duration": 7,
    "start_time": "2022-04-11T19:30:35.496Z"
   },
   {
    "duration": 43,
    "start_time": "2022-04-11T19:30:35.505Z"
   },
   {
    "duration": 5,
    "start_time": "2022-04-11T19:30:35.555Z"
   },
   {
    "duration": 17,
    "start_time": "2022-04-11T19:30:35.561Z"
   },
   {
    "duration": 9,
    "start_time": "2022-04-11T19:30:35.580Z"
   },
   {
    "duration": 3,
    "start_time": "2022-04-11T19:30:42.815Z"
   },
   {
    "duration": 216,
    "start_time": "2022-04-11T19:30:42.820Z"
   },
   {
    "duration": 17,
    "start_time": "2022-04-11T19:30:43.038Z"
   },
   {
    "duration": 55,
    "start_time": "2022-04-11T19:30:43.057Z"
   },
   {
    "duration": 4,
    "start_time": "2022-04-11T19:30:43.114Z"
   },
   {
    "duration": 11,
    "start_time": "2022-04-11T19:30:43.120Z"
   },
   {
    "duration": 19,
    "start_time": "2022-04-11T19:30:43.133Z"
   },
   {
    "duration": 4,
    "start_time": "2022-04-11T19:30:49.645Z"
   },
   {
    "duration": 178,
    "start_time": "2022-04-11T19:30:49.651Z"
   },
   {
    "duration": 8,
    "start_time": "2022-04-11T19:30:49.830Z"
   },
   {
    "duration": 40,
    "start_time": "2022-04-11T19:30:49.852Z"
   },
   {
    "duration": 3,
    "start_time": "2022-04-11T19:30:49.894Z"
   },
   {
    "duration": 10,
    "start_time": "2022-04-11T19:30:49.899Z"
   },
   {
    "duration": 3,
    "start_time": "2022-04-11T19:30:49.911Z"
   },
   {
    "duration": 50,
    "start_time": "2022-04-11T19:30:49.916Z"
   },
   {
    "duration": 41,
    "start_time": "2022-04-11T19:31:02.592Z"
   },
   {
    "duration": 26,
    "start_time": "2022-04-11T19:31:27.822Z"
   },
   {
    "duration": 33,
    "start_time": "2022-04-11T19:31:49.749Z"
   },
   {
    "duration": 2,
    "start_time": "2022-04-11T19:31:54.901Z"
   },
   {
    "duration": 178,
    "start_time": "2022-04-11T19:31:54.908Z"
   },
   {
    "duration": 6,
    "start_time": "2022-04-11T19:31:55.088Z"
   },
   {
    "duration": 34,
    "start_time": "2022-04-11T19:31:55.096Z"
   },
   {
    "duration": 22,
    "start_time": "2022-04-11T19:31:55.131Z"
   },
   {
    "duration": 16,
    "start_time": "2022-04-11T19:31:55.156Z"
   },
   {
    "duration": 4,
    "start_time": "2022-04-11T19:31:55.174Z"
   },
   {
    "duration": 45,
    "start_time": "2022-04-11T19:31:55.180Z"
   },
   {
    "duration": 44,
    "start_time": "2022-04-11T19:31:55.226Z"
   },
   {
    "duration": 40,
    "start_time": "2022-04-11T19:32:13.749Z"
   },
   {
    "duration": 2,
    "start_time": "2022-04-11T19:32:33.161Z"
   },
   {
    "duration": 163,
    "start_time": "2022-04-11T19:32:33.165Z"
   },
   {
    "duration": 7,
    "start_time": "2022-04-11T19:32:33.330Z"
   },
   {
    "duration": 37,
    "start_time": "2022-04-11T19:32:33.347Z"
   },
   {
    "duration": 6,
    "start_time": "2022-04-11T19:32:33.386Z"
   },
   {
    "duration": 9,
    "start_time": "2022-04-11T19:32:33.394Z"
   },
   {
    "duration": 5,
    "start_time": "2022-04-11T19:32:33.405Z"
   },
   {
    "duration": 64,
    "start_time": "2022-04-11T19:32:33.412Z"
   },
   {
    "duration": 2,
    "start_time": "2022-04-11T19:32:45.180Z"
   },
   {
    "duration": 164,
    "start_time": "2022-04-11T19:32:45.187Z"
   },
   {
    "duration": 9,
    "start_time": "2022-04-11T19:32:45.354Z"
   },
   {
    "duration": 31,
    "start_time": "2022-04-11T19:32:45.366Z"
   },
   {
    "duration": 5,
    "start_time": "2022-04-11T19:32:45.399Z"
   },
   {
    "duration": 16,
    "start_time": "2022-04-11T19:32:45.405Z"
   },
   {
    "duration": 4,
    "start_time": "2022-04-11T19:32:45.423Z"
   },
   {
    "duration": 33,
    "start_time": "2022-04-11T19:32:45.450Z"
   },
   {
    "duration": 19,
    "start_time": "2022-04-11T19:32:45.485Z"
   },
   {
    "duration": 3,
    "start_time": "2022-04-11T19:32:52.322Z"
   },
   {
    "duration": 168,
    "start_time": "2022-04-11T19:32:52.328Z"
   },
   {
    "duration": 6,
    "start_time": "2022-04-11T19:32:52.498Z"
   },
   {
    "duration": 45,
    "start_time": "2022-04-11T19:32:52.506Z"
   },
   {
    "duration": 14,
    "start_time": "2022-04-11T19:32:52.554Z"
   },
   {
    "duration": 17,
    "start_time": "2022-04-11T19:32:52.569Z"
   },
   {
    "duration": 4,
    "start_time": "2022-04-11T19:32:52.588Z"
   },
   {
    "duration": 26,
    "start_time": "2022-04-11T19:32:52.594Z"
   },
   {
    "duration": 36,
    "start_time": "2022-04-11T19:32:52.622Z"
   },
   {
    "duration": 27,
    "start_time": "2022-04-11T19:32:52.660Z"
   },
   {
    "duration": 69,
    "start_time": "2022-04-11T19:34:15.295Z"
   },
   {
    "duration": 15,
    "start_time": "2022-04-11T19:37:16.249Z"
   },
   {
    "duration": 71,
    "start_time": "2022-04-11T19:37:44.574Z"
   },
   {
    "duration": 63,
    "start_time": "2022-04-11T19:38:08.340Z"
   },
   {
    "duration": 7,
    "start_time": "2022-04-11T19:43:07.837Z"
   },
   {
    "duration": 7,
    "start_time": "2022-04-11T19:45:40.470Z"
   },
   {
    "duration": 3,
    "start_time": "2022-04-11T19:54:35.235Z"
   },
   {
    "duration": 10,
    "start_time": "2022-04-11T19:55:31.844Z"
   },
   {
    "duration": 6,
    "start_time": "2022-04-11T19:56:20.453Z"
   },
   {
    "duration": 57,
    "start_time": "2022-04-12T18:31:32.337Z"
   },
   {
    "duration": 411,
    "start_time": "2022-04-12T18:31:54.620Z"
   },
   {
    "duration": 173,
    "start_time": "2022-04-12T18:31:55.034Z"
   },
   {
    "duration": 17,
    "start_time": "2022-04-12T18:31:55.208Z"
   },
   {
    "duration": 38,
    "start_time": "2022-04-12T18:31:55.228Z"
   },
   {
    "duration": 8,
    "start_time": "2022-04-12T18:31:55.268Z"
   },
   {
    "duration": 15,
    "start_time": "2022-04-12T18:31:55.278Z"
   },
   {
    "duration": 29,
    "start_time": "2022-04-12T18:31:55.295Z"
   },
   {
    "duration": 26,
    "start_time": "2022-04-12T18:31:55.326Z"
   },
   {
    "duration": 23,
    "start_time": "2022-04-12T18:31:55.354Z"
   },
   {
    "duration": 46,
    "start_time": "2022-04-12T18:31:55.380Z"
   },
   {
    "duration": 94,
    "start_time": "2022-04-12T18:31:55.430Z"
   },
   {
    "duration": 97,
    "start_time": "2022-04-12T18:31:55.526Z"
   },
   {
    "duration": 62,
    "start_time": "2022-04-12T18:31:55.624Z"
   },
   {
    "duration": 7,
    "start_time": "2022-04-12T18:31:55.687Z"
   },
   {
    "duration": 3,
    "start_time": "2022-04-12T18:31:55.696Z"
   },
   {
    "duration": 30,
    "start_time": "2022-04-12T18:31:55.700Z"
   },
   {
    "duration": 9,
    "start_time": "2022-04-12T18:31:55.732Z"
   },
   {
    "duration": 3,
    "start_time": "2022-04-12T18:32:04.435Z"
   },
   {
    "duration": 235,
    "start_time": "2022-04-12T18:32:04.441Z"
   },
   {
    "duration": 9,
    "start_time": "2022-04-12T18:32:04.678Z"
   },
   {
    "duration": 43,
    "start_time": "2022-04-12T18:32:04.689Z"
   },
   {
    "duration": 14,
    "start_time": "2022-04-12T18:32:04.735Z"
   },
   {
    "duration": 18,
    "start_time": "2022-04-12T18:32:04.751Z"
   },
   {
    "duration": 9,
    "start_time": "2022-04-12T18:32:04.771Z"
   },
   {
    "duration": 44,
    "start_time": "2022-04-12T18:32:04.782Z"
   },
   {
    "duration": 45,
    "start_time": "2022-04-12T18:32:04.828Z"
   },
   {
    "duration": 26,
    "start_time": "2022-04-12T18:32:04.875Z"
   },
   {
    "duration": 80,
    "start_time": "2022-04-12T18:32:04.904Z"
   },
   {
    "duration": 87,
    "start_time": "2022-04-12T18:32:04.986Z"
   },
   {
    "duration": 67,
    "start_time": "2022-04-12T18:32:05.075Z"
   },
   {
    "duration": 7,
    "start_time": "2022-04-12T18:32:05.143Z"
   },
   {
    "duration": 25,
    "start_time": "2022-04-12T18:32:05.152Z"
   },
   {
    "duration": 41,
    "start_time": "2022-04-12T18:32:05.179Z"
   },
   {
    "duration": 13,
    "start_time": "2022-04-12T18:32:05.222Z"
   },
   {
    "duration": 64,
    "start_time": "2022-04-12T18:32:05.237Z"
   },
   {
    "duration": 8,
    "start_time": "2022-04-12T18:34:26.603Z"
   },
   {
    "duration": 9,
    "start_time": "2022-04-12T18:34:57.552Z"
   },
   {
    "duration": 3,
    "start_time": "2022-04-12T18:35:37.337Z"
   },
   {
    "duration": 3,
    "start_time": "2022-04-12T18:36:23.124Z"
   },
   {
    "duration": 202,
    "start_time": "2022-04-12T18:36:23.129Z"
   },
   {
    "duration": 10,
    "start_time": "2022-04-12T18:36:23.334Z"
   },
   {
    "duration": 44,
    "start_time": "2022-04-12T18:36:23.346Z"
   },
   {
    "duration": 4,
    "start_time": "2022-04-12T18:36:23.393Z"
   },
   {
    "duration": 31,
    "start_time": "2022-04-12T18:36:23.398Z"
   },
   {
    "duration": 5,
    "start_time": "2022-04-12T18:36:23.431Z"
   },
   {
    "duration": 29,
    "start_time": "2022-04-12T18:36:23.438Z"
   },
   {
    "duration": 60,
    "start_time": "2022-04-12T18:36:23.469Z"
   },
   {
    "duration": 28,
    "start_time": "2022-04-12T18:36:23.531Z"
   },
   {
    "duration": 88,
    "start_time": "2022-04-12T18:36:23.561Z"
   },
   {
    "duration": 82,
    "start_time": "2022-04-12T18:36:23.651Z"
   },
   {
    "duration": 71,
    "start_time": "2022-04-12T18:36:23.735Z"
   },
   {
    "duration": 17,
    "start_time": "2022-04-12T18:36:23.808Z"
   },
   {
    "duration": 14,
    "start_time": "2022-04-12T18:36:23.827Z"
   },
   {
    "duration": 19,
    "start_time": "2022-04-12T18:36:23.843Z"
   },
   {
    "duration": 13,
    "start_time": "2022-04-12T18:36:23.864Z"
   },
   {
    "duration": 24,
    "start_time": "2022-04-12T18:36:23.879Z"
   },
   {
    "duration": 10,
    "start_time": "2022-04-12T18:37:23.864Z"
   },
   {
    "duration": 10,
    "start_time": "2022-04-12T18:37:49.523Z"
   },
   {
    "duration": 3,
    "start_time": "2022-04-12T18:38:20.246Z"
   },
   {
    "duration": 10,
    "start_time": "2022-04-12T18:40:14.708Z"
   },
   {
    "duration": 15,
    "start_time": "2022-04-12T18:40:16.721Z"
   },
   {
    "duration": 14,
    "start_time": "2022-04-12T18:40:28.187Z"
   },
   {
    "duration": 11,
    "start_time": "2022-04-12T18:40:48.205Z"
   },
   {
    "duration": 14,
    "start_time": "2022-04-12T18:43:56.716Z"
   },
   {
    "duration": 8,
    "start_time": "2022-04-12T19:11:11.242Z"
   },
   {
    "duration": 3,
    "start_time": "2022-04-12T19:11:51.626Z"
   },
   {
    "duration": 576,
    "start_time": "2022-04-12T19:11:51.636Z"
   },
   {
    "duration": 12,
    "start_time": "2022-04-12T19:11:52.214Z"
   },
   {
    "duration": 50,
    "start_time": "2022-04-12T19:11:52.227Z"
   },
   {
    "duration": 7,
    "start_time": "2022-04-12T19:11:52.278Z"
   },
   {
    "duration": 26,
    "start_time": "2022-04-12T19:11:52.287Z"
   },
   {
    "duration": 12,
    "start_time": "2022-04-12T19:11:52.315Z"
   },
   {
    "duration": 42,
    "start_time": "2022-04-12T19:11:52.328Z"
   },
   {
    "duration": 25,
    "start_time": "2022-04-12T19:11:52.372Z"
   },
   {
    "duration": 23,
    "start_time": "2022-04-12T19:11:52.399Z"
   },
   {
    "duration": 90,
    "start_time": "2022-04-12T19:11:52.424Z"
   },
   {
    "duration": 91,
    "start_time": "2022-04-12T19:11:52.516Z"
   },
   {
    "duration": 64,
    "start_time": "2022-04-12T19:11:52.609Z"
   },
   {
    "duration": 7,
    "start_time": "2022-04-12T19:11:52.675Z"
   },
   {
    "duration": 3,
    "start_time": "2022-04-12T19:11:52.684Z"
   },
   {
    "duration": 9,
    "start_time": "2022-04-12T19:11:52.689Z"
   },
   {
    "duration": 7,
    "start_time": "2022-04-12T19:11:52.722Z"
   },
   {
    "duration": 16,
    "start_time": "2022-04-12T19:11:52.733Z"
   },
   {
    "duration": 17,
    "start_time": "2022-04-12T19:11:52.751Z"
   },
   {
    "duration": 5,
    "start_time": "2022-04-12T19:11:52.770Z"
   },
   {
    "duration": 1431,
    "start_time": "2022-04-12T19:11:52.777Z"
   },
   {
    "duration": 1478,
    "start_time": "2022-04-12T19:15:00.519Z"
   },
   {
    "duration": 3,
    "start_time": "2022-04-12T19:15:48.325Z"
   },
   {
    "duration": 216,
    "start_time": "2022-04-12T19:15:48.333Z"
   },
   {
    "duration": 6,
    "start_time": "2022-04-12T19:15:48.551Z"
   },
   {
    "duration": 35,
    "start_time": "2022-04-12T19:15:48.559Z"
   },
   {
    "duration": 4,
    "start_time": "2022-04-12T19:15:48.596Z"
   },
   {
    "duration": 30,
    "start_time": "2022-04-12T19:15:48.602Z"
   },
   {
    "duration": 4,
    "start_time": "2022-04-12T19:15:48.635Z"
   },
   {
    "duration": 33,
    "start_time": "2022-04-12T19:15:48.640Z"
   },
   {
    "duration": 19,
    "start_time": "2022-04-12T19:15:48.675Z"
   },
   {
    "duration": 46,
    "start_time": "2022-04-12T19:15:48.695Z"
   },
   {
    "duration": 85,
    "start_time": "2022-04-12T19:15:48.745Z"
   },
   {
    "duration": 77,
    "start_time": "2022-04-12T19:15:48.831Z"
   },
   {
    "duration": 71,
    "start_time": "2022-04-12T19:15:48.910Z"
   },
   {
    "duration": 6,
    "start_time": "2022-04-12T19:15:48.983Z"
   },
   {
    "duration": 6,
    "start_time": "2022-04-12T19:15:48.990Z"
   },
   {
    "duration": 36,
    "start_time": "2022-04-12T19:15:48.997Z"
   },
   {
    "duration": 7,
    "start_time": "2022-04-12T19:15:49.035Z"
   },
   {
    "duration": 15,
    "start_time": "2022-04-12T19:15:49.044Z"
   },
   {
    "duration": 15,
    "start_time": "2022-04-12T19:15:49.061Z"
   },
   {
    "duration": 5,
    "start_time": "2022-04-12T19:15:49.077Z"
   },
   {
    "duration": 63,
    "start_time": "2022-04-12T19:15:49.083Z"
   },
   {
    "duration": 22,
    "start_time": "2022-04-12T19:16:51.223Z"
   },
   {
    "duration": 3,
    "start_time": "2022-04-12T19:17:14.052Z"
   },
   {
    "duration": 18,
    "start_time": "2022-04-12T19:48:04.337Z"
   },
   {
    "duration": 6,
    "start_time": "2022-04-12T19:48:33.330Z"
   },
   {
    "duration": 175,
    "start_time": "2022-04-12T19:48:33.341Z"
   },
   {
    "duration": 9,
    "start_time": "2022-04-12T19:48:33.518Z"
   },
   {
    "duration": 48,
    "start_time": "2022-04-12T19:48:33.529Z"
   },
   {
    "duration": 4,
    "start_time": "2022-04-12T19:48:33.579Z"
   },
   {
    "duration": 12,
    "start_time": "2022-04-12T19:48:33.585Z"
   },
   {
    "duration": 25,
    "start_time": "2022-04-12T19:48:33.599Z"
   },
   {
    "duration": 35,
    "start_time": "2022-04-12T19:48:33.626Z"
   },
   {
    "duration": 21,
    "start_time": "2022-04-12T19:48:33.663Z"
   },
   {
    "duration": 58,
    "start_time": "2022-04-12T19:48:33.686Z"
   },
   {
    "duration": 90,
    "start_time": "2022-04-12T19:48:33.746Z"
   },
   {
    "duration": 123,
    "start_time": "2022-04-12T19:48:33.838Z"
   },
   {
    "duration": 101,
    "start_time": "2022-04-12T19:48:33.963Z"
   },
   {
    "duration": 9,
    "start_time": "2022-04-12T19:48:34.066Z"
   },
   {
    "duration": 6,
    "start_time": "2022-04-12T19:48:34.076Z"
   },
   {
    "duration": 10,
    "start_time": "2022-04-12T19:48:34.083Z"
   },
   {
    "duration": 28,
    "start_time": "2022-04-12T19:48:34.095Z"
   },
   {
    "duration": 17,
    "start_time": "2022-04-12T19:48:34.125Z"
   },
   {
    "duration": 12,
    "start_time": "2022-04-12T19:48:34.144Z"
   },
   {
    "duration": 4,
    "start_time": "2022-04-12T19:48:34.158Z"
   },
   {
    "duration": 19,
    "start_time": "2022-04-12T19:48:34.164Z"
   },
   {
    "duration": 16,
    "start_time": "2022-04-12T19:50:43.656Z"
   },
   {
    "duration": 21,
    "start_time": "2022-04-12T19:51:28.551Z"
   },
   {
    "duration": 16,
    "start_time": "2022-04-12T19:53:19.297Z"
   },
   {
    "duration": 17,
    "start_time": "2022-04-12T19:54:45.811Z"
   },
   {
    "duration": 11,
    "start_time": "2022-04-12T19:55:33.342Z"
   },
   {
    "duration": 18,
    "start_time": "2022-04-12T19:55:51.243Z"
   },
   {
    "duration": 8,
    "start_time": "2022-04-12T20:01:25.189Z"
   },
   {
    "duration": 2,
    "start_time": "2022-04-12T20:01:41.914Z"
   },
   {
    "duration": 163,
    "start_time": "2022-04-12T20:01:41.920Z"
   },
   {
    "duration": 8,
    "start_time": "2022-04-12T20:01:42.085Z"
   },
   {
    "duration": 48,
    "start_time": "2022-04-12T20:01:42.095Z"
   },
   {
    "duration": 5,
    "start_time": "2022-04-12T20:01:42.146Z"
   },
   {
    "duration": 14,
    "start_time": "2022-04-12T20:01:42.153Z"
   },
   {
    "duration": 5,
    "start_time": "2022-04-12T20:01:42.169Z"
   },
   {
    "duration": 61,
    "start_time": "2022-04-12T20:01:42.175Z"
   },
   {
    "duration": 30,
    "start_time": "2022-04-12T20:01:42.238Z"
   },
   {
    "duration": 28,
    "start_time": "2022-04-12T20:01:42.270Z"
   },
   {
    "duration": 87,
    "start_time": "2022-04-12T20:01:42.322Z"
   },
   {
    "duration": 94,
    "start_time": "2022-04-12T20:01:42.411Z"
   },
   {
    "duration": 68,
    "start_time": "2022-04-12T20:01:42.507Z"
   },
   {
    "duration": 7,
    "start_time": "2022-04-12T20:01:42.576Z"
   },
   {
    "duration": 4,
    "start_time": "2022-04-12T20:01:42.584Z"
   },
   {
    "duration": 10,
    "start_time": "2022-04-12T20:01:42.589Z"
   },
   {
    "duration": 26,
    "start_time": "2022-04-12T20:01:42.601Z"
   },
   {
    "duration": 15,
    "start_time": "2022-04-12T20:01:42.629Z"
   },
   {
    "duration": 14,
    "start_time": "2022-04-12T20:01:42.645Z"
   },
   {
    "duration": 4,
    "start_time": "2022-04-12T20:01:42.661Z"
   },
   {
    "duration": 24,
    "start_time": "2022-04-12T20:01:42.666Z"
   },
   {
    "duration": 20,
    "start_time": "2022-04-12T20:01:42.722Z"
   },
   {
    "duration": 23,
    "start_time": "2022-04-12T20:01:42.745Z"
   },
   {
    "duration": 14,
    "start_time": "2022-04-12T20:01:42.770Z"
   },
   {
    "duration": 42,
    "start_time": "2022-04-12T20:01:42.786Z"
   },
   {
    "duration": 23,
    "start_time": "2022-04-12T20:01:42.830Z"
   },
   {
    "duration": 9,
    "start_time": "2022-04-12T20:01:42.855Z"
   },
   {
    "duration": 9,
    "start_time": "2022-04-12T20:08:50.223Z"
   },
   {
    "duration": 9,
    "start_time": "2022-04-12T20:09:05.743Z"
   },
   {
    "duration": 12,
    "start_time": "2022-04-12T20:09:28.232Z"
   },
   {
    "duration": 8,
    "start_time": "2022-04-13T18:20:17.786Z"
   },
   {
    "duration": 45,
    "start_time": "2022-04-13T18:21:00.804Z"
   },
   {
    "duration": 2,
    "start_time": "2022-04-13T18:21:22.107Z"
   },
   {
    "duration": 461,
    "start_time": "2022-04-13T18:21:30.994Z"
   },
   {
    "duration": 151,
    "start_time": "2022-04-13T18:21:31.457Z"
   },
   {
    "duration": 8,
    "start_time": "2022-04-13T18:21:31.610Z"
   },
   {
    "duration": 34,
    "start_time": "2022-04-13T18:21:31.620Z"
   },
   {
    "duration": 13,
    "start_time": "2022-04-13T18:21:31.656Z"
   },
   {
    "duration": 25,
    "start_time": "2022-04-13T18:21:31.670Z"
   },
   {
    "duration": 13,
    "start_time": "2022-04-13T18:21:31.697Z"
   },
   {
    "duration": 36,
    "start_time": "2022-04-13T18:21:31.711Z"
   },
   {
    "duration": 29,
    "start_time": "2022-04-13T18:21:31.748Z"
   },
   {
    "duration": 27,
    "start_time": "2022-04-13T18:21:31.779Z"
   },
   {
    "duration": 68,
    "start_time": "2022-04-13T18:21:31.808Z"
   },
   {
    "duration": 70,
    "start_time": "2022-04-13T18:21:31.877Z"
   },
   {
    "duration": 59,
    "start_time": "2022-04-13T18:21:31.949Z"
   },
   {
    "duration": 6,
    "start_time": "2022-04-13T18:21:32.009Z"
   },
   {
    "duration": 3,
    "start_time": "2022-04-13T18:21:32.017Z"
   },
   {
    "duration": 21,
    "start_time": "2022-04-13T18:21:32.021Z"
   },
   {
    "duration": 18,
    "start_time": "2022-04-13T18:21:32.043Z"
   },
   {
    "duration": 32,
    "start_time": "2022-04-13T18:21:32.063Z"
   },
   {
    "duration": 16,
    "start_time": "2022-04-13T18:21:32.096Z"
   },
   {
    "duration": 9,
    "start_time": "2022-04-13T18:21:32.114Z"
   },
   {
    "duration": 29,
    "start_time": "2022-04-13T18:21:32.125Z"
   },
   {
    "duration": 20,
    "start_time": "2022-04-13T18:21:32.155Z"
   },
   {
    "duration": 23,
    "start_time": "2022-04-13T18:21:32.176Z"
   },
   {
    "duration": 15,
    "start_time": "2022-04-13T18:21:32.201Z"
   },
   {
    "duration": 16,
    "start_time": "2022-04-13T18:21:32.218Z"
   },
   {
    "duration": 28,
    "start_time": "2022-04-13T18:21:32.236Z"
   },
   {
    "duration": 32,
    "start_time": "2022-04-13T18:21:32.265Z"
   },
   {
    "duration": 34,
    "start_time": "2022-04-13T18:21:32.299Z"
   },
   {
    "duration": 51,
    "start_time": "2022-04-13T18:21:32.335Z"
   },
   {
    "duration": 4,
    "start_time": "2022-04-13T18:21:32.388Z"
   },
   {
    "duration": 46,
    "start_time": "2022-04-13T18:21:32.394Z"
   },
   {
    "duration": 21,
    "start_time": "2022-04-13T18:23:15.543Z"
   },
   {
    "duration": 77,
    "start_time": "2022-04-13T18:23:58.879Z"
   },
   {
    "duration": 4,
    "start_time": "2022-04-13T18:24:03.427Z"
   },
   {
    "duration": 18,
    "start_time": "2022-04-13T18:24:07.662Z"
   },
   {
    "duration": 14,
    "start_time": "2022-04-13T18:25:23.426Z"
   },
   {
    "duration": 18,
    "start_time": "2022-04-13T18:26:16.760Z"
   },
   {
    "duration": 17,
    "start_time": "2022-04-13T18:27:40.414Z"
   },
   {
    "duration": 2,
    "start_time": "2022-04-13T18:28:11.983Z"
   },
   {
    "duration": 176,
    "start_time": "2022-04-13T18:28:11.987Z"
   },
   {
    "duration": 7,
    "start_time": "2022-04-13T18:28:12.165Z"
   },
   {
    "duration": 45,
    "start_time": "2022-04-13T18:28:12.173Z"
   },
   {
    "duration": 4,
    "start_time": "2022-04-13T18:28:12.220Z"
   },
   {
    "duration": 10,
    "start_time": "2022-04-13T18:28:12.225Z"
   },
   {
    "duration": 3,
    "start_time": "2022-04-13T18:28:12.237Z"
   },
   {
    "duration": 28,
    "start_time": "2022-04-13T18:28:12.242Z"
   },
   {
    "duration": 45,
    "start_time": "2022-04-13T18:28:12.272Z"
   },
   {
    "duration": 25,
    "start_time": "2022-04-13T18:28:12.318Z"
   },
   {
    "duration": 80,
    "start_time": "2022-04-13T18:28:12.346Z"
   },
   {
    "duration": 81,
    "start_time": "2022-04-13T18:28:12.427Z"
   },
   {
    "duration": 56,
    "start_time": "2022-04-13T18:28:12.510Z"
   },
   {
    "duration": 6,
    "start_time": "2022-04-13T18:28:12.568Z"
   },
   {
    "duration": 4,
    "start_time": "2022-04-13T18:28:12.576Z"
   },
   {
    "duration": 32,
    "start_time": "2022-04-13T18:28:12.582Z"
   },
   {
    "duration": 7,
    "start_time": "2022-04-13T18:28:12.616Z"
   },
   {
    "duration": 13,
    "start_time": "2022-04-13T18:28:12.626Z"
   },
   {
    "duration": 13,
    "start_time": "2022-04-13T18:28:12.640Z"
   },
   {
    "duration": 4,
    "start_time": "2022-04-13T18:28:12.655Z"
   },
   {
    "duration": 61,
    "start_time": "2022-04-13T18:28:12.661Z"
   },
   {
    "duration": 17,
    "start_time": "2022-04-13T18:28:12.724Z"
   },
   {
    "duration": 17,
    "start_time": "2022-04-13T18:28:12.743Z"
   },
   {
    "duration": 15,
    "start_time": "2022-04-13T18:28:12.762Z"
   },
   {
    "duration": 19,
    "start_time": "2022-04-13T18:28:12.808Z"
   },
   {
    "duration": 17,
    "start_time": "2022-04-13T18:28:12.829Z"
   },
   {
    "duration": 9,
    "start_time": "2022-04-13T18:28:12.848Z"
   },
   {
    "duration": 13,
    "start_time": "2022-04-13T18:28:12.859Z"
   },
   {
    "duration": 12,
    "start_time": "2022-04-13T18:28:12.907Z"
   },
   {
    "duration": 5,
    "start_time": "2022-04-13T18:28:12.921Z"
   },
   {
    "duration": 22,
    "start_time": "2022-04-13T18:28:12.928Z"
   },
   {
    "duration": 13,
    "start_time": "2022-04-13T18:28:12.952Z"
   },
   {
    "duration": 47,
    "start_time": "2022-04-13T18:28:12.967Z"
   },
   {
    "duration": 14,
    "start_time": "2022-04-13T18:28:13.017Z"
   },
   {
    "duration": 2,
    "start_time": "2022-04-13T18:37:46.099Z"
   },
   {
    "duration": 162,
    "start_time": "2022-04-13T18:37:46.103Z"
   },
   {
    "duration": 7,
    "start_time": "2022-04-13T18:37:46.267Z"
   },
   {
    "duration": 48,
    "start_time": "2022-04-13T18:37:46.276Z"
   },
   {
    "duration": 4,
    "start_time": "2022-04-13T18:37:46.327Z"
   },
   {
    "duration": 24,
    "start_time": "2022-04-13T18:37:46.333Z"
   },
   {
    "duration": 5,
    "start_time": "2022-04-13T18:37:46.359Z"
   },
   {
    "duration": 41,
    "start_time": "2022-04-13T18:37:46.366Z"
   },
   {
    "duration": 19,
    "start_time": "2022-04-13T18:37:46.409Z"
   },
   {
    "duration": 28,
    "start_time": "2022-04-13T18:37:46.430Z"
   },
   {
    "duration": 86,
    "start_time": "2022-04-13T18:37:46.461Z"
   },
   {
    "duration": 87,
    "start_time": "2022-04-13T18:37:46.549Z"
   },
   {
    "duration": 71,
    "start_time": "2022-04-13T18:37:46.638Z"
   },
   {
    "duration": 7,
    "start_time": "2022-04-13T18:37:46.711Z"
   },
   {
    "duration": 4,
    "start_time": "2022-04-13T18:37:46.720Z"
   },
   {
    "duration": 12,
    "start_time": "2022-04-13T18:37:46.725Z"
   },
   {
    "duration": 8,
    "start_time": "2022-04-13T18:37:46.738Z"
   },
   {
    "duration": 15,
    "start_time": "2022-04-13T18:37:46.747Z"
   },
   {
    "duration": 50,
    "start_time": "2022-04-13T18:37:46.763Z"
   },
   {
    "duration": 5,
    "start_time": "2022-04-13T18:37:46.815Z"
   },
   {
    "duration": 21,
    "start_time": "2022-04-13T18:37:46.822Z"
   },
   {
    "duration": 17,
    "start_time": "2022-04-13T18:37:46.845Z"
   },
   {
    "duration": 46,
    "start_time": "2022-04-13T18:37:46.863Z"
   },
   {
    "duration": 16,
    "start_time": "2022-04-13T18:37:46.911Z"
   },
   {
    "duration": 17,
    "start_time": "2022-04-13T18:37:46.928Z"
   },
   {
    "duration": 13,
    "start_time": "2022-04-13T18:37:46.947Z"
   },
   {
    "duration": 7,
    "start_time": "2022-04-13T18:37:46.962Z"
   },
   {
    "duration": 43,
    "start_time": "2022-04-13T18:37:46.971Z"
   },
   {
    "duration": 12,
    "start_time": "2022-04-13T18:37:47.017Z"
   },
   {
    "duration": 5,
    "start_time": "2022-04-13T18:37:47.030Z"
   },
   {
    "duration": 24,
    "start_time": "2022-04-13T18:37:47.036Z"
   },
   {
    "duration": 13,
    "start_time": "2022-04-13T18:37:47.062Z"
   },
   {
    "duration": 45,
    "start_time": "2022-04-13T18:37:47.076Z"
   },
   {
    "duration": 12,
    "start_time": "2022-04-13T18:37:47.122Z"
   },
   {
    "duration": 8,
    "start_time": "2022-04-13T18:37:47.136Z"
   },
   {
    "duration": 5,
    "start_time": "2022-04-13T18:37:47.145Z"
   },
   {
    "duration": 3,
    "start_time": "2022-04-13T18:40:35.522Z"
   },
   {
    "duration": 146,
    "start_time": "2022-04-13T18:40:35.527Z"
   },
   {
    "duration": 7,
    "start_time": "2022-04-13T18:40:35.675Z"
   },
   {
    "duration": 30,
    "start_time": "2022-04-13T18:40:35.707Z"
   },
   {
    "duration": 4,
    "start_time": "2022-04-13T18:40:35.740Z"
   },
   {
    "duration": 11,
    "start_time": "2022-04-13T18:40:35.745Z"
   },
   {
    "duration": 6,
    "start_time": "2022-04-13T18:40:35.758Z"
   },
   {
    "duration": 46,
    "start_time": "2022-04-13T18:40:35.766Z"
   },
   {
    "duration": 18,
    "start_time": "2022-04-13T18:40:35.814Z"
   },
   {
    "duration": 24,
    "start_time": "2022-04-13T18:40:35.834Z"
   },
   {
    "duration": 78,
    "start_time": "2022-04-13T18:40:35.861Z"
   },
   {
    "duration": 72,
    "start_time": "2022-04-13T18:40:35.940Z"
   },
   {
    "duration": 59,
    "start_time": "2022-04-13T18:40:36.014Z"
   },
   {
    "duration": 9,
    "start_time": "2022-04-13T18:40:36.074Z"
   },
   {
    "duration": 24,
    "start_time": "2022-04-13T18:40:36.085Z"
   },
   {
    "duration": 12,
    "start_time": "2022-04-13T18:40:36.110Z"
   },
   {
    "duration": 9,
    "start_time": "2022-04-13T18:40:36.123Z"
   },
   {
    "duration": 13,
    "start_time": "2022-04-13T18:40:36.133Z"
   },
   {
    "duration": 13,
    "start_time": "2022-04-13T18:40:36.148Z"
   },
   {
    "duration": 4,
    "start_time": "2022-04-13T18:40:36.163Z"
   },
   {
    "duration": 17,
    "start_time": "2022-04-13T18:40:36.207Z"
   },
   {
    "duration": 13,
    "start_time": "2022-04-13T18:40:36.226Z"
   },
   {
    "duration": 14,
    "start_time": "2022-04-13T18:40:36.241Z"
   },
   {
    "duration": 13,
    "start_time": "2022-04-13T18:40:36.257Z"
   },
   {
    "duration": 46,
    "start_time": "2022-04-13T18:40:36.272Z"
   },
   {
    "duration": 15,
    "start_time": "2022-04-13T18:40:36.320Z"
   },
   {
    "duration": 8,
    "start_time": "2022-04-13T18:40:36.336Z"
   },
   {
    "duration": 17,
    "start_time": "2022-04-13T18:40:36.345Z"
   },
   {
    "duration": 12,
    "start_time": "2022-04-13T18:40:36.366Z"
   },
   {
    "duration": 29,
    "start_time": "2022-04-13T18:40:36.379Z"
   },
   {
    "duration": 23,
    "start_time": "2022-04-13T18:40:36.410Z"
   },
   {
    "duration": 11,
    "start_time": "2022-04-13T18:40:36.434Z"
   },
   {
    "duration": 16,
    "start_time": "2022-04-13T18:40:36.446Z"
   },
   {
    "duration": 10,
    "start_time": "2022-04-13T18:40:36.463Z"
   },
   {
    "duration": 37,
    "start_time": "2022-04-13T18:40:36.475Z"
   },
   {
    "duration": 3,
    "start_time": "2022-04-13T18:40:36.514Z"
   },
   {
    "duration": 8,
    "start_time": "2022-04-13T18:40:36.519Z"
   },
   {
    "duration": 4,
    "start_time": "2022-04-13T18:40:36.528Z"
   },
   {
    "duration": 9,
    "start_time": "2022-04-13T18:46:32.633Z"
   },
   {
    "duration": 24,
    "start_time": "2022-04-13T18:47:10.177Z"
   },
   {
    "duration": 23,
    "start_time": "2022-04-13T18:47:36.301Z"
   },
   {
    "duration": 10,
    "start_time": "2022-04-13T18:47:59.822Z"
   },
   {
    "duration": 10,
    "start_time": "2022-04-13T18:48:27.576Z"
   },
   {
    "duration": 16,
    "start_time": "2022-04-13T18:49:14.096Z"
   },
   {
    "duration": 16,
    "start_time": "2022-04-13T18:51:10.794Z"
   },
   {
    "duration": 13,
    "start_time": "2022-04-13T18:51:18.551Z"
   },
   {
    "duration": 14,
    "start_time": "2022-04-13T18:51:25.274Z"
   },
   {
    "duration": 25,
    "start_time": "2022-04-13T18:51:42.220Z"
   },
   {
    "duration": 23,
    "start_time": "2022-04-13T18:51:52.250Z"
   },
   {
    "duration": 56,
    "start_time": "2022-04-23T10:51:38.042Z"
   },
   {
    "duration": 442,
    "start_time": "2022-04-23T10:51:44.549Z"
   },
   {
    "duration": 214,
    "start_time": "2022-04-23T10:51:44.993Z"
   },
   {
    "duration": 31,
    "start_time": "2022-04-23T10:51:45.209Z"
   },
   {
    "duration": 14,
    "start_time": "2022-04-23T10:51:45.243Z"
   },
   {
    "duration": 37,
    "start_time": "2022-04-23T10:51:45.259Z"
   },
   {
    "duration": 5,
    "start_time": "2022-04-23T10:51:45.298Z"
   },
   {
    "duration": 39,
    "start_time": "2022-04-23T10:51:45.305Z"
   },
   {
    "duration": 17,
    "start_time": "2022-04-23T10:51:45.347Z"
   },
   {
    "duration": 30,
    "start_time": "2022-04-23T10:51:45.366Z"
   },
   {
    "duration": 52,
    "start_time": "2022-04-23T10:51:45.399Z"
   },
   {
    "duration": 28,
    "start_time": "2022-04-23T10:51:45.453Z"
   },
   {
    "duration": 105,
    "start_time": "2022-04-23T10:51:45.483Z"
   },
   {
    "duration": 116,
    "start_time": "2022-04-23T10:51:45.590Z"
   },
   {
    "duration": 87,
    "start_time": "2022-04-23T10:51:45.708Z"
   },
   {
    "duration": 11,
    "start_time": "2022-04-23T10:51:45.797Z"
   },
   {
    "duration": 6,
    "start_time": "2022-04-23T10:51:45.810Z"
   },
   {
    "duration": 34,
    "start_time": "2022-04-23T10:51:45.818Z"
   },
   {
    "duration": 15,
    "start_time": "2022-04-23T10:51:45.854Z"
   },
   {
    "duration": 18,
    "start_time": "2022-04-23T10:51:45.871Z"
   },
   {
    "duration": 17,
    "start_time": "2022-04-23T10:51:45.891Z"
   },
   {
    "duration": 29,
    "start_time": "2022-04-23T10:51:45.910Z"
   },
   {
    "duration": 33,
    "start_time": "2022-04-23T10:51:45.943Z"
   },
   {
    "duration": 19,
    "start_time": "2022-04-23T10:51:45.978Z"
   },
   {
    "duration": 49,
    "start_time": "2022-04-23T10:51:45.999Z"
   },
   {
    "duration": 25,
    "start_time": "2022-04-23T10:51:46.050Z"
   },
   {
    "duration": 26,
    "start_time": "2022-04-23T10:51:46.078Z"
   },
   {
    "duration": 42,
    "start_time": "2022-04-23T10:51:46.106Z"
   },
   {
    "duration": 23,
    "start_time": "2022-04-23T10:51:46.152Z"
   },
   {
    "duration": 23,
    "start_time": "2022-04-23T10:51:46.177Z"
   },
   {
    "duration": 11,
    "start_time": "2022-04-23T10:51:46.202Z"
   },
   {
    "duration": 29,
    "start_time": "2022-04-23T10:51:46.214Z"
   },
   {
    "duration": 33,
    "start_time": "2022-04-23T10:51:46.247Z"
   },
   {
    "duration": 15,
    "start_time": "2022-04-23T10:51:46.281Z"
   },
   {
    "duration": 46,
    "start_time": "2022-04-23T10:51:46.298Z"
   },
   {
    "duration": 15,
    "start_time": "2022-04-23T10:51:46.347Z"
   },
   {
    "duration": 10,
    "start_time": "2022-04-23T10:51:46.363Z"
   },
   {
    "duration": 4,
    "start_time": "2022-04-23T10:51:46.375Z"
   },
   {
    "duration": 12,
    "start_time": "2022-04-23T10:51:46.381Z"
   },
   {
    "duration": 4,
    "start_time": "2022-04-23T10:51:46.395Z"
   },
   {
    "duration": 48,
    "start_time": "2022-04-25T17:49:21.045Z"
   },
   {
    "duration": 427,
    "start_time": "2022-04-25T17:49:28.777Z"
   },
   {
    "duration": 150,
    "start_time": "2022-04-25T17:49:29.206Z"
   },
   {
    "duration": 18,
    "start_time": "2022-04-25T17:49:29.358Z"
   },
   {
    "duration": 19,
    "start_time": "2022-04-25T17:49:29.378Z"
   },
   {
    "duration": 32,
    "start_time": "2022-04-25T17:49:29.399Z"
   },
   {
    "duration": 4,
    "start_time": "2022-04-25T17:49:29.433Z"
   },
   {
    "duration": 11,
    "start_time": "2022-04-25T17:49:29.439Z"
   },
   {
    "duration": 6,
    "start_time": "2022-04-25T17:49:29.452Z"
   },
   {
    "duration": 56,
    "start_time": "2022-04-25T17:49:29.460Z"
   },
   {
    "duration": 44,
    "start_time": "2022-04-25T18:04:02.519Z"
   },
   {
    "duration": 49,
    "start_time": "2022-04-25T18:20:00.863Z"
   },
   {
    "duration": 15,
    "start_time": "2022-04-25T18:21:15.682Z"
   },
   {
    "duration": 14,
    "start_time": "2022-04-25T18:21:33.899Z"
   },
   {
    "duration": 4,
    "start_time": "2022-04-25T18:24:05.913Z"
   },
   {
    "duration": 4,
    "start_time": "2022-04-25T18:24:11.646Z"
   },
   {
    "duration": 3,
    "start_time": "2022-04-25T18:24:15.701Z"
   },
   {
    "duration": 193,
    "start_time": "2022-04-25T18:24:15.708Z"
   },
   {
    "duration": 12,
    "start_time": "2022-04-25T18:24:15.903Z"
   },
   {
    "duration": 13,
    "start_time": "2022-04-25T18:24:15.916Z"
   },
   {
    "duration": 43,
    "start_time": "2022-04-25T18:24:15.932Z"
   },
   {
    "duration": 17,
    "start_time": "2022-04-25T18:24:15.977Z"
   },
   {
    "duration": 13,
    "start_time": "2022-04-25T18:24:15.996Z"
   },
   {
    "duration": 7,
    "start_time": "2022-04-25T18:24:16.011Z"
   },
   {
    "duration": 28,
    "start_time": "2022-04-25T18:24:16.020Z"
   },
   {
    "duration": 46,
    "start_time": "2022-04-25T18:24:16.050Z"
   },
   {
    "duration": 27,
    "start_time": "2022-04-25T18:24:16.099Z"
   },
   {
    "duration": 85,
    "start_time": "2022-04-25T18:24:16.128Z"
   },
   {
    "duration": 88,
    "start_time": "2022-04-25T18:24:16.214Z"
   },
   {
    "duration": 59,
    "start_time": "2022-04-25T18:24:16.304Z"
   },
   {
    "duration": 54,
    "start_time": "2022-04-25T18:24:16.365Z"
   },
   {
    "duration": 3,
    "start_time": "2022-04-25T18:24:16.421Z"
   },
   {
    "duration": 12,
    "start_time": "2022-04-25T18:24:16.426Z"
   },
   {
    "duration": 61,
    "start_time": "2022-04-25T18:24:16.440Z"
   },
   {
    "duration": 15,
    "start_time": "2022-04-25T18:24:16.503Z"
   },
   {
    "duration": 15,
    "start_time": "2022-04-25T18:24:16.520Z"
   },
   {
    "duration": 4,
    "start_time": "2022-04-25T18:24:16.537Z"
   },
   {
    "duration": 50,
    "start_time": "2022-04-25T18:24:16.543Z"
   },
   {
    "duration": 17,
    "start_time": "2022-04-25T18:24:16.596Z"
   },
   {
    "duration": 17,
    "start_time": "2022-04-25T18:24:16.615Z"
   },
   {
    "duration": 14,
    "start_time": "2022-04-25T18:24:16.634Z"
   },
   {
    "duration": 50,
    "start_time": "2022-04-25T18:24:16.650Z"
   },
   {
    "duration": 14,
    "start_time": "2022-04-25T18:24:16.701Z"
   },
   {
    "duration": 4,
    "start_time": "2022-04-25T18:24:16.717Z"
   },
   {
    "duration": 9,
    "start_time": "2022-04-25T18:24:51.654Z"
   },
   {
    "duration": 13,
    "start_time": "2022-04-25T18:26:18.623Z"
   },
   {
    "duration": 32,
    "start_time": "2022-04-25T18:26:44.684Z"
   },
   {
    "duration": 19,
    "start_time": "2022-04-25T18:27:06.816Z"
   },
   {
    "duration": 21,
    "start_time": "2022-04-25T18:27:29.155Z"
   },
   {
    "duration": 18,
    "start_time": "2022-04-25T18:27:39.031Z"
   },
   {
    "duration": 4,
    "start_time": "2022-04-25T18:33:47.844Z"
   },
   {
    "duration": 30,
    "start_time": "2022-04-25T18:34:32.356Z"
   },
   {
    "duration": 3,
    "start_time": "2022-04-25T18:34:38.624Z"
   },
   {
    "duration": 223,
    "start_time": "2022-04-25T18:34:38.631Z"
   },
   {
    "duration": 11,
    "start_time": "2022-04-25T18:34:38.856Z"
   },
   {
    "duration": 14,
    "start_time": "2022-04-25T18:34:38.894Z"
   },
   {
    "duration": 70,
    "start_time": "2022-04-25T18:34:38.911Z"
   },
   {
    "duration": 5,
    "start_time": "2022-04-25T18:34:38.983Z"
   },
   {
    "duration": 9,
    "start_time": "2022-04-25T18:34:38.993Z"
   },
   {
    "duration": 8,
    "start_time": "2022-04-25T18:34:39.004Z"
   },
   {
    "duration": 30,
    "start_time": "2022-04-25T18:34:39.014Z"
   },
   {
    "duration": 46,
    "start_time": "2022-04-25T18:34:39.046Z"
   },
   {
    "duration": 28,
    "start_time": "2022-04-25T18:34:39.095Z"
   },
   {
    "duration": 118,
    "start_time": "2022-04-25T18:34:39.125Z"
   },
   {
    "duration": 119,
    "start_time": "2022-04-25T18:34:39.245Z"
   },
   {
    "duration": 91,
    "start_time": "2022-04-25T18:34:39.366Z"
   },
   {
    "duration": 53,
    "start_time": "2022-04-25T18:34:39.459Z"
   },
   {
    "duration": 4,
    "start_time": "2022-04-25T18:34:39.514Z"
   },
   {
    "duration": 18,
    "start_time": "2022-04-25T18:34:39.520Z"
   },
   {
    "duration": 58,
    "start_time": "2022-04-25T18:34:39.540Z"
   },
   {
    "duration": 16,
    "start_time": "2022-04-25T18:34:39.599Z"
   },
   {
    "duration": 13,
    "start_time": "2022-04-25T18:34:39.617Z"
   },
   {
    "duration": 4,
    "start_time": "2022-04-25T18:34:39.632Z"
   },
   {
    "duration": 21,
    "start_time": "2022-04-25T18:34:39.637Z"
   },
   {
    "duration": 47,
    "start_time": "2022-04-25T18:34:39.659Z"
   },
   {
    "duration": 17,
    "start_time": "2022-04-25T18:34:39.708Z"
   },
   {
    "duration": 15,
    "start_time": "2022-04-25T18:34:39.727Z"
   },
   {
    "duration": 56,
    "start_time": "2022-04-25T18:34:39.743Z"
   },
   {
    "duration": 23,
    "start_time": "2022-04-25T18:34:39.801Z"
   },
   {
    "duration": 11,
    "start_time": "2022-04-25T18:34:39.826Z"
   },
   {
    "duration": 52,
    "start_time": "2022-04-25T18:34:39.842Z"
   },
   {
    "duration": 18,
    "start_time": "2022-04-25T18:34:39.896Z"
   },
   {
    "duration": 4,
    "start_time": "2022-04-25T18:34:39.916Z"
   },
   {
    "duration": 26,
    "start_time": "2022-04-25T18:34:39.922Z"
   },
   {
    "duration": 13,
    "start_time": "2022-04-25T18:34:39.950Z"
   },
   {
    "duration": 41,
    "start_time": "2022-04-25T18:34:39.965Z"
   },
   {
    "duration": 14,
    "start_time": "2022-04-25T18:34:40.007Z"
   },
   {
    "duration": 10,
    "start_time": "2022-04-25T18:34:40.023Z"
   },
   {
    "duration": 4,
    "start_time": "2022-04-25T18:34:40.035Z"
   },
   {
    "duration": 13,
    "start_time": "2022-04-25T18:34:40.041Z"
   },
   {
    "duration": 39,
    "start_time": "2022-04-25T18:34:40.056Z"
   },
   {
    "duration": 3,
    "start_time": "2022-04-25T18:41:45.068Z"
   },
   {
    "duration": 170,
    "start_time": "2022-04-25T18:41:45.074Z"
   },
   {
    "duration": 11,
    "start_time": "2022-04-25T18:41:45.246Z"
   },
   {
    "duration": 40,
    "start_time": "2022-04-25T18:41:45.258Z"
   },
   {
    "duration": 33,
    "start_time": "2022-04-25T18:41:45.300Z"
   },
   {
    "duration": 5,
    "start_time": "2022-04-25T18:41:45.335Z"
   },
   {
    "duration": 9,
    "start_time": "2022-04-25T18:41:45.341Z"
   },
   {
    "duration": 4,
    "start_time": "2022-04-25T18:41:45.351Z"
   },
   {
    "duration": 47,
    "start_time": "2022-04-25T18:41:45.357Z"
   },
   {
    "duration": 20,
    "start_time": "2022-04-25T18:41:45.405Z"
   },
   {
    "duration": 26,
    "start_time": "2022-04-25T18:41:45.428Z"
   },
   {
    "duration": 90,
    "start_time": "2022-04-25T18:41:45.456Z"
   },
   {
    "duration": 82,
    "start_time": "2022-04-25T18:41:45.548Z"
   },
   {
    "duration": 68,
    "start_time": "2022-04-25T18:41:45.632Z"
   },
   {
    "duration": 43,
    "start_time": "2022-04-25T18:41:45.702Z"
   },
   {
    "duration": 3,
    "start_time": "2022-04-25T18:41:45.747Z"
   },
   {
    "duration": 13,
    "start_time": "2022-04-25T18:41:45.752Z"
   },
   {
    "duration": 63,
    "start_time": "2022-04-25T18:41:45.766Z"
   },
   {
    "duration": 14,
    "start_time": "2022-04-25T18:41:45.830Z"
   },
   {
    "duration": 13,
    "start_time": "2022-04-25T18:41:45.845Z"
   },
   {
    "duration": 4,
    "start_time": "2022-04-25T18:41:45.860Z"
   },
   {
    "duration": 38,
    "start_time": "2022-04-25T18:41:45.865Z"
   },
   {
    "duration": 22,
    "start_time": "2022-04-25T18:41:45.905Z"
   },
   {
    "duration": 16,
    "start_time": "2022-04-25T18:41:45.929Z"
   },
   {
    "duration": 16,
    "start_time": "2022-04-25T18:41:45.947Z"
   },
   {
    "duration": 45,
    "start_time": "2022-04-25T18:41:45.965Z"
   },
   {
    "duration": 16,
    "start_time": "2022-04-25T18:41:46.012Z"
   },
   {
    "duration": 8,
    "start_time": "2022-04-25T18:41:46.030Z"
   },
   {
    "duration": 23,
    "start_time": "2022-04-25T18:41:46.042Z"
   },
   {
    "duration": 17,
    "start_time": "2022-04-25T18:41:46.093Z"
   },
   {
    "duration": 28,
    "start_time": "2022-04-25T18:41:46.112Z"
   },
   {
    "duration": 35,
    "start_time": "2022-04-25T18:41:46.142Z"
   },
   {
    "duration": 0,
    "start_time": "2022-04-25T18:41:46.179Z"
   },
   {
    "duration": 0,
    "start_time": "2022-04-25T18:41:46.180Z"
   },
   {
    "duration": 0,
    "start_time": "2022-04-25T18:41:46.181Z"
   },
   {
    "duration": 3,
    "start_time": "2022-04-25T18:42:25.497Z"
   },
   {
    "duration": 159,
    "start_time": "2022-04-25T18:42:25.502Z"
   },
   {
    "duration": 11,
    "start_time": "2022-04-25T18:42:25.663Z"
   },
   {
    "duration": 25,
    "start_time": "2022-04-25T18:42:25.675Z"
   },
   {
    "duration": 33,
    "start_time": "2022-04-25T18:42:25.703Z"
   },
   {
    "duration": 4,
    "start_time": "2022-04-25T18:42:25.737Z"
   },
   {
    "duration": 9,
    "start_time": "2022-04-25T18:42:25.743Z"
   },
   {
    "duration": 4,
    "start_time": "2022-04-25T18:42:25.754Z"
   },
   {
    "duration": 54,
    "start_time": "2022-04-25T18:42:25.759Z"
   },
   {
    "duration": 19,
    "start_time": "2022-04-25T18:42:25.816Z"
   },
   {
    "duration": 26,
    "start_time": "2022-04-25T18:42:25.837Z"
   },
   {
    "duration": 115,
    "start_time": "2022-04-25T18:42:25.865Z"
   },
   {
    "duration": 90,
    "start_time": "2022-04-25T18:42:25.982Z"
   },
   {
    "duration": 84,
    "start_time": "2022-04-25T18:42:26.075Z"
   },
   {
    "duration": 73,
    "start_time": "2022-04-25T18:42:26.160Z"
   },
   {
    "duration": 3,
    "start_time": "2022-04-25T18:42:26.235Z"
   },
   {
    "duration": 22,
    "start_time": "2022-04-25T18:42:26.240Z"
   },
   {
    "duration": 64,
    "start_time": "2022-04-25T18:42:26.264Z"
   },
   {
    "duration": 15,
    "start_time": "2022-04-25T18:42:26.330Z"
   },
   {
    "duration": 19,
    "start_time": "2022-04-25T18:42:26.347Z"
   },
   {
    "duration": 5,
    "start_time": "2022-04-25T18:42:26.367Z"
   },
   {
    "duration": 49,
    "start_time": "2022-04-25T18:42:26.374Z"
   },
   {
    "duration": 21,
    "start_time": "2022-04-25T18:42:26.424Z"
   },
   {
    "duration": 16,
    "start_time": "2022-04-25T18:42:26.447Z"
   },
   {
    "duration": 29,
    "start_time": "2022-04-25T18:42:26.464Z"
   },
   {
    "duration": 21,
    "start_time": "2022-04-25T18:42:26.495Z"
   },
   {
    "duration": 35,
    "start_time": "2022-04-25T18:42:26.520Z"
   },
   {
    "duration": 12,
    "start_time": "2022-04-25T18:42:26.558Z"
   },
   {
    "duration": 43,
    "start_time": "2022-04-25T18:42:26.572Z"
   },
   {
    "duration": 19,
    "start_time": "2022-04-25T18:42:26.617Z"
   },
   {
    "duration": 15,
    "start_time": "2022-04-25T18:42:26.641Z"
   },
   {
    "duration": 58,
    "start_time": "2022-04-25T18:42:26.657Z"
   },
   {
    "duration": 0,
    "start_time": "2022-04-25T18:42:26.717Z"
   },
   {
    "duration": 0,
    "start_time": "2022-04-25T18:42:26.718Z"
   },
   {
    "duration": 0,
    "start_time": "2022-04-25T18:42:26.718Z"
   },
   {
    "duration": 2,
    "start_time": "2022-04-25T18:42:51.779Z"
   },
   {
    "duration": 255,
    "start_time": "2022-04-25T18:42:51.786Z"
   },
   {
    "duration": 15,
    "start_time": "2022-04-25T18:42:52.044Z"
   },
   {
    "duration": 11,
    "start_time": "2022-04-25T18:42:52.061Z"
   },
   {
    "duration": 31,
    "start_time": "2022-04-25T18:42:52.092Z"
   },
   {
    "duration": 15,
    "start_time": "2022-04-25T18:42:52.124Z"
   },
   {
    "duration": 10,
    "start_time": "2022-04-25T18:42:52.141Z"
   },
   {
    "duration": 5,
    "start_time": "2022-04-25T18:42:52.153Z"
   },
   {
    "duration": 51,
    "start_time": "2022-04-25T18:42:52.159Z"
   },
   {
    "duration": 33,
    "start_time": "2022-04-25T18:42:52.212Z"
   },
   {
    "duration": 52,
    "start_time": "2022-04-25T18:42:52.249Z"
   },
   {
    "duration": 71,
    "start_time": "2022-04-25T18:42:52.303Z"
   },
   {
    "duration": 91,
    "start_time": "2022-04-25T18:42:52.376Z"
   },
   {
    "duration": 72,
    "start_time": "2022-04-25T18:42:52.469Z"
   },
   {
    "duration": 56,
    "start_time": "2022-04-25T18:42:52.543Z"
   },
   {
    "duration": 4,
    "start_time": "2022-04-25T18:42:52.601Z"
   },
   {
    "duration": 11,
    "start_time": "2022-04-25T18:42:52.607Z"
   },
   {
    "duration": 47,
    "start_time": "2022-04-25T18:42:52.620Z"
   },
   {
    "duration": 34,
    "start_time": "2022-04-25T18:42:52.670Z"
   },
   {
    "duration": 15,
    "start_time": "2022-04-25T18:42:52.706Z"
   },
   {
    "duration": 4,
    "start_time": "2022-04-25T18:42:52.723Z"
   },
   {
    "duration": 25,
    "start_time": "2022-04-25T18:42:52.728Z"
   },
   {
    "duration": 45,
    "start_time": "2022-04-25T18:42:52.755Z"
   },
   {
    "duration": 16,
    "start_time": "2022-04-25T18:42:52.802Z"
   },
   {
    "duration": 17,
    "start_time": "2022-04-25T18:42:52.820Z"
   },
   {
    "duration": 19,
    "start_time": "2022-04-25T18:42:52.838Z"
   },
   {
    "duration": 44,
    "start_time": "2022-04-25T18:42:52.858Z"
   },
   {
    "duration": 8,
    "start_time": "2022-04-25T18:42:52.904Z"
   },
   {
    "duration": 18,
    "start_time": "2022-04-25T18:42:52.916Z"
   },
   {
    "duration": 17,
    "start_time": "2022-04-25T18:42:52.937Z"
   },
   {
    "duration": 40,
    "start_time": "2022-04-25T18:42:52.956Z"
   },
   {
    "duration": 37,
    "start_time": "2022-04-25T18:42:52.998Z"
   },
   {
    "duration": 0,
    "start_time": "2022-04-25T18:42:53.038Z"
   },
   {
    "duration": 0,
    "start_time": "2022-04-25T18:42:53.039Z"
   },
   {
    "duration": 0,
    "start_time": "2022-04-25T18:42:53.040Z"
   },
   {
    "duration": 2,
    "start_time": "2022-04-25T18:44:00.403Z"
   },
   {
    "duration": 203,
    "start_time": "2022-04-25T18:44:00.412Z"
   },
   {
    "duration": 12,
    "start_time": "2022-04-25T18:44:00.618Z"
   },
   {
    "duration": 26,
    "start_time": "2022-04-25T18:44:00.631Z"
   },
   {
    "duration": 42,
    "start_time": "2022-04-25T18:44:00.660Z"
   },
   {
    "duration": 17,
    "start_time": "2022-04-25T18:44:00.704Z"
   },
   {
    "duration": 20,
    "start_time": "2022-04-25T18:44:00.723Z"
   },
   {
    "duration": 15,
    "start_time": "2022-04-25T18:44:00.745Z"
   },
   {
    "duration": 48,
    "start_time": "2022-04-25T18:44:00.762Z"
   },
   {
    "duration": 48,
    "start_time": "2022-04-25T18:44:00.813Z"
   },
   {
    "duration": 42,
    "start_time": "2022-04-25T18:44:00.864Z"
   },
   {
    "duration": 78,
    "start_time": "2022-04-25T18:44:00.907Z"
   },
   {
    "duration": 76,
    "start_time": "2022-04-25T18:44:00.987Z"
   },
   {
    "duration": 77,
    "start_time": "2022-04-25T18:44:01.065Z"
   },
   {
    "duration": 53,
    "start_time": "2022-04-25T18:44:01.144Z"
   },
   {
    "duration": 4,
    "start_time": "2022-04-25T18:44:01.199Z"
   },
   {
    "duration": 21,
    "start_time": "2022-04-25T18:44:01.205Z"
   },
   {
    "duration": 88,
    "start_time": "2022-04-25T18:44:01.228Z"
   },
   {
    "duration": 22,
    "start_time": "2022-04-25T18:44:01.318Z"
   },
   {
    "duration": 32,
    "start_time": "2022-04-25T18:44:01.342Z"
   },
   {
    "duration": 16,
    "start_time": "2022-04-25T18:44:01.377Z"
   },
   {
    "duration": 59,
    "start_time": "2022-04-25T18:44:01.395Z"
   },
   {
    "duration": 42,
    "start_time": "2022-04-25T18:44:01.457Z"
   },
   {
    "duration": 43,
    "start_time": "2022-04-25T18:44:01.501Z"
   },
   {
    "duration": 77,
    "start_time": "2022-04-25T18:44:01.547Z"
   },
   {
    "duration": 36,
    "start_time": "2022-04-25T18:44:01.626Z"
   },
   {
    "duration": 73,
    "start_time": "2022-04-25T18:44:01.665Z"
   },
   {
    "duration": 149,
    "start_time": "2022-04-25T18:44:01.740Z"
   },
   {
    "duration": 150,
    "start_time": "2022-04-25T18:44:01.894Z"
   },
   {
    "duration": 27,
    "start_time": "2022-04-25T18:44:02.047Z"
   },
   {
    "duration": 10,
    "start_time": "2022-04-25T18:44:02.076Z"
   },
   {
    "duration": 51,
    "start_time": "2022-04-25T18:44:02.088Z"
   },
   {
    "duration": 0,
    "start_time": "2022-04-25T18:44:02.142Z"
   },
   {
    "duration": 0,
    "start_time": "2022-04-25T18:44:02.143Z"
   },
   {
    "duration": 0,
    "start_time": "2022-04-25T18:44:02.145Z"
   },
   {
    "duration": 3,
    "start_time": "2022-04-25T18:44:58.315Z"
   },
   {
    "duration": 169,
    "start_time": "2022-04-25T18:44:58.323Z"
   },
   {
    "duration": 12,
    "start_time": "2022-04-25T18:44:58.495Z"
   },
   {
    "duration": 22,
    "start_time": "2022-04-25T18:44:58.509Z"
   },
   {
    "duration": 41,
    "start_time": "2022-04-25T18:44:58.533Z"
   },
   {
    "duration": 5,
    "start_time": "2022-04-25T18:44:58.592Z"
   },
   {
    "duration": 11,
    "start_time": "2022-04-25T18:44:58.598Z"
   },
   {
    "duration": 7,
    "start_time": "2022-04-25T18:44:58.610Z"
   },
   {
    "duration": 33,
    "start_time": "2022-04-25T18:44:58.619Z"
   },
   {
    "duration": 38,
    "start_time": "2022-04-25T18:44:58.654Z"
   },
   {
    "duration": 27,
    "start_time": "2022-04-25T18:44:58.695Z"
   },
   {
    "duration": 78,
    "start_time": "2022-04-25T18:44:58.724Z"
   },
   {
    "duration": 72,
    "start_time": "2022-04-25T18:44:58.804Z"
   },
   {
    "duration": 71,
    "start_time": "2022-04-25T18:44:58.877Z"
   },
   {
    "duration": 54,
    "start_time": "2022-04-25T18:44:58.950Z"
   },
   {
    "duration": 3,
    "start_time": "2022-04-25T18:44:59.006Z"
   },
   {
    "duration": 15,
    "start_time": "2022-04-25T18:44:59.011Z"
   },
   {
    "duration": 47,
    "start_time": "2022-04-25T18:44:59.028Z"
   },
   {
    "duration": 22,
    "start_time": "2022-04-25T18:44:59.077Z"
   },
   {
    "duration": 15,
    "start_time": "2022-04-25T18:44:59.101Z"
   },
   {
    "duration": 4,
    "start_time": "2022-04-25T18:44:59.119Z"
   },
   {
    "duration": 26,
    "start_time": "2022-04-25T18:44:59.125Z"
   },
   {
    "duration": 38,
    "start_time": "2022-04-25T18:44:59.153Z"
   },
   {
    "duration": 17,
    "start_time": "2022-04-25T18:44:59.194Z"
   },
   {
    "duration": 17,
    "start_time": "2022-04-25T18:44:59.213Z"
   },
   {
    "duration": 19,
    "start_time": "2022-04-25T18:44:59.233Z"
   },
   {
    "duration": 46,
    "start_time": "2022-04-25T18:44:59.254Z"
   },
   {
    "duration": 16,
    "start_time": "2022-04-25T18:44:59.301Z"
   },
   {
    "duration": 19,
    "start_time": "2022-04-25T18:44:59.321Z"
   },
   {
    "duration": 18,
    "start_time": "2022-04-25T18:44:59.341Z"
   },
   {
    "duration": 33,
    "start_time": "2022-04-25T18:44:59.361Z"
   },
   {
    "duration": 35,
    "start_time": "2022-04-25T18:44:59.396Z"
   },
   {
    "duration": 0,
    "start_time": "2022-04-25T18:44:59.433Z"
   },
   {
    "duration": 0,
    "start_time": "2022-04-25T18:44:59.434Z"
   },
   {
    "duration": 0,
    "start_time": "2022-04-25T18:44:59.435Z"
   },
   {
    "duration": 5,
    "start_time": "2022-04-25T18:46:26.795Z"
   },
   {
    "duration": 46,
    "start_time": "2022-04-25T18:46:30.249Z"
   },
   {
    "duration": 3,
    "start_time": "2022-04-25T18:46:39.364Z"
   },
   {
    "duration": 163,
    "start_time": "2022-04-25T18:46:39.372Z"
   },
   {
    "duration": 12,
    "start_time": "2022-04-25T18:46:39.537Z"
   },
   {
    "duration": 18,
    "start_time": "2022-04-25T18:46:39.550Z"
   },
   {
    "duration": 30,
    "start_time": "2022-04-25T18:46:39.593Z"
   },
   {
    "duration": 4,
    "start_time": "2022-04-25T18:46:39.624Z"
   },
   {
    "duration": 13,
    "start_time": "2022-04-25T18:46:39.630Z"
   },
   {
    "duration": 5,
    "start_time": "2022-04-25T18:46:39.644Z"
   },
   {
    "duration": 64,
    "start_time": "2022-04-25T18:46:39.650Z"
   },
   {
    "duration": 20,
    "start_time": "2022-04-25T18:46:39.716Z"
   },
   {
    "duration": 29,
    "start_time": "2022-04-25T18:46:39.739Z"
   },
   {
    "duration": 127,
    "start_time": "2022-04-25T18:46:39.770Z"
   },
   {
    "duration": 70,
    "start_time": "2022-04-25T18:46:39.899Z"
   },
   {
    "duration": 75,
    "start_time": "2022-04-25T18:46:39.970Z"
   },
   {
    "duration": 54,
    "start_time": "2022-04-25T18:46:40.047Z"
   },
   {
    "duration": 4,
    "start_time": "2022-04-25T18:46:40.102Z"
   },
   {
    "duration": 19,
    "start_time": "2022-04-25T18:46:40.107Z"
   },
   {
    "duration": 42,
    "start_time": "2022-04-25T18:46:40.128Z"
   },
   {
    "duration": 31,
    "start_time": "2022-04-25T18:46:40.171Z"
   },
   {
    "duration": 13,
    "start_time": "2022-04-25T18:46:40.204Z"
   },
   {
    "duration": 5,
    "start_time": "2022-04-25T18:46:40.218Z"
   },
   {
    "duration": 26,
    "start_time": "2022-04-25T18:46:40.224Z"
   },
   {
    "duration": 49,
    "start_time": "2022-04-25T18:46:40.252Z"
   },
   {
    "duration": 16,
    "start_time": "2022-04-25T18:46:40.303Z"
   },
   {
    "duration": 16,
    "start_time": "2022-04-25T18:46:40.321Z"
   },
   {
    "duration": 22,
    "start_time": "2022-04-25T18:46:40.338Z"
   },
   {
    "duration": 41,
    "start_time": "2022-04-25T18:46:40.362Z"
   },
   {
    "duration": 9,
    "start_time": "2022-04-25T18:46:40.405Z"
   },
   {
    "duration": 21,
    "start_time": "2022-04-25T18:46:40.417Z"
   },
   {
    "duration": 53,
    "start_time": "2022-04-25T18:46:40.440Z"
   },
   {
    "duration": 5,
    "start_time": "2022-04-25T18:46:40.494Z"
   },
   {
    "duration": 54,
    "start_time": "2022-04-25T18:46:40.501Z"
   },
   {
    "duration": 29,
    "start_time": "2022-04-25T18:47:05.587Z"
   },
   {
    "duration": 3,
    "start_time": "2022-04-25T18:47:27.124Z"
   },
   {
    "duration": 247,
    "start_time": "2022-04-25T18:47:27.130Z"
   },
   {
    "duration": 25,
    "start_time": "2022-04-25T18:47:27.380Z"
   },
   {
    "duration": 18,
    "start_time": "2022-04-25T18:47:27.407Z"
   },
   {
    "duration": 77,
    "start_time": "2022-04-25T18:47:27.428Z"
   },
   {
    "duration": 5,
    "start_time": "2022-04-25T18:47:27.507Z"
   },
   {
    "duration": 29,
    "start_time": "2022-04-25T18:47:27.515Z"
   },
   {
    "duration": 15,
    "start_time": "2022-04-25T18:47:27.547Z"
   },
   {
    "duration": 52,
    "start_time": "2022-04-25T18:47:27.564Z"
   },
   {
    "duration": 27,
    "start_time": "2022-04-25T18:47:27.618Z"
   },
   {
    "duration": 54,
    "start_time": "2022-04-25T18:47:27.650Z"
   },
   {
    "duration": 118,
    "start_time": "2022-04-25T18:47:27.706Z"
   },
   {
    "duration": 124,
    "start_time": "2022-04-25T18:47:27.826Z"
   },
   {
    "duration": 113,
    "start_time": "2022-04-25T18:47:27.953Z"
   },
   {
    "duration": 88,
    "start_time": "2022-04-25T18:47:28.068Z"
   },
   {
    "duration": 4,
    "start_time": "2022-04-25T18:47:28.158Z"
   },
   {
    "duration": 16,
    "start_time": "2022-04-25T18:47:28.163Z"
   },
   {
    "duration": 54,
    "start_time": "2022-04-25T18:47:28.181Z"
   },
   {
    "duration": 14,
    "start_time": "2022-04-25T18:47:28.237Z"
   },
   {
    "duration": 39,
    "start_time": "2022-04-25T18:47:28.253Z"
   },
   {
    "duration": 5,
    "start_time": "2022-04-25T18:47:28.294Z"
   },
   {
    "duration": 33,
    "start_time": "2022-04-25T18:47:28.301Z"
   },
   {
    "duration": 24,
    "start_time": "2022-04-25T18:47:28.336Z"
   },
   {
    "duration": 50,
    "start_time": "2022-04-25T18:47:28.362Z"
   },
   {
    "duration": 24,
    "start_time": "2022-04-25T18:47:28.413Z"
   },
   {
    "duration": 27,
    "start_time": "2022-04-25T18:47:28.438Z"
   },
   {
    "duration": 41,
    "start_time": "2022-04-25T18:47:28.467Z"
   },
   {
    "duration": 12,
    "start_time": "2022-04-25T18:47:28.510Z"
   },
   {
    "duration": 29,
    "start_time": "2022-04-25T18:47:28.527Z"
   },
   {
    "duration": 53,
    "start_time": "2022-04-25T18:47:28.558Z"
   },
   {
    "duration": 6,
    "start_time": "2022-04-25T18:47:28.614Z"
   },
   {
    "duration": 43,
    "start_time": "2022-04-25T18:47:28.622Z"
   },
   {
    "duration": 33,
    "start_time": "2022-04-25T18:47:28.668Z"
   },
   {
    "duration": 27,
    "start_time": "2022-04-25T18:47:28.703Z"
   },
   {
    "duration": 17,
    "start_time": "2022-04-25T18:47:28.732Z"
   },
   {
    "duration": 3,
    "start_time": "2022-04-25T18:52:23.593Z"
   },
   {
    "duration": 195,
    "start_time": "2022-04-25T18:52:23.598Z"
   },
   {
    "duration": 11,
    "start_time": "2022-04-25T18:52:23.795Z"
   },
   {
    "duration": 29,
    "start_time": "2022-04-25T18:52:23.808Z"
   },
   {
    "duration": 33,
    "start_time": "2022-04-25T18:52:23.839Z"
   },
   {
    "duration": 4,
    "start_time": "2022-04-25T18:52:23.874Z"
   },
   {
    "duration": 11,
    "start_time": "2022-04-25T18:52:23.892Z"
   },
   {
    "duration": 7,
    "start_time": "2022-04-25T18:52:23.905Z"
   },
   {
    "duration": 33,
    "start_time": "2022-04-25T18:52:23.914Z"
   },
   {
    "duration": 21,
    "start_time": "2022-04-25T18:52:23.949Z"
   },
   {
    "duration": 48,
    "start_time": "2022-04-25T18:52:23.973Z"
   },
   {
    "duration": 75,
    "start_time": "2022-04-25T18:52:24.023Z"
   },
   {
    "duration": 79,
    "start_time": "2022-04-25T18:52:24.100Z"
   },
   {
    "duration": 81,
    "start_time": "2022-04-25T18:52:24.181Z"
   },
   {
    "duration": 59,
    "start_time": "2022-04-25T18:52:24.264Z"
   },
   {
    "duration": 3,
    "start_time": "2022-04-25T18:52:24.326Z"
   },
   {
    "duration": 16,
    "start_time": "2022-04-25T18:52:24.331Z"
   },
   {
    "duration": 57,
    "start_time": "2022-04-25T18:52:24.348Z"
   },
   {
    "duration": 14,
    "start_time": "2022-04-25T18:52:24.407Z"
   },
   {
    "duration": 14,
    "start_time": "2022-04-25T18:52:24.423Z"
   },
   {
    "duration": 4,
    "start_time": "2022-04-25T18:52:24.439Z"
   },
   {
    "duration": 47,
    "start_time": "2022-04-25T18:52:24.445Z"
   },
   {
    "duration": 18,
    "start_time": "2022-04-25T18:52:24.494Z"
   },
   {
    "duration": 18,
    "start_time": "2022-04-25T18:52:24.514Z"
   },
   {
    "duration": 21,
    "start_time": "2022-04-25T18:52:24.534Z"
   },
   {
    "duration": 51,
    "start_time": "2022-04-25T18:52:24.558Z"
   },
   {
    "duration": 17,
    "start_time": "2022-04-25T18:52:24.611Z"
   },
   {
    "duration": 13,
    "start_time": "2022-04-25T18:52:24.630Z"
   },
   {
    "duration": 48,
    "start_time": "2022-04-25T18:52:24.646Z"
   },
   {
    "duration": 20,
    "start_time": "2022-04-25T18:52:24.696Z"
   },
   {
    "duration": 6,
    "start_time": "2022-04-25T18:52:24.718Z"
   },
   {
    "duration": 49,
    "start_time": "2022-04-25T18:52:24.726Z"
   },
   {
    "duration": 3,
    "start_time": "2022-04-25T18:53:22.047Z"
   },
   {
    "duration": 187,
    "start_time": "2022-04-25T18:53:22.052Z"
   },
   {
    "duration": 12,
    "start_time": "2022-04-25T18:53:22.241Z"
   },
   {
    "duration": 19,
    "start_time": "2022-04-25T18:53:22.255Z"
   },
   {
    "duration": 33,
    "start_time": "2022-04-25T18:53:22.293Z"
   },
   {
    "duration": 5,
    "start_time": "2022-04-25T18:53:22.328Z"
   },
   {
    "duration": 12,
    "start_time": "2022-04-25T18:53:22.335Z"
   },
   {
    "duration": 5,
    "start_time": "2022-04-25T18:53:22.349Z"
   },
   {
    "duration": 59,
    "start_time": "2022-04-25T18:53:22.355Z"
   },
   {
    "duration": 22,
    "start_time": "2022-04-25T18:53:22.416Z"
   },
   {
    "duration": 40,
    "start_time": "2022-04-25T18:53:22.441Z"
   },
   {
    "duration": 79,
    "start_time": "2022-04-25T18:53:22.483Z"
   },
   {
    "duration": 94,
    "start_time": "2022-04-25T18:53:22.564Z"
   },
   {
    "duration": 69,
    "start_time": "2022-04-25T18:53:22.661Z"
   },
   {
    "duration": 44,
    "start_time": "2022-04-25T18:53:22.731Z"
   },
   {
    "duration": 16,
    "start_time": "2022-04-25T18:53:22.777Z"
   },
   {
    "duration": 21,
    "start_time": "2022-04-25T18:53:22.795Z"
   },
   {
    "duration": 45,
    "start_time": "2022-04-25T18:53:22.819Z"
   },
   {
    "duration": 32,
    "start_time": "2022-04-25T18:53:22.866Z"
   },
   {
    "duration": 15,
    "start_time": "2022-04-25T18:53:22.900Z"
   },
   {
    "duration": 5,
    "start_time": "2022-04-25T18:53:22.917Z"
   },
   {
    "duration": 29,
    "start_time": "2022-04-25T18:53:22.924Z"
   },
   {
    "duration": 38,
    "start_time": "2022-04-25T18:53:22.955Z"
   },
   {
    "duration": 18,
    "start_time": "2022-04-25T18:53:22.995Z"
   },
   {
    "duration": 17,
    "start_time": "2022-04-25T18:53:23.015Z"
   },
   {
    "duration": 19,
    "start_time": "2022-04-25T18:53:23.033Z"
   },
   {
    "duration": 46,
    "start_time": "2022-04-25T18:53:23.054Z"
   },
   {
    "duration": 10,
    "start_time": "2022-04-25T18:53:23.101Z"
   },
   {
    "duration": 21,
    "start_time": "2022-04-25T18:53:23.115Z"
   },
   {
    "duration": 19,
    "start_time": "2022-04-25T18:53:23.137Z"
   },
   {
    "duration": 38,
    "start_time": "2022-04-25T18:53:23.158Z"
   },
   {
    "duration": 38,
    "start_time": "2022-04-25T18:53:23.198Z"
   },
   {
    "duration": 3,
    "start_time": "2022-04-25T18:53:58.243Z"
   },
   {
    "duration": 193,
    "start_time": "2022-04-25T18:53:58.249Z"
   },
   {
    "duration": 12,
    "start_time": "2022-04-25T18:53:58.445Z"
   },
   {
    "duration": 34,
    "start_time": "2022-04-25T18:53:58.459Z"
   },
   {
    "duration": 33,
    "start_time": "2022-04-25T18:53:58.496Z"
   },
   {
    "duration": 13,
    "start_time": "2022-04-25T18:53:58.531Z"
   },
   {
    "duration": 13,
    "start_time": "2022-04-25T18:53:58.546Z"
   },
   {
    "duration": 14,
    "start_time": "2022-04-25T18:53:58.561Z"
   },
   {
    "duration": 38,
    "start_time": "2022-04-25T18:53:58.577Z"
   },
   {
    "duration": 22,
    "start_time": "2022-04-25T18:53:58.617Z"
   },
   {
    "duration": 27,
    "start_time": "2022-04-25T18:53:58.644Z"
   },
   {
    "duration": 82,
    "start_time": "2022-04-25T18:53:58.673Z"
   },
   {
    "duration": 92,
    "start_time": "2022-04-25T18:53:58.757Z"
   },
   {
    "duration": 71,
    "start_time": "2022-04-25T18:53:58.851Z"
   },
   {
    "duration": 44,
    "start_time": "2022-04-25T18:53:58.923Z"
   },
   {
    "duration": 8,
    "start_time": "2022-04-25T18:53:58.969Z"
   },
   {
    "duration": 36,
    "start_time": "2022-04-25T18:53:58.979Z"
   },
   {
    "duration": 46,
    "start_time": "2022-04-25T18:53:59.017Z"
   },
   {
    "duration": 14,
    "start_time": "2022-04-25T18:53:59.065Z"
   },
   {
    "duration": 21,
    "start_time": "2022-04-25T18:53:59.081Z"
   },
   {
    "duration": 4,
    "start_time": "2022-04-25T18:53:59.104Z"
   },
   {
    "duration": 25,
    "start_time": "2022-04-25T18:53:59.110Z"
   },
   {
    "duration": 15,
    "start_time": "2022-04-25T18:53:59.136Z"
   },
   {
    "duration": 17,
    "start_time": "2022-04-25T18:53:59.153Z"
   },
   {
    "duration": 17,
    "start_time": "2022-04-25T18:53:59.192Z"
   },
   {
    "duration": 19,
    "start_time": "2022-04-25T18:53:59.210Z"
   },
   {
    "duration": 16,
    "start_time": "2022-04-25T18:53:59.231Z"
   },
   {
    "duration": 9,
    "start_time": "2022-04-25T18:53:59.249Z"
   },
   {
    "duration": 28,
    "start_time": "2022-04-25T18:53:59.295Z"
   },
   {
    "duration": 26,
    "start_time": "2022-04-25T18:53:59.325Z"
   },
   {
    "duration": 5,
    "start_time": "2022-04-25T18:53:59.353Z"
   },
   {
    "duration": 45,
    "start_time": "2022-04-25T18:53:59.359Z"
   },
   {
    "duration": 2,
    "start_time": "2022-04-25T18:54:20.098Z"
   },
   {
    "duration": 175,
    "start_time": "2022-04-25T18:54:20.102Z"
   },
   {
    "duration": 11,
    "start_time": "2022-04-25T18:54:20.294Z"
   },
   {
    "duration": 14,
    "start_time": "2022-04-25T18:54:20.307Z"
   },
   {
    "duration": 35,
    "start_time": "2022-04-25T18:54:20.323Z"
   },
   {
    "duration": 4,
    "start_time": "2022-04-25T18:54:20.360Z"
   },
   {
    "duration": 9,
    "start_time": "2022-04-25T18:54:20.393Z"
   },
   {
    "duration": 8,
    "start_time": "2022-04-25T18:54:20.403Z"
   },
   {
    "duration": 33,
    "start_time": "2022-04-25T18:54:20.413Z"
   },
   {
    "duration": 44,
    "start_time": "2022-04-25T18:54:20.448Z"
   },
   {
    "duration": 29,
    "start_time": "2022-04-25T18:54:20.496Z"
   },
   {
    "duration": 122,
    "start_time": "2022-04-25T18:54:20.527Z"
   },
   {
    "duration": 129,
    "start_time": "2022-04-25T18:54:20.651Z"
   },
   {
    "duration": 113,
    "start_time": "2022-04-25T18:54:20.782Z"
   },
   {
    "duration": 80,
    "start_time": "2022-04-25T18:54:20.897Z"
   },
   {
    "duration": 14,
    "start_time": "2022-04-25T18:54:20.979Z"
   },
   {
    "duration": 19,
    "start_time": "2022-04-25T18:54:20.995Z"
   },
   {
    "duration": 46,
    "start_time": "2022-04-25T18:54:21.015Z"
   },
   {
    "duration": 31,
    "start_time": "2022-04-25T18:54:21.063Z"
   },
   {
    "duration": 16,
    "start_time": "2022-04-25T18:54:21.096Z"
   },
   {
    "duration": 4,
    "start_time": "2022-04-25T18:54:21.114Z"
   },
   {
    "duration": 29,
    "start_time": "2022-04-25T18:54:21.121Z"
   },
   {
    "duration": 44,
    "start_time": "2022-04-25T18:54:21.152Z"
   },
   {
    "duration": 19,
    "start_time": "2022-04-25T18:54:21.198Z"
   },
   {
    "duration": 17,
    "start_time": "2022-04-25T18:54:21.218Z"
   },
   {
    "duration": 20,
    "start_time": "2022-04-25T18:54:21.237Z"
   },
   {
    "duration": 50,
    "start_time": "2022-04-25T18:54:21.259Z"
   },
   {
    "duration": 12,
    "start_time": "2022-04-25T18:54:21.311Z"
   },
   {
    "duration": 30,
    "start_time": "2022-04-25T18:54:21.328Z"
   },
   {
    "duration": 52,
    "start_time": "2022-04-25T18:54:21.360Z"
   },
   {
    "duration": 7,
    "start_time": "2022-04-25T18:54:21.414Z"
   },
   {
    "duration": 34,
    "start_time": "2022-04-25T18:54:21.423Z"
   },
   {
    "duration": 45,
    "start_time": "2022-04-25T18:54:21.459Z"
   },
   {
    "duration": 27,
    "start_time": "2022-04-25T18:54:21.506Z"
   },
   {
    "duration": 18,
    "start_time": "2022-04-25T18:54:21.535Z"
   },
   {
    "duration": 3,
    "start_time": "2022-04-25T19:04:59.243Z"
   },
   {
    "duration": 184,
    "start_time": "2022-04-25T19:04:59.250Z"
   },
   {
    "duration": 11,
    "start_time": "2022-04-25T19:04:59.436Z"
   },
   {
    "duration": 11,
    "start_time": "2022-04-25T19:04:59.449Z"
   },
   {
    "duration": 58,
    "start_time": "2022-04-25T19:04:59.462Z"
   },
   {
    "duration": 5,
    "start_time": "2022-04-25T19:04:59.522Z"
   },
   {
    "duration": 11,
    "start_time": "2022-04-25T19:04:59.528Z"
   },
   {
    "duration": 7,
    "start_time": "2022-04-25T19:04:59.541Z"
   },
   {
    "duration": 61,
    "start_time": "2022-04-25T19:04:59.550Z"
   },
   {
    "duration": 22,
    "start_time": "2022-04-25T19:04:59.614Z"
   },
   {
    "duration": 70,
    "start_time": "2022-04-25T19:04:59.637Z"
   },
   {
    "duration": 68,
    "start_time": "2022-04-25T19:04:59.709Z"
   },
   {
    "duration": 94,
    "start_time": "2022-04-25T19:04:59.779Z"
   },
   {
    "duration": 76,
    "start_time": "2022-04-25T19:04:59.875Z"
   },
   {
    "duration": 63,
    "start_time": "2022-04-25T19:04:59.955Z"
   },
   {
    "duration": 16,
    "start_time": "2022-04-25T19:05:00.020Z"
   },
   {
    "duration": 14,
    "start_time": "2022-04-25T19:05:00.038Z"
   },
   {
    "duration": 71,
    "start_time": "2022-04-25T19:05:00.054Z"
   },
   {
    "duration": 15,
    "start_time": "2022-04-25T19:05:00.127Z"
   },
   {
    "duration": 21,
    "start_time": "2022-04-25T19:05:00.144Z"
   },
   {
    "duration": 15,
    "start_time": "2022-04-25T19:05:00.167Z"
   },
   {
    "duration": 45,
    "start_time": "2022-04-25T19:05:00.184Z"
   },
   {
    "duration": 36,
    "start_time": "2022-04-25T19:05:00.232Z"
   },
   {
    "duration": 66,
    "start_time": "2022-04-25T19:05:00.271Z"
   },
   {
    "duration": 25,
    "start_time": "2022-04-25T19:05:00.339Z"
   },
   {
    "duration": 52,
    "start_time": "2022-04-25T19:05:00.366Z"
   },
   {
    "duration": 59,
    "start_time": "2022-04-25T19:05:00.420Z"
   },
   {
    "duration": 12,
    "start_time": "2022-04-25T19:05:00.481Z"
   },
   {
    "duration": 44,
    "start_time": "2022-04-25T19:05:00.494Z"
   },
   {
    "duration": 20,
    "start_time": "2022-04-25T19:05:00.539Z"
   },
   {
    "duration": 5,
    "start_time": "2022-04-25T19:05:00.561Z"
   },
   {
    "duration": 38,
    "start_time": "2022-04-25T19:05:00.568Z"
   },
   {
    "duration": 15,
    "start_time": "2022-04-25T19:05:00.607Z"
   },
   {
    "duration": 40,
    "start_time": "2022-04-25T19:05:00.624Z"
   },
   {
    "duration": 15,
    "start_time": "2022-04-25T19:05:00.666Z"
   },
   {
    "duration": 20,
    "start_time": "2022-04-25T19:05:00.682Z"
   },
   {
    "duration": 15,
    "start_time": "2022-04-25T19:05:00.704Z"
   },
   {
    "duration": 15,
    "start_time": "2022-04-25T19:05:00.721Z"
   },
   {
    "duration": 21,
    "start_time": "2022-04-25T19:05:00.738Z"
   },
   {
    "duration": 6,
    "start_time": "2022-04-25T19:05:20.640Z"
   },
   {
    "duration": 21,
    "start_time": "2022-04-25T19:05:45.671Z"
   },
   {
    "duration": 16,
    "start_time": "2022-04-25T19:05:56.981Z"
   },
   {
    "duration": 22,
    "start_time": "2022-04-25T19:06:07.704Z"
   },
   {
    "duration": 10,
    "start_time": "2022-04-25T19:06:27.564Z"
   },
   {
    "duration": 13,
    "start_time": "2022-04-25T19:07:35.060Z"
   }
  ],
  "colab": {
   "collapsed_sections": [
    "E0vqbgi9ay0H",
    "VUC88oWjTJw2"
   ],
   "name": "yandex_music_project.ipynb",
   "provenance": []
  },
  "kernelspec": {
   "display_name": "Python 3 (ipykernel)",
   "language": "python",
   "name": "python3"
  },
  "language_info": {
   "codemirror_mode": {
    "name": "ipython",
    "version": 3
   },
   "file_extension": ".py",
   "mimetype": "text/x-python",
   "name": "python",
   "nbconvert_exporter": "python",
   "pygments_lexer": "ipython3",
   "version": "3.10.9"
  },
  "toc": {
   "base_numbering": 1,
   "nav_menu": {},
   "number_sections": true,
   "sideBar": true,
   "skip_h1_title": true,
   "title_cell": "Table of Contents",
   "title_sidebar": "Contents",
   "toc_cell": false,
   "toc_position": {
    "height": "calc(100% - 180px)",
    "left": "10px",
    "top": "150px",
    "width": "165px"
   },
   "toc_section_display": true,
   "toc_window_display": true
  }
 },
 "nbformat": 4,
 "nbformat_minor": 1
}
