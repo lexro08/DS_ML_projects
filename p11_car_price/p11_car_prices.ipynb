{
 "cells": [
  {
   "cell_type": "markdown",
   "metadata": {},
   "source": [
    "# Определение стоимости автомобилей"
   ]
  },
  {
   "cell_type": "markdown",
   "metadata": {},
   "source": [
    "Сервис по продаже автомобилей с пробегом «Не бит, не крашен» разрабатывает приложение для привлечения новых клиентов. В нём можно быстро узнать рыночную стоимость своего автомобиля. В вашем распоряжении исторические данные: технические характеристики, комплектации и цены автомобилей. Вам нужно построить модель для определения стоимости. \n",
    "\n",
    "Заказчику важны:\n",
    "\n",
    "- качество предсказания;\n",
    "- скорость предсказания;\n",
    "- время обучения."
   ]
  },
  {
   "cell_type": "markdown",
   "metadata": {},
   "source": [
    "Согласно технической документации ниже приведена расшифровка признаков в датасете.\n",
    "\n",
    "* DateCrawled — дата скачивания анкеты из базы\n",
    "\n",
    "* VehicleType — тип автомобильного кузова\n",
    "\n",
    "* RegistrationYear — год регистрации автомобиля\n",
    "\n",
    "* Gearbox — тип коробки передач\n",
    "\n",
    "* Power — мощность (л. с.)\n",
    "\n",
    "* Model — модель автомобиля\n",
    "\n",
    "* Kilometer — пробег (км)\n",
    "\n",
    "* RegistrationMonth — месяц регистрации автомобиля\n",
    "\n",
    "* FuelType — тип топлива\n",
    "\n",
    "* Brand — марка автомобиля\n",
    "\n",
    "* Repaired — была машина в ремонте или нет\n",
    "\n",
    "* DateCreated — дата создания анкеты\n",
    "\n",
    "* NumberOfPictures — количество фотографий автомобиля\n",
    "\n",
    "* PostalCode — почтовый индекс владельца анкеты (пользователя)\n",
    "\n",
    "* LastSeen — дата последней активности пользователя\n",
    "\n",
    "* Price — цена (евро)"
   ]
  },
  {
   "cell_type": "markdown",
   "metadata": {},
   "source": [
    "Произведем импорт всех необходимых библиотек"
   ]
  },
  {
   "cell_type": "code",
   "execution_count": 1,
   "metadata": {},
   "outputs": [
    {
     "name": "stdout",
     "output_type": "stream",
     "text": [
      "Requirement already satisfied: lightgbm in /Users/alekseikurylev/Desktop/conda_env_1/lib/python3.10/site-packages (3.3.5)\n",
      "Requirement already satisfied: wheel in /Users/alekseikurylev/Desktop/conda_env_1/lib/python3.10/site-packages (from lightgbm) (0.40.0)\n",
      "Requirement already satisfied: numpy in /Users/alekseikurylev/Desktop/conda_env_1/lib/python3.10/site-packages (from lightgbm) (1.24.3)\n",
      "Requirement already satisfied: scipy in /Users/alekseikurylev/Desktop/conda_env_1/lib/python3.10/site-packages (from lightgbm) (1.10.1)\n",
      "Requirement already satisfied: scikit-learn!=0.22.0 in /Users/alekseikurylev/Desktop/conda_env_1/lib/python3.10/site-packages (from lightgbm) (1.2.2)\n",
      "Requirement already satisfied: joblib>=1.1.1 in /Users/alekseikurylev/Desktop/conda_env_1/lib/python3.10/site-packages (from scikit-learn!=0.22.0->lightgbm) (1.2.0)\n",
      "Requirement already satisfied: threadpoolctl>=2.0.0 in /Users/alekseikurylev/Desktop/conda_env_1/lib/python3.10/site-packages (from scikit-learn!=0.22.0->lightgbm) (3.1.0)\n"
     ]
    }
   ],
   "source": [
    "!pip install lightgbm"
   ]
  },
  {
   "cell_type": "code",
   "execution_count": 2,
   "metadata": {},
   "outputs": [],
   "source": [
    "#! pip install git+https://github.com/optuna/optuna.git"
   ]
  },
  {
   "cell_type": "code",
   "execution_count": 3,
   "metadata": {},
   "outputs": [
    {
     "name": "stderr",
     "output_type": "stream",
     "text": [
      "/Users/alekseikurylev/Desktop/conda_env_1/lib/python3.10/site-packages/tqdm/auto.py:21: TqdmWarning: IProgress not found. Please update jupyter and ipywidgets. See https://ipywidgets.readthedocs.io/en/stable/user_install.html\n",
      "  from .autonotebook import tqdm as notebook_tqdm\n"
     ]
    }
   ],
   "source": [
    "import pandas as pd\n",
    "import random as rn\n",
    "import seaborn as sns\n",
    "import matplotlib.pyplot as plt\n",
    "import numpy as np\n",
    "\n",
    "from sklearn.model_selection import train_test_split\n",
    "from sklearn.metrics import mean_squared_error\n",
    "from sklearn.model_selection import GridSearchCV\n",
    "from sklearn.dummy import DummyRegressor\n",
    "from sklearn.linear_model import LinearRegression\n",
    "from sklearn.tree import DecisionTreeRegressor\n",
    "from sklearn.ensemble import RandomForestRegressor\n",
    "from sklearn.preprocessing import StandardScaler\n",
    "import catboost as cb\n",
    "import lightgbm as lgbm\n",
    "\n",
    "import optuna"
   ]
  },
  {
   "cell_type": "code",
   "execution_count": 4,
   "metadata": {},
   "outputs": [],
   "source": [
    "sns.set(rc={\"figure.figsize\":(15, 9)})\n",
    "sns.set_style(\"darkgrid\")"
   ]
  },
  {
   "cell_type": "markdown",
   "metadata": {},
   "source": [
    "## Подготовка данных"
   ]
  },
  {
   "cell_type": "markdown",
   "metadata": {},
   "source": [
    "На данном этапе произведем выгрузку данных и изучим их более подробно."
   ]
  },
  {
   "cell_type": "code",
   "execution_count": 5,
   "metadata": {},
   "outputs": [],
   "source": [
    "try:\n",
    "    df = pd.read_csv('autos.csv')\n",
    "except:\n",
    "    df = pd.read_csv('/datasets/autos.csv')"
   ]
  },
  {
   "cell_type": "code",
   "execution_count": 6,
   "metadata": {},
   "outputs": [
    {
     "data": {
      "text/html": [
       "<div>\n",
       "<style scoped>\n",
       "    .dataframe tbody tr th:only-of-type {\n",
       "        vertical-align: middle;\n",
       "    }\n",
       "\n",
       "    .dataframe tbody tr th {\n",
       "        vertical-align: top;\n",
       "    }\n",
       "\n",
       "    .dataframe thead th {\n",
       "        text-align: right;\n",
       "    }\n",
       "</style>\n",
       "<table border=\"1\" class=\"dataframe\">\n",
       "  <thead>\n",
       "    <tr style=\"text-align: right;\">\n",
       "      <th></th>\n",
       "      <th>DateCrawled</th>\n",
       "      <th>Price</th>\n",
       "      <th>VehicleType</th>\n",
       "      <th>RegistrationYear</th>\n",
       "      <th>Gearbox</th>\n",
       "      <th>Power</th>\n",
       "      <th>Model</th>\n",
       "      <th>Kilometer</th>\n",
       "      <th>RegistrationMonth</th>\n",
       "      <th>FuelType</th>\n",
       "      <th>Brand</th>\n",
       "      <th>Repaired</th>\n",
       "      <th>DateCreated</th>\n",
       "      <th>NumberOfPictures</th>\n",
       "      <th>PostalCode</th>\n",
       "      <th>LastSeen</th>\n",
       "    </tr>\n",
       "  </thead>\n",
       "  <tbody>\n",
       "    <tr>\n",
       "      <th>0</th>\n",
       "      <td>2016-03-24 11:52:17</td>\n",
       "      <td>480</td>\n",
       "      <td>NaN</td>\n",
       "      <td>1993</td>\n",
       "      <td>manual</td>\n",
       "      <td>0</td>\n",
       "      <td>golf</td>\n",
       "      <td>150000</td>\n",
       "      <td>0</td>\n",
       "      <td>petrol</td>\n",
       "      <td>volkswagen</td>\n",
       "      <td>NaN</td>\n",
       "      <td>2016-03-24 00:00:00</td>\n",
       "      <td>0</td>\n",
       "      <td>70435</td>\n",
       "      <td>2016-04-07 03:16:57</td>\n",
       "    </tr>\n",
       "    <tr>\n",
       "      <th>1</th>\n",
       "      <td>2016-03-24 10:58:45</td>\n",
       "      <td>18300</td>\n",
       "      <td>coupe</td>\n",
       "      <td>2011</td>\n",
       "      <td>manual</td>\n",
       "      <td>190</td>\n",
       "      <td>NaN</td>\n",
       "      <td>125000</td>\n",
       "      <td>5</td>\n",
       "      <td>gasoline</td>\n",
       "      <td>audi</td>\n",
       "      <td>yes</td>\n",
       "      <td>2016-03-24 00:00:00</td>\n",
       "      <td>0</td>\n",
       "      <td>66954</td>\n",
       "      <td>2016-04-07 01:46:50</td>\n",
       "    </tr>\n",
       "    <tr>\n",
       "      <th>2</th>\n",
       "      <td>2016-03-14 12:52:21</td>\n",
       "      <td>9800</td>\n",
       "      <td>suv</td>\n",
       "      <td>2004</td>\n",
       "      <td>auto</td>\n",
       "      <td>163</td>\n",
       "      <td>grand</td>\n",
       "      <td>125000</td>\n",
       "      <td>8</td>\n",
       "      <td>gasoline</td>\n",
       "      <td>jeep</td>\n",
       "      <td>NaN</td>\n",
       "      <td>2016-03-14 00:00:00</td>\n",
       "      <td>0</td>\n",
       "      <td>90480</td>\n",
       "      <td>2016-04-05 12:47:46</td>\n",
       "    </tr>\n",
       "    <tr>\n",
       "      <th>3</th>\n",
       "      <td>2016-03-17 16:54:04</td>\n",
       "      <td>1500</td>\n",
       "      <td>small</td>\n",
       "      <td>2001</td>\n",
       "      <td>manual</td>\n",
       "      <td>75</td>\n",
       "      <td>golf</td>\n",
       "      <td>150000</td>\n",
       "      <td>6</td>\n",
       "      <td>petrol</td>\n",
       "      <td>volkswagen</td>\n",
       "      <td>no</td>\n",
       "      <td>2016-03-17 00:00:00</td>\n",
       "      <td>0</td>\n",
       "      <td>91074</td>\n",
       "      <td>2016-03-17 17:40:17</td>\n",
       "    </tr>\n",
       "    <tr>\n",
       "      <th>4</th>\n",
       "      <td>2016-03-31 17:25:20</td>\n",
       "      <td>3600</td>\n",
       "      <td>small</td>\n",
       "      <td>2008</td>\n",
       "      <td>manual</td>\n",
       "      <td>69</td>\n",
       "      <td>fabia</td>\n",
       "      <td>90000</td>\n",
       "      <td>7</td>\n",
       "      <td>gasoline</td>\n",
       "      <td>skoda</td>\n",
       "      <td>no</td>\n",
       "      <td>2016-03-31 00:00:00</td>\n",
       "      <td>0</td>\n",
       "      <td>60437</td>\n",
       "      <td>2016-04-06 10:17:21</td>\n",
       "    </tr>\n",
       "    <tr>\n",
       "      <th>5</th>\n",
       "      <td>2016-04-04 17:36:23</td>\n",
       "      <td>650</td>\n",
       "      <td>sedan</td>\n",
       "      <td>1995</td>\n",
       "      <td>manual</td>\n",
       "      <td>102</td>\n",
       "      <td>3er</td>\n",
       "      <td>150000</td>\n",
       "      <td>10</td>\n",
       "      <td>petrol</td>\n",
       "      <td>bmw</td>\n",
       "      <td>yes</td>\n",
       "      <td>2016-04-04 00:00:00</td>\n",
       "      <td>0</td>\n",
       "      <td>33775</td>\n",
       "      <td>2016-04-06 19:17:07</td>\n",
       "    </tr>\n",
       "    <tr>\n",
       "      <th>6</th>\n",
       "      <td>2016-04-01 20:48:51</td>\n",
       "      <td>2200</td>\n",
       "      <td>convertible</td>\n",
       "      <td>2004</td>\n",
       "      <td>manual</td>\n",
       "      <td>109</td>\n",
       "      <td>2_reihe</td>\n",
       "      <td>150000</td>\n",
       "      <td>8</td>\n",
       "      <td>petrol</td>\n",
       "      <td>peugeot</td>\n",
       "      <td>no</td>\n",
       "      <td>2016-04-01 00:00:00</td>\n",
       "      <td>0</td>\n",
       "      <td>67112</td>\n",
       "      <td>2016-04-05 18:18:39</td>\n",
       "    </tr>\n",
       "    <tr>\n",
       "      <th>7</th>\n",
       "      <td>2016-03-21 18:54:38</td>\n",
       "      <td>0</td>\n",
       "      <td>sedan</td>\n",
       "      <td>1980</td>\n",
       "      <td>manual</td>\n",
       "      <td>50</td>\n",
       "      <td>other</td>\n",
       "      <td>40000</td>\n",
       "      <td>7</td>\n",
       "      <td>petrol</td>\n",
       "      <td>volkswagen</td>\n",
       "      <td>no</td>\n",
       "      <td>2016-03-21 00:00:00</td>\n",
       "      <td>0</td>\n",
       "      <td>19348</td>\n",
       "      <td>2016-03-25 16:47:58</td>\n",
       "    </tr>\n",
       "    <tr>\n",
       "      <th>8</th>\n",
       "      <td>2016-04-04 23:42:13</td>\n",
       "      <td>14500</td>\n",
       "      <td>bus</td>\n",
       "      <td>2014</td>\n",
       "      <td>manual</td>\n",
       "      <td>125</td>\n",
       "      <td>c_max</td>\n",
       "      <td>30000</td>\n",
       "      <td>8</td>\n",
       "      <td>petrol</td>\n",
       "      <td>ford</td>\n",
       "      <td>NaN</td>\n",
       "      <td>2016-04-04 00:00:00</td>\n",
       "      <td>0</td>\n",
       "      <td>94505</td>\n",
       "      <td>2016-04-04 23:42:13</td>\n",
       "    </tr>\n",
       "    <tr>\n",
       "      <th>9</th>\n",
       "      <td>2016-03-17 10:53:50</td>\n",
       "      <td>999</td>\n",
       "      <td>small</td>\n",
       "      <td>1998</td>\n",
       "      <td>manual</td>\n",
       "      <td>101</td>\n",
       "      <td>golf</td>\n",
       "      <td>150000</td>\n",
       "      <td>0</td>\n",
       "      <td>NaN</td>\n",
       "      <td>volkswagen</td>\n",
       "      <td>NaN</td>\n",
       "      <td>2016-03-17 00:00:00</td>\n",
       "      <td>0</td>\n",
       "      <td>27472</td>\n",
       "      <td>2016-03-31 17:17:06</td>\n",
       "    </tr>\n",
       "  </tbody>\n",
       "</table>\n",
       "</div>"
      ],
      "text/plain": [
       "           DateCrawled  Price  VehicleType  RegistrationYear Gearbox  Power   \n",
       "0  2016-03-24 11:52:17    480          NaN              1993  manual      0  \\\n",
       "1  2016-03-24 10:58:45  18300        coupe              2011  manual    190   \n",
       "2  2016-03-14 12:52:21   9800          suv              2004    auto    163   \n",
       "3  2016-03-17 16:54:04   1500        small              2001  manual     75   \n",
       "4  2016-03-31 17:25:20   3600        small              2008  manual     69   \n",
       "5  2016-04-04 17:36:23    650        sedan              1995  manual    102   \n",
       "6  2016-04-01 20:48:51   2200  convertible              2004  manual    109   \n",
       "7  2016-03-21 18:54:38      0        sedan              1980  manual     50   \n",
       "8  2016-04-04 23:42:13  14500          bus              2014  manual    125   \n",
       "9  2016-03-17 10:53:50    999        small              1998  manual    101   \n",
       "\n",
       "     Model  Kilometer  RegistrationMonth  FuelType       Brand Repaired   \n",
       "0     golf     150000                  0    petrol  volkswagen      NaN  \\\n",
       "1      NaN     125000                  5  gasoline        audi      yes   \n",
       "2    grand     125000                  8  gasoline        jeep      NaN   \n",
       "3     golf     150000                  6    petrol  volkswagen       no   \n",
       "4    fabia      90000                  7  gasoline       skoda       no   \n",
       "5      3er     150000                 10    petrol         bmw      yes   \n",
       "6  2_reihe     150000                  8    petrol     peugeot       no   \n",
       "7    other      40000                  7    petrol  volkswagen       no   \n",
       "8    c_max      30000                  8    petrol        ford      NaN   \n",
       "9     golf     150000                  0       NaN  volkswagen      NaN   \n",
       "\n",
       "           DateCreated  NumberOfPictures  PostalCode             LastSeen  \n",
       "0  2016-03-24 00:00:00                 0       70435  2016-04-07 03:16:57  \n",
       "1  2016-03-24 00:00:00                 0       66954  2016-04-07 01:46:50  \n",
       "2  2016-03-14 00:00:00                 0       90480  2016-04-05 12:47:46  \n",
       "3  2016-03-17 00:00:00                 0       91074  2016-03-17 17:40:17  \n",
       "4  2016-03-31 00:00:00                 0       60437  2016-04-06 10:17:21  \n",
       "5  2016-04-04 00:00:00                 0       33775  2016-04-06 19:17:07  \n",
       "6  2016-04-01 00:00:00                 0       67112  2016-04-05 18:18:39  \n",
       "7  2016-03-21 00:00:00                 0       19348  2016-03-25 16:47:58  \n",
       "8  2016-04-04 00:00:00                 0       94505  2016-04-04 23:42:13  \n",
       "9  2016-03-17 00:00:00                 0       27472  2016-03-31 17:17:06  "
      ]
     },
     "execution_count": 6,
     "metadata": {},
     "output_type": "execute_result"
    }
   ],
   "source": [
    "df.head(10)"
   ]
  },
  {
   "cell_type": "code",
   "execution_count": 7,
   "metadata": {},
   "outputs": [
    {
     "name": "stdout",
     "output_type": "stream",
     "text": [
      "<class 'pandas.core.frame.DataFrame'>\n",
      "RangeIndex: 354369 entries, 0 to 354368\n",
      "Data columns (total 16 columns):\n",
      " #   Column             Non-Null Count   Dtype \n",
      "---  ------             --------------   ----- \n",
      " 0   DateCrawled        354369 non-null  object\n",
      " 1   Price              354369 non-null  int64 \n",
      " 2   VehicleType        316879 non-null  object\n",
      " 3   RegistrationYear   354369 non-null  int64 \n",
      " 4   Gearbox            334536 non-null  object\n",
      " 5   Power              354369 non-null  int64 \n",
      " 6   Model              334664 non-null  object\n",
      " 7   Kilometer          354369 non-null  int64 \n",
      " 8   RegistrationMonth  354369 non-null  int64 \n",
      " 9   FuelType           321474 non-null  object\n",
      " 10  Brand              354369 non-null  object\n",
      " 11  Repaired           283215 non-null  object\n",
      " 12  DateCreated        354369 non-null  object\n",
      " 13  NumberOfPictures   354369 non-null  int64 \n",
      " 14  PostalCode         354369 non-null  int64 \n",
      " 15  LastSeen           354369 non-null  object\n",
      "dtypes: int64(7), object(9)\n",
      "memory usage: 43.3+ MB\n"
     ]
    }
   ],
   "source": [
    "df.info()"
   ]
  },
  {
   "cell_type": "code",
   "execution_count": 8,
   "metadata": {},
   "outputs": [
    {
     "data": {
      "text/html": [
       "<div>\n",
       "<style scoped>\n",
       "    .dataframe tbody tr th:only-of-type {\n",
       "        vertical-align: middle;\n",
       "    }\n",
       "\n",
       "    .dataframe tbody tr th {\n",
       "        vertical-align: top;\n",
       "    }\n",
       "\n",
       "    .dataframe thead th {\n",
       "        text-align: right;\n",
       "    }\n",
       "</style>\n",
       "<table border=\"1\" class=\"dataframe\">\n",
       "  <thead>\n",
       "    <tr style=\"text-align: right;\">\n",
       "      <th></th>\n",
       "      <th>Price</th>\n",
       "      <th>RegistrationYear</th>\n",
       "      <th>Power</th>\n",
       "      <th>Kilometer</th>\n",
       "      <th>RegistrationMonth</th>\n",
       "      <th>NumberOfPictures</th>\n",
       "      <th>PostalCode</th>\n",
       "    </tr>\n",
       "  </thead>\n",
       "  <tbody>\n",
       "    <tr>\n",
       "      <th>count</th>\n",
       "      <td>354369.000000</td>\n",
       "      <td>354369.000000</td>\n",
       "      <td>354369.000000</td>\n",
       "      <td>354369.000000</td>\n",
       "      <td>354369.000000</td>\n",
       "      <td>354369.0</td>\n",
       "      <td>354369.000000</td>\n",
       "    </tr>\n",
       "    <tr>\n",
       "      <th>mean</th>\n",
       "      <td>4416.656776</td>\n",
       "      <td>2004.234448</td>\n",
       "      <td>110.094337</td>\n",
       "      <td>128211.172535</td>\n",
       "      <td>5.714645</td>\n",
       "      <td>0.0</td>\n",
       "      <td>50508.689087</td>\n",
       "    </tr>\n",
       "    <tr>\n",
       "      <th>std</th>\n",
       "      <td>4514.158514</td>\n",
       "      <td>90.227958</td>\n",
       "      <td>189.850405</td>\n",
       "      <td>37905.341530</td>\n",
       "      <td>3.726421</td>\n",
       "      <td>0.0</td>\n",
       "      <td>25783.096248</td>\n",
       "    </tr>\n",
       "    <tr>\n",
       "      <th>min</th>\n",
       "      <td>0.000000</td>\n",
       "      <td>1000.000000</td>\n",
       "      <td>0.000000</td>\n",
       "      <td>5000.000000</td>\n",
       "      <td>0.000000</td>\n",
       "      <td>0.0</td>\n",
       "      <td>1067.000000</td>\n",
       "    </tr>\n",
       "    <tr>\n",
       "      <th>25%</th>\n",
       "      <td>1050.000000</td>\n",
       "      <td>1999.000000</td>\n",
       "      <td>69.000000</td>\n",
       "      <td>125000.000000</td>\n",
       "      <td>3.000000</td>\n",
       "      <td>0.0</td>\n",
       "      <td>30165.000000</td>\n",
       "    </tr>\n",
       "    <tr>\n",
       "      <th>50%</th>\n",
       "      <td>2700.000000</td>\n",
       "      <td>2003.000000</td>\n",
       "      <td>105.000000</td>\n",
       "      <td>150000.000000</td>\n",
       "      <td>6.000000</td>\n",
       "      <td>0.0</td>\n",
       "      <td>49413.000000</td>\n",
       "    </tr>\n",
       "    <tr>\n",
       "      <th>75%</th>\n",
       "      <td>6400.000000</td>\n",
       "      <td>2008.000000</td>\n",
       "      <td>143.000000</td>\n",
       "      <td>150000.000000</td>\n",
       "      <td>9.000000</td>\n",
       "      <td>0.0</td>\n",
       "      <td>71083.000000</td>\n",
       "    </tr>\n",
       "    <tr>\n",
       "      <th>max</th>\n",
       "      <td>20000.000000</td>\n",
       "      <td>9999.000000</td>\n",
       "      <td>20000.000000</td>\n",
       "      <td>150000.000000</td>\n",
       "      <td>12.000000</td>\n",
       "      <td>0.0</td>\n",
       "      <td>99998.000000</td>\n",
       "    </tr>\n",
       "  </tbody>\n",
       "</table>\n",
       "</div>"
      ],
      "text/plain": [
       "               Price  RegistrationYear          Power      Kilometer   \n",
       "count  354369.000000     354369.000000  354369.000000  354369.000000  \\\n",
       "mean     4416.656776       2004.234448     110.094337  128211.172535   \n",
       "std      4514.158514         90.227958     189.850405   37905.341530   \n",
       "min         0.000000       1000.000000       0.000000    5000.000000   \n",
       "25%      1050.000000       1999.000000      69.000000  125000.000000   \n",
       "50%      2700.000000       2003.000000     105.000000  150000.000000   \n",
       "75%      6400.000000       2008.000000     143.000000  150000.000000   \n",
       "max     20000.000000       9999.000000   20000.000000  150000.000000   \n",
       "\n",
       "       RegistrationMonth  NumberOfPictures     PostalCode  \n",
       "count      354369.000000          354369.0  354369.000000  \n",
       "mean            5.714645               0.0   50508.689087  \n",
       "std             3.726421               0.0   25783.096248  \n",
       "min             0.000000               0.0    1067.000000  \n",
       "25%             3.000000               0.0   30165.000000  \n",
       "50%             6.000000               0.0   49413.000000  \n",
       "75%             9.000000               0.0   71083.000000  \n",
       "max            12.000000               0.0   99998.000000  "
      ]
     },
     "execution_count": 8,
     "metadata": {},
     "output_type": "execute_result"
    }
   ],
   "source": [
    "df.describe()"
   ]
  },
  {
   "cell_type": "markdown",
   "metadata": {},
   "source": [
    "Согласно выгрузке и предствавленным данным мы видим следующее:\n",
    "\n",
    "1) В столбцах VehicleType, Gearbox, Model, FuelType, Repaired имеются пропущенные значения.\n",
    "\n",
    "2) В столбце NumberOfPictures количество фотографий равно 0, что достаточно странно. \n",
    "\n",
    "3) В столбце RegistrationYear имеются аномальные значения. Как мимимум 1000 и 9999 год регистрации.\n",
    "\n",
    "4) В столбце Price имеется аномальное значение 0.\n",
    "\n",
    "5) В столбце Power имеется аномальное значение 0.\n",
    "\n",
    "6) В столбце RegistrationMonth имеется аномальное значение 0."
   ]
  },
  {
   "cell_type": "code",
   "execution_count": 9,
   "metadata": {},
   "outputs": [
    {
     "name": "stdout",
     "output_type": "stream",
     "text": [
      "<class 'pandas.core.frame.DataFrame'>\n",
      "RangeIndex: 354369 entries, 0 to 354368\n",
      "Data columns (total 16 columns):\n",
      " #   Column              Non-Null Count   Dtype \n",
      "---  ------              --------------   ----- \n",
      " 0   date_crawled        354369 non-null  object\n",
      " 1   price               354369 non-null  int64 \n",
      " 2   vehicle_type        316879 non-null  object\n",
      " 3   registration_year   354369 non-null  int64 \n",
      " 4   gearbox             334536 non-null  object\n",
      " 5   power               354369 non-null  int64 \n",
      " 6   model               334664 non-null  object\n",
      " 7   kilometer           354369 non-null  int64 \n",
      " 8   registration_month  354369 non-null  int64 \n",
      " 9   fuel_type           321474 non-null  object\n",
      " 10  brand               354369 non-null  object\n",
      " 11  repaired            283215 non-null  object\n",
      " 12  date_created        354369 non-null  object\n",
      " 13  number_of_pictures  354369 non-null  int64 \n",
      " 14  postal_code         354369 non-null  int64 \n",
      " 15  last_seen           354369 non-null  object\n",
      "dtypes: int64(7), object(9)\n",
      "memory usage: 43.3+ MB\n"
     ]
    }
   ],
   "source": [
    "df.columns = df.columns.str.replace(r'(?<!^)(?=[A-Z])', '_', regex=True).str.lower()\n",
    "df.info()"
   ]
  },
  {
   "cell_type": "code",
   "execution_count": null,
   "metadata": {},
   "outputs": [],
   "source": []
  },
  {
   "cell_type": "markdown",
   "metadata": {},
   "source": [
    "### Проверка дубликатов"
   ]
  },
  {
   "cell_type": "markdown",
   "metadata": {},
   "source": [
    "#### Явные дубликаты"
   ]
  },
  {
   "cell_type": "markdown",
   "metadata": {},
   "source": [
    "Проверим на наличие явных дубликатов в датасете.df.duplicated().sum()"
   ]
  },
  {
   "cell_type": "code",
   "execution_count": 10,
   "metadata": {},
   "outputs": [
    {
     "data": {
      "text/plain": [
       "4"
      ]
     },
     "execution_count": 10,
     "metadata": {},
     "output_type": "execute_result"
    }
   ],
   "source": [
    "df.duplicated().sum()"
   ]
  },
  {
   "cell_type": "markdown",
   "metadata": {},
   "source": [
    "Избавимся от явных дубликатов."
   ]
  },
  {
   "cell_type": "code",
   "execution_count": 11,
   "metadata": {},
   "outputs": [],
   "source": [
    "df = df.drop_duplicates().reset_index(drop=True)"
   ]
  },
  {
   "cell_type": "markdown",
   "metadata": {},
   "source": [
    "#### Неявные дубликаты, замена на пропусков  в категориальных признаках."
   ]
  },
  {
   "cell_type": "markdown",
   "metadata": {},
   "source": [
    "Попробуем проверить наличие неявных дубликатов. Для этого сконцентрируем внимание на столбцах с типом данных object:\n",
    "\n",
    "- VehicleType\n",
    "- Gearbox\n",
    "- Model\n",
    "- FuelType\n",
    "- Brand\n",
    "- Repaired\n",
    "\n",
    "Проверим наличие уникальных значений."
   ]
  },
  {
   "cell_type": "code",
   "execution_count": 12,
   "metadata": {},
   "outputs": [
    {
     "data": {
      "text/plain": [
       "vehicle_type\n",
       "sedan          91457\n",
       "small          79830\n",
       "wagon          65165\n",
       "bus            28775\n",
       "convertible    20203\n",
       "coupe          16161\n",
       "suv            11996\n",
       "other           3288\n",
       "Name: count, dtype: int64"
      ]
     },
     "execution_count": 12,
     "metadata": {},
     "output_type": "execute_result"
    }
   ],
   "source": [
    "df['vehicle_type'].value_counts()"
   ]
  },
  {
   "cell_type": "code",
   "execution_count": 13,
   "metadata": {},
   "outputs": [
    {
     "data": {
      "text/plain": [
       "37490"
      ]
     },
     "execution_count": 13,
     "metadata": {},
     "output_type": "execute_result"
    }
   ],
   "source": [
    "df['vehicle_type'].isna().sum()"
   ]
  },
  {
   "cell_type": "code",
   "execution_count": 14,
   "metadata": {},
   "outputs": [
    {
     "data": {
      "text/plain": [
       "0.10579487251844849"
      ]
     },
     "execution_count": 14,
     "metadata": {},
     "output_type": "execute_result"
    }
   ],
   "source": [
    "df.isna().mean()['vehicle_type']"
   ]
  },
  {
   "cell_type": "markdown",
   "metadata": {},
   "source": [
    "Учитывая, что пропущенных значений порядка 10 %, а данные по машинам достаточно сильно различаются, поэтму пропущенные значения заполним  типом кузова other."
   ]
  },
  {
   "cell_type": "code",
   "execution_count": 15,
   "metadata": {},
   "outputs": [
    {
     "name": "stdout",
     "output_type": "stream",
     "text": [
      "<class 'pandas.core.frame.DataFrame'>\n",
      "RangeIndex: 354365 entries, 0 to 354364\n",
      "Data columns (total 16 columns):\n",
      " #   Column              Non-Null Count   Dtype \n",
      "---  ------              --------------   ----- \n",
      " 0   date_crawled        354365 non-null  object\n",
      " 1   price               354365 non-null  int64 \n",
      " 2   vehicle_type        354365 non-null  object\n",
      " 3   registration_year   354365 non-null  int64 \n",
      " 4   gearbox             334532 non-null  object\n",
      " 5   power               354365 non-null  int64 \n",
      " 6   model               334660 non-null  object\n",
      " 7   kilometer           354365 non-null  int64 \n",
      " 8   registration_month  354365 non-null  int64 \n",
      " 9   fuel_type           321470 non-null  object\n",
      " 10  brand               354365 non-null  object\n",
      " 11  repaired            283211 non-null  object\n",
      " 12  date_created        354365 non-null  object\n",
      " 13  number_of_pictures  354365 non-null  int64 \n",
      " 14  postal_code         354365 non-null  int64 \n",
      " 15  last_seen           354365 non-null  object\n",
      "dtypes: int64(7), object(9)\n",
      "memory usage: 43.3+ MB\n"
     ]
    }
   ],
   "source": [
    "df['vehicle_type'] = df['vehicle_type'].fillna('other')\n",
    "df.info()"
   ]
  },
  {
   "cell_type": "code",
   "execution_count": 16,
   "metadata": {},
   "outputs": [
    {
     "data": {
      "text/plain": [
       "gearbox\n",
       "manual    268249\n",
       "auto       66283\n",
       "Name: count, dtype: int64"
      ]
     },
     "execution_count": 16,
     "metadata": {},
     "output_type": "execute_result"
    }
   ],
   "source": [
    "df['gearbox'].value_counts()"
   ]
  },
  {
   "cell_type": "code",
   "execution_count": 17,
   "metadata": {},
   "outputs": [
    {
     "data": {
      "text/plain": [
       "0.05596771690206426"
      ]
     },
     "execution_count": 17,
     "metadata": {},
     "output_type": "execute_result"
    }
   ],
   "source": [
    "isna_gear_ratio = df['gearbox'].isna().sum()/len(df['gearbox'])\n",
    "isna_gear_ratio"
   ]
  },
  {
   "cell_type": "markdown",
   "metadata": {},
   "source": [
    "Количсество пропусков составляет 5%. Можно предположить, что помимо механической или автоматической коробки передач еще существуют вариатор и роботизированная КПП. Вероятно, на сайте опции выбора альтернативных КПП нет, поэтому добавим 3-й тип other в замен пропусков."
   ]
  },
  {
   "cell_type": "code",
   "execution_count": 18,
   "metadata": {},
   "outputs": [
    {
     "name": "stdout",
     "output_type": "stream",
     "text": [
      "<class 'pandas.core.frame.DataFrame'>\n",
      "RangeIndex: 354365 entries, 0 to 354364\n",
      "Data columns (total 16 columns):\n",
      " #   Column              Non-Null Count   Dtype \n",
      "---  ------              --------------   ----- \n",
      " 0   date_crawled        354365 non-null  object\n",
      " 1   price               354365 non-null  int64 \n",
      " 2   vehicle_type        354365 non-null  object\n",
      " 3   registration_year   354365 non-null  int64 \n",
      " 4   gearbox             354365 non-null  object\n",
      " 5   power               354365 non-null  int64 \n",
      " 6   model               334660 non-null  object\n",
      " 7   kilometer           354365 non-null  int64 \n",
      " 8   registration_month  354365 non-null  int64 \n",
      " 9   fuel_type           321470 non-null  object\n",
      " 10  brand               354365 non-null  object\n",
      " 11  repaired            283211 non-null  object\n",
      " 12  date_created        354365 non-null  object\n",
      " 13  number_of_pictures  354365 non-null  int64 \n",
      " 14  postal_code         354365 non-null  int64 \n",
      " 15  last_seen           354365 non-null  object\n",
      "dtypes: int64(7), object(9)\n",
      "memory usage: 43.3+ MB\n"
     ]
    }
   ],
   "source": [
    "df['gearbox'] = df['gearbox'].fillna('other')\n",
    "df.info()"
   ]
  },
  {
   "cell_type": "code",
   "execution_count": 19,
   "metadata": {},
   "outputs": [
    {
     "data": {
      "text/plain": [
       "model\n",
       "golf                  29232\n",
       "other                 24420\n",
       "3er                   19761\n",
       "polo                  13066\n",
       "corsa                 12570\n",
       "                      ...  \n",
       "i3                        8\n",
       "serie_3                   4\n",
       "rangerover                4\n",
       "range_rover_evoque        2\n",
       "serie_1                   2\n",
       "Name: count, Length: 250, dtype: int64"
      ]
     },
     "execution_count": 19,
     "metadata": {},
     "output_type": "execute_result"
    }
   ],
   "source": [
    "df['model'].value_counts()"
   ]
  },
  {
   "cell_type": "code",
   "execution_count": 20,
   "metadata": {},
   "outputs": [
    {
     "data": {
      "text/plain": [
       "0.05560650741467131"
      ]
     },
     "execution_count": 20,
     "metadata": {},
     "output_type": "execute_result"
    }
   ],
   "source": [
    "isna_model_ratio = df['model'].isna().sum()/len(df['model'])\n",
    "isna_model_ratio"
   ]
  },
  {
   "cell_type": "markdown",
   "metadata": {},
   "source": [
    "Учитывая, что колличество пропусков по моделям составляет 5%, можно предположить, что часть моделей еще не внесено в базу данных сайта. Поэтому можно также заменить все пропуски на other."
   ]
  },
  {
   "cell_type": "code",
   "execution_count": 21,
   "metadata": {},
   "outputs": [
    {
     "name": "stdout",
     "output_type": "stream",
     "text": [
      "<class 'pandas.core.frame.DataFrame'>\n",
      "RangeIndex: 354365 entries, 0 to 354364\n",
      "Data columns (total 16 columns):\n",
      " #   Column              Non-Null Count   Dtype \n",
      "---  ------              --------------   ----- \n",
      " 0   date_crawled        354365 non-null  object\n",
      " 1   price               354365 non-null  int64 \n",
      " 2   vehicle_type        354365 non-null  object\n",
      " 3   registration_year   354365 non-null  int64 \n",
      " 4   gearbox             354365 non-null  object\n",
      " 5   power               354365 non-null  int64 \n",
      " 6   model               354365 non-null  object\n",
      " 7   kilometer           354365 non-null  int64 \n",
      " 8   registration_month  354365 non-null  int64 \n",
      " 9   fuel_type           321470 non-null  object\n",
      " 10  brand               354365 non-null  object\n",
      " 11  repaired            283211 non-null  object\n",
      " 12  date_created        354365 non-null  object\n",
      " 13  number_of_pictures  354365 non-null  int64 \n",
      " 14  postal_code         354365 non-null  int64 \n",
      " 15  last_seen           354365 non-null  object\n",
      "dtypes: int64(7), object(9)\n",
      "memory usage: 43.3+ MB\n"
     ]
    }
   ],
   "source": [
    "df['model'] = df['model'].fillna('other')\n",
    "df.info()"
   ]
  },
  {
   "cell_type": "code",
   "execution_count": 22,
   "metadata": {},
   "outputs": [
    {
     "data": {
      "text/plain": [
       "fuel_type\n",
       "petrol      216349\n",
       "gasoline     98719\n",
       "lpg           5310\n",
       "cng            565\n",
       "hybrid         233\n",
       "other          204\n",
       "electric        90\n",
       "Name: count, dtype: int64"
      ]
     },
     "execution_count": 22,
     "metadata": {},
     "output_type": "execute_result"
    }
   ],
   "source": [
    "df['fuel_type'].value_counts()"
   ]
  },
  {
   "cell_type": "markdown",
   "metadata": {},
   "source": [
    "В данных подозрительно выглядят 2 типа топлива petrol и gasoline, так как оба слова при переводе с английского являются бензином. Можно предложить данный фактор в различии страны производства: США или Европа, Россия, Азия. Проверим данную гипотезу."
   ]
  },
  {
   "cell_type": "code",
   "execution_count": 23,
   "metadata": {},
   "outputs": [
    {
     "data": {
      "text/html": [
       "<div>\n",
       "<style scoped>\n",
       "    .dataframe tbody tr th:only-of-type {\n",
       "        vertical-align: middle;\n",
       "    }\n",
       "\n",
       "    .dataframe tbody tr th {\n",
       "        vertical-align: top;\n",
       "    }\n",
       "\n",
       "    .dataframe thead th {\n",
       "        text-align: right;\n",
       "    }\n",
       "</style>\n",
       "<table border=\"1\" class=\"dataframe\">\n",
       "  <thead>\n",
       "    <tr style=\"text-align: right;\">\n",
       "      <th></th>\n",
       "      <th>date_crawled</th>\n",
       "      <th>price</th>\n",
       "      <th>vehicle_type</th>\n",
       "      <th>registration_year</th>\n",
       "      <th>gearbox</th>\n",
       "      <th>power</th>\n",
       "      <th>model</th>\n",
       "      <th>kilometer</th>\n",
       "      <th>registration_month</th>\n",
       "      <th>fuel_type</th>\n",
       "      <th>brand</th>\n",
       "      <th>repaired</th>\n",
       "      <th>date_created</th>\n",
       "      <th>number_of_pictures</th>\n",
       "      <th>postal_code</th>\n",
       "      <th>last_seen</th>\n",
       "    </tr>\n",
       "  </thead>\n",
       "  <tbody>\n",
       "    <tr>\n",
       "      <th>0</th>\n",
       "      <td>2016-03-24 11:52:17</td>\n",
       "      <td>480</td>\n",
       "      <td>other</td>\n",
       "      <td>1993</td>\n",
       "      <td>manual</td>\n",
       "      <td>0</td>\n",
       "      <td>golf</td>\n",
       "      <td>150000</td>\n",
       "      <td>0</td>\n",
       "      <td>petrol</td>\n",
       "      <td>volkswagen</td>\n",
       "      <td>NaN</td>\n",
       "      <td>2016-03-24 00:00:00</td>\n",
       "      <td>0</td>\n",
       "      <td>70435</td>\n",
       "      <td>2016-04-07 03:16:57</td>\n",
       "    </tr>\n",
       "    <tr>\n",
       "      <th>3</th>\n",
       "      <td>2016-03-17 16:54:04</td>\n",
       "      <td>1500</td>\n",
       "      <td>small</td>\n",
       "      <td>2001</td>\n",
       "      <td>manual</td>\n",
       "      <td>75</td>\n",
       "      <td>golf</td>\n",
       "      <td>150000</td>\n",
       "      <td>6</td>\n",
       "      <td>petrol</td>\n",
       "      <td>volkswagen</td>\n",
       "      <td>no</td>\n",
       "      <td>2016-03-17 00:00:00</td>\n",
       "      <td>0</td>\n",
       "      <td>91074</td>\n",
       "      <td>2016-03-17 17:40:17</td>\n",
       "    </tr>\n",
       "    <tr>\n",
       "      <th>5</th>\n",
       "      <td>2016-04-04 17:36:23</td>\n",
       "      <td>650</td>\n",
       "      <td>sedan</td>\n",
       "      <td>1995</td>\n",
       "      <td>manual</td>\n",
       "      <td>102</td>\n",
       "      <td>3er</td>\n",
       "      <td>150000</td>\n",
       "      <td>10</td>\n",
       "      <td>petrol</td>\n",
       "      <td>bmw</td>\n",
       "      <td>yes</td>\n",
       "      <td>2016-04-04 00:00:00</td>\n",
       "      <td>0</td>\n",
       "      <td>33775</td>\n",
       "      <td>2016-04-06 19:17:07</td>\n",
       "    </tr>\n",
       "    <tr>\n",
       "      <th>6</th>\n",
       "      <td>2016-04-01 20:48:51</td>\n",
       "      <td>2200</td>\n",
       "      <td>convertible</td>\n",
       "      <td>2004</td>\n",
       "      <td>manual</td>\n",
       "      <td>109</td>\n",
       "      <td>2_reihe</td>\n",
       "      <td>150000</td>\n",
       "      <td>8</td>\n",
       "      <td>petrol</td>\n",
       "      <td>peugeot</td>\n",
       "      <td>no</td>\n",
       "      <td>2016-04-01 00:00:00</td>\n",
       "      <td>0</td>\n",
       "      <td>67112</td>\n",
       "      <td>2016-04-05 18:18:39</td>\n",
       "    </tr>\n",
       "    <tr>\n",
       "      <th>7</th>\n",
       "      <td>2016-03-21 18:54:38</td>\n",
       "      <td>0</td>\n",
       "      <td>sedan</td>\n",
       "      <td>1980</td>\n",
       "      <td>manual</td>\n",
       "      <td>50</td>\n",
       "      <td>other</td>\n",
       "      <td>40000</td>\n",
       "      <td>7</td>\n",
       "      <td>petrol</td>\n",
       "      <td>volkswagen</td>\n",
       "      <td>no</td>\n",
       "      <td>2016-03-21 00:00:00</td>\n",
       "      <td>0</td>\n",
       "      <td>19348</td>\n",
       "      <td>2016-03-25 16:47:58</td>\n",
       "    </tr>\n",
       "  </tbody>\n",
       "</table>\n",
       "</div>"
      ],
      "text/plain": [
       "          date_crawled  price vehicle_type  registration_year gearbox  power   \n",
       "0  2016-03-24 11:52:17    480        other               1993  manual      0  \\\n",
       "3  2016-03-17 16:54:04   1500        small               2001  manual     75   \n",
       "5  2016-04-04 17:36:23    650        sedan               1995  manual    102   \n",
       "6  2016-04-01 20:48:51   2200  convertible               2004  manual    109   \n",
       "7  2016-03-21 18:54:38      0        sedan               1980  manual     50   \n",
       "\n",
       "     model  kilometer  registration_month fuel_type       brand repaired   \n",
       "0     golf     150000                   0    petrol  volkswagen      NaN  \\\n",
       "3     golf     150000                   6    petrol  volkswagen       no   \n",
       "5      3er     150000                  10    petrol         bmw      yes   \n",
       "6  2_reihe     150000                   8    petrol     peugeot       no   \n",
       "7    other      40000                   7    petrol  volkswagen       no   \n",
       "\n",
       "          date_created  number_of_pictures  postal_code            last_seen  \n",
       "0  2016-03-24 00:00:00                   0        70435  2016-04-07 03:16:57  \n",
       "3  2016-03-17 00:00:00                   0        91074  2016-03-17 17:40:17  \n",
       "5  2016-04-04 00:00:00                   0        33775  2016-04-06 19:17:07  \n",
       "6  2016-04-01 00:00:00                   0        67112  2016-04-05 18:18:39  \n",
       "7  2016-03-21 00:00:00                   0        19348  2016-03-25 16:47:58  "
      ]
     },
     "execution_count": 23,
     "metadata": {},
     "output_type": "execute_result"
    }
   ],
   "source": [
    "df.loc[df['fuel_type'] == 'petrol'].head()"
   ]
  },
  {
   "cell_type": "code",
   "execution_count": 24,
   "metadata": {},
   "outputs": [
    {
     "data": {
      "text/html": [
       "<div>\n",
       "<style scoped>\n",
       "    .dataframe tbody tr th:only-of-type {\n",
       "        vertical-align: middle;\n",
       "    }\n",
       "\n",
       "    .dataframe tbody tr th {\n",
       "        vertical-align: top;\n",
       "    }\n",
       "\n",
       "    .dataframe thead th {\n",
       "        text-align: right;\n",
       "    }\n",
       "</style>\n",
       "<table border=\"1\" class=\"dataframe\">\n",
       "  <thead>\n",
       "    <tr style=\"text-align: right;\">\n",
       "      <th></th>\n",
       "      <th>date_crawled</th>\n",
       "      <th>price</th>\n",
       "      <th>vehicle_type</th>\n",
       "      <th>registration_year</th>\n",
       "      <th>gearbox</th>\n",
       "      <th>power</th>\n",
       "      <th>model</th>\n",
       "      <th>kilometer</th>\n",
       "      <th>registration_month</th>\n",
       "      <th>fuel_type</th>\n",
       "      <th>brand</th>\n",
       "      <th>repaired</th>\n",
       "      <th>date_created</th>\n",
       "      <th>number_of_pictures</th>\n",
       "      <th>postal_code</th>\n",
       "      <th>last_seen</th>\n",
       "    </tr>\n",
       "  </thead>\n",
       "  <tbody>\n",
       "    <tr>\n",
       "      <th>354354</th>\n",
       "      <td>2016-04-04 09:57:12</td>\n",
       "      <td>1490</td>\n",
       "      <td>small</td>\n",
       "      <td>1998</td>\n",
       "      <td>manual</td>\n",
       "      <td>50</td>\n",
       "      <td>lupo</td>\n",
       "      <td>150000</td>\n",
       "      <td>9</td>\n",
       "      <td>petrol</td>\n",
       "      <td>volkswagen</td>\n",
       "      <td>no</td>\n",
       "      <td>2016-04-04 00:00:00</td>\n",
       "      <td>0</td>\n",
       "      <td>48653</td>\n",
       "      <td>2016-04-06 11:17:13</td>\n",
       "    </tr>\n",
       "    <tr>\n",
       "      <th>354358</th>\n",
       "      <td>2016-03-19 19:53:49</td>\n",
       "      <td>3200</td>\n",
       "      <td>sedan</td>\n",
       "      <td>2004</td>\n",
       "      <td>manual</td>\n",
       "      <td>225</td>\n",
       "      <td>leon</td>\n",
       "      <td>150000</td>\n",
       "      <td>5</td>\n",
       "      <td>petrol</td>\n",
       "      <td>seat</td>\n",
       "      <td>yes</td>\n",
       "      <td>2016-03-19 00:00:00</td>\n",
       "      <td>0</td>\n",
       "      <td>96465</td>\n",
       "      <td>2016-03-19 20:44:43</td>\n",
       "    </tr>\n",
       "    <tr>\n",
       "      <th>354359</th>\n",
       "      <td>2016-03-27 20:36:20</td>\n",
       "      <td>1150</td>\n",
       "      <td>bus</td>\n",
       "      <td>2000</td>\n",
       "      <td>manual</td>\n",
       "      <td>0</td>\n",
       "      <td>zafira</td>\n",
       "      <td>150000</td>\n",
       "      <td>3</td>\n",
       "      <td>petrol</td>\n",
       "      <td>opel</td>\n",
       "      <td>no</td>\n",
       "      <td>2016-03-27 00:00:00</td>\n",
       "      <td>0</td>\n",
       "      <td>26624</td>\n",
       "      <td>2016-03-29 10:17:23</td>\n",
       "    </tr>\n",
       "    <tr>\n",
       "      <th>354360</th>\n",
       "      <td>2016-03-21 09:50:58</td>\n",
       "      <td>0</td>\n",
       "      <td>other</td>\n",
       "      <td>2005</td>\n",
       "      <td>manual</td>\n",
       "      <td>0</td>\n",
       "      <td>colt</td>\n",
       "      <td>150000</td>\n",
       "      <td>7</td>\n",
       "      <td>petrol</td>\n",
       "      <td>mitsubishi</td>\n",
       "      <td>yes</td>\n",
       "      <td>2016-03-21 00:00:00</td>\n",
       "      <td>0</td>\n",
       "      <td>2694</td>\n",
       "      <td>2016-03-21 10:42:49</td>\n",
       "    </tr>\n",
       "    <tr>\n",
       "      <th>354362</th>\n",
       "      <td>2016-03-05 19:56:21</td>\n",
       "      <td>1199</td>\n",
       "      <td>convertible</td>\n",
       "      <td>2000</td>\n",
       "      <td>auto</td>\n",
       "      <td>101</td>\n",
       "      <td>fortwo</td>\n",
       "      <td>125000</td>\n",
       "      <td>3</td>\n",
       "      <td>petrol</td>\n",
       "      <td>smart</td>\n",
       "      <td>no</td>\n",
       "      <td>2016-03-05 00:00:00</td>\n",
       "      <td>0</td>\n",
       "      <td>26135</td>\n",
       "      <td>2016-03-11 18:17:12</td>\n",
       "    </tr>\n",
       "  </tbody>\n",
       "</table>\n",
       "</div>"
      ],
      "text/plain": [
       "               date_crawled  price vehicle_type  registration_year gearbox   \n",
       "354354  2016-04-04 09:57:12   1490        small               1998  manual  \\\n",
       "354358  2016-03-19 19:53:49   3200        sedan               2004  manual   \n",
       "354359  2016-03-27 20:36:20   1150          bus               2000  manual   \n",
       "354360  2016-03-21 09:50:58      0        other               2005  manual   \n",
       "354362  2016-03-05 19:56:21   1199  convertible               2000    auto   \n",
       "\n",
       "        power   model  kilometer  registration_month fuel_type       brand   \n",
       "354354     50    lupo     150000                   9    petrol  volkswagen  \\\n",
       "354358    225    leon     150000                   5    petrol        seat   \n",
       "354359      0  zafira     150000                   3    petrol        opel   \n",
       "354360      0    colt     150000                   7    petrol  mitsubishi   \n",
       "354362    101  fortwo     125000                   3    petrol       smart   \n",
       "\n",
       "       repaired         date_created  number_of_pictures  postal_code   \n",
       "354354       no  2016-04-04 00:00:00                   0        48653  \\\n",
       "354358      yes  2016-03-19 00:00:00                   0        96465   \n",
       "354359       no  2016-03-27 00:00:00                   0        26624   \n",
       "354360      yes  2016-03-21 00:00:00                   0         2694   \n",
       "354362       no  2016-03-05 00:00:00                   0        26135   \n",
       "\n",
       "                  last_seen  \n",
       "354354  2016-04-06 11:17:13  \n",
       "354358  2016-03-19 20:44:43  \n",
       "354359  2016-03-29 10:17:23  \n",
       "354360  2016-03-21 10:42:49  \n",
       "354362  2016-03-11 18:17:12  "
      ]
     },
     "execution_count": 24,
     "metadata": {},
     "output_type": "execute_result"
    }
   ],
   "source": [
    "df.loc[df['fuel_type'] == 'petrol'].tail()"
   ]
  },
  {
   "cell_type": "markdown",
   "metadata": {},
   "source": [
    "Написание на английском не зависит от региона. Поэтому можно переименовать gasoline в petrol и проверим наличие пропусков."
   ]
  },
  {
   "cell_type": "code",
   "execution_count": 25,
   "metadata": {},
   "outputs": [
    {
     "data": {
      "text/plain": [
       "0.09282801631086592"
      ]
     },
     "execution_count": 25,
     "metadata": {},
     "output_type": "execute_result"
    }
   ],
   "source": [
    "df.loc[df['fuel_type'] == 'gasoline', 'fuel_type'] = 'petrol' \n",
    "\n",
    "isna_fuel_ratio = df['fuel_type'].isna().sum()/len(df['fuel_type'])\n",
    "isna_fuel_ratio"
   ]
  },
  {
   "cell_type": "markdown",
   "metadata": {},
   "source": [
    "Количество пропусков составляет 10%. Учитывая, что вариантов топлива может быть много, то пропущенные значения заполним типом other."
   ]
  },
  {
   "cell_type": "code",
   "execution_count": 26,
   "metadata": {},
   "outputs": [
    {
     "name": "stdout",
     "output_type": "stream",
     "text": [
      "<class 'pandas.core.frame.DataFrame'>\n",
      "RangeIndex: 354365 entries, 0 to 354364\n",
      "Data columns (total 16 columns):\n",
      " #   Column              Non-Null Count   Dtype \n",
      "---  ------              --------------   ----- \n",
      " 0   date_crawled        354365 non-null  object\n",
      " 1   price               354365 non-null  int64 \n",
      " 2   vehicle_type        354365 non-null  object\n",
      " 3   registration_year   354365 non-null  int64 \n",
      " 4   gearbox             354365 non-null  object\n",
      " 5   power               354365 non-null  int64 \n",
      " 6   model               354365 non-null  object\n",
      " 7   kilometer           354365 non-null  int64 \n",
      " 8   registration_month  354365 non-null  int64 \n",
      " 9   fuel_type           354365 non-null  object\n",
      " 10  brand               354365 non-null  object\n",
      " 11  repaired            283211 non-null  object\n",
      " 12  date_created        354365 non-null  object\n",
      " 13  number_of_pictures  354365 non-null  int64 \n",
      " 14  postal_code         354365 non-null  int64 \n",
      " 15  last_seen           354365 non-null  object\n",
      "dtypes: int64(7), object(9)\n",
      "memory usage: 43.3+ MB\n"
     ]
    }
   ],
   "source": [
    "df['fuel_type'] = df['fuel_type'].fillna('other')\n",
    "df.info()"
   ]
  },
  {
   "cell_type": "code",
   "execution_count": 27,
   "metadata": {},
   "outputs": [
    {
     "data": {
      "text/plain": [
       "brand\n",
       "volkswagen        77012\n",
       "opel              39931\n",
       "bmw               36914\n",
       "mercedes_benz     32044\n",
       "audi              29456\n",
       "ford              25179\n",
       "renault           17927\n",
       "peugeot           10998\n",
       "fiat               9643\n",
       "seat               6907\n",
       "mazda              5615\n",
       "skoda              5500\n",
       "smart              5246\n",
       "citroen            5148\n",
       "nissan             4941\n",
       "toyota             4606\n",
       "hyundai            3587\n",
       "sonstige_autos     3374\n",
       "volvo              3210\n",
       "mini               3202\n",
       "mitsubishi         3022\n",
       "honda              2817\n",
       "kia                2465\n",
       "suzuki             2322\n",
       "alfa_romeo         2314\n",
       "chevrolet          1754\n",
       "chrysler           1439\n",
       "dacia               900\n",
       "daihatsu            806\n",
       "subaru              762\n",
       "porsche             758\n",
       "jeep                677\n",
       "trabant             589\n",
       "land_rover          545\n",
       "daewoo              542\n",
       "saab                526\n",
       "jaguar              505\n",
       "rover               486\n",
       "lancia              471\n",
       "lada                225\n",
       "Name: count, dtype: int64"
      ]
     },
     "execution_count": 27,
     "metadata": {},
     "output_type": "execute_result"
    }
   ],
   "source": [
    "df['brand'].value_counts()"
   ]
  },
  {
   "cell_type": "markdown",
   "metadata": {},
   "source": [
    "Пропущенных значений в столбце Brand нет, что видно из инфомрации выше.\n",
    "\n",
    "Перейдем к признаку Repaired"
   ]
  },
  {
   "cell_type": "code",
   "execution_count": 28,
   "metadata": {},
   "outputs": [
    {
     "data": {
      "text/plain": [
       "repaired\n",
       "no     247158\n",
       "yes     36053\n",
       "Name: count, dtype: int64"
      ]
     },
     "execution_count": 28,
     "metadata": {},
     "output_type": "execute_result"
    }
   ],
   "source": [
    "df['repaired'].value_counts()"
   ]
  },
  {
   "cell_type": "code",
   "execution_count": 29,
   "metadata": {},
   "outputs": [
    {
     "data": {
      "text/plain": [
       "0.2007929677027923"
      ]
     },
     "execution_count": 29,
     "metadata": {},
     "output_type": "execute_result"
    }
   ],
   "source": [
    "isna_repaired_ratio = df['repaired'].isna().sum()/len(df['repaired'])\n",
    "isna_repaired_ratio"
   ]
  },
  {
   "cell_type": "markdown",
   "metadata": {},
   "source": [
    "Из данных видно, что у нас всего два значения: yes и no. Количество пропусков составляет 20%.\n",
    "\n",
    "Рассмотрим, как распределяются машины  в зависимости от пробега при условии ремонта."
   ]
  },
  {
   "cell_type": "code",
   "execution_count": 30,
   "metadata": {},
   "outputs": [
    {
     "data": {
      "text/plain": [
       "Text(0, 0.5, 'Факт ремонта')"
      ]
     },
     "execution_count": 30,
     "metadata": {},
     "output_type": "execute_result"
    },
    {
     "data": {
      "image/png": "[encoded data removed]",
      "text/plain": [
       "<Figure size 1500x600 with 1 Axes>"
      ]
     },
     "metadata": {},
     "output_type": "display_data"
    }
   ],
   "source": [
    "df.loc[df['repaired'] == 'yes'].pivot_table(index='kilometer', values='repaired', aggfunc='count').plot(style='o--', figsize=(15, 6), grid=True)\n",
    "\n",
    "plt.title('Динамика изменения ремонтов автомобилей от пробега')\n",
    "plt.xlabel('Пробег, км')\n",
    "plt.ylabel('Факт ремонта')"
   ]
  },
  {
   "cell_type": "markdown",
   "metadata": {},
   "source": [
    "Из графика мы видим, что автомобилей с пробегом более 120 000 км, у которых был ремонт, значительно выростает. \n",
    "\n",
    "Отсюда можно предложить следующую замену пропущенных значений:\n",
    " \n",
    "1) Если пробег > 120 000 км, то, вероятно, был ремонт.\n",
    "\n",
    "2) Если пробег < 120 000 км, то, вероятно, ремонт не производился."
   ]
  },
  {
   "cell_type": "code",
   "execution_count": 31,
   "metadata": {},
   "outputs": [
    {
     "data": {
      "text/plain": [
       "repaired\n",
       "no     260055\n",
       "yes     94310\n",
       "Name: count, dtype: int64"
      ]
     },
     "execution_count": 31,
     "metadata": {},
     "output_type": "execute_result"
    }
   ],
   "source": [
    "df['repaired'] = df['repaired'].fillna(df['kilometer'] > 120000)\n",
    "df.loc[df['repaired'] == True, 'repaired'] = 'yes'\n",
    "df.loc[df['repaired'] == False, 'repaired'] = 'no'\n",
    "df['repaired'].value_counts()"
   ]
  },
  {
   "cell_type": "markdown",
   "metadata": {},
   "source": [
    "### Исследовательский анализ, проверка на аномальные значения."
   ]
  },
  {
   "cell_type": "markdown",
   "metadata": {},
   "source": [
    "Рассмотрим, какие у нас встречаются аномальные значения в числовых признаках.\n",
    "\n",
    "**Признак - Price**\n",
    "\n",
    "Для начала расмотрим столбец с ценой Price."
   ]
  },
  {
   "cell_type": "code",
   "execution_count": 32,
   "metadata": {},
   "outputs": [
    {
     "data": {
      "text/plain": [
       "<Axes: >"
      ]
     },
     "execution_count": 32,
     "metadata": {},
     "output_type": "execute_result"
    },
    {
     "data": {
      "image/png": "[encoded data removed]",
      "text/plain": [
       "<Figure size 200x800 with 1 Axes>"
      ]
     },
     "metadata": {},
     "output_type": "display_data"
    }
   ],
   "source": [
    "plt.figure(figsize=(2, 8))\n",
    "plt.ylim(0,15000)\n",
    "df.boxplot('price')"
   ]
  },
  {
   "cell_type": "code",
   "execution_count": 33,
   "metadata": {},
   "outputs": [
    {
     "data": {
      "text/plain": [
       "<Axes: >"
      ]
     },
     "execution_count": 33,
     "metadata": {},
     "output_type": "execute_result"
    },
    {
     "data": {
      "image/png": "[encoded data removed]",
      "text/plain": [
       "<Figure size 1500x800 with 1 Axes>"
      ]
     },
     "metadata": {},
     "output_type": "display_data"
    }
   ],
   "source": [
    "plt.figure(figsize=(15, 8))\n",
    "df['price'].hist(bins=100, range =(0,20000))"
   ]
  },
  {
   "cell_type": "markdown",
   "metadata": {},
   "source": [
    "На основании представленных диаграмм мы видим, что имеется аномальное значение стоимости автомобиля - 0 Евро. Посмотрим, какие значения приведены в строках с нулевой ценой."
   ]
  },
  {
   "cell_type": "code",
   "execution_count": 34,
   "metadata": {},
   "outputs": [
    {
     "data": {
      "text/html": [
       "<div>\n",
       "<style scoped>\n",
       "    .dataframe tbody tr th:only-of-type {\n",
       "        vertical-align: middle;\n",
       "    }\n",
       "\n",
       "    .dataframe tbody tr th {\n",
       "        vertical-align: top;\n",
       "    }\n",
       "\n",
       "    .dataframe thead th {\n",
       "        text-align: right;\n",
       "    }\n",
       "</style>\n",
       "<table border=\"1\" class=\"dataframe\">\n",
       "  <thead>\n",
       "    <tr style=\"text-align: right;\">\n",
       "      <th></th>\n",
       "      <th>date_crawled</th>\n",
       "      <th>price</th>\n",
       "      <th>vehicle_type</th>\n",
       "      <th>registration_year</th>\n",
       "      <th>gearbox</th>\n",
       "      <th>power</th>\n",
       "      <th>model</th>\n",
       "      <th>kilometer</th>\n",
       "      <th>registration_month</th>\n",
       "      <th>fuel_type</th>\n",
       "      <th>brand</th>\n",
       "      <th>repaired</th>\n",
       "      <th>date_created</th>\n",
       "      <th>number_of_pictures</th>\n",
       "      <th>postal_code</th>\n",
       "      <th>last_seen</th>\n",
       "    </tr>\n",
       "  </thead>\n",
       "  <tbody>\n",
       "    <tr>\n",
       "      <th>7</th>\n",
       "      <td>2016-03-21 18:54:38</td>\n",
       "      <td>0</td>\n",
       "      <td>sedan</td>\n",
       "      <td>1980</td>\n",
       "      <td>manual</td>\n",
       "      <td>50</td>\n",
       "      <td>other</td>\n",
       "      <td>40000</td>\n",
       "      <td>7</td>\n",
       "      <td>petrol</td>\n",
       "      <td>volkswagen</td>\n",
       "      <td>no</td>\n",
       "      <td>2016-03-21 00:00:00</td>\n",
       "      <td>0</td>\n",
       "      <td>19348</td>\n",
       "      <td>2016-03-25 16:47:58</td>\n",
       "    </tr>\n",
       "    <tr>\n",
       "      <th>40</th>\n",
       "      <td>2016-03-26 22:06:17</td>\n",
       "      <td>0</td>\n",
       "      <td>other</td>\n",
       "      <td>1990</td>\n",
       "      <td>other</td>\n",
       "      <td>0</td>\n",
       "      <td>corsa</td>\n",
       "      <td>150000</td>\n",
       "      <td>1</td>\n",
       "      <td>petrol</td>\n",
       "      <td>opel</td>\n",
       "      <td>yes</td>\n",
       "      <td>2016-03-26 00:00:00</td>\n",
       "      <td>0</td>\n",
       "      <td>56412</td>\n",
       "      <td>2016-03-27 17:43:34</td>\n",
       "    </tr>\n",
       "    <tr>\n",
       "      <th>111</th>\n",
       "      <td>2016-03-19 18:40:12</td>\n",
       "      <td>0</td>\n",
       "      <td>other</td>\n",
       "      <td>2017</td>\n",
       "      <td>manual</td>\n",
       "      <td>0</td>\n",
       "      <td>golf</td>\n",
       "      <td>5000</td>\n",
       "      <td>12</td>\n",
       "      <td>petrol</td>\n",
       "      <td>volkswagen</td>\n",
       "      <td>no</td>\n",
       "      <td>2016-03-19 00:00:00</td>\n",
       "      <td>0</td>\n",
       "      <td>21698</td>\n",
       "      <td>2016-04-01 08:47:05</td>\n",
       "    </tr>\n",
       "    <tr>\n",
       "      <th>115</th>\n",
       "      <td>2016-03-20 18:53:27</td>\n",
       "      <td>0</td>\n",
       "      <td>small</td>\n",
       "      <td>1999</td>\n",
       "      <td>other</td>\n",
       "      <td>0</td>\n",
       "      <td>other</td>\n",
       "      <td>5000</td>\n",
       "      <td>0</td>\n",
       "      <td>petrol</td>\n",
       "      <td>volkswagen</td>\n",
       "      <td>no</td>\n",
       "      <td>2016-03-20 00:00:00</td>\n",
       "      <td>0</td>\n",
       "      <td>37520</td>\n",
       "      <td>2016-04-07 02:45:22</td>\n",
       "    </tr>\n",
       "    <tr>\n",
       "      <th>152</th>\n",
       "      <td>2016-03-11 18:55:53</td>\n",
       "      <td>0</td>\n",
       "      <td>bus</td>\n",
       "      <td>2004</td>\n",
       "      <td>manual</td>\n",
       "      <td>101</td>\n",
       "      <td>meriva</td>\n",
       "      <td>150000</td>\n",
       "      <td>10</td>\n",
       "      <td>lpg</td>\n",
       "      <td>opel</td>\n",
       "      <td>yes</td>\n",
       "      <td>2016-03-11 00:00:00</td>\n",
       "      <td>0</td>\n",
       "      <td>27432</td>\n",
       "      <td>2016-03-12 23:47:10</td>\n",
       "    </tr>\n",
       "    <tr>\n",
       "      <th>154</th>\n",
       "      <td>2016-03-22 16:37:59</td>\n",
       "      <td>0</td>\n",
       "      <td>other</td>\n",
       "      <td>2006</td>\n",
       "      <td>other</td>\n",
       "      <td>0</td>\n",
       "      <td>other</td>\n",
       "      <td>5000</td>\n",
       "      <td>0</td>\n",
       "      <td>other</td>\n",
       "      <td>fiat</td>\n",
       "      <td>no</td>\n",
       "      <td>2016-03-22 00:00:00</td>\n",
       "      <td>0</td>\n",
       "      <td>44867</td>\n",
       "      <td>2016-04-06 06:17:56</td>\n",
       "    </tr>\n",
       "    <tr>\n",
       "      <th>231</th>\n",
       "      <td>2016-03-16 22:06:24</td>\n",
       "      <td>0</td>\n",
       "      <td>wagon</td>\n",
       "      <td>2001</td>\n",
       "      <td>manual</td>\n",
       "      <td>115</td>\n",
       "      <td>mondeo</td>\n",
       "      <td>150000</td>\n",
       "      <td>0</td>\n",
       "      <td>other</td>\n",
       "      <td>ford</td>\n",
       "      <td>yes</td>\n",
       "      <td>2016-03-16 00:00:00</td>\n",
       "      <td>0</td>\n",
       "      <td>57627</td>\n",
       "      <td>2016-03-26 11:17:50</td>\n",
       "    </tr>\n",
       "    <tr>\n",
       "      <th>334</th>\n",
       "      <td>2016-03-06 10:06:20</td>\n",
       "      <td>0</td>\n",
       "      <td>other</td>\n",
       "      <td>2005</td>\n",
       "      <td>other</td>\n",
       "      <td>0</td>\n",
       "      <td>polo</td>\n",
       "      <td>150000</td>\n",
       "      <td>0</td>\n",
       "      <td>petrol</td>\n",
       "      <td>volkswagen</td>\n",
       "      <td>yes</td>\n",
       "      <td>2016-03-06 00:00:00</td>\n",
       "      <td>0</td>\n",
       "      <td>35392</td>\n",
       "      <td>2016-03-07 19:12:00</td>\n",
       "    </tr>\n",
       "    <tr>\n",
       "      <th>415</th>\n",
       "      <td>2016-03-11 10:52:49</td>\n",
       "      <td>0</td>\n",
       "      <td>other</td>\n",
       "      <td>1985</td>\n",
       "      <td>other</td>\n",
       "      <td>0</td>\n",
       "      <td>3er</td>\n",
       "      <td>150000</td>\n",
       "      <td>0</td>\n",
       "      <td>other</td>\n",
       "      <td>bmw</td>\n",
       "      <td>yes</td>\n",
       "      <td>2016-03-11 00:00:00</td>\n",
       "      <td>0</td>\n",
       "      <td>85051</td>\n",
       "      <td>2016-03-11 11:41:09</td>\n",
       "    </tr>\n",
       "    <tr>\n",
       "      <th>466</th>\n",
       "      <td>2016-03-24 10:58:40</td>\n",
       "      <td>0</td>\n",
       "      <td>other</td>\n",
       "      <td>2016</td>\n",
       "      <td>auto</td>\n",
       "      <td>197</td>\n",
       "      <td>3er</td>\n",
       "      <td>150000</td>\n",
       "      <td>12</td>\n",
       "      <td>petrol</td>\n",
       "      <td>bmw</td>\n",
       "      <td>no</td>\n",
       "      <td>2016-03-24 00:00:00</td>\n",
       "      <td>0</td>\n",
       "      <td>99867</td>\n",
       "      <td>2016-03-25 19:46:09</td>\n",
       "    </tr>\n",
       "  </tbody>\n",
       "</table>\n",
       "</div>"
      ],
      "text/plain": [
       "            date_crawled  price vehicle_type  registration_year gearbox   \n",
       "7    2016-03-21 18:54:38      0        sedan               1980  manual  \\\n",
       "40   2016-03-26 22:06:17      0        other               1990   other   \n",
       "111  2016-03-19 18:40:12      0        other               2017  manual   \n",
       "115  2016-03-20 18:53:27      0        small               1999   other   \n",
       "152  2016-03-11 18:55:53      0          bus               2004  manual   \n",
       "154  2016-03-22 16:37:59      0        other               2006   other   \n",
       "231  2016-03-16 22:06:24      0        wagon               2001  manual   \n",
       "334  2016-03-06 10:06:20      0        other               2005   other   \n",
       "415  2016-03-11 10:52:49      0        other               1985   other   \n",
       "466  2016-03-24 10:58:40      0        other               2016    auto   \n",
       "\n",
       "     power   model  kilometer  registration_month fuel_type       brand   \n",
       "7       50   other      40000                   7    petrol  volkswagen  \\\n",
       "40       0   corsa     150000                   1    petrol        opel   \n",
       "111      0    golf       5000                  12    petrol  volkswagen   \n",
       "115      0   other       5000                   0    petrol  volkswagen   \n",
       "152    101  meriva     150000                  10       lpg        opel   \n",
       "154      0   other       5000                   0     other        fiat   \n",
       "231    115  mondeo     150000                   0     other        ford   \n",
       "334      0    polo     150000                   0    petrol  volkswagen   \n",
       "415      0     3er     150000                   0     other         bmw   \n",
       "466    197     3er     150000                  12    petrol         bmw   \n",
       "\n",
       "    repaired         date_created  number_of_pictures  postal_code   \n",
       "7         no  2016-03-21 00:00:00                   0        19348  \\\n",
       "40       yes  2016-03-26 00:00:00                   0        56412   \n",
       "111       no  2016-03-19 00:00:00                   0        21698   \n",
       "115       no  2016-03-20 00:00:00                   0        37520   \n",
       "152      yes  2016-03-11 00:00:00                   0        27432   \n",
       "154       no  2016-03-22 00:00:00                   0        44867   \n",
       "231      yes  2016-03-16 00:00:00                   0        57627   \n",
       "334      yes  2016-03-06 00:00:00                   0        35392   \n",
       "415      yes  2016-03-11 00:00:00                   0        85051   \n",
       "466       no  2016-03-24 00:00:00                   0        99867   \n",
       "\n",
       "               last_seen  \n",
       "7    2016-03-25 16:47:58  \n",
       "40   2016-03-27 17:43:34  \n",
       "111  2016-04-01 08:47:05  \n",
       "115  2016-04-07 02:45:22  \n",
       "152  2016-03-12 23:47:10  \n",
       "154  2016-04-06 06:17:56  \n",
       "231  2016-03-26 11:17:50  \n",
       "334  2016-03-07 19:12:00  \n",
       "415  2016-03-11 11:41:09  \n",
       "466  2016-03-25 19:46:09  "
      ]
     },
     "execution_count": 34,
     "metadata": {},
     "output_type": "execute_result"
    }
   ],
   "source": [
    "df.loc[df['price'] == 0].head(10)"
   ]
  },
  {
   "cell_type": "code",
   "execution_count": 35,
   "metadata": {},
   "outputs": [
    {
     "data": {
      "text/plain": [
       "0.030398035923412302"
      ]
     },
     "execution_count": 35,
     "metadata": {},
     "output_type": "execute_result"
    }
   ],
   "source": [
    "zero_price = df.loc[df['price'] == 0, 'price'].count()/df['price'].count()\n",
    "zero_price\n",
    "#df['Price'].count()"
   ]
  },
  {
   "cell_type": "markdown",
   "metadata": {},
   "source": [
    "Доля нулевых цен составляет 3%. При этом автомобили с нулевой ценой различаются по типу кузова , году выпуска, типу коробки передач, Пробегу и тд. Поэтому заменить 0 цену медианой, среденей или случайной будет не корректно. \n",
    "\n",
    "Учитывая, что доля данных машин незначительна, избавимся от них. В качестве нижнего порога возьмем стоимость машины 400 Евро."
   ]
  },
  {
   "cell_type": "code",
   "execution_count": 36,
   "metadata": {},
   "outputs": [
    {
     "name": "stdout",
     "output_type": "stream",
     "text": [
      "<class 'pandas.core.frame.DataFrame'>\n",
      "Index: 324346 entries, 0 to 354364\n",
      "Data columns (total 16 columns):\n",
      " #   Column              Non-Null Count   Dtype \n",
      "---  ------              --------------   ----- \n",
      " 0   date_crawled        324346 non-null  object\n",
      " 1   price               324346 non-null  int64 \n",
      " 2   vehicle_type        324346 non-null  object\n",
      " 3   registration_year   324346 non-null  int64 \n",
      " 4   gearbox             324346 non-null  object\n",
      " 5   power               324346 non-null  int64 \n",
      " 6   model               324346 non-null  object\n",
      " 7   kilometer           324346 non-null  int64 \n",
      " 8   registration_month  324346 non-null  int64 \n",
      " 9   fuel_type           324346 non-null  object\n",
      " 10  brand               324346 non-null  object\n",
      " 11  repaired            324346 non-null  object\n",
      " 12  date_created        324346 non-null  object\n",
      " 13  number_of_pictures  324346 non-null  int64 \n",
      " 14  postal_code         324346 non-null  int64 \n",
      " 15  last_seen           324346 non-null  object\n",
      "dtypes: int64(7), object(9)\n",
      "memory usage: 42.1+ MB\n"
     ]
    }
   ],
   "source": [
    "df = df.loc[df['price'] >=400]\n",
    "df.info()"
   ]
  },
  {
   "cell_type": "markdown",
   "metadata": {},
   "source": [
    "**Год регистрации автомобиля - RegistrationYear**"
   ]
  },
  {
   "cell_type": "code",
   "execution_count": 37,
   "metadata": {},
   "outputs": [
    {
     "data": {
      "text/plain": [
       "<Axes: >"
      ]
     },
     "execution_count": 37,
     "metadata": {},
     "output_type": "execute_result"
    },
    {
     "data": {
      "image/png": "[encoded data removed]",
      "text/plain": [
       "<Figure size 1500x900 with 1 Axes>"
      ]
     },
     "metadata": {},
     "output_type": "display_data"
    }
   ],
   "source": [
    "#plt.figure(figsize=(2, 8))\n",
    "#plt.ylim(1900,2022)\n",
    "df.boxplot('registration_year')"
   ]
  },
  {
   "cell_type": "markdown",
   "metadata": {},
   "source": [
    "Количество выбросов очень большое. Рассмотрим диаграмму размаха с периода 1900 по 2022 год и далее при необходимости будем сужать данный диапазон."
   ]
  },
  {
   "cell_type": "code",
   "execution_count": 38,
   "metadata": {},
   "outputs": [
    {
     "data": {
      "text/plain": [
       "<Axes: >"
      ]
     },
     "execution_count": 38,
     "metadata": {},
     "output_type": "execute_result"
    },
    {
     "data": {
      "image/png": "[encoded data removed]",
      "text/plain": [
       "<Figure size 200x800 with 1 Axes>"
      ]
     },
     "metadata": {},
     "output_type": "display_data"
    }
   ],
   "source": [
    "plt.figure(figsize=(2, 8))\n",
    "plt.ylim(1900,2022)\n",
    "df.boxplot('registration_year')"
   ]
  },
  {
   "cell_type": "code",
   "execution_count": 39,
   "metadata": {},
   "outputs": [
    {
     "data": {
      "text/plain": [
       "<Axes: >"
      ]
     },
     "execution_count": 39,
     "metadata": {},
     "output_type": "execute_result"
    },
    {
     "data": {
      "image/png": "[encoded data removed]",
      "text/plain": [
       "<Figure size 200x800 with 1 Axes>"
      ]
     },
     "metadata": {},
     "output_type": "display_data"
    }
   ],
   "source": [
    "plt.figure(figsize=(2, 8))\n",
    "plt.ylim(1985\n",
    "         ,2022)\n",
    "df.boxplot('registration_year')"
   ]
  },
  {
   "cell_type": "code",
   "execution_count": 40,
   "metadata": {},
   "outputs": [
    {
     "data": {
      "text/plain": [
       "<Axes: >"
      ]
     },
     "execution_count": 40,
     "metadata": {},
     "output_type": "execute_result"
    },
    {
     "data": {
      "image/png": "[encoded data removed]",
      "text/plain": [
       "<Figure size 1500x800 with 1 Axes>"
      ]
     },
     "metadata": {},
     "output_type": "display_data"
    }
   ],
   "source": [
    "plt.figure(figsize=(15, 8))\n",
    "df['registration_year'].hist(bins=30, range =(1985,2022))"
   ]
  },
  {
   "cell_type": "markdown",
   "metadata": {},
   "source": [
    "Как видно графиков, основной объем машин распределенс с 1985 по 2020 год. Остальных машин незначительное количество, поэтому от них можно избавиться.\n",
    "\n",
    "Для выбора верхнего предела по годам автомобилей будем ориентироваться на признак даты создания анкеты DateCreated."
   ]
  },
  {
   "cell_type": "code",
   "execution_count": 41,
   "metadata": {},
   "outputs": [
    {
     "data": {
      "text/plain": [
       "2016"
      ]
     },
     "execution_count": 41,
     "metadata": {},
     "output_type": "execute_result"
    }
   ],
   "source": [
    "df_year= pd.DatetimeIndex(df['date_created']).year\n",
    "df_year.max()"
   ]
  },
  {
   "cell_type": "markdown",
   "metadata": {},
   "source": [
    "Самая свежая анкета датируется 2016 годом, поэтому в качестве ограничителя сверху будем использовать данное значение."
   ]
  },
  {
   "cell_type": "code",
   "execution_count": 42,
   "metadata": {},
   "outputs": [
    {
     "name": "stdout",
     "output_type": "stream",
     "text": [
      "<class 'pandas.core.frame.DataFrame'>\n",
      "Index: 306326 entries, 0 to 354364\n",
      "Data columns (total 16 columns):\n",
      " #   Column              Non-Null Count   Dtype \n",
      "---  ------              --------------   ----- \n",
      " 0   date_crawled        306326 non-null  object\n",
      " 1   price               306326 non-null  int64 \n",
      " 2   vehicle_type        306326 non-null  object\n",
      " 3   registration_year   306326 non-null  int64 \n",
      " 4   gearbox             306326 non-null  object\n",
      " 5   power               306326 non-null  int64 \n",
      " 6   model               306326 non-null  object\n",
      " 7   kilometer           306326 non-null  int64 \n",
      " 8   registration_month  306326 non-null  int64 \n",
      " 9   fuel_type           306326 non-null  object\n",
      " 10  brand               306326 non-null  object\n",
      " 11  repaired            306326 non-null  object\n",
      " 12  date_created        306326 non-null  object\n",
      " 13  number_of_pictures  306326 non-null  int64 \n",
      " 14  postal_code         306326 non-null  int64 \n",
      " 15  last_seen           306326 non-null  object\n",
      "dtypes: int64(7), object(9)\n",
      "memory usage: 39.7+ MB\n"
     ]
    }
   ],
   "source": [
    "df = df[(df['registration_year'] >= 1985) & (df['registration_year'] <= 2016)]\n",
    "df.info()"
   ]
  },
  {
   "cell_type": "markdown",
   "metadata": {},
   "source": [
    "**Мощность - Power**"
   ]
  },
  {
   "cell_type": "code",
   "execution_count": 43,
   "metadata": {},
   "outputs": [
    {
     "data": {
      "text/plain": [
       "<Axes: >"
      ]
     },
     "execution_count": 43,
     "metadata": {},
     "output_type": "execute_result"
    },
    {
     "data": {
      "image/png": "[encoded data removed]",
      "text/plain": [
       "<Figure size 200x800 with 1 Axes>"
      ]
     },
     "metadata": {},
     "output_type": "display_data"
    }
   ],
   "source": [
    "plt.figure(figsize=(2, 8))\n",
    "plt.ylim(0,500)\n",
    "df.boxplot('power')"
   ]
  },
  {
   "cell_type": "code",
   "execution_count": 44,
   "metadata": {},
   "outputs": [
    {
     "data": {
      "text/plain": [
       "<Axes: >"
      ]
     },
     "execution_count": 44,
     "metadata": {},
     "output_type": "execute_result"
    },
    {
     "data": {
      "image/png": "[encoded data removed]",
      "text/plain": [
       "<Figure size 1500x800 with 1 Axes>"
      ]
     },
     "metadata": {},
     "output_type": "display_data"
    }
   ],
   "source": [
    "plt.figure(figsize=(15, 8))\n",
    "df['power'].hist(bins=30, range =(0,500))"
   ]
  },
  {
   "cell_type": "markdown",
   "metadata": {},
   "source": [
    "Из графика видно, что имеется аномальное значение 0 л.с. Проверим долю, данных машин."
   ]
  },
  {
   "cell_type": "code",
   "execution_count": 45,
   "metadata": {},
   "outputs": [
    {
     "data": {
      "text/plain": [
       "0.08414564875328898"
      ]
     },
     "execution_count": 45,
     "metadata": {},
     "output_type": "execute_result"
    }
   ],
   "source": [
    "zero_power = df.loc[df['power'] == 0, 'power'].count()/df['power'].count()\n",
    "zero_power"
   ]
  },
  {
   "cell_type": "markdown",
   "metadata": {},
   "source": [
    "Дополнительно проверим долю автомобилей с мощностью более 500."
   ]
  },
  {
   "cell_type": "markdown",
   "metadata": {},
   "source": [
    "more_power = df.loc[df['Power'] > 500, 'Power'].count()/df['Power'].count()\n",
    "more_powerКоличество автомоблиелей с 0 мощностью составляет порядка 10%, что значительно. \n",
    "\n",
    "Также имеется автомобиль с мощностью 20 000 л.с., что по сути является аномальным значением. При этом стоит отметить, что доля автомобилей с мощностью более 500 л.с. является незначительной\n",
    "\n",
    "Учитывая, что все автомобили отличаются между собой по маркам, моделям, году выпуска, и т.д., заменим 0 л.с. на случайные значения мощности из диапазона 69 - 143 л.с. А в качестве диапазона мощности возьмем с 69 - 500 л.с."
   ]
  },
  {
   "cell_type": "code",
   "execution_count": 46,
   "metadata": {},
   "outputs": [
    {
     "data": {
      "text/plain": [
       "count    264709.000000\n",
       "mean        132.785493\n",
       "std          50.029207\n",
       "min          69.000000\n",
       "25%         101.000000\n",
       "50%         122.000000\n",
       "75%         155.000000\n",
       "max         500.000000\n",
       "Name: power, dtype: float64"
      ]
     },
     "execution_count": 46,
     "metadata": {},
     "output_type": "execute_result"
    }
   ],
   "source": [
    "rand_power = rn.randint(69, 143)\n",
    "df['power']= df['power'].replace(to_replace=0, method='ffill')\n",
    "\n",
    "df = df[(df['power'] >= 69)& (df['power'] <= 500)]\n",
    "\n",
    "df['power'].describe()"
   ]
  },
  {
   "cell_type": "markdown",
   "metadata": {},
   "source": [
    "**Признак - RegistrationMonth**"
   ]
  },
  {
   "cell_type": "code",
   "execution_count": 47,
   "metadata": {},
   "outputs": [
    {
     "data": {
      "text/plain": [
       "registration_month\n",
       "3     26386\n",
       "6     24434\n",
       "4     22715\n",
       "5     22568\n",
       "7     21078\n",
       "10    20466\n",
       "11    19205\n",
       "0     19031\n",
       "12    18845\n",
       "9     18646\n",
       "8     17673\n",
       "1     17518\n",
       "2     16144\n",
       "Name: count, dtype: int64"
      ]
     },
     "execution_count": 47,
     "metadata": {},
     "output_type": "execute_result"
    }
   ],
   "source": [
    "df['registration_month'].value_counts(ascending=False)"
   ]
  },
  {
   "cell_type": "code",
   "execution_count": 48,
   "metadata": {},
   "outputs": [
    {
     "data": {
      "text/plain": [
       "<Axes: >"
      ]
     },
     "execution_count": 48,
     "metadata": {},
     "output_type": "execute_result"
    },
    {
     "data": {
      "image/png": "[encoded data removed]",
      "text/plain": [
       "<Figure size 1500x800 with 1 Axes>"
      ]
     },
     "metadata": {},
     "output_type": "display_data"
    }
   ],
   "source": [
    "plt.figure(figsize=(15, 8))\n",
    "df['registration_month'].hist(bins=12, range =(0,12))"
   ]
  },
  {
   "cell_type": "markdown",
   "metadata": {},
   "source": [
    "Распределение по месяцам имеет отностительно равномерное распределение, за исключением декабря месяца.\n",
    "\n",
    "Также видно, что имеется аномальный месяц 0. Можно предположить, что это ошибка в заполнении анкеты и прокуск самим хозяином анкеты.\n",
    "\n",
    "Учитывая данное распределение, заменим 0 случайными числами от 1 до 12."
   ]
  },
  {
   "cell_type": "code",
   "execution_count": 49,
   "metadata": {},
   "outputs": [
    {
     "data": {
      "text/plain": [
       "registration_month\n",
       "3     28431\n",
       "6     26290\n",
       "4     24470\n",
       "5     24256\n",
       "7     22678\n",
       "10    22058\n",
       "11    20773\n",
       "12    20279\n",
       "9     20126\n",
       "8     19059\n",
       "1     18906\n",
       "2     17383\n",
       "Name: count, dtype: int64"
      ]
     },
     "execution_count": 49,
     "metadata": {},
     "output_type": "execute_result"
    }
   ],
   "source": [
    "df['registration_month']= df['registration_month'].replace(to_replace=0, method='ffill')\n",
    "\n",
    "rand_month = rn.randint(1, 12)\n",
    "#df.loc[df['RegistrationMonth'] == 0, 'RegistrationMonth'] = rand_month\n",
    "df['registration_month'].value_counts(ascending=False)"
   ]
  },
  {
   "cell_type": "markdown",
   "metadata": {},
   "source": [
    "Дополнительно отметим, что фотографий в признаке NumberOfPictures нет. Учитывая, что фотографий нет, данный признак нам не пригодится в дальнейшем исседовании."
   ]
  },
  {
   "cell_type": "markdown",
   "metadata": {},
   "source": [
    "Выведем итоговую инфомрацию по предобработанному датасету."
   ]
  },
  {
   "cell_type": "code",
   "execution_count": 50,
   "metadata": {},
   "outputs": [
    {
     "data": {
      "text/html": [
       "<div>\n",
       "<style scoped>\n",
       "    .dataframe tbody tr th:only-of-type {\n",
       "        vertical-align: middle;\n",
       "    }\n",
       "\n",
       "    .dataframe tbody tr th {\n",
       "        vertical-align: top;\n",
       "    }\n",
       "\n",
       "    .dataframe thead th {\n",
       "        text-align: right;\n",
       "    }\n",
       "</style>\n",
       "<table border=\"1\" class=\"dataframe\">\n",
       "  <thead>\n",
       "    <tr style=\"text-align: right;\">\n",
       "      <th></th>\n",
       "      <th>date_crawled</th>\n",
       "      <th>price</th>\n",
       "      <th>vehicle_type</th>\n",
       "      <th>registration_year</th>\n",
       "      <th>gearbox</th>\n",
       "      <th>power</th>\n",
       "      <th>model</th>\n",
       "      <th>kilometer</th>\n",
       "      <th>registration_month</th>\n",
       "      <th>fuel_type</th>\n",
       "      <th>brand</th>\n",
       "      <th>repaired</th>\n",
       "      <th>date_created</th>\n",
       "      <th>number_of_pictures</th>\n",
       "      <th>postal_code</th>\n",
       "      <th>last_seen</th>\n",
       "    </tr>\n",
       "  </thead>\n",
       "  <tbody>\n",
       "    <tr>\n",
       "      <th>1</th>\n",
       "      <td>2016-03-24 10:58:45</td>\n",
       "      <td>18300</td>\n",
       "      <td>coupe</td>\n",
       "      <td>2011</td>\n",
       "      <td>manual</td>\n",
       "      <td>190</td>\n",
       "      <td>other</td>\n",
       "      <td>125000</td>\n",
       "      <td>5</td>\n",
       "      <td>petrol</td>\n",
       "      <td>audi</td>\n",
       "      <td>yes</td>\n",
       "      <td>2016-03-24 00:00:00</td>\n",
       "      <td>0</td>\n",
       "      <td>66954</td>\n",
       "      <td>2016-04-07 01:46:50</td>\n",
       "    </tr>\n",
       "    <tr>\n",
       "      <th>2</th>\n",
       "      <td>2016-03-14 12:52:21</td>\n",
       "      <td>9800</td>\n",
       "      <td>suv</td>\n",
       "      <td>2004</td>\n",
       "      <td>auto</td>\n",
       "      <td>163</td>\n",
       "      <td>grand</td>\n",
       "      <td>125000</td>\n",
       "      <td>8</td>\n",
       "      <td>petrol</td>\n",
       "      <td>jeep</td>\n",
       "      <td>yes</td>\n",
       "      <td>2016-03-14 00:00:00</td>\n",
       "      <td>0</td>\n",
       "      <td>90480</td>\n",
       "      <td>2016-04-05 12:47:46</td>\n",
       "    </tr>\n",
       "    <tr>\n",
       "      <th>3</th>\n",
       "      <td>2016-03-17 16:54:04</td>\n",
       "      <td>1500</td>\n",
       "      <td>small</td>\n",
       "      <td>2001</td>\n",
       "      <td>manual</td>\n",
       "      <td>75</td>\n",
       "      <td>golf</td>\n",
       "      <td>150000</td>\n",
       "      <td>6</td>\n",
       "      <td>petrol</td>\n",
       "      <td>volkswagen</td>\n",
       "      <td>no</td>\n",
       "      <td>2016-03-17 00:00:00</td>\n",
       "      <td>0</td>\n",
       "      <td>91074</td>\n",
       "      <td>2016-03-17 17:40:17</td>\n",
       "    </tr>\n",
       "    <tr>\n",
       "      <th>4</th>\n",
       "      <td>2016-03-31 17:25:20</td>\n",
       "      <td>3600</td>\n",
       "      <td>small</td>\n",
       "      <td>2008</td>\n",
       "      <td>manual</td>\n",
       "      <td>69</td>\n",
       "      <td>fabia</td>\n",
       "      <td>90000</td>\n",
       "      <td>7</td>\n",
       "      <td>petrol</td>\n",
       "      <td>skoda</td>\n",
       "      <td>no</td>\n",
       "      <td>2016-03-31 00:00:00</td>\n",
       "      <td>0</td>\n",
       "      <td>60437</td>\n",
       "      <td>2016-04-06 10:17:21</td>\n",
       "    </tr>\n",
       "    <tr>\n",
       "      <th>5</th>\n",
       "      <td>2016-04-04 17:36:23</td>\n",
       "      <td>650</td>\n",
       "      <td>sedan</td>\n",
       "      <td>1995</td>\n",
       "      <td>manual</td>\n",
       "      <td>102</td>\n",
       "      <td>3er</td>\n",
       "      <td>150000</td>\n",
       "      <td>10</td>\n",
       "      <td>petrol</td>\n",
       "      <td>bmw</td>\n",
       "      <td>yes</td>\n",
       "      <td>2016-04-04 00:00:00</td>\n",
       "      <td>0</td>\n",
       "      <td>33775</td>\n",
       "      <td>2016-04-06 19:17:07</td>\n",
       "    </tr>\n",
       "  </tbody>\n",
       "</table>\n",
       "</div>"
      ],
      "text/plain": [
       "          date_crawled  price vehicle_type  registration_year gearbox  power   \n",
       "1  2016-03-24 10:58:45  18300        coupe               2011  manual    190  \\\n",
       "2  2016-03-14 12:52:21   9800          suv               2004    auto    163   \n",
       "3  2016-03-17 16:54:04   1500        small               2001  manual     75   \n",
       "4  2016-03-31 17:25:20   3600        small               2008  manual     69   \n",
       "5  2016-04-04 17:36:23    650        sedan               1995  manual    102   \n",
       "\n",
       "   model  kilometer  registration_month fuel_type       brand repaired   \n",
       "1  other     125000                   5    petrol        audi      yes  \\\n",
       "2  grand     125000                   8    petrol        jeep      yes   \n",
       "3   golf     150000                   6    petrol  volkswagen       no   \n",
       "4  fabia      90000                   7    petrol       skoda       no   \n",
       "5    3er     150000                  10    petrol         bmw      yes   \n",
       "\n",
       "          date_created  number_of_pictures  postal_code            last_seen  \n",
       "1  2016-03-24 00:00:00                   0        66954  2016-04-07 01:46:50  \n",
       "2  2016-03-14 00:00:00                   0        90480  2016-04-05 12:47:46  \n",
       "3  2016-03-17 00:00:00                   0        91074  2016-03-17 17:40:17  \n",
       "4  2016-03-31 00:00:00                   0        60437  2016-04-06 10:17:21  \n",
       "5  2016-04-04 00:00:00                   0        33775  2016-04-06 19:17:07  "
      ]
     },
     "execution_count": 50,
     "metadata": {},
     "output_type": "execute_result"
    }
   ],
   "source": [
    "df.head()"
   ]
  },
  {
   "cell_type": "code",
   "execution_count": 51,
   "metadata": {
    "scrolled": true
   },
   "outputs": [
    {
     "name": "stdout",
     "output_type": "stream",
     "text": [
      "<class 'pandas.core.frame.DataFrame'>\n",
      "Index: 264709 entries, 1 to 354364\n",
      "Data columns (total 16 columns):\n",
      " #   Column              Non-Null Count   Dtype \n",
      "---  ------              --------------   ----- \n",
      " 0   date_crawled        264709 non-null  object\n",
      " 1   price               264709 non-null  int64 \n",
      " 2   vehicle_type        264709 non-null  object\n",
      " 3   registration_year   264709 non-null  int64 \n",
      " 4   gearbox             264709 non-null  object\n",
      " 5   power               264709 non-null  int64 \n",
      " 6   model               264709 non-null  object\n",
      " 7   kilometer           264709 non-null  int64 \n",
      " 8   registration_month  264709 non-null  int64 \n",
      " 9   fuel_type           264709 non-null  object\n",
      " 10  brand               264709 non-null  object\n",
      " 11  repaired            264709 non-null  object\n",
      " 12  date_created        264709 non-null  object\n",
      " 13  number_of_pictures  264709 non-null  int64 \n",
      " 14  postal_code         264709 non-null  int64 \n",
      " 15  last_seen           264709 non-null  object\n",
      "dtypes: int64(7), object(9)\n",
      "memory usage: 34.3+ MB\n"
     ]
    }
   ],
   "source": [
    "df.info()"
   ]
  },
  {
   "cell_type": "code",
   "execution_count": 52,
   "metadata": {
    "scrolled": true
   },
   "outputs": [
    {
     "data": {
      "text/html": [
       "<div>\n",
       "<style scoped>\n",
       "    .dataframe tbody tr th:only-of-type {\n",
       "        vertical-align: middle;\n",
       "    }\n",
       "\n",
       "    .dataframe tbody tr th {\n",
       "        vertical-align: top;\n",
       "    }\n",
       "\n",
       "    .dataframe thead th {\n",
       "        text-align: right;\n",
       "    }\n",
       "</style>\n",
       "<table border=\"1\" class=\"dataframe\">\n",
       "  <thead>\n",
       "    <tr style=\"text-align: right;\">\n",
       "      <th></th>\n",
       "      <th>price</th>\n",
       "      <th>registration_year</th>\n",
       "      <th>power</th>\n",
       "      <th>kilometer</th>\n",
       "      <th>registration_month</th>\n",
       "      <th>number_of_pictures</th>\n",
       "      <th>postal_code</th>\n",
       "    </tr>\n",
       "  </thead>\n",
       "  <tbody>\n",
       "    <tr>\n",
       "      <th>count</th>\n",
       "      <td>264709.000000</td>\n",
       "      <td>264709.000000</td>\n",
       "      <td>264709.000000</td>\n",
       "      <td>264709.000000</td>\n",
       "      <td>264709.000000</td>\n",
       "      <td>264709.0</td>\n",
       "      <td>264709.000000</td>\n",
       "    </tr>\n",
       "    <tr>\n",
       "      <th>mean</th>\n",
       "      <td>5288.203435</td>\n",
       "      <td>2003.515339</td>\n",
       "      <td>132.785493</td>\n",
       "      <td>129217.480327</td>\n",
       "      <td>6.424595</td>\n",
       "      <td>0.0</td>\n",
       "      <td>51375.343385</td>\n",
       "    </tr>\n",
       "    <tr>\n",
       "      <th>std</th>\n",
       "      <td>4654.896607</td>\n",
       "      <td>5.703321</td>\n",
       "      <td>50.029207</td>\n",
       "      <td>36485.358337</td>\n",
       "      <td>3.345899</td>\n",
       "      <td>0.0</td>\n",
       "      <td>25819.369281</td>\n",
       "    </tr>\n",
       "    <tr>\n",
       "      <th>min</th>\n",
       "      <td>400.000000</td>\n",
       "      <td>1985.000000</td>\n",
       "      <td>69.000000</td>\n",
       "      <td>5000.000000</td>\n",
       "      <td>1.000000</td>\n",
       "      <td>0.0</td>\n",
       "      <td>1067.000000</td>\n",
       "    </tr>\n",
       "    <tr>\n",
       "      <th>25%</th>\n",
       "      <td>1650.000000</td>\n",
       "      <td>2000.000000</td>\n",
       "      <td>101.000000</td>\n",
       "      <td>125000.000000</td>\n",
       "      <td>4.000000</td>\n",
       "      <td>0.0</td>\n",
       "      <td>30952.000000</td>\n",
       "    </tr>\n",
       "    <tr>\n",
       "      <th>50%</th>\n",
       "      <td>3699.000000</td>\n",
       "      <td>2004.000000</td>\n",
       "      <td>122.000000</td>\n",
       "      <td>150000.000000</td>\n",
       "      <td>6.000000</td>\n",
       "      <td>0.0</td>\n",
       "      <td>50374.000000</td>\n",
       "    </tr>\n",
       "    <tr>\n",
       "      <th>75%</th>\n",
       "      <td>7600.000000</td>\n",
       "      <td>2007.000000</td>\n",
       "      <td>155.000000</td>\n",
       "      <td>150000.000000</td>\n",
       "      <td>9.000000</td>\n",
       "      <td>0.0</td>\n",
       "      <td>72229.000000</td>\n",
       "    </tr>\n",
       "    <tr>\n",
       "      <th>max</th>\n",
       "      <td>20000.000000</td>\n",
       "      <td>2016.000000</td>\n",
       "      <td>500.000000</td>\n",
       "      <td>150000.000000</td>\n",
       "      <td>12.000000</td>\n",
       "      <td>0.0</td>\n",
       "      <td>99998.000000</td>\n",
       "    </tr>\n",
       "  </tbody>\n",
       "</table>\n",
       "</div>"
      ],
      "text/plain": [
       "               price  registration_year          power      kilometer   \n",
       "count  264709.000000      264709.000000  264709.000000  264709.000000  \\\n",
       "mean     5288.203435        2003.515339     132.785493  129217.480327   \n",
       "std      4654.896607           5.703321      50.029207   36485.358337   \n",
       "min       400.000000        1985.000000      69.000000    5000.000000   \n",
       "25%      1650.000000        2000.000000     101.000000  125000.000000   \n",
       "50%      3699.000000        2004.000000     122.000000  150000.000000   \n",
       "75%      7600.000000        2007.000000     155.000000  150000.000000   \n",
       "max     20000.000000        2016.000000     500.000000  150000.000000   \n",
       "\n",
       "       registration_month  number_of_pictures    postal_code  \n",
       "count       264709.000000            264709.0  264709.000000  \n",
       "mean             6.424595                 0.0   51375.343385  \n",
       "std              3.345899                 0.0   25819.369281  \n",
       "min              1.000000                 0.0    1067.000000  \n",
       "25%              4.000000                 0.0   30952.000000  \n",
       "50%              6.000000                 0.0   50374.000000  \n",
       "75%              9.000000                 0.0   72229.000000  \n",
       "max             12.000000                 0.0   99998.000000  "
      ]
     },
     "execution_count": 52,
     "metadata": {},
     "output_type": "execute_result"
    }
   ],
   "source": [
    "df.describe()"
   ]
  },
  {
   "cell_type": "markdown",
   "metadata": {},
   "source": [
    "### Вывод по предобработке данных.\n",
    "\n",
    "Проведена предобработка исходного датасета. Произведена очистка от всех аномальных значений, заполнены пропуски в категориальных и колличественных признаках."
   ]
  },
  {
   "cell_type": "markdown",
   "metadata": {},
   "source": [
    "## Обучение моделей"
   ]
  },
  {
   "cell_type": "markdown",
   "metadata": {},
   "source": [
    "Разделим на обучающую и тестовую выборку."
   ]
  },
  {
   "cell_type": "code",
   "execution_count": 53,
   "metadata": {},
   "outputs": [],
   "source": [
    "learn = df[['price', 'vehicle_type', 'registration_year', \n",
    "                     'gearbox', 'power', 'model', 'kilometer', \n",
    "                     'fuel_type', 'brand']]\n",
    "\n",
    "X = learn[['vehicle_type', 'registration_year', \n",
    "                     'gearbox', 'power', 'model', 'kilometer', \n",
    "                     'fuel_type', 'brand']]\n",
    "y = learn['price']\n",
    "\n",
    "RANDOM_STATE = 42"
   ]
  },
  {
   "cell_type": "markdown",
   "metadata": {},
   "source": [
    "Сначала разделим данные на обучающую и тестовую выборки в соотношении 80% на 20%."
   ]
  },
  {
   "cell_type": "code",
   "execution_count": 54,
   "metadata": {},
   "outputs": [],
   "source": [
    "X_train, X_test, y_train, y_test = train_test_split(X, y, test_size=0.2, \n",
    "                                                    random_state=RANDOM_STATE, \n",
    "                                                    shuffle=True)"
   ]
  },
  {
   "cell_type": "markdown",
   "metadata": {},
   "source": [
    "Теперь выделим из учебной выборки 20 процентов на валидацию."
   ]
  },
  {
   "cell_type": "code",
   "execution_count": 55,
   "metadata": {},
   "outputs": [],
   "source": [
    "X_train, X_val, y_train, y_val = train_test_split(X_train, y_train, \n",
    "                                                  test_size=0.2, \n",
    "                                                  random_state=RANDOM_STATE, \n",
    "                                                  shuffle=True)"
   ]
  },
  {
   "cell_type": "markdown",
   "metadata": {},
   "source": [
    "**Catboost**"
   ]
  },
  {
   "cell_type": "code",
   "execution_count": 56,
   "metadata": {},
   "outputs": [],
   "source": [
    "cat_features = ['vehicle_type', 'gearbox', 'model', 'fuel_type', \n",
    "                'brand']"
   ]
  },
  {
   "cell_type": "code",
   "execution_count": 57,
   "metadata": {},
   "outputs": [],
   "source": [
    "train_dataset = cb.Pool(X_train, y_train, cat_features=cat_features) \n",
    "test_dataset = cb.Pool(X_test, y_test, cat_features=cat_features)"
   ]
  },
  {
   "cell_type": "code",
   "execution_count": 58,
   "metadata": {},
   "outputs": [],
   "source": [
    "val_dataset = cb.Pool(X_val, y_val, cat_features=cat_features)"
   ]
  },
  {
   "cell_type": "code",
   "execution_count": 59,
   "metadata": {},
   "outputs": [],
   "source": [
    "cb_model = cb.CatBoostRegressor(\n",
    "    loss_function='RMSE',\n",
    "    random_seed=RANDOM_STATE,\n",
    "    verbose=False\n",
    ")"
   ]
  },
  {
   "cell_type": "code",
   "execution_count": 60,
   "metadata": {},
   "outputs": [],
   "source": [
    "grid = {'learning_rate': [0.03, 0.1],\n",
    "        'depth': [2, 4, 8]}\n"
   ]
  },
  {
   "cell_type": "code",
   "execution_count": 61,
   "metadata": {},
   "outputs": [
    {
     "name": "stdout",
     "output_type": "stream",
     "text": [
      "\n",
      "bestTest = 2051.976177\n",
      "bestIteration = 999\n",
      "\n",
      "0:\tloss: 2051.9761767\tbest: 2051.9761767 (0)\ttotal: 7.21s\tremaining: 36.1s\n",
      "\n",
      "bestTest = 1943.512809\n",
      "bestIteration = 999\n",
      "\n",
      "1:\tloss: 1943.5128094\tbest: 1943.5128094 (1)\ttotal: 13.9s\tremaining: 27.8s\n",
      "\n",
      "bestTest = 1890.927097\n",
      "bestIteration = 999\n",
      "\n",
      "2:\tloss: 1890.9270968\tbest: 1890.9270968 (2)\ttotal: 27.4s\tremaining: 27.4s\n",
      "\n",
      "bestTest = 1820.304035\n",
      "bestIteration = 999\n",
      "\n",
      "3:\tloss: 1820.3040345\tbest: 1820.3040345 (3)\ttotal: 41s\tremaining: 20.5s\n",
      "\n",
      "bestTest = 1777.764462\n",
      "bestIteration = 999\n",
      "\n",
      "4:\tloss: 1777.7644621\tbest: 1777.7644621 (4)\ttotal: 1m 7s\tremaining: 13.4s\n",
      "\n",
      "bestTest = 1729.83166\n",
      "bestIteration = 999\n",
      "\n",
      "5:\tloss: 1729.8316600\tbest: 1729.8316600 (5)\ttotal: 2m 43s\tremaining: 0us\n",
      "Estimating final quality...\n",
      "Training on fold [0/3]\n",
      "\n",
      "bestTest = 1720.2423\n",
      "bestIteration = 993\n",
      "\n",
      "Training on fold [1/3]\n",
      "\n",
      "bestTest = 1703.451299\n",
      "bestIteration = 999\n",
      "\n",
      "Training on fold [2/3]\n",
      "\n",
      "bestTest = 1718.84943\n",
      "bestIteration = 989\n",
      "\n",
      "CPU times: user 25min 57s, sys: 2min 26s, total: 28min 24s\n",
      "Wall time: 4min 24s\n"
     ]
    }
   ],
   "source": [
    "%%time\n",
    "grid_search_result  = cb_model.grid_search(grid, train_dataset)"
   ]
  },
  {
   "cell_type": "markdown",
   "metadata": {},
   "source": [
    "Модель CatBoost на кросс-валидации обеспечила метрику RMSE 1703 за 3 минуты 19 секунд. Посмотрим, какое значение RMSE модель выдаст на валидационных данных."
   ]
  },
  {
   "cell_type": "code",
   "execution_count": 62,
   "metadata": {},
   "outputs": [],
   "source": [
    "cb_predict = cb_model.predict(val_dataset)"
   ]
  },
  {
   "cell_type": "code",
   "execution_count": 63,
   "metadata": {},
   "outputs": [
    {
     "data": {
      "text/plain": [
       "1688.589971122577"
      ]
     },
     "execution_count": 63,
     "metadata": {},
     "output_type": "execute_result"
    }
   ],
   "source": [
    "mean_squared_error(y_val, cb_predict, squared=False)"
   ]
  },
  {
   "cell_type": "markdown",
   "metadata": {},
   "source": [
    "Заказчику важно время обучения и время предсказаний модели. Чтобы замерить это время обучим модель на валидационной выборке, а затем получим предсказания на ней же."
   ]
  },
  {
   "cell_type": "code",
   "execution_count": 64,
   "metadata": {},
   "outputs": [
    {
     "data": {
      "text/plain": [
       "{'depth': 8, 'learning_rate': 0.1}"
      ]
     },
     "execution_count": 64,
     "metadata": {},
     "output_type": "execute_result"
    }
   ],
   "source": [
    "grid_search_result['params']"
   ]
  },
  {
   "cell_type": "code",
   "execution_count": 65,
   "metadata": {},
   "outputs": [],
   "source": [
    "cb_model_val = cb.CatBoostRegressor(\n",
    "    loss_function='RMSE',\n",
    "    random_seed=RANDOM_STATE,\n",
    "    depth=8,\n",
    "    learning_rate=0.1,\n",
    "    verbose=100\n",
    ")"
   ]
  },
  {
   "cell_type": "code",
   "execution_count": 66,
   "metadata": {},
   "outputs": [
    {
     "name": "stdout",
     "output_type": "stream",
     "text": [
      "0:\tlearn: 4348.4499257\ttotal: 11.1ms\tremaining: 11s\n",
      "100:\tlearn: 1821.9433334\ttotal: 922ms\tremaining: 8.21s\n",
      "200:\tlearn: 1716.5348805\ttotal: 1.87s\tremaining: 7.45s\n",
      "300:\tlearn: 1655.5356241\ttotal: 2.85s\tremaining: 6.61s\n",
      "400:\tlearn: 1606.6561547\ttotal: 3.81s\tremaining: 5.68s\n",
      "500:\tlearn: 1568.9351576\ttotal: 4.76s\tremaining: 4.74s\n",
      "600:\tlearn: 1542.5616371\ttotal: 5.73s\tremaining: 3.8s\n",
      "700:\tlearn: 1516.5571982\ttotal: 6.71s\tremaining: 2.86s\n",
      "800:\tlearn: 1494.4107561\ttotal: 7.7s\tremaining: 1.91s\n",
      "900:\tlearn: 1473.0941127\ttotal: 8.65s\tremaining: 950ms\n",
      "999:\tlearn: 1453.7475332\ttotal: 9.6s\tremaining: 0us\n",
      "CPU times: user 54.7 s, sys: 9.19 s, total: 1min 3s\n",
      "Wall time: 9.76 s\n"
     ]
    },
    {
     "data": {
      "text/plain": [
       "<catboost.core.CatBoostRegressor at 0x187dd7370>"
      ]
     },
     "execution_count": 66,
     "metadata": {},
     "output_type": "execute_result"
    }
   ],
   "source": [
    "%%time\n",
    "cb_model_val.fit(val_dataset)"
   ]
  },
  {
   "cell_type": "code",
   "execution_count": 67,
   "metadata": {},
   "outputs": [
    {
     "name": "stdout",
     "output_type": "stream",
     "text": [
      "CPU times: user 301 ms, sys: 4.99 ms, total: 306 ms\n",
      "Wall time: 41.6 ms\n"
     ]
    },
    {
     "data": {
      "text/plain": [
       "array([1150.38558315, 9604.42551012, 8729.53705943, ..., 1665.41321419,\n",
       "       4692.8844713 , 1628.50521191])"
      ]
     },
     "execution_count": 67,
     "metadata": {},
     "output_type": "execute_result"
    }
   ],
   "source": [
    "%%time\n",
    "cb_model_val.predict(val_dataset)"
   ]
  },
  {
   "cell_type": "markdown",
   "metadata": {},
   "source": [
    "Модель на основе CatBoost обучалась 8 секунд, время предсказаний составило 65.6 миллисекунд."
   ]
  },
  {
   "cell_type": "markdown",
   "metadata": {},
   "source": [
    "**LightGBM**"
   ]
  },
  {
   "cell_type": "code",
   "execution_count": 68,
   "metadata": {},
   "outputs": [],
   "source": [
    "X_train_lgbm = X_train.copy()\n",
    "X_test_lgbm = X_test.copy()\n",
    "X_val_lgbm = X_val.copy()"
   ]
  },
  {
   "cell_type": "code",
   "execution_count": 69,
   "metadata": {},
   "outputs": [],
   "source": [
    "for feature in cat_features:\n",
    "    X_train_lgbm[feature] = pd.Series(X_train_lgbm[feature], dtype='category')\n",
    "    X_test_lgbm[feature] = pd.Series(X_test_lgbm[feature], dtype='category')\n",
    "    X_val_lgbm[feature] = pd.Series(X_val_lgbm[feature], dtype='category')"
   ]
  },
  {
   "cell_type": "code",
   "execution_count": 70,
   "metadata": {},
   "outputs": [],
   "source": [
    "def objective(trial):\n",
    "    X_train_l, X_val_l, y_train_l, y_val_l = train_test_split(X_train_lgbm, y_train, test_size = 0.2)\n",
    "    dtrain = lgbm.Dataset(X_train_l, label=y_train_l)\n",
    "\n",
    "    param = {\n",
    "      'metric': 'root_mean_squared_error',\n",
    "      'random_state': RANDOM_STATE,\n",
    "      'learning_rate': trial.suggest_float('learning_rate', 0.03, 0.1),\n",
    "      'max_depth': trial.suggest_int('max_depth', 2, 8),\n",
    "      }\n",
    "\n",
    "    gbm = lgbm.train(param, dtrain)\n",
    "    y_pred_l = gbm.predict(X_val_l)\n",
    "    rmse = mean_squared_error(y_val_l, y_pred_l, squared=False)\n",
    "    return rmse"
   ]
  },
  {
   "cell_type": "code",
   "execution_count": 71,
   "metadata": {},
   "outputs": [
    {
     "name": "stderr",
     "output_type": "stream",
     "text": [
      "\u001b[32m[I 2023-05-13 18:45:57,229]\u001b[0m A new study created in memory with name: no-name-a942845e-63a2-4392-a27e-30f8fea9a95a\u001b[0m\n"
     ]
    },
    {
     "name": "stdout",
     "output_type": "stream",
     "text": [
      "[LightGBM] [Warning] Accuracy may be bad since you didn't explicitly set num_leaves OR 2^max_depth > num_leaves. (num_leaves=31).\n",
      "[LightGBM] [Warning] Accuracy may be bad since you didn't explicitly set num_leaves OR 2^max_depth > num_leaves. (num_leaves=31).\n",
      "[LightGBM] [Warning] Auto-choosing row-wise multi-threading, the overhead of testing was 0.004482 seconds.\n",
      "You can set `force_row_wise=true` to remove the overhead.\n",
      "And if memory is not enough, you can set `force_col_wise=true`.\n",
      "[LightGBM] [Info] Total Bins 553\n",
      "[LightGBM] [Info] Number of data points in the train set: 135530, number of used features: 8\n",
      "[LightGBM] [Info] Start training from score 5282.525050\n"
     ]
    },
    {
     "name": "stderr",
     "output_type": "stream",
     "text": [
      "\u001b[32m[I 2023-05-13 18:45:57,589]\u001b[0m Trial 0 finished with value: 1794.1667758153258 and parameters: {'learning_rate': 0.0679064348693338, 'max_depth': 6}. Best is trial 0 with value: 1794.1667758153258.\u001b[0m\n"
     ]
    },
    {
     "name": "stdout",
     "output_type": "stream",
     "text": [
      "[LightGBM] [Warning] Accuracy may be bad since you didn't explicitly set num_leaves OR 2^max_depth > num_leaves. (num_leaves=31).\n",
      "[LightGBM] [Warning] Accuracy may be bad since you didn't explicitly set num_leaves OR 2^max_depth > num_leaves. (num_leaves=31).\n",
      "[LightGBM] [Warning] Auto-choosing row-wise multi-threading, the overhead of testing was 0.003564 seconds.\n",
      "You can set `force_row_wise=true` to remove the overhead.\n",
      "And if memory is not enough, you can set `force_col_wise=true`.\n",
      "[LightGBM] [Info] Total Bins 552\n",
      "[LightGBM] [Info] Number of data points in the train set: 135530, number of used features: 8\n",
      "[LightGBM] [Info] Start training from score 5287.161706\n"
     ]
    },
    {
     "name": "stderr",
     "output_type": "stream",
     "text": [
      "\u001b[32m[I 2023-05-13 18:45:57,926]\u001b[0m Trial 1 finished with value: 1805.723985200593 and parameters: {'learning_rate': 0.05989300106773948, 'max_depth': 6}. Best is trial 0 with value: 1794.1667758153258.\u001b[0m\n",
      "\u001b[32m[I 2023-05-13 18:45:58,091]\u001b[0m Trial 2 finished with value: 2149.297740991022 and parameters: {'learning_rate': 0.05444451583981038, 'max_depth': 2}. Best is trial 0 with value: 1794.1667758153258.\u001b[0m\n"
     ]
    },
    {
     "name": "stdout",
     "output_type": "stream",
     "text": [
      "[LightGBM] [Warning] Auto-choosing row-wise multi-threading, the overhead of testing was 0.003463 seconds.\n",
      "You can set `force_row_wise=true` to remove the overhead.\n",
      "And if memory is not enough, you can set `force_col_wise=true`.\n",
      "[LightGBM] [Info] Total Bins 555\n",
      "[LightGBM] [Info] Number of data points in the train set: 135530, number of used features: 8\n",
      "[LightGBM] [Info] Start training from score 5297.451361\n",
      "[LightGBM] [Warning] Accuracy may be bad since you didn't explicitly set num_leaves OR 2^max_depth > num_leaves. (num_leaves=31).\n",
      "[LightGBM] [Warning] Accuracy may be bad since you didn't explicitly set num_leaves OR 2^max_depth > num_leaves. (num_leaves=31).\n",
      "[LightGBM] [Warning] Auto-choosing row-wise multi-threading, the overhead of testing was 0.004539 seconds.\n",
      "You can set `force_row_wise=true` to remove the overhead.\n",
      "And if memory is not enough, you can set `force_col_wise=true`.\n",
      "[LightGBM] [Info] Total Bins 555\n",
      "[LightGBM] [Info] Number of data points in the train set: 135530, number of used features: 8\n",
      "[LightGBM] [Info] Start training from score 5288.864325\n"
     ]
    },
    {
     "name": "stderr",
     "output_type": "stream",
     "text": [
      "\u001b[32m[I 2023-05-13 18:45:58,688]\u001b[0m Trial 3 finished with value: 1761.6205475479983 and parameters: {'learning_rate': 0.09599866438362444, 'max_depth': 8}. Best is trial 3 with value: 1761.6205475479983.\u001b[0m\n"
     ]
    },
    {
     "name": "stdout",
     "output_type": "stream",
     "text": [
      "[LightGBM] [Warning] Accuracy may be bad since you didn't explicitly set num_leaves OR 2^max_depth > num_leaves. (num_leaves=31).\n",
      "[LightGBM] [Warning] Accuracy may be bad since you didn't explicitly set num_leaves OR 2^max_depth > num_leaves. (num_leaves=31).\n",
      "[LightGBM] [Warning] Auto-choosing row-wise multi-threading, the overhead of testing was 0.003762 seconds.\n",
      "You can set `force_row_wise=true` to remove the overhead.\n",
      "And if memory is not enough, you can set `force_col_wise=true`.\n",
      "[LightGBM] [Info] Total Bins 554\n",
      "[LightGBM] [Info] Number of data points in the train set: 135530, number of used features: 8\n",
      "[LightGBM] [Info] Start training from score 5284.288497\n"
     ]
    },
    {
     "name": "stderr",
     "output_type": "stream",
     "text": [
      "\u001b[32m[I 2023-05-13 18:45:59,338]\u001b[0m Trial 4 finished with value: 1781.8824536539075 and parameters: {'learning_rate': 0.05056460984820353, 'max_depth': 7}. Best is trial 3 with value: 1761.6205475479983.\u001b[0m\n"
     ]
    },
    {
     "name": "stdout",
     "output_type": "stream",
     "text": [
      "[LightGBM] [Warning] Auto-choosing row-wise multi-threading, the overhead of testing was 0.004414 seconds.\n",
      "You can set `force_row_wise=true` to remove the overhead.\n",
      "And if memory is not enough, you can set `force_col_wise=true`.\n",
      "[LightGBM] [Info] Total Bins 555\n",
      "[LightGBM] [Info] Number of data points in the train set: 135530, number of used features: 8\n",
      "[LightGBM] [Info] Start training from score 5271.762923\n"
     ]
    },
    {
     "name": "stderr",
     "output_type": "stream",
     "text": [
      "\u001b[32m[I 2023-05-13 18:45:59,705]\u001b[0m Trial 5 finished with value: 1957.5722791481692 and parameters: {'learning_rate': 0.06321875435441379, 'max_depth': 3}. Best is trial 3 with value: 1761.6205475479983.\u001b[0m\n",
      "\u001b[32m[I 2023-05-13 18:45:59,914]\u001b[0m Trial 6 finished with value: 2184.1452951777173 and parameters: {'learning_rate': 0.050444356409407295, 'max_depth': 2}. Best is trial 3 with value: 1761.6205475479983.\u001b[0m\n"
     ]
    },
    {
     "name": "stdout",
     "output_type": "stream",
     "text": [
      "[LightGBM] [Warning] Auto-choosing row-wise multi-threading, the overhead of testing was 0.003836 seconds.\n",
      "You can set `force_row_wise=true` to remove the overhead.\n",
      "And if memory is not enough, you can set `force_col_wise=true`.\n",
      "[LightGBM] [Info] Total Bins 556\n",
      "[LightGBM] [Info] Number of data points in the train set: 135530, number of used features: 8\n",
      "[LightGBM] [Info] Start training from score 5288.486114\n",
      "[LightGBM] [Warning] Accuracy may be bad since you didn't explicitly set num_leaves OR 2^max_depth > num_leaves. (num_leaves=31).\n",
      "[LightGBM] [Warning] Accuracy may be bad since you didn't explicitly set num_leaves OR 2^max_depth > num_leaves. (num_leaves=31).\n",
      "[LightGBM] [Warning] Auto-choosing row-wise multi-threading, the overhead of testing was 0.005235 seconds.\n",
      "You can set `force_row_wise=true` to remove the overhead.\n",
      "And if memory is not enough, you can set `force_col_wise=true`.\n",
      "[LightGBM] [Info] Total Bins 555\n",
      "[LightGBM] [Info] Number of data points in the train set: 135530, number of used features: 8\n",
      "[LightGBM] [Info] Start training from score 5281.421759\n"
     ]
    },
    {
     "name": "stderr",
     "output_type": "stream",
     "text": [
      "\u001b[32m[I 2023-05-13 18:46:00,575]\u001b[0m Trial 7 finished with value: 1750.2697586490378 and parameters: {'learning_rate': 0.07050422738682335, 'max_depth': 8}. Best is trial 7 with value: 1750.2697586490378.\u001b[0m\n"
     ]
    },
    {
     "name": "stdout",
     "output_type": "stream",
     "text": [
      "[LightGBM] [Warning] Accuracy may be bad since you didn't explicitly set num_leaves OR 2^max_depth > num_leaves. (num_leaves=31).\n",
      "[LightGBM] [Warning] Accuracy may be bad since you didn't explicitly set num_leaves OR 2^max_depth > num_leaves. (num_leaves=31).\n",
      "[LightGBM] [Warning] Auto-choosing row-wise multi-threading, the overhead of testing was 0.003589 seconds.\n",
      "You can set `force_row_wise=true` to remove the overhead.\n",
      "And if memory is not enough, you can set `force_col_wise=true`.\n",
      "[LightGBM] [Info] Total Bins 553\n",
      "[LightGBM] [Info] Number of data points in the train set: 135530, number of used features: 8\n",
      "[LightGBM] [Info] Start training from score 5280.782971\n"
     ]
    },
    {
     "name": "stderr",
     "output_type": "stream",
     "text": [
      "\u001b[32m[I 2023-05-13 18:46:00,928]\u001b[0m Trial 8 finished with value: 1743.7595688853314 and parameters: {'learning_rate': 0.0679511266806165, 'max_depth': 8}. Best is trial 8 with value: 1743.7595688853314.\u001b[0m\n",
      "\u001b[32m[I 2023-05-13 18:46:01,100]\u001b[0m Trial 9 finished with value: 2246.286539018181 and parameters: {'learning_rate': 0.04222609724625541, 'max_depth': 2}. Best is trial 8 with value: 1743.7595688853314.\u001b[0m\n"
     ]
    },
    {
     "name": "stdout",
     "output_type": "stream",
     "text": [
      "[LightGBM] [Warning] Auto-choosing row-wise multi-threading, the overhead of testing was 0.003393 seconds.\n",
      "You can set `force_row_wise=true` to remove the overhead.\n",
      "And if memory is not enough, you can set `force_col_wise=true`.\n",
      "[LightGBM] [Info] Total Bins 555\n",
      "[LightGBM] [Info] Number of data points in the train set: 135530, number of used features: 8\n",
      "[LightGBM] [Info] Start training from score 5294.093551\n",
      "[LightGBM] [Warning] Auto-choosing row-wise multi-threading, the overhead of testing was 0.003356 seconds.\n",
      "You can set `force_row_wise=true` to remove the overhead.\n",
      "And if memory is not enough, you can set `force_col_wise=true`.\n",
      "[LightGBM] [Info] Total Bins 551\n",
      "[LightGBM] [Info] Number of data points in the train set: 135530, number of used features: 8\n",
      "[LightGBM] [Info] Start training from score 5284.815059\n"
     ]
    },
    {
     "name": "stderr",
     "output_type": "stream",
     "text": [
      "\u001b[32m[I 2023-05-13 18:46:01,366]\u001b[0m Trial 10 finished with value: 1994.1365111668122 and parameters: {'learning_rate': 0.030020347629944613, 'max_depth': 4}. Best is trial 8 with value: 1743.7595688853314.\u001b[0m\n"
     ]
    },
    {
     "name": "stdout",
     "output_type": "stream",
     "text": [
      "[LightGBM] [Warning] Accuracy may be bad since you didn't explicitly set num_leaves OR 2^max_depth > num_leaves. (num_leaves=31).\n",
      "[LightGBM] [Warning] Accuracy may be bad since you didn't explicitly set num_leaves OR 2^max_depth > num_leaves. (num_leaves=31).\n",
      "[LightGBM] [Warning] Auto-choosing row-wise multi-threading, the overhead of testing was 0.005063 seconds.\n",
      "You can set `force_row_wise=true` to remove the overhead.\n",
      "And if memory is not enough, you can set `force_col_wise=true`.\n",
      "[LightGBM] [Info] Total Bins 554\n",
      "[LightGBM] [Info] Number of data points in the train set: 135530, number of used features: 8\n",
      "[LightGBM] [Info] Start training from score 5287.489530\n"
     ]
    },
    {
     "name": "stderr",
     "output_type": "stream",
     "text": [
      "\u001b[32m[I 2023-05-13 18:46:01,723]\u001b[0m Trial 11 finished with value: 1750.9433077367303 and parameters: {'learning_rate': 0.07722599623052687, 'max_depth': 8}. Best is trial 8 with value: 1743.7595688853314.\u001b[0m\n"
     ]
    },
    {
     "name": "stdout",
     "output_type": "stream",
     "text": [
      "[LightGBM] [Warning] Accuracy may be bad since you didn't explicitly set num_leaves OR 2^max_depth > num_leaves. (num_leaves=31).\n",
      "[LightGBM] [Warning] Accuracy may be bad since you didn't explicitly set num_leaves OR 2^max_depth > num_leaves. (num_leaves=31).\n",
      "[LightGBM] [Warning] Auto-choosing row-wise multi-threading, the overhead of testing was 0.003309 seconds.\n",
      "You can set `force_row_wise=true` to remove the overhead.\n",
      "And if memory is not enough, you can set `force_col_wise=true`.\n",
      "[LightGBM] [Info] Total Bins 553\n",
      "[LightGBM] [Info] Number of data points in the train set: 135530, number of used features: 8\n",
      "[LightGBM] [Info] Start training from score 5279.192186\n"
     ]
    },
    {
     "name": "stderr",
     "output_type": "stream",
     "text": [
      "\u001b[32m[I 2023-05-13 18:46:02,064]\u001b[0m Trial 12 finished with value: 1768.7792498519261 and parameters: {'learning_rate': 0.07643395520488344, 'max_depth': 7}. Best is trial 8 with value: 1743.7595688853314.\u001b[0m\n"
     ]
    },
    {
     "name": "stdout",
     "output_type": "stream",
     "text": [
      "[LightGBM] [Warning] Accuracy may be bad since you didn't explicitly set num_leaves OR 2^max_depth > num_leaves. (num_leaves=31).\n",
      "[LightGBM] [Warning] Accuracy may be bad since you didn't explicitly set num_leaves OR 2^max_depth > num_leaves. (num_leaves=31).\n",
      "[LightGBM] [Warning] Auto-choosing row-wise multi-threading, the overhead of testing was 0.003308 seconds.\n",
      "You can set `force_row_wise=true` to remove the overhead.\n",
      "And if memory is not enough, you can set `force_col_wise=true`.\n",
      "[LightGBM] [Info] Total Bins 554\n",
      "[LightGBM] [Info] Number of data points in the train set: 135530, number of used features: 8\n",
      "[LightGBM] [Info] Start training from score 5293.718232\n"
     ]
    },
    {
     "name": "stderr",
     "output_type": "stream",
     "text": [
      "\u001b[32m[I 2023-05-13 18:46:02,408]\u001b[0m Trial 13 finished with value: 1741.320462498154 and parameters: {'learning_rate': 0.07440385495853673, 'max_depth': 8}. Best is trial 13 with value: 1741.320462498154.\u001b[0m\n"
     ]
    },
    {
     "name": "stdout",
     "output_type": "stream",
     "text": [
      "[LightGBM] [Warning] Accuracy may be bad since you didn't explicitly set num_leaves OR 2^max_depth > num_leaves. (num_leaves=31).\n",
      "[LightGBM] [Warning] Accuracy may be bad since you didn't explicitly set num_leaves OR 2^max_depth > num_leaves. (num_leaves=31).\n",
      "[LightGBM] [Warning] Auto-choosing row-wise multi-threading, the overhead of testing was 0.003780 seconds.\n",
      "You can set `force_row_wise=true` to remove the overhead.\n",
      "And if memory is not enough, you can set `force_col_wise=true`.\n",
      "[LightGBM] [Info] Total Bins 553\n",
      "[LightGBM] [Info] Number of data points in the train set: 135530, number of used features: 8\n",
      "[LightGBM] [Info] Start training from score 5286.547923\n",
      "[LightGBM] [Warning] No further splits with positive gain, best gain: -inf\n",
      "[LightGBM] [Warning] No further splits with positive gain, best gain: -inf\n",
      "[LightGBM] [Warning] No further splits with positive gain, best gain: -inf\n",
      "[LightGBM] [Warning] No further splits with positive gain, best gain: -inf\n",
      "[LightGBM] [Warning] No further splits with positive gain, best gain: -inf\n",
      "[LightGBM] [Warning] No further splits with positive gain, best gain: -inf\n",
      "[LightGBM] [Warning] No further splits with positive gain, best gain: -inf\n",
      "[LightGBM] [Warning] No further splits with positive gain, best gain: -inf\n",
      "[LightGBM] [Warning] No further splits with positive gain, best gain: -inf\n",
      "[LightGBM] [Warning] No further splits with positive gain, best gain: -inf\n",
      "[LightGBM] [Warning] No further splits with positive gain, best gain: -inf\n",
      "[LightGBM] [Warning] No further splits with positive gain, best gain: -inf\n",
      "[LightGBM] [Warning] No further splits with positive gain, best gain: -inf\n",
      "[LightGBM] [Warning] No further splits with positive gain, best gain: -inf\n",
      "[LightGBM] [Warning] No further splits with positive gain, best gain: -inf\n",
      "[LightGBM] [Warning] No further splits with positive gain, best gain: -inf\n",
      "[LightGBM] [Warning] No further splits with positive gain, best gain: -inf\n"
     ]
    },
    {
     "name": "stderr",
     "output_type": "stream",
     "text": [
      "\u001b[32m[I 2023-05-13 18:46:02,727]\u001b[0m Trial 14 finished with value: 1786.5818536833197 and parameters: {'learning_rate': 0.08534102483234005, 'max_depth': 5}. Best is trial 13 with value: 1741.320462498154.\u001b[0m\n"
     ]
    },
    {
     "name": "stdout",
     "output_type": "stream",
     "text": [
      "[LightGBM] [Warning] No further splits with positive gain, best gain: -inf\n",
      "[LightGBM] [Warning] No further splits with positive gain, best gain: -inf\n",
      "[LightGBM] [Warning] No further splits with positive gain, best gain: -inf\n",
      "[LightGBM] [Warning] No further splits with positive gain, best gain: -inf\n",
      "[LightGBM] [Warning] No further splits with positive gain, best gain: -inf\n",
      "[LightGBM] [Warning] No further splits with positive gain, best gain: -inf\n",
      "[LightGBM] [Warning] No further splits with positive gain, best gain: -inf\n",
      "[LightGBM] [Warning] No further splits with positive gain, best gain: -inf\n",
      "[LightGBM] [Warning] No further splits with positive gain, best gain: -inf\n",
      "[LightGBM] [Warning] No further splits with positive gain, best gain: -inf\n",
      "[LightGBM] [Warning] No further splits with positive gain, best gain: -inf\n",
      "[LightGBM] [Warning] No further splits with positive gain, best gain: -inf\n",
      "[LightGBM] [Warning] No further splits with positive gain, best gain: -inf\n",
      "[LightGBM] [Warning] No further splits with positive gain, best gain: -inf\n",
      "[LightGBM] [Warning] No further splits with positive gain, best gain: -inf\n",
      "[LightGBM] [Warning] No further splits with positive gain, best gain: -inf\n",
      "[LightGBM] [Warning] No further splits with positive gain, best gain: -inf\n",
      "[LightGBM] [Warning] No further splits with positive gain, best gain: -inf\n",
      "[LightGBM] [Warning] No further splits with positive gain, best gain: -inf\n",
      "[LightGBM] [Warning] No further splits with positive gain, best gain: -inf\n",
      "[LightGBM] [Warning] No further splits with positive gain, best gain: -inf\n",
      "[LightGBM] [Warning] Accuracy may be bad since you didn't explicitly set num_leaves OR 2^max_depth > num_leaves. (num_leaves=31).\n",
      "[LightGBM] [Warning] Accuracy may be bad since you didn't explicitly set num_leaves OR 2^max_depth > num_leaves. (num_leaves=31).\n",
      "[LightGBM] [Warning] Auto-choosing row-wise multi-threading, the overhead of testing was 0.003314 seconds.\n",
      "You can set `force_row_wise=true` to remove the overhead.\n",
      "And if memory is not enough, you can set `force_col_wise=true`.\n",
      "[LightGBM] [Info] Total Bins 553\n",
      "[LightGBM] [Info] Number of data points in the train set: 135530, number of used features: 8\n",
      "[LightGBM] [Info] Start training from score 5282.463204\n"
     ]
    },
    {
     "name": "stderr",
     "output_type": "stream",
     "text": [
      "\u001b[32m[I 2023-05-13 18:46:03,059]\u001b[0m Trial 15 finished with value: 1754.950179470968 and parameters: {'learning_rate': 0.08430730391607397, 'max_depth': 7}. Best is trial 13 with value: 1741.320462498154.\u001b[0m\n"
     ]
    },
    {
     "name": "stdout",
     "output_type": "stream",
     "text": [
      "[LightGBM] [Warning] Accuracy may be bad since you didn't explicitly set num_leaves OR 2^max_depth > num_leaves. (num_leaves=31).\n",
      "[LightGBM] [Warning] Accuracy may be bad since you didn't explicitly set num_leaves OR 2^max_depth > num_leaves. (num_leaves=31).\n",
      "[LightGBM] [Warning] Auto-choosing row-wise multi-threading, the overhead of testing was 0.003421 seconds.\n",
      "You can set `force_row_wise=true` to remove the overhead.\n",
      "And if memory is not enough, you can set `force_col_wise=true`.\n",
      "[LightGBM] [Info] Total Bins 554\n",
      "[LightGBM] [Info] Number of data points in the train set: 135530, number of used features: 8\n",
      "[LightGBM] [Info] Start training from score 5289.766745\n"
     ]
    },
    {
     "name": "stderr",
     "output_type": "stream",
     "text": [
      "\u001b[32m[I 2023-05-13 18:46:03,404]\u001b[0m Trial 16 finished with value: 1776.7058944909122 and parameters: {'learning_rate': 0.0699073636121653, 'max_depth': 6}. Best is trial 13 with value: 1741.320462498154.\u001b[0m\n"
     ]
    },
    {
     "name": "stdout",
     "output_type": "stream",
     "text": [
      "[LightGBM] [Warning] Accuracy may be bad since you didn't explicitly set num_leaves OR 2^max_depth > num_leaves. (num_leaves=31).\n",
      "[LightGBM] [Warning] Accuracy may be bad since you didn't explicitly set num_leaves OR 2^max_depth > num_leaves. (num_leaves=31).\n",
      "[LightGBM] [Warning] Auto-choosing row-wise multi-threading, the overhead of testing was 0.003111 seconds.\n",
      "You can set `force_row_wise=true` to remove the overhead.\n",
      "And if memory is not enough, you can set `force_col_wise=true`.\n",
      "[LightGBM] [Info] Total Bins 552\n",
      "[LightGBM] [Info] Number of data points in the train set: 135530, number of used features: 8\n",
      "[LightGBM] [Info] Start training from score 5280.428282\n",
      "[LightGBM] [Warning] No further splits with positive gain, best gain: -inf\n",
      "[LightGBM] [Warning] No further splits with positive gain, best gain: -inf\n",
      "[LightGBM] [Warning] No further splits with positive gain, best gain: -inf\n",
      "[LightGBM] [Warning] No further splits with positive gain, best gain: -inf\n",
      "[LightGBM] [Warning] No further splits with positive gain, best gain: -inf\n",
      "[LightGBM] [Warning] No further splits with positive gain, best gain: -inf\n",
      "[LightGBM] [Warning] No further splits with positive gain, best gain: -inf\n",
      "[LightGBM] [Warning] No further splits with positive gain, best gain: -inf\n",
      "[LightGBM] [Warning] No further splits with positive gain, best gain: -inf\n",
      "[LightGBM] [Warning] No further splits with positive gain, best gain: -inf\n",
      "[LightGBM] [Warning] No further splits with positive gain, best gain: -inf\n",
      "[LightGBM] [Warning] No further splits with positive gain, best gain: -inf\n",
      "[LightGBM] [Warning] No further splits with positive gain, best gain: -inf\n",
      "[LightGBM] [Warning] No further splits with positive gain, best gain: -inf\n",
      "[LightGBM] [Warning] No further splits with positive gain, best gain: -inf\n",
      "[LightGBM] [Warning] No further splits with positive gain, best gain: -inf\n",
      "[LightGBM] [Warning] No further splits with positive gain, best gain: -inf\n",
      "[LightGBM] [Warning] No further splits with positive gain, best gain: -inf\n",
      "[LightGBM] [Warning] No further splits with positive gain, best gain: -inf\n",
      "[LightGBM] [Warning] No further splits with positive gain, best gain: -inf\n",
      "[LightGBM] [Warning] No further splits with positive gain, best gain: -inf\n",
      "[LightGBM] [Warning] No further splits with positive gain, best gain: -inf\n",
      "[LightGBM] [Warning] No further splits with positive gain, best gain: -inf\n",
      "[LightGBM] [Warning] No further splits with positive gain, best gain: -inf\n",
      "[LightGBM] [Warning] No further splits with positive gain, best gain: -inf\n",
      "[LightGBM] [Warning] No further splits with positive gain, best gain: -inf\n",
      "[LightGBM] [Warning] No further splits with positive gain, best gain: -inf\n",
      "[LightGBM] [Warning] No further splits with positive gain, best gain: -inf\n",
      "[LightGBM] [Warning] No further splits with positive gain, best gain: -inf\n",
      "[LightGBM] [Warning] No further splits with positive gain, best gain: -inf\n",
      "[LightGBM] [Warning] No further splits with positive gain, best gain: -inf\n",
      "[LightGBM] [Warning] No further splits with positive gain, best gain: -inf\n",
      "[LightGBM] [Warning] No further splits with positive gain, best gain: -inf\n",
      "[LightGBM] [Warning] No further splits with positive gain, best gain: -inf\n",
      "[LightGBM] [Warning] No further splits with positive gain, best gain: -inf\n",
      "[LightGBM] [Warning] No further splits with positive gain, best gain: -inf\n",
      "[LightGBM] [Warning] No further splits with positive gain, best gain: -inf\n",
      "[LightGBM] [Warning] No further splits with positive gain, best gain: -inf\n",
      "[LightGBM] [Warning] No further splits with positive gain, best gain: -inf\n"
     ]
    },
    {
     "name": "stderr",
     "output_type": "stream",
     "text": [
      "\u001b[32m[I 2023-05-13 18:46:03,884]\u001b[0m Trial 17 finished with value: 1796.1251393504408 and parameters: {'learning_rate': 0.09891056347991106, 'max_depth': 5}. Best is trial 13 with value: 1741.320462498154.\u001b[0m\n"
     ]
    },
    {
     "name": "stdout",
     "output_type": "stream",
     "text": [
      "[LightGBM] [Warning] Accuracy may be bad since you didn't explicitly set num_leaves OR 2^max_depth > num_leaves. (num_leaves=31).\n",
      "[LightGBM] [Warning] Accuracy may be bad since you didn't explicitly set num_leaves OR 2^max_depth > num_leaves. (num_leaves=31).\n",
      "[LightGBM] [Warning] Auto-choosing row-wise multi-threading, the overhead of testing was 0.004231 seconds.\n",
      "You can set `force_row_wise=true` to remove the overhead.\n",
      "And if memory is not enough, you can set `force_col_wise=true`.\n",
      "[LightGBM] [Info] Total Bins 551\n",
      "[LightGBM] [Info] Number of data points in the train set: 135530, number of used features: 8\n",
      "[LightGBM] [Info] Start training from score 5292.215421\n"
     ]
    },
    {
     "name": "stderr",
     "output_type": "stream",
     "text": [
      "\u001b[32m[I 2023-05-13 18:46:04,367]\u001b[0m Trial 18 finished with value: 1752.1095449377906 and parameters: {'learning_rate': 0.0603207747931999, 'max_depth': 8}. Best is trial 13 with value: 1741.320462498154.\u001b[0m\n"
     ]
    },
    {
     "name": "stdout",
     "output_type": "stream",
     "text": [
      "[LightGBM] [Warning] Accuracy may be bad since you didn't explicitly set num_leaves OR 2^max_depth > num_leaves. (num_leaves=31).\n",
      "[LightGBM] [Warning] Accuracy may be bad since you didn't explicitly set num_leaves OR 2^max_depth > num_leaves. (num_leaves=31).\n",
      "[LightGBM] [Warning] Auto-choosing row-wise multi-threading, the overhead of testing was 0.003854 seconds.\n",
      "You can set `force_row_wise=true` to remove the overhead.\n",
      "And if memory is not enough, you can set `force_col_wise=true`.\n",
      "[LightGBM] [Info] Total Bins 555\n",
      "[LightGBM] [Info] Number of data points in the train set: 135530, number of used features: 8\n",
      "[LightGBM] [Info] Start training from score 5282.258991\n"
     ]
    },
    {
     "name": "stderr",
     "output_type": "stream",
     "text": [
      "\u001b[32m[I 2023-05-13 18:46:04,787]\u001b[0m Trial 19 finished with value: 1770.7819417418445 and parameters: {'learning_rate': 0.0767892107015397, 'max_depth': 7}. Best is trial 13 with value: 1741.320462498154.\u001b[0m\n"
     ]
    },
    {
     "name": "stdout",
     "output_type": "stream",
     "text": [
      "[LightGBM] [Warning] Accuracy may be bad since you didn't explicitly set num_leaves OR 2^max_depth > num_leaves. (num_leaves=31).\n",
      "[LightGBM] [Warning] Accuracy may be bad since you didn't explicitly set num_leaves OR 2^max_depth > num_leaves. (num_leaves=31).\n",
      "[LightGBM] [Warning] Auto-choosing row-wise multi-threading, the overhead of testing was 0.003021 seconds.\n",
      "You can set `force_row_wise=true` to remove the overhead.\n",
      "And if memory is not enough, you can set `force_col_wise=true`.\n",
      "[LightGBM] [Info] Total Bins 554\n",
      "[LightGBM] [Info] Number of data points in the train set: 135530, number of used features: 8\n",
      "[LightGBM] [Info] Start training from score 5276.092408\n"
     ]
    },
    {
     "name": "stderr",
     "output_type": "stream",
     "text": [
      "\u001b[32m[I 2023-05-13 18:46:05,202]\u001b[0m Trial 20 finished with value: 1786.4435259857125 and parameters: {'learning_rate': 0.08825142426207071, 'max_depth': 6}. Best is trial 13 with value: 1741.320462498154.\u001b[0m\n"
     ]
    },
    {
     "name": "stdout",
     "output_type": "stream",
     "text": [
      "[LightGBM] [Warning] No further splits with positive gain, best gain: -inf\n",
      "[LightGBM] [Warning] No further splits with positive gain, best gain: -inf\n",
      "[LightGBM] [Warning] Accuracy may be bad since you didn't explicitly set num_leaves OR 2^max_depth > num_leaves. (num_leaves=31).\n",
      "[LightGBM] [Warning] Accuracy may be bad since you didn't explicitly set num_leaves OR 2^max_depth > num_leaves. (num_leaves=31).\n",
      "[LightGBM] [Warning] Auto-choosing row-wise multi-threading, the overhead of testing was 0.003268 seconds.\n",
      "You can set `force_row_wise=true` to remove the overhead.\n",
      "And if memory is not enough, you can set `force_col_wise=true`.\n",
      "[LightGBM] [Info] Total Bins 553\n",
      "[LightGBM] [Info] Number of data points in the train set: 135530, number of used features: 8\n",
      "[LightGBM] [Info] Start training from score 5292.129610\n"
     ]
    },
    {
     "name": "stderr",
     "output_type": "stream",
     "text": [
      "\u001b[32m[I 2023-05-13 18:46:05,550]\u001b[0m Trial 21 finished with value: 1739.9712420260557 and parameters: {'learning_rate': 0.07127956103732638, 'max_depth': 8}. Best is trial 21 with value: 1739.9712420260557.\u001b[0m\n"
     ]
    },
    {
     "name": "stdout",
     "output_type": "stream",
     "text": [
      "[LightGBM] [Warning] Accuracy may be bad since you didn't explicitly set num_leaves OR 2^max_depth > num_leaves. (num_leaves=31).\n",
      "[LightGBM] [Warning] Accuracy may be bad since you didn't explicitly set num_leaves OR 2^max_depth > num_leaves. (num_leaves=31).\n",
      "[LightGBM] [Warning] Auto-choosing row-wise multi-threading, the overhead of testing was 0.003303 seconds.\n",
      "You can set `force_row_wise=true` to remove the overhead.\n",
      "And if memory is not enough, you can set `force_col_wise=true`.\n",
      "[LightGBM] [Info] Total Bins 555\n",
      "[LightGBM] [Info] Number of data points in the train set: 135530, number of used features: 8\n",
      "[LightGBM] [Info] Start training from score 5289.194606\n"
     ]
    },
    {
     "name": "stderr",
     "output_type": "stream",
     "text": [
      "\u001b[32m[I 2023-05-13 18:46:05,940]\u001b[0m Trial 22 finished with value: 1770.4430565856762 and parameters: {'learning_rate': 0.06957552256433219, 'max_depth': 8}. Best is trial 21 with value: 1739.9712420260557.\u001b[0m\n"
     ]
    },
    {
     "name": "stdout",
     "output_type": "stream",
     "text": [
      "[LightGBM] [Warning] Accuracy may be bad since you didn't explicitly set num_leaves OR 2^max_depth > num_leaves. (num_leaves=31).\n",
      "[LightGBM] [Warning] Accuracy may be bad since you didn't explicitly set num_leaves OR 2^max_depth > num_leaves. (num_leaves=31).\n",
      "[LightGBM] [Warning] Auto-choosing row-wise multi-threading, the overhead of testing was 0.003547 seconds.\n",
      "You can set `force_row_wise=true` to remove the overhead.\n",
      "And if memory is not enough, you can set `force_col_wise=true`.\n",
      "[LightGBM] [Info] Total Bins 552\n",
      "[LightGBM] [Info] Number of data points in the train set: 135530, number of used features: 8\n",
      "[LightGBM] [Info] Start training from score 5286.581355\n"
     ]
    },
    {
     "name": "stderr",
     "output_type": "stream",
     "text": [
      "\u001b[32m[I 2023-05-13 18:46:06,301]\u001b[0m Trial 23 finished with value: 1772.7357007270195 and parameters: {'learning_rate': 0.07470280700575894, 'max_depth': 7}. Best is trial 21 with value: 1739.9712420260557.\u001b[0m\n"
     ]
    },
    {
     "name": "stdout",
     "output_type": "stream",
     "text": [
      "[LightGBM] [Warning] Accuracy may be bad since you didn't explicitly set num_leaves OR 2^max_depth > num_leaves. (num_leaves=31).\n",
      "[LightGBM] [Warning] Accuracy may be bad since you didn't explicitly set num_leaves OR 2^max_depth > num_leaves. (num_leaves=31).\n",
      "[LightGBM] [Warning] Auto-choosing row-wise multi-threading, the overhead of testing was 0.003414 seconds.\n",
      "You can set `force_row_wise=true` to remove the overhead.\n",
      "And if memory is not enough, you can set `force_col_wise=true`.\n",
      "[LightGBM] [Info] Total Bins 553\n",
      "[LightGBM] [Info] Number of data points in the train set: 135530, number of used features: 8\n",
      "[LightGBM] [Info] Start training from score 5287.384063\n"
     ]
    },
    {
     "name": "stderr",
     "output_type": "stream",
     "text": [
      "\u001b[32m[I 2023-05-13 18:46:06,653]\u001b[0m Trial 24 finished with value: 1774.214049911352 and parameters: {'learning_rate': 0.064927930976356, 'max_depth': 8}. Best is trial 21 with value: 1739.9712420260557.\u001b[0m\n"
     ]
    },
    {
     "name": "stdout",
     "output_type": "stream",
     "text": [
      "[LightGBM] [Warning] Accuracy may be bad since you didn't explicitly set num_leaves OR 2^max_depth > num_leaves. (num_leaves=31).\n",
      "[LightGBM] [Warning] Accuracy may be bad since you didn't explicitly set num_leaves OR 2^max_depth > num_leaves. (num_leaves=31).\n",
      "[LightGBM] [Warning] Auto-choosing row-wise multi-threading, the overhead of testing was 0.003381 seconds.\n",
      "You can set `force_row_wise=true` to remove the overhead.\n",
      "And if memory is not enough, you can set `force_col_wise=true`.\n",
      "[LightGBM] [Info] Total Bins 554\n",
      "[LightGBM] [Info] Number of data points in the train set: 135530, number of used features: 8\n",
      "[LightGBM] [Info] Start training from score 5281.539165\n"
     ]
    },
    {
     "name": "stderr",
     "output_type": "stream",
     "text": [
      "\u001b[32m[I 2023-05-13 18:46:07,030]\u001b[0m Trial 25 finished with value: 1779.6702637905926 and parameters: {'learning_rate': 0.082068154714108, 'max_depth': 7}. Best is trial 21 with value: 1739.9712420260557.\u001b[0m\n"
     ]
    },
    {
     "name": "stdout",
     "output_type": "stream",
     "text": [
      "[LightGBM] [Warning] Auto-choosing row-wise multi-threading, the overhead of testing was 0.003306 seconds.\n",
      "You can set `force_row_wise=true` to remove the overhead.\n",
      "And if memory is not enough, you can set `force_col_wise=true`.\n",
      "[LightGBM] [Info] Total Bins 554\n",
      "[LightGBM] [Info] Number of data points in the train set: 135530, number of used features: 8\n",
      "[LightGBM] [Info] Start training from score 5287.757995\n",
      "[LightGBM] [Warning] No further splits with positive gain, best gain: -inf\n",
      "[LightGBM] [Warning] No further splits with positive gain, best gain: -inf\n",
      "[LightGBM] [Warning] No further splits with positive gain, best gain: -inf\n",
      "[LightGBM] [Warning] No further splits with positive gain, best gain: -inf\n",
      "[LightGBM] [Warning] No further splits with positive gain, best gain: -inf\n",
      "[LightGBM] [Warning] No further splits with positive gain, best gain: -inf\n",
      "[LightGBM] [Warning] No further splits with positive gain, best gain: -inf\n",
      "[LightGBM] [Warning] No further splits with positive gain, best gain: -inf\n"
     ]
    },
    {
     "name": "stderr",
     "output_type": "stream",
     "text": [
      "\u001b[32m[I 2023-05-13 18:46:07,326]\u001b[0m Trial 26 finished with value: 1851.6287140534032 and parameters: {'learning_rate': 0.07457718855864344, 'max_depth': 4}. Best is trial 21 with value: 1739.9712420260557.\u001b[0m\n"
     ]
    },
    {
     "name": "stdout",
     "output_type": "stream",
     "text": [
      "[LightGBM] [Warning] Accuracy may be bad since you didn't explicitly set num_leaves OR 2^max_depth > num_leaves. (num_leaves=31).\n",
      "[LightGBM] [Warning] Accuracy may be bad since you didn't explicitly set num_leaves OR 2^max_depth > num_leaves. (num_leaves=31).\n",
      "[LightGBM] [Warning] Auto-choosing row-wise multi-threading, the overhead of testing was 0.003500 seconds.\n",
      "You can set `force_row_wise=true` to remove the overhead.\n",
      "And if memory is not enough, you can set `force_col_wise=true`.\n",
      "[LightGBM] [Info] Total Bins 552\n",
      "[LightGBM] [Info] Number of data points in the train set: 135530, number of used features: 8\n",
      "[LightGBM] [Info] Start training from score 5284.962672\n"
     ]
    },
    {
     "name": "stderr",
     "output_type": "stream",
     "text": [
      "\u001b[32m[I 2023-05-13 18:46:07,694]\u001b[0m Trial 27 finished with value: 1775.0754245224864 and parameters: {'learning_rate': 0.06508670293091867, 'max_depth': 8}. Best is trial 21 with value: 1739.9712420260557.\u001b[0m\n"
     ]
    },
    {
     "name": "stdout",
     "output_type": "stream",
     "text": [
      "[LightGBM] [Warning] Accuracy may be bad since you didn't explicitly set num_leaves OR 2^max_depth > num_leaves. (num_leaves=31).\n",
      "[LightGBM] [Warning] Accuracy may be bad since you didn't explicitly set num_leaves OR 2^max_depth > num_leaves. (num_leaves=31).\n",
      "[LightGBM] [Warning] Auto-choosing row-wise multi-threading, the overhead of testing was 0.003463 seconds.\n",
      "You can set `force_row_wise=true` to remove the overhead.\n",
      "And if memory is not enough, you can set `force_col_wise=true`.\n",
      "[LightGBM] [Info] Total Bins 554\n",
      "[LightGBM] [Info] Number of data points in the train set: 135530, number of used features: 8\n",
      "[LightGBM] [Info] Start training from score 5285.961536\n"
     ]
    },
    {
     "name": "stderr",
     "output_type": "stream",
     "text": [
      "\u001b[32m[I 2023-05-13 18:46:08,061]\u001b[0m Trial 28 finished with value: 1752.6837963972669 and parameters: {'learning_rate': 0.0807190226146871, 'max_depth': 7}. Best is trial 21 with value: 1739.9712420260557.\u001b[0m\n"
     ]
    },
    {
     "name": "stdout",
     "output_type": "stream",
     "text": [
      "[LightGBM] [Warning] Accuracy may be bad since you didn't explicitly set num_leaves OR 2^max_depth > num_leaves. (num_leaves=31).\n",
      "[LightGBM] [Warning] Accuracy may be bad since you didn't explicitly set num_leaves OR 2^max_depth > num_leaves. (num_leaves=31).\n",
      "[LightGBM] [Warning] Auto-choosing row-wise multi-threading, the overhead of testing was 0.003919 seconds.\n",
      "You can set `force_row_wise=true` to remove the overhead.\n",
      "And if memory is not enough, you can set `force_col_wise=true`.\n",
      "[LightGBM] [Info] Total Bins 555\n",
      "[LightGBM] [Info] Number of data points in the train set: 135530, number of used features: 8\n",
      "[LightGBM] [Info] Start training from score 5292.894946\n"
     ]
    },
    {
     "name": "stderr",
     "output_type": "stream",
     "text": [
      "\u001b[32m[I 2023-05-13 18:46:08,400]\u001b[0m Trial 29 finished with value: 1782.4831266229626 and parameters: {'learning_rate': 0.06855212037092911, 'max_depth': 6}. Best is trial 21 with value: 1739.9712420260557.\u001b[0m\n"
     ]
    },
    {
     "name": "stdout",
     "output_type": "stream",
     "text": [
      "[LightGBM] [Warning] No further splits with positive gain, best gain: -inf\n",
      "[LightGBM] [Warning] Accuracy may be bad since you didn't explicitly set num_leaves OR 2^max_depth > num_leaves. (num_leaves=31).\n",
      "[LightGBM] [Warning] Accuracy may be bad since you didn't explicitly set num_leaves OR 2^max_depth > num_leaves. (num_leaves=31).\n",
      "[LightGBM] [Warning] Auto-choosing row-wise multi-threading, the overhead of testing was 0.003729 seconds.\n",
      "You can set `force_row_wise=true` to remove the overhead.\n",
      "And if memory is not enough, you can set `force_col_wise=true`.\n",
      "[LightGBM] [Info] Total Bins 557\n",
      "[LightGBM] [Info] Number of data points in the train set: 135530, number of used features: 8\n",
      "[LightGBM] [Info] Start training from score 5272.914690\n"
     ]
    },
    {
     "name": "stderr",
     "output_type": "stream",
     "text": [
      "\u001b[32m[I 2023-05-13 18:46:08,793]\u001b[0m Trial 30 finished with value: 1784.1378928967515 and parameters: {'learning_rate': 0.08919591846764127, 'max_depth': 8}. Best is trial 21 with value: 1739.9712420260557.\u001b[0m\n"
     ]
    },
    {
     "name": "stdout",
     "output_type": "stream",
     "text": [
      "[LightGBM] [Warning] Accuracy may be bad since you didn't explicitly set num_leaves OR 2^max_depth > num_leaves. (num_leaves=31).\n",
      "[LightGBM] [Warning] Accuracy may be bad since you didn't explicitly set num_leaves OR 2^max_depth > num_leaves. (num_leaves=31).\n",
      "[LightGBM] [Warning] Auto-choosing row-wise multi-threading, the overhead of testing was 0.003297 seconds.\n",
      "You can set `force_row_wise=true` to remove the overhead.\n",
      "And if memory is not enough, you can set `force_col_wise=true`.\n",
      "[LightGBM] [Info] Total Bins 551\n",
      "[LightGBM] [Info] Number of data points in the train set: 135530, number of used features: 8\n",
      "[LightGBM] [Info] Start training from score 5282.153398\n"
     ]
    },
    {
     "name": "stderr",
     "output_type": "stream",
     "text": [
      "\u001b[32m[I 2023-05-13 18:46:09,215]\u001b[0m Trial 31 finished with value: 1759.3702463230038 and parameters: {'learning_rate': 0.0705659192187403, 'max_depth': 8}. Best is trial 21 with value: 1739.9712420260557.\u001b[0m\n"
     ]
    },
    {
     "name": "stdout",
     "output_type": "stream",
     "text": [
      "[LightGBM] [Warning] Accuracy may be bad since you didn't explicitly set num_leaves OR 2^max_depth > num_leaves. (num_leaves=31).\n",
      "[LightGBM] [Warning] Accuracy may be bad since you didn't explicitly set num_leaves OR 2^max_depth > num_leaves. (num_leaves=31).\n",
      "[LightGBM] [Warning] Auto-choosing row-wise multi-threading, the overhead of testing was 0.003451 seconds.\n",
      "You can set `force_row_wise=true` to remove the overhead.\n",
      "And if memory is not enough, you can set `force_col_wise=true`.\n",
      "[LightGBM] [Info] Total Bins 553\n",
      "[LightGBM] [Info] Number of data points in the train set: 135530, number of used features: 8\n",
      "[LightGBM] [Info] Start training from score 5283.787471\n"
     ]
    },
    {
     "name": "stderr",
     "output_type": "stream",
     "text": [
      "\u001b[32m[I 2023-05-13 18:46:09,560]\u001b[0m Trial 32 finished with value: 1754.0390808414609 and parameters: {'learning_rate': 0.07263094424001405, 'max_depth': 8}. Best is trial 21 with value: 1739.9712420260557.\u001b[0m\n"
     ]
    },
    {
     "name": "stdout",
     "output_type": "stream",
     "text": [
      "[LightGBM] [Warning] Accuracy may be bad since you didn't explicitly set num_leaves OR 2^max_depth > num_leaves. (num_leaves=31).\n",
      "[LightGBM] [Warning] Accuracy may be bad since you didn't explicitly set num_leaves OR 2^max_depth > num_leaves. (num_leaves=31).\n",
      "[LightGBM] [Warning] Auto-choosing row-wise multi-threading, the overhead of testing was 0.003455 seconds.\n",
      "You can set `force_row_wise=true` to remove the overhead.\n",
      "And if memory is not enough, you can set `force_col_wise=true`.\n",
      "[LightGBM] [Info] Total Bins 554\n",
      "[LightGBM] [Info] Number of data points in the train set: 135530, number of used features: 8\n",
      "[LightGBM] [Info] Start training from score 5285.462045\n"
     ]
    },
    {
     "name": "stderr",
     "output_type": "stream",
     "text": [
      "\u001b[32m[I 2023-05-13 18:46:09,940]\u001b[0m Trial 33 finished with value: 1767.5158290549348 and parameters: {'learning_rate': 0.0663795484012862, 'max_depth': 7}. Best is trial 21 with value: 1739.9712420260557.\u001b[0m\n"
     ]
    },
    {
     "name": "stdout",
     "output_type": "stream",
     "text": [
      "[LightGBM] [Warning] Accuracy may be bad since you didn't explicitly set num_leaves OR 2^max_depth > num_leaves. (num_leaves=31).\n",
      "[LightGBM] [Warning] Accuracy may be bad since you didn't explicitly set num_leaves OR 2^max_depth > num_leaves. (num_leaves=31).\n",
      "[LightGBM] [Warning] Auto-choosing row-wise multi-threading, the overhead of testing was 0.003407 seconds.\n",
      "You can set `force_row_wise=true` to remove the overhead.\n",
      "And if memory is not enough, you can set `force_col_wise=true`.\n",
      "[LightGBM] [Info] Total Bins 554\n",
      "[LightGBM] [Info] Number of data points in the train set: 135530, number of used features: 8\n",
      "[LightGBM] [Info] Start training from score 5292.030687\n"
     ]
    },
    {
     "name": "stderr",
     "output_type": "stream",
     "text": [
      "\u001b[32m[I 2023-05-13 18:46:12,112]\u001b[0m Trial 34 finished with value: 1764.6111309719736 and parameters: {'learning_rate': 0.07246305748575947, 'max_depth': 8}. Best is trial 21 with value: 1739.9712420260557.\u001b[0m\n"
     ]
    },
    {
     "name": "stdout",
     "output_type": "stream",
     "text": [
      "[LightGBM] [Warning] Accuracy may be bad since you didn't explicitly set num_leaves OR 2^max_depth > num_leaves. (num_leaves=31).\n",
      "[LightGBM] [Warning] Accuracy may be bad since you didn't explicitly set num_leaves OR 2^max_depth > num_leaves. (num_leaves=31).\n",
      "[LightGBM] [Warning] Auto-choosing row-wise multi-threading, the overhead of testing was 0.003573 seconds.\n",
      "You can set `force_row_wise=true` to remove the overhead.\n",
      "And if memory is not enough, you can set `force_col_wise=true`.\n",
      "[LightGBM] [Info] Total Bins 554\n",
      "[LightGBM] [Info] Number of data points in the train set: 135530, number of used features: 8\n",
      "[LightGBM] [Info] Start training from score 5293.465956\n"
     ]
    },
    {
     "name": "stderr",
     "output_type": "stream",
     "text": [
      "\u001b[32m[I 2023-05-13 18:46:12,660]\u001b[0m Trial 35 finished with value: 1783.6835495774787 and parameters: {'learning_rate': 0.06097436397622548, 'max_depth': 7}. Best is trial 21 with value: 1739.9712420260557.\u001b[0m\n"
     ]
    },
    {
     "name": "stdout",
     "output_type": "stream",
     "text": [
      "[LightGBM] [Warning] Accuracy may be bad since you didn't explicitly set num_leaves OR 2^max_depth > num_leaves. (num_leaves=31).\n",
      "[LightGBM] [Warning] Accuracy may be bad since you didn't explicitly set num_leaves OR 2^max_depth > num_leaves. (num_leaves=31).\n",
      "[LightGBM] [Warning] Auto-choosing row-wise multi-threading, the overhead of testing was 0.003062 seconds.\n",
      "You can set `force_row_wise=true` to remove the overhead.\n",
      "And if memory is not enough, you can set `force_col_wise=true`.\n",
      "[LightGBM] [Info] Total Bins 555\n",
      "[LightGBM] [Info] Number of data points in the train set: 135530, number of used features: 8\n",
      "[LightGBM] [Info] Start training from score 5290.012425\n"
     ]
    },
    {
     "name": "stderr",
     "output_type": "stream",
     "text": [
      "\u001b[32m[I 2023-05-13 18:46:13,314]\u001b[0m Trial 36 finished with value: 1805.5231828813694 and parameters: {'learning_rate': 0.05661033949929553, 'max_depth': 6}. Best is trial 21 with value: 1739.9712420260557.\u001b[0m\n"
     ]
    },
    {
     "name": "stdout",
     "output_type": "stream",
     "text": [
      "[LightGBM] [Warning] Accuracy may be bad since you didn't explicitly set num_leaves OR 2^max_depth > num_leaves. (num_leaves=31).\n",
      "[LightGBM] [Warning] Accuracy may be bad since you didn't explicitly set num_leaves OR 2^max_depth > num_leaves. (num_leaves=31).\n",
      "[LightGBM] [Warning] Auto-choosing col-wise multi-threading, the overhead of testing was 0.003630 seconds.\n",
      "You can set `force_col_wise=true` to remove the overhead.\n",
      "[LightGBM] [Info] Total Bins 558\n",
      "[LightGBM] [Info] Number of data points in the train set: 135530, number of used features: 8\n",
      "[LightGBM] [Info] Start training from score 5281.833387\n"
     ]
    },
    {
     "name": "stderr",
     "output_type": "stream",
     "text": [
      "\u001b[32m[I 2023-05-13 18:46:14,045]\u001b[0m Trial 37 finished with value: 1771.3701725329288 and parameters: {'learning_rate': 0.07940943996804625, 'max_depth': 8}. Best is trial 21 with value: 1739.9712420260557.\u001b[0m\n"
     ]
    },
    {
     "name": "stdout",
     "output_type": "stream",
     "text": [
      "[LightGBM] [Warning] Accuracy may be bad since you didn't explicitly set num_leaves OR 2^max_depth > num_leaves. (num_leaves=31).\n",
      "[LightGBM] [Warning] Accuracy may be bad since you didn't explicitly set num_leaves OR 2^max_depth > num_leaves. (num_leaves=31).\n",
      "[LightGBM] [Warning] Auto-choosing row-wise multi-threading, the overhead of testing was 0.003805 seconds.\n",
      "You can set `force_row_wise=true` to remove the overhead.\n",
      "And if memory is not enough, you can set `force_col_wise=true`.\n",
      "[LightGBM] [Info] Total Bins 555\n",
      "[LightGBM] [Info] Number of data points in the train set: 135530, number of used features: 8\n",
      "[LightGBM] [Info] Start training from score 5282.614388\n"
     ]
    },
    {
     "name": "stderr",
     "output_type": "stream",
     "text": [
      "\u001b[32m[I 2023-05-13 18:46:14,751]\u001b[0m Trial 38 finished with value: 1804.4389593135925 and parameters: {'learning_rate': 0.0686343256802565, 'max_depth': 8}. Best is trial 21 with value: 1739.9712420260557.\u001b[0m\n"
     ]
    },
    {
     "name": "stdout",
     "output_type": "stream",
     "text": [
      "[LightGBM] [Warning] Auto-choosing row-wise multi-threading, the overhead of testing was 0.015164 seconds.\n",
      "You can set `force_row_wise=true` to remove the overhead.\n",
      "And if memory is not enough, you can set `force_col_wise=true`.\n",
      "[LightGBM] [Info] Total Bins 554\n",
      "[LightGBM] [Info] Number of data points in the train set: 135530, number of used features: 8\n",
      "[LightGBM] [Info] Start training from score 5287.087899\n",
      "[LightGBM] [Warning] No further splits with positive gain, best gain: -inf\n",
      "[LightGBM] [Warning] No further splits with positive gain, best gain: -inf\n",
      "[LightGBM] [Warning] No further splits with positive gain, best gain: -inf\n",
      "[LightGBM] [Warning] No further splits with positive gain, best gain: -inf\n",
      "[LightGBM] [Warning] No further splits with positive gain, best gain: -inf\n",
      "[LightGBM] [Warning] No further splits with positive gain, best gain: -inf\n",
      "[LightGBM] [Warning] No further splits with positive gain, best gain: -inf\n"
     ]
    },
    {
     "name": "stderr",
     "output_type": "stream",
     "text": [
      "\u001b[32m[I 2023-05-13 18:46:15,083]\u001b[0m Trial 39 finished with value: 1856.9875025748775 and parameters: {'learning_rate': 0.06590518174128618, 'max_depth': 4}. Best is trial 21 with value: 1739.9712420260557.\u001b[0m\n"
     ]
    },
    {
     "name": "stdout",
     "output_type": "stream",
     "text": [
      "[LightGBM] [Warning] Accuracy may be bad since you didn't explicitly set num_leaves OR 2^max_depth > num_leaves. (num_leaves=31).\n",
      "[LightGBM] [Warning] Accuracy may be bad since you didn't explicitly set num_leaves OR 2^max_depth > num_leaves. (num_leaves=31).\n",
      "[LightGBM] [Warning] Auto-choosing row-wise multi-threading, the overhead of testing was 0.004983 seconds.\n",
      "You can set `force_row_wise=true` to remove the overhead.\n",
      "And if memory is not enough, you can set `force_col_wise=true`.\n",
      "[LightGBM] [Info] Total Bins 555\n",
      "[LightGBM] [Info] Number of data points in the train set: 135530, number of used features: 8\n",
      "[LightGBM] [Info] Start training from score 5291.769689\n"
     ]
    },
    {
     "name": "stderr",
     "output_type": "stream",
     "text": [
      "\u001b[32m[I 2023-05-13 18:46:15,797]\u001b[0m Trial 40 finished with value: 1782.5570886556802 and parameters: {'learning_rate': 0.06210204844407454, 'max_depth': 6}. Best is trial 21 with value: 1739.9712420260557.\u001b[0m\n"
     ]
    },
    {
     "name": "stdout",
     "output_type": "stream",
     "text": [
      "[LightGBM] [Warning] Accuracy may be bad since you didn't explicitly set num_leaves OR 2^max_depth > num_leaves. (num_leaves=31).\n",
      "[LightGBM] [Warning] Accuracy may be bad since you didn't explicitly set num_leaves OR 2^max_depth > num_leaves. (num_leaves=31).\n",
      "[LightGBM] [Warning] Auto-choosing row-wise multi-threading, the overhead of testing was 0.003175 seconds.\n",
      "You can set `force_row_wise=true` to remove the overhead.\n",
      "And if memory is not enough, you can set `force_col_wise=true`.\n",
      "[LightGBM] [Info] Total Bins 554\n",
      "[LightGBM] [Info] Number of data points in the train set: 135530, number of used features: 8\n",
      "[LightGBM] [Info] Start training from score 5292.141039\n"
     ]
    },
    {
     "name": "stderr",
     "output_type": "stream",
     "text": [
      "\u001b[32m[I 2023-05-13 18:46:16,512]\u001b[0m Trial 41 finished with value: 1769.258180033866 and parameters: {'learning_rate': 0.07696887759719007, 'max_depth': 8}. Best is trial 21 with value: 1739.9712420260557.\u001b[0m\n"
     ]
    },
    {
     "name": "stdout",
     "output_type": "stream",
     "text": [
      "[LightGBM] [Warning] Accuracy may be bad since you didn't explicitly set num_leaves OR 2^max_depth > num_leaves. (num_leaves=31).\n",
      "[LightGBM] [Warning] Accuracy may be bad since you didn't explicitly set num_leaves OR 2^max_depth > num_leaves. (num_leaves=31).\n",
      "[LightGBM] [Warning] Auto-choosing row-wise multi-threading, the overhead of testing was 0.003657 seconds.\n",
      "You can set `force_row_wise=true` to remove the overhead.\n",
      "And if memory is not enough, you can set `force_col_wise=true`.\n",
      "[LightGBM] [Info] Total Bins 552\n",
      "[LightGBM] [Info] Number of data points in the train set: 135530, number of used features: 8\n",
      "[LightGBM] [Info] Start training from score 5291.647133\n"
     ]
    },
    {
     "name": "stderr",
     "output_type": "stream",
     "text": [
      "\u001b[32m[I 2023-05-13 18:46:17,244]\u001b[0m Trial 42 finished with value: 1742.4702713717716 and parameters: {'learning_rate': 0.07861664831052051, 'max_depth': 7}. Best is trial 21 with value: 1739.9712420260557.\u001b[0m\n"
     ]
    },
    {
     "name": "stdout",
     "output_type": "stream",
     "text": [
      "[LightGBM] [Warning] Accuracy may be bad since you didn't explicitly set num_leaves OR 2^max_depth > num_leaves. (num_leaves=31).\n",
      "[LightGBM] [Warning] Accuracy may be bad since you didn't explicitly set num_leaves OR 2^max_depth > num_leaves. (num_leaves=31).\n",
      "[LightGBM] [Warning] Auto-choosing row-wise multi-threading, the overhead of testing was 0.003816 seconds.\n",
      "You can set `force_row_wise=true` to remove the overhead.\n",
      "And if memory is not enough, you can set `force_col_wise=true`.\n",
      "[LightGBM] [Info] Total Bins 554\n",
      "[LightGBM] [Info] Number of data points in the train set: 135530, number of used features: 8\n",
      "[LightGBM] [Info] Start training from score 5284.860326\n"
     ]
    },
    {
     "name": "stderr",
     "output_type": "stream",
     "text": [
      "\u001b[32m[I 2023-05-13 18:46:17,934]\u001b[0m Trial 43 finished with value: 1765.1176853750364 and parameters: {'learning_rate': 0.07943143349740092, 'max_depth': 7}. Best is trial 21 with value: 1739.9712420260557.\u001b[0m\n"
     ]
    },
    {
     "name": "stdout",
     "output_type": "stream",
     "text": [
      "[LightGBM] [Warning] Accuracy may be bad since you didn't explicitly set num_leaves OR 2^max_depth > num_leaves. (num_leaves=31).\n",
      "[LightGBM] [Warning] Accuracy may be bad since you didn't explicitly set num_leaves OR 2^max_depth > num_leaves. (num_leaves=31).\n",
      "[LightGBM] [Warning] Auto-choosing row-wise multi-threading, the overhead of testing was 0.003903 seconds.\n",
      "You can set `force_row_wise=true` to remove the overhead.\n",
      "And if memory is not enough, you can set `force_col_wise=true`.\n",
      "[LightGBM] [Info] Total Bins 552\n",
      "[LightGBM] [Info] Number of data points in the train set: 135530, number of used features: 8\n",
      "[LightGBM] [Info] Start training from score 5278.625596\n"
     ]
    },
    {
     "name": "stderr",
     "output_type": "stream",
     "text": [
      "\u001b[32m[I 2023-05-13 18:46:18,587]\u001b[0m Trial 44 finished with value: 1781.2903124597622 and parameters: {'learning_rate': 0.0734331463454348, 'max_depth': 8}. Best is trial 21 with value: 1739.9712420260557.\u001b[0m\n"
     ]
    },
    {
     "name": "stdout",
     "output_type": "stream",
     "text": [
      "[LightGBM] [Warning] Accuracy may be bad since you didn't explicitly set num_leaves OR 2^max_depth > num_leaves. (num_leaves=31).\n",
      "[LightGBM] [Warning] Accuracy may be bad since you didn't explicitly set num_leaves OR 2^max_depth > num_leaves. (num_leaves=31).\n",
      "[LightGBM] [Warning] Auto-choosing row-wise multi-threading, the overhead of testing was 0.004047 seconds.\n",
      "You can set `force_row_wise=true` to remove the overhead.\n",
      "And if memory is not enough, you can set `force_col_wise=true`.\n",
      "[LightGBM] [Info] Total Bins 554\n",
      "[LightGBM] [Info] Number of data points in the train set: 135530, number of used features: 8\n",
      "[LightGBM] [Info] Start training from score 5291.244189\n"
     ]
    },
    {
     "name": "stderr",
     "output_type": "stream",
     "text": [
      "\u001b[32m[I 2023-05-13 18:46:19,237]\u001b[0m Trial 45 finished with value: 1796.6858271147337 and parameters: {'learning_rate': 0.0708390705308032, 'max_depth': 7}. Best is trial 21 with value: 1739.9712420260557.\u001b[0m\n"
     ]
    },
    {
     "name": "stdout",
     "output_type": "stream",
     "text": [
      "[LightGBM] [Warning] Accuracy may be bad since you didn't explicitly set num_leaves OR 2^max_depth > num_leaves. (num_leaves=31).\n",
      "[LightGBM] [Warning] Accuracy may be bad since you didn't explicitly set num_leaves OR 2^max_depth > num_leaves. (num_leaves=31).\n",
      "[LightGBM] [Warning] Auto-choosing row-wise multi-threading, the overhead of testing was 0.003955 seconds.\n",
      "You can set `force_row_wise=true` to remove the overhead.\n",
      "And if memory is not enough, you can set `force_col_wise=true`.\n",
      "[LightGBM] [Info] Total Bins 553\n",
      "[LightGBM] [Info] Number of data points in the train set: 135530, number of used features: 8\n",
      "[LightGBM] [Info] Start training from score 5286.767491\n"
     ]
    },
    {
     "name": "stderr",
     "output_type": "stream",
     "text": [
      "\u001b[32m[I 2023-05-13 18:46:19,885]\u001b[0m Trial 46 finished with value: 1767.202671493474 and parameters: {'learning_rate': 0.06674726453964064, 'max_depth': 8}. Best is trial 21 with value: 1739.9712420260557.\u001b[0m\n"
     ]
    },
    {
     "name": "stdout",
     "output_type": "stream",
     "text": [
      "[LightGBM] [Warning] Accuracy may be bad since you didn't explicitly set num_leaves OR 2^max_depth > num_leaves. (num_leaves=31).\n",
      "[LightGBM] [Warning] Accuracy may be bad since you didn't explicitly set num_leaves OR 2^max_depth > num_leaves. (num_leaves=31).\n",
      "[LightGBM] [Warning] Auto-choosing row-wise multi-threading, the overhead of testing was 0.009225 seconds.\n",
      "You can set `force_row_wise=true` to remove the overhead.\n",
      "And if memory is not enough, you can set `force_col_wise=true`.\n",
      "[LightGBM] [Info] Total Bins 556\n",
      "[LightGBM] [Info] Number of data points in the train set: 135530, number of used features: 8\n",
      "[LightGBM] [Info] Start training from score 5292.305851\n"
     ]
    },
    {
     "name": "stderr",
     "output_type": "stream",
     "text": [
      "\u001b[32m[I 2023-05-13 18:46:20,609]\u001b[0m Trial 47 finished with value: 1765.0262419509309 and parameters: {'learning_rate': 0.057381493098935116, 'max_depth': 7}. Best is trial 21 with value: 1739.9712420260557.\u001b[0m\n"
     ]
    },
    {
     "name": "stdout",
     "output_type": "stream",
     "text": [
      "[LightGBM] [Warning] Accuracy may be bad since you didn't explicitly set num_leaves OR 2^max_depth > num_leaves. (num_leaves=31).\n",
      "[LightGBM] [Warning] Accuracy may be bad since you didn't explicitly set num_leaves OR 2^max_depth > num_leaves. (num_leaves=31).\n",
      "[LightGBM] [Warning] Auto-choosing row-wise multi-threading, the overhead of testing was 0.003548 seconds.\n",
      "You can set `force_row_wise=true` to remove the overhead.\n",
      "And if memory is not enough, you can set `force_col_wise=true`.\n",
      "[LightGBM] [Info] Total Bins 555\n",
      "[LightGBM] [Info] Number of data points in the train set: 135530, number of used features: 8\n",
      "[LightGBM] [Info] Start training from score 5283.266517\n"
     ]
    },
    {
     "name": "stderr",
     "output_type": "stream",
     "text": [
      "\u001b[32m[I 2023-05-13 18:46:21,282]\u001b[0m Trial 48 finished with value: 1758.6381637077043 and parameters: {'learning_rate': 0.07512237414746505, 'max_depth': 8}. Best is trial 21 with value: 1739.9712420260557.\u001b[0m\n"
     ]
    },
    {
     "name": "stdout",
     "output_type": "stream",
     "text": [
      "[LightGBM] [Warning] Auto-choosing row-wise multi-threading, the overhead of testing was 0.003393 seconds.\n",
      "You can set `force_row_wise=true` to remove the overhead.\n",
      "And if memory is not enough, you can set `force_col_wise=true`.\n",
      "[LightGBM] [Info] Total Bins 551\n",
      "[LightGBM] [Info] Number of data points in the train set: 135530, number of used features: 8\n",
      "[LightGBM] [Info] Start training from score 5283.702516\n"
     ]
    },
    {
     "name": "stderr",
     "output_type": "stream",
     "text": [
      "\u001b[32m[I 2023-05-13 18:46:21,675]\u001b[0m Trial 49 finished with value: 1933.4036365540774 and parameters: {'learning_rate': 0.06296591796237656, 'max_depth': 3}. Best is trial 21 with value: 1739.9712420260557.\u001b[0m\n"
     ]
    },
    {
     "name": "stdout",
     "output_type": "stream",
     "text": [
      "[LightGBM] [Warning] Accuracy may be bad since you didn't explicitly set num_leaves OR 2^max_depth > num_leaves. (num_leaves=31).\n",
      "[LightGBM] [Warning] Accuracy may be bad since you didn't explicitly set num_leaves OR 2^max_depth > num_leaves. (num_leaves=31).\n",
      "[LightGBM] [Warning] Auto-choosing row-wise multi-threading, the overhead of testing was 0.003640 seconds.\n",
      "You can set `force_row_wise=true` to remove the overhead.\n",
      "And if memory is not enough, you can set `force_col_wise=true`.\n",
      "[LightGBM] [Info] Total Bins 558\n",
      "[LightGBM] [Info] Number of data points in the train set: 135530, number of used features: 8\n",
      "[LightGBM] [Info] Start training from score 5287.467365\n",
      "[LightGBM] [Warning] No further splits with positive gain, best gain: -inf\n",
      "[LightGBM] [Warning] No further splits with positive gain, best gain: -inf\n",
      "[LightGBM] [Warning] No further splits with positive gain, best gain: -inf\n",
      "[LightGBM] [Warning] No further splits with positive gain, best gain: -inf\n",
      "[LightGBM] [Warning] No further splits with positive gain, best gain: -inf\n",
      "[LightGBM] [Warning] No further splits with positive gain, best gain: -inf\n",
      "[LightGBM] [Warning] No further splits with positive gain, best gain: -inf\n",
      "[LightGBM] [Warning] No further splits with positive gain, best gain: -inf\n",
      "[LightGBM] [Warning] No further splits with positive gain, best gain: -inf\n",
      "[LightGBM] [Warning] No further splits with positive gain, best gain: -inf\n",
      "[LightGBM] [Warning] No further splits with positive gain, best gain: -inf\n",
      "[LightGBM] [Warning] No further splits with positive gain, best gain: -inf\n",
      "[LightGBM] [Warning] No further splits with positive gain, best gain: -inf\n"
     ]
    },
    {
     "name": "stderr",
     "output_type": "stream",
     "text": [
      "\u001b[32m[I 2023-05-13 18:46:22,265]\u001b[0m Trial 50 finished with value: 1800.8761223729057 and parameters: {'learning_rate': 0.07796737037093342, 'max_depth': 5}. Best is trial 21 with value: 1739.9712420260557.\u001b[0m\n"
     ]
    },
    {
     "name": "stdout",
     "output_type": "stream",
     "text": [
      "[LightGBM] [Warning] No further splits with positive gain, best gain: -inf\n",
      "[LightGBM] [Warning] No further splits with positive gain, best gain: -inf\n",
      "[LightGBM] [Warning] No further splits with positive gain, best gain: -inf\n",
      "[LightGBM] [Warning] No further splits with positive gain, best gain: -inf\n",
      "[LightGBM] [Warning] No further splits with positive gain, best gain: -inf\n",
      "[LightGBM] [Warning] No further splits with positive gain, best gain: -inf\n",
      "[LightGBM] [Warning] No further splits with positive gain, best gain: -inf\n",
      "[LightGBM] [Warning] No further splits with positive gain, best gain: -inf\n",
      "[LightGBM] [Warning] No further splits with positive gain, best gain: -inf\n",
      "[LightGBM] [Warning] No further splits with positive gain, best gain: -inf\n",
      "[LightGBM] [Warning] No further splits with positive gain, best gain: -inf\n",
      "[LightGBM] [Warning] No further splits with positive gain, best gain: -inf\n",
      "[LightGBM] [Warning] No further splits with positive gain, best gain: -inf\n",
      "[LightGBM] [Warning] No further splits with positive gain, best gain: -inf\n",
      "[LightGBM] [Warning] No further splits with positive gain, best gain: -inf\n",
      "[LightGBM] [Warning] No further splits with positive gain, best gain: -inf\n",
      "[LightGBM] [Warning] No further splits with positive gain, best gain: -inf\n",
      "[LightGBM] [Warning] No further splits with positive gain, best gain: -inf\n",
      "[LightGBM] [Warning] No further splits with positive gain, best gain: -inf\n",
      "[LightGBM] [Warning] Accuracy may be bad since you didn't explicitly set num_leaves OR 2^max_depth > num_leaves. (num_leaves=31).\n",
      "[LightGBM] [Warning] Accuracy may be bad since you didn't explicitly set num_leaves OR 2^max_depth > num_leaves. (num_leaves=31).\n",
      "[LightGBM] [Warning] Auto-choosing row-wise multi-threading, the overhead of testing was 0.004166 seconds.\n",
      "You can set `force_row_wise=true` to remove the overhead.\n",
      "And if memory is not enough, you can set `force_col_wise=true`.\n",
      "[LightGBM] [Info] Total Bins 556\n",
      "[LightGBM] [Info] Number of data points in the train set: 135530, number of used features: 8\n",
      "[LightGBM] [Info] Start training from score 5282.360422\n"
     ]
    },
    {
     "name": "stderr",
     "output_type": "stream",
     "text": [
      "\u001b[32m[I 2023-05-13 18:46:22,843]\u001b[0m Trial 51 finished with value: 1780.5311041489535 and parameters: {'learning_rate': 0.07183133888438313, 'max_depth': 8}. Best is trial 21 with value: 1739.9712420260557.\u001b[0m\n"
     ]
    },
    {
     "name": "stdout",
     "output_type": "stream",
     "text": [
      "[LightGBM] [Warning] Accuracy may be bad since you didn't explicitly set num_leaves OR 2^max_depth > num_leaves. (num_leaves=31).\n",
      "[LightGBM] [Warning] Accuracy may be bad since you didn't explicitly set num_leaves OR 2^max_depth > num_leaves. (num_leaves=31).\n",
      "[LightGBM] [Warning] Auto-choosing row-wise multi-threading, the overhead of testing was 0.003699 seconds.\n",
      "You can set `force_row_wise=true` to remove the overhead.\n",
      "And if memory is not enough, you can set `force_col_wise=true`.\n",
      "[LightGBM] [Info] Total Bins 555\n",
      "[LightGBM] [Info] Number of data points in the train set: 135530, number of used features: 8\n",
      "[LightGBM] [Info] Start training from score 5286.372810\n"
     ]
    },
    {
     "name": "stderr",
     "output_type": "stream",
     "text": [
      "\u001b[32m[I 2023-05-13 18:46:23,439]\u001b[0m Trial 52 finished with value: 1760.3051762767486 and parameters: {'learning_rate': 0.07636190551232053, 'max_depth': 8}. Best is trial 21 with value: 1739.9712420260557.\u001b[0m\n"
     ]
    },
    {
     "name": "stdout",
     "output_type": "stream",
     "text": [
      "[LightGBM] [Warning] Accuracy may be bad since you didn't explicitly set num_leaves OR 2^max_depth > num_leaves. (num_leaves=31).\n",
      "[LightGBM] [Warning] Accuracy may be bad since you didn't explicitly set num_leaves OR 2^max_depth > num_leaves. (num_leaves=31).\n",
      "[LightGBM] [Warning] Auto-choosing row-wise multi-threading, the overhead of testing was 0.003527 seconds.\n",
      "You can set `force_row_wise=true` to remove the overhead.\n",
      "And if memory is not enough, you can set `force_col_wise=true`.\n",
      "[LightGBM] [Info] Total Bins 553\n",
      "[LightGBM] [Info] Number of data points in the train set: 135530, number of used features: 8\n",
      "[LightGBM] [Info] Start training from score 5287.291183\n"
     ]
    },
    {
     "name": "stderr",
     "output_type": "stream",
     "text": [
      "\u001b[32m[I 2023-05-13 18:46:23,945]\u001b[0m Trial 53 finished with value: 1768.2881408245019 and parameters: {'learning_rate': 0.08457863087824902, 'max_depth': 7}. Best is trial 21 with value: 1739.9712420260557.\u001b[0m\n"
     ]
    },
    {
     "name": "stdout",
     "output_type": "stream",
     "text": [
      "[LightGBM] [Warning] Accuracy may be bad since you didn't explicitly set num_leaves OR 2^max_depth > num_leaves. (num_leaves=31).\n",
      "[LightGBM] [Warning] Accuracy may be bad since you didn't explicitly set num_leaves OR 2^max_depth > num_leaves. (num_leaves=31).\n",
      "[LightGBM] [Warning] Auto-choosing row-wise multi-threading, the overhead of testing was 0.003449 seconds.\n",
      "You can set `force_row_wise=true` to remove the overhead.\n",
      "And if memory is not enough, you can set `force_col_wise=true`.\n",
      "[LightGBM] [Info] Total Bins 555\n",
      "[LightGBM] [Info] Number of data points in the train set: 135530, number of used features: 8\n",
      "[LightGBM] [Info] Start training from score 5290.656770\n"
     ]
    },
    {
     "name": "stderr",
     "output_type": "stream",
     "text": [
      "\u001b[32m[I 2023-05-13 18:46:24,578]\u001b[0m Trial 54 finished with value: 1767.6657336451563 and parameters: {'learning_rate': 0.08195346785577644, 'max_depth': 8}. Best is trial 21 with value: 1739.9712420260557.\u001b[0m\n"
     ]
    },
    {
     "name": "stdout",
     "output_type": "stream",
     "text": [
      "[LightGBM] [Warning] Accuracy may be bad since you didn't explicitly set num_leaves OR 2^max_depth > num_leaves. (num_leaves=31).\n",
      "[LightGBM] [Warning] Accuracy may be bad since you didn't explicitly set num_leaves OR 2^max_depth > num_leaves. (num_leaves=31).\n",
      "[LightGBM] [Warning] Auto-choosing row-wise multi-threading, the overhead of testing was 0.003465 seconds.\n",
      "You can set `force_row_wise=true` to remove the overhead.\n",
      "And if memory is not enough, you can set `force_col_wise=true`.\n",
      "[LightGBM] [Info] Total Bins 554\n",
      "[LightGBM] [Info] Number of data points in the train set: 135530, number of used features: 8\n",
      "[LightGBM] [Info] Start training from score 5289.708006\n"
     ]
    },
    {
     "name": "stderr",
     "output_type": "stream",
     "text": [
      "\u001b[32m[I 2023-05-13 18:46:25,096]\u001b[0m Trial 55 finished with value: 1777.0583954935319 and parameters: {'learning_rate': 0.06910166437716496, 'max_depth': 7}. Best is trial 21 with value: 1739.9712420260557.\u001b[0m\n"
     ]
    },
    {
     "name": "stdout",
     "output_type": "stream",
     "text": [
      "[LightGBM] [Warning] Accuracy may be bad since you didn't explicitly set num_leaves OR 2^max_depth > num_leaves. (num_leaves=31).\n",
      "[LightGBM] [Warning] Accuracy may be bad since you didn't explicitly set num_leaves OR 2^max_depth > num_leaves. (num_leaves=31).\n",
      "[LightGBM] [Warning] Auto-choosing row-wise multi-threading, the overhead of testing was 0.003505 seconds.\n",
      "You can set `force_row_wise=true` to remove the overhead.\n",
      "And if memory is not enough, you can set `force_col_wise=true`.\n",
      "[LightGBM] [Info] Total Bins 552\n",
      "[LightGBM] [Info] Number of data points in the train set: 135530, number of used features: 8\n",
      "[LightGBM] [Info] Start training from score 5292.625242\n"
     ]
    },
    {
     "name": "stderr",
     "output_type": "stream",
     "text": [
      "\u001b[32m[I 2023-05-13 18:46:25,570]\u001b[0m Trial 56 finished with value: 1757.943037051132 and parameters: {'learning_rate': 0.07408662325565117, 'max_depth': 8}. Best is trial 21 with value: 1739.9712420260557.\u001b[0m\n"
     ]
    },
    {
     "name": "stdout",
     "output_type": "stream",
     "text": [
      "[LightGBM] [Warning] Accuracy may be bad since you didn't explicitly set num_leaves OR 2^max_depth > num_leaves. (num_leaves=31).\n",
      "[LightGBM] [Warning] Accuracy may be bad since you didn't explicitly set num_leaves OR 2^max_depth > num_leaves. (num_leaves=31).\n",
      "[LightGBM] [Warning] Auto-choosing row-wise multi-threading, the overhead of testing was 0.003582 seconds.\n",
      "You can set `force_row_wise=true` to remove the overhead.\n",
      "And if memory is not enough, you can set `force_col_wise=true`.\n",
      "[LightGBM] [Info] Total Bins 556\n",
      "[LightGBM] [Info] Number of data points in the train set: 135530, number of used features: 8\n",
      "[LightGBM] [Info] Start training from score 5281.639785\n"
     ]
    },
    {
     "name": "stderr",
     "output_type": "stream",
     "text": [
      "\u001b[32m[I 2023-05-13 18:46:26,151]\u001b[0m Trial 57 finished with value: 1771.3538554727297 and parameters: {'learning_rate': 0.07798857948348328, 'max_depth': 8}. Best is trial 21 with value: 1739.9712420260557.\u001b[0m\n"
     ]
    },
    {
     "name": "stdout",
     "output_type": "stream",
     "text": [
      "[LightGBM] [Warning] Accuracy may be bad since you didn't explicitly set num_leaves OR 2^max_depth > num_leaves. (num_leaves=31).\n",
      "[LightGBM] [Warning] Accuracy may be bad since you didn't explicitly set num_leaves OR 2^max_depth > num_leaves. (num_leaves=31).\n",
      "[LightGBM] [Warning] Auto-choosing row-wise multi-threading, the overhead of testing was 0.003357 seconds.\n",
      "You can set `force_row_wise=true` to remove the overhead.\n",
      "And if memory is not enough, you can set `force_col_wise=true`.\n",
      "[LightGBM] [Info] Total Bins 552\n",
      "[LightGBM] [Info] Number of data points in the train set: 135530, number of used features: 8\n",
      "[LightGBM] [Info] Start training from score 5271.122216\n"
     ]
    },
    {
     "name": "stderr",
     "output_type": "stream",
     "text": [
      "\u001b[32m[I 2023-05-13 18:46:26,571]\u001b[0m Trial 58 finished with value: 1792.337750174741 and parameters: {'learning_rate': 0.06404344431507797, 'max_depth': 7}. Best is trial 21 with value: 1739.9712420260557.\u001b[0m\n"
     ]
    },
    {
     "name": "stdout",
     "output_type": "stream",
     "text": [
      "[LightGBM] [Warning] Accuracy may be bad since you didn't explicitly set num_leaves OR 2^max_depth > num_leaves. (num_leaves=31).\n",
      "[LightGBM] [Warning] Accuracy may be bad since you didn't explicitly set num_leaves OR 2^max_depth > num_leaves. (num_leaves=31).\n",
      "[LightGBM] [Warning] Auto-choosing row-wise multi-threading, the overhead of testing was 0.003429 seconds.\n",
      "You can set `force_row_wise=true` to remove the overhead.\n",
      "And if memory is not enough, you can set `force_col_wise=true`.\n",
      "[LightGBM] [Info] Total Bins 557\n",
      "[LightGBM] [Info] Number of data points in the train set: 135530, number of used features: 8\n",
      "[LightGBM] [Info] Start training from score 5280.017944\n"
     ]
    },
    {
     "name": "stderr",
     "output_type": "stream",
     "text": [
      "\u001b[32m[I 2023-05-13 18:46:26,929]\u001b[0m Trial 59 finished with value: 1764.711979841733 and parameters: {'learning_rate': 0.06752140376091435, 'max_depth': 8}. Best is trial 21 with value: 1739.9712420260557.\u001b[0m\n"
     ]
    },
    {
     "name": "stdout",
     "output_type": "stream",
     "text": [
      "[LightGBM] [Warning] Accuracy may be bad since you didn't explicitly set num_leaves OR 2^max_depth > num_leaves. (num_leaves=31).\n",
      "[LightGBM] [Warning] Accuracy may be bad since you didn't explicitly set num_leaves OR 2^max_depth > num_leaves. (num_leaves=31).\n",
      "[LightGBM] [Warning] Auto-choosing row-wise multi-threading, the overhead of testing was 0.003460 seconds.\n",
      "You can set `force_row_wise=true` to remove the overhead.\n",
      "And if memory is not enough, you can set `force_col_wise=true`.\n",
      "[LightGBM] [Info] Total Bins 555\n",
      "[LightGBM] [Info] Number of data points in the train set: 135530, number of used features: 8\n",
      "[LightGBM] [Info] Start training from score 5275.650173\n"
     ]
    },
    {
     "name": "stderr",
     "output_type": "stream",
     "text": [
      "\u001b[32m[I 2023-05-13 18:46:27,367]\u001b[0m Trial 60 finished with value: 1794.2027405232627 and parameters: {'learning_rate': 0.07078170262979001, 'max_depth': 6}. Best is trial 21 with value: 1739.9712420260557.\u001b[0m\n"
     ]
    },
    {
     "name": "stdout",
     "output_type": "stream",
     "text": [
      "[LightGBM] [Warning] No further splits with positive gain, best gain: -inf\n",
      "[LightGBM] [Warning] Accuracy may be bad since you didn't explicitly set num_leaves OR 2^max_depth > num_leaves. (num_leaves=31).\n",
      "[LightGBM] [Warning] Accuracy may be bad since you didn't explicitly set num_leaves OR 2^max_depth > num_leaves. (num_leaves=31).\n",
      "[LightGBM] [Warning] Auto-choosing row-wise multi-threading, the overhead of testing was 0.003650 seconds.\n",
      "You can set `force_row_wise=true` to remove the overhead.\n",
      "And if memory is not enough, you can set `force_col_wise=true`.\n",
      "[LightGBM] [Info] Total Bins 552\n",
      "[LightGBM] [Info] Number of data points in the train set: 135530, number of used features: 8\n",
      "[LightGBM] [Info] Start training from score 5280.013348\n"
     ]
    },
    {
     "name": "stderr",
     "output_type": "stream",
     "text": [
      "\u001b[32m[I 2023-05-13 18:46:27,787]\u001b[0m Trial 61 finished with value: 1765.4424697254208 and parameters: {'learning_rate': 0.05920065150804913, 'max_depth': 8}. Best is trial 21 with value: 1739.9712420260557.\u001b[0m\n"
     ]
    },
    {
     "name": "stdout",
     "output_type": "stream",
     "text": [
      "[LightGBM] [Warning] Accuracy may be bad since you didn't explicitly set num_leaves OR 2^max_depth > num_leaves. (num_leaves=31).\n",
      "[LightGBM] [Warning] Accuracy may be bad since you didn't explicitly set num_leaves OR 2^max_depth > num_leaves. (num_leaves=31).\n",
      "[LightGBM] [Warning] Auto-choosing row-wise multi-threading, the overhead of testing was 0.003675 seconds.\n",
      "You can set `force_row_wise=true` to remove the overhead.\n",
      "And if memory is not enough, you can set `force_col_wise=true`.\n",
      "[LightGBM] [Info] Total Bins 555\n",
      "[LightGBM] [Info] Number of data points in the train set: 135530, number of used features: 8\n",
      "[LightGBM] [Info] Start training from score 5288.576123\n"
     ]
    },
    {
     "name": "stderr",
     "output_type": "stream",
     "text": [
      "\u001b[32m[I 2023-05-13 18:46:28,187]\u001b[0m Trial 62 finished with value: 1779.5985065279133 and parameters: {'learning_rate': 0.07498798981385814, 'max_depth': 8}. Best is trial 21 with value: 1739.9712420260557.\u001b[0m\n"
     ]
    },
    {
     "name": "stdout",
     "output_type": "stream",
     "text": [
      "[LightGBM] [Warning] Accuracy may be bad since you didn't explicitly set num_leaves OR 2^max_depth > num_leaves. (num_leaves=31).\n",
      "[LightGBM] [Warning] Accuracy may be bad since you didn't explicitly set num_leaves OR 2^max_depth > num_leaves. (num_leaves=31).\n",
      "[LightGBM] [Warning] Auto-choosing row-wise multi-threading, the overhead of testing was 0.003418 seconds.\n",
      "You can set `force_row_wise=true` to remove the overhead.\n",
      "And if memory is not enough, you can set `force_col_wise=true`.\n",
      "[LightGBM] [Info] Total Bins 554\n",
      "[LightGBM] [Info] Number of data points in the train set: 135530, number of used features: 8\n",
      "[LightGBM] [Info] Start training from score 5283.136154\n"
     ]
    },
    {
     "name": "stderr",
     "output_type": "stream",
     "text": [
      "\u001b[32m[I 2023-05-13 18:46:28,671]\u001b[0m Trial 63 finished with value: 1788.4329114178515 and parameters: {'learning_rate': 0.06421259200847024, 'max_depth': 8}. Best is trial 21 with value: 1739.9712420260557.\u001b[0m\n"
     ]
    },
    {
     "name": "stdout",
     "output_type": "stream",
     "text": [
      "[LightGBM] [Warning] Accuracy may be bad since you didn't explicitly set num_leaves OR 2^max_depth > num_leaves. (num_leaves=31).\n",
      "[LightGBM] [Warning] Accuracy may be bad since you didn't explicitly set num_leaves OR 2^max_depth > num_leaves. (num_leaves=31).\n",
      "[LightGBM] [Warning] Auto-choosing row-wise multi-threading, the overhead of testing was 0.004185 seconds.\n",
      "You can set `force_row_wise=true` to remove the overhead.\n",
      "And if memory is not enough, you can set `force_col_wise=true`.\n",
      "[LightGBM] [Info] Total Bins 556\n",
      "[LightGBM] [Info] Number of data points in the train set: 135530, number of used features: 8\n",
      "[LightGBM] [Info] Start training from score 5293.530746\n"
     ]
    },
    {
     "name": "stderr",
     "output_type": "stream",
     "text": [
      "\u001b[32m[I 2023-05-13 18:46:29,064]\u001b[0m Trial 64 finished with value: 1772.772839676857 and parameters: {'learning_rate': 0.07256659577135834, 'max_depth': 8}. Best is trial 21 with value: 1739.9712420260557.\u001b[0m\n"
     ]
    },
    {
     "name": "stdout",
     "output_type": "stream",
     "text": [
      "[LightGBM] [Warning] Accuracy may be bad since you didn't explicitly set num_leaves OR 2^max_depth > num_leaves. (num_leaves=31).\n",
      "[LightGBM] [Warning] Accuracy may be bad since you didn't explicitly set num_leaves OR 2^max_depth > num_leaves. (num_leaves=31).\n",
      "[LightGBM] [Warning] Auto-choosing row-wise multi-threading, the overhead of testing was 0.003524 seconds.\n",
      "You can set `force_row_wise=true` to remove the overhead.\n",
      "And if memory is not enough, you can set `force_col_wise=true`.\n",
      "[LightGBM] [Info] Total Bins 551\n",
      "[LightGBM] [Info] Number of data points in the train set: 135530, number of used features: 8\n",
      "[LightGBM] [Info] Start training from score 5276.588453\n"
     ]
    },
    {
     "name": "stderr",
     "output_type": "stream",
     "text": [
      "\u001b[32m[I 2023-05-13 18:46:29,635]\u001b[0m Trial 65 finished with value: 1774.675793940886 and parameters: {'learning_rate': 0.06756957874053154, 'max_depth': 7}. Best is trial 21 with value: 1739.9712420260557.\u001b[0m\n"
     ]
    },
    {
     "name": "stdout",
     "output_type": "stream",
     "text": [
      "[LightGBM] [Warning] Accuracy may be bad since you didn't explicitly set num_leaves OR 2^max_depth > num_leaves. (num_leaves=31).\n",
      "[LightGBM] [Warning] Accuracy may be bad since you didn't explicitly set num_leaves OR 2^max_depth > num_leaves. (num_leaves=31).\n",
      "[LightGBM] [Warning] Auto-choosing row-wise multi-threading, the overhead of testing was 0.003772 seconds.\n",
      "You can set `force_row_wise=true` to remove the overhead.\n",
      "And if memory is not enough, you can set `force_col_wise=true`.\n",
      "[LightGBM] [Info] Total Bins 551\n",
      "[LightGBM] [Info] Number of data points in the train set: 135530, number of used features: 8\n",
      "[LightGBM] [Info] Start training from score 5267.775489\n"
     ]
    },
    {
     "name": "stderr",
     "output_type": "stream",
     "text": [
      "\u001b[32m[I 2023-05-13 18:46:30,118]\u001b[0m Trial 66 finished with value: 1799.6287782875427 and parameters: {'learning_rate': 0.052634970741121535, 'max_depth': 8}. Best is trial 21 with value: 1739.9712420260557.\u001b[0m\n"
     ]
    },
    {
     "name": "stdout",
     "output_type": "stream",
     "text": [
      "[LightGBM] [Warning] Accuracy may be bad since you didn't explicitly set num_leaves OR 2^max_depth > num_leaves. (num_leaves=31).\n",
      "[LightGBM] [Warning] Accuracy may be bad since you didn't explicitly set num_leaves OR 2^max_depth > num_leaves. (num_leaves=31).\n",
      "[LightGBM] [Warning] Auto-choosing row-wise multi-threading, the overhead of testing was 0.003170 seconds.\n",
      "You can set `force_row_wise=true` to remove the overhead.\n",
      "And if memory is not enough, you can set `force_col_wise=true`.\n",
      "[LightGBM] [Info] Total Bins 557\n",
      "[LightGBM] [Info] Number of data points in the train set: 135530, number of used features: 8\n",
      "[LightGBM] [Info] Start training from score 5290.609474\n"
     ]
    },
    {
     "name": "stderr",
     "output_type": "stream",
     "text": [
      "\u001b[32m[I 2023-05-13 18:46:30,476]\u001b[0m Trial 67 finished with value: 1759.3474850866517 and parameters: {'learning_rate': 0.08151973864890275, 'max_depth': 7}. Best is trial 21 with value: 1739.9712420260557.\u001b[0m\n"
     ]
    },
    {
     "name": "stdout",
     "output_type": "stream",
     "text": [
      "[LightGBM] [Warning] Accuracy may be bad since you didn't explicitly set num_leaves OR 2^max_depth > num_leaves. (num_leaves=31).\n",
      "[LightGBM] [Warning] Accuracy may be bad since you didn't explicitly set num_leaves OR 2^max_depth > num_leaves. (num_leaves=31).\n",
      "[LightGBM] [Warning] Auto-choosing row-wise multi-threading, the overhead of testing was 0.003650 seconds.\n",
      "You can set `force_row_wise=true` to remove the overhead.\n",
      "And if memory is not enough, you can set `force_col_wise=true`.\n",
      "[LightGBM] [Info] Total Bins 556\n",
      "[LightGBM] [Info] Number of data points in the train set: 135530, number of used features: 8\n",
      "[LightGBM] [Info] Start training from score 5287.314941\n"
     ]
    },
    {
     "name": "stderr",
     "output_type": "stream",
     "text": [
      "\u001b[32m[I 2023-05-13 18:46:30,854]\u001b[0m Trial 68 finished with value: 1764.1133389021154 and parameters: {'learning_rate': 0.07054138414779428, 'max_depth': 8}. Best is trial 21 with value: 1739.9712420260557.\u001b[0m\n"
     ]
    },
    {
     "name": "stdout",
     "output_type": "stream",
     "text": [
      "[LightGBM] [Warning] Accuracy may be bad since you didn't explicitly set num_leaves OR 2^max_depth > num_leaves. (num_leaves=31).\n",
      "[LightGBM] [Warning] Accuracy may be bad since you didn't explicitly set num_leaves OR 2^max_depth > num_leaves. (num_leaves=31).\n",
      "[LightGBM] [Warning] Auto-choosing row-wise multi-threading, the overhead of testing was 0.003451 seconds.\n",
      "You can set `force_row_wise=true` to remove the overhead.\n",
      "And if memory is not enough, you can set `force_col_wise=true`.\n",
      "[LightGBM] [Info] Total Bins 557\n",
      "[LightGBM] [Info] Number of data points in the train set: 135530, number of used features: 8\n",
      "[LightGBM] [Info] Start training from score 5280.419140\n"
     ]
    },
    {
     "name": "stderr",
     "output_type": "stream",
     "text": [
      "\u001b[32m[I 2023-05-13 18:46:31,208]\u001b[0m Trial 69 finished with value: 1790.1737513534065 and parameters: {'learning_rate': 0.06158235545623085, 'max_depth': 7}. Best is trial 21 with value: 1739.9712420260557.\u001b[0m\n"
     ]
    },
    {
     "name": "stdout",
     "output_type": "stream",
     "text": [
      "[LightGBM] [Warning] Accuracy may be bad since you didn't explicitly set num_leaves OR 2^max_depth > num_leaves. (num_leaves=31).\n",
      "[LightGBM] [Warning] Accuracy may be bad since you didn't explicitly set num_leaves OR 2^max_depth > num_leaves. (num_leaves=31).\n",
      "[LightGBM] [Warning] Auto-choosing row-wise multi-threading, the overhead of testing was 0.003317 seconds.\n",
      "You can set `force_row_wise=true` to remove the overhead.\n",
      "And if memory is not enough, you can set `force_col_wise=true`.\n",
      "[LightGBM] [Info] Total Bins 555\n",
      "[LightGBM] [Info] Number of data points in the train set: 135530, number of used features: 8\n",
      "[LightGBM] [Info] Start training from score 5289.416528\n"
     ]
    },
    {
     "name": "stderr",
     "output_type": "stream",
     "text": [
      "\u001b[32m[I 2023-05-13 18:46:31,663]\u001b[0m Trial 70 finished with value: 1745.64671356515 and parameters: {'learning_rate': 0.07546560350913578, 'max_depth': 8}. Best is trial 21 with value: 1739.9712420260557.\u001b[0m\n"
     ]
    },
    {
     "name": "stdout",
     "output_type": "stream",
     "text": [
      "[LightGBM] [Warning] Accuracy may be bad since you didn't explicitly set num_leaves OR 2^max_depth > num_leaves. (num_leaves=31).\n",
      "[LightGBM] [Warning] Accuracy may be bad since you didn't explicitly set num_leaves OR 2^max_depth > num_leaves. (num_leaves=31).\n",
      "[LightGBM] [Warning] Auto-choosing row-wise multi-threading, the overhead of testing was 0.004437 seconds.\n",
      "You can set `force_row_wise=true` to remove the overhead.\n",
      "And if memory is not enough, you can set `force_col_wise=true`.\n",
      "[LightGBM] [Info] Total Bins 554\n",
      "[LightGBM] [Info] Number of data points in the train set: 135530, number of used features: 8\n",
      "[LightGBM] [Info] Start training from score 5288.010131\n"
     ]
    },
    {
     "name": "stderr",
     "output_type": "stream",
     "text": [
      "\u001b[32m[I 2023-05-13 18:46:32,183]\u001b[0m Trial 71 finished with value: 1742.998593612279 and parameters: {'learning_rate': 0.07313193012568503, 'max_depth': 8}. Best is trial 21 with value: 1739.9712420260557.\u001b[0m\n"
     ]
    },
    {
     "name": "stdout",
     "output_type": "stream",
     "text": [
      "[LightGBM] [Warning] Accuracy may be bad since you didn't explicitly set num_leaves OR 2^max_depth > num_leaves. (num_leaves=31).\n",
      "[LightGBM] [Warning] Accuracy may be bad since you didn't explicitly set num_leaves OR 2^max_depth > num_leaves. (num_leaves=31).\n",
      "[LightGBM] [Warning] Auto-choosing row-wise multi-threading, the overhead of testing was 0.003945 seconds.\n",
      "You can set `force_row_wise=true` to remove the overhead.\n",
      "And if memory is not enough, you can set `force_col_wise=true`.\n",
      "[LightGBM] [Info] Total Bins 556\n",
      "[LightGBM] [Info] Number of data points in the train set: 135530, number of used features: 8\n",
      "[LightGBM] [Info] Start training from score 5292.438265\n"
     ]
    },
    {
     "name": "stderr",
     "output_type": "stream",
     "text": [
      "\u001b[32m[I 2023-05-13 18:46:32,827]\u001b[0m Trial 72 finished with value: 1748.2124769910636 and parameters: {'learning_rate': 0.07656215984209214, 'max_depth': 8}. Best is trial 21 with value: 1739.9712420260557.\u001b[0m\n"
     ]
    },
    {
     "name": "stdout",
     "output_type": "stream",
     "text": [
      "[LightGBM] [Warning] Accuracy may be bad since you didn't explicitly set num_leaves OR 2^max_depth > num_leaves. (num_leaves=31).\n",
      "[LightGBM] [Warning] Accuracy may be bad since you didn't explicitly set num_leaves OR 2^max_depth > num_leaves. (num_leaves=31).\n",
      "[LightGBM] [Warning] Auto-choosing row-wise multi-threading, the overhead of testing was 0.003803 seconds.\n",
      "You can set `force_row_wise=true` to remove the overhead.\n",
      "And if memory is not enough, you can set `force_col_wise=true`.\n",
      "[LightGBM] [Info] Total Bins 555\n",
      "[LightGBM] [Info] Number of data points in the train set: 135530, number of used features: 8\n",
      "[LightGBM] [Info] Start training from score 5289.692120\n"
     ]
    },
    {
     "name": "stderr",
     "output_type": "stream",
     "text": [
      "\u001b[32m[I 2023-05-13 18:46:33,358]\u001b[0m Trial 73 finished with value: 1767.4917888930454 and parameters: {'learning_rate': 0.0746870437557043, 'max_depth': 8}. Best is trial 21 with value: 1739.9712420260557.\u001b[0m\n"
     ]
    },
    {
     "name": "stdout",
     "output_type": "stream",
     "text": [
      "[LightGBM] [Warning] Accuracy may be bad since you didn't explicitly set num_leaves OR 2^max_depth > num_leaves. (num_leaves=31).\n",
      "[LightGBM] [Warning] Accuracy may be bad since you didn't explicitly set num_leaves OR 2^max_depth > num_leaves. (num_leaves=31).\n",
      "[LightGBM] [Warning] Auto-choosing row-wise multi-threading, the overhead of testing was 0.005654 seconds.\n",
      "You can set `force_row_wise=true` to remove the overhead.\n",
      "And if memory is not enough, you can set `force_col_wise=true`.\n",
      "[LightGBM] [Info] Total Bins 554\n",
      "[LightGBM] [Info] Number of data points in the train set: 135530, number of used features: 8\n",
      "[LightGBM] [Info] Start training from score 5281.975282\n"
     ]
    },
    {
     "name": "stderr",
     "output_type": "stream",
     "text": [
      "\u001b[32m[I 2023-05-13 18:46:33,866]\u001b[0m Trial 74 finished with value: 1764.975366818626 and parameters: {'learning_rate': 0.07911091090426144, 'max_depth': 8}. Best is trial 21 with value: 1739.9712420260557.\u001b[0m\n"
     ]
    },
    {
     "name": "stdout",
     "output_type": "stream",
     "text": [
      "[LightGBM] [Warning] Accuracy may be bad since you didn't explicitly set num_leaves OR 2^max_depth > num_leaves. (num_leaves=31).\n",
      "[LightGBM] [Warning] Accuracy may be bad since you didn't explicitly set num_leaves OR 2^max_depth > num_leaves. (num_leaves=31).\n",
      "[LightGBM] [Warning] Auto-choosing row-wise multi-threading, the overhead of testing was 0.003549 seconds.\n",
      "You can set `force_row_wise=true` to remove the overhead.\n",
      "And if memory is not enough, you can set `force_col_wise=true`.\n",
      "[LightGBM] [Info] Total Bins 554\n",
      "[LightGBM] [Info] Number of data points in the train set: 135530, number of used features: 8\n",
      "[LightGBM] [Info] Start training from score 5294.664296\n"
     ]
    },
    {
     "name": "stderr",
     "output_type": "stream",
     "text": [
      "\u001b[32m[I 2023-05-13 18:46:34,247]\u001b[0m Trial 75 finished with value: 1768.6903208413219 and parameters: {'learning_rate': 0.07673855170006831, 'max_depth': 8}. Best is trial 21 with value: 1739.9712420260557.\u001b[0m\n"
     ]
    },
    {
     "name": "stdout",
     "output_type": "stream",
     "text": [
      "[LightGBM] [Warning] Accuracy may be bad since you didn't explicitly set num_leaves OR 2^max_depth > num_leaves. (num_leaves=31).\n",
      "[LightGBM] [Warning] Accuracy may be bad since you didn't explicitly set num_leaves OR 2^max_depth > num_leaves. (num_leaves=31).\n",
      "[LightGBM] [Warning] Auto-choosing row-wise multi-threading, the overhead of testing was 0.003383 seconds.\n",
      "You can set `force_row_wise=true` to remove the overhead.\n",
      "And if memory is not enough, you can set `force_col_wise=true`.\n",
      "[LightGBM] [Info] Total Bins 554\n",
      "[LightGBM] [Info] Number of data points in the train set: 135530, number of used features: 8\n",
      "[LightGBM] [Info] Start training from score 5291.173179\n"
     ]
    },
    {
     "name": "stderr",
     "output_type": "stream",
     "text": [
      "\u001b[32m[I 2023-05-13 18:46:34,590]\u001b[0m Trial 76 finished with value: 1777.0790572285941 and parameters: {'learning_rate': 0.07092127168161527, 'max_depth': 7}. Best is trial 21 with value: 1739.9712420260557.\u001b[0m\n"
     ]
    },
    {
     "name": "stdout",
     "output_type": "stream",
     "text": [
      "[LightGBM] [Warning] Accuracy may be bad since you didn't explicitly set num_leaves OR 2^max_depth > num_leaves. (num_leaves=31).\n",
      "[LightGBM] [Warning] Accuracy may be bad since you didn't explicitly set num_leaves OR 2^max_depth > num_leaves. (num_leaves=31).\n",
      "[LightGBM] [Warning] Auto-choosing row-wise multi-threading, the overhead of testing was 0.003283 seconds.\n",
      "You can set `force_row_wise=true` to remove the overhead.\n",
      "And if memory is not enough, you can set `force_col_wise=true`.\n",
      "[LightGBM] [Info] Total Bins 555\n",
      "[LightGBM] [Info] Number of data points in the train set: 135530, number of used features: 8\n",
      "[LightGBM] [Info] Start training from score 5284.031041\n"
     ]
    },
    {
     "name": "stderr",
     "output_type": "stream",
     "text": [
      "\u001b[32m[I 2023-05-13 18:46:34,989]\u001b[0m Trial 77 finished with value: 1766.2927910871213 and parameters: {'learning_rate': 0.07260166109554063, 'max_depth': 8}. Best is trial 21 with value: 1739.9712420260557.\u001b[0m\n"
     ]
    },
    {
     "name": "stdout",
     "output_type": "stream",
     "text": [
      "[LightGBM] [Warning] Accuracy may be bad since you didn't explicitly set num_leaves OR 2^max_depth > num_leaves. (num_leaves=31).\n",
      "[LightGBM] [Warning] Accuracy may be bad since you didn't explicitly set num_leaves OR 2^max_depth > num_leaves. (num_leaves=31).\n",
      "[LightGBM] [Warning] Auto-choosing row-wise multi-threading, the overhead of testing was 0.003550 seconds.\n",
      "You can set `force_row_wise=true` to remove the overhead.\n",
      "And if memory is not enough, you can set `force_col_wise=true`.\n",
      "[LightGBM] [Info] Total Bins 551\n",
      "[LightGBM] [Info] Number of data points in the train set: 135530, number of used features: 8\n",
      "[LightGBM] [Info] Start training from score 5288.991633\n"
     ]
    },
    {
     "name": "stderr",
     "output_type": "stream",
     "text": [
      "\u001b[32m[I 2023-05-13 18:46:35,346]\u001b[0m Trial 78 finished with value: 1764.78049367947 and parameters: {'learning_rate': 0.06903210704191892, 'max_depth': 8}. Best is trial 21 with value: 1739.9712420260557.\u001b[0m\n"
     ]
    },
    {
     "name": "stdout",
     "output_type": "stream",
     "text": [
      "[LightGBM] [Warning] Accuracy may be bad since you didn't explicitly set num_leaves OR 2^max_depth > num_leaves. (num_leaves=31).\n",
      "[LightGBM] [Warning] Accuracy may be bad since you didn't explicitly set num_leaves OR 2^max_depth > num_leaves. (num_leaves=31).\n",
      "[LightGBM] [Warning] Auto-choosing row-wise multi-threading, the overhead of testing was 0.003465 seconds.\n",
      "You can set `force_row_wise=true` to remove the overhead.\n",
      "And if memory is not enough, you can set `force_col_wise=true`.\n",
      "[LightGBM] [Info] Total Bins 557\n",
      "[LightGBM] [Info] Number of data points in the train set: 135530, number of used features: 8\n",
      "[LightGBM] [Info] Start training from score 5290.280351\n"
     ]
    },
    {
     "name": "stderr",
     "output_type": "stream",
     "text": [
      "\u001b[32m[I 2023-05-13 18:46:35,694]\u001b[0m Trial 79 finished with value: 1764.7681759326165 and parameters: {'learning_rate': 0.07576230204995454, 'max_depth': 8}. Best is trial 21 with value: 1739.9712420260557.\u001b[0m\n",
      "\u001b[32m[I 2023-05-13 18:46:35,930]\u001b[0m Trial 80 finished with value: 1928.829928172265 and parameters: {'learning_rate': 0.07292990496211813, 'max_depth': 3}. Best is trial 21 with value: 1739.9712420260557.\u001b[0m\n"
     ]
    },
    {
     "name": "stdout",
     "output_type": "stream",
     "text": [
      "[LightGBM] [Warning] Auto-choosing row-wise multi-threading, the overhead of testing was 0.003612 seconds.\n",
      "You can set `force_row_wise=true` to remove the overhead.\n",
      "And if memory is not enough, you can set `force_col_wise=true`.\n",
      "[LightGBM] [Info] Total Bins 555\n",
      "[LightGBM] [Info] Number of data points in the train set: 135530, number of used features: 8\n",
      "[LightGBM] [Info] Start training from score 5284.056969\n",
      "[LightGBM] [Warning] No further splits with positive gain, best gain: -inf\n",
      "[LightGBM] [Warning] Accuracy may be bad since you didn't explicitly set num_leaves OR 2^max_depth > num_leaves. (num_leaves=31).\n",
      "[LightGBM] [Warning] Accuracy may be bad since you didn't explicitly set num_leaves OR 2^max_depth > num_leaves. (num_leaves=31).\n",
      "[LightGBM] [Warning] Auto-choosing row-wise multi-threading, the overhead of testing was 0.003448 seconds.\n",
      "You can set `force_row_wise=true` to remove the overhead.\n",
      "And if memory is not enough, you can set `force_col_wise=true`.\n",
      "[LightGBM] [Info] Total Bins 555\n",
      "[LightGBM] [Info] Number of data points in the train set: 135530, number of used features: 8\n",
      "[LightGBM] [Info] Start training from score 5284.411481\n"
     ]
    },
    {
     "name": "stderr",
     "output_type": "stream",
     "text": [
      "\u001b[32m[I 2023-05-13 18:46:36,277]\u001b[0m Trial 81 finished with value: 1769.12333254754 and parameters: {'learning_rate': 0.07817412881604689, 'max_depth': 8}. Best is trial 21 with value: 1739.9712420260557.\u001b[0m\n"
     ]
    },
    {
     "name": "stdout",
     "output_type": "stream",
     "text": [
      "[LightGBM] [Warning] Accuracy may be bad since you didn't explicitly set num_leaves OR 2^max_depth > num_leaves. (num_leaves=31).\n",
      "[LightGBM] [Warning] Accuracy may be bad since you didn't explicitly set num_leaves OR 2^max_depth > num_leaves. (num_leaves=31).\n",
      "[LightGBM] [Warning] Auto-choosing row-wise multi-threading, the overhead of testing was 0.003364 seconds.\n",
      "You can set `force_row_wise=true` to remove the overhead.\n",
      "And if memory is not enough, you can set `force_col_wise=true`.\n",
      "[LightGBM] [Info] Total Bins 553\n",
      "[LightGBM] [Info] Number of data points in the train set: 135530, number of used features: 8\n",
      "[LightGBM] [Info] Start training from score 5289.708862\n"
     ]
    },
    {
     "name": "stderr",
     "output_type": "stream",
     "text": [
      "\u001b[32m[I 2023-05-13 18:46:36,620]\u001b[0m Trial 82 finished with value: 1770.8530812966578 and parameters: {'learning_rate': 0.08035388865881048, 'max_depth': 8}. Best is trial 21 with value: 1739.9712420260557.\u001b[0m\n"
     ]
    },
    {
     "name": "stdout",
     "output_type": "stream",
     "text": [
      "[LightGBM] [Warning] Accuracy may be bad since you didn't explicitly set num_leaves OR 2^max_depth > num_leaves. (num_leaves=31).\n",
      "[LightGBM] [Warning] Accuracy may be bad since you didn't explicitly set num_leaves OR 2^max_depth > num_leaves. (num_leaves=31).\n",
      "[LightGBM] [Warning] Auto-choosing row-wise multi-threading, the overhead of testing was 0.003547 seconds.\n",
      "You can set `force_row_wise=true` to remove the overhead.\n",
      "And if memory is not enough, you can set `force_col_wise=true`.\n",
      "[LightGBM] [Info] Total Bins 557\n",
      "[LightGBM] [Info] Number of data points in the train set: 135530, number of used features: 8\n",
      "[LightGBM] [Info] Start training from score 5286.854047\n"
     ]
    },
    {
     "name": "stderr",
     "output_type": "stream",
     "text": [
      "\u001b[32m[I 2023-05-13 18:46:36,997]\u001b[0m Trial 83 finished with value: 1764.4710021109613 and parameters: {'learning_rate': 0.08325413431850605, 'max_depth': 8}. Best is trial 21 with value: 1739.9712420260557.\u001b[0m\n"
     ]
    },
    {
     "name": "stdout",
     "output_type": "stream",
     "text": [
      "[LightGBM] [Warning] Accuracy may be bad since you didn't explicitly set num_leaves OR 2^max_depth > num_leaves. (num_leaves=31).\n",
      "[LightGBM] [Warning] Accuracy may be bad since you didn't explicitly set num_leaves OR 2^max_depth > num_leaves. (num_leaves=31).\n",
      "[LightGBM] [Warning] Auto-choosing row-wise multi-threading, the overhead of testing was 0.003805 seconds.\n",
      "You can set `force_row_wise=true` to remove the overhead.\n",
      "And if memory is not enough, you can set `force_col_wise=true`.\n",
      "[LightGBM] [Info] Total Bins 556\n",
      "[LightGBM] [Info] Number of data points in the train set: 135530, number of used features: 8\n",
      "[LightGBM] [Info] Start training from score 5281.931012\n",
      "[LightGBM] [Warning] No further splits with positive gain, best gain: -inf\n",
      "[LightGBM] [Warning] No further splits with positive gain, best gain: -inf\n",
      "[LightGBM] [Warning] No further splits with positive gain, best gain: -inf\n",
      "[LightGBM] [Warning] No further splits with positive gain, best gain: -inf\n",
      "[LightGBM] [Warning] No further splits with positive gain, best gain: -inf\n",
      "[LightGBM] [Warning] No further splits with positive gain, best gain: -inf\n",
      "[LightGBM] [Warning] No further splits with positive gain, best gain: -inf\n",
      "[LightGBM] [Warning] No further splits with positive gain, best gain: -inf\n",
      "[LightGBM] [Warning] No further splits with positive gain, best gain: -inf\n",
      "[LightGBM] [Warning] No further splits with positive gain, best gain: -inf\n"
     ]
    },
    {
     "name": "stderr",
     "output_type": "stream",
     "text": [
      "\u001b[32m[I 2023-05-13 18:46:37,313]\u001b[0m Trial 84 finished with value: 1789.3497324804925 and parameters: {'learning_rate': 0.07364864289939133, 'max_depth': 5}. Best is trial 21 with value: 1739.9712420260557.\u001b[0m\n"
     ]
    },
    {
     "name": "stdout",
     "output_type": "stream",
     "text": [
      "[LightGBM] [Warning] No further splits with positive gain, best gain: -inf\n",
      "[LightGBM] [Warning] No further splits with positive gain, best gain: -inf\n",
      "[LightGBM] [Warning] No further splits with positive gain, best gain: -inf\n",
      "[LightGBM] [Warning] No further splits with positive gain, best gain: -inf\n",
      "[LightGBM] [Warning] No further splits with positive gain, best gain: -inf\n",
      "[LightGBM] [Warning] No further splits with positive gain, best gain: -inf\n",
      "[LightGBM] [Warning] No further splits with positive gain, best gain: -inf\n",
      "[LightGBM] [Warning] No further splits with positive gain, best gain: -inf\n",
      "[LightGBM] [Warning] No further splits with positive gain, best gain: -inf\n",
      "[LightGBM] [Warning] No further splits with positive gain, best gain: -inf\n",
      "[LightGBM] [Warning] No further splits with positive gain, best gain: -inf\n",
      "[LightGBM] [Warning] No further splits with positive gain, best gain: -inf\n",
      "[LightGBM] [Warning] No further splits with positive gain, best gain: -inf\n",
      "[LightGBM] [Warning] No further splits with positive gain, best gain: -inf\n",
      "[LightGBM] [Warning] No further splits with positive gain, best gain: -inf\n",
      "[LightGBM] [Warning] No further splits with positive gain, best gain: -inf\n",
      "[LightGBM] [Warning] No further splits with positive gain, best gain: -inf\n",
      "[LightGBM] [Warning] No further splits with positive gain, best gain: -inf\n",
      "[LightGBM] [Warning] No further splits with positive gain, best gain: -inf\n",
      "[LightGBM] [Warning] No further splits with positive gain, best gain: -inf\n",
      "[LightGBM] [Warning] No further splits with positive gain, best gain: -inf\n",
      "[LightGBM] [Warning] Accuracy may be bad since you didn't explicitly set num_leaves OR 2^max_depth > num_leaves. (num_leaves=31).\n",
      "[LightGBM] [Warning] Accuracy may be bad since you didn't explicitly set num_leaves OR 2^max_depth > num_leaves. (num_leaves=31).\n",
      "[LightGBM] [Warning] Auto-choosing row-wise multi-threading, the overhead of testing was 0.003376 seconds.\n",
      "You can set `force_row_wise=true` to remove the overhead.\n",
      "And if memory is not enough, you can set `force_col_wise=true`.\n",
      "[LightGBM] [Info] Total Bins 555\n",
      "[LightGBM] [Info] Number of data points in the train set: 135530, number of used features: 8\n",
      "[LightGBM] [Info] Start training from score 5291.744772\n"
     ]
    },
    {
     "name": "stderr",
     "output_type": "stream",
     "text": [
      "\u001b[32m[I 2023-05-13 18:46:37,664]\u001b[0m Trial 85 finished with value: 1762.4187494049593 and parameters: {'learning_rate': 0.07606465995326095, 'max_depth': 8}. Best is trial 21 with value: 1739.9712420260557.\u001b[0m\n"
     ]
    },
    {
     "name": "stdout",
     "output_type": "stream",
     "text": [
      "[LightGBM] [Warning] Accuracy may be bad since you didn't explicitly set num_leaves OR 2^max_depth > num_leaves. (num_leaves=31).\n",
      "[LightGBM] [Warning] Accuracy may be bad since you didn't explicitly set num_leaves OR 2^max_depth > num_leaves. (num_leaves=31).\n",
      "[LightGBM] [Warning] Auto-choosing row-wise multi-threading, the overhead of testing was 0.003629 seconds.\n",
      "You can set `force_row_wise=true` to remove the overhead.\n",
      "And if memory is not enough, you can set `force_col_wise=true`.\n",
      "[LightGBM] [Info] Total Bins 555\n",
      "[LightGBM] [Info] Number of data points in the train set: 135530, number of used features: 8\n",
      "[LightGBM] [Info] Start training from score 5285.285110\n"
     ]
    },
    {
     "name": "stderr",
     "output_type": "stream",
     "text": [
      "\u001b[32m[I 2023-05-13 18:46:38,051]\u001b[0m Trial 86 finished with value: 1791.5482728040643 and parameters: {'learning_rate': 0.06634250647511279, 'max_depth': 7}. Best is trial 21 with value: 1739.9712420260557.\u001b[0m\n"
     ]
    },
    {
     "name": "stdout",
     "output_type": "stream",
     "text": [
      "[LightGBM] [Warning] Accuracy may be bad since you didn't explicitly set num_leaves OR 2^max_depth > num_leaves. (num_leaves=31).\n",
      "[LightGBM] [Warning] Accuracy may be bad since you didn't explicitly set num_leaves OR 2^max_depth > num_leaves. (num_leaves=31).\n",
      "[LightGBM] [Warning] Auto-choosing row-wise multi-threading, the overhead of testing was 0.003429 seconds.\n",
      "You can set `force_row_wise=true` to remove the overhead.\n",
      "And if memory is not enough, you can set `force_col_wise=true`.\n",
      "[LightGBM] [Info] Total Bins 552\n",
      "[LightGBM] [Info] Number of data points in the train set: 135530, number of used features: 8\n",
      "[LightGBM] [Info] Start training from score 5277.286424\n"
     ]
    },
    {
     "name": "stderr",
     "output_type": "stream",
     "text": [
      "\u001b[32m[I 2023-05-13 18:46:38,395]\u001b[0m Trial 87 finished with value: 1780.7421268686976 and parameters: {'learning_rate': 0.07773956693409333, 'max_depth': 8}. Best is trial 21 with value: 1739.9712420260557.\u001b[0m\n"
     ]
    },
    {
     "name": "stdout",
     "output_type": "stream",
     "text": [
      "[LightGBM] [Warning] Accuracy may be bad since you didn't explicitly set num_leaves OR 2^max_depth > num_leaves. (num_leaves=31).\n",
      "[LightGBM] [Warning] Accuracy may be bad since you didn't explicitly set num_leaves OR 2^max_depth > num_leaves. (num_leaves=31).\n",
      "[LightGBM] [Warning] Auto-choosing row-wise multi-threading, the overhead of testing was 0.003398 seconds.\n",
      "You can set `force_row_wise=true` to remove the overhead.\n",
      "And if memory is not enough, you can set `force_col_wise=true`.\n",
      "[LightGBM] [Info] Total Bins 556\n",
      "[LightGBM] [Info] Number of data points in the train set: 135530, number of used features: 8\n",
      "[LightGBM] [Info] Start training from score 5290.238515\n"
     ]
    },
    {
     "name": "stderr",
     "output_type": "stream",
     "text": [
      "\u001b[32m[I 2023-05-13 18:46:38,741]\u001b[0m Trial 88 finished with value: 1776.0079223544747 and parameters: {'learning_rate': 0.08019683391900163, 'max_depth': 8}. Best is trial 21 with value: 1739.9712420260557.\u001b[0m\n"
     ]
    },
    {
     "name": "stdout",
     "output_type": "stream",
     "text": [
      "[LightGBM] [Warning] Accuracy may be bad since you didn't explicitly set num_leaves OR 2^max_depth > num_leaves. (num_leaves=31).\n",
      "[LightGBM] [Warning] Accuracy may be bad since you didn't explicitly set num_leaves OR 2^max_depth > num_leaves. (num_leaves=31).\n",
      "[LightGBM] [Warning] Auto-choosing row-wise multi-threading, the overhead of testing was 0.003704 seconds.\n",
      "You can set `force_row_wise=true` to remove the overhead.\n",
      "And if memory is not enough, you can set `force_col_wise=true`.\n",
      "[LightGBM] [Info] Total Bins 550\n",
      "[LightGBM] [Info] Number of data points in the train set: 135530, number of used features: 8\n",
      "[LightGBM] [Info] Start training from score 5279.365993\n"
     ]
    },
    {
     "name": "stderr",
     "output_type": "stream",
     "text": [
      "\u001b[32m[I 2023-05-13 18:46:39,123]\u001b[0m Trial 89 finished with value: 1766.261265410188 and parameters: {'learning_rate': 0.06912229636550257, 'max_depth': 7}. Best is trial 21 with value: 1739.9712420260557.\u001b[0m\n"
     ]
    },
    {
     "name": "stdout",
     "output_type": "stream",
     "text": [
      "[LightGBM] [Warning] Accuracy may be bad since you didn't explicitly set num_leaves OR 2^max_depth > num_leaves. (num_leaves=31).\n",
      "[LightGBM] [Warning] Accuracy may be bad since you didn't explicitly set num_leaves OR 2^max_depth > num_leaves. (num_leaves=31).\n",
      "[LightGBM] [Warning] Auto-choosing row-wise multi-threading, the overhead of testing was 0.003579 seconds.\n",
      "You can set `force_row_wise=true` to remove the overhead.\n",
      "And if memory is not enough, you can set `force_col_wise=true`.\n",
      "[LightGBM] [Info] Total Bins 553\n",
      "[LightGBM] [Info] Number of data points in the train set: 135530, number of used features: 8\n",
      "[LightGBM] [Info] Start training from score 5286.452645\n"
     ]
    },
    {
     "name": "stderr",
     "output_type": "stream",
     "text": [
      "\u001b[32m[I 2023-05-13 18:46:39,466]\u001b[0m Trial 90 finished with value: 1780.6144627263125 and parameters: {'learning_rate': 0.07412733457055018, 'max_depth': 7}. Best is trial 21 with value: 1739.9712420260557.\u001b[0m\n"
     ]
    },
    {
     "name": "stdout",
     "output_type": "stream",
     "text": [
      "[LightGBM] [Warning] Accuracy may be bad since you didn't explicitly set num_leaves OR 2^max_depth > num_leaves. (num_leaves=31).\n",
      "[LightGBM] [Warning] Accuracy may be bad since you didn't explicitly set num_leaves OR 2^max_depth > num_leaves. (num_leaves=31).\n",
      "[LightGBM] [Warning] Auto-choosing row-wise multi-threading, the overhead of testing was 0.003527 seconds.\n",
      "You can set `force_row_wise=true` to remove the overhead.\n",
      "And if memory is not enough, you can set `force_col_wise=true`.\n",
      "[LightGBM] [Info] Total Bins 552\n",
      "[LightGBM] [Info] Number of data points in the train set: 135530, number of used features: 8\n",
      "[LightGBM] [Info] Start training from score 5293.130982\n"
     ]
    },
    {
     "name": "stderr",
     "output_type": "stream",
     "text": [
      "\u001b[32m[I 2023-05-13 18:46:39,974]\u001b[0m Trial 91 finished with value: 1758.8627623071666 and parameters: {'learning_rate': 0.07172323126236498, 'max_depth': 8}. Best is trial 21 with value: 1739.9712420260557.\u001b[0m\n"
     ]
    },
    {
     "name": "stdout",
     "output_type": "stream",
     "text": [
      "[LightGBM] [Warning] Accuracy may be bad since you didn't explicitly set num_leaves OR 2^max_depth > num_leaves. (num_leaves=31).\n",
      "[LightGBM] [Warning] Accuracy may be bad since you didn't explicitly set num_leaves OR 2^max_depth > num_leaves. (num_leaves=31).\n",
      "[LightGBM] [Warning] Auto-choosing row-wise multi-threading, the overhead of testing was 0.003812 seconds.\n",
      "You can set `force_row_wise=true` to remove the overhead.\n",
      "And if memory is not enough, you can set `force_col_wise=true`.\n",
      "[LightGBM] [Info] Total Bins 552\n",
      "[LightGBM] [Info] Number of data points in the train set: 135530, number of used features: 8\n",
      "[LightGBM] [Info] Start training from score 5282.440803\n"
     ]
    },
    {
     "name": "stderr",
     "output_type": "stream",
     "text": [
      "\u001b[32m[I 2023-05-13 18:46:40,370]\u001b[0m Trial 92 finished with value: 1775.8481823605557 and parameters: {'learning_rate': 0.06578302385950258, 'max_depth': 8}. Best is trial 21 with value: 1739.9712420260557.\u001b[0m\n"
     ]
    },
    {
     "name": "stdout",
     "output_type": "stream",
     "text": [
      "[LightGBM] [Warning] Accuracy may be bad since you didn't explicitly set num_leaves OR 2^max_depth > num_leaves. (num_leaves=31).\n",
      "[LightGBM] [Warning] Accuracy may be bad since you didn't explicitly set num_leaves OR 2^max_depth > num_leaves. (num_leaves=31).\n",
      "[LightGBM] [Warning] Auto-choosing row-wise multi-threading, the overhead of testing was 0.003369 seconds.\n",
      "You can set `force_row_wise=true` to remove the overhead.\n",
      "And if memory is not enough, you can set `force_col_wise=true`.\n",
      "[LightGBM] [Info] Total Bins 554\n",
      "[LightGBM] [Info] Number of data points in the train set: 135530, number of used features: 8\n",
      "[LightGBM] [Info] Start training from score 5284.511296\n"
     ]
    },
    {
     "name": "stderr",
     "output_type": "stream",
     "text": [
      "\u001b[32m[I 2023-05-13 18:46:40,728]\u001b[0m Trial 93 finished with value: 1791.2365670832241 and parameters: {'learning_rate': 0.06760643932798337, 'max_depth': 8}. Best is trial 21 with value: 1739.9712420260557.\u001b[0m\n",
      "\u001b[32m[I 2023-05-13 18:46:40,895]\u001b[0m Trial 94 finished with value: 2056.1222763673964 and parameters: {'learning_rate': 0.07600696476140524, 'max_depth': 2}. Best is trial 21 with value: 1739.9712420260557.\u001b[0m\n"
     ]
    },
    {
     "name": "stdout",
     "output_type": "stream",
     "text": [
      "[LightGBM] [Warning] Auto-choosing row-wise multi-threading, the overhead of testing was 0.003768 seconds.\n",
      "You can set `force_row_wise=true` to remove the overhead.\n",
      "And if memory is not enough, you can set `force_col_wise=true`.\n",
      "[LightGBM] [Info] Total Bins 556\n",
      "[LightGBM] [Info] Number of data points in the train set: 135530, number of used features: 8\n",
      "[LightGBM] [Info] Start training from score 5279.548166\n",
      "[LightGBM] [Warning] Accuracy may be bad since you didn't explicitly set num_leaves OR 2^max_depth > num_leaves. (num_leaves=31).\n",
      "[LightGBM] [Warning] Accuracy may be bad since you didn't explicitly set num_leaves OR 2^max_depth > num_leaves. (num_leaves=31).\n",
      "[LightGBM] [Warning] Auto-choosing row-wise multi-threading, the overhead of testing was 0.003306 seconds.\n",
      "You can set `force_row_wise=true` to remove the overhead.\n",
      "And if memory is not enough, you can set `force_col_wise=true`.\n",
      "[LightGBM] [Info] Total Bins 554\n",
      "[LightGBM] [Info] Number of data points in the train set: 135530, number of used features: 8\n",
      "[LightGBM] [Info] Start training from score 5283.907319\n"
     ]
    },
    {
     "name": "stderr",
     "output_type": "stream",
     "text": [
      "\u001b[32m[I 2023-05-13 18:46:41,264]\u001b[0m Trial 95 finished with value: 1789.993912963806 and parameters: {'learning_rate': 0.06996609513429344, 'max_depth': 8}. Best is trial 21 with value: 1739.9712420260557.\u001b[0m\n"
     ]
    },
    {
     "name": "stdout",
     "output_type": "stream",
     "text": [
      "[LightGBM] [Warning] Accuracy may be bad since you didn't explicitly set num_leaves OR 2^max_depth > num_leaves. (num_leaves=31).\n",
      "[LightGBM] [Warning] Accuracy may be bad since you didn't explicitly set num_leaves OR 2^max_depth > num_leaves. (num_leaves=31).\n",
      "[LightGBM] [Warning] Auto-choosing row-wise multi-threading, the overhead of testing was 0.003626 seconds.\n",
      "You can set `force_row_wise=true` to remove the overhead.\n",
      "And if memory is not enough, you can set `force_col_wise=true`.\n",
      "[LightGBM] [Info] Total Bins 552\n",
      "[LightGBM] [Info] Number of data points in the train set: 135530, number of used features: 8\n",
      "[LightGBM] [Info] Start training from score 5279.656445\n"
     ]
    },
    {
     "name": "stderr",
     "output_type": "stream",
     "text": [
      "\u001b[32m[I 2023-05-13 18:46:41,619]\u001b[0m Trial 96 finished with value: 1777.3195026133133 and parameters: {'learning_rate': 0.07868348586280745, 'max_depth': 8}. Best is trial 21 with value: 1739.9712420260557.\u001b[0m\n"
     ]
    },
    {
     "name": "stdout",
     "output_type": "stream",
     "text": [
      "[LightGBM] [Warning] Accuracy may be bad since you didn't explicitly set num_leaves OR 2^max_depth > num_leaves. (num_leaves=31).\n",
      "[LightGBM] [Warning] Accuracy may be bad since you didn't explicitly set num_leaves OR 2^max_depth > num_leaves. (num_leaves=31).\n",
      "[LightGBM] [Warning] Auto-choosing row-wise multi-threading, the overhead of testing was 0.003339 seconds.\n",
      "You can set `force_row_wise=true` to remove the overhead.\n",
      "And if memory is not enough, you can set `force_col_wise=true`.\n",
      "[LightGBM] [Info] Total Bins 553\n",
      "[LightGBM] [Info] Number of data points in the train set: 135530, number of used features: 8\n",
      "[LightGBM] [Info] Start training from score 5299.151398\n"
     ]
    },
    {
     "name": "stderr",
     "output_type": "stream",
     "text": [
      "\u001b[32m[I 2023-05-13 18:46:41,996]\u001b[0m Trial 97 finished with value: 1758.2341758064088 and parameters: {'learning_rate': 0.0717645951625405, 'max_depth': 8}. Best is trial 21 with value: 1739.9712420260557.\u001b[0m\n"
     ]
    },
    {
     "name": "stdout",
     "output_type": "stream",
     "text": [
      "[LightGBM] [Warning] Accuracy may be bad since you didn't explicitly set num_leaves OR 2^max_depth > num_leaves. (num_leaves=31).\n",
      "[LightGBM] [Warning] Accuracy may be bad since you didn't explicitly set num_leaves OR 2^max_depth > num_leaves. (num_leaves=31).\n",
      "[LightGBM] [Warning] Auto-choosing row-wise multi-threading, the overhead of testing was 0.003915 seconds.\n",
      "You can set `force_row_wise=true` to remove the overhead.\n",
      "And if memory is not enough, you can set `force_col_wise=true`.\n",
      "[LightGBM] [Info] Total Bins 552\n",
      "[LightGBM] [Info] Number of data points in the train set: 135530, number of used features: 8\n",
      "[LightGBM] [Info] Start training from score 5288.843120\n"
     ]
    },
    {
     "name": "stderr",
     "output_type": "stream",
     "text": [
      "\u001b[32m[I 2023-05-13 18:46:42,475]\u001b[0m Trial 98 finished with value: 1766.6987123594115 and parameters: {'learning_rate': 0.07430117601066025, 'max_depth': 8}. Best is trial 21 with value: 1739.9712420260557.\u001b[0m\n"
     ]
    },
    {
     "name": "stdout",
     "output_type": "stream",
     "text": [
      "[LightGBM] [Warning] Accuracy may be bad since you didn't explicitly set num_leaves OR 2^max_depth > num_leaves. (num_leaves=31).\n",
      "[LightGBM] [Warning] Accuracy may be bad since you didn't explicitly set num_leaves OR 2^max_depth > num_leaves. (num_leaves=31).\n",
      "[LightGBM] [Warning] Auto-choosing row-wise multi-threading, the overhead of testing was 0.003405 seconds.\n",
      "You can set `force_row_wise=true` to remove the overhead.\n",
      "And if memory is not enough, you can set `force_col_wise=true`.\n",
      "[LightGBM] [Info] Total Bins 557\n",
      "[LightGBM] [Info] Number of data points in the train set: 135530, number of used features: 8\n",
      "[LightGBM] [Info] Start training from score 5288.668797\n"
     ]
    },
    {
     "name": "stderr",
     "output_type": "stream",
     "text": [
      "\u001b[32m[I 2023-05-13 18:46:42,819]\u001b[0m Trial 99 finished with value: 1792.3306940143648 and parameters: {'learning_rate': 0.07704046441747256, 'max_depth': 7}. Best is trial 21 with value: 1739.9712420260557.\u001b[0m\n"
     ]
    },
    {
     "name": "stdout",
     "output_type": "stream",
     "text": [
      "CPU times: user 5min 30s, sys: 56.9 s, total: 6min 27s\n",
      "Wall time: 45.6 s\n"
     ]
    }
   ],
   "source": [
    "%%time\n",
    "study = optuna.create_study(direction='minimize')\n",
    "study.optimize(objective, n_trials=100)"
   ]
  },
  {
   "cell_type": "code",
   "execution_count": 72,
   "metadata": {},
   "outputs": [],
   "source": [
    "model_lgbm = lgbm.LGBMRegressor(random_state=RANDOM_STATE,\n",
    "                                metric='root_mean_squared_error',\n",
    "                                learning_rate=0.0956621333321235,\n",
    "                                max_depth=7\n",
    "                                )"
   ]
  },
  {
   "cell_type": "code",
   "execution_count": 73,
   "metadata": {},
   "outputs": [
    {
     "name": "stdout",
     "output_type": "stream",
     "text": [
      "CPU times: user 2.81 s, sys: 420 ms, total: 3.23 s\n",
      "Wall time: 334 ms\n"
     ]
    },
    {
     "data": {
      "text/html": [
       "<style>#sk-container-id-1 {color: black;background-color: white;}#sk-container-id-1 pre{padding: 0;}#sk-container-id-1 div.sk-toggleable {background-color: white;}#sk-container-id-1 label.sk-toggleable__label {cursor: pointer;display: block;width: 100%;margin-bottom: 0;padding: 0.3em;box-sizing: border-box;text-align: center;}#sk-container-id-1 label.sk-toggleable__label-arrow:before {content: \"▸\";float: left;margin-right: 0.25em;color: #696969;}#sk-container-id-1 label.sk-toggleable__label-arrow:hover:before {color: black;}#sk-container-id-1 div.sk-estimator:hover label.sk-toggleable__label-arrow:before {color: black;}#sk-container-id-1 div.sk-toggleable__content {max-height: 0;max-width: 0;overflow: hidden;text-align: left;background-color: #f0f8ff;}#sk-container-id-1 div.sk-toggleable__content pre {margin: 0.2em;color: black;border-radius: 0.25em;background-color: #f0f8ff;}#sk-container-id-1 input.sk-toggleable__control:checked~div.sk-toggleable__content {max-height: 200px;max-width: 100%;overflow: auto;}#sk-container-id-1 input.sk-toggleable__control:checked~label.sk-toggleable__label-arrow:before {content: \"▾\";}#sk-container-id-1 div.sk-estimator input.sk-toggleable__control:checked~label.sk-toggleable__label {background-color: #d4ebff;}#sk-container-id-1 div.sk-label input.sk-toggleable__control:checked~label.sk-toggleable__label {background-color: #d4ebff;}#sk-container-id-1 input.sk-hidden--visually {border: 0;clip: rect(1px 1px 1px 1px);clip: rect(1px, 1px, 1px, 1px);height: 1px;margin: -1px;overflow: hidden;padding: 0;position: absolute;width: 1px;}#sk-container-id-1 div.sk-estimator {font-family: monospace;background-color: #f0f8ff;border: 1px dotted black;border-radius: 0.25em;box-sizing: border-box;margin-bottom: 0.5em;}#sk-container-id-1 div.sk-estimator:hover {background-color: #d4ebff;}#sk-container-id-1 div.sk-parallel-item::after {content: \"\";width: 100%;border-bottom: 1px solid gray;flex-grow: 1;}#sk-container-id-1 div.sk-label:hover label.sk-toggleable__label {background-color: #d4ebff;}#sk-container-id-1 div.sk-serial::before {content: \"\";position: absolute;border-left: 1px solid gray;box-sizing: border-box;top: 0;bottom: 0;left: 50%;z-index: 0;}#sk-container-id-1 div.sk-serial {display: flex;flex-direction: column;align-items: center;background-color: white;padding-right: 0.2em;padding-left: 0.2em;position: relative;}#sk-container-id-1 div.sk-item {position: relative;z-index: 1;}#sk-container-id-1 div.sk-parallel {display: flex;align-items: stretch;justify-content: center;background-color: white;position: relative;}#sk-container-id-1 div.sk-item::before, #sk-container-id-1 div.sk-parallel-item::before {content: \"\";position: absolute;border-left: 1px solid gray;box-sizing: border-box;top: 0;bottom: 0;left: 50%;z-index: -1;}#sk-container-id-1 div.sk-parallel-item {display: flex;flex-direction: column;z-index: 1;position: relative;background-color: white;}#sk-container-id-1 div.sk-parallel-item:first-child::after {align-self: flex-end;width: 50%;}#sk-container-id-1 div.sk-parallel-item:last-child::after {align-self: flex-start;width: 50%;}#sk-container-id-1 div.sk-parallel-item:only-child::after {width: 0;}#sk-container-id-1 div.sk-dashed-wrapped {border: 1px dashed gray;margin: 0 0.4em 0.5em 0.4em;box-sizing: border-box;padding-bottom: 0.4em;background-color: white;}#sk-container-id-1 div.sk-label label {font-family: monospace;font-weight: bold;display: inline-block;line-height: 1.2em;}#sk-container-id-1 div.sk-label-container {text-align: center;}#sk-container-id-1 div.sk-container {/* jupyter's `normalize.less` sets `[hidden] { display: none; }` but bootstrap.min.css set `[hidden] { display: none !important; }` so we also need the `!important` here to be able to override the default hidden behavior on the sphinx rendered scikit-learn.org. See: https://github.com/scikit-learn/scikit-learn/issues/21755 */display: inline-block !important;position: relative;}#sk-container-id-1 div.sk-text-repr-fallback {display: none;}</style><div id=\"sk-container-id-1\" class=\"sk-top-container\"><div class=\"sk-text-repr-fallback\"><pre>LGBMRegressor(learning_rate=0.0956621333321235, max_depth=7,\n",
       "              metric=&#x27;root_mean_squared_error&#x27;, random_state=42)</pre><b>In a Jupyter environment, please rerun this cell to show the HTML representation or trust the notebook. <br />On GitHub, the HTML representation is unable to render, please try loading this page with nbviewer.org.</b></div><div class=\"sk-container\" hidden><div class=\"sk-item\"><div class=\"sk-estimator sk-toggleable\"><input class=\"sk-toggleable__control sk-hidden--visually\" id=\"sk-estimator-id-1\" type=\"checkbox\" checked><label for=\"sk-estimator-id-1\" class=\"sk-toggleable__label sk-toggleable__label-arrow\">LGBMRegressor</label><div class=\"sk-toggleable__content\"><pre>LGBMRegressor(learning_rate=0.0956621333321235, max_depth=7,\n",
       "              metric=&#x27;root_mean_squared_error&#x27;, random_state=42)</pre></div></div></div></div></div>"
      ],
      "text/plain": [
       "LGBMRegressor(learning_rate=0.0956621333321235, max_depth=7,\n",
       "              metric='root_mean_squared_error', random_state=42)"
      ]
     },
     "execution_count": 73,
     "metadata": {},
     "output_type": "execute_result"
    }
   ],
   "source": [
    "%%time\n",
    "model_lgbm.fit(X_train_lgbm, y_train)"
   ]
  },
  {
   "cell_type": "code",
   "execution_count": 74,
   "metadata": {},
   "outputs": [],
   "source": [
    "y_pred_lgbm = model_lgbm.predict(X_val_lgbm)"
   ]
  },
  {
   "cell_type": "code",
   "execution_count": 75,
   "metadata": {},
   "outputs": [
    {
     "data": {
      "text/plain": [
       "1756.4786944637276"
      ]
     },
     "execution_count": 75,
     "metadata": {},
     "output_type": "execute_result"
    }
   ],
   "source": [
    "mean_squared_error(y_val, y_pred_lgbm, squared=False)"
   ]
  },
  {
   "cell_type": "markdown",
   "metadata": {},
   "source": [
    "На валидационной выборке LightGBM обеспечивает RMSE 1756. Для сравнения с другими моделями измерим время обучения и предсказания."
   ]
  },
  {
   "cell_type": "code",
   "execution_count": 76,
   "metadata": {},
   "outputs": [
    {
     "name": "stdout",
     "output_type": "stream",
     "text": [
      "CPU times: user 1.42 s, sys: 179 ms, total: 1.6 s\n",
      "Wall time: 174 ms\n"
     ]
    },
    {
     "data": {
      "text/html": [
       "<style>#sk-container-id-2 {color: black;background-color: white;}#sk-container-id-2 pre{padding: 0;}#sk-container-id-2 div.sk-toggleable {background-color: white;}#sk-container-id-2 label.sk-toggleable__label {cursor: pointer;display: block;width: 100%;margin-bottom: 0;padding: 0.3em;box-sizing: border-box;text-align: center;}#sk-container-id-2 label.sk-toggleable__label-arrow:before {content: \"▸\";float: left;margin-right: 0.25em;color: #696969;}#sk-container-id-2 label.sk-toggleable__label-arrow:hover:before {color: black;}#sk-container-id-2 div.sk-estimator:hover label.sk-toggleable__label-arrow:before {color: black;}#sk-container-id-2 div.sk-toggleable__content {max-height: 0;max-width: 0;overflow: hidden;text-align: left;background-color: #f0f8ff;}#sk-container-id-2 div.sk-toggleable__content pre {margin: 0.2em;color: black;border-radius: 0.25em;background-color: #f0f8ff;}#sk-container-id-2 input.sk-toggleable__control:checked~div.sk-toggleable__content {max-height: 200px;max-width: 100%;overflow: auto;}#sk-container-id-2 input.sk-toggleable__control:checked~label.sk-toggleable__label-arrow:before {content: \"▾\";}#sk-container-id-2 div.sk-estimator input.sk-toggleable__control:checked~label.sk-toggleable__label {background-color: #d4ebff;}#sk-container-id-2 div.sk-label input.sk-toggleable__control:checked~label.sk-toggleable__label {background-color: #d4ebff;}#sk-container-id-2 input.sk-hidden--visually {border: 0;clip: rect(1px 1px 1px 1px);clip: rect(1px, 1px, 1px, 1px);height: 1px;margin: -1px;overflow: hidden;padding: 0;position: absolute;width: 1px;}#sk-container-id-2 div.sk-estimator {font-family: monospace;background-color: #f0f8ff;border: 1px dotted black;border-radius: 0.25em;box-sizing: border-box;margin-bottom: 0.5em;}#sk-container-id-2 div.sk-estimator:hover {background-color: #d4ebff;}#sk-container-id-2 div.sk-parallel-item::after {content: \"\";width: 100%;border-bottom: 1px solid gray;flex-grow: 1;}#sk-container-id-2 div.sk-label:hover label.sk-toggleable__label {background-color: #d4ebff;}#sk-container-id-2 div.sk-serial::before {content: \"\";position: absolute;border-left: 1px solid gray;box-sizing: border-box;top: 0;bottom: 0;left: 50%;z-index: 0;}#sk-container-id-2 div.sk-serial {display: flex;flex-direction: column;align-items: center;background-color: white;padding-right: 0.2em;padding-left: 0.2em;position: relative;}#sk-container-id-2 div.sk-item {position: relative;z-index: 1;}#sk-container-id-2 div.sk-parallel {display: flex;align-items: stretch;justify-content: center;background-color: white;position: relative;}#sk-container-id-2 div.sk-item::before, #sk-container-id-2 div.sk-parallel-item::before {content: \"\";position: absolute;border-left: 1px solid gray;box-sizing: border-box;top: 0;bottom: 0;left: 50%;z-index: -1;}#sk-container-id-2 div.sk-parallel-item {display: flex;flex-direction: column;z-index: 1;position: relative;background-color: white;}#sk-container-id-2 div.sk-parallel-item:first-child::after {align-self: flex-end;width: 50%;}#sk-container-id-2 div.sk-parallel-item:last-child::after {align-self: flex-start;width: 50%;}#sk-container-id-2 div.sk-parallel-item:only-child::after {width: 0;}#sk-container-id-2 div.sk-dashed-wrapped {border: 1px dashed gray;margin: 0 0.4em 0.5em 0.4em;box-sizing: border-box;padding-bottom: 0.4em;background-color: white;}#sk-container-id-2 div.sk-label label {font-family: monospace;font-weight: bold;display: inline-block;line-height: 1.2em;}#sk-container-id-2 div.sk-label-container {text-align: center;}#sk-container-id-2 div.sk-container {/* jupyter's `normalize.less` sets `[hidden] { display: none; }` but bootstrap.min.css set `[hidden] { display: none !important; }` so we also need the `!important` here to be able to override the default hidden behavior on the sphinx rendered scikit-learn.org. See: https://github.com/scikit-learn/scikit-learn/issues/21755 */display: inline-block !important;position: relative;}#sk-container-id-2 div.sk-text-repr-fallback {display: none;}</style><div id=\"sk-container-id-2\" class=\"sk-top-container\"><div class=\"sk-text-repr-fallback\"><pre>LGBMRegressor(learning_rate=0.0956621333321235, max_depth=7,\n",
       "              metric=&#x27;root_mean_squared_error&#x27;, random_state=42)</pre><b>In a Jupyter environment, please rerun this cell to show the HTML representation or trust the notebook. <br />On GitHub, the HTML representation is unable to render, please try loading this page with nbviewer.org.</b></div><div class=\"sk-container\" hidden><div class=\"sk-item\"><div class=\"sk-estimator sk-toggleable\"><input class=\"sk-toggleable__control sk-hidden--visually\" id=\"sk-estimator-id-2\" type=\"checkbox\" checked><label for=\"sk-estimator-id-2\" class=\"sk-toggleable__label sk-toggleable__label-arrow\">LGBMRegressor</label><div class=\"sk-toggleable__content\"><pre>LGBMRegressor(learning_rate=0.0956621333321235, max_depth=7,\n",
       "              metric=&#x27;root_mean_squared_error&#x27;, random_state=42)</pre></div></div></div></div></div>"
      ],
      "text/plain": [
       "LGBMRegressor(learning_rate=0.0956621333321235, max_depth=7,\n",
       "              metric='root_mean_squared_error', random_state=42)"
      ]
     },
     "execution_count": 76,
     "metadata": {},
     "output_type": "execute_result"
    }
   ],
   "source": [
    "%%time\n",
    "model_lgbm.fit(X_val_lgbm, y_val)"
   ]
  },
  {
   "cell_type": "code",
   "execution_count": 77,
   "metadata": {},
   "outputs": [
    {
     "name": "stdout",
     "output_type": "stream",
     "text": [
      "CPU times: user 331 ms, sys: 24.3 ms, total: 356 ms\n",
      "Wall time: 39.4 ms\n"
     ]
    },
    {
     "data": {
      "text/plain": [
       "array([1189.28818935, 9575.75972106, 9229.86462677, ..., 2581.28918605,\n",
       "       5893.67533398, 1406.71500529])"
      ]
     },
     "execution_count": 77,
     "metadata": {},
     "output_type": "execute_result"
    }
   ],
   "source": [
    "%%time\n",
    "model_lgbm.predict(X_val_lgbm)"
   ]
  },
  {
   "cell_type": "markdown",
   "metadata": {},
   "source": [
    "Модель LightGBM обучилась за 356 миллисекунд, выдала предсказания за 371 миллисекунду."
   ]
  },
  {
   "cell_type": "markdown",
   "metadata": {},
   "source": [
    "Похоже, что модель на основе LightGBM обучается и предсказывает значительно быстрее своих конкурентов и лишь немного уступает модели CatBoost в точности предсказаний. Посчитаем для LightGBM значение метрики на тестовой выборке."
   ]
  },
  {
   "cell_type": "code",
   "execution_count": 78,
   "metadata": {},
   "outputs": [
    {
     "data": {
      "text/html": [
       "<style>#sk-container-id-3 {color: black;background-color: white;}#sk-container-id-3 pre{padding: 0;}#sk-container-id-3 div.sk-toggleable {background-color: white;}#sk-container-id-3 label.sk-toggleable__label {cursor: pointer;display: block;width: 100%;margin-bottom: 0;padding: 0.3em;box-sizing: border-box;text-align: center;}#sk-container-id-3 label.sk-toggleable__label-arrow:before {content: \"▸\";float: left;margin-right: 0.25em;color: #696969;}#sk-container-id-3 label.sk-toggleable__label-arrow:hover:before {color: black;}#sk-container-id-3 div.sk-estimator:hover label.sk-toggleable__label-arrow:before {color: black;}#sk-container-id-3 div.sk-toggleable__content {max-height: 0;max-width: 0;overflow: hidden;text-align: left;background-color: #f0f8ff;}#sk-container-id-3 div.sk-toggleable__content pre {margin: 0.2em;color: black;border-radius: 0.25em;background-color: #f0f8ff;}#sk-container-id-3 input.sk-toggleable__control:checked~div.sk-toggleable__content {max-height: 200px;max-width: 100%;overflow: auto;}#sk-container-id-3 input.sk-toggleable__control:checked~label.sk-toggleable__label-arrow:before {content: \"▾\";}#sk-container-id-3 div.sk-estimator input.sk-toggleable__control:checked~label.sk-toggleable__label {background-color: #d4ebff;}#sk-container-id-3 div.sk-label input.sk-toggleable__control:checked~label.sk-toggleable__label {background-color: #d4ebff;}#sk-container-id-3 input.sk-hidden--visually {border: 0;clip: rect(1px 1px 1px 1px);clip: rect(1px, 1px, 1px, 1px);height: 1px;margin: -1px;overflow: hidden;padding: 0;position: absolute;width: 1px;}#sk-container-id-3 div.sk-estimator {font-family: monospace;background-color: #f0f8ff;border: 1px dotted black;border-radius: 0.25em;box-sizing: border-box;margin-bottom: 0.5em;}#sk-container-id-3 div.sk-estimator:hover {background-color: #d4ebff;}#sk-container-id-3 div.sk-parallel-item::after {content: \"\";width: 100%;border-bottom: 1px solid gray;flex-grow: 1;}#sk-container-id-3 div.sk-label:hover label.sk-toggleable__label {background-color: #d4ebff;}#sk-container-id-3 div.sk-serial::before {content: \"\";position: absolute;border-left: 1px solid gray;box-sizing: border-box;top: 0;bottom: 0;left: 50%;z-index: 0;}#sk-container-id-3 div.sk-serial {display: flex;flex-direction: column;align-items: center;background-color: white;padding-right: 0.2em;padding-left: 0.2em;position: relative;}#sk-container-id-3 div.sk-item {position: relative;z-index: 1;}#sk-container-id-3 div.sk-parallel {display: flex;align-items: stretch;justify-content: center;background-color: white;position: relative;}#sk-container-id-3 div.sk-item::before, #sk-container-id-3 div.sk-parallel-item::before {content: \"\";position: absolute;border-left: 1px solid gray;box-sizing: border-box;top: 0;bottom: 0;left: 50%;z-index: -1;}#sk-container-id-3 div.sk-parallel-item {display: flex;flex-direction: column;z-index: 1;position: relative;background-color: white;}#sk-container-id-3 div.sk-parallel-item:first-child::after {align-self: flex-end;width: 50%;}#sk-container-id-3 div.sk-parallel-item:last-child::after {align-self: flex-start;width: 50%;}#sk-container-id-3 div.sk-parallel-item:only-child::after {width: 0;}#sk-container-id-3 div.sk-dashed-wrapped {border: 1px dashed gray;margin: 0 0.4em 0.5em 0.4em;box-sizing: border-box;padding-bottom: 0.4em;background-color: white;}#sk-container-id-3 div.sk-label label {font-family: monospace;font-weight: bold;display: inline-block;line-height: 1.2em;}#sk-container-id-3 div.sk-label-container {text-align: center;}#sk-container-id-3 div.sk-container {/* jupyter's `normalize.less` sets `[hidden] { display: none; }` but bootstrap.min.css set `[hidden] { display: none !important; }` so we also need the `!important` here to be able to override the default hidden behavior on the sphinx rendered scikit-learn.org. See: https://github.com/scikit-learn/scikit-learn/issues/21755 */display: inline-block !important;position: relative;}#sk-container-id-3 div.sk-text-repr-fallback {display: none;}</style><div id=\"sk-container-id-3\" class=\"sk-top-container\"><div class=\"sk-text-repr-fallback\"><pre>LGBMRegressor(learning_rate=0.0956621333321235, max_depth=7,\n",
       "              metric=&#x27;root_mean_squared_error&#x27;, random_state=42)</pre><b>In a Jupyter environment, please rerun this cell to show the HTML representation or trust the notebook. <br />On GitHub, the HTML representation is unable to render, please try loading this page with nbviewer.org.</b></div><div class=\"sk-container\" hidden><div class=\"sk-item\"><div class=\"sk-estimator sk-toggleable\"><input class=\"sk-toggleable__control sk-hidden--visually\" id=\"sk-estimator-id-3\" type=\"checkbox\" checked><label for=\"sk-estimator-id-3\" class=\"sk-toggleable__label sk-toggleable__label-arrow\">LGBMRegressor</label><div class=\"sk-toggleable__content\"><pre>LGBMRegressor(learning_rate=0.0956621333321235, max_depth=7,\n",
       "              metric=&#x27;root_mean_squared_error&#x27;, random_state=42)</pre></div></div></div></div></div>"
      ],
      "text/plain": [
       "LGBMRegressor(learning_rate=0.0956621333321235, max_depth=7,\n",
       "              metric='root_mean_squared_error', random_state=42)"
      ]
     },
     "execution_count": 78,
     "metadata": {},
     "output_type": "execute_result"
    }
   ],
   "source": [
    "X_train_fin = pd.concat([X_train, X_val])\n",
    "y_train_fin = pd.concat([y_train, y_val])\n",
    "\n",
    "for feature in cat_features:\n",
    "    X_train_fin[feature] = pd.Series(X_train_fin[feature], dtype='category')\n",
    "    \n",
    "model_lgbm.fit(X_train_fin, y_train_fin)\n"
   ]
  },
  {
   "cell_type": "code",
   "execution_count": 79,
   "metadata": {},
   "outputs": [
    {
     "name": "stdout",
     "output_type": "stream",
     "text": [
      "CPU times: user 409 ms, sys: 23.3 ms, total: 432 ms\n",
      "Wall time: 47.3 ms\n"
     ]
    }
   ],
   "source": [
    "%%time\n",
    "y_pred_lgbm = model_lgbm.predict(X_test_lgbm)"
   ]
  },
  {
   "cell_type": "code",
   "execution_count": 80,
   "metadata": {},
   "outputs": [
    {
     "data": {
      "text/plain": [
       "1745.667744721115"
      ]
     },
     "execution_count": 80,
     "metadata": {},
     "output_type": "execute_result"
    }
   ],
   "source": [
    "mean_squared_error(y_test, y_pred_lgbm, squared=False)"
   ]
  },
  {
   "cell_type": "markdown",
   "metadata": {},
   "source": [
    "**DummyModel**"
   ]
  },
  {
   "cell_type": "markdown",
   "metadata": {},
   "source": [
    "Чтобы убедиться, что наши модели действительно работают, сравним их с \"глупой\" моделью, которая всегда будет предсказывать среднее значение цены."
   ]
  },
  {
   "cell_type": "code",
   "execution_count": 81,
   "metadata": {},
   "outputs": [],
   "source": [
    "model_d = DummyRegressor()"
   ]
  },
  {
   "cell_type": "code",
   "execution_count": 82,
   "metadata": {},
   "outputs": [
    {
     "name": "stdout",
     "output_type": "stream",
     "text": [
      "CPU times: user 3.05 ms, sys: 1.41 ms, total: 4.47 ms\n",
      "Wall time: 509 µs\n"
     ]
    },
    {
     "data": {
      "text/html": [
       "<style>#sk-container-id-4 {color: black;background-color: white;}#sk-container-id-4 pre{padding: 0;}#sk-container-id-4 div.sk-toggleable {background-color: white;}#sk-container-id-4 label.sk-toggleable__label {cursor: pointer;display: block;width: 100%;margin-bottom: 0;padding: 0.3em;box-sizing: border-box;text-align: center;}#sk-container-id-4 label.sk-toggleable__label-arrow:before {content: \"▸\";float: left;margin-right: 0.25em;color: #696969;}#sk-container-id-4 label.sk-toggleable__label-arrow:hover:before {color: black;}#sk-container-id-4 div.sk-estimator:hover label.sk-toggleable__label-arrow:before {color: black;}#sk-container-id-4 div.sk-toggleable__content {max-height: 0;max-width: 0;overflow: hidden;text-align: left;background-color: #f0f8ff;}#sk-container-id-4 div.sk-toggleable__content pre {margin: 0.2em;color: black;border-radius: 0.25em;background-color: #f0f8ff;}#sk-container-id-4 input.sk-toggleable__control:checked~div.sk-toggleable__content {max-height: 200px;max-width: 100%;overflow: auto;}#sk-container-id-4 input.sk-toggleable__control:checked~label.sk-toggleable__label-arrow:before {content: \"▾\";}#sk-container-id-4 div.sk-estimator input.sk-toggleable__control:checked~label.sk-toggleable__label {background-color: #d4ebff;}#sk-container-id-4 div.sk-label input.sk-toggleable__control:checked~label.sk-toggleable__label {background-color: #d4ebff;}#sk-container-id-4 input.sk-hidden--visually {border: 0;clip: rect(1px 1px 1px 1px);clip: rect(1px, 1px, 1px, 1px);height: 1px;margin: -1px;overflow: hidden;padding: 0;position: absolute;width: 1px;}#sk-container-id-4 div.sk-estimator {font-family: monospace;background-color: #f0f8ff;border: 1px dotted black;border-radius: 0.25em;box-sizing: border-box;margin-bottom: 0.5em;}#sk-container-id-4 div.sk-estimator:hover {background-color: #d4ebff;}#sk-container-id-4 div.sk-parallel-item::after {content: \"\";width: 100%;border-bottom: 1px solid gray;flex-grow: 1;}#sk-container-id-4 div.sk-label:hover label.sk-toggleable__label {background-color: #d4ebff;}#sk-container-id-4 div.sk-serial::before {content: \"\";position: absolute;border-left: 1px solid gray;box-sizing: border-box;top: 0;bottom: 0;left: 50%;z-index: 0;}#sk-container-id-4 div.sk-serial {display: flex;flex-direction: column;align-items: center;background-color: white;padding-right: 0.2em;padding-left: 0.2em;position: relative;}#sk-container-id-4 div.sk-item {position: relative;z-index: 1;}#sk-container-id-4 div.sk-parallel {display: flex;align-items: stretch;justify-content: center;background-color: white;position: relative;}#sk-container-id-4 div.sk-item::before, #sk-container-id-4 div.sk-parallel-item::before {content: \"\";position: absolute;border-left: 1px solid gray;box-sizing: border-box;top: 0;bottom: 0;left: 50%;z-index: -1;}#sk-container-id-4 div.sk-parallel-item {display: flex;flex-direction: column;z-index: 1;position: relative;background-color: white;}#sk-container-id-4 div.sk-parallel-item:first-child::after {align-self: flex-end;width: 50%;}#sk-container-id-4 div.sk-parallel-item:last-child::after {align-self: flex-start;width: 50%;}#sk-container-id-4 div.sk-parallel-item:only-child::after {width: 0;}#sk-container-id-4 div.sk-dashed-wrapped {border: 1px dashed gray;margin: 0 0.4em 0.5em 0.4em;box-sizing: border-box;padding-bottom: 0.4em;background-color: white;}#sk-container-id-4 div.sk-label label {font-family: monospace;font-weight: bold;display: inline-block;line-height: 1.2em;}#sk-container-id-4 div.sk-label-container {text-align: center;}#sk-container-id-4 div.sk-container {/* jupyter's `normalize.less` sets `[hidden] { display: none; }` but bootstrap.min.css set `[hidden] { display: none !important; }` so we also need the `!important` here to be able to override the default hidden behavior on the sphinx rendered scikit-learn.org. See: https://github.com/scikit-learn/scikit-learn/issues/21755 */display: inline-block !important;position: relative;}#sk-container-id-4 div.sk-text-repr-fallback {display: none;}</style><div id=\"sk-container-id-4\" class=\"sk-top-container\"><div class=\"sk-text-repr-fallback\"><pre>DummyRegressor()</pre><b>In a Jupyter environment, please rerun this cell to show the HTML representation or trust the notebook. <br />On GitHub, the HTML representation is unable to render, please try loading this page with nbviewer.org.</b></div><div class=\"sk-container\" hidden><div class=\"sk-item\"><div class=\"sk-estimator sk-toggleable\"><input class=\"sk-toggleable__control sk-hidden--visually\" id=\"sk-estimator-id-4\" type=\"checkbox\" checked><label for=\"sk-estimator-id-4\" class=\"sk-toggleable__label sk-toggleable__label-arrow\">DummyRegressor</label><div class=\"sk-toggleable__content\"><pre>DummyRegressor()</pre></div></div></div></div></div>"
      ],
      "text/plain": [
       "DummyRegressor()"
      ]
     },
     "execution_count": 82,
     "metadata": {},
     "output_type": "execute_result"
    }
   ],
   "source": [
    "%%time\n",
    "model_d.fit(X_train, y_train)"
   ]
  },
  {
   "cell_type": "code",
   "execution_count": 83,
   "metadata": {},
   "outputs": [
    {
     "name": "stdout",
     "output_type": "stream",
     "text": [
      "CPU times: user 3.38 ms, sys: 2.09 ms, total: 5.47 ms\n",
      "Wall time: 648 µs\n"
     ]
    }
   ],
   "source": [
    "%%time\n",
    "y_pred_d = model_d.predict(X_test)"
   ]
  },
  {
   "cell_type": "code",
   "execution_count": 84,
   "metadata": {},
   "outputs": [
    {
     "data": {
      "text/plain": [
       "4671.286324599215"
      ]
     },
     "execution_count": 84,
     "metadata": {},
     "output_type": "execute_result"
    }
   ],
   "source": [
    "mean_squared_error(y_test, y_pred_d, squared=False)"
   ]
  },
  {
   "cell_type": "markdown",
   "metadata": {},
   "source": [
    "Модель обучилась быстро, а вот значение метрики значительно хуже, чем у всех остальных моделей. А значит все наши модели обучились и прошли проверку на адекватность."
   ]
  },
  {
   "cell_type": "markdown",
   "metadata": {},
   "source": [
    "## Анализ моделей"
   ]
  },
  {
   "cell_type": "markdown",
   "metadata": {},
   "source": [
    "По результатам анализа выше видно, что модель Catboost обучается и предсказывает быстрее, чем LGBMRegressor.\n",
    "\n",
    "При этом скорость выполнения ячейки кода по команде %%time выше у LGBMRegressor. Более того следуюет отметить, что метрика RMSE также лучше у данной модели."
   ]
  },
  {
   "cell_type": "markdown",
   "metadata": {},
   "source": [
    "# Общий вывод"
   ]
  },
  {
   "cell_type": "markdown",
   "metadata": {},
   "source": [
    "По результатам предобработки исходных данных и подготовке выборок для обучения и предсказания, лучше всего проявила себя модель LGBMRegressor. Целевая метрика RMSE (ниже 2500) достигнута.\n",
    "\n",
    "Лучшие параметры LGBMRegressor: learning_rate=0.0956621333321235, max_depth=7,"
   ]
  },
  {
   "cell_type": "code",
   "execution_count": null,
   "metadata": {},
   "outputs": [],
   "source": []
  }
 ],
 "metadata": {
  "ExecuteTimeLog": [
   {
    "duration": 2649,
    "start_time": "2022-11-20T18:04:01.525Z"
   },
   {
    "duration": 1185,
    "start_time": "2022-11-20T18:04:12.747Z"
   },
   {
    "duration": 2154,
    "start_time": "2022-11-21T02:48:32.572Z"
   },
   {
    "duration": 1531,
    "start_time": "2022-11-21T02:49:35.830Z"
   },
   {
    "duration": 47,
    "start_time": "2022-11-21T03:12:38.660Z"
   },
   {
    "duration": 2099,
    "start_time": "2022-11-21T03:12:38.859Z"
   },
   {
    "duration": 1305,
    "start_time": "2022-11-21T03:12:40.960Z"
   },
   {
    "duration": 1057,
    "start_time": "2022-11-21T03:12:42.267Z"
   },
   {
    "duration": 18,
    "start_time": "2022-11-21T03:12:43.325Z"
   },
   {
    "duration": 129,
    "start_time": "2022-11-21T03:12:43.345Z"
   },
   {
    "duration": 98,
    "start_time": "2022-11-21T03:12:43.476Z"
   },
   {
    "duration": 399,
    "start_time": "2022-11-21T03:12:43.575Z"
   },
   {
    "duration": 492,
    "start_time": "2022-11-21T03:12:43.976Z"
   },
   {
    "duration": 31,
    "start_time": "2022-11-21T03:12:44.469Z"
   },
   {
    "duration": 37,
    "start_time": "2022-11-21T03:12:44.502Z"
   },
   {
    "duration": 18,
    "start_time": "2022-11-21T03:12:44.541Z"
   },
   {
    "duration": 155,
    "start_time": "2022-11-21T03:12:44.561Z"
   },
   {
    "duration": 33,
    "start_time": "2022-11-21T03:12:44.717Z"
   },
   {
    "duration": 16,
    "start_time": "2022-11-21T03:12:44.753Z"
   },
   {
    "duration": 145,
    "start_time": "2022-11-21T03:12:44.771Z"
   },
   {
    "duration": 32,
    "start_time": "2022-11-21T03:12:44.921Z"
   },
   {
    "duration": 19,
    "start_time": "2022-11-21T03:12:44.955Z"
   },
   {
    "duration": 155,
    "start_time": "2022-11-21T03:12:44.975Z"
   },
   {
    "duration": 34,
    "start_time": "2022-11-21T03:12:45.132Z"
   },
   {
    "duration": 81,
    "start_time": "2022-11-21T03:12:45.168Z"
   },
   {
    "duration": 79,
    "start_time": "2022-11-21T03:12:45.251Z"
   },
   {
    "duration": 43,
    "start_time": "2022-11-21T03:12:45.332Z"
   },
   {
    "duration": 153,
    "start_time": "2022-11-21T03:12:45.377Z"
   },
   {
    "duration": 33,
    "start_time": "2022-11-21T03:12:45.532Z"
   },
   {
    "duration": 30,
    "start_time": "2022-11-21T03:12:45.567Z"
   },
   {
    "duration": 34,
    "start_time": "2022-11-21T03:12:45.598Z"
   },
   {
    "duration": 223,
    "start_time": "2022-11-21T03:12:45.634Z"
   },
   {
    "duration": 101,
    "start_time": "2022-11-21T03:12:45.859Z"
   },
   {
    "duration": 380,
    "start_time": "2022-11-21T03:12:45.961Z"
   },
   {
    "duration": 278,
    "start_time": "2022-11-21T03:12:46.343Z"
   },
   {
    "duration": 20,
    "start_time": "2022-11-21T03:12:46.622Z"
   },
   {
    "duration": 14,
    "start_time": "2022-11-21T03:12:46.644Z"
   },
   {
    "duration": 161,
    "start_time": "2022-11-21T03:12:46.660Z"
   },
   {
    "duration": 391,
    "start_time": "2022-11-21T03:12:46.822Z"
   },
   {
    "duration": 316,
    "start_time": "2022-11-21T03:12:47.214Z"
   },
   {
    "duration": 331,
    "start_time": "2022-11-21T03:12:47.532Z"
   },
   {
    "duration": 191,
    "start_time": "2022-11-21T03:12:47.864Z"
   },
   {
    "duration": 153,
    "start_time": "2022-11-21T03:12:48.057Z"
   },
   {
    "duration": 314,
    "start_time": "2022-11-21T03:12:48.212Z"
   },
   {
    "duration": 182,
    "start_time": "2022-11-21T03:12:48.528Z"
   },
   {
    "duration": 10,
    "start_time": "2022-11-21T03:12:48.714Z"
   },
   {
    "duration": 46,
    "start_time": "2022-11-21T03:12:48.726Z"
   },
   {
    "duration": 6,
    "start_time": "2022-11-21T03:12:48.774Z"
   },
   {
    "duration": 182,
    "start_time": "2022-11-21T03:12:48.781Z"
   },
   {
    "duration": 12,
    "start_time": "2022-11-21T03:12:48.965Z"
   },
   {
    "duration": 209,
    "start_time": "2022-11-21T03:12:48.979Z"
   },
   {
    "duration": 78,
    "start_time": "2022-11-21T03:12:49.190Z"
   },
   {
    "duration": 47,
    "start_time": "2022-11-21T14:35:28.697Z"
   },
   {
    "duration": 2545,
    "start_time": "2022-11-21T14:35:44.340Z"
   },
   {
    "duration": 1832,
    "start_time": "2022-11-21T14:35:46.887Z"
   },
   {
    "duration": 3067,
    "start_time": "2022-11-21T14:35:48.721Z"
   },
   {
    "duration": 16,
    "start_time": "2022-11-21T14:35:51.790Z"
   },
   {
    "duration": 135,
    "start_time": "2022-11-21T14:35:51.808Z"
   },
   {
    "duration": 101,
    "start_time": "2022-11-21T14:35:51.945Z"
   },
   {
    "duration": 441,
    "start_time": "2022-11-21T14:35:52.048Z"
   },
   {
    "duration": 528,
    "start_time": "2022-11-21T14:35:52.491Z"
   },
   {
    "duration": 31,
    "start_time": "2022-11-21T14:35:53.021Z"
   },
   {
    "duration": 22,
    "start_time": "2022-11-21T14:35:53.054Z"
   },
   {
    "duration": 28,
    "start_time": "2022-11-21T14:35:53.077Z"
   },
   {
    "duration": 162,
    "start_time": "2022-11-21T14:35:53.107Z"
   },
   {
    "duration": 42,
    "start_time": "2022-11-21T14:35:53.271Z"
   },
   {
    "duration": 26,
    "start_time": "2022-11-21T14:35:53.315Z"
   },
   {
    "duration": 163,
    "start_time": "2022-11-21T14:35:53.343Z"
   },
   {
    "duration": 36,
    "start_time": "2022-11-21T14:35:53.507Z"
   },
   {
    "duration": 18,
    "start_time": "2022-11-21T14:35:53.544Z"
   },
   {
    "duration": 165,
    "start_time": "2022-11-21T14:35:53.564Z"
   },
   {
    "duration": 54,
    "start_time": "2022-11-21T14:35:53.731Z"
   },
   {
    "duration": 74,
    "start_time": "2022-11-21T14:35:53.787Z"
   },
   {
    "duration": 77,
    "start_time": "2022-11-21T14:35:53.863Z"
   },
   {
    "duration": 46,
    "start_time": "2022-11-21T14:35:53.941Z"
   },
   {
    "duration": 175,
    "start_time": "2022-11-21T14:35:53.989Z"
   },
   {
    "duration": 47,
    "start_time": "2022-11-21T14:35:54.166Z"
   },
   {
    "duration": 41,
    "start_time": "2022-11-21T14:35:54.214Z"
   },
   {
    "duration": 38,
    "start_time": "2022-11-21T14:35:54.257Z"
   },
   {
    "duration": 248,
    "start_time": "2022-11-21T14:35:54.297Z"
   },
   {
    "duration": 107,
    "start_time": "2022-11-21T14:35:54.549Z"
   },
   {
    "duration": 416,
    "start_time": "2022-11-21T14:35:54.658Z"
   },
   {
    "duration": 286,
    "start_time": "2022-11-21T14:35:55.075Z"
   },
   {
    "duration": 20,
    "start_time": "2022-11-21T14:35:55.363Z"
   },
   {
    "duration": 22,
    "start_time": "2022-11-21T14:35:55.385Z"
   },
   {
    "duration": 164,
    "start_time": "2022-11-21T14:35:55.408Z"
   },
   {
    "duration": 406,
    "start_time": "2022-11-21T14:35:55.573Z"
   },
   {
    "duration": 354,
    "start_time": "2022-11-21T14:35:55.980Z"
   },
   {
    "duration": 376,
    "start_time": "2022-11-21T14:35:56.336Z"
   },
   {
    "duration": 201,
    "start_time": "2022-11-21T14:35:56.714Z"
   },
   {
    "duration": 163,
    "start_time": "2022-11-21T14:35:56.916Z"
   },
   {
    "duration": 274,
    "start_time": "2022-11-21T14:35:57.080Z"
   },
   {
    "duration": 218,
    "start_time": "2022-11-21T14:35:57.356Z"
   },
   {
    "duration": 7,
    "start_time": "2022-11-21T14:35:57.576Z"
   },
   {
    "duration": 95,
    "start_time": "2022-11-21T14:35:57.585Z"
   },
   {
    "duration": 6,
    "start_time": "2022-11-21T14:35:57.682Z"
   },
   {
    "duration": 194,
    "start_time": "2022-11-21T14:35:57.689Z"
   },
   {
    "duration": 12,
    "start_time": "2022-11-21T14:35:57.884Z"
   },
   {
    "duration": 29,
    "start_time": "2022-11-21T14:35:57.903Z"
   },
   {
    "duration": 125,
    "start_time": "2022-11-21T14:35:57.933Z"
   },
   {
    "duration": 90,
    "start_time": "2022-11-21T14:35:58.060Z"
   },
   {
    "duration": 77,
    "start_time": "2022-11-21T16:11:23.871Z"
   },
   {
    "duration": 566,
    "start_time": "2022-11-21T16:26:24.798Z"
   },
   {
    "duration": 467,
    "start_time": "2022-11-21T16:26:50.559Z"
   },
   {
    "duration": 470,
    "start_time": "2022-11-21T16:27:08.842Z"
   },
   {
    "duration": 479,
    "start_time": "2022-11-21T16:34:35.955Z"
   },
   {
    "duration": 2634,
    "start_time": "2022-11-21T16:43:31.629Z"
   },
   {
    "duration": 2325,
    "start_time": "2022-11-21T17:29:48.198Z"
   },
   {
    "duration": 1399,
    "start_time": "2022-11-21T17:29:50.526Z"
   },
   {
    "duration": 846,
    "start_time": "2022-11-21T17:29:51.927Z"
   },
   {
    "duration": 31,
    "start_time": "2022-11-21T17:29:52.775Z"
   },
   {
    "duration": 159,
    "start_time": "2022-11-21T17:29:52.808Z"
   },
   {
    "duration": 107,
    "start_time": "2022-11-21T17:29:52.970Z"
   },
   {
    "duration": 473,
    "start_time": "2022-11-21T17:29:53.079Z"
   },
   {
    "duration": 559,
    "start_time": "2022-11-21T17:29:53.554Z"
   },
   {
    "duration": 44,
    "start_time": "2022-11-21T17:29:54.115Z"
   },
   {
    "duration": 43,
    "start_time": "2022-11-21T17:29:54.164Z"
   },
   {
    "duration": 20,
    "start_time": "2022-11-21T17:29:54.208Z"
   },
   {
    "duration": 152,
    "start_time": "2022-11-21T17:29:54.229Z"
   },
   {
    "duration": 41,
    "start_time": "2022-11-21T17:29:54.383Z"
   },
   {
    "duration": 19,
    "start_time": "2022-11-21T17:29:54.426Z"
   },
   {
    "duration": 152,
    "start_time": "2022-11-21T17:29:54.447Z"
   },
   {
    "duration": 34,
    "start_time": "2022-11-21T17:29:54.603Z"
   },
   {
    "duration": 18,
    "start_time": "2022-11-21T17:29:54.639Z"
   },
   {
    "duration": 195,
    "start_time": "2022-11-21T17:29:54.659Z"
   },
   {
    "duration": 49,
    "start_time": "2022-11-21T17:29:54.856Z"
   },
   {
    "duration": 75,
    "start_time": "2022-11-21T17:29:54.908Z"
   },
   {
    "duration": 76,
    "start_time": "2022-11-21T17:29:54.984Z"
   },
   {
    "duration": 62,
    "start_time": "2022-11-21T17:29:55.063Z"
   },
   {
    "duration": 171,
    "start_time": "2022-11-21T17:29:55.127Z"
   },
   {
    "duration": 34,
    "start_time": "2022-11-21T17:29:55.299Z"
   },
   {
    "duration": 35,
    "start_time": "2022-11-21T17:29:55.335Z"
   },
   {
    "duration": 38,
    "start_time": "2022-11-21T17:29:55.372Z"
   },
   {
    "duration": 243,
    "start_time": "2022-11-21T17:29:55.411Z"
   },
   {
    "duration": 111,
    "start_time": "2022-11-21T17:29:55.657Z"
   },
   {
    "duration": 413,
    "start_time": "2022-11-21T17:29:55.770Z"
   },
   {
    "duration": 326,
    "start_time": "2022-11-21T17:29:56.186Z"
   },
   {
    "duration": 24,
    "start_time": "2022-11-21T17:29:56.514Z"
   },
   {
    "duration": 7,
    "start_time": "2022-11-21T17:29:56.540Z"
   },
   {
    "duration": 177,
    "start_time": "2022-11-21T17:29:56.549Z"
   },
   {
    "duration": 441,
    "start_time": "2022-11-21T17:29:56.728Z"
   },
   {
    "duration": 435,
    "start_time": "2022-11-21T17:29:57.171Z"
   },
   {
    "duration": 459,
    "start_time": "2022-11-21T17:29:57.608Z"
   },
   {
    "duration": 250,
    "start_time": "2022-11-21T17:29:58.069Z"
   },
   {
    "duration": 200,
    "start_time": "2022-11-21T17:29:58.321Z"
   },
   {
    "duration": 289,
    "start_time": "2022-11-21T17:29:58.522Z"
   },
   {
    "duration": 187,
    "start_time": "2022-11-21T17:29:58.813Z"
   },
   {
    "duration": 8,
    "start_time": "2022-11-21T17:29:59.004Z"
   },
   {
    "duration": 61,
    "start_time": "2022-11-21T17:29:59.014Z"
   },
   {
    "duration": 6,
    "start_time": "2022-11-21T17:29:59.077Z"
   },
   {
    "duration": 188,
    "start_time": "2022-11-21T17:29:59.105Z"
   },
   {
    "duration": 14,
    "start_time": "2022-11-21T17:29:59.295Z"
   },
   {
    "duration": 37,
    "start_time": "2022-11-21T17:29:59.311Z"
   },
   {
    "duration": 118,
    "start_time": "2022-11-21T17:29:59.351Z"
   },
   {
    "duration": 83,
    "start_time": "2022-11-21T17:29:59.471Z"
   },
   {
    "duration": 88,
    "start_time": "2022-11-21T17:29:59.555Z"
   },
   {
    "duration": 578,
    "start_time": "2022-11-21T17:29:59.645Z"
   },
   {
    "duration": 2653,
    "start_time": "2022-11-21T17:30:00.225Z"
   },
   {
    "duration": 710227,
    "start_time": "2022-11-21T17:30:02.880Z"
   },
   {
    "duration": 558459,
    "start_time": "2022-11-21T17:44:51.246Z"
   },
   {
    "duration": 2296,
    "start_time": "2022-11-21T18:02:10.933Z"
   },
   {
    "duration": 1519,
    "start_time": "2022-11-21T18:02:13.232Z"
   },
   {
    "duration": 906,
    "start_time": "2022-11-21T18:02:14.753Z"
   },
   {
    "duration": 19,
    "start_time": "2022-11-21T18:02:15.661Z"
   },
   {
    "duration": 171,
    "start_time": "2022-11-21T18:02:15.681Z"
   },
   {
    "duration": 102,
    "start_time": "2022-11-21T18:02:15.854Z"
   },
   {
    "duration": 489,
    "start_time": "2022-11-21T18:02:15.957Z"
   },
   {
    "duration": 575,
    "start_time": "2022-11-21T18:02:16.448Z"
   },
   {
    "duration": 32,
    "start_time": "2022-11-21T18:02:17.032Z"
   },
   {
    "duration": 20,
    "start_time": "2022-11-21T18:02:17.065Z"
   },
   {
    "duration": 31,
    "start_time": "2022-11-21T18:02:17.087Z"
   },
   {
    "duration": 158,
    "start_time": "2022-11-21T18:02:17.128Z"
   },
   {
    "duration": 49,
    "start_time": "2022-11-21T18:02:17.288Z"
   },
   {
    "duration": 15,
    "start_time": "2022-11-21T18:02:17.340Z"
   },
   {
    "duration": 177,
    "start_time": "2022-11-21T18:02:17.357Z"
   },
   {
    "duration": 32,
    "start_time": "2022-11-21T18:02:17.538Z"
   },
   {
    "duration": 24,
    "start_time": "2022-11-21T18:02:17.572Z"
   },
   {
    "duration": 219,
    "start_time": "2022-11-21T18:02:17.598Z"
   },
   {
    "duration": 47,
    "start_time": "2022-11-21T18:02:17.819Z"
   },
   {
    "duration": 93,
    "start_time": "2022-11-21T18:02:17.869Z"
   },
   {
    "duration": 85,
    "start_time": "2022-11-21T18:02:17.964Z"
   },
   {
    "duration": 50,
    "start_time": "2022-11-21T18:02:18.051Z"
   },
   {
    "duration": 206,
    "start_time": "2022-11-21T18:02:18.103Z"
   },
   {
    "duration": 48,
    "start_time": "2022-11-21T18:02:18.316Z"
   },
   {
    "duration": 34,
    "start_time": "2022-11-21T18:02:18.365Z"
   },
   {
    "duration": 49,
    "start_time": "2022-11-21T18:02:18.400Z"
   },
   {
    "duration": 245,
    "start_time": "2022-11-21T18:02:18.451Z"
   },
   {
    "duration": 132,
    "start_time": "2022-11-21T18:02:18.698Z"
   },
   {
    "duration": 447,
    "start_time": "2022-11-21T18:02:18.834Z"
   },
   {
    "duration": 306,
    "start_time": "2022-11-21T18:02:19.283Z"
   },
   {
    "duration": 41,
    "start_time": "2022-11-21T18:02:19.591Z"
   },
   {
    "duration": 6,
    "start_time": "2022-11-21T18:02:19.634Z"
   },
   {
    "duration": 179,
    "start_time": "2022-11-21T18:02:19.641Z"
   },
   {
    "duration": 469,
    "start_time": "2022-11-21T18:02:19.827Z"
   },
   {
    "duration": 388,
    "start_time": "2022-11-21T18:02:20.298Z"
   },
   {
    "duration": 377,
    "start_time": "2022-11-21T18:02:20.688Z"
   },
   {
    "duration": 215,
    "start_time": "2022-11-21T18:02:21.067Z"
   },
   {
    "duration": 168,
    "start_time": "2022-11-21T18:02:21.284Z"
   },
   {
    "duration": 311,
    "start_time": "2022-11-21T18:02:21.453Z"
   },
   {
    "duration": 198,
    "start_time": "2022-11-21T18:02:21.765Z"
   },
   {
    "duration": 6,
    "start_time": "2022-11-21T18:02:21.968Z"
   },
   {
    "duration": 69,
    "start_time": "2022-11-21T18:02:21.976Z"
   },
   {
    "duration": 8,
    "start_time": "2022-11-21T18:02:22.046Z"
   },
   {
    "duration": 212,
    "start_time": "2022-11-21T18:02:22.056Z"
   },
   {
    "duration": 9,
    "start_time": "2022-11-21T18:02:22.270Z"
   },
   {
    "duration": 30,
    "start_time": "2022-11-21T18:02:22.281Z"
   },
   {
    "duration": 121,
    "start_time": "2022-11-21T18:02:22.313Z"
   },
   {
    "duration": 86,
    "start_time": "2022-11-21T18:02:22.436Z"
   },
   {
    "duration": 80,
    "start_time": "2022-11-21T18:02:22.527Z"
   },
   {
    "duration": 545,
    "start_time": "2022-11-21T18:02:22.610Z"
   },
   {
    "duration": 2689,
    "start_time": "2022-11-21T18:02:23.157Z"
   },
   {
    "duration": 1227658,
    "start_time": "2022-11-21T18:02:25.848Z"
   },
   {
    "duration": 20,
    "start_time": "2022-11-21T18:32:20.032Z"
   },
   {
    "duration": 19,
    "start_time": "2022-11-21T18:33:49.876Z"
   },
   {
    "duration": 15479,
    "start_time": "2022-11-21T18:39:47.222Z"
   },
   {
    "duration": 2130987,
    "start_time": "2022-11-21T18:43:52.840Z"
   },
   {
    "duration": 25,
    "start_time": "2022-11-21T19:23:57.001Z"
   },
   {
    "duration": 19,
    "start_time": "2022-11-21T19:24:23.880Z"
   },
   {
    "duration": 4,
    "start_time": "2022-11-21T19:33:10.934Z"
   },
   {
    "duration": 15875,
    "start_time": "2022-11-21T19:33:34.636Z"
   },
   {
    "duration": 17877,
    "start_time": "2022-11-21T19:35:15.140Z"
   },
   {
    "duration": 16640,
    "start_time": "2022-11-21T19:36:41.670Z"
   },
   {
    "duration": 16788,
    "start_time": "2022-11-21T19:37:34.518Z"
   },
   {
    "duration": 12484,
    "start_time": "2022-11-21T19:43:38.422Z"
   },
   {
    "duration": 11,
    "start_time": "2022-11-21T19:49:51.316Z"
   },
   {
    "duration": 20,
    "start_time": "2022-11-21T19:51:56.616Z"
   },
   {
    "duration": 21,
    "start_time": "2022-11-21T19:53:31.780Z"
   },
   {
    "duration": 431,
    "start_time": "2022-11-21T20:03:08.297Z"
   },
   {
    "duration": 1459,
    "start_time": "2022-11-22T02:15:56.370Z"
   },
   {
    "duration": 1060,
    "start_time": "2022-11-22T02:15:58.775Z"
   },
   {
    "duration": 17,
    "start_time": "2022-11-22T02:15:59.837Z"
   },
   {
    "duration": 124,
    "start_time": "2022-11-22T02:15:59.855Z"
   },
   {
    "duration": 130,
    "start_time": "2022-11-22T02:15:59.981Z"
   },
   {
    "duration": 442,
    "start_time": "2022-11-22T02:16:00.596Z"
   },
   {
    "duration": 581,
    "start_time": "2022-11-22T02:16:01.230Z"
   },
   {
    "duration": 31,
    "start_time": "2022-11-22T02:16:01.873Z"
   },
   {
    "duration": 15,
    "start_time": "2022-11-22T02:16:02.190Z"
   },
   {
    "duration": 16,
    "start_time": "2022-11-22T02:16:02.737Z"
   },
   {
    "duration": 116,
    "start_time": "2022-11-22T02:16:03.419Z"
   },
   {
    "duration": 112,
    "start_time": "2022-11-22T02:16:15.032Z"
   },
   {
    "duration": 115,
    "start_time": "2022-11-22T02:17:01.092Z"
   },
   {
    "duration": 114,
    "start_time": "2022-11-22T02:17:07.620Z"
   },
   {
    "duration": 4,
    "start_time": "2022-11-22T02:22:18.166Z"
   },
   {
    "duration": 51,
    "start_time": "2022-11-22T15:09:23.479Z"
   },
   {
    "duration": 2443,
    "start_time": "2022-11-22T15:12:10.685Z"
   },
   {
    "duration": 1763,
    "start_time": "2022-11-22T15:12:13.131Z"
   },
   {
    "duration": 3075,
    "start_time": "2022-11-22T15:12:14.896Z"
   },
   {
    "duration": 25,
    "start_time": "2022-11-22T15:12:17.973Z"
   },
   {
    "duration": 109,
    "start_time": "2022-11-22T15:12:18.000Z"
   },
   {
    "duration": 163,
    "start_time": "2022-11-22T15:12:18.111Z"
   },
   {
    "duration": 490,
    "start_time": "2022-11-22T15:12:18.276Z"
   },
   {
    "duration": 639,
    "start_time": "2022-11-22T15:12:18.768Z"
   },
   {
    "duration": 32,
    "start_time": "2022-11-22T15:12:19.409Z"
   },
   {
    "duration": 18,
    "start_time": "2022-11-22T15:12:19.443Z"
   },
   {
    "duration": 30,
    "start_time": "2022-11-22T15:12:19.463Z"
   },
   {
    "duration": 117,
    "start_time": "2022-11-22T15:12:19.496Z"
   },
   {
    "duration": 128,
    "start_time": "2022-11-22T15:12:19.623Z"
   },
   {
    "duration": 30,
    "start_time": "2022-11-22T15:12:19.754Z"
   },
   {
    "duration": 38,
    "start_time": "2022-11-22T15:12:19.786Z"
   },
   {
    "duration": 131,
    "start_time": "2022-11-22T15:12:19.826Z"
   },
   {
    "duration": 31,
    "start_time": "2022-11-22T15:12:19.960Z"
   },
   {
    "duration": 38,
    "start_time": "2022-11-22T15:12:19.993Z"
   },
   {
    "duration": 137,
    "start_time": "2022-11-22T15:12:20.033Z"
   },
   {
    "duration": 29,
    "start_time": "2022-11-22T15:12:20.172Z"
   },
   {
    "duration": 72,
    "start_time": "2022-11-22T15:12:20.203Z"
   },
   {
    "duration": 70,
    "start_time": "2022-11-22T15:12:20.276Z"
   },
   {
    "duration": 54,
    "start_time": "2022-11-22T15:12:20.348Z"
   },
   {
    "duration": 140,
    "start_time": "2022-11-22T15:12:20.404Z"
   },
   {
    "duration": 32,
    "start_time": "2022-11-22T15:12:20.546Z"
   },
   {
    "duration": 47,
    "start_time": "2022-11-22T15:12:20.579Z"
   },
   {
    "duration": 16,
    "start_time": "2022-11-22T15:12:20.627Z"
   },
   {
    "duration": 256,
    "start_time": "2022-11-22T15:12:20.644Z"
   },
   {
    "duration": 96,
    "start_time": "2022-11-22T15:12:20.901Z"
   },
   {
    "duration": 424,
    "start_time": "2022-11-22T15:12:20.999Z"
   },
   {
    "duration": 317,
    "start_time": "2022-11-22T15:12:21.425Z"
   },
   {
    "duration": 24,
    "start_time": "2022-11-22T15:12:21.744Z"
   },
   {
    "duration": 10,
    "start_time": "2022-11-22T15:12:21.770Z"
   },
   {
    "duration": 183,
    "start_time": "2022-11-22T15:12:21.783Z"
   },
   {
    "duration": 458,
    "start_time": "2022-11-22T15:12:21.969Z"
   },
   {
    "duration": 377,
    "start_time": "2022-11-22T15:12:22.429Z"
   },
   {
    "duration": 385,
    "start_time": "2022-11-22T15:12:22.808Z"
   },
   {
    "duration": 227,
    "start_time": "2022-11-22T15:12:23.195Z"
   },
   {
    "duration": 156,
    "start_time": "2022-11-22T15:12:23.423Z"
   },
   {
    "duration": 91,
    "start_time": "2022-11-22T15:22:03.805Z"
   },
   {
    "duration": 73,
    "start_time": "2022-11-22T15:22:13.605Z"
   },
   {
    "duration": 243,
    "start_time": "2022-11-22T15:23:24.058Z"
   },
   {
    "duration": 2282,
    "start_time": "2022-11-22T16:01:00.405Z"
   },
   {
    "duration": 5,
    "start_time": "2022-11-22T16:01:02.690Z"
   },
   {
    "duration": 957,
    "start_time": "2022-11-22T16:01:02.697Z"
   },
   {
    "duration": 17,
    "start_time": "2022-11-22T16:01:03.657Z"
   },
   {
    "duration": 129,
    "start_time": "2022-11-22T16:01:03.675Z"
   },
   {
    "duration": 122,
    "start_time": "2022-11-22T16:01:03.806Z"
   },
   {
    "duration": 537,
    "start_time": "2022-11-22T16:01:03.929Z"
   },
   {
    "duration": 504,
    "start_time": "2022-11-22T16:01:04.468Z"
   },
   {
    "duration": 55,
    "start_time": "2022-11-22T16:01:04.975Z"
   },
   {
    "duration": 59,
    "start_time": "2022-11-22T16:01:05.033Z"
   },
   {
    "duration": 46,
    "start_time": "2022-11-22T16:01:05.094Z"
   },
   {
    "duration": 135,
    "start_time": "2022-11-22T16:01:05.142Z"
   },
   {
    "duration": 158,
    "start_time": "2022-11-22T16:01:05.279Z"
   },
   {
    "duration": 32,
    "start_time": "2022-11-22T16:01:05.439Z"
   },
   {
    "duration": 55,
    "start_time": "2022-11-22T16:01:05.473Z"
   },
   {
    "duration": 173,
    "start_time": "2022-11-22T16:01:05.530Z"
   },
   {
    "duration": 48,
    "start_time": "2022-11-22T16:01:05.705Z"
   },
   {
    "duration": 63,
    "start_time": "2022-11-22T16:01:05.755Z"
   },
   {
    "duration": 227,
    "start_time": "2022-11-22T16:01:05.820Z"
   },
   {
    "duration": 31,
    "start_time": "2022-11-22T16:01:06.049Z"
   },
   {
    "duration": 102,
    "start_time": "2022-11-22T16:01:06.082Z"
   },
   {
    "duration": 68,
    "start_time": "2022-11-22T16:01:06.185Z"
   },
   {
    "duration": 53,
    "start_time": "2022-11-22T16:01:06.255Z"
   },
   {
    "duration": 138,
    "start_time": "2022-11-22T16:01:06.310Z"
   },
   {
    "duration": 34,
    "start_time": "2022-11-22T16:01:06.449Z"
   },
   {
    "duration": 83,
    "start_time": "2022-11-22T16:01:06.485Z"
   },
   {
    "duration": 37,
    "start_time": "2022-11-22T16:01:06.570Z"
   },
   {
    "duration": 270,
    "start_time": "2022-11-22T16:01:06.611Z"
   },
   {
    "duration": 106,
    "start_time": "2022-11-22T16:01:06.883Z"
   },
   {
    "duration": 463,
    "start_time": "2022-11-22T16:01:06.991Z"
   },
   {
    "duration": 343,
    "start_time": "2022-11-22T16:01:07.456Z"
   },
   {
    "duration": 52,
    "start_time": "2022-11-22T16:01:07.801Z"
   },
   {
    "duration": 7,
    "start_time": "2022-11-22T16:01:07.855Z"
   },
   {
    "duration": 178,
    "start_time": "2022-11-22T16:01:07.864Z"
   },
   {
    "duration": 424,
    "start_time": "2022-11-22T16:01:08.044Z"
   },
   {
    "duration": 418,
    "start_time": "2022-11-22T16:01:08.469Z"
   },
   {
    "duration": 399,
    "start_time": "2022-11-22T16:01:08.889Z"
   },
   {
    "duration": 258,
    "start_time": "2022-11-22T16:01:09.290Z"
   },
   {
    "duration": 89,
    "start_time": "2022-11-22T16:01:09.550Z"
   },
   {
    "duration": 152,
    "start_time": "2022-11-22T16:01:09.641Z"
   },
   {
    "duration": 416,
    "start_time": "2022-11-22T16:01:09.795Z"
   },
   {
    "duration": 213,
    "start_time": "2022-11-22T16:01:10.213Z"
   },
   {
    "duration": 8,
    "start_time": "2022-11-22T16:01:10.429Z"
   },
   {
    "duration": 64,
    "start_time": "2022-11-22T16:01:10.439Z"
   },
   {
    "duration": 23,
    "start_time": "2022-11-22T16:01:10.505Z"
   },
   {
    "duration": 195,
    "start_time": "2022-11-22T16:01:10.530Z"
   },
   {
    "duration": 14,
    "start_time": "2022-11-22T16:01:10.727Z"
   },
   {
    "duration": 25,
    "start_time": "2022-11-22T16:01:10.743Z"
   },
   {
    "duration": 109,
    "start_time": "2022-11-22T16:01:10.770Z"
   },
   {
    "duration": 91,
    "start_time": "2022-11-22T16:01:10.881Z"
   },
   {
    "duration": 84,
    "start_time": "2022-11-22T16:01:10.974Z"
   },
   {
    "duration": 710,
    "start_time": "2022-11-22T16:01:11.060Z"
   },
   {
    "duration": 3397,
    "start_time": "2022-11-22T16:01:11.772Z"
   },
   {
    "duration": 2005,
    "start_time": "2022-11-22T16:37:40.967Z"
   },
   {
    "duration": 1469,
    "start_time": "2022-11-22T16:37:42.974Z"
   },
   {
    "duration": 873,
    "start_time": "2022-11-22T16:37:44.445Z"
   },
   {
    "duration": 21,
    "start_time": "2022-11-22T16:37:45.322Z"
   },
   {
    "duration": 133,
    "start_time": "2022-11-22T16:37:45.345Z"
   },
   {
    "duration": 105,
    "start_time": "2022-11-22T16:37:45.479Z"
   },
   {
    "duration": 485,
    "start_time": "2022-11-22T16:37:45.586Z"
   },
   {
    "duration": 560,
    "start_time": "2022-11-22T16:37:46.072Z"
   },
   {
    "duration": 29,
    "start_time": "2022-11-22T16:37:46.634Z"
   },
   {
    "duration": 16,
    "start_time": "2022-11-22T16:37:46.665Z"
   },
   {
    "duration": 14,
    "start_time": "2022-11-22T16:37:46.682Z"
   },
   {
    "duration": 125,
    "start_time": "2022-11-22T16:37:46.698Z"
   },
   {
    "duration": 132,
    "start_time": "2022-11-22T16:37:46.824Z"
   },
   {
    "duration": 30,
    "start_time": "2022-11-22T16:37:46.959Z"
   },
   {
    "duration": 18,
    "start_time": "2022-11-22T16:37:46.991Z"
   },
   {
    "duration": 128,
    "start_time": "2022-11-22T16:37:47.022Z"
   },
   {
    "duration": 45,
    "start_time": "2022-11-22T16:37:47.152Z"
   },
   {
    "duration": 31,
    "start_time": "2022-11-22T16:37:47.198Z"
   },
   {
    "duration": 136,
    "start_time": "2022-11-22T16:37:47.230Z"
   },
   {
    "duration": 30,
    "start_time": "2022-11-22T16:37:47.368Z"
   },
   {
    "duration": 73,
    "start_time": "2022-11-22T16:37:47.400Z"
   },
   {
    "duration": 70,
    "start_time": "2022-11-22T16:37:47.475Z"
   },
   {
    "duration": 37,
    "start_time": "2022-11-22T16:37:47.546Z"
   },
   {
    "duration": 149,
    "start_time": "2022-11-22T16:37:47.584Z"
   },
   {
    "duration": 30,
    "start_time": "2022-11-22T16:37:47.735Z"
   },
   {
    "duration": 43,
    "start_time": "2022-11-22T16:37:47.767Z"
   },
   {
    "duration": 29,
    "start_time": "2022-11-22T16:37:47.811Z"
   },
   {
    "duration": 236,
    "start_time": "2022-11-22T16:37:47.842Z"
   },
   {
    "duration": 100,
    "start_time": "2022-11-22T16:37:48.079Z"
   },
   {
    "duration": 402,
    "start_time": "2022-11-22T16:37:48.181Z"
   },
   {
    "duration": 314,
    "start_time": "2022-11-22T16:37:48.585Z"
   },
   {
    "duration": 31,
    "start_time": "2022-11-22T16:37:48.901Z"
   },
   {
    "duration": 7,
    "start_time": "2022-11-22T16:37:48.934Z"
   },
   {
    "duration": 198,
    "start_time": "2022-11-22T16:37:48.943Z"
   },
   {
    "duration": 508,
    "start_time": "2022-11-22T16:37:49.143Z"
   },
   {
    "duration": 356,
    "start_time": "2022-11-22T16:37:49.653Z"
   },
   {
    "duration": 355,
    "start_time": "2022-11-22T16:37:50.011Z"
   },
   {
    "duration": 217,
    "start_time": "2022-11-22T16:37:50.368Z"
   },
   {
    "duration": 72,
    "start_time": "2022-11-22T16:37:50.587Z"
   },
   {
    "duration": 147,
    "start_time": "2022-11-22T16:37:50.661Z"
   },
   {
    "duration": 259,
    "start_time": "2022-11-22T16:37:50.821Z"
   },
   {
    "duration": 207,
    "start_time": "2022-11-22T16:37:51.082Z"
   },
   {
    "duration": 7,
    "start_time": "2022-11-22T16:37:51.291Z"
   },
   {
    "duration": 70,
    "start_time": "2022-11-22T16:37:51.300Z"
   },
   {
    "duration": 9,
    "start_time": "2022-11-22T16:37:51.372Z"
   },
   {
    "duration": 195,
    "start_time": "2022-11-22T16:37:51.383Z"
   },
   {
    "duration": 14,
    "start_time": "2022-11-22T16:37:51.580Z"
   },
   {
    "duration": 28,
    "start_time": "2022-11-22T16:37:51.596Z"
   },
   {
    "duration": 101,
    "start_time": "2022-11-22T16:37:51.626Z"
   },
   {
    "duration": 75,
    "start_time": "2022-11-22T16:37:51.729Z"
   },
   {
    "duration": 78,
    "start_time": "2022-11-22T16:37:51.806Z"
   },
   {
    "duration": 554,
    "start_time": "2022-11-22T16:37:51.886Z"
   },
   {
    "duration": 2821,
    "start_time": "2022-11-22T16:37:52.441Z"
   },
   {
    "duration": 797665,
    "start_time": "2022-11-22T16:37:55.264Z"
   },
   {
    "duration": 28,
    "start_time": "2022-11-22T16:51:12.931Z"
   },
   {
    "duration": 203,
    "start_time": "2022-11-22T16:51:12.960Z"
   },
   {
    "duration": 38,
    "start_time": "2022-11-22T16:51:13.164Z"
   },
   {
    "duration": 5138406,
    "start_time": "2022-11-22T16:51:13.204Z"
   },
   {
    "duration": 22,
    "start_time": "2022-11-22T18:16:51.612Z"
   },
   {
    "duration": 0,
    "start_time": "2022-11-22T18:16:51.636Z"
   },
   {
    "duration": 0,
    "start_time": "2022-11-22T18:16:51.637Z"
   },
   {
    "duration": 0,
    "start_time": "2022-11-22T18:16:51.638Z"
   },
   {
    "duration": 1918217,
    "start_time": "2022-11-22T18:17:10.020Z"
   },
   {
    "duration": 2201,
    "start_time": "2022-11-22T18:50:28.643Z"
   },
   {
    "duration": 1631,
    "start_time": "2022-11-22T18:50:30.847Z"
   },
   {
    "duration": 1030,
    "start_time": "2022-11-22T18:50:32.480Z"
   },
   {
    "duration": 32,
    "start_time": "2022-11-22T18:50:33.512Z"
   },
   {
    "duration": 135,
    "start_time": "2022-11-22T18:50:33.547Z"
   },
   {
    "duration": 148,
    "start_time": "2022-11-22T18:50:33.684Z"
   },
   {
    "duration": 682,
    "start_time": "2022-11-22T18:50:33.834Z"
   },
   {
    "duration": 660,
    "start_time": "2022-11-22T18:50:34.521Z"
   },
   {
    "duration": 55,
    "start_time": "2022-11-22T18:50:35.183Z"
   },
   {
    "duration": 27,
    "start_time": "2022-11-22T18:50:35.240Z"
   },
   {
    "duration": 17,
    "start_time": "2022-11-22T18:50:35.269Z"
   },
   {
    "duration": 117,
    "start_time": "2022-11-22T18:50:35.288Z"
   },
   {
    "duration": 138,
    "start_time": "2022-11-22T18:50:35.407Z"
   },
   {
    "duration": 30,
    "start_time": "2022-11-22T18:50:35.549Z"
   },
   {
    "duration": 17,
    "start_time": "2022-11-22T18:50:35.581Z"
   },
   {
    "duration": 150,
    "start_time": "2022-11-22T18:50:35.602Z"
   },
   {
    "duration": 31,
    "start_time": "2022-11-22T18:50:35.754Z"
   },
   {
    "duration": 17,
    "start_time": "2022-11-22T18:50:35.787Z"
   },
   {
    "duration": 174,
    "start_time": "2022-11-22T18:50:35.822Z"
   },
   {
    "duration": 45,
    "start_time": "2022-11-22T18:50:35.998Z"
   },
   {
    "duration": 87,
    "start_time": "2022-11-22T18:50:36.046Z"
   },
   {
    "duration": 62,
    "start_time": "2022-11-22T18:50:36.135Z"
   },
   {
    "duration": 51,
    "start_time": "2022-11-22T18:50:36.199Z"
   },
   {
    "duration": 141,
    "start_time": "2022-11-22T18:50:36.252Z"
   },
   {
    "duration": 49,
    "start_time": "2022-11-22T18:50:36.394Z"
   },
   {
    "duration": 32,
    "start_time": "2022-11-22T18:50:36.445Z"
   },
   {
    "duration": 22,
    "start_time": "2022-11-22T18:50:36.479Z"
   },
   {
    "duration": 275,
    "start_time": "2022-11-22T18:50:36.503Z"
   },
   {
    "duration": 107,
    "start_time": "2022-11-22T18:50:36.780Z"
   },
   {
    "duration": 439,
    "start_time": "2022-11-22T18:50:36.889Z"
   },
   {
    "duration": 313,
    "start_time": "2022-11-22T18:50:37.338Z"
   },
   {
    "duration": 23,
    "start_time": "2022-11-22T18:50:37.653Z"
   },
   {
    "duration": 7,
    "start_time": "2022-11-22T18:50:37.678Z"
   },
   {
    "duration": 283,
    "start_time": "2022-11-22T18:50:37.687Z"
   },
   {
    "duration": 695,
    "start_time": "2022-11-22T18:50:37.972Z"
   },
   {
    "duration": 464,
    "start_time": "2022-11-22T18:50:38.670Z"
   },
   {
    "duration": 411,
    "start_time": "2022-11-22T18:50:39.135Z"
   },
   {
    "duration": 235,
    "start_time": "2022-11-22T18:50:39.548Z"
   },
   {
    "duration": 138,
    "start_time": "2022-11-22T18:50:39.785Z"
   },
   {
    "duration": 194,
    "start_time": "2022-11-22T18:50:39.925Z"
   },
   {
    "duration": 286,
    "start_time": "2022-11-22T18:50:40.124Z"
   },
   {
    "duration": 229,
    "start_time": "2022-11-22T18:50:40.412Z"
   },
   {
    "duration": 9,
    "start_time": "2022-11-22T18:50:40.646Z"
   },
   {
    "duration": 80,
    "start_time": "2022-11-22T18:50:40.657Z"
   },
   {
    "duration": 9,
    "start_time": "2022-11-22T18:50:40.743Z"
   },
   {
    "duration": 261,
    "start_time": "2022-11-22T18:50:40.755Z"
   },
   {
    "duration": 14,
    "start_time": "2022-11-22T18:50:41.022Z"
   },
   {
    "duration": 33,
    "start_time": "2022-11-22T18:50:41.039Z"
   },
   {
    "duration": 109,
    "start_time": "2022-11-22T18:50:41.074Z"
   },
   {
    "duration": 83,
    "start_time": "2022-11-22T18:50:41.185Z"
   },
   {
    "duration": 88,
    "start_time": "2022-11-22T18:50:41.269Z"
   },
   {
    "duration": 639,
    "start_time": "2022-11-22T18:50:41.359Z"
   },
   {
    "duration": 2740,
    "start_time": "2022-11-22T18:50:42.000Z"
   },
   {
    "duration": 1333599,
    "start_time": "2022-11-22T18:50:44.744Z"
   },
   {
    "duration": 101,
    "start_time": "2022-11-22T19:12:58.347Z"
   },
   {
    "duration": 156,
    "start_time": "2022-11-22T19:12:58.451Z"
   },
   {
    "duration": 49,
    "start_time": "2022-11-22T19:12:58.609Z"
   },
   {
    "duration": 93,
    "start_time": "2022-11-23T03:22:53.260Z"
   },
   {
    "duration": 60,
    "start_time": "2022-11-23T03:24:59.906Z"
   },
   {
    "duration": 2704,
    "start_time": "2022-11-23T03:25:36.937Z"
   },
   {
    "duration": 1731,
    "start_time": "2022-11-23T03:25:39.644Z"
   },
   {
    "duration": 1298,
    "start_time": "2022-11-23T03:25:41.377Z"
   },
   {
    "duration": 28,
    "start_time": "2022-11-23T03:25:42.678Z"
   },
   {
    "duration": 162,
    "start_time": "2022-11-23T03:25:42.708Z"
   },
   {
    "duration": 101,
    "start_time": "2022-11-23T03:25:42.871Z"
   },
   {
    "duration": 449,
    "start_time": "2022-11-23T03:25:42.974Z"
   },
   {
    "duration": 545,
    "start_time": "2022-11-23T03:25:43.425Z"
   },
   {
    "duration": 32,
    "start_time": "2022-11-23T03:25:43.972Z"
   },
   {
    "duration": 29,
    "start_time": "2022-11-23T03:25:44.007Z"
   },
   {
    "duration": 30,
    "start_time": "2022-11-23T03:25:44.038Z"
   },
   {
    "duration": 131,
    "start_time": "2022-11-23T03:25:44.069Z"
   },
   {
    "duration": 159,
    "start_time": "2022-11-23T03:25:44.202Z"
   },
   {
    "duration": 32,
    "start_time": "2022-11-23T03:25:44.363Z"
   },
   {
    "duration": 23,
    "start_time": "2022-11-23T03:25:44.397Z"
   },
   {
    "duration": 179,
    "start_time": "2022-11-23T03:25:44.421Z"
   },
   {
    "duration": 39,
    "start_time": "2022-11-23T03:25:44.601Z"
   },
   {
    "duration": 40,
    "start_time": "2022-11-23T03:25:44.643Z"
   },
   {
    "duration": 141,
    "start_time": "2022-11-23T03:25:44.685Z"
   },
   {
    "duration": 44,
    "start_time": "2022-11-23T03:25:44.827Z"
   },
   {
    "duration": 51,
    "start_time": "2022-11-23T03:25:44.873Z"
   },
   {
    "duration": 77,
    "start_time": "2022-11-23T03:25:44.926Z"
   },
   {
    "duration": 60,
    "start_time": "2022-11-23T03:25:45.005Z"
   },
   {
    "duration": 156,
    "start_time": "2022-11-23T03:25:45.067Z"
   },
   {
    "duration": 44,
    "start_time": "2022-11-23T03:25:45.225Z"
   },
   {
    "duration": 35,
    "start_time": "2022-11-23T03:25:45.271Z"
   },
   {
    "duration": 32,
    "start_time": "2022-11-23T03:25:45.308Z"
   },
   {
    "duration": 239,
    "start_time": "2022-11-23T03:25:45.346Z"
   },
   {
    "duration": 114,
    "start_time": "2022-11-23T03:25:45.587Z"
   },
   {
    "duration": 445,
    "start_time": "2022-11-23T03:25:45.703Z"
   },
   {
    "duration": 311,
    "start_time": "2022-11-23T03:25:46.150Z"
   },
   {
    "duration": 21,
    "start_time": "2022-11-23T03:25:46.463Z"
   },
   {
    "duration": 6,
    "start_time": "2022-11-23T03:25:46.485Z"
   },
   {
    "duration": 218,
    "start_time": "2022-11-23T03:25:46.492Z"
   },
   {
    "duration": 472,
    "start_time": "2022-11-23T03:25:46.712Z"
   },
   {
    "duration": 372,
    "start_time": "2022-11-23T03:25:47.186Z"
   },
   {
    "duration": 403,
    "start_time": "2022-11-23T03:25:47.559Z"
   },
   {
    "duration": 216,
    "start_time": "2022-11-23T03:25:47.964Z"
   },
   {
    "duration": 80,
    "start_time": "2022-11-23T03:25:48.182Z"
   },
   {
    "duration": 164,
    "start_time": "2022-11-23T03:25:48.263Z"
   },
   {
    "duration": 310,
    "start_time": "2022-11-23T03:25:48.429Z"
   },
   {
    "duration": 215,
    "start_time": "2022-11-23T03:25:48.742Z"
   },
   {
    "duration": 7,
    "start_time": "2022-11-23T03:25:48.959Z"
   },
   {
    "duration": 71,
    "start_time": "2022-11-23T03:25:48.967Z"
   },
   {
    "duration": 10,
    "start_time": "2022-11-23T03:25:49.040Z"
   },
   {
    "duration": 229,
    "start_time": "2022-11-23T03:25:49.053Z"
   },
   {
    "duration": 11,
    "start_time": "2022-11-23T03:25:49.283Z"
   },
   {
    "duration": 13,
    "start_time": "2022-11-23T03:25:49.295Z"
   },
   {
    "duration": 126,
    "start_time": "2022-11-23T03:25:49.310Z"
   },
   {
    "duration": 78,
    "start_time": "2022-11-23T03:25:49.438Z"
   },
   {
    "duration": 93,
    "start_time": "2022-11-23T03:25:49.517Z"
   },
   {
    "duration": 564,
    "start_time": "2022-11-23T03:25:49.612Z"
   },
   {
    "duration": 2795,
    "start_time": "2022-11-23T03:25:50.177Z"
   },
   {
    "duration": 670661,
    "start_time": "2022-11-23T03:25:52.974Z"
   },
   {
    "duration": 22,
    "start_time": "2022-11-23T03:37:03.637Z"
   },
   {
    "duration": 160,
    "start_time": "2022-11-23T03:37:03.661Z"
   },
   {
    "duration": 41,
    "start_time": "2022-11-23T03:37:03.822Z"
   },
   {
    "duration": 2850785,
    "start_time": "2022-11-23T03:37:03.865Z"
   },
   {
    "duration": 99,
    "start_time": "2022-11-23T04:24:34.652Z"
   },
   {
    "duration": 16083,
    "start_time": "2022-11-23T04:24:34.753Z"
   },
   {
    "duration": 4807,
    "start_time": "2022-11-23T04:24:50.838Z"
   },
   {
    "duration": 408,
    "start_time": "2022-11-23T04:24:55.647Z"
   },
   {
    "duration": 175,
    "start_time": "2022-11-23T05:02:45.700Z"
   },
   {
    "duration": 20632,
    "start_time": "2022-11-23T05:03:11.121Z"
   },
   {
    "duration": 30176,
    "start_time": "2022-11-23T05:03:45.468Z"
   },
   {
    "duration": 304,
    "start_time": "2022-11-23T05:04:22.045Z"
   }
  ],
  "kernelspec": {
   "display_name": "Python 3 (ipykernel)",
   "language": "python",
   "name": "python3"
  },
  "language_info": {
   "codemirror_mode": {
    "name": "ipython",
    "version": 3
   },
   "file_extension": ".py",
   "mimetype": "text/x-python",
   "name": "python",
   "nbconvert_exporter": "python",
   "pygments_lexer": "ipython3",
   "version": "3.10.11"
  },
  "toc": {
   "base_numbering": 1,
   "nav_menu": {},
   "number_sections": true,
   "sideBar": true,
   "skip_h1_title": true,
   "title_cell": "Table of Contents",
   "title_sidebar": "Contents",
   "toc_cell": false,
   "toc_position": {},
   "toc_section_display": true,
   "toc_window_display": false
  }
 },
 "nbformat": 4,
 "nbformat_minor": 2
}
