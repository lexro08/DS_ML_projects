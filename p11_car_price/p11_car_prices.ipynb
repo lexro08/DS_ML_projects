{
 "cells": [
  {
   "cell_type": "markdown",
   "metadata": {},
   "source": [
    "# Определение стоимости автомобилей"
   ]
  },
  {
   "cell_type": "markdown",
   "metadata": {},
   "source": [
    "Сервис по продаже автомобилей с пробегом «Не бит, не крашен» разрабатывает приложение для привлечения новых клиентов. В нём можно быстро узнать рыночную стоимость своего автомобиля. В вашем распоряжении исторические данные: технические характеристики, комплектации и цены автомобилей. Вам нужно построить модель для определения стоимости. \n",
    "\n",
    "Заказчику важны:\n",
    "\n",
    "- качество предсказания;\n",
    "- скорость предсказания;\n",
    "- время обучения."
   ]
  },
  {
   "cell_type": "markdown",
   "metadata": {},
   "source": [
    "Согласно технической документации ниже приведена расшифровка признаков в датасете.\n",
    "\n",
    "* DateCrawled — дата скачивания анкеты из базы\n",
    "\n",
    "* VehicleType — тип автомобильного кузова\n",
    "\n",
    "* RegistrationYear — год регистрации автомобиля\n",
    "\n",
    "* Gearbox — тип коробки передач\n",
    "\n",
    "* Power — мощность (л. с.)\n",
    "\n",
    "* Model — модель автомобиля\n",
    "\n",
    "* Kilometer — пробег (км)\n",
    "\n",
    "* RegistrationMonth — месяц регистрации автомобиля\n",
    "\n",
    "* FuelType — тип топлива\n",
    "\n",
    "* Brand — марка автомобиля\n",
    "\n",
    "* Repaired — была машина в ремонте или нет\n",
    "\n",
    "* DateCreated — дата создания анкеты\n",
    "\n",
    "* NumberOfPictures — количество фотографий автомобиля\n",
    "\n",
    "* PostalCode — почтовый индекс владельца анкеты (пользователя)\n",
    "\n",
    "* LastSeen — дата последней активности пользователя\n",
    "\n",
    "* Price — цена (евро)"
   ]
  },
  {
   "cell_type": "markdown",
   "metadata": {},
   "source": [
    "Произведем импорт всех необходимых библиотек"
   ]
  },
  {
   "cell_type": "code",
   "execution_count": 1,
   "metadata": {},
   "outputs": [
    {
     "name": "stdout",
     "output_type": "stream",
     "text": [
      "Requirement already satisfied: lightgbm in /opt/conda/lib/python3.9/site-packages (3.3.1)\r\n",
      "Requirement already satisfied: wheel in /opt/conda/lib/python3.9/site-packages (from lightgbm) (0.36.2)\r\n",
      "Requirement already satisfied: numpy in /opt/conda/lib/python3.9/site-packages (from lightgbm) (1.21.1)\r\n",
      "Requirement already satisfied: scikit-learn!=0.22.0 in /opt/conda/lib/python3.9/site-packages (from lightgbm) (0.24.1)\r\n",
      "Requirement already satisfied: scipy in /opt/conda/lib/python3.9/site-packages (from lightgbm) (1.9.1)\r\n",
      "Requirement already satisfied: threadpoolctl>=2.0.0 in /opt/conda/lib/python3.9/site-packages (from scikit-learn!=0.22.0->lightgbm) (3.1.0)\r\n",
      "Requirement already satisfied: joblib>=0.11 in /opt/conda/lib/python3.9/site-packages (from scikit-learn!=0.22.0->lightgbm) (1.1.0)\r\n"
     ]
    }
   ],
   "source": [
    "!pip install lightgbm"
   ]
  },
  {
   "cell_type": "code",
   "execution_count": 2,
   "metadata": {},
   "outputs": [],
   "source": [
    "import pandas as pd\n",
    "import seaborn as sns\n",
    "import matplotlib.pyplot as plt\n",
    "import numpy as np\n",
    "\n",
    "from sklearn.model_selection import train_test_split\n",
    "from sklearn.metrics import mean_squared_error\n",
    "from sklearn.model_selection import GridSearchCV\n",
    "from sklearn.dummy import DummyRegressor\n",
    "from sklearn.linear_model import LinearRegression\n",
    "from sklearn.tree import DecisionTreeRegressor\n",
    "from sklearn.ensemble import RandomForestRegressor\n",
    "from sklearn.preprocessing import StandardScaler\n",
    "import catboost as cb\n",
    "import lightgbm as lgbm"
   ]
  },
  {
   "cell_type": "code",
   "execution_count": null,
   "metadata": {},
   "outputs": [],
   "source": [
    "sns.set(rc={\"figure.figsize\":(15, 9)})\n",
    "sns.set_style(\"darkgrid\")"
   ]
  },
  {
   "cell_type": "markdown",
   "metadata": {},
   "source": [
    "## Подготовка данных"
   ]
  },
  {
   "cell_type": "markdown",
   "metadata": {},
   "source": [
    "На данном этапе произведем выгрузку данных и изучим их более подробно."
   ]
  },
  {
   "cell_type": "code",
   "execution_count": 3,
   "metadata": {},
   "outputs": [],
   "source": [
    "try:\n",
    "    df = pd.read_csv('autos.csv')\n",
    "except:\n",
    "    df = pd.read_csv('/datasets/autos.csv')"
   ]
  },
  {
   "cell_type": "code",
   "execution_count": 4,
   "metadata": {},
   "outputs": [
    {
     "data": {
      "text/html": [
       "<div>\n",
       "<style scoped>\n",
       "    .dataframe tbody tr th:only-of-type {\n",
       "        vertical-align: middle;\n",
       "    }\n",
       "\n",
       "    .dataframe tbody tr th {\n",
       "        vertical-align: top;\n",
       "    }\n",
       "\n",
       "    .dataframe thead th {\n",
       "        text-align: right;\n",
       "    }\n",
       "</style>\n",
       "<table border=\"1\" class=\"dataframe\">\n",
       "  <thead>\n",
       "    <tr style=\"text-align: right;\">\n",
       "      <th></th>\n",
       "      <th>DateCrawled</th>\n",
       "      <th>Price</th>\n",
       "      <th>VehicleType</th>\n",
       "      <th>RegistrationYear</th>\n",
       "      <th>Gearbox</th>\n",
       "      <th>Power</th>\n",
       "      <th>Model</th>\n",
       "      <th>Kilometer</th>\n",
       "      <th>RegistrationMonth</th>\n",
       "      <th>FuelType</th>\n",
       "      <th>Brand</th>\n",
       "      <th>Repaired</th>\n",
       "      <th>DateCreated</th>\n",
       "      <th>NumberOfPictures</th>\n",
       "      <th>PostalCode</th>\n",
       "      <th>LastSeen</th>\n",
       "    </tr>\n",
       "  </thead>\n",
       "  <tbody>\n",
       "    <tr>\n",
       "      <th>0</th>\n",
       "      <td>2016-03-24 11:52:17</td>\n",
       "      <td>480</td>\n",
       "      <td>NaN</td>\n",
       "      <td>1993</td>\n",
       "      <td>manual</td>\n",
       "      <td>0</td>\n",
       "      <td>golf</td>\n",
       "      <td>150000</td>\n",
       "      <td>0</td>\n",
       "      <td>petrol</td>\n",
       "      <td>volkswagen</td>\n",
       "      <td>NaN</td>\n",
       "      <td>2016-03-24 00:00:00</td>\n",
       "      <td>0</td>\n",
       "      <td>70435</td>\n",
       "      <td>2016-04-07 03:16:57</td>\n",
       "    </tr>\n",
       "    <tr>\n",
       "      <th>1</th>\n",
       "      <td>2016-03-24 10:58:45</td>\n",
       "      <td>18300</td>\n",
       "      <td>coupe</td>\n",
       "      <td>2011</td>\n",
       "      <td>manual</td>\n",
       "      <td>190</td>\n",
       "      <td>NaN</td>\n",
       "      <td>125000</td>\n",
       "      <td>5</td>\n",
       "      <td>gasoline</td>\n",
       "      <td>audi</td>\n",
       "      <td>yes</td>\n",
       "      <td>2016-03-24 00:00:00</td>\n",
       "      <td>0</td>\n",
       "      <td>66954</td>\n",
       "      <td>2016-04-07 01:46:50</td>\n",
       "    </tr>\n",
       "    <tr>\n",
       "      <th>2</th>\n",
       "      <td>2016-03-14 12:52:21</td>\n",
       "      <td>9800</td>\n",
       "      <td>suv</td>\n",
       "      <td>2004</td>\n",
       "      <td>auto</td>\n",
       "      <td>163</td>\n",
       "      <td>grand</td>\n",
       "      <td>125000</td>\n",
       "      <td>8</td>\n",
       "      <td>gasoline</td>\n",
       "      <td>jeep</td>\n",
       "      <td>NaN</td>\n",
       "      <td>2016-03-14 00:00:00</td>\n",
       "      <td>0</td>\n",
       "      <td>90480</td>\n",
       "      <td>2016-04-05 12:47:46</td>\n",
       "    </tr>\n",
       "    <tr>\n",
       "      <th>3</th>\n",
       "      <td>2016-03-17 16:54:04</td>\n",
       "      <td>1500</td>\n",
       "      <td>small</td>\n",
       "      <td>2001</td>\n",
       "      <td>manual</td>\n",
       "      <td>75</td>\n",
       "      <td>golf</td>\n",
       "      <td>150000</td>\n",
       "      <td>6</td>\n",
       "      <td>petrol</td>\n",
       "      <td>volkswagen</td>\n",
       "      <td>no</td>\n",
       "      <td>2016-03-17 00:00:00</td>\n",
       "      <td>0</td>\n",
       "      <td>91074</td>\n",
       "      <td>2016-03-17 17:40:17</td>\n",
       "    </tr>\n",
       "    <tr>\n",
       "      <th>4</th>\n",
       "      <td>2016-03-31 17:25:20</td>\n",
       "      <td>3600</td>\n",
       "      <td>small</td>\n",
       "      <td>2008</td>\n",
       "      <td>manual</td>\n",
       "      <td>69</td>\n",
       "      <td>fabia</td>\n",
       "      <td>90000</td>\n",
       "      <td>7</td>\n",
       "      <td>gasoline</td>\n",
       "      <td>skoda</td>\n",
       "      <td>no</td>\n",
       "      <td>2016-03-31 00:00:00</td>\n",
       "      <td>0</td>\n",
       "      <td>60437</td>\n",
       "      <td>2016-04-06 10:17:21</td>\n",
       "    </tr>\n",
       "    <tr>\n",
       "      <th>5</th>\n",
       "      <td>2016-04-04 17:36:23</td>\n",
       "      <td>650</td>\n",
       "      <td>sedan</td>\n",
       "      <td>1995</td>\n",
       "      <td>manual</td>\n",
       "      <td>102</td>\n",
       "      <td>3er</td>\n",
       "      <td>150000</td>\n",
       "      <td>10</td>\n",
       "      <td>petrol</td>\n",
       "      <td>bmw</td>\n",
       "      <td>yes</td>\n",
       "      <td>2016-04-04 00:00:00</td>\n",
       "      <td>0</td>\n",
       "      <td>33775</td>\n",
       "      <td>2016-04-06 19:17:07</td>\n",
       "    </tr>\n",
       "    <tr>\n",
       "      <th>6</th>\n",
       "      <td>2016-04-01 20:48:51</td>\n",
       "      <td>2200</td>\n",
       "      <td>convertible</td>\n",
       "      <td>2004</td>\n",
       "      <td>manual</td>\n",
       "      <td>109</td>\n",
       "      <td>2_reihe</td>\n",
       "      <td>150000</td>\n",
       "      <td>8</td>\n",
       "      <td>petrol</td>\n",
       "      <td>peugeot</td>\n",
       "      <td>no</td>\n",
       "      <td>2016-04-01 00:00:00</td>\n",
       "      <td>0</td>\n",
       "      <td>67112</td>\n",
       "      <td>2016-04-05 18:18:39</td>\n",
       "    </tr>\n",
       "    <tr>\n",
       "      <th>7</th>\n",
       "      <td>2016-03-21 18:54:38</td>\n",
       "      <td>0</td>\n",
       "      <td>sedan</td>\n",
       "      <td>1980</td>\n",
       "      <td>manual</td>\n",
       "      <td>50</td>\n",
       "      <td>other</td>\n",
       "      <td>40000</td>\n",
       "      <td>7</td>\n",
       "      <td>petrol</td>\n",
       "      <td>volkswagen</td>\n",
       "      <td>no</td>\n",
       "      <td>2016-03-21 00:00:00</td>\n",
       "      <td>0</td>\n",
       "      <td>19348</td>\n",
       "      <td>2016-03-25 16:47:58</td>\n",
       "    </tr>\n",
       "    <tr>\n",
       "      <th>8</th>\n",
       "      <td>2016-04-04 23:42:13</td>\n",
       "      <td>14500</td>\n",
       "      <td>bus</td>\n",
       "      <td>2014</td>\n",
       "      <td>manual</td>\n",
       "      <td>125</td>\n",
       "      <td>c_max</td>\n",
       "      <td>30000</td>\n",
       "      <td>8</td>\n",
       "      <td>petrol</td>\n",
       "      <td>ford</td>\n",
       "      <td>NaN</td>\n",
       "      <td>2016-04-04 00:00:00</td>\n",
       "      <td>0</td>\n",
       "      <td>94505</td>\n",
       "      <td>2016-04-04 23:42:13</td>\n",
       "    </tr>\n",
       "    <tr>\n",
       "      <th>9</th>\n",
       "      <td>2016-03-17 10:53:50</td>\n",
       "      <td>999</td>\n",
       "      <td>small</td>\n",
       "      <td>1998</td>\n",
       "      <td>manual</td>\n",
       "      <td>101</td>\n",
       "      <td>golf</td>\n",
       "      <td>150000</td>\n",
       "      <td>0</td>\n",
       "      <td>NaN</td>\n",
       "      <td>volkswagen</td>\n",
       "      <td>NaN</td>\n",
       "      <td>2016-03-17 00:00:00</td>\n",
       "      <td>0</td>\n",
       "      <td>27472</td>\n",
       "      <td>2016-03-31 17:17:06</td>\n",
       "    </tr>\n",
       "  </tbody>\n",
       "</table>\n",
       "</div>"
      ],
      "text/plain": [
       "           DateCrawled  Price  VehicleType  RegistrationYear Gearbox  Power  \\\n",
       "0  2016-03-24 11:52:17    480          NaN              1993  manual      0   \n",
       "1  2016-03-24 10:58:45  18300        coupe              2011  manual    190   \n",
       "2  2016-03-14 12:52:21   9800          suv              2004    auto    163   \n",
       "3  2016-03-17 16:54:04   1500        small              2001  manual     75   \n",
       "4  2016-03-31 17:25:20   3600        small              2008  manual     69   \n",
       "5  2016-04-04 17:36:23    650        sedan              1995  manual    102   \n",
       "6  2016-04-01 20:48:51   2200  convertible              2004  manual    109   \n",
       "7  2016-03-21 18:54:38      0        sedan              1980  manual     50   \n",
       "8  2016-04-04 23:42:13  14500          bus              2014  manual    125   \n",
       "9  2016-03-17 10:53:50    999        small              1998  manual    101   \n",
       "\n",
       "     Model  Kilometer  RegistrationMonth  FuelType       Brand Repaired  \\\n",
       "0     golf     150000                  0    petrol  volkswagen      NaN   \n",
       "1      NaN     125000                  5  gasoline        audi      yes   \n",
       "2    grand     125000                  8  gasoline        jeep      NaN   \n",
       "3     golf     150000                  6    petrol  volkswagen       no   \n",
       "4    fabia      90000                  7  gasoline       skoda       no   \n",
       "5      3er     150000                 10    petrol         bmw      yes   \n",
       "6  2_reihe     150000                  8    petrol     peugeot       no   \n",
       "7    other      40000                  7    petrol  volkswagen       no   \n",
       "8    c_max      30000                  8    petrol        ford      NaN   \n",
       "9     golf     150000                  0       NaN  volkswagen      NaN   \n",
       "\n",
       "           DateCreated  NumberOfPictures  PostalCode             LastSeen  \n",
       "0  2016-03-24 00:00:00                 0       70435  2016-04-07 03:16:57  \n",
       "1  2016-03-24 00:00:00                 0       66954  2016-04-07 01:46:50  \n",
       "2  2016-03-14 00:00:00                 0       90480  2016-04-05 12:47:46  \n",
       "3  2016-03-17 00:00:00                 0       91074  2016-03-17 17:40:17  \n",
       "4  2016-03-31 00:00:00                 0       60437  2016-04-06 10:17:21  \n",
       "5  2016-04-04 00:00:00                 0       33775  2016-04-06 19:17:07  \n",
       "6  2016-04-01 00:00:00                 0       67112  2016-04-05 18:18:39  \n",
       "7  2016-03-21 00:00:00                 0       19348  2016-03-25 16:47:58  \n",
       "8  2016-04-04 00:00:00                 0       94505  2016-04-04 23:42:13  \n",
       "9  2016-03-17 00:00:00                 0       27472  2016-03-31 17:17:06  "
      ]
     },
     "execution_count": 4,
     "metadata": {},
     "output_type": "execute_result"
    }
   ],
   "source": [
    "df.head(10)"
   ]
  },
  {
   "cell_type": "code",
   "execution_count": 5,
   "metadata": {},
   "outputs": [
    {
     "name": "stdout",
     "output_type": "stream",
     "text": [
      "<class 'pandas.core.frame.DataFrame'>\n",
      "RangeIndex: 354369 entries, 0 to 354368\n",
      "Data columns (total 16 columns):\n",
      " #   Column             Non-Null Count   Dtype \n",
      "---  ------             --------------   ----- \n",
      " 0   DateCrawled        354369 non-null  object\n",
      " 1   Price              354369 non-null  int64 \n",
      " 2   VehicleType        316879 non-null  object\n",
      " 3   RegistrationYear   354369 non-null  int64 \n",
      " 4   Gearbox            334536 non-null  object\n",
      " 5   Power              354369 non-null  int64 \n",
      " 6   Model              334664 non-null  object\n",
      " 7   Kilometer          354369 non-null  int64 \n",
      " 8   RegistrationMonth  354369 non-null  int64 \n",
      " 9   FuelType           321474 non-null  object\n",
      " 10  Brand              354369 non-null  object\n",
      " 11  Repaired           283215 non-null  object\n",
      " 12  DateCreated        354369 non-null  object\n",
      " 13  NumberOfPictures   354369 non-null  int64 \n",
      " 14  PostalCode         354369 non-null  int64 \n",
      " 15  LastSeen           354369 non-null  object\n",
      "dtypes: int64(7), object(9)\n",
      "memory usage: 43.3+ MB\n"
     ]
    }
   ],
   "source": [
    "df.info()"
   ]
  },
  {
   "cell_type": "code",
   "execution_count": 6,
   "metadata": {},
   "outputs": [
    {
     "data": {
      "text/html": [
       "<div>\n",
       "<style scoped>\n",
       "    .dataframe tbody tr th:only-of-type {\n",
       "        vertical-align: middle;\n",
       "    }\n",
       "\n",
       "    .dataframe tbody tr th {\n",
       "        vertical-align: top;\n",
       "    }\n",
       "\n",
       "    .dataframe thead th {\n",
       "        text-align: right;\n",
       "    }\n",
       "</style>\n",
       "<table border=\"1\" class=\"dataframe\">\n",
       "  <thead>\n",
       "    <tr style=\"text-align: right;\">\n",
       "      <th></th>\n",
       "      <th>Price</th>\n",
       "      <th>RegistrationYear</th>\n",
       "      <th>Power</th>\n",
       "      <th>Kilometer</th>\n",
       "      <th>RegistrationMonth</th>\n",
       "      <th>NumberOfPictures</th>\n",
       "      <th>PostalCode</th>\n",
       "    </tr>\n",
       "  </thead>\n",
       "  <tbody>\n",
       "    <tr>\n",
       "      <th>count</th>\n",
       "      <td>354369.000000</td>\n",
       "      <td>354369.000000</td>\n",
       "      <td>354369.000000</td>\n",
       "      <td>354369.000000</td>\n",
       "      <td>354369.000000</td>\n",
       "      <td>354369.0</td>\n",
       "      <td>354369.000000</td>\n",
       "    </tr>\n",
       "    <tr>\n",
       "      <th>mean</th>\n",
       "      <td>4416.656776</td>\n",
       "      <td>2004.234448</td>\n",
       "      <td>110.094337</td>\n",
       "      <td>128211.172535</td>\n",
       "      <td>5.714645</td>\n",
       "      <td>0.0</td>\n",
       "      <td>50508.689087</td>\n",
       "    </tr>\n",
       "    <tr>\n",
       "      <th>std</th>\n",
       "      <td>4514.158514</td>\n",
       "      <td>90.227958</td>\n",
       "      <td>189.850405</td>\n",
       "      <td>37905.341530</td>\n",
       "      <td>3.726421</td>\n",
       "      <td>0.0</td>\n",
       "      <td>25783.096248</td>\n",
       "    </tr>\n",
       "    <tr>\n",
       "      <th>min</th>\n",
       "      <td>0.000000</td>\n",
       "      <td>1000.000000</td>\n",
       "      <td>0.000000</td>\n",
       "      <td>5000.000000</td>\n",
       "      <td>0.000000</td>\n",
       "      <td>0.0</td>\n",
       "      <td>1067.000000</td>\n",
       "    </tr>\n",
       "    <tr>\n",
       "      <th>25%</th>\n",
       "      <td>1050.000000</td>\n",
       "      <td>1999.000000</td>\n",
       "      <td>69.000000</td>\n",
       "      <td>125000.000000</td>\n",
       "      <td>3.000000</td>\n",
       "      <td>0.0</td>\n",
       "      <td>30165.000000</td>\n",
       "    </tr>\n",
       "    <tr>\n",
       "      <th>50%</th>\n",
       "      <td>2700.000000</td>\n",
       "      <td>2003.000000</td>\n",
       "      <td>105.000000</td>\n",
       "      <td>150000.000000</td>\n",
       "      <td>6.000000</td>\n",
       "      <td>0.0</td>\n",
       "      <td>49413.000000</td>\n",
       "    </tr>\n",
       "    <tr>\n",
       "      <th>75%</th>\n",
       "      <td>6400.000000</td>\n",
       "      <td>2008.000000</td>\n",
       "      <td>143.000000</td>\n",
       "      <td>150000.000000</td>\n",
       "      <td>9.000000</td>\n",
       "      <td>0.0</td>\n",
       "      <td>71083.000000</td>\n",
       "    </tr>\n",
       "    <tr>\n",
       "      <th>max</th>\n",
       "      <td>20000.000000</td>\n",
       "      <td>9999.000000</td>\n",
       "      <td>20000.000000</td>\n",
       "      <td>150000.000000</td>\n",
       "      <td>12.000000</td>\n",
       "      <td>0.0</td>\n",
       "      <td>99998.000000</td>\n",
       "    </tr>\n",
       "  </tbody>\n",
       "</table>\n",
       "</div>"
      ],
      "text/plain": [
       "               Price  RegistrationYear          Power      Kilometer  \\\n",
       "count  354369.000000     354369.000000  354369.000000  354369.000000   \n",
       "mean     4416.656776       2004.234448     110.094337  128211.172535   \n",
       "std      4514.158514         90.227958     189.850405   37905.341530   \n",
       "min         0.000000       1000.000000       0.000000    5000.000000   \n",
       "25%      1050.000000       1999.000000      69.000000  125000.000000   \n",
       "50%      2700.000000       2003.000000     105.000000  150000.000000   \n",
       "75%      6400.000000       2008.000000     143.000000  150000.000000   \n",
       "max     20000.000000       9999.000000   20000.000000  150000.000000   \n",
       "\n",
       "       RegistrationMonth  NumberOfPictures     PostalCode  \n",
       "count      354369.000000          354369.0  354369.000000  \n",
       "mean            5.714645               0.0   50508.689087  \n",
       "std             3.726421               0.0   25783.096248  \n",
       "min             0.000000               0.0    1067.000000  \n",
       "25%             3.000000               0.0   30165.000000  \n",
       "50%             6.000000               0.0   49413.000000  \n",
       "75%             9.000000               0.0   71083.000000  \n",
       "max            12.000000               0.0   99998.000000  "
      ]
     },
     "execution_count": 6,
     "metadata": {},
     "output_type": "execute_result"
    }
   ],
   "source": [
    "df.describe()"
   ]
  },
  {
   "cell_type": "markdown",
   "metadata": {},
   "source": [
    "Согласно выгрузке и предствавленным данным мы видим следующее:\n",
    "\n",
    "1) В столбцах VehicleType, Gearbox, Model, FuelType, Repaired имеются пропущенные значения.\n",
    "\n",
    "2) В столбце NumberOfPictures количество фотографий равно 0, что достаточно странно. \n",
    "\n",
    "3) В столбце RegistrationYear имеются аномальные значения. Как мимимум 1000 и 9999 год регистрации.\n",
    "\n",
    "4) В столбце Price имеется аномальное значение 0.\n",
    "\n",
    "5) В столбце Power имеется аномальное значение 0.\n",
    "\n",
    "6) В столбце RegistrationMonth имеется аномальное значение 0."
   ]
  },
  {
   "cell_type": "markdown",
   "metadata": {},
   "source": [
    "### Проверка дубликатов"
   ]
  },
  {
   "cell_type": "markdown",
   "metadata": {},
   "source": [
    "#### Явные дубликаты"
   ]
  },
  {
   "cell_type": "markdown",
   "metadata": {},
   "source": [
    "Проверим на наличие явных дубликатов в датасете.df.duplicated().sum()"
   ]
  },
  {
   "cell_type": "code",
   "execution_count": 7,
   "metadata": {},
   "outputs": [
    {
     "data": {
      "text/plain": [
       "4"
      ]
     },
     "execution_count": 7,
     "metadata": {},
     "output_type": "execute_result"
    }
   ],
   "source": [
    "df.duplicated().sum()"
   ]
  },
  {
   "cell_type": "markdown",
   "metadata": {},
   "source": [
    "Избавимся от явных дубликатов."
   ]
  },
  {
   "cell_type": "code",
   "execution_count": 8,
   "metadata": {},
   "outputs": [],
   "source": [
    "df = df.drop_duplicates().reset_index(drop=True)"
   ]
  },
  {
   "cell_type": "markdown",
   "metadata": {},
   "source": [
    "#### Неявные дубликаты, замена на пропусков  в категориальных признаках."
   ]
  },
  {
   "cell_type": "markdown",
   "metadata": {},
   "source": [
    "Попробуем проверить наличие неявных дубликатов. Для этого сконцентрируем внимание на столбцах с типом данных object:\n",
    "\n",
    "- VehicleType\n",
    "- Gearbox\n",
    "- Model\n",
    "- FuelType\n",
    "- Brand\n",
    "- Repaired\n",
    "\n",
    "Проверим наличие уникальных значений."
   ]
  },
  {
   "cell_type": "code",
   "execution_count": 9,
   "metadata": {},
   "outputs": [
    {
     "data": {
      "text/plain": [
       "sedan          91457\n",
       "small          79830\n",
       "wagon          65165\n",
       "bus            28775\n",
       "convertible    20203\n",
       "coupe          16161\n",
       "suv            11996\n",
       "other           3288\n",
       "Name: VehicleType, dtype: int64"
      ]
     },
     "execution_count": 9,
     "metadata": {},
     "output_type": "execute_result"
    }
   ],
   "source": [
    "df['VehicleType'].value_counts()"
   ]
  },
  {
   "cell_type": "code",
   "execution_count": 10,
   "metadata": {},
   "outputs": [
    {
     "data": {
      "text/plain": [
       "37490"
      ]
     },
     "execution_count": 10,
     "metadata": {},
     "output_type": "execute_result"
    }
   ],
   "source": [
    "df['VehicleType'].isna().sum()"
   ]
  },
  {
   "cell_type": "code",
   "execution_count": 11,
   "metadata": {},
   "outputs": [
    {
     "data": {
      "text/plain": [
       "0.10579487251844849"
      ]
     },
     "execution_count": 11,
     "metadata": {},
     "output_type": "execute_result"
    }
   ],
   "source": [
    "df.isna().mean()['VehicleType']"
   ]
  },
  {
   "cell_type": "markdown",
   "metadata": {},
   "source": [
    "Учитывая, что пропущенных значений порядка 10 %, а данные по машинам достаточно сильно различаются, поэтму пропущенные значения заполним  типом кузова other."
   ]
  },
  {
   "cell_type": "code",
   "execution_count": 13,
   "metadata": {},
   "outputs": [
    {
     "name": "stdout",
     "output_type": "stream",
     "text": [
      "<class 'pandas.core.frame.DataFrame'>\n",
      "RangeIndex: 354365 entries, 0 to 354364\n",
      "Data columns (total 16 columns):\n",
      " #   Column             Non-Null Count   Dtype \n",
      "---  ------             --------------   ----- \n",
      " 0   DateCrawled        354365 non-null  object\n",
      " 1   Price              354365 non-null  int64 \n",
      " 2   VehicleType        354365 non-null  object\n",
      " 3   RegistrationYear   354365 non-null  int64 \n",
      " 4   Gearbox            334532 non-null  object\n",
      " 5   Power              354365 non-null  int64 \n",
      " 6   Model              334660 non-null  object\n",
      " 7   Kilometer          354365 non-null  int64 \n",
      " 8   RegistrationMonth  354365 non-null  int64 \n",
      " 9   FuelType           321470 non-null  object\n",
      " 10  Brand              354365 non-null  object\n",
      " 11  Repaired           283211 non-null  object\n",
      " 12  DateCreated        354365 non-null  object\n",
      " 13  NumberOfPictures   354365 non-null  int64 \n",
      " 14  PostalCode         354365 non-null  int64 \n",
      " 15  LastSeen           354365 non-null  object\n",
      "dtypes: int64(7), object(9)\n",
      "memory usage: 43.3+ MB\n"
     ]
    }
   ],
   "source": [
    "df['VehicleType'] = df['VehicleType'].fillna('other')\n",
    "df.info()"
   ]
  },
  {
   "cell_type": "code",
   "execution_count": 14,
   "metadata": {},
   "outputs": [
    {
     "data": {
      "text/plain": [
       "manual    268249\n",
       "auto       66283\n",
       "Name: Gearbox, dtype: int64"
      ]
     },
     "execution_count": 14,
     "metadata": {},
     "output_type": "execute_result"
    }
   ],
   "source": [
    "df['Gearbox'].value_counts()"
   ]
  },
  {
   "cell_type": "code",
   "execution_count": 15,
   "metadata": {},
   "outputs": [
    {
     "data": {
      "text/plain": [
       "0.05596771690206426"
      ]
     },
     "execution_count": 15,
     "metadata": {},
     "output_type": "execute_result"
    }
   ],
   "source": [
    "isna_gear_ratio = df['Gearbox'].isna().sum()/len(df['Gearbox'])\n",
    "isna_gear_ratio"
   ]
  },
  {
   "cell_type": "markdown",
   "metadata": {},
   "source": [
    "Количсество пропусков составляет 5%. Можно предположить, что помимо механической или автоматической коробки передач еще существуют вариатор и роботизированная КПП. Вероятно, на сайте опции выбора альтернативных КПП нет, поэтому добавим 3-й тип other в замен пропусков."
   ]
  },
  {
   "cell_type": "code",
   "execution_count": 16,
   "metadata": {},
   "outputs": [
    {
     "name": "stdout",
     "output_type": "stream",
     "text": [
      "<class 'pandas.core.frame.DataFrame'>\n",
      "RangeIndex: 354365 entries, 0 to 354364\n",
      "Data columns (total 16 columns):\n",
      " #   Column             Non-Null Count   Dtype \n",
      "---  ------             --------------   ----- \n",
      " 0   DateCrawled        354365 non-null  object\n",
      " 1   Price              354365 non-null  int64 \n",
      " 2   VehicleType        354365 non-null  object\n",
      " 3   RegistrationYear   354365 non-null  int64 \n",
      " 4   Gearbox            354365 non-null  object\n",
      " 5   Power              354365 non-null  int64 \n",
      " 6   Model              334660 non-null  object\n",
      " 7   Kilometer          354365 non-null  int64 \n",
      " 8   RegistrationMonth  354365 non-null  int64 \n",
      " 9   FuelType           321470 non-null  object\n",
      " 10  Brand              354365 non-null  object\n",
      " 11  Repaired           283211 non-null  object\n",
      " 12  DateCreated        354365 non-null  object\n",
      " 13  NumberOfPictures   354365 non-null  int64 \n",
      " 14  PostalCode         354365 non-null  int64 \n",
      " 15  LastSeen           354365 non-null  object\n",
      "dtypes: int64(7), object(9)\n",
      "memory usage: 43.3+ MB\n"
     ]
    }
   ],
   "source": [
    "df['Gearbox'] = df['Gearbox'].fillna('other')\n",
    "df.info()"
   ]
  },
  {
   "cell_type": "code",
   "execution_count": 17,
   "metadata": {},
   "outputs": [
    {
     "data": {
      "text/plain": [
       "golf                  29232\n",
       "other                 24420\n",
       "3er                   19761\n",
       "polo                  13066\n",
       "corsa                 12570\n",
       "                      ...  \n",
       "serie_2                   8\n",
       "rangerover                4\n",
       "serie_3                   4\n",
       "serie_1                   2\n",
       "range_rover_evoque        2\n",
       "Name: Model, Length: 250, dtype: int64"
      ]
     },
     "execution_count": 17,
     "metadata": {},
     "output_type": "execute_result"
    }
   ],
   "source": [
    "df['Model'].value_counts()"
   ]
  },
  {
   "cell_type": "code",
   "execution_count": 18,
   "metadata": {},
   "outputs": [
    {
     "data": {
      "text/plain": [
       "0.05560650741467131"
      ]
     },
     "execution_count": 18,
     "metadata": {},
     "output_type": "execute_result"
    }
   ],
   "source": [
    "isna_model_ratio = df['Model'].isna().sum()/len(df['Model'])\n",
    "isna_model_ratio"
   ]
  },
  {
   "cell_type": "markdown",
   "metadata": {},
   "source": [
    "Учитывая, что колличество пропусков по моделям составляет 5%, можно предположить, что часть моделей еще не внесено в базу данных сайта. Поэтому можно также заменить все пропуски на other."
   ]
  },
  {
   "cell_type": "code",
   "execution_count": 19,
   "metadata": {},
   "outputs": [
    {
     "name": "stdout",
     "output_type": "stream",
     "text": [
      "<class 'pandas.core.frame.DataFrame'>\n",
      "RangeIndex: 354365 entries, 0 to 354364\n",
      "Data columns (total 16 columns):\n",
      " #   Column             Non-Null Count   Dtype \n",
      "---  ------             --------------   ----- \n",
      " 0   DateCrawled        354365 non-null  object\n",
      " 1   Price              354365 non-null  int64 \n",
      " 2   VehicleType        354365 non-null  object\n",
      " 3   RegistrationYear   354365 non-null  int64 \n",
      " 4   Gearbox            354365 non-null  object\n",
      " 5   Power              354365 non-null  int64 \n",
      " 6   Model              354365 non-null  object\n",
      " 7   Kilometer          354365 non-null  int64 \n",
      " 8   RegistrationMonth  354365 non-null  int64 \n",
      " 9   FuelType           321470 non-null  object\n",
      " 10  Brand              354365 non-null  object\n",
      " 11  Repaired           283211 non-null  object\n",
      " 12  DateCreated        354365 non-null  object\n",
      " 13  NumberOfPictures   354365 non-null  int64 \n",
      " 14  PostalCode         354365 non-null  int64 \n",
      " 15  LastSeen           354365 non-null  object\n",
      "dtypes: int64(7), object(9)\n",
      "memory usage: 43.3+ MB\n"
     ]
    }
   ],
   "source": [
    "df['Model'] = df['Model'].fillna('other')\n",
    "df.info()"
   ]
  },
  {
   "cell_type": "code",
   "execution_count": 20,
   "metadata": {},
   "outputs": [
    {
     "data": {
      "text/plain": [
       "petrol      216349\n",
       "gasoline     98719\n",
       "lpg           5310\n",
       "cng            565\n",
       "hybrid         233\n",
       "other          204\n",
       "electric        90\n",
       "Name: FuelType, dtype: int64"
      ]
     },
     "execution_count": 20,
     "metadata": {},
     "output_type": "execute_result"
    }
   ],
   "source": [
    "df['FuelType'].value_counts()"
   ]
  },
  {
   "cell_type": "markdown",
   "metadata": {},
   "source": [
    "В данных подозрительно выглядят 2 типа топлива petrol и gasoline, так как оба слова при переводе с английского являются бензином. Можно предложить данный фактор в различии страны производства: США или Европа, Россия, Азия. Проверим данную гипотезу."
   ]
  },
  {
   "cell_type": "code",
   "execution_count": 21,
   "metadata": {},
   "outputs": [
    {
     "data": {
      "text/html": [
       "<div>\n",
       "<style scoped>\n",
       "    .dataframe tbody tr th:only-of-type {\n",
       "        vertical-align: middle;\n",
       "    }\n",
       "\n",
       "    .dataframe tbody tr th {\n",
       "        vertical-align: top;\n",
       "    }\n",
       "\n",
       "    .dataframe thead th {\n",
       "        text-align: right;\n",
       "    }\n",
       "</style>\n",
       "<table border=\"1\" class=\"dataframe\">\n",
       "  <thead>\n",
       "    <tr style=\"text-align: right;\">\n",
       "      <th></th>\n",
       "      <th>DateCrawled</th>\n",
       "      <th>Price</th>\n",
       "      <th>VehicleType</th>\n",
       "      <th>RegistrationYear</th>\n",
       "      <th>Gearbox</th>\n",
       "      <th>Power</th>\n",
       "      <th>Model</th>\n",
       "      <th>Kilometer</th>\n",
       "      <th>RegistrationMonth</th>\n",
       "      <th>FuelType</th>\n",
       "      <th>Brand</th>\n",
       "      <th>Repaired</th>\n",
       "      <th>DateCreated</th>\n",
       "      <th>NumberOfPictures</th>\n",
       "      <th>PostalCode</th>\n",
       "      <th>LastSeen</th>\n",
       "    </tr>\n",
       "  </thead>\n",
       "  <tbody>\n",
       "    <tr>\n",
       "      <th>0</th>\n",
       "      <td>2016-03-24 11:52:17</td>\n",
       "      <td>480</td>\n",
       "      <td>other</td>\n",
       "      <td>1993</td>\n",
       "      <td>manual</td>\n",
       "      <td>0</td>\n",
       "      <td>golf</td>\n",
       "      <td>150000</td>\n",
       "      <td>0</td>\n",
       "      <td>petrol</td>\n",
       "      <td>volkswagen</td>\n",
       "      <td>NaN</td>\n",
       "      <td>2016-03-24 00:00:00</td>\n",
       "      <td>0</td>\n",
       "      <td>70435</td>\n",
       "      <td>2016-04-07 03:16:57</td>\n",
       "    </tr>\n",
       "    <tr>\n",
       "      <th>3</th>\n",
       "      <td>2016-03-17 16:54:04</td>\n",
       "      <td>1500</td>\n",
       "      <td>small</td>\n",
       "      <td>2001</td>\n",
       "      <td>manual</td>\n",
       "      <td>75</td>\n",
       "      <td>golf</td>\n",
       "      <td>150000</td>\n",
       "      <td>6</td>\n",
       "      <td>petrol</td>\n",
       "      <td>volkswagen</td>\n",
       "      <td>no</td>\n",
       "      <td>2016-03-17 00:00:00</td>\n",
       "      <td>0</td>\n",
       "      <td>91074</td>\n",
       "      <td>2016-03-17 17:40:17</td>\n",
       "    </tr>\n",
       "    <tr>\n",
       "      <th>5</th>\n",
       "      <td>2016-04-04 17:36:23</td>\n",
       "      <td>650</td>\n",
       "      <td>sedan</td>\n",
       "      <td>1995</td>\n",
       "      <td>manual</td>\n",
       "      <td>102</td>\n",
       "      <td>3er</td>\n",
       "      <td>150000</td>\n",
       "      <td>10</td>\n",
       "      <td>petrol</td>\n",
       "      <td>bmw</td>\n",
       "      <td>yes</td>\n",
       "      <td>2016-04-04 00:00:00</td>\n",
       "      <td>0</td>\n",
       "      <td>33775</td>\n",
       "      <td>2016-04-06 19:17:07</td>\n",
       "    </tr>\n",
       "    <tr>\n",
       "      <th>6</th>\n",
       "      <td>2016-04-01 20:48:51</td>\n",
       "      <td>2200</td>\n",
       "      <td>convertible</td>\n",
       "      <td>2004</td>\n",
       "      <td>manual</td>\n",
       "      <td>109</td>\n",
       "      <td>2_reihe</td>\n",
       "      <td>150000</td>\n",
       "      <td>8</td>\n",
       "      <td>petrol</td>\n",
       "      <td>peugeot</td>\n",
       "      <td>no</td>\n",
       "      <td>2016-04-01 00:00:00</td>\n",
       "      <td>0</td>\n",
       "      <td>67112</td>\n",
       "      <td>2016-04-05 18:18:39</td>\n",
       "    </tr>\n",
       "    <tr>\n",
       "      <th>7</th>\n",
       "      <td>2016-03-21 18:54:38</td>\n",
       "      <td>0</td>\n",
       "      <td>sedan</td>\n",
       "      <td>1980</td>\n",
       "      <td>manual</td>\n",
       "      <td>50</td>\n",
       "      <td>other</td>\n",
       "      <td>40000</td>\n",
       "      <td>7</td>\n",
       "      <td>petrol</td>\n",
       "      <td>volkswagen</td>\n",
       "      <td>no</td>\n",
       "      <td>2016-03-21 00:00:00</td>\n",
       "      <td>0</td>\n",
       "      <td>19348</td>\n",
       "      <td>2016-03-25 16:47:58</td>\n",
       "    </tr>\n",
       "  </tbody>\n",
       "</table>\n",
       "</div>"
      ],
      "text/plain": [
       "           DateCrawled  Price  VehicleType  RegistrationYear Gearbox  Power  \\\n",
       "0  2016-03-24 11:52:17    480        other              1993  manual      0   \n",
       "3  2016-03-17 16:54:04   1500        small              2001  manual     75   \n",
       "5  2016-04-04 17:36:23    650        sedan              1995  manual    102   \n",
       "6  2016-04-01 20:48:51   2200  convertible              2004  manual    109   \n",
       "7  2016-03-21 18:54:38      0        sedan              1980  manual     50   \n",
       "\n",
       "     Model  Kilometer  RegistrationMonth FuelType       Brand Repaired  \\\n",
       "0     golf     150000                  0   petrol  volkswagen      NaN   \n",
       "3     golf     150000                  6   petrol  volkswagen       no   \n",
       "5      3er     150000                 10   petrol         bmw      yes   \n",
       "6  2_reihe     150000                  8   petrol     peugeot       no   \n",
       "7    other      40000                  7   petrol  volkswagen       no   \n",
       "\n",
       "           DateCreated  NumberOfPictures  PostalCode             LastSeen  \n",
       "0  2016-03-24 00:00:00                 0       70435  2016-04-07 03:16:57  \n",
       "3  2016-03-17 00:00:00                 0       91074  2016-03-17 17:40:17  \n",
       "5  2016-04-04 00:00:00                 0       33775  2016-04-06 19:17:07  \n",
       "6  2016-04-01 00:00:00                 0       67112  2016-04-05 18:18:39  \n",
       "7  2016-03-21 00:00:00                 0       19348  2016-03-25 16:47:58  "
      ]
     },
     "execution_count": 21,
     "metadata": {},
     "output_type": "execute_result"
    }
   ],
   "source": [
    "df.loc[df['FuelType'] == 'petrol'].head()"
   ]
  },
  {
   "cell_type": "code",
   "execution_count": 22,
   "metadata": {},
   "outputs": [
    {
     "data": {
      "text/html": [
       "<div>\n",
       "<style scoped>\n",
       "    .dataframe tbody tr th:only-of-type {\n",
       "        vertical-align: middle;\n",
       "    }\n",
       "\n",
       "    .dataframe tbody tr th {\n",
       "        vertical-align: top;\n",
       "    }\n",
       "\n",
       "    .dataframe thead th {\n",
       "        text-align: right;\n",
       "    }\n",
       "</style>\n",
       "<table border=\"1\" class=\"dataframe\">\n",
       "  <thead>\n",
       "    <tr style=\"text-align: right;\">\n",
       "      <th></th>\n",
       "      <th>DateCrawled</th>\n",
       "      <th>Price</th>\n",
       "      <th>VehicleType</th>\n",
       "      <th>RegistrationYear</th>\n",
       "      <th>Gearbox</th>\n",
       "      <th>Power</th>\n",
       "      <th>Model</th>\n",
       "      <th>Kilometer</th>\n",
       "      <th>RegistrationMonth</th>\n",
       "      <th>FuelType</th>\n",
       "      <th>Brand</th>\n",
       "      <th>Repaired</th>\n",
       "      <th>DateCreated</th>\n",
       "      <th>NumberOfPictures</th>\n",
       "      <th>PostalCode</th>\n",
       "      <th>LastSeen</th>\n",
       "    </tr>\n",
       "  </thead>\n",
       "  <tbody>\n",
       "    <tr>\n",
       "      <th>354354</th>\n",
       "      <td>2016-04-04 09:57:12</td>\n",
       "      <td>1490</td>\n",
       "      <td>small</td>\n",
       "      <td>1998</td>\n",
       "      <td>manual</td>\n",
       "      <td>50</td>\n",
       "      <td>lupo</td>\n",
       "      <td>150000</td>\n",
       "      <td>9</td>\n",
       "      <td>petrol</td>\n",
       "      <td>volkswagen</td>\n",
       "      <td>no</td>\n",
       "      <td>2016-04-04 00:00:00</td>\n",
       "      <td>0</td>\n",
       "      <td>48653</td>\n",
       "      <td>2016-04-06 11:17:13</td>\n",
       "    </tr>\n",
       "    <tr>\n",
       "      <th>354358</th>\n",
       "      <td>2016-03-19 19:53:49</td>\n",
       "      <td>3200</td>\n",
       "      <td>sedan</td>\n",
       "      <td>2004</td>\n",
       "      <td>manual</td>\n",
       "      <td>225</td>\n",
       "      <td>leon</td>\n",
       "      <td>150000</td>\n",
       "      <td>5</td>\n",
       "      <td>petrol</td>\n",
       "      <td>seat</td>\n",
       "      <td>yes</td>\n",
       "      <td>2016-03-19 00:00:00</td>\n",
       "      <td>0</td>\n",
       "      <td>96465</td>\n",
       "      <td>2016-03-19 20:44:43</td>\n",
       "    </tr>\n",
       "    <tr>\n",
       "      <th>354359</th>\n",
       "      <td>2016-03-27 20:36:20</td>\n",
       "      <td>1150</td>\n",
       "      <td>bus</td>\n",
       "      <td>2000</td>\n",
       "      <td>manual</td>\n",
       "      <td>0</td>\n",
       "      <td>zafira</td>\n",
       "      <td>150000</td>\n",
       "      <td>3</td>\n",
       "      <td>petrol</td>\n",
       "      <td>opel</td>\n",
       "      <td>no</td>\n",
       "      <td>2016-03-27 00:00:00</td>\n",
       "      <td>0</td>\n",
       "      <td>26624</td>\n",
       "      <td>2016-03-29 10:17:23</td>\n",
       "    </tr>\n",
       "    <tr>\n",
       "      <th>354360</th>\n",
       "      <td>2016-03-21 09:50:58</td>\n",
       "      <td>0</td>\n",
       "      <td>other</td>\n",
       "      <td>2005</td>\n",
       "      <td>manual</td>\n",
       "      <td>0</td>\n",
       "      <td>colt</td>\n",
       "      <td>150000</td>\n",
       "      <td>7</td>\n",
       "      <td>petrol</td>\n",
       "      <td>mitsubishi</td>\n",
       "      <td>yes</td>\n",
       "      <td>2016-03-21 00:00:00</td>\n",
       "      <td>0</td>\n",
       "      <td>2694</td>\n",
       "      <td>2016-03-21 10:42:49</td>\n",
       "    </tr>\n",
       "    <tr>\n",
       "      <th>354362</th>\n",
       "      <td>2016-03-05 19:56:21</td>\n",
       "      <td>1199</td>\n",
       "      <td>convertible</td>\n",
       "      <td>2000</td>\n",
       "      <td>auto</td>\n",
       "      <td>101</td>\n",
       "      <td>fortwo</td>\n",
       "      <td>125000</td>\n",
       "      <td>3</td>\n",
       "      <td>petrol</td>\n",
       "      <td>smart</td>\n",
       "      <td>no</td>\n",
       "      <td>2016-03-05 00:00:00</td>\n",
       "      <td>0</td>\n",
       "      <td>26135</td>\n",
       "      <td>2016-03-11 18:17:12</td>\n",
       "    </tr>\n",
       "  </tbody>\n",
       "</table>\n",
       "</div>"
      ],
      "text/plain": [
       "                DateCrawled  Price  VehicleType  RegistrationYear Gearbox  \\\n",
       "354354  2016-04-04 09:57:12   1490        small              1998  manual   \n",
       "354358  2016-03-19 19:53:49   3200        sedan              2004  manual   \n",
       "354359  2016-03-27 20:36:20   1150          bus              2000  manual   \n",
       "354360  2016-03-21 09:50:58      0        other              2005  manual   \n",
       "354362  2016-03-05 19:56:21   1199  convertible              2000    auto   \n",
       "\n",
       "        Power   Model  Kilometer  RegistrationMonth FuelType       Brand  \\\n",
       "354354     50    lupo     150000                  9   petrol  volkswagen   \n",
       "354358    225    leon     150000                  5   petrol        seat   \n",
       "354359      0  zafira     150000                  3   petrol        opel   \n",
       "354360      0    colt     150000                  7   petrol  mitsubishi   \n",
       "354362    101  fortwo     125000                  3   petrol       smart   \n",
       "\n",
       "       Repaired          DateCreated  NumberOfPictures  PostalCode  \\\n",
       "354354       no  2016-04-04 00:00:00                 0       48653   \n",
       "354358      yes  2016-03-19 00:00:00                 0       96465   \n",
       "354359       no  2016-03-27 00:00:00                 0       26624   \n",
       "354360      yes  2016-03-21 00:00:00                 0        2694   \n",
       "354362       no  2016-03-05 00:00:00                 0       26135   \n",
       "\n",
       "                   LastSeen  \n",
       "354354  2016-04-06 11:17:13  \n",
       "354358  2016-03-19 20:44:43  \n",
       "354359  2016-03-29 10:17:23  \n",
       "354360  2016-03-21 10:42:49  \n",
       "354362  2016-03-11 18:17:12  "
      ]
     },
     "execution_count": 22,
     "metadata": {},
     "output_type": "execute_result"
    }
   ],
   "source": [
    "df.loc[df['FuelType'] == 'petrol'].tail()"
   ]
  },
  {
   "cell_type": "markdown",
   "metadata": {},
   "source": [
    "Написание на английском не зависит от региона. Поэтому можно переименовать gasoline в petrol и проверим наличие пропусков."
   ]
  },
  {
   "cell_type": "code",
   "execution_count": 23,
   "metadata": {},
   "outputs": [
    {
     "data": {
      "text/plain": [
       "0.09282801631086592"
      ]
     },
     "execution_count": 23,
     "metadata": {},
     "output_type": "execute_result"
    }
   ],
   "source": [
    "df.loc[df['FuelType'] == 'gasoline', 'FuelType'] = 'petrol' \n",
    "\n",
    "isna_fuel_ratio = df['FuelType'].isna().sum()/len(df['FuelType'])\n",
    "isna_fuel_ratio"
   ]
  },
  {
   "cell_type": "markdown",
   "metadata": {},
   "source": [
    "Количество пропусков составляет 10%. Учитывая, что вариантов топлива может быть много, то пропущенные значения заполним типом other."
   ]
  },
  {
   "cell_type": "code",
   "execution_count": 24,
   "metadata": {},
   "outputs": [
    {
     "name": "stdout",
     "output_type": "stream",
     "text": [
      "<class 'pandas.core.frame.DataFrame'>\n",
      "RangeIndex: 354365 entries, 0 to 354364\n",
      "Data columns (total 16 columns):\n",
      " #   Column             Non-Null Count   Dtype \n",
      "---  ------             --------------   ----- \n",
      " 0   DateCrawled        354365 non-null  object\n",
      " 1   Price              354365 non-null  int64 \n",
      " 2   VehicleType        354365 non-null  object\n",
      " 3   RegistrationYear   354365 non-null  int64 \n",
      " 4   Gearbox            354365 non-null  object\n",
      " 5   Power              354365 non-null  int64 \n",
      " 6   Model              354365 non-null  object\n",
      " 7   Kilometer          354365 non-null  int64 \n",
      " 8   RegistrationMonth  354365 non-null  int64 \n",
      " 9   FuelType           354365 non-null  object\n",
      " 10  Brand              354365 non-null  object\n",
      " 11  Repaired           283211 non-null  object\n",
      " 12  DateCreated        354365 non-null  object\n",
      " 13  NumberOfPictures   354365 non-null  int64 \n",
      " 14  PostalCode         354365 non-null  int64 \n",
      " 15  LastSeen           354365 non-null  object\n",
      "dtypes: int64(7), object(9)\n",
      "memory usage: 43.3+ MB\n"
     ]
    }
   ],
   "source": [
    "df['FuelType'] = df['FuelType'].fillna('other')\n",
    "df.info()"
   ]
  },
  {
   "cell_type": "code",
   "execution_count": 25,
   "metadata": {},
   "outputs": [
    {
     "data": {
      "text/plain": [
       "volkswagen        77012\n",
       "opel              39931\n",
       "bmw               36914\n",
       "mercedes_benz     32044\n",
       "audi              29456\n",
       "ford              25179\n",
       "renault           17927\n",
       "peugeot           10998\n",
       "fiat               9643\n",
       "seat               6907\n",
       "mazda              5615\n",
       "skoda              5500\n",
       "smart              5246\n",
       "citroen            5148\n",
       "nissan             4941\n",
       "toyota             4606\n",
       "hyundai            3587\n",
       "sonstige_autos     3374\n",
       "volvo              3210\n",
       "mini               3202\n",
       "mitsubishi         3022\n",
       "honda              2817\n",
       "kia                2465\n",
       "suzuki             2322\n",
       "alfa_romeo         2314\n",
       "chevrolet          1754\n",
       "chrysler           1439\n",
       "dacia               900\n",
       "daihatsu            806\n",
       "subaru              762\n",
       "porsche             758\n",
       "jeep                677\n",
       "trabant             589\n",
       "land_rover          545\n",
       "daewoo              542\n",
       "saab                526\n",
       "jaguar              505\n",
       "rover               486\n",
       "lancia              471\n",
       "lada                225\n",
       "Name: Brand, dtype: int64"
      ]
     },
     "execution_count": 25,
     "metadata": {},
     "output_type": "execute_result"
    }
   ],
   "source": [
    "df['Brand'].value_counts()"
   ]
  },
  {
   "cell_type": "markdown",
   "metadata": {},
   "source": [
    "Пропущенных значений в столбце Brand нет, что видно из инфомрации выше.\n",
    "\n",
    "Перейдем к признаку Repaired"
   ]
  },
  {
   "cell_type": "code",
   "execution_count": 26,
   "metadata": {},
   "outputs": [
    {
     "data": {
      "text/plain": [
       "no     247158\n",
       "yes     36053\n",
       "Name: Repaired, dtype: int64"
      ]
     },
     "execution_count": 26,
     "metadata": {},
     "output_type": "execute_result"
    }
   ],
   "source": [
    "df['Repaired'].value_counts()"
   ]
  },
  {
   "cell_type": "code",
   "execution_count": 27,
   "metadata": {},
   "outputs": [
    {
     "data": {
      "text/plain": [
       "0.2007929677027923"
      ]
     },
     "execution_count": 27,
     "metadata": {},
     "output_type": "execute_result"
    }
   ],
   "source": [
    "isna_repaired_ratio = df['Repaired'].isna().sum()/len(df['Repaired'])\n",
    "isna_repaired_ratio"
   ]
  },
  {
   "cell_type": "markdown",
   "metadata": {},
   "source": [
    "Из данных видно, что у нас всего два значения: yes и no. Количество пропусков составляет 20%.\n",
    "\n",
    "Рассмотрим, как распределяются машины  в зависимости от пробега при условии ремонта."
   ]
  },
  {
   "cell_type": "code",
   "execution_count": 28,
   "metadata": {},
   "outputs": [
    {
     "data": {
      "text/plain": [
       "Text(0, 0.5, 'Факт ремонта')"
      ]
     },
     "execution_count": 28,
     "metadata": {},
     "output_type": "execute_result"
    },
    {
     "data": {
      "image/png": "[encoded data removed]",
      "text/plain": [
       "<Figure size 1080x432 with 1 Axes>"
      ]
     },
     "metadata": {
      "needs_background": "light"
     },
     "output_type": "display_data"
    }
   ],
   "source": [
    "df.loc[df['Repaired'] == 'yes'].pivot_table(index='Kilometer', values='Repaired', aggfunc='count').plot(style='o--', figsize=(15, 6), grid=True)\n",
    "\n",
    "plt.title('Динамика изменения ремонтов автомобилей от пробега')\n",
    "plt.xlabel('Пробег, км')\n",
    "plt.ylabel('Факт ремонта')"
   ]
  },
  {
   "cell_type": "markdown",
   "metadata": {},
   "source": [
    "Из графика мы видим, что автомобилей с пробегом более 120 000 км, у которых был ремонт, значительно выростает. \n",
    "\n",
    "Отсюда можно предложить следующую замену пропущенных значений:\n",
    " \n",
    "1) Если пробег > 120 000 км, то, вероятно, был ремонт.\n",
    "\n",
    "2) Если пробег < 120 000 км, то, вероятно, ремонт не производился."
   ]
  },
  {
   "cell_type": "code",
   "execution_count": 29,
   "metadata": {},
   "outputs": [
    {
     "data": {
      "text/plain": [
       "no     260055\n",
       "yes     94310\n",
       "Name: Repaired, dtype: int64"
      ]
     },
     "execution_count": 29,
     "metadata": {},
     "output_type": "execute_result"
    }
   ],
   "source": [
    "df['Repaired'] = df['Repaired'].fillna(df['Kilometer'] > 120000)\n",
    "df.loc[df['Repaired'] == True, 'Repaired'] = 'yes'\n",
    "df.loc[df['Repaired'] == False, 'Repaired'] = 'no'\n",
    "df['Repaired'].value_counts()"
   ]
  },
  {
   "cell_type": "markdown",
   "metadata": {},
   "source": [
    "### Исследовательский анализ, проверка на аномальные значения."
   ]
  },
  {
   "cell_type": "markdown",
   "metadata": {},
   "source": [
    "Рассмотрим, какие у нас встречаются аномальные значения в числовых признаках.\n",
    "\n",
    "**Признак - Price**\n",
    "\n",
    "Для начала расмотрим столбец с ценой Price."
   ]
  },
  {
   "cell_type": "code",
   "execution_count": 30,
   "metadata": {},
   "outputs": [
    {
     "data": {
      "text/plain": [
       "<AxesSubplot:>"
      ]
     },
     "execution_count": 30,
     "metadata": {},
     "output_type": "execute_result"
    },
    {
     "data": {
      "image/png": "[encoded data removed]",
      "text/plain": [
       "<Figure size 144x576 with 1 Axes>"
      ]
     },
     "metadata": {
      "needs_background": "light"
     },
     "output_type": "display_data"
    }
   ],
   "source": [
    "plt.figure(figsize=(2, 8))\n",
    "plt.ylim(0,15000)\n",
    "df.boxplot('Price')"
   ]
  },
  {
   "cell_type": "code",
   "execution_count": 31,
   "metadata": {},
   "outputs": [
    {
     "data": {
      "text/plain": [
       "<AxesSubplot:>"
      ]
     },
     "execution_count": 31,
     "metadata": {},
     "output_type": "execute_result"
    },
    {
     "data": {
      "image/png": "[encoded data removed]",
      "text/plain": [
       "<Figure size 1080x576 with 1 Axes>"
      ]
     },
     "metadata": {
      "needs_background": "light"
     },
     "output_type": "display_data"
    }
   ],
   "source": [
    "plt.figure(figsize=(15, 8))\n",
    "df['Price'].hist(bins=100, range =(0,20000))"
   ]
  },
  {
   "cell_type": "markdown",
   "metadata": {},
   "source": [
    "На основании представленных диаграмм мы видим, что имеется аномальное значение стоимости автомобиля - 0 Евро. Посмотрим, какие значения приведены в строках с нулевой ценой."
   ]
  },
  {
   "cell_type": "code",
   "execution_count": 32,
   "metadata": {},
   "outputs": [
    {
     "data": {
      "text/html": [
       "<div>\n",
       "<style scoped>\n",
       "    .dataframe tbody tr th:only-of-type {\n",
       "        vertical-align: middle;\n",
       "    }\n",
       "\n",
       "    .dataframe tbody tr th {\n",
       "        vertical-align: top;\n",
       "    }\n",
       "\n",
       "    .dataframe thead th {\n",
       "        text-align: right;\n",
       "    }\n",
       "</style>\n",
       "<table border=\"1\" class=\"dataframe\">\n",
       "  <thead>\n",
       "    <tr style=\"text-align: right;\">\n",
       "      <th></th>\n",
       "      <th>DateCrawled</th>\n",
       "      <th>Price</th>\n",
       "      <th>VehicleType</th>\n",
       "      <th>RegistrationYear</th>\n",
       "      <th>Gearbox</th>\n",
       "      <th>Power</th>\n",
       "      <th>Model</th>\n",
       "      <th>Kilometer</th>\n",
       "      <th>RegistrationMonth</th>\n",
       "      <th>FuelType</th>\n",
       "      <th>Brand</th>\n",
       "      <th>Repaired</th>\n",
       "      <th>DateCreated</th>\n",
       "      <th>NumberOfPictures</th>\n",
       "      <th>PostalCode</th>\n",
       "      <th>LastSeen</th>\n",
       "    </tr>\n",
       "  </thead>\n",
       "  <tbody>\n",
       "    <tr>\n",
       "      <th>7</th>\n",
       "      <td>2016-03-21 18:54:38</td>\n",
       "      <td>0</td>\n",
       "      <td>sedan</td>\n",
       "      <td>1980</td>\n",
       "      <td>manual</td>\n",
       "      <td>50</td>\n",
       "      <td>other</td>\n",
       "      <td>40000</td>\n",
       "      <td>7</td>\n",
       "      <td>petrol</td>\n",
       "      <td>volkswagen</td>\n",
       "      <td>no</td>\n",
       "      <td>2016-03-21 00:00:00</td>\n",
       "      <td>0</td>\n",
       "      <td>19348</td>\n",
       "      <td>2016-03-25 16:47:58</td>\n",
       "    </tr>\n",
       "    <tr>\n",
       "      <th>40</th>\n",
       "      <td>2016-03-26 22:06:17</td>\n",
       "      <td>0</td>\n",
       "      <td>other</td>\n",
       "      <td>1990</td>\n",
       "      <td>other</td>\n",
       "      <td>0</td>\n",
       "      <td>corsa</td>\n",
       "      <td>150000</td>\n",
       "      <td>1</td>\n",
       "      <td>petrol</td>\n",
       "      <td>opel</td>\n",
       "      <td>yes</td>\n",
       "      <td>2016-03-26 00:00:00</td>\n",
       "      <td>0</td>\n",
       "      <td>56412</td>\n",
       "      <td>2016-03-27 17:43:34</td>\n",
       "    </tr>\n",
       "    <tr>\n",
       "      <th>111</th>\n",
       "      <td>2016-03-19 18:40:12</td>\n",
       "      <td>0</td>\n",
       "      <td>other</td>\n",
       "      <td>2017</td>\n",
       "      <td>manual</td>\n",
       "      <td>0</td>\n",
       "      <td>golf</td>\n",
       "      <td>5000</td>\n",
       "      <td>12</td>\n",
       "      <td>petrol</td>\n",
       "      <td>volkswagen</td>\n",
       "      <td>no</td>\n",
       "      <td>2016-03-19 00:00:00</td>\n",
       "      <td>0</td>\n",
       "      <td>21698</td>\n",
       "      <td>2016-04-01 08:47:05</td>\n",
       "    </tr>\n",
       "    <tr>\n",
       "      <th>115</th>\n",
       "      <td>2016-03-20 18:53:27</td>\n",
       "      <td>0</td>\n",
       "      <td>small</td>\n",
       "      <td>1999</td>\n",
       "      <td>other</td>\n",
       "      <td>0</td>\n",
       "      <td>other</td>\n",
       "      <td>5000</td>\n",
       "      <td>0</td>\n",
       "      <td>petrol</td>\n",
       "      <td>volkswagen</td>\n",
       "      <td>no</td>\n",
       "      <td>2016-03-20 00:00:00</td>\n",
       "      <td>0</td>\n",
       "      <td>37520</td>\n",
       "      <td>2016-04-07 02:45:22</td>\n",
       "    </tr>\n",
       "    <tr>\n",
       "      <th>152</th>\n",
       "      <td>2016-03-11 18:55:53</td>\n",
       "      <td>0</td>\n",
       "      <td>bus</td>\n",
       "      <td>2004</td>\n",
       "      <td>manual</td>\n",
       "      <td>101</td>\n",
       "      <td>meriva</td>\n",
       "      <td>150000</td>\n",
       "      <td>10</td>\n",
       "      <td>lpg</td>\n",
       "      <td>opel</td>\n",
       "      <td>yes</td>\n",
       "      <td>2016-03-11 00:00:00</td>\n",
       "      <td>0</td>\n",
       "      <td>27432</td>\n",
       "      <td>2016-03-12 23:47:10</td>\n",
       "    </tr>\n",
       "    <tr>\n",
       "      <th>154</th>\n",
       "      <td>2016-03-22 16:37:59</td>\n",
       "      <td>0</td>\n",
       "      <td>other</td>\n",
       "      <td>2006</td>\n",
       "      <td>other</td>\n",
       "      <td>0</td>\n",
       "      <td>other</td>\n",
       "      <td>5000</td>\n",
       "      <td>0</td>\n",
       "      <td>other</td>\n",
       "      <td>fiat</td>\n",
       "      <td>no</td>\n",
       "      <td>2016-03-22 00:00:00</td>\n",
       "      <td>0</td>\n",
       "      <td>44867</td>\n",
       "      <td>2016-04-06 06:17:56</td>\n",
       "    </tr>\n",
       "    <tr>\n",
       "      <th>231</th>\n",
       "      <td>2016-03-16 22:06:24</td>\n",
       "      <td>0</td>\n",
       "      <td>wagon</td>\n",
       "      <td>2001</td>\n",
       "      <td>manual</td>\n",
       "      <td>115</td>\n",
       "      <td>mondeo</td>\n",
       "      <td>150000</td>\n",
       "      <td>0</td>\n",
       "      <td>other</td>\n",
       "      <td>ford</td>\n",
       "      <td>yes</td>\n",
       "      <td>2016-03-16 00:00:00</td>\n",
       "      <td>0</td>\n",
       "      <td>57627</td>\n",
       "      <td>2016-03-26 11:17:50</td>\n",
       "    </tr>\n",
       "    <tr>\n",
       "      <th>334</th>\n",
       "      <td>2016-03-06 10:06:20</td>\n",
       "      <td>0</td>\n",
       "      <td>other</td>\n",
       "      <td>2005</td>\n",
       "      <td>other</td>\n",
       "      <td>0</td>\n",
       "      <td>polo</td>\n",
       "      <td>150000</td>\n",
       "      <td>0</td>\n",
       "      <td>petrol</td>\n",
       "      <td>volkswagen</td>\n",
       "      <td>yes</td>\n",
       "      <td>2016-03-06 00:00:00</td>\n",
       "      <td>0</td>\n",
       "      <td>35392</td>\n",
       "      <td>2016-03-07 19:12:00</td>\n",
       "    </tr>\n",
       "    <tr>\n",
       "      <th>415</th>\n",
       "      <td>2016-03-11 10:52:49</td>\n",
       "      <td>0</td>\n",
       "      <td>other</td>\n",
       "      <td>1985</td>\n",
       "      <td>other</td>\n",
       "      <td>0</td>\n",
       "      <td>3er</td>\n",
       "      <td>150000</td>\n",
       "      <td>0</td>\n",
       "      <td>other</td>\n",
       "      <td>bmw</td>\n",
       "      <td>yes</td>\n",
       "      <td>2016-03-11 00:00:00</td>\n",
       "      <td>0</td>\n",
       "      <td>85051</td>\n",
       "      <td>2016-03-11 11:41:09</td>\n",
       "    </tr>\n",
       "    <tr>\n",
       "      <th>466</th>\n",
       "      <td>2016-03-24 10:58:40</td>\n",
       "      <td>0</td>\n",
       "      <td>other</td>\n",
       "      <td>2016</td>\n",
       "      <td>auto</td>\n",
       "      <td>197</td>\n",
       "      <td>3er</td>\n",
       "      <td>150000</td>\n",
       "      <td>12</td>\n",
       "      <td>petrol</td>\n",
       "      <td>bmw</td>\n",
       "      <td>no</td>\n",
       "      <td>2016-03-24 00:00:00</td>\n",
       "      <td>0</td>\n",
       "      <td>99867</td>\n",
       "      <td>2016-03-25 19:46:09</td>\n",
       "    </tr>\n",
       "  </tbody>\n",
       "</table>\n",
       "</div>"
      ],
      "text/plain": [
       "             DateCrawled  Price VehicleType  RegistrationYear Gearbox  Power  \\\n",
       "7    2016-03-21 18:54:38      0       sedan              1980  manual     50   \n",
       "40   2016-03-26 22:06:17      0       other              1990   other      0   \n",
       "111  2016-03-19 18:40:12      0       other              2017  manual      0   \n",
       "115  2016-03-20 18:53:27      0       small              1999   other      0   \n",
       "152  2016-03-11 18:55:53      0         bus              2004  manual    101   \n",
       "154  2016-03-22 16:37:59      0       other              2006   other      0   \n",
       "231  2016-03-16 22:06:24      0       wagon              2001  manual    115   \n",
       "334  2016-03-06 10:06:20      0       other              2005   other      0   \n",
       "415  2016-03-11 10:52:49      0       other              1985   other      0   \n",
       "466  2016-03-24 10:58:40      0       other              2016    auto    197   \n",
       "\n",
       "      Model  Kilometer  RegistrationMonth FuelType       Brand Repaired  \\\n",
       "7     other      40000                  7   petrol  volkswagen       no   \n",
       "40    corsa     150000                  1   petrol        opel      yes   \n",
       "111    golf       5000                 12   petrol  volkswagen       no   \n",
       "115   other       5000                  0   petrol  volkswagen       no   \n",
       "152  meriva     150000                 10      lpg        opel      yes   \n",
       "154   other       5000                  0    other        fiat       no   \n",
       "231  mondeo     150000                  0    other        ford      yes   \n",
       "334    polo     150000                  0   petrol  volkswagen      yes   \n",
       "415     3er     150000                  0    other         bmw      yes   \n",
       "466     3er     150000                 12   petrol         bmw       no   \n",
       "\n",
       "             DateCreated  NumberOfPictures  PostalCode             LastSeen  \n",
       "7    2016-03-21 00:00:00                 0       19348  2016-03-25 16:47:58  \n",
       "40   2016-03-26 00:00:00                 0       56412  2016-03-27 17:43:34  \n",
       "111  2016-03-19 00:00:00                 0       21698  2016-04-01 08:47:05  \n",
       "115  2016-03-20 00:00:00                 0       37520  2016-04-07 02:45:22  \n",
       "152  2016-03-11 00:00:00                 0       27432  2016-03-12 23:47:10  \n",
       "154  2016-03-22 00:00:00                 0       44867  2016-04-06 06:17:56  \n",
       "231  2016-03-16 00:00:00                 0       57627  2016-03-26 11:17:50  \n",
       "334  2016-03-06 00:00:00                 0       35392  2016-03-07 19:12:00  \n",
       "415  2016-03-11 00:00:00                 0       85051  2016-03-11 11:41:09  \n",
       "466  2016-03-24 00:00:00                 0       99867  2016-03-25 19:46:09  "
      ]
     },
     "execution_count": 32,
     "metadata": {},
     "output_type": "execute_result"
    }
   ],
   "source": [
    "df.loc[df['Price'] == 0].head(10)"
   ]
  },
  {
   "cell_type": "code",
   "execution_count": 33,
   "metadata": {},
   "outputs": [
    {
     "data": {
      "text/plain": [
       "0.030398035923412302"
      ]
     },
     "execution_count": 33,
     "metadata": {},
     "output_type": "execute_result"
    }
   ],
   "source": [
    "zero_price = df.loc[df['Price'] == 0, 'Price'].count()/df['Price'].count()\n",
    "zero_price\n",
    "#df['Price'].count()"
   ]
  },
  {
   "cell_type": "markdown",
   "metadata": {},
   "source": [
    "Доля нулевых цен составляет 3%. При этом автомобили с нулевой ценой различаются по типу кузова , году выпуска, типу коробки передач, Пробегу и тд. Поэтому заменить 0 цену медианой, среденей или случайной будет не корректно. \n",
    "\n",
    "Учитывая, что доля данных машин незначительна, избавимся от них. В качестве нижнего порога возьмем стоимость машины 400 Евро."
   ]
  },
  {
   "cell_type": "code",
   "execution_count": 34,
   "metadata": {},
   "outputs": [
    {
     "name": "stdout",
     "output_type": "stream",
     "text": [
      "<class 'pandas.core.frame.DataFrame'>\n",
      "Int64Index: 324346 entries, 0 to 354364\n",
      "Data columns (total 16 columns):\n",
      " #   Column             Non-Null Count   Dtype \n",
      "---  ------             --------------   ----- \n",
      " 0   DateCrawled        324346 non-null  object\n",
      " 1   Price              324346 non-null  int64 \n",
      " 2   VehicleType        324346 non-null  object\n",
      " 3   RegistrationYear   324346 non-null  int64 \n",
      " 4   Gearbox            324346 non-null  object\n",
      " 5   Power              324346 non-null  int64 \n",
      " 6   Model              324346 non-null  object\n",
      " 7   Kilometer          324346 non-null  int64 \n",
      " 8   RegistrationMonth  324346 non-null  int64 \n",
      " 9   FuelType           324346 non-null  object\n",
      " 10  Brand              324346 non-null  object\n",
      " 11  Repaired           324346 non-null  object\n",
      " 12  DateCreated        324346 non-null  object\n",
      " 13  NumberOfPictures   324346 non-null  int64 \n",
      " 14  PostalCode         324346 non-null  int64 \n",
      " 15  LastSeen           324346 non-null  object\n",
      "dtypes: int64(7), object(9)\n",
      "memory usage: 42.1+ MB\n"
     ]
    }
   ],
   "source": [
    "df = df.loc[df['Price'] >=400]\n",
    "df.info()"
   ]
  },
  {
   "cell_type": "markdown",
   "metadata": {},
   "source": [
    "**Год регистрации автомобиля - RegistrationYear**"
   ]
  },
  {
   "cell_type": "code",
   "execution_count": 35,
   "metadata": {},
   "outputs": [
    {
     "data": {
      "text/plain": [
       "<AxesSubplot:>"
      ]
     },
     "execution_count": 35,
     "metadata": {},
     "output_type": "execute_result"
    },
    {
     "data": {
      "image/png": "[encoded data removed]",
      "text/plain": [
       "<Figure size 432x288 with 1 Axes>"
      ]
     },
     "metadata": {
      "needs_background": "light"
     },
     "output_type": "display_data"
    }
   ],
   "source": [
    "#plt.figure(figsize=(2, 8))\n",
    "#plt.ylim(1900,2022)\n",
    "df.boxplot('RegistrationYear')"
   ]
  },
  {
   "cell_type": "markdown",
   "metadata": {},
   "source": [
    "Количество выбросов очень большое. Рассмотрим диаграмму размаха с периода 1900 по 2022 год и далее при необходимости будем сужать данный диапазон."
   ]
  },
  {
   "cell_type": "code",
   "execution_count": 36,
   "metadata": {},
   "outputs": [
    {
     "data": {
      "text/plain": [
       "<AxesSubplot:>"
      ]
     },
     "execution_count": 36,
     "metadata": {},
     "output_type": "execute_result"
    },
    {
     "data": {
      "image/png": "[encoded data removed]",
      "text/plain": [
       "<Figure size 144x576 with 1 Axes>"
      ]
     },
     "metadata": {
      "needs_background": "light"
     },
     "output_type": "display_data"
    }
   ],
   "source": [
    "plt.figure(figsize=(2, 8))\n",
    "plt.ylim(1900,2022)\n",
    "df.boxplot('RegistrationYear')"
   ]
  },
  {
   "cell_type": "code",
   "execution_count": 37,
   "metadata": {},
   "outputs": [
    {
     "data": {
      "text/plain": [
       "<AxesSubplot:>"
      ]
     },
     "execution_count": 37,
     "metadata": {},
     "output_type": "execute_result"
    },
    {
     "data": {
      "image/png": "[encoded data removed]",
      "text/plain": [
       "<Figure size 144x576 with 1 Axes>"
      ]
     },
     "metadata": {
      "needs_background": "light"
     },
     "output_type": "display_data"
    }
   ],
   "source": [
    "plt.figure(figsize=(2, 8))\n",
    "plt.ylim(1985\n",
    "         ,2022)\n",
    "df.boxplot('RegistrationYear')"
   ]
  },
  {
   "cell_type": "code",
   "execution_count": 38,
   "metadata": {},
   "outputs": [
    {
     "data": {
      "text/plain": [
       "<AxesSubplot:>"
      ]
     },
     "execution_count": 38,
     "metadata": {},
     "output_type": "execute_result"
    },
    {
     "data": {
      "image/png": "[encoded data removed]",
      "text/plain": [
       "<Figure size 1080x576 with 1 Axes>"
      ]
     },
     "metadata": {
      "needs_background": "light"
     },
     "output_type": "display_data"
    }
   ],
   "source": [
    "plt.figure(figsize=(15, 8))\n",
    "df['RegistrationYear'].hist(bins=30, range =(1985,2022))"
   ]
  },
  {
   "cell_type": "markdown",
   "metadata": {},
   "source": [
    "Как видно графиков, основной объем машин распределенс с 1985 по 2020 год. Остальных машин незначительное количество, поэтому от них можно избавиться.\n",
    "\n",
    "Для выбора верхнего предела по годам автомобилей будем ориентироваться на признак даты создания анкеты DateCreated."
   ]
  },
  {
   "cell_type": "code",
   "execution_count": 39,
   "metadata": {},
   "outputs": [
    {
     "data": {
      "text/plain": [
       "2016"
      ]
     },
     "execution_count": 39,
     "metadata": {},
     "output_type": "execute_result"
    }
   ],
   "source": [
    "df_year= pd.DatetimeIndex(df['DateCreated']).year\n",
    "df_year.max()"
   ]
  },
  {
   "cell_type": "markdown",
   "metadata": {},
   "source": [
    "Самая свежая анкета датируется 2016 годом, поэтому в качестве ограничителя сверху будем использовать данное значение."
   ]
  },
  {
   "cell_type": "code",
   "execution_count": 40,
   "metadata": {},
   "outputs": [
    {
     "name": "stdout",
     "output_type": "stream",
     "text": [
      "<class 'pandas.core.frame.DataFrame'>\n",
      "Int64Index: 306326 entries, 0 to 354364\n",
      "Data columns (total 16 columns):\n",
      " #   Column             Non-Null Count   Dtype \n",
      "---  ------             --------------   ----- \n",
      " 0   DateCrawled        306326 non-null  object\n",
      " 1   Price              306326 non-null  int64 \n",
      " 2   VehicleType        306326 non-null  object\n",
      " 3   RegistrationYear   306326 non-null  int64 \n",
      " 4   Gearbox            306326 non-null  object\n",
      " 5   Power              306326 non-null  int64 \n",
      " 6   Model              306326 non-null  object\n",
      " 7   Kilometer          306326 non-null  int64 \n",
      " 8   RegistrationMonth  306326 non-null  int64 \n",
      " 9   FuelType           306326 non-null  object\n",
      " 10  Brand              306326 non-null  object\n",
      " 11  Repaired           306326 non-null  object\n",
      " 12  DateCreated        306326 non-null  object\n",
      " 13  NumberOfPictures   306326 non-null  int64 \n",
      " 14  PostalCode         306326 non-null  int64 \n",
      " 15  LastSeen           306326 non-null  object\n",
      "dtypes: int64(7), object(9)\n",
      "memory usage: 39.7+ MB\n"
     ]
    }
   ],
   "source": [
    "df = df[(df['RegistrationYear'] >= 1985) & (df['RegistrationYear'] <= 2016)]\n",
    "df.info()"
   ]
  },
  {
   "cell_type": "markdown",
   "metadata": {},
   "source": [
    "**Мощность - Power**"
   ]
  },
  {
   "cell_type": "code",
   "execution_count": 41,
   "metadata": {},
   "outputs": [
    {
     "data": {
      "text/plain": [
       "<AxesSubplot:>"
      ]
     },
     "execution_count": 41,
     "metadata": {},
     "output_type": "execute_result"
    },
    {
     "data": {
      "image/png": "[encoded data removed]",
      "text/plain": [
       "<Figure size 144x576 with 1 Axes>"
      ]
     },
     "metadata": {
      "needs_background": "light"
     },
     "output_type": "display_data"
    }
   ],
   "source": [
    "plt.figure(figsize=(2, 8))\n",
    "plt.ylim(0,500)\n",
    "df.boxplot('Power')"
   ]
  },
  {
   "cell_type": "code",
   "execution_count": 42,
   "metadata": {},
   "outputs": [
    {
     "data": {
      "text/plain": [
       "<AxesSubplot:>"
      ]
     },
     "execution_count": 42,
     "metadata": {},
     "output_type": "execute_result"
    },
    {
     "data": {
      "image/png": "[encoded data removed]",
      "text/plain": [
       "<Figure size 1080x576 with 1 Axes>"
      ]
     },
     "metadata": {
      "needs_background": "light"
     },
     "output_type": "display_data"
    }
   ],
   "source": [
    "plt.figure(figsize=(15, 8))\n",
    "df['Power'].hist(bins=30, range =(0,500))"
   ]
  },
  {
   "cell_type": "markdown",
   "metadata": {},
   "source": [
    "Из графика видно, что имеется аномальное значение 0 л.с. Проверим долю, данных машин."
   ]
  },
  {
   "cell_type": "code",
   "execution_count": 43,
   "metadata": {},
   "outputs": [
    {
     "data": {
      "text/plain": [
       "0.08414564875328898"
      ]
     },
     "execution_count": 43,
     "metadata": {},
     "output_type": "execute_result"
    }
   ],
   "source": [
    "zero_power = df.loc[df['Power'] == 0, 'Power'].count()/df['Power'].count()\n",
    "zero_power"
   ]
  },
  {
   "cell_type": "markdown",
   "metadata": {},
   "source": [
    "Дополнительно проверим долю автомобилей с мощностью более 500."
   ]
  },
  {
   "cell_type": "markdown",
   "metadata": {},
   "source": [
    "more_power = df.loc[df['Power'] > 500, 'Power'].count()/df['Power'].count()\n",
    "more_powerКоличество автомоблиелей с 0 мощностью составляет порядка 10%, что значительно. \n",
    "\n",
    "Также имеется автомобиль с мощностью 20 000 л.с., что по сути является аномальным значением. При этом стоит отметить, что доля автомобилей с мощностью более 500 л.с. является незначительной\n",
    "\n",
    "Учитывая, что все автомобили отличаются между собой по маркам, моделям, году выпуска, и т.д., заменим 0 л.с. на случайные значения мощности из диапазона 69 - 143 л.с. А в качестве диапазона мощности возьмем с 69 - 500 л.с."
   ]
  },
  {
   "cell_type": "code",
   "execution_count": 44,
   "metadata": {},
   "outputs": [
    {
     "data": {
      "text/plain": [
       "count    264709.000000\n",
       "mean        132.785493\n",
       "std          50.029207\n",
       "min          69.000000\n",
       "25%         101.000000\n",
       "50%         122.000000\n",
       "75%         155.000000\n",
       "max         500.000000\n",
       "Name: Power, dtype: float64"
      ]
     },
     "execution_count": 44,
     "metadata": {},
     "output_type": "execute_result"
    }
   ],
   "source": [
    "rand_power = rn.randint(69, 143)\n",
    "df['Power']= df['Power'].replace(to_replace=0, method='ffill')\n",
    "\n",
    "df = df[(df['Power'] >= 69)& (df['Power'] <= 500)]\n",
    "\n",
    "df['Power'].describe()"
   ]
  },
  {
   "cell_type": "markdown",
   "metadata": {},
   "source": [
    "**Признак - RegistrationMonth**"
   ]
  },
  {
   "cell_type": "code",
   "execution_count": 45,
   "metadata": {},
   "outputs": [
    {
     "data": {
      "text/plain": [
       "3     26386\n",
       "6     24434\n",
       "4     22715\n",
       "5     22568\n",
       "7     21078\n",
       "10    20466\n",
       "11    19205\n",
       "0     19031\n",
       "12    18845\n",
       "9     18646\n",
       "8     17673\n",
       "1     17518\n",
       "2     16144\n",
       "Name: RegistrationMonth, dtype: int64"
      ]
     },
     "execution_count": 45,
     "metadata": {},
     "output_type": "execute_result"
    }
   ],
   "source": [
    "df['RegistrationMonth'].value_counts(ascending=False)"
   ]
  },
  {
   "cell_type": "code",
   "execution_count": 46,
   "metadata": {},
   "outputs": [
    {
     "data": {
      "text/plain": [
       "<AxesSubplot:>"
      ]
     },
     "execution_count": 46,
     "metadata": {},
     "output_type": "execute_result"
    },
    {
     "data": {
      "image/png": "[encoded data removed]",
      "text/plain": [
       "<Figure size 1080x576 with 1 Axes>"
      ]
     },
     "metadata": {
      "needs_background": "light"
     },
     "output_type": "display_data"
    }
   ],
   "source": [
    "plt.figure(figsize=(15, 8))\n",
    "df['RegistrationMonth'].hist(bins=12, range =(0,12))"
   ]
  },
  {
   "cell_type": "markdown",
   "metadata": {},
   "source": [
    "Распределение по месяцам имеет отностительно равномерное распределение, за исключением декабря месяца.\n",
    "\n",
    "Также видно, что имеется аномальный месяц 0. Можно предположить, что это ошибка в заполнении анкеты и прокуск самим хозяином анкеты.\n",
    "\n",
    "Учитывая данное распределение, заменим 0 случайными числами от 1 до 12."
   ]
  },
  {
   "cell_type": "code",
   "execution_count": 47,
   "metadata": {},
   "outputs": [
    {
     "data": {
      "text/plain": [
       "3     28431\n",
       "6     26290\n",
       "4     24470\n",
       "5     24256\n",
       "7     22678\n",
       "10    22058\n",
       "11    20773\n",
       "12    20279\n",
       "9     20126\n",
       "8     19059\n",
       "1     18906\n",
       "2     17383\n",
       "Name: RegistrationMonth, dtype: int64"
      ]
     },
     "execution_count": 47,
     "metadata": {},
     "output_type": "execute_result"
    }
   ],
   "source": [
    "df['RegistrationMonth']= df['RegistrationMonth'].replace(to_replace=0, method='ffill')\n",
    "\n",
    "rand_month = rn.randint(1, 12)\n",
    "#df.loc[df['RegistrationMonth'] == 0, 'RegistrationMonth'] = rand_month\n",
    "df['RegistrationMonth'].value_counts(ascending=False)"
   ]
  },
  {
   "cell_type": "markdown",
   "metadata": {},
   "source": [
    "Дополнительно отметим, что фотографий в признаке NumberOfPictures нет. Учитывая, что фотографий нет, данный признак нам не пригодится в дальнейшем исседовании."
   ]
  },
  {
   "cell_type": "markdown",
   "metadata": {},
   "source": [
    "Выведем итоговую инфомрацию по предобработанному датасету."
   ]
  },
  {
   "cell_type": "code",
   "execution_count": 48,
   "metadata": {},
   "outputs": [
    {
     "data": {
      "text/html": [
       "<div>\n",
       "<style scoped>\n",
       "    .dataframe tbody tr th:only-of-type {\n",
       "        vertical-align: middle;\n",
       "    }\n",
       "\n",
       "    .dataframe tbody tr th {\n",
       "        vertical-align: top;\n",
       "    }\n",
       "\n",
       "    .dataframe thead th {\n",
       "        text-align: right;\n",
       "    }\n",
       "</style>\n",
       "<table border=\"1\" class=\"dataframe\">\n",
       "  <thead>\n",
       "    <tr style=\"text-align: right;\">\n",
       "      <th></th>\n",
       "      <th>DateCrawled</th>\n",
       "      <th>Price</th>\n",
       "      <th>VehicleType</th>\n",
       "      <th>RegistrationYear</th>\n",
       "      <th>Gearbox</th>\n",
       "      <th>Power</th>\n",
       "      <th>Model</th>\n",
       "      <th>Kilometer</th>\n",
       "      <th>RegistrationMonth</th>\n",
       "      <th>FuelType</th>\n",
       "      <th>Brand</th>\n",
       "      <th>Repaired</th>\n",
       "      <th>DateCreated</th>\n",
       "      <th>NumberOfPictures</th>\n",
       "      <th>PostalCode</th>\n",
       "      <th>LastSeen</th>\n",
       "    </tr>\n",
       "  </thead>\n",
       "  <tbody>\n",
       "    <tr>\n",
       "      <th>1</th>\n",
       "      <td>2016-03-24 10:58:45</td>\n",
       "      <td>18300</td>\n",
       "      <td>coupe</td>\n",
       "      <td>2011</td>\n",
       "      <td>manual</td>\n",
       "      <td>190</td>\n",
       "      <td>other</td>\n",
       "      <td>125000</td>\n",
       "      <td>5</td>\n",
       "      <td>petrol</td>\n",
       "      <td>audi</td>\n",
       "      <td>yes</td>\n",
       "      <td>2016-03-24 00:00:00</td>\n",
       "      <td>0</td>\n",
       "      <td>66954</td>\n",
       "      <td>2016-04-07 01:46:50</td>\n",
       "    </tr>\n",
       "    <tr>\n",
       "      <th>2</th>\n",
       "      <td>2016-03-14 12:52:21</td>\n",
       "      <td>9800</td>\n",
       "      <td>suv</td>\n",
       "      <td>2004</td>\n",
       "      <td>auto</td>\n",
       "      <td>163</td>\n",
       "      <td>grand</td>\n",
       "      <td>125000</td>\n",
       "      <td>8</td>\n",
       "      <td>petrol</td>\n",
       "      <td>jeep</td>\n",
       "      <td>yes</td>\n",
       "      <td>2016-03-14 00:00:00</td>\n",
       "      <td>0</td>\n",
       "      <td>90480</td>\n",
       "      <td>2016-04-05 12:47:46</td>\n",
       "    </tr>\n",
       "    <tr>\n",
       "      <th>3</th>\n",
       "      <td>2016-03-17 16:54:04</td>\n",
       "      <td>1500</td>\n",
       "      <td>small</td>\n",
       "      <td>2001</td>\n",
       "      <td>manual</td>\n",
       "      <td>75</td>\n",
       "      <td>golf</td>\n",
       "      <td>150000</td>\n",
       "      <td>6</td>\n",
       "      <td>petrol</td>\n",
       "      <td>volkswagen</td>\n",
       "      <td>no</td>\n",
       "      <td>2016-03-17 00:00:00</td>\n",
       "      <td>0</td>\n",
       "      <td>91074</td>\n",
       "      <td>2016-03-17 17:40:17</td>\n",
       "    </tr>\n",
       "    <tr>\n",
       "      <th>4</th>\n",
       "      <td>2016-03-31 17:25:20</td>\n",
       "      <td>3600</td>\n",
       "      <td>small</td>\n",
       "      <td>2008</td>\n",
       "      <td>manual</td>\n",
       "      <td>69</td>\n",
       "      <td>fabia</td>\n",
       "      <td>90000</td>\n",
       "      <td>7</td>\n",
       "      <td>petrol</td>\n",
       "      <td>skoda</td>\n",
       "      <td>no</td>\n",
       "      <td>2016-03-31 00:00:00</td>\n",
       "      <td>0</td>\n",
       "      <td>60437</td>\n",
       "      <td>2016-04-06 10:17:21</td>\n",
       "    </tr>\n",
       "    <tr>\n",
       "      <th>5</th>\n",
       "      <td>2016-04-04 17:36:23</td>\n",
       "      <td>650</td>\n",
       "      <td>sedan</td>\n",
       "      <td>1995</td>\n",
       "      <td>manual</td>\n",
       "      <td>102</td>\n",
       "      <td>3er</td>\n",
       "      <td>150000</td>\n",
       "      <td>10</td>\n",
       "      <td>petrol</td>\n",
       "      <td>bmw</td>\n",
       "      <td>yes</td>\n",
       "      <td>2016-04-04 00:00:00</td>\n",
       "      <td>0</td>\n",
       "      <td>33775</td>\n",
       "      <td>2016-04-06 19:17:07</td>\n",
       "    </tr>\n",
       "  </tbody>\n",
       "</table>\n",
       "</div>"
      ],
      "text/plain": [
       "           DateCrawled  Price VehicleType  RegistrationYear Gearbox  Power  \\\n",
       "1  2016-03-24 10:58:45  18300       coupe              2011  manual    190   \n",
       "2  2016-03-14 12:52:21   9800         suv              2004    auto    163   \n",
       "3  2016-03-17 16:54:04   1500       small              2001  manual     75   \n",
       "4  2016-03-31 17:25:20   3600       small              2008  manual     69   \n",
       "5  2016-04-04 17:36:23    650       sedan              1995  manual    102   \n",
       "\n",
       "   Model  Kilometer  RegistrationMonth FuelType       Brand Repaired  \\\n",
       "1  other     125000                  5   petrol        audi      yes   \n",
       "2  grand     125000                  8   petrol        jeep      yes   \n",
       "3   golf     150000                  6   petrol  volkswagen       no   \n",
       "4  fabia      90000                  7   petrol       skoda       no   \n",
       "5    3er     150000                 10   petrol         bmw      yes   \n",
       "\n",
       "           DateCreated  NumberOfPictures  PostalCode             LastSeen  \n",
       "1  2016-03-24 00:00:00                 0       66954  2016-04-07 01:46:50  \n",
       "2  2016-03-14 00:00:00                 0       90480  2016-04-05 12:47:46  \n",
       "3  2016-03-17 00:00:00                 0       91074  2016-03-17 17:40:17  \n",
       "4  2016-03-31 00:00:00                 0       60437  2016-04-06 10:17:21  \n",
       "5  2016-04-04 00:00:00                 0       33775  2016-04-06 19:17:07  "
      ]
     },
     "execution_count": 48,
     "metadata": {},
     "output_type": "execute_result"
    }
   ],
   "source": [
    "df.head()"
   ]
  },
  {
   "cell_type": "code",
   "execution_count": 49,
   "metadata": {
    "scrolled": true
   },
   "outputs": [
    {
     "name": "stdout",
     "output_type": "stream",
     "text": [
      "<class 'pandas.core.frame.DataFrame'>\n",
      "Int64Index: 264709 entries, 1 to 354364\n",
      "Data columns (total 16 columns):\n",
      " #   Column             Non-Null Count   Dtype \n",
      "---  ------             --------------   ----- \n",
      " 0   DateCrawled        264709 non-null  object\n",
      " 1   Price              264709 non-null  int64 \n",
      " 2   VehicleType        264709 non-null  object\n",
      " 3   RegistrationYear   264709 non-null  int64 \n",
      " 4   Gearbox            264709 non-null  object\n",
      " 5   Power              264709 non-null  int64 \n",
      " 6   Model              264709 non-null  object\n",
      " 7   Kilometer          264709 non-null  int64 \n",
      " 8   RegistrationMonth  264709 non-null  int64 \n",
      " 9   FuelType           264709 non-null  object\n",
      " 10  Brand              264709 non-null  object\n",
      " 11  Repaired           264709 non-null  object\n",
      " 12  DateCreated        264709 non-null  object\n",
      " 13  NumberOfPictures   264709 non-null  int64 \n",
      " 14  PostalCode         264709 non-null  int64 \n",
      " 15  LastSeen           264709 non-null  object\n",
      "dtypes: int64(7), object(9)\n",
      "memory usage: 34.3+ MB\n"
     ]
    }
   ],
   "source": [
    "df.info()"
   ]
  },
  {
   "cell_type": "code",
   "execution_count": 50,
   "metadata": {
    "scrolled": true
   },
   "outputs": [
    {
     "data": {
      "text/html": [
       "<div>\n",
       "<style scoped>\n",
       "    .dataframe tbody tr th:only-of-type {\n",
       "        vertical-align: middle;\n",
       "    }\n",
       "\n",
       "    .dataframe tbody tr th {\n",
       "        vertical-align: top;\n",
       "    }\n",
       "\n",
       "    .dataframe thead th {\n",
       "        text-align: right;\n",
       "    }\n",
       "</style>\n",
       "<table border=\"1\" class=\"dataframe\">\n",
       "  <thead>\n",
       "    <tr style=\"text-align: right;\">\n",
       "      <th></th>\n",
       "      <th>Price</th>\n",
       "      <th>RegistrationYear</th>\n",
       "      <th>Power</th>\n",
       "      <th>Kilometer</th>\n",
       "      <th>RegistrationMonth</th>\n",
       "      <th>NumberOfPictures</th>\n",
       "      <th>PostalCode</th>\n",
       "    </tr>\n",
       "  </thead>\n",
       "  <tbody>\n",
       "    <tr>\n",
       "      <th>count</th>\n",
       "      <td>264709.000000</td>\n",
       "      <td>264709.000000</td>\n",
       "      <td>264709.000000</td>\n",
       "      <td>264709.000000</td>\n",
       "      <td>264709.000000</td>\n",
       "      <td>264709.0</td>\n",
       "      <td>264709.000000</td>\n",
       "    </tr>\n",
       "    <tr>\n",
       "      <th>mean</th>\n",
       "      <td>5288.203435</td>\n",
       "      <td>2003.515339</td>\n",
       "      <td>132.785493</td>\n",
       "      <td>129217.480327</td>\n",
       "      <td>6.424595</td>\n",
       "      <td>0.0</td>\n",
       "      <td>51375.343385</td>\n",
       "    </tr>\n",
       "    <tr>\n",
       "      <th>std</th>\n",
       "      <td>4654.896607</td>\n",
       "      <td>5.703321</td>\n",
       "      <td>50.029207</td>\n",
       "      <td>36485.358337</td>\n",
       "      <td>3.345899</td>\n",
       "      <td>0.0</td>\n",
       "      <td>25819.369281</td>\n",
       "    </tr>\n",
       "    <tr>\n",
       "      <th>min</th>\n",
       "      <td>400.000000</td>\n",
       "      <td>1985.000000</td>\n",
       "      <td>69.000000</td>\n",
       "      <td>5000.000000</td>\n",
       "      <td>1.000000</td>\n",
       "      <td>0.0</td>\n",
       "      <td>1067.000000</td>\n",
       "    </tr>\n",
       "    <tr>\n",
       "      <th>25%</th>\n",
       "      <td>1650.000000</td>\n",
       "      <td>2000.000000</td>\n",
       "      <td>101.000000</td>\n",
       "      <td>125000.000000</td>\n",
       "      <td>4.000000</td>\n",
       "      <td>0.0</td>\n",
       "      <td>30952.000000</td>\n",
       "    </tr>\n",
       "    <tr>\n",
       "      <th>50%</th>\n",
       "      <td>3699.000000</td>\n",
       "      <td>2004.000000</td>\n",
       "      <td>122.000000</td>\n",
       "      <td>150000.000000</td>\n",
       "      <td>6.000000</td>\n",
       "      <td>0.0</td>\n",
       "      <td>50374.000000</td>\n",
       "    </tr>\n",
       "    <tr>\n",
       "      <th>75%</th>\n",
       "      <td>7600.000000</td>\n",
       "      <td>2007.000000</td>\n",
       "      <td>155.000000</td>\n",
       "      <td>150000.000000</td>\n",
       "      <td>9.000000</td>\n",
       "      <td>0.0</td>\n",
       "      <td>72229.000000</td>\n",
       "    </tr>\n",
       "    <tr>\n",
       "      <th>max</th>\n",
       "      <td>20000.000000</td>\n",
       "      <td>2016.000000</td>\n",
       "      <td>500.000000</td>\n",
       "      <td>150000.000000</td>\n",
       "      <td>12.000000</td>\n",
       "      <td>0.0</td>\n",
       "      <td>99998.000000</td>\n",
       "    </tr>\n",
       "  </tbody>\n",
       "</table>\n",
       "</div>"
      ],
      "text/plain": [
       "               Price  RegistrationYear          Power      Kilometer  \\\n",
       "count  264709.000000     264709.000000  264709.000000  264709.000000   \n",
       "mean     5288.203435       2003.515339     132.785493  129217.480327   \n",
       "std      4654.896607          5.703321      50.029207   36485.358337   \n",
       "min       400.000000       1985.000000      69.000000    5000.000000   \n",
       "25%      1650.000000       2000.000000     101.000000  125000.000000   \n",
       "50%      3699.000000       2004.000000     122.000000  150000.000000   \n",
       "75%      7600.000000       2007.000000     155.000000  150000.000000   \n",
       "max     20000.000000       2016.000000     500.000000  150000.000000   \n",
       "\n",
       "       RegistrationMonth  NumberOfPictures     PostalCode  \n",
       "count      264709.000000          264709.0  264709.000000  \n",
       "mean            6.424595               0.0   51375.343385  \n",
       "std             3.345899               0.0   25819.369281  \n",
       "min             1.000000               0.0    1067.000000  \n",
       "25%             4.000000               0.0   30952.000000  \n",
       "50%             6.000000               0.0   50374.000000  \n",
       "75%             9.000000               0.0   72229.000000  \n",
       "max            12.000000               0.0   99998.000000  "
      ]
     },
     "execution_count": 50,
     "metadata": {},
     "output_type": "execute_result"
    }
   ],
   "source": [
    "df.describe()"
   ]
  },
  {
   "cell_type": "markdown",
   "metadata": {},
   "source": [
    "### Вывод по предобработке данных.\n",
    "\n",
    "Проведена предобработка исходного датасета. Произведена очистка от всех аномальных значений, заполнены пропуски в категориальных и колличественных признаках."
   ]
  },
  {
   "cell_type": "markdown",
   "metadata": {},
   "source": [
    "## Обучение моделей"
   ]
  },
  {
   "cell_type": "markdown",
   "metadata": {},
   "source": [
    "Задача предсказания цены относится к регрессионным моделям.\n",
    "\n",
    "На данном этапе сделаем следующее:\n",
    "\n",
    "1) Удалим из датасета неинфомративные признаки.\n",
    "\n",
    "2) Произведем прямое кодирования категориальных признаков с целью их перевода в колличественные.\n",
    "\n",
    "3) Разобъем полученную выборку на обучающую и тестовую выборку.\n",
    "\n",
    "4) Произведем масштабирование колличественных признаков.\n",
    "\n",
    "5) Методом GridSearchCV выберем одну из наилучших моделей регрессионного анализа: LGBMRegressor, LinearRegession, RandomForestRegessor. В качестве критерия оценки будем использовать метрику RMSE.\n",
    "\n",
    "6) Проанализируем время обучения, время предсказания моделей."
   ]
  },
  {
   "cell_type": "markdown",
   "metadata": {},
   "source": [
    "Приступим к вышеуказанным шагам.\n",
    "\n",
    "1) Удалим из датасета неинфомративные признаки.\n",
    "\n",
    "Неинформативными признаками будут являться количество фотографий (NumberOfPictures), даты скачивания анкеты из базы, последней активности пользователя и создания анкеты (DateCrawled, LastSeen, DateCreated). Эти данные не помогут нам в расчете."
   ]
  },
  {
   "cell_type": "code",
   "execution_count": 51,
   "metadata": {},
   "outputs": [
    {
     "name": "stdout",
     "output_type": "stream",
     "text": [
      "<class 'pandas.core.frame.DataFrame'>\n",
      "Int64Index: 264709 entries, 1 to 354364\n",
      "Data columns (total 12 columns):\n",
      " #   Column             Non-Null Count   Dtype \n",
      "---  ------             --------------   ----- \n",
      " 0   Price              264709 non-null  int64 \n",
      " 1   VehicleType        264709 non-null  object\n",
      " 2   RegistrationYear   264709 non-null  int64 \n",
      " 3   Gearbox            264709 non-null  object\n",
      " 4   Power              264709 non-null  int64 \n",
      " 5   Model              264709 non-null  object\n",
      " 6   Kilometer          264709 non-null  int64 \n",
      " 7   RegistrationMonth  264709 non-null  int64 \n",
      " 8   FuelType           264709 non-null  object\n",
      " 9   Brand              264709 non-null  object\n",
      " 10  Repaired           264709 non-null  object\n",
      " 11  PostalCode         264709 non-null  int64 \n",
      "dtypes: int64(6), object(6)\n",
      "memory usage: 26.3+ MB\n"
     ]
    }
   ],
   "source": [
    "not_useful_col = ['NumberOfPictures','DateCrawled','LastSeen','DateCreated']\n",
    "df_ready = df.drop(not_useful_col, axis=1)\n",
    "df_ready.info()"
   ]
  },
  {
   "cell_type": "markdown",
   "metadata": {},
   "source": [
    "2) Произведем прямое кодирования категориальных признаков с целью их перевода в колличественные."
   ]
  },
  {
   "cell_type": "code",
   "execution_count": 52,
   "metadata": {},
   "outputs": [
    {
     "data": {
      "text/html": [
       "<div>\n",
       "<style scoped>\n",
       "    .dataframe tbody tr th:only-of-type {\n",
       "        vertical-align: middle;\n",
       "    }\n",
       "\n",
       "    .dataframe tbody tr th {\n",
       "        vertical-align: top;\n",
       "    }\n",
       "\n",
       "    .dataframe thead th {\n",
       "        text-align: right;\n",
       "    }\n",
       "</style>\n",
       "<table border=\"1\" class=\"dataframe\">\n",
       "  <thead>\n",
       "    <tr style=\"text-align: right;\">\n",
       "      <th></th>\n",
       "      <th>Price</th>\n",
       "      <th>RegistrationYear</th>\n",
       "      <th>Power</th>\n",
       "      <th>Kilometer</th>\n",
       "      <th>RegistrationMonth</th>\n",
       "      <th>PostalCode</th>\n",
       "      <th>VehicleType_convertible</th>\n",
       "      <th>VehicleType_coupe</th>\n",
       "      <th>VehicleType_other</th>\n",
       "      <th>VehicleType_sedan</th>\n",
       "      <th>...</th>\n",
       "      <th>Brand_skoda</th>\n",
       "      <th>Brand_smart</th>\n",
       "      <th>Brand_sonstige_autos</th>\n",
       "      <th>Brand_subaru</th>\n",
       "      <th>Brand_suzuki</th>\n",
       "      <th>Brand_toyota</th>\n",
       "      <th>Brand_trabant</th>\n",
       "      <th>Brand_volkswagen</th>\n",
       "      <th>Brand_volvo</th>\n",
       "      <th>Repaired_yes</th>\n",
       "    </tr>\n",
       "  </thead>\n",
       "  <tbody>\n",
       "    <tr>\n",
       "      <th>1</th>\n",
       "      <td>18300</td>\n",
       "      <td>2011</td>\n",
       "      <td>190</td>\n",
       "      <td>125000</td>\n",
       "      <td>5</td>\n",
       "      <td>66954</td>\n",
       "      <td>0</td>\n",
       "      <td>1</td>\n",
       "      <td>0</td>\n",
       "      <td>0</td>\n",
       "      <td>...</td>\n",
       "      <td>0</td>\n",
       "      <td>0</td>\n",
       "      <td>0</td>\n",
       "      <td>0</td>\n",
       "      <td>0</td>\n",
       "      <td>0</td>\n",
       "      <td>0</td>\n",
       "      <td>0</td>\n",
       "      <td>0</td>\n",
       "      <td>1</td>\n",
       "    </tr>\n",
       "    <tr>\n",
       "      <th>2</th>\n",
       "      <td>9800</td>\n",
       "      <td>2004</td>\n",
       "      <td>163</td>\n",
       "      <td>125000</td>\n",
       "      <td>8</td>\n",
       "      <td>90480</td>\n",
       "      <td>0</td>\n",
       "      <td>0</td>\n",
       "      <td>0</td>\n",
       "      <td>0</td>\n",
       "      <td>...</td>\n",
       "      <td>0</td>\n",
       "      <td>0</td>\n",
       "      <td>0</td>\n",
       "      <td>0</td>\n",
       "      <td>0</td>\n",
       "      <td>0</td>\n",
       "      <td>0</td>\n",
       "      <td>0</td>\n",
       "      <td>0</td>\n",
       "      <td>1</td>\n",
       "    </tr>\n",
       "    <tr>\n",
       "      <th>3</th>\n",
       "      <td>1500</td>\n",
       "      <td>2001</td>\n",
       "      <td>75</td>\n",
       "      <td>150000</td>\n",
       "      <td>6</td>\n",
       "      <td>91074</td>\n",
       "      <td>0</td>\n",
       "      <td>0</td>\n",
       "      <td>0</td>\n",
       "      <td>0</td>\n",
       "      <td>...</td>\n",
       "      <td>0</td>\n",
       "      <td>0</td>\n",
       "      <td>0</td>\n",
       "      <td>0</td>\n",
       "      <td>0</td>\n",
       "      <td>0</td>\n",
       "      <td>0</td>\n",
       "      <td>1</td>\n",
       "      <td>0</td>\n",
       "      <td>0</td>\n",
       "    </tr>\n",
       "    <tr>\n",
       "      <th>4</th>\n",
       "      <td>3600</td>\n",
       "      <td>2008</td>\n",
       "      <td>69</td>\n",
       "      <td>90000</td>\n",
       "      <td>7</td>\n",
       "      <td>60437</td>\n",
       "      <td>0</td>\n",
       "      <td>0</td>\n",
       "      <td>0</td>\n",
       "      <td>0</td>\n",
       "      <td>...</td>\n",
       "      <td>1</td>\n",
       "      <td>0</td>\n",
       "      <td>0</td>\n",
       "      <td>0</td>\n",
       "      <td>0</td>\n",
       "      <td>0</td>\n",
       "      <td>0</td>\n",
       "      <td>0</td>\n",
       "      <td>0</td>\n",
       "      <td>0</td>\n",
       "    </tr>\n",
       "    <tr>\n",
       "      <th>5</th>\n",
       "      <td>650</td>\n",
       "      <td>1995</td>\n",
       "      <td>102</td>\n",
       "      <td>150000</td>\n",
       "      <td>10</td>\n",
       "      <td>33775</td>\n",
       "      <td>0</td>\n",
       "      <td>0</td>\n",
       "      <td>0</td>\n",
       "      <td>1</td>\n",
       "      <td>...</td>\n",
       "      <td>0</td>\n",
       "      <td>0</td>\n",
       "      <td>0</td>\n",
       "      <td>0</td>\n",
       "      <td>0</td>\n",
       "      <td>0</td>\n",
       "      <td>0</td>\n",
       "      <td>0</td>\n",
       "      <td>0</td>\n",
       "      <td>1</td>\n",
       "    </tr>\n",
       "  </tbody>\n",
       "</table>\n",
       "<p>5 rows × 305 columns</p>\n",
       "</div>"
      ],
      "text/plain": [
       "   Price  RegistrationYear  Power  Kilometer  RegistrationMonth  PostalCode  \\\n",
       "1  18300              2011    190     125000                  5       66954   \n",
       "2   9800              2004    163     125000                  8       90480   \n",
       "3   1500              2001     75     150000                  6       91074   \n",
       "4   3600              2008     69      90000                  7       60437   \n",
       "5    650              1995    102     150000                 10       33775   \n",
       "\n",
       "   VehicleType_convertible  VehicleType_coupe  VehicleType_other  \\\n",
       "1                        0                  1                  0   \n",
       "2                        0                  0                  0   \n",
       "3                        0                  0                  0   \n",
       "4                        0                  0                  0   \n",
       "5                        0                  0                  0   \n",
       "\n",
       "   VehicleType_sedan  ...  Brand_skoda  Brand_smart  Brand_sonstige_autos  \\\n",
       "1                  0  ...            0            0                     0   \n",
       "2                  0  ...            0            0                     0   \n",
       "3                  0  ...            0            0                     0   \n",
       "4                  0  ...            1            0                     0   \n",
       "5                  1  ...            0            0                     0   \n",
       "\n",
       "   Brand_subaru  Brand_suzuki  Brand_toyota  Brand_trabant  Brand_volkswagen  \\\n",
       "1             0             0             0              0                 0   \n",
       "2             0             0             0              0                 0   \n",
       "3             0             0             0              0                 1   \n",
       "4             0             0             0              0                 0   \n",
       "5             0             0             0              0                 0   \n",
       "\n",
       "   Brand_volvo  Repaired_yes  \n",
       "1            0             1  \n",
       "2            0             1  \n",
       "3            0             0  \n",
       "4            0             0  \n",
       "5            0             1  \n",
       "\n",
       "[5 rows x 305 columns]"
      ]
     },
     "execution_count": 52,
     "metadata": {},
     "output_type": "execute_result"
    }
   ],
   "source": [
    "df_ohe = pd.get_dummies(df_ready, drop_first=True)\n",
    "df_ohe.head()"
   ]
  },
  {
   "cell_type": "markdown",
   "metadata": {},
   "source": [
    "3-4) Разобъем полученную выборку на обучающую и тестовую выборку. Произведем масштабирование колличественных признаков."
   ]
  },
  {
   "cell_type": "code",
   "execution_count": 53,
   "metadata": {},
   "outputs": [],
   "source": [
    "#features = df_ohe.drop(['Price'], axis=1)\n",
    "#target = df_ohe['Price'] #целевой признак\n",
    "\n",
    "#разбиваем иходную выборку на 2: тренировочную и тестовую.\n",
    "df_train, df_test = train_test_split(df_ohe, test_size=0.25, random_state=12345)\n",
    "\n",
    "features_train = df_train.drop(['Price'], axis=1)\n",
    "target_train = df_train['Price']\n",
    "\n",
    "features_test = df_test.drop(['Price'], axis=1)\n",
    "target_test = df_test['Price']\n",
    "\n",
    "scaler = StandardScaler()\n",
    "scaler.fit(features_train)\n",
    "\n",
    "features_train = scaler.transform(features_train)\n",
    "features_test = scaler.transform(features_test)"
   ]
  },
  {
   "cell_type": "markdown",
   "metadata": {},
   "source": [
    "5) Методом GridSearchCV выберем одну из наилучших моделей регрессионного анализа: LGBMRegressor, LinearRegession. В качестве критерия оценки будем использовать метрику RMSE.\n"
   ]
  },
  {
   "cell_type": "markdown",
   "metadata": {},
   "source": [
    "**LinearRegession**"
   ]
  },
  {
   "cell_type": "code",
   "execution_count": 54,
   "metadata": {},
   "outputs": [
    {
     "name": "stdout",
     "output_type": "stream",
     "text": [
      "Лучшие параметры LinearRegression: {'fit_intercept': 'True', 'n_jobs': -1, 'normalize': 'True'}\n",
      "Лучшее значение RMSE: -2529.959200247347\n",
      "CPU times: user 7min 37s, sys: 3min 32s, total: 11min 9s\n",
      "Wall time: 11min 10s\n"
     ]
    }
   ],
   "source": [
    "%%time\n",
    "model_lin_regr = LinearRegression()\n",
    "\n",
    "parametrs_lin_regr = {'fit_intercept': ['True', 'False'],\n",
    "                      'normalize': ['True', 'False'],\n",
    "                      'n_jobs': [ -1, 1 ] }\n",
    "grid_lin_rerg = GridSearchCV(model_lin_regr, parametrs_lin_regr,cv=5, scoring = 'neg_root_mean_squared_error')\n",
    "grid_lin_rerg.fit(features_train, target_train)\n",
    "\n",
    "print('Лучшие параметры LinearRegression:', grid_lin_rerg.best_params_)\n",
    "print(f'Лучшее значение RMSE: {grid_lin_rerg.best_score_}')"
   ]
  },
  {
   "cell_type": "code",
   "execution_count": 55,
   "metadata": {},
   "outputs": [
    {
     "data": {
      "text/html": [
       "<div>\n",
       "<style scoped>\n",
       "    .dataframe tbody tr th:only-of-type {\n",
       "        vertical-align: middle;\n",
       "    }\n",
       "\n",
       "    .dataframe tbody tr th {\n",
       "        vertical-align: top;\n",
       "    }\n",
       "\n",
       "    .dataframe thead th {\n",
       "        text-align: right;\n",
       "    }\n",
       "</style>\n",
       "<table border=\"1\" class=\"dataframe\">\n",
       "  <thead>\n",
       "    <tr style=\"text-align: right;\">\n",
       "      <th></th>\n",
       "      <th>mean_fit_time</th>\n",
       "      <th>std_fit_time</th>\n",
       "      <th>mean_score_time</th>\n",
       "      <th>std_score_time</th>\n",
       "      <th>param_fit_intercept</th>\n",
       "      <th>param_n_jobs</th>\n",
       "      <th>param_normalize</th>\n",
       "      <th>params</th>\n",
       "      <th>split0_test_score</th>\n",
       "      <th>split1_test_score</th>\n",
       "      <th>split2_test_score</th>\n",
       "      <th>split3_test_score</th>\n",
       "      <th>split4_test_score</th>\n",
       "      <th>mean_test_score</th>\n",
       "      <th>std_test_score</th>\n",
       "      <th>rank_test_score</th>\n",
       "    </tr>\n",
       "  </thead>\n",
       "  <tbody>\n",
       "    <tr>\n",
       "      <th>0</th>\n",
       "      <td>15.822506</td>\n",
       "      <td>1.227473</td>\n",
       "      <td>0.090686</td>\n",
       "      <td>0.034335</td>\n",
       "      <td>True</td>\n",
       "      <td>-1</td>\n",
       "      <td>True</td>\n",
       "      <td>{'fit_intercept': 'True', 'n_jobs': -1, 'norma...</td>\n",
       "      <td>-2522.001768</td>\n",
       "      <td>-2545.917993</td>\n",
       "      <td>-2538.800055</td>\n",
       "      <td>-2523.861608</td>\n",
       "      <td>-2519.214576</td>\n",
       "      <td>-2529.9592</td>\n",
       "      <td>10.476565</td>\n",
       "      <td>1</td>\n",
       "    </tr>\n",
       "    <tr>\n",
       "      <th>1</th>\n",
       "      <td>15.503909</td>\n",
       "      <td>1.016333</td>\n",
       "      <td>0.110649</td>\n",
       "      <td>0.060822</td>\n",
       "      <td>True</td>\n",
       "      <td>-1</td>\n",
       "      <td>False</td>\n",
       "      <td>{'fit_intercept': 'True', 'n_jobs': -1, 'norma...</td>\n",
       "      <td>-2522.001768</td>\n",
       "      <td>-2545.917993</td>\n",
       "      <td>-2538.800055</td>\n",
       "      <td>-2523.861608</td>\n",
       "      <td>-2519.214576</td>\n",
       "      <td>-2529.9592</td>\n",
       "      <td>10.476565</td>\n",
       "      <td>1</td>\n",
       "    </tr>\n",
       "    <tr>\n",
       "      <th>2</th>\n",
       "      <td>18.490201</td>\n",
       "      <td>0.418435</td>\n",
       "      <td>0.066069</td>\n",
       "      <td>0.043283</td>\n",
       "      <td>True</td>\n",
       "      <td>1</td>\n",
       "      <td>True</td>\n",
       "      <td>{'fit_intercept': 'True', 'n_jobs': 1, 'normal...</td>\n",
       "      <td>-2522.001768</td>\n",
       "      <td>-2545.917993</td>\n",
       "      <td>-2538.800055</td>\n",
       "      <td>-2523.861608</td>\n",
       "      <td>-2519.214576</td>\n",
       "      <td>-2529.9592</td>\n",
       "      <td>10.476565</td>\n",
       "      <td>1</td>\n",
       "    </tr>\n",
       "    <tr>\n",
       "      <th>3</th>\n",
       "      <td>18.335771</td>\n",
       "      <td>0.778192</td>\n",
       "      <td>0.101161</td>\n",
       "      <td>0.002175</td>\n",
       "      <td>True</td>\n",
       "      <td>1</td>\n",
       "      <td>False</td>\n",
       "      <td>{'fit_intercept': 'True', 'n_jobs': 1, 'normal...</td>\n",
       "      <td>-2522.001768</td>\n",
       "      <td>-2545.917993</td>\n",
       "      <td>-2538.800055</td>\n",
       "      <td>-2523.861608</td>\n",
       "      <td>-2519.214576</td>\n",
       "      <td>-2529.9592</td>\n",
       "      <td>10.476565</td>\n",
       "      <td>1</td>\n",
       "    </tr>\n",
       "    <tr>\n",
       "      <th>4</th>\n",
       "      <td>18.494860</td>\n",
       "      <td>0.829457</td>\n",
       "      <td>0.080435</td>\n",
       "      <td>0.033626</td>\n",
       "      <td>False</td>\n",
       "      <td>-1</td>\n",
       "      <td>True</td>\n",
       "      <td>{'fit_intercept': 'False', 'n_jobs': -1, 'norm...</td>\n",
       "      <td>-2522.001768</td>\n",
       "      <td>-2545.917993</td>\n",
       "      <td>-2538.800055</td>\n",
       "      <td>-2523.861608</td>\n",
       "      <td>-2519.214576</td>\n",
       "      <td>-2529.9592</td>\n",
       "      <td>10.476565</td>\n",
       "      <td>1</td>\n",
       "    </tr>\n",
       "  </tbody>\n",
       "</table>\n",
       "</div>"
      ],
      "text/plain": [
       "   mean_fit_time  std_fit_time  mean_score_time  std_score_time  \\\n",
       "0      15.822506      1.227473         0.090686        0.034335   \n",
       "1      15.503909      1.016333         0.110649        0.060822   \n",
       "2      18.490201      0.418435         0.066069        0.043283   \n",
       "3      18.335771      0.778192         0.101161        0.002175   \n",
       "4      18.494860      0.829457         0.080435        0.033626   \n",
       "\n",
       "  param_fit_intercept param_n_jobs param_normalize  \\\n",
       "0                True           -1            True   \n",
       "1                True           -1           False   \n",
       "2                True            1            True   \n",
       "3                True            1           False   \n",
       "4               False           -1            True   \n",
       "\n",
       "                                              params  split0_test_score  \\\n",
       "0  {'fit_intercept': 'True', 'n_jobs': -1, 'norma...       -2522.001768   \n",
       "1  {'fit_intercept': 'True', 'n_jobs': -1, 'norma...       -2522.001768   \n",
       "2  {'fit_intercept': 'True', 'n_jobs': 1, 'normal...       -2522.001768   \n",
       "3  {'fit_intercept': 'True', 'n_jobs': 1, 'normal...       -2522.001768   \n",
       "4  {'fit_intercept': 'False', 'n_jobs': -1, 'norm...       -2522.001768   \n",
       "\n",
       "   split1_test_score  split2_test_score  split3_test_score  split4_test_score  \\\n",
       "0       -2545.917993       -2538.800055       -2523.861608       -2519.214576   \n",
       "1       -2545.917993       -2538.800055       -2523.861608       -2519.214576   \n",
       "2       -2545.917993       -2538.800055       -2523.861608       -2519.214576   \n",
       "3       -2545.917993       -2538.800055       -2523.861608       -2519.214576   \n",
       "4       -2545.917993       -2538.800055       -2523.861608       -2519.214576   \n",
       "\n",
       "   mean_test_score  std_test_score  rank_test_score  \n",
       "0       -2529.9592       10.476565                1  \n",
       "1       -2529.9592       10.476565                1  \n",
       "2       -2529.9592       10.476565                1  \n",
       "3       -2529.9592       10.476565                1  \n",
       "4       -2529.9592       10.476565                1  "
      ]
     },
     "metadata": {},
     "output_type": "display_data"
    },
    {
     "name": "stdout",
     "output_type": "stream",
     "text": [
      "Время обучения LinearRegression = 15.822505569458007\n",
      "Время предсказания LinearRegression = 0.09068641662597657\n"
     ]
    }
   ],
   "source": [
    "grid_lin_rerg_df = pd.DataFrame(grid_lin_rerg.cv_results_)\n",
    "display(grid_lin_rerg_df.head())\n",
    "fit_time_lin_rerg = grid_lin_rerg_df[grid_lin_rerg_df['rank_test_score']==1]['mean_fit_time'].values[0]\n",
    "pred_time_lin_rerg = grid_lin_rerg_df[grid_lin_rerg_df['rank_test_score']==1]['mean_score_time'].values[0]\n",
    "print(f'Время обучения LinearRegression = {fit_time_lin_rerg}')\n",
    "print(f'Время предсказания LinearRegression = {pred_time_lin_rerg}')\n"
   ]
  },
  {
   "cell_type": "markdown",
   "metadata": {},
   "source": [
    "**LGBMRegressor**"
   ]
  },
  {
   "cell_type": "markdown",
   "metadata": {},
   "source": [
    "Учитывая, что данная модель умеет работь с немасштабированными, а также категориальными признаками, за основу возьмем ранее предобработанную выборку  df_ready и разделим ее на обучающую и тестовую. \n",
    "\n",
    "Для начала изменим формат категориальных признаков на categoty."
   ]
  },
  {
   "cell_type": "code",
   "execution_count": 56,
   "metadata": {},
   "outputs": [],
   "source": [
    "df_ready['VehicleType'] = df_ready['VehicleType'].astype('category')\n",
    "df_ready['Gearbox'] = df_ready['Gearbox'].astype('category')\n",
    "df_ready['Model'] = df_ready['Model'].astype('category')\n",
    "df_ready['FuelType'] = df_ready['FuelType'].astype('category')\n",
    "df_ready['Brand'] = df_ready['Brand'].astype('category')\n",
    "df_ready['Repaired'] = df_ready['Repaired'].astype('category')\n",
    " "
   ]
  },
  {
   "cell_type": "code",
   "execution_count": 57,
   "metadata": {},
   "outputs": [],
   "source": [
    "df_train_ready, df_test_ready = train_test_split(df_ready, test_size=0.25, random_state=12345)\n",
    "\n",
    "features_train_ready = df_train_ready.drop(['Price'], axis=1)\n",
    "target_train_ready = df_train_ready['Price']\n",
    "\n",
    "features_test_ready = df_test_ready.drop(['Price'], axis=1)\n",
    "target_test_ready = df_test_ready['Price']\n"
   ]
  },
  {
   "cell_type": "code",
   "execution_count": 58,
   "metadata": {},
   "outputs": [
    {
     "name": "stdout",
     "output_type": "stream",
     "text": [
      "Лучшие параметры LinearRegression: {'boosting_type': 'gbdt', 'n_estimators': 50}\n",
      "Лучшее значение RMSE: -1750.2861353930844\n",
      "CPU times: user 46min 49s, sys: 18.8 s, total: 47min 8s\n",
      "Wall time: 47min 30s\n"
     ]
    }
   ],
   "source": [
    "%%time\n",
    "model_LGBMRegressor = LGBMRegressor(random_state = 12345)\n",
    "\n",
    "parametrs_LGBMRegressor = {'boosting_type': ['gbdt', 'dart'],\n",
    "                           'n_estimators': range (10, 51, 10)}\n",
    "\n",
    "grid_LGBMRegressor = GridSearchCV(model_LGBMRegressor, parametrs_LGBMRegressor,cv=5,\n",
    "                                  scoring = 'neg_root_mean_squared_error')\n",
    "grid_LGBMRegressor.fit(features_train_ready, target_train_ready)\n",
    "\n",
    "print('Лучшие параметры LinearRegression:', grid_LGBMRegressor.best_params_)\n",
    "print(f'Лучшее значение RMSE: {grid_LGBMRegressor.best_score_}')\n",
    "\n",
    "#'random_state' : [12345]"
   ]
  },
  {
   "cell_type": "code",
   "execution_count": 59,
   "metadata": {},
   "outputs": [
    {
     "data": {
      "text/html": [
       "<div>\n",
       "<style scoped>\n",
       "    .dataframe tbody tr th:only-of-type {\n",
       "        vertical-align: middle;\n",
       "    }\n",
       "\n",
       "    .dataframe tbody tr th {\n",
       "        vertical-align: top;\n",
       "    }\n",
       "\n",
       "    .dataframe thead th {\n",
       "        text-align: right;\n",
       "    }\n",
       "</style>\n",
       "<table border=\"1\" class=\"dataframe\">\n",
       "  <thead>\n",
       "    <tr style=\"text-align: right;\">\n",
       "      <th></th>\n",
       "      <th>mean_fit_time</th>\n",
       "      <th>std_fit_time</th>\n",
       "      <th>mean_score_time</th>\n",
       "      <th>std_score_time</th>\n",
       "      <th>param_boosting_type</th>\n",
       "      <th>param_n_estimators</th>\n",
       "      <th>params</th>\n",
       "      <th>split0_test_score</th>\n",
       "      <th>split1_test_score</th>\n",
       "      <th>split2_test_score</th>\n",
       "      <th>split3_test_score</th>\n",
       "      <th>split4_test_score</th>\n",
       "      <th>mean_test_score</th>\n",
       "      <th>std_test_score</th>\n",
       "      <th>rank_test_score</th>\n",
       "    </tr>\n",
       "  </thead>\n",
       "  <tbody>\n",
       "    <tr>\n",
       "      <th>0</th>\n",
       "      <td>0.968941</td>\n",
       "      <td>0.070839</td>\n",
       "      <td>0.066039</td>\n",
       "      <td>0.039952</td>\n",
       "      <td>gbdt</td>\n",
       "      <td>10</td>\n",
       "      <td>{'boosting_type': 'gbdt', 'n_estimators': 10}</td>\n",
       "      <td>-2613.543862</td>\n",
       "      <td>-2625.982164</td>\n",
       "      <td>-2609.720755</td>\n",
       "      <td>-2619.975238</td>\n",
       "      <td>-2592.974087</td>\n",
       "      <td>-2612.439221</td>\n",
       "      <td>11.204504</td>\n",
       "      <td>8</td>\n",
       "    </tr>\n",
       "    <tr>\n",
       "      <th>1</th>\n",
       "      <td>1.512774</td>\n",
       "      <td>0.130406</td>\n",
       "      <td>0.104312</td>\n",
       "      <td>0.002852</td>\n",
       "      <td>gbdt</td>\n",
       "      <td>20</td>\n",
       "      <td>{'boosting_type': 'gbdt', 'n_estimators': 20}</td>\n",
       "      <td>-2026.339648</td>\n",
       "      <td>-2036.865035</td>\n",
       "      <td>-2022.421004</td>\n",
       "      <td>-2035.045383</td>\n",
       "      <td>-2007.949584</td>\n",
       "      <td>-2025.724131</td>\n",
       "      <td>10.375255</td>\n",
       "      <td>4</td>\n",
       "    </tr>\n",
       "    <tr>\n",
       "      <th>2</th>\n",
       "      <td>2.036560</td>\n",
       "      <td>0.484339</td>\n",
       "      <td>0.161775</td>\n",
       "      <td>0.045090</td>\n",
       "      <td>gbdt</td>\n",
       "      <td>30</td>\n",
       "      <td>{'boosting_type': 'gbdt', 'n_estimators': 30}</td>\n",
       "      <td>-1851.433135</td>\n",
       "      <td>-1857.107018</td>\n",
       "      <td>-1843.165298</td>\n",
       "      <td>-1854.482226</td>\n",
       "      <td>-1832.593875</td>\n",
       "      <td>-1847.756310</td>\n",
       "      <td>8.912570</td>\n",
       "      <td>3</td>\n",
       "    </tr>\n",
       "    <tr>\n",
       "      <th>3</th>\n",
       "      <td>75.061548</td>\n",
       "      <td>62.430612</td>\n",
       "      <td>0.239179</td>\n",
       "      <td>0.041228</td>\n",
       "      <td>gbdt</td>\n",
       "      <td>40</td>\n",
       "      <td>{'boosting_type': 'gbdt', 'n_estimators': 40}</td>\n",
       "      <td>-1784.902139</td>\n",
       "      <td>-1788.552738</td>\n",
       "      <td>-1776.130695</td>\n",
       "      <td>-1786.370757</td>\n",
       "      <td>-1768.739952</td>\n",
       "      <td>-1780.939256</td>\n",
       "      <td>7.417763</td>\n",
       "      <td>2</td>\n",
       "    </tr>\n",
       "    <tr>\n",
       "      <th>4</th>\n",
       "      <td>23.698544</td>\n",
       "      <td>3.807178</td>\n",
       "      <td>0.279461</td>\n",
       "      <td>0.027695</td>\n",
       "      <td>gbdt</td>\n",
       "      <td>50</td>\n",
       "      <td>{'boosting_type': 'gbdt', 'n_estimators': 50}</td>\n",
       "      <td>-1755.525732</td>\n",
       "      <td>-1757.857944</td>\n",
       "      <td>-1744.240361</td>\n",
       "      <td>-1755.819737</td>\n",
       "      <td>-1737.986903</td>\n",
       "      <td>-1750.286135</td>\n",
       "      <td>7.787540</td>\n",
       "      <td>1</td>\n",
       "    </tr>\n",
       "  </tbody>\n",
       "</table>\n",
       "</div>"
      ],
      "text/plain": [
       "   mean_fit_time  std_fit_time  mean_score_time  std_score_time  \\\n",
       "0       0.968941      0.070839         0.066039        0.039952   \n",
       "1       1.512774      0.130406         0.104312        0.002852   \n",
       "2       2.036560      0.484339         0.161775        0.045090   \n",
       "3      75.061548     62.430612         0.239179        0.041228   \n",
       "4      23.698544      3.807178         0.279461        0.027695   \n",
       "\n",
       "  param_boosting_type param_n_estimators  \\\n",
       "0                gbdt                 10   \n",
       "1                gbdt                 20   \n",
       "2                gbdt                 30   \n",
       "3                gbdt                 40   \n",
       "4                gbdt                 50   \n",
       "\n",
       "                                          params  split0_test_score  \\\n",
       "0  {'boosting_type': 'gbdt', 'n_estimators': 10}       -2613.543862   \n",
       "1  {'boosting_type': 'gbdt', 'n_estimators': 20}       -2026.339648   \n",
       "2  {'boosting_type': 'gbdt', 'n_estimators': 30}       -1851.433135   \n",
       "3  {'boosting_type': 'gbdt', 'n_estimators': 40}       -1784.902139   \n",
       "4  {'boosting_type': 'gbdt', 'n_estimators': 50}       -1755.525732   \n",
       "\n",
       "   split1_test_score  split2_test_score  split3_test_score  split4_test_score  \\\n",
       "0       -2625.982164       -2609.720755       -2619.975238       -2592.974087   \n",
       "1       -2036.865035       -2022.421004       -2035.045383       -2007.949584   \n",
       "2       -1857.107018       -1843.165298       -1854.482226       -1832.593875   \n",
       "3       -1788.552738       -1776.130695       -1786.370757       -1768.739952   \n",
       "4       -1757.857944       -1744.240361       -1755.819737       -1737.986903   \n",
       "\n",
       "   mean_test_score  std_test_score  rank_test_score  \n",
       "0     -2612.439221       11.204504                8  \n",
       "1     -2025.724131       10.375255                4  \n",
       "2     -1847.756310        8.912570                3  \n",
       "3     -1780.939256        7.417763                2  \n",
       "4     -1750.286135        7.787540                1  "
      ]
     },
     "metadata": {},
     "output_type": "display_data"
    },
    {
     "name": "stdout",
     "output_type": "stream",
     "text": [
      "Время обучения LGBMRegressor= 23.6985435962677\n",
      "Время предсказания LGBMRegressor= 0.2794614315032959\n"
     ]
    }
   ],
   "source": [
    "grid_LGBMRegressor_df = pd.DataFrame(grid_LGBMRegressor.cv_results_)\n",
    "display(grid_LGBMRegressor_df.head())\n",
    "fit_time_LGBMRegressor = grid_LGBMRegressor_df[grid_LGBMRegressor_df['rank_test_score']==1]['mean_fit_time'].values[0]\n",
    "pred_time_LGBMRegressor = grid_LGBMRegressor_df[grid_LGBMRegressor_df['rank_test_score']==1]['mean_score_time'].values[0]\n",
    "print(f'Время обучения LGBMRegressor= {fit_time_LGBMRegressor}')\n",
    "print(f'Время предсказания LGBMRegressor= {pred_time_LGBMRegressor}')"
   ]
  },
  {
   "cell_type": "markdown",
   "metadata": {},
   "source": [
    "Проведем обучение моделей."
   ]
  },
  {
   "cell_type": "code",
   "execution_count": 64,
   "metadata": {},
   "outputs": [
    {
     "name": "stdout",
     "output_type": "stream",
     "text": [
      "CPU times: user 13 s, sys: 7.39 s, total: 20.4 s\n",
      "Wall time: 20.6 s\n"
     ]
    }
   ],
   "source": [
    "%%time\n",
    "model_lin_regr = LinearRegression(**grid_lin_rerg.best_params_)\n",
    "\n",
    "model_lin_regr.fit(features_train, target_train)\n",
    "\n",
    "pred_model_lin_regr = model_lin_regr.predict(features_train)\n",
    "\n",
    "#print('RMSE-LinearRegression для обучающей выборки', (mean_squared_error(target_train, pred_model_lin_regr))**0.5)"
   ]
  },
  {
   "cell_type": "code",
   "execution_count": 65,
   "metadata": {},
   "outputs": [
    {
     "name": "stdout",
     "output_type": "stream",
     "text": [
      "CPU times: user 29.8 s, sys: 188 ms, total: 30 s\n",
      "Wall time: 30.2 s\n"
     ]
    }
   ],
   "source": [
    "%%time\n",
    "model_LGBMRegressor = LGBMRegressor(**grid_LGBMRegressor.best_params_,random_state = 12345 )\n",
    "\n",
    "model_LGBMRegressor.fit(features_train_ready, target_train_ready)\n",
    "\n",
    "pred_model_LGBMRegressor = model_LGBMRegressor.predict(features_train_ready)\n",
    "\n",
    "#print('RMSE-LGBMRegressor для обучающей выборки', (mean_squared_error(target_train, pred_model_LGBMRegressor))**0.5)"
   ]
  },
  {
   "cell_type": "markdown",
   "metadata": {},
   "source": [
    "**Вывод**\n",
    "Модели обучены. Перейдем к их анализу."
   ]
  },
  {
   "cell_type": "markdown",
   "metadata": {},
   "source": [
    "## Анализ моделей"
   ]
  },
  {
   "cell_type": "markdown",
   "metadata": {},
   "source": [
    "По результатам анализа выше видно, что модель линейной регрессии обучается и предсказывает быстрее, чем LGBMRegressor.\n",
    "\n",
    "При этом скорость выполнения ячейки кода по команде %%time выше у LGBMRegressor. Более того следуюет отметить, что метрика RMSE также лучше у данной модели.\n",
    "\n",
    "Проверим модель LGBMRegressor на тестовой выборке."
   ]
  },
  {
   "cell_type": "code",
   "execution_count": 66,
   "metadata": {},
   "outputs": [
    {
     "name": "stdout",
     "output_type": "stream",
     "text": [
      "RMSE-LGBMRegressor для тестовой выборки 1750.9900862970808\n"
     ]
    }
   ],
   "source": [
    "test_pred_model_LGBMRegressor = model_LGBMRegressor.predict(features_test_ready)\n",
    "print('RMSE-LGBMRegressor для тестовой выборки', (mean_squared_error(target_test_ready, test_pred_model_LGBMRegressor))**0.5)"
   ]
  },
  {
   "cell_type": "markdown",
   "metadata": {},
   "source": [
    "# Общий вывод"
   ]
  },
  {
   "cell_type": "markdown",
   "metadata": {},
   "source": [
    "По результатам предобработки исходных данных и подготовке выборок для обучения и предсказания, лучше всего проявила себя модель LGBMRegressor. Целевая метрика RMSE (ниже 2500) достигнута.\n",
    "\n",
    "Лучшие параметры LinearRegression: {'boosting_type': 'gbdt', 'n_estimators': 50}"
   ]
  }
 ],
 "metadata": {
  "ExecuteTimeLog": [
   {
    "duration": 2649,
    "start_time": "2022-11-20T18:04:01.525Z"
   },
   {
    "duration": 1185,
    "start_time": "2022-11-20T18:04:12.747Z"
   },
   {
    "duration": 2154,
    "start_time": "2022-11-21T02:48:32.572Z"
   },
   {
    "duration": 1531,
    "start_time": "2022-11-21T02:49:35.830Z"
   },
   {
    "duration": 47,
    "start_time": "2022-11-21T03:12:38.660Z"
   },
   {
    "duration": 2099,
    "start_time": "2022-11-21T03:12:38.859Z"
   },
   {
    "duration": 1305,
    "start_time": "2022-11-21T03:12:40.960Z"
   },
   {
    "duration": 1057,
    "start_time": "2022-11-21T03:12:42.267Z"
   },
   {
    "duration": 18,
    "start_time": "2022-11-21T03:12:43.325Z"
   },
   {
    "duration": 129,
    "start_time": "2022-11-21T03:12:43.345Z"
   },
   {
    "duration": 98,
    "start_time": "2022-11-21T03:12:43.476Z"
   },
   {
    "duration": 399,
    "start_time": "2022-11-21T03:12:43.575Z"
   },
   {
    "duration": 492,
    "start_time": "2022-11-21T03:12:43.976Z"
   },
   {
    "duration": 31,
    "start_time": "2022-11-21T03:12:44.469Z"
   },
   {
    "duration": 37,
    "start_time": "2022-11-21T03:12:44.502Z"
   },
   {
    "duration": 18,
    "start_time": "2022-11-21T03:12:44.541Z"
   },
   {
    "duration": 155,
    "start_time": "2022-11-21T03:12:44.561Z"
   },
   {
    "duration": 33,
    "start_time": "2022-11-21T03:12:44.717Z"
   },
   {
    "duration": 16,
    "start_time": "2022-11-21T03:12:44.753Z"
   },
   {
    "duration": 145,
    "start_time": "2022-11-21T03:12:44.771Z"
   },
   {
    "duration": 32,
    "start_time": "2022-11-21T03:12:44.921Z"
   },
   {
    "duration": 19,
    "start_time": "2022-11-21T03:12:44.955Z"
   },
   {
    "duration": 155,
    "start_time": "2022-11-21T03:12:44.975Z"
   },
   {
    "duration": 34,
    "start_time": "2022-11-21T03:12:45.132Z"
   },
   {
    "duration": 81,
    "start_time": "2022-11-21T03:12:45.168Z"
   },
   {
    "duration": 79,
    "start_time": "2022-11-21T03:12:45.251Z"
   },
   {
    "duration": 43,
    "start_time": "2022-11-21T03:12:45.332Z"
   },
   {
    "duration": 153,
    "start_time": "2022-11-21T03:12:45.377Z"
   },
   {
    "duration": 33,
    "start_time": "2022-11-21T03:12:45.532Z"
   },
   {
    "duration": 30,
    "start_time": "2022-11-21T03:12:45.567Z"
   },
   {
    "duration": 34,
    "start_time": "2022-11-21T03:12:45.598Z"
   },
   {
    "duration": 223,
    "start_time": "2022-11-21T03:12:45.634Z"
   },
   {
    "duration": 101,
    "start_time": "2022-11-21T03:12:45.859Z"
   },
   {
    "duration": 380,
    "start_time": "2022-11-21T03:12:45.961Z"
   },
   {
    "duration": 278,
    "start_time": "2022-11-21T03:12:46.343Z"
   },
   {
    "duration": 20,
    "start_time": "2022-11-21T03:12:46.622Z"
   },
   {
    "duration": 14,
    "start_time": "2022-11-21T03:12:46.644Z"
   },
   {
    "duration": 161,
    "start_time": "2022-11-21T03:12:46.660Z"
   },
   {
    "duration": 391,
    "start_time": "2022-11-21T03:12:46.822Z"
   },
   {
    "duration": 316,
    "start_time": "2022-11-21T03:12:47.214Z"
   },
   {
    "duration": 331,
    "start_time": "2022-11-21T03:12:47.532Z"
   },
   {
    "duration": 191,
    "start_time": "2022-11-21T03:12:47.864Z"
   },
   {
    "duration": 153,
    "start_time": "2022-11-21T03:12:48.057Z"
   },
   {
    "duration": 314,
    "start_time": "2022-11-21T03:12:48.212Z"
   },
   {
    "duration": 182,
    "start_time": "2022-11-21T03:12:48.528Z"
   },
   {
    "duration": 10,
    "start_time": "2022-11-21T03:12:48.714Z"
   },
   {
    "duration": 46,
    "start_time": "2022-11-21T03:12:48.726Z"
   },
   {
    "duration": 6,
    "start_time": "2022-11-21T03:12:48.774Z"
   },
   {
    "duration": 182,
    "start_time": "2022-11-21T03:12:48.781Z"
   },
   {
    "duration": 12,
    "start_time": "2022-11-21T03:12:48.965Z"
   },
   {
    "duration": 209,
    "start_time": "2022-11-21T03:12:48.979Z"
   },
   {
    "duration": 78,
    "start_time": "2022-11-21T03:12:49.190Z"
   },
   {
    "duration": 47,
    "start_time": "2022-11-21T14:35:28.697Z"
   },
   {
    "duration": 2545,
    "start_time": "2022-11-21T14:35:44.340Z"
   },
   {
    "duration": 1832,
    "start_time": "2022-11-21T14:35:46.887Z"
   },
   {
    "duration": 3067,
    "start_time": "2022-11-21T14:35:48.721Z"
   },
   {
    "duration": 16,
    "start_time": "2022-11-21T14:35:51.790Z"
   },
   {
    "duration": 135,
    "start_time": "2022-11-21T14:35:51.808Z"
   },
   {
    "duration": 101,
    "start_time": "2022-11-21T14:35:51.945Z"
   },
   {
    "duration": 441,
    "start_time": "2022-11-21T14:35:52.048Z"
   },
   {
    "duration": 528,
    "start_time": "2022-11-21T14:35:52.491Z"
   },
   {
    "duration": 31,
    "start_time": "2022-11-21T14:35:53.021Z"
   },
   {
    "duration": 22,
    "start_time": "2022-11-21T14:35:53.054Z"
   },
   {
    "duration": 28,
    "start_time": "2022-11-21T14:35:53.077Z"
   },
   {
    "duration": 162,
    "start_time": "2022-11-21T14:35:53.107Z"
   },
   {
    "duration": 42,
    "start_time": "2022-11-21T14:35:53.271Z"
   },
   {
    "duration": 26,
    "start_time": "2022-11-21T14:35:53.315Z"
   },
   {
    "duration": 163,
    "start_time": "2022-11-21T14:35:53.343Z"
   },
   {
    "duration": 36,
    "start_time": "2022-11-21T14:35:53.507Z"
   },
   {
    "duration": 18,
    "start_time": "2022-11-21T14:35:53.544Z"
   },
   {
    "duration": 165,
    "start_time": "2022-11-21T14:35:53.564Z"
   },
   {
    "duration": 54,
    "start_time": "2022-11-21T14:35:53.731Z"
   },
   {
    "duration": 74,
    "start_time": "2022-11-21T14:35:53.787Z"
   },
   {
    "duration": 77,
    "start_time": "2022-11-21T14:35:53.863Z"
   },
   {
    "duration": 46,
    "start_time": "2022-11-21T14:35:53.941Z"
   },
   {
    "duration": 175,
    "start_time": "2022-11-21T14:35:53.989Z"
   },
   {
    "duration": 47,
    "start_time": "2022-11-21T14:35:54.166Z"
   },
   {
    "duration": 41,
    "start_time": "2022-11-21T14:35:54.214Z"
   },
   {
    "duration": 38,
    "start_time": "2022-11-21T14:35:54.257Z"
   },
   {
    "duration": 248,
    "start_time": "2022-11-21T14:35:54.297Z"
   },
   {
    "duration": 107,
    "start_time": "2022-11-21T14:35:54.549Z"
   },
   {
    "duration": 416,
    "start_time": "2022-11-21T14:35:54.658Z"
   },
   {
    "duration": 286,
    "start_time": "2022-11-21T14:35:55.075Z"
   },
   {
    "duration": 20,
    "start_time": "2022-11-21T14:35:55.363Z"
   },
   {
    "duration": 22,
    "start_time": "2022-11-21T14:35:55.385Z"
   },
   {
    "duration": 164,
    "start_time": "2022-11-21T14:35:55.408Z"
   },
   {
    "duration": 406,
    "start_time": "2022-11-21T14:35:55.573Z"
   },
   {
    "duration": 354,
    "start_time": "2022-11-21T14:35:55.980Z"
   },
   {
    "duration": 376,
    "start_time": "2022-11-21T14:35:56.336Z"
   },
   {
    "duration": 201,
    "start_time": "2022-11-21T14:35:56.714Z"
   },
   {
    "duration": 163,
    "start_time": "2022-11-21T14:35:56.916Z"
   },
   {
    "duration": 274,
    "start_time": "2022-11-21T14:35:57.080Z"
   },
   {
    "duration": 218,
    "start_time": "2022-11-21T14:35:57.356Z"
   },
   {
    "duration": 7,
    "start_time": "2022-11-21T14:35:57.576Z"
   },
   {
    "duration": 95,
    "start_time": "2022-11-21T14:35:57.585Z"
   },
   {
    "duration": 6,
    "start_time": "2022-11-21T14:35:57.682Z"
   },
   {
    "duration": 194,
    "start_time": "2022-11-21T14:35:57.689Z"
   },
   {
    "duration": 12,
    "start_time": "2022-11-21T14:35:57.884Z"
   },
   {
    "duration": 29,
    "start_time": "2022-11-21T14:35:57.903Z"
   },
   {
    "duration": 125,
    "start_time": "2022-11-21T14:35:57.933Z"
   },
   {
    "duration": 90,
    "start_time": "2022-11-21T14:35:58.060Z"
   },
   {
    "duration": 77,
    "start_time": "2022-11-21T16:11:23.871Z"
   },
   {
    "duration": 566,
    "start_time": "2022-11-21T16:26:24.798Z"
   },
   {
    "duration": 467,
    "start_time": "2022-11-21T16:26:50.559Z"
   },
   {
    "duration": 470,
    "start_time": "2022-11-21T16:27:08.842Z"
   },
   {
    "duration": 479,
    "start_time": "2022-11-21T16:34:35.955Z"
   },
   {
    "duration": 2634,
    "start_time": "2022-11-21T16:43:31.629Z"
   },
   {
    "duration": 2325,
    "start_time": "2022-11-21T17:29:48.198Z"
   },
   {
    "duration": 1399,
    "start_time": "2022-11-21T17:29:50.526Z"
   },
   {
    "duration": 846,
    "start_time": "2022-11-21T17:29:51.927Z"
   },
   {
    "duration": 31,
    "start_time": "2022-11-21T17:29:52.775Z"
   },
   {
    "duration": 159,
    "start_time": "2022-11-21T17:29:52.808Z"
   },
   {
    "duration": 107,
    "start_time": "2022-11-21T17:29:52.970Z"
   },
   {
    "duration": 473,
    "start_time": "2022-11-21T17:29:53.079Z"
   },
   {
    "duration": 559,
    "start_time": "2022-11-21T17:29:53.554Z"
   },
   {
    "duration": 44,
    "start_time": "2022-11-21T17:29:54.115Z"
   },
   {
    "duration": 43,
    "start_time": "2022-11-21T17:29:54.164Z"
   },
   {
    "duration": 20,
    "start_time": "2022-11-21T17:29:54.208Z"
   },
   {
    "duration": 152,
    "start_time": "2022-11-21T17:29:54.229Z"
   },
   {
    "duration": 41,
    "start_time": "2022-11-21T17:29:54.383Z"
   },
   {
    "duration": 19,
    "start_time": "2022-11-21T17:29:54.426Z"
   },
   {
    "duration": 152,
    "start_time": "2022-11-21T17:29:54.447Z"
   },
   {
    "duration": 34,
    "start_time": "2022-11-21T17:29:54.603Z"
   },
   {
    "duration": 18,
    "start_time": "2022-11-21T17:29:54.639Z"
   },
   {
    "duration": 195,
    "start_time": "2022-11-21T17:29:54.659Z"
   },
   {
    "duration": 49,
    "start_time": "2022-11-21T17:29:54.856Z"
   },
   {
    "duration": 75,
    "start_time": "2022-11-21T17:29:54.908Z"
   },
   {
    "duration": 76,
    "start_time": "2022-11-21T17:29:54.984Z"
   },
   {
    "duration": 62,
    "start_time": "2022-11-21T17:29:55.063Z"
   },
   {
    "duration": 171,
    "start_time": "2022-11-21T17:29:55.127Z"
   },
   {
    "duration": 34,
    "start_time": "2022-11-21T17:29:55.299Z"
   },
   {
    "duration": 35,
    "start_time": "2022-11-21T17:29:55.335Z"
   },
   {
    "duration": 38,
    "start_time": "2022-11-21T17:29:55.372Z"
   },
   {
    "duration": 243,
    "start_time": "2022-11-21T17:29:55.411Z"
   },
   {
    "duration": 111,
    "start_time": "2022-11-21T17:29:55.657Z"
   },
   {
    "duration": 413,
    "start_time": "2022-11-21T17:29:55.770Z"
   },
   {
    "duration": 326,
    "start_time": "2022-11-21T17:29:56.186Z"
   },
   {
    "duration": 24,
    "start_time": "2022-11-21T17:29:56.514Z"
   },
   {
    "duration": 7,
    "start_time": "2022-11-21T17:29:56.540Z"
   },
   {
    "duration": 177,
    "start_time": "2022-11-21T17:29:56.549Z"
   },
   {
    "duration": 441,
    "start_time": "2022-11-21T17:29:56.728Z"
   },
   {
    "duration": 435,
    "start_time": "2022-11-21T17:29:57.171Z"
   },
   {
    "duration": 459,
    "start_time": "2022-11-21T17:29:57.608Z"
   },
   {
    "duration": 250,
    "start_time": "2022-11-21T17:29:58.069Z"
   },
   {
    "duration": 200,
    "start_time": "2022-11-21T17:29:58.321Z"
   },
   {
    "duration": 289,
    "start_time": "2022-11-21T17:29:58.522Z"
   },
   {
    "duration": 187,
    "start_time": "2022-11-21T17:29:58.813Z"
   },
   {
    "duration": 8,
    "start_time": "2022-11-21T17:29:59.004Z"
   },
   {
    "duration": 61,
    "start_time": "2022-11-21T17:29:59.014Z"
   },
   {
    "duration": 6,
    "start_time": "2022-11-21T17:29:59.077Z"
   },
   {
    "duration": 188,
    "start_time": "2022-11-21T17:29:59.105Z"
   },
   {
    "duration": 14,
    "start_time": "2022-11-21T17:29:59.295Z"
   },
   {
    "duration": 37,
    "start_time": "2022-11-21T17:29:59.311Z"
   },
   {
    "duration": 118,
    "start_time": "2022-11-21T17:29:59.351Z"
   },
   {
    "duration": 83,
    "start_time": "2022-11-21T17:29:59.471Z"
   },
   {
    "duration": 88,
    "start_time": "2022-11-21T17:29:59.555Z"
   },
   {
    "duration": 578,
    "start_time": "2022-11-21T17:29:59.645Z"
   },
   {
    "duration": 2653,
    "start_time": "2022-11-21T17:30:00.225Z"
   },
   {
    "duration": 710227,
    "start_time": "2022-11-21T17:30:02.880Z"
   },
   {
    "duration": 558459,
    "start_time": "2022-11-21T17:44:51.246Z"
   },
   {
    "duration": 2296,
    "start_time": "2022-11-21T18:02:10.933Z"
   },
   {
    "duration": 1519,
    "start_time": "2022-11-21T18:02:13.232Z"
   },
   {
    "duration": 906,
    "start_time": "2022-11-21T18:02:14.753Z"
   },
   {
    "duration": 19,
    "start_time": "2022-11-21T18:02:15.661Z"
   },
   {
    "duration": 171,
    "start_time": "2022-11-21T18:02:15.681Z"
   },
   {
    "duration": 102,
    "start_time": "2022-11-21T18:02:15.854Z"
   },
   {
    "duration": 489,
    "start_time": "2022-11-21T18:02:15.957Z"
   },
   {
    "duration": 575,
    "start_time": "2022-11-21T18:02:16.448Z"
   },
   {
    "duration": 32,
    "start_time": "2022-11-21T18:02:17.032Z"
   },
   {
    "duration": 20,
    "start_time": "2022-11-21T18:02:17.065Z"
   },
   {
    "duration": 31,
    "start_time": "2022-11-21T18:02:17.087Z"
   },
   {
    "duration": 158,
    "start_time": "2022-11-21T18:02:17.128Z"
   },
   {
    "duration": 49,
    "start_time": "2022-11-21T18:02:17.288Z"
   },
   {
    "duration": 15,
    "start_time": "2022-11-21T18:02:17.340Z"
   },
   {
    "duration": 177,
    "start_time": "2022-11-21T18:02:17.357Z"
   },
   {
    "duration": 32,
    "start_time": "2022-11-21T18:02:17.538Z"
   },
   {
    "duration": 24,
    "start_time": "2022-11-21T18:02:17.572Z"
   },
   {
    "duration": 219,
    "start_time": "2022-11-21T18:02:17.598Z"
   },
   {
    "duration": 47,
    "start_time": "2022-11-21T18:02:17.819Z"
   },
   {
    "duration": 93,
    "start_time": "2022-11-21T18:02:17.869Z"
   },
   {
    "duration": 85,
    "start_time": "2022-11-21T18:02:17.964Z"
   },
   {
    "duration": 50,
    "start_time": "2022-11-21T18:02:18.051Z"
   },
   {
    "duration": 206,
    "start_time": "2022-11-21T18:02:18.103Z"
   },
   {
    "duration": 48,
    "start_time": "2022-11-21T18:02:18.316Z"
   },
   {
    "duration": 34,
    "start_time": "2022-11-21T18:02:18.365Z"
   },
   {
    "duration": 49,
    "start_time": "2022-11-21T18:02:18.400Z"
   },
   {
    "duration": 245,
    "start_time": "2022-11-21T18:02:18.451Z"
   },
   {
    "duration": 132,
    "start_time": "2022-11-21T18:02:18.698Z"
   },
   {
    "duration": 447,
    "start_time": "2022-11-21T18:02:18.834Z"
   },
   {
    "duration": 306,
    "start_time": "2022-11-21T18:02:19.283Z"
   },
   {
    "duration": 41,
    "start_time": "2022-11-21T18:02:19.591Z"
   },
   {
    "duration": 6,
    "start_time": "2022-11-21T18:02:19.634Z"
   },
   {
    "duration": 179,
    "start_time": "2022-11-21T18:02:19.641Z"
   },
   {
    "duration": 469,
    "start_time": "2022-11-21T18:02:19.827Z"
   },
   {
    "duration": 388,
    "start_time": "2022-11-21T18:02:20.298Z"
   },
   {
    "duration": 377,
    "start_time": "2022-11-21T18:02:20.688Z"
   },
   {
    "duration": 215,
    "start_time": "2022-11-21T18:02:21.067Z"
   },
   {
    "duration": 168,
    "start_time": "2022-11-21T18:02:21.284Z"
   },
   {
    "duration": 311,
    "start_time": "2022-11-21T18:02:21.453Z"
   },
   {
    "duration": 198,
    "start_time": "2022-11-21T18:02:21.765Z"
   },
   {
    "duration": 6,
    "start_time": "2022-11-21T18:02:21.968Z"
   },
   {
    "duration": 69,
    "start_time": "2022-11-21T18:02:21.976Z"
   },
   {
    "duration": 8,
    "start_time": "2022-11-21T18:02:22.046Z"
   },
   {
    "duration": 212,
    "start_time": "2022-11-21T18:02:22.056Z"
   },
   {
    "duration": 9,
    "start_time": "2022-11-21T18:02:22.270Z"
   },
   {
    "duration": 30,
    "start_time": "2022-11-21T18:02:22.281Z"
   },
   {
    "duration": 121,
    "start_time": "2022-11-21T18:02:22.313Z"
   },
   {
    "duration": 86,
    "start_time": "2022-11-21T18:02:22.436Z"
   },
   {
    "duration": 80,
    "start_time": "2022-11-21T18:02:22.527Z"
   },
   {
    "duration": 545,
    "start_time": "2022-11-21T18:02:22.610Z"
   },
   {
    "duration": 2689,
    "start_time": "2022-11-21T18:02:23.157Z"
   },
   {
    "duration": 1227658,
    "start_time": "2022-11-21T18:02:25.848Z"
   },
   {
    "duration": 20,
    "start_time": "2022-11-21T18:32:20.032Z"
   },
   {
    "duration": 19,
    "start_time": "2022-11-21T18:33:49.876Z"
   },
   {
    "duration": 15479,
    "start_time": "2022-11-21T18:39:47.222Z"
   },
   {
    "duration": 2130987,
    "start_time": "2022-11-21T18:43:52.840Z"
   },
   {
    "duration": 25,
    "start_time": "2022-11-21T19:23:57.001Z"
   },
   {
    "duration": 19,
    "start_time": "2022-11-21T19:24:23.880Z"
   },
   {
    "duration": 4,
    "start_time": "2022-11-21T19:33:10.934Z"
   },
   {
    "duration": 15875,
    "start_time": "2022-11-21T19:33:34.636Z"
   },
   {
    "duration": 17877,
    "start_time": "2022-11-21T19:35:15.140Z"
   },
   {
    "duration": 16640,
    "start_time": "2022-11-21T19:36:41.670Z"
   },
   {
    "duration": 16788,
    "start_time": "2022-11-21T19:37:34.518Z"
   },
   {
    "duration": 12484,
    "start_time": "2022-11-21T19:43:38.422Z"
   },
   {
    "duration": 11,
    "start_time": "2022-11-21T19:49:51.316Z"
   },
   {
    "duration": 20,
    "start_time": "2022-11-21T19:51:56.616Z"
   },
   {
    "duration": 21,
    "start_time": "2022-11-21T19:53:31.780Z"
   },
   {
    "duration": 431,
    "start_time": "2022-11-21T20:03:08.297Z"
   },
   {
    "duration": 1459,
    "start_time": "2022-11-22T02:15:56.370Z"
   },
   {
    "duration": 1060,
    "start_time": "2022-11-22T02:15:58.775Z"
   },
   {
    "duration": 17,
    "start_time": "2022-11-22T02:15:59.837Z"
   },
   {
    "duration": 124,
    "start_time": "2022-11-22T02:15:59.855Z"
   },
   {
    "duration": 130,
    "start_time": "2022-11-22T02:15:59.981Z"
   },
   {
    "duration": 442,
    "start_time": "2022-11-22T02:16:00.596Z"
   },
   {
    "duration": 581,
    "start_time": "2022-11-22T02:16:01.230Z"
   },
   {
    "duration": 31,
    "start_time": "2022-11-22T02:16:01.873Z"
   },
   {
    "duration": 15,
    "start_time": "2022-11-22T02:16:02.190Z"
   },
   {
    "duration": 16,
    "start_time": "2022-11-22T02:16:02.737Z"
   },
   {
    "duration": 116,
    "start_time": "2022-11-22T02:16:03.419Z"
   },
   {
    "duration": 112,
    "start_time": "2022-11-22T02:16:15.032Z"
   },
   {
    "duration": 115,
    "start_time": "2022-11-22T02:17:01.092Z"
   },
   {
    "duration": 114,
    "start_time": "2022-11-22T02:17:07.620Z"
   },
   {
    "duration": 4,
    "start_time": "2022-11-22T02:22:18.166Z"
   },
   {
    "duration": 51,
    "start_time": "2022-11-22T15:09:23.479Z"
   },
   {
    "duration": 2443,
    "start_time": "2022-11-22T15:12:10.685Z"
   },
   {
    "duration": 1763,
    "start_time": "2022-11-22T15:12:13.131Z"
   },
   {
    "duration": 3075,
    "start_time": "2022-11-22T15:12:14.896Z"
   },
   {
    "duration": 25,
    "start_time": "2022-11-22T15:12:17.973Z"
   },
   {
    "duration": 109,
    "start_time": "2022-11-22T15:12:18.000Z"
   },
   {
    "duration": 163,
    "start_time": "2022-11-22T15:12:18.111Z"
   },
   {
    "duration": 490,
    "start_time": "2022-11-22T15:12:18.276Z"
   },
   {
    "duration": 639,
    "start_time": "2022-11-22T15:12:18.768Z"
   },
   {
    "duration": 32,
    "start_time": "2022-11-22T15:12:19.409Z"
   },
   {
    "duration": 18,
    "start_time": "2022-11-22T15:12:19.443Z"
   },
   {
    "duration": 30,
    "start_time": "2022-11-22T15:12:19.463Z"
   },
   {
    "duration": 117,
    "start_time": "2022-11-22T15:12:19.496Z"
   },
   {
    "duration": 128,
    "start_time": "2022-11-22T15:12:19.623Z"
   },
   {
    "duration": 30,
    "start_time": "2022-11-22T15:12:19.754Z"
   },
   {
    "duration": 38,
    "start_time": "2022-11-22T15:12:19.786Z"
   },
   {
    "duration": 131,
    "start_time": "2022-11-22T15:12:19.826Z"
   },
   {
    "duration": 31,
    "start_time": "2022-11-22T15:12:19.960Z"
   },
   {
    "duration": 38,
    "start_time": "2022-11-22T15:12:19.993Z"
   },
   {
    "duration": 137,
    "start_time": "2022-11-22T15:12:20.033Z"
   },
   {
    "duration": 29,
    "start_time": "2022-11-22T15:12:20.172Z"
   },
   {
    "duration": 72,
    "start_time": "2022-11-22T15:12:20.203Z"
   },
   {
    "duration": 70,
    "start_time": "2022-11-22T15:12:20.276Z"
   },
   {
    "duration": 54,
    "start_time": "2022-11-22T15:12:20.348Z"
   },
   {
    "duration": 140,
    "start_time": "2022-11-22T15:12:20.404Z"
   },
   {
    "duration": 32,
    "start_time": "2022-11-22T15:12:20.546Z"
   },
   {
    "duration": 47,
    "start_time": "2022-11-22T15:12:20.579Z"
   },
   {
    "duration": 16,
    "start_time": "2022-11-22T15:12:20.627Z"
   },
   {
    "duration": 256,
    "start_time": "2022-11-22T15:12:20.644Z"
   },
   {
    "duration": 96,
    "start_time": "2022-11-22T15:12:20.901Z"
   },
   {
    "duration": 424,
    "start_time": "2022-11-22T15:12:20.999Z"
   },
   {
    "duration": 317,
    "start_time": "2022-11-22T15:12:21.425Z"
   },
   {
    "duration": 24,
    "start_time": "2022-11-22T15:12:21.744Z"
   },
   {
    "duration": 10,
    "start_time": "2022-11-22T15:12:21.770Z"
   },
   {
    "duration": 183,
    "start_time": "2022-11-22T15:12:21.783Z"
   },
   {
    "duration": 458,
    "start_time": "2022-11-22T15:12:21.969Z"
   },
   {
    "duration": 377,
    "start_time": "2022-11-22T15:12:22.429Z"
   },
   {
    "duration": 385,
    "start_time": "2022-11-22T15:12:22.808Z"
   },
   {
    "duration": 227,
    "start_time": "2022-11-22T15:12:23.195Z"
   },
   {
    "duration": 156,
    "start_time": "2022-11-22T15:12:23.423Z"
   },
   {
    "duration": 91,
    "start_time": "2022-11-22T15:22:03.805Z"
   },
   {
    "duration": 73,
    "start_time": "2022-11-22T15:22:13.605Z"
   },
   {
    "duration": 243,
    "start_time": "2022-11-22T15:23:24.058Z"
   },
   {
    "duration": 2282,
    "start_time": "2022-11-22T16:01:00.405Z"
   },
   {
    "duration": 5,
    "start_time": "2022-11-22T16:01:02.690Z"
   },
   {
    "duration": 957,
    "start_time": "2022-11-22T16:01:02.697Z"
   },
   {
    "duration": 17,
    "start_time": "2022-11-22T16:01:03.657Z"
   },
   {
    "duration": 129,
    "start_time": "2022-11-22T16:01:03.675Z"
   },
   {
    "duration": 122,
    "start_time": "2022-11-22T16:01:03.806Z"
   },
   {
    "duration": 537,
    "start_time": "2022-11-22T16:01:03.929Z"
   },
   {
    "duration": 504,
    "start_time": "2022-11-22T16:01:04.468Z"
   },
   {
    "duration": 55,
    "start_time": "2022-11-22T16:01:04.975Z"
   },
   {
    "duration": 59,
    "start_time": "2022-11-22T16:01:05.033Z"
   },
   {
    "duration": 46,
    "start_time": "2022-11-22T16:01:05.094Z"
   },
   {
    "duration": 135,
    "start_time": "2022-11-22T16:01:05.142Z"
   },
   {
    "duration": 158,
    "start_time": "2022-11-22T16:01:05.279Z"
   },
   {
    "duration": 32,
    "start_time": "2022-11-22T16:01:05.439Z"
   },
   {
    "duration": 55,
    "start_time": "2022-11-22T16:01:05.473Z"
   },
   {
    "duration": 173,
    "start_time": "2022-11-22T16:01:05.530Z"
   },
   {
    "duration": 48,
    "start_time": "2022-11-22T16:01:05.705Z"
   },
   {
    "duration": 63,
    "start_time": "2022-11-22T16:01:05.755Z"
   },
   {
    "duration": 227,
    "start_time": "2022-11-22T16:01:05.820Z"
   },
   {
    "duration": 31,
    "start_time": "2022-11-22T16:01:06.049Z"
   },
   {
    "duration": 102,
    "start_time": "2022-11-22T16:01:06.082Z"
   },
   {
    "duration": 68,
    "start_time": "2022-11-22T16:01:06.185Z"
   },
   {
    "duration": 53,
    "start_time": "2022-11-22T16:01:06.255Z"
   },
   {
    "duration": 138,
    "start_time": "2022-11-22T16:01:06.310Z"
   },
   {
    "duration": 34,
    "start_time": "2022-11-22T16:01:06.449Z"
   },
   {
    "duration": 83,
    "start_time": "2022-11-22T16:01:06.485Z"
   },
   {
    "duration": 37,
    "start_time": "2022-11-22T16:01:06.570Z"
   },
   {
    "duration": 270,
    "start_time": "2022-11-22T16:01:06.611Z"
   },
   {
    "duration": 106,
    "start_time": "2022-11-22T16:01:06.883Z"
   },
   {
    "duration": 463,
    "start_time": "2022-11-22T16:01:06.991Z"
   },
   {
    "duration": 343,
    "start_time": "2022-11-22T16:01:07.456Z"
   },
   {
    "duration": 52,
    "start_time": "2022-11-22T16:01:07.801Z"
   },
   {
    "duration": 7,
    "start_time": "2022-11-22T16:01:07.855Z"
   },
   {
    "duration": 178,
    "start_time": "2022-11-22T16:01:07.864Z"
   },
   {
    "duration": 424,
    "start_time": "2022-11-22T16:01:08.044Z"
   },
   {
    "duration": 418,
    "start_time": "2022-11-22T16:01:08.469Z"
   },
   {
    "duration": 399,
    "start_time": "2022-11-22T16:01:08.889Z"
   },
   {
    "duration": 258,
    "start_time": "2022-11-22T16:01:09.290Z"
   },
   {
    "duration": 89,
    "start_time": "2022-11-22T16:01:09.550Z"
   },
   {
    "duration": 152,
    "start_time": "2022-11-22T16:01:09.641Z"
   },
   {
    "duration": 416,
    "start_time": "2022-11-22T16:01:09.795Z"
   },
   {
    "duration": 213,
    "start_time": "2022-11-22T16:01:10.213Z"
   },
   {
    "duration": 8,
    "start_time": "2022-11-22T16:01:10.429Z"
   },
   {
    "duration": 64,
    "start_time": "2022-11-22T16:01:10.439Z"
   },
   {
    "duration": 23,
    "start_time": "2022-11-22T16:01:10.505Z"
   },
   {
    "duration": 195,
    "start_time": "2022-11-22T16:01:10.530Z"
   },
   {
    "duration": 14,
    "start_time": "2022-11-22T16:01:10.727Z"
   },
   {
    "duration": 25,
    "start_time": "2022-11-22T16:01:10.743Z"
   },
   {
    "duration": 109,
    "start_time": "2022-11-22T16:01:10.770Z"
   },
   {
    "duration": 91,
    "start_time": "2022-11-22T16:01:10.881Z"
   },
   {
    "duration": 84,
    "start_time": "2022-11-22T16:01:10.974Z"
   },
   {
    "duration": 710,
    "start_time": "2022-11-22T16:01:11.060Z"
   },
   {
    "duration": 3397,
    "start_time": "2022-11-22T16:01:11.772Z"
   },
   {
    "duration": 2005,
    "start_time": "2022-11-22T16:37:40.967Z"
   },
   {
    "duration": 1469,
    "start_time": "2022-11-22T16:37:42.974Z"
   },
   {
    "duration": 873,
    "start_time": "2022-11-22T16:37:44.445Z"
   },
   {
    "duration": 21,
    "start_time": "2022-11-22T16:37:45.322Z"
   },
   {
    "duration": 133,
    "start_time": "2022-11-22T16:37:45.345Z"
   },
   {
    "duration": 105,
    "start_time": "2022-11-22T16:37:45.479Z"
   },
   {
    "duration": 485,
    "start_time": "2022-11-22T16:37:45.586Z"
   },
   {
    "duration": 560,
    "start_time": "2022-11-22T16:37:46.072Z"
   },
   {
    "duration": 29,
    "start_time": "2022-11-22T16:37:46.634Z"
   },
   {
    "duration": 16,
    "start_time": "2022-11-22T16:37:46.665Z"
   },
   {
    "duration": 14,
    "start_time": "2022-11-22T16:37:46.682Z"
   },
   {
    "duration": 125,
    "start_time": "2022-11-22T16:37:46.698Z"
   },
   {
    "duration": 132,
    "start_time": "2022-11-22T16:37:46.824Z"
   },
   {
    "duration": 30,
    "start_time": "2022-11-22T16:37:46.959Z"
   },
   {
    "duration": 18,
    "start_time": "2022-11-22T16:37:46.991Z"
   },
   {
    "duration": 128,
    "start_time": "2022-11-22T16:37:47.022Z"
   },
   {
    "duration": 45,
    "start_time": "2022-11-22T16:37:47.152Z"
   },
   {
    "duration": 31,
    "start_time": "2022-11-22T16:37:47.198Z"
   },
   {
    "duration": 136,
    "start_time": "2022-11-22T16:37:47.230Z"
   },
   {
    "duration": 30,
    "start_time": "2022-11-22T16:37:47.368Z"
   },
   {
    "duration": 73,
    "start_time": "2022-11-22T16:37:47.400Z"
   },
   {
    "duration": 70,
    "start_time": "2022-11-22T16:37:47.475Z"
   },
   {
    "duration": 37,
    "start_time": "2022-11-22T16:37:47.546Z"
   },
   {
    "duration": 149,
    "start_time": "2022-11-22T16:37:47.584Z"
   },
   {
    "duration": 30,
    "start_time": "2022-11-22T16:37:47.735Z"
   },
   {
    "duration": 43,
    "start_time": "2022-11-22T16:37:47.767Z"
   },
   {
    "duration": 29,
    "start_time": "2022-11-22T16:37:47.811Z"
   },
   {
    "duration": 236,
    "start_time": "2022-11-22T16:37:47.842Z"
   },
   {
    "duration": 100,
    "start_time": "2022-11-22T16:37:48.079Z"
   },
   {
    "duration": 402,
    "start_time": "2022-11-22T16:37:48.181Z"
   },
   {
    "duration": 314,
    "start_time": "2022-11-22T16:37:48.585Z"
   },
   {
    "duration": 31,
    "start_time": "2022-11-22T16:37:48.901Z"
   },
   {
    "duration": 7,
    "start_time": "2022-11-22T16:37:48.934Z"
   },
   {
    "duration": 198,
    "start_time": "2022-11-22T16:37:48.943Z"
   },
   {
    "duration": 508,
    "start_time": "2022-11-22T16:37:49.143Z"
   },
   {
    "duration": 356,
    "start_time": "2022-11-22T16:37:49.653Z"
   },
   {
    "duration": 355,
    "start_time": "2022-11-22T16:37:50.011Z"
   },
   {
    "duration": 217,
    "start_time": "2022-11-22T16:37:50.368Z"
   },
   {
    "duration": 72,
    "start_time": "2022-11-22T16:37:50.587Z"
   },
   {
    "duration": 147,
    "start_time": "2022-11-22T16:37:50.661Z"
   },
   {
    "duration": 259,
    "start_time": "2022-11-22T16:37:50.821Z"
   },
   {
    "duration": 207,
    "start_time": "2022-11-22T16:37:51.082Z"
   },
   {
    "duration": 7,
    "start_time": "2022-11-22T16:37:51.291Z"
   },
   {
    "duration": 70,
    "start_time": "2022-11-22T16:37:51.300Z"
   },
   {
    "duration": 9,
    "start_time": "2022-11-22T16:37:51.372Z"
   },
   {
    "duration": 195,
    "start_time": "2022-11-22T16:37:51.383Z"
   },
   {
    "duration": 14,
    "start_time": "2022-11-22T16:37:51.580Z"
   },
   {
    "duration": 28,
    "start_time": "2022-11-22T16:37:51.596Z"
   },
   {
    "duration": 101,
    "start_time": "2022-11-22T16:37:51.626Z"
   },
   {
    "duration": 75,
    "start_time": "2022-11-22T16:37:51.729Z"
   },
   {
    "duration": 78,
    "start_time": "2022-11-22T16:37:51.806Z"
   },
   {
    "duration": 554,
    "start_time": "2022-11-22T16:37:51.886Z"
   },
   {
    "duration": 2821,
    "start_time": "2022-11-22T16:37:52.441Z"
   },
   {
    "duration": 797665,
    "start_time": "2022-11-22T16:37:55.264Z"
   },
   {
    "duration": 28,
    "start_time": "2022-11-22T16:51:12.931Z"
   },
   {
    "duration": 203,
    "start_time": "2022-11-22T16:51:12.960Z"
   },
   {
    "duration": 38,
    "start_time": "2022-11-22T16:51:13.164Z"
   },
   {
    "duration": 5138406,
    "start_time": "2022-11-22T16:51:13.204Z"
   },
   {
    "duration": 22,
    "start_time": "2022-11-22T18:16:51.612Z"
   },
   {
    "duration": 0,
    "start_time": "2022-11-22T18:16:51.636Z"
   },
   {
    "duration": 0,
    "start_time": "2022-11-22T18:16:51.637Z"
   },
   {
    "duration": 0,
    "start_time": "2022-11-22T18:16:51.638Z"
   },
   {
    "duration": 1918217,
    "start_time": "2022-11-22T18:17:10.020Z"
   },
   {
    "duration": 2201,
    "start_time": "2022-11-22T18:50:28.643Z"
   },
   {
    "duration": 1631,
    "start_time": "2022-11-22T18:50:30.847Z"
   },
   {
    "duration": 1030,
    "start_time": "2022-11-22T18:50:32.480Z"
   },
   {
    "duration": 32,
    "start_time": "2022-11-22T18:50:33.512Z"
   },
   {
    "duration": 135,
    "start_time": "2022-11-22T18:50:33.547Z"
   },
   {
    "duration": 148,
    "start_time": "2022-11-22T18:50:33.684Z"
   },
   {
    "duration": 682,
    "start_time": "2022-11-22T18:50:33.834Z"
   },
   {
    "duration": 660,
    "start_time": "2022-11-22T18:50:34.521Z"
   },
   {
    "duration": 55,
    "start_time": "2022-11-22T18:50:35.183Z"
   },
   {
    "duration": 27,
    "start_time": "2022-11-22T18:50:35.240Z"
   },
   {
    "duration": 17,
    "start_time": "2022-11-22T18:50:35.269Z"
   },
   {
    "duration": 117,
    "start_time": "2022-11-22T18:50:35.288Z"
   },
   {
    "duration": 138,
    "start_time": "2022-11-22T18:50:35.407Z"
   },
   {
    "duration": 30,
    "start_time": "2022-11-22T18:50:35.549Z"
   },
   {
    "duration": 17,
    "start_time": "2022-11-22T18:50:35.581Z"
   },
   {
    "duration": 150,
    "start_time": "2022-11-22T18:50:35.602Z"
   },
   {
    "duration": 31,
    "start_time": "2022-11-22T18:50:35.754Z"
   },
   {
    "duration": 17,
    "start_time": "2022-11-22T18:50:35.787Z"
   },
   {
    "duration": 174,
    "start_time": "2022-11-22T18:50:35.822Z"
   },
   {
    "duration": 45,
    "start_time": "2022-11-22T18:50:35.998Z"
   },
   {
    "duration": 87,
    "start_time": "2022-11-22T18:50:36.046Z"
   },
   {
    "duration": 62,
    "start_time": "2022-11-22T18:50:36.135Z"
   },
   {
    "duration": 51,
    "start_time": "2022-11-22T18:50:36.199Z"
   },
   {
    "duration": 141,
    "start_time": "2022-11-22T18:50:36.252Z"
   },
   {
    "duration": 49,
    "start_time": "2022-11-22T18:50:36.394Z"
   },
   {
    "duration": 32,
    "start_time": "2022-11-22T18:50:36.445Z"
   },
   {
    "duration": 22,
    "start_time": "2022-11-22T18:50:36.479Z"
   },
   {
    "duration": 275,
    "start_time": "2022-11-22T18:50:36.503Z"
   },
   {
    "duration": 107,
    "start_time": "2022-11-22T18:50:36.780Z"
   },
   {
    "duration": 439,
    "start_time": "2022-11-22T18:50:36.889Z"
   },
   {
    "duration": 313,
    "start_time": "2022-11-22T18:50:37.338Z"
   },
   {
    "duration": 23,
    "start_time": "2022-11-22T18:50:37.653Z"
   },
   {
    "duration": 7,
    "start_time": "2022-11-22T18:50:37.678Z"
   },
   {
    "duration": 283,
    "start_time": "2022-11-22T18:50:37.687Z"
   },
   {
    "duration": 695,
    "start_time": "2022-11-22T18:50:37.972Z"
   },
   {
    "duration": 464,
    "start_time": "2022-11-22T18:50:38.670Z"
   },
   {
    "duration": 411,
    "start_time": "2022-11-22T18:50:39.135Z"
   },
   {
    "duration": 235,
    "start_time": "2022-11-22T18:50:39.548Z"
   },
   {
    "duration": 138,
    "start_time": "2022-11-22T18:50:39.785Z"
   },
   {
    "duration": 194,
    "start_time": "2022-11-22T18:50:39.925Z"
   },
   {
    "duration": 286,
    "start_time": "2022-11-22T18:50:40.124Z"
   },
   {
    "duration": 229,
    "start_time": "2022-11-22T18:50:40.412Z"
   },
   {
    "duration": 9,
    "start_time": "2022-11-22T18:50:40.646Z"
   },
   {
    "duration": 80,
    "start_time": "2022-11-22T18:50:40.657Z"
   },
   {
    "duration": 9,
    "start_time": "2022-11-22T18:50:40.743Z"
   },
   {
    "duration": 261,
    "start_time": "2022-11-22T18:50:40.755Z"
   },
   {
    "duration": 14,
    "start_time": "2022-11-22T18:50:41.022Z"
   },
   {
    "duration": 33,
    "start_time": "2022-11-22T18:50:41.039Z"
   },
   {
    "duration": 109,
    "start_time": "2022-11-22T18:50:41.074Z"
   },
   {
    "duration": 83,
    "start_time": "2022-11-22T18:50:41.185Z"
   },
   {
    "duration": 88,
    "start_time": "2022-11-22T18:50:41.269Z"
   },
   {
    "duration": 639,
    "start_time": "2022-11-22T18:50:41.359Z"
   },
   {
    "duration": 2740,
    "start_time": "2022-11-22T18:50:42.000Z"
   },
   {
    "duration": 1333599,
    "start_time": "2022-11-22T18:50:44.744Z"
   },
   {
    "duration": 101,
    "start_time": "2022-11-22T19:12:58.347Z"
   },
   {
    "duration": 156,
    "start_time": "2022-11-22T19:12:58.451Z"
   },
   {
    "duration": 49,
    "start_time": "2022-11-22T19:12:58.609Z"
   },
   {
    "duration": 93,
    "start_time": "2022-11-23T03:22:53.260Z"
   },
   {
    "duration": 60,
    "start_time": "2022-11-23T03:24:59.906Z"
   },
   {
    "duration": 2704,
    "start_time": "2022-11-23T03:25:36.937Z"
   },
   {
    "duration": 1731,
    "start_time": "2022-11-23T03:25:39.644Z"
   },
   {
    "duration": 1298,
    "start_time": "2022-11-23T03:25:41.377Z"
   },
   {
    "duration": 28,
    "start_time": "2022-11-23T03:25:42.678Z"
   },
   {
    "duration": 162,
    "start_time": "2022-11-23T03:25:42.708Z"
   },
   {
    "duration": 101,
    "start_time": "2022-11-23T03:25:42.871Z"
   },
   {
    "duration": 449,
    "start_time": "2022-11-23T03:25:42.974Z"
   },
   {
    "duration": 545,
    "start_time": "2022-11-23T03:25:43.425Z"
   },
   {
    "duration": 32,
    "start_time": "2022-11-23T03:25:43.972Z"
   },
   {
    "duration": 29,
    "start_time": "2022-11-23T03:25:44.007Z"
   },
   {
    "duration": 30,
    "start_time": "2022-11-23T03:25:44.038Z"
   },
   {
    "duration": 131,
    "start_time": "2022-11-23T03:25:44.069Z"
   },
   {
    "duration": 159,
    "start_time": "2022-11-23T03:25:44.202Z"
   },
   {
    "duration": 32,
    "start_time": "2022-11-23T03:25:44.363Z"
   },
   {
    "duration": 23,
    "start_time": "2022-11-23T03:25:44.397Z"
   },
   {
    "duration": 179,
    "start_time": "2022-11-23T03:25:44.421Z"
   },
   {
    "duration": 39,
    "start_time": "2022-11-23T03:25:44.601Z"
   },
   {
    "duration": 40,
    "start_time": "2022-11-23T03:25:44.643Z"
   },
   {
    "duration": 141,
    "start_time": "2022-11-23T03:25:44.685Z"
   },
   {
    "duration": 44,
    "start_time": "2022-11-23T03:25:44.827Z"
   },
   {
    "duration": 51,
    "start_time": "2022-11-23T03:25:44.873Z"
   },
   {
    "duration": 77,
    "start_time": "2022-11-23T03:25:44.926Z"
   },
   {
    "duration": 60,
    "start_time": "2022-11-23T03:25:45.005Z"
   },
   {
    "duration": 156,
    "start_time": "2022-11-23T03:25:45.067Z"
   },
   {
    "duration": 44,
    "start_time": "2022-11-23T03:25:45.225Z"
   },
   {
    "duration": 35,
    "start_time": "2022-11-23T03:25:45.271Z"
   },
   {
    "duration": 32,
    "start_time": "2022-11-23T03:25:45.308Z"
   },
   {
    "duration": 239,
    "start_time": "2022-11-23T03:25:45.346Z"
   },
   {
    "duration": 114,
    "start_time": "2022-11-23T03:25:45.587Z"
   },
   {
    "duration": 445,
    "start_time": "2022-11-23T03:25:45.703Z"
   },
   {
    "duration": 311,
    "start_time": "2022-11-23T03:25:46.150Z"
   },
   {
    "duration": 21,
    "start_time": "2022-11-23T03:25:46.463Z"
   },
   {
    "duration": 6,
    "start_time": "2022-11-23T03:25:46.485Z"
   },
   {
    "duration": 218,
    "start_time": "2022-11-23T03:25:46.492Z"
   },
   {
    "duration": 472,
    "start_time": "2022-11-23T03:25:46.712Z"
   },
   {
    "duration": 372,
    "start_time": "2022-11-23T03:25:47.186Z"
   },
   {
    "duration": 403,
    "start_time": "2022-11-23T03:25:47.559Z"
   },
   {
    "duration": 216,
    "start_time": "2022-11-23T03:25:47.964Z"
   },
   {
    "duration": 80,
    "start_time": "2022-11-23T03:25:48.182Z"
   },
   {
    "duration": 164,
    "start_time": "2022-11-23T03:25:48.263Z"
   },
   {
    "duration": 310,
    "start_time": "2022-11-23T03:25:48.429Z"
   },
   {
    "duration": 215,
    "start_time": "2022-11-23T03:25:48.742Z"
   },
   {
    "duration": 7,
    "start_time": "2022-11-23T03:25:48.959Z"
   },
   {
    "duration": 71,
    "start_time": "2022-11-23T03:25:48.967Z"
   },
   {
    "duration": 10,
    "start_time": "2022-11-23T03:25:49.040Z"
   },
   {
    "duration": 229,
    "start_time": "2022-11-23T03:25:49.053Z"
   },
   {
    "duration": 11,
    "start_time": "2022-11-23T03:25:49.283Z"
   },
   {
    "duration": 13,
    "start_time": "2022-11-23T03:25:49.295Z"
   },
   {
    "duration": 126,
    "start_time": "2022-11-23T03:25:49.310Z"
   },
   {
    "duration": 78,
    "start_time": "2022-11-23T03:25:49.438Z"
   },
   {
    "duration": 93,
    "start_time": "2022-11-23T03:25:49.517Z"
   },
   {
    "duration": 564,
    "start_time": "2022-11-23T03:25:49.612Z"
   },
   {
    "duration": 2795,
    "start_time": "2022-11-23T03:25:50.177Z"
   },
   {
    "duration": 670661,
    "start_time": "2022-11-23T03:25:52.974Z"
   },
   {
    "duration": 22,
    "start_time": "2022-11-23T03:37:03.637Z"
   },
   {
    "duration": 160,
    "start_time": "2022-11-23T03:37:03.661Z"
   },
   {
    "duration": 41,
    "start_time": "2022-11-23T03:37:03.822Z"
   },
   {
    "duration": 2850785,
    "start_time": "2022-11-23T03:37:03.865Z"
   },
   {
    "duration": 99,
    "start_time": "2022-11-23T04:24:34.652Z"
   },
   {
    "duration": 16083,
    "start_time": "2022-11-23T04:24:34.753Z"
   },
   {
    "duration": 4807,
    "start_time": "2022-11-23T04:24:50.838Z"
   },
   {
    "duration": 408,
    "start_time": "2022-11-23T04:24:55.647Z"
   },
   {
    "duration": 175,
    "start_time": "2022-11-23T05:02:45.700Z"
   },
   {
    "duration": 20632,
    "start_time": "2022-11-23T05:03:11.121Z"
   },
   {
    "duration": 30176,
    "start_time": "2022-11-23T05:03:45.468Z"
   },
   {
    "duration": 304,
    "start_time": "2022-11-23T05:04:22.045Z"
   }
  ],
  "kernelspec": {
   "display_name": "Python 3 (ipykernel)",
   "language": "python",
   "name": "python3"
  },
  "language_info": {
   "codemirror_mode": {
    "name": "ipython",
    "version": 3
   },
   "file_extension": ".py",
   "mimetype": "text/x-python",
   "name": "python",
   "nbconvert_exporter": "python",
   "pygments_lexer": "ipython3",
   "version": "3.10.9"
  },
  "toc": {
   "base_numbering": 1,
   "nav_menu": {},
   "number_sections": true,
   "sideBar": true,
   "skip_h1_title": true,
   "title_cell": "Table of Contents",
   "title_sidebar": "Contents",
   "toc_cell": false,
   "toc_position": {},
   "toc_section_display": true,
   "toc_window_display": false
  }
 },
 "nbformat": 4,
 "nbformat_minor": 2
}
