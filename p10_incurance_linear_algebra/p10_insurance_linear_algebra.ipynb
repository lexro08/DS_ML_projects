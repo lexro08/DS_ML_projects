{
 "cells": [
  {
   "cell_type": "markdown",
   "metadata": {},
   "source": [
    "# Защита персональных данных клиентов"
   ]
  },
  {
   "cell_type": "markdown",
   "metadata": {},
   "source": [
    "Нам нужно защитить данные клиентов страховой компании «Хоть потоп». Необходимо разработать такой метод преобразования данных, чтобы по ним было сложно восстановить персональную информацию. \n",
    "\n",
    "Нужно защитить данные, чтобы при преобразовании качество моделей машинного обучения не ухудшилось. "
   ]
  },
  {
   "cell_type": "code",
   "execution_count": 1,
   "metadata": {},
   "outputs": [],
   "source": [
    "import os\n",
    "import pandas as pd\n",
    "import numpy as np\n",
    "import matplotlib.pyplot as plt\n",
    "from numpy.random import RandomState\n",
    "from scipy import stats as st\n",
    "from sklearn.linear_model import LinearRegression\n",
    "from sklearn.metrics import r2_score"
   ]
  },
  {
   "cell_type": "markdown",
   "metadata": {},
   "source": [
    "## Загрузка данных"
   ]
  },
  {
   "cell_type": "markdown",
   "metadata": {},
   "source": [
    "Произведем выгрузку данных."
   ]
  },
  {
   "cell_type": "code",
   "execution_count": 2,
   "metadata": {},
   "outputs": [],
   "source": [
    "try:\n",
    "    df = pd.read_csv('insurance.csv')\n",
    "\n",
    "except:\n",
    "    df = pd.read_csv('/datasets/insurance.csv')"
   ]
  },
  {
   "cell_type": "code",
   "execution_count": 3,
   "metadata": {},
   "outputs": [
    {
     "data": {
      "text/html": [
       "<div>\n",
       "<style scoped>\n",
       "    .dataframe tbody tr th:only-of-type {\n",
       "        vertical-align: middle;\n",
       "    }\n",
       "\n",
       "    .dataframe tbody tr th {\n",
       "        vertical-align: top;\n",
       "    }\n",
       "\n",
       "    .dataframe thead th {\n",
       "        text-align: right;\n",
       "    }\n",
       "</style>\n",
       "<table border=\"1\" class=\"dataframe\">\n",
       "  <thead>\n",
       "    <tr style=\"text-align: right;\">\n",
       "      <th></th>\n",
       "      <th>Пол</th>\n",
       "      <th>Возраст</th>\n",
       "      <th>Зарплата</th>\n",
       "      <th>Члены семьи</th>\n",
       "      <th>Страховые выплаты</th>\n",
       "    </tr>\n",
       "  </thead>\n",
       "  <tbody>\n",
       "    <tr>\n",
       "      <th>0</th>\n",
       "      <td>1</td>\n",
       "      <td>41.0</td>\n",
       "      <td>49600.0</td>\n",
       "      <td>1</td>\n",
       "      <td>0</td>\n",
       "    </tr>\n",
       "    <tr>\n",
       "      <th>1</th>\n",
       "      <td>0</td>\n",
       "      <td>46.0</td>\n",
       "      <td>38000.0</td>\n",
       "      <td>1</td>\n",
       "      <td>1</td>\n",
       "    </tr>\n",
       "    <tr>\n",
       "      <th>2</th>\n",
       "      <td>0</td>\n",
       "      <td>29.0</td>\n",
       "      <td>21000.0</td>\n",
       "      <td>0</td>\n",
       "      <td>0</td>\n",
       "    </tr>\n",
       "    <tr>\n",
       "      <th>3</th>\n",
       "      <td>0</td>\n",
       "      <td>21.0</td>\n",
       "      <td>41700.0</td>\n",
       "      <td>2</td>\n",
       "      <td>0</td>\n",
       "    </tr>\n",
       "    <tr>\n",
       "      <th>4</th>\n",
       "      <td>1</td>\n",
       "      <td>28.0</td>\n",
       "      <td>26100.0</td>\n",
       "      <td>0</td>\n",
       "      <td>0</td>\n",
       "    </tr>\n",
       "  </tbody>\n",
       "</table>\n",
       "</div>"
      ],
      "text/plain": [
       "   Пол  Возраст  Зарплата  Члены семьи  Страховые выплаты\n",
       "0    1     41.0   49600.0            1                  0\n",
       "1    0     46.0   38000.0            1                  1\n",
       "2    0     29.0   21000.0            0                  0\n",
       "3    0     21.0   41700.0            2                  0\n",
       "4    1     28.0   26100.0            0                  0"
      ]
     },
     "execution_count": 3,
     "metadata": {},
     "output_type": "execute_result"
    }
   ],
   "source": [
    "df.head()"
   ]
  },
  {
   "cell_type": "markdown",
   "metadata": {},
   "source": [
    "Изучим инфомрацию в представленном датасете."
   ]
  },
  {
   "cell_type": "code",
   "execution_count": 4,
   "metadata": {},
   "outputs": [
    {
     "name": "stdout",
     "output_type": "stream",
     "text": [
      "<class 'pandas.core.frame.DataFrame'>\n",
      "RangeIndex: 5000 entries, 0 to 4999\n",
      "Data columns (total 5 columns):\n",
      " #   Column             Non-Null Count  Dtype  \n",
      "---  ------             --------------  -----  \n",
      " 0   Пол                5000 non-null   int64  \n",
      " 1   Возраст            5000 non-null   float64\n",
      " 2   Зарплата           5000 non-null   float64\n",
      " 3   Члены семьи        5000 non-null   int64  \n",
      " 4   Страховые выплаты  5000 non-null   int64  \n",
      "dtypes: float64(2), int64(3)\n",
      "memory usage: 195.4 KB\n"
     ]
    }
   ],
   "source": [
    "df.info()"
   ]
  },
  {
   "cell_type": "code",
   "execution_count": 5,
   "metadata": {
    "scrolled": true
   },
   "outputs": [
    {
     "data": {
      "text/html": [
       "<div>\n",
       "<style scoped>\n",
       "    .dataframe tbody tr th:only-of-type {\n",
       "        vertical-align: middle;\n",
       "    }\n",
       "\n",
       "    .dataframe tbody tr th {\n",
       "        vertical-align: top;\n",
       "    }\n",
       "\n",
       "    .dataframe thead th {\n",
       "        text-align: right;\n",
       "    }\n",
       "</style>\n",
       "<table border=\"1\" class=\"dataframe\">\n",
       "  <thead>\n",
       "    <tr style=\"text-align: right;\">\n",
       "      <th></th>\n",
       "      <th>Пол</th>\n",
       "      <th>Возраст</th>\n",
       "      <th>Зарплата</th>\n",
       "      <th>Члены семьи</th>\n",
       "      <th>Страховые выплаты</th>\n",
       "    </tr>\n",
       "  </thead>\n",
       "  <tbody>\n",
       "    <tr>\n",
       "      <th>count</th>\n",
       "      <td>5000.000000</td>\n",
       "      <td>5000.000000</td>\n",
       "      <td>5000.000000</td>\n",
       "      <td>5000.000000</td>\n",
       "      <td>5000.000000</td>\n",
       "    </tr>\n",
       "    <tr>\n",
       "      <th>mean</th>\n",
       "      <td>0.499000</td>\n",
       "      <td>30.952800</td>\n",
       "      <td>39916.360000</td>\n",
       "      <td>1.194200</td>\n",
       "      <td>0.148000</td>\n",
       "    </tr>\n",
       "    <tr>\n",
       "      <th>std</th>\n",
       "      <td>0.500049</td>\n",
       "      <td>8.440807</td>\n",
       "      <td>9900.083569</td>\n",
       "      <td>1.091387</td>\n",
       "      <td>0.463183</td>\n",
       "    </tr>\n",
       "    <tr>\n",
       "      <th>min</th>\n",
       "      <td>0.000000</td>\n",
       "      <td>18.000000</td>\n",
       "      <td>5300.000000</td>\n",
       "      <td>0.000000</td>\n",
       "      <td>0.000000</td>\n",
       "    </tr>\n",
       "    <tr>\n",
       "      <th>25%</th>\n",
       "      <td>0.000000</td>\n",
       "      <td>24.000000</td>\n",
       "      <td>33300.000000</td>\n",
       "      <td>0.000000</td>\n",
       "      <td>0.000000</td>\n",
       "    </tr>\n",
       "    <tr>\n",
       "      <th>50%</th>\n",
       "      <td>0.000000</td>\n",
       "      <td>30.000000</td>\n",
       "      <td>40200.000000</td>\n",
       "      <td>1.000000</td>\n",
       "      <td>0.000000</td>\n",
       "    </tr>\n",
       "    <tr>\n",
       "      <th>75%</th>\n",
       "      <td>1.000000</td>\n",
       "      <td>37.000000</td>\n",
       "      <td>46600.000000</td>\n",
       "      <td>2.000000</td>\n",
       "      <td>0.000000</td>\n",
       "    </tr>\n",
       "    <tr>\n",
       "      <th>max</th>\n",
       "      <td>1.000000</td>\n",
       "      <td>65.000000</td>\n",
       "      <td>79000.000000</td>\n",
       "      <td>6.000000</td>\n",
       "      <td>5.000000</td>\n",
       "    </tr>\n",
       "  </tbody>\n",
       "</table>\n",
       "</div>"
      ],
      "text/plain": [
       "               Пол      Возраст      Зарплата  Члены семьи  Страховые выплаты\n",
       "count  5000.000000  5000.000000   5000.000000  5000.000000        5000.000000\n",
       "mean      0.499000    30.952800  39916.360000     1.194200           0.148000\n",
       "std       0.500049     8.440807   9900.083569     1.091387           0.463183\n",
       "min       0.000000    18.000000   5300.000000     0.000000           0.000000\n",
       "25%       0.000000    24.000000  33300.000000     0.000000           0.000000\n",
       "50%       0.000000    30.000000  40200.000000     1.000000           0.000000\n",
       "75%       1.000000    37.000000  46600.000000     2.000000           0.000000\n",
       "max       1.000000    65.000000  79000.000000     6.000000           5.000000"
      ]
     },
     "execution_count": 5,
     "metadata": {},
     "output_type": "execute_result"
    }
   ],
   "source": [
    "df.describe()"
   ]
  },
  {
   "cell_type": "markdown",
   "metadata": {},
   "source": [
    "Из предоставленнно информации видно, что пропущенные значения отсутствуют в датасете. "
   ]
  },
  {
   "cell_type": "markdown",
   "metadata": {},
   "source": [
    "Расспотрим более подробно столбец по страховым выплатам. Из него видно, что максисмальное значение страховых выплат для страхуемого составляет 5. Проверим распределение количества выплат."
   ]
  },
  {
   "cell_type": "code",
   "execution_count": 9,
   "metadata": {},
   "outputs": [
    {
     "data": {
      "text/html": [
       "<div>\n",
       "<style scoped>\n",
       "    .dataframe tbody tr th:only-of-type {\n",
       "        vertical-align: middle;\n",
       "    }\n",
       "\n",
       "    .dataframe tbody tr th {\n",
       "        vertical-align: top;\n",
       "    }\n",
       "\n",
       "    .dataframe thead th {\n",
       "        text-align: right;\n",
       "    }\n",
       "</style>\n",
       "<table border=\"1\" class=\"dataframe\">\n",
       "  <thead>\n",
       "    <tr style=\"text-align: right;\">\n",
       "      <th></th>\n",
       "      <th>Пол</th>\n",
       "      <th>Возраст</th>\n",
       "      <th>Зарплата</th>\n",
       "      <th>Члены семьи</th>\n",
       "      <th>Страховые выплаты</th>\n",
       "    </tr>\n",
       "  </thead>\n",
       "  <tbody>\n",
       "    <tr>\n",
       "      <th>281</th>\n",
       "      <td>1</td>\n",
       "      <td>39.0</td>\n",
       "      <td>48100.0</td>\n",
       "      <td>1</td>\n",
       "      <td>0</td>\n",
       "    </tr>\n",
       "    <tr>\n",
       "      <th>488</th>\n",
       "      <td>1</td>\n",
       "      <td>24.0</td>\n",
       "      <td>32900.0</td>\n",
       "      <td>1</td>\n",
       "      <td>0</td>\n",
       "    </tr>\n",
       "    <tr>\n",
       "      <th>513</th>\n",
       "      <td>0</td>\n",
       "      <td>31.0</td>\n",
       "      <td>37400.0</td>\n",
       "      <td>2</td>\n",
       "      <td>0</td>\n",
       "    </tr>\n",
       "    <tr>\n",
       "      <th>718</th>\n",
       "      <td>1</td>\n",
       "      <td>22.0</td>\n",
       "      <td>32600.0</td>\n",
       "      <td>1</td>\n",
       "      <td>0</td>\n",
       "    </tr>\n",
       "    <tr>\n",
       "      <th>785</th>\n",
       "      <td>0</td>\n",
       "      <td>20.0</td>\n",
       "      <td>35800.0</td>\n",
       "      <td>0</td>\n",
       "      <td>0</td>\n",
       "    </tr>\n",
       "    <tr>\n",
       "      <th>...</th>\n",
       "      <td>...</td>\n",
       "      <td>...</td>\n",
       "      <td>...</td>\n",
       "      <td>...</td>\n",
       "      <td>...</td>\n",
       "    </tr>\n",
       "    <tr>\n",
       "      <th>4793</th>\n",
       "      <td>1</td>\n",
       "      <td>24.0</td>\n",
       "      <td>37800.0</td>\n",
       "      <td>0</td>\n",
       "      <td>0</td>\n",
       "    </tr>\n",
       "    <tr>\n",
       "      <th>4902</th>\n",
       "      <td>1</td>\n",
       "      <td>35.0</td>\n",
       "      <td>38700.0</td>\n",
       "      <td>1</td>\n",
       "      <td>0</td>\n",
       "    </tr>\n",
       "    <tr>\n",
       "      <th>4935</th>\n",
       "      <td>1</td>\n",
       "      <td>19.0</td>\n",
       "      <td>32700.0</td>\n",
       "      <td>0</td>\n",
       "      <td>0</td>\n",
       "    </tr>\n",
       "    <tr>\n",
       "      <th>4945</th>\n",
       "      <td>1</td>\n",
       "      <td>21.0</td>\n",
       "      <td>45800.0</td>\n",
       "      <td>0</td>\n",
       "      <td>0</td>\n",
       "    </tr>\n",
       "    <tr>\n",
       "      <th>4965</th>\n",
       "      <td>0</td>\n",
       "      <td>22.0</td>\n",
       "      <td>40100.0</td>\n",
       "      <td>1</td>\n",
       "      <td>0</td>\n",
       "    </tr>\n",
       "  </tbody>\n",
       "</table>\n",
       "<p>153 rows × 5 columns</p>\n",
       "</div>"
      ],
      "text/plain": [
       "      Пол  Возраст  Зарплата  Члены семьи  Страховые выплаты\n",
       "281     1     39.0   48100.0            1                  0\n",
       "488     1     24.0   32900.0            1                  0\n",
       "513     0     31.0   37400.0            2                  0\n",
       "718     1     22.0   32600.0            1                  0\n",
       "785     0     20.0   35800.0            0                  0\n",
       "...   ...      ...       ...          ...                ...\n",
       "4793    1     24.0   37800.0            0                  0\n",
       "4902    1     35.0   38700.0            1                  0\n",
       "4935    1     19.0   32700.0            0                  0\n",
       "4945    1     21.0   45800.0            0                  0\n",
       "4965    0     22.0   40100.0            1                  0\n",
       "\n",
       "[153 rows x 5 columns]"
      ]
     },
     "execution_count": 9,
     "metadata": {},
     "output_type": "execute_result"
    }
   ],
   "source": [
    "df[df.duplicated()]"
   ]
  },
  {
   "cell_type": "code",
   "execution_count": 6,
   "metadata": {},
   "outputs": [
    {
     "data": {
      "text/plain": [
       "array([0, 1, 2, 3, 5, 4])"
      ]
     },
     "execution_count": 6,
     "metadata": {},
     "output_type": "execute_result"
    }
   ],
   "source": [
    "df['Страховые выплаты'].unique()"
   ]
  },
  {
   "cell_type": "code",
   "execution_count": 7,
   "metadata": {},
   "outputs": [
    {
     "data": {
      "text/plain": [
       "0    4436\n",
       "1     423\n",
       "2     115\n",
       "3      18\n",
       "4       7\n",
       "5       1\n",
       "Name: Страховые выплаты, dtype: int64"
      ]
     },
     "execution_count": 7,
     "metadata": {},
     "output_type": "execute_result"
    }
   ],
   "source": [
    "df['Страховые выплаты'].value_counts()"
   ]
  },
  {
   "cell_type": "code",
   "execution_count": 9,
   "metadata": {},
   "outputs": [
    {
     "data": {
      "text/plain": [
       "Пол                  0.1128\n",
       "Возраст              0.1128\n",
       "Зарплата             0.1128\n",
       "Члены семьи          0.1128\n",
       "Страховые выплаты    0.1128\n",
       "dtype: float64"
      ]
     },
     "execution_count": 9,
     "metadata": {},
     "output_type": "execute_result"
    }
   ],
   "source": [
    "ratio = df.loc[df['Страховые выплаты'] != 0].count()/ df.loc[df['Страховые выплаты']].count()\n",
    "ratio"
   ]
  },
  {
   "cell_type": "markdown",
   "metadata": {},
   "source": [
    "**Вывод.**\n",
    "\n",
    "1) Данные предобработаны.\n",
    "    \n",
    "2) Процент страховых выплат составляет 11,3%."
   ]
  },
  {
   "cell_type": "markdown",
   "metadata": {},
   "source": [
    "## Умножение матриц (Теория. Доказательство корректной работы алгоритма шифрования)."
   ]
  },
  {
   "cell_type": "markdown",
   "metadata": {},
   "source": [
    "В этом задании вы можете записывать формулы в *Jupyter Notebook.*\n",
    "\n",
    "Чтобы записать формулу внутри текста, окружите её символами доллара \\\\$; если снаружи —  двойными символами \\\\$\\\\$. Эти формулы записываются на языке вёрстки *LaTeX.* \n",
    "\n",
    "Для примера мы записали формулы линейной регрессии. Можете их скопировать и отредактировать, чтобы решить задачу.\n",
    "\n",
    "Работать в *LaTeX* необязательно."
   ]
  },
  {
   "cell_type": "markdown",
   "metadata": {},
   "source": [
    "Обозначения:\n",
    "\n",
    "- $X$ — матрица признаков (нулевой столбец состоит из единиц)\n",
    "\n",
    "- $y$ — вектор целевого признака\n",
    "\n",
    "- $P$ — матрица, на которую умножаются признаки\n",
    "\n",
    "- $w$ — вектор весов линейной регрессии (нулевой элемент равен сдвигу)"
   ]
  },
  {
   "cell_type": "markdown",
   "metadata": {},
   "source": [
    "Предсказания:\n",
    "\n",
    "$$\n",
    "a = Xw\n",
    "$$\n",
    "\n",
    "Задача обучения:\n",
    "\n",
    "$$\n",
    "w = \\arg\\min_w MSE(Xw, y)\n",
    "$$\n",
    "\n",
    "Формула обучения:\n",
    "\n",
    "$$\n",
    "w = (X^T X)^{-1} X^T y\n",
    "$$"
   ]
  },
  {
   "cell_type": "markdown",
   "metadata": {},
   "source": [
    "По условию задачи нам нужно зашифровать исходные данные и сохранить качество модели. \n",
    "\n",
    "Просто умножить  матрицу признаков  на число k не имеет смысла, поскольку 3-ему лицу будет легко догадаться, как можно расшифровать данные.\n",
    "В качестве шифорвания можно использовать умножение исходной матрицы на случайную обратимую матрицу, которая будет выступать в качестве ключа. Ключ есть только у ограниченного числа пользователей.\n",
    "\n",
    "Сделаем следующее предположение.\n",
    "\n",
    "**Предположение:** Пусть $X$ - исходная матрица признаков размера (m,n). Предсказание целевого признака будет производиться по формуле:\n",
    "\n",
    "$$\n",
    "a = X w\n",
    "$$\n",
    "\n",
    "Возьмем обратимую матрицу $Р$ размера (k,k) из случайных элементов такую, что $k = n$\n",
    "\n",
    "Тогда предсказания по признакам исходной и зашифрованной матрицы будут равны:\n",
    "$$\n",
    "a = a_1\n",
    "$$\n",
    "\n",
    "где, $a_1 = X_1 w_1$, $X_1 = XP$\n",
    "\n",
    "\n",
    "**Обоснование:** Предположим, что предсказания по признакам исходной матрицы $Х$ будут равны предсказаниям по произведению  матрицы $Х$ на матрицу $Р$, то есть $a = a_1$.\n",
    "\n",
    "На основании данного равенства составим следующее уравнение и будем делать алгебрарические преобразования:\n",
    "\n",
    "$\n",
    "a = a_1\n",
    "$\n",
    "\n",
    "$\n",
    "X w = X_1 w_1\n",
    "$\n",
    "\n",
    "$\n",
    "X ((X)^T X)^{-1} (X)^T y = X_1 ((X_1)^T X_1)^{-1} (X_1)^T y\n",
    "$\n",
    "\n",
    "Учитывая условия задачи, преобразуем правую чать уравнения.\n",
    "\n",
    "$\n",
    "X ((X)^T X)^{-1} (X)^T y = X P ((X P)^T X P)^{-1} (X P)^T y\n",
    "$\n",
    "\n",
    "$\n",
    "X ((X)^T X)^{-1} (X)^T y = X P ((X)^T (P)^T X P)^{-1} (P)^T(X)^T y\n",
    "$\n",
    "\n",
    "$\n",
    "X ((X)^T X)^{-1} (X)^T y = X P (P)^{-1} ((X)^T X )^{-1} ((P)^T)^{-1}  (P)^T (X)^T y\n",
    "$\n",
    "\n",
    "$\n",
    "X ((X)^T X)^{-1} (X)^T y = E X ((X)^T X )^{-1} E (X)^T y\n",
    "$\n",
    "\n",
    "Учитывая своство умножения на единичные матрицы $A E = E A = A$ получаем\n",
    "$X ((X)^T X)^{-1} (X)^T y = X ((X)^T X )^{-1} (X)^T y$ или $a = a_1$.\n",
    "\n",
    "**Предположение доказано**"
   ]
  },
  {
   "cell_type": "markdown",
   "metadata": {},
   "source": [
    "## Умножение матриц (Проект)"
   ]
  },
  {
   "cell_type": "markdown",
   "metadata": {},
   "source": [
    "Для удобства воспользуемся обозначениями, приведенными в теории выше.\n",
    "\n",
    "- $X$ — матрица признаков (нулевой столбец состоит из единиц)\n",
    "\n",
    "- $y$ — вектор целевого признака\n",
    "\n",
    "- $P$ — матрица, на которую умножаются признаки\n",
    "\n",
    "- $w$ — вектор весов линейной регрессии (нулевой элемент равен сдвигу).\n",
    "\n",
    "На первом этапе выделим признаки, по котрым будем вести предсказания."
   ]
  },
  {
   "cell_type": "code",
   "execution_count": 10,
   "metadata": {},
   "outputs": [
    {
     "data": {
      "text/plain": [
       "(5000, 4)"
      ]
     },
     "execution_count": 10,
     "metadata": {},
     "output_type": "execute_result"
    }
   ],
   "source": [
    "features = df.drop(['Страховые выплаты'], axis = 1)\n",
    "target = df['Страховые выплаты']\n",
    "\n",
    "features.shape"
   ]
  },
  {
   "cell_type": "markdown",
   "metadata": {},
   "source": [
    "Чтобы попробовать зашифровать данные, попробуем умножить исходные признаки на обратимую матрицу.\n",
    "\n",
    "Создадим случайную матрицу и сделаем из нее обратимую, чтобы далее перемножить на признаки."
   ]
  },
  {
   "cell_type": "code",
   "execution_count": 11,
   "metadata": {},
   "outputs": [],
   "source": [
    "np.random.seed(4)\n",
    "P = np.random.normal(3, 2.5, size=(4, 4))"
   ]
  },
  {
   "cell_type": "markdown",
   "metadata": {},
   "source": [
    "Произведем проверку обратимости матрицы.\n",
    "\n",
    "Матрица обратима тогда и только тогда, когда она невырождена, то есть её определитель (|Р|) не равен нулю."
   ]
  },
  {
   "cell_type": "code",
   "execution_count": 12,
   "metadata": {},
   "outputs": [
    {
     "data": {
      "text/plain": [
       "143.91547866794653"
      ]
     },
     "execution_count": 12,
     "metadata": {},
     "output_type": "execute_result"
    }
   ],
   "source": [
    "np.linalg.det(P)"
   ]
  },
  {
   "cell_type": "markdown",
   "metadata": {},
   "source": [
    "Следовательно матрица является обратимой. Теперь умножим матрицу исходных признаков на обратимую."
   ]
  },
  {
   "cell_type": "code",
   "execution_count": 13,
   "metadata": {},
   "outputs": [
    {
     "data": {
      "text/plain": [
       "(5000, 4)"
      ]
     },
     "execution_count": 13,
     "metadata": {},
     "output_type": "execute_result"
    }
   ],
   "source": [
    "X = np.array(features)\n",
    "Z = X @ P\n",
    "Z.shape"
   ]
  },
  {
   "cell_type": "code",
   "execution_count": 14,
   "metadata": {},
   "outputs": [
    {
     "data": {
      "text/plain": [
       "array([[190086.31722309,   6481.55885936, 225572.26968272,\n",
       "        138082.58633029],\n",
       "       [145657.71110413,   4949.324121  , 172837.24213868,\n",
       "        105851.95544556],\n",
       "       [ 80499.79985182,   2729.59492082,  95520.19993329,\n",
       "         58511.08296225],\n",
       "       ...,\n",
       "       [129905.40054968,   4439.78776184, 154160.08672537,\n",
       "         94340.79156763],\n",
       "       [125319.7480295 ,   4288.3752857 , 148707.45731147,\n",
       "         91022.35671767],\n",
       "       [155585.28628877,   5312.28186077, 184634.25214955,\n",
       "        113003.83852479]])"
      ]
     },
     "execution_count": 14,
     "metadata": {},
     "output_type": "execute_result"
    }
   ],
   "source": [
    "Z"
   ]
  },
  {
   "cell_type": "code",
   "execution_count": 15,
   "metadata": {},
   "outputs": [
    {
     "data": {
      "text/plain": [
       "array([[1.00e+00, 4.10e+01, 4.96e+04, 1.00e+00],\n",
       "       [0.00e+00, 4.60e+01, 3.80e+04, 1.00e+00],\n",
       "       [0.00e+00, 2.90e+01, 2.10e+04, 0.00e+00],\n",
       "       ...,\n",
       "       [0.00e+00, 2.00e+01, 3.39e+04, 2.00e+00],\n",
       "       [1.00e+00, 2.20e+01, 3.27e+04, 3.00e+00],\n",
       "       [1.00e+00, 2.80e+01, 4.06e+04, 1.00e+00]])"
      ]
     },
     "execution_count": 15,
     "metadata": {},
     "output_type": "execute_result"
    }
   ],
   "source": [
    "X"
   ]
  },
  {
   "cell_type": "markdown",
   "metadata": {},
   "source": [
    "Для проверки влияния изменения признаков создадим отдельный датасет с признаками Z."
   ]
  },
  {
   "cell_type": "code",
   "execution_count": 16,
   "metadata": {},
   "outputs": [
    {
     "data": {
      "text/html": [
       "<div>\n",
       "<style scoped>\n",
       "    .dataframe tbody tr th:only-of-type {\n",
       "        vertical-align: middle;\n",
       "    }\n",
       "\n",
       "    .dataframe tbody tr th {\n",
       "        vertical-align: top;\n",
       "    }\n",
       "\n",
       "    .dataframe thead th {\n",
       "        text-align: right;\n",
       "    }\n",
       "</style>\n",
       "<table border=\"1\" class=\"dataframe\">\n",
       "  <thead>\n",
       "    <tr style=\"text-align: right;\">\n",
       "      <th></th>\n",
       "      <th>Пол</th>\n",
       "      <th>Возраст</th>\n",
       "      <th>Зарплата</th>\n",
       "      <th>Члены семьи</th>\n",
       "    </tr>\n",
       "  </thead>\n",
       "  <tbody>\n",
       "    <tr>\n",
       "      <th>0</th>\n",
       "      <td>190086.317223</td>\n",
       "      <td>6481.558859</td>\n",
       "      <td>225572.269683</td>\n",
       "      <td>138082.586330</td>\n",
       "    </tr>\n",
       "    <tr>\n",
       "      <th>1</th>\n",
       "      <td>145657.711104</td>\n",
       "      <td>4949.324121</td>\n",
       "      <td>172837.242139</td>\n",
       "      <td>105851.955446</td>\n",
       "    </tr>\n",
       "    <tr>\n",
       "      <th>2</th>\n",
       "      <td>80499.799852</td>\n",
       "      <td>2729.594921</td>\n",
       "      <td>95520.199933</td>\n",
       "      <td>58511.082962</td>\n",
       "    </tr>\n",
       "    <tr>\n",
       "      <th>3</th>\n",
       "      <td>159786.230432</td>\n",
       "      <td>5463.031976</td>\n",
       "      <td>189625.526394</td>\n",
       "      <td>116029.542903</td>\n",
       "    </tr>\n",
       "    <tr>\n",
       "      <th>4</th>\n",
       "      <td>100037.159926</td>\n",
       "      <td>3404.479172</td>\n",
       "      <td>118707.367963</td>\n",
       "      <td>72689.487184</td>\n",
       "    </tr>\n",
       "  </tbody>\n",
       "</table>\n",
       "</div>"
      ],
      "text/plain": [
       "             Пол      Возраст       Зарплата    Члены семьи\n",
       "0  190086.317223  6481.558859  225572.269683  138082.586330\n",
       "1  145657.711104  4949.324121  172837.242139  105851.955446\n",
       "2   80499.799852  2729.594921   95520.199933   58511.082962\n",
       "3  159786.230432  5463.031976  189625.526394  116029.542903\n",
       "4  100037.159926  3404.479172  118707.367963   72689.487184"
      ]
     },
     "execution_count": 16,
     "metadata": {},
     "output_type": "execute_result"
    }
   ],
   "source": [
    "df_Z = pd.DataFrame(data = Z, columns = ['Пол', 'Возраст', 'Зарплата', 'Члены семьи'])\n",
    "df_Z.head()"
   ]
  },
  {
   "cell_type": "markdown",
   "metadata": {},
   "source": [
    "Создадим класс LinReg_manual -  логистическая регрессия, написанная вручную.\n",
    "\n",
    "Для начала проверим на исходных данных."
   ]
  },
  {
   "cell_type": "code",
   "execution_count": 17,
   "metadata": {},
   "outputs": [
    {
     "data": {
      "text/plain": [
       "0.42494550286668"
      ]
     },
     "execution_count": 17,
     "metadata": {},
     "output_type": "execute_result"
    }
   ],
   "source": [
    "features_Z = df_Z\n",
    "\n",
    "class LinReg_manual:\n",
    "    def fit(self, train_features, train_target):\n",
    "        X = np.concatenate((np.ones((train_features.shape[0], 1)), train_features), axis=1)\n",
    "        y = train_target\n",
    "        w = ((np.linalg.inv(X.T @ X)) @ X.T) @ y# < напишите код здесь >\n",
    "        self.w = w[1:]\n",
    "        self.w0 = w[0]\n",
    "\n",
    "    def predict(self, test_features):\n",
    "        return test_features.dot(self.w) + self.w0\n",
    "    \n",
    "model = LinReg_manual()\n",
    "\n",
    "model.fit(features, target)\n",
    "\n",
    "predictions = model.predict(features)\n",
    "\n",
    "r2_score(target, predictions)"
   ]
  },
  {
   "cell_type": "markdown",
   "metadata": {},
   "source": [
    "Проверим на преобразованных данных."
   ]
  },
  {
   "cell_type": "code",
   "execution_count": 18,
   "metadata": {},
   "outputs": [
    {
     "data": {
      "text/plain": [
       "0.4249455028658199"
      ]
     },
     "execution_count": 18,
     "metadata": {},
     "output_type": "execute_result"
    }
   ],
   "source": [
    "model.fit(features_Z, target)\n",
    "predictions_Z = model.predict(features_Z)\n",
    "r2_score(target, predictions_Z)"
   ]
  },
  {
   "cell_type": "markdown",
   "metadata": {},
   "source": [
    "**Вывод** \n",
    "\n",
    "Качество линейной регресси не изменилось. \n",
    "\n",
    "Связано это с тем, что умножение матрицы исходных признаков на обратимую матрицу из случайных элементов происходит скалярно и по сути элементы случайной матрицы являются коэфициентами, на которые мы умножаем исходные признаки. Поэтому качество модели не изменяется. "
   ]
  },
  {
   "cell_type": "markdown",
   "metadata": {},
   "source": [
    "## Алгоритм преобразования"
   ]
  },
  {
   "cell_type": "markdown",
   "metadata": {},
   "source": [
    "**Алгоритм**\n",
    "\n",
    "Учитывая вышеуказанный пункт, порядок алгоритма наиболее подходящего для решения поставленной задачи будет выглядить следующим образом:\n",
    "\n",
    "1) На вход мы получаем исходный датасет. Назовем его ***df***.\n",
    "\n",
    "$$\n",
    "df\n",
    "$$\n",
    "\n",
    "2) Выделяем целевой признак и остальные, по которым будем предсказывать.\n",
    "\n",
    "$$\n",
    "features\n",
    "$$\n",
    "\n",
    "$$\n",
    "target\n",
    "$$\n",
    "\n",
    "3) Создаем матрицу признаков ***X*** для предсказания и проверяем ее размерномть.\n",
    "\n",
    "$$\n",
    "X = np.array(features)\n",
    "$$\n",
    "\n",
    "$$\n",
    "(m, n)\n",
    "$$\n",
    "\n",
    "4) Создадим квадратную матрицу ***P*** из случайных элементов разменростью (k,k) при условии, что  ширина первой матрицы (𝑚×𝑛) равна высоте второй матрицы В (k×K):\n",
    "\n",
    "$$\n",
    "k = n\n",
    "$$\n",
    "\n",
    "При этом матрица ***P*** должна быть обратимой (Определитель матрицы Р не должен быть равен 0)\n",
    "\n",
    "5) Производим матричное умножения ***X*** и ***P***, произведением которых будет является новая матрица ***Z***\n",
    "\n",
    "$$\n",
    "Z = X * P\n",
    "$$"
   ]
  },
  {
   "cell_type": "markdown",
   "metadata": {},
   "source": [
    "**Обоснование**\n",
    "\n",
    "Суть шифрования заключается в том, чтобы только определенный круг лиц имел доступ к исходной информации и не происходило утечек. \n",
    "\n",
    "В данном случае обратимая матрица будет являться ключем, по которому можно как зашифровать данные (P), так их и расшифровать (P^-1).\n",
    "\n",
    "При этом, учитывая ранее проведенную проверку и вышесказанное в выводе раздела **Умножение матриц (Проект)** , качество модели линейной регрессии для предсказания количества выплат страховки не будет ухудшаться."
   ]
  },
  {
   "cell_type": "markdown",
   "metadata": {},
   "source": [
    "## Проверка алгоритма"
   ]
  },
  {
   "cell_type": "markdown",
   "metadata": {},
   "source": [
    "Подготовим модель LinReg_2 и включим в нее процесс шифровки исходных признаков."
   ]
  },
  {
   "cell_type": "code",
   "execution_count": 19,
   "metadata": {},
   "outputs": [],
   "source": [
    "class LinReg_2:\n",
    "    def fit(self, train_features, train_target):\n",
    "        np.random.seed(4)\n",
    "        P = np.random.normal(3, 2.5, size=(4, 4))\n",
    "        X = np.array(train_features)\n",
    "        Z = X @ P\n",
    "        Z_1 = np.concatenate((np.ones((train_features.shape[0], 1)), train_features), axis=1)\n",
    "        y = train_target\n",
    "        w = ((np.linalg.inv(Z_1.T @ Z_1)) @ Z_1.T) @ y# < напишите код здесь >\n",
    "        self.w = w[1:]\n",
    "        self.w0 = w[0]\n",
    "\n",
    "    def predict(self, test_features):\n",
    "        return test_features.dot(self.w) + self.w0"
   ]
  },
  {
   "cell_type": "markdown",
   "metadata": {},
   "source": [
    "Проведем сравнение качества моделей."
   ]
  },
  {
   "cell_type": "code",
   "execution_count": 20,
   "metadata": {},
   "outputs": [
    {
     "data": {
      "text/plain": [
       "0.42494550286668"
      ]
     },
     "execution_count": 20,
     "metadata": {},
     "output_type": "execute_result"
    }
   ],
   "source": [
    "model = LinReg_2()\n",
    "\n",
    "model.fit(features, target)\n",
    "\n",
    "predictions = model.predict(features)\n",
    "\n",
    "r2_score(target, predictions)"
   ]
  },
  {
   "cell_type": "markdown",
   "metadata": {},
   "source": [
    "**Вывод.**\n",
    "\n",
    "Мы видим, что качество модели при добавлении процесса шифрования в класс осталось на прежнем уровне."
   ]
  }
 ],
 "metadata": {
  "ExecuteTimeLog": [
   {
    "duration": 2051,
    "start_time": "2022-11-10T06:04:41.785Z"
   },
   {
    "duration": 129,
    "start_time": "2022-11-10T06:04:43.838Z"
   },
   {
    "duration": 17,
    "start_time": "2022-11-10T06:04:43.970Z"
   },
   {
    "duration": 18,
    "start_time": "2022-11-10T06:04:44.506Z"
   },
   {
    "duration": 33,
    "start_time": "2022-11-10T06:04:45.021Z"
   },
   {
    "duration": 116,
    "start_time": "2022-11-10T06:05:03.331Z"
   },
   {
    "duration": 10,
    "start_time": "2022-11-10T06:05:08.240Z"
   },
   {
    "duration": 8,
    "start_time": "2022-11-10T06:05:25.589Z"
   },
   {
    "duration": 16,
    "start_time": "2022-11-10T06:06:08.525Z"
   }
  ],
  "kernelspec": {
   "display_name": "Python 3 (ipykernel)",
   "language": "python",
   "name": "python3"
  },
  "language_info": {
   "codemirror_mode": {
    "name": "ipython",
    "version": 3
   },
   "file_extension": ".py",
   "mimetype": "text/x-python",
   "name": "python",
   "nbconvert_exporter": "python",
   "pygments_lexer": "ipython3",
   "version": "3.10.9"
  },
  "toc": {
   "base_numbering": 1,
   "nav_menu": {},
   "number_sections": true,
   "sideBar": true,
   "skip_h1_title": true,
   "title_cell": "Содержание",
   "title_sidebar": "Contents",
   "toc_cell": true,
   "toc_position": {
    "height": "calc(100% - 180px)",
    "left": "10px",
    "top": "150px",
    "width": "235.087px"
   },
   "toc_section_display": true,
   "toc_window_display": true
  }
 },
 "nbformat": 4,
 "nbformat_minor": 2
}
